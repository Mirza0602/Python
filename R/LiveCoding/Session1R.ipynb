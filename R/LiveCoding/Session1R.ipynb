{
 "cells": [
  {
   "cell_type": "markdown",
   "metadata": {},
   "source": [
    "# R Live Coding Session 1\n",
    "What you will learn in this session:\n",
    " * Functions in R\n",
    " * R vectors and matrices\n",
    " * R dataframes\n",
    "     * read data from .csv-files\n",
    "     * sorting and ordering\n",
    "     * row- and columnwise filtering  \n",
    " * Visualization\n",
    "     * visualisation of numeric matrices\n",
    "     * pie-charts\n",
    " * Similarity of numeric vectors"
   ]
  },
  {
   "cell_type": "markdown",
   "metadata": {},
   "source": [
    "## Euclidean Distance Function\n",
    "**Task:**\n",
    "1. Allocate two vectors of length 6, filled with random integers from the range `[0,...,9]`.\n",
    "2. Calculate the euclidean distance between these two vectors.\n",
    "3. Implement a function `euclid_distance(p1,p2)`, which returns the euclidean distance of between the numeric vectors `p1` and `p2`. Test this function by applying it to a pair of numeric vectors. "
   ]
  },
  {
   "cell_type": "code",
   "execution_count": null,
   "metadata": {
    "ExecuteTime": {
     "end_time": "2017-11-22T06:08:21.866000Z",
     "start_time": "2017-11-22T06:08:21.825Z"
    }
   },
   "outputs": [],
   "source": []
  },
  {
   "cell_type": "markdown",
   "metadata": {},
   "source": [
    "## Read and order energy data\n",
    "**Tasks:**\n",
    "1. Import the [energy dataset](\"./data/EnergyMixGeoClust.csv\") into a dataframe. Print the dimensions of this datasset.\n",
    "2. Sort the energy dataframe by increasing values of the attribute `Total2009`."
   ]
  },
  {
   "cell_type": "code",
   "execution_count": null,
   "metadata": {
    "ExecuteTime": {
     "end_time": "2017-11-21T20:10:36.409000Z",
     "start_time": "2017-11-21T20:10:36.315Z"
    }
   },
   "outputs": [],
   "source": []
  },
  {
   "cell_type": "markdown",
   "metadata": {},
   "source": [
    "## Analyze Energie Resource Mix\n",
    "The energy resource mix describes the share of energy produced from the different sources in *Megatons Oil Equivalent*. In the energy dataframe the energy resource mix of a country is contained in the columns `Oil, Gas, Coal, Nuclear, Hydro`.\n",
    "\n",
    "### Plot Energy Mix Pie Chart\n",
    "\n",
    "**Tasks:**\n",
    "1. Define a vector which contains the names of the 5 energy resources as character-variables.\n",
    "2. Implement a function, whose arguments are \n",
    "    * the name of an arbitrary country,\n",
    "    * the energy dataframe,\n",
    "    * the vector of energy resource names as defined above.\n",
    "    \n",
    "  The function shall plot a pie chart of the energy resource mix of the specified country.\n",
    "    "
   ]
  },
  {
   "cell_type": "code",
   "execution_count": null,
   "metadata": {
    "ExecuteTime": {
     "end_time": "2017-11-22T06:39:06.270000Z",
     "start_time": "2017-11-22T06:39:06.238Z"
    },
    "collapsed": true
   },
   "outputs": [],
   "source": []
  },
  {
   "cell_type": "markdown",
   "metadata": {},
   "source": [
    "### Calculate Pairwise Distance of Energy Mix Vectors\n",
    "**Tasks:**\n",
    "1. Implement a function, which calculates the pairwise distance between all pairs of energy-mix-vectors in the energy-dataframe. The function shall return a matrix, whose value in row `i`, column `j` is the distance between the energy-mix-vectors of the i.th and the j.th country in the dataframe. The function' arguments are:\n",
    "    * the energy dataframe,\n",
    "    * the vector of energy resource names as defined above,\n",
    "    * the function, which is applied for distance calculation.\n",
    "    * A column name of the dataframe (here `Country`), which defines the row and column labels of the calculated pairwise-distance matrix\n",
    "2. Apply this function and visualize the calculated distance matrix."
   ]
  },
  {
   "cell_type": "code",
   "execution_count": null,
   "metadata": {
    "ExecuteTime": {
     "end_time": "2017-11-22T07:20:01.267000Z",
     "start_time": "2017-11-22T07:20:01.238Z"
    },
    "collapsed": true
   },
   "outputs": [],
   "source": []
  },
  {
   "cell_type": "markdown",
   "metadata": {},
   "source": [
    "### Improve Similarity Calculation\n",
    "Discuss the obtained distance matrix. \n",
    "1. Is the inverse euclidean distance actually a good measure for similiarity of energy-mixes? Do countries, with similar energy-mix pie-charts actually have a low euclidean distance between their energy-mix vectors?\n",
    "2. Suggest and implement a better distance measure, which regards only the relative share of energy resources, not their absolute values.\n",
    "3. Apply this new distance-measure in the calculation of the pairwise-distance matrix and visualize the distance matrix as above.\n",
    "4. Determine a pair of countries, which have a low distance to each other. Plot the pie chart of these two countries. Are these pie-charts similar? "
   ]
  },
  {
   "cell_type": "code",
   "execution_count": null,
   "metadata": {
    "collapsed": true
   },
   "outputs": [],
   "source": []
  }
 ],
 "metadata": {
  "anaconda-cloud": {},
  "kernelspec": {
   "display_name": "R [conda env:condatascience]",
   "language": "R",
   "name": "conda-env-condatascience-r"
  },
  "language_info": {
   "codemirror_mode": "r",
   "file_extension": ".r",
   "mimetype": "text/x-r-source",
   "name": "R",
   "pygments_lexer": "r",
   "version": "3.4.1"
  },
  "toc": {
   "nav_menu": {},
   "number_sections": true,
   "sideBar": true,
   "skip_h1_title": false,
   "toc_cell": false,
   "toc_position": {},
   "toc_section_display": "block",
   "toc_window_display": false
  }
 },
 "nbformat": 4,
 "nbformat_minor": 1
}

{
 "cells": [
  {
   "cell_type": "markdown",
   "metadata": {},
   "source": [
    "# Analysis of Variance (ANOVA)\n",
    "* Author: Johannes Maucher\n",
    "* Last Update: 2017-06-09\n",
    "* References:\n",
    "    * [R in Action](https://www.safaribooksonline.com/library/view/r-in-action/9781617291388/kindle_split_020.html)\n",
    "    * [Quick-R](http://www.statmethods.net/stats/anova.html)\n",
    "    \n",
    "* Topics of this notebook\n",
    "    * xxx"
   ]
  },
  {
   "cell_type": "markdown",
   "metadata": {},
   "source": [
    "## Load Data\n",
    "Datasets from the [Personality Project](https://personality-project.org/index.html): "
   ]
  },
  {
   "cell_type": "code",
   "execution_count": 9,
   "metadata": {
    "collapsed": true
   },
   "outputs": [],
   "source": [
    "datafilename1=\"http://personality-project.org/R/datasets/R.appendix1.data\"\n",
    "datafilename2=\"http://personality-project.org/R/datasets/R.appendix2.data\"\n",
    "datafilename3=\"http://personality-project.org/R/datasets/R.appendix3.data\"\n",
    "persData1=read.table(datafilename1,header=T)\n",
    "persData2=read.table(datafilename2,header=T)\n",
    "persData3=read.table(datafilename3,header=T)"
   ]
  },
  {
   "cell_type": "code",
   "execution_count": 11,
   "metadata": {
    "collapsed": false
   },
   "outputs": [
    {
     "data": {
      "text/html": [
       "<table>\n",
       "<thead><tr><th scope=col>Observation</th><th scope=col>Subject</th><th scope=col>Valence</th><th scope=col>Recall</th></tr></thead>\n",
       "<tbody>\n",
       "\t<tr><td> 1    </td><td>Jim   </td><td>Neg   </td><td>32    </td></tr>\n",
       "\t<tr><td> 2    </td><td>Jim   </td><td>Neu   </td><td>15    </td></tr>\n",
       "\t<tr><td> 3    </td><td>Jim   </td><td>Pos   </td><td>45    </td></tr>\n",
       "\t<tr><td> 4    </td><td>Victor</td><td>Neg   </td><td>30    </td></tr>\n",
       "\t<tr><td> 5    </td><td>Victor</td><td>Neu   </td><td>13    </td></tr>\n",
       "\t<tr><td> 6    </td><td>Victor</td><td>Pos   </td><td>40    </td></tr>\n",
       "\t<tr><td> 7    </td><td>Faye  </td><td>Neg   </td><td>26    </td></tr>\n",
       "\t<tr><td> 8    </td><td>Faye  </td><td>Neu   </td><td>12    </td></tr>\n",
       "\t<tr><td> 9    </td><td>Faye  </td><td>Pos   </td><td>42    </td></tr>\n",
       "\t<tr><td>10    </td><td>Ron   </td><td>Neg   </td><td>22    </td></tr>\n",
       "\t<tr><td>11    </td><td>Ron   </td><td>Neu   </td><td>10    </td></tr>\n",
       "\t<tr><td>12    </td><td>Ron   </td><td>Pos   </td><td>38    </td></tr>\n",
       "\t<tr><td>13    </td><td>Jason </td><td>Neg   </td><td>29    </td></tr>\n",
       "\t<tr><td>14    </td><td>Jason </td><td>Neu   </td><td> 8    </td></tr>\n",
       "\t<tr><td>15    </td><td>Jason </td><td>Pos   </td><td>35    </td></tr>\n",
       "</tbody>\n",
       "</table>\n"
      ],
      "text/latex": [
       "\\begin{tabular}{r|llll}\n",
       " Observation & Subject & Valence & Recall\\\\\n",
       "\\hline\n",
       "\t  1     & Jim    & Neg    & 32    \\\\\n",
       "\t  2     & Jim    & Neu    & 15    \\\\\n",
       "\t  3     & Jim    & Pos    & 45    \\\\\n",
       "\t  4     & Victor & Neg    & 30    \\\\\n",
       "\t  5     & Victor & Neu    & 13    \\\\\n",
       "\t  6     & Victor & Pos    & 40    \\\\\n",
       "\t  7     & Faye   & Neg    & 26    \\\\\n",
       "\t  8     & Faye   & Neu    & 12    \\\\\n",
       "\t  9     & Faye   & Pos    & 42    \\\\\n",
       "\t 10     & Ron    & Neg    & 22    \\\\\n",
       "\t 11     & Ron    & Neu    & 10    \\\\\n",
       "\t 12     & Ron    & Pos    & 38    \\\\\n",
       "\t 13     & Jason  & Neg    & 29    \\\\\n",
       "\t 14     & Jason  & Neu    &  8    \\\\\n",
       "\t 15     & Jason  & Pos    & 35    \\\\\n",
       "\\end{tabular}\n"
      ],
      "text/markdown": [
       "\n",
       "Observation | Subject | Valence | Recall | \n",
       "|---|---|---|---|---|---|---|---|---|---|---|---|---|---|---|\n",
       "|  1     | Jim    | Neg    | 32     | \n",
       "|  2     | Jim    | Neu    | 15     | \n",
       "|  3     | Jim    | Pos    | 45     | \n",
       "|  4     | Victor | Neg    | 30     | \n",
       "|  5     | Victor | Neu    | 13     | \n",
       "|  6     | Victor | Pos    | 40     | \n",
       "|  7     | Faye   | Neg    | 26     | \n",
       "|  8     | Faye   | Neu    | 12     | \n",
       "|  9     | Faye   | Pos    | 42     | \n",
       "| 10     | Ron    | Neg    | 22     | \n",
       "| 11     | Ron    | Neu    | 10     | \n",
       "| 12     | Ron    | Pos    | 38     | \n",
       "| 13     | Jason  | Neg    | 29     | \n",
       "| 14     | Jason  | Neu    |  8     | \n",
       "| 15     | Jason  | Pos    | 35     | \n",
       "\n",
       "\n"
      ],
      "text/plain": [
       "   Observation Subject Valence Recall\n",
       "1   1          Jim     Neg     32    \n",
       "2   2          Jim     Neu     15    \n",
       "3   3          Jim     Pos     45    \n",
       "4   4          Victor  Neg     30    \n",
       "5   5          Victor  Neu     13    \n",
       "6   6          Victor  Pos     40    \n",
       "7   7          Faye    Neg     26    \n",
       "8   8          Faye    Neu     12    \n",
       "9   9          Faye    Pos     42    \n",
       "10 10          Ron     Neg     22    \n",
       "11 11          Ron     Neu     10    \n",
       "12 12          Ron     Pos     38    \n",
       "13 13          Jason   Neg     29    \n",
       "14 14          Jason   Neu      8    \n",
       "15 15          Jason   Pos     35    "
      ]
     },
     "metadata": {},
     "output_type": "display_data"
    }
   ],
   "source": [
    "persData3"
   ]
  },
  {
   "cell_type": "code",
   "execution_count": null,
   "metadata": {
    "collapsed": true
   },
   "outputs": [],
   "source": []
  }
 ],
 "metadata": {
  "kernelspec": {
   "display_name": "R [conda env:condatascience]",
   "language": "R",
   "name": "conda-env-condatascience-r"
  },
  "language_info": {
   "codemirror_mode": "r",
   "file_extension": ".r",
   "mimetype": "text/x-r-source",
   "name": "R",
   "pygments_lexer": "r",
   "version": "3.3.2"
  },
  "nav_menu": {},
  "toc": {
   "navigate_menu": true,
   "number_sections": true,
   "sideBar": true,
   "threshold": 6,
   "toc_cell": false,
   "toc_section_display": "block",
   "toc_window_display": false
  }
 },
 "nbformat": 4,
 "nbformat_minor": 2
}

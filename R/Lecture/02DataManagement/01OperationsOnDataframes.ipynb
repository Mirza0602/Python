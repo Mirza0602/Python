{
 "cells": [
  {
   "cell_type": "markdown",
   "metadata": {
    "toc": "true"
   },
   "source": [
    "# Table of Contents\n",
    " <p><div class=\"lev1 toc-item\"><a href=\"#Operations-on-Dataframes\" data-toc-modified-id=\"Operations-on-Dataframes-1\"><span class=\"toc-item-num\">1&nbsp;&nbsp;</span>Operations on Dataframes</a></div><div class=\"lev2 toc-item\"><a href=\"#Import-Example-Datasets\" data-toc-modified-id=\"Import-Example-Datasets-1.1\"><span class=\"toc-item-num\">1.1&nbsp;&nbsp;</span>Import Example Datasets</a></div><div class=\"lev3 toc-item\"><a href=\"#Boston-Housing-Data\" data-toc-modified-id=\"Boston-Housing-Data-1.1.1\"><span class=\"toc-item-num\">1.1.1&nbsp;&nbsp;</span>Boston Housing Data</a></div><div class=\"lev3 toc-item\"><a href=\"#HRV-Data\" data-toc-modified-id=\"HRV-Data-1.1.2\"><span class=\"toc-item-num\">1.1.2&nbsp;&nbsp;</span>HRV Data</a></div><div class=\"lev2 toc-item\"><a href=\"#Working-with-missing-values\" data-toc-modified-id=\"Working-with-missing-values-1.2\"><span class=\"toc-item-num\">1.2&nbsp;&nbsp;</span>Working with missing values</a></div><div class=\"lev2 toc-item\"><a href=\"#Types-and-type-conversion\" data-toc-modified-id=\"Types-and-type-conversion-1.3\"><span class=\"toc-item-num\">1.3&nbsp;&nbsp;</span>Types and type conversion</a></div><div class=\"lev3 toc-item\"><a href=\"#Determine-type-of-variables\" data-toc-modified-id=\"Determine-type-of-variables-1.3.1\"><span class=\"toc-item-num\">1.3.1&nbsp;&nbsp;</span>Determine type of variables</a></div><div class=\"lev3 toc-item\"><a href=\"#Date-objects\" data-toc-modified-id=\"Date-objects-1.3.2\"><span class=\"toc-item-num\">1.3.2&nbsp;&nbsp;</span>Date objects</a></div><div class=\"lev2 toc-item\"><a href=\"#Add/Remove-data-to/from-dataframe\" data-toc-modified-id=\"Add/Remove-data-to/from-dataframe-1.4\"><span class=\"toc-item-num\">1.4&nbsp;&nbsp;</span>Add/Remove data to/from dataframe</a></div><div class=\"lev3 toc-item\"><a href=\"#Add-rows\" data-toc-modified-id=\"Add-rows-1.4.1\"><span class=\"toc-item-num\">1.4.1&nbsp;&nbsp;</span>Add rows</a></div><div class=\"lev3 toc-item\"><a href=\"#Add-columns\" data-toc-modified-id=\"Add-columns-1.4.2\"><span class=\"toc-item-num\">1.4.2&nbsp;&nbsp;</span>Add columns</a></div><div class=\"lev2 toc-item\"><a href=\"#Transpose-Dataframe\" data-toc-modified-id=\"Transpose-Dataframe-1.5\"><span class=\"toc-item-num\">1.5&nbsp;&nbsp;</span>Transpose Dataframe</a></div><div class=\"lev2 toc-item\"><a href=\"#Merge-Dataframes\" data-toc-modified-id=\"Merge-Dataframes-1.6\"><span class=\"toc-item-num\">1.6&nbsp;&nbsp;</span>Merge Dataframes</a></div><div class=\"lev2 toc-item\"><a href=\"#Filter-by-value\" data-toc-modified-id=\"Filter-by-value-1.7\"><span class=\"toc-item-num\">1.7&nbsp;&nbsp;</span>Filter by value</a></div><div class=\"lev3 toc-item\"><a href=\"#Filter-by-date\" data-toc-modified-id=\"Filter-by-date-1.7.1\"><span class=\"toc-item-num\">1.7.1&nbsp;&nbsp;</span>Filter by date</a></div><div class=\"lev3 toc-item\"><a href=\"#Filter-by-subset()-function\" data-toc-modified-id=\"Filter-by-subset()-function-1.7.2\"><span class=\"toc-item-num\">1.7.2&nbsp;&nbsp;</span>Filter by subset()-function</a></div><div class=\"lev2 toc-item\"><a href=\"#Rename-column\" data-toc-modified-id=\"Rename-column-1.8\"><span class=\"toc-item-num\">1.8&nbsp;&nbsp;</span>Rename column</a></div><div class=\"lev2 toc-item\"><a href=\"#Sort-Data\" data-toc-modified-id=\"Sort-Data-1.9\"><span class=\"toc-item-num\">1.9&nbsp;&nbsp;</span>Sort Data</a></div><div class=\"lev2 toc-item\"><a href=\"#Aggregate-Data\" data-toc-modified-id=\"Aggregate-Data-1.10\"><span class=\"toc-item-num\">1.10&nbsp;&nbsp;</span>Aggregate Data</a></div><div class=\"lev2 toc-item\"><a href=\"#Visualization\" data-toc-modified-id=\"Visualization-1.11\"><span class=\"toc-item-num\">1.11&nbsp;&nbsp;</span>Visualization</a></div><div class=\"lev3 toc-item\"><a href=\"#Open-Questions-to-solve:\" data-toc-modified-id=\"Open-Questions-to-solve:-1.11.1\"><span class=\"toc-item-num\">1.11.1&nbsp;&nbsp;</span>Open Questions to solve:</a></div>"
   ]
  },
  {
   "cell_type": "markdown",
   "metadata": {
    "deletable": true,
    "editable": true
   },
   "source": [
    "# Operations on Dataframes\n",
    "\n",
    "* Author: Johannes Maucher\n",
    "* Last Update: 2017-03-15\n",
    "* References:\n",
    "    * R in Action, Chapter 4\n",
    "* Topics of this notebook\n",
    "    * attach, remove and modify data in R dataframes\n",
    "    * sort, merge and filter dataframes\n",
    "    * find cells with missing values"
   ]
  },
  {
   "cell_type": "markdown",
   "metadata": {
    "deletable": true,
    "editable": true
   },
   "source": [
    "## Import Example Datasets\n",
    "### Boston Housing Data\n",
    "Example Data: Boston housing dataset [http://archive.ics.uci.edu/ml/datasets/Housing](http://archive.ics.uci.edu/ml/datasets/Housing).\n",
    "\n",
    "This dataset is described in [https://www.law.berkeley.edu/files/Hedonic.PDF](https://www.law.berkeley.edu/files/Hedonic.PDF)."
   ]
  },
  {
   "cell_type": "code",
   "execution_count": 2,
   "metadata": {
    "ExecuteTime": {
     "end_time": "2017-03-23T15:08:27.651359",
     "start_time": "2017-03-23T14:08:27.610Z"
    },
    "collapsed": false,
    "deletable": true,
    "editable": true
   },
   "outputs": [],
   "source": [
    "colnames=c(\"CRIM\",\"ZN\",\"INDUS\",\"CHAS\",\"NOX\",\"RM\",\"AGE\",\"DIS\",\"RAD\",\"TAX\",\"PTRATIO\",\"B\",\"LSTAT\",\"MEDV\")\n",
    "housingData=read.csv(file=\"../data/housingModified.data\", header=FALSE,sep=\",\",col.names=colnames)\n",
    "#housingData=read.csv(file=\"../data/housing.data\", header=FALSE,sep=\"\",col.names=colnames)"
   ]
  },
  {
   "cell_type": "code",
   "execution_count": 3,
   "metadata": {
    "ExecuteTime": {
     "end_time": "2017-03-23T15:08:27.702901",
     "start_time": "2017-03-23T14:08:27.612Z"
    },
    "collapsed": false,
    "deletable": true,
    "editable": true
   },
   "outputs": [
    {
     "data": {
      "text/html": [
       "'data.frame'"
      ],
      "text/latex": [
       "'data.frame'"
      ],
      "text/markdown": [
       "'data.frame'"
      ],
      "text/plain": [
       "[1] \"data.frame\""
      ]
     },
     "metadata": {},
     "output_type": "display_data"
    },
    {
     "data": {
      "text/html": [
       "<ol class=list-inline>\n",
       "\t<li>16</li>\n",
       "\t<li>14</li>\n",
       "</ol>\n"
      ],
      "text/latex": [
       "\\begin{enumerate*}\n",
       "\\item 16\n",
       "\\item 14\n",
       "\\end{enumerate*}\n"
      ],
      "text/markdown": [
       "1. 16\n",
       "2. 14\n",
       "\n",
       "\n"
      ],
      "text/plain": [
       "[1] 16 14"
      ]
     },
     "metadata": {},
     "output_type": "display_data"
    },
    {
     "name": "stdout",
     "output_type": "stream",
     "text": [
      "      CRIM   ZN INDUS CHAS   NOX    RM   AGE    DIS RAD TAX PTRATIO      B\n",
      "1  0.00632 18.0  2.31    0 0.538 6.575  65.2 4.0900   1 296    15.3 396.90\n",
      "2  0.02731   NA  7.07    0 0.469 6.421  78.9 4.9671   2 242    17.8 396.90\n",
      "3  0.02729  0.0  7.07    0 0.469    NA  61.1 4.9671   2 242    17.8 392.83\n",
      "4  0.03237  0.0  2.18    0 0.458 6.998  45.8 6.0622   3 222    18.7 394.63\n",
      "5  0.06905  0.0  2.18    0 0.458 7.147  54.2 6.0622   3 222    18.7 396.90\n",
      "6  0.02985  0.0  2.18    0 0.458 6.430  58.7 6.0622   3 222    18.7 394.12\n",
      "7  0.08829 12.5  7.87    0 0.524 6.012  66.6 5.5605   5 311    15.2 395.60\n",
      "8  0.14455 12.5  7.87    0 0.524 6.172  96.1 5.9505   5 311    15.2 396.90\n",
      "9  0.21124 12.5  7.87    0 0.524 5.631 100.0 6.0821   5 311    15.2 386.63\n",
      "10 0.17004 12.5  7.87    0 0.524 6.004  85.9 6.5921   5 311    15.2 386.71\n",
      "11 0.22489 12.5  7.87    0 0.524 6.377  94.3 6.3467   5 311    15.2 392.52\n",
      "12 0.11747 12.5  7.87    0 0.524 6.009  82.9 6.2267   5 311    15.2 396.90\n",
      "13 0.09378 12.5  7.87    0 0.524 5.889  39.0 5.4509   5 311    15.2 390.50\n",
      "14 0.62976  0.0  8.14    0 0.538 5.949  61.8 4.7075   4 307    21.0 396.90\n",
      "15 0.63796  0.0  8.14    0 0.538 6.096  84.5 4.4619   4 307    21.0 380.02\n",
      "16 0.62739  0.0  8.14    0 0.538 5.834  56.5 4.4986   4 307    21.0 395.62\n",
      "   LSTAT MEDV\n",
      "1   4.98 24.0\n",
      "2   9.14 21.6\n",
      "3     NA 34.7\n",
      "4   2.94 33.4\n",
      "5   5.33 36.2\n",
      "6   5.21 28.7\n",
      "7  12.43 22.9\n",
      "8  19.15 27.1\n",
      "9  29.93 16.5\n",
      "10 17.10 18.9\n",
      "11 20.45 15.0\n",
      "12 13.27 18.9\n",
      "13 15.71 21.7\n",
      "14  8.26 20.4\n",
      "15 10.26 18.2\n",
      "16  8.47 19.9\n"
     ]
    }
   ],
   "source": [
    "class(housingData)\n",
    "dim(housingData)\n",
    "print(housingData)"
   ]
  },
  {
   "cell_type": "markdown",
   "metadata": {
    "deletable": true,
    "editable": true
   },
   "source": [
    "### HRV Data"
   ]
  },
  {
   "cell_type": "code",
   "execution_count": 4,
   "metadata": {
    "ExecuteTime": {
     "end_time": "2017-03-23T15:08:27.788604",
     "start_time": "2017-03-23T14:08:27.616Z"
    },
    "collapsed": false,
    "deletable": true,
    "editable": true
   },
   "outputs": [
    {
     "data": {
      "text/html": [
       "<ol class=list-inline>\n",
       "\t<li>740</li>\n",
       "\t<li>15</li>\n",
       "</ol>\n"
      ],
      "text/latex": [
       "\\begin{enumerate*}\n",
       "\\item 740\n",
       "\\item 15\n",
       "\\end{enumerate*}\n"
      ],
      "text/markdown": [
       "1. 740\n",
       "2. 15\n",
       "\n",
       "\n"
      ],
      "text/plain": [
       "[1] 740  15"
      ]
     },
     "metadata": {},
     "output_type": "display_data"
    },
    {
     "data": {
      "text/html": [
       "<table>\n",
       "<thead><tr><th scope=col>ID</th><th scope=col>Tag</th><th scope=col>Start</th><th scope=col>Dauer</th><th scope=col>Avg..HR</th><th scope=col>RMSSD</th><th scope=col>SDNN</th><th scope=col>pNN50</th><th scope=col>RRmin</th><th scope=col>RRmean</th><th scope=col>RRmax</th><th scope=col>LF</th><th scope=col>HF</th><th scope=col>LF.HF</th><th scope=col>Total</th></tr></thead>\n",
       "<tbody>\n",
       "\t<tr><td>1       </td><td>17.03.17</td><td>06:08:55</td><td>0:08:57 </td><td>42.61727</td><td>130.33  </td><td>116.80  </td><td>58.42   </td><td>1117    </td><td>1407.88 </td><td>1758    </td><td>4537.05 </td><td>1786.91 </td><td>2.54    </td><td> 6489.09</td></tr>\n",
       "\t<tr><td>2       </td><td>16.03.17</td><td>06:09:06</td><td>0:09:59 </td><td>44.02571</td><td>126.81  </td><td>148.24  </td><td>70.94   </td><td> 979    </td><td>1362.84 </td><td>1755    </td><td>5277.45 </td><td>3067.23 </td><td>1.72    </td><td> 8999.88</td></tr>\n",
       "\t<tr><td>3       </td><td>15.03.17</td><td>06:10:05</td><td>0:10:00 </td><td>41.56161</td><td>172.43  </td><td>150.37  </td><td>81.16   </td><td>1018    </td><td>1443.64 </td><td>1805    </td><td>7591.26 </td><td>7359.64 </td><td>1.03    </td><td>15269.42</td></tr>\n",
       "\t<tr><td>4       </td><td>14.03.17</td><td>06:10:08</td><td>0:10:00 </td><td>42.94211</td><td>170.64  </td><td>191.75  </td><td>76.64   </td><td>1025    </td><td>1397.23 </td><td>1974    </td><td>5687.76 </td><td>8554.06 </td><td>0.66    </td><td>14614.74</td></tr>\n",
       "\t<tr><td>5       </td><td>13.03.17</td><td>06:25:49</td><td>0:10:00 </td><td>42.98795</td><td>139.66  </td><td>165.57  </td><td>76.17   </td><td>1012    </td><td>1395.74 </td><td>1742    </td><td>4188.03 </td><td>4258.05 </td><td>0.98    </td><td> 8746.70</td></tr>\n",
       "\t<tr><td>6       </td><td>12.03.17</td><td>07:02:51</td><td>0:09:10 </td><td>43.66749</td><td>136.07  </td><td>174.51  </td><td>68.59   </td><td> 924    </td><td>1374.02 </td><td>1832    </td><td>3868.90 </td><td>6005.90 </td><td>0.64    </td><td> 9815.63</td></tr>\n",
       "</tbody>\n",
       "</table>\n"
      ],
      "text/latex": [
       "\\begin{tabular}{r|lllllllllllllll}\n",
       " ID & Tag & Start & Dauer & Avg..HR & RMSSD & SDNN & pNN50 & RRmin & RRmean & RRmax & LF & HF & LF.HF & Total\\\\\n",
       "\\hline\n",
       "\t 1        & 17.03.17 & 06:08:55 & 0:08:57  & 42.61727 & 130.33   & 116.80   & 58.42    & 1117     & 1407.88  & 1758     & 4537.05  & 1786.91  & 2.54     &  6489.09\\\\\n",
       "\t 2        & 16.03.17 & 06:09:06 & 0:09:59  & 44.02571 & 126.81   & 148.24   & 70.94    &  979     & 1362.84  & 1755     & 5277.45  & 3067.23  & 1.72     &  8999.88\\\\\n",
       "\t 3        & 15.03.17 & 06:10:05 & 0:10:00  & 41.56161 & 172.43   & 150.37   & 81.16    & 1018     & 1443.64  & 1805     & 7591.26  & 7359.64  & 1.03     & 15269.42\\\\\n",
       "\t 4        & 14.03.17 & 06:10:08 & 0:10:00  & 42.94211 & 170.64   & 191.75   & 76.64    & 1025     & 1397.23  & 1974     & 5687.76  & 8554.06  & 0.66     & 14614.74\\\\\n",
       "\t 5        & 13.03.17 & 06:25:49 & 0:10:00  & 42.98795 & 139.66   & 165.57   & 76.17    & 1012     & 1395.74  & 1742     & 4188.03  & 4258.05  & 0.98     &  8746.70\\\\\n",
       "\t 6        & 12.03.17 & 07:02:51 & 0:09:10  & 43.66749 & 136.07   & 174.51   & 68.59    &  924     & 1374.02  & 1832     & 3868.90  & 6005.90  & 0.64     &  9815.63\\\\\n",
       "\\end{tabular}\n"
      ],
      "text/markdown": [
       "\n",
       "ID | Tag | Start | Dauer | Avg..HR | RMSSD | SDNN | pNN50 | RRmin | RRmean | RRmax | LF | HF | LF.HF | Total | \n",
       "|---|---|---|---|---|---|\n",
       "| 1        | 17.03.17 | 06:08:55 | 0:08:57  | 42.61727 | 130.33   | 116.80   | 58.42    | 1117     | 1407.88  | 1758     | 4537.05  | 1786.91  | 2.54     |  6489.09 | \n",
       "| 2        | 16.03.17 | 06:09:06 | 0:09:59  | 44.02571 | 126.81   | 148.24   | 70.94    |  979     | 1362.84  | 1755     | 5277.45  | 3067.23  | 1.72     |  8999.88 | \n",
       "| 3        | 15.03.17 | 06:10:05 | 0:10:00  | 41.56161 | 172.43   | 150.37   | 81.16    | 1018     | 1443.64  | 1805     | 7591.26  | 7359.64  | 1.03     | 15269.42 | \n",
       "| 4        | 14.03.17 | 06:10:08 | 0:10:00  | 42.94211 | 170.64   | 191.75   | 76.64    | 1025     | 1397.23  | 1974     | 5687.76  | 8554.06  | 0.66     | 14614.74 | \n",
       "| 5        | 13.03.17 | 06:25:49 | 0:10:00  | 42.98795 | 139.66   | 165.57   | 76.17    | 1012     | 1395.74  | 1742     | 4188.03  | 4258.05  | 0.98     |  8746.70 | \n",
       "| 6        | 12.03.17 | 07:02:51 | 0:09:10  | 43.66749 | 136.07   | 174.51   | 68.59    |  924     | 1374.02  | 1832     | 3868.90  | 6005.90  | 0.64     |  9815.63 | \n",
       "\n",
       "\n"
      ],
      "text/plain": [
       "  ID Tag      Start    Dauer   Avg..HR  RMSSD  SDNN   pNN50 RRmin RRmean  RRmax\n",
       "1 1  17.03.17 06:08:55 0:08:57 42.61727 130.33 116.80 58.42 1117  1407.88 1758 \n",
       "2 2  16.03.17 06:09:06 0:09:59 44.02571 126.81 148.24 70.94  979  1362.84 1755 \n",
       "3 3  15.03.17 06:10:05 0:10:00 41.56161 172.43 150.37 81.16 1018  1443.64 1805 \n",
       "4 4  14.03.17 06:10:08 0:10:00 42.94211 170.64 191.75 76.64 1025  1397.23 1974 \n",
       "5 5  13.03.17 06:25:49 0:10:00 42.98795 139.66 165.57 76.17 1012  1395.74 1742 \n",
       "6 6  12.03.17 07:02:51 0:09:10 43.66749 136.07 174.51 68.59  924  1374.02 1832 \n",
       "  LF      HF      LF.HF Total   \n",
       "1 4537.05 1786.91 2.54   6489.09\n",
       "2 5277.45 3067.23 1.72   8999.88\n",
       "3 7591.26 7359.64 1.03  15269.42\n",
       "4 5687.76 8554.06 0.66  14614.74\n",
       "5 4188.03 4258.05 0.98   8746.70\n",
       "6 3868.90 6005.90 0.64   9815.63"
      ]
     },
     "metadata": {},
     "output_type": "display_data"
    }
   ],
   "source": [
    "hrvData=read.csv(file=\"../data/spikeeHRVjm.csv\", header=TRUE,sep=\";\",dec=\",\",skip=3,stringsAsFactors=FALSE)\n",
    "dim(hrvData)\n",
    "head(hrvData)\n",
    "#tail(hrvData)"
   ]
  },
  {
   "cell_type": "code",
   "execution_count": 5,
   "metadata": {
    "ExecuteTime": {
     "end_time": "2017-03-23T15:08:27.859021",
     "start_time": "2017-03-23T14:08:27.618Z"
    },
    "collapsed": false,
    "deletable": true,
    "editable": true
   },
   "outputs": [
    {
     "data": {
      "text/plain": [
       "       ID            Tag               Start              Dauer          \n",
       " Min.   :  1.0   Length:740         Length:740         Length:740        \n",
       " 1st Qu.:187.2   Class :character   Class :character   Class :character  \n",
       " Median :371.5   Mode  :character   Mode  :character   Mode  :character  \n",
       " Mean   :371.2                                                           \n",
       " 3rd Qu.:555.8                                                           \n",
       " Max.   :740.0                                                           \n",
       " NA's   :2                                                               \n",
       "    Avg..HR          RMSSD             SDNN            pNN50      \n",
       " Min.   :39.29   Min.   : 40.65   Min.   : 60.87   Min.   :18.73  \n",
       " 1st Qu.:43.52   1st Qu.:102.70   1st Qu.:123.32   1st Qu.:61.84  \n",
       " Median :45.86   Median :118.42   Median :139.51   Median :68.86  \n",
       " Mean   :45.99   Mean   :117.90   Mean   :140.02   Mean   :66.79  \n",
       " 3rd Qu.:48.00   3rd Qu.:133.35   3rd Qu.:155.40   3rd Qu.:73.53  \n",
       " Max.   :59.88   Max.   :206.20   Max.   :294.51   Max.   :84.35  \n",
       " NA's   :2       NA's   :2        NA's   :2        NA's   :2      \n",
       "     RRmin            RRmean         RRmax            LF         \n",
       " Min.   : 501.0   Min.   :1002   Min.   :1271   Min.   :  649.3  \n",
       " 1st Qu.: 923.2   1st Qu.:1250   1st Qu.:1664   1st Qu.: 1948.1  \n",
       " Median : 988.0   Median :1308   Median :1734   Median : 2640.0  \n",
       " Mean   : 972.7   Mean   :1311   Mean   :1726   Mean   : 3117.0  \n",
       " 3rd Qu.:1043.0   3rd Qu.:1379   3rd Qu.:1796   3rd Qu.: 3724.6  \n",
       " Max.   :1314.0   Max.   :1527   Max.   :2192   Max.   :16950.0  \n",
       " NA's   :2        NA's   :2      NA's   :2      NA's   :2        \n",
       "       HF               LF.HF             Total      \n",
       " Min.   :   78.56   Min.   : 0.1200   Min.   : 1289  \n",
       " 1st Qu.: 2727.49   1st Qu.: 0.5600   1st Qu.: 5364  \n",
       " Median : 3684.30   Median : 0.7800   Median : 6708  \n",
       " Mean   : 3821.76   Mean   : 0.9048   Mean   : 7292  \n",
       " 3rd Qu.: 4642.67   3rd Qu.: 1.0875   3rd Qu.: 8654  \n",
       " Max.   :11281.73   Max.   :14.7700   Max.   :27504  \n",
       " NA's   :2          NA's   :2         NA's   :2      "
      ]
     },
     "metadata": {},
     "output_type": "display_data"
    }
   ],
   "source": [
    "summary(hrvData)"
   ]
  },
  {
   "cell_type": "markdown",
   "metadata": {
    "deletable": true,
    "editable": true
   },
   "source": [
    "Remove all rows with NA entries."
   ]
  },
  {
   "cell_type": "markdown",
   "metadata": {
    "deletable": true,
    "editable": true
   },
   "source": [
    "## Working with missing values"
   ]
  },
  {
   "cell_type": "markdown",
   "metadata": {
    "deletable": true,
    "editable": true
   },
   "source": [
    "In R missing values are represented by the symbol **NA** (not available). For checking if a datastructure contains missing values the *is.na()*-function can be applied. It returns *TRUE* in all fields, where data is missing, otherwise false."
   ]
  },
  {
   "cell_type": "code",
   "execution_count": 6,
   "metadata": {
    "ExecuteTime": {
     "end_time": "2017-03-23T15:08:27.914757",
     "start_time": "2017-03-23T14:08:27.621Z"
    },
    "collapsed": false,
    "deletable": true,
    "editable": true
   },
   "outputs": [
    {
     "data": {
      "text/html": [
       "<table>\n",
       "<thead><tr><th scope=col>age</th><th scope=col>gender</th></tr></thead>\n",
       "<tbody>\n",
       "\t<tr><td>12</td><td>m </td></tr>\n",
       "\t<tr><td>NA</td><td>m </td></tr>\n",
       "\t<tr><td>34</td><td>f </td></tr>\n",
       "\t<tr><td>27</td><td>NA</td></tr>\n",
       "</tbody>\n",
       "</table>\n"
      ],
      "text/latex": [
       "\\begin{tabular}{r|ll}\n",
       " age & gender\\\\\n",
       "\\hline\n",
       "\t 12 & m \\\\\n",
       "\t NA & m \\\\\n",
       "\t 34 & f \\\\\n",
       "\t 27 & NA\\\\\n",
       "\\end{tabular}\n"
      ],
      "text/markdown": [
       "\n",
       "age | gender | \n",
       "|---|---|---|---|\n",
       "| 12 | m  | \n",
       "| NA | m  | \n",
       "| 34 | f  | \n",
       "| 27 | NA | \n",
       "\n",
       "\n"
      ],
      "text/plain": [
       "  age gender\n",
       "1 12  m     \n",
       "2 NA  m     \n",
       "3 34  f     \n",
       "4 27  NA    "
      ]
     },
     "metadata": {},
     "output_type": "display_data"
    }
   ],
   "source": [
    "age <- c(12,NA,34,27)\n",
    "gender  <- c('m','m','f',NA)\n",
    "persons <- data.frame(\"age\"=age,\"gender\"=gender)\n",
    "persons"
   ]
  },
  {
   "cell_type": "code",
   "execution_count": 9,
   "metadata": {
    "ExecuteTime": {
     "end_time": "2017-03-23T15:08:27.959142",
     "start_time": "2017-03-23T14:08:27.624Z"
    },
    "collapsed": false,
    "deletable": true,
    "editable": true
   },
   "outputs": [
    {
     "data": {
      "text/html": [
       "TRUE"
      ],
      "text/latex": [
       "TRUE"
      ],
      "text/markdown": [
       "TRUE"
      ],
      "text/plain": [
       "[1] TRUE"
      ]
     },
     "metadata": {},
     "output_type": "display_data"
    },
    {
     "data": {
      "text/html": [
       "<table>\n",
       "<thead><tr><th scope=col>age</th><th scope=col>gender</th></tr></thead>\n",
       "<tbody>\n",
       "\t<tr><td>FALSE</td><td>FALSE</td></tr>\n",
       "\t<tr><td> TRUE</td><td>FALSE</td></tr>\n",
       "\t<tr><td>FALSE</td><td>FALSE</td></tr>\n",
       "\t<tr><td>FALSE</td><td> TRUE</td></tr>\n",
       "</tbody>\n",
       "</table>\n"
      ],
      "text/latex": [
       "\\begin{tabular}{ll}\n",
       " age & gender\\\\\n",
       "\\hline\n",
       "\t FALSE & FALSE\\\\\n",
       "\t  TRUE & FALSE\\\\\n",
       "\t FALSE & FALSE\\\\\n",
       "\t FALSE &  TRUE\\\\\n",
       "\\end{tabular}\n"
      ],
      "text/markdown": [
       "\n",
       "age | gender | \n",
       "|---|---|---|---|\n",
       "| FALSE | FALSE | \n",
       "|  TRUE | FALSE | \n",
       "| FALSE | FALSE | \n",
       "| FALSE |  TRUE | \n",
       "\n",
       "\n"
      ],
      "text/plain": [
       "     age   gender\n",
       "[1,] FALSE FALSE \n",
       "[2,]  TRUE FALSE \n",
       "[3,] FALSE FALSE \n",
       "[4,] FALSE  TRUE "
      ]
     },
     "metadata": {},
     "output_type": "display_data"
    }
   ],
   "source": [
    "anyNA(persons)\n",
    "is.na(persons)"
   ]
  },
  {
   "cell_type": "markdown",
   "metadata": {
    "deletable": true,
    "editable": true
   },
   "source": [
    "It is not possible to compare the *NA*-symbol to the value of other variables. E.g. the logical test *hrvData$ID == NA* is never true. In addition to *NA*, there are two other symbols for extraordinary values in R:\n",
    "\n",
    "* *Inf* and *-Inf* are the symbols for positive and negative infinity, e.g. *1/0*\n",
    "* *NaN* is the symbol for impossible values e.g. *asin(2)*\n",
    "\n",
    "The presence of infinite or impossible values can be checked by the *is.infinite()* and the *is.nan()* - function. "
   ]
  },
  {
   "cell_type": "code",
   "execution_count": 10,
   "metadata": {
    "ExecuteTime": {
     "end_time": "2017-03-23T15:08:28.030494",
     "start_time": "2017-03-23T14:08:27.629Z"
    },
    "collapsed": false,
    "deletable": true,
    "editable": true
   },
   "outputs": [
    {
     "data": {
      "text/html": [
       "Inf"
      ],
      "text/latex": [
       "Inf"
      ],
      "text/markdown": [
       "Inf"
      ],
      "text/plain": [
       "[1] Inf"
      ]
     },
     "metadata": {},
     "output_type": "display_data"
    },
    {
     "data": {
      "text/html": [
       "TRUE"
      ],
      "text/latex": [
       "TRUE"
      ],
      "text/markdown": [
       "TRUE"
      ],
      "text/plain": [
       "[1] TRUE"
      ]
     },
     "metadata": {},
     "output_type": "display_data"
    },
    {
     "name": "stderr",
     "output_type": "stream",
     "text": [
      "Warning message in asin(2):\n",
      "\"NaNs wurden erzeugt\""
     ]
    },
    {
     "data": {
      "text/html": [
       "NaN"
      ],
      "text/latex": [
       "NaN"
      ],
      "text/markdown": [
       "NaN"
      ],
      "text/plain": [
       "[1] NaN"
      ]
     },
     "metadata": {},
     "output_type": "display_data"
    },
    {
     "name": "stderr",
     "output_type": "stream",
     "text": [
      "Warning message in asin(2):\n",
      "\"NaNs wurden erzeugt\""
     ]
    },
    {
     "data": {
      "text/html": [
       "TRUE"
      ],
      "text/latex": [
       "TRUE"
      ],
      "text/markdown": [
       "TRUE"
      ],
      "text/plain": [
       "[1] TRUE"
      ]
     },
     "metadata": {},
     "output_type": "display_data"
    }
   ],
   "source": [
    "1/0\n",
    "is.infinite(-3/0)\n",
    "asin(2)\n",
    "is.nan(asin(2))"
   ]
  },
  {
   "cell_type": "markdown",
   "metadata": {
    "deletable": true,
    "editable": true
   },
   "source": [
    "Remove all rows in dataframe *hrvData*, which contain a missing value:"
   ]
  },
  {
   "cell_type": "code",
   "execution_count": 12,
   "metadata": {
    "collapsed": false
   },
   "outputs": [
    {
     "data": {
      "text/html": [
       "<table>\n",
       "<thead><tr><th></th><th scope=col>age</th><th scope=col>gender</th></tr></thead>\n",
       "<tbody>\n",
       "\t<tr><th scope=row>1</th><td>12</td><td>m </td></tr>\n",
       "\t<tr><th scope=row>3</th><td>34</td><td>f </td></tr>\n",
       "</tbody>\n",
       "</table>\n"
      ],
      "text/latex": [
       "\\begin{tabular}{r|ll}\n",
       "  & age & gender\\\\\n",
       "\\hline\n",
       "\t1 & 12 & m \\\\\n",
       "\t3 & 34 & f \\\\\n",
       "\\end{tabular}\n"
      ],
      "text/markdown": [
       "\n",
       "| <!--/--> | age | gender | \n",
       "|---|---|\n",
       "| 1 | 12 | m  | \n",
       "| 3 | 34 | f  | \n",
       "\n",
       "\n"
      ],
      "text/plain": [
       "  age gender\n",
       "1 12  m     \n",
       "3 34  f     "
      ]
     },
     "metadata": {},
     "output_type": "display_data"
    }
   ],
   "source": [
    "na.omit(persons)"
   ]
  },
  {
   "cell_type": "code",
   "execution_count": 11,
   "metadata": {
    "ExecuteTime": {
     "end_time": "2017-03-23T15:08:28.406958",
     "start_time": "2017-03-23T14:08:27.639Z"
    },
    "collapsed": false,
    "deletable": true,
    "editable": true
   },
   "outputs": [
    {
     "data": {
      "text/html": [
       "<ol class=list-inline>\n",
       "\t<li>738</li>\n",
       "\t<li>15</li>\n",
       "</ol>\n"
      ],
      "text/latex": [
       "\\begin{enumerate*}\n",
       "\\item 738\n",
       "\\item 15\n",
       "\\end{enumerate*}\n"
      ],
      "text/markdown": [
       "1. 738\n",
       "2. 15\n",
       "\n",
       "\n"
      ],
      "text/plain": [
       "[1] 738  15"
      ]
     },
     "metadata": {},
     "output_type": "display_data"
    },
    {
     "data": {
      "text/html": [
       "<table>\n",
       "<thead><tr><th></th><th scope=col>ID</th><th scope=col>Tag</th><th scope=col>Start</th><th scope=col>Dauer</th><th scope=col>Avg..HR</th><th scope=col>RMSSD</th><th scope=col>SDNN</th><th scope=col>pNN50</th><th scope=col>RRmin</th><th scope=col>RRmean</th><th scope=col>RRmax</th><th scope=col>LF</th><th scope=col>HF</th><th scope=col>LF.HF</th><th scope=col>Total</th></tr></thead>\n",
       "<tbody>\n",
       "\t<tr><th scope=row>1</th><td> 1            </td><td>17.03.17      </td><td>06:08:55      </td><td>0:08:57       </td><td>42.61727      </td><td>130.33        </td><td>116.80        </td><td>58.42         </td><td>1117          </td><td>1407.88       </td><td>1758          </td><td>4537.05       </td><td>1786.91       </td><td>2.54          </td><td> 6489.09      </td></tr>\n",
       "\t<tr><th scope=row>2</th><td> 2            </td><td>16.03.17      </td><td>06:09:06      </td><td>0:09:59       </td><td>44.02571      </td><td>126.81        </td><td>148.24        </td><td>70.94         </td><td> 979          </td><td>1362.84       </td><td>1755          </td><td>5277.45       </td><td>3067.23       </td><td>1.72          </td><td> 8999.88      </td></tr>\n",
       "\t<tr><th scope=row>3</th><td> 3            </td><td>15.03.17      </td><td>06:10:05      </td><td>0:10:00       </td><td>41.56161      </td><td>172.43        </td><td>150.37        </td><td>81.16         </td><td>1018          </td><td>1443.64       </td><td>1805          </td><td>7591.26       </td><td>7359.64       </td><td>1.03          </td><td>15269.42      </td></tr>\n",
       "\t<tr><th scope=row>4</th><td> 4            </td><td>14.03.17      </td><td>06:10:08      </td><td>0:10:00       </td><td>42.94211      </td><td>170.64        </td><td>191.75        </td><td>76.64         </td><td>1025          </td><td>1397.23       </td><td>1974          </td><td>5687.76       </td><td>8554.06       </td><td>0.66          </td><td>14614.74      </td></tr>\n",
       "\t<tr><th scope=row>5</th><td> 5            </td><td>13.03.17      </td><td>06:25:49      </td><td>0:10:00       </td><td>42.98795      </td><td>139.66        </td><td>165.57        </td><td>76.17         </td><td>1012          </td><td>1395.74       </td><td>1742          </td><td>4188.03       </td><td>4258.05       </td><td>0.98          </td><td> 8746.70      </td></tr>\n",
       "\t<tr><th scope=row>6</th><td> 6            </td><td>12.03.17      </td><td>07:02:51      </td><td>0:09:10       </td><td>43.66749      </td><td>136.07        </td><td>174.51        </td><td>68.59         </td><td> 924          </td><td>1374.02       </td><td>1832          </td><td>3868.90       </td><td>6005.90       </td><td>0.64          </td><td> 9815.63      </td></tr>\n",
       "\t<tr><th scope=row>7</th><td> 7            </td><td>11.03.17      </td><td>07:18:35      </td><td>0:10:00       </td><td>52.59098      </td><td> 87.90        </td><td>144.11        </td><td>43.30         </td><td> 833          </td><td>1140.88       </td><td>1610          </td><td>3321.07       </td><td>1919.35       </td><td>1.73          </td><td> 5429.36      </td></tr>\n",
       "\t<tr><th scope=row>8</th><td> 8            </td><td>10.03.17      </td><td>06:09:35      </td><td>0:08:03       </td><td>45.56397      </td><td>131.17        </td><td>136.42        </td><td>74.93         </td><td>1016          </td><td>1316.83       </td><td>1707          </td><td>3568.70       </td><td>5131.23       </td><td>0.70          </td><td> 9418.67      </td></tr>\n",
       "\t<tr><th scope=row>9</th><td> 9            </td><td>09.03.17      </td><td>06:08:14      </td><td>0:08:08       </td><td>46.89918      </td><td>129.88        </td><td>123.51        </td><td>73.35         </td><td>1009          </td><td>1279.34       </td><td>1712          </td><td>1566.03       </td><td>4754.87       </td><td>0.33          </td><td> 6479.18      </td></tr>\n",
       "\t<tr><th scope=row>10</th><td>10            </td><td>08.03.17      </td><td>06:08:40      </td><td>0:10:00       </td><td>47.21695      </td><td>111.50        </td><td>112.73        </td><td>68.80         </td><td> 996          </td><td>1270.73       </td><td>1765          </td><td>2786.72       </td><td>3383.95       </td><td>0.82          </td><td> 6371.16      </td></tr>\n",
       "\t<tr><th scope=row>11</th><td>11            </td><td>07.03.17      </td><td>06:08:26      </td><td>0:09:23       </td><td>41.90793      </td><td>146.30        </td><td>143.71        </td><td>77.81         </td><td>1067          </td><td>1431.71       </td><td>1856          </td><td>2994.40       </td><td>8161.99       </td><td>0.37          </td><td>12065.35      </td></tr>\n",
       "\t<tr><th scope=row>12</th><td>12            </td><td>06.03.17      </td><td>06:07:59      </td><td>0:07:03       </td><td>42.75423      </td><td>117.84        </td><td>118.23        </td><td>78.60         </td><td>1041          </td><td>1403.37       </td><td>1690          </td><td>2408.24       </td><td>3551.37       </td><td>0.68          </td><td> 6101.63      </td></tr>\n",
       "\t<tr><th scope=row>13</th><td>13            </td><td>05.03.17      </td><td>06:52:00      </td><td>0:09:58       </td><td>44.64452      </td><td>152.51        </td><td>133.94        </td><td>78.73         </td><td>1046          </td><td>1343.95       </td><td>1720          </td><td>2334.18       </td><td>8654.62       </td><td>0.27          </td><td>11198.06      </td></tr>\n",
       "\t<tr><th scope=row>14</th><td>14            </td><td>04.03.17      </td><td>05:52:38      </td><td>0:10:00       </td><td>48.38319      </td><td> 78.90        </td><td>114.07        </td><td>44.49         </td><td> 964          </td><td>1240.10       </td><td>1587          </td><td>1526.65       </td><td>1529.00       </td><td>1.00          </td><td> 3180.57      </td></tr>\n",
       "\t<tr><th scope=row>15</th><td>15            </td><td>03.03.17      </td><td>06:45:13      </td><td>0:09:59       </td><td>45.88910      </td><td>133.52        </td><td>145.30        </td><td>64.40         </td><td>1041          </td><td>1307.50       </td><td>1683          </td><td>3409.60       </td><td>4222.81       </td><td>0.81          </td><td> 8173.64      </td></tr>\n",
       "\t<tr><th scope=row>16</th><td>16            </td><td>02.03.17      </td><td>07:02:22      </td><td>0:10:00       </td><td>44.25170      </td><td>130.67        </td><td>165.88        </td><td>69.32         </td><td> 921          </td><td>1355.88       </td><td>1810          </td><td>3668.14       </td><td>4087.01       </td><td>0.90          </td><td> 7889.74      </td></tr>\n",
       "\t<tr><th scope=row>17</th><td>17            </td><td>01.03.17      </td><td>07:00:27      </td><td>0:09:59       </td><td>47.80534      </td><td> 89.98        </td><td>135.91        </td><td>48.52         </td><td> 916          </td><td>1255.09       </td><td>1642          </td><td>2673.41       </td><td>2033.91       </td><td>1.31          </td><td> 5159.29      </td></tr>\n",
       "\t<tr><th scope=row>18</th><td>18            </td><td>28.02.17      </td><td>06:48:48      </td><td>0:08:24       </td><td>47.08837      </td><td> 92.96        </td><td> 99.85        </td><td>59.29         </td><td> 942          </td><td>1274.20       </td><td>1570          </td><td>1176.81       </td><td>2014.38       </td><td>0.58          </td><td> 3358.06      </td></tr>\n",
       "\t<tr><th scope=row>19</th><td>19            </td><td>27.02.17      </td><td>07:00:15      </td><td>0:10:00       </td><td>47.28729      </td><td> 97.50        </td><td>114.92        </td><td>58.55         </td><td> 902          </td><td>1268.84       </td><td>1574          </td><td>3849.60       </td><td>2341.98       </td><td>1.64          </td><td> 6409.59      </td></tr>\n",
       "\t<tr><th scope=row>20</th><td>20            </td><td>26.02.17      </td><td>06:57:26      </td><td>0:07:46       </td><td>50.02877      </td><td> 90.45        </td><td>125.08        </td><td>51.04         </td><td> 852          </td><td>1199.31       </td><td>1595          </td><td>2377.07       </td><td>2283.17       </td><td>1.04          </td><td> 5203.01      </td></tr>\n",
       "\t<tr><th scope=row>21</th><td>21            </td><td>23.02.17      </td><td>06:19:37      </td><td>0:11:18       </td><td>48.24974      </td><td>107.69        </td><td>117.24        </td><td>66.73         </td><td> 914          </td><td>1243.53       </td><td>1668          </td><td>1713.99       </td><td>3206.52       </td><td>0.53          </td><td> 5036.61      </td></tr>\n",
       "\t<tr><th scope=row>22</th><td>22            </td><td>22.02.17      </td><td>06:19:21      </td><td>0:08:41       </td><td>48.03420      </td><td>107.12        </td><td>100.67        </td><td>68.84         </td><td> 991          </td><td>1249.11       </td><td>1552          </td><td>1401.56       </td><td>2967.97       </td><td>0.47          </td><td> 4478.32      </td></tr>\n",
       "\t<tr><th scope=row>23</th><td>23            </td><td>21.02.17      </td><td>06:20:47      </td><td>0:09:59       </td><td>48.26061      </td><td>121.91        </td><td>152.56        </td><td>65.97         </td><td> 909          </td><td>1243.25       </td><td>1669          </td><td>2506.26       </td><td>5054.34       </td><td>0.50          </td><td> 7984.75      </td></tr>\n",
       "\t<tr><th scope=row>24</th><td>24            </td><td>20.02.17      </td><td>06:23:45      </td><td>0:09:59       </td><td>45.46040      </td><td>124.66        </td><td>149.46        </td><td>70.51         </td><td>1051          </td><td>1319.83       </td><td>1736          </td><td>3610.71       </td><td>4228.82       </td><td>0.85          </td><td> 8062.01      </td></tr>\n",
       "\t<tr><th scope=row>25</th><td>25            </td><td>19.02.17      </td><td>07:00:20      </td><td>0:10:01       </td><td>48.23578      </td><td>139.24        </td><td>180.27        </td><td>64.38         </td><td> 866          </td><td>1243.89       </td><td>1780          </td><td>2989.22       </td><td>4172.86       </td><td>0.72          </td><td> 7412.32      </td></tr>\n",
       "\t<tr><th scope=row>26</th><td>26            </td><td>18.02.17      </td><td>06:58:40      </td><td>0:07:34.283000</td><td>47.67088      </td><td>125.53        </td><td>135.14        </td><td>71.97         </td><td> 989          </td><td>1258.63       </td><td>1665          </td><td>2935.89       </td><td>5595.49       </td><td>0.52          </td><td> 8606.81      </td></tr>\n",
       "\t<tr><th scope=row>27</th><td>27            </td><td>17.02.17      </td><td>06:14:33      </td><td>0:09:27       </td><td>50.70480      </td><td> 90.99        </td><td>127.41        </td><td>58.40         </td><td> 954          </td><td>1183.32       </td><td>1582          </td><td>2220.76       </td><td>2726.34       </td><td>0.81          </td><td> 5252.79      </td></tr>\n",
       "\t<tr><th scope=row>28</th><td>28            </td><td>16.02.17      </td><td>06:11:32      </td><td>0:10:00       </td><td>43.97505      </td><td>143.49        </td><td>165.77        </td><td>75.29         </td><td> 908          </td><td>1364.41       </td><td>1733          </td><td>6124.89       </td><td>4989.64       </td><td>1.23          </td><td>11553.25      </td></tr>\n",
       "\t<tr><th scope=row>29</th><td>29            </td><td>15.02.17      </td><td>06:12:47      </td><td>0:08:45       </td><td>48.00154      </td><td>115.11        </td><td>132.14        </td><td>69.23         </td><td> 992          </td><td>1249.96       </td><td>1618          </td><td>2496.55       </td><td>3314.79       </td><td>0.75          </td><td> 6020.52      </td></tr>\n",
       "\t<tr><th scope=row>30</th><td>30            </td><td>14.02.17      </td><td>06:13:46      </td><td>0:09:59       </td><td>43.26788      </td><td>136.65        </td><td>149.80        </td><td>76.51         </td><td>1046          </td><td>1386.71       </td><td>1795          </td><td>2845.94       </td><td>4856.08       </td><td>0.59          </td><td> 7893.74      </td></tr>\n",
       "\t<tr><th scope=row>...</th><td>...</td><td>...</td><td>...</td><td>...</td><td>...</td><td>...</td><td>...</td><td>...</td><td>...</td><td>...</td><td>...</td><td>...</td><td>...</td><td>...</td><td>...</td></tr>\n",
       "\t<tr><th scope=row>711</th><td>711           </td><td>25.03.15      </td><td>05:36:51      </td><td>0:11:47.568000</td><td>46.35603      </td><td>119.95        </td><td>141.81        </td><td>73.06         </td><td>1030          </td><td>1294.33       </td><td>1708          </td><td>1227.65       </td><td>3593.14       </td><td>0.34          </td><td> 4924.54      </td></tr>\n",
       "\t<tr><th scope=row>712</th><td>712           </td><td>24.03.15      </td><td>05:37:39      </td><td>0:11:18.448000</td><td>44.24877      </td><td>144.14        </td><td>152.80        </td><td>74.54         </td><td>1068          </td><td>1355.97       </td><td>1826          </td><td>3297.68       </td><td>7344.01       </td><td>0.45          </td><td>10942.59      </td></tr>\n",
       "\t<tr><th scope=row>713</th><td>713           </td><td>23.03.15      </td><td>05:38:49      </td><td>0:11:48.129000</td><td>45.85158      </td><td>116.85        </td><td>139.30        </td><td>70.70         </td><td> 991          </td><td>1308.57       </td><td>1742          </td><td>2093.66       </td><td>3927.81       </td><td>0.53          </td><td> 6345.70      </td></tr>\n",
       "\t<tr><th scope=row>714</th><td>714           </td><td>22.03.15      </td><td>05:51:15      </td><td>0:11:31.100000</td><td>44.50444      </td><td>132.26        </td><td>154.15        </td><td>75.10         </td><td> 940          </td><td>1348.18       </td><td>1783          </td><td>1417.02       </td><td>5527.80       </td><td>0.26          </td><td> 7153.09      </td></tr>\n",
       "\t<tr><th scope=row>715</th><td>715           </td><td>21.03.15      </td><td>06:15:04      </td><td>0:10:37.060000</td><td>44.16669      </td><td>118.45        </td><td>137.57        </td><td>70.37         </td><td>1032          </td><td>1358.49       </td><td>1770          </td><td>1519.18       </td><td>3606.36       </td><td>0.42          </td><td> 5212.82      </td></tr>\n",
       "\t<tr><th scope=row>716</th><td>716           </td><td>20.03.15      </td><td>05:38:40      </td><td>0:10:53.621000</td><td>46.56361      </td><td>130.88        </td><td>128.26        </td><td>73.44         </td><td> 900          </td><td>1288.56       </td><td>1615          </td><td>1864.54       </td><td>4707.20       </td><td>0.40          </td><td> 6557.90      </td></tr>\n",
       "\t<tr><th scope=row>717</th><td>717           </td><td>19.03.15      </td><td>05:19:03      </td><td>0:11:15.181000</td><td>41.87429      </td><td>152.99        </td><td>176.17        </td><td>74.56         </td><td>1033          </td><td>1432.86       </td><td>1857          </td><td>5431.93       </td><td>6210.25       </td><td>0.87          </td><td>11864.89      </td></tr>\n",
       "\t<tr><th scope=row>718</th><td>718           </td><td>18.03.15      </td><td>05:19:49      </td><td>0:11:13.203000</td><td>45.02983      </td><td>131.90        </td><td>141.77        </td><td>72.95         </td><td>1010          </td><td>1332.45       </td><td>1755          </td><td>1707.47       </td><td>4465.00       </td><td>0.38          </td><td> 6298.51      </td></tr>\n",
       "\t<tr><th scope=row>719</th><td>719           </td><td>17.03.15      </td><td>05:30:57      </td><td>0:11:19.368000</td><td>44.07098      </td><td>131.34        </td><td>164.14        </td><td>76.37         </td><td> 955          </td><td>1361.44       </td><td>1856          </td><td>2057.92       </td><td>4719.11       </td><td>0.44          </td><td> 7021.30      </td></tr>\n",
       "\t<tr><th scope=row>720</th><td>720           </td><td>16.03.15      </td><td>05:37:09      </td><td>0:11:30.609000</td><td>44.95897      </td><td>135.68        </td><td>167.68        </td><td>73.72         </td><td>1008          </td><td>1334.55       </td><td>1805          </td><td>2412.72       </td><td>5104.43       </td><td>0.47          </td><td> 7687.21      </td></tr>\n",
       "\t<tr><th scope=row>721</th><td>721           </td><td>14.03.15      </td><td>04:28:07      </td><td>0:06:52.783000</td><td>43.81705      </td><td>156.84        </td><td>125.00        </td><td>80.07         </td><td>1129          </td><td>1369.33       </td><td>1678          </td><td>1257.77       </td><td>5127.58       </td><td>0.25          </td><td> 6494.61      </td></tr>\n",
       "\t<tr><th scope=row>722</th><td>722           </td><td>13.03.15      </td><td>05:34:23      </td><td>0:11:19.802000</td><td>48.38749      </td><td>122.62        </td><td>135.24        </td><td>67.87         </td><td> 969          </td><td>1239.99       </td><td>1704          </td><td>2496.56       </td><td>4388.07       </td><td>0.57          </td><td> 7775.24      </td></tr>\n",
       "\t<tr><th scope=row>723</th><td>723           </td><td>12.03.15      </td><td>05:20:35      </td><td>0:12:00.715000</td><td>41.41844      </td><td>180.92        </td><td>172.04        </td><td>82.64         </td><td>1044          </td><td>1448.63       </td><td>1877          </td><td>4572.24       </td><td>7468.95       </td><td>0.61          </td><td>12869.39      </td></tr>\n",
       "\t<tr><th scope=row>724</th><td>724           </td><td>11.03.15      </td><td>05:04:43      </td><td>0:11:13.543000</td><td>43.14529      </td><td>149.06        </td><td>148.66        </td><td>78.74         </td><td> 996          </td><td>1390.65       </td><td>1821          </td><td>2212.89       </td><td>5063.82       </td><td>0.44          </td><td> 7315.04      </td></tr>\n",
       "\t<tr><th scope=row>725</th><td>725           </td><td>10.03.15      </td><td>05:40:00      </td><td>0:11:43.313000</td><td>44.15368      </td><td>136.87        </td><td>150.86        </td><td>75.75         </td><td> 700          </td><td>1358.89       </td><td>1828          </td><td>2349.43       </td><td>4389.56       </td><td>0.54          </td><td> 7203.95      </td></tr>\n",
       "\t<tr><th scope=row>726</th><td>726           </td><td>09.03.15      </td><td>05:36:21      </td><td>0:11:08.437000</td><td>45.94673      </td><td>121.37        </td><td>154.40        </td><td>73.55         </td><td> 950          </td><td>1305.86       </td><td>1734          </td><td>3109.55       </td><td>3868.96       </td><td>0.80          </td><td> 7529.92      </td></tr>\n",
       "\t<tr><th scope=row>727</th><td>727           </td><td>08.03.15      </td><td>05:55:07      </td><td>0:12:19.157000</td><td>48.03497      </td><td>104.84        </td><td>124.34        </td><td>65.92         </td><td> 942          </td><td>1249.09       </td><td>1668          </td><td>2304.09       </td><td>3076.76       </td><td>0.75          </td><td> 5584.36      </td></tr>\n",
       "\t<tr><th scope=row>728</th><td>728           </td><td>07.03.15      </td><td>06:31:53      </td><td>0:10:17.978000</td><td>51.09557      </td><td> 91.33        </td><td>114.22        </td><td>55.13         </td><td> 917          </td><td>1174.27       </td><td>1510          </td><td>1188.05       </td><td>2340.83       </td><td>0.51          </td><td> 3991.14      </td></tr>\n",
       "\t<tr><th scope=row>729</th><td>729           </td><td>06.03.15      </td><td>05:40:10      </td><td>0:11:43.604000</td><td>47.20767      </td><td>116.17        </td><td>158.73        </td><td>69.53         </td><td> 955          </td><td>1270.98       </td><td>1809          </td><td>2928.97       </td><td>4345.07       </td><td>0.67          </td><td> 7945.75      </td></tr>\n",
       "\t<tr><th scope=row>730</th><td>730           </td><td>05.03.15      </td><td>05:21:43      </td><td>0:11:27.146000</td><td>47.91950      </td><td>117.11        </td><td>146.12        </td><td>66.92         </td><td> 940          </td><td>1252.10       </td><td>1760          </td><td>1810.37       </td><td>3637.34       </td><td>0.50          </td><td> 5690.73      </td></tr>\n",
       "\t<tr><th scope=row>731</th><td>731           </td><td>04.03.15      </td><td>05:37:31      </td><td>0:11:19.446000</td><td>42.93504      </td><td>130.41        </td><td>147.51        </td><td>74.74         </td><td>1130          </td><td>1397.46       </td><td>1907          </td><td>2032.91       </td><td>4799.50       </td><td>0.42          </td><td> 7119.20      </td></tr>\n",
       "\t<tr><th scope=row>732</th><td>732           </td><td>03.03.15      </td><td>05:49:08      </td><td>0:11:15.186000</td><td>41.17994      </td><td>142.60        </td><td>133.61        </td><td>81.74         </td><td>1121          </td><td>1457.02       </td><td>1818          </td><td>2146.12       </td><td>4641.50       </td><td>0.46          </td><td> 7200.31      </td></tr>\n",
       "\t<tr><th scope=row>733</th><td>733           </td><td>02.03.15      </td><td>05:48:25      </td><td>0:11:59.397000</td><td>43.37862      </td><td>119.27        </td><td>138.27        </td><td>69.26         </td><td>1102          </td><td>1383.17       </td><td>1797          </td><td>2290.65       </td><td>4070.99       </td><td>0.56          </td><td> 6675.54      </td></tr>\n",
       "\t<tr><th scope=row>734</th><td>734           </td><td>01.03.15      </td><td>06:02:26      </td><td>0:11:46.702000</td><td>44.51402      </td><td>112.56        </td><td>152.66        </td><td>66.26         </td><td> 882          </td><td>1347.89       </td><td>1681          </td><td>2204.38       </td><td>3350.07       </td><td>0.66          </td><td> 5677.75      </td></tr>\n",
       "\t<tr><th scope=row>735</th><td>735           </td><td>28.02.15      </td><td>06:07:51      </td><td>0:11:56.851000</td><td>41.57197      </td><td>127.73        </td><td>128.64        </td><td>77.08         </td><td>1142          </td><td>1443.28       </td><td>1819          </td><td>1985.86       </td><td>4545.80       </td><td>0.44          </td><td> 6735.02      </td></tr>\n",
       "\t<tr><th scope=row>736</th><td>736           </td><td>27.02.15      </td><td>05:47:55      </td><td>0:10:33.921000</td><td>44.97313      </td><td>123.37        </td><td>141.73        </td><td>71.43         </td><td> 949          </td><td>1334.13       </td><td>1679          </td><td>1675.04       </td><td>4225.11       </td><td>0.40          </td><td> 6203.20      </td></tr>\n",
       "\t<tr><th scope=row>737</th><td>737           </td><td>26.02.15      </td><td>05:23:53      </td><td>0:12:11.591000</td><td>42.61031      </td><td>150.28        </td><td>150.45        </td><td>79.57         </td><td>1030          </td><td>1408.11       </td><td>1858          </td><td>1550.89       </td><td>5281.51       </td><td>0.29          </td><td> 7094.40      </td></tr>\n",
       "\t<tr><th scope=row>738</th><td>738           </td><td>25.02.15      </td><td>05:45:59      </td><td>0:11:20.961000</td><td>42.58460      </td><td>121.18        </td><td>135.21        </td><td>73.71         </td><td>1107          </td><td>1408.96       </td><td>1806          </td><td>1545.52       </td><td>4068.66       </td><td>0.38          </td><td> 5961.24      </td></tr>\n",
       "\t<tr><th scope=row>739</th><td>739           </td><td>23.02.15      </td><td>07:36:30      </td><td>0:12:12.876000</td><td>51.98091      </td><td> 72.18        </td><td> 73.20        </td><td>55.10         </td><td> 944          </td><td>1154.27       </td><td>1436          </td><td>1320.89       </td><td>1068.71       </td><td>1.24          </td><td> 2525.71      </td></tr>\n",
       "\t<tr><th scope=row>740</th><td>740           </td><td>17.02.15      </td><td>10:32:27      </td><td>0:23:55.177000</td><td>53.93258      </td><td> 67.88        </td><td>144.77        </td><td>40.60         </td><td> 635          </td><td>1112.50       </td><td>1542          </td><td>4877.74       </td><td>1303.45       </td><td>3.74          </td><td> 7027.42      </td></tr>\n",
       "</tbody>\n",
       "</table>\n"
      ],
      "text/latex": [
       "\\begin{tabular}{r|lllllllllllllll}\n",
       "  & ID & Tag & Start & Dauer & Avg..HR & RMSSD & SDNN & pNN50 & RRmin & RRmean & RRmax & LF & HF & LF.HF & Total\\\\\n",
       "\\hline\n",
       "\t1 &  1             & 17.03.17       & 06:08:55       & 0:08:57        & 42.61727       & 130.33         & 116.80         & 58.42          & 1117           & 1407.88        & 1758           & 4537.05        & 1786.91        & 2.54           &  6489.09      \\\\\n",
       "\t2 &  2             & 16.03.17       & 06:09:06       & 0:09:59        & 44.02571       & 126.81         & 148.24         & 70.94          &  979           & 1362.84        & 1755           & 5277.45        & 3067.23        & 1.72           &  8999.88      \\\\\n",
       "\t3 &  3             & 15.03.17       & 06:10:05       & 0:10:00        & 41.56161       & 172.43         & 150.37         & 81.16          & 1018           & 1443.64        & 1805           & 7591.26        & 7359.64        & 1.03           & 15269.42      \\\\\n",
       "\t4 &  4             & 14.03.17       & 06:10:08       & 0:10:00        & 42.94211       & 170.64         & 191.75         & 76.64          & 1025           & 1397.23        & 1974           & 5687.76        & 8554.06        & 0.66           & 14614.74      \\\\\n",
       "\t5 &  5             & 13.03.17       & 06:25:49       & 0:10:00        & 42.98795       & 139.66         & 165.57         & 76.17          & 1012           & 1395.74        & 1742           & 4188.03        & 4258.05        & 0.98           &  8746.70      \\\\\n",
       "\t6 &  6             & 12.03.17       & 07:02:51       & 0:09:10        & 43.66749       & 136.07         & 174.51         & 68.59          &  924           & 1374.02        & 1832           & 3868.90        & 6005.90        & 0.64           &  9815.63      \\\\\n",
       "\t7 &  7             & 11.03.17       & 07:18:35       & 0:10:00        & 52.59098       &  87.90         & 144.11         & 43.30          &  833           & 1140.88        & 1610           & 3321.07        & 1919.35        & 1.73           &  5429.36      \\\\\n",
       "\t8 &  8             & 10.03.17       & 06:09:35       & 0:08:03        & 45.56397       & 131.17         & 136.42         & 74.93          & 1016           & 1316.83        & 1707           & 3568.70        & 5131.23        & 0.70           &  9418.67      \\\\\n",
       "\t9 &  9             & 09.03.17       & 06:08:14       & 0:08:08        & 46.89918       & 129.88         & 123.51         & 73.35          & 1009           & 1279.34        & 1712           & 1566.03        & 4754.87        & 0.33           &  6479.18      \\\\\n",
       "\t10 & 10             & 08.03.17       & 06:08:40       & 0:10:00        & 47.21695       & 111.50         & 112.73         & 68.80          &  996           & 1270.73        & 1765           & 2786.72        & 3383.95        & 0.82           &  6371.16      \\\\\n",
       "\t11 & 11             & 07.03.17       & 06:08:26       & 0:09:23        & 41.90793       & 146.30         & 143.71         & 77.81          & 1067           & 1431.71        & 1856           & 2994.40        & 8161.99        & 0.37           & 12065.35      \\\\\n",
       "\t12 & 12             & 06.03.17       & 06:07:59       & 0:07:03        & 42.75423       & 117.84         & 118.23         & 78.60          & 1041           & 1403.37        & 1690           & 2408.24        & 3551.37        & 0.68           &  6101.63      \\\\\n",
       "\t13 & 13             & 05.03.17       & 06:52:00       & 0:09:58        & 44.64452       & 152.51         & 133.94         & 78.73          & 1046           & 1343.95        & 1720           & 2334.18        & 8654.62        & 0.27           & 11198.06      \\\\\n",
       "\t14 & 14             & 04.03.17       & 05:52:38       & 0:10:00        & 48.38319       &  78.90         & 114.07         & 44.49          &  964           & 1240.10        & 1587           & 1526.65        & 1529.00        & 1.00           &  3180.57      \\\\\n",
       "\t15 & 15             & 03.03.17       & 06:45:13       & 0:09:59        & 45.88910       & 133.52         & 145.30         & 64.40          & 1041           & 1307.50        & 1683           & 3409.60        & 4222.81        & 0.81           &  8173.64      \\\\\n",
       "\t16 & 16             & 02.03.17       & 07:02:22       & 0:10:00        & 44.25170       & 130.67         & 165.88         & 69.32          &  921           & 1355.88        & 1810           & 3668.14        & 4087.01        & 0.90           &  7889.74      \\\\\n",
       "\t17 & 17             & 01.03.17       & 07:00:27       & 0:09:59        & 47.80534       &  89.98         & 135.91         & 48.52          &  916           & 1255.09        & 1642           & 2673.41        & 2033.91        & 1.31           &  5159.29      \\\\\n",
       "\t18 & 18             & 28.02.17       & 06:48:48       & 0:08:24        & 47.08837       &  92.96         &  99.85         & 59.29          &  942           & 1274.20        & 1570           & 1176.81        & 2014.38        & 0.58           &  3358.06      \\\\\n",
       "\t19 & 19             & 27.02.17       & 07:00:15       & 0:10:00        & 47.28729       &  97.50         & 114.92         & 58.55          &  902           & 1268.84        & 1574           & 3849.60        & 2341.98        & 1.64           &  6409.59      \\\\\n",
       "\t20 & 20             & 26.02.17       & 06:57:26       & 0:07:46        & 50.02877       &  90.45         & 125.08         & 51.04          &  852           & 1199.31        & 1595           & 2377.07        & 2283.17        & 1.04           &  5203.01      \\\\\n",
       "\t21 & 21             & 23.02.17       & 06:19:37       & 0:11:18        & 48.24974       & 107.69         & 117.24         & 66.73          &  914           & 1243.53        & 1668           & 1713.99        & 3206.52        & 0.53           &  5036.61      \\\\\n",
       "\t22 & 22             & 22.02.17       & 06:19:21       & 0:08:41        & 48.03420       & 107.12         & 100.67         & 68.84          &  991           & 1249.11        & 1552           & 1401.56        & 2967.97        & 0.47           &  4478.32      \\\\\n",
       "\t23 & 23             & 21.02.17       & 06:20:47       & 0:09:59        & 48.26061       & 121.91         & 152.56         & 65.97          &  909           & 1243.25        & 1669           & 2506.26        & 5054.34        & 0.50           &  7984.75      \\\\\n",
       "\t24 & 24             & 20.02.17       & 06:23:45       & 0:09:59        & 45.46040       & 124.66         & 149.46         & 70.51          & 1051           & 1319.83        & 1736           & 3610.71        & 4228.82        & 0.85           &  8062.01      \\\\\n",
       "\t25 & 25             & 19.02.17       & 07:00:20       & 0:10:01        & 48.23578       & 139.24         & 180.27         & 64.38          &  866           & 1243.89        & 1780           & 2989.22        & 4172.86        & 0.72           &  7412.32      \\\\\n",
       "\t26 & 26             & 18.02.17       & 06:58:40       & 0:07:34.283000 & 47.67088       & 125.53         & 135.14         & 71.97          &  989           & 1258.63        & 1665           & 2935.89        & 5595.49        & 0.52           &  8606.81      \\\\\n",
       "\t27 & 27             & 17.02.17       & 06:14:33       & 0:09:27        & 50.70480       &  90.99         & 127.41         & 58.40          &  954           & 1183.32        & 1582           & 2220.76        & 2726.34        & 0.81           &  5252.79      \\\\\n",
       "\t28 & 28             & 16.02.17       & 06:11:32       & 0:10:00        & 43.97505       & 143.49         & 165.77         & 75.29          &  908           & 1364.41        & 1733           & 6124.89        & 4989.64        & 1.23           & 11553.25      \\\\\n",
       "\t29 & 29             & 15.02.17       & 06:12:47       & 0:08:45        & 48.00154       & 115.11         & 132.14         & 69.23          &  992           & 1249.96        & 1618           & 2496.55        & 3314.79        & 0.75           &  6020.52      \\\\\n",
       "\t30 & 30             & 14.02.17       & 06:13:46       & 0:09:59        & 43.26788       & 136.65         & 149.80         & 76.51          & 1046           & 1386.71        & 1795           & 2845.94        & 4856.08        & 0.59           &  7893.74      \\\\\n",
       "\t... & ... & ... & ... & ... & ... & ... & ... & ... & ... & ... & ... & ... & ... & ... & ...\\\\\n",
       "\t711 & 711            & 25.03.15       & 05:36:51       & 0:11:47.568000 & 46.35603       & 119.95         & 141.81         & 73.06          & 1030           & 1294.33        & 1708           & 1227.65        & 3593.14        & 0.34           &  4924.54      \\\\\n",
       "\t712 & 712            & 24.03.15       & 05:37:39       & 0:11:18.448000 & 44.24877       & 144.14         & 152.80         & 74.54          & 1068           & 1355.97        & 1826           & 3297.68        & 7344.01        & 0.45           & 10942.59      \\\\\n",
       "\t713 & 713            & 23.03.15       & 05:38:49       & 0:11:48.129000 & 45.85158       & 116.85         & 139.30         & 70.70          &  991           & 1308.57        & 1742           & 2093.66        & 3927.81        & 0.53           &  6345.70      \\\\\n",
       "\t714 & 714            & 22.03.15       & 05:51:15       & 0:11:31.100000 & 44.50444       & 132.26         & 154.15         & 75.10          &  940           & 1348.18        & 1783           & 1417.02        & 5527.80        & 0.26           &  7153.09      \\\\\n",
       "\t715 & 715            & 21.03.15       & 06:15:04       & 0:10:37.060000 & 44.16669       & 118.45         & 137.57         & 70.37          & 1032           & 1358.49        & 1770           & 1519.18        & 3606.36        & 0.42           &  5212.82      \\\\\n",
       "\t716 & 716            & 20.03.15       & 05:38:40       & 0:10:53.621000 & 46.56361       & 130.88         & 128.26         & 73.44          &  900           & 1288.56        & 1615           & 1864.54        & 4707.20        & 0.40           &  6557.90      \\\\\n",
       "\t717 & 717            & 19.03.15       & 05:19:03       & 0:11:15.181000 & 41.87429       & 152.99         & 176.17         & 74.56          & 1033           & 1432.86        & 1857           & 5431.93        & 6210.25        & 0.87           & 11864.89      \\\\\n",
       "\t718 & 718            & 18.03.15       & 05:19:49       & 0:11:13.203000 & 45.02983       & 131.90         & 141.77         & 72.95          & 1010           & 1332.45        & 1755           & 1707.47        & 4465.00        & 0.38           &  6298.51      \\\\\n",
       "\t719 & 719            & 17.03.15       & 05:30:57       & 0:11:19.368000 & 44.07098       & 131.34         & 164.14         & 76.37          &  955           & 1361.44        & 1856           & 2057.92        & 4719.11        & 0.44           &  7021.30      \\\\\n",
       "\t720 & 720            & 16.03.15       & 05:37:09       & 0:11:30.609000 & 44.95897       & 135.68         & 167.68         & 73.72          & 1008           & 1334.55        & 1805           & 2412.72        & 5104.43        & 0.47           &  7687.21      \\\\\n",
       "\t721 & 721            & 14.03.15       & 04:28:07       & 0:06:52.783000 & 43.81705       & 156.84         & 125.00         & 80.07          & 1129           & 1369.33        & 1678           & 1257.77        & 5127.58        & 0.25           &  6494.61      \\\\\n",
       "\t722 & 722            & 13.03.15       & 05:34:23       & 0:11:19.802000 & 48.38749       & 122.62         & 135.24         & 67.87          &  969           & 1239.99        & 1704           & 2496.56        & 4388.07        & 0.57           &  7775.24      \\\\\n",
       "\t723 & 723            & 12.03.15       & 05:20:35       & 0:12:00.715000 & 41.41844       & 180.92         & 172.04         & 82.64          & 1044           & 1448.63        & 1877           & 4572.24        & 7468.95        & 0.61           & 12869.39      \\\\\n",
       "\t724 & 724            & 11.03.15       & 05:04:43       & 0:11:13.543000 & 43.14529       & 149.06         & 148.66         & 78.74          &  996           & 1390.65        & 1821           & 2212.89        & 5063.82        & 0.44           &  7315.04      \\\\\n",
       "\t725 & 725            & 10.03.15       & 05:40:00       & 0:11:43.313000 & 44.15368       & 136.87         & 150.86         & 75.75          &  700           & 1358.89        & 1828           & 2349.43        & 4389.56        & 0.54           &  7203.95      \\\\\n",
       "\t726 & 726            & 09.03.15       & 05:36:21       & 0:11:08.437000 & 45.94673       & 121.37         & 154.40         & 73.55          &  950           & 1305.86        & 1734           & 3109.55        & 3868.96        & 0.80           &  7529.92      \\\\\n",
       "\t727 & 727            & 08.03.15       & 05:55:07       & 0:12:19.157000 & 48.03497       & 104.84         & 124.34         & 65.92          &  942           & 1249.09        & 1668           & 2304.09        & 3076.76        & 0.75           &  5584.36      \\\\\n",
       "\t728 & 728            & 07.03.15       & 06:31:53       & 0:10:17.978000 & 51.09557       &  91.33         & 114.22         & 55.13          &  917           & 1174.27        & 1510           & 1188.05        & 2340.83        & 0.51           &  3991.14      \\\\\n",
       "\t729 & 729            & 06.03.15       & 05:40:10       & 0:11:43.604000 & 47.20767       & 116.17         & 158.73         & 69.53          &  955           & 1270.98        & 1809           & 2928.97        & 4345.07        & 0.67           &  7945.75      \\\\\n",
       "\t730 & 730            & 05.03.15       & 05:21:43       & 0:11:27.146000 & 47.91950       & 117.11         & 146.12         & 66.92          &  940           & 1252.10        & 1760           & 1810.37        & 3637.34        & 0.50           &  5690.73      \\\\\n",
       "\t731 & 731            & 04.03.15       & 05:37:31       & 0:11:19.446000 & 42.93504       & 130.41         & 147.51         & 74.74          & 1130           & 1397.46        & 1907           & 2032.91        & 4799.50        & 0.42           &  7119.20      \\\\\n",
       "\t732 & 732            & 03.03.15       & 05:49:08       & 0:11:15.186000 & 41.17994       & 142.60         & 133.61         & 81.74          & 1121           & 1457.02        & 1818           & 2146.12        & 4641.50        & 0.46           &  7200.31      \\\\\n",
       "\t733 & 733            & 02.03.15       & 05:48:25       & 0:11:59.397000 & 43.37862       & 119.27         & 138.27         & 69.26          & 1102           & 1383.17        & 1797           & 2290.65        & 4070.99        & 0.56           &  6675.54      \\\\\n",
       "\t734 & 734            & 01.03.15       & 06:02:26       & 0:11:46.702000 & 44.51402       & 112.56         & 152.66         & 66.26          &  882           & 1347.89        & 1681           & 2204.38        & 3350.07        & 0.66           &  5677.75      \\\\\n",
       "\t735 & 735            & 28.02.15       & 06:07:51       & 0:11:56.851000 & 41.57197       & 127.73         & 128.64         & 77.08          & 1142           & 1443.28        & 1819           & 1985.86        & 4545.80        & 0.44           &  6735.02      \\\\\n",
       "\t736 & 736            & 27.02.15       & 05:47:55       & 0:10:33.921000 & 44.97313       & 123.37         & 141.73         & 71.43          &  949           & 1334.13        & 1679           & 1675.04        & 4225.11        & 0.40           &  6203.20      \\\\\n",
       "\t737 & 737            & 26.02.15       & 05:23:53       & 0:12:11.591000 & 42.61031       & 150.28         & 150.45         & 79.57          & 1030           & 1408.11        & 1858           & 1550.89        & 5281.51        & 0.29           &  7094.40      \\\\\n",
       "\t738 & 738            & 25.02.15       & 05:45:59       & 0:11:20.961000 & 42.58460       & 121.18         & 135.21         & 73.71          & 1107           & 1408.96        & 1806           & 1545.52        & 4068.66        & 0.38           &  5961.24      \\\\\n",
       "\t739 & 739            & 23.02.15       & 07:36:30       & 0:12:12.876000 & 51.98091       &  72.18         &  73.20         & 55.10          &  944           & 1154.27        & 1436           & 1320.89        & 1068.71        & 1.24           &  2525.71      \\\\\n",
       "\t740 & 740            & 17.02.15       & 10:32:27       & 0:23:55.177000 & 53.93258       &  67.88         & 144.77         & 40.60          &  635           & 1112.50        & 1542           & 4877.74        & 1303.45        & 3.74           &  7027.42      \\\\\n",
       "\\end{tabular}\n"
      ],
      "text/markdown": [
       "\n",
       "| <!--/--> | ID | Tag | Start | Dauer | Avg..HR | RMSSD | SDNN | pNN50 | RRmin | RRmean | RRmax | LF | HF | LF.HF | Total | \n",
       "|---|---|---|---|---|---|---|---|---|---|---|---|---|---|---|---|---|---|---|---|---|---|---|---|---|---|---|---|---|---|---|---|---|---|---|---|---|---|---|---|---|---|---|---|---|---|---|---|---|---|---|---|---|---|---|---|---|---|---|---|---|\n",
       "| 1 |  1             | 17.03.17       | 06:08:55       | 0:08:57        | 42.61727       | 130.33         | 116.80         | 58.42          | 1117           | 1407.88        | 1758           | 4537.05        | 1786.91        | 2.54           |  6489.09       | \n",
       "| 2 |  2             | 16.03.17       | 06:09:06       | 0:09:59        | 44.02571       | 126.81         | 148.24         | 70.94          |  979           | 1362.84        | 1755           | 5277.45        | 3067.23        | 1.72           |  8999.88       | \n",
       "| 3 |  3             | 15.03.17       | 06:10:05       | 0:10:00        | 41.56161       | 172.43         | 150.37         | 81.16          | 1018           | 1443.64        | 1805           | 7591.26        | 7359.64        | 1.03           | 15269.42       | \n",
       "| 4 |  4             | 14.03.17       | 06:10:08       | 0:10:00        | 42.94211       | 170.64         | 191.75         | 76.64          | 1025           | 1397.23        | 1974           | 5687.76        | 8554.06        | 0.66           | 14614.74       | \n",
       "| 5 |  5             | 13.03.17       | 06:25:49       | 0:10:00        | 42.98795       | 139.66         | 165.57         | 76.17          | 1012           | 1395.74        | 1742           | 4188.03        | 4258.05        | 0.98           |  8746.70       | \n",
       "| 6 |  6             | 12.03.17       | 07:02:51       | 0:09:10        | 43.66749       | 136.07         | 174.51         | 68.59          |  924           | 1374.02        | 1832           | 3868.90        | 6005.90        | 0.64           |  9815.63       | \n",
       "| 7 |  7             | 11.03.17       | 07:18:35       | 0:10:00        | 52.59098       |  87.90         | 144.11         | 43.30          |  833           | 1140.88        | 1610           | 3321.07        | 1919.35        | 1.73           |  5429.36       | \n",
       "| 8 |  8             | 10.03.17       | 06:09:35       | 0:08:03        | 45.56397       | 131.17         | 136.42         | 74.93          | 1016           | 1316.83        | 1707           | 3568.70        | 5131.23        | 0.70           |  9418.67       | \n",
       "| 9 |  9             | 09.03.17       | 06:08:14       | 0:08:08        | 46.89918       | 129.88         | 123.51         | 73.35          | 1009           | 1279.34        | 1712           | 1566.03        | 4754.87        | 0.33           |  6479.18       | \n",
       "| 10 | 10             | 08.03.17       | 06:08:40       | 0:10:00        | 47.21695       | 111.50         | 112.73         | 68.80          |  996           | 1270.73        | 1765           | 2786.72        | 3383.95        | 0.82           |  6371.16       | \n",
       "| 11 | 11             | 07.03.17       | 06:08:26       | 0:09:23        | 41.90793       | 146.30         | 143.71         | 77.81          | 1067           | 1431.71        | 1856           | 2994.40        | 8161.99        | 0.37           | 12065.35       | \n",
       "| 12 | 12             | 06.03.17       | 06:07:59       | 0:07:03        | 42.75423       | 117.84         | 118.23         | 78.60          | 1041           | 1403.37        | 1690           | 2408.24        | 3551.37        | 0.68           |  6101.63       | \n",
       "| 13 | 13             | 05.03.17       | 06:52:00       | 0:09:58        | 44.64452       | 152.51         | 133.94         | 78.73          | 1046           | 1343.95        | 1720           | 2334.18        | 8654.62        | 0.27           | 11198.06       | \n",
       "| 14 | 14             | 04.03.17       | 05:52:38       | 0:10:00        | 48.38319       |  78.90         | 114.07         | 44.49          |  964           | 1240.10        | 1587           | 1526.65        | 1529.00        | 1.00           |  3180.57       | \n",
       "| 15 | 15             | 03.03.17       | 06:45:13       | 0:09:59        | 45.88910       | 133.52         | 145.30         | 64.40          | 1041           | 1307.50        | 1683           | 3409.60        | 4222.81        | 0.81           |  8173.64       | \n",
       "| 16 | 16             | 02.03.17       | 07:02:22       | 0:10:00        | 44.25170       | 130.67         | 165.88         | 69.32          |  921           | 1355.88        | 1810           | 3668.14        | 4087.01        | 0.90           |  7889.74       | \n",
       "| 17 | 17             | 01.03.17       | 07:00:27       | 0:09:59        | 47.80534       |  89.98         | 135.91         | 48.52          |  916           | 1255.09        | 1642           | 2673.41        | 2033.91        | 1.31           |  5159.29       | \n",
       "| 18 | 18             | 28.02.17       | 06:48:48       | 0:08:24        | 47.08837       |  92.96         |  99.85         | 59.29          |  942           | 1274.20        | 1570           | 1176.81        | 2014.38        | 0.58           |  3358.06       | \n",
       "| 19 | 19             | 27.02.17       | 07:00:15       | 0:10:00        | 47.28729       |  97.50         | 114.92         | 58.55          |  902           | 1268.84        | 1574           | 3849.60        | 2341.98        | 1.64           |  6409.59       | \n",
       "| 20 | 20             | 26.02.17       | 06:57:26       | 0:07:46        | 50.02877       |  90.45         | 125.08         | 51.04          |  852           | 1199.31        | 1595           | 2377.07        | 2283.17        | 1.04           |  5203.01       | \n",
       "| 21 | 21             | 23.02.17       | 06:19:37       | 0:11:18        | 48.24974       | 107.69         | 117.24         | 66.73          |  914           | 1243.53        | 1668           | 1713.99        | 3206.52        | 0.53           |  5036.61       | \n",
       "| 22 | 22             | 22.02.17       | 06:19:21       | 0:08:41        | 48.03420       | 107.12         | 100.67         | 68.84          |  991           | 1249.11        | 1552           | 1401.56        | 2967.97        | 0.47           |  4478.32       | \n",
       "| 23 | 23             | 21.02.17       | 06:20:47       | 0:09:59        | 48.26061       | 121.91         | 152.56         | 65.97          |  909           | 1243.25        | 1669           | 2506.26        | 5054.34        | 0.50           |  7984.75       | \n",
       "| 24 | 24             | 20.02.17       | 06:23:45       | 0:09:59        | 45.46040       | 124.66         | 149.46         | 70.51          | 1051           | 1319.83        | 1736           | 3610.71        | 4228.82        | 0.85           |  8062.01       | \n",
       "| 25 | 25             | 19.02.17       | 07:00:20       | 0:10:01        | 48.23578       | 139.24         | 180.27         | 64.38          |  866           | 1243.89        | 1780           | 2989.22        | 4172.86        | 0.72           |  7412.32       | \n",
       "| 26 | 26             | 18.02.17       | 06:58:40       | 0:07:34.283000 | 47.67088       | 125.53         | 135.14         | 71.97          |  989           | 1258.63        | 1665           | 2935.89        | 5595.49        | 0.52           |  8606.81       | \n",
       "| 27 | 27             | 17.02.17       | 06:14:33       | 0:09:27        | 50.70480       |  90.99         | 127.41         | 58.40          |  954           | 1183.32        | 1582           | 2220.76        | 2726.34        | 0.81           |  5252.79       | \n",
       "| 28 | 28             | 16.02.17       | 06:11:32       | 0:10:00        | 43.97505       | 143.49         | 165.77         | 75.29          |  908           | 1364.41        | 1733           | 6124.89        | 4989.64        | 1.23           | 11553.25       | \n",
       "| 29 | 29             | 15.02.17       | 06:12:47       | 0:08:45        | 48.00154       | 115.11         | 132.14         | 69.23          |  992           | 1249.96        | 1618           | 2496.55        | 3314.79        | 0.75           |  6020.52       | \n",
       "| 30 | 30             | 14.02.17       | 06:13:46       | 0:09:59        | 43.26788       | 136.65         | 149.80         | 76.51          | 1046           | 1386.71        | 1795           | 2845.94        | 4856.08        | 0.59           |  7893.74       | \n",
       "| ... | ... | ... | ... | ... | ... | ... | ... | ... | ... | ... | ... | ... | ... | ... | ... | \n",
       "| 711 | 711            | 25.03.15       | 05:36:51       | 0:11:47.568000 | 46.35603       | 119.95         | 141.81         | 73.06          | 1030           | 1294.33        | 1708           | 1227.65        | 3593.14        | 0.34           |  4924.54       | \n",
       "| 712 | 712            | 24.03.15       | 05:37:39       | 0:11:18.448000 | 44.24877       | 144.14         | 152.80         | 74.54          | 1068           | 1355.97        | 1826           | 3297.68        | 7344.01        | 0.45           | 10942.59       | \n",
       "| 713 | 713            | 23.03.15       | 05:38:49       | 0:11:48.129000 | 45.85158       | 116.85         | 139.30         | 70.70          |  991           | 1308.57        | 1742           | 2093.66        | 3927.81        | 0.53           |  6345.70       | \n",
       "| 714 | 714            | 22.03.15       | 05:51:15       | 0:11:31.100000 | 44.50444       | 132.26         | 154.15         | 75.10          |  940           | 1348.18        | 1783           | 1417.02        | 5527.80        | 0.26           |  7153.09       | \n",
       "| 715 | 715            | 21.03.15       | 06:15:04       | 0:10:37.060000 | 44.16669       | 118.45         | 137.57         | 70.37          | 1032           | 1358.49        | 1770           | 1519.18        | 3606.36        | 0.42           |  5212.82       | \n",
       "| 716 | 716            | 20.03.15       | 05:38:40       | 0:10:53.621000 | 46.56361       | 130.88         | 128.26         | 73.44          |  900           | 1288.56        | 1615           | 1864.54        | 4707.20        | 0.40           |  6557.90       | \n",
       "| 717 | 717            | 19.03.15       | 05:19:03       | 0:11:15.181000 | 41.87429       | 152.99         | 176.17         | 74.56          | 1033           | 1432.86        | 1857           | 5431.93        | 6210.25        | 0.87           | 11864.89       | \n",
       "| 718 | 718            | 18.03.15       | 05:19:49       | 0:11:13.203000 | 45.02983       | 131.90         | 141.77         | 72.95          | 1010           | 1332.45        | 1755           | 1707.47        | 4465.00        | 0.38           |  6298.51       | \n",
       "| 719 | 719            | 17.03.15       | 05:30:57       | 0:11:19.368000 | 44.07098       | 131.34         | 164.14         | 76.37          |  955           | 1361.44        | 1856           | 2057.92        | 4719.11        | 0.44           |  7021.30       | \n",
       "| 720 | 720            | 16.03.15       | 05:37:09       | 0:11:30.609000 | 44.95897       | 135.68         | 167.68         | 73.72          | 1008           | 1334.55        | 1805           | 2412.72        | 5104.43        | 0.47           |  7687.21       | \n",
       "| 721 | 721            | 14.03.15       | 04:28:07       | 0:06:52.783000 | 43.81705       | 156.84         | 125.00         | 80.07          | 1129           | 1369.33        | 1678           | 1257.77        | 5127.58        | 0.25           |  6494.61       | \n",
       "| 722 | 722            | 13.03.15       | 05:34:23       | 0:11:19.802000 | 48.38749       | 122.62         | 135.24         | 67.87          |  969           | 1239.99        | 1704           | 2496.56        | 4388.07        | 0.57           |  7775.24       | \n",
       "| 723 | 723            | 12.03.15       | 05:20:35       | 0:12:00.715000 | 41.41844       | 180.92         | 172.04         | 82.64          | 1044           | 1448.63        | 1877           | 4572.24        | 7468.95        | 0.61           | 12869.39       | \n",
       "| 724 | 724            | 11.03.15       | 05:04:43       | 0:11:13.543000 | 43.14529       | 149.06         | 148.66         | 78.74          |  996           | 1390.65        | 1821           | 2212.89        | 5063.82        | 0.44           |  7315.04       | \n",
       "| 725 | 725            | 10.03.15       | 05:40:00       | 0:11:43.313000 | 44.15368       | 136.87         | 150.86         | 75.75          |  700           | 1358.89        | 1828           | 2349.43        | 4389.56        | 0.54           |  7203.95       | \n",
       "| 726 | 726            | 09.03.15       | 05:36:21       | 0:11:08.437000 | 45.94673       | 121.37         | 154.40         | 73.55          |  950           | 1305.86        | 1734           | 3109.55        | 3868.96        | 0.80           |  7529.92       | \n",
       "| 727 | 727            | 08.03.15       | 05:55:07       | 0:12:19.157000 | 48.03497       | 104.84         | 124.34         | 65.92          |  942           | 1249.09        | 1668           | 2304.09        | 3076.76        | 0.75           |  5584.36       | \n",
       "| 728 | 728            | 07.03.15       | 06:31:53       | 0:10:17.978000 | 51.09557       |  91.33         | 114.22         | 55.13          |  917           | 1174.27        | 1510           | 1188.05        | 2340.83        | 0.51           |  3991.14       | \n",
       "| 729 | 729            | 06.03.15       | 05:40:10       | 0:11:43.604000 | 47.20767       | 116.17         | 158.73         | 69.53          |  955           | 1270.98        | 1809           | 2928.97        | 4345.07        | 0.67           |  7945.75       | \n",
       "| 730 | 730            | 05.03.15       | 05:21:43       | 0:11:27.146000 | 47.91950       | 117.11         | 146.12         | 66.92          |  940           | 1252.10        | 1760           | 1810.37        | 3637.34        | 0.50           |  5690.73       | \n",
       "| 731 | 731            | 04.03.15       | 05:37:31       | 0:11:19.446000 | 42.93504       | 130.41         | 147.51         | 74.74          | 1130           | 1397.46        | 1907           | 2032.91        | 4799.50        | 0.42           |  7119.20       | \n",
       "| 732 | 732            | 03.03.15       | 05:49:08       | 0:11:15.186000 | 41.17994       | 142.60         | 133.61         | 81.74          | 1121           | 1457.02        | 1818           | 2146.12        | 4641.50        | 0.46           |  7200.31       | \n",
       "| 733 | 733            | 02.03.15       | 05:48:25       | 0:11:59.397000 | 43.37862       | 119.27         | 138.27         | 69.26          | 1102           | 1383.17        | 1797           | 2290.65        | 4070.99        | 0.56           |  6675.54       | \n",
       "| 734 | 734            | 01.03.15       | 06:02:26       | 0:11:46.702000 | 44.51402       | 112.56         | 152.66         | 66.26          |  882           | 1347.89        | 1681           | 2204.38        | 3350.07        | 0.66           |  5677.75       | \n",
       "| 735 | 735            | 28.02.15       | 06:07:51       | 0:11:56.851000 | 41.57197       | 127.73         | 128.64         | 77.08          | 1142           | 1443.28        | 1819           | 1985.86        | 4545.80        | 0.44           |  6735.02       | \n",
       "| 736 | 736            | 27.02.15       | 05:47:55       | 0:10:33.921000 | 44.97313       | 123.37         | 141.73         | 71.43          |  949           | 1334.13        | 1679           | 1675.04        | 4225.11        | 0.40           |  6203.20       | \n",
       "| 737 | 737            | 26.02.15       | 05:23:53       | 0:12:11.591000 | 42.61031       | 150.28         | 150.45         | 79.57          | 1030           | 1408.11        | 1858           | 1550.89        | 5281.51        | 0.29           |  7094.40       | \n",
       "| 738 | 738            | 25.02.15       | 05:45:59       | 0:11:20.961000 | 42.58460       | 121.18         | 135.21         | 73.71          | 1107           | 1408.96        | 1806           | 1545.52        | 4068.66        | 0.38           |  5961.24       | \n",
       "| 739 | 739            | 23.02.15       | 07:36:30       | 0:12:12.876000 | 51.98091       |  72.18         |  73.20         | 55.10          |  944           | 1154.27        | 1436           | 1320.89        | 1068.71        | 1.24           |  2525.71       | \n",
       "| 740 | 740            | 17.02.15       | 10:32:27       | 0:23:55.177000 | 53.93258       |  67.88         | 144.77         | 40.60          |  635           | 1112.50        | 1542           | 4877.74        | 1303.45        | 3.74           |  7027.42       | \n",
       "\n",
       "\n"
      ],
      "text/plain": [
       "    ID  Tag      Start    Dauer          Avg..HR  RMSSD  SDNN   pNN50 RRmin\n",
       "1    1  17.03.17 06:08:55 0:08:57        42.61727 130.33 116.80 58.42 1117 \n",
       "2    2  16.03.17 06:09:06 0:09:59        44.02571 126.81 148.24 70.94  979 \n",
       "3    3  15.03.17 06:10:05 0:10:00        41.56161 172.43 150.37 81.16 1018 \n",
       "4    4  14.03.17 06:10:08 0:10:00        42.94211 170.64 191.75 76.64 1025 \n",
       "5    5  13.03.17 06:25:49 0:10:00        42.98795 139.66 165.57 76.17 1012 \n",
       "6    6  12.03.17 07:02:51 0:09:10        43.66749 136.07 174.51 68.59  924 \n",
       "7    7  11.03.17 07:18:35 0:10:00        52.59098  87.90 144.11 43.30  833 \n",
       "8    8  10.03.17 06:09:35 0:08:03        45.56397 131.17 136.42 74.93 1016 \n",
       "9    9  09.03.17 06:08:14 0:08:08        46.89918 129.88 123.51 73.35 1009 \n",
       "10  10  08.03.17 06:08:40 0:10:00        47.21695 111.50 112.73 68.80  996 \n",
       "11  11  07.03.17 06:08:26 0:09:23        41.90793 146.30 143.71 77.81 1067 \n",
       "12  12  06.03.17 06:07:59 0:07:03        42.75423 117.84 118.23 78.60 1041 \n",
       "13  13  05.03.17 06:52:00 0:09:58        44.64452 152.51 133.94 78.73 1046 \n",
       "14  14  04.03.17 05:52:38 0:10:00        48.38319  78.90 114.07 44.49  964 \n",
       "15  15  03.03.17 06:45:13 0:09:59        45.88910 133.52 145.30 64.40 1041 \n",
       "16  16  02.03.17 07:02:22 0:10:00        44.25170 130.67 165.88 69.32  921 \n",
       "17  17  01.03.17 07:00:27 0:09:59        47.80534  89.98 135.91 48.52  916 \n",
       "18  18  28.02.17 06:48:48 0:08:24        47.08837  92.96  99.85 59.29  942 \n",
       "19  19  27.02.17 07:00:15 0:10:00        47.28729  97.50 114.92 58.55  902 \n",
       "20  20  26.02.17 06:57:26 0:07:46        50.02877  90.45 125.08 51.04  852 \n",
       "21  21  23.02.17 06:19:37 0:11:18        48.24974 107.69 117.24 66.73  914 \n",
       "22  22  22.02.17 06:19:21 0:08:41        48.03420 107.12 100.67 68.84  991 \n",
       "23  23  21.02.17 06:20:47 0:09:59        48.26061 121.91 152.56 65.97  909 \n",
       "24  24  20.02.17 06:23:45 0:09:59        45.46040 124.66 149.46 70.51 1051 \n",
       "25  25  19.02.17 07:00:20 0:10:01        48.23578 139.24 180.27 64.38  866 \n",
       "26  26  18.02.17 06:58:40 0:07:34.283000 47.67088 125.53 135.14 71.97  989 \n",
       "27  27  17.02.17 06:14:33 0:09:27        50.70480  90.99 127.41 58.40  954 \n",
       "28  28  16.02.17 06:11:32 0:10:00        43.97505 143.49 165.77 75.29  908 \n",
       "29  29  15.02.17 06:12:47 0:08:45        48.00154 115.11 132.14 69.23  992 \n",
       "30  30  14.02.17 06:13:46 0:09:59        43.26788 136.65 149.80 76.51 1046 \n",
       "... ... ...      ...      ...            ...      ...    ...    ...   ...  \n",
       "711 711 25.03.15 05:36:51 0:11:47.568000 46.35603 119.95 141.81 73.06 1030 \n",
       "712 712 24.03.15 05:37:39 0:11:18.448000 44.24877 144.14 152.80 74.54 1068 \n",
       "713 713 23.03.15 05:38:49 0:11:48.129000 45.85158 116.85 139.30 70.70  991 \n",
       "714 714 22.03.15 05:51:15 0:11:31.100000 44.50444 132.26 154.15 75.10  940 \n",
       "715 715 21.03.15 06:15:04 0:10:37.060000 44.16669 118.45 137.57 70.37 1032 \n",
       "716 716 20.03.15 05:38:40 0:10:53.621000 46.56361 130.88 128.26 73.44  900 \n",
       "717 717 19.03.15 05:19:03 0:11:15.181000 41.87429 152.99 176.17 74.56 1033 \n",
       "718 718 18.03.15 05:19:49 0:11:13.203000 45.02983 131.90 141.77 72.95 1010 \n",
       "719 719 17.03.15 05:30:57 0:11:19.368000 44.07098 131.34 164.14 76.37  955 \n",
       "720 720 16.03.15 05:37:09 0:11:30.609000 44.95897 135.68 167.68 73.72 1008 \n",
       "721 721 14.03.15 04:28:07 0:06:52.783000 43.81705 156.84 125.00 80.07 1129 \n",
       "722 722 13.03.15 05:34:23 0:11:19.802000 48.38749 122.62 135.24 67.87  969 \n",
       "723 723 12.03.15 05:20:35 0:12:00.715000 41.41844 180.92 172.04 82.64 1044 \n",
       "724 724 11.03.15 05:04:43 0:11:13.543000 43.14529 149.06 148.66 78.74  996 \n",
       "725 725 10.03.15 05:40:00 0:11:43.313000 44.15368 136.87 150.86 75.75  700 \n",
       "726 726 09.03.15 05:36:21 0:11:08.437000 45.94673 121.37 154.40 73.55  950 \n",
       "727 727 08.03.15 05:55:07 0:12:19.157000 48.03497 104.84 124.34 65.92  942 \n",
       "728 728 07.03.15 06:31:53 0:10:17.978000 51.09557  91.33 114.22 55.13  917 \n",
       "729 729 06.03.15 05:40:10 0:11:43.604000 47.20767 116.17 158.73 69.53  955 \n",
       "730 730 05.03.15 05:21:43 0:11:27.146000 47.91950 117.11 146.12 66.92  940 \n",
       "731 731 04.03.15 05:37:31 0:11:19.446000 42.93504 130.41 147.51 74.74 1130 \n",
       "732 732 03.03.15 05:49:08 0:11:15.186000 41.17994 142.60 133.61 81.74 1121 \n",
       "733 733 02.03.15 05:48:25 0:11:59.397000 43.37862 119.27 138.27 69.26 1102 \n",
       "734 734 01.03.15 06:02:26 0:11:46.702000 44.51402 112.56 152.66 66.26  882 \n",
       "735 735 28.02.15 06:07:51 0:11:56.851000 41.57197 127.73 128.64 77.08 1142 \n",
       "736 736 27.02.15 05:47:55 0:10:33.921000 44.97313 123.37 141.73 71.43  949 \n",
       "737 737 26.02.15 05:23:53 0:12:11.591000 42.61031 150.28 150.45 79.57 1030 \n",
       "738 738 25.02.15 05:45:59 0:11:20.961000 42.58460 121.18 135.21 73.71 1107 \n",
       "739 739 23.02.15 07:36:30 0:12:12.876000 51.98091  72.18  73.20 55.10  944 \n",
       "740 740 17.02.15 10:32:27 0:23:55.177000 53.93258  67.88 144.77 40.60  635 \n",
       "    RRmean  RRmax LF      HF      LF.HF Total   \n",
       "1   1407.88 1758  4537.05 1786.91 2.54   6489.09\n",
       "2   1362.84 1755  5277.45 3067.23 1.72   8999.88\n",
       "3   1443.64 1805  7591.26 7359.64 1.03  15269.42\n",
       "4   1397.23 1974  5687.76 8554.06 0.66  14614.74\n",
       "5   1395.74 1742  4188.03 4258.05 0.98   8746.70\n",
       "6   1374.02 1832  3868.90 6005.90 0.64   9815.63\n",
       "7   1140.88 1610  3321.07 1919.35 1.73   5429.36\n",
       "8   1316.83 1707  3568.70 5131.23 0.70   9418.67\n",
       "9   1279.34 1712  1566.03 4754.87 0.33   6479.18\n",
       "10  1270.73 1765  2786.72 3383.95 0.82   6371.16\n",
       "11  1431.71 1856  2994.40 8161.99 0.37  12065.35\n",
       "12  1403.37 1690  2408.24 3551.37 0.68   6101.63\n",
       "13  1343.95 1720  2334.18 8654.62 0.27  11198.06\n",
       "14  1240.10 1587  1526.65 1529.00 1.00   3180.57\n",
       "15  1307.50 1683  3409.60 4222.81 0.81   8173.64\n",
       "16  1355.88 1810  3668.14 4087.01 0.90   7889.74\n",
       "17  1255.09 1642  2673.41 2033.91 1.31   5159.29\n",
       "18  1274.20 1570  1176.81 2014.38 0.58   3358.06\n",
       "19  1268.84 1574  3849.60 2341.98 1.64   6409.59\n",
       "20  1199.31 1595  2377.07 2283.17 1.04   5203.01\n",
       "21  1243.53 1668  1713.99 3206.52 0.53   5036.61\n",
       "22  1249.11 1552  1401.56 2967.97 0.47   4478.32\n",
       "23  1243.25 1669  2506.26 5054.34 0.50   7984.75\n",
       "24  1319.83 1736  3610.71 4228.82 0.85   8062.01\n",
       "25  1243.89 1780  2989.22 4172.86 0.72   7412.32\n",
       "26  1258.63 1665  2935.89 5595.49 0.52   8606.81\n",
       "27  1183.32 1582  2220.76 2726.34 0.81   5252.79\n",
       "28  1364.41 1733  6124.89 4989.64 1.23  11553.25\n",
       "29  1249.96 1618  2496.55 3314.79 0.75   6020.52\n",
       "30  1386.71 1795  2845.94 4856.08 0.59   7893.74\n",
       "... ...     ...   ...     ...     ...   ...     \n",
       "711 1294.33 1708  1227.65 3593.14 0.34   4924.54\n",
       "712 1355.97 1826  3297.68 7344.01 0.45  10942.59\n",
       "713 1308.57 1742  2093.66 3927.81 0.53   6345.70\n",
       "714 1348.18 1783  1417.02 5527.80 0.26   7153.09\n",
       "715 1358.49 1770  1519.18 3606.36 0.42   5212.82\n",
       "716 1288.56 1615  1864.54 4707.20 0.40   6557.90\n",
       "717 1432.86 1857  5431.93 6210.25 0.87  11864.89\n",
       "718 1332.45 1755  1707.47 4465.00 0.38   6298.51\n",
       "719 1361.44 1856  2057.92 4719.11 0.44   7021.30\n",
       "720 1334.55 1805  2412.72 5104.43 0.47   7687.21\n",
       "721 1369.33 1678  1257.77 5127.58 0.25   6494.61\n",
       "722 1239.99 1704  2496.56 4388.07 0.57   7775.24\n",
       "723 1448.63 1877  4572.24 7468.95 0.61  12869.39\n",
       "724 1390.65 1821  2212.89 5063.82 0.44   7315.04\n",
       "725 1358.89 1828  2349.43 4389.56 0.54   7203.95\n",
       "726 1305.86 1734  3109.55 3868.96 0.80   7529.92\n",
       "727 1249.09 1668  2304.09 3076.76 0.75   5584.36\n",
       "728 1174.27 1510  1188.05 2340.83 0.51   3991.14\n",
       "729 1270.98 1809  2928.97 4345.07 0.67   7945.75\n",
       "730 1252.10 1760  1810.37 3637.34 0.50   5690.73\n",
       "731 1397.46 1907  2032.91 4799.50 0.42   7119.20\n",
       "732 1457.02 1818  2146.12 4641.50 0.46   7200.31\n",
       "733 1383.17 1797  2290.65 4070.99 0.56   6675.54\n",
       "734 1347.89 1681  2204.38 3350.07 0.66   5677.75\n",
       "735 1443.28 1819  1985.86 4545.80 0.44   6735.02\n",
       "736 1334.13 1679  1675.04 4225.11 0.40   6203.20\n",
       "737 1408.11 1858  1550.89 5281.51 0.29   7094.40\n",
       "738 1408.96 1806  1545.52 4068.66 0.38   5961.24\n",
       "739 1154.27 1436  1320.89 1068.71 1.24   2525.71\n",
       "740 1112.50 1542  4877.74 1303.45 3.74   7027.42"
      ]
     },
     "metadata": {},
     "output_type": "display_data"
    }
   ],
   "source": [
    "#hrvData <- hrvData[complete.cases(hrvData),]\n",
    "hrvData <- na.omit(hrvData)\n",
    "dim(hrvData)\n",
    "hrvData"
   ]
  },
  {
   "cell_type": "markdown",
   "metadata": {
    "deletable": true,
    "editable": true
   },
   "source": [
    "Functions, which are applied on data with missing values, return *NA*, as shown in the following two lines:"
   ]
  },
  {
   "cell_type": "code",
   "execution_count": 10,
   "metadata": {
    "ExecuteTime": {
     "end_time": "2017-03-23T15:08:28.442239",
     "start_time": "2017-03-23T14:08:27.642Z"
    },
    "collapsed": false,
    "deletable": true,
    "editable": true
   },
   "outputs": [
    {
     "data": {
      "text/plain": [
       "[1] NA"
      ]
     },
     "metadata": {},
     "output_type": "display_data"
    },
    {
     "data": {
      "text/plain": [
       "[1] NA"
      ]
     },
     "metadata": {},
     "output_type": "display_data"
    }
   ],
   "source": [
    "sum(age)\n",
    "mean(age)"
   ]
  },
  {
   "cell_type": "markdown",
   "metadata": {
    "deletable": true,
    "editable": true
   },
   "source": [
    "However, nearly all numeric functions have the parameter *na.rm*. If this parameter is set to *TRUE*, all *NA*-elements are ignored in calculating the function, e.g."
   ]
  },
  {
   "cell_type": "code",
   "execution_count": 11,
   "metadata": {
    "ExecuteTime": {
     "end_time": "2017-03-23T15:08:28.504193",
     "start_time": "2017-03-23T14:08:27.645Z"
    },
    "collapsed": false,
    "deletable": true,
    "editable": true
   },
   "outputs": [
    {
     "data": {
      "text/html": [
       "73"
      ],
      "text/latex": [
       "73"
      ],
      "text/markdown": [
       "73"
      ],
      "text/plain": [
       "[1] 73"
      ]
     },
     "metadata": {},
     "output_type": "display_data"
    },
    {
     "data": {
      "text/html": [
       "24.3333333333333"
      ],
      "text/latex": [
       "24.3333333333333"
      ],
      "text/markdown": [
       "24.3333333333333"
      ],
      "text/plain": [
       "[1] 24.33333"
      ]
     },
     "metadata": {},
     "output_type": "display_data"
    }
   ],
   "source": [
    "sum(age,na.rm=TRUE)\n",
    "mean(age,na.rm=TRUE)"
   ]
  },
  {
   "cell_type": "markdown",
   "metadata": {
    "deletable": true,
    "editable": true
   },
   "source": [
    "## Types and type conversion\n",
    "### Determine type of variables"
   ]
  },
  {
   "cell_type": "code",
   "execution_count": 12,
   "metadata": {
    "ExecuteTime": {
     "end_time": "2017-03-23T15:08:28.559252",
     "start_time": "2017-03-23T14:08:27.648Z"
    },
    "collapsed": false,
    "deletable": true,
    "editable": true
   },
   "outputs": [
    {
     "data": {
      "text/html": [
       "'data.frame'"
      ],
      "text/latex": [
       "'data.frame'"
      ],
      "text/markdown": [
       "'data.frame'"
      ],
      "text/plain": [
       "[1] \"data.frame\""
      ]
     },
     "metadata": {},
     "output_type": "display_data"
    }
   ],
   "source": [
    "class(hrvData)"
   ]
  },
  {
   "cell_type": "markdown",
   "metadata": {
    "deletable": true,
    "editable": true
   },
   "source": [
    "In order to check for a specific variable-type and to convert into a variable type the following functions can be applied:\n",
    "\n",
    "|      Check      |     Convert     |\n",
    "|:---------------:|:---------------:|\n",
    "| is.numeric()    | as.numeric()    |\n",
    "| is.character()  | as.character()  |\n",
    "| is.vector()     | as.vector()     |\n",
    "| is.matrix()     | as.matrix()     |\n",
    "| is.data.frame() | as.data.frame() |\n",
    "| is.factor()     | as.factor()     |\n",
    "| is.logical()    | as.logical()    |"
   ]
  },
  {
   "cell_type": "code",
   "execution_count": 13,
   "metadata": {
    "ExecuteTime": {
     "end_time": "2017-03-23T15:08:28.617756",
     "start_time": "2017-03-23T14:08:27.652Z"
    },
    "collapsed": false,
    "deletable": true,
    "editable": true
   },
   "outputs": [
    {
     "data": {
      "text/html": [
       "TRUE"
      ],
      "text/latex": [
       "TRUE"
      ],
      "text/markdown": [
       "TRUE"
      ],
      "text/plain": [
       "[1] TRUE"
      ]
     },
     "metadata": {},
     "output_type": "display_data"
    },
    {
     "data": {
      "text/html": [
       "TRUE"
      ],
      "text/latex": [
       "TRUE"
      ],
      "text/markdown": [
       "TRUE"
      ],
      "text/plain": [
       "[1] TRUE"
      ]
     },
     "metadata": {},
     "output_type": "display_data"
    },
    {
     "data": {
      "text/html": [
       "TRUE"
      ],
      "text/latex": [
       "TRUE"
      ],
      "text/markdown": [
       "TRUE"
      ],
      "text/plain": [
       "[1] TRUE"
      ]
     },
     "metadata": {},
     "output_type": "display_data"
    },
    {
     "data": {
      "text/html": [
       "FALSE"
      ],
      "text/latex": [
       "FALSE"
      ],
      "text/markdown": [
       "FALSE"
      ],
      "text/plain": [
       "[1] FALSE"
      ]
     },
     "metadata": {},
     "output_type": "display_data"
    }
   ],
   "source": [
    "is.data.frame(hrvData)\n",
    "is.numeric(hrvData$RMSSD)\n",
    "is.vector(hrvData$RMSSD)\n",
    "is.numeric(hrvData$Tag)"
   ]
  },
  {
   "cell_type": "code",
   "execution_count": 14,
   "metadata": {
    "ExecuteTime": {
     "end_time": "2017-03-23T15:08:28.667397",
     "start_time": "2017-03-23T14:08:27.657Z"
    },
    "collapsed": false,
    "deletable": true,
    "editable": true
   },
   "outputs": [
    {
     "data": {
      "text/html": [
       "<ol class=list-inline>\n",
       "\t<li>'ID'</li>\n",
       "\t<li>'Tag'</li>\n",
       "\t<li>'Start'</li>\n",
       "\t<li>'Dauer'</li>\n",
       "\t<li>'Avg..HR'</li>\n",
       "\t<li>'RMSSD'</li>\n",
       "\t<li>'SDNN'</li>\n",
       "\t<li>'pNN50'</li>\n",
       "\t<li>'RRmin'</li>\n",
       "\t<li>'RRmean'</li>\n",
       "\t<li>'RRmax'</li>\n",
       "\t<li>'LF'</li>\n",
       "\t<li>'HF'</li>\n",
       "\t<li>'LF.HF'</li>\n",
       "\t<li>'Total'</li>\n",
       "</ol>\n"
      ],
      "text/latex": [
       "\\begin{enumerate*}\n",
       "\\item 'ID'\n",
       "\\item 'Tag'\n",
       "\\item 'Start'\n",
       "\\item 'Dauer'\n",
       "\\item 'Avg..HR'\n",
       "\\item 'RMSSD'\n",
       "\\item 'SDNN'\n",
       "\\item 'pNN50'\n",
       "\\item 'RRmin'\n",
       "\\item 'RRmean'\n",
       "\\item 'RRmax'\n",
       "\\item 'LF'\n",
       "\\item 'HF'\n",
       "\\item 'LF.HF'\n",
       "\\item 'Total'\n",
       "\\end{enumerate*}\n"
      ],
      "text/markdown": [
       "1. 'ID'\n",
       "2. 'Tag'\n",
       "3. 'Start'\n",
       "4. 'Dauer'\n",
       "5. 'Avg..HR'\n",
       "6. 'RMSSD'\n",
       "7. 'SDNN'\n",
       "8. 'pNN50'\n",
       "9. 'RRmin'\n",
       "10. 'RRmean'\n",
       "11. 'RRmax'\n",
       "12. 'LF'\n",
       "13. 'HF'\n",
       "14. 'LF.HF'\n",
       "15. 'Total'\n",
       "\n",
       "\n"
      ],
      "text/plain": [
       " [1] \"ID\"      \"Tag\"     \"Start\"   \"Dauer\"   \"Avg..HR\" \"RMSSD\"   \"SDNN\"   \n",
       " [8] \"pNN50\"   \"RRmin\"   \"RRmean\"  \"RRmax\"   \"LF\"      \"HF\"      \"LF.HF\"  \n",
       "[15] \"Total\"  "
      ]
     },
     "metadata": {},
     "output_type": "display_data"
    },
    {
     "data": {
      "text/html": [
       "<dl class=dl-horizontal>\n",
       "\t<dt>ID</dt>\n",
       "\t\t<dd>'numeric'</dd>\n",
       "\t<dt>Tag</dt>\n",
       "\t\t<dd>'character'</dd>\n",
       "\t<dt>Start</dt>\n",
       "\t\t<dd>'character'</dd>\n",
       "\t<dt>Dauer</dt>\n",
       "\t\t<dd>'character'</dd>\n",
       "\t<dt>Avg..HR</dt>\n",
       "\t\t<dd>'numeric'</dd>\n",
       "\t<dt>RMSSD</dt>\n",
       "\t\t<dd>'numeric'</dd>\n",
       "\t<dt>SDNN</dt>\n",
       "\t\t<dd>'numeric'</dd>\n",
       "\t<dt>pNN50</dt>\n",
       "\t\t<dd>'numeric'</dd>\n",
       "\t<dt>RRmin</dt>\n",
       "\t\t<dd>'numeric'</dd>\n",
       "\t<dt>RRmean</dt>\n",
       "\t\t<dd>'numeric'</dd>\n",
       "\t<dt>RRmax</dt>\n",
       "\t\t<dd>'numeric'</dd>\n",
       "\t<dt>LF</dt>\n",
       "\t\t<dd>'numeric'</dd>\n",
       "\t<dt>HF</dt>\n",
       "\t\t<dd>'numeric'</dd>\n",
       "\t<dt>LF.HF</dt>\n",
       "\t\t<dd>'numeric'</dd>\n",
       "\t<dt>Total</dt>\n",
       "\t\t<dd>'numeric'</dd>\n",
       "</dl>\n"
      ],
      "text/latex": [
       "\\begin{description*}\n",
       "\\item[ID] 'numeric'\n",
       "\\item[Tag] 'character'\n",
       "\\item[Start] 'character'\n",
       "\\item[Dauer] 'character'\n",
       "\\item[Avg..HR] 'numeric'\n",
       "\\item[RMSSD] 'numeric'\n",
       "\\item[SDNN] 'numeric'\n",
       "\\item[pNN50] 'numeric'\n",
       "\\item[RRmin] 'numeric'\n",
       "\\item[RRmean] 'numeric'\n",
       "\\item[RRmax] 'numeric'\n",
       "\\item[LF] 'numeric'\n",
       "\\item[HF] 'numeric'\n",
       "\\item[LF.HF] 'numeric'\n",
       "\\item[Total] 'numeric'\n",
       "\\end{description*}\n"
      ],
      "text/markdown": [
       "ID\n",
       ":   'numeric'Tag\n",
       ":   'character'Start\n",
       ":   'character'Dauer\n",
       ":   'character'Avg..HR\n",
       ":   'numeric'RMSSD\n",
       ":   'numeric'SDNN\n",
       ":   'numeric'pNN50\n",
       ":   'numeric'RRmin\n",
       ":   'numeric'RRmean\n",
       ":   'numeric'RRmax\n",
       ":   'numeric'LF\n",
       ":   'numeric'HF\n",
       ":   'numeric'LF.HF\n",
       ":   'numeric'Total\n",
       ":   'numeric'\n",
       "\n"
      ],
      "text/plain": [
       "         ID         Tag       Start       Dauer     Avg..HR       RMSSD \n",
       "  \"numeric\" \"character\" \"character\" \"character\"   \"numeric\"   \"numeric\" \n",
       "       SDNN       pNN50       RRmin      RRmean       RRmax          LF \n",
       "  \"numeric\"   \"numeric\"   \"numeric\"   \"numeric\"   \"numeric\"   \"numeric\" \n",
       "         HF       LF.HF       Total \n",
       "  \"numeric\"   \"numeric\"   \"numeric\" "
      ]
     },
     "metadata": {},
     "output_type": "display_data"
    }
   ],
   "source": [
    "names(hrvData)\n",
    "rownames(hrvData) <- hrvData$ID\n",
    "sapply(hrvData,mode)"
   ]
  },
  {
   "cell_type": "markdown",
   "metadata": {
    "deletable": true,
    "editable": true
   },
   "source": [
    "### Date objects\n",
    "\n",
    "In R dates are typically entered as character strings. In this format no calculations can be performed on them. However, the string representation can be transformed into a numeric *Date*-representation by the function *as.Date(datestring,format)*. Here, datestring is the string representation of the date, and format specifies the format of the date in this string-representation. \n",
    "\n",
    "| Symbol | Meaning                        | Examples      |\n",
    "|--------|--------------------------------|---------------|\n",
    "| %d     | Day as number between 0 and 31 | 7,07,28       |\n",
    "| %a %A  | Weekday - abbreviated or not   | Mon, Monday   |\n",
    "| %m     | Month between 0 and 12         | 2,05,11       |\n",
    "| %b %B  | Month - abbreviated or not     | Feb, February |\n",
    "| %y %Y  | Year_ two-digit or four-digit  | 09, 2009      |"
   ]
  },
  {
   "cell_type": "code",
   "execution_count": 15,
   "metadata": {
    "ExecuteTime": {
     "end_time": "2017-03-23T15:08:28.789002",
     "start_time": "2017-03-23T14:08:27.661Z"
    },
    "collapsed": false,
    "deletable": true,
    "editable": true
   },
   "outputs": [
    {
     "data": {
      "text/html": [
       "'character'"
      ],
      "text/latex": [
       "'character'"
      ],
      "text/markdown": [
       "'character'"
      ],
      "text/plain": [
       "[1] \"character\""
      ]
     },
     "metadata": {},
     "output_type": "display_data"
    },
    {
     "data": {
      "text/html": [
       "'Date'"
      ],
      "text/latex": [
       "'Date'"
      ],
      "text/markdown": [
       "'Date'"
      ],
      "text/plain": [
       "[1] \"Date\""
      ]
     },
     "metadata": {},
     "output_type": "display_data"
    },
    {
     "name": "stdout",
     "output_type": "stream",
     "text": [
      "[1] \"2017-03-05\"\n"
     ]
    },
    {
     "data": {
      "text/html": [
       "'Date'"
      ],
      "text/latex": [
       "'Date'"
      ],
      "text/markdown": [
       "'Date'"
      ],
      "text/plain": [
       "[1] \"Date\""
      ]
     },
     "metadata": {},
     "output_type": "display_data"
    },
    {
     "name": "stdout",
     "output_type": "stream",
     "text": [
      "[1] \"2017-06-23\"\n"
     ]
    }
   ],
   "source": [
    "date1 <- c(\"5-03-2017\")\n",
    "class(date1)\n",
    "date1num <- as.Date(date1,\"%d-%m-%Y\")\n",
    "class(date1num)\n",
    "print(date1num)\n",
    "date2  <- c(\"17-Jun-23\")\n",
    "date2num  <- as.Date(date2,\"%y-%b-%d\")\n",
    "class(date2num)\n",
    "print(date2num)"
   ]
  },
  {
   "cell_type": "markdown",
   "metadata": {
    "deletable": true,
    "editable": true
   },
   "source": [
    "Determine current date and transformation from *Date*-object to character-string."
   ]
  },
  {
   "cell_type": "code",
   "execution_count": 16,
   "metadata": {
    "ExecuteTime": {
     "end_time": "2017-03-23T15:08:28.859928",
     "start_time": "2017-03-23T14:08:27.664Z"
    },
    "collapsed": false,
    "deletable": true,
    "editable": true
   },
   "outputs": [
    {
     "name": "stdout",
     "output_type": "stream",
     "text": [
      "[1] \"2017-03-31\"\n"
     ]
    },
    {
     "data": {
      "text/html": [
       "'Date'"
      ],
      "text/latex": [
       "'Date'"
      ],
      "text/markdown": [
       "'Date'"
      ],
      "text/plain": [
       "[1] \"Date\""
      ]
     },
     "metadata": {},
     "output_type": "display_data"
    },
    {
     "name": "stdout",
     "output_type": "stream",
     "text": [
      "[1] \"31.März 2017\"\n"
     ]
    },
    {
     "data": {
      "text/html": [
       "'character'"
      ],
      "text/latex": [
       "'character'"
      ],
      "text/markdown": [
       "'character'"
      ],
      "text/plain": [
       "[1] \"character\""
      ]
     },
     "metadata": {},
     "output_type": "display_data"
    },
    {
     "name": "stdout",
     "output_type": "stream",
     "text": [
      "[1] \"Freitag\"\n"
     ]
    }
   ],
   "source": [
    "now <- Sys.Date()\n",
    "print(now)\n",
    "class(now)\n",
    "nowStr=format(now,\"%d.%B %Y\")\n",
    "print(nowStr)\n",
    "class(nowStr)\n",
    "weekDay=format(now,\"%A\")\n",
    "print(weekDay)"
   ]
  },
  {
   "cell_type": "markdown",
   "metadata": {
    "deletable": true,
    "editable": true
   },
   "source": [
    "Internally, R saves *Date*-objects as numbers of days since *01.01.1970*, with negative values for earlier days. This implies that arithmetic operations such as subtraction can be applied on them:"
   ]
  },
  {
   "cell_type": "code",
   "execution_count": 17,
   "metadata": {
    "ExecuteTime": {
     "end_time": "2017-03-23T15:08:28.888953",
     "start_time": "2017-03-23T14:08:27.668Z"
    },
    "collapsed": false,
    "deletable": true,
    "editable": true
   },
   "outputs": [
    {
     "data": {
      "text/plain": [
       "Time difference of 110 days"
      ]
     },
     "metadata": {},
     "output_type": "display_data"
    }
   ],
   "source": [
    "datediff <- date2num-date1num\n",
    "datediff"
   ]
  },
  {
   "cell_type": "markdown",
   "metadata": {
    "deletable": true,
    "editable": true
   },
   "source": [
    "If the time-difference shall be calculated in other units than days, the *difftime()*-function can be applied as follows:"
   ]
  },
  {
   "cell_type": "code",
   "execution_count": 18,
   "metadata": {
    "ExecuteTime": {
     "end_time": "2017-03-23T15:08:28.922827",
     "start_time": "2017-03-23T14:08:27.671Z"
    },
    "collapsed": false,
    "deletable": true,
    "editable": true
   },
   "outputs": [
    {
     "data": {
      "text/plain": [
       "Time difference of 15.71429 weeks"
      ]
     },
     "metadata": {},
     "output_type": "display_data"
    }
   ],
   "source": [
    "difftime(date2num,date1num,units=\"weeks\")"
   ]
  },
  {
   "cell_type": "code",
   "execution_count": 19,
   "metadata": {
    "ExecuteTime": {
     "end_time": "2017-03-23T15:08:28.999995",
     "start_time": "2017-03-23T14:08:27.676Z"
    },
    "collapsed": false,
    "deletable": true,
    "editable": true
   },
   "outputs": [
    {
     "data": {
      "text/html": [
       "<dl class=dl-horizontal>\n",
       "\t<dt>ID</dt>\n",
       "\t\t<dd>'numeric'</dd>\n",
       "\t<dt>Tag</dt>\n",
       "\t\t<dd>'character'</dd>\n",
       "\t<dt>Start</dt>\n",
       "\t\t<dd>'character'</dd>\n",
       "\t<dt>Dauer</dt>\n",
       "\t\t<dd>'character'</dd>\n",
       "\t<dt>Avg..HR</dt>\n",
       "\t\t<dd>'numeric'</dd>\n",
       "\t<dt>RMSSD</dt>\n",
       "\t\t<dd>'numeric'</dd>\n",
       "\t<dt>SDNN</dt>\n",
       "\t\t<dd>'numeric'</dd>\n",
       "\t<dt>pNN50</dt>\n",
       "\t\t<dd>'numeric'</dd>\n",
       "\t<dt>RRmin</dt>\n",
       "\t\t<dd>'numeric'</dd>\n",
       "\t<dt>RRmean</dt>\n",
       "\t\t<dd>'numeric'</dd>\n",
       "\t<dt>RRmax</dt>\n",
       "\t\t<dd>'numeric'</dd>\n",
       "\t<dt>LF</dt>\n",
       "\t\t<dd>'numeric'</dd>\n",
       "\t<dt>HF</dt>\n",
       "\t\t<dd>'numeric'</dd>\n",
       "\t<dt>LF.HF</dt>\n",
       "\t\t<dd>'numeric'</dd>\n",
       "\t<dt>Total</dt>\n",
       "\t\t<dd>'numeric'</dd>\n",
       "</dl>\n"
      ],
      "text/latex": [
       "\\begin{description*}\n",
       "\\item[ID] 'numeric'\n",
       "\\item[Tag] 'character'\n",
       "\\item[Start] 'character'\n",
       "\\item[Dauer] 'character'\n",
       "\\item[Avg..HR] 'numeric'\n",
       "\\item[RMSSD] 'numeric'\n",
       "\\item[SDNN] 'numeric'\n",
       "\\item[pNN50] 'numeric'\n",
       "\\item[RRmin] 'numeric'\n",
       "\\item[RRmean] 'numeric'\n",
       "\\item[RRmax] 'numeric'\n",
       "\\item[LF] 'numeric'\n",
       "\\item[HF] 'numeric'\n",
       "\\item[LF.HF] 'numeric'\n",
       "\\item[Total] 'numeric'\n",
       "\\end{description*}\n"
      ],
      "text/markdown": [
       "ID\n",
       ":   'numeric'Tag\n",
       ":   'character'Start\n",
       ":   'character'Dauer\n",
       ":   'character'Avg..HR\n",
       ":   'numeric'RMSSD\n",
       ":   'numeric'SDNN\n",
       ":   'numeric'pNN50\n",
       ":   'numeric'RRmin\n",
       ":   'numeric'RRmean\n",
       ":   'numeric'RRmax\n",
       ":   'numeric'LF\n",
       ":   'numeric'HF\n",
       ":   'numeric'LF.HF\n",
       ":   'numeric'Total\n",
       ":   'numeric'\n",
       "\n"
      ],
      "text/plain": [
       "         ID         Tag       Start       Dauer     Avg..HR       RMSSD \n",
       "  \"numeric\" \"character\" \"character\" \"character\"   \"numeric\"   \"numeric\" \n",
       "       SDNN       pNN50       RRmin      RRmean       RRmax          LF \n",
       "  \"numeric\"   \"numeric\"   \"numeric\"   \"numeric\"   \"numeric\"   \"numeric\" \n",
       "         HF       LF.HF       Total \n",
       "  \"numeric\"   \"numeric\"   \"numeric\" "
      ]
     },
     "metadata": {},
     "output_type": "display_data"
    },
    {
     "data": {
      "text/html": [
       "<table>\n",
       "<thead><tr><th scope=col>ID</th><th scope=col>Tag</th><th scope=col>Start</th><th scope=col>Dauer</th><th scope=col>Avg..HR</th><th scope=col>RMSSD</th><th scope=col>SDNN</th><th scope=col>pNN50</th><th scope=col>RRmin</th><th scope=col>RRmean</th><th scope=col>RRmax</th><th scope=col>LF</th><th scope=col>HF</th><th scope=col>LF.HF</th><th scope=col>Total</th></tr></thead>\n",
       "<tbody>\n",
       "\t<tr><td>1         </td><td>2017-03-17</td><td>06:08:55  </td><td>0:08:57   </td><td>42.61727  </td><td>130.33    </td><td>116.80    </td><td>58.42     </td><td>1117      </td><td>1407.88   </td><td>1758      </td><td>4537.05   </td><td>1786.91   </td><td>2.54      </td><td> 6489.09  </td></tr>\n",
       "\t<tr><td>2         </td><td>2017-03-16</td><td>06:09:06  </td><td>0:09:59   </td><td>44.02571  </td><td>126.81    </td><td>148.24    </td><td>70.94     </td><td> 979      </td><td>1362.84   </td><td>1755      </td><td>5277.45   </td><td>3067.23   </td><td>1.72      </td><td> 8999.88  </td></tr>\n",
       "\t<tr><td>3         </td><td>2017-03-15</td><td>06:10:05  </td><td>0:10:00   </td><td>41.56161  </td><td>172.43    </td><td>150.37    </td><td>81.16     </td><td>1018      </td><td>1443.64   </td><td>1805      </td><td>7591.26   </td><td>7359.64   </td><td>1.03      </td><td>15269.42  </td></tr>\n",
       "\t<tr><td>4         </td><td>2017-03-14</td><td>06:10:08  </td><td>0:10:00   </td><td>42.94211  </td><td>170.64    </td><td>191.75    </td><td>76.64     </td><td>1025      </td><td>1397.23   </td><td>1974      </td><td>5687.76   </td><td>8554.06   </td><td>0.66      </td><td>14614.74  </td></tr>\n",
       "\t<tr><td>5         </td><td>2017-03-13</td><td>06:25:49  </td><td>0:10:00   </td><td>42.98795  </td><td>139.66    </td><td>165.57    </td><td>76.17     </td><td>1012      </td><td>1395.74   </td><td>1742      </td><td>4188.03   </td><td>4258.05   </td><td>0.98      </td><td> 8746.70  </td></tr>\n",
       "\t<tr><td>6         </td><td>2017-03-12</td><td>07:02:51  </td><td>0:09:10   </td><td>43.66749  </td><td>136.07    </td><td>174.51    </td><td>68.59     </td><td> 924      </td><td>1374.02   </td><td>1832      </td><td>3868.90   </td><td>6005.90   </td><td>0.64      </td><td> 9815.63  </td></tr>\n",
       "</tbody>\n",
       "</table>\n"
      ],
      "text/latex": [
       "\\begin{tabular}{r|lllllllllllllll}\n",
       " ID & Tag & Start & Dauer & Avg..HR & RMSSD & SDNN & pNN50 & RRmin & RRmean & RRmax & LF & HF & LF.HF & Total\\\\\n",
       "\\hline\n",
       "\t 1          & 2017-03-17 & 06:08:55   & 0:08:57    & 42.61727   & 130.33     & 116.80     & 58.42      & 1117       & 1407.88    & 1758       & 4537.05    & 1786.91    & 2.54       &  6489.09  \\\\\n",
       "\t 2          & 2017-03-16 & 06:09:06   & 0:09:59    & 44.02571   & 126.81     & 148.24     & 70.94      &  979       & 1362.84    & 1755       & 5277.45    & 3067.23    & 1.72       &  8999.88  \\\\\n",
       "\t 3          & 2017-03-15 & 06:10:05   & 0:10:00    & 41.56161   & 172.43     & 150.37     & 81.16      & 1018       & 1443.64    & 1805       & 7591.26    & 7359.64    & 1.03       & 15269.42  \\\\\n",
       "\t 4          & 2017-03-14 & 06:10:08   & 0:10:00    & 42.94211   & 170.64     & 191.75     & 76.64      & 1025       & 1397.23    & 1974       & 5687.76    & 8554.06    & 0.66       & 14614.74  \\\\\n",
       "\t 5          & 2017-03-13 & 06:25:49   & 0:10:00    & 42.98795   & 139.66     & 165.57     & 76.17      & 1012       & 1395.74    & 1742       & 4188.03    & 4258.05    & 0.98       &  8746.70  \\\\\n",
       "\t 6          & 2017-03-12 & 07:02:51   & 0:09:10    & 43.66749   & 136.07     & 174.51     & 68.59      &  924       & 1374.02    & 1832       & 3868.90    & 6005.90    & 0.64       &  9815.63  \\\\\n",
       "\\end{tabular}\n"
      ],
      "text/markdown": [
       "\n",
       "ID | Tag | Start | Dauer | Avg..HR | RMSSD | SDNN | pNN50 | RRmin | RRmean | RRmax | LF | HF | LF.HF | Total | \n",
       "|---|---|---|---|---|---|\n",
       "| 1          | 2017-03-17 | 06:08:55   | 0:08:57    | 42.61727   | 130.33     | 116.80     | 58.42      | 1117       | 1407.88    | 1758       | 4537.05    | 1786.91    | 2.54       |  6489.09   | \n",
       "| 2          | 2017-03-16 | 06:09:06   | 0:09:59    | 44.02571   | 126.81     | 148.24     | 70.94      |  979       | 1362.84    | 1755       | 5277.45    | 3067.23    | 1.72       |  8999.88   | \n",
       "| 3          | 2017-03-15 | 06:10:05   | 0:10:00    | 41.56161   | 172.43     | 150.37     | 81.16      | 1018       | 1443.64    | 1805       | 7591.26    | 7359.64    | 1.03       | 15269.42   | \n",
       "| 4          | 2017-03-14 | 06:10:08   | 0:10:00    | 42.94211   | 170.64     | 191.75     | 76.64      | 1025       | 1397.23    | 1974       | 5687.76    | 8554.06    | 0.66       | 14614.74   | \n",
       "| 5          | 2017-03-13 | 06:25:49   | 0:10:00    | 42.98795   | 139.66     | 165.57     | 76.17      | 1012       | 1395.74    | 1742       | 4188.03    | 4258.05    | 0.98       |  8746.70   | \n",
       "| 6          | 2017-03-12 | 07:02:51   | 0:09:10    | 43.66749   | 136.07     | 174.51     | 68.59      |  924       | 1374.02    | 1832       | 3868.90    | 6005.90    | 0.64       |  9815.63   | \n",
       "\n",
       "\n"
      ],
      "text/plain": [
       "  ID Tag        Start    Dauer   Avg..HR  RMSSD  SDNN   pNN50 RRmin RRmean \n",
       "1 1  2017-03-17 06:08:55 0:08:57 42.61727 130.33 116.80 58.42 1117  1407.88\n",
       "2 2  2017-03-16 06:09:06 0:09:59 44.02571 126.81 148.24 70.94  979  1362.84\n",
       "3 3  2017-03-15 06:10:05 0:10:00 41.56161 172.43 150.37 81.16 1018  1443.64\n",
       "4 4  2017-03-14 06:10:08 0:10:00 42.94211 170.64 191.75 76.64 1025  1397.23\n",
       "5 5  2017-03-13 06:25:49 0:10:00 42.98795 139.66 165.57 76.17 1012  1395.74\n",
       "6 6  2017-03-12 07:02:51 0:09:10 43.66749 136.07 174.51 68.59  924  1374.02\n",
       "  RRmax LF      HF      LF.HF Total   \n",
       "1 1758  4537.05 1786.91 2.54   6489.09\n",
       "2 1755  5277.45 3067.23 1.72   8999.88\n",
       "3 1805  7591.26 7359.64 1.03  15269.42\n",
       "4 1974  5687.76 8554.06 0.66  14614.74\n",
       "5 1742  4188.03 4258.05 0.98   8746.70\n",
       "6 1832  3868.90 6005.90 0.64   9815.63"
      ]
     },
     "metadata": {},
     "output_type": "display_data"
    },
    {
     "data": {
      "text/html": [
       "<dl class=dl-horizontal>\n",
       "\t<dt>ID</dt>\n",
       "\t\t<dd>'numeric'</dd>\n",
       "\t<dt>Tag</dt>\n",
       "\t\t<dd>'numeric'</dd>\n",
       "\t<dt>Start</dt>\n",
       "\t\t<dd>'character'</dd>\n",
       "\t<dt>Dauer</dt>\n",
       "\t\t<dd>'character'</dd>\n",
       "\t<dt>Avg..HR</dt>\n",
       "\t\t<dd>'numeric'</dd>\n",
       "\t<dt>RMSSD</dt>\n",
       "\t\t<dd>'numeric'</dd>\n",
       "\t<dt>SDNN</dt>\n",
       "\t\t<dd>'numeric'</dd>\n",
       "\t<dt>pNN50</dt>\n",
       "\t\t<dd>'numeric'</dd>\n",
       "\t<dt>RRmin</dt>\n",
       "\t\t<dd>'numeric'</dd>\n",
       "\t<dt>RRmean</dt>\n",
       "\t\t<dd>'numeric'</dd>\n",
       "\t<dt>RRmax</dt>\n",
       "\t\t<dd>'numeric'</dd>\n",
       "\t<dt>LF</dt>\n",
       "\t\t<dd>'numeric'</dd>\n",
       "\t<dt>HF</dt>\n",
       "\t\t<dd>'numeric'</dd>\n",
       "\t<dt>LF.HF</dt>\n",
       "\t\t<dd>'numeric'</dd>\n",
       "\t<dt>Total</dt>\n",
       "\t\t<dd>'numeric'</dd>\n",
       "</dl>\n"
      ],
      "text/latex": [
       "\\begin{description*}\n",
       "\\item[ID] 'numeric'\n",
       "\\item[Tag] 'numeric'\n",
       "\\item[Start] 'character'\n",
       "\\item[Dauer] 'character'\n",
       "\\item[Avg..HR] 'numeric'\n",
       "\\item[RMSSD] 'numeric'\n",
       "\\item[SDNN] 'numeric'\n",
       "\\item[pNN50] 'numeric'\n",
       "\\item[RRmin] 'numeric'\n",
       "\\item[RRmean] 'numeric'\n",
       "\\item[RRmax] 'numeric'\n",
       "\\item[LF] 'numeric'\n",
       "\\item[HF] 'numeric'\n",
       "\\item[LF.HF] 'numeric'\n",
       "\\item[Total] 'numeric'\n",
       "\\end{description*}\n"
      ],
      "text/markdown": [
       "ID\n",
       ":   'numeric'Tag\n",
       ":   'numeric'Start\n",
       ":   'character'Dauer\n",
       ":   'character'Avg..HR\n",
       ":   'numeric'RMSSD\n",
       ":   'numeric'SDNN\n",
       ":   'numeric'pNN50\n",
       ":   'numeric'RRmin\n",
       ":   'numeric'RRmean\n",
       ":   'numeric'RRmax\n",
       ":   'numeric'LF\n",
       ":   'numeric'HF\n",
       ":   'numeric'LF.HF\n",
       ":   'numeric'Total\n",
       ":   'numeric'\n",
       "\n"
      ],
      "text/plain": [
       "         ID         Tag       Start       Dauer     Avg..HR       RMSSD \n",
       "  \"numeric\"   \"numeric\" \"character\" \"character\"   \"numeric\"   \"numeric\" \n",
       "       SDNN       pNN50       RRmin      RRmean       RRmax          LF \n",
       "  \"numeric\"   \"numeric\"   \"numeric\"   \"numeric\"   \"numeric\"   \"numeric\" \n",
       "         HF       LF.HF       Total \n",
       "  \"numeric\"   \"numeric\"   \"numeric\" "
      ]
     },
     "metadata": {},
     "output_type": "display_data"
    }
   ],
   "source": [
    "sapply(hrvData,mode)\n",
    "hrvData$Tag <- as.Date(hrvData$Tag,\"%d.%m.%y\")\n",
    "head(hrvData)\n",
    "sapply(hrvData,mode)"
   ]
  },
  {
   "cell_type": "markdown",
   "metadata": {
    "collapsed": false,
    "deletable": true,
    "editable": true
   },
   "source": [
    "## Add/Remove data to/from dataframe\n",
    "### Add rows"
   ]
  },
  {
   "cell_type": "code",
   "execution_count": 20,
   "metadata": {
    "ExecuteTime": {
     "end_time": "2017-03-23T15:08:29.051105",
     "start_time": "2017-03-23T14:08:27.681Z"
    },
    "collapsed": false,
    "deletable": true,
    "editable": true
   },
   "outputs": [
    {
     "data": {
      "text/html": [
       "<ol class=list-inline>\n",
       "\t<li>'numeric'</li>\n",
       "\t<li>'numeric'</li>\n",
       "\t<li>'character'</li>\n",
       "\t<li>'character'</li>\n",
       "\t<li>'numeric'</li>\n",
       "\t<li>'numeric'</li>\n",
       "\t<li>'numeric'</li>\n",
       "\t<li>'numeric'</li>\n",
       "\t<li>'numeric'</li>\n",
       "\t<li>'numeric'</li>\n",
       "\t<li>'numeric'</li>\n",
       "\t<li>'numeric'</li>\n",
       "\t<li>'numeric'</li>\n",
       "\t<li>'numeric'</li>\n",
       "\t<li>'numeric'</li>\n",
       "</ol>\n"
      ],
      "text/latex": [
       "\\begin{enumerate*}\n",
       "\\item 'numeric'\n",
       "\\item 'numeric'\n",
       "\\item 'character'\n",
       "\\item 'character'\n",
       "\\item 'numeric'\n",
       "\\item 'numeric'\n",
       "\\item 'numeric'\n",
       "\\item 'numeric'\n",
       "\\item 'numeric'\n",
       "\\item 'numeric'\n",
       "\\item 'numeric'\n",
       "\\item 'numeric'\n",
       "\\item 'numeric'\n",
       "\\item 'numeric'\n",
       "\\item 'numeric'\n",
       "\\end{enumerate*}\n"
      ],
      "text/markdown": [
       "1. 'numeric'\n",
       "2. 'numeric'\n",
       "3. 'character'\n",
       "4. 'character'\n",
       "5. 'numeric'\n",
       "6. 'numeric'\n",
       "7. 'numeric'\n",
       "8. 'numeric'\n",
       "9. 'numeric'\n",
       "10. 'numeric'\n",
       "11. 'numeric'\n",
       "12. 'numeric'\n",
       "13. 'numeric'\n",
       "14. 'numeric'\n",
       "15. 'numeric'\n",
       "\n",
       "\n"
      ],
      "text/plain": [
       " [1] \"numeric\"   \"numeric\"   \"character\" \"character\" \"numeric\"   \"numeric\"  \n",
       " [7] \"numeric\"   \"numeric\"   \"numeric\"   \"numeric\"   \"numeric\"   \"numeric\"  \n",
       "[13] \"numeric\"   \"numeric\"   \"numeric\"  "
      ]
     },
     "metadata": {},
     "output_type": "display_data"
    },
    {
     "data": {
      "text/html": [
       "15"
      ],
      "text/latex": [
       "15"
      ],
      "text/markdown": [
       "15"
      ],
      "text/plain": [
       "[1] 15"
      ]
     },
     "metadata": {},
     "output_type": "display_data"
    }
   ],
   "source": [
    "newEntry <- list(1,as.Date(c(\"18.03.17\"),format=\"%d.%m.%y\"),\"06:10:05\",\"0:09:05\",43.4,142,123,61,1200,1520,1670,3894,2786,2.3,6906)\n",
    "sapply(newEntry,mode)\n",
    "length(newEntry)"
   ]
  },
  {
   "cell_type": "code",
   "execution_count": 21,
   "metadata": {
    "ExecuteTime": {
     "end_time": "2017-03-23T15:08:29.070705",
     "start_time": "2017-03-23T14:08:27.684Z"
    },
    "collapsed": true,
    "deletable": true,
    "editable": true
   },
   "outputs": [],
   "source": [
    "hrvData$ID=hrvData$ID+1"
   ]
  },
  {
   "cell_type": "code",
   "execution_count": 22,
   "metadata": {
    "ExecuteTime": {
     "end_time": "2017-03-23T15:08:29.109830",
     "start_time": "2017-03-23T14:08:27.688Z"
    },
    "collapsed": false,
    "deletable": true,
    "editable": true
   },
   "outputs": [
    {
     "data": {
      "text/html": [
       "<table>\n",
       "<thead><tr><th scope=col>ID</th><th scope=col>Tag</th><th scope=col>Start</th><th scope=col>Dauer</th><th scope=col>Avg..HR</th><th scope=col>RMSSD</th><th scope=col>SDNN</th><th scope=col>pNN50</th><th scope=col>RRmin</th><th scope=col>RRmean</th><th scope=col>RRmax</th><th scope=col>LF</th><th scope=col>HF</th><th scope=col>LF.HF</th><th scope=col>Total</th></tr></thead>\n",
       "<tbody>\n",
       "\t<tr><td>2         </td><td>2017-03-17</td><td>06:08:55  </td><td>0:08:57   </td><td>42.61727  </td><td>130.33    </td><td>116.80    </td><td>58.42     </td><td>1117      </td><td>1407.88   </td><td>1758      </td><td>4537.05   </td><td>1786.91   </td><td>2.54      </td><td> 6489.09  </td></tr>\n",
       "\t<tr><td>3         </td><td>2017-03-16</td><td>06:09:06  </td><td>0:09:59   </td><td>44.02571  </td><td>126.81    </td><td>148.24    </td><td>70.94     </td><td> 979      </td><td>1362.84   </td><td>1755      </td><td>5277.45   </td><td>3067.23   </td><td>1.72      </td><td> 8999.88  </td></tr>\n",
       "\t<tr><td>4         </td><td>2017-03-15</td><td>06:10:05  </td><td>0:10:00   </td><td>41.56161  </td><td>172.43    </td><td>150.37    </td><td>81.16     </td><td>1018      </td><td>1443.64   </td><td>1805      </td><td>7591.26   </td><td>7359.64   </td><td>1.03      </td><td>15269.42  </td></tr>\n",
       "\t<tr><td>5         </td><td>2017-03-14</td><td>06:10:08  </td><td>0:10:00   </td><td>42.94211  </td><td>170.64    </td><td>191.75    </td><td>76.64     </td><td>1025      </td><td>1397.23   </td><td>1974      </td><td>5687.76   </td><td>8554.06   </td><td>0.66      </td><td>14614.74  </td></tr>\n",
       "\t<tr><td>6         </td><td>2017-03-13</td><td>06:25:49  </td><td>0:10:00   </td><td>42.98795  </td><td>139.66    </td><td>165.57    </td><td>76.17     </td><td>1012      </td><td>1395.74   </td><td>1742      </td><td>4188.03   </td><td>4258.05   </td><td>0.98      </td><td> 8746.70  </td></tr>\n",
       "\t<tr><td>7         </td><td>2017-03-12</td><td>07:02:51  </td><td>0:09:10   </td><td>43.66749  </td><td>136.07    </td><td>174.51    </td><td>68.59     </td><td> 924      </td><td>1374.02   </td><td>1832      </td><td>3868.90   </td><td>6005.90   </td><td>0.64      </td><td> 9815.63  </td></tr>\n",
       "</tbody>\n",
       "</table>\n"
      ],
      "text/latex": [
       "\\begin{tabular}{r|lllllllllllllll}\n",
       " ID & Tag & Start & Dauer & Avg..HR & RMSSD & SDNN & pNN50 & RRmin & RRmean & RRmax & LF & HF & LF.HF & Total\\\\\n",
       "\\hline\n",
       "\t 2          & 2017-03-17 & 06:08:55   & 0:08:57    & 42.61727   & 130.33     & 116.80     & 58.42      & 1117       & 1407.88    & 1758       & 4537.05    & 1786.91    & 2.54       &  6489.09  \\\\\n",
       "\t 3          & 2017-03-16 & 06:09:06   & 0:09:59    & 44.02571   & 126.81     & 148.24     & 70.94      &  979       & 1362.84    & 1755       & 5277.45    & 3067.23    & 1.72       &  8999.88  \\\\\n",
       "\t 4          & 2017-03-15 & 06:10:05   & 0:10:00    & 41.56161   & 172.43     & 150.37     & 81.16      & 1018       & 1443.64    & 1805       & 7591.26    & 7359.64    & 1.03       & 15269.42  \\\\\n",
       "\t 5          & 2017-03-14 & 06:10:08   & 0:10:00    & 42.94211   & 170.64     & 191.75     & 76.64      & 1025       & 1397.23    & 1974       & 5687.76    & 8554.06    & 0.66       & 14614.74  \\\\\n",
       "\t 6          & 2017-03-13 & 06:25:49   & 0:10:00    & 42.98795   & 139.66     & 165.57     & 76.17      & 1012       & 1395.74    & 1742       & 4188.03    & 4258.05    & 0.98       &  8746.70  \\\\\n",
       "\t 7          & 2017-03-12 & 07:02:51   & 0:09:10    & 43.66749   & 136.07     & 174.51     & 68.59      &  924       & 1374.02    & 1832       & 3868.90    & 6005.90    & 0.64       &  9815.63  \\\\\n",
       "\\end{tabular}\n"
      ],
      "text/markdown": [
       "\n",
       "ID | Tag | Start | Dauer | Avg..HR | RMSSD | SDNN | pNN50 | RRmin | RRmean | RRmax | LF | HF | LF.HF | Total | \n",
       "|---|---|---|---|---|---|\n",
       "| 2          | 2017-03-17 | 06:08:55   | 0:08:57    | 42.61727   | 130.33     | 116.80     | 58.42      | 1117       | 1407.88    | 1758       | 4537.05    | 1786.91    | 2.54       |  6489.09   | \n",
       "| 3          | 2017-03-16 | 06:09:06   | 0:09:59    | 44.02571   | 126.81     | 148.24     | 70.94      |  979       | 1362.84    | 1755       | 5277.45    | 3067.23    | 1.72       |  8999.88   | \n",
       "| 4          | 2017-03-15 | 06:10:05   | 0:10:00    | 41.56161   | 172.43     | 150.37     | 81.16      | 1018       | 1443.64    | 1805       | 7591.26    | 7359.64    | 1.03       | 15269.42   | \n",
       "| 5          | 2017-03-14 | 06:10:08   | 0:10:00    | 42.94211   | 170.64     | 191.75     | 76.64      | 1025       | 1397.23    | 1974       | 5687.76    | 8554.06    | 0.66       | 14614.74   | \n",
       "| 6          | 2017-03-13 | 06:25:49   | 0:10:00    | 42.98795   | 139.66     | 165.57     | 76.17      | 1012       | 1395.74    | 1742       | 4188.03    | 4258.05    | 0.98       |  8746.70   | \n",
       "| 7          | 2017-03-12 | 07:02:51   | 0:09:10    | 43.66749   | 136.07     | 174.51     | 68.59      |  924       | 1374.02    | 1832       | 3868.90    | 6005.90    | 0.64       |  9815.63   | \n",
       "\n",
       "\n"
      ],
      "text/plain": [
       "  ID Tag        Start    Dauer   Avg..HR  RMSSD  SDNN   pNN50 RRmin RRmean \n",
       "1 2  2017-03-17 06:08:55 0:08:57 42.61727 130.33 116.80 58.42 1117  1407.88\n",
       "2 3  2017-03-16 06:09:06 0:09:59 44.02571 126.81 148.24 70.94  979  1362.84\n",
       "3 4  2017-03-15 06:10:05 0:10:00 41.56161 172.43 150.37 81.16 1018  1443.64\n",
       "4 5  2017-03-14 06:10:08 0:10:00 42.94211 170.64 191.75 76.64 1025  1397.23\n",
       "5 6  2017-03-13 06:25:49 0:10:00 42.98795 139.66 165.57 76.17 1012  1395.74\n",
       "6 7  2017-03-12 07:02:51 0:09:10 43.66749 136.07 174.51 68.59  924  1374.02\n",
       "  RRmax LF      HF      LF.HF Total   \n",
       "1 1758  4537.05 1786.91 2.54   6489.09\n",
       "2 1755  5277.45 3067.23 1.72   8999.88\n",
       "3 1805  7591.26 7359.64 1.03  15269.42\n",
       "4 1974  5687.76 8554.06 0.66  14614.74\n",
       "5 1742  4188.03 4258.05 0.98   8746.70\n",
       "6 1832  3868.90 6005.90 0.64   9815.63"
      ]
     },
     "metadata": {},
     "output_type": "display_data"
    }
   ],
   "source": [
    "head(hrvData)"
   ]
  },
  {
   "cell_type": "code",
   "execution_count": 23,
   "metadata": {
    "ExecuteTime": {
     "end_time": "2017-03-23T15:08:29.146909",
     "start_time": "2017-03-23T14:08:27.692Z"
    },
    "collapsed": false,
    "deletable": true,
    "editable": true
   },
   "outputs": [],
   "source": [
    "hrvData <- rbind(hrvData,newEntry)"
   ]
  },
  {
   "cell_type": "code",
   "execution_count": 24,
   "metadata": {
    "ExecuteTime": {
     "end_time": "2017-03-23T15:08:29.208247",
     "start_time": "2017-03-23T14:08:27.696Z"
    },
    "collapsed": false,
    "deletable": true,
    "editable": true
   },
   "outputs": [
    {
     "data": {
      "text/html": [
       "<table>\n",
       "<thead><tr><th></th><th scope=col>ID</th><th scope=col>Tag</th><th scope=col>Start</th><th scope=col>Dauer</th><th scope=col>Avg..HR</th><th scope=col>RMSSD</th><th scope=col>SDNN</th><th scope=col>pNN50</th><th scope=col>RRmin</th><th scope=col>RRmean</th><th scope=col>RRmax</th><th scope=col>LF</th><th scope=col>HF</th><th scope=col>LF.HF</th><th scope=col>Total</th></tr></thead>\n",
       "<tbody>\n",
       "\t<tr><th scope=row>736</th><td>737           </td><td>2015-02-27    </td><td>05:47:55      </td><td>0:10:33.921000</td><td>44.97313      </td><td>123.37        </td><td>141.73        </td><td>71.43         </td><td> 949          </td><td>1334.13       </td><td>1679          </td><td>1675.04       </td><td>4225.11       </td><td>0.40          </td><td>6203.20       </td></tr>\n",
       "\t<tr><th scope=row>737</th><td>738           </td><td>2015-02-26    </td><td>05:23:53      </td><td>0:12:11.591000</td><td>42.61031      </td><td>150.28        </td><td>150.45        </td><td>79.57         </td><td>1030          </td><td>1408.11       </td><td>1858          </td><td>1550.89       </td><td>5281.51       </td><td>0.29          </td><td>7094.40       </td></tr>\n",
       "\t<tr><th scope=row>738</th><td>739           </td><td>2015-02-25    </td><td>05:45:59      </td><td>0:11:20.961000</td><td>42.58460      </td><td>121.18        </td><td>135.21        </td><td>73.71         </td><td>1107          </td><td>1408.96       </td><td>1806          </td><td>1545.52       </td><td>4068.66       </td><td>0.38          </td><td>5961.24       </td></tr>\n",
       "\t<tr><th scope=row>739</th><td>740           </td><td>2015-02-23    </td><td>07:36:30      </td><td>0:12:12.876000</td><td>51.98091      </td><td> 72.18        </td><td> 73.20        </td><td>55.10         </td><td> 944          </td><td>1154.27       </td><td>1436          </td><td>1320.89       </td><td>1068.71       </td><td>1.24          </td><td>2525.71       </td></tr>\n",
       "\t<tr><th scope=row>740</th><td>741           </td><td>2015-02-17    </td><td>10:32:27      </td><td>0:23:55.177000</td><td>53.93258      </td><td> 67.88        </td><td>144.77        </td><td>40.60         </td><td> 635          </td><td>1112.50       </td><td>1542          </td><td>4877.74       </td><td>1303.45       </td><td>3.74          </td><td>7027.42       </td></tr>\n",
       "\t<tr><th scope=row>7391</th><td>  1           </td><td>2017-03-18    </td><td>06:10:05      </td><td>0:09:05       </td><td>43.40000      </td><td>142.00        </td><td>123.00        </td><td>61.00         </td><td>1200          </td><td>1520.00       </td><td>1670          </td><td>3894.00       </td><td>2786.00       </td><td>2.30          </td><td>6906.00       </td></tr>\n",
       "</tbody>\n",
       "</table>\n"
      ],
      "text/latex": [
       "\\begin{tabular}{r|lllllllllllllll}\n",
       "  & ID & Tag & Start & Dauer & Avg..HR & RMSSD & SDNN & pNN50 & RRmin & RRmean & RRmax & LF & HF & LF.HF & Total\\\\\n",
       "\\hline\n",
       "\t736 & 737            & 2015-02-27     & 05:47:55       & 0:10:33.921000 & 44.97313       & 123.37         & 141.73         & 71.43          &  949           & 1334.13        & 1679           & 1675.04        & 4225.11        & 0.40           & 6203.20       \\\\\n",
       "\t737 & 738            & 2015-02-26     & 05:23:53       & 0:12:11.591000 & 42.61031       & 150.28         & 150.45         & 79.57          & 1030           & 1408.11        & 1858           & 1550.89        & 5281.51        & 0.29           & 7094.40       \\\\\n",
       "\t738 & 739            & 2015-02-25     & 05:45:59       & 0:11:20.961000 & 42.58460       & 121.18         & 135.21         & 73.71          & 1107           & 1408.96        & 1806           & 1545.52        & 4068.66        & 0.38           & 5961.24       \\\\\n",
       "\t739 & 740            & 2015-02-23     & 07:36:30       & 0:12:12.876000 & 51.98091       &  72.18         &  73.20         & 55.10          &  944           & 1154.27        & 1436           & 1320.89        & 1068.71        & 1.24           & 2525.71       \\\\\n",
       "\t740 & 741            & 2015-02-17     & 10:32:27       & 0:23:55.177000 & 53.93258       &  67.88         & 144.77         & 40.60          &  635           & 1112.50        & 1542           & 4877.74        & 1303.45        & 3.74           & 7027.42       \\\\\n",
       "\t7391 &   1            & 2017-03-18     & 06:10:05       & 0:09:05        & 43.40000       & 142.00         & 123.00         & 61.00          & 1200           & 1520.00        & 1670           & 3894.00        & 2786.00        & 2.30           & 6906.00       \\\\\n",
       "\\end{tabular}\n"
      ],
      "text/markdown": [
       "\n",
       "| <!--/--> | ID | Tag | Start | Dauer | Avg..HR | RMSSD | SDNN | pNN50 | RRmin | RRmean | RRmax | LF | HF | LF.HF | Total | \n",
       "|---|---|---|---|---|---|\n",
       "| 736 | 737            | 2015-02-27     | 05:47:55       | 0:10:33.921000 | 44.97313       | 123.37         | 141.73         | 71.43          |  949           | 1334.13        | 1679           | 1675.04        | 4225.11        | 0.40           | 6203.20        | \n",
       "| 737 | 738            | 2015-02-26     | 05:23:53       | 0:12:11.591000 | 42.61031       | 150.28         | 150.45         | 79.57          | 1030           | 1408.11        | 1858           | 1550.89        | 5281.51        | 0.29           | 7094.40        | \n",
       "| 738 | 739            | 2015-02-25     | 05:45:59       | 0:11:20.961000 | 42.58460       | 121.18         | 135.21         | 73.71          | 1107           | 1408.96        | 1806           | 1545.52        | 4068.66        | 0.38           | 5961.24        | \n",
       "| 739 | 740            | 2015-02-23     | 07:36:30       | 0:12:12.876000 | 51.98091       |  72.18         |  73.20         | 55.10          |  944           | 1154.27        | 1436           | 1320.89        | 1068.71        | 1.24           | 2525.71        | \n",
       "| 740 | 741            | 2015-02-17     | 10:32:27       | 0:23:55.177000 | 53.93258       |  67.88         | 144.77         | 40.60          |  635           | 1112.50        | 1542           | 4877.74        | 1303.45        | 3.74           | 7027.42        | \n",
       "| 7391 |   1            | 2017-03-18     | 06:10:05       | 0:09:05        | 43.40000       | 142.00         | 123.00         | 61.00          | 1200           | 1520.00        | 1670           | 3894.00        | 2786.00        | 2.30           | 6906.00        | \n",
       "\n",
       "\n"
      ],
      "text/plain": [
       "     ID  Tag        Start    Dauer          Avg..HR  RMSSD  SDNN   pNN50 RRmin\n",
       "736  737 2015-02-27 05:47:55 0:10:33.921000 44.97313 123.37 141.73 71.43  949 \n",
       "737  738 2015-02-26 05:23:53 0:12:11.591000 42.61031 150.28 150.45 79.57 1030 \n",
       "738  739 2015-02-25 05:45:59 0:11:20.961000 42.58460 121.18 135.21 73.71 1107 \n",
       "739  740 2015-02-23 07:36:30 0:12:12.876000 51.98091  72.18  73.20 55.10  944 \n",
       "740  741 2015-02-17 10:32:27 0:23:55.177000 53.93258  67.88 144.77 40.60  635 \n",
       "7391   1 2017-03-18 06:10:05 0:09:05        43.40000 142.00 123.00 61.00 1200 \n",
       "     RRmean  RRmax LF      HF      LF.HF Total  \n",
       "736  1334.13 1679  1675.04 4225.11 0.40  6203.20\n",
       "737  1408.11 1858  1550.89 5281.51 0.29  7094.40\n",
       "738  1408.96 1806  1545.52 4068.66 0.38  5961.24\n",
       "739  1154.27 1436  1320.89 1068.71 1.24  2525.71\n",
       "740  1112.50 1542  4877.74 1303.45 3.74  7027.42\n",
       "7391 1520.00 1670  3894.00 2786.00 2.30  6906.00"
      ]
     },
     "metadata": {},
     "output_type": "display_data"
    }
   ],
   "source": [
    "tail(hrvData)"
   ]
  },
  {
   "cell_type": "markdown",
   "metadata": {
    "deletable": true,
    "editable": true
   },
   "source": [
    "The *rbind()*-function can also be applied for a vertical concatenation of dataframes: *rbind(df1,df2)*. This concatenation requires that the two dataframes have the same variables (columnnames)."
   ]
  },
  {
   "cell_type": "code",
   "execution_count": 25,
   "metadata": {
    "ExecuteTime": {
     "end_time": "2017-03-23T15:08:29.263575",
     "start_time": "2017-03-23T14:08:27.701Z"
    },
    "collapsed": false,
    "deletable": true,
    "editable": true
   },
   "outputs": [
    {
     "data": {
      "text/html": [
       "<table>\n",
       "<thead><tr><th></th><th scope=col>ID</th><th scope=col>Tag</th><th scope=col>Start</th><th scope=col>Dauer</th><th scope=col>Avg..HR</th><th scope=col>RMSSD</th><th scope=col>SDNN</th><th scope=col>pNN50</th><th scope=col>RRmin</th><th scope=col>RRmean</th><th scope=col>RRmax</th><th scope=col>LF</th><th scope=col>HF</th><th scope=col>LF.HF</th><th scope=col>Total</th></tr></thead>\n",
       "<tbody>\n",
       "\t<tr><th scope=row>2</th><td>2         </td><td>2017-03-17</td><td>06:08:55  </td><td>0:08:57   </td><td>42.61727  </td><td>130.33    </td><td>116.80    </td><td>58.42     </td><td>1117      </td><td>1407.88   </td><td>1758      </td><td>4537.05   </td><td>1786.91   </td><td>2.54      </td><td> 6489.09  </td></tr>\n",
       "\t<tr><th scope=row>3</th><td>3         </td><td>2017-03-16</td><td>06:09:06  </td><td>0:09:59   </td><td>44.02571  </td><td>126.81    </td><td>148.24    </td><td>70.94     </td><td> 979      </td><td>1362.84   </td><td>1755      </td><td>5277.45   </td><td>3067.23   </td><td>1.72      </td><td> 8999.88  </td></tr>\n",
       "\t<tr><th scope=row>4</th><td>4         </td><td>2017-03-15</td><td>06:10:05  </td><td>0:10:00   </td><td>41.56161  </td><td>172.43    </td><td>150.37    </td><td>81.16     </td><td>1018      </td><td>1443.64   </td><td>1805      </td><td>7591.26   </td><td>7359.64   </td><td>1.03      </td><td>15269.42  </td></tr>\n",
       "\t<tr><th scope=row>5</th><td>5         </td><td>2017-03-14</td><td>06:10:08  </td><td>0:10:00   </td><td>42.94211  </td><td>170.64    </td><td>191.75    </td><td>76.64     </td><td>1025      </td><td>1397.23   </td><td>1974      </td><td>5687.76   </td><td>8554.06   </td><td>0.66      </td><td>14614.74  </td></tr>\n",
       "\t<tr><th scope=row>6</th><td>6         </td><td>2017-03-13</td><td>06:25:49  </td><td>0:10:00   </td><td>42.98795  </td><td>139.66    </td><td>165.57    </td><td>76.17     </td><td>1012      </td><td>1395.74   </td><td>1742      </td><td>4188.03   </td><td>4258.05   </td><td>0.98      </td><td> 8746.70  </td></tr>\n",
       "\t<tr><th scope=row>7</th><td>7         </td><td>2017-03-12</td><td>07:02:51  </td><td>0:09:10   </td><td>43.66749  </td><td>136.07    </td><td>174.51    </td><td>68.59     </td><td> 924      </td><td>1374.02   </td><td>1832      </td><td>3868.90   </td><td>6005.90   </td><td>0.64      </td><td> 9815.63  </td></tr>\n",
       "</tbody>\n",
       "</table>\n"
      ],
      "text/latex": [
       "\\begin{tabular}{r|lllllllllllllll}\n",
       "  & ID & Tag & Start & Dauer & Avg..HR & RMSSD & SDNN & pNN50 & RRmin & RRmean & RRmax & LF & HF & LF.HF & Total\\\\\n",
       "\\hline\n",
       "\t2 & 2          & 2017-03-17 & 06:08:55   & 0:08:57    & 42.61727   & 130.33     & 116.80     & 58.42      & 1117       & 1407.88    & 1758       & 4537.05    & 1786.91    & 2.54       &  6489.09  \\\\\n",
       "\t3 & 3          & 2017-03-16 & 06:09:06   & 0:09:59    & 44.02571   & 126.81     & 148.24     & 70.94      &  979       & 1362.84    & 1755       & 5277.45    & 3067.23    & 1.72       &  8999.88  \\\\\n",
       "\t4 & 4          & 2017-03-15 & 06:10:05   & 0:10:00    & 41.56161   & 172.43     & 150.37     & 81.16      & 1018       & 1443.64    & 1805       & 7591.26    & 7359.64    & 1.03       & 15269.42  \\\\\n",
       "\t5 & 5          & 2017-03-14 & 06:10:08   & 0:10:00    & 42.94211   & 170.64     & 191.75     & 76.64      & 1025       & 1397.23    & 1974       & 5687.76    & 8554.06    & 0.66       & 14614.74  \\\\\n",
       "\t6 & 6          & 2017-03-13 & 06:25:49   & 0:10:00    & 42.98795   & 139.66     & 165.57     & 76.17      & 1012       & 1395.74    & 1742       & 4188.03    & 4258.05    & 0.98       &  8746.70  \\\\\n",
       "\t7 & 7          & 2017-03-12 & 07:02:51   & 0:09:10    & 43.66749   & 136.07     & 174.51     & 68.59      &  924       & 1374.02    & 1832       & 3868.90    & 6005.90    & 0.64       &  9815.63  \\\\\n",
       "\\end{tabular}\n"
      ],
      "text/markdown": [
       "\n",
       "| <!--/--> | ID | Tag | Start | Dauer | Avg..HR | RMSSD | SDNN | pNN50 | RRmin | RRmean | RRmax | LF | HF | LF.HF | Total | \n",
       "|---|---|---|---|---|---|\n",
       "| 2 | 2          | 2017-03-17 | 06:08:55   | 0:08:57    | 42.61727   | 130.33     | 116.80     | 58.42      | 1117       | 1407.88    | 1758       | 4537.05    | 1786.91    | 2.54       |  6489.09   | \n",
       "| 3 | 3          | 2017-03-16 | 06:09:06   | 0:09:59    | 44.02571   | 126.81     | 148.24     | 70.94      |  979       | 1362.84    | 1755       | 5277.45    | 3067.23    | 1.72       |  8999.88   | \n",
       "| 4 | 4          | 2017-03-15 | 06:10:05   | 0:10:00    | 41.56161   | 172.43     | 150.37     | 81.16      | 1018       | 1443.64    | 1805       | 7591.26    | 7359.64    | 1.03       | 15269.42   | \n",
       "| 5 | 5          | 2017-03-14 | 06:10:08   | 0:10:00    | 42.94211   | 170.64     | 191.75     | 76.64      | 1025       | 1397.23    | 1974       | 5687.76    | 8554.06    | 0.66       | 14614.74   | \n",
       "| 6 | 6          | 2017-03-13 | 06:25:49   | 0:10:00    | 42.98795   | 139.66     | 165.57     | 76.17      | 1012       | 1395.74    | 1742       | 4188.03    | 4258.05    | 0.98       |  8746.70   | \n",
       "| 7 | 7          | 2017-03-12 | 07:02:51   | 0:09:10    | 43.66749   | 136.07     | 174.51     | 68.59      |  924       | 1374.02    | 1832       | 3868.90    | 6005.90    | 0.64       |  9815.63   | \n",
       "\n",
       "\n"
      ],
      "text/plain": [
       "  ID Tag        Start    Dauer   Avg..HR  RMSSD  SDNN   pNN50 RRmin RRmean \n",
       "2 2  2017-03-17 06:08:55 0:08:57 42.61727 130.33 116.80 58.42 1117  1407.88\n",
       "3 3  2017-03-16 06:09:06 0:09:59 44.02571 126.81 148.24 70.94  979  1362.84\n",
       "4 4  2017-03-15 06:10:05 0:10:00 41.56161 172.43 150.37 81.16 1018  1443.64\n",
       "5 5  2017-03-14 06:10:08 0:10:00 42.94211 170.64 191.75 76.64 1025  1397.23\n",
       "6 6  2017-03-13 06:25:49 0:10:00 42.98795 139.66 165.57 76.17 1012  1395.74\n",
       "7 7  2017-03-12 07:02:51 0:09:10 43.66749 136.07 174.51 68.59  924  1374.02\n",
       "  RRmax LF      HF      LF.HF Total   \n",
       "2 1758  4537.05 1786.91 2.54   6489.09\n",
       "3 1755  5277.45 3067.23 1.72   8999.88\n",
       "4 1805  7591.26 7359.64 1.03  15269.42\n",
       "5 1974  5687.76 8554.06 0.66  14614.74\n",
       "6 1742  4188.03 4258.05 0.98   8746.70\n",
       "7 1832  3868.90 6005.90 0.64   9815.63"
      ]
     },
     "metadata": {},
     "output_type": "display_data"
    }
   ],
   "source": [
    "rownames(hrvData) <- hrvData$ID\n",
    "head(hrvData)"
   ]
  },
  {
   "cell_type": "markdown",
   "metadata": {
    "deletable": true,
    "editable": true
   },
   "source": [
    "### Add columns\n",
    "New columns are the result of elementwise arithmetic operations on existing columns: "
   ]
  },
  {
   "cell_type": "code",
   "execution_count": 26,
   "metadata": {
    "ExecuteTime": {
     "end_time": "2017-03-23T15:08:29.325546",
     "start_time": "2017-03-23T14:08:27.706Z"
    },
    "collapsed": false,
    "deletable": true,
    "editable": true
   },
   "outputs": [
    {
     "data": {
      "text/html": [
       "<table>\n",
       "<thead><tr><th></th><th scope=col>ID</th><th scope=col>Tag</th><th scope=col>Start</th><th scope=col>Dauer</th><th scope=col>Avg..HR</th><th scope=col>RMSSD</th><th scope=col>SDNN</th><th scope=col>pNN50</th><th scope=col>RRmin</th><th scope=col>RRmean</th><th scope=col>RRmax</th><th scope=col>LF</th><th scope=col>HF</th><th scope=col>LF.HF</th><th scope=col>Total</th><th scope=col>NormRMSSD</th><th scope=col>LnRMSSD</th></tr></thead>\n",
       "<tbody>\n",
       "\t<tr><th scope=row>2</th><td>2         </td><td>2017-03-17</td><td>06:08:55  </td><td>0:08:57   </td><td>42.61727  </td><td>130.33    </td><td>116.80    </td><td>58.42     </td><td>1117      </td><td>1407.88   </td><td>1758      </td><td>4537.05   </td><td>1786.91   </td><td>2.54      </td><td> 6489.09  </td><td>0.09257181</td><td>4.870070  </td></tr>\n",
       "\t<tr><th scope=row>3</th><td>3         </td><td>2017-03-16</td><td>06:09:06  </td><td>0:09:59   </td><td>44.02571  </td><td>126.81    </td><td>148.24    </td><td>70.94     </td><td> 979      </td><td>1362.84   </td><td>1755      </td><td>5277.45   </td><td>3067.23   </td><td>1.72      </td><td> 8999.88  </td><td>0.09304834</td><td>4.842690  </td></tr>\n",
       "\t<tr><th scope=row>4</th><td>4         </td><td>2017-03-15</td><td>06:10:05  </td><td>0:10:00   </td><td>41.56161  </td><td>172.43    </td><td>150.37    </td><td>81.16     </td><td>1018      </td><td>1443.64   </td><td>1805      </td><td>7591.26   </td><td>7359.64   </td><td>1.03      </td><td>15269.42  </td><td>0.11944113</td><td>5.149991  </td></tr>\n",
       "\t<tr><th scope=row>5</th><td>5         </td><td>2017-03-14</td><td>06:10:08  </td><td>0:10:00   </td><td>42.94211  </td><td>170.64    </td><td>191.75    </td><td>76.64     </td><td>1025      </td><td>1397.23   </td><td>1974      </td><td>5687.76   </td><td>8554.06   </td><td>0.66      </td><td>14614.74  </td><td>0.12212735</td><td>5.139556  </td></tr>\n",
       "\t<tr><th scope=row>6</th><td>6         </td><td>2017-03-13</td><td>06:25:49  </td><td>0:10:00   </td><td>42.98795  </td><td>139.66    </td><td>165.57    </td><td>76.17     </td><td>1012      </td><td>1395.74   </td><td>1742      </td><td>4188.03   </td><td>4258.05   </td><td>0.98      </td><td> 8746.70  </td><td>0.10006162</td><td>4.939211  </td></tr>\n",
       "\t<tr><th scope=row>7</th><td>7         </td><td>2017-03-12</td><td>07:02:51  </td><td>0:09:10   </td><td>43.66749  </td><td>136.07    </td><td>174.51    </td><td>68.59     </td><td> 924      </td><td>1374.02   </td><td>1832      </td><td>3868.90   </td><td>6005.90   </td><td>0.64      </td><td> 9815.63  </td><td>0.09903058</td><td>4.913169  </td></tr>\n",
       "</tbody>\n",
       "</table>\n"
      ],
      "text/latex": [
       "\\begin{tabular}{r|lllllllllllllllll}\n",
       "  & ID & Tag & Start & Dauer & Avg..HR & RMSSD & SDNN & pNN50 & RRmin & RRmean & RRmax & LF & HF & LF.HF & Total & NormRMSSD & LnRMSSD\\\\\n",
       "\\hline\n",
       "\t2 & 2          & 2017-03-17 & 06:08:55   & 0:08:57    & 42.61727   & 130.33     & 116.80     & 58.42      & 1117       & 1407.88    & 1758       & 4537.05    & 1786.91    & 2.54       &  6489.09   & 0.09257181 & 4.870070  \\\\\n",
       "\t3 & 3          & 2017-03-16 & 06:09:06   & 0:09:59    & 44.02571   & 126.81     & 148.24     & 70.94      &  979       & 1362.84    & 1755       & 5277.45    & 3067.23    & 1.72       &  8999.88   & 0.09304834 & 4.842690  \\\\\n",
       "\t4 & 4          & 2017-03-15 & 06:10:05   & 0:10:00    & 41.56161   & 172.43     & 150.37     & 81.16      & 1018       & 1443.64    & 1805       & 7591.26    & 7359.64    & 1.03       & 15269.42   & 0.11944113 & 5.149991  \\\\\n",
       "\t5 & 5          & 2017-03-14 & 06:10:08   & 0:10:00    & 42.94211   & 170.64     & 191.75     & 76.64      & 1025       & 1397.23    & 1974       & 5687.76    & 8554.06    & 0.66       & 14614.74   & 0.12212735 & 5.139556  \\\\\n",
       "\t6 & 6          & 2017-03-13 & 06:25:49   & 0:10:00    & 42.98795   & 139.66     & 165.57     & 76.17      & 1012       & 1395.74    & 1742       & 4188.03    & 4258.05    & 0.98       &  8746.70   & 0.10006162 & 4.939211  \\\\\n",
       "\t7 & 7          & 2017-03-12 & 07:02:51   & 0:09:10    & 43.66749   & 136.07     & 174.51     & 68.59      &  924       & 1374.02    & 1832       & 3868.90    & 6005.90    & 0.64       &  9815.63   & 0.09903058 & 4.913169  \\\\\n",
       "\\end{tabular}\n"
      ],
      "text/markdown": [
       "\n",
       "| <!--/--> | ID | Tag | Start | Dauer | Avg..HR | RMSSD | SDNN | pNN50 | RRmin | RRmean | RRmax | LF | HF | LF.HF | Total | NormRMSSD | LnRMSSD | \n",
       "|---|---|---|---|---|---|\n",
       "| 2 | 2          | 2017-03-17 | 06:08:55   | 0:08:57    | 42.61727   | 130.33     | 116.80     | 58.42      | 1117       | 1407.88    | 1758       | 4537.05    | 1786.91    | 2.54       |  6489.09   | 0.09257181 | 4.870070   | \n",
       "| 3 | 3          | 2017-03-16 | 06:09:06   | 0:09:59    | 44.02571   | 126.81     | 148.24     | 70.94      |  979       | 1362.84    | 1755       | 5277.45    | 3067.23    | 1.72       |  8999.88   | 0.09304834 | 4.842690   | \n",
       "| 4 | 4          | 2017-03-15 | 06:10:05   | 0:10:00    | 41.56161   | 172.43     | 150.37     | 81.16      | 1018       | 1443.64    | 1805       | 7591.26    | 7359.64    | 1.03       | 15269.42   | 0.11944113 | 5.149991   | \n",
       "| 5 | 5          | 2017-03-14 | 06:10:08   | 0:10:00    | 42.94211   | 170.64     | 191.75     | 76.64      | 1025       | 1397.23    | 1974       | 5687.76    | 8554.06    | 0.66       | 14614.74   | 0.12212735 | 5.139556   | \n",
       "| 6 | 6          | 2017-03-13 | 06:25:49   | 0:10:00    | 42.98795   | 139.66     | 165.57     | 76.17      | 1012       | 1395.74    | 1742       | 4188.03    | 4258.05    | 0.98       |  8746.70   | 0.10006162 | 4.939211   | \n",
       "| 7 | 7          | 2017-03-12 | 07:02:51   | 0:09:10    | 43.66749   | 136.07     | 174.51     | 68.59      |  924       | 1374.02    | 1832       | 3868.90    | 6005.90    | 0.64       |  9815.63   | 0.09903058 | 4.913169   | \n",
       "\n",
       "\n"
      ],
      "text/plain": [
       "  ID Tag        Start    Dauer   Avg..HR  RMSSD  SDNN   pNN50 RRmin RRmean \n",
       "2 2  2017-03-17 06:08:55 0:08:57 42.61727 130.33 116.80 58.42 1117  1407.88\n",
       "3 3  2017-03-16 06:09:06 0:09:59 44.02571 126.81 148.24 70.94  979  1362.84\n",
       "4 4  2017-03-15 06:10:05 0:10:00 41.56161 172.43 150.37 81.16 1018  1443.64\n",
       "5 5  2017-03-14 06:10:08 0:10:00 42.94211 170.64 191.75 76.64 1025  1397.23\n",
       "6 6  2017-03-13 06:25:49 0:10:00 42.98795 139.66 165.57 76.17 1012  1395.74\n",
       "7 7  2017-03-12 07:02:51 0:09:10 43.66749 136.07 174.51 68.59  924  1374.02\n",
       "  RRmax LF      HF      LF.HF Total    NormRMSSD  LnRMSSD \n",
       "2 1758  4537.05 1786.91 2.54   6489.09 0.09257181 4.870070\n",
       "3 1755  5277.45 3067.23 1.72   8999.88 0.09304834 4.842690\n",
       "4 1805  7591.26 7359.64 1.03  15269.42 0.11944113 5.149991\n",
       "5 1974  5687.76 8554.06 0.66  14614.74 0.12212735 5.139556\n",
       "6 1742  4188.03 4258.05 0.98   8746.70 0.10006162 4.939211\n",
       "7 1832  3868.90 6005.90 0.64   9815.63 0.09903058 4.913169"
      ]
     },
     "metadata": {},
     "output_type": "display_data"
    }
   ],
   "source": [
    "hrvData$NormRMSSD <- hrvData$RMSSD/hrvData$RRmean\n",
    "hrvData$LnRMSSD <- log(hrvData$RMSSD)\n",
    "head(hrvData)"
   ]
  },
  {
   "cell_type": "markdown",
   "metadata": {
    "deletable": true,
    "editable": true
   },
   "source": [
    "New column is a discretization of an existing column."
   ]
  },
  {
   "cell_type": "code",
   "execution_count": 27,
   "metadata": {
    "ExecuteTime": {
     "end_time": "2017-03-23T15:08:29.351191",
     "start_time": "2017-03-23T14:08:27.710Z"
    },
    "collapsed": false,
    "deletable": true,
    "editable": true
   },
   "outputs": [],
   "source": [
    "hrvData  <-  within(hrvData,{                   #within-functions allows, that within the curly brackets, the name of the dataframe is not required.\n",
    "    HRcat  <- NA\n",
    "    HRcat[Avg..HR < 43]  <- \"Low\"\n",
    "    HRcat[Avg..HR >=43 & Avg..HR < 48]  <- \"Med\"\n",
    "    HRcat[Avg..HR >=48]  <- \"High\"\n",
    "})"
   ]
  },
  {
   "cell_type": "markdown",
   "metadata": {
    "deletable": true,
    "editable": true
   },
   "source": [
    "The columns of one dataframe *df2* can be attached to the columns of another dataframe *df1* by applying the *rbind(df1,df2)*-function. This concatenation requires that the two dataframes have the same number of rows and are sorted in the same order."
   ]
  },
  {
   "cell_type": "markdown",
   "metadata": {
    "deletable": true,
    "editable": true
   },
   "source": [
    "## Transpose Dataframe"
   ]
  },
  {
   "cell_type": "code",
   "execution_count": 42,
   "metadata": {
    "collapsed": false,
    "deletable": true,
    "editable": true
   },
   "outputs": [
    {
     "data": {
      "text/html": [
       "<table>\n",
       "<thead><tr><th scope=col>ID</th><th scope=col>Tag</th><th scope=col>Start</th><th scope=col>Dauer</th><th scope=col>AvgHR</th><th scope=col>RMSSD</th><th scope=col>SDNN</th><th scope=col>pNN50</th><th scope=col>RRmin</th><th scope=col>RRmean</th><th scope=col>RRmax</th><th scope=col>LF</th><th scope=col>HF</th><th scope=col>LF.HF</th><th scope=col>Total</th><th scope=col>NormRMSSD</th><th scope=col>LnRMSSD</th><th scope=col>HRcat</th></tr></thead>\n",
       "<tbody>\n",
       "\t<tr><td>1         </td><td>2017-03-18</td><td>06:10:05  </td><td>0:09:05   </td><td>43.40000  </td><td>142.00    </td><td>123.00    </td><td>61.00     </td><td>1200      </td><td>1520.00   </td><td>1670      </td><td>3894.00   </td><td>2786.00   </td><td>2.30      </td><td> 6906.00  </td><td>0.09342105</td><td>4.955827  </td><td>Med       </td></tr>\n",
       "\t<tr><td>2         </td><td>2017-03-17</td><td>06:08:55  </td><td>0:08:57   </td><td>42.61727  </td><td>130.33    </td><td>116.80    </td><td>58.42     </td><td>1117      </td><td>1407.88   </td><td>1758      </td><td>4537.05   </td><td>1786.91   </td><td>2.54      </td><td> 6489.09  </td><td>0.09257181</td><td>4.870070  </td><td>Low       </td></tr>\n",
       "\t<tr><td>3         </td><td>2017-03-16</td><td>06:09:06  </td><td>0:09:59   </td><td>44.02571  </td><td>126.81    </td><td>148.24    </td><td>70.94     </td><td> 979      </td><td>1362.84   </td><td>1755      </td><td>5277.45   </td><td>3067.23   </td><td>1.72      </td><td> 8999.88  </td><td>0.09304834</td><td>4.842690  </td><td>Med       </td></tr>\n",
       "\t<tr><td>4         </td><td>2017-03-15</td><td>06:10:05  </td><td>0:10:00   </td><td>41.56161  </td><td>172.43    </td><td>150.37    </td><td>81.16     </td><td>1018      </td><td>1443.64   </td><td>1805      </td><td>7591.26   </td><td>7359.64   </td><td>1.03      </td><td>15269.42  </td><td>0.11944113</td><td>5.149991  </td><td>Low       </td></tr>\n",
       "\t<tr><td>5         </td><td>2017-03-14</td><td>06:10:08  </td><td>0:10:00   </td><td>42.94211  </td><td>170.64    </td><td>191.75    </td><td>76.64     </td><td>1025      </td><td>1397.23   </td><td>1974      </td><td>5687.76   </td><td>8554.06   </td><td>0.66      </td><td>14614.74  </td><td>0.12212735</td><td>5.139556  </td><td>Low       </td></tr>\n",
       "\t<tr><td>6         </td><td>2017-03-13</td><td>06:25:49  </td><td>0:10:00   </td><td>42.98795  </td><td>139.66    </td><td>165.57    </td><td>76.17     </td><td>1012      </td><td>1395.74   </td><td>1742      </td><td>4188.03   </td><td>4258.05   </td><td>0.98      </td><td> 8746.70  </td><td>0.10006162</td><td>4.939211  </td><td>Low       </td></tr>\n",
       "</tbody>\n",
       "</table>\n"
      ],
      "text/latex": [
       "\\begin{tabular}{r|llllllllllllllllll}\n",
       " ID & Tag & Start & Dauer & AvgHR & RMSSD & SDNN & pNN50 & RRmin & RRmean & RRmax & LF & HF & LF.HF & Total & NormRMSSD & LnRMSSD & HRcat\\\\\n",
       "\\hline\n",
       "\t 1          & 2017-03-18 & 06:10:05   & 0:09:05    & 43.40000   & 142.00     & 123.00     & 61.00      & 1200       & 1520.00    & 1670       & 3894.00    & 2786.00    & 2.30       &  6906.00   & 0.09342105 & 4.955827   & Med       \\\\\n",
       "\t 2          & 2017-03-17 & 06:08:55   & 0:08:57    & 42.61727   & 130.33     & 116.80     & 58.42      & 1117       & 1407.88    & 1758       & 4537.05    & 1786.91    & 2.54       &  6489.09   & 0.09257181 & 4.870070   & Low       \\\\\n",
       "\t 3          & 2017-03-16 & 06:09:06   & 0:09:59    & 44.02571   & 126.81     & 148.24     & 70.94      &  979       & 1362.84    & 1755       & 5277.45    & 3067.23    & 1.72       &  8999.88   & 0.09304834 & 4.842690   & Med       \\\\\n",
       "\t 4          & 2017-03-15 & 06:10:05   & 0:10:00    & 41.56161   & 172.43     & 150.37     & 81.16      & 1018       & 1443.64    & 1805       & 7591.26    & 7359.64    & 1.03       & 15269.42   & 0.11944113 & 5.149991   & Low       \\\\\n",
       "\t 5          & 2017-03-14 & 06:10:08   & 0:10:00    & 42.94211   & 170.64     & 191.75     & 76.64      & 1025       & 1397.23    & 1974       & 5687.76    & 8554.06    & 0.66       & 14614.74   & 0.12212735 & 5.139556   & Low       \\\\\n",
       "\t 6          & 2017-03-13 & 06:25:49   & 0:10:00    & 42.98795   & 139.66     & 165.57     & 76.17      & 1012       & 1395.74    & 1742       & 4188.03    & 4258.05    & 0.98       &  8746.70   & 0.10006162 & 4.939211   & Low       \\\\\n",
       "\\end{tabular}\n"
      ],
      "text/markdown": [
       "\n",
       "ID | Tag | Start | Dauer | AvgHR | RMSSD | SDNN | pNN50 | RRmin | RRmean | RRmax | LF | HF | LF.HF | Total | NormRMSSD | LnRMSSD | HRcat | \n",
       "|---|---|---|---|---|---|\n",
       "| 1          | 2017-03-18 | 06:10:05   | 0:09:05    | 43.40000   | 142.00     | 123.00     | 61.00      | 1200       | 1520.00    | 1670       | 3894.00    | 2786.00    | 2.30       |  6906.00   | 0.09342105 | 4.955827   | Med        | \n",
       "| 2          | 2017-03-17 | 06:08:55   | 0:08:57    | 42.61727   | 130.33     | 116.80     | 58.42      | 1117       | 1407.88    | 1758       | 4537.05    | 1786.91    | 2.54       |  6489.09   | 0.09257181 | 4.870070   | Low        | \n",
       "| 3          | 2017-03-16 | 06:09:06   | 0:09:59    | 44.02571   | 126.81     | 148.24     | 70.94      |  979       | 1362.84    | 1755       | 5277.45    | 3067.23    | 1.72       |  8999.88   | 0.09304834 | 4.842690   | Med        | \n",
       "| 4          | 2017-03-15 | 06:10:05   | 0:10:00    | 41.56161   | 172.43     | 150.37     | 81.16      | 1018       | 1443.64    | 1805       | 7591.26    | 7359.64    | 1.03       | 15269.42   | 0.11944113 | 5.149991   | Low        | \n",
       "| 5          | 2017-03-14 | 06:10:08   | 0:10:00    | 42.94211   | 170.64     | 191.75     | 76.64      | 1025       | 1397.23    | 1974       | 5687.76    | 8554.06    | 0.66       | 14614.74   | 0.12212735 | 5.139556   | Low        | \n",
       "| 6          | 2017-03-13 | 06:25:49   | 0:10:00    | 42.98795   | 139.66     | 165.57     | 76.17      | 1012       | 1395.74    | 1742       | 4188.03    | 4258.05    | 0.98       |  8746.70   | 0.10006162 | 4.939211   | Low        | \n",
       "\n",
       "\n"
      ],
      "text/plain": [
       "  ID Tag        Start    Dauer   AvgHR    RMSSD  SDNN   pNN50 RRmin RRmean \n",
       "1 1  2017-03-18 06:10:05 0:09:05 43.40000 142.00 123.00 61.00 1200  1520.00\n",
       "2 2  2017-03-17 06:08:55 0:08:57 42.61727 130.33 116.80 58.42 1117  1407.88\n",
       "3 3  2017-03-16 06:09:06 0:09:59 44.02571 126.81 148.24 70.94  979  1362.84\n",
       "4 4  2017-03-15 06:10:05 0:10:00 41.56161 172.43 150.37 81.16 1018  1443.64\n",
       "5 5  2017-03-14 06:10:08 0:10:00 42.94211 170.64 191.75 76.64 1025  1397.23\n",
       "6 6  2017-03-13 06:25:49 0:10:00 42.98795 139.66 165.57 76.17 1012  1395.74\n",
       "  RRmax LF      HF      LF.HF Total    NormRMSSD  LnRMSSD  HRcat\n",
       "1 1670  3894.00 2786.00 2.30   6906.00 0.09342105 4.955827 Med  \n",
       "2 1758  4537.05 1786.91 2.54   6489.09 0.09257181 4.870070 Low  \n",
       "3 1755  5277.45 3067.23 1.72   8999.88 0.09304834 4.842690 Med  \n",
       "4 1805  7591.26 7359.64 1.03  15269.42 0.11944113 5.149991 Low  \n",
       "5 1974  5687.76 8554.06 0.66  14614.74 0.12212735 5.139556 Low  \n",
       "6 1742  4188.03 4258.05 0.98   8746.70 0.10006162 4.939211 Low  "
      ]
     },
     "metadata": {},
     "output_type": "display_data"
    },
    {
     "data": {
      "text/html": [
       "<table>\n",
       "<thead><tr><th></th><th scope=col>1</th><th scope=col>2</th><th scope=col>3</th><th scope=col>4</th><th scope=col>5</th><th scope=col>6</th><th scope=col>7</th><th scope=col>8</th><th scope=col>9</th><th scope=col>10</th><th scope=col>...</th><th scope=col>732</th><th scope=col>733</th><th scope=col>734</th><th scope=col>735</th><th scope=col>736</th><th scope=col>737</th><th scope=col>738</th><th scope=col>739</th><th scope=col>740</th><th scope=col>741</th></tr></thead>\n",
       "<tbody>\n",
       "\t<tr><th scope=row>ID</th><td>  1           </td><td>  2           </td><td>  3           </td><td>  4           </td><td>  5           </td><td>  6           </td><td>  7           </td><td>  8           </td><td>  9           </td><td> 10           </td><td>...           </td><td>732           </td><td>733           </td><td>734           </td><td>735           </td><td>736           </td><td>737           </td><td>738           </td><td>739           </td><td>740           </td><td>741           </td></tr>\n",
       "\t<tr><th scope=row>Tag</th><td>2017-03-18    </td><td>2017-03-17    </td><td>2017-03-16    </td><td>2017-03-15    </td><td>2017-03-14    </td><td>2017-03-13    </td><td>2017-03-12    </td><td>2017-03-11    </td><td>2017-03-10    </td><td>2017-03-09    </td><td>...           </td><td>2015-03-04    </td><td>2015-03-03    </td><td>2015-03-02    </td><td>2015-03-01    </td><td>2015-02-28    </td><td>2015-02-27    </td><td>2015-02-26    </td><td>2015-02-25    </td><td>2015-02-23    </td><td>2015-02-17    </td></tr>\n",
       "\t<tr><th scope=row>Start</th><td>06:10:05      </td><td>06:08:55      </td><td>06:09:06      </td><td>06:10:05      </td><td>06:10:08      </td><td>06:25:49      </td><td>07:02:51      </td><td>07:18:35      </td><td>06:09:35      </td><td>06:08:14      </td><td>...           </td><td>05:37:31      </td><td>05:49:08      </td><td>05:48:25      </td><td>06:02:26      </td><td>06:07:51      </td><td>05:47:55      </td><td>05:23:53      </td><td>05:45:59      </td><td>07:36:30      </td><td>10:32:27      </td></tr>\n",
       "\t<tr><th scope=row>Dauer</th><td>0:09:05       </td><td>0:08:57       </td><td>0:09:59       </td><td>0:10:00       </td><td>0:10:00       </td><td>0:10:00       </td><td>0:09:10       </td><td>0:10:00       </td><td>0:08:03       </td><td>0:08:08       </td><td>...           </td><td>0:11:19.446000</td><td>0:11:15.186000</td><td>0:11:59.397000</td><td>0:11:46.702000</td><td>0:11:56.851000</td><td>0:10:33.921000</td><td>0:12:11.591000</td><td>0:11:20.961000</td><td>0:12:12.876000</td><td>0:23:55.177000</td></tr>\n",
       "\t<tr><th scope=row>AvgHR</th><td>43.40000      </td><td>42.61727      </td><td>44.02571      </td><td>41.56161      </td><td>42.94211      </td><td>42.98795      </td><td>43.66749      </td><td>52.59098      </td><td>45.56397      </td><td>46.89918      </td><td>...           </td><td>42.93504      </td><td>41.17994      </td><td>43.37862      </td><td>44.51402      </td><td>41.57197      </td><td>44.97313      </td><td>42.61031      </td><td>42.58460      </td><td>51.98091      </td><td>53.93258      </td></tr>\n",
       "\t<tr><th scope=row>RMSSD</th><td>142.00        </td><td>130.33        </td><td>126.81        </td><td>172.43        </td><td>170.64        </td><td>139.66        </td><td>136.07        </td><td> 87.90        </td><td>131.17        </td><td>129.88        </td><td>...           </td><td>130.41        </td><td>142.60        </td><td>119.27        </td><td>112.56        </td><td>127.73        </td><td>123.37        </td><td>150.28        </td><td>121.18        </td><td> 72.18        </td><td> 67.88        </td></tr>\n",
       "</tbody>\n",
       "</table>\n"
      ],
      "text/latex": [
       "\\begin{tabular}{r|lllllllllllllllllllllllllllllllllllllllllllllllllllllllllllllllllllllllllllllllllllllllllllllllllllllllllllllllllllllllllllllllllllllllllllllllllllllllllllllllllllllllllllllllllllllllllllllllllllllllllllllllllllllllllllllllllllllllllllllllllllllllllllllllllllllllllllllllllllllllllllllllllllllllllllllllllllllllllllllllllllllllllllllllllllllllllllllllllllllllllllllllllllllllllllllllllllllllllllllllllllllllllllllllllllllllllllllllllllllllllllllllllllllllllllllllllllllllllllllllllllllllllllllllllllllllllllllllllllllllllllllllllllllllllllllllllllllllllllllllllllllllllllllllllllllllllllllllllllllllllllllllllllllllllllllllllllllllllllllllllllllllllllllllllllllllllllllllllllllllllllllllllllllllllllllllllllllllllllllllllllllllllllllllllll}\n",
       "  & 1 & 2 & 3 & 4 & 5 & 6 & 7 & 8 & 9 & 10 & ... & 732 & 733 & 734 & 735 & 736 & 737 & 738 & 739 & 740 & 741\\\\\n",
       "\\hline\n",
       "\tID &   1            &   2            &   3            &   4            &   5            &   6            &   7            &   8            &   9            &  10            & ...            & 732            & 733            & 734            & 735            & 736            & 737            & 738            & 739            & 740            & 741           \\\\\n",
       "\tTag & 2017-03-18     & 2017-03-17     & 2017-03-16     & 2017-03-15     & 2017-03-14     & 2017-03-13     & 2017-03-12     & 2017-03-11     & 2017-03-10     & 2017-03-09     & ...            & 2015-03-04     & 2015-03-03     & 2015-03-02     & 2015-03-01     & 2015-02-28     & 2015-02-27     & 2015-02-26     & 2015-02-25     & 2015-02-23     & 2015-02-17    \\\\\n",
       "\tStart & 06:10:05       & 06:08:55       & 06:09:06       & 06:10:05       & 06:10:08       & 06:25:49       & 07:02:51       & 07:18:35       & 06:09:35       & 06:08:14       & ...            & 05:37:31       & 05:49:08       & 05:48:25       & 06:02:26       & 06:07:51       & 05:47:55       & 05:23:53       & 05:45:59       & 07:36:30       & 10:32:27      \\\\\n",
       "\tDauer & 0:09:05        & 0:08:57        & 0:09:59        & 0:10:00        & 0:10:00        & 0:10:00        & 0:09:10        & 0:10:00        & 0:08:03        & 0:08:08        & ...            & 0:11:19.446000 & 0:11:15.186000 & 0:11:59.397000 & 0:11:46.702000 & 0:11:56.851000 & 0:10:33.921000 & 0:12:11.591000 & 0:11:20.961000 & 0:12:12.876000 & 0:23:55.177000\\\\\n",
       "\tAvgHR & 43.40000       & 42.61727       & 44.02571       & 41.56161       & 42.94211       & 42.98795       & 43.66749       & 52.59098       & 45.56397       & 46.89918       & ...            & 42.93504       & 41.17994       & 43.37862       & 44.51402       & 41.57197       & 44.97313       & 42.61031       & 42.58460       & 51.98091       & 53.93258      \\\\\n",
       "\tRMSSD & 142.00         & 130.33         & 126.81         & 172.43         & 170.64         & 139.66         & 136.07         &  87.90         & 131.17         & 129.88         & ...            & 130.41         & 142.60         & 119.27         & 112.56         & 127.73         & 123.37         & 150.28         & 121.18         &  72.18         &  67.88        \\\\\n",
       "\\end{tabular}\n"
      ],
      "text/markdown": [
       "\n",
       "| <!--/--> | 1 | 2 | 3 | 4 | 5 | 6 | 7 | 8 | 9 | 10 | ... | 732 | 733 | 734 | 735 | 736 | 737 | 738 | 739 | 740 | 741 | \n",
       "|---|---|---|---|---|---|\n",
       "| ID |   1            |   2            |   3            |   4            |   5            |   6            |   7            |   8            |   9            |  10            | ...            | 732            | 733            | 734            | 735            | 736            | 737            | 738            | 739            | 740            | 741            | \n",
       "| Tag | 2017-03-18     | 2017-03-17     | 2017-03-16     | 2017-03-15     | 2017-03-14     | 2017-03-13     | 2017-03-12     | 2017-03-11     | 2017-03-10     | 2017-03-09     | ...            | 2015-03-04     | 2015-03-03     | 2015-03-02     | 2015-03-01     | 2015-02-28     | 2015-02-27     | 2015-02-26     | 2015-02-25     | 2015-02-23     | 2015-02-17     | \n",
       "| Start | 06:10:05       | 06:08:55       | 06:09:06       | 06:10:05       | 06:10:08       | 06:25:49       | 07:02:51       | 07:18:35       | 06:09:35       | 06:08:14       | ...            | 05:37:31       | 05:49:08       | 05:48:25       | 06:02:26       | 06:07:51       | 05:47:55       | 05:23:53       | 05:45:59       | 07:36:30       | 10:32:27       | \n",
       "| Dauer | 0:09:05        | 0:08:57        | 0:09:59        | 0:10:00        | 0:10:00        | 0:10:00        | 0:09:10        | 0:10:00        | 0:08:03        | 0:08:08        | ...            | 0:11:19.446000 | 0:11:15.186000 | 0:11:59.397000 | 0:11:46.702000 | 0:11:56.851000 | 0:10:33.921000 | 0:12:11.591000 | 0:11:20.961000 | 0:12:12.876000 | 0:23:55.177000 | \n",
       "| AvgHR | 43.40000       | 42.61727       | 44.02571       | 41.56161       | 42.94211       | 42.98795       | 43.66749       | 52.59098       | 45.56397       | 46.89918       | ...            | 42.93504       | 41.17994       | 43.37862       | 44.51402       | 41.57197       | 44.97313       | 42.61031       | 42.58460       | 51.98091       | 53.93258       | \n",
       "| RMSSD | 142.00         | 130.33         | 126.81         | 172.43         | 170.64         | 139.66         | 136.07         |  87.90         | 131.17         | 129.88         | ...            | 130.41         | 142.60         | 119.27         | 112.56         | 127.73         | 123.37         | 150.28         | 121.18         |  72.18         |  67.88         | \n",
       "\n",
       "\n"
      ],
      "text/plain": [
       "      1          2          3          4          5          6         \n",
       "ID      1          2          3          4          5          6       \n",
       "Tag   2017-03-18 2017-03-17 2017-03-16 2017-03-15 2017-03-14 2017-03-13\n",
       "Start 06:10:05   06:08:55   06:09:06   06:10:05   06:10:08   06:25:49  \n",
       "Dauer 0:09:05    0:08:57    0:09:59    0:10:00    0:10:00    0:10:00   \n",
       "AvgHR 43.40000   42.61727   44.02571   41.56161   42.94211   42.98795  \n",
       "RMSSD 142.00     130.33     126.81     172.43     170.64     139.66    \n",
       "      7          8          9          10         ... 732           \n",
       "ID      7          8          9         10        ... 732           \n",
       "Tag   2017-03-12 2017-03-11 2017-03-10 2017-03-09 ... 2015-03-04    \n",
       "Start 07:02:51   07:18:35   06:09:35   06:08:14   ... 05:37:31      \n",
       "Dauer 0:09:10    0:10:00    0:08:03    0:08:08    ... 0:11:19.446000\n",
       "AvgHR 43.66749   52.59098   45.56397   46.89918   ... 42.93504      \n",
       "RMSSD 136.07      87.90     131.17     129.88     ... 130.41        \n",
       "      733            734            735            736           \n",
       "ID    733            734            735            736           \n",
       "Tag   2015-03-03     2015-03-02     2015-03-01     2015-02-28    \n",
       "Start 05:49:08       05:48:25       06:02:26       06:07:51      \n",
       "Dauer 0:11:15.186000 0:11:59.397000 0:11:46.702000 0:11:56.851000\n",
       "AvgHR 41.17994       43.37862       44.51402       41.57197      \n",
       "RMSSD 142.60         119.27         112.56         127.73        \n",
       "      737            738            739            740           \n",
       "ID    737            738            739            740           \n",
       "Tag   2015-02-27     2015-02-26     2015-02-25     2015-02-23    \n",
       "Start 05:47:55       05:23:53       05:45:59       07:36:30      \n",
       "Dauer 0:10:33.921000 0:12:11.591000 0:11:20.961000 0:12:12.876000\n",
       "AvgHR 44.97313       42.61031       42.58460       51.98091      \n",
       "RMSSD 123.37         150.28         121.18          72.18        \n",
       "      741           \n",
       "ID    741           \n",
       "Tag   2015-02-17    \n",
       "Start 10:32:27      \n",
       "Dauer 0:23:55.177000\n",
       "AvgHR 53.93258      \n",
       "RMSSD  67.88        "
      ]
     },
     "metadata": {},
     "output_type": "display_data"
    }
   ],
   "source": [
    "head(hrvData)\n",
    "hrvDataT<-t(hrvData)\n",
    "head(hrvDataT)"
   ]
  },
  {
   "cell_type": "markdown",
   "metadata": {
    "deletable": true,
    "editable": true
   },
   "source": [
    "## Merge Dataframes\n",
    "Dataframes can be joined by one or more key variables by applying the *merge()*-function. "
   ]
  },
  {
   "cell_type": "code",
   "execution_count": 28,
   "metadata": {
    "ExecuteTime": {
     "end_time": "2017-03-23T15:08:29.443040",
     "start_time": "2017-03-23T14:08:27.715Z"
    },
    "collapsed": false,
    "deletable": true,
    "editable": true
   },
   "outputs": [
    {
     "data": {
      "text/html": [
       "<table>\n",
       "<thead><tr><th scope=col>ID</th><th scope=col>AGE</th><th scope=col>GENDER</th></tr></thead>\n",
       "<tbody>\n",
       "\t<tr><td>1 </td><td>12</td><td>m </td></tr>\n",
       "\t<tr><td>2 </td><td>21</td><td>m </td></tr>\n",
       "\t<tr><td>3 </td><td>34</td><td>f </td></tr>\n",
       "\t<tr><td>4 </td><td>27</td><td>f </td></tr>\n",
       "</tbody>\n",
       "</table>\n"
      ],
      "text/latex": [
       "\\begin{tabular}{r|lll}\n",
       " ID & AGE & GENDER\\\\\n",
       "\\hline\n",
       "\t 1  & 12 & m \\\\\n",
       "\t 2  & 21 & m \\\\\n",
       "\t 3  & 34 & f \\\\\n",
       "\t 4  & 27 & f \\\\\n",
       "\\end{tabular}\n"
      ],
      "text/markdown": [
       "\n",
       "ID | AGE | GENDER | \n",
       "|---|---|---|---|\n",
       "| 1  | 12 | m  | \n",
       "| 2  | 21 | m  | \n",
       "| 3  | 34 | f  | \n",
       "| 4  | 27 | f  | \n",
       "\n",
       "\n"
      ],
      "text/plain": [
       "  ID AGE GENDER\n",
       "1 1  12  m     \n",
       "2 2  21  m     \n",
       "3 3  34  f     \n",
       "4 4  27  f     "
      ]
     },
     "metadata": {},
     "output_type": "display_data"
    },
    {
     "data": {
      "text/html": [
       "<table>\n",
       "<thead><tr><th scope=col>ID</th><th scope=col>NAMES</th></tr></thead>\n",
       "<tbody>\n",
       "\t<tr><td>2    </td><td>peter</td></tr>\n",
       "\t<tr><td>3    </td><td>mary </td></tr>\n",
       "\t<tr><td>4    </td><td>betty</td></tr>\n",
       "\t<tr><td>5    </td><td>ben  </td></tr>\n",
       "</tbody>\n",
       "</table>\n"
      ],
      "text/latex": [
       "\\begin{tabular}{r|ll}\n",
       " ID & NAMES\\\\\n",
       "\\hline\n",
       "\t 2     & peter\\\\\n",
       "\t 3     & mary \\\\\n",
       "\t 4     & betty\\\\\n",
       "\t 5     & ben  \\\\\n",
       "\\end{tabular}\n"
      ],
      "text/markdown": [
       "\n",
       "ID | NAMES | \n",
       "|---|---|---|---|\n",
       "| 2     | peter | \n",
       "| 3     | mary  | \n",
       "| 4     | betty | \n",
       "| 5     | ben   | \n",
       "\n",
       "\n"
      ],
      "text/plain": [
       "  ID NAMES\n",
       "1 2  peter\n",
       "2 3  mary \n",
       "3 4  betty\n",
       "4 5  ben  "
      ]
     },
     "metadata": {},
     "output_type": "display_data"
    }
   ],
   "source": [
    "Id1 <- c(1,2,3,4)\n",
    "age <- c(12,21,34,27)\n",
    "gender  <- c('m','m','f','f')\n",
    "persons <- data.frame(\"ID\"=Id1,\"AGE\"=age,\"GENDER\"=gender)\n",
    "persons\n",
    "Id2 <- c(2,3,4,5)\n",
    "names <- c(\"peter\",\"mary\",\"betty\",\"ben\")\n",
    "personNames <- data.frame(\"ID\"=Id2,\"NAMES\"=names)\n",
    "personNames"
   ]
  },
  {
   "cell_type": "code",
   "execution_count": 29,
   "metadata": {
    "ExecuteTime": {
     "end_time": "2017-03-23T15:08:29.507108",
     "start_time": "2017-03-23T14:08:27.719Z"
    },
    "collapsed": false,
    "deletable": true,
    "editable": true
   },
   "outputs": [
    {
     "data": {
      "text/html": [
       "<table>\n",
       "<thead><tr><th scope=col>ID</th><th scope=col>NAMES</th><th scope=col>AGE</th><th scope=col>GENDER</th></tr></thead>\n",
       "<tbody>\n",
       "\t<tr><td>2    </td><td>peter</td><td>21   </td><td>m    </td></tr>\n",
       "\t<tr><td>3    </td><td>mary </td><td>34   </td><td>f    </td></tr>\n",
       "\t<tr><td>4    </td><td>betty</td><td>27   </td><td>f    </td></tr>\n",
       "</tbody>\n",
       "</table>\n"
      ],
      "text/latex": [
       "\\begin{tabular}{r|llll}\n",
       " ID & NAMES & AGE & GENDER\\\\\n",
       "\\hline\n",
       "\t 2     & peter & 21    & m    \\\\\n",
       "\t 3     & mary  & 34    & f    \\\\\n",
       "\t 4     & betty & 27    & f    \\\\\n",
       "\\end{tabular}\n"
      ],
      "text/markdown": [
       "\n",
       "ID | NAMES | AGE | GENDER | \n",
       "|---|---|---|\n",
       "| 2     | peter | 21    | m     | \n",
       "| 3     | mary  | 34    | f     | \n",
       "| 4     | betty | 27    | f     | \n",
       "\n",
       "\n"
      ],
      "text/plain": [
       "  ID NAMES AGE GENDER\n",
       "1 2  peter 21  m     \n",
       "2 3  mary  34  f     \n",
       "3 4  betty 27  f     "
      ]
     },
     "metadata": {},
     "output_type": "display_data"
    }
   ],
   "source": [
    "NamedPersons <- merge(personNames,persons,by=\"ID\")\n",
    "NamedPersons"
   ]
  },
  {
   "cell_type": "markdown",
   "metadata": {
    "deletable": true,
    "editable": true
   },
   "source": [
    "## Filter by value\n",
    "\n",
    "Determine subset of rows, whose SDNN value is *>200*:"
   ]
  },
  {
   "cell_type": "code",
   "execution_count": 30,
   "metadata": {
    "ExecuteTime": {
     "end_time": "2017-03-23T15:08:29.582997",
     "start_time": "2017-03-23T14:08:27.723Z"
    },
    "collapsed": false,
    "deletable": true,
    "editable": true
   },
   "outputs": [
    {
     "data": {
      "text/html": [
       "<table>\n",
       "<thead><tr><th></th><th scope=col>ID</th><th scope=col>Tag</th><th scope=col>Start</th><th scope=col>Dauer</th><th scope=col>Avg..HR</th><th scope=col>RMSSD</th><th scope=col>SDNN</th><th scope=col>pNN50</th><th scope=col>RRmin</th><th scope=col>RRmean</th><th scope=col>RRmax</th><th scope=col>LF</th><th scope=col>HF</th><th scope=col>LF.HF</th><th scope=col>Total</th><th scope=col>NormRMSSD</th><th scope=col>LnRMSSD</th><th scope=col>HRcat</th></tr></thead>\n",
       "<tbody>\n",
       "\t<tr><th scope=row>89</th><td> 89           </td><td>2016-12-18    </td><td>07:11:22      </td><td>0:10:12.647000</td><td>51.37734      </td><td>160.56        </td><td>261.83        </td><td>70.30         </td><td>501           </td><td>1167.83       </td><td>1752          </td><td> 3122.79      </td><td> 5940.97      </td><td>0.53          </td><td> 8990.28      </td><td>0.13748576    </td><td>5.078668      </td><td>High          </td></tr>\n",
       "\t<tr><th scope=row>102</th><td>102           </td><td>2016-12-05    </td><td>06:09:33      </td><td>0:08:22.945000</td><td>48.91211      </td><td>164.04        </td><td>294.51        </td><td>73.54         </td><td>507           </td><td>1226.69       </td><td>1803          </td><td> 6150.24      </td><td> 7670.06      </td><td>0.80          </td><td>14364.70      </td><td>0.13372572    </td><td>5.100110      </td><td>High          </td></tr>\n",
       "\t<tr><th scope=row>110</th><td>110           </td><td>2016-11-26    </td><td>06:08:08      </td><td>0:08:45       </td><td>42.91324      </td><td>189.50        </td><td>203.06        </td><td>79.62         </td><td>917           </td><td>1398.17       </td><td>1918          </td><td> 9947.96      </td><td> 7348.01      </td><td>1.35          </td><td>17753.86      </td><td>0.13553431    </td><td>5.244389      </td><td>Low           </td></tr>\n",
       "\t<tr><th scope=row>251</th><td>251           </td><td>2016-07-04    </td><td>06:25:15      </td><td>0:10:40       </td><td>43.82217      </td><td>159.91        </td><td>200.30        </td><td>73.75         </td><td>757           </td><td>1369.17       </td><td>1816          </td><td> 7968.60      </td><td> 5137.97      </td><td>1.55          </td><td>13799.12      </td><td>0.11679339    </td><td>5.074611      </td><td>Med           </td></tr>\n",
       "\t<tr><th scope=row>282</th><td>282           </td><td>2016-06-03    </td><td>06:07:54      </td><td>0:10:08       </td><td>41.73332      </td><td>164.00        </td><td>200.93        </td><td>72.99         </td><td>714           </td><td>1437.70       </td><td>1869          </td><td> 6313.27      </td><td> 6230.76      </td><td>1.01          </td><td>13019.58      </td><td>0.11407109    </td><td>5.099866      </td><td>Low           </td></tr>\n",
       "\t<tr><th scope=row>418</th><td>418           </td><td>2016-01-19    </td><td>05:40:36      </td><td>0:10:01.174000</td><td>41.83721      </td><td>175.76        </td><td>201.30        </td><td>77.29         </td><td>938           </td><td>1434.13       </td><td>1890          </td><td> 3548.36      </td><td> 7353.37      </td><td>0.48          </td><td>11534.41      </td><td>0.12255514    </td><td>5.169119      </td><td>Low           </td></tr>\n",
       "\t<tr><th scope=row>439</th><td>439           </td><td>2015-12-29    </td><td>06:49:47      </td><td>0:10:23.349000</td><td>45.03321      </td><td>139.17        </td><td>204.34        </td><td>67.99         </td><td>921           </td><td>1332.35       </td><td>1855          </td><td> 7192.42      </td><td> 4404.31      </td><td>1.63          </td><td>12543.87      </td><td>0.10445454    </td><td>4.935696      </td><td>Med           </td></tr>\n",
       "\t<tr><th scope=row>513</th><td>513           </td><td>2015-10-16    </td><td>06:20:27      </td><td>0:10:32.282000</td><td>42.23865      </td><td>131.31        </td><td>200.13        </td><td>70.34         </td><td>894           </td><td>1420.50       </td><td>1901          </td><td> 6206.75      </td><td> 3811.00      </td><td>1.63          </td><td>10504.32      </td><td>0.09243928    </td><td>4.877561      </td><td>Low           </td></tr>\n",
       "\t<tr><th scope=row>521</th><td>521           </td><td>2015-10-08    </td><td>06:34:11      </td><td>0:11:02.328000</td><td>43.00736      </td><td>143.55        </td><td>200.05        </td><td>71.46         </td><td>982           </td><td>1395.11       </td><td>1850          </td><td> 7071.29      </td><td> 4413.60      </td><td>1.60          </td><td>12031.96      </td><td>0.10289511    </td><td>4.966683      </td><td>Med           </td></tr>\n",
       "\t<tr><th scope=row>526</th><td>526           </td><td>2015-10-02    </td><td>06:18:29      </td><td>0:08:46.148000</td><td>44.10792      </td><td>134.20        </td><td>239.08        </td><td>71.94         </td><td>763           </td><td>1360.30       </td><td>2190          </td><td>13505.08      </td><td>10288.69      </td><td>1.31          </td><td>25592.87      </td><td>0.09865471    </td><td>4.899331      </td><td>Med           </td></tr>\n",
       "\t<tr><th scope=row>549</th><td>549           </td><td>2015-09-09    </td><td>07:17:52      </td><td>0:11:56.214000</td><td>45.86805      </td><td>121.27        </td><td>217.20        </td><td>58.39         </td><td>743           </td><td>1308.10       </td><td>1828          </td><td> 2582.98      </td><td> 2990.12      </td><td>0.86          </td><td> 5932.65      </td><td>0.09270698    </td><td>4.798019      </td><td>Med           </td></tr>\n",
       "\t<tr><th scope=row>553</th><td>553           </td><td>2015-09-05    </td><td>07:23:22      </td><td>0:11:05.156000</td><td>49.79253      </td><td>104.00        </td><td>218.53        </td><td>55.30         </td><td>664           </td><td>1205.00       </td><td>1766          </td><td> 5557.76      </td><td> 2236.86      </td><td>2.48          </td><td> 8691.83      </td><td>0.08630705    </td><td>4.644391      </td><td>High          </td></tr>\n",
       "\t<tr><th scope=row>554</th><td>554           </td><td>2015-09-04    </td><td>06:42:14      </td><td>0:11:15.133000</td><td>44.84942      </td><td>124.23        </td><td>215.60        </td><td>69.74         </td><td>711           </td><td>1337.81       </td><td>1759          </td><td> 4763.60      </td><td> 3655.28      </td><td>1.30          </td><td> 8844.92      </td><td>0.09286072    </td><td>4.822135      </td><td>Med           </td></tr>\n",
       "</tbody>\n",
       "</table>\n"
      ],
      "text/latex": [
       "\\begin{tabular}{r|llllllllllllllllll}\n",
       "  & ID & Tag & Start & Dauer & Avg..HR & RMSSD & SDNN & pNN50 & RRmin & RRmean & RRmax & LF & HF & LF.HF & Total & NormRMSSD & LnRMSSD & HRcat\\\\\n",
       "\\hline\n",
       "\t89 &  89            & 2016-12-18     & 07:11:22       & 0:10:12.647000 & 51.37734       & 160.56         & 261.83         & 70.30          & 501            & 1167.83        & 1752           &  3122.79       &  5940.97       & 0.53           &  8990.28       & 0.13748576     & 5.078668       & High          \\\\\n",
       "\t102 & 102            & 2016-12-05     & 06:09:33       & 0:08:22.945000 & 48.91211       & 164.04         & 294.51         & 73.54          & 507            & 1226.69        & 1803           &  6150.24       &  7670.06       & 0.80           & 14364.70       & 0.13372572     & 5.100110       & High          \\\\\n",
       "\t110 & 110            & 2016-11-26     & 06:08:08       & 0:08:45        & 42.91324       & 189.50         & 203.06         & 79.62          & 917            & 1398.17        & 1918           &  9947.96       &  7348.01       & 1.35           & 17753.86       & 0.13553431     & 5.244389       & Low           \\\\\n",
       "\t251 & 251            & 2016-07-04     & 06:25:15       & 0:10:40        & 43.82217       & 159.91         & 200.30         & 73.75          & 757            & 1369.17        & 1816           &  7968.60       &  5137.97       & 1.55           & 13799.12       & 0.11679339     & 5.074611       & Med           \\\\\n",
       "\t282 & 282            & 2016-06-03     & 06:07:54       & 0:10:08        & 41.73332       & 164.00         & 200.93         & 72.99          & 714            & 1437.70        & 1869           &  6313.27       &  6230.76       & 1.01           & 13019.58       & 0.11407109     & 5.099866       & Low           \\\\\n",
       "\t418 & 418            & 2016-01-19     & 05:40:36       & 0:10:01.174000 & 41.83721       & 175.76         & 201.30         & 77.29          & 938            & 1434.13        & 1890           &  3548.36       &  7353.37       & 0.48           & 11534.41       & 0.12255514     & 5.169119       & Low           \\\\\n",
       "\t439 & 439            & 2015-12-29     & 06:49:47       & 0:10:23.349000 & 45.03321       & 139.17         & 204.34         & 67.99          & 921            & 1332.35        & 1855           &  7192.42       &  4404.31       & 1.63           & 12543.87       & 0.10445454     & 4.935696       & Med           \\\\\n",
       "\t513 & 513            & 2015-10-16     & 06:20:27       & 0:10:32.282000 & 42.23865       & 131.31         & 200.13         & 70.34          & 894            & 1420.50        & 1901           &  6206.75       &  3811.00       & 1.63           & 10504.32       & 0.09243928     & 4.877561       & Low           \\\\\n",
       "\t521 & 521            & 2015-10-08     & 06:34:11       & 0:11:02.328000 & 43.00736       & 143.55         & 200.05         & 71.46          & 982            & 1395.11        & 1850           &  7071.29       &  4413.60       & 1.60           & 12031.96       & 0.10289511     & 4.966683       & Med           \\\\\n",
       "\t526 & 526            & 2015-10-02     & 06:18:29       & 0:08:46.148000 & 44.10792       & 134.20         & 239.08         & 71.94          & 763            & 1360.30        & 2190           & 13505.08       & 10288.69       & 1.31           & 25592.87       & 0.09865471     & 4.899331       & Med           \\\\\n",
       "\t549 & 549            & 2015-09-09     & 07:17:52       & 0:11:56.214000 & 45.86805       & 121.27         & 217.20         & 58.39          & 743            & 1308.10        & 1828           &  2582.98       &  2990.12       & 0.86           &  5932.65       & 0.09270698     & 4.798019       & Med           \\\\\n",
       "\t553 & 553            & 2015-09-05     & 07:23:22       & 0:11:05.156000 & 49.79253       & 104.00         & 218.53         & 55.30          & 664            & 1205.00        & 1766           &  5557.76       &  2236.86       & 2.48           &  8691.83       & 0.08630705     & 4.644391       & High          \\\\\n",
       "\t554 & 554            & 2015-09-04     & 06:42:14       & 0:11:15.133000 & 44.84942       & 124.23         & 215.60         & 69.74          & 711            & 1337.81        & 1759           &  4763.60       &  3655.28       & 1.30           &  8844.92       & 0.09286072     & 4.822135       & Med           \\\\\n",
       "\\end{tabular}\n"
      ],
      "text/markdown": [
       "\n",
       "| <!--/--> | ID | Tag | Start | Dauer | Avg..HR | RMSSD | SDNN | pNN50 | RRmin | RRmean | RRmax | LF | HF | LF.HF | Total | NormRMSSD | LnRMSSD | HRcat | \n",
       "|---|---|---|---|---|---|---|---|---|---|---|---|---|\n",
       "| 89 |  89            | 2016-12-18     | 07:11:22       | 0:10:12.647000 | 51.37734       | 160.56         | 261.83         | 70.30          | 501            | 1167.83        | 1752           |  3122.79       |  5940.97       | 0.53           |  8990.28       | 0.13748576     | 5.078668       | High           | \n",
       "| 102 | 102            | 2016-12-05     | 06:09:33       | 0:08:22.945000 | 48.91211       | 164.04         | 294.51         | 73.54          | 507            | 1226.69        | 1803           |  6150.24       |  7670.06       | 0.80           | 14364.70       | 0.13372572     | 5.100110       | High           | \n",
       "| 110 | 110            | 2016-11-26     | 06:08:08       | 0:08:45        | 42.91324       | 189.50         | 203.06         | 79.62          | 917            | 1398.17        | 1918           |  9947.96       |  7348.01       | 1.35           | 17753.86       | 0.13553431     | 5.244389       | Low            | \n",
       "| 251 | 251            | 2016-07-04     | 06:25:15       | 0:10:40        | 43.82217       | 159.91         | 200.30         | 73.75          | 757            | 1369.17        | 1816           |  7968.60       |  5137.97       | 1.55           | 13799.12       | 0.11679339     | 5.074611       | Med            | \n",
       "| 282 | 282            | 2016-06-03     | 06:07:54       | 0:10:08        | 41.73332       | 164.00         | 200.93         | 72.99          | 714            | 1437.70        | 1869           |  6313.27       |  6230.76       | 1.01           | 13019.58       | 0.11407109     | 5.099866       | Low            | \n",
       "| 418 | 418            | 2016-01-19     | 05:40:36       | 0:10:01.174000 | 41.83721       | 175.76         | 201.30         | 77.29          | 938            | 1434.13        | 1890           |  3548.36       |  7353.37       | 0.48           | 11534.41       | 0.12255514     | 5.169119       | Low            | \n",
       "| 439 | 439            | 2015-12-29     | 06:49:47       | 0:10:23.349000 | 45.03321       | 139.17         | 204.34         | 67.99          | 921            | 1332.35        | 1855           |  7192.42       |  4404.31       | 1.63           | 12543.87       | 0.10445454     | 4.935696       | Med            | \n",
       "| 513 | 513            | 2015-10-16     | 06:20:27       | 0:10:32.282000 | 42.23865       | 131.31         | 200.13         | 70.34          | 894            | 1420.50        | 1901           |  6206.75       |  3811.00       | 1.63           | 10504.32       | 0.09243928     | 4.877561       | Low            | \n",
       "| 521 | 521            | 2015-10-08     | 06:34:11       | 0:11:02.328000 | 43.00736       | 143.55         | 200.05         | 71.46          | 982            | 1395.11        | 1850           |  7071.29       |  4413.60       | 1.60           | 12031.96       | 0.10289511     | 4.966683       | Med            | \n",
       "| 526 | 526            | 2015-10-02     | 06:18:29       | 0:08:46.148000 | 44.10792       | 134.20         | 239.08         | 71.94          | 763            | 1360.30        | 2190           | 13505.08       | 10288.69       | 1.31           | 25592.87       | 0.09865471     | 4.899331       | Med            | \n",
       "| 549 | 549            | 2015-09-09     | 07:17:52       | 0:11:56.214000 | 45.86805       | 121.27         | 217.20         | 58.39          | 743            | 1308.10        | 1828           |  2582.98       |  2990.12       | 0.86           |  5932.65       | 0.09270698     | 4.798019       | Med            | \n",
       "| 553 | 553            | 2015-09-05     | 07:23:22       | 0:11:05.156000 | 49.79253       | 104.00         | 218.53         | 55.30          | 664            | 1205.00        | 1766           |  5557.76       |  2236.86       | 2.48           |  8691.83       | 0.08630705     | 4.644391       | High           | \n",
       "| 554 | 554            | 2015-09-04     | 06:42:14       | 0:11:15.133000 | 44.84942       | 124.23         | 215.60         | 69.74          | 711            | 1337.81        | 1759           |  4763.60       |  3655.28       | 1.30           |  8844.92       | 0.09286072     | 4.822135       | Med            | \n",
       "\n",
       "\n"
      ],
      "text/plain": [
       "    ID  Tag        Start    Dauer          Avg..HR  RMSSD  SDNN   pNN50 RRmin\n",
       "89   89 2016-12-18 07:11:22 0:10:12.647000 51.37734 160.56 261.83 70.30 501  \n",
       "102 102 2016-12-05 06:09:33 0:08:22.945000 48.91211 164.04 294.51 73.54 507  \n",
       "110 110 2016-11-26 06:08:08 0:08:45        42.91324 189.50 203.06 79.62 917  \n",
       "251 251 2016-07-04 06:25:15 0:10:40        43.82217 159.91 200.30 73.75 757  \n",
       "282 282 2016-06-03 06:07:54 0:10:08        41.73332 164.00 200.93 72.99 714  \n",
       "418 418 2016-01-19 05:40:36 0:10:01.174000 41.83721 175.76 201.30 77.29 938  \n",
       "439 439 2015-12-29 06:49:47 0:10:23.349000 45.03321 139.17 204.34 67.99 921  \n",
       "513 513 2015-10-16 06:20:27 0:10:32.282000 42.23865 131.31 200.13 70.34 894  \n",
       "521 521 2015-10-08 06:34:11 0:11:02.328000 43.00736 143.55 200.05 71.46 982  \n",
       "526 526 2015-10-02 06:18:29 0:08:46.148000 44.10792 134.20 239.08 71.94 763  \n",
       "549 549 2015-09-09 07:17:52 0:11:56.214000 45.86805 121.27 217.20 58.39 743  \n",
       "553 553 2015-09-05 07:23:22 0:11:05.156000 49.79253 104.00 218.53 55.30 664  \n",
       "554 554 2015-09-04 06:42:14 0:11:15.133000 44.84942 124.23 215.60 69.74 711  \n",
       "    RRmean  RRmax LF       HF       LF.HF Total    NormRMSSD  LnRMSSD  HRcat\n",
       "89  1167.83 1752   3122.79  5940.97 0.53   8990.28 0.13748576 5.078668 High \n",
       "102 1226.69 1803   6150.24  7670.06 0.80  14364.70 0.13372572 5.100110 High \n",
       "110 1398.17 1918   9947.96  7348.01 1.35  17753.86 0.13553431 5.244389 Low  \n",
       "251 1369.17 1816   7968.60  5137.97 1.55  13799.12 0.11679339 5.074611 Med  \n",
       "282 1437.70 1869   6313.27  6230.76 1.01  13019.58 0.11407109 5.099866 Low  \n",
       "418 1434.13 1890   3548.36  7353.37 0.48  11534.41 0.12255514 5.169119 Low  \n",
       "439 1332.35 1855   7192.42  4404.31 1.63  12543.87 0.10445454 4.935696 Med  \n",
       "513 1420.50 1901   6206.75  3811.00 1.63  10504.32 0.09243928 4.877561 Low  \n",
       "521 1395.11 1850   7071.29  4413.60 1.60  12031.96 0.10289511 4.966683 Med  \n",
       "526 1360.30 2190  13505.08 10288.69 1.31  25592.87 0.09865471 4.899331 Med  \n",
       "549 1308.10 1828   2582.98  2990.12 0.86   5932.65 0.09270698 4.798019 Med  \n",
       "553 1205.00 1766   5557.76  2236.86 2.48   8691.83 0.08630705 4.644391 High \n",
       "554 1337.81 1759   4763.60  3655.28 1.30   8844.92 0.09286072 4.822135 Med  "
      ]
     },
     "metadata": {},
     "output_type": "display_data"
    }
   ],
   "source": [
    "hrvData[hrvData$SDNN > 200,]"
   ]
  },
  {
   "cell_type": "markdown",
   "metadata": {
    "deletable": true,
    "editable": true
   },
   "source": [
    "Clip all *Total*-values *>20000* to *20000*:"
   ]
  },
  {
   "cell_type": "code",
   "execution_count": 31,
   "metadata": {
    "ExecuteTime": {
     "end_time": "2017-03-23T15:08:29.609859",
     "start_time": "2017-03-23T14:08:27.727Z"
    },
    "collapsed": true,
    "deletable": true,
    "editable": true
   },
   "outputs": [],
   "source": [
    "hrvData$Total[hrvData$Total>20000]  <- 20000"
   ]
  },
  {
   "cell_type": "markdown",
   "metadata": {
    "deletable": true,
    "editable": true
   },
   "source": [
    "### Filter by date"
   ]
  },
  {
   "cell_type": "code",
   "execution_count": 32,
   "metadata": {
    "ExecuteTime": {
     "end_time": "2017-03-23T15:19:38.516970",
     "start_time": "2017-03-23T14:19:38.473Z"
    },
    "collapsed": false,
    "deletable": true,
    "editable": true
   },
   "outputs": [
    {
     "data": {
      "text/html": [
       "<ol class=list-inline>\n",
       "\t<li>180</li>\n",
       "\t<li>18</li>\n",
       "</ol>\n"
      ],
      "text/latex": [
       "\\begin{enumerate*}\n",
       "\\item 180\n",
       "\\item 18\n",
       "\\end{enumerate*}\n"
      ],
      "text/markdown": [
       "1. 180\n",
       "2. 18\n",
       "\n",
       "\n"
      ],
      "text/plain": [
       "[1] 180  18"
      ]
     },
     "metadata": {},
     "output_type": "display_data"
    }
   ],
   "source": [
    "startdate=as.Date(\"2016-01-01\",format=\"%Y-%m-%d\")\n",
    "enddate=as.Date(\"2016-06-30\",format=\"%Y-%m-%d\")\n",
    "hrvDataSub <- hrvData[hrvData$Tag > startdate & hrvData$Tag < enddate,]\n",
    "dim(hrvDataSub)"
   ]
  },
  {
   "cell_type": "markdown",
   "metadata": {
    "deletable": true,
    "editable": true
   },
   "source": [
    "Plot data of selected time-range. Here the plotly library is applied. "
   ]
  },
  {
   "cell_type": "markdown",
   "metadata": {
    "deletable": true,
    "editable": true
   },
   "source": [
    "### Filter by subset()-function"
   ]
  },
  {
   "cell_type": "code",
   "execution_count": 33,
   "metadata": {
    "ExecuteTime": {
     "end_time": "2017-03-23T15:46:00.798593",
     "start_time": "2017-03-23T14:46:00.748Z"
    },
    "collapsed": false,
    "deletable": true,
    "editable": true
   },
   "outputs": [
    {
     "data": {
      "text/html": [
       "<table>\n",
       "<thead><tr><th></th><th scope=col>Tag</th><th scope=col>RMSSD</th><th scope=col>SDNN</th><th scope=col>HF</th><th scope=col>LF</th></tr></thead>\n",
       "<tbody>\n",
       "\t<tr><th scope=row>146</th><td>2016-10-19</td><td>206.20    </td><td>192.39    </td><td>9388.70   </td><td>4430.64   </td></tr>\n",
       "\t<tr><th scope=row>225</th><td>2016-07-31</td><td> 40.65    </td><td> 61.06    </td><td>  78.56   </td><td>1160.56   </td></tr>\n",
       "\t<tr><th scope=row>298</th><td>2016-05-18</td><td> 44.62    </td><td> 60.87    </td><td> 697.73   </td><td> 662.81   </td></tr>\n",
       "</tbody>\n",
       "</table>\n"
      ],
      "text/latex": [
       "\\begin{tabular}{r|lllll}\n",
       "  & Tag & RMSSD & SDNN & HF & LF\\\\\n",
       "\\hline\n",
       "\t146 & 2016-10-19 & 206.20     & 192.39     & 9388.70    & 4430.64   \\\\\n",
       "\t225 & 2016-07-31 &  40.65     &  61.06     &   78.56    & 1160.56   \\\\\n",
       "\t298 & 2016-05-18 &  44.62     &  60.87     &  697.73    &  662.81   \\\\\n",
       "\\end{tabular}\n"
      ],
      "text/markdown": [
       "\n",
       "| <!--/--> | Tag | RMSSD | SDNN | HF | LF | \n",
       "|---|---|---|\n",
       "| 146 | 2016-10-19 | 206.20     | 192.39     | 9388.70    | 4430.64    | \n",
       "| 225 | 2016-07-31 |  40.65     |  61.06     |   78.56    | 1160.56    | \n",
       "| 298 | 2016-05-18 |  44.62     |  60.87     |  697.73    |  662.81    | \n",
       "\n",
       "\n"
      ],
      "text/plain": [
       "    Tag        RMSSD  SDNN   HF      LF     \n",
       "146 2016-10-19 206.20 192.39 9388.70 4430.64\n",
       "225 2016-07-31  40.65  61.06   78.56 1160.56\n",
       "298 2016-05-18  44.62  60.87  697.73  662.81"
      ]
     },
     "metadata": {},
     "output_type": "display_data"
    }
   ],
   "source": [
    "hrvData2 <- subset(hrvData,RMSSD > 200 | RMSSD < 50, select=c(Tag,RMSSD,SDNN,HF,LF))\n",
    "hrvData2"
   ]
  },
  {
   "cell_type": "markdown",
   "metadata": {
    "deletable": true,
    "editable": true
   },
   "source": [
    "## Rename column"
   ]
  },
  {
   "cell_type": "code",
   "execution_count": 34,
   "metadata": {
    "ExecuteTime": {
     "end_time": "2017-03-22T14:49:53.836776",
     "start_time": "2017-03-22T13:49:53.815Z"
    },
    "collapsed": false,
    "deletable": true,
    "editable": true
   },
   "outputs": [],
   "source": [
    "names(hrvData)[5] <- \"AvgHR\""
   ]
  },
  {
   "cell_type": "markdown",
   "metadata": {
    "deletable": true,
    "editable": true
   },
   "source": [
    "## Sort Data\n",
    "In R data can be sorted in various ways using the function *order()*. For example, the dataframe *hrvData* is not ordered after the addition of an additional row, as can be seen in the following display of the dataframe's tail: "
   ]
  },
  {
   "cell_type": "code",
   "execution_count": 35,
   "metadata": {
    "ExecuteTime": {
     "end_time": "2017-03-22T14:50:07.050730",
     "start_time": "2017-03-22T13:50:07.006Z"
    },
    "collapsed": false,
    "deletable": true,
    "editable": true
   },
   "outputs": [
    {
     "data": {
      "text/html": [
       "<table>\n",
       "<thead><tr><th></th><th scope=col>ID</th><th scope=col>Tag</th><th scope=col>Start</th><th scope=col>Dauer</th><th scope=col>AvgHR</th><th scope=col>RMSSD</th><th scope=col>SDNN</th><th scope=col>pNN50</th><th scope=col>RRmin</th><th scope=col>RRmean</th><th scope=col>RRmax</th><th scope=col>LF</th><th scope=col>HF</th><th scope=col>LF.HF</th><th scope=col>Total</th><th scope=col>NormRMSSD</th><th scope=col>LnRMSSD</th><th scope=col>HRcat</th></tr></thead>\n",
       "<tbody>\n",
       "\t<tr><th scope=row>737</th><td>737           </td><td>2015-02-27    </td><td>05:47:55      </td><td>0:10:33.921000</td><td>44.97313      </td><td>123.37        </td><td>141.73        </td><td>71.43         </td><td> 949          </td><td>1334.13       </td><td>1679          </td><td>1675.04       </td><td>4225.11       </td><td>0.40          </td><td>6203.20       </td><td>0.09247225    </td><td>4.815188      </td><td>Med           </td></tr>\n",
       "\t<tr><th scope=row>738</th><td>738           </td><td>2015-02-26    </td><td>05:23:53      </td><td>0:12:11.591000</td><td>42.61031      </td><td>150.28        </td><td>150.45        </td><td>79.57         </td><td>1030          </td><td>1408.11       </td><td>1858          </td><td>1550.89       </td><td>5281.51       </td><td>0.29          </td><td>7094.40       </td><td>0.10672462    </td><td>5.012500      </td><td>Low           </td></tr>\n",
       "\t<tr><th scope=row>739</th><td>739           </td><td>2015-02-25    </td><td>05:45:59      </td><td>0:11:20.961000</td><td>42.58460      </td><td>121.18        </td><td>135.21        </td><td>73.71         </td><td>1107          </td><td>1408.96       </td><td>1806          </td><td>1545.52       </td><td>4068.66       </td><td>0.38          </td><td>5961.24       </td><td>0.08600670    </td><td>4.797277      </td><td>Low           </td></tr>\n",
       "\t<tr><th scope=row>740</th><td>740           </td><td>2015-02-23    </td><td>07:36:30      </td><td>0:12:12.876000</td><td>51.98091      </td><td> 72.18        </td><td> 73.20        </td><td>55.10         </td><td> 944          </td><td>1154.27       </td><td>1436          </td><td>1320.89       </td><td>1068.71       </td><td>1.24          </td><td>2525.71       </td><td>0.06253303    </td><td>4.279163      </td><td>High          </td></tr>\n",
       "\t<tr><th scope=row>741</th><td>741           </td><td>2015-02-17    </td><td>10:32:27      </td><td>0:23:55.177000</td><td>53.93258      </td><td> 67.88        </td><td>144.77        </td><td>40.60         </td><td> 635          </td><td>1112.50       </td><td>1542          </td><td>4877.74       </td><td>1303.45       </td><td>3.74          </td><td>7027.42       </td><td>0.06101573    </td><td>4.217741      </td><td>High          </td></tr>\n",
       "\t<tr><th scope=row>1</th><td>  1           </td><td>2017-03-18    </td><td>06:10:05      </td><td>0:09:05       </td><td>43.40000      </td><td>142.00        </td><td>123.00        </td><td>61.00         </td><td>1200          </td><td>1520.00       </td><td>1670          </td><td>3894.00       </td><td>2786.00       </td><td>2.30          </td><td>6906.00       </td><td>0.09342105    </td><td>4.955827      </td><td>Med           </td></tr>\n",
       "</tbody>\n",
       "</table>\n"
      ],
      "text/latex": [
       "\\begin{tabular}{r|llllllllllllllllll}\n",
       "  & ID & Tag & Start & Dauer & AvgHR & RMSSD & SDNN & pNN50 & RRmin & RRmean & RRmax & LF & HF & LF.HF & Total & NormRMSSD & LnRMSSD & HRcat\\\\\n",
       "\\hline\n",
       "\t737 & 737            & 2015-02-27     & 05:47:55       & 0:10:33.921000 & 44.97313       & 123.37         & 141.73         & 71.43          &  949           & 1334.13        & 1679           & 1675.04        & 4225.11        & 0.40           & 6203.20        & 0.09247225     & 4.815188       & Med           \\\\\n",
       "\t738 & 738            & 2015-02-26     & 05:23:53       & 0:12:11.591000 & 42.61031       & 150.28         & 150.45         & 79.57          & 1030           & 1408.11        & 1858           & 1550.89        & 5281.51        & 0.29           & 7094.40        & 0.10672462     & 5.012500       & Low           \\\\\n",
       "\t739 & 739            & 2015-02-25     & 05:45:59       & 0:11:20.961000 & 42.58460       & 121.18         & 135.21         & 73.71          & 1107           & 1408.96        & 1806           & 1545.52        & 4068.66        & 0.38           & 5961.24        & 0.08600670     & 4.797277       & Low           \\\\\n",
       "\t740 & 740            & 2015-02-23     & 07:36:30       & 0:12:12.876000 & 51.98091       &  72.18         &  73.20         & 55.10          &  944           & 1154.27        & 1436           & 1320.89        & 1068.71        & 1.24           & 2525.71        & 0.06253303     & 4.279163       & High          \\\\\n",
       "\t741 & 741            & 2015-02-17     & 10:32:27       & 0:23:55.177000 & 53.93258       &  67.88         & 144.77         & 40.60          &  635           & 1112.50        & 1542           & 4877.74        & 1303.45        & 3.74           & 7027.42        & 0.06101573     & 4.217741       & High          \\\\\n",
       "\t1 &   1            & 2017-03-18     & 06:10:05       & 0:09:05        & 43.40000       & 142.00         & 123.00         & 61.00          & 1200           & 1520.00        & 1670           & 3894.00        & 2786.00        & 2.30           & 6906.00        & 0.09342105     & 4.955827       & Med           \\\\\n",
       "\\end{tabular}\n"
      ],
      "text/markdown": [
       "\n",
       "| <!--/--> | ID | Tag | Start | Dauer | AvgHR | RMSSD | SDNN | pNN50 | RRmin | RRmean | RRmax | LF | HF | LF.HF | Total | NormRMSSD | LnRMSSD | HRcat | \n",
       "|---|---|---|---|---|---|\n",
       "| 737 | 737            | 2015-02-27     | 05:47:55       | 0:10:33.921000 | 44.97313       | 123.37         | 141.73         | 71.43          |  949           | 1334.13        | 1679           | 1675.04        | 4225.11        | 0.40           | 6203.20        | 0.09247225     | 4.815188       | Med            | \n",
       "| 738 | 738            | 2015-02-26     | 05:23:53       | 0:12:11.591000 | 42.61031       | 150.28         | 150.45         | 79.57          | 1030           | 1408.11        | 1858           | 1550.89        | 5281.51        | 0.29           | 7094.40        | 0.10672462     | 5.012500       | Low            | \n",
       "| 739 | 739            | 2015-02-25     | 05:45:59       | 0:11:20.961000 | 42.58460       | 121.18         | 135.21         | 73.71          | 1107           | 1408.96        | 1806           | 1545.52        | 4068.66        | 0.38           | 5961.24        | 0.08600670     | 4.797277       | Low            | \n",
       "| 740 | 740            | 2015-02-23     | 07:36:30       | 0:12:12.876000 | 51.98091       |  72.18         |  73.20         | 55.10          |  944           | 1154.27        | 1436           | 1320.89        | 1068.71        | 1.24           | 2525.71        | 0.06253303     | 4.279163       | High           | \n",
       "| 741 | 741            | 2015-02-17     | 10:32:27       | 0:23:55.177000 | 53.93258       |  67.88         | 144.77         | 40.60          |  635           | 1112.50        | 1542           | 4877.74        | 1303.45        | 3.74           | 7027.42        | 0.06101573     | 4.217741       | High           | \n",
       "| 1 |   1            | 2017-03-18     | 06:10:05       | 0:09:05        | 43.40000       | 142.00         | 123.00         | 61.00          | 1200           | 1520.00        | 1670           | 3894.00        | 2786.00        | 2.30           | 6906.00        | 0.09342105     | 4.955827       | Med            | \n",
       "\n",
       "\n"
      ],
      "text/plain": [
       "    ID  Tag        Start    Dauer          AvgHR    RMSSD  SDNN   pNN50 RRmin\n",
       "737 737 2015-02-27 05:47:55 0:10:33.921000 44.97313 123.37 141.73 71.43  949 \n",
       "738 738 2015-02-26 05:23:53 0:12:11.591000 42.61031 150.28 150.45 79.57 1030 \n",
       "739 739 2015-02-25 05:45:59 0:11:20.961000 42.58460 121.18 135.21 73.71 1107 \n",
       "740 740 2015-02-23 07:36:30 0:12:12.876000 51.98091  72.18  73.20 55.10  944 \n",
       "741 741 2015-02-17 10:32:27 0:23:55.177000 53.93258  67.88 144.77 40.60  635 \n",
       "1     1 2017-03-18 06:10:05 0:09:05        43.40000 142.00 123.00 61.00 1200 \n",
       "    RRmean  RRmax LF      HF      LF.HF Total   NormRMSSD  LnRMSSD  HRcat\n",
       "737 1334.13 1679  1675.04 4225.11 0.40  6203.20 0.09247225 4.815188 Med  \n",
       "738 1408.11 1858  1550.89 5281.51 0.29  7094.40 0.10672462 5.012500 Low  \n",
       "739 1408.96 1806  1545.52 4068.66 0.38  5961.24 0.08600670 4.797277 Low  \n",
       "740 1154.27 1436  1320.89 1068.71 1.24  2525.71 0.06253303 4.279163 High \n",
       "741 1112.50 1542  4877.74 1303.45 3.74  7027.42 0.06101573 4.217741 High \n",
       "1   1520.00 1670  3894.00 2786.00 2.30  6906.00 0.09342105 4.955827 Med  "
      ]
     },
     "metadata": {},
     "output_type": "display_data"
    }
   ],
   "source": [
    "tail(hrvData)"
   ]
  },
  {
   "cell_type": "markdown",
   "metadata": {
    "deletable": true,
    "editable": true
   },
   "source": [
    "The following line shows how the unordered dataframe can be ordered according to increasing ID:"
   ]
  },
  {
   "cell_type": "code",
   "execution_count": 36,
   "metadata": {
    "ExecuteTime": {
     "end_time": "2017-03-22T14:54:16.081098",
     "start_time": "2017-03-22T13:54:16.030Z"
    },
    "collapsed": false,
    "deletable": true,
    "editable": true
   },
   "outputs": [
    {
     "data": {
      "text/html": [
       "<table>\n",
       "<thead><tr><th></th><th scope=col>ID</th><th scope=col>Tag</th><th scope=col>Start</th><th scope=col>Dauer</th><th scope=col>AvgHR</th><th scope=col>RMSSD</th><th scope=col>SDNN</th><th scope=col>pNN50</th><th scope=col>RRmin</th><th scope=col>RRmean</th><th scope=col>RRmax</th><th scope=col>LF</th><th scope=col>HF</th><th scope=col>LF.HF</th><th scope=col>Total</th><th scope=col>NormRMSSD</th><th scope=col>LnRMSSD</th><th scope=col>HRcat</th></tr></thead>\n",
       "<tbody>\n",
       "\t<tr><th scope=row>736</th><td>736           </td><td>2015-02-28    </td><td>06:07:51      </td><td>0:11:56.851000</td><td>41.57197      </td><td>127.73        </td><td>128.64        </td><td>77.08         </td><td>1142          </td><td>1443.28       </td><td>1819          </td><td>1985.86       </td><td>4545.80       </td><td>0.44          </td><td>6735.02       </td><td>0.08849981    </td><td>4.849919      </td><td>Low           </td></tr>\n",
       "\t<tr><th scope=row>737</th><td>737           </td><td>2015-02-27    </td><td>05:47:55      </td><td>0:10:33.921000</td><td>44.97313      </td><td>123.37        </td><td>141.73        </td><td>71.43         </td><td> 949          </td><td>1334.13       </td><td>1679          </td><td>1675.04       </td><td>4225.11       </td><td>0.40          </td><td>6203.20       </td><td>0.09247225    </td><td>4.815188      </td><td>Med           </td></tr>\n",
       "\t<tr><th scope=row>738</th><td>738           </td><td>2015-02-26    </td><td>05:23:53      </td><td>0:12:11.591000</td><td>42.61031      </td><td>150.28        </td><td>150.45        </td><td>79.57         </td><td>1030          </td><td>1408.11       </td><td>1858          </td><td>1550.89       </td><td>5281.51       </td><td>0.29          </td><td>7094.40       </td><td>0.10672462    </td><td>5.012500      </td><td>Low           </td></tr>\n",
       "\t<tr><th scope=row>739</th><td>739           </td><td>2015-02-25    </td><td>05:45:59      </td><td>0:11:20.961000</td><td>42.58460      </td><td>121.18        </td><td>135.21        </td><td>73.71         </td><td>1107          </td><td>1408.96       </td><td>1806          </td><td>1545.52       </td><td>4068.66       </td><td>0.38          </td><td>5961.24       </td><td>0.08600670    </td><td>4.797277      </td><td>Low           </td></tr>\n",
       "\t<tr><th scope=row>740</th><td>740           </td><td>2015-02-23    </td><td>07:36:30      </td><td>0:12:12.876000</td><td>51.98091      </td><td> 72.18        </td><td> 73.20        </td><td>55.10         </td><td> 944          </td><td>1154.27       </td><td>1436          </td><td>1320.89       </td><td>1068.71       </td><td>1.24          </td><td>2525.71       </td><td>0.06253303    </td><td>4.279163      </td><td>High          </td></tr>\n",
       "\t<tr><th scope=row>741</th><td>741           </td><td>2015-02-17    </td><td>10:32:27      </td><td>0:23:55.177000</td><td>53.93258      </td><td> 67.88        </td><td>144.77        </td><td>40.60         </td><td> 635          </td><td>1112.50       </td><td>1542          </td><td>4877.74       </td><td>1303.45       </td><td>3.74          </td><td>7027.42       </td><td>0.06101573    </td><td>4.217741      </td><td>High          </td></tr>\n",
       "</tbody>\n",
       "</table>\n"
      ],
      "text/latex": [
       "\\begin{tabular}{r|llllllllllllllllll}\n",
       "  & ID & Tag & Start & Dauer & AvgHR & RMSSD & SDNN & pNN50 & RRmin & RRmean & RRmax & LF & HF & LF.HF & Total & NormRMSSD & LnRMSSD & HRcat\\\\\n",
       "\\hline\n",
       "\t736 & 736            & 2015-02-28     & 06:07:51       & 0:11:56.851000 & 41.57197       & 127.73         & 128.64         & 77.08          & 1142           & 1443.28        & 1819           & 1985.86        & 4545.80        & 0.44           & 6735.02        & 0.08849981     & 4.849919       & Low           \\\\\n",
       "\t737 & 737            & 2015-02-27     & 05:47:55       & 0:10:33.921000 & 44.97313       & 123.37         & 141.73         & 71.43          &  949           & 1334.13        & 1679           & 1675.04        & 4225.11        & 0.40           & 6203.20        & 0.09247225     & 4.815188       & Med           \\\\\n",
       "\t738 & 738            & 2015-02-26     & 05:23:53       & 0:12:11.591000 & 42.61031       & 150.28         & 150.45         & 79.57          & 1030           & 1408.11        & 1858           & 1550.89        & 5281.51        & 0.29           & 7094.40        & 0.10672462     & 5.012500       & Low           \\\\\n",
       "\t739 & 739            & 2015-02-25     & 05:45:59       & 0:11:20.961000 & 42.58460       & 121.18         & 135.21         & 73.71          & 1107           & 1408.96        & 1806           & 1545.52        & 4068.66        & 0.38           & 5961.24        & 0.08600670     & 4.797277       & Low           \\\\\n",
       "\t740 & 740            & 2015-02-23     & 07:36:30       & 0:12:12.876000 & 51.98091       &  72.18         &  73.20         & 55.10          &  944           & 1154.27        & 1436           & 1320.89        & 1068.71        & 1.24           & 2525.71        & 0.06253303     & 4.279163       & High          \\\\\n",
       "\t741 & 741            & 2015-02-17     & 10:32:27       & 0:23:55.177000 & 53.93258       &  67.88         & 144.77         & 40.60          &  635           & 1112.50        & 1542           & 4877.74        & 1303.45        & 3.74           & 7027.42        & 0.06101573     & 4.217741       & High          \\\\\n",
       "\\end{tabular}\n"
      ],
      "text/markdown": [
       "\n",
       "| <!--/--> | ID | Tag | Start | Dauer | AvgHR | RMSSD | SDNN | pNN50 | RRmin | RRmean | RRmax | LF | HF | LF.HF | Total | NormRMSSD | LnRMSSD | HRcat | \n",
       "|---|---|---|---|---|---|\n",
       "| 736 | 736            | 2015-02-28     | 06:07:51       | 0:11:56.851000 | 41.57197       | 127.73         | 128.64         | 77.08          | 1142           | 1443.28        | 1819           | 1985.86        | 4545.80        | 0.44           | 6735.02        | 0.08849981     | 4.849919       | Low            | \n",
       "| 737 | 737            | 2015-02-27     | 05:47:55       | 0:10:33.921000 | 44.97313       | 123.37         | 141.73         | 71.43          |  949           | 1334.13        | 1679           | 1675.04        | 4225.11        | 0.40           | 6203.20        | 0.09247225     | 4.815188       | Med            | \n",
       "| 738 | 738            | 2015-02-26     | 05:23:53       | 0:12:11.591000 | 42.61031       | 150.28         | 150.45         | 79.57          | 1030           | 1408.11        | 1858           | 1550.89        | 5281.51        | 0.29           | 7094.40        | 0.10672462     | 5.012500       | Low            | \n",
       "| 739 | 739            | 2015-02-25     | 05:45:59       | 0:11:20.961000 | 42.58460       | 121.18         | 135.21         | 73.71          | 1107           | 1408.96        | 1806           | 1545.52        | 4068.66        | 0.38           | 5961.24        | 0.08600670     | 4.797277       | Low            | \n",
       "| 740 | 740            | 2015-02-23     | 07:36:30       | 0:12:12.876000 | 51.98091       |  72.18         |  73.20         | 55.10          |  944           | 1154.27        | 1436           | 1320.89        | 1068.71        | 1.24           | 2525.71        | 0.06253303     | 4.279163       | High           | \n",
       "| 741 | 741            | 2015-02-17     | 10:32:27       | 0:23:55.177000 | 53.93258       |  67.88         | 144.77         | 40.60          |  635           | 1112.50        | 1542           | 4877.74        | 1303.45        | 3.74           | 7027.42        | 0.06101573     | 4.217741       | High           | \n",
       "\n",
       "\n"
      ],
      "text/plain": [
       "    ID  Tag        Start    Dauer          AvgHR    RMSSD  SDNN   pNN50 RRmin\n",
       "736 736 2015-02-28 06:07:51 0:11:56.851000 41.57197 127.73 128.64 77.08 1142 \n",
       "737 737 2015-02-27 05:47:55 0:10:33.921000 44.97313 123.37 141.73 71.43  949 \n",
       "738 738 2015-02-26 05:23:53 0:12:11.591000 42.61031 150.28 150.45 79.57 1030 \n",
       "739 739 2015-02-25 05:45:59 0:11:20.961000 42.58460 121.18 135.21 73.71 1107 \n",
       "740 740 2015-02-23 07:36:30 0:12:12.876000 51.98091  72.18  73.20 55.10  944 \n",
       "741 741 2015-02-17 10:32:27 0:23:55.177000 53.93258  67.88 144.77 40.60  635 \n",
       "    RRmean  RRmax LF      HF      LF.HF Total   NormRMSSD  LnRMSSD  HRcat\n",
       "736 1443.28 1819  1985.86 4545.80 0.44  6735.02 0.08849981 4.849919 Low  \n",
       "737 1334.13 1679  1675.04 4225.11 0.40  6203.20 0.09247225 4.815188 Med  \n",
       "738 1408.11 1858  1550.89 5281.51 0.29  7094.40 0.10672462 5.012500 Low  \n",
       "739 1408.96 1806  1545.52 4068.66 0.38  5961.24 0.08600670 4.797277 Low  \n",
       "740 1154.27 1436  1320.89 1068.71 1.24  2525.71 0.06253303 4.279163 High \n",
       "741 1112.50 1542  4877.74 1303.45 3.74  7027.42 0.06101573 4.217741 High "
      ]
     },
     "metadata": {},
     "output_type": "display_data"
    }
   ],
   "source": [
    "hrvData <- hrvData[order(hrvData$ID),]\n",
    "tail(hrvData)"
   ]
  },
  {
   "cell_type": "markdown",
   "metadata": {
    "deletable": true,
    "editable": true
   },
   "source": [
    "Sorting can even be applied with respect to more than one variable. E.g. *hrvData* can be sorted first according to the *HRcat* parameter and then according to *RMSSD*:"
   ]
  },
  {
   "cell_type": "code",
   "execution_count": 37,
   "metadata": {
    "ExecuteTime": {
     "end_time": "2017-03-22T15:00:11.673227",
     "start_time": "2017-03-22T14:00:11.345Z"
    },
    "collapsed": false,
    "deletable": true,
    "editable": true
   },
   "outputs": [
    {
     "data": {
      "text/html": [
       "<table>\n",
       "<thead><tr><th></th><th scope=col>ID</th><th scope=col>Tag</th><th scope=col>Start</th><th scope=col>Dauer</th><th scope=col>AvgHR</th><th scope=col>RMSSD</th><th scope=col>SDNN</th><th scope=col>pNN50</th><th scope=col>RRmin</th><th scope=col>RRmean</th><th scope=col>RRmax</th><th scope=col>LF</th><th scope=col>HF</th><th scope=col>LF.HF</th><th scope=col>Total</th><th scope=col>NormRMSSD</th><th scope=col>LnRMSSD</th><th scope=col>HRcat</th></tr></thead>\n",
       "<tbody>\n",
       "\t<tr><th scope=row>298</th><td>298           </td><td>2016-05-18    </td><td>06:32:02      </td><td>0:10:04       </td><td>55.88882      </td><td>44.62         </td><td> 60.87        </td><td>26.16         </td><td> 840          </td><td>1073.56       </td><td>1271          </td><td> 662.81       </td><td> 697.73       </td><td>0.95          </td><td> 1410.80      </td><td>0.04156265    </td><td>3.798182      </td><td>High          </td></tr>\n",
       "\t<tr><th scope=row>168</th><td>168           </td><td>2016-09-26    </td><td>06:10:41      </td><td>0:10:27       </td><td>59.87785      </td><td>51.03         </td><td> 77.26        </td><td>28.94         </td><td> 834          </td><td>1002.04       </td><td>1353          </td><td>1676.53       </td><td>1070.03       </td><td>1.57          </td><td> 2992.24      </td><td>0.05092611    </td><td>3.932414      </td><td>High          </td></tr>\n",
       "\t<tr><th scope=row>441</th><td>441           </td><td>2015-12-27    </td><td>07:33:06      </td><td>0:07:23.169000</td><td>57.10044      </td><td>57.23         </td><td>110.66        </td><td>34.79         </td><td> 830          </td><td>1050.78       </td><td>1365          </td><td>2110.23       </td><td>1025.70       </td><td>2.06          </td><td> 3410.92      </td><td>0.05446430    </td><td>4.047078      </td><td>High          </td></tr>\n",
       "\t<tr><th scope=row>68</th><td> 68           </td><td>2017-01-08    </td><td>07:11:05      </td><td>0:10:30       </td><td>55.69996      </td><td>57.76         </td><td> 83.82        </td><td>37.97         </td><td> 851          </td><td>1077.20       </td><td>1314          </td><td>1600.03       </td><td>1260.15       </td><td>1.27          </td><td> 3320.19      </td><td>0.05362050    </td><td>4.056296      </td><td>High          </td></tr>\n",
       "\t<tr><th scope=row>532</th><td>532           </td><td>2015-09-26    </td><td>07:32:36      </td><td>0:10:01.148000</td><td>54.59360      </td><td>58.09         </td><td> 67.75        </td><td>39.03         </td><td> 911          </td><td>1099.03       </td><td>1306          </td><td>1535.18       </td><td> 907.22       </td><td>1.69          </td><td> 2523.67      </td><td>0.05285570    </td><td>4.061994      </td><td>High          </td></tr>\n",
       "\t<tr><th scope=row>107</th><td>107           </td><td>2016-11-29    </td><td>06:38:31      </td><td>0:09:30       </td><td>55.74136      </td><td>58.95         </td><td> 98.51        </td><td>34.80         </td><td> 866          </td><td>1076.40       </td><td>1384          </td><td> 802.18       </td><td> 791.40       </td><td>1.01          </td><td> 1605.37      </td><td>0.05476589    </td><td>4.076690      </td><td>High          </td></tr>\n",
       "\t<tr><th scope=row>218</th><td>218           </td><td>2016-08-07    </td><td>07:12:54      </td><td>0:11:12.829000</td><td>54.05503      </td><td>62.74         </td><td> 96.36        </td><td>40.61         </td><td> 927          </td><td>1109.98       </td><td>1435          </td><td>1671.69       </td><td>1196.32       </td><td>1.40          </td><td> 2978.13      </td><td>0.05652354    </td><td>4.138999      </td><td>High          </td></tr>\n",
       "\t<tr><th scope=row>105</th><td>105           </td><td>2016-12-01    </td><td>06:13:19      </td><td>0:10:01       </td><td>54.65875      </td><td>62.81         </td><td> 87.33        </td><td>39.26         </td><td> 907          </td><td>1097.72       </td><td>1422          </td><td>1711.66       </td><td> 917.10       </td><td>1.87          </td><td> 2855.92      </td><td>0.05721860    </td><td>4.140114      </td><td>High          </td></tr>\n",
       "\t<tr><th scope=row>539</th><td>539           </td><td>2015-09-19    </td><td>06:34:26      </td><td>0:10:43.324000</td><td>50.50760      </td><td>64.72         </td><td> 75.35        </td><td>47.56         </td><td>1000          </td><td>1187.94       </td><td>1439          </td><td>1078.46       </td><td>1252.75       </td><td>0.86          </td><td> 2410.54      </td><td>0.05448087    </td><td>4.170070      </td><td>High          </td></tr>\n",
       "\t<tr><th scope=row>54</th><td> 54           </td><td>2017-01-22    </td><td>06:44:19      </td><td>0:07:23       </td><td>55.92268      </td><td>65.20         </td><td>104.85        </td><td>41.08         </td><td> 843          </td><td>1072.91       </td><td>1373          </td><td>1273.84       </td><td>1204.24       </td><td>1.06          </td><td> 2588.16      </td><td>0.06076931    </td><td>4.177459      </td><td>High          </td></tr>\n",
       "\t<tr><th scope=row>81</th><td> 81           </td><td>2016-12-26    </td><td>08:01:13      </td><td>0:09:34       </td><td>55.08175      </td><td>65.44         </td><td>127.42        </td><td>35.89         </td><td> 800          </td><td>1089.29       </td><td>1407          </td><td>3319.28       </td><td>1116.61       </td><td>2.97          </td><td> 4855.40      </td><td>0.06007583    </td><td>4.181134      </td><td>High          </td></tr>\n",
       "\t<tr><th scope=row>55</th><td> 55           </td><td>2017-01-21    </td><td>07:17:28      </td><td>0:11:35.978000</td><td>53.22263      </td><td>65.78         </td><td> 99.79        </td><td>43.22         </td><td> 899          </td><td>1127.34       </td><td>1521          </td><td> 697.27       </td><td>1210.36       </td><td>0.58          </td><td> 2024.60      </td><td>0.05834974    </td><td>4.186316      </td><td>High          </td></tr>\n",
       "\t<tr><th scope=row>71</th><td> 71           </td><td>2017-01-05    </td><td>07:12:48      </td><td>0:10:06       </td><td>53.80249      </td><td>67.74         </td><td> 83.84        </td><td>46.57         </td><td> 863          </td><td>1115.19       </td><td>1586          </td><td> 864.85       </td><td>1122.51       </td><td>0.77          </td><td> 2127.67      </td><td>0.06074301    </td><td>4.215677      </td><td>High          </td></tr>\n",
       "\t<tr><th scope=row>741</th><td>741           </td><td>2015-02-17    </td><td>10:32:27      </td><td>0:23:55.177000</td><td>53.93258      </td><td>67.88         </td><td>144.77        </td><td>40.60         </td><td> 635          </td><td>1112.50       </td><td>1542          </td><td>4877.74       </td><td>1303.45       </td><td>3.74          </td><td> 7027.42      </td><td>0.06101573    </td><td>4.217741      </td><td>High          </td></tr>\n",
       "\t<tr><th scope=row>208</th><td>208           </td><td>2016-08-17    </td><td>07:02:46      </td><td>0:09:48.689000</td><td>53.39646      </td><td>69.00         </td><td> 99.64        </td><td>39.00         </td><td> 949          </td><td>1123.67       </td><td>1510          </td><td>1357.30       </td><td>1291.80       </td><td>1.05          </td><td> 2860.77      </td><td>0.06140593    </td><td>4.234107      </td><td>High          </td></tr>\n",
       "\t<tr><th scope=row>567</th><td>567           </td><td>2015-08-22    </td><td>07:49:24      </td><td>0:11:11.187000</td><td>48.10159      </td><td>69.98         </td><td>111.04        </td><td>38.26         </td><td> 919          </td><td>1247.36       </td><td>1613          </td><td>1690.61       </td><td>1045.04       </td><td>1.62          </td><td> 2775.38      </td><td>0.05610249    </td><td>4.248209      </td><td>High          </td></tr>\n",
       "\t<tr><th scope=row>163</th><td>163           </td><td>2016-10-01    </td><td>06:51:53      </td><td>0:10:22.880000</td><td>54.26034      </td><td>70.93         </td><td> 90.77        </td><td>50.55         </td><td> 895          </td><td>1105.78       </td><td>1380          </td><td>2023.49       </td><td>1802.29       </td><td>1.12          </td><td> 3958.86      </td><td>0.06414477    </td><td>4.261693      </td><td>High          </td></tr>\n",
       "\t<tr><th scope=row>91</th><td> 91           </td><td>2016-12-16    </td><td>06:09:08      </td><td>0:10:01.830000</td><td>53.78706      </td><td>71.14         </td><td>106.18        </td><td>45.54         </td><td> 881          </td><td>1115.51       </td><td>1447          </td><td>1607.43       </td><td>1688.44       </td><td>0.95          </td><td> 3557.88      </td><td>0.06377352    </td><td>4.264650      </td><td>High          </td></tr>\n",
       "\t<tr><th scope=row>602</th><td>602           </td><td>2015-07-18    </td><td>07:29:37      </td><td>0:12:12.233000</td><td>50.15003      </td><td>71.52         </td><td> 98.29        </td><td>52.74         </td><td> 963          </td><td>1196.41       </td><td>1460          </td><td>1283.23       </td><td>1377.14       </td><td>0.93          </td><td> 2821.19      </td><td>0.05977884    </td><td>4.269977      </td><td>High          </td></tr>\n",
       "\t<tr><th scope=row>161</th><td>161           </td><td>2016-10-03    </td><td>07:51:19      </td><td>0:10:00.927000</td><td>51.92872      </td><td>71.65         </td><td>110.32        </td><td>48.36         </td><td> 930          </td><td>1155.43       </td><td>2093          </td><td>8205.64       </td><td>5625.62       </td><td>1.46          </td><td>14033.55      </td><td>0.06201155    </td><td>4.271793      </td><td>High          </td></tr>\n",
       "\t<tr><th scope=row>740</th><td>740           </td><td>2015-02-23    </td><td>07:36:30      </td><td>0:12:12.876000</td><td>51.98091      </td><td>72.18         </td><td> 73.20        </td><td>55.10         </td><td> 944          </td><td>1154.27       </td><td>1436          </td><td>1320.89       </td><td>1068.71       </td><td>1.24          </td><td> 2525.71      </td><td>0.06253303    </td><td>4.279163      </td><td>High          </td></tr>\n",
       "\t<tr><th scope=row>689</th><td>689           </td><td>2015-04-18    </td><td>07:00:38      </td><td>0:10:07.733000</td><td>53.10674      </td><td>72.37         </td><td>109.55        </td><td>46.44         </td><td> 897          </td><td>1129.80       </td><td>1473          </td><td> 806.91       </td><td>2417.10       </td><td>0.33          </td><td> 3487.97      </td><td>0.06405559    </td><td>4.281792      </td><td>High          </td></tr>\n",
       "\t<tr><th scope=row>57</th><td> 57           </td><td>2017-01-19    </td><td>06:16:35      </td><td>0:09:23.924000</td><td>53.09922      </td><td>72.55         </td><td>109.65        </td><td>45.07         </td><td> 723          </td><td>1129.96       </td><td>1404          </td><td>1079.32       </td><td>1095.50       </td><td>0.99          </td><td> 2226.03      </td><td>0.06420581    </td><td>4.284276      </td><td>High          </td></tr>\n",
       "\t<tr><th scope=row>76</th><td> 76           </td><td>2016-12-31    </td><td>08:22:02      </td><td>0:10:28       </td><td>52.26891      </td><td>72.71         </td><td> 96.56        </td><td>42.33         </td><td> 942          </td><td>1147.91       </td><td>1528          </td><td>1886.23       </td><td>1609.02       </td><td>1.17          </td><td> 3614.60      </td><td>0.06334120    </td><td>4.286479      </td><td>High          </td></tr>\n",
       "\t<tr><th scope=row>277</th><td>277           </td><td>2016-06-08    </td><td>06:20:31      </td><td>0:10:52       </td><td>49.95338      </td><td>72.79         </td><td> 93.28        </td><td>49.63         </td><td>1011          </td><td>1201.12       </td><td>1490          </td><td>1876.20       </td><td>1406.46       </td><td>1.33          </td><td> 3394.58      </td><td>0.06060177    </td><td>4.287579      </td><td>High          </td></tr>\n",
       "\t<tr><th scope=row>254</th><td>254           </td><td>2016-07-01    </td><td>06:17:18      </td><td>0:10:08       </td><td>49.50822      </td><td>72.84         </td><td>102.44        </td><td>47.88         </td><td> 916          </td><td>1211.92       </td><td>1520          </td><td>2215.25       </td><td>1633.81       </td><td>1.36          </td><td> 3920.10      </td><td>0.06010298    </td><td>4.288265      </td><td>High          </td></tr>\n",
       "\t<tr><th scope=row>380</th><td>380           </td><td>2016-02-26    </td><td>05:20:04      </td><td>0:10:02.147000</td><td>52.54170      </td><td>74.04         </td><td>118.83        </td><td>48.88         </td><td> 700          </td><td>1141.95       </td><td>1579          </td><td>1523.13       </td><td>1717.62       </td><td>0.89          </td><td> 3366.35      </td><td>0.06483646    </td><td>4.304605      </td><td>High          </td></tr>\n",
       "\t<tr><th scope=row>103</th><td>103           </td><td>2016-12-04    </td><td>07:10:57      </td><td>0:11:02.393000</td><td>52.90865      </td><td>74.10         </td><td>103.53        </td><td>45.83         </td><td> 917          </td><td>1134.03       </td><td>1427          </td><td>2042.74       </td><td>1939.30       </td><td>1.05          </td><td> 4091.92      </td><td>0.06534219    </td><td>4.305416      </td><td>High          </td></tr>\n",
       "\t<tr><th scope=row>63</th><td> 63           </td><td>2017-01-13    </td><td>06:16:15      </td><td>0:10:05.163000</td><td>55.50108      </td><td>74.17         </td><td>124.28        </td><td>41.59         </td><td> 854          </td><td>1081.06       </td><td>1630          </td><td>1078.11       </td><td>1169.99       </td><td>0.92          </td><td> 2352.26      </td><td>0.06860859    </td><td>4.306360      </td><td>High          </td></tr>\n",
       "\t<tr><th scope=row>382</th><td>382           </td><td>2016-02-24    </td><td>05:31:18      </td><td>0:10:01.347000</td><td>51.09862      </td><td>74.22         </td><td>106.45        </td><td>49.90         </td><td> 854          </td><td>1174.20       </td><td>1456          </td><td>1922.73       </td><td>1769.96       </td><td>1.09          </td><td> 3984.13      </td><td>0.06320899    </td><td>4.307034      </td><td>High          </td></tr>\n",
       "\t<tr><th scope=row>...</th><td>...</td><td>...</td><td>...</td><td>...</td><td>...</td><td>...</td><td>...</td><td>...</td><td>...</td><td>...</td><td>...</td><td>...</td><td>...</td><td>...</td><td>...</td><td>...</td><td>...</td><td>...</td></tr>\n",
       "\t<tr><th scope=row>93</th><td> 93           </td><td>2016-12-14    </td><td>06:09:59      </td><td>0:10:01       </td><td>44.89036      </td><td>151.59        </td><td>159.66        </td><td>75.85         </td><td> 974          </td><td>1336.59       </td><td>1772          </td><td> 8220.65      </td><td>6546.80       </td><td>1.26          </td><td>15339.50      </td><td>0.1134155     </td><td>5.021180      </td><td>Med           </td></tr>\n",
       "\t<tr><th scope=row>421</th><td>421           </td><td>2016-01-16    </td><td>06:10:46      </td><td>0:12:09.155000</td><td>45.49384      </td><td>151.78        </td><td>127.07        </td><td>81.08         </td><td>1018          </td><td>1318.86       </td><td>1640          </td><td> 2381.27      </td><td>6221.98       </td><td>0.38          </td><td> 8599.61      </td><td>0.1150842     </td><td>5.022432      </td><td>Med           </td></tr>\n",
       "\t<tr><th scope=row>416</th><td>416           </td><td>2016-01-21    </td><td>05:32:29      </td><td>0:11:22.747000</td><td>44.59905      </td><td>152.05        </td><td>151.39        </td><td>77.31         </td><td>1006          </td><td>1345.32       </td><td>1775          </td><td> 4234.11      </td><td>6843.06       </td><td>0.62          </td><td>11276.39      </td><td>0.1130214     </td><td>5.024209      </td><td>Med           </td></tr>\n",
       "\t<tr><th scope=row>14</th><td> 14           </td><td>2017-03-05    </td><td>06:52:00      </td><td>0:09:58       </td><td>44.64452      </td><td>152.51        </td><td>133.94        </td><td>78.73         </td><td>1046          </td><td>1343.95       </td><td>1720          </td><td> 2334.18      </td><td>8654.62       </td><td>0.27          </td><td>11198.06      </td><td>0.1134789     </td><td>5.027230      </td><td>Med           </td></tr>\n",
       "\t<tr><th scope=row>203</th><td>203           </td><td>2016-08-22    </td><td>07:25:22      </td><td>0:10:18       </td><td>44.58514      </td><td>152.71        </td><td>181.51        </td><td>68.06         </td><td> 929          </td><td>1345.74       </td><td>1784          </td><td> 8353.81      </td><td>4278.41       </td><td>1.95          </td><td>13179.22      </td><td>0.1134766     </td><td>5.028541      </td><td>Med           </td></tr>\n",
       "\t<tr><th scope=row>336</th><td>336           </td><td>2016-04-10    </td><td>05:53:57      </td><td>0:09:12.482000</td><td>43.29473      </td><td>153.28        </td><td>138.41        </td><td>78.46         </td><td>1121          </td><td>1385.85       </td><td>1826          </td><td> 3154.91      </td><td>5162.39       </td><td>0.61          </td><td> 8658.12      </td><td>0.1106036     </td><td>5.032266      </td><td>Med           </td></tr>\n",
       "\t<tr><th scope=row>241</th><td>241           </td><td>2016-07-14    </td><td>06:24:02      </td><td>0:10:57       </td><td>44.45729      </td><td>153.66        </td><td>161.92        </td><td>71.55         </td><td> 937          </td><td>1349.61       </td><td>1786          </td><td> 5687.53      </td><td>4713.86       </td><td>1.21          </td><td>10830.26      </td><td>0.1138551     </td><td>5.034742      </td><td>Med           </td></tr>\n",
       "\t<tr><th scope=row>97</th><td> 97           </td><td>2016-12-10    </td><td>06:15:14      </td><td>0:10:07.495000</td><td>45.02713      </td><td>154.87        </td><td>164.58        </td><td>75.79         </td><td>1048          </td><td>1332.53       </td><td>1826          </td><td> 1923.10      </td><td>5357.99       </td><td>0.36          </td><td> 7858.66      </td><td>0.1162225     </td><td>5.042586      </td><td>Med           </td></tr>\n",
       "\t<tr><th scope=row>272</th><td>272           </td><td>2016-06-13    </td><td>06:28:53      </td><td>0:10:26       </td><td>46.06172      </td><td>155.69        </td><td>158.59        </td><td>73.35         </td><td> 647          </td><td>1302.60       </td><td>2177          </td><td> 9379.86      </td><td>8812.23       </td><td>1.06          </td><td>19694.78      </td><td>0.1195225     </td><td>5.047867      </td><td>Med           </td></tr>\n",
       "\t<tr><th scope=row>722</th><td>722           </td><td>2015-03-14    </td><td>04:28:07      </td><td>0:06:52.783000</td><td>43.81705      </td><td>156.84        </td><td>125.00        </td><td>80.07         </td><td>1129          </td><td>1369.33       </td><td>1678          </td><td> 1257.77      </td><td>5127.58       </td><td>0.25          </td><td> 6494.61      </td><td>0.1145378     </td><td>5.055226      </td><td>Med           </td></tr>\n",
       "\t<tr><th scope=row>284</th><td>284           </td><td>2016-06-01    </td><td>06:15:15      </td><td>0:10:35       </td><td>45.61801      </td><td>156.88        </td><td>179.76        </td><td>73.74         </td><td> 627          </td><td>1315.27       </td><td>1761          </td><td>10151.56      </td><td>7454.65       </td><td>1.36          </td><td>18009.53      </td><td>0.1192759     </td><td>5.055481      </td><td>Med           </td></tr>\n",
       "\t<tr><th scope=row>52</th><td> 52           </td><td>2017-01-24    </td><td>05:20:50      </td><td>0:09:43       </td><td>43.09788      </td><td>157.68        </td><td>130.92        </td><td>82.60         </td><td>1103          </td><td>1392.18       </td><td>1729          </td><td> 4124.04      </td><td>5969.63       </td><td>0.69          </td><td>10254.58      </td><td>0.1132612     </td><td>5.060568      </td><td>Med           </td></tr>\n",
       "\t<tr><th scope=row>179</th><td>179           </td><td>2016-09-15    </td><td>06:02:20      </td><td>0:09:00       </td><td>43.15305      </td><td>158.44        </td><td>168.14        </td><td>74.15         </td><td>1031          </td><td>1390.40       </td><td>1862          </td><td> 9092.60      </td><td>6849.49       </td><td>1.33          </td><td>16885.63      </td><td>0.1139528     </td><td>5.065376      </td><td>Med           </td></tr>\n",
       "\t<tr><th scope=row>180</th><td>180           </td><td>2016-09-14    </td><td>06:04:41      </td><td>0:09:10       </td><td>45.70314      </td><td>159.00        </td><td>182.46        </td><td>74.70         </td><td> 660          </td><td>1312.82       </td><td>1817          </td><td> 5338.19      </td><td>8879.82       </td><td>0.60          </td><td>15213.63      </td><td>0.1211133     </td><td>5.068904      </td><td>Med           </td></tr>\n",
       "\t<tr><th scope=row>251</th><td>251           </td><td>2016-07-04    </td><td>06:25:15      </td><td>0:10:40       </td><td>43.82217      </td><td>159.91        </td><td>200.30        </td><td>73.75         </td><td> 757          </td><td>1369.17       </td><td>1816          </td><td> 7968.60      </td><td>5137.97       </td><td>1.55          </td><td>13799.12      </td><td>0.1167934     </td><td>5.074611      </td><td>Med           </td></tr>\n",
       "\t<tr><th scope=row>245</th><td>245           </td><td>2016-07-10    </td><td>06:56:44      </td><td>0:10:05       </td><td>45.64438      </td><td>161.31        </td><td>177.01        </td><td>72.63         </td><td> 732          </td><td>1314.51       </td><td>1791          </td><td> 6283.42      </td><td>6885.84       </td><td>0.91          </td><td>13638.50      </td><td>0.1227149     </td><td>5.083328      </td><td>Med           </td></tr>\n",
       "\t<tr><th scope=row>147</th><td>147           </td><td>2016-10-18    </td><td>06:25:36      </td><td>0:10:19       </td><td>46.91495      </td><td>161.48        </td><td>155.92        </td><td>70.86         </td><td> 934          </td><td>1278.91       </td><td>1803          </td><td> 8100.62      </td><td>6454.21       </td><td>1.26          </td><td>14738.99      </td><td>0.1262638     </td><td>5.084381      </td><td>Med           </td></tr>\n",
       "\t<tr><th scope=row>151</th><td>151           </td><td>2016-10-14    </td><td>06:11:12      </td><td>0:10:40       </td><td>47.18576      </td><td>161.99        </td><td>182.16        </td><td>74.44         </td><td> 910          </td><td>1271.57       </td><td>2189          </td><td> 5396.38      </td><td>6938.32       </td><td>0.78          </td><td>12521.60      </td><td>0.1273937     </td><td>5.087535      </td><td>Med           </td></tr>\n",
       "\t<tr><th scope=row>145</th><td>145           </td><td>2016-10-20    </td><td>06:16:11      </td><td>0:10:07.416000</td><td>43.32411      </td><td>162.54        </td><td>153.88        </td><td>74.76         </td><td> 999          </td><td>1384.91       </td><td>1766          </td><td> 7582.93      </td><td>5985.37       </td><td>1.27          </td><td>14017.01      </td><td>0.1173650     </td><td>5.090924      </td><td>Med           </td></tr>\n",
       "\t<tr><th scope=row>333</th><td>333           </td><td>2016-04-13    </td><td>06:28:21      </td><td>0:07:04.438000</td><td>46.86585      </td><td>163.93        </td><td>171.96        </td><td>72.78         </td><td> 940          </td><td>1280.25       </td><td>1813          </td><td> 3373.31      </td><td>7626.06       </td><td>0.44          </td><td>11582.49      </td><td>0.1280453     </td><td>5.099440      </td><td>Med           </td></tr>\n",
       "\t<tr><th scope=row>354</th><td>354           </td><td>2016-03-23    </td><td>05:17:56      </td><td>0:09:30.881000</td><td>43.99924      </td><td>163.93        </td><td>173.23        </td><td>81.63         </td><td> 700          </td><td>1363.66       </td><td>1850          </td><td> 3241.53      </td><td>5863.91       </td><td>0.55          </td><td> 9525.11      </td><td>0.1202132     </td><td>5.099440      </td><td>Med           </td></tr>\n",
       "\t<tr><th scope=row>38</th><td> 38           </td><td>2017-02-07    </td><td>06:14:05      </td><td>0:10:00       </td><td>44.41944      </td><td>163.96        </td><td>150.64        </td><td>84.35         </td><td> 926          </td><td>1350.76       </td><td>1811          </td><td> 2558.96      </td><td>7826.60       </td><td>0.33          </td><td>10510.66      </td><td>0.1213835     </td><td>5.099622      </td><td>Med           </td></tr>\n",
       "\t<tr><th scope=row>473</th><td>473           </td><td>2015-11-25    </td><td>05:36:37      </td><td>0:10:40.713000</td><td>43.26195      </td><td>164.01        </td><td>149.97        </td><td>80.80         </td><td>1029          </td><td>1386.90       </td><td>1789          </td><td> 3257.96      </td><td>6054.97       </td><td>0.54          </td><td> 9399.58      </td><td>0.1182565     </td><td>5.099927      </td><td>Med           </td></tr>\n",
       "\t<tr><th scope=row>136</th><td>136           </td><td>2016-10-30    </td><td>07:47:21      </td><td>0:10:15       </td><td>47.74105      </td><td>167.93        </td><td>167.05        </td><td>68.74         </td><td> 926          </td><td>1256.78       </td><td>1717          </td><td> 3038.78      </td><td>5845.72       </td><td>0.52          </td><td> 9266.43      </td><td>0.1336192     </td><td>5.123547      </td><td>Med           </td></tr>\n",
       "\t<tr><th scope=row>187</th><td>187           </td><td>2016-09-07    </td><td>06:27:32      </td><td>0:10:24       </td><td>43.38144      </td><td>169.34        </td><td>155.61        </td><td>76.56         </td><td>1004          </td><td>1383.08       </td><td>1945          </td><td> 2739.28      </td><td>7143.58       </td><td>0.38          </td><td>10244.97      </td><td>0.1224369     </td><td>5.131909      </td><td>Med           </td></tr>\n",
       "\t<tr><th scope=row>160</th><td>160           </td><td>2016-10-05    </td><td>06:09:34      </td><td>0:09:56       </td><td>43.92194      </td><td>173.52        </td><td>199.38        </td><td>72.69         </td><td> 958          </td><td>1366.06       </td><td>1863          </td><td> 6463.86      </td><td>8772.95       </td><td>0.74          </td><td>15858.00      </td><td>0.1270222     </td><td>5.156293      </td><td>Med           </td></tr>\n",
       "\t<tr><th scope=row>87</th><td> 87           </td><td>2016-12-20    </td><td>06:10:48      </td><td>0:10:18       </td><td>44.19531      </td><td>177.62        </td><td>187.46        </td><td>79.06         </td><td> 977          </td><td>1357.61       </td><td>1844          </td><td>10521.21      </td><td>7517.11       </td><td>1.40          </td><td>18496.44      </td><td>0.1308329     </td><td>5.179646      </td><td>Med           </td></tr>\n",
       "\t<tr><th scope=row>45</th><td> 45           </td><td>2017-01-31    </td><td>06:14:21      </td><td>0:10:01       </td><td>44.48926      </td><td>181.66        </td><td>162.87        </td><td>82.31         </td><td> 934          </td><td>1348.64       </td><td>1837          </td><td> 3730.75      </td><td>9382.61       </td><td>0.40          </td><td>13878.31      </td><td>0.1346987     </td><td>5.202137      </td><td>Med           </td></tr>\n",
       "\t<tr><th scope=row>264</th><td>264           </td><td>2016-06-22    </td><td>06:10:56      </td><td>0:10:41       </td><td>43.08271      </td><td>191.51        </td><td>176.16        </td><td>79.12         </td><td>1026          </td><td>1392.67       </td><td>1829          </td><td> 8866.15      </td><td>8042.06       </td><td>1.10          </td><td>17439.52      </td><td>0.1375128     </td><td>5.254940      </td><td>Med           </td></tr>\n",
       "\t<tr><th scope=row>146</th><td>146           </td><td>2016-10-19    </td><td>06:25:41      </td><td>0:09:09       </td><td>45.80293      </td><td>206.20        </td><td>192.39        </td><td>78.66         </td><td> 957          </td><td>1309.96       </td><td>2186          </td><td> 4430.64      </td><td>9388.70       </td><td>0.47          </td><td>14639.64      </td><td>0.1574094     </td><td>5.328847      </td><td>Med           </td></tr>\n",
       "</tbody>\n",
       "</table>\n"
      ],
      "text/latex": [
       "\\begin{tabular}{r|llllllllllllllllll}\n",
       "  & ID & Tag & Start & Dauer & AvgHR & RMSSD & SDNN & pNN50 & RRmin & RRmean & RRmax & LF & HF & LF.HF & Total & NormRMSSD & LnRMSSD & HRcat\\\\\n",
       "\\hline\n",
       "\t298 & 298            & 2016-05-18     & 06:32:02       & 0:10:04        & 55.88882       & 44.62          &  60.87         & 26.16          &  840           & 1073.56        & 1271           &  662.81        &  697.73        & 0.95           &  1410.80       & 0.04156265     & 3.798182       & High          \\\\\n",
       "\t168 & 168            & 2016-09-26     & 06:10:41       & 0:10:27        & 59.87785       & 51.03          &  77.26         & 28.94          &  834           & 1002.04        & 1353           & 1676.53        & 1070.03        & 1.57           &  2992.24       & 0.05092611     & 3.932414       & High          \\\\\n",
       "\t441 & 441            & 2015-12-27     & 07:33:06       & 0:07:23.169000 & 57.10044       & 57.23          & 110.66         & 34.79          &  830           & 1050.78        & 1365           & 2110.23        & 1025.70        & 2.06           &  3410.92       & 0.05446430     & 4.047078       & High          \\\\\n",
       "\t68 &  68            & 2017-01-08     & 07:11:05       & 0:10:30        & 55.69996       & 57.76          &  83.82         & 37.97          &  851           & 1077.20        & 1314           & 1600.03        & 1260.15        & 1.27           &  3320.19       & 0.05362050     & 4.056296       & High          \\\\\n",
       "\t532 & 532            & 2015-09-26     & 07:32:36       & 0:10:01.148000 & 54.59360       & 58.09          &  67.75         & 39.03          &  911           & 1099.03        & 1306           & 1535.18        &  907.22        & 1.69           &  2523.67       & 0.05285570     & 4.061994       & High          \\\\\n",
       "\t107 & 107            & 2016-11-29     & 06:38:31       & 0:09:30        & 55.74136       & 58.95          &  98.51         & 34.80          &  866           & 1076.40        & 1384           &  802.18        &  791.40        & 1.01           &  1605.37       & 0.05476589     & 4.076690       & High          \\\\\n",
       "\t218 & 218            & 2016-08-07     & 07:12:54       & 0:11:12.829000 & 54.05503       & 62.74          &  96.36         & 40.61          &  927           & 1109.98        & 1435           & 1671.69        & 1196.32        & 1.40           &  2978.13       & 0.05652354     & 4.138999       & High          \\\\\n",
       "\t105 & 105            & 2016-12-01     & 06:13:19       & 0:10:01        & 54.65875       & 62.81          &  87.33         & 39.26          &  907           & 1097.72        & 1422           & 1711.66        &  917.10        & 1.87           &  2855.92       & 0.05721860     & 4.140114       & High          \\\\\n",
       "\t539 & 539            & 2015-09-19     & 06:34:26       & 0:10:43.324000 & 50.50760       & 64.72          &  75.35         & 47.56          & 1000           & 1187.94        & 1439           & 1078.46        & 1252.75        & 0.86           &  2410.54       & 0.05448087     & 4.170070       & High          \\\\\n",
       "\t54 &  54            & 2017-01-22     & 06:44:19       & 0:07:23        & 55.92268       & 65.20          & 104.85         & 41.08          &  843           & 1072.91        & 1373           & 1273.84        & 1204.24        & 1.06           &  2588.16       & 0.06076931     & 4.177459       & High          \\\\\n",
       "\t81 &  81            & 2016-12-26     & 08:01:13       & 0:09:34        & 55.08175       & 65.44          & 127.42         & 35.89          &  800           & 1089.29        & 1407           & 3319.28        & 1116.61        & 2.97           &  4855.40       & 0.06007583     & 4.181134       & High          \\\\\n",
       "\t55 &  55            & 2017-01-21     & 07:17:28       & 0:11:35.978000 & 53.22263       & 65.78          &  99.79         & 43.22          &  899           & 1127.34        & 1521           &  697.27        & 1210.36        & 0.58           &  2024.60       & 0.05834974     & 4.186316       & High          \\\\\n",
       "\t71 &  71            & 2017-01-05     & 07:12:48       & 0:10:06        & 53.80249       & 67.74          &  83.84         & 46.57          &  863           & 1115.19        & 1586           &  864.85        & 1122.51        & 0.77           &  2127.67       & 0.06074301     & 4.215677       & High          \\\\\n",
       "\t741 & 741            & 2015-02-17     & 10:32:27       & 0:23:55.177000 & 53.93258       & 67.88          & 144.77         & 40.60          &  635           & 1112.50        & 1542           & 4877.74        & 1303.45        & 3.74           &  7027.42       & 0.06101573     & 4.217741       & High          \\\\\n",
       "\t208 & 208            & 2016-08-17     & 07:02:46       & 0:09:48.689000 & 53.39646       & 69.00          &  99.64         & 39.00          &  949           & 1123.67        & 1510           & 1357.30        & 1291.80        & 1.05           &  2860.77       & 0.06140593     & 4.234107       & High          \\\\\n",
       "\t567 & 567            & 2015-08-22     & 07:49:24       & 0:11:11.187000 & 48.10159       & 69.98          & 111.04         & 38.26          &  919           & 1247.36        & 1613           & 1690.61        & 1045.04        & 1.62           &  2775.38       & 0.05610249     & 4.248209       & High          \\\\\n",
       "\t163 & 163            & 2016-10-01     & 06:51:53       & 0:10:22.880000 & 54.26034       & 70.93          &  90.77         & 50.55          &  895           & 1105.78        & 1380           & 2023.49        & 1802.29        & 1.12           &  3958.86       & 0.06414477     & 4.261693       & High          \\\\\n",
       "\t91 &  91            & 2016-12-16     & 06:09:08       & 0:10:01.830000 & 53.78706       & 71.14          & 106.18         & 45.54          &  881           & 1115.51        & 1447           & 1607.43        & 1688.44        & 0.95           &  3557.88       & 0.06377352     & 4.264650       & High          \\\\\n",
       "\t602 & 602            & 2015-07-18     & 07:29:37       & 0:12:12.233000 & 50.15003       & 71.52          &  98.29         & 52.74          &  963           & 1196.41        & 1460           & 1283.23        & 1377.14        & 0.93           &  2821.19       & 0.05977884     & 4.269977       & High          \\\\\n",
       "\t161 & 161            & 2016-10-03     & 07:51:19       & 0:10:00.927000 & 51.92872       & 71.65          & 110.32         & 48.36          &  930           & 1155.43        & 2093           & 8205.64        & 5625.62        & 1.46           & 14033.55       & 0.06201155     & 4.271793       & High          \\\\\n",
       "\t740 & 740            & 2015-02-23     & 07:36:30       & 0:12:12.876000 & 51.98091       & 72.18          &  73.20         & 55.10          &  944           & 1154.27        & 1436           & 1320.89        & 1068.71        & 1.24           &  2525.71       & 0.06253303     & 4.279163       & High          \\\\\n",
       "\t689 & 689            & 2015-04-18     & 07:00:38       & 0:10:07.733000 & 53.10674       & 72.37          & 109.55         & 46.44          &  897           & 1129.80        & 1473           &  806.91        & 2417.10        & 0.33           &  3487.97       & 0.06405559     & 4.281792       & High          \\\\\n",
       "\t57 &  57            & 2017-01-19     & 06:16:35       & 0:09:23.924000 & 53.09922       & 72.55          & 109.65         & 45.07          &  723           & 1129.96        & 1404           & 1079.32        & 1095.50        & 0.99           &  2226.03       & 0.06420581     & 4.284276       & High          \\\\\n",
       "\t76 &  76            & 2016-12-31     & 08:22:02       & 0:10:28        & 52.26891       & 72.71          &  96.56         & 42.33          &  942           & 1147.91        & 1528           & 1886.23        & 1609.02        & 1.17           &  3614.60       & 0.06334120     & 4.286479       & High          \\\\\n",
       "\t277 & 277            & 2016-06-08     & 06:20:31       & 0:10:52        & 49.95338       & 72.79          &  93.28         & 49.63          & 1011           & 1201.12        & 1490           & 1876.20        & 1406.46        & 1.33           &  3394.58       & 0.06060177     & 4.287579       & High          \\\\\n",
       "\t254 & 254            & 2016-07-01     & 06:17:18       & 0:10:08        & 49.50822       & 72.84          & 102.44         & 47.88          &  916           & 1211.92        & 1520           & 2215.25        & 1633.81        & 1.36           &  3920.10       & 0.06010298     & 4.288265       & High          \\\\\n",
       "\t380 & 380            & 2016-02-26     & 05:20:04       & 0:10:02.147000 & 52.54170       & 74.04          & 118.83         & 48.88          &  700           & 1141.95        & 1579           & 1523.13        & 1717.62        & 0.89           &  3366.35       & 0.06483646     & 4.304605       & High          \\\\\n",
       "\t103 & 103            & 2016-12-04     & 07:10:57       & 0:11:02.393000 & 52.90865       & 74.10          & 103.53         & 45.83          &  917           & 1134.03        & 1427           & 2042.74        & 1939.30        & 1.05           &  4091.92       & 0.06534219     & 4.305416       & High          \\\\\n",
       "\t63 &  63            & 2017-01-13     & 06:16:15       & 0:10:05.163000 & 55.50108       & 74.17          & 124.28         & 41.59          &  854           & 1081.06        & 1630           & 1078.11        & 1169.99        & 0.92           &  2352.26       & 0.06860859     & 4.306360       & High          \\\\\n",
       "\t382 & 382            & 2016-02-24     & 05:31:18       & 0:10:01.347000 & 51.09862       & 74.22          & 106.45         & 49.90          &  854           & 1174.20        & 1456           & 1922.73        & 1769.96        & 1.09           &  3984.13       & 0.06320899     & 4.307034       & High          \\\\\n",
       "\t... & ... & ... & ... & ... & ... & ... & ... & ... & ... & ... & ... & ... & ... & ... & ... & ... & ... & ...\\\\\n",
       "\t93 &  93            & 2016-12-14     & 06:09:59       & 0:10:01        & 44.89036       & 151.59         & 159.66         & 75.85          &  974           & 1336.59        & 1772           &  8220.65       & 6546.80        & 1.26           & 15339.50       & 0.1134155      & 5.021180       & Med           \\\\\n",
       "\t421 & 421            & 2016-01-16     & 06:10:46       & 0:12:09.155000 & 45.49384       & 151.78         & 127.07         & 81.08          & 1018           & 1318.86        & 1640           &  2381.27       & 6221.98        & 0.38           &  8599.61       & 0.1150842      & 5.022432       & Med           \\\\\n",
       "\t416 & 416            & 2016-01-21     & 05:32:29       & 0:11:22.747000 & 44.59905       & 152.05         & 151.39         & 77.31          & 1006           & 1345.32        & 1775           &  4234.11       & 6843.06        & 0.62           & 11276.39       & 0.1130214      & 5.024209       & Med           \\\\\n",
       "\t14 &  14            & 2017-03-05     & 06:52:00       & 0:09:58        & 44.64452       & 152.51         & 133.94         & 78.73          & 1046           & 1343.95        & 1720           &  2334.18       & 8654.62        & 0.27           & 11198.06       & 0.1134789      & 5.027230       & Med           \\\\\n",
       "\t203 & 203            & 2016-08-22     & 07:25:22       & 0:10:18        & 44.58514       & 152.71         & 181.51         & 68.06          &  929           & 1345.74        & 1784           &  8353.81       & 4278.41        & 1.95           & 13179.22       & 0.1134766      & 5.028541       & Med           \\\\\n",
       "\t336 & 336            & 2016-04-10     & 05:53:57       & 0:09:12.482000 & 43.29473       & 153.28         & 138.41         & 78.46          & 1121           & 1385.85        & 1826           &  3154.91       & 5162.39        & 0.61           &  8658.12       & 0.1106036      & 5.032266       & Med           \\\\\n",
       "\t241 & 241            & 2016-07-14     & 06:24:02       & 0:10:57        & 44.45729       & 153.66         & 161.92         & 71.55          &  937           & 1349.61        & 1786           &  5687.53       & 4713.86        & 1.21           & 10830.26       & 0.1138551      & 5.034742       & Med           \\\\\n",
       "\t97 &  97            & 2016-12-10     & 06:15:14       & 0:10:07.495000 & 45.02713       & 154.87         & 164.58         & 75.79          & 1048           & 1332.53        & 1826           &  1923.10       & 5357.99        & 0.36           &  7858.66       & 0.1162225      & 5.042586       & Med           \\\\\n",
       "\t272 & 272            & 2016-06-13     & 06:28:53       & 0:10:26        & 46.06172       & 155.69         & 158.59         & 73.35          &  647           & 1302.60        & 2177           &  9379.86       & 8812.23        & 1.06           & 19694.78       & 0.1195225      & 5.047867       & Med           \\\\\n",
       "\t722 & 722            & 2015-03-14     & 04:28:07       & 0:06:52.783000 & 43.81705       & 156.84         & 125.00         & 80.07          & 1129           & 1369.33        & 1678           &  1257.77       & 5127.58        & 0.25           &  6494.61       & 0.1145378      & 5.055226       & Med           \\\\\n",
       "\t284 & 284            & 2016-06-01     & 06:15:15       & 0:10:35        & 45.61801       & 156.88         & 179.76         & 73.74          &  627           & 1315.27        & 1761           & 10151.56       & 7454.65        & 1.36           & 18009.53       & 0.1192759      & 5.055481       & Med           \\\\\n",
       "\t52 &  52            & 2017-01-24     & 05:20:50       & 0:09:43        & 43.09788       & 157.68         & 130.92         & 82.60          & 1103           & 1392.18        & 1729           &  4124.04       & 5969.63        & 0.69           & 10254.58       & 0.1132612      & 5.060568       & Med           \\\\\n",
       "\t179 & 179            & 2016-09-15     & 06:02:20       & 0:09:00        & 43.15305       & 158.44         & 168.14         & 74.15          & 1031           & 1390.40        & 1862           &  9092.60       & 6849.49        & 1.33           & 16885.63       & 0.1139528      & 5.065376       & Med           \\\\\n",
       "\t180 & 180            & 2016-09-14     & 06:04:41       & 0:09:10        & 45.70314       & 159.00         & 182.46         & 74.70          &  660           & 1312.82        & 1817           &  5338.19       & 8879.82        & 0.60           & 15213.63       & 0.1211133      & 5.068904       & Med           \\\\\n",
       "\t251 & 251            & 2016-07-04     & 06:25:15       & 0:10:40        & 43.82217       & 159.91         & 200.30         & 73.75          &  757           & 1369.17        & 1816           &  7968.60       & 5137.97        & 1.55           & 13799.12       & 0.1167934      & 5.074611       & Med           \\\\\n",
       "\t245 & 245            & 2016-07-10     & 06:56:44       & 0:10:05        & 45.64438       & 161.31         & 177.01         & 72.63          &  732           & 1314.51        & 1791           &  6283.42       & 6885.84        & 0.91           & 13638.50       & 0.1227149      & 5.083328       & Med           \\\\\n",
       "\t147 & 147            & 2016-10-18     & 06:25:36       & 0:10:19        & 46.91495       & 161.48         & 155.92         & 70.86          &  934           & 1278.91        & 1803           &  8100.62       & 6454.21        & 1.26           & 14738.99       & 0.1262638      & 5.084381       & Med           \\\\\n",
       "\t151 & 151            & 2016-10-14     & 06:11:12       & 0:10:40        & 47.18576       & 161.99         & 182.16         & 74.44          &  910           & 1271.57        & 2189           &  5396.38       & 6938.32        & 0.78           & 12521.60       & 0.1273937      & 5.087535       & Med           \\\\\n",
       "\t145 & 145            & 2016-10-20     & 06:16:11       & 0:10:07.416000 & 43.32411       & 162.54         & 153.88         & 74.76          &  999           & 1384.91        & 1766           &  7582.93       & 5985.37        & 1.27           & 14017.01       & 0.1173650      & 5.090924       & Med           \\\\\n",
       "\t333 & 333            & 2016-04-13     & 06:28:21       & 0:07:04.438000 & 46.86585       & 163.93         & 171.96         & 72.78          &  940           & 1280.25        & 1813           &  3373.31       & 7626.06        & 0.44           & 11582.49       & 0.1280453      & 5.099440       & Med           \\\\\n",
       "\t354 & 354            & 2016-03-23     & 05:17:56       & 0:09:30.881000 & 43.99924       & 163.93         & 173.23         & 81.63          &  700           & 1363.66        & 1850           &  3241.53       & 5863.91        & 0.55           &  9525.11       & 0.1202132      & 5.099440       & Med           \\\\\n",
       "\t38 &  38            & 2017-02-07     & 06:14:05       & 0:10:00        & 44.41944       & 163.96         & 150.64         & 84.35          &  926           & 1350.76        & 1811           &  2558.96       & 7826.60        & 0.33           & 10510.66       & 0.1213835      & 5.099622       & Med           \\\\\n",
       "\t473 & 473            & 2015-11-25     & 05:36:37       & 0:10:40.713000 & 43.26195       & 164.01         & 149.97         & 80.80          & 1029           & 1386.90        & 1789           &  3257.96       & 6054.97        & 0.54           &  9399.58       & 0.1182565      & 5.099927       & Med           \\\\\n",
       "\t136 & 136            & 2016-10-30     & 07:47:21       & 0:10:15        & 47.74105       & 167.93         & 167.05         & 68.74          &  926           & 1256.78        & 1717           &  3038.78       & 5845.72        & 0.52           &  9266.43       & 0.1336192      & 5.123547       & Med           \\\\\n",
       "\t187 & 187            & 2016-09-07     & 06:27:32       & 0:10:24        & 43.38144       & 169.34         & 155.61         & 76.56          & 1004           & 1383.08        & 1945           &  2739.28       & 7143.58        & 0.38           & 10244.97       & 0.1224369      & 5.131909       & Med           \\\\\n",
       "\t160 & 160            & 2016-10-05     & 06:09:34       & 0:09:56        & 43.92194       & 173.52         & 199.38         & 72.69          &  958           & 1366.06        & 1863           &  6463.86       & 8772.95        & 0.74           & 15858.00       & 0.1270222      & 5.156293       & Med           \\\\\n",
       "\t87 &  87            & 2016-12-20     & 06:10:48       & 0:10:18        & 44.19531       & 177.62         & 187.46         & 79.06          &  977           & 1357.61        & 1844           & 10521.21       & 7517.11        & 1.40           & 18496.44       & 0.1308329      & 5.179646       & Med           \\\\\n",
       "\t45 &  45            & 2017-01-31     & 06:14:21       & 0:10:01        & 44.48926       & 181.66         & 162.87         & 82.31          &  934           & 1348.64        & 1837           &  3730.75       & 9382.61        & 0.40           & 13878.31       & 0.1346987      & 5.202137       & Med           \\\\\n",
       "\t264 & 264            & 2016-06-22     & 06:10:56       & 0:10:41        & 43.08271       & 191.51         & 176.16         & 79.12          & 1026           & 1392.67        & 1829           &  8866.15       & 8042.06        & 1.10           & 17439.52       & 0.1375128      & 5.254940       & Med           \\\\\n",
       "\t146 & 146            & 2016-10-19     & 06:25:41       & 0:09:09        & 45.80293       & 206.20         & 192.39         & 78.66          &  957           & 1309.96        & 2186           &  4430.64       & 9388.70        & 0.47           & 14639.64       & 0.1574094      & 5.328847       & Med           \\\\\n",
       "\\end{tabular}\n"
      ],
      "text/markdown": [
       "\n",
       "| <!--/--> | ID | Tag | Start | Dauer | AvgHR | RMSSD | SDNN | pNN50 | RRmin | RRmean | RRmax | LF | HF | LF.HF | Total | NormRMSSD | LnRMSSD | HRcat | \n",
       "|---|---|---|---|---|---|---|---|---|---|---|---|---|---|---|---|---|---|---|---|---|---|---|---|---|---|---|---|---|---|---|---|---|---|---|---|---|---|---|---|---|---|---|---|---|---|---|---|---|---|---|---|---|---|---|---|---|---|---|---|---|\n",
       "| 298 | 298            | 2016-05-18     | 06:32:02       | 0:10:04        | 55.88882       | 44.62          |  60.87         | 26.16          |  840           | 1073.56        | 1271           |  662.81        |  697.73        | 0.95           |  1410.80       | 0.04156265     | 3.798182       | High           | \n",
       "| 168 | 168            | 2016-09-26     | 06:10:41       | 0:10:27        | 59.87785       | 51.03          |  77.26         | 28.94          |  834           | 1002.04        | 1353           | 1676.53        | 1070.03        | 1.57           |  2992.24       | 0.05092611     | 3.932414       | High           | \n",
       "| 441 | 441            | 2015-12-27     | 07:33:06       | 0:07:23.169000 | 57.10044       | 57.23          | 110.66         | 34.79          |  830           | 1050.78        | 1365           | 2110.23        | 1025.70        | 2.06           |  3410.92       | 0.05446430     | 4.047078       | High           | \n",
       "| 68 |  68            | 2017-01-08     | 07:11:05       | 0:10:30        | 55.69996       | 57.76          |  83.82         | 37.97          |  851           | 1077.20        | 1314           | 1600.03        | 1260.15        | 1.27           |  3320.19       | 0.05362050     | 4.056296       | High           | \n",
       "| 532 | 532            | 2015-09-26     | 07:32:36       | 0:10:01.148000 | 54.59360       | 58.09          |  67.75         | 39.03          |  911           | 1099.03        | 1306           | 1535.18        |  907.22        | 1.69           |  2523.67       | 0.05285570     | 4.061994       | High           | \n",
       "| 107 | 107            | 2016-11-29     | 06:38:31       | 0:09:30        | 55.74136       | 58.95          |  98.51         | 34.80          |  866           | 1076.40        | 1384           |  802.18        |  791.40        | 1.01           |  1605.37       | 0.05476589     | 4.076690       | High           | \n",
       "| 218 | 218            | 2016-08-07     | 07:12:54       | 0:11:12.829000 | 54.05503       | 62.74          |  96.36         | 40.61          |  927           | 1109.98        | 1435           | 1671.69        | 1196.32        | 1.40           |  2978.13       | 0.05652354     | 4.138999       | High           | \n",
       "| 105 | 105            | 2016-12-01     | 06:13:19       | 0:10:01        | 54.65875       | 62.81          |  87.33         | 39.26          |  907           | 1097.72        | 1422           | 1711.66        |  917.10        | 1.87           |  2855.92       | 0.05721860     | 4.140114       | High           | \n",
       "| 539 | 539            | 2015-09-19     | 06:34:26       | 0:10:43.324000 | 50.50760       | 64.72          |  75.35         | 47.56          | 1000           | 1187.94        | 1439           | 1078.46        | 1252.75        | 0.86           |  2410.54       | 0.05448087     | 4.170070       | High           | \n",
       "| 54 |  54            | 2017-01-22     | 06:44:19       | 0:07:23        | 55.92268       | 65.20          | 104.85         | 41.08          |  843           | 1072.91        | 1373           | 1273.84        | 1204.24        | 1.06           |  2588.16       | 0.06076931     | 4.177459       | High           | \n",
       "| 81 |  81            | 2016-12-26     | 08:01:13       | 0:09:34        | 55.08175       | 65.44          | 127.42         | 35.89          |  800           | 1089.29        | 1407           | 3319.28        | 1116.61        | 2.97           |  4855.40       | 0.06007583     | 4.181134       | High           | \n",
       "| 55 |  55            | 2017-01-21     | 07:17:28       | 0:11:35.978000 | 53.22263       | 65.78          |  99.79         | 43.22          |  899           | 1127.34        | 1521           |  697.27        | 1210.36        | 0.58           |  2024.60       | 0.05834974     | 4.186316       | High           | \n",
       "| 71 |  71            | 2017-01-05     | 07:12:48       | 0:10:06        | 53.80249       | 67.74          |  83.84         | 46.57          |  863           | 1115.19        | 1586           |  864.85        | 1122.51        | 0.77           |  2127.67       | 0.06074301     | 4.215677       | High           | \n",
       "| 741 | 741            | 2015-02-17     | 10:32:27       | 0:23:55.177000 | 53.93258       | 67.88          | 144.77         | 40.60          |  635           | 1112.50        | 1542           | 4877.74        | 1303.45        | 3.74           |  7027.42       | 0.06101573     | 4.217741       | High           | \n",
       "| 208 | 208            | 2016-08-17     | 07:02:46       | 0:09:48.689000 | 53.39646       | 69.00          |  99.64         | 39.00          |  949           | 1123.67        | 1510           | 1357.30        | 1291.80        | 1.05           |  2860.77       | 0.06140593     | 4.234107       | High           | \n",
       "| 567 | 567            | 2015-08-22     | 07:49:24       | 0:11:11.187000 | 48.10159       | 69.98          | 111.04         | 38.26          |  919           | 1247.36        | 1613           | 1690.61        | 1045.04        | 1.62           |  2775.38       | 0.05610249     | 4.248209       | High           | \n",
       "| 163 | 163            | 2016-10-01     | 06:51:53       | 0:10:22.880000 | 54.26034       | 70.93          |  90.77         | 50.55          |  895           | 1105.78        | 1380           | 2023.49        | 1802.29        | 1.12           |  3958.86       | 0.06414477     | 4.261693       | High           | \n",
       "| 91 |  91            | 2016-12-16     | 06:09:08       | 0:10:01.830000 | 53.78706       | 71.14          | 106.18         | 45.54          |  881           | 1115.51        | 1447           | 1607.43        | 1688.44        | 0.95           |  3557.88       | 0.06377352     | 4.264650       | High           | \n",
       "| 602 | 602            | 2015-07-18     | 07:29:37       | 0:12:12.233000 | 50.15003       | 71.52          |  98.29         | 52.74          |  963           | 1196.41        | 1460           | 1283.23        | 1377.14        | 0.93           |  2821.19       | 0.05977884     | 4.269977       | High           | \n",
       "| 161 | 161            | 2016-10-03     | 07:51:19       | 0:10:00.927000 | 51.92872       | 71.65          | 110.32         | 48.36          |  930           | 1155.43        | 2093           | 8205.64        | 5625.62        | 1.46           | 14033.55       | 0.06201155     | 4.271793       | High           | \n",
       "| 740 | 740            | 2015-02-23     | 07:36:30       | 0:12:12.876000 | 51.98091       | 72.18          |  73.20         | 55.10          |  944           | 1154.27        | 1436           | 1320.89        | 1068.71        | 1.24           |  2525.71       | 0.06253303     | 4.279163       | High           | \n",
       "| 689 | 689            | 2015-04-18     | 07:00:38       | 0:10:07.733000 | 53.10674       | 72.37          | 109.55         | 46.44          |  897           | 1129.80        | 1473           |  806.91        | 2417.10        | 0.33           |  3487.97       | 0.06405559     | 4.281792       | High           | \n",
       "| 57 |  57            | 2017-01-19     | 06:16:35       | 0:09:23.924000 | 53.09922       | 72.55          | 109.65         | 45.07          |  723           | 1129.96        | 1404           | 1079.32        | 1095.50        | 0.99           |  2226.03       | 0.06420581     | 4.284276       | High           | \n",
       "| 76 |  76            | 2016-12-31     | 08:22:02       | 0:10:28        | 52.26891       | 72.71          |  96.56         | 42.33          |  942           | 1147.91        | 1528           | 1886.23        | 1609.02        | 1.17           |  3614.60       | 0.06334120     | 4.286479       | High           | \n",
       "| 277 | 277            | 2016-06-08     | 06:20:31       | 0:10:52        | 49.95338       | 72.79          |  93.28         | 49.63          | 1011           | 1201.12        | 1490           | 1876.20        | 1406.46        | 1.33           |  3394.58       | 0.06060177     | 4.287579       | High           | \n",
       "| 254 | 254            | 2016-07-01     | 06:17:18       | 0:10:08        | 49.50822       | 72.84          | 102.44         | 47.88          |  916           | 1211.92        | 1520           | 2215.25        | 1633.81        | 1.36           |  3920.10       | 0.06010298     | 4.288265       | High           | \n",
       "| 380 | 380            | 2016-02-26     | 05:20:04       | 0:10:02.147000 | 52.54170       | 74.04          | 118.83         | 48.88          |  700           | 1141.95        | 1579           | 1523.13        | 1717.62        | 0.89           |  3366.35       | 0.06483646     | 4.304605       | High           | \n",
       "| 103 | 103            | 2016-12-04     | 07:10:57       | 0:11:02.393000 | 52.90865       | 74.10          | 103.53         | 45.83          |  917           | 1134.03        | 1427           | 2042.74        | 1939.30        | 1.05           |  4091.92       | 0.06534219     | 4.305416       | High           | \n",
       "| 63 |  63            | 2017-01-13     | 06:16:15       | 0:10:05.163000 | 55.50108       | 74.17          | 124.28         | 41.59          |  854           | 1081.06        | 1630           | 1078.11        | 1169.99        | 0.92           |  2352.26       | 0.06860859     | 4.306360       | High           | \n",
       "| 382 | 382            | 2016-02-24     | 05:31:18       | 0:10:01.347000 | 51.09862       | 74.22          | 106.45         | 49.90          |  854           | 1174.20        | 1456           | 1922.73        | 1769.96        | 1.09           |  3984.13       | 0.06320899     | 4.307034       | High           | \n",
       "| ... | ... | ... | ... | ... | ... | ... | ... | ... | ... | ... | ... | ... | ... | ... | ... | ... | ... | ... | \n",
       "| 93 |  93            | 2016-12-14     | 06:09:59       | 0:10:01        | 44.89036       | 151.59         | 159.66         | 75.85          |  974           | 1336.59        | 1772           |  8220.65       | 6546.80        | 1.26           | 15339.50       | 0.1134155      | 5.021180       | Med            | \n",
       "| 421 | 421            | 2016-01-16     | 06:10:46       | 0:12:09.155000 | 45.49384       | 151.78         | 127.07         | 81.08          | 1018           | 1318.86        | 1640           |  2381.27       | 6221.98        | 0.38           |  8599.61       | 0.1150842      | 5.022432       | Med            | \n",
       "| 416 | 416            | 2016-01-21     | 05:32:29       | 0:11:22.747000 | 44.59905       | 152.05         | 151.39         | 77.31          | 1006           | 1345.32        | 1775           |  4234.11       | 6843.06        | 0.62           | 11276.39       | 0.1130214      | 5.024209       | Med            | \n",
       "| 14 |  14            | 2017-03-05     | 06:52:00       | 0:09:58        | 44.64452       | 152.51         | 133.94         | 78.73          | 1046           | 1343.95        | 1720           |  2334.18       | 8654.62        | 0.27           | 11198.06       | 0.1134789      | 5.027230       | Med            | \n",
       "| 203 | 203            | 2016-08-22     | 07:25:22       | 0:10:18        | 44.58514       | 152.71         | 181.51         | 68.06          |  929           | 1345.74        | 1784           |  8353.81       | 4278.41        | 1.95           | 13179.22       | 0.1134766      | 5.028541       | Med            | \n",
       "| 336 | 336            | 2016-04-10     | 05:53:57       | 0:09:12.482000 | 43.29473       | 153.28         | 138.41         | 78.46          | 1121           | 1385.85        | 1826           |  3154.91       | 5162.39        | 0.61           |  8658.12       | 0.1106036      | 5.032266       | Med            | \n",
       "| 241 | 241            | 2016-07-14     | 06:24:02       | 0:10:57        | 44.45729       | 153.66         | 161.92         | 71.55          |  937           | 1349.61        | 1786           |  5687.53       | 4713.86        | 1.21           | 10830.26       | 0.1138551      | 5.034742       | Med            | \n",
       "| 97 |  97            | 2016-12-10     | 06:15:14       | 0:10:07.495000 | 45.02713       | 154.87         | 164.58         | 75.79          | 1048           | 1332.53        | 1826           |  1923.10       | 5357.99        | 0.36           |  7858.66       | 0.1162225      | 5.042586       | Med            | \n",
       "| 272 | 272            | 2016-06-13     | 06:28:53       | 0:10:26        | 46.06172       | 155.69         | 158.59         | 73.35          |  647           | 1302.60        | 2177           |  9379.86       | 8812.23        | 1.06           | 19694.78       | 0.1195225      | 5.047867       | Med            | \n",
       "| 722 | 722            | 2015-03-14     | 04:28:07       | 0:06:52.783000 | 43.81705       | 156.84         | 125.00         | 80.07          | 1129           | 1369.33        | 1678           |  1257.77       | 5127.58        | 0.25           |  6494.61       | 0.1145378      | 5.055226       | Med            | \n",
       "| 284 | 284            | 2016-06-01     | 06:15:15       | 0:10:35        | 45.61801       | 156.88         | 179.76         | 73.74          |  627           | 1315.27        | 1761           | 10151.56       | 7454.65        | 1.36           | 18009.53       | 0.1192759      | 5.055481       | Med            | \n",
       "| 52 |  52            | 2017-01-24     | 05:20:50       | 0:09:43        | 43.09788       | 157.68         | 130.92         | 82.60          | 1103           | 1392.18        | 1729           |  4124.04       | 5969.63        | 0.69           | 10254.58       | 0.1132612      | 5.060568       | Med            | \n",
       "| 179 | 179            | 2016-09-15     | 06:02:20       | 0:09:00        | 43.15305       | 158.44         | 168.14         | 74.15          | 1031           | 1390.40        | 1862           |  9092.60       | 6849.49        | 1.33           | 16885.63       | 0.1139528      | 5.065376       | Med            | \n",
       "| 180 | 180            | 2016-09-14     | 06:04:41       | 0:09:10        | 45.70314       | 159.00         | 182.46         | 74.70          |  660           | 1312.82        | 1817           |  5338.19       | 8879.82        | 0.60           | 15213.63       | 0.1211133      | 5.068904       | Med            | \n",
       "| 251 | 251            | 2016-07-04     | 06:25:15       | 0:10:40        | 43.82217       | 159.91         | 200.30         | 73.75          |  757           | 1369.17        | 1816           |  7968.60       | 5137.97        | 1.55           | 13799.12       | 0.1167934      | 5.074611       | Med            | \n",
       "| 245 | 245            | 2016-07-10     | 06:56:44       | 0:10:05        | 45.64438       | 161.31         | 177.01         | 72.63          |  732           | 1314.51        | 1791           |  6283.42       | 6885.84        | 0.91           | 13638.50       | 0.1227149      | 5.083328       | Med            | \n",
       "| 147 | 147            | 2016-10-18     | 06:25:36       | 0:10:19        | 46.91495       | 161.48         | 155.92         | 70.86          |  934           | 1278.91        | 1803           |  8100.62       | 6454.21        | 1.26           | 14738.99       | 0.1262638      | 5.084381       | Med            | \n",
       "| 151 | 151            | 2016-10-14     | 06:11:12       | 0:10:40        | 47.18576       | 161.99         | 182.16         | 74.44          |  910           | 1271.57        | 2189           |  5396.38       | 6938.32        | 0.78           | 12521.60       | 0.1273937      | 5.087535       | Med            | \n",
       "| 145 | 145            | 2016-10-20     | 06:16:11       | 0:10:07.416000 | 43.32411       | 162.54         | 153.88         | 74.76          |  999           | 1384.91        | 1766           |  7582.93       | 5985.37        | 1.27           | 14017.01       | 0.1173650      | 5.090924       | Med            | \n",
       "| 333 | 333            | 2016-04-13     | 06:28:21       | 0:07:04.438000 | 46.86585       | 163.93         | 171.96         | 72.78          |  940           | 1280.25        | 1813           |  3373.31       | 7626.06        | 0.44           | 11582.49       | 0.1280453      | 5.099440       | Med            | \n",
       "| 354 | 354            | 2016-03-23     | 05:17:56       | 0:09:30.881000 | 43.99924       | 163.93         | 173.23         | 81.63          |  700           | 1363.66        | 1850           |  3241.53       | 5863.91        | 0.55           |  9525.11       | 0.1202132      | 5.099440       | Med            | \n",
       "| 38 |  38            | 2017-02-07     | 06:14:05       | 0:10:00        | 44.41944       | 163.96         | 150.64         | 84.35          |  926           | 1350.76        | 1811           |  2558.96       | 7826.60        | 0.33           | 10510.66       | 0.1213835      | 5.099622       | Med            | \n",
       "| 473 | 473            | 2015-11-25     | 05:36:37       | 0:10:40.713000 | 43.26195       | 164.01         | 149.97         | 80.80          | 1029           | 1386.90        | 1789           |  3257.96       | 6054.97        | 0.54           |  9399.58       | 0.1182565      | 5.099927       | Med            | \n",
       "| 136 | 136            | 2016-10-30     | 07:47:21       | 0:10:15        | 47.74105       | 167.93         | 167.05         | 68.74          |  926           | 1256.78        | 1717           |  3038.78       | 5845.72        | 0.52           |  9266.43       | 0.1336192      | 5.123547       | Med            | \n",
       "| 187 | 187            | 2016-09-07     | 06:27:32       | 0:10:24        | 43.38144       | 169.34         | 155.61         | 76.56          | 1004           | 1383.08        | 1945           |  2739.28       | 7143.58        | 0.38           | 10244.97       | 0.1224369      | 5.131909       | Med            | \n",
       "| 160 | 160            | 2016-10-05     | 06:09:34       | 0:09:56        | 43.92194       | 173.52         | 199.38         | 72.69          |  958           | 1366.06        | 1863           |  6463.86       | 8772.95        | 0.74           | 15858.00       | 0.1270222      | 5.156293       | Med            | \n",
       "| 87 |  87            | 2016-12-20     | 06:10:48       | 0:10:18        | 44.19531       | 177.62         | 187.46         | 79.06          |  977           | 1357.61        | 1844           | 10521.21       | 7517.11        | 1.40           | 18496.44       | 0.1308329      | 5.179646       | Med            | \n",
       "| 45 |  45            | 2017-01-31     | 06:14:21       | 0:10:01        | 44.48926       | 181.66         | 162.87         | 82.31          |  934           | 1348.64        | 1837           |  3730.75       | 9382.61        | 0.40           | 13878.31       | 0.1346987      | 5.202137       | Med            | \n",
       "| 264 | 264            | 2016-06-22     | 06:10:56       | 0:10:41        | 43.08271       | 191.51         | 176.16         | 79.12          | 1026           | 1392.67        | 1829           |  8866.15       | 8042.06        | 1.10           | 17439.52       | 0.1375128      | 5.254940       | Med            | \n",
       "| 146 | 146            | 2016-10-19     | 06:25:41       | 0:09:09        | 45.80293       | 206.20         | 192.39         | 78.66          |  957           | 1309.96        | 2186           |  4430.64       | 9388.70        | 0.47           | 14639.64       | 0.1574094      | 5.328847       | Med            | \n",
       "\n",
       "\n"
      ],
      "text/plain": [
       "    ID  Tag        Start    Dauer          AvgHR    RMSSD  SDNN   pNN50 RRmin\n",
       "298 298 2016-05-18 06:32:02 0:10:04        55.88882 44.62   60.87 26.16  840 \n",
       "168 168 2016-09-26 06:10:41 0:10:27        59.87785 51.03   77.26 28.94  834 \n",
       "441 441 2015-12-27 07:33:06 0:07:23.169000 57.10044 57.23  110.66 34.79  830 \n",
       "68   68 2017-01-08 07:11:05 0:10:30        55.69996 57.76   83.82 37.97  851 \n",
       "532 532 2015-09-26 07:32:36 0:10:01.148000 54.59360 58.09   67.75 39.03  911 \n",
       "107 107 2016-11-29 06:38:31 0:09:30        55.74136 58.95   98.51 34.80  866 \n",
       "218 218 2016-08-07 07:12:54 0:11:12.829000 54.05503 62.74   96.36 40.61  927 \n",
       "105 105 2016-12-01 06:13:19 0:10:01        54.65875 62.81   87.33 39.26  907 \n",
       "539 539 2015-09-19 06:34:26 0:10:43.324000 50.50760 64.72   75.35 47.56 1000 \n",
       "54   54 2017-01-22 06:44:19 0:07:23        55.92268 65.20  104.85 41.08  843 \n",
       "81   81 2016-12-26 08:01:13 0:09:34        55.08175 65.44  127.42 35.89  800 \n",
       "55   55 2017-01-21 07:17:28 0:11:35.978000 53.22263 65.78   99.79 43.22  899 \n",
       "71   71 2017-01-05 07:12:48 0:10:06        53.80249 67.74   83.84 46.57  863 \n",
       "741 741 2015-02-17 10:32:27 0:23:55.177000 53.93258 67.88  144.77 40.60  635 \n",
       "208 208 2016-08-17 07:02:46 0:09:48.689000 53.39646 69.00   99.64 39.00  949 \n",
       "567 567 2015-08-22 07:49:24 0:11:11.187000 48.10159 69.98  111.04 38.26  919 \n",
       "163 163 2016-10-01 06:51:53 0:10:22.880000 54.26034 70.93   90.77 50.55  895 \n",
       "91   91 2016-12-16 06:09:08 0:10:01.830000 53.78706 71.14  106.18 45.54  881 \n",
       "602 602 2015-07-18 07:29:37 0:12:12.233000 50.15003 71.52   98.29 52.74  963 \n",
       "161 161 2016-10-03 07:51:19 0:10:00.927000 51.92872 71.65  110.32 48.36  930 \n",
       "740 740 2015-02-23 07:36:30 0:12:12.876000 51.98091 72.18   73.20 55.10  944 \n",
       "689 689 2015-04-18 07:00:38 0:10:07.733000 53.10674 72.37  109.55 46.44  897 \n",
       "57   57 2017-01-19 06:16:35 0:09:23.924000 53.09922 72.55  109.65 45.07  723 \n",
       "76   76 2016-12-31 08:22:02 0:10:28        52.26891 72.71   96.56 42.33  942 \n",
       "277 277 2016-06-08 06:20:31 0:10:52        49.95338 72.79   93.28 49.63 1011 \n",
       "254 254 2016-07-01 06:17:18 0:10:08        49.50822 72.84  102.44 47.88  916 \n",
       "380 380 2016-02-26 05:20:04 0:10:02.147000 52.54170 74.04  118.83 48.88  700 \n",
       "103 103 2016-12-04 07:10:57 0:11:02.393000 52.90865 74.10  103.53 45.83  917 \n",
       "63   63 2017-01-13 06:16:15 0:10:05.163000 55.50108 74.17  124.28 41.59  854 \n",
       "382 382 2016-02-24 05:31:18 0:10:01.347000 51.09862 74.22  106.45 49.90  854 \n",
       "... ... ...        ...      ...            ...      ...    ...    ...   ...  \n",
       "93   93 2016-12-14 06:09:59 0:10:01        44.89036 151.59 159.66 75.85  974 \n",
       "421 421 2016-01-16 06:10:46 0:12:09.155000 45.49384 151.78 127.07 81.08 1018 \n",
       "416 416 2016-01-21 05:32:29 0:11:22.747000 44.59905 152.05 151.39 77.31 1006 \n",
       "14   14 2017-03-05 06:52:00 0:09:58        44.64452 152.51 133.94 78.73 1046 \n",
       "203 203 2016-08-22 07:25:22 0:10:18        44.58514 152.71 181.51 68.06  929 \n",
       "336 336 2016-04-10 05:53:57 0:09:12.482000 43.29473 153.28 138.41 78.46 1121 \n",
       "241 241 2016-07-14 06:24:02 0:10:57        44.45729 153.66 161.92 71.55  937 \n",
       "97   97 2016-12-10 06:15:14 0:10:07.495000 45.02713 154.87 164.58 75.79 1048 \n",
       "272 272 2016-06-13 06:28:53 0:10:26        46.06172 155.69 158.59 73.35  647 \n",
       "722 722 2015-03-14 04:28:07 0:06:52.783000 43.81705 156.84 125.00 80.07 1129 \n",
       "284 284 2016-06-01 06:15:15 0:10:35        45.61801 156.88 179.76 73.74  627 \n",
       "52   52 2017-01-24 05:20:50 0:09:43        43.09788 157.68 130.92 82.60 1103 \n",
       "179 179 2016-09-15 06:02:20 0:09:00        43.15305 158.44 168.14 74.15 1031 \n",
       "180 180 2016-09-14 06:04:41 0:09:10        45.70314 159.00 182.46 74.70  660 \n",
       "251 251 2016-07-04 06:25:15 0:10:40        43.82217 159.91 200.30 73.75  757 \n",
       "245 245 2016-07-10 06:56:44 0:10:05        45.64438 161.31 177.01 72.63  732 \n",
       "147 147 2016-10-18 06:25:36 0:10:19        46.91495 161.48 155.92 70.86  934 \n",
       "151 151 2016-10-14 06:11:12 0:10:40        47.18576 161.99 182.16 74.44  910 \n",
       "145 145 2016-10-20 06:16:11 0:10:07.416000 43.32411 162.54 153.88 74.76  999 \n",
       "333 333 2016-04-13 06:28:21 0:07:04.438000 46.86585 163.93 171.96 72.78  940 \n",
       "354 354 2016-03-23 05:17:56 0:09:30.881000 43.99924 163.93 173.23 81.63  700 \n",
       "38   38 2017-02-07 06:14:05 0:10:00        44.41944 163.96 150.64 84.35  926 \n",
       "473 473 2015-11-25 05:36:37 0:10:40.713000 43.26195 164.01 149.97 80.80 1029 \n",
       "136 136 2016-10-30 07:47:21 0:10:15        47.74105 167.93 167.05 68.74  926 \n",
       "187 187 2016-09-07 06:27:32 0:10:24        43.38144 169.34 155.61 76.56 1004 \n",
       "160 160 2016-10-05 06:09:34 0:09:56        43.92194 173.52 199.38 72.69  958 \n",
       "87   87 2016-12-20 06:10:48 0:10:18        44.19531 177.62 187.46 79.06  977 \n",
       "45   45 2017-01-31 06:14:21 0:10:01        44.48926 181.66 162.87 82.31  934 \n",
       "264 264 2016-06-22 06:10:56 0:10:41        43.08271 191.51 176.16 79.12 1026 \n",
       "146 146 2016-10-19 06:25:41 0:09:09        45.80293 206.20 192.39 78.66  957 \n",
       "    RRmean  RRmax LF       HF      LF.HF Total    NormRMSSD  LnRMSSD  HRcat\n",
       "298 1073.56 1271   662.81   697.73 0.95   1410.80 0.04156265 3.798182 High \n",
       "168 1002.04 1353  1676.53  1070.03 1.57   2992.24 0.05092611 3.932414 High \n",
       "441 1050.78 1365  2110.23  1025.70 2.06   3410.92 0.05446430 4.047078 High \n",
       "68  1077.20 1314  1600.03  1260.15 1.27   3320.19 0.05362050 4.056296 High \n",
       "532 1099.03 1306  1535.18   907.22 1.69   2523.67 0.05285570 4.061994 High \n",
       "107 1076.40 1384   802.18   791.40 1.01   1605.37 0.05476589 4.076690 High \n",
       "218 1109.98 1435  1671.69  1196.32 1.40   2978.13 0.05652354 4.138999 High \n",
       "105 1097.72 1422  1711.66   917.10 1.87   2855.92 0.05721860 4.140114 High \n",
       "539 1187.94 1439  1078.46  1252.75 0.86   2410.54 0.05448087 4.170070 High \n",
       "54  1072.91 1373  1273.84  1204.24 1.06   2588.16 0.06076931 4.177459 High \n",
       "81  1089.29 1407  3319.28  1116.61 2.97   4855.40 0.06007583 4.181134 High \n",
       "55  1127.34 1521   697.27  1210.36 0.58   2024.60 0.05834974 4.186316 High \n",
       "71  1115.19 1586   864.85  1122.51 0.77   2127.67 0.06074301 4.215677 High \n",
       "741 1112.50 1542  4877.74  1303.45 3.74   7027.42 0.06101573 4.217741 High \n",
       "208 1123.67 1510  1357.30  1291.80 1.05   2860.77 0.06140593 4.234107 High \n",
       "567 1247.36 1613  1690.61  1045.04 1.62   2775.38 0.05610249 4.248209 High \n",
       "163 1105.78 1380  2023.49  1802.29 1.12   3958.86 0.06414477 4.261693 High \n",
       "91  1115.51 1447  1607.43  1688.44 0.95   3557.88 0.06377352 4.264650 High \n",
       "602 1196.41 1460  1283.23  1377.14 0.93   2821.19 0.05977884 4.269977 High \n",
       "161 1155.43 2093  8205.64  5625.62 1.46  14033.55 0.06201155 4.271793 High \n",
       "740 1154.27 1436  1320.89  1068.71 1.24   2525.71 0.06253303 4.279163 High \n",
       "689 1129.80 1473   806.91  2417.10 0.33   3487.97 0.06405559 4.281792 High \n",
       "57  1129.96 1404  1079.32  1095.50 0.99   2226.03 0.06420581 4.284276 High \n",
       "76  1147.91 1528  1886.23  1609.02 1.17   3614.60 0.06334120 4.286479 High \n",
       "277 1201.12 1490  1876.20  1406.46 1.33   3394.58 0.06060177 4.287579 High \n",
       "254 1211.92 1520  2215.25  1633.81 1.36   3920.10 0.06010298 4.288265 High \n",
       "380 1141.95 1579  1523.13  1717.62 0.89   3366.35 0.06483646 4.304605 High \n",
       "103 1134.03 1427  2042.74  1939.30 1.05   4091.92 0.06534219 4.305416 High \n",
       "63  1081.06 1630  1078.11  1169.99 0.92   2352.26 0.06860859 4.306360 High \n",
       "382 1174.20 1456  1922.73  1769.96 1.09   3984.13 0.06320899 4.307034 High \n",
       "... ...     ...   ...      ...     ...   ...      ...        ...      ...  \n",
       "93  1336.59 1772   8220.65 6546.80 1.26  15339.50 0.1134155  5.021180 Med  \n",
       "421 1318.86 1640   2381.27 6221.98 0.38   8599.61 0.1150842  5.022432 Med  \n",
       "416 1345.32 1775   4234.11 6843.06 0.62  11276.39 0.1130214  5.024209 Med  \n",
       "14  1343.95 1720   2334.18 8654.62 0.27  11198.06 0.1134789  5.027230 Med  \n",
       "203 1345.74 1784   8353.81 4278.41 1.95  13179.22 0.1134766  5.028541 Med  \n",
       "336 1385.85 1826   3154.91 5162.39 0.61   8658.12 0.1106036  5.032266 Med  \n",
       "241 1349.61 1786   5687.53 4713.86 1.21  10830.26 0.1138551  5.034742 Med  \n",
       "97  1332.53 1826   1923.10 5357.99 0.36   7858.66 0.1162225  5.042586 Med  \n",
       "272 1302.60 2177   9379.86 8812.23 1.06  19694.78 0.1195225  5.047867 Med  \n",
       "722 1369.33 1678   1257.77 5127.58 0.25   6494.61 0.1145378  5.055226 Med  \n",
       "284 1315.27 1761  10151.56 7454.65 1.36  18009.53 0.1192759  5.055481 Med  \n",
       "52  1392.18 1729   4124.04 5969.63 0.69  10254.58 0.1132612  5.060568 Med  \n",
       "179 1390.40 1862   9092.60 6849.49 1.33  16885.63 0.1139528  5.065376 Med  \n",
       "180 1312.82 1817   5338.19 8879.82 0.60  15213.63 0.1211133  5.068904 Med  \n",
       "251 1369.17 1816   7968.60 5137.97 1.55  13799.12 0.1167934  5.074611 Med  \n",
       "245 1314.51 1791   6283.42 6885.84 0.91  13638.50 0.1227149  5.083328 Med  \n",
       "147 1278.91 1803   8100.62 6454.21 1.26  14738.99 0.1262638  5.084381 Med  \n",
       "151 1271.57 2189   5396.38 6938.32 0.78  12521.60 0.1273937  5.087535 Med  \n",
       "145 1384.91 1766   7582.93 5985.37 1.27  14017.01 0.1173650  5.090924 Med  \n",
       "333 1280.25 1813   3373.31 7626.06 0.44  11582.49 0.1280453  5.099440 Med  \n",
       "354 1363.66 1850   3241.53 5863.91 0.55   9525.11 0.1202132  5.099440 Med  \n",
       "38  1350.76 1811   2558.96 7826.60 0.33  10510.66 0.1213835  5.099622 Med  \n",
       "473 1386.90 1789   3257.96 6054.97 0.54   9399.58 0.1182565  5.099927 Med  \n",
       "136 1256.78 1717   3038.78 5845.72 0.52   9266.43 0.1336192  5.123547 Med  \n",
       "187 1383.08 1945   2739.28 7143.58 0.38  10244.97 0.1224369  5.131909 Med  \n",
       "160 1366.06 1863   6463.86 8772.95 0.74  15858.00 0.1270222  5.156293 Med  \n",
       "87  1357.61 1844  10521.21 7517.11 1.40  18496.44 0.1308329  5.179646 Med  \n",
       "45  1348.64 1837   3730.75 9382.61 0.40  13878.31 0.1346987  5.202137 Med  \n",
       "264 1392.67 1829   8866.15 8042.06 1.10  17439.52 0.1375128  5.254940 Med  \n",
       "146 1309.96 2186   4430.64 9388.70 0.47  14639.64 0.1574094  5.328847 Med  "
      ]
     },
     "metadata": {},
     "output_type": "display_data"
    }
   ],
   "source": [
    "hrvDataByCat <- hrvData[order(hrvData$HRcat,hrvData$RMSSD),]\n",
    "hrvDataByCat"
   ]
  },
  {
   "cell_type": "markdown",
   "metadata": {
    "deletable": true,
    "editable": true
   },
   "source": [
    "## Aggregate Data\n",
    "The term aggregation refers to the process of partitioning all rows of a dataframe, which have the same value in one or more configurable attributes, and summarize each partition by the value of a configurable function. In the example below all observations, which have the same value in the attribute *HRcat* are mapped to the same partition and the *mean()*-function is applied to all numeric attributes of each partition.  "
   ]
  },
  {
   "cell_type": "code",
   "execution_count": 51,
   "metadata": {
    "collapsed": false,
    "deletable": true,
    "editable": true
   },
   "outputs": [
    {
     "data": {
      "text/html": [
       "<table>\n",
       "<thead><tr><th scope=col>Group.HRcat</th><th scope=col>ID</th><th scope=col>Tag</th><th scope=col>AvgHR</th><th scope=col>RMSSD</th><th scope=col>SDNN</th><th scope=col>pNN50</th><th scope=col>RRmin</th><th scope=col>RRmean</th><th scope=col>RRmax</th><th scope=col>LF</th><th scope=col>HF</th><th scope=col>LF.HF</th><th scope=col>Total</th><th scope=col>NormRMSSD</th><th scope=col>LnRMSSD</th></tr></thead>\n",
       "<tbody>\n",
       "\t<tr><td>High      </td><td>286.4108  </td><td>2016-05-30</td><td>50.44508  </td><td> 94.56605 </td><td>125.8154  </td><td>56.42476  </td><td> 887.600  </td><td>1191.505  </td><td>1609.368  </td><td>2536.616  </td><td>2808.714  </td><td>0.9761081 </td><td>5640.964  </td><td>0.07903719</td><td>4.526766  </td></tr>\n",
       "\t<tr><td>Low       </td><td>432.7415  </td><td>2016-01-03</td><td>41.70997  </td><td>134.92796 </td><td>143.7063  </td><td>73.60973  </td><td>1068.646  </td><td>1439.309  </td><td>1825.959  </td><td>3722.227  </td><td>4339.489  </td><td>1.0259864 </td><td>8421.190  </td><td>0.09378625</td><td>4.891973  </td></tr>\n",
       "\t<tr><td>Med       </td><td>388.3292  </td><td>2016-02-17</td><td>45.50224  </td><td>122.41580 </td><td>145.1121  </td><td>69.02179  </td><td> 977.285  </td><td>1320.167  </td><td>1743.663  </td><td>3164.137  </td><td>4092.694  </td><td>0.8319902 </td><td>7596.902  </td><td>0.09264467</td><td>4.795607  </td></tr>\n",
       "</tbody>\n",
       "</table>\n"
      ],
      "text/latex": [
       "\\begin{tabular}{r|llllllllllllllll}\n",
       " Group.HRcat & ID & Tag & AvgHR & RMSSD & SDNN & pNN50 & RRmin & RRmean & RRmax & LF & HF & LF.HF & Total & NormRMSSD & LnRMSSD\\\\\n",
       "\\hline\n",
       "\t High       & 286.4108   & 2016-05-30 & 50.44508   &  94.56605  & 125.8154   & 56.42476   &  887.600   & 1191.505   & 1609.368   & 2536.616   & 2808.714   & 0.9761081  & 5640.964   & 0.07903719 & 4.526766  \\\\\n",
       "\t Low        & 432.7415   & 2016-01-03 & 41.70997   & 134.92796  & 143.7063   & 73.60973   & 1068.646   & 1439.309   & 1825.959   & 3722.227   & 4339.489   & 1.0259864  & 8421.190   & 0.09378625 & 4.891973  \\\\\n",
       "\t Med        & 388.3292   & 2016-02-17 & 45.50224   & 122.41580  & 145.1121   & 69.02179   &  977.285   & 1320.167   & 1743.663   & 3164.137   & 4092.694   & 0.8319902  & 7596.902   & 0.09264467 & 4.795607  \\\\\n",
       "\\end{tabular}\n"
      ],
      "text/markdown": [
       "\n",
       "Group.HRcat | ID | Tag | AvgHR | RMSSD | SDNN | pNN50 | RRmin | RRmean | RRmax | LF | HF | LF.HF | Total | NormRMSSD | LnRMSSD | \n",
       "|---|---|---|\n",
       "| High       | 286.4108   | 2016-05-30 | 50.44508   |  94.56605  | 125.8154   | 56.42476   |  887.600   | 1191.505   | 1609.368   | 2536.616   | 2808.714   | 0.9761081  | 5640.964   | 0.07903719 | 4.526766   | \n",
       "| Low        | 432.7415   | 2016-01-03 | 41.70997   | 134.92796  | 143.7063   | 73.60973   | 1068.646   | 1439.309   | 1825.959   | 3722.227   | 4339.489   | 1.0259864  | 8421.190   | 0.09378625 | 4.891973   | \n",
       "| Med        | 388.3292   | 2016-02-17 | 45.50224   | 122.41580  | 145.1121   | 69.02179   |  977.285   | 1320.167   | 1743.663   | 3164.137   | 4092.694   | 0.8319902  | 7596.902   | 0.09264467 | 4.795607   | \n",
       "\n",
       "\n"
      ],
      "text/plain": [
       "  Group.HRcat ID       Tag        AvgHR    RMSSD     SDNN     pNN50    RRmin   \n",
       "1 High        286.4108 2016-05-30 50.44508  94.56605 125.8154 56.42476  887.600\n",
       "2 Low         432.7415 2016-01-03 41.70997 134.92796 143.7063 73.60973 1068.646\n",
       "3 Med         388.3292 2016-02-17 45.50224 122.41580 145.1121 69.02179  977.285\n",
       "  RRmean   RRmax    LF       HF       LF.HF     Total    NormRMSSD  LnRMSSD \n",
       "1 1191.505 1609.368 2536.616 2808.714 0.9761081 5640.964 0.07903719 4.526766\n",
       "2 1439.309 1825.959 3722.227 4339.489 1.0259864 8421.190 0.09378625 4.891973\n",
       "3 1320.167 1743.663 3164.137 4092.694 0.8319902 7596.902 0.09264467 4.795607"
      ]
     },
     "metadata": {},
     "output_type": "display_data"
    }
   ],
   "source": [
    "summedByCat<-aggregate(hrvData[c(-3,-4,-18)],by=list(Group.HRcat=hrvData$HRcat),FUN=mean,na.rm=TRUE)\n",
    "summedByCat"
   ]
  },
  {
   "cell_type": "markdown",
   "metadata": {
    "deletable": true,
    "editable": true
   },
   "source": [
    "## Visualization"
   ]
  },
  {
   "cell_type": "code",
   "execution_count": 38,
   "metadata": {
    "ExecuteTime": {
     "end_time": "2017-03-22T13:15:51.125756",
     "start_time": "2017-03-22T12:15:49.811Z"
    },
    "collapsed": false,
    "deletable": true,
    "editable": true
   },
   "outputs": [
    {
     "data": {
      "text/html": [
       "<ol class=list-inline>\n",
       "\t<li>739</li>\n",
       "\t<li>18</li>\n",
       "</ol>\n"
      ],
      "text/latex": [
       "\\begin{enumerate*}\n",
       "\\item 739\n",
       "\\item 18\n",
       "\\end{enumerate*}\n"
      ],
      "text/markdown": [
       "1. 739\n",
       "2. 18\n",
       "\n",
       "\n"
      ],
      "text/plain": [
       "[1] 739  18"
      ]
     },
     "metadata": {},
     "output_type": "display_data"
    },
    {
     "name": "stdout",
     "output_type": "stream",
     "text": [
      "[1]   1 101 201 301 401 501 601 701\n"
     ]
    }
   ],
   "source": [
    "dim(hrvData)\n",
    "subseq <- seq(1,dim(hrvData)[1],100)\n",
    "print(subseq)\n",
    "parts <- length(subseq)"
   ]
  },
  {
   "cell_type": "code",
   "execution_count": 39,
   "metadata": {
    "ExecuteTime": {
     "end_time": "2017-03-22T13:15:51.129266",
     "start_time": "2017-03-22T12:15:49.816Z"
    },
    "collapsed": false,
    "deletable": true,
    "editable": true
   },
   "outputs": [
    {
     "data": {
      "image/png": "[encoded data removed]",
      "text/plain": [
       "plot without title"
      ]
     },
     "metadata": {},
     "output_type": "display_data"
    },
    {
     "data": {
      "image/png": "[encoded data removed]",
      "text/plain": [
       "plot without title"
      ]
     },
     "metadata": {},
     "output_type": "display_data"
    },
    {
     "data": {
      "image/png": "[encoded data removed]",
      "text/plain": [
       "plot without title"
      ]
     },
     "metadata": {},
     "output_type": "display_data"
    },
    {
     "data": {
      "image/png": "[encoded data removed]",
      "text/plain": [
       "plot without title"
      ]
     },
     "metadata": {},
     "output_type": "display_data"
    },
    {
     "data": {
      "image/png": "[encoded data removed]",
      "text/plain": [
       "plot without title"
      ]
     },
     "metadata": {},
     "output_type": "display_data"
    },
    {
     "data": {
      "image/png": "[encoded data removed]",
      "text/plain": [
       "plot without title"
      ]
     },
     "metadata": {},
     "output_type": "display_data"
    },
    {
     "data": {
      "image/png": "[encoded data removed]",
      "text/plain": [
       "plot without title"
      ]
     },
     "metadata": {},
     "output_type": "display_data"
    },
    {
     "data": {
      "image/png": "[encoded data removed]",
      "text/plain": [
       "plot without title"
      ]
     },
     "metadata": {},
     "output_type": "display_data"
    }
   ],
   "source": [
    "opar <- par(no.readonly=TRUE)\n",
    "#par(mfrow=(c(2,1)),pin=c(1,1))\n",
    "#par(pin=c(6.5,5))\n",
    "par(lwd=1, cex=0.5)\n",
    "par(cex.axis=1.25, font.axis=3)\n",
    "for (tp in 1:parts){\n",
    "    par(pin=c(3,2))\n",
    "    if (tp < parts){\n",
    "        upper <- subseq[tp+1]\n",
    "    }\n",
    "    else {\n",
    "        upper <- dim(hrvData)[1]\n",
    "    }\n",
    "    plot(hrvData$ID[subseq[tp]:upper],hrvData$RMSSD[subseq[tp]:upper],type=\"b\",pch=19, lty=2, col=\"red\")\n",
    "}\n",
    "#plot(hrvData$ID[1:100],hrvData$RMSSD[1:100],type=\"b\",pch=19, lty=2, col=\"red\")"
   ]
  },
  {
   "cell_type": "code",
   "execution_count": 40,
   "metadata": {
    "ExecuteTime": {
     "end_time": "2017-03-22T13:15:51.133428",
     "start_time": "2017-03-22T12:15:49.821Z"
    },
    "collapsed": true,
    "deletable": true,
    "editable": true
   },
   "outputs": [],
   "source": [
    "rownames(hrvData) <- NULL\n",
    "rownames(hrvData) <- hrvData$ID"
   ]
  },
  {
   "cell_type": "code",
   "execution_count": null,
   "metadata": {
    "ExecuteTime": {
     "end_time": "2017-03-22T13:15:51.137087",
     "start_time": "2017-03-22T12:15:49.825Z"
    },
    "collapsed": false,
    "deletable": true,
    "editable": true
   },
   "outputs": [],
   "source": [
    "tail(hrvData)"
   ]
  },
  {
   "cell_type": "markdown",
   "metadata": {
    "deletable": true,
    "editable": true
   },
   "source": [
    "### Open Questions to solve:\n",
    "\n",
    "   * Plotting options: Find a compact and informative data view"
   ]
  },
  {
   "cell_type": "code",
   "execution_count": null,
   "metadata": {
    "ExecuteTime": {
     "end_time": "2017-03-16T21:33:43.097781",
     "start_time": "2017-03-16T20:33:43.059Z"
    },
    "collapsed": false,
    "deletable": true,
    "editable": true
   },
   "outputs": [],
   "source": []
  },
  {
   "cell_type": "code",
   "execution_count": null,
   "metadata": {
    "ExecuteTime": {
     "end_time": "2017-03-22T13:15:51.142518",
     "start_time": "2017-03-22T12:15:49.830Z"
    },
    "collapsed": true,
    "deletable": true,
    "editable": true
   },
   "outputs": [],
   "source": [
    "z<-seq()"
   ]
  }
 ],
 "metadata": {
  "anaconda-cloud": {},
  "kernelspec": {
   "display_name": "R",
   "language": "R",
   "name": "ir"
  },
  "language_info": {
   "codemirror_mode": "r",
   "file_extension": ".r",
   "mimetype": "text/x-r-source",
   "name": "R",
   "pygments_lexer": "r",
   "version": "3.3.2"
  },
  "nav_menu": {},
  "toc": {
   "navigate_menu": true,
   "number_sections": true,
   "sideBar": true,
   "threshold": 4,
   "toc_cell": true,
   "toc_section_display": "block",
   "toc_window_display": true
  }
 },
 "nbformat": 4,
 "nbformat_minor": 2
}

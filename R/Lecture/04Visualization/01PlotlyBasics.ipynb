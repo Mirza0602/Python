{
 "cells": [
  {
   "cell_type": "code",
   "execution_count": 7,
   "metadata": {
    "ExecuteTime": {
     "end_time": "2017-03-23T15:01:14.924349",
     "start_time": "2017-03-23T14:01:04.798Z"
    },
    "collapsed": false
   },
   "outputs": [
    {
     "data": {
      "text/html": [
       "<iframe src=\"plotlyJupyterHTML/493ede5ad92ba8324f538fcbbbd9f40a.html\" width=\"100%\" height=\"400\" id=\"igraph\" scrolling=\"no\" seamless=\"seamless\" frameBorder=\"0\"> </iframe>"
      ]
     },
     "metadata": {},
     "output_type": "display_data"
    }
   ],
   "source": [
    "#options(repos=structure(c(CRAN=\"http://cloud.r-project.org/\")))\n",
    "#install.packages('mlbench')\n",
    "#install.packages('plotly')\n",
    "library(plotly)\n",
    "\n",
    "set.seed(123)\n",
    "\n",
    "x <- rnorm(1000)\n",
    "y <- rchisq(1000, df = 1, ncp = 0)\n",
    "group <- sample(LETTERS[1:5], size = 1000, replace = T)\n",
    "size <- sample(1:5, size = 1000, replace = T)\n",
    "\n",
    "ds <- data.frame(x, y, group, size)\n",
    "\n",
    "p <- plot_ly(ds, x = x, y = y, mode = \"markers\", split = group, size = size,type=\"scatter\") %>%\n",
    "  layout(title = \"Scatter Plot\")\n",
    "embed_notebook(p)"
   ]
  },
  {
   "cell_type": "code",
   "execution_count": 7,
   "metadata": {
    "ExecuteTime": {
     "end_time": "2017-03-23T15:01:23.793189",
     "start_time": "2017-03-23T14:01:23.033Z"
    },
    "collapsed": false
   },
   "outputs": [
    {
     "data": {
      "text/html": [
       "<iframe src=\"plotlyJupyterHTML/8c02db381bd115288a4d519b93bafff3.html\" width=\"100%\" height=\"400\" id=\"igraph\" scrolling=\"no\" seamless=\"seamless\" frameBorder=\"0\"> </iframe>"
      ]
     },
     "metadata": {},
     "output_type": "display_data"
    }
   ],
   "source": [
    "library(plotly)\n",
    "library(mlbench)\n",
    "\n",
    "# Get Sonar data\n",
    "data(Sonar)\n",
    "\n",
    "# Use only numeric data\n",
    "rock <- as.matrix(subset(Sonar, Class == \"R\")[,1:59])\n",
    "mine <- as.matrix(subset(Sonar, Class == \"M\")[,1:59])\n",
    "\n",
    "# For rocks\n",
    "p1 <- plot_ly(z = rock, type = \"heatmap\", showscale = F)\n",
    "\n",
    "# For mines\n",
    "p2 <- plot_ly(z = mine, type = \"heatmap\", name = \"test\") %>%\n",
    "  layout(title = \"Mine vs Rock\")\n",
    "\n",
    "# Plot together\n",
    "p3 <- subplot(p1, p2)\n",
    "embed_notebook(p3)"
   ]
  },
  {
   "cell_type": "code",
   "execution_count": null,
   "metadata": {
    "collapsed": true
   },
   "outputs": [],
   "source": []
  }
 ],
 "metadata": {
  "kernelspec": {
   "display_name": "R",
   "language": "R",
   "name": "ir"
  },
  "language_info": {
   "codemirror_mode": "r",
   "file_extension": ".r",
   "mimetype": "text/x-r-source",
   "name": "R",
   "pygments_lexer": "r",
   "version": "3.3.2"
  },
  "nav_menu": {},
  "toc": {
   "navigate_menu": true,
   "number_sections": true,
   "sideBar": true,
   "threshold": 4,
   "toc_cell": false,
   "toc_section_display": "block",
   "toc_window_display": false
  }
 },
 "nbformat": 4,
 "nbformat_minor": 2
}

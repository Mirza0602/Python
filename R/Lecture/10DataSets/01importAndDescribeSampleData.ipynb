{
 "cells": [
  {
   "cell_type": "markdown",
   "metadata": {
    "deletable": true,
    "editable": true
   },
   "source": [
    "## Boston Housing data\n",
    "Example Data: Boston housing dataset [http://archive.ics.uci.edu/ml/datasets/Housing](http://archive.ics.uci.edu/ml/datasets/Housing).\n",
    "\n",
    "Paper on this dataset: [Hedonic Housing Prices and the Demand for Clean Air](https://www.law.berkeley.edu/files/Hedonic.PDF)"
   ]
  },
  {
   "cell_type": "markdown",
   "metadata": {
    "deletable": true,
    "editable": true
   },
   "source": [
    "### Complete data set"
   ]
  },
  {
   "cell_type": "code",
   "execution_count": 8,
   "metadata": {
    "collapsed": true,
    "deletable": true,
    "editable": true
   },
   "outputs": [],
   "source": [
    "colnames=c(\"CRIM\",\"ZN\",\"INDUS\",\"CHAS\",\"NOX\",\"RM\",\"AGE\",\"DIS\",\"RAD\",\"TAX\",\"PTRATIO\",\"B\",\"LSTAT\",\"MEDV\")\n",
    "housingData=read.csv(file=\"../data/housing.data\", header=FALSE,sep=\"\",col.names=colnames)"
   ]
  },
  {
   "cell_type": "code",
   "execution_count": 9,
   "metadata": {
    "collapsed": false,
    "deletable": true,
    "editable": true
   },
   "outputs": [
    {
     "data": {
      "text/html": [
       "'data.frame'"
      ],
      "text/latex": [
       "'data.frame'"
      ],
      "text/markdown": [
       "'data.frame'"
      ],
      "text/plain": [
       "[1] \"data.frame\""
      ]
     },
     "metadata": {},
     "output_type": "display_data"
    },
    {
     "data": {
      "text/html": [
       "<ol class=list-inline>\n",
       "\t<li>506</li>\n",
       "\t<li>14</li>\n",
       "</ol>\n"
      ],
      "text/latex": [
       "\\begin{enumerate*}\n",
       "\\item 506\n",
       "\\item 14\n",
       "\\end{enumerate*}\n"
      ],
      "text/markdown": [
       "1. 506\n",
       "2. 14\n",
       "\n",
       "\n"
      ],
      "text/plain": [
       "[1] 506  14"
      ]
     },
     "metadata": {},
     "output_type": "display_data"
    },
    {
     "data": {
      "text/html": [
       "<table>\n",
       "<thead><tr><th scope=col>CRIM</th><th scope=col>ZN</th><th scope=col>INDUS</th><th scope=col>CHAS</th><th scope=col>NOX</th><th scope=col>RM</th><th scope=col>AGE</th><th scope=col>DIS</th><th scope=col>RAD</th><th scope=col>TAX</th><th scope=col>PTRATIO</th><th scope=col>B</th><th scope=col>LSTAT</th><th scope=col>MEDV</th></tr></thead>\n",
       "<tbody>\n",
       "\t<tr><td>0.00632</td><td>18     </td><td>2.31   </td><td>0      </td><td>0.538  </td><td>6.575  </td><td>65.2   </td><td>4.0900 </td><td>1      </td><td>296    </td><td>15.3   </td><td>396.90 </td><td>4.98   </td><td>24.0   </td></tr>\n",
       "\t<tr><td>0.02731</td><td> 0     </td><td>7.07   </td><td>0      </td><td>0.469  </td><td>6.421  </td><td>78.9   </td><td>4.9671 </td><td>2      </td><td>242    </td><td>17.8   </td><td>396.90 </td><td>9.14   </td><td>21.6   </td></tr>\n",
       "\t<tr><td>0.02729</td><td> 0     </td><td>7.07   </td><td>0      </td><td>0.469  </td><td>7.185  </td><td>61.1   </td><td>4.9671 </td><td>2      </td><td>242    </td><td>17.8   </td><td>392.83 </td><td>4.03   </td><td>34.7   </td></tr>\n",
       "\t<tr><td>0.03237</td><td> 0     </td><td>2.18   </td><td>0      </td><td>0.458  </td><td>6.998  </td><td>45.8   </td><td>6.0622 </td><td>3      </td><td>222    </td><td>18.7   </td><td>394.63 </td><td>2.94   </td><td>33.4   </td></tr>\n",
       "\t<tr><td>0.06905</td><td> 0     </td><td>2.18   </td><td>0      </td><td>0.458  </td><td>7.147  </td><td>54.2   </td><td>6.0622 </td><td>3      </td><td>222    </td><td>18.7   </td><td>396.90 </td><td>5.33   </td><td>36.2   </td></tr>\n",
       "\t<tr><td>0.02985</td><td> 0     </td><td>2.18   </td><td>0      </td><td>0.458  </td><td>6.430  </td><td>58.7   </td><td>6.0622 </td><td>3      </td><td>222    </td><td>18.7   </td><td>394.12 </td><td>5.21   </td><td>28.7   </td></tr>\n",
       "</tbody>\n",
       "</table>\n"
      ],
      "text/latex": [
       "\\begin{tabular}{r|llllllllllllll}\n",
       " CRIM & ZN & INDUS & CHAS & NOX & RM & AGE & DIS & RAD & TAX & PTRATIO & B & LSTAT & MEDV\\\\\n",
       "\\hline\n",
       "\t 0.00632 & 18      & 2.31    & 0       & 0.538   & 6.575   & 65.2    & 4.0900  & 1       & 296     & 15.3    & 396.90  & 4.98    & 24.0   \\\\\n",
       "\t 0.02731 &  0      & 7.07    & 0       & 0.469   & 6.421   & 78.9    & 4.9671  & 2       & 242     & 17.8    & 396.90  & 9.14    & 21.6   \\\\\n",
       "\t 0.02729 &  0      & 7.07    & 0       & 0.469   & 7.185   & 61.1    & 4.9671  & 2       & 242     & 17.8    & 392.83  & 4.03    & 34.7   \\\\\n",
       "\t 0.03237 &  0      & 2.18    & 0       & 0.458   & 6.998   & 45.8    & 6.0622  & 3       & 222     & 18.7    & 394.63  & 2.94    & 33.4   \\\\\n",
       "\t 0.06905 &  0      & 2.18    & 0       & 0.458   & 7.147   & 54.2    & 6.0622  & 3       & 222     & 18.7    & 396.90  & 5.33    & 36.2   \\\\\n",
       "\t 0.02985 &  0      & 2.18    & 0       & 0.458   & 6.430   & 58.7    & 6.0622  & 3       & 222     & 18.7    & 394.12  & 5.21    & 28.7   \\\\\n",
       "\\end{tabular}\n"
      ],
      "text/markdown": [
       "\n",
       "CRIM | ZN | INDUS | CHAS | NOX | RM | AGE | DIS | RAD | TAX | PTRATIO | B | LSTAT | MEDV | \n",
       "|---|---|---|---|---|---|\n",
       "| 0.00632 | 18      | 2.31    | 0       | 0.538   | 6.575   | 65.2    | 4.0900  | 1       | 296     | 15.3    | 396.90  | 4.98    | 24.0    | \n",
       "| 0.02731 |  0      | 7.07    | 0       | 0.469   | 6.421   | 78.9    | 4.9671  | 2       | 242     | 17.8    | 396.90  | 9.14    | 21.6    | \n",
       "| 0.02729 |  0      | 7.07    | 0       | 0.469   | 7.185   | 61.1    | 4.9671  | 2       | 242     | 17.8    | 392.83  | 4.03    | 34.7    | \n",
       "| 0.03237 |  0      | 2.18    | 0       | 0.458   | 6.998   | 45.8    | 6.0622  | 3       | 222     | 18.7    | 394.63  | 2.94    | 33.4    | \n",
       "| 0.06905 |  0      | 2.18    | 0       | 0.458   | 7.147   | 54.2    | 6.0622  | 3       | 222     | 18.7    | 396.90  | 5.33    | 36.2    | \n",
       "| 0.02985 |  0      | 2.18    | 0       | 0.458   | 6.430   | 58.7    | 6.0622  | 3       | 222     | 18.7    | 394.12  | 5.21    | 28.7    | \n",
       "\n",
       "\n"
      ],
      "text/plain": [
       "  CRIM    ZN INDUS CHAS NOX   RM    AGE  DIS    RAD TAX PTRATIO B      LSTAT\n",
       "1 0.00632 18 2.31  0    0.538 6.575 65.2 4.0900 1   296 15.3    396.90 4.98 \n",
       "2 0.02731  0 7.07  0    0.469 6.421 78.9 4.9671 2   242 17.8    396.90 9.14 \n",
       "3 0.02729  0 7.07  0    0.469 7.185 61.1 4.9671 2   242 17.8    392.83 4.03 \n",
       "4 0.03237  0 2.18  0    0.458 6.998 45.8 6.0622 3   222 18.7    394.63 2.94 \n",
       "5 0.06905  0 2.18  0    0.458 7.147 54.2 6.0622 3   222 18.7    396.90 5.33 \n",
       "6 0.02985  0 2.18  0    0.458 6.430 58.7 6.0622 3   222 18.7    394.12 5.21 \n",
       "  MEDV\n",
       "1 24.0\n",
       "2 21.6\n",
       "3 34.7\n",
       "4 33.4\n",
       "5 36.2\n",
       "6 28.7"
      ]
     },
     "metadata": {},
     "output_type": "display_data"
    }
   ],
   "source": [
    "class(housingData)\n",
    "dim(housingData)\n",
    "head(housingData)"
   ]
  },
  {
   "cell_type": "code",
   "execution_count": 10,
   "metadata": {
    "collapsed": false,
    "deletable": true,
    "editable": true
   },
   "outputs": [
    {
     "name": "stdout",
     "output_type": "stream",
     "text": [
      "'data.frame':\t506 obs. of  14 variables:\n",
      " $ CRIM   : num  0.00632 0.02731 0.02729 0.03237 0.06905 ...\n",
      " $ ZN     : num  18 0 0 0 0 0 12.5 12.5 12.5 12.5 ...\n",
      " $ INDUS  : num  2.31 7.07 7.07 2.18 2.18 2.18 7.87 7.87 7.87 7.87 ...\n",
      " $ CHAS   : int  0 0 0 0 0 0 0 0 0 0 ...\n",
      " $ NOX    : num  0.538 0.469 0.469 0.458 0.458 0.458 0.524 0.524 0.524 0.524 ...\n",
      " $ RM     : num  6.58 6.42 7.18 7 7.15 ...\n",
      " $ AGE    : num  65.2 78.9 61.1 45.8 54.2 58.7 66.6 96.1 100 85.9 ...\n",
      " $ DIS    : num  4.09 4.97 4.97 6.06 6.06 ...\n",
      " $ RAD    : int  1 2 2 3 3 3 5 5 5 5 ...\n",
      " $ TAX    : num  296 242 242 222 222 222 311 311 311 311 ...\n",
      " $ PTRATIO: num  15.3 17.8 17.8 18.7 18.7 18.7 15.2 15.2 15.2 15.2 ...\n",
      " $ B      : num  397 397 393 395 397 ...\n",
      " $ LSTAT  : num  4.98 9.14 4.03 2.94 5.33 ...\n",
      " $ MEDV   : num  24 21.6 34.7 33.4 36.2 28.7 22.9 27.1 16.5 18.9 ...\n"
     ]
    }
   ],
   "source": [
    "str(housingData)"
   ]
  },
  {
   "cell_type": "markdown",
   "metadata": {
    "deletable": true,
    "editable": true
   },
   "source": [
    "#### Descriptive Statistics of all columns"
   ]
  },
  {
   "cell_type": "code",
   "execution_count": 29,
   "metadata": {
    "collapsed": false,
    "deletable": true,
    "editable": true
   },
   "outputs": [
    {
     "data": {
      "text/plain": [
       "     INDUS            CHAS              NOX               RM       \n",
       " Min.   : 0.46   Min.   :0.00000   Min.   :0.3850   Min.   :3.561  \n",
       " 1st Qu.: 5.19   1st Qu.:0.00000   1st Qu.:0.4490   1st Qu.:5.886  \n",
       " Median : 9.69   Median :0.00000   Median :0.5380   Median :6.208  \n",
       " Mean   :11.14   Mean   :0.06917   Mean   :0.5547   Mean   :6.285  \n",
       " 3rd Qu.:18.10   3rd Qu.:0.00000   3rd Qu.:0.6240   3rd Qu.:6.623  \n",
       " Max.   :27.74   Max.   :1.00000   Max.   :0.8710   Max.   :8.780  \n",
       "      AGE              DIS        \n",
       " Min.   :  2.90   Min.   : 1.130  \n",
       " 1st Qu.: 45.02   1st Qu.: 2.100  \n",
       " Median : 77.50   Median : 3.207  \n",
       " Mean   : 68.57   Mean   : 3.795  \n",
       " 3rd Qu.: 94.08   3rd Qu.: 5.188  \n",
       " Max.   :100.00   Max.   :12.127  "
      ]
     },
     "metadata": {},
     "output_type": "display_data"
    }
   ],
   "source": [
    "summary(housingData)"
   ]
  },
  {
   "cell_type": "markdown",
   "metadata": {
    "deletable": true,
    "editable": true
   },
   "source": [
    "### Modified Dataset\n",
    "The complete dataset has been reduced to only a few rows and missing cells have been included"
   ]
  },
  {
   "cell_type": "code",
   "execution_count": null,
   "metadata": {
    "collapsed": true,
    "deletable": true,
    "editable": true
   },
   "outputs": [],
   "source": [
    "housingData=read.csv(file=\"../data/housingModified.data\", header=FALSE,sep=\",\",col.names=colnames)"
   ]
  },
  {
   "cell_type": "code",
   "execution_count": null,
   "metadata": {
    "collapsed": false,
    "deletable": true,
    "editable": true
   },
   "outputs": [],
   "source": [
    "class(housingData)\n",
    "dim(housingData)\n",
    "print(housingData)"
   ]
  },
  {
   "cell_type": "markdown",
   "metadata": {
    "deletable": true,
    "editable": true
   },
   "source": [
    "## Walmart Data\n",
    "Historical sales data for 45 Walmart stores located in different regions. Each store contains a number of departments. The typical task on this dataset is the prediction of department-wide sales for each store. The data is available and described in [Kaggle Walmart Data](https://www.kaggle.com/c/walmart-recruiting-store-sales-forecasting/data).\n"
   ]
  },
  {
   "cell_type": "code",
   "execution_count": 20,
   "metadata": {
    "collapsed": false,
    "deletable": true,
    "editable": true
   },
   "outputs": [],
   "source": [
    "walmartData=read.csv(file=\"../data/walmart.csv\", header=TRUE,sep=\",\")"
   ]
  },
  {
   "cell_type": "code",
   "execution_count": 23,
   "metadata": {
    "collapsed": false,
    "deletable": true,
    "editable": true
   },
   "outputs": [
    {
     "data": {
      "text/html": [
       "<table>\n",
       "<thead><tr><th scope=col>Store.Dept.Date.Weekly_Sales.IsHoliday</th></tr></thead>\n",
       "<tbody>\n",
       "\t<tr><td>1,1,2010-02-05,24924.5,FALSE </td></tr>\n",
       "\t<tr><td>1,1,2010-02-12,46039.49,TRUE </td></tr>\n",
       "\t<tr><td>1,1,2010-02-19,41595.55,FALSE</td></tr>\n",
       "\t<tr><td>1,1,2010-02-26,19403.54,FALSE</td></tr>\n",
       "\t<tr><td>1,1,2010-03-05,21827.9,FALSE </td></tr>\n",
       "\t<tr><td>1,1,2010-03-12,21043.39,FALSE</td></tr>\n",
       "</tbody>\n",
       "</table>\n"
      ],
      "text/latex": [
       "\\begin{tabular}{r|l}\n",
       " Store.Dept.Date.Weekly\\_Sales.IsHoliday\\\\\n",
       "\\hline\n",
       "\t 1,1,2010-02-05,24924.5,FALSE \\\\\n",
       "\t 1,1,2010-02-12,46039.49,TRUE \\\\\n",
       "\t 1,1,2010-02-19,41595.55,FALSE\\\\\n",
       "\t 1,1,2010-02-26,19403.54,FALSE\\\\\n",
       "\t 1,1,2010-03-05,21827.9,FALSE \\\\\n",
       "\t 1,1,2010-03-12,21043.39,FALSE\\\\\n",
       "\\end{tabular}\n"
      ],
      "text/markdown": [
       "\n",
       "Store.Dept.Date.Weekly_Sales.IsHoliday | \n",
       "|---|---|---|---|---|---|\n",
       "| 1,1,2010-02-05,24924.5,FALSE  | \n",
       "| 1,1,2010-02-12,46039.49,TRUE  | \n",
       "| 1,1,2010-02-19,41595.55,FALSE | \n",
       "| 1,1,2010-02-26,19403.54,FALSE | \n",
       "| 1,1,2010-03-05,21827.9,FALSE  | \n",
       "| 1,1,2010-03-12,21043.39,FALSE | \n",
       "\n",
       "\n"
      ],
      "text/plain": [
       "  Store.Dept.Date.Weekly_Sales.IsHoliday\n",
       "1 1,1,2010-02-05,24924.5,FALSE          \n",
       "2 1,1,2010-02-12,46039.49,TRUE          \n",
       "3 1,1,2010-02-19,41595.55,FALSE         \n",
       "4 1,1,2010-02-26,19403.54,FALSE         \n",
       "5 1,1,2010-03-05,21827.9,FALSE          \n",
       "6 1,1,2010-03-12,21043.39,FALSE         "
      ]
     },
     "metadata": {},
     "output_type": "display_data"
    }
   ],
   "source": [
    "head(walmartData)"
   ]
  },
  {
   "cell_type": "markdown",
   "metadata": {
    "deletable": true,
    "editable": true
   },
   "source": [
    "## Spikee HRV data"
   ]
  },
  {
   "cell_type": "code",
   "execution_count": 33,
   "metadata": {
    "collapsed": false,
    "deletable": true,
    "editable": true
   },
   "outputs": [
    {
     "data": {
      "text/html": [
       "<table>\n",
       "<thead><tr><th scope=col>ID</th><th scope=col>Tag</th><th scope=col>Start</th><th scope=col>Dauer</th><th scope=col>Avg..HR</th><th scope=col>RMSSD</th><th scope=col>SDNN</th><th scope=col>pNN50</th><th scope=col>RRmin</th><th scope=col>RRmean</th><th scope=col>RRmax</th><th scope=col>LF</th><th scope=col>HF</th><th scope=col>LF.HF</th><th scope=col>Total</th></tr></thead>\n",
       "<tbody>\n",
       "\t<tr><td>1       </td><td>17.03.17</td><td>06:08:55</td><td>0:08:57 </td><td>42.61727</td><td>130.33  </td><td>116.80  </td><td>58.42   </td><td>1117    </td><td>1407.88 </td><td>1758    </td><td>4537.05 </td><td>1786.91 </td><td>2.54    </td><td> 6489.09</td></tr>\n",
       "\t<tr><td>2       </td><td>16.03.17</td><td>06:09:06</td><td>0:09:59 </td><td>44.02571</td><td>126.81  </td><td>148.24  </td><td>70.94   </td><td> 979    </td><td>1362.84 </td><td>1755    </td><td>5277.45 </td><td>3067.23 </td><td>1.72    </td><td> 8999.88</td></tr>\n",
       "\t<tr><td>3       </td><td>15.03.17</td><td>06:10:05</td><td>0:10:00 </td><td>41.56161</td><td>172.43  </td><td>150.37  </td><td>81.16   </td><td>1018    </td><td>1443.64 </td><td>1805    </td><td>7591.26 </td><td>7359.64 </td><td>1.03    </td><td>15269.42</td></tr>\n",
       "\t<tr><td>4       </td><td>14.03.17</td><td>06:10:08</td><td>0:10:00 </td><td>42.94211</td><td>170.64  </td><td>191.75  </td><td>76.64   </td><td>1025    </td><td>1397.23 </td><td>1974    </td><td>5687.76 </td><td>8554.06 </td><td>0.66    </td><td>14614.74</td></tr>\n",
       "\t<tr><td>5       </td><td>13.03.17</td><td>06:25:49</td><td>0:10:00 </td><td>42.98795</td><td>139.66  </td><td>165.57  </td><td>76.17   </td><td>1012    </td><td>1395.74 </td><td>1742    </td><td>4188.03 </td><td>4258.05 </td><td>0.98    </td><td> 8746.70</td></tr>\n",
       "\t<tr><td>6       </td><td>12.03.17</td><td>07:02:51</td><td>0:09:10 </td><td>43.66749</td><td>136.07  </td><td>174.51  </td><td>68.59   </td><td> 924    </td><td>1374.02 </td><td>1832    </td><td>3868.90 </td><td>6005.90 </td><td>0.64    </td><td> 9815.63</td></tr>\n",
       "</tbody>\n",
       "</table>\n"
      ],
      "text/latex": [
       "\\begin{tabular}{r|lllllllllllllll}\n",
       " ID & Tag & Start & Dauer & Avg..HR & RMSSD & SDNN & pNN50 & RRmin & RRmean & RRmax & LF & HF & LF.HF & Total\\\\\n",
       "\\hline\n",
       "\t 1        & 17.03.17 & 06:08:55 & 0:08:57  & 42.61727 & 130.33   & 116.80   & 58.42    & 1117     & 1407.88  & 1758     & 4537.05  & 1786.91  & 2.54     &  6489.09\\\\\n",
       "\t 2        & 16.03.17 & 06:09:06 & 0:09:59  & 44.02571 & 126.81   & 148.24   & 70.94    &  979     & 1362.84  & 1755     & 5277.45  & 3067.23  & 1.72     &  8999.88\\\\\n",
       "\t 3        & 15.03.17 & 06:10:05 & 0:10:00  & 41.56161 & 172.43   & 150.37   & 81.16    & 1018     & 1443.64  & 1805     & 7591.26  & 7359.64  & 1.03     & 15269.42\\\\\n",
       "\t 4        & 14.03.17 & 06:10:08 & 0:10:00  & 42.94211 & 170.64   & 191.75   & 76.64    & 1025     & 1397.23  & 1974     & 5687.76  & 8554.06  & 0.66     & 14614.74\\\\\n",
       "\t 5        & 13.03.17 & 06:25:49 & 0:10:00  & 42.98795 & 139.66   & 165.57   & 76.17    & 1012     & 1395.74  & 1742     & 4188.03  & 4258.05  & 0.98     &  8746.70\\\\\n",
       "\t 6        & 12.03.17 & 07:02:51 & 0:09:10  & 43.66749 & 136.07   & 174.51   & 68.59    &  924     & 1374.02  & 1832     & 3868.90  & 6005.90  & 0.64     &  9815.63\\\\\n",
       "\\end{tabular}\n"
      ],
      "text/markdown": [
       "\n",
       "ID | Tag | Start | Dauer | Avg..HR | RMSSD | SDNN | pNN50 | RRmin | RRmean | RRmax | LF | HF | LF.HF | Total | \n",
       "|---|---|---|---|---|---|\n",
       "| 1        | 17.03.17 | 06:08:55 | 0:08:57  | 42.61727 | 130.33   | 116.80   | 58.42    | 1117     | 1407.88  | 1758     | 4537.05  | 1786.91  | 2.54     |  6489.09 | \n",
       "| 2        | 16.03.17 | 06:09:06 | 0:09:59  | 44.02571 | 126.81   | 148.24   | 70.94    |  979     | 1362.84  | 1755     | 5277.45  | 3067.23  | 1.72     |  8999.88 | \n",
       "| 3        | 15.03.17 | 06:10:05 | 0:10:00  | 41.56161 | 172.43   | 150.37   | 81.16    | 1018     | 1443.64  | 1805     | 7591.26  | 7359.64  | 1.03     | 15269.42 | \n",
       "| 4        | 14.03.17 | 06:10:08 | 0:10:00  | 42.94211 | 170.64   | 191.75   | 76.64    | 1025     | 1397.23  | 1974     | 5687.76  | 8554.06  | 0.66     | 14614.74 | \n",
       "| 5        | 13.03.17 | 06:25:49 | 0:10:00  | 42.98795 | 139.66   | 165.57   | 76.17    | 1012     | 1395.74  | 1742     | 4188.03  | 4258.05  | 0.98     |  8746.70 | \n",
       "| 6        | 12.03.17 | 07:02:51 | 0:09:10  | 43.66749 | 136.07   | 174.51   | 68.59    |  924     | 1374.02  | 1832     | 3868.90  | 6005.90  | 0.64     |  9815.63 | \n",
       "\n",
       "\n"
      ],
      "text/plain": [
       "  ID Tag      Start    Dauer   Avg..HR  RMSSD  SDNN   pNN50 RRmin RRmean  RRmax\n",
       "1 1  17.03.17 06:08:55 0:08:57 42.61727 130.33 116.80 58.42 1117  1407.88 1758 \n",
       "2 2  16.03.17 06:09:06 0:09:59 44.02571 126.81 148.24 70.94  979  1362.84 1755 \n",
       "3 3  15.03.17 06:10:05 0:10:00 41.56161 172.43 150.37 81.16 1018  1443.64 1805 \n",
       "4 4  14.03.17 06:10:08 0:10:00 42.94211 170.64 191.75 76.64 1025  1397.23 1974 \n",
       "5 5  13.03.17 06:25:49 0:10:00 42.98795 139.66 165.57 76.17 1012  1395.74 1742 \n",
       "6 6  12.03.17 07:02:51 0:09:10 43.66749 136.07 174.51 68.59  924  1374.02 1832 \n",
       "  LF      HF      LF.HF Total   \n",
       "1 4537.05 1786.91 2.54   6489.09\n",
       "2 5277.45 3067.23 1.72   8999.88\n",
       "3 7591.26 7359.64 1.03  15269.42\n",
       "4 5687.76 8554.06 0.66  14614.74\n",
       "5 4188.03 4258.05 0.98   8746.70\n",
       "6 3868.90 6005.90 0.64   9815.63"
      ]
     },
     "metadata": {},
     "output_type": "display_data"
    }
   ],
   "source": [
    "hrvData=read.csv(file=\"../data/spikeeHRVjm.csv\", header=TRUE,sep=\";\",dec=\",\",skip=3)\n",
    "head(hrvData)"
   ]
  },
  {
   "cell_type": "code",
   "execution_count": 35,
   "metadata": {
    "collapsed": false,
    "deletable": true,
    "editable": true
   },
   "outputs": [
    {
     "data": {
      "text/plain": [
       "    Avg..HR          RMSSD             SDNN            pNN50      \n",
       " Min.   :39.29   Min.   : 40.65   Min.   : 60.87   Min.   :18.73  \n",
       " 1st Qu.:43.52   1st Qu.:102.70   1st Qu.:123.32   1st Qu.:61.84  \n",
       " Median :45.86   Median :118.42   Median :139.51   Median :68.86  \n",
       " Mean   :45.99   Mean   :117.90   Mean   :140.02   Mean   :66.79  \n",
       " 3rd Qu.:48.00   3rd Qu.:133.35   3rd Qu.:155.40   3rd Qu.:73.53  \n",
       " Max.   :59.88   Max.   :206.20   Max.   :294.51   Max.   :84.35  \n",
       " NA's   :2       NA's   :2        NA's   :2        NA's   :2      \n",
       "     RRmin            RRmean         RRmax            LF         \n",
       " Min.   : 501.0   Min.   :1002   Min.   :1271   Min.   :  649.3  \n",
       " 1st Qu.: 923.2   1st Qu.:1250   1st Qu.:1664   1st Qu.: 1948.1  \n",
       " Median : 988.0   Median :1308   Median :1734   Median : 2640.0  \n",
       " Mean   : 972.7   Mean   :1311   Mean   :1726   Mean   : 3117.0  \n",
       " 3rd Qu.:1043.0   3rd Qu.:1379   3rd Qu.:1796   3rd Qu.: 3724.6  \n",
       " Max.   :1314.0   Max.   :1527   Max.   :2192   Max.   :16950.0  \n",
       " NA's   :2        NA's   :2      NA's   :2      NA's   :2        \n",
       "       HF               LF.HF             Total      \n",
       " Min.   :   78.56   Min.   : 0.1200   Min.   : 1289  \n",
       " 1st Qu.: 2727.49   1st Qu.: 0.5600   1st Qu.: 5364  \n",
       " Median : 3684.30   Median : 0.7800   Median : 6708  \n",
       " Mean   : 3821.76   Mean   : 0.9048   Mean   : 7292  \n",
       " 3rd Qu.: 4642.67   3rd Qu.: 1.0875   3rd Qu.: 8654  \n",
       " Max.   :11281.73   Max.   :14.7700   Max.   :27504  \n",
       " NA's   :2          NA's   :2         NA's   :2      "
      ]
     },
     "metadata": {},
     "output_type": "display_data"
    }
   ],
   "source": [
    "summary(hrvData[5:15])"
   ]
  },
  {
   "cell_type": "code",
   "execution_count": 7,
   "metadata": {
    "collapsed": false,
    "deletable": true,
    "editable": true
   },
   "outputs": [
    {
     "name": "stderr",
     "output_type": "stream",
     "text": [
      "Warning message:\n",
      "\"Ausführung von Kommando '\"C:\\STRAWB~1\\perl\\bin\\perl.exe\" \"C:/Users/maucher/Anaconda2/envs/condatascience/R/library/gdata/perl/xls2csv.pl\"  \"../data/energyData.xlsx\" \"C:\\Users\\maucher\\AppData\\Local\\Temp\\RtmpsH6Ki0\\file52981a867c74.csv\" \"1\"' ergab Status 255\""
     ]
    },
    {
     "ename": "ERROR",
     "evalue": "Error in xls2sep(xls, sheet, verbose = verbose, ..., method = method, : Intermediate file 'C:\\Users\\maucher\\AppData\\Local\\Temp\\RtmpsH6Ki0\\file52981a867c74.csv' missing!\n",
     "output_type": "error",
     "traceback": [
      "Error in xls2sep(xls, sheet, verbose = verbose, ..., method = method, : Intermediate file 'C:\\Users\\maucher\\AppData\\Local\\Temp\\RtmpsH6Ki0\\file52981a867c74.csv' missing!\nTraceback:\n",
      "1. read.xls(\"../data/energyData.xlsx\", row.names = 1, perl = \"C:/Strawberry/perl/bin/perl.exe\")",
      "2. xls2sep(xls, sheet, verbose = verbose, ..., method = method, \n .     perl = perl)",
      "3. stop(\"Intermediate file '\", targetFile, \"' missing!\")"
     ]
    },
    {
     "ename": "ERROR",
     "evalue": "Error in file.exists(tfn): ungültiges 'file' Argument\n",
     "output_type": "error",
     "traceback": [
      "Error in file.exists(tfn): ungültiges 'file' Argument\nTraceback:\n",
      "1. read.xls(\"../data/energyData.xlsx\", row.names = 1, perl = \"C:/Strawberry/perl/bin/perl.exe\")",
      "2. file.exists(tfn)"
     ]
    }
   ],
   "source": [
    "#getCRANmirrors(all = FALSE, local.only = FALSE)\n",
    "#options(repos=structure(c(CRAN=\"http://cloud.r-project.org/\")))\n",
    "#install.packages(\"gdata\")\n",
    "library(gdata)\n",
    "hrvData <- read.xls(\"../data/energyData.xlsx\",row.names=1,perl=\"C:/Strawberry/perl/bin/perl.exe\")"
   ]
  },
  {
   "cell_type": "code",
   "execution_count": 8,
   "metadata": {
    "collapsed": false,
    "deletable": true,
    "editable": true
   },
   "outputs": [
    {
     "ename": "ERROR",
     "evalue": "Error in head(hrvData): Objekt 'hrvData' nicht gefunden\n",
     "output_type": "error",
     "traceback": [
      "Error in head(hrvData): Objekt 'hrvData' nicht gefunden\nTraceback:\n",
      "1. head(hrvData)"
     ]
    }
   ],
   "source": [
    "head(hrvData)"
   ]
  },
  {
   "cell_type": "markdown",
   "metadata": {
    "deletable": true,
    "editable": true
   },
   "source": [
    "## Credit Dataset\n",
    "This dataset is part of the packt Book *Practical Machine Learning*, which includes examples in R, Python, julia, mahout and spark.\n",
    "[Github Repository for example in Book Practical Machine Learning](https://github.com/PacktCode/Practical-Machine-Learning). This and other datasets are also available from [Machine-Learning-with-R-datasets](https://github.com/stedy/Machine-Learning-with-R-datasets)."
   ]
  },
  {
   "cell_type": "code",
   "execution_count": 5,
   "metadata": {
    "collapsed": false,
    "deletable": true,
    "editable": true
   },
   "outputs": [],
   "source": [
    "credit<-read.csv(file=\"../data/credit.csv\", header=T,sep=\",\")"
   ]
  },
  {
   "cell_type": "code",
   "execution_count": 7,
   "metadata": {
    "collapsed": false,
    "deletable": true,
    "editable": true
   },
   "outputs": [
    {
     "data": {
      "text/html": [
       "<table>\n",
       "<thead><tr><th scope=col>checking_balance</th><th scope=col>months_loan_duration</th><th scope=col>credit_history</th><th scope=col>purpose</th><th scope=col>amount</th><th scope=col>savings_balance</th><th scope=col>employment_duration</th><th scope=col>percent_of_income</th><th scope=col>years_at_residence</th><th scope=col>age</th><th scope=col>other_credit</th><th scope=col>housing</th><th scope=col>existing_loans_count</th><th scope=col>job</th><th scope=col>dependents</th><th scope=col>phone</th><th scope=col>default</th></tr></thead>\n",
       "<tbody>\n",
       "\t<tr><td><span style=white-space:pre-wrap>&lt; 0 DM    </span> </td><td> 6                                                    </td><td>critical                                              </td><td>furniture/appliances                                  </td><td>1169                                                  </td><td>unknown                                               </td><td><span style=white-space:pre-wrap>&gt; 7 years  </span></td><td>4                                                     </td><td>4                                                     </td><td>67                                                    </td><td>none                                                  </td><td><span style=white-space:pre-wrap>own  </span>         </td><td>2                                                     </td><td><span style=white-space:pre-wrap>skilled  </span>     </td><td>1                                                     </td><td>yes                                                   </td><td>no                                                    </td></tr>\n",
       "\t<tr><td>1 - 200 DM                                       </td><td>48                                               </td><td><span style=white-space:pre-wrap>good    </span> </td><td>furniture/appliances                             </td><td>5951                                             </td><td>&lt; 100 DM                                      </td><td>1 - 4 years                                      </td><td>2                                                </td><td>2                                                </td><td>22                                               </td><td>none                                             </td><td><span style=white-space:pre-wrap>own  </span>    </td><td>1                                                </td><td><span style=white-space:pre-wrap>skilled  </span></td><td>1                                                </td><td>no                                               </td><td>yes                                              </td></tr>\n",
       "\t<tr><td><span style=white-space:pre-wrap>unknown   </span>          </td><td>12                                                          </td><td>critical                                                    </td><td><span style=white-space:pre-wrap>education           </span></td><td>2096                                                        </td><td>&lt; 100 DM                                                 </td><td>4 - 7 years                                                 </td><td>2                                                           </td><td>3                                                           </td><td>49                                                          </td><td>none                                                        </td><td><span style=white-space:pre-wrap>own  </span>               </td><td>1                                                           </td><td>unskilled                                                   </td><td>2                                                           </td><td>no                                                          </td><td>no                                                          </td></tr>\n",
       "\t<tr><td><span style=white-space:pre-wrap>&lt; 0 DM    </span></td><td>42                                                   </td><td><span style=white-space:pre-wrap>good    </span>     </td><td>furniture/appliances                                 </td><td>7882                                                 </td><td>&lt; 100 DM                                          </td><td>4 - 7 years                                          </td><td>2                                                    </td><td>4                                                    </td><td>45                                                   </td><td>none                                                 </td><td>other                                                </td><td>1                                                    </td><td><span style=white-space:pre-wrap>skilled  </span>    </td><td>2                                                    </td><td>no                                                   </td><td>no                                                   </td></tr>\n",
       "\t<tr><td><span style=white-space:pre-wrap>&lt; 0 DM    </span>       </td><td>24                                                          </td><td><span style=white-space:pre-wrap>poor    </span>            </td><td><span style=white-space:pre-wrap>car                 </span></td><td>4870                                                        </td><td>&lt; 100 DM                                                 </td><td>1 - 4 years                                                 </td><td>3                                                           </td><td>4                                                           </td><td>53                                                          </td><td>none                                                        </td><td>other                                                       </td><td>2                                                           </td><td><span style=white-space:pre-wrap>skilled  </span>           </td><td>2                                                           </td><td>no                                                          </td><td>yes                                                         </td></tr>\n",
       "\t<tr><td>unknown             </td><td>36                  </td><td>good                </td><td>education           </td><td>9055                </td><td>unknown             </td><td>1 - 4 years         </td><td>2                   </td><td>4                   </td><td>35                  </td><td>none                </td><td>other               </td><td>1                   </td><td>unskilled           </td><td>2                   </td><td>yes                 </td><td>no                  </td></tr>\n",
       "</tbody>\n",
       "</table>\n"
      ],
      "text/latex": [
       "\\begin{tabular}{r|lllllllllllllllll}\n",
       " checking\\_balance & months\\_loan\\_duration & credit\\_history & purpose & amount & savings\\_balance & employment\\_duration & percent\\_of\\_income & years\\_at\\_residence & age & other\\_credit & housing & existing\\_loans\\_count & job & dependents & phone & default\\\\\n",
       "\\hline\n",
       "\t < 0 DM               &  6                   & critical             & furniture/appliances & 1169                 & unknown              & > 7 years            & 4                    & 4                    & 67                   & none                 & own                  & 2                    & skilled              & 1                    & yes                  & no                  \\\\\n",
       "\t 1 - 200 DM           & 48                   & good                 & furniture/appliances & 5951                 & < 100 DM             & 1 - 4 years          & 2                    & 2                    & 22                   & none                 & own                  & 1                    & skilled              & 1                    & no                   & yes                 \\\\\n",
       "\t unknown              & 12                   & critical             & education            & 2096                 & < 100 DM             & 4 - 7 years          & 2                    & 3                    & 49                   & none                 & own                  & 1                    & unskilled            & 2                    & no                   & no                  \\\\\n",
       "\t < 0 DM               & 42                   & good                 & furniture/appliances & 7882                 & < 100 DM             & 4 - 7 years          & 2                    & 4                    & 45                   & none                 & other                & 1                    & skilled              & 2                    & no                   & no                  \\\\\n",
       "\t < 0 DM               & 24                   & poor                 & car                  & 4870                 & < 100 DM             & 1 - 4 years          & 3                    & 4                    & 53                   & none                 & other                & 2                    & skilled              & 2                    & no                   & yes                 \\\\\n",
       "\t unknown              & 36                   & good                 & education            & 9055                 & unknown              & 1 - 4 years          & 2                    & 4                    & 35                   & none                 & other                & 1                    & unskilled            & 2                    & yes                  & no                  \\\\\n",
       "\\end{tabular}\n"
      ],
      "text/markdown": [
       "\n",
       "checking_balance | months_loan_duration | credit_history | purpose | amount | savings_balance | employment_duration | percent_of_income | years_at_residence | age | other_credit | housing | existing_loans_count | job | dependents | phone | default | \n",
       "|---|---|---|---|---|---|\n",
       "| < 0 DM               |  6                   | critical             | furniture/appliances | 1169                 | unknown              | > 7 years            | 4                    | 4                    | 67                   | none                 | own                  | 2                    | skilled              | 1                    | yes                  | no                   | \n",
       "| 1 - 200 DM           | 48                   | good                 | furniture/appliances | 5951                 | < 100 DM             | 1 - 4 years          | 2                    | 2                    | 22                   | none                 | own                  | 1                    | skilled              | 1                    | no                   | yes                  | \n",
       "| unknown              | 12                   | critical             | education            | 2096                 | < 100 DM             | 4 - 7 years          | 2                    | 3                    | 49                   | none                 | own                  | 1                    | unskilled            | 2                    | no                   | no                   | \n",
       "| < 0 DM               | 42                   | good                 | furniture/appliances | 7882                 | < 100 DM             | 4 - 7 years          | 2                    | 4                    | 45                   | none                 | other                | 1                    | skilled              | 2                    | no                   | no                   | \n",
       "| < 0 DM               | 24                   | poor                 | car                  | 4870                 | < 100 DM             | 1 - 4 years          | 3                    | 4                    | 53                   | none                 | other                | 2                    | skilled              | 2                    | no                   | yes                  | \n",
       "| unknown              | 36                   | good                 | education            | 9055                 | unknown              | 1 - 4 years          | 2                    | 4                    | 35                   | none                 | other                | 1                    | unskilled            | 2                    | yes                  | no                   | \n",
       "\n",
       "\n"
      ],
      "text/plain": [
       "  checking_balance months_loan_duration credit_history purpose             \n",
       "1 < 0 DM            6                   critical       furniture/appliances\n",
       "2 1 - 200 DM       48                   good           furniture/appliances\n",
       "3 unknown          12                   critical       education           \n",
       "4 < 0 DM           42                   good           furniture/appliances\n",
       "5 < 0 DM           24                   poor           car                 \n",
       "6 unknown          36                   good           education           \n",
       "  amount savings_balance employment_duration percent_of_income\n",
       "1 1169   unknown         > 7 years           4                \n",
       "2 5951   < 100 DM        1 - 4 years         2                \n",
       "3 2096   < 100 DM        4 - 7 years         2                \n",
       "4 7882   < 100 DM        4 - 7 years         2                \n",
       "5 4870   < 100 DM        1 - 4 years         3                \n",
       "6 9055   unknown         1 - 4 years         2                \n",
       "  years_at_residence age other_credit housing existing_loans_count job      \n",
       "1 4                  67  none         own     2                    skilled  \n",
       "2 2                  22  none         own     1                    skilled  \n",
       "3 3                  49  none         own     1                    unskilled\n",
       "4 4                  45  none         other   1                    skilled  \n",
       "5 4                  53  none         other   2                    skilled  \n",
       "6 4                  35  none         other   1                    unskilled\n",
       "  dependents phone default\n",
       "1 1          yes   no     \n",
       "2 1          no    yes    \n",
       "3 2          no    no     \n",
       "4 2          no    no     \n",
       "5 2          no    yes    \n",
       "6 2          yes   no     "
      ]
     },
     "metadata": {},
     "output_type": "display_data"
    },
    {
     "name": "stdout",
     "output_type": "stream",
     "text": [
      "'data.frame':\t1000 obs. of  17 variables:\n",
      " $ checking_balance    : Factor w/ 4 levels \"< 0 DM\",\"> 200 DM\",..: 1 3 4 1 1 4 4 3 4 3 ...\n",
      " $ months_loan_duration: int  6 48 12 42 24 36 24 36 12 30 ...\n",
      " $ credit_history      : Factor w/ 5 levels \"critical\",\"good\",..: 1 2 1 2 4 2 2 2 2 1 ...\n",
      " $ purpose             : Factor w/ 6 levels \"business\",\"car\",..: 5 5 4 5 2 4 5 2 5 2 ...\n",
      " $ amount              : int  1169 5951 2096 7882 4870 9055 2835 6948 3059 5234 ...\n",
      " $ savings_balance     : Factor w/ 5 levels \"< 100 DM\",\"> 1000 DM\",..: 5 1 1 1 1 5 4 1 2 1 ...\n",
      " $ employment_duration : Factor w/ 5 levels \"< 1 year\",\"> 7 years\",..: 2 3 4 4 3 3 2 3 4 5 ...\n",
      " $ percent_of_income   : int  4 2 2 2 3 2 3 2 2 4 ...\n",
      " $ years_at_residence  : int  4 2 3 4 4 4 4 2 4 2 ...\n",
      " $ age                 : int  67 22 49 45 53 35 53 35 61 28 ...\n",
      " $ other_credit        : Factor w/ 3 levels \"bank\",\"none\",..: 2 2 2 2 2 2 2 2 2 2 ...\n",
      " $ housing             : Factor w/ 3 levels \"other\",\"own\",..: 2 2 2 1 1 1 2 3 2 2 ...\n",
      " $ existing_loans_count: int  2 1 1 1 2 1 1 1 1 2 ...\n",
      " $ job                 : Factor w/ 4 levels \"management\",\"skilled\",..: 2 2 4 2 2 4 2 1 4 1 ...\n",
      " $ dependents          : int  1 1 2 2 2 2 1 1 1 1 ...\n",
      " $ phone               : Factor w/ 2 levels \"no\",\"yes\": 2 1 1 1 1 2 1 2 1 1 ...\n",
      " $ default             : Factor w/ 2 levels \"no\",\"yes\": 1 2 1 1 2 1 1 1 1 2 ...\n"
     ]
    }
   ],
   "source": [
    "head(credit)\n",
    "str(credit)"
   ]
  },
  {
   "cell_type": "code",
   "execution_count": 11,
   "metadata": {
    "collapsed": false,
    "deletable": true,
    "editable": true
   },
   "outputs": [
    {
     "data": {
      "text/plain": [
       "\n",
       "    < 0 DM   > 200 DM 1 - 200 DM    unknown \n",
       "       274         63        269        394 "
      ]
     },
     "metadata": {},
     "output_type": "display_data"
    },
    {
     "data": {
      "text/plain": [
       "\n",
       "     < 100 DM     > 1000 DM  100 - 500 DM 500 - 1000 DM       unknown \n",
       "          603            48           103            63           183 "
      ]
     },
     "metadata": {},
     "output_type": "display_data"
    }
   ],
   "source": [
    "# look at two characteristics of the applicant\n",
    "table(credit$checking_balance)\n",
    "table(credit$savings_balance)"
   ]
  },
  {
   "cell_type": "markdown",
   "metadata": {},
   "source": [
    "## Insurance Dataset\n",
    "This dataset is part of the packt Book *Practical Machine Learning*, which includes examples in R, Python, julia, mahout and spark.\n",
    "[Github Repository for example in Book Practical Machine Learning](https://github.com/PacktCode/Practical-Machine-Learning). This and other datasets are also available from [Machine-Learning-with-R-datasets](https://github.com/stedy/Machine-Learning-with-R-datasets)."
   ]
  },
  {
   "cell_type": "code",
   "execution_count": 1,
   "metadata": {
    "collapsed": true
   },
   "outputs": [],
   "source": [
    "insurance<-read.csv(file=\"../data/insurance.csv\", header=T,sep=\",\",stringsAsFactors = TRUE)"
   ]
  },
  {
   "cell_type": "code",
   "execution_count": 4,
   "metadata": {
    "collapsed": false
   },
   "outputs": [
    {
     "name": "stdout",
     "output_type": "stream",
     "text": [
      "'data.frame':\t1338 obs. of  7 variables:\n",
      " $ age     : int  19 18 28 33 32 31 46 37 37 60 ...\n",
      " $ sex     : Factor w/ 2 levels \"female\",\"male\": 1 2 2 2 2 1 1 1 2 1 ...\n",
      " $ bmi     : num  27.9 33.8 33 22.7 28.9 ...\n",
      " $ children: int  0 1 3 0 0 0 1 3 2 0 ...\n",
      " $ smoker  : Factor w/ 2 levels \"no\",\"yes\": 2 1 1 1 1 1 1 1 1 1 ...\n",
      " $ region  : Factor w/ 4 levels \"northeast\",\"northwest\",..: 4 3 3 2 2 3 3 2 1 2 ...\n",
      " $ charges : num  16885 1726 4449 21984 3867 ...\n"
     ]
    }
   ],
   "source": [
    "str(insurance)\n",
    "#head(insurance)"
   ]
  },
  {
   "cell_type": "code",
   "execution_count": 5,
   "metadata": {
    "collapsed": false
   },
   "outputs": [
    {
     "data": {
      "text/plain": [
       "   Min. 1st Qu.  Median    Mean 3rd Qu.    Max. \n",
       "   1122    4740    9382   13270   16640   63770 "
      ]
     },
     "metadata": {},
     "output_type": "display_data"
    },
    {
     "data": {
      "image/png": "[encoded data removed]",
      "text/plain": [
       "Plot with title \"Histogram of insurance$charges\""
      ]
     },
     "metadata": {},
     "output_type": "display_data"
    }
   ],
   "source": [
    "summary(insurance$charges)\n",
    "hist(insurance$charges)"
   ]
  },
  {
   "cell_type": "markdown",
   "metadata": {},
   "source": [
    "## Experiments"
   ]
  },
  {
   "cell_type": "markdown",
   "metadata": {},
   "source": [
    "### Experiments on Insurance Dataset\n",
    "As in Practical Machine Learning Book, Chapter 10, Regression"
   ]
  },
  {
   "cell_type": "code",
   "execution_count": 9,
   "metadata": {
    "collapsed": false
   },
   "outputs": [
    {
     "data": {
      "text/plain": [
       "   Min. 1st Qu.  Median    Mean 3rd Qu.    Max. \n",
       "   1122    4740    9382   13270   16640   63770 "
      ]
     },
     "metadata": {},
     "output_type": "display_data"
    },
    {
     "data": {
      "text/plain": [
       "\n",
       "northeast northwest southeast southwest \n",
       "      324       325       364       325 "
      ]
     },
     "metadata": {},
     "output_type": "display_data"
    },
    {
     "data": {
      "image/png": "[encoded data removed]",
      "text/plain": [
       "Plot with title \"Histogram of insurance$charges\""
      ]
     },
     "metadata": {},
     "output_type": "display_data"
    }
   ],
   "source": [
    "summary(insurance$charges)\n",
    "hist(insurance$charges)\n",
    "table(insurance$region)"
   ]
  },
  {
   "cell_type": "code",
   "execution_count": 10,
   "metadata": {
    "collapsed": false
   },
   "outputs": [
    {
     "data": {
      "text/html": [
       "<table>\n",
       "<thead><tr><th></th><th scope=col>age</th><th scope=col>bmi</th><th scope=col>children</th><th scope=col>charges</th></tr></thead>\n",
       "<tbody>\n",
       "\t<tr><th scope=row>age</th><td>1.0000000 </td><td>0.1092719 </td><td>0.04246900</td><td>0.29900819</td></tr>\n",
       "\t<tr><th scope=row>bmi</th><td>0.1092719 </td><td>1.0000000 </td><td>0.01275890</td><td>0.19834097</td></tr>\n",
       "\t<tr><th scope=row>children</th><td>0.0424690 </td><td>0.0127589 </td><td>1.00000000</td><td>0.06799823</td></tr>\n",
       "\t<tr><th scope=row>charges</th><td>0.2990082 </td><td>0.1983410 </td><td>0.06799823</td><td>1.00000000</td></tr>\n",
       "</tbody>\n",
       "</table>\n"
      ],
      "text/latex": [
       "\\begin{tabular}{r|llll}\n",
       "  & age & bmi & children & charges\\\\\n",
       "\\hline\n",
       "\tage & 1.0000000  & 0.1092719  & 0.04246900 & 0.29900819\\\\\n",
       "\tbmi & 0.1092719  & 1.0000000  & 0.01275890 & 0.19834097\\\\\n",
       "\tchildren & 0.0424690  & 0.0127589  & 1.00000000 & 0.06799823\\\\\n",
       "\tcharges & 0.2990082  & 0.1983410  & 0.06799823 & 1.00000000\\\\\n",
       "\\end{tabular}\n"
      ],
      "text/markdown": [
       "\n",
       "| <!--/--> | age | bmi | children | charges | \n",
       "|---|---|---|---|\n",
       "| age | 1.0000000  | 0.1092719  | 0.04246900 | 0.29900819 | \n",
       "| bmi | 0.1092719  | 1.0000000  | 0.01275890 | 0.19834097 | \n",
       "| children | 0.0424690  | 0.0127589  | 1.00000000 | 0.06799823 | \n",
       "| charges | 0.2990082  | 0.1983410  | 0.06799823 | 1.00000000 | \n",
       "\n",
       "\n"
      ],
      "text/plain": [
       "         age       bmi       children   charges   \n",
       "age      1.0000000 0.1092719 0.04246900 0.29900819\n",
       "bmi      0.1092719 1.0000000 0.01275890 0.19834097\n",
       "children 0.0424690 0.0127589 1.00000000 0.06799823\n",
       "charges  0.2990082 0.1983410 0.06799823 1.00000000"
      ]
     },
     "metadata": {},
     "output_type": "display_data"
    },
    {
     "data": {
      "image/png": "[encoded data removed]",
      "text/plain": [
       "plot without title"
      ]
     },
     "metadata": {},
     "output_type": "display_data"
    }
   ],
   "source": [
    "cor(insurance[c(\"age\", \"bmi\", \"children\", \"charges\")])\n",
    "pairs(insurance[c(\"age\", \"bmi\", \"children\", \"charges\")])"
   ]
  },
  {
   "cell_type": "code",
   "execution_count": 12,
   "metadata": {
    "collapsed": false
   },
   "outputs": [
    {
     "data": {
      "image/png": "[encoded data removed]",
      "text/plain": [
       "plot without title"
      ]
     },
     "metadata": {},
     "output_type": "display_data"
    }
   ],
   "source": [
    "library(psych)\n",
    "pairs.panels(insurance[c(\"age\", \"bmi\", \"children\", \"charges\")])"
   ]
  },
  {
   "cell_type": "code",
   "execution_count": 14,
   "metadata": {
    "collapsed": true
   },
   "outputs": [],
   "source": [
    "ins_model <- lm(charges ~ age + children + bmi + sex + smoker + region, data = insurance)\n",
    "ins_model <- lm(charges ~ ., data = insurance)"
   ]
  },
  {
   "cell_type": "code",
   "execution_count": 15,
   "metadata": {
    "collapsed": false
   },
   "outputs": [
    {
     "data": {
      "text/plain": [
       "\n",
       "Call:\n",
       "lm(formula = charges ~ ., data = insurance)\n",
       "\n",
       "Residuals:\n",
       "     Min       1Q   Median       3Q      Max \n",
       "-11304.9  -2848.1   -982.1   1393.9  29992.8 \n",
       "\n",
       "Coefficients:\n",
       "                Estimate Std. Error t value Pr(>|t|)    \n",
       "(Intercept)     -11938.5      987.8 -12.086  < 2e-16 ***\n",
       "age                256.9       11.9  21.587  < 2e-16 ***\n",
       "sexmale           -131.3      332.9  -0.394 0.693348    \n",
       "bmi                339.2       28.6  11.860  < 2e-16 ***\n",
       "children           475.5      137.8   3.451 0.000577 ***\n",
       "smokeryes        23848.5      413.1  57.723  < 2e-16 ***\n",
       "regionnorthwest   -353.0      476.3  -0.741 0.458769    \n",
       "regionsoutheast  -1035.0      478.7  -2.162 0.030782 *  \n",
       "regionsouthwest   -960.0      477.9  -2.009 0.044765 *  \n",
       "---\n",
       "Signif. codes:  0 '***' 0.001 '**' 0.01 '*' 0.05 '.' 0.1 ' ' 1\n",
       "\n",
       "Residual standard error: 6062 on 1329 degrees of freedom\n",
       "Multiple R-squared:  0.7509,\tAdjusted R-squared:  0.7494 \n",
       "F-statistic: 500.8 on 8 and 1329 DF,  p-value: < 2.2e-16\n"
      ]
     },
     "metadata": {},
     "output_type": "display_data"
    }
   ],
   "source": [
    "summary(ins_model)"
   ]
  },
  {
   "cell_type": "code",
   "execution_count": 16,
   "metadata": {
    "collapsed": false
   },
   "outputs": [
    {
     "data": {
      "text/plain": [
       "\n",
       "Call:\n",
       "lm(formula = charges ~ age + age2 + children + bmi + sex + bmi30 * \n",
       "    smoker + region, data = insurance)\n",
       "\n",
       "Residuals:\n",
       "     Min       1Q   Median       3Q      Max \n",
       "-17296.4  -1656.0  -1263.3   -722.1  24160.2 \n",
       "\n",
       "Coefficients:\n",
       "                  Estimate Std. Error t value Pr(>|t|)    \n",
       "(Intercept)       134.2509  1362.7511   0.099 0.921539    \n",
       "age               -32.6851    59.8242  -0.546 0.584915    \n",
       "age2                3.7316     0.7463   5.000 6.50e-07 ***\n",
       "children          678.5612   105.8831   6.409 2.04e-10 ***\n",
       "bmi               120.0196    34.2660   3.503 0.000476 ***\n",
       "sexmale          -496.8245   244.3659  -2.033 0.042240 *  \n",
       "bmi30           -1000.1403   422.8402  -2.365 0.018159 *  \n",
       "smokeryes       13404.6866   439.9491  30.469  < 2e-16 ***\n",
       "regionnorthwest  -279.2038   349.2746  -0.799 0.424212    \n",
       "regionsoutheast  -828.5467   351.6352  -2.356 0.018604 *  \n",
       "regionsouthwest -1222.6437   350.5285  -3.488 0.000503 ***\n",
       "bmi30:smokeryes 19810.7533   604.6567  32.764  < 2e-16 ***\n",
       "---\n",
       "Signif. codes:  0 '***' 0.001 '**' 0.01 '*' 0.05 '.' 0.1 ' ' 1\n",
       "\n",
       "Residual standard error: 4445 on 1326 degrees of freedom\n",
       "Multiple R-squared:  0.8664,\tAdjusted R-squared:  0.8653 \n",
       "F-statistic: 781.7 on 11 and 1326 DF,  p-value: < 2.2e-16\n"
      ]
     },
     "metadata": {},
     "output_type": "display_data"
    }
   ],
   "source": [
    "insurance$age2 <- insurance$age^2\n",
    "insurance$bmi30 <- ifelse(insurance$bmi >= 30, 1, 0)\n",
    "insurance_model2 <- lm(charges ~ age + age2 + children + bmi + sex + bmi30*smoker + region, data = insurance)\n",
    "summary(insurance_model2)"
   ]
  },
  {
   "cell_type": "code",
   "execution_count": 12,
   "metadata": {
    "collapsed": false,
    "deletable": true,
    "editable": true
   },
   "outputs": [
    {
     "data": {
      "text/plain": [
       "   Min. 1st Qu.  Median    Mean 3rd Qu.    Max. \n",
       "    4.0    12.0    18.0    20.9    24.0    72.0 "
      ]
     },
     "metadata": {},
     "output_type": "display_data"
    },
    {
     "data": {
      "text/plain": [
       "   Min. 1st Qu.  Median    Mean 3rd Qu.    Max. \n",
       "    250    1366    2320    3271    3972   18420 "
      ]
     },
     "metadata": {},
     "output_type": "display_data"
    }
   ],
   "source": [
    "# look at two characteristics of the loan\n",
    "summary(credit$months_loan_duration)\n",
    "summary(credit$amount)"
   ]
  },
  {
   "cell_type": "code",
   "execution_count": 16,
   "metadata": {
    "collapsed": true,
    "deletable": true,
    "editable": true
   },
   "outputs": [],
   "source": [
    "# create a random sample for training and test data\n",
    "# use set.seed to use the same random number sequence as the tutorial\n",
    "set.seed(12345)\n",
    "credit_rand <- credit[order(runif(1000)), ]"
   ]
  },
  {
   "cell_type": "code",
   "execution_count": 17,
   "metadata": {
    "collapsed": false,
    "deletable": true,
    "editable": true
   },
   "outputs": [],
   "source": [
    "# split the data frames\n",
    "credit_train <- credit_rand[1:900, ]\n",
    "credit_test  <- credit_rand[901:1000, ]"
   ]
  },
  {
   "cell_type": "code",
   "execution_count": 18,
   "metadata": {
    "collapsed": false,
    "deletable": true,
    "editable": true
   },
   "outputs": [
    {
     "data": {
      "text/plain": [
       "\n",
       "       no       yes \n",
       "0.7022222 0.2977778 "
      ]
     },
     "metadata": {},
     "output_type": "display_data"
    },
    {
     "data": {
      "text/plain": [
       "\n",
       "  no  yes \n",
       "0.68 0.32 "
      ]
     },
     "metadata": {},
     "output_type": "display_data"
    }
   ],
   "source": [
    "# check the proportion of class variable\n",
    "prop.table(table(credit_train$default))\n",
    "prop.table(table(credit_test$default))"
   ]
  },
  {
   "cell_type": "code",
   "execution_count": 21,
   "metadata": {
    "collapsed": false,
    "deletable": true,
    "editable": true
   },
   "outputs": [
    {
     "name": "stderr",
     "output_type": "stream",
     "text": [
      "also installing the dependencies 'Formula', 'partykit'\n",
      "\n"
     ]
    },
    {
     "name": "stdout",
     "output_type": "stream",
     "text": [
      "package 'Formula' successfully unpacked and MD5 sums checked\n",
      "package 'partykit' successfully unpacked and MD5 sums checked\n",
      "package 'C50' successfully unpacked and MD5 sums checked\n",
      "\n",
      "The downloaded binary packages are in\n",
      "\tC:\\Users\\maucher\\AppData\\Local\\Temp\\RtmpovQ3jL\\downloaded_packages\n"
     ]
    },
    {
     "name": "stderr",
     "output_type": "stream",
     "text": [
      "Warning message:\n",
      "\"package 'C50' was built under R version 3.3.3\""
     ]
    }
   ],
   "source": [
    "options(repos=structure(c(CRAN=\"http://cloud.r-project.org/\")))\n",
    "install.packages(\"C50\")\n",
    "## Step 3: Training a model on the data ----\n",
    "# build the simplest decision tree\n",
    "library(C50)\n",
    "credit_model <- C5.0(credit_train[-17], credit_train$default)"
   ]
  },
  {
   "cell_type": "code",
   "execution_count": 22,
   "metadata": {
    "collapsed": false,
    "deletable": true,
    "editable": true
   },
   "outputs": [
    {
     "data": {
      "text/plain": [
       "\n",
       "Call:\n",
       "C5.0.default(x = credit_train[-17], y = credit_train$default)\n",
       "\n",
       "Classification Tree\n",
       "Number of samples: 900 \n",
       "Number of predictors: 16 \n",
       "\n",
       "Tree size: 67 \n",
       "\n",
       "Non-standard options: attempt to group attributes\n"
      ]
     },
     "metadata": {},
     "output_type": "display_data"
    }
   ],
   "source": [
    "# display simple facts about the tree\n",
    "credit_model"
   ]
  },
  {
   "cell_type": "code",
   "execution_count": 23,
   "metadata": {
    "collapsed": false,
    "deletable": true,
    "editable": true
   },
   "outputs": [
    {
     "data": {
      "text/plain": [
       "\n",
       "Call:\n",
       "C5.0.default(x = credit_train[-17], y = credit_train$default)\n",
       "\n",
       "\n",
       "C5.0 [Release 2.07 GPL Edition]  \tThu May 18 15:42:37 2017\n",
       "-------------------------------\n",
       "\n",
       "Class specified by attribute `outcome'\n",
       "\n",
       "Read 900 cases (17 attributes) from undefined.data\n",
       "\n",
       "Decision tree:\n",
       "\n",
       "checking_balance = unknown: no (358/44)\n",
       "checking_balance in {< 0 DM,> 200 DM,1 - 200 DM}:\n",
       ":...credit_history in {perfect,very good}:\n",
       "    :...dependents > 1: yes (10/1)\n",
       "    :   dependents <= 1:\n",
       "    :   :...savings_balance = < 100 DM: yes (39/11)\n",
       "    :       savings_balance in {> 1000 DM,500 - 1000 DM,unknown}: no (8/1)\n",
       "    :       savings_balance = 100 - 500 DM:\n",
       "    :       :...checking_balance = < 0 DM: no (1)\n",
       "    :           checking_balance in {> 200 DM,1 - 200 DM}: yes (5/1)\n",
       "    credit_history in {critical,good,poor}:\n",
       "    :...months_loan_duration <= 11: no (87/14)\n",
       "        months_loan_duration > 11:\n",
       "        :...savings_balance = > 1000 DM: no (13)\n",
       "            savings_balance in {< 100 DM,100 - 500 DM,500 - 1000 DM,unknown}:\n",
       "            :...checking_balance = > 200 DM:\n",
       "                :...dependents > 1: yes (3)\n",
       "                :   dependents <= 1:\n",
       "                :   :...credit_history in {good,poor}: no (23/3)\n",
       "                :       credit_history = critical:\n",
       "                :       :...amount <= 2337: yes (3)\n",
       "                :           amount > 2337: no (6)\n",
       "                checking_balance = 1 - 200 DM:\n",
       "                :...savings_balance = unknown: no (34/6)\n",
       "                :   savings_balance in {< 100 DM,100 - 500 DM,500 - 1000 DM}:\n",
       "                :   :...months_loan_duration > 45: yes (11/1)\n",
       "                :       months_loan_duration <= 45:\n",
       "                :       :...other_credit = store:\n",
       "                :           :...age <= 35: yes (4)\n",
       "                :           :   age > 35: no (2)\n",
       "                :           other_credit = bank:\n",
       "                :           :...years_at_residence <= 1: no (3)\n",
       "                :           :   years_at_residence > 1:\n",
       "                :           :   :...existing_loans_count <= 1: yes (5)\n",
       "                :           :       existing_loans_count > 1:\n",
       "                :           :       :...percent_of_income <= 2: no (4/1)\n",
       "                :           :           percent_of_income > 2: yes (3)\n",
       "                :           other_credit = none:\n",
       "                :           :...job = unemployed: no (1)\n",
       "                :               job = management:\n",
       "                :               :...amount <= 7511: no (10/3)\n",
       "                :               :   amount > 7511: yes (7)\n",
       "                :               job = unskilled: [S1]\n",
       "                :               job = skilled:\n",
       "                :               :...dependents <= 1: no (55/15)\n",
       "                :                   dependents > 1:\n",
       "                :                   :...age <= 34: no (3)\n",
       "                :                       age > 34: yes (4)\n",
       "                checking_balance = < 0 DM:\n",
       "                :...job = management: no (26/6)\n",
       "                    job = unemployed: yes (4/1)\n",
       "                    job = unskilled:\n",
       "                    :...employment_duration in {4 - 7 years,\n",
       "                    :   :                       unemployed}: no (4)\n",
       "                    :   employment_duration = < 1 year:\n",
       "                    :   :...other_credit = bank: no (1)\n",
       "                    :   :   other_credit in {none,store}: yes (11/2)\n",
       "                    :   employment_duration = > 7 years:\n",
       "                    :   :...other_credit in {bank,none}: no (5/1)\n",
       "                    :   :   other_credit = store: yes (2)\n",
       "                    :   employment_duration = 1 - 4 years:\n",
       "                    :   :...age <= 39: no (14/3)\n",
       "                    :       age > 39:\n",
       "                    :       :...credit_history in {critical,good}: yes (3)\n",
       "                    :           credit_history = poor: no (1)\n",
       "                    job = skilled:\n",
       "                    :...credit_history = poor:\n",
       "                        :...savings_balance in {< 100 DM,100 - 500 DM,\n",
       "                        :   :                   500 - 1000 DM}: yes (8)\n",
       "                        :   savings_balance = unknown: no (1)\n",
       "                        credit_history = critical:\n",
       "                        :...other_credit = store: no (0)\n",
       "                        :   other_credit = bank: yes (4)\n",
       "                        :   other_credit = none:\n",
       "                        :   :...savings_balance in {100 - 500 DM,\n",
       "                        :       :                   unknown}: no (1)\n",
       "                        :       savings_balance = 500 - 1000 DM: yes (1)\n",
       "                        :       savings_balance = < 100 DM:\n",
       "                        :       :...months_loan_duration <= 13:\n",
       "                        :           :...percent_of_income <= 3: yes (3)\n",
       "                        :           :   percent_of_income > 3: no (3/1)\n",
       "                        :           months_loan_duration > 13:\n",
       "                        :           :...amount <= 5293: no (10/1)\n",
       "                        :               amount > 5293: yes (2)\n",
       "                        credit_history = good:\n",
       "                        :...existing_loans_count > 1: yes (5)\n",
       "                            existing_loans_count <= 1:\n",
       "                            :...other_credit = store: no (2)\n",
       "                                other_credit = bank:\n",
       "                                :...percent_of_income <= 2: yes (2)\n",
       "                                :   percent_of_income > 2: no (6/1)\n",
       "                                other_credit = none: [S2]\n",
       "\n",
       "SubTree [S1]\n",
       "\n",
       "employment_duration in {< 1 year,1 - 4 years}: yes (11/3)\n",
       "employment_duration in {> 7 years,4 - 7 years,unemployed}: no (8)\n",
       "\n",
       "SubTree [S2]\n",
       "\n",
       "savings_balance = 100 - 500 DM: yes (3)\n",
       "savings_balance = 500 - 1000 DM: no (1)\n",
       "savings_balance = unknown:\n",
       ":...phone = no: yes (9/1)\n",
       ":   phone = yes: no (3/1)\n",
       "savings_balance = < 100 DM:\n",
       ":...percent_of_income <= 1: no (4)\n",
       "    percent_of_income > 1:\n",
       "    :...phone = yes: yes (10/1)\n",
       "        phone = no:\n",
       "        :...purpose in {business,car0,education,renovations}: yes (3)\n",
       "            purpose = car:\n",
       "            :...percent_of_income <= 3: no (2)\n",
       "            :   percent_of_income > 3: yes (6/1)\n",
       "            purpose = furniture/appliances:\n",
       "            :...years_at_residence <= 1: no (4)\n",
       "                years_at_residence > 1:\n",
       "                :...housing = other: no (1)\n",
       "                    housing = rent: yes (2)\n",
       "                    housing = own:\n",
       "                    :...amount <= 1778: no (3)\n",
       "                        amount > 1778:\n",
       "                        :...years_at_residence <= 3: yes (6)\n",
       "                            years_at_residence > 3: no (3/1)\n",
       "\n",
       "\n",
       "Evaluation on training data (900 cases):\n",
       "\n",
       "\t    Decision Tree   \n",
       "\t  ----------------  \n",
       "\t  Size      Errors  \n",
       "\n",
       "\t    66  125(13.9%)   <<\n",
       "\n",
       "\n",
       "\t   (a)   (b)    <-classified as\n",
       "\t  ----  ----\n",
       "\t   609    23    (a): class no\n",
       "\t   102   166    (b): class yes\n",
       "\n",
       "\n",
       "\tAttribute usage:\n",
       "\n",
       "\t100.00%\tchecking_balance\n",
       "\t 60.22%\tcredit_history\n",
       "\t 53.22%\tmonths_loan_duration\n",
       "\t 49.44%\tsavings_balance\n",
       "\t 30.89%\tjob\n",
       "\t 25.89%\tother_credit\n",
       "\t 17.78%\tdependents\n",
       "\t  9.67%\texisting_loans_count\n",
       "\t  7.22%\tpercent_of_income\n",
       "\t  6.67%\temployment_duration\n",
       "\t  5.78%\tphone\n",
       "\t  5.56%\tamount\n",
       "\t  3.78%\tyears_at_residence\n",
       "\t  3.44%\tage\n",
       "\t  3.33%\tpurpose\n",
       "\t  1.67%\thousing\n",
       "\n",
       "\n",
       "Time: 0.0 secs\n"
      ]
     },
     "metadata": {},
     "output_type": "display_data"
    }
   ],
   "source": [
    "# display detailed information about the tree\n",
    "summary(credit_model)"
   ]
  },
  {
   "cell_type": "code",
   "execution_count": null,
   "metadata": {
    "collapsed": true,
    "deletable": true,
    "editable": true
   },
   "outputs": [],
   "source": []
  }
 ],
 "metadata": {
  "anaconda-cloud": {},
  "kernelspec": {
   "display_name": "R",
   "language": "R",
   "name": "ir"
  },
  "language_info": {
   "codemirror_mode": "r",
   "file_extension": ".r",
   "mimetype": "text/x-r-source",
   "name": "R",
   "pygments_lexer": "r",
   "version": "3.3.2"
  },
  "nav_menu": {},
  "toc": {
   "navigate_menu": true,
   "number_sections": true,
   "sideBar": true,
   "threshold": 6,
   "toc_cell": false,
   "toc_section_display": "block",
   "toc_window_display": true
  }
 },
 "nbformat": 4,
 "nbformat_minor": 1
}

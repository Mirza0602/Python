{
 "cells": [
  {
   "cell_type": "markdown",
   "metadata": {
    "toc": "true"
   },
   "source": [
    "# Table of Contents\n",
    " <p><div class=\"lev1 toc-item\"><a href=\"#Basic-Data-Types\" data-toc-modified-id=\"Basic-Data-Types-1\"><span class=\"toc-item-num\">1&nbsp;&nbsp;</span>Basic Data Types</a></div><div class=\"lev2 toc-item\"><a href=\"#Vectors\" data-toc-modified-id=\"Vectors-1.1\"><span class=\"toc-item-num\">1.1&nbsp;&nbsp;</span>Vectors</a></div><div class=\"lev3 toc-item\"><a href=\"#Define-vectors\" data-toc-modified-id=\"Define-vectors-1.1.1\"><span class=\"toc-item-num\">1.1.1&nbsp;&nbsp;</span>Define vectors</a></div><div class=\"lev3 toc-item\"><a href=\"#Access-vector-components\" data-toc-modified-id=\"Access-vector-components-1.1.2\"><span class=\"toc-item-num\">1.1.2&nbsp;&nbsp;</span>Access vector components</a></div><div class=\"lev3 toc-item\"><a href=\"#Simple-operations-on-vectors\" data-toc-modified-id=\"Simple-operations-on-vectors-1.1.3\"><span class=\"toc-item-num\">1.1.3&nbsp;&nbsp;</span>Simple operations on vectors</a></div><div class=\"lev3 toc-item\"><a href=\"#Set-operations\" data-toc-modified-id=\"Set-operations-1.1.4\"><span class=\"toc-item-num\">1.1.4&nbsp;&nbsp;</span>Set operations</a></div><div class=\"lev3 toc-item\"><a href=\"#Sampling-and-sorting\" data-toc-modified-id=\"Sampling-and-sorting-1.1.5\"><span class=\"toc-item-num\">1.1.5&nbsp;&nbsp;</span>Sampling and sorting</a></div><div class=\"lev2 toc-item\"><a href=\"#Matrices\" data-toc-modified-id=\"Matrices-1.2\"><span class=\"toc-item-num\">1.2&nbsp;&nbsp;</span>Matrices</a></div><div class=\"lev3 toc-item\"><a href=\"#Matrix-construction-1\" data-toc-modified-id=\"Matrix-construction-1-1.2.1\"><span class=\"toc-item-num\">1.2.1&nbsp;&nbsp;</span>Matrix construction 1</a></div><div class=\"lev3 toc-item\"><a href=\"#Accessing-matrix-elements\" data-toc-modified-id=\"Accessing-matrix-elements-1.2.2\"><span class=\"toc-item-num\">1.2.2&nbsp;&nbsp;</span>Accessing matrix elements</a></div><div class=\"lev3 toc-item\"><a href=\"#Define-row--and-column-names\" data-toc-modified-id=\"Define-row--and-column-names-1.2.3\"><span class=\"toc-item-num\">1.2.3&nbsp;&nbsp;</span>Define row- and column-names</a></div><div class=\"lev3 toc-item\"><a href=\"#Matrix-construction-2\" data-toc-modified-id=\"Matrix-construction-2-1.2.4\"><span class=\"toc-item-num\">1.2.4&nbsp;&nbsp;</span>Matrix construction 2</a></div><div class=\"lev3 toc-item\"><a href=\"#Operations-on-matrices\" data-toc-modified-id=\"Operations-on-matrices-1.2.5\"><span class=\"toc-item-num\">1.2.5&nbsp;&nbsp;</span>Operations on matrices</a></div><div class=\"lev4 toc-item\"><a href=\"#Elementwise-multiplication\" data-toc-modified-id=\"Elementwise-multiplication-1.2.5.1\"><span class=\"toc-item-num\">1.2.5.1&nbsp;&nbsp;</span>Elementwise multiplication</a></div><div class=\"lev4 toc-item\"><a href=\"#Matrix-multiplication\" data-toc-modified-id=\"Matrix-multiplication-1.2.5.2\"><span class=\"toc-item-num\">1.2.5.2&nbsp;&nbsp;</span>Matrix multiplication</a></div><div class=\"lev4 toc-item\"><a href=\"#Transpose-of-a-matrix\" data-toc-modified-id=\"Transpose-of-a-matrix-1.2.5.3\"><span class=\"toc-item-num\">1.2.5.3&nbsp;&nbsp;</span>Transpose of a matrix</a></div><div class=\"lev4 toc-item\"><a href=\"#Extract-diagonal-elements-of-a-matrix\" data-toc-modified-id=\"Extract-diagonal-elements-of-a-matrix-1.2.5.4\"><span class=\"toc-item-num\">1.2.5.4&nbsp;&nbsp;</span>Extract diagonal elements of a matrix</a></div><div class=\"lev4 toc-item\"><a href=\"#Create-diagonal-matrix\" data-toc-modified-id=\"Create-diagonal-matrix-1.2.5.5\"><span class=\"toc-item-num\">1.2.5.5&nbsp;&nbsp;</span>Create diagonal matrix</a></div><div class=\"lev4 toc-item\"><a href=\"#Inverse-Matrix\" data-toc-modified-id=\"Inverse-Matrix-1.2.5.6\"><span class=\"toc-item-num\">1.2.5.6&nbsp;&nbsp;</span>Inverse Matrix</a></div><div class=\"lev4 toc-item\"><a href=\"#Solve-system-of-linear-equations\" data-toc-modified-id=\"Solve-system-of-linear-equations-1.2.5.7\"><span class=\"toc-item-num\">1.2.5.7&nbsp;&nbsp;</span>Solve system of linear equations</a></div><div class=\"lev2 toc-item\"><a href=\"#Lists\" data-toc-modified-id=\"Lists-1.3\"><span class=\"toc-item-num\">1.3&nbsp;&nbsp;</span>Lists</a></div><div class=\"lev2 toc-item\"><a href=\"#Data-Frame\" data-toc-modified-id=\"Data-Frame-1.4\"><span class=\"toc-item-num\">1.4&nbsp;&nbsp;</span>Data Frame</a></div><div class=\"lev3 toc-item\"><a href=\"#Import-data-into-data-frame\" data-toc-modified-id=\"Import-data-into-data-frame-1.4.1\"><span class=\"toc-item-num\">1.4.1&nbsp;&nbsp;</span>Import data into data frame</a></div>"
   ]
  },
  {
   "cell_type": "markdown",
   "metadata": {},
   "source": [
    "# Basic Data Types\n",
    "* Author: Johannes Maucher\n",
    "* Last Update: 2017-10-03\n",
    "\n",
    "## Vectors\n",
    "\n",
    "In R a vector is a sequence of elements. All elements must be of the same basic type. The elements of a vector are called *components*.\n",
    "\n",
    "### Define vectors"
   ]
  },
  {
   "cell_type": "code",
   "execution_count": 29,
   "metadata": {},
   "outputs": [
    {
     "data": {
      "text/html": [
       "6"
      ],
      "text/latex": [
       "6"
      ],
      "text/markdown": [
       "6"
      ],
      "text/plain": [
       "[1] 6"
      ]
     },
     "metadata": {},
     "output_type": "display_data"
    },
    {
     "data": {
      "text/html": [
       "'numeric'"
      ],
      "text/latex": [
       "'numeric'"
      ],
      "text/markdown": [
       "'numeric'"
      ],
      "text/plain": [
       "[1] \"numeric\""
      ]
     },
     "metadata": {},
     "output_type": "display_data"
    }
   ],
   "source": [
    "(x<-6)\n",
    "class(x)"
   ]
  },
  {
   "cell_type": "code",
   "execution_count": 30,
   "metadata": {},
   "outputs": [
    {
     "data": {
      "text/html": [
       "<ol class=list-inline>\n",
       "\t<li>1</li>\n",
       "\t<li>2</li>\n",
       "\t<li>3</li>\n",
       "\t<li>4</li>\n",
       "\t<li>5</li>\n",
       "\t<li>6</li>\n",
       "\t<li>7</li>\n",
       "\t<li>8</li>\n",
       "\t<li>9</li>\n",
       "\t<li>10</li>\n",
       "\t<li>11</li>\n",
       "\t<li>12</li>\n",
       "\t<li>13</li>\n",
       "</ol>\n"
      ],
      "text/latex": [
       "\\begin{enumerate*}\n",
       "\\item 1\n",
       "\\item 2\n",
       "\\item 3\n",
       "\\item 4\n",
       "\\item 5\n",
       "\\item 6\n",
       "\\item 7\n",
       "\\item 8\n",
       "\\item 9\n",
       "\\item 10\n",
       "\\item 11\n",
       "\\item 12\n",
       "\\item 13\n",
       "\\end{enumerate*}\n"
      ],
      "text/markdown": [
       "1. 1\n",
       "2. 2\n",
       "3. 3\n",
       "4. 4\n",
       "5. 5\n",
       "6. 6\n",
       "7. 7\n",
       "8. 8\n",
       "9. 9\n",
       "10. 10\n",
       "11. 11\n",
       "12. 12\n",
       "13. 13\n",
       "\n",
       "\n"
      ],
      "text/plain": [
       " [1]  1  2  3  4  5  6  7  8  9 10 11 12 13"
      ]
     },
     "metadata": {},
     "output_type": "display_data"
    },
    {
     "data": {
      "text/html": [
       "'integer'"
      ],
      "text/latex": [
       "'integer'"
      ],
      "text/markdown": [
       "'integer'"
      ],
      "text/plain": [
       "[1] \"integer\""
      ]
     },
     "metadata": {},
     "output_type": "display_data"
    }
   ],
   "source": [
    "(x<-1:13)\n",
    "class(x)"
   ]
  },
  {
   "cell_type": "code",
   "execution_count": 37,
   "metadata": {},
   "outputs": [
    {
     "data": {
      "text/html": [
       "<ol class=list-inline>\n",
       "\t<li>0</li>\n",
       "\t<li>0</li>\n",
       "\t<li>0</li>\n",
       "\t<li>0</li>\n",
       "\t<li>0</li>\n",
       "</ol>\n"
      ],
      "text/latex": [
       "\\begin{enumerate*}\n",
       "\\item 0\n",
       "\\item 0\n",
       "\\item 0\n",
       "\\item 0\n",
       "\\item 0\n",
       "\\end{enumerate*}\n"
      ],
      "text/markdown": [
       "1. 0\n",
       "2. 0\n",
       "3. 0\n",
       "4. 0\n",
       "5. 0\n",
       "\n",
       "\n"
      ],
      "text/plain": [
       "[1] 0 0 0 0 0"
      ]
     },
     "metadata": {},
     "output_type": "display_data"
    },
    {
     "data": {
      "text/html": [
       "'integer'"
      ],
      "text/latex": [
       "'integer'"
      ],
      "text/markdown": [
       "'integer'"
      ],
      "text/plain": [
       "[1] \"integer\""
      ]
     },
     "metadata": {},
     "output_type": "display_data"
    },
    {
     "data": {
      "text/html": [
       "<ol class=list-inline>\n",
       "\t<li>0</li>\n",
       "\t<li>0</li>\n",
       "\t<li>0</li>\n",
       "\t<li>0</li>\n",
       "\t<li>0</li>\n",
       "</ol>\n"
      ],
      "text/latex": [
       "\\begin{enumerate*}\n",
       "\\item 0\n",
       "\\item 0\n",
       "\\item 0\n",
       "\\item 0\n",
       "\\item 0\n",
       "\\end{enumerate*}\n"
      ],
      "text/markdown": [
       "1. 0\n",
       "2. 0\n",
       "3. 0\n",
       "4. 0\n",
       "5. 0\n",
       "\n",
       "\n"
      ],
      "text/plain": [
       "[1] 0 0 0 0 0"
      ]
     },
     "metadata": {},
     "output_type": "display_data"
    },
    {
     "data": {
      "text/html": [
       "'numeric'"
      ],
      "text/latex": [
       "'numeric'"
      ],
      "text/markdown": [
       "'numeric'"
      ],
      "text/plain": [
       "[1] \"numeric\""
      ]
     },
     "metadata": {},
     "output_type": "display_data"
    }
   ],
   "source": [
    "(x<-integer(5))\n",
    "class(x)\n",
    "(x<-numeric(5))\n",
    "class(x)"
   ]
  },
  {
   "cell_type": "code",
   "execution_count": 38,
   "metadata": {},
   "outputs": [
    {
     "data": {
      "text/html": [
       "<ol class=list-inline>\n",
       "\t<li>1</li>\n",
       "\t<li>5</li>\n",
       "\t<li>9</li>\n",
       "\t<li>13</li>\n",
       "\t<li>17</li>\n",
       "\t<li>21</li>\n",
       "\t<li>25</li>\n",
       "\t<li>29</li>\n",
       "</ol>\n"
      ],
      "text/latex": [
       "\\begin{enumerate*}\n",
       "\\item 1\n",
       "\\item 5\n",
       "\\item 9\n",
       "\\item 13\n",
       "\\item 17\n",
       "\\item 21\n",
       "\\item 25\n",
       "\\item 29\n",
       "\\end{enumerate*}\n"
      ],
      "text/markdown": [
       "1. 1\n",
       "2. 5\n",
       "3. 9\n",
       "4. 13\n",
       "5. 17\n",
       "6. 21\n",
       "7. 25\n",
       "8. 29\n",
       "\n",
       "\n"
      ],
      "text/plain": [
       "[1]  1  5  9 13 17 21 25 29"
      ]
     },
     "metadata": {},
     "output_type": "display_data"
    }
   ],
   "source": [
    "(x <- seq(1,30,4))"
   ]
  },
  {
   "cell_type": "code",
   "execution_count": 39,
   "metadata": {},
   "outputs": [
    {
     "data": {
      "text/html": [
       "<ol class=list-inline>\n",
       "\t<li>3</li>\n",
       "\t<li>3</li>\n",
       "\t<li>3</li>\n",
       "\t<li>3</li>\n",
       "\t<li>3</li>\n",
       "</ol>\n"
      ],
      "text/latex": [
       "\\begin{enumerate*}\n",
       "\\item 3\n",
       "\\item 3\n",
       "\\item 3\n",
       "\\item 3\n",
       "\\item 3\n",
       "\\end{enumerate*}\n"
      ],
      "text/markdown": [
       "1. 3\n",
       "2. 3\n",
       "3. 3\n",
       "4. 3\n",
       "5. 3\n",
       "\n",
       "\n"
      ],
      "text/plain": [
       "[1] 3 3 3 3 3"
      ]
     },
     "metadata": {},
     "output_type": "display_data"
    },
    {
     "data": {
      "text/html": [
       "<ol class=list-inline>\n",
       "\t<li>1</li>\n",
       "\t<li>2</li>\n",
       "\t<li>3</li>\n",
       "\t<li>4</li>\n",
       "\t<li>5</li>\n",
       "\t<li>6</li>\n",
       "\t<li>7</li>\n",
       "\t<li>1</li>\n",
       "\t<li>2</li>\n",
       "\t<li>3</li>\n",
       "\t<li>4</li>\n",
       "\t<li>5</li>\n",
       "\t<li>6</li>\n",
       "\t<li>7</li>\n",
       "\t<li>1</li>\n",
       "\t<li>2</li>\n",
       "\t<li>3</li>\n",
       "\t<li>4</li>\n",
       "\t<li>5</li>\n",
       "\t<li>6</li>\n",
       "\t<li>7</li>\n",
       "</ol>\n"
      ],
      "text/latex": [
       "\\begin{enumerate*}\n",
       "\\item 1\n",
       "\\item 2\n",
       "\\item 3\n",
       "\\item 4\n",
       "\\item 5\n",
       "\\item 6\n",
       "\\item 7\n",
       "\\item 1\n",
       "\\item 2\n",
       "\\item 3\n",
       "\\item 4\n",
       "\\item 5\n",
       "\\item 6\n",
       "\\item 7\n",
       "\\item 1\n",
       "\\item 2\n",
       "\\item 3\n",
       "\\item 4\n",
       "\\item 5\n",
       "\\item 6\n",
       "\\item 7\n",
       "\\end{enumerate*}\n"
      ],
      "text/markdown": [
       "1. 1\n",
       "2. 2\n",
       "3. 3\n",
       "4. 4\n",
       "5. 5\n",
       "6. 6\n",
       "7. 7\n",
       "8. 1\n",
       "9. 2\n",
       "10. 3\n",
       "11. 4\n",
       "12. 5\n",
       "13. 6\n",
       "14. 7\n",
       "15. 1\n",
       "16. 2\n",
       "17. 3\n",
       "18. 4\n",
       "19. 5\n",
       "20. 6\n",
       "21. 7\n",
       "\n",
       "\n"
      ],
      "text/plain": [
       " [1] 1 2 3 4 5 6 7 1 2 3 4 5 6 7 1 2 3 4 5 6 7"
      ]
     },
     "metadata": {},
     "output_type": "display_data"
    }
   ],
   "source": [
    "(x<-rep(3,5))\n",
    "(x<-rep(1:7,3))"
   ]
  },
  {
   "cell_type": "code",
   "execution_count": 8,
   "metadata": {
    "ExecuteTime": {
     "end_time": "2017-03-05T09:06:28.967141",
     "start_time": "2017-03-05T08:06:28.829Z"
    }
   },
   "outputs": [
    {
     "data": {
      "text/html": [
       "<ol class=list-inline>\n",
       "\t<li>100</li>\n",
       "\t<li>200</li>\n",
       "\t<li>50</li>\n",
       "\t<li>-10</li>\n",
       "</ol>\n"
      ],
      "text/latex": [
       "\\begin{enumerate*}\n",
       "\\item 100\n",
       "\\item 200\n",
       "\\item 50\n",
       "\\item -10\n",
       "\\end{enumerate*}\n"
      ],
      "text/markdown": [
       "1. 100\n",
       "2. 200\n",
       "3. 50\n",
       "4. -10\n",
       "\n",
       "\n"
      ],
      "text/plain": [
       "[1] 100 200  50 -10"
      ]
     },
     "metadata": {},
     "output_type": "display_data"
    },
    {
     "data": {
      "text/html": [
       "'numeric'"
      ],
      "text/latex": [
       "'numeric'"
      ],
      "text/markdown": [
       "'numeric'"
      ],
      "text/plain": [
       "[1] \"numeric\""
      ]
     },
     "metadata": {},
     "output_type": "display_data"
    }
   ],
   "source": [
    "y <- c(100,200,50,-10)\n",
    "y\n",
    "class(y)"
   ]
  },
  {
   "cell_type": "code",
   "execution_count": 9,
   "metadata": {
    "ExecuteTime": {
     "end_time": "2017-03-05T09:06:29.002237",
     "start_time": "2017-03-05T08:06:28.831Z"
    }
   },
   "outputs": [
    {
     "data": {
      "text/html": [
       "'character'"
      ],
      "text/latex": [
       "'character'"
      ],
      "text/markdown": [
       "'character'"
      ],
      "text/plain": [
       "[1] \"character\""
      ]
     },
     "metadata": {},
     "output_type": "display_data"
    }
   ],
   "source": [
    "z <- c(\"last\",\"in\",\"first\",\"out\")\n",
    "class(z)"
   ]
  },
  {
   "cell_type": "code",
   "execution_count": 10,
   "metadata": {
    "ExecuteTime": {
     "end_time": "2017-03-05T09:06:29.042539",
     "start_time": "2017-03-05T08:06:28.834Z"
    }
   },
   "outputs": [
    {
     "data": {
      "text/html": [
       "<dl class=dl-horizontal>\n",
       "\t<dt>age</dt>\n",
       "\t\t<dd>37</dd>\n",
       "\t<dt>income</dt>\n",
       "\t\t<dd>61000</dd>\n",
       "\t<dt>capital</dt>\n",
       "\t\t<dd>250000</dd>\n",
       "\t<dt>credit</dt>\n",
       "\t\t<dd>70000</dd>\n",
       "</dl>\n"
      ],
      "text/latex": [
       "\\begin{description*}\n",
       "\\item[age] 37\n",
       "\\item[income] 61000\n",
       "\\item[capital] 250000\n",
       "\\item[credit] 70000\n",
       "\\end{description*}\n"
      ],
      "text/markdown": [
       "age\n",
       ":   37income\n",
       ":   61000capital\n",
       ":   250000credit\n",
       ":   70000\n",
       "\n"
      ],
      "text/plain": [
       "    age  income capital  credit \n",
       "     37   61000  250000   70000 "
      ]
     },
     "metadata": {},
     "output_type": "display_data"
    }
   ],
   "source": [
    "customer <- c(37,61000,250000,70000)\n",
    "featureNames <- c(\"age\",\"income\",\"capital\",\"credit\")\n",
    "names(customer) <- featureNames\n",
    "customer"
   ]
  },
  {
   "cell_type": "markdown",
   "metadata": {},
   "source": [
    "### Access vector components"
   ]
  },
  {
   "cell_type": "markdown",
   "metadata": {},
   "source": [
    "Filter by index:"
   ]
  },
  {
   "cell_type": "code",
   "execution_count": null,
   "metadata": {
    "collapsed": true
   },
   "outputs": [],
   "source": [
    "z[1]"
   ]
  },
  {
   "cell_type": "markdown",
   "metadata": {},
   "source": [
    "Get all elements except those specified in a negative index:"
   ]
  },
  {
   "cell_type": "code",
   "execution_count": 46,
   "metadata": {},
   "outputs": [
    {
     "data": {
      "text/html": [
       "<ol class=list-inline>\n",
       "\t<li>'in'</li>\n",
       "\t<li>'first'</li>\n",
       "\t<li>'out'</li>\n",
       "</ol>\n"
      ],
      "text/latex": [
       "\\begin{enumerate*}\n",
       "\\item 'in'\n",
       "\\item 'first'\n",
       "\\item 'out'\n",
       "\\end{enumerate*}\n"
      ],
      "text/markdown": [
       "1. 'in'\n",
       "2. 'first'\n",
       "3. 'out'\n",
       "\n",
       "\n"
      ],
      "text/plain": [
       "[1] \"in\"    \"first\" \"out\"  "
      ]
     },
     "metadata": {},
     "output_type": "display_data"
    },
    {
     "data": {
      "text/html": [
       "<ol class=list-inline>\n",
       "\t<li>'last'</li>\n",
       "\t<li>'in'</li>\n",
       "\t<li>'out'</li>\n",
       "</ol>\n"
      ],
      "text/latex": [
       "\\begin{enumerate*}\n",
       "\\item 'last'\n",
       "\\item 'in'\n",
       "\\item 'out'\n",
       "\\end{enumerate*}\n"
      ],
      "text/markdown": [
       "1. 'last'\n",
       "2. 'in'\n",
       "3. 'out'\n",
       "\n",
       "\n"
      ],
      "text/plain": [
       "[1] \"last\" \"in\"   \"out\" "
      ]
     },
     "metadata": {},
     "output_type": "display_data"
    }
   ],
   "source": [
    "z[-1]\n",
    "z[-3]"
   ]
  },
  {
   "cell_type": "code",
   "execution_count": 47,
   "metadata": {},
   "outputs": [
    {
     "name": "stdout",
     "output_type": "stream",
     "text": [
      "[1] \"last\" \"in\"   \"out\" \n"
     ]
    }
   ],
   "source": [
    "print(z[-3])"
   ]
  },
  {
   "cell_type": "markdown",
   "metadata": {},
   "source": [
    "Get type of vector components:"
   ]
  },
  {
   "cell_type": "code",
   "execution_count": 48,
   "metadata": {},
   "outputs": [
    {
     "name": "stdout",
     "output_type": "stream",
     "text": [
      "character(0)\n"
     ]
    }
   ],
   "source": [
    "print(z[0])"
   ]
  },
  {
   "cell_type": "markdown",
   "metadata": {},
   "source": [
    "Filter by name of component:"
   ]
  },
  {
   "cell_type": "code",
   "execution_count": 49,
   "metadata": {
    "ExecuteTime": {
     "end_time": "2017-03-05T09:06:29.080860",
     "start_time": "2017-03-05T08:06:28.836Z"
    }
   },
   "outputs": [
    {
     "data": {
      "text/html": [
       "<strong>age:</strong> 37"
      ],
      "text/latex": [
       "\\textbf{age:} 37"
      ],
      "text/markdown": [
       "**age:** 37"
      ],
      "text/plain": [
       "age \n",
       " 37 "
      ]
     },
     "metadata": {},
     "output_type": "display_data"
    }
   ],
   "source": [
    "customer[\"age\"]"
   ]
  },
  {
   "cell_type": "markdown",
   "metadata": {},
   "source": [
    "Filter by set of indices:"
   ]
  },
  {
   "cell_type": "code",
   "execution_count": 23,
   "metadata": {},
   "outputs": [
    {
     "data": {
      "text/html": [
       "<dl class=dl-horizontal>\n",
       "\t<dt>income</dt>\n",
       "\t\t<dd>61000</dd>\n",
       "\t<dt>capital</dt>\n",
       "\t\t<dd>250000</dd>\n",
       "</dl>\n"
      ],
      "text/latex": [
       "\\begin{description*}\n",
       "\\item[income] 61000\n",
       "\\item[capital] 250000\n",
       "\\end{description*}\n"
      ],
      "text/markdown": [
       "income\n",
       ":   61000capital\n",
       ":   250000\n",
       "\n"
      ],
      "text/plain": [
       " income capital \n",
       "  61000  250000 "
      ]
     },
     "metadata": {},
     "output_type": "display_data"
    }
   ],
   "source": [
    "customer[2:3]"
   ]
  },
  {
   "cell_type": "code",
   "execution_count": 25,
   "metadata": {},
   "outputs": [
    {
     "data": {
      "text/html": [
       "<dl class=dl-horizontal>\n",
       "\t<dt>age</dt>\n",
       "\t\t<dd>37</dd>\n",
       "\t<dt>credit</dt>\n",
       "\t\t<dd>70000</dd>\n",
       "</dl>\n"
      ],
      "text/latex": [
       "\\begin{description*}\n",
       "\\item[age] 37\n",
       "\\item[credit] 70000\n",
       "\\end{description*}\n"
      ],
      "text/markdown": [
       "age\n",
       ":   37credit\n",
       ":   70000\n",
       "\n"
      ],
      "text/plain": [
       "   age credit \n",
       "    37  70000 "
      ]
     },
     "metadata": {},
     "output_type": "display_data"
    }
   ],
   "source": [
    "customer[c(1,4)]"
   ]
  },
  {
   "cell_type": "code",
   "execution_count": 50,
   "metadata": {},
   "outputs": [
    {
     "data": {
      "text/html": [
       "<dl class=dl-horizontal>\n",
       "\t<dt>age</dt>\n",
       "\t\t<dd>37</dd>\n",
       "\t<dt>credit</dt>\n",
       "\t\t<dd>70000</dd>\n",
       "</dl>\n"
      ],
      "text/latex": [
       "\\begin{description*}\n",
       "\\item[age] 37\n",
       "\\item[credit] 70000\n",
       "\\end{description*}\n"
      ],
      "text/markdown": [
       "age\n",
       ":   37credit\n",
       ":   70000\n",
       "\n"
      ],
      "text/plain": [
       "   age credit \n",
       "    37  70000 "
      ]
     },
     "metadata": {},
     "output_type": "display_data"
    }
   ],
   "source": [
    "customer[c(\"age\",\"credit\")]"
   ]
  },
  {
   "cell_type": "markdown",
   "metadata": {},
   "source": [
    "Filter by mask"
   ]
  },
  {
   "cell_type": "code",
   "execution_count": 12,
   "metadata": {
    "ExecuteTime": {
     "end_time": "2017-03-05T09:06:29.121967",
     "start_time": "2017-03-05T08:06:28.839Z"
    }
   },
   "outputs": [
    {
     "data": {
      "text/html": [
       "<dl class=dl-horizontal>\n",
       "\t<dt>income</dt>\n",
       "\t\t<dd>61000</dd>\n",
       "\t<dt>capital</dt>\n",
       "\t\t<dd>250000</dd>\n",
       "</dl>\n"
      ],
      "text/latex": [
       "\\begin{description*}\n",
       "\\item[income] 61000\n",
       "\\item[capital] 250000\n",
       "\\end{description*}\n"
      ],
      "text/markdown": [
       "income\n",
       ":   61000capital\n",
       ":   250000\n",
       "\n"
      ],
      "text/plain": [
       " income capital \n",
       "  61000  250000 "
      ]
     },
     "metadata": {},
     "output_type": "display_data"
    }
   ],
   "source": [
    "rel <- c(FALSE,TRUE,TRUE,FALSE)\n",
    "customer[rel]"
   ]
  },
  {
   "cell_type": "markdown",
   "metadata": {},
   "source": [
    "Filter by value:"
   ]
  },
  {
   "cell_type": "code",
   "execution_count": 44,
   "metadata": {},
   "outputs": [
    {
     "data": {
      "text/html": [
       "<ol class=list-inline>\n",
       "\t<li>100</li>\n",
       "\t<li>200</li>\n",
       "\t<li>50</li>\n",
       "\t<li>-10</li>\n",
       "</ol>\n"
      ],
      "text/latex": [
       "\\begin{enumerate*}\n",
       "\\item 100\n",
       "\\item 200\n",
       "\\item 50\n",
       "\\item -10\n",
       "\\end{enumerate*}\n"
      ],
      "text/markdown": [
       "1. 100\n",
       "2. 200\n",
       "3. 50\n",
       "4. -10\n",
       "\n",
       "\n"
      ],
      "text/plain": [
       "[1] 100 200  50 -10"
      ]
     },
     "metadata": {},
     "output_type": "display_data"
    },
    {
     "data": {
      "text/html": [
       "<ol class=list-inline>\n",
       "\t<li>50</li>\n",
       "\t<li>-10</li>\n",
       "</ol>\n"
      ],
      "text/latex": [
       "\\begin{enumerate*}\n",
       "\\item 50\n",
       "\\item -10\n",
       "\\end{enumerate*}\n"
      ],
      "text/markdown": [
       "1. 50\n",
       "2. -10\n",
       "\n",
       "\n"
      ],
      "text/plain": [
       "[1]  50 -10"
      ]
     },
     "metadata": {},
     "output_type": "display_data"
    }
   ],
   "source": [
    "y\n",
    "y[y<100]"
   ]
  },
  {
   "cell_type": "markdown",
   "metadata": {},
   "source": [
    "Elements of different type can be assigned to a vector. However, all different types are mapped to a single type, i.e. after assignment all elements of the vector are of same type. "
   ]
  },
  {
   "cell_type": "code",
   "execution_count": 51,
   "metadata": {
    "ExecuteTime": {
     "end_time": "2017-03-05T09:06:29.196987",
     "start_time": "2017-03-05T08:06:28.841Z"
    }
   },
   "outputs": [
    {
     "data": {
      "text/html": [
       "<ol class=list-inline>\n",
       "\t<li>1</li>\n",
       "\t<li>6</li>\n",
       "\t<li>8</li>\n",
       "\t<li>1</li>\n",
       "</ol>\n"
      ],
      "text/latex": [
       "\\begin{enumerate*}\n",
       "\\item 1\n",
       "\\item 6\n",
       "\\item 8\n",
       "\\item 1\n",
       "\\end{enumerate*}\n"
      ],
      "text/markdown": [
       "1. 1\n",
       "2. 6\n",
       "3. 8\n",
       "4. 1\n",
       "\n",
       "\n"
      ],
      "text/plain": [
       "[1] 1 6 8 1"
      ]
     },
     "metadata": {},
     "output_type": "display_data"
    },
    {
     "data": {
      "text/html": [
       "'numeric'"
      ],
      "text/latex": [
       "'numeric'"
      ],
      "text/markdown": [
       "'numeric'"
      ],
      "text/plain": [
       "[1] \"numeric\""
      ]
     },
     "metadata": {},
     "output_type": "display_data"
    },
    {
     "data": {
      "text/html": [
       "<ol class=list-inline>\n",
       "\t<li>'1'</li>\n",
       "\t<li>'6'</li>\n",
       "\t<li>'8'</li>\n",
       "\t<li>'TRUE'</li>\n",
       "\t<li>'word'</li>\n",
       "</ol>\n"
      ],
      "text/latex": [
       "\\begin{enumerate*}\n",
       "\\item '1'\n",
       "\\item '6'\n",
       "\\item '8'\n",
       "\\item 'TRUE'\n",
       "\\item 'word'\n",
       "\\end{enumerate*}\n"
      ],
      "text/markdown": [
       "1. '1'\n",
       "2. '6'\n",
       "3. '8'\n",
       "4. 'TRUE'\n",
       "5. 'word'\n",
       "\n",
       "\n"
      ],
      "text/plain": [
       "[1] \"1\"    \"6\"    \"8\"    \"TRUE\" \"word\""
      ]
     },
     "metadata": {},
     "output_type": "display_data"
    },
    {
     "data": {
      "text/html": [
       "'character'"
      ],
      "text/latex": [
       "'character'"
      ],
      "text/markdown": [
       "'character'"
      ],
      "text/plain": [
       "[1] \"character\""
      ]
     },
     "metadata": {},
     "output_type": "display_data"
    }
   ],
   "source": [
    "mix <- c(1,6,8,TRUE)\n",
    "mix\n",
    "class(mix)\n",
    "mix2 <- c(1,6,8,TRUE,\"word\")\n",
    "mix2\n",
    "class(mix2)"
   ]
  },
  {
   "cell_type": "markdown",
   "metadata": {},
   "source": [
    "### Simple operations on vectors"
   ]
  },
  {
   "cell_type": "code",
   "execution_count": 52,
   "metadata": {},
   "outputs": [
    {
     "data": {
      "text/html": [
       "<ol class=list-inline>\n",
       "\t<li>3</li>\n",
       "\t<li>9</li>\n",
       "\t<li>18</li>\n",
       "</ol>\n"
      ],
      "text/latex": [
       "\\begin{enumerate*}\n",
       "\\item 3\n",
       "\\item 9\n",
       "\\item 18\n",
       "\\end{enumerate*}\n"
      ],
      "text/markdown": [
       "1. 3\n",
       "2. 9\n",
       "3. 18\n",
       "\n",
       "\n"
      ],
      "text/plain": [
       "[1]  3  9 18"
      ]
     },
     "metadata": {},
     "output_type": "display_data"
    },
    {
     "data": {
      "text/html": [
       "<ol class=list-inline>\n",
       "\t<li>0.333333333333333</li>\n",
       "\t<li>0.666666666666667</li>\n",
       "\t<li>1.66666666666667</li>\n",
       "</ol>\n"
      ],
      "text/latex": [
       "\\begin{enumerate*}\n",
       "\\item 0.333333333333333\n",
       "\\item 0.666666666666667\n",
       "\\item 1.66666666666667\n",
       "\\end{enumerate*}\n"
      ],
      "text/markdown": [
       "1. 0.333333333333333\n",
       "2. 0.666666666666667\n",
       "3. 1.66666666666667\n",
       "\n",
       "\n"
      ],
      "text/plain": [
       "[1] 0.3333333 0.6666667 1.6666667"
      ]
     },
     "metadata": {},
     "output_type": "display_data"
    },
    {
     "data": {
      "text/html": [
       "<ol class=list-inline>\n",
       "\t<li>1</li>\n",
       "\t<li>6</li>\n",
       "\t<li>30</li>\n",
       "</ol>\n"
      ],
      "text/latex": [
       "\\begin{enumerate*}\n",
       "\\item 1\n",
       "\\item 6\n",
       "\\item 30\n",
       "\\end{enumerate*}\n"
      ],
      "text/markdown": [
       "1. 1\n",
       "2. 6\n",
       "3. 30\n",
       "\n",
       "\n"
      ],
      "text/plain": [
       "[1]  1  6 30"
      ]
     },
     "metadata": {},
     "output_type": "display_data"
    }
   ],
   "source": [
    "(a <- c(3,9,18))\n",
    "(f <- c(1/3,2/3,5/3))\n",
    "(r<-a*f)"
   ]
  },
  {
   "cell_type": "code",
   "execution_count": 53,
   "metadata": {},
   "outputs": [
    {
     "data": {
      "text/html": [
       "<ol class=list-inline>\n",
       "\t<li>4</li>\n",
       "\t<li>15</li>\n",
       "\t<li>48</li>\n",
       "</ol>\n"
      ],
      "text/latex": [
       "\\begin{enumerate*}\n",
       "\\item 4\n",
       "\\item 15\n",
       "\\item 48\n",
       "\\end{enumerate*}\n"
      ],
      "text/markdown": [
       "1. 4\n",
       "2. 15\n",
       "3. 48\n",
       "\n",
       "\n"
      ],
      "text/plain": [
       "[1]  4 15 48"
      ]
     },
     "metadata": {},
     "output_type": "display_data"
    },
    {
     "data": {
      "text/html": [
       "67"
      ],
      "text/latex": [
       "67"
      ],
      "text/markdown": [
       "67"
      ],
      "text/plain": [
       "[1] 67"
      ]
     },
     "metadata": {},
     "output_type": "display_data"
    }
   ],
   "source": [
    "(t<-a+r)\n",
    "sum(t)"
   ]
  },
  {
   "cell_type": "markdown",
   "metadata": {},
   "source": [
    "### Set operations"
   ]
  },
  {
   "cell_type": "code",
   "execution_count": 7,
   "metadata": {},
   "outputs": [
    {
     "data": {
      "text/html": [
       "<ol class=list-inline>\n",
       "\t<li>1</li>\n",
       "\t<li>4</li>\n",
       "\t<li>7</li>\n",
       "\t<li>10</li>\n",
       "\t<li>13</li>\n",
       "\t<li>16</li>\n",
       "\t<li>19</li>\n",
       "</ol>\n"
      ],
      "text/latex": [
       "\\begin{enumerate*}\n",
       "\\item 1\n",
       "\\item 4\n",
       "\\item 7\n",
       "\\item 10\n",
       "\\item 13\n",
       "\\item 16\n",
       "\\item 19\n",
       "\\end{enumerate*}\n"
      ],
      "text/markdown": [
       "1. 1\n",
       "2. 4\n",
       "3. 7\n",
       "4. 10\n",
       "5. 13\n",
       "6. 16\n",
       "7. 19\n",
       "\n",
       "\n"
      ],
      "text/plain": [
       "[1]  1  4  7 10 13 16 19"
      ]
     },
     "metadata": {},
     "output_type": "display_data"
    },
    {
     "data": {
      "text/html": [
       "<ol class=list-inline>\n",
       "\t<li>1</li>\n",
       "\t<li>2</li>\n",
       "\t<li>3</li>\n",
       "\t<li>4</li>\n",
       "\t<li>5</li>\n",
       "\t<li>6</li>\n",
       "\t<li>7</li>\n",
       "\t<li>8</li>\n",
       "\t<li>9</li>\n",
       "\t<li>10</li>\n",
       "</ol>\n"
      ],
      "text/latex": [
       "\\begin{enumerate*}\n",
       "\\item 1\n",
       "\\item 2\n",
       "\\item 3\n",
       "\\item 4\n",
       "\\item 5\n",
       "\\item 6\n",
       "\\item 7\n",
       "\\item 8\n",
       "\\item 9\n",
       "\\item 10\n",
       "\\end{enumerate*}\n"
      ],
      "text/markdown": [
       "1. 1\n",
       "2. 2\n",
       "3. 3\n",
       "4. 4\n",
       "5. 5\n",
       "6. 6\n",
       "7. 7\n",
       "8. 8\n",
       "9. 9\n",
       "10. 10\n",
       "\n",
       "\n"
      ],
      "text/plain": [
       " [1]  1  2  3  4  5  6  7  8  9 10"
      ]
     },
     "metadata": {},
     "output_type": "display_data"
    },
    {
     "data": {
      "text/html": [
       "<ol class=list-inline>\n",
       "\t<li>1</li>\n",
       "\t<li>5</li>\n",
       "\t<li>8</li>\n",
       "\t<li>1</li>\n",
       "\t<li>5</li>\n",
       "\t<li>8</li>\n",
       "\t<li>1</li>\n",
       "\t<li>5</li>\n",
       "\t<li>8</li>\n",
       "</ol>\n"
      ],
      "text/latex": [
       "\\begin{enumerate*}\n",
       "\\item 1\n",
       "\\item 5\n",
       "\\item 8\n",
       "\\item 1\n",
       "\\item 5\n",
       "\\item 8\n",
       "\\item 1\n",
       "\\item 5\n",
       "\\item 8\n",
       "\\end{enumerate*}\n"
      ],
      "text/markdown": [
       "1. 1\n",
       "2. 5\n",
       "3. 8\n",
       "4. 1\n",
       "5. 5\n",
       "6. 8\n",
       "7. 1\n",
       "8. 5\n",
       "9. 8\n",
       "\n",
       "\n"
      ],
      "text/plain": [
       "[1] 1 5 8 1 5 8 1 5 8"
      ]
     },
     "metadata": {},
     "output_type": "display_data"
    }
   ],
   "source": [
    "a<-seq(1,20,3)\n",
    "a\n",
    "b<-1:10\n",
    "b\n",
    "c<-rep(c(1,5,8),3)\n",
    "c"
   ]
  },
  {
   "cell_type": "code",
   "execution_count": 8,
   "metadata": {},
   "outputs": [
    {
     "name": "stdout",
     "output_type": "stream",
     "text": [
      "[1] \"Elements of a, which are contained in b:\"\n"
     ]
    },
    {
     "data": {
      "text/html": [
       "<ol class=list-inline>\n",
       "\t<li>TRUE</li>\n",
       "\t<li>TRUE</li>\n",
       "\t<li>TRUE</li>\n",
       "\t<li>TRUE</li>\n",
       "\t<li>FALSE</li>\n",
       "\t<li>FALSE</li>\n",
       "\t<li>FALSE</li>\n",
       "</ol>\n"
      ],
      "text/latex": [
       "\\begin{enumerate*}\n",
       "\\item TRUE\n",
       "\\item TRUE\n",
       "\\item TRUE\n",
       "\\item TRUE\n",
       "\\item FALSE\n",
       "\\item FALSE\n",
       "\\item FALSE\n",
       "\\end{enumerate*}\n"
      ],
      "text/markdown": [
       "1. TRUE\n",
       "2. TRUE\n",
       "3. TRUE\n",
       "4. TRUE\n",
       "5. FALSE\n",
       "6. FALSE\n",
       "7. FALSE\n",
       "\n",
       "\n"
      ],
      "text/plain": [
       "[1]  TRUE  TRUE  TRUE  TRUE FALSE FALSE FALSE"
      ]
     },
     "metadata": {},
     "output_type": "display_data"
    },
    {
     "name": "stdout",
     "output_type": "stream",
     "text": [
      "[1] \"Elements of b, which are contained in a:\"\n"
     ]
    },
    {
     "data": {
      "text/html": [
       "<ol class=list-inline>\n",
       "\t<li>TRUE</li>\n",
       "\t<li>FALSE</li>\n",
       "\t<li>FALSE</li>\n",
       "\t<li>TRUE</li>\n",
       "\t<li>FALSE</li>\n",
       "\t<li>FALSE</li>\n",
       "\t<li>TRUE</li>\n",
       "\t<li>FALSE</li>\n",
       "\t<li>FALSE</li>\n",
       "\t<li>TRUE</li>\n",
       "</ol>\n"
      ],
      "text/latex": [
       "\\begin{enumerate*}\n",
       "\\item TRUE\n",
       "\\item FALSE\n",
       "\\item FALSE\n",
       "\\item TRUE\n",
       "\\item FALSE\n",
       "\\item FALSE\n",
       "\\item TRUE\n",
       "\\item FALSE\n",
       "\\item FALSE\n",
       "\\item TRUE\n",
       "\\end{enumerate*}\n"
      ],
      "text/markdown": [
       "1. TRUE\n",
       "2. FALSE\n",
       "3. FALSE\n",
       "4. TRUE\n",
       "5. FALSE\n",
       "6. FALSE\n",
       "7. TRUE\n",
       "8. FALSE\n",
       "9. FALSE\n",
       "10. TRUE\n",
       "\n",
       "\n"
      ],
      "text/plain": [
       " [1]  TRUE FALSE FALSE  TRUE FALSE FALSE  TRUE FALSE FALSE  TRUE"
      ]
     },
     "metadata": {},
     "output_type": "display_data"
    }
   ],
   "source": [
    "print(\"Elements of a, which are contained in b:\")\n",
    "a %in% b\n",
    "print(\"Elements of b, which are contained in a:\")\n",
    "b %in% a"
   ]
  },
  {
   "cell_type": "code",
   "execution_count": 9,
   "metadata": {},
   "outputs": [
    {
     "name": "stdout",
     "output_type": "stream",
     "text": [
      "[1] \"Unique elements of c:\"\n"
     ]
    },
    {
     "data": {
      "text/html": [
       "<ol class=list-inline>\n",
       "\t<li>1</li>\n",
       "\t<li>5</li>\n",
       "\t<li>8</li>\n",
       "</ol>\n"
      ],
      "text/latex": [
       "\\begin{enumerate*}\n",
       "\\item 1\n",
       "\\item 5\n",
       "\\item 8\n",
       "\\end{enumerate*}\n"
      ],
      "text/markdown": [
       "1. 1\n",
       "2. 5\n",
       "3. 8\n",
       "\n",
       "\n"
      ],
      "text/plain": [
       "[1] 1 5 8"
      ]
     },
     "metadata": {},
     "output_type": "display_data"
    },
    {
     "name": "stdout",
     "output_type": "stream",
     "text": [
      "[1] \"Union of a and b:\"\n"
     ]
    },
    {
     "data": {
      "text/html": [
       "<ol class=list-inline>\n",
       "\t<li>1</li>\n",
       "\t<li>4</li>\n",
       "\t<li>7</li>\n",
       "\t<li>10</li>\n",
       "\t<li>13</li>\n",
       "\t<li>16</li>\n",
       "\t<li>19</li>\n",
       "\t<li>2</li>\n",
       "\t<li>3</li>\n",
       "\t<li>5</li>\n",
       "\t<li>6</li>\n",
       "\t<li>8</li>\n",
       "\t<li>9</li>\n",
       "</ol>\n"
      ],
      "text/latex": [
       "\\begin{enumerate*}\n",
       "\\item 1\n",
       "\\item 4\n",
       "\\item 7\n",
       "\\item 10\n",
       "\\item 13\n",
       "\\item 16\n",
       "\\item 19\n",
       "\\item 2\n",
       "\\item 3\n",
       "\\item 5\n",
       "\\item 6\n",
       "\\item 8\n",
       "\\item 9\n",
       "\\end{enumerate*}\n"
      ],
      "text/markdown": [
       "1. 1\n",
       "2. 4\n",
       "3. 7\n",
       "4. 10\n",
       "5. 13\n",
       "6. 16\n",
       "7. 19\n",
       "8. 2\n",
       "9. 3\n",
       "10. 5\n",
       "11. 6\n",
       "12. 8\n",
       "13. 9\n",
       "\n",
       "\n"
      ],
      "text/plain": [
       " [1]  1  4  7 10 13 16 19  2  3  5  6  8  9"
      ]
     },
     "metadata": {},
     "output_type": "display_data"
    },
    {
     "name": "stdout",
     "output_type": "stream",
     "text": [
      "[1] \"Intersection of a and b:\"\n"
     ]
    },
    {
     "data": {
      "text/html": [
       "<ol class=list-inline>\n",
       "\t<li>1</li>\n",
       "\t<li>4</li>\n",
       "\t<li>7</li>\n",
       "\t<li>10</li>\n",
       "</ol>\n"
      ],
      "text/latex": [
       "\\begin{enumerate*}\n",
       "\\item 1\n",
       "\\item 4\n",
       "\\item 7\n",
       "\\item 10\n",
       "\\end{enumerate*}\n"
      ],
      "text/markdown": [
       "1. 1\n",
       "2. 4\n",
       "3. 7\n",
       "4. 10\n",
       "\n",
       "\n"
      ],
      "text/plain": [
       "[1]  1  4  7 10"
      ]
     },
     "metadata": {},
     "output_type": "display_data"
    },
    {
     "name": "stdout",
     "output_type": "stream",
     "text": [
      "[1] \"Elements, which are in b but not in a:\"\n"
     ]
    },
    {
     "data": {
      "text/html": [
       "<ol class=list-inline>\n",
       "\t<li>2</li>\n",
       "\t<li>3</li>\n",
       "\t<li>5</li>\n",
       "\t<li>6</li>\n",
       "\t<li>8</li>\n",
       "\t<li>9</li>\n",
       "</ol>\n"
      ],
      "text/latex": [
       "\\begin{enumerate*}\n",
       "\\item 2\n",
       "\\item 3\n",
       "\\item 5\n",
       "\\item 6\n",
       "\\item 8\n",
       "\\item 9\n",
       "\\end{enumerate*}\n"
      ],
      "text/markdown": [
       "1. 2\n",
       "2. 3\n",
       "3. 5\n",
       "4. 6\n",
       "5. 8\n",
       "6. 9\n",
       "\n",
       "\n"
      ],
      "text/plain": [
       "[1] 2 3 5 6 8 9"
      ]
     },
     "metadata": {},
     "output_type": "display_data"
    }
   ],
   "source": [
    "print(\"Unique elements of c:\")\n",
    "unique(c)\n",
    "print(\"Union of a and b:\")\n",
    "union(a,b)\n",
    "print(\"Intersection of a and b:\")\n",
    "intersect(a,b)\n",
    "print(\"Elements, which are in b but not in a:\")\n",
    "setdiff(b,a)"
   ]
  },
  {
   "cell_type": "markdown",
   "metadata": {},
   "source": [
    "### Sampling and sorting"
   ]
  },
  {
   "cell_type": "code",
   "execution_count": 10,
   "metadata": {},
   "outputs": [
    {
     "name": "stdout",
     "output_type": "stream",
     "text": [
      "[1] \"Sample 6 out of 48 without replacement:\"\n"
     ]
    },
    {
     "data": {
      "text/html": [
       "<ol class=list-inline>\n",
       "\t<li>10</li>\n",
       "\t<li>30</li>\n",
       "\t<li>41</li>\n",
       "\t<li>12</li>\n",
       "\t<li>27</li>\n",
       "\t<li>8</li>\n",
       "</ol>\n"
      ],
      "text/latex": [
       "\\begin{enumerate*}\n",
       "\\item 10\n",
       "\\item 30\n",
       "\\item 41\n",
       "\\item 12\n",
       "\\item 27\n",
       "\\item 8\n",
       "\\end{enumerate*}\n"
      ],
      "text/markdown": [
       "1. 10\n",
       "2. 30\n",
       "3. 41\n",
       "4. 12\n",
       "5. 27\n",
       "6. 8\n",
       "\n",
       "\n"
      ],
      "text/plain": [
       "[1] 10 30 41 12 27  8"
      ]
     },
     "metadata": {},
     "output_type": "display_data"
    },
    {
     "name": "stdout",
     "output_type": "stream",
     "text": [
      "[1] \"Sample 6 out of 48 with replacement:\"\n"
     ]
    },
    {
     "data": {
      "text/html": [
       "<ol class=list-inline>\n",
       "\t<li>18</li>\n",
       "\t<li>38</li>\n",
       "\t<li>5</li>\n",
       "\t<li>40</li>\n",
       "\t<li>36</li>\n",
       "\t<li>5</li>\n",
       "</ol>\n"
      ],
      "text/latex": [
       "\\begin{enumerate*}\n",
       "\\item 18\n",
       "\\item 38\n",
       "\\item 5\n",
       "\\item 40\n",
       "\\item 36\n",
       "\\item 5\n",
       "\\end{enumerate*}\n"
      ],
      "text/markdown": [
       "1. 18\n",
       "2. 38\n",
       "3. 5\n",
       "4. 40\n",
       "5. 36\n",
       "6. 5\n",
       "\n",
       "\n"
      ],
      "text/plain": [
       "[1] 18 38  5 40 36  5"
      ]
     },
     "metadata": {},
     "output_type": "display_data"
    }
   ],
   "source": [
    "d<-1:48\n",
    "set.seed(134)\n",
    "print(\"Sample 6 out of 48 without replacement:\")\n",
    "sample(d,6)\n",
    "print(\"Sample 6 out of 48 with replacement:\")\n",
    "sample(d,6,replace=T)"
   ]
  },
  {
   "cell_type": "code",
   "execution_count": 11,
   "metadata": {},
   "outputs": [
    {
     "name": "stdout",
     "output_type": "stream",
     "text": [
      "[1] \"Sample 15 out of 48 with replacement:\"\n"
     ]
    },
    {
     "data": {
      "text/html": [
       "<ol class=list-inline>\n",
       "\t<li>47</li>\n",
       "\t<li>34</li>\n",
       "\t<li>23</li>\n",
       "\t<li>27</li>\n",
       "\t<li>29</li>\n",
       "\t<li>42</li>\n",
       "\t<li>44</li>\n",
       "\t<li>26</li>\n",
       "\t<li>43</li>\n",
       "\t<li>28</li>\n",
       "\t<li>2</li>\n",
       "\t<li>6</li>\n",
       "\t<li>35</li>\n",
       "\t<li>21</li>\n",
       "\t<li>31</li>\n",
       "</ol>\n"
      ],
      "text/latex": [
       "\\begin{enumerate*}\n",
       "\\item 47\n",
       "\\item 34\n",
       "\\item 23\n",
       "\\item 27\n",
       "\\item 29\n",
       "\\item 42\n",
       "\\item 44\n",
       "\\item 26\n",
       "\\item 43\n",
       "\\item 28\n",
       "\\item 2\n",
       "\\item 6\n",
       "\\item 35\n",
       "\\item 21\n",
       "\\item 31\n",
       "\\end{enumerate*}\n"
      ],
      "text/markdown": [
       "1. 47\n",
       "2. 34\n",
       "3. 23\n",
       "4. 27\n",
       "5. 29\n",
       "6. 42\n",
       "7. 44\n",
       "8. 26\n",
       "9. 43\n",
       "10. 28\n",
       "11. 2\n",
       "12. 6\n",
       "13. 35\n",
       "14. 21\n",
       "15. 31\n",
       "\n",
       "\n"
      ],
      "text/plain": [
       " [1] 47 34 23 27 29 42 44 26 43 28  2  6 35 21 31"
      ]
     },
     "metadata": {},
     "output_type": "display_data"
    },
    {
     "name": "stdout",
     "output_type": "stream",
     "text": [
      "[1] \"Reverse order of elements:\"\n"
     ]
    },
    {
     "data": {
      "text/html": [
       "<ol class=list-inline>\n",
       "\t<li>31</li>\n",
       "\t<li>21</li>\n",
       "\t<li>35</li>\n",
       "\t<li>6</li>\n",
       "\t<li>2</li>\n",
       "\t<li>28</li>\n",
       "\t<li>43</li>\n",
       "\t<li>26</li>\n",
       "\t<li>44</li>\n",
       "\t<li>42</li>\n",
       "\t<li>29</li>\n",
       "\t<li>27</li>\n",
       "\t<li>23</li>\n",
       "\t<li>34</li>\n",
       "\t<li>47</li>\n",
       "</ol>\n"
      ],
      "text/latex": [
       "\\begin{enumerate*}\n",
       "\\item 31\n",
       "\\item 21\n",
       "\\item 35\n",
       "\\item 6\n",
       "\\item 2\n",
       "\\item 28\n",
       "\\item 43\n",
       "\\item 26\n",
       "\\item 44\n",
       "\\item 42\n",
       "\\item 29\n",
       "\\item 27\n",
       "\\item 23\n",
       "\\item 34\n",
       "\\item 47\n",
       "\\end{enumerate*}\n"
      ],
      "text/markdown": [
       "1. 31\n",
       "2. 21\n",
       "3. 35\n",
       "4. 6\n",
       "5. 2\n",
       "6. 28\n",
       "7. 43\n",
       "8. 26\n",
       "9. 44\n",
       "10. 42\n",
       "11. 29\n",
       "12. 27\n",
       "13. 23\n",
       "14. 34\n",
       "15. 47\n",
       "\n",
       "\n"
      ],
      "text/plain": [
       " [1] 31 21 35  6  2 28 43 26 44 42 29 27 23 34 47"
      ]
     },
     "metadata": {},
     "output_type": "display_data"
    },
    {
     "name": "stdout",
     "output_type": "stream",
     "text": [
      "[1] \"Sort sample in increasing order:\"\n"
     ]
    },
    {
     "data": {
      "text/html": [
       "<ol class=list-inline>\n",
       "\t<li>2</li>\n",
       "\t<li>6</li>\n",
       "\t<li>21</li>\n",
       "\t<li>23</li>\n",
       "\t<li>26</li>\n",
       "\t<li>27</li>\n",
       "\t<li>28</li>\n",
       "\t<li>29</li>\n",
       "\t<li>31</li>\n",
       "\t<li>34</li>\n",
       "\t<li>35</li>\n",
       "\t<li>42</li>\n",
       "\t<li>43</li>\n",
       "\t<li>44</li>\n",
       "\t<li>47</li>\n",
       "</ol>\n"
      ],
      "text/latex": [
       "\\begin{enumerate*}\n",
       "\\item 2\n",
       "\\item 6\n",
       "\\item 21\n",
       "\\item 23\n",
       "\\item 26\n",
       "\\item 27\n",
       "\\item 28\n",
       "\\item 29\n",
       "\\item 31\n",
       "\\item 34\n",
       "\\item 35\n",
       "\\item 42\n",
       "\\item 43\n",
       "\\item 44\n",
       "\\item 47\n",
       "\\end{enumerate*}\n"
      ],
      "text/markdown": [
       "1. 2\n",
       "2. 6\n",
       "3. 21\n",
       "4. 23\n",
       "5. 26\n",
       "6. 27\n",
       "7. 28\n",
       "8. 29\n",
       "9. 31\n",
       "10. 34\n",
       "11. 35\n",
       "12. 42\n",
       "13. 43\n",
       "14. 44\n",
       "15. 47\n",
       "\n",
       "\n"
      ],
      "text/plain": [
       " [1]  2  6 21 23 26 27 28 29 31 34 35 42 43 44 47"
      ]
     },
     "metadata": {},
     "output_type": "display_data"
    },
    {
     "name": "stdout",
     "output_type": "stream",
     "text": [
      "[1] \"Sort sample in decreasing order:\"\n"
     ]
    },
    {
     "data": {
      "text/html": [
       "<ol class=list-inline>\n",
       "\t<li>47</li>\n",
       "\t<li>44</li>\n",
       "\t<li>43</li>\n",
       "\t<li>42</li>\n",
       "\t<li>35</li>\n",
       "\t<li>34</li>\n",
       "\t<li>31</li>\n",
       "\t<li>29</li>\n",
       "\t<li>28</li>\n",
       "\t<li>27</li>\n",
       "\t<li>26</li>\n",
       "\t<li>23</li>\n",
       "\t<li>21</li>\n",
       "\t<li>6</li>\n",
       "\t<li>2</li>\n",
       "</ol>\n"
      ],
      "text/latex": [
       "\\begin{enumerate*}\n",
       "\\item 47\n",
       "\\item 44\n",
       "\\item 43\n",
       "\\item 42\n",
       "\\item 35\n",
       "\\item 34\n",
       "\\item 31\n",
       "\\item 29\n",
       "\\item 28\n",
       "\\item 27\n",
       "\\item 26\n",
       "\\item 23\n",
       "\\item 21\n",
       "\\item 6\n",
       "\\item 2\n",
       "\\end{enumerate*}\n"
      ],
      "text/markdown": [
       "1. 47\n",
       "2. 44\n",
       "3. 43\n",
       "4. 42\n",
       "5. 35\n",
       "6. 34\n",
       "7. 31\n",
       "8. 29\n",
       "9. 28\n",
       "10. 27\n",
       "11. 26\n",
       "12. 23\n",
       "13. 21\n",
       "14. 6\n",
       "15. 2\n",
       "\n",
       "\n"
      ],
      "text/plain": [
       " [1] 47 44 43 42 35 34 31 29 28 27 26 23 21  6  2"
      ]
     },
     "metadata": {},
     "output_type": "display_data"
    },
    {
     "name": "stdout",
     "output_type": "stream",
     "text": [
      "[1] \"Original position of items in increasing order\"\n"
     ]
    },
    {
     "data": {
      "text/html": [
       "<ol class=list-inline>\n",
       "\t<li>11</li>\n",
       "\t<li>12</li>\n",
       "\t<li>14</li>\n",
       "\t<li>3</li>\n",
       "\t<li>8</li>\n",
       "\t<li>4</li>\n",
       "\t<li>10</li>\n",
       "\t<li>5</li>\n",
       "\t<li>15</li>\n",
       "\t<li>2</li>\n",
       "\t<li>13</li>\n",
       "\t<li>6</li>\n",
       "\t<li>9</li>\n",
       "\t<li>7</li>\n",
       "\t<li>1</li>\n",
       "</ol>\n"
      ],
      "text/latex": [
       "\\begin{enumerate*}\n",
       "\\item 11\n",
       "\\item 12\n",
       "\\item 14\n",
       "\\item 3\n",
       "\\item 8\n",
       "\\item 4\n",
       "\\item 10\n",
       "\\item 5\n",
       "\\item 15\n",
       "\\item 2\n",
       "\\item 13\n",
       "\\item 6\n",
       "\\item 9\n",
       "\\item 7\n",
       "\\item 1\n",
       "\\end{enumerate*}\n"
      ],
      "text/markdown": [
       "1. 11\n",
       "2. 12\n",
       "3. 14\n",
       "4. 3\n",
       "5. 8\n",
       "6. 4\n",
       "7. 10\n",
       "8. 5\n",
       "9. 15\n",
       "10. 2\n",
       "11. 13\n",
       "12. 6\n",
       "13. 9\n",
       "14. 7\n",
       "15. 1\n",
       "\n",
       "\n"
      ],
      "text/plain": [
       " [1] 11 12 14  3  8  4 10  5 15  2 13  6  9  7  1"
      ]
     },
     "metadata": {},
     "output_type": "display_data"
    },
    {
     "name": "stdout",
     "output_type": "stream",
     "text": [
      "[1] \"Sort sample via order-function (same result as above):\"\n"
     ]
    },
    {
     "data": {
      "text/html": [
       "<ol class=list-inline>\n",
       "\t<li>2</li>\n",
       "\t<li>6</li>\n",
       "\t<li>21</li>\n",
       "\t<li>23</li>\n",
       "\t<li>26</li>\n",
       "\t<li>27</li>\n",
       "\t<li>28</li>\n",
       "\t<li>29</li>\n",
       "\t<li>31</li>\n",
       "\t<li>34</li>\n",
       "\t<li>35</li>\n",
       "\t<li>42</li>\n",
       "\t<li>43</li>\n",
       "\t<li>44</li>\n",
       "\t<li>47</li>\n",
       "</ol>\n"
      ],
      "text/latex": [
       "\\begin{enumerate*}\n",
       "\\item 2\n",
       "\\item 6\n",
       "\\item 21\n",
       "\\item 23\n",
       "\\item 26\n",
       "\\item 27\n",
       "\\item 28\n",
       "\\item 29\n",
       "\\item 31\n",
       "\\item 34\n",
       "\\item 35\n",
       "\\item 42\n",
       "\\item 43\n",
       "\\item 44\n",
       "\\item 47\n",
       "\\end{enumerate*}\n"
      ],
      "text/markdown": [
       "1. 2\n",
       "2. 6\n",
       "3. 21\n",
       "4. 23\n",
       "5. 26\n",
       "6. 27\n",
       "7. 28\n",
       "8. 29\n",
       "9. 31\n",
       "10. 34\n",
       "11. 35\n",
       "12. 42\n",
       "13. 43\n",
       "14. 44\n",
       "15. 47\n",
       "\n",
       "\n"
      ],
      "text/plain": [
       " [1]  2  6 21 23 26 27 28 29 31 34 35 42 43 44 47"
      ]
     },
     "metadata": {},
     "output_type": "display_data"
    }
   ],
   "source": [
    "s<-sample(d,15,replace=T)\n",
    "print(\"Sample 15 out of 48 with replacement:\")\n",
    "s\n",
    "print(\"Reverse order of elements:\")\n",
    "rev(s)\n",
    "print(\"Sort sample in increasing order:\")\n",
    "sort(s)\n",
    "print(\"Sort sample in decreasing order:\")\n",
    "sort(s,decreasing=T)\n",
    "print(\"Original position of items in increasing order\")\n",
    "order(s)\n",
    "print(\"Sort sample via order-function (same result as above):\")\n",
    "s[order(s)]\n"
   ]
  },
  {
   "cell_type": "markdown",
   "metadata": {},
   "source": [
    "## Matrices\n",
    "In R a matrix is a 2-dimensional collection of elements. All elements must be of the same basic type.\n",
    "\n",
    "### Matrix construction 1"
   ]
  },
  {
   "cell_type": "code",
   "execution_count": 12,
   "metadata": {
    "ExecuteTime": {
     "end_time": "2017-03-05T09:06:29.225517",
     "start_time": "2017-03-05T08:06:28.845Z"
    }
   },
   "outputs": [
    {
     "data": {
      "text/html": [
       "20"
      ],
      "text/latex": [
       "20"
      ],
      "text/markdown": [
       "20"
      ],
      "text/plain": [
       "[1] 20"
      ]
     },
     "metadata": {},
     "output_type": "display_data"
    }
   ],
   "source": [
    "vec <- 20:39\n",
    "length(vec)"
   ]
  },
  {
   "cell_type": "code",
   "execution_count": 13,
   "metadata": {
    "ExecuteTime": {
     "end_time": "2017-03-05T09:06:29.261407",
     "start_time": "2017-03-05T08:06:28.850Z"
    }
   },
   "outputs": [
    {
     "data": {
      "text/html": [
       "<table>\n",
       "<tbody>\n",
       "\t<tr><td>20</td><td>24</td><td>28</td><td>32</td><td>36</td></tr>\n",
       "\t<tr><td>21</td><td>25</td><td>29</td><td>33</td><td>37</td></tr>\n",
       "\t<tr><td>22</td><td>26</td><td>30</td><td>34</td><td>38</td></tr>\n",
       "\t<tr><td>23</td><td>27</td><td>31</td><td>35</td><td>39</td></tr>\n",
       "</tbody>\n",
       "</table>\n"
      ],
      "text/latex": [
       "\\begin{tabular}{lllll}\n",
       "\t 20 & 24 & 28 & 32 & 36\\\\\n",
       "\t 21 & 25 & 29 & 33 & 37\\\\\n",
       "\t 22 & 26 & 30 & 34 & 38\\\\\n",
       "\t 23 & 27 & 31 & 35 & 39\\\\\n",
       "\\end{tabular}\n"
      ],
      "text/markdown": [
       "\n",
       "| 20 | 24 | 28 | 32 | 36 | \n",
       "| 21 | 25 | 29 | 33 | 37 | \n",
       "| 22 | 26 | 30 | 34 | 38 | \n",
       "| 23 | 27 | 31 | 35 | 39 | \n",
       "\n",
       "\n"
      ],
      "text/plain": [
       "     [,1] [,2] [,3] [,4] [,5]\n",
       "[1,] 20   24   28   32   36  \n",
       "[2,] 21   25   29   33   37  \n",
       "[3,] 22   26   30   34   38  \n",
       "[4,] 23   27   31   35   39  "
      ]
     },
     "metadata": {},
     "output_type": "display_data"
    }
   ],
   "source": [
    "matC <- matrix(vec,nrow=4,ncol=5)\n",
    "matC"
   ]
  },
  {
   "cell_type": "code",
   "execution_count": 14,
   "metadata": {
    "ExecuteTime": {
     "end_time": "2017-03-05T09:06:29.296505",
     "start_time": "2017-03-05T08:06:28.853Z"
    }
   },
   "outputs": [
    {
     "data": {
      "text/html": [
       "<table>\n",
       "<tbody>\n",
       "\t<tr><td>20</td><td>21</td><td>22</td><td>23</td><td>24</td></tr>\n",
       "\t<tr><td>25</td><td>26</td><td>27</td><td>28</td><td>29</td></tr>\n",
       "\t<tr><td>30</td><td>31</td><td>32</td><td>33</td><td>34</td></tr>\n",
       "\t<tr><td>35</td><td>36</td><td>37</td><td>38</td><td>39</td></tr>\n",
       "</tbody>\n",
       "</table>\n"
      ],
      "text/latex": [
       "\\begin{tabular}{lllll}\n",
       "\t 20 & 21 & 22 & 23 & 24\\\\\n",
       "\t 25 & 26 & 27 & 28 & 29\\\\\n",
       "\t 30 & 31 & 32 & 33 & 34\\\\\n",
       "\t 35 & 36 & 37 & 38 & 39\\\\\n",
       "\\end{tabular}\n"
      ],
      "text/markdown": [
       "\n",
       "| 20 | 21 | 22 | 23 | 24 | \n",
       "| 25 | 26 | 27 | 28 | 29 | \n",
       "| 30 | 31 | 32 | 33 | 34 | \n",
       "| 35 | 36 | 37 | 38 | 39 | \n",
       "\n",
       "\n"
      ],
      "text/plain": [
       "     [,1] [,2] [,3] [,4] [,5]\n",
       "[1,] 20   21   22   23   24  \n",
       "[2,] 25   26   27   28   29  \n",
       "[3,] 30   31   32   33   34  \n",
       "[4,] 35   36   37   38   39  "
      ]
     },
     "metadata": {},
     "output_type": "display_data"
    }
   ],
   "source": [
    "matR <- matrix(vec,nrow=4,ncol=5,byrow = TRUE)\n",
    "matR"
   ]
  },
  {
   "cell_type": "code",
   "execution_count": 15,
   "metadata": {
    "ExecuteTime": {
     "end_time": "2017-03-05T09:06:29.332080",
     "start_time": "2017-03-05T08:06:28.856Z"
    }
   },
   "outputs": [
    {
     "data": {
      "text/html": [
       "<table>\n",
       "<tbody>\n",
       "\t<tr><td>20</td><td>24</td><td>28</td><td>32</td><td>36</td><td>20</td><td>24</td><td>28</td><td>32</td><td>36</td></tr>\n",
       "\t<tr><td>21</td><td>25</td><td>29</td><td>33</td><td>37</td><td>21</td><td>25</td><td>29</td><td>33</td><td>37</td></tr>\n",
       "\t<tr><td>22</td><td>26</td><td>30</td><td>34</td><td>38</td><td>22</td><td>26</td><td>30</td><td>34</td><td>38</td></tr>\n",
       "\t<tr><td>23</td><td>27</td><td>31</td><td>35</td><td>39</td><td>23</td><td>27</td><td>31</td><td>35</td><td>39</td></tr>\n",
       "</tbody>\n",
       "</table>\n"
      ],
      "text/latex": [
       "\\begin{tabular}{llllllllll}\n",
       "\t 20 & 24 & 28 & 32 & 36 & 20 & 24 & 28 & 32 & 36\\\\\n",
       "\t 21 & 25 & 29 & 33 & 37 & 21 & 25 & 29 & 33 & 37\\\\\n",
       "\t 22 & 26 & 30 & 34 & 38 & 22 & 26 & 30 & 34 & 38\\\\\n",
       "\t 23 & 27 & 31 & 35 & 39 & 23 & 27 & 31 & 35 & 39\\\\\n",
       "\\end{tabular}\n"
      ],
      "text/markdown": [
       "\n",
       "| 20 | 24 | 28 | 32 | 36 | 20 | 24 | 28 | 32 | 36 | \n",
       "| 21 | 25 | 29 | 33 | 37 | 21 | 25 | 29 | 33 | 37 | \n",
       "| 22 | 26 | 30 | 34 | 38 | 22 | 26 | 30 | 34 | 38 | \n",
       "| 23 | 27 | 31 | 35 | 39 | 23 | 27 | 31 | 35 | 39 | \n",
       "\n",
       "\n"
      ],
      "text/plain": [
       "     [,1] [,2] [,3] [,4] [,5] [,6] [,7] [,8] [,9] [,10]\n",
       "[1,] 20   24   28   32   36   20   24   28   32   36   \n",
       "[2,] 21   25   29   33   37   21   25   29   33   37   \n",
       "[3,] 22   26   30   34   38   22   26   30   34   38   \n",
       "[4,] 23   27   31   35   39   23   27   31   35   39   "
      ]
     },
     "metadata": {},
     "output_type": "display_data"
    }
   ],
   "source": [
    "matO <- matrix(vec,nrow=4,ncol=10)\n",
    "matO"
   ]
  },
  {
   "cell_type": "code",
   "execution_count": 16,
   "metadata": {
    "ExecuteTime": {
     "end_time": "2017-03-05T09:06:29.383985",
     "start_time": "2017-03-05T08:06:28.859Z"
    }
   },
   "outputs": [
    {
     "name": "stderr",
     "output_type": "stream",
     "text": [
      "Warning message in matrix(vec, nrow = 4, ncol = 3):\n",
      "\"Datenlänge [20] ist kein Teiler oder Vielfaches der Anzahl der Spalten [3]\""
     ]
    },
    {
     "data": {
      "text/html": [
       "<table>\n",
       "<tbody>\n",
       "\t<tr><td>20</td><td>24</td><td>28</td></tr>\n",
       "\t<tr><td>21</td><td>25</td><td>29</td></tr>\n",
       "\t<tr><td>22</td><td>26</td><td>30</td></tr>\n",
       "\t<tr><td>23</td><td>27</td><td>31</td></tr>\n",
       "</tbody>\n",
       "</table>\n"
      ],
      "text/latex": [
       "\\begin{tabular}{lll}\n",
       "\t 20 & 24 & 28\\\\\n",
       "\t 21 & 25 & 29\\\\\n",
       "\t 22 & 26 & 30\\\\\n",
       "\t 23 & 27 & 31\\\\\n",
       "\\end{tabular}\n"
      ],
      "text/markdown": [
       "\n",
       "| 20 | 24 | 28 | \n",
       "| 21 | 25 | 29 | \n",
       "| 22 | 26 | 30 | \n",
       "| 23 | 27 | 31 | \n",
       "\n",
       "\n"
      ],
      "text/plain": [
       "     [,1] [,2] [,3]\n",
       "[1,] 20   24   28  \n",
       "[2,] 21   25   29  \n",
       "[3,] 22   26   30  \n",
       "[4,] 23   27   31  "
      ]
     },
     "metadata": {},
     "output_type": "display_data"
    }
   ],
   "source": [
    "matP<- matrix(vec,nrow=4,ncol=3)\n",
    "matP"
   ]
  },
  {
   "cell_type": "markdown",
   "metadata": {},
   "source": [
    "### Accessing matrix elements"
   ]
  },
  {
   "cell_type": "code",
   "execution_count": 17,
   "metadata": {
    "ExecuteTime": {
     "end_time": "2017-03-05T09:06:29.477901",
     "start_time": "2017-03-05T08:06:28.863Z"
    }
   },
   "outputs": [
    {
     "data": {
      "text/html": [
       "28"
      ],
      "text/latex": [
       "28"
      ],
      "text/markdown": [
       "28"
      ],
      "text/plain": [
       "[1] 28"
      ]
     },
     "metadata": {},
     "output_type": "display_data"
    },
    {
     "data": {
      "text/html": [
       "<table>\n",
       "<tbody>\n",
       "\t<tr><td>22</td><td>23</td><td>24</td></tr>\n",
       "\t<tr><td>27</td><td>28</td><td>29</td></tr>\n",
       "</tbody>\n",
       "</table>\n"
      ],
      "text/latex": [
       "\\begin{tabular}{lll}\n",
       "\t 22 & 23 & 24\\\\\n",
       "\t 27 & 28 & 29\\\\\n",
       "\\end{tabular}\n"
      ],
      "text/markdown": [
       "\n",
       "| 22 | 23 | 24 | \n",
       "| 27 | 28 | 29 | \n",
       "\n",
       "\n"
      ],
      "text/plain": [
       "     [,1] [,2] [,3]\n",
       "[1,] 22   23   24  \n",
       "[2,] 27   28   29  "
      ]
     },
     "metadata": {},
     "output_type": "display_data"
    },
    {
     "data": {
      "text/html": [
       "<table>\n",
       "<tbody>\n",
       "\t<tr><td>20</td><td>22</td><td>23</td></tr>\n",
       "\t<tr><td>25</td><td>27</td><td>28</td></tr>\n",
       "</tbody>\n",
       "</table>\n"
      ],
      "text/latex": [
       "\\begin{tabular}{lll}\n",
       "\t 20 & 22 & 23\\\\\n",
       "\t 25 & 27 & 28\\\\\n",
       "\\end{tabular}\n"
      ],
      "text/markdown": [
       "\n",
       "| 20 | 22 | 23 | \n",
       "| 25 | 27 | 28 | \n",
       "\n",
       "\n"
      ],
      "text/plain": [
       "     [,1] [,2] [,3]\n",
       "[1,] 20   22   23  \n",
       "[2,] 25   27   28  "
      ]
     },
     "metadata": {},
     "output_type": "display_data"
    },
    {
     "data": {
      "text/html": [
       "<ol class=list-inline>\n",
       "\t<li>21</li>\n",
       "\t<li>26</li>\n",
       "\t<li>31</li>\n",
       "\t<li>36</li>\n",
       "</ol>\n"
      ],
      "text/latex": [
       "\\begin{enumerate*}\n",
       "\\item 21\n",
       "\\item 26\n",
       "\\item 31\n",
       "\\item 36\n",
       "\\end{enumerate*}\n"
      ],
      "text/markdown": [
       "1. 21\n",
       "2. 26\n",
       "3. 31\n",
       "4. 36\n",
       "\n",
       "\n"
      ],
      "text/plain": [
       "[1] 21 26 31 36"
      ]
     },
     "metadata": {},
     "output_type": "display_data"
    },
    {
     "data": {
      "text/html": [
       "<ol class=list-inline>\n",
       "\t<li>30</li>\n",
       "\t<li>31</li>\n",
       "\t<li>32</li>\n",
       "\t<li>33</li>\n",
       "\t<li>34</li>\n",
       "</ol>\n"
      ],
      "text/latex": [
       "\\begin{enumerate*}\n",
       "\\item 30\n",
       "\\item 31\n",
       "\\item 32\n",
       "\\item 33\n",
       "\\item 34\n",
       "\\end{enumerate*}\n"
      ],
      "text/markdown": [
       "1. 30\n",
       "2. 31\n",
       "3. 32\n",
       "4. 33\n",
       "5. 34\n",
       "\n",
       "\n"
      ],
      "text/plain": [
       "[1] 30 31 32 33 34"
      ]
     },
     "metadata": {},
     "output_type": "display_data"
    },
    {
     "data": {
      "text/html": [
       "<table>\n",
       "<tbody>\n",
       "\t<tr><td>35</td><td>36</td><td>37</td><td>38</td><td>39</td></tr>\n",
       "\t<tr><td>20</td><td>21</td><td>22</td><td>23</td><td>24</td></tr>\n",
       "</tbody>\n",
       "</table>\n"
      ],
      "text/latex": [
       "\\begin{tabular}{lllll}\n",
       "\t 35 & 36 & 37 & 38 & 39\\\\\n",
       "\t 20 & 21 & 22 & 23 & 24\\\\\n",
       "\\end{tabular}\n"
      ],
      "text/markdown": [
       "\n",
       "| 35 | 36 | 37 | 38 | 39 | \n",
       "| 20 | 21 | 22 | 23 | 24 | \n",
       "\n",
       "\n"
      ],
      "text/plain": [
       "     [,1] [,2] [,3] [,4] [,5]\n",
       "[1,] 35   36   37   38   39  \n",
       "[2,] 20   21   22   23   24  "
      ]
     },
     "metadata": {},
     "output_type": "display_data"
    }
   ],
   "source": [
    "matR[2,4]\n",
    "matR[1:2,3:5]\n",
    "matR[1:2,c(1,3,4)]\n",
    "matR[,2]\n",
    "matR[3,]\n",
    "matR[c(4,1),]"
   ]
  },
  {
   "cell_type": "code",
   "execution_count": 18,
   "metadata": {
    "ExecuteTime": {
     "end_time": "2017-03-05T09:06:29.501161",
     "start_time": "2017-03-05T08:06:28.866Z"
    }
   },
   "outputs": [
    {
     "name": "stdout",
     "output_type": "stream",
     "text": [
      "     [,1] [,2] [,3] [,4] [,5]\n",
      "[1,]   20   21   22   23   24\n",
      "[2,]   25   26   27   28   29\n",
      "[3,]   30   31   32   33   34\n",
      "[4,]   35   36   37   38   39\n"
     ]
    }
   ],
   "source": [
    "print(matR)"
   ]
  },
  {
   "cell_type": "markdown",
   "metadata": {},
   "source": [
    "### Define row- and column-names"
   ]
  },
  {
   "cell_type": "code",
   "execution_count": 19,
   "metadata": {
    "ExecuteTime": {
     "end_time": "2017-03-05T09:06:29.528404",
     "start_time": "2017-03-05T08:06:28.869Z"
    }
   },
   "outputs": [
    {
     "name": "stdout",
     "output_type": "stream",
     "text": [
      "   c1 c2 c3 c4 c5\n",
      "r1 20 21 22 23 24\n",
      "r2 25 26 27 28 29\n",
      "r3 30 31 32 33 34\n",
      "r4 35 36 37 38 39\n"
     ]
    }
   ],
   "source": [
    "dimnames(matR) <- list(c(\"r1\",\"r2\",\"r3\",\"r4\"),c(\"c1\",\"c2\",\"c3\",\"c4\",\"c5\"))\n",
    "print(matR)"
   ]
  },
  {
   "cell_type": "code",
   "execution_count": 20,
   "metadata": {
    "ExecuteTime": {
     "end_time": "2017-03-05T09:06:29.555049",
     "start_time": "2017-03-05T08:06:28.873Z"
    }
   },
   "outputs": [
    {
     "data": {
      "text/html": [
       "22"
      ],
      "text/latex": [
       "22"
      ],
      "text/markdown": [
       "22"
      ],
      "text/plain": [
       "[1] 22"
      ]
     },
     "metadata": {},
     "output_type": "display_data"
    }
   ],
   "source": [
    "matR[\"r1\",\"c3\"]"
   ]
  },
  {
   "cell_type": "markdown",
   "metadata": {},
   "source": [
    "### Matrix construction 2\n",
    "Combine matrices horizontally by *rbind( )* and vertically by *cbind( )*. "
   ]
  },
  {
   "cell_type": "code",
   "execution_count": 21,
   "metadata": {
    "ExecuteTime": {
     "end_time": "2017-03-05T09:06:29.596641",
     "start_time": "2017-03-05T08:06:28.876Z"
    }
   },
   "outputs": [
    {
     "data": {
      "text/html": [
       "<dl class=dl-horizontal>\n",
       "\t<dt>age</dt>\n",
       "\t\t<dd>37</dd>\n",
       "\t<dt>income</dt>\n",
       "\t\t<dd>61000</dd>\n",
       "\t<dt>capital</dt>\n",
       "\t\t<dd>250000</dd>\n",
       "\t<dt>credit</dt>\n",
       "\t\t<dd>70000</dd>\n",
       "</dl>\n"
      ],
      "text/latex": [
       "\\begin{description*}\n",
       "\\item[age] 37\n",
       "\\item[income] 61000\n",
       "\\item[capital] 250000\n",
       "\\item[credit] 70000\n",
       "\\end{description*}\n"
      ],
      "text/markdown": [
       "age\n",
       ":   37income\n",
       ":   61000capital\n",
       ":   250000credit\n",
       ":   70000\n",
       "\n"
      ],
      "text/plain": [
       "    age  income capital  credit \n",
       "     37   61000  250000   70000 "
      ]
     },
     "metadata": {},
     "output_type": "display_data"
    }
   ],
   "source": [
    "customer <- c(37,61000,250000,70000)\n",
    "featureNames <- c(\"age\",\"income\",\"capital\",\"credit\")\n",
    "names(customer) <- featureNames\n",
    "customer"
   ]
  },
  {
   "cell_type": "code",
   "execution_count": 22,
   "metadata": {
    "ExecuteTime": {
     "end_time": "2017-03-05T09:13:06.051891",
     "start_time": "2017-03-05T08:13:06.025Z"
    }
   },
   "outputs": [
    {
     "name": "stdout",
     "output_type": "stream",
     "text": [
      "     [,1]  [,2]   [,3]  [,4]\n",
      "[1,]   37 61000 250000 70000\n"
     ]
    }
   ],
   "source": [
    "custMat <- matrix(customer,nrow=1,ncol=4,byrow = TRUE)\n",
    "print(custMat)"
   ]
  },
  {
   "cell_type": "code",
   "execution_count": 23,
   "metadata": {
    "ExecuteTime": {
     "end_time": "2017-03-05T09:13:18.101180",
     "start_time": "2017-03-05T08:13:18.058Z"
    }
   },
   "outputs": [
    {
     "data": {
      "text/html": [
       "<dl class=dl-horizontal>\n",
       "\t<dt>age</dt>\n",
       "\t\t<dd>51</dd>\n",
       "\t<dt>income</dt>\n",
       "\t\t<dd>134600</dd>\n",
       "\t<dt>capital</dt>\n",
       "\t\t<dd>750000</dd>\n",
       "\t<dt>credit</dt>\n",
       "\t\t<dd>90000</dd>\n",
       "</dl>\n"
      ],
      "text/latex": [
       "\\begin{description*}\n",
       "\\item[age] 51\n",
       "\\item[income] 134600\n",
       "\\item[capital] 750000\n",
       "\\item[credit] 90000\n",
       "\\end{description*}\n"
      ],
      "text/markdown": [
       "age\n",
       ":   51income\n",
       ":   134600capital\n",
       ":   750000credit\n",
       ":   90000\n",
       "\n"
      ],
      "text/plain": [
       "    age  income capital  credit \n",
       "     51  134600  750000   90000 "
      ]
     },
     "metadata": {},
     "output_type": "display_data"
    }
   ],
   "source": [
    "customer2 <- c(51,134600,750000,90000)\n",
    "featureNames <- c(\"age\",\"income\",\"capital\",\"credit\")\n",
    "names(customer2) <- featureNames\n",
    "customer2\n",
    "custMat2 <- matrix(customer2,nrow=1,ncol=4,byrow = TRUE)"
   ]
  },
  {
   "cell_type": "code",
   "execution_count": 24,
   "metadata": {
    "ExecuteTime": {
     "end_time": "2017-03-05T09:14:02.056312",
     "start_time": "2017-03-05T08:14:02.030Z"
    }
   },
   "outputs": [
    {
     "name": "stdout",
     "output_type": "stream",
     "text": [
      "     [,1]   [,2]   [,3]  [,4]\n",
      "[1,]   37  61000 250000 70000\n",
      "[2,]   51 134600 750000 90000\n"
     ]
    }
   ],
   "source": [
    "allCust <- rbind(custMat,custMat2)\n",
    "print(allCust)"
   ]
  },
  {
   "cell_type": "code",
   "execution_count": 25,
   "metadata": {
    "ExecuteTime": {
     "end_time": "2017-03-05T09:14:18.859848",
     "start_time": "2017-03-05T08:14:18.825Z"
    }
   },
   "outputs": [
    {
     "name": "stdout",
     "output_type": "stream",
     "text": [
      "     [,1]   [,2]   [,3]  [,4]\n",
      "[1,]   37  61000 250000 70000\n",
      "[2,]   51 134600 750000 90000\n",
      "[3,]   37  61000 250000 70000\n",
      "[4,]   51 134600 750000 90000\n"
     ]
    }
   ],
   "source": [
    "allCust <- rbind(allCust,allCust)\n",
    "print(allCust)"
   ]
  },
  {
   "cell_type": "markdown",
   "metadata": {},
   "source": [
    "Serialization of a matrix, column-by-column:"
   ]
  },
  {
   "cell_type": "code",
   "execution_count": 26,
   "metadata": {
    "ExecuteTime": {
     "end_time": "2017-03-05T09:14:36.693306",
     "start_time": "2017-03-05T08:14:36.660Z"
    }
   },
   "outputs": [
    {
     "data": {
      "text/html": [
       "<ol class=list-inline>\n",
       "\t<li>37</li>\n",
       "\t<li>51</li>\n",
       "\t<li>37</li>\n",
       "\t<li>51</li>\n",
       "\t<li>61000</li>\n",
       "\t<li>134600</li>\n",
       "\t<li>61000</li>\n",
       "\t<li>134600</li>\n",
       "\t<li>250000</li>\n",
       "\t<li>750000</li>\n",
       "\t<li>250000</li>\n",
       "\t<li>750000</li>\n",
       "\t<li>70000</li>\n",
       "\t<li>90000</li>\n",
       "\t<li>70000</li>\n",
       "\t<li>90000</li>\n",
       "</ol>\n"
      ],
      "text/latex": [
       "\\begin{enumerate*}\n",
       "\\item 37\n",
       "\\item 51\n",
       "\\item 37\n",
       "\\item 51\n",
       "\\item 61000\n",
       "\\item 134600\n",
       "\\item 61000\n",
       "\\item 134600\n",
       "\\item 250000\n",
       "\\item 750000\n",
       "\\item 250000\n",
       "\\item 750000\n",
       "\\item 70000\n",
       "\\item 90000\n",
       "\\item 70000\n",
       "\\item 90000\n",
       "\\end{enumerate*}\n"
      ],
      "text/markdown": [
       "1. 37\n",
       "2. 51\n",
       "3. 37\n",
       "4. 51\n",
       "5. 61000\n",
       "6. 134600\n",
       "7. 61000\n",
       "8. 134600\n",
       "9. 250000\n",
       "10. 750000\n",
       "11. 250000\n",
       "12. 750000\n",
       "13. 70000\n",
       "14. 90000\n",
       "15. 70000\n",
       "16. 90000\n",
       "\n",
       "\n"
      ],
      "text/plain": [
       " [1]     37     51     37     51  61000 134600  61000 134600 250000 750000\n",
       "[11] 250000 750000  70000  90000  70000  90000"
      ]
     },
     "metadata": {},
     "output_type": "display_data"
    }
   ],
   "source": [
    "c(allCust)"
   ]
  },
  {
   "cell_type": "markdown",
   "metadata": {},
   "source": [
    "### Operations on matrices\n",
    "\n",
    "Define some matrices for demonstration of matrix-operations:"
   ]
  },
  {
   "cell_type": "code",
   "execution_count": 27,
   "metadata": {
    "run_control": {
     "marked": false
    },
    "scrolled": true
   },
   "outputs": [
    {
     "data": {
      "text/html": [
       "<table>\n",
       "<tbody>\n",
       "\t<tr><td>1</td><td>3</td><td>5</td></tr>\n",
       "\t<tr><td>2</td><td>4</td><td>6</td></tr>\n",
       "</tbody>\n",
       "</table>\n"
      ],
      "text/latex": [
       "\\begin{tabular}{lll}\n",
       "\t 1 & 3 & 5\\\\\n",
       "\t 2 & 4 & 6\\\\\n",
       "\\end{tabular}\n"
      ],
      "text/markdown": [
       "\n",
       "| 1 | 3 | 5 | \n",
       "| 2 | 4 | 6 | \n",
       "\n",
       "\n"
      ],
      "text/plain": [
       "     [,1] [,2] [,3]\n",
       "[1,] 1    3    5   \n",
       "[2,] 2    4    6   "
      ]
     },
     "metadata": {},
     "output_type": "display_data"
    }
   ],
   "source": [
    "(A<-matrix(seq(1,6),nrow=2,ncol=3))"
   ]
  },
  {
   "cell_type": "code",
   "execution_count": 28,
   "metadata": {
    "run_control": {
     "marked": false
    },
    "scrolled": true
   },
   "outputs": [
    {
     "data": {
      "text/html": [
       "<table>\n",
       "<tbody>\n",
       "\t<tr><td>1</td><td>2</td><td>3</td></tr>\n",
       "\t<tr><td>4</td><td>5</td><td>6</td></tr>\n",
       "</tbody>\n",
       "</table>\n"
      ],
      "text/latex": [
       "\\begin{tabular}{lll}\n",
       "\t 1 & 2 & 3\\\\\n",
       "\t 4 & 5 & 6\\\\\n",
       "\\end{tabular}\n"
      ],
      "text/markdown": [
       "\n",
       "| 1 | 2 | 3 | \n",
       "| 4 | 5 | 6 | \n",
       "\n",
       "\n"
      ],
      "text/plain": [
       "     [,1] [,2] [,3]\n",
       "[1,] 1    2    3   \n",
       "[2,] 4    5    6   "
      ]
     },
     "metadata": {},
     "output_type": "display_data"
    }
   ],
   "source": [
    "(B<-matrix(seq(1,6),nrow=2,ncol=3,byrow = T))"
   ]
  },
  {
   "cell_type": "code",
   "execution_count": 29,
   "metadata": {
    "run_control": {
     "marked": false
    },
    "scrolled": true
   },
   "outputs": [
    {
     "data": {
      "text/html": [
       "<table>\n",
       "<tbody>\n",
       "\t<tr><td>1</td><td>2</td></tr>\n",
       "\t<tr><td>3</td><td>4</td></tr>\n",
       "\t<tr><td>5</td><td>6</td></tr>\n",
       "</tbody>\n",
       "</table>\n"
      ],
      "text/latex": [
       "\\begin{tabular}{ll}\n",
       "\t 1 & 2\\\\\n",
       "\t 3 & 4\\\\\n",
       "\t 5 & 6\\\\\n",
       "\\end{tabular}\n"
      ],
      "text/markdown": [
       "\n",
       "| 1 | 2 | \n",
       "| 3 | 4 | \n",
       "| 5 | 6 | \n",
       "\n",
       "\n"
      ],
      "text/plain": [
       "     [,1] [,2]\n",
       "[1,] 1    2   \n",
       "[2,] 3    4   \n",
       "[3,] 5    6   "
      ]
     },
     "metadata": {},
     "output_type": "display_data"
    }
   ],
   "source": [
    "(C<-matrix(seq(1,6),nrow=3,ncol=2,byrow = T))"
   ]
  },
  {
   "cell_type": "code",
   "execution_count": 30,
   "metadata": {},
   "outputs": [
    {
     "data": {
      "text/html": [
       "<table>\n",
       "<tbody>\n",
       "\t<tr><td>1</td><td>4</td><td>7</td></tr>\n",
       "\t<tr><td>2</td><td>5</td><td>8</td></tr>\n",
       "\t<tr><td>3</td><td>6</td><td>9</td></tr>\n",
       "</tbody>\n",
       "</table>\n"
      ],
      "text/latex": [
       "\\begin{tabular}{lll}\n",
       "\t 1 & 4 & 7\\\\\n",
       "\t 2 & 5 & 8\\\\\n",
       "\t 3 & 6 & 9\\\\\n",
       "\\end{tabular}\n"
      ],
      "text/markdown": [
       "\n",
       "| 1 | 4 | 7 | \n",
       "| 2 | 5 | 8 | \n",
       "| 3 | 6 | 9 | \n",
       "\n",
       "\n"
      ],
      "text/plain": [
       "     [,1] [,2] [,3]\n",
       "[1,] 1    4    7   \n",
       "[2,] 2    5    8   \n",
       "[3,] 3    6    9   "
      ]
     },
     "metadata": {},
     "output_type": "display_data"
    }
   ],
   "source": [
    "(D<-matrix(seq(1,9),nrow=3))"
   ]
  },
  {
   "cell_type": "markdown",
   "metadata": {},
   "source": [
    "#### Elementwise multiplication"
   ]
  },
  {
   "cell_type": "code",
   "execution_count": 31,
   "metadata": {},
   "outputs": [
    {
     "data": {
      "text/html": [
       "<table>\n",
       "<tbody>\n",
       "\t<tr><td>1 </td><td> 6</td><td>15</td></tr>\n",
       "\t<tr><td>8 </td><td>20</td><td>36</td></tr>\n",
       "</tbody>\n",
       "</table>\n"
      ],
      "text/latex": [
       "\\begin{tabular}{lll}\n",
       "\t 1  &  6 & 15\\\\\n",
       "\t 8  & 20 & 36\\\\\n",
       "\\end{tabular}\n"
      ],
      "text/markdown": [
       "\n",
       "| 1  |  6 | 15 | \n",
       "| 8  | 20 | 36 | \n",
       "\n",
       "\n"
      ],
      "text/plain": [
       "     [,1] [,2] [,3]\n",
       "[1,] 1     6   15  \n",
       "[2,] 8    20   36  "
      ]
     },
     "metadata": {},
     "output_type": "display_data"
    }
   ],
   "source": [
    "A*B"
   ]
  },
  {
   "cell_type": "markdown",
   "metadata": {},
   "source": [
    "#### Matrix multiplication"
   ]
  },
  {
   "cell_type": "code",
   "execution_count": 32,
   "metadata": {},
   "outputs": [
    {
     "data": {
      "text/html": [
       "<table>\n",
       "<tbody>\n",
       "\t<tr><td>35</td><td>44</td></tr>\n",
       "\t<tr><td>44</td><td>56</td></tr>\n",
       "</tbody>\n",
       "</table>\n"
      ],
      "text/latex": [
       "\\begin{tabular}{ll}\n",
       "\t 35 & 44\\\\\n",
       "\t 44 & 56\\\\\n",
       "\\end{tabular}\n"
      ],
      "text/markdown": [
       "\n",
       "| 35 | 44 | \n",
       "| 44 | 56 | \n",
       "\n",
       "\n"
      ],
      "text/plain": [
       "     [,1] [,2]\n",
       "[1,] 35   44  \n",
       "[2,] 44   56  "
      ]
     },
     "metadata": {},
     "output_type": "display_data"
    }
   ],
   "source": [
    "A %*% C"
   ]
  },
  {
   "cell_type": "markdown",
   "metadata": {},
   "source": [
    "#### Transpose of a matrix"
   ]
  },
  {
   "cell_type": "code",
   "execution_count": 33,
   "metadata": {
    "ExecuteTime": {
     "end_time": "2017-03-05T09:14:52.958931",
     "start_time": "2017-03-05T08:14:52.906Z"
    }
   },
   "outputs": [
    {
     "data": {
      "text/html": [
       "<table>\n",
       "<tbody>\n",
       "\t<tr><td>1</td><td>3</td><td>5</td></tr>\n",
       "\t<tr><td>2</td><td>4</td><td>6</td></tr>\n",
       "</tbody>\n",
       "</table>\n"
      ],
      "text/latex": [
       "\\begin{tabular}{lll}\n",
       "\t 1 & 3 & 5\\\\\n",
       "\t 2 & 4 & 6\\\\\n",
       "\\end{tabular}\n"
      ],
      "text/markdown": [
       "\n",
       "| 1 | 3 | 5 | \n",
       "| 2 | 4 | 6 | \n",
       "\n",
       "\n"
      ],
      "text/plain": [
       "     [,1] [,2] [,3]\n",
       "[1,] 1    3    5   \n",
       "[2,] 2    4    6   "
      ]
     },
     "metadata": {},
     "output_type": "display_data"
    },
    {
     "data": {
      "text/html": [
       "<table>\n",
       "<tbody>\n",
       "\t<tr><td>1</td><td>2</td></tr>\n",
       "\t<tr><td>3</td><td>4</td></tr>\n",
       "\t<tr><td>5</td><td>6</td></tr>\n",
       "</tbody>\n",
       "</table>\n"
      ],
      "text/latex": [
       "\\begin{tabular}{ll}\n",
       "\t 1 & 2\\\\\n",
       "\t 3 & 4\\\\\n",
       "\t 5 & 6\\\\\n",
       "\\end{tabular}\n"
      ],
      "text/markdown": [
       "\n",
       "| 1 | 2 | \n",
       "| 3 | 4 | \n",
       "| 5 | 6 | \n",
       "\n",
       "\n"
      ],
      "text/plain": [
       "     [,1] [,2]\n",
       "[1,] 1    2   \n",
       "[2,] 3    4   \n",
       "[3,] 5    6   "
      ]
     },
     "metadata": {},
     "output_type": "display_data"
    }
   ],
   "source": [
    "A\n",
    "t(A)"
   ]
  },
  {
   "cell_type": "markdown",
   "metadata": {},
   "source": [
    "#### Extract diagonal elements of a matrix"
   ]
  },
  {
   "cell_type": "code",
   "execution_count": 34,
   "metadata": {},
   "outputs": [
    {
     "data": {
      "text/html": [
       "<ol class=list-inline>\n",
       "\t<li>1</li>\n",
       "\t<li>5</li>\n",
       "\t<li>9</li>\n",
       "</ol>\n"
      ],
      "text/latex": [
       "\\begin{enumerate*}\n",
       "\\item 1\n",
       "\\item 5\n",
       "\\item 9\n",
       "\\end{enumerate*}\n"
      ],
      "text/markdown": [
       "1. 1\n",
       "2. 5\n",
       "3. 9\n",
       "\n",
       "\n"
      ],
      "text/plain": [
       "[1] 1 5 9"
      ]
     },
     "metadata": {},
     "output_type": "display_data"
    }
   ],
   "source": [
    "diag(D)"
   ]
  },
  {
   "cell_type": "markdown",
   "metadata": {},
   "source": [
    "#### Create diagonal matrix"
   ]
  },
  {
   "cell_type": "code",
   "execution_count": 35,
   "metadata": {},
   "outputs": [
    {
     "data": {
      "text/html": [
       "<table>\n",
       "<tbody>\n",
       "\t<tr><td>1</td><td>0</td><td>0</td><td>0</td></tr>\n",
       "\t<tr><td>0</td><td>1</td><td>0</td><td>0</td></tr>\n",
       "\t<tr><td>0</td><td>0</td><td>1</td><td>0</td></tr>\n",
       "\t<tr><td>0</td><td>0</td><td>0</td><td>1</td></tr>\n",
       "</tbody>\n",
       "</table>\n"
      ],
      "text/latex": [
       "\\begin{tabular}{llll}\n",
       "\t 1 & 0 & 0 & 0\\\\\n",
       "\t 0 & 1 & 0 & 0\\\\\n",
       "\t 0 & 0 & 1 & 0\\\\\n",
       "\t 0 & 0 & 0 & 1\\\\\n",
       "\\end{tabular}\n"
      ],
      "text/markdown": [
       "\n",
       "| 1 | 0 | 0 | 0 | \n",
       "| 0 | 1 | 0 | 0 | \n",
       "| 0 | 0 | 1 | 0 | \n",
       "| 0 | 0 | 0 | 1 | \n",
       "\n",
       "\n"
      ],
      "text/plain": [
       "     [,1] [,2] [,3] [,4]\n",
       "[1,] 1    0    0    0   \n",
       "[2,] 0    1    0    0   \n",
       "[3,] 0    0    1    0   \n",
       "[4,] 0    0    0    1   "
      ]
     },
     "metadata": {},
     "output_type": "display_data"
    }
   ],
   "source": [
    "diag(rep(1,4))"
   ]
  },
  {
   "cell_type": "markdown",
   "metadata": {},
   "source": [
    "#### Inverse Matrix"
   ]
  },
  {
   "cell_type": "code",
   "execution_count": 36,
   "metadata": {},
   "outputs": [
    {
     "data": {
      "text/html": [
       "<table>\n",
       "<tbody>\n",
       "\t<tr><td>2</td><td>8</td><td>5</td></tr>\n",
       "\t<tr><td>7</td><td>9</td><td>8</td></tr>\n",
       "\t<tr><td>4</td><td>0</td><td>5</td></tr>\n",
       "</tbody>\n",
       "</table>\n"
      ],
      "text/latex": [
       "\\begin{tabular}{lll}\n",
       "\t 2 & 8 & 5\\\\\n",
       "\t 7 & 9 & 8\\\\\n",
       "\t 4 & 0 & 5\\\\\n",
       "\\end{tabular}\n"
      ],
      "text/markdown": [
       "\n",
       "| 2 | 8 | 5 | \n",
       "| 7 | 9 | 8 | \n",
       "| 4 | 0 | 5 | \n",
       "\n",
       "\n"
      ],
      "text/plain": [
       "     [,1] [,2] [,3]\n",
       "[1,] 2    8    5   \n",
       "[2,] 7    9    8   \n",
       "[3,] 4    0    5   "
      ]
     },
     "metadata": {},
     "output_type": "display_data"
    }
   ],
   "source": [
    "set.seed(123)\n",
    "(E<-matrix(floor(10*runif(9)),nrow=3))"
   ]
  },
  {
   "cell_type": "code",
   "execution_count": 37,
   "metadata": {},
   "outputs": [
    {
     "data": {
      "text/html": [
       "<table>\n",
       "<tbody>\n",
       "\t<tr><td>-0.39473684</td><td> 0.3508772 </td><td>-0.1666667 </td></tr>\n",
       "\t<tr><td> 0.02631579</td><td> 0.0877193 </td><td>-0.1666667 </td></tr>\n",
       "\t<tr><td> 0.31578947</td><td>-0.2807018 </td><td> 0.3333333 </td></tr>\n",
       "</tbody>\n",
       "</table>\n"
      ],
      "text/latex": [
       "\\begin{tabular}{lll}\n",
       "\t -0.39473684 &  0.3508772  & -0.1666667 \\\\\n",
       "\t  0.02631579 &  0.0877193  & -0.1666667 \\\\\n",
       "\t  0.31578947 & -0.2807018  &  0.3333333 \\\\\n",
       "\\end{tabular}\n"
      ],
      "text/markdown": [
       "\n",
       "| -0.39473684 |  0.3508772  | -0.1666667  | \n",
       "|  0.02631579 |  0.0877193  | -0.1666667  | \n",
       "|  0.31578947 | -0.2807018  |  0.3333333  | \n",
       "\n",
       "\n"
      ],
      "text/plain": [
       "     [,1]        [,2]       [,3]      \n",
       "[1,] -0.39473684  0.3508772 -0.1666667\n",
       "[2,]  0.02631579  0.0877193 -0.1666667\n",
       "[3,]  0.31578947 -0.2807018  0.3333333"
      ]
     },
     "metadata": {},
     "output_type": "display_data"
    }
   ],
   "source": [
    "(F<-solve(E))"
   ]
  },
  {
   "cell_type": "code",
   "execution_count": 38,
   "metadata": {},
   "outputs": [
    {
     "data": {
      "text/html": [
       "<table>\n",
       "<tbody>\n",
       "\t<tr><td> 1.000000e+00</td><td> 0.000000e+00</td><td>0            </td></tr>\n",
       "\t<tr><td> 0.000000e+00</td><td> 1.000000e+00</td><td>0            </td></tr>\n",
       "\t<tr><td>-2.220446e-16</td><td>-2.220446e-16</td><td>1            </td></tr>\n",
       "</tbody>\n",
       "</table>\n"
      ],
      "text/latex": [
       "\\begin{tabular}{lll}\n",
       "\t  1.000000e+00 &  0.000000e+00 & 0            \\\\\n",
       "\t  0.000000e+00 &  1.000000e+00 & 0            \\\\\n",
       "\t -2.220446e-16 & -2.220446e-16 & 1            \\\\\n",
       "\\end{tabular}\n"
      ],
      "text/markdown": [
       "\n",
       "|  1.000000e+00 |  0.000000e+00 | 0             | \n",
       "|  0.000000e+00 |  1.000000e+00 | 0             | \n",
       "| -2.220446e-16 | -2.220446e-16 | 1             | \n",
       "\n",
       "\n"
      ],
      "text/plain": [
       "     [,1]          [,2]          [,3]\n",
       "[1,]  1.000000e+00  0.000000e+00 0   \n",
       "[2,]  0.000000e+00  1.000000e+00 0   \n",
       "[3,] -2.220446e-16 -2.220446e-16 1   "
      ]
     },
     "metadata": {},
     "output_type": "display_data"
    }
   ],
   "source": [
    "E %*% F"
   ]
  },
  {
   "cell_type": "markdown",
   "metadata": {},
   "source": [
    "#### Solve system of linear equations\n",
    "A system of linear equations, can be written as a matrix-multiplication, with known matrix $C$ and vector $a$ and unknown vector $x$:\n",
    "$$\n",
    "\\mathbf{a}=C \\mathbf{x}\n",
    "$$\n",
    "\n",
    "$$\n",
    "\\left(\n",
    "\\begin{array}{c}\n",
    "a_1\\\\\n",
    "a_2\\\\\n",
    "a_3\\\\\n",
    "\\end{array}\n",
    "\\right)\n",
    "=\n",
    "\\left(\n",
    "\\begin{array}{ccc}\n",
    "C_{11} & C_{12} & C_{13} \\\\\n",
    "C_{21} & C_{22} & C_{23} \\\\\n",
    "C_{31} & C_{32} & C_{33} \\\\\n",
    "\\end{array}\n",
    "\\right)\n",
    "\\cdot\n",
    "\\left(\n",
    "\\begin{array}{c}\n",
    "x_1\\\\\n",
    "x_2\\\\\n",
    "x_3\\\\\n",
    "\\end{array}\n",
    "\\right)\n",
    "$$\n",
    "\n",
    "Vector $x$ can be determined by:"
   ]
  },
  {
   "cell_type": "code",
   "execution_count": 39,
   "metadata": {},
   "outputs": [
    {
     "data": {
      "text/html": [
       "<table>\n",
       "<tbody>\n",
       "\t<tr><td>2</td><td>8</td><td>5</td></tr>\n",
       "\t<tr><td>7</td><td>9</td><td>8</td></tr>\n",
       "\t<tr><td>4</td><td>0</td><td>5</td></tr>\n",
       "</tbody>\n",
       "</table>\n"
      ],
      "text/latex": [
       "\\begin{tabular}{lll}\n",
       "\t 2 & 8 & 5\\\\\n",
       "\t 7 & 9 & 8\\\\\n",
       "\t 4 & 0 & 5\\\\\n",
       "\\end{tabular}\n"
      ],
      "text/markdown": [
       "\n",
       "| 2 | 8 | 5 | \n",
       "| 7 | 9 | 8 | \n",
       "| 4 | 0 | 5 | \n",
       "\n",
       "\n"
      ],
      "text/plain": [
       "     [,1] [,2] [,3]\n",
       "[1,] 2    8    5   \n",
       "[2,] 7    9    8   \n",
       "[3,] 4    0    5   "
      ]
     },
     "metadata": {},
     "output_type": "display_data"
    },
    {
     "data": {
      "text/html": [
       "<ol class=list-inline>\n",
       "\t<li>7</li>\n",
       "\t<li>15</li>\n",
       "\t<li>9</li>\n",
       "</ol>\n"
      ],
      "text/latex": [
       "\\begin{enumerate*}\n",
       "\\item 7\n",
       "\\item 15\n",
       "\\item 9\n",
       "\\end{enumerate*}\n"
      ],
      "text/markdown": [
       "1. 7\n",
       "2. 15\n",
       "3. 9\n",
       "\n",
       "\n"
      ],
      "text/plain": [
       "[1]  7 15  9"
      ]
     },
     "metadata": {},
     "output_type": "display_data"
    }
   ],
   "source": [
    "(C<-E)\n",
    "(a<-c(7,15,9))"
   ]
  },
  {
   "cell_type": "code",
   "execution_count": 40,
   "metadata": {},
   "outputs": [
    {
     "data": {
      "text/html": [
       "<ol class=list-inline>\n",
       "\t<li>1</li>\n",
       "\t<li>0</li>\n",
       "\t<li>1</li>\n",
       "</ol>\n"
      ],
      "text/latex": [
       "\\begin{enumerate*}\n",
       "\\item 1\n",
       "\\item 0\n",
       "\\item 1\n",
       "\\end{enumerate*}\n"
      ],
      "text/markdown": [
       "1. 1\n",
       "2. 0\n",
       "3. 1\n",
       "\n",
       "\n"
      ],
      "text/plain": [
       "[1] 1 0 1"
      ]
     },
     "metadata": {},
     "output_type": "display_data"
    }
   ],
   "source": [
    "(x<-solve(C,a))"
   ]
  },
  {
   "cell_type": "markdown",
   "metadata": {},
   "source": [
    "## Lists\n",
    "In R lists are vectors, which can contain not only basic types (as vectors) but arbitrary objects."
   ]
  },
  {
   "cell_type": "code",
   "execution_count": 41,
   "metadata": {
    "ExecuteTime": {
     "end_time": "2017-03-05T09:15:19.285010",
     "start_time": "2017-03-05T08:15:19.240Z"
    }
   },
   "outputs": [
    {
     "name": "stdout",
     "output_type": "stream",
     "text": [
      "$temp\n",
      "[1] 17 21 23 14\n",
      "\n",
      "$weather\n",
      "[1] \"rainy\"  \"sunny\"  \"sunny\"  \"cloudy\"\n",
      "\n",
      "$day\n",
      "[1] \"monday\"    \"tuesday\"   \"wednesday\" \"thursday\" \n",
      "\n",
      "$year\n",
      "[1] 2016\n",
      "\n"
     ]
    }
   ],
   "source": [
    "tvec <- c(17,21,23,14)\n",
    "wvec <- c(\"rainy\",\"sunny\",\"sunny\",\"cloudy\")\n",
    "dvec <- c(\"monday\",\"tuesday\",\"wednesday\",\"thursday\")\n",
    "yvec  <- 2016\n",
    "wlist <- list(temp=tvec,weather=wvec,day=dvec,year=yvec)\n",
    "print(wlist)"
   ]
  },
  {
   "cell_type": "code",
   "execution_count": 42,
   "metadata": {},
   "outputs": [
    {
     "data": {
      "text/html": [
       "<strong>$temp</strong> = <ol class=list-inline>\n",
       "\t<li>17</li>\n",
       "\t<li>21</li>\n",
       "\t<li>23</li>\n",
       "\t<li>14</li>\n",
       "</ol>\n"
      ],
      "text/latex": [
       "\\textbf{\\$temp} = \\begin{enumerate*}\n",
       "\\item 17\n",
       "\\item 21\n",
       "\\item 23\n",
       "\\item 14\n",
       "\\end{enumerate*}\n"
      ],
      "text/markdown": [
       "**$temp** = 1. 17\n",
       "2. 21\n",
       "3. 23\n",
       "4. 14\n",
       "\n",
       "\n"
      ],
      "text/plain": [
       "$temp\n",
       "[1] 17 21 23 14\n"
      ]
     },
     "metadata": {},
     "output_type": "display_data"
    },
    {
     "data": {
      "text/html": [
       "<strong>$temp</strong> = <ol class=list-inline>\n",
       "\t<li>17</li>\n",
       "\t<li>21</li>\n",
       "\t<li>23</li>\n",
       "\t<li>14</li>\n",
       "</ol>\n"
      ],
      "text/latex": [
       "\\textbf{\\$temp} = \\begin{enumerate*}\n",
       "\\item 17\n",
       "\\item 21\n",
       "\\item 23\n",
       "\\item 14\n",
       "\\end{enumerate*}\n"
      ],
      "text/markdown": [
       "**$temp** = 1. 17\n",
       "2. 21\n",
       "3. 23\n",
       "4. 14\n",
       "\n",
       "\n"
      ],
      "text/plain": [
       "$temp\n",
       "[1] 17 21 23 14\n"
      ]
     },
     "metadata": {},
     "output_type": "display_data"
    },
    {
     "data": {
      "text/html": [
       "<strong>$weather</strong> = <ol class=list-inline>\n",
       "\t<li>'rainy'</li>\n",
       "\t<li>'sunny'</li>\n",
       "\t<li>'sunny'</li>\n",
       "\t<li>'cloudy'</li>\n",
       "</ol>\n"
      ],
      "text/latex": [
       "\\textbf{\\$weather} = \\begin{enumerate*}\n",
       "\\item 'rainy'\n",
       "\\item 'sunny'\n",
       "\\item 'sunny'\n",
       "\\item 'cloudy'\n",
       "\\end{enumerate*}\n"
      ],
      "text/markdown": [
       "**$weather** = 1. 'rainy'\n",
       "2. 'sunny'\n",
       "3. 'sunny'\n",
       "4. 'cloudy'\n",
       "\n",
       "\n"
      ],
      "text/plain": [
       "$weather\n",
       "[1] \"rainy\"  \"sunny\"  \"sunny\"  \"cloudy\"\n"
      ]
     },
     "metadata": {},
     "output_type": "display_data"
    },
    {
     "data": {
      "text/html": [
       "<strong>$weather</strong> = <ol class=list-inline>\n",
       "\t<li>'rainy'</li>\n",
       "\t<li>'sunny'</li>\n",
       "\t<li>'sunny'</li>\n",
       "\t<li>'cloudy'</li>\n",
       "</ol>\n"
      ],
      "text/latex": [
       "\\textbf{\\$weather} = \\begin{enumerate*}\n",
       "\\item 'rainy'\n",
       "\\item 'sunny'\n",
       "\\item 'sunny'\n",
       "\\item 'cloudy'\n",
       "\\end{enumerate*}\n"
      ],
      "text/markdown": [
       "**$weather** = 1. 'rainy'\n",
       "2. 'sunny'\n",
       "3. 'sunny'\n",
       "4. 'cloudy'\n",
       "\n",
       "\n"
      ],
      "text/plain": [
       "$weather\n",
       "[1] \"rainy\"  \"sunny\"  \"sunny\"  \"cloudy\"\n"
      ]
     },
     "metadata": {},
     "output_type": "display_data"
    }
   ],
   "source": [
    "wlist[1]\n",
    "wlist[\"temp\"]\n",
    "wlist[2]\n",
    "wlist[\"weather\"]"
   ]
  },
  {
   "cell_type": "markdown",
   "metadata": {},
   "source": [
    "Access vector-components of list-components: "
   ]
  },
  {
   "cell_type": "code",
   "execution_count": 43,
   "metadata": {
    "ExecuteTime": {
     "end_time": "2017-03-05T09:20:30.417188",
     "start_time": "2017-03-05T08:20:30.384Z"
    }
   },
   "outputs": [
    {
     "data": {
      "text/html": [
       "21"
      ],
      "text/latex": [
       "21"
      ],
      "text/markdown": [
       "21"
      ],
      "text/plain": [
       "[1] 21"
      ]
     },
     "metadata": {},
     "output_type": "display_data"
    },
    {
     "data": {
      "text/html": [
       "'wednesday'"
      ],
      "text/latex": [
       "'wednesday'"
      ],
      "text/markdown": [
       "'wednesday'"
      ],
      "text/plain": [
       "[1] \"wednesday\""
      ]
     },
     "metadata": {},
     "output_type": "display_data"
    }
   ],
   "source": [
    "wlist[[\"temp\"]][2]\n",
    "wlist[[\"day\"]][3]"
   ]
  },
  {
   "cell_type": "code",
   "execution_count": 44,
   "metadata": {
    "ExecuteTime": {
     "end_time": "2017-03-05T09:20:41.237550",
     "start_time": "2017-03-05T08:20:41.184Z"
    }
   },
   "outputs": [
    {
     "data": {
      "text/html": [
       "<ol class=list-inline>\n",
       "\t<li>17</li>\n",
       "\t<li>21</li>\n",
       "\t<li>23</li>\n",
       "\t<li>14</li>\n",
       "</ol>\n"
      ],
      "text/latex": [
       "\\begin{enumerate*}\n",
       "\\item 17\n",
       "\\item 21\n",
       "\\item 23\n",
       "\\item 14\n",
       "\\end{enumerate*}\n"
      ],
      "text/markdown": [
       "1. 17\n",
       "2. 21\n",
       "3. 23\n",
       "4. 14\n",
       "\n",
       "\n"
      ],
      "text/plain": [
       "[1] 17 21 23 14"
      ]
     },
     "metadata": {},
     "output_type": "display_data"
    },
    {
     "data": {
      "text/html": [
       "'tuesday'"
      ],
      "text/latex": [
       "'tuesday'"
      ],
      "text/markdown": [
       "'tuesday'"
      ],
      "text/plain": [
       "[1] \"tuesday\""
      ]
     },
     "metadata": {},
     "output_type": "display_data"
    },
    {
     "data": {
      "text/html": [
       "2016"
      ],
      "text/latex": [
       "2016"
      ],
      "text/markdown": [
       "2016"
      ],
      "text/plain": [
       "[1] 2016"
      ]
     },
     "metadata": {},
     "output_type": "display_data"
    }
   ],
   "source": [
    "wlist$temp\n",
    "wlist$day[2]\n",
    "wlist$year"
   ]
  },
  {
   "cell_type": "markdown",
   "metadata": {},
   "source": [
    "Flatten nested lists:"
   ]
  },
  {
   "cell_type": "code",
   "execution_count": 45,
   "metadata": {},
   "outputs": [
    {
     "data": {
      "text/html": [
       "<dl class=dl-horizontal>\n",
       "\t<dt>temp1</dt>\n",
       "\t\t<dd>'17'</dd>\n",
       "\t<dt>temp2</dt>\n",
       "\t\t<dd>'21'</dd>\n",
       "\t<dt>temp3</dt>\n",
       "\t\t<dd>'23'</dd>\n",
       "\t<dt>temp4</dt>\n",
       "\t\t<dd>'14'</dd>\n",
       "\t<dt>weather1</dt>\n",
       "\t\t<dd>'rainy'</dd>\n",
       "\t<dt>weather2</dt>\n",
       "\t\t<dd>'sunny'</dd>\n",
       "\t<dt>weather3</dt>\n",
       "\t\t<dd>'sunny'</dd>\n",
       "\t<dt>weather4</dt>\n",
       "\t\t<dd>'cloudy'</dd>\n",
       "\t<dt>day1</dt>\n",
       "\t\t<dd>'monday'</dd>\n",
       "\t<dt>day2</dt>\n",
       "\t\t<dd>'tuesday'</dd>\n",
       "\t<dt>day3</dt>\n",
       "\t\t<dd>'wednesday'</dd>\n",
       "\t<dt>day4</dt>\n",
       "\t\t<dd>'thursday'</dd>\n",
       "\t<dt>year</dt>\n",
       "\t\t<dd>'2016'</dd>\n",
       "</dl>\n"
      ],
      "text/latex": [
       "\\begin{description*}\n",
       "\\item[temp1] '17'\n",
       "\\item[temp2] '21'\n",
       "\\item[temp3] '23'\n",
       "\\item[temp4] '14'\n",
       "\\item[weather1] 'rainy'\n",
       "\\item[weather2] 'sunny'\n",
       "\\item[weather3] 'sunny'\n",
       "\\item[weather4] 'cloudy'\n",
       "\\item[day1] 'monday'\n",
       "\\item[day2] 'tuesday'\n",
       "\\item[day3] 'wednesday'\n",
       "\\item[day4] 'thursday'\n",
       "\\item[year] '2016'\n",
       "\\end{description*}\n"
      ],
      "text/markdown": [
       "temp1\n",
       ":   '17'temp2\n",
       ":   '21'temp3\n",
       ":   '23'temp4\n",
       ":   '14'weather1\n",
       ":   'rainy'weather2\n",
       ":   'sunny'weather3\n",
       ":   'sunny'weather4\n",
       ":   'cloudy'day1\n",
       ":   'monday'day2\n",
       ":   'tuesday'day3\n",
       ":   'wednesday'day4\n",
       ":   'thursday'year\n",
       ":   '2016'\n",
       "\n"
      ],
      "text/plain": [
       "      temp1       temp2       temp3       temp4    weather1    weather2 \n",
       "       \"17\"        \"21\"        \"23\"        \"14\"     \"rainy\"     \"sunny\" \n",
       "   weather3    weather4        day1        day2        day3        day4 \n",
       "    \"sunny\"    \"cloudy\"    \"monday\"   \"tuesday\" \"wednesday\"  \"thursday\" \n",
       "       year \n",
       "     \"2016\" "
      ]
     },
     "metadata": {},
     "output_type": "display_data"
    }
   ],
   "source": [
    "unlist(wlist)"
   ]
  },
  {
   "cell_type": "markdown",
   "metadata": {},
   "source": [
    "## Data Frame\n",
    "Data frames are applied for storing data tables. A data frame is a list of vectors of equal length."
   ]
  },
  {
   "cell_type": "code",
   "execution_count": 46,
   "metadata": {
    "ExecuteTime": {
     "end_time": "2017-03-05T09:21:03.497907",
     "start_time": "2017-03-05T08:21:03.467Z"
    }
   },
   "outputs": [
    {
     "name": "stdout",
     "output_type": "stream",
     "text": [
      "  tvec   wvec      dvec\n",
      "1   17  rainy    monday\n",
      "2   21  sunny   tuesday\n",
      "3   23  sunny wednesday\n",
      "4   14 cloudy  thursday\n"
     ]
    }
   ],
   "source": [
    "df=data.frame(tvec,wvec,dvec)\n",
    "print(df)"
   ]
  },
  {
   "cell_type": "code",
   "execution_count": 47,
   "metadata": {
    "ExecuteTime": {
     "end_time": "2017-03-05T09:21:34.981418",
     "start_time": "2017-03-05T08:21:34.931Z"
    }
   },
   "outputs": [
    {
     "data": {
      "text/html": [
       "tuesday"
      ],
      "text/latex": [
       "tuesday"
      ],
      "text/markdown": [
       "tuesday"
      ],
      "text/plain": [
       "[1] tuesday\n",
       "Levels: monday thursday tuesday wednesday"
      ]
     },
     "metadata": {},
     "output_type": "display_data"
    },
    {
     "data": {
      "text/html": [
       "tuesday"
      ],
      "text/latex": [
       "tuesday"
      ],
      "text/markdown": [
       "tuesday"
      ],
      "text/plain": [
       "[1] tuesday\n",
       "Levels: monday thursday tuesday wednesday"
      ]
     },
     "metadata": {},
     "output_type": "display_data"
    },
    {
     "data": {
      "text/html": [
       "tuesday"
      ],
      "text/latex": [
       "tuesday"
      ],
      "text/markdown": [
       "tuesday"
      ],
      "text/plain": [
       "[1] tuesday\n",
       "Levels: monday thursday tuesday wednesday"
      ]
     },
     "metadata": {},
     "output_type": "display_data"
    }
   ],
   "source": [
    "df[2,3]\n",
    "df[2,\"dvec\"]\n",
    "df[\"2\",\"dvec\"]"
   ]
  },
  {
   "cell_type": "code",
   "execution_count": 48,
   "metadata": {
    "ExecuteTime": {
     "end_time": "2017-03-05T09:21:43.806071",
     "start_time": "2017-03-05T08:21:43.772Z"
    }
   },
   "outputs": [
    {
     "data": {
      "text/html": [
       "4"
      ],
      "text/latex": [
       "4"
      ],
      "text/markdown": [
       "4"
      ],
      "text/plain": [
       "[1] 4"
      ]
     },
     "metadata": {},
     "output_type": "display_data"
    },
    {
     "data": {
      "text/html": [
       "3"
      ],
      "text/latex": [
       "3"
      ],
      "text/markdown": [
       "3"
      ],
      "text/plain": [
       "[1] 3"
      ]
     },
     "metadata": {},
     "output_type": "display_data"
    }
   ],
   "source": [
    "nrow(df)\n",
    "ncol(df)"
   ]
  },
  {
   "cell_type": "code",
   "execution_count": 49,
   "metadata": {
    "ExecuteTime": {
     "end_time": "2017-03-05T09:21:47.576969",
     "start_time": "2017-03-05T08:21:47.551Z"
    }
   },
   "outputs": [
    {
     "data": {
      "text/html": [
       "<ol class=list-inline>\n",
       "\t<li>monday</li>\n",
       "\t<li>tuesday</li>\n",
       "\t<li>wednesday</li>\n",
       "\t<li>thursday</li>\n",
       "</ol>\n"
      ],
      "text/latex": [
       "\\begin{enumerate*}\n",
       "\\item monday\n",
       "\\item tuesday\n",
       "\\item wednesday\n",
       "\\item thursday\n",
       "\\end{enumerate*}\n"
      ],
      "text/markdown": [
       "1. monday\n",
       "2. tuesday\n",
       "3. wednesday\n",
       "4. thursday\n",
       "\n",
       "\n"
      ],
      "text/plain": [
       "[1] monday    tuesday   wednesday thursday \n",
       "Levels: monday thursday tuesday wednesday"
      ]
     },
     "metadata": {},
     "output_type": "display_data"
    }
   ],
   "source": [
    "df[[3]]"
   ]
  },
  {
   "cell_type": "code",
   "execution_count": 50,
   "metadata": {
    "ExecuteTime": {
     "end_time": "2017-03-05T09:22:18.643659",
     "start_time": "2017-03-05T08:22:18.616Z"
    }
   },
   "outputs": [
    {
     "data": {
      "text/html": [
       "<ol class=list-inline>\n",
       "\t<li>monday</li>\n",
       "\t<li>tuesday</li>\n",
       "\t<li>wednesday</li>\n",
       "\t<li>thursday</li>\n",
       "</ol>\n"
      ],
      "text/latex": [
       "\\begin{enumerate*}\n",
       "\\item monday\n",
       "\\item tuesday\n",
       "\\item wednesday\n",
       "\\item thursday\n",
       "\\end{enumerate*}\n"
      ],
      "text/markdown": [
       "1. monday\n",
       "2. tuesday\n",
       "3. wednesday\n",
       "4. thursday\n",
       "\n",
       "\n"
      ],
      "text/plain": [
       "[1] monday    tuesday   wednesday thursday \n",
       "Levels: monday thursday tuesday wednesday"
      ]
     },
     "metadata": {},
     "output_type": "display_data"
    }
   ],
   "source": [
    "df$dvec"
   ]
  },
  {
   "cell_type": "code",
   "execution_count": 51,
   "metadata": {
    "ExecuteTime": {
     "end_time": "2017-03-05T09:22:25.976141",
     "start_time": "2017-03-05T08:22:25.949Z"
    }
   },
   "outputs": [
    {
     "data": {
      "text/html": [
       "<ol class=list-inline>\n",
       "\t<li>monday</li>\n",
       "\t<li>tuesday</li>\n",
       "\t<li>wednesday</li>\n",
       "\t<li>thursday</li>\n",
       "</ol>\n"
      ],
      "text/latex": [
       "\\begin{enumerate*}\n",
       "\\item monday\n",
       "\\item tuesday\n",
       "\\item wednesday\n",
       "\\item thursday\n",
       "\\end{enumerate*}\n"
      ],
      "text/markdown": [
       "1. monday\n",
       "2. tuesday\n",
       "3. wednesday\n",
       "4. thursday\n",
       "\n",
       "\n"
      ],
      "text/plain": [
       "[1] monday    tuesday   wednesday thursday \n",
       "Levels: monday thursday tuesday wednesday"
      ]
     },
     "metadata": {},
     "output_type": "display_data"
    }
   ],
   "source": [
    "df[,3]"
   ]
  },
  {
   "cell_type": "code",
   "execution_count": 52,
   "metadata": {
    "ExecuteTime": {
     "end_time": "2017-03-05T09:22:33.858424",
     "start_time": "2017-03-05T08:22:33.827Z"
    }
   },
   "outputs": [
    {
     "data": {
      "text/html": [
       "<table>\n",
       "<thead><tr><th scope=col>dvec</th></tr></thead>\n",
       "<tbody>\n",
       "\t<tr><td>monday   </td></tr>\n",
       "\t<tr><td>tuesday  </td></tr>\n",
       "\t<tr><td>wednesday</td></tr>\n",
       "\t<tr><td>thursday </td></tr>\n",
       "</tbody>\n",
       "</table>\n"
      ],
      "text/latex": [
       "\\begin{tabular}{r|l}\n",
       " dvec\\\\\n",
       "\\hline\n",
       "\t monday   \\\\\n",
       "\t tuesday  \\\\\n",
       "\t wednesday\\\\\n",
       "\t thursday \\\\\n",
       "\\end{tabular}\n"
      ],
      "text/markdown": [
       "\n",
       "dvec | \n",
       "|---|---|---|---|\n",
       "| monday    | \n",
       "| tuesday   | \n",
       "| wednesday | \n",
       "| thursday  | \n",
       "\n",
       "\n"
      ],
      "text/plain": [
       "  dvec     \n",
       "1 monday   \n",
       "2 tuesday  \n",
       "3 wednesday\n",
       "4 thursday "
      ]
     },
     "metadata": {},
     "output_type": "display_data"
    }
   ],
   "source": [
    "df[3]"
   ]
  },
  {
   "cell_type": "code",
   "execution_count": 53,
   "metadata": {
    "ExecuteTime": {
     "end_time": "2017-03-05T09:22:52.293666",
     "start_time": "2017-03-05T08:22:52.263Z"
    }
   },
   "outputs": [
    {
     "data": {
      "text/html": [
       "<table>\n",
       "<thead><tr><th scope=col>tvec</th><th scope=col>dvec</th></tr></thead>\n",
       "<tbody>\n",
       "\t<tr><td>17       </td><td>monday   </td></tr>\n",
       "\t<tr><td>21       </td><td>tuesday  </td></tr>\n",
       "\t<tr><td>23       </td><td>wednesday</td></tr>\n",
       "\t<tr><td>14       </td><td>thursday </td></tr>\n",
       "</tbody>\n",
       "</table>\n"
      ],
      "text/latex": [
       "\\begin{tabular}{r|ll}\n",
       " tvec & dvec\\\\\n",
       "\\hline\n",
       "\t 17        & monday   \\\\\n",
       "\t 21        & tuesday  \\\\\n",
       "\t 23        & wednesday\\\\\n",
       "\t 14        & thursday \\\\\n",
       "\\end{tabular}\n"
      ],
      "text/markdown": [
       "\n",
       "tvec | dvec | \n",
       "|---|---|---|---|\n",
       "| 17        | monday    | \n",
       "| 21        | tuesday   | \n",
       "| 23        | wednesday | \n",
       "| 14        | thursday  | \n",
       "\n",
       "\n"
      ],
      "text/plain": [
       "  tvec dvec     \n",
       "1 17   monday   \n",
       "2 21   tuesday  \n",
       "3 23   wednesday\n",
       "4 14   thursday "
      ]
     },
     "metadata": {},
     "output_type": "display_data"
    }
   ],
   "source": [
    "df[c(\"tvec\",\"dvec\")]"
   ]
  },
  {
   "cell_type": "code",
   "execution_count": 54,
   "metadata": {
    "ExecuteTime": {
     "end_time": "2017-03-05T09:23:02.436597",
     "start_time": "2017-03-05T08:23:02.407Z"
    }
   },
   "outputs": [
    {
     "data": {
      "text/html": [
       "<table>\n",
       "<thead><tr><th></th><th scope=col>tvec</th><th scope=col>wvec</th><th scope=col>dvec</th></tr></thead>\n",
       "<tbody>\n",
       "\t<tr><th scope=row>2</th><td>21     </td><td>sunny  </td><td>tuesday</td></tr>\n",
       "</tbody>\n",
       "</table>\n"
      ],
      "text/latex": [
       "\\begin{tabular}{r|lll}\n",
       "  & tvec & wvec & dvec\\\\\n",
       "\\hline\n",
       "\t2 & 21      & sunny   & tuesday\\\\\n",
       "\\end{tabular}\n"
      ],
      "text/markdown": [
       "\n",
       "| <!--/--> | tvec | wvec | dvec | \n",
       "|---|\n",
       "| 2 | 21      | sunny   | tuesday | \n",
       "\n",
       "\n"
      ],
      "text/plain": [
       "  tvec wvec  dvec   \n",
       "2 21   sunny tuesday"
      ]
     },
     "metadata": {},
     "output_type": "display_data"
    }
   ],
   "source": [
    "df[2,]"
   ]
  },
  {
   "cell_type": "code",
   "execution_count": 55,
   "metadata": {
    "ExecuteTime": {
     "end_time": "2017-03-05T09:23:22.482547",
     "start_time": "2017-03-05T08:23:22.450Z"
    }
   },
   "outputs": [
    {
     "data": {
      "text/html": [
       "<table>\n",
       "<thead><tr><th></th><th scope=col>tvec</th><th scope=col>wvec</th><th scope=col>dvec</th></tr></thead>\n",
       "<tbody>\n",
       "\t<tr><th scope=row>2</th><td>21      </td><td>sunny   </td><td>tuesday </td></tr>\n",
       "\t<tr><th scope=row>4</th><td>14      </td><td>cloudy  </td><td>thursday</td></tr>\n",
       "</tbody>\n",
       "</table>\n"
      ],
      "text/latex": [
       "\\begin{tabular}{r|lll}\n",
       "  & tvec & wvec & dvec\\\\\n",
       "\\hline\n",
       "\t2 & 21       & sunny    & tuesday \\\\\n",
       "\t4 & 14       & cloudy   & thursday\\\\\n",
       "\\end{tabular}\n"
      ],
      "text/markdown": [
       "\n",
       "| <!--/--> | tvec | wvec | dvec | \n",
       "|---|---|\n",
       "| 2 | 21       | sunny    | tuesday  | \n",
       "| 4 | 14       | cloudy   | thursday | \n",
       "\n",
       "\n"
      ],
      "text/plain": [
       "  tvec wvec   dvec    \n",
       "2 21   sunny  tuesday \n",
       "4 14   cloudy thursday"
      ]
     },
     "metadata": {},
     "output_type": "display_data"
    }
   ],
   "source": [
    "df[c(2,4),]"
   ]
  },
  {
   "cell_type": "code",
   "execution_count": 56,
   "metadata": {
    "ExecuteTime": {
     "end_time": "2017-03-05T09:24:29.815548",
     "start_time": "2017-03-05T08:24:29.787Z"
    }
   },
   "outputs": [
    {
     "data": {
      "text/html": [
       "<table>\n",
       "<thead><tr><th scope=col>tvec</th><th scope=col>wvec</th><th scope=col>dvec</th></tr></thead>\n",
       "<tbody>\n",
       "\t<tr><td>17    </td><td>rainy </td><td>monday</td></tr>\n",
       "</tbody>\n",
       "</table>\n"
      ],
      "text/latex": [
       "\\begin{tabular}{r|lll}\n",
       " tvec & wvec & dvec\\\\\n",
       "\\hline\n",
       "\t 17     & rainy  & monday\\\\\n",
       "\\end{tabular}\n"
      ],
      "text/markdown": [
       "\n",
       "tvec | wvec | dvec | \n",
       "|---|\n",
       "| 17     | rainy  | monday | \n",
       "\n",
       "\n"
      ],
      "text/plain": [
       "  tvec wvec  dvec  \n",
       "1 17   rainy monday"
      ]
     },
     "metadata": {},
     "output_type": "display_data"
    }
   ],
   "source": [
    "df[\"1\",]"
   ]
  },
  {
   "cell_type": "code",
   "execution_count": 57,
   "metadata": {
    "ExecuteTime": {
     "end_time": "2017-03-05T09:41:20.761608",
     "start_time": "2017-03-05T08:41:20.729Z"
    }
   },
   "outputs": [
    {
     "data": {
      "text/html": [
       "<ol class=list-inline>\n",
       "\t<li>FALSE</li>\n",
       "\t<li>TRUE</li>\n",
       "\t<li>TRUE</li>\n",
       "\t<li>FALSE</li>\n",
       "</ol>\n"
      ],
      "text/latex": [
       "\\begin{enumerate*}\n",
       "\\item FALSE\n",
       "\\item TRUE\n",
       "\\item TRUE\n",
       "\\item FALSE\n",
       "\\end{enumerate*}\n"
      ],
      "text/markdown": [
       "1. FALSE\n",
       "2. TRUE\n",
       "3. TRUE\n",
       "4. FALSE\n",
       "\n",
       "\n"
      ],
      "text/plain": [
       "[1] FALSE  TRUE  TRUE FALSE"
      ]
     },
     "metadata": {},
     "output_type": "display_data"
    }
   ],
   "source": [
    "F=df$wvec==\"sunny\"\n",
    "F"
   ]
  },
  {
   "cell_type": "code",
   "execution_count": 58,
   "metadata": {
    "ExecuteTime": {
     "end_time": "2017-03-05T09:41:27.514523",
     "start_time": "2017-03-05T08:41:27.481Z"
    }
   },
   "outputs": [
    {
     "data": {
      "text/html": [
       "<table>\n",
       "<thead><tr><th></th><th scope=col>tvec</th><th scope=col>wvec</th><th scope=col>dvec</th></tr></thead>\n",
       "<tbody>\n",
       "\t<tr><th scope=row>2</th><td>21       </td><td>sunny    </td><td>tuesday  </td></tr>\n",
       "\t<tr><th scope=row>3</th><td>23       </td><td>sunny    </td><td>wednesday</td></tr>\n",
       "</tbody>\n",
       "</table>\n"
      ],
      "text/latex": [
       "\\begin{tabular}{r|lll}\n",
       "  & tvec & wvec & dvec\\\\\n",
       "\\hline\n",
       "\t2 & 21        & sunny     & tuesday  \\\\\n",
       "\t3 & 23        & sunny     & wednesday\\\\\n",
       "\\end{tabular}\n"
      ],
      "text/markdown": [
       "\n",
       "| <!--/--> | tvec | wvec | dvec | \n",
       "|---|---|\n",
       "| 2 | 21        | sunny     | tuesday   | \n",
       "| 3 | 23        | sunny     | wednesday | \n",
       "\n",
       "\n"
      ],
      "text/plain": [
       "  tvec wvec  dvec     \n",
       "2 21   sunny tuesday  \n",
       "3 23   sunny wednesday"
      ]
     },
     "metadata": {},
     "output_type": "display_data"
    }
   ],
   "source": [
    "df[F,]"
   ]
  },
  {
   "cell_type": "markdown",
   "metadata": {},
   "source": [
    "### Import data into data frame"
   ]
  },
  {
   "cell_type": "code",
   "execution_count": 59,
   "metadata": {
    "ExecuteTime": {
     "end_time": "2017-03-05T09:44:29.752141",
     "start_time": "2017-03-05T08:44:29.724Z"
    },
    "collapsed": true
   },
   "outputs": [],
   "source": [
    "energyData=read.csv(file=\"../data/EnergyMixGeoClust.csv\", header=TRUE, sep=\",\",row.names=1)"
   ]
  },
  {
   "cell_type": "code",
   "execution_count": 60,
   "metadata": {
    "ExecuteTime": {
     "end_time": "2017-03-05T09:44:39.854111",
     "start_time": "2017-03-05T08:44:39.817Z"
    }
   },
   "outputs": [
    {
     "name": "stdout",
     "output_type": "stream",
     "text": [
      "                Country   Oil   Gas   Coal Nuclear Hydro Total2009 CO2Emm\n",
      "0                    US 842.9 588.7  498.0   190.2  62.2    2182.0 5941.9\n",
      "1                Canada  97.0  85.2   26.5    20.3  90.2     319.2  602.7\n",
      "2                Mexico  85.6  62.7    6.8     2.2   6.0     163.2  436.8\n",
      "3             Argentina  22.3  38.8    1.1     1.8   9.2      73.3  164.2\n",
      "4                Brazil 104.3  18.3   11.7     2.9  88.5     225.7  409.4\n",
      "5                 Chile  15.4   3.0    4.1     0.0   5.6      28.1   70.3\n",
      "6              Colombia   8.8   7.8    3.1     0.0   9.3      29.0   57.9\n",
      "7               Ecuador   9.9   0.4    0.0     0.0   2.1      12.4   31.3\n",
      "8                  Peru   8.5   3.1    0.5     0.0   4.5      16.6   35.5\n",
      "9             Venezuela  27.4  26.8    0.0     0.0  19.5      73.6  147.0\n",
      "10              Austria  13.0   8.4    2.3     0.0   8.3      32.0   68.8\n",
      "11           Azerbaijan   2.8   6.9    0.0     0.0   0.5      10.2   24.8\n",
      "12              Belarus   9.3  14.5    0.0     0.0   0.0      23.9   62.9\n",
      "13              Belgium  38.5  15.6    4.6    10.7   0.1      69.4  172.8\n",
      "14             Bulgaria   4.4   2.2    6.3     3.5   0.9      17.4   43.7\n",
      "15       Czech_Republic   9.7   7.4   15.8     6.1   0.7      39.6  109.5\n",
      "16              Denmark   8.2   4.0    4.0     0.0   0.0      16.1   50.3\n",
      "17              Finland   9.9   3.2    3.7     5.4   2.9      25.0   52.5\n",
      "18               France  87.5  38.4   10.1    92.9  13.1     241.9  398.7\n",
      "19              Germany 113.9  70.2   71.0    30.5   4.2     289.8  795.6\n",
      "20               Greece  20.2   3.0    7.9     0.0   1.6      32.7  100.4\n",
      "21              Hungary   7.3   9.1    2.5     3.5   0.1      22.4   53.6\n",
      "22              Iceland   1.0   0.0    0.1     0.0   2.8       3.9    3.5\n",
      "23  Republic_of_Ireland   8.0   4.3    1.3     0.0   0.2      13.9   40.1\n",
      "24                Italy  75.1  64.5   13.4     0.0  10.5     163.4  434.8\n",
      "25           Kazakhstan  12.0  17.7   33.0     0.0   1.7      64.4  209.2\n",
      "26            Lithuania   2.9   2.5    0.2     2.5   0.3       8.2   15.3\n",
      "27          Netherlands  49.4  35.0    7.9     1.0   0.0      93.3  265.1\n",
      "28               Norway   9.7   3.7    0.3     0.0  28.8      42.5   39.9\n",
      "29               Poland  25.5  12.3   53.9     0.0   0.7      92.3  320.4\n",
      "30             Portugal  12.9   3.9    3.6     0.0   2.0      22.3   62.7\n",
      "31              Romania   9.9  12.2    6.2     2.7   3.6      34.6   83.7\n",
      "32   Russian_Federation 124.9 350.7   82.9    37.0  39.8     635.3 1535.3\n",
      "33             Slovakia   3.9   5.1    3.6     3.2   1.1      16.8   38.1\n",
      "34                Spain  72.9  31.1   10.6    12.0   6.1     132.6  338.7\n",
      "35               Sweden  13.7   1.0    1.6    11.9  14.9      43.2   50.9\n",
      "36          Switzerland  12.3   2.7    0.1     6.2   8.1      29.4   44.5\n",
      "37               Turkey  28.8  28.9   27.2     0.0   8.1      93.0  264.1\n",
      "38         Turkmenistan   5.2  17.8    0.0     0.0   0.0      23.0   57.9\n",
      "39              Ukraine  14.1  42.3   35.0    18.6   2.7     112.5  280.8\n",
      "40       United_Kingdom  74.4  77.9   29.7    15.7   1.2     198.9  529.1\n",
      "41           Uzbekistan   4.9  43.9    1.4     0.0   1.4      51.5  123.5\n",
      "42                 Iran  83.6 118.5    1.4     0.0   1.3     204.8  540.3\n",
      "43               Kuwait  19.2  12.1    0.0     0.0   0.0      31.3   87.2\n",
      "44                Qatar   8.2  19.0    0.0     0.0   0.0      27.2   69.8\n",
      "45         Saudi_Arabia 121.8  69.7    0.0     0.0   0.0     191.5  537.6\n",
      "46 United_Arab_Emirates  21.8  53.2    0.0     0.0   0.0      75.0  191.9\n",
      "47              Algeria  14.9  24.0    0.7     0.0   0.1      39.7  104.8\n",
      "48                Egypt  33.7  38.3    1.1     0.0   3.1      76.3  197.8\n",
      "49         South_Africa  24.3   0.0   99.4     2.7   0.2     126.8  468.6\n",
      "50            Australia  42.7  23.1   50.8     0.0   2.6     119.2  386.6\n",
      "51           Bangladesh   4.5  17.8    0.4     0.0   0.3      22.9   57.0\n",
      "52                China 404.6  79.8 1537.4    15.9 139.3    2177.0 7518.5\n",
      "53  China_Hong_Kong_SAR  14.0   2.3    7.6     0.0   0.0      23.9   78.5\n",
      "54                India 148.5  46.7  245.8     3.8  24.0     468.9 1539.1\n",
      "55            Indonesia  62.0  33.0   30.5     0.0   2.7     128.2  388.5\n",
      "56                Japan 197.6  78.7  108.8    62.1  16.7     463.9 1222.1\n",
      "57             Malaysia  21.4  28.3    4.0     0.0   2.0      55.7  148.0\n",
      "58          New_Zealand   6.8   3.6    1.7     0.0   5.5      17.6   36.2\n",
      "59             Pakistan  20.6  34.1    4.3     0.6   6.2      65.8  160.4\n",
      "60          Philippines  12.1   3.0    6.8     0.0   2.2      24.2   71.3\n",
      "61            Singapore  52.1   8.7    0.0     0.0   0.0      60.8  180.2\n",
      "62          South_Korea 104.3  30.4   68.6    33.4   0.7     237.5  663.3\n",
      "63               Taiwan  46.6  10.2   38.7     9.4   0.8     105.7  320.3\n",
      "64             Thailand  44.2  35.3   14.1     0.0   1.5      95.1  274.4\n",
      "          Lat        Long Cluster\n",
      "0   37.090240  -95.712891       6\n",
      "1   56.130366 -106.346771       5\n",
      "2   23.634501 -102.552784       6\n",
      "3  -38.416097  -63.616672       4\n",
      "4  -14.235004  -51.925280       5\n",
      "5  -35.675147  -71.542969       5\n",
      "6    4.570868  -74.297333       5\n",
      "7   -1.831239  -78.183406       5\n",
      "8   -9.189967  -75.015152       5\n",
      "9    6.423750  -66.589730       5\n",
      "10  47.516231   14.550072       5\n",
      "11  40.143105   47.576927       4\n",
      "12  53.709807   27.953389       4\n",
      "13  50.503887    4.469936       6\n",
      "14  42.733883   25.485830       2\n",
      "15  49.817492   15.472962       2\n",
      "16  56.263920    9.501785       6\n",
      "17  61.924110   25.748151       6\n",
      "18  46.227638    2.213749       3\n",
      "19  51.165691   10.451526       6\n",
      "20  39.074208   21.824312       6\n",
      "21  47.162494   19.503304       4\n",
      "22  64.963051  -19.020835       1\n",
      "23  53.412910   -8.243890       6\n",
      "24  41.871940   12.567380       6\n",
      "25  48.019573   66.923684       2\n",
      "26  55.169438   23.881275       3\n",
      "27  52.132633    5.291266       6\n",
      "28  60.472024    8.468946       1\n",
      "29  51.919438   19.145136       2\n",
      "30  39.399872   -8.224454       6\n",
      "31  45.943161   24.966760       4\n",
      "32  61.524010  105.318756       4\n",
      "33  48.669026   19.699024       4\n",
      "34  40.463667   -3.749220       6\n",
      "35  60.128161   18.643501       1\n",
      "36  46.818188    8.227512       1\n",
      "37  38.963745   35.243322       2\n",
      "38  38.969719   59.556278       4\n",
      "39  48.379433   31.165580       4\n",
      "40  55.378051   -3.435973       4\n",
      "41  41.377491   64.585262       4\n",
      "42  32.427908   53.688046       4\n",
      "43  29.311660   47.481766       6\n",
      "44  25.354826   51.183884       4\n",
      "45  23.885942   45.079162       6\n",
      "46  23.424076   53.847818       4\n",
      "47  28.033886    1.659626       4\n",
      "48  26.820553   30.802498       4\n",
      "49 -30.559482   22.937506       2\n",
      "50 -25.274398  133.775136       2\n",
      "51  23.684994   90.356331       4\n",
      "52  35.861660  104.195397       2\n",
      "53  22.287170  114.150969       6\n",
      "54  20.593684   78.962880       2\n",
      "55  -0.789275  113.921327       6\n",
      "56  36.204824  138.252924       6\n",
      "57   4.210484  101.975766       4\n",
      "58 -40.900557  174.885971       5\n",
      "59  30.375321   69.345116       4\n",
      "60  12.879721  121.774017       6\n",
      "61   1.352083  103.819836       6\n",
      "62  35.907757  127.766922       6\n",
      "63  23.697810  120.960515       6\n",
      "64  15.870032  100.992541       6\n"
     ]
    }
   ],
   "source": [
    "print(energyData)"
   ]
  },
  {
   "cell_type": "code",
   "execution_count": 61,
   "metadata": {
    "ExecuteTime": {
     "end_time": "2017-03-05T09:45:04.840722",
     "start_time": "2017-03-05T08:45:04.814Z"
    }
   },
   "outputs": [
    {
     "data": {
      "text/html": [
       "<ol class=list-inline>\n",
       "\t<li>498</li>\n",
       "\t<li>26.5</li>\n",
       "\t<li>6.8</li>\n",
       "\t<li>1.1</li>\n",
       "\t<li>11.7</li>\n",
       "\t<li>4.1</li>\n",
       "\t<li>3.1</li>\n",
       "\t<li>0</li>\n",
       "\t<li>0.5</li>\n",
       "\t<li>0</li>\n",
       "\t<li>2.3</li>\n",
       "\t<li>0</li>\n",
       "\t<li>0</li>\n",
       "\t<li>4.6</li>\n",
       "\t<li>6.3</li>\n",
       "\t<li>15.8</li>\n",
       "\t<li>4</li>\n",
       "\t<li>3.7</li>\n",
       "\t<li>10.1</li>\n",
       "\t<li>71</li>\n",
       "\t<li>7.9</li>\n",
       "\t<li>2.5</li>\n",
       "\t<li>0.1</li>\n",
       "\t<li>1.3</li>\n",
       "\t<li>13.4</li>\n",
       "\t<li>33</li>\n",
       "\t<li>0.2</li>\n",
       "\t<li>7.9</li>\n",
       "\t<li>0.3</li>\n",
       "\t<li>53.9</li>\n",
       "\t<li>3.6</li>\n",
       "\t<li>6.2</li>\n",
       "\t<li>82.9</li>\n",
       "\t<li>3.6</li>\n",
       "\t<li>10.6</li>\n",
       "\t<li>1.6</li>\n",
       "\t<li>0.1</li>\n",
       "\t<li>27.2</li>\n",
       "\t<li>0</li>\n",
       "\t<li>35</li>\n",
       "\t<li>29.7</li>\n",
       "\t<li>1.4</li>\n",
       "\t<li>1.4</li>\n",
       "\t<li>0</li>\n",
       "\t<li>0</li>\n",
       "\t<li>0</li>\n",
       "\t<li>0</li>\n",
       "\t<li>0.7</li>\n",
       "\t<li>1.1</li>\n",
       "\t<li>99.4</li>\n",
       "\t<li>50.8</li>\n",
       "\t<li>0.4</li>\n",
       "\t<li>1537.4</li>\n",
       "\t<li>7.6</li>\n",
       "\t<li>245.8</li>\n",
       "\t<li>30.5</li>\n",
       "\t<li>108.8</li>\n",
       "\t<li>4</li>\n",
       "\t<li>1.7</li>\n",
       "\t<li>4.3</li>\n",
       "\t<li>6.8</li>\n",
       "\t<li>0</li>\n",
       "\t<li>68.6</li>\n",
       "\t<li>38.7</li>\n",
       "\t<li>14.1</li>\n",
       "</ol>\n"
      ],
      "text/latex": [
       "\\begin{enumerate*}\n",
       "\\item 498\n",
       "\\item 26.5\n",
       "\\item 6.8\n",
       "\\item 1.1\n",
       "\\item 11.7\n",
       "\\item 4.1\n",
       "\\item 3.1\n",
       "\\item 0\n",
       "\\item 0.5\n",
       "\\item 0\n",
       "\\item 2.3\n",
       "\\item 0\n",
       "\\item 0\n",
       "\\item 4.6\n",
       "\\item 6.3\n",
       "\\item 15.8\n",
       "\\item 4\n",
       "\\item 3.7\n",
       "\\item 10.1\n",
       "\\item 71\n",
       "\\item 7.9\n",
       "\\item 2.5\n",
       "\\item 0.1\n",
       "\\item 1.3\n",
       "\\item 13.4\n",
       "\\item 33\n",
       "\\item 0.2\n",
       "\\item 7.9\n",
       "\\item 0.3\n",
       "\\item 53.9\n",
       "\\item 3.6\n",
       "\\item 6.2\n",
       "\\item 82.9\n",
       "\\item 3.6\n",
       "\\item 10.6\n",
       "\\item 1.6\n",
       "\\item 0.1\n",
       "\\item 27.2\n",
       "\\item 0\n",
       "\\item 35\n",
       "\\item 29.7\n",
       "\\item 1.4\n",
       "\\item 1.4\n",
       "\\item 0\n",
       "\\item 0\n",
       "\\item 0\n",
       "\\item 0\n",
       "\\item 0.7\n",
       "\\item 1.1\n",
       "\\item 99.4\n",
       "\\item 50.8\n",
       "\\item 0.4\n",
       "\\item 1537.4\n",
       "\\item 7.6\n",
       "\\item 245.8\n",
       "\\item 30.5\n",
       "\\item 108.8\n",
       "\\item 4\n",
       "\\item 1.7\n",
       "\\item 4.3\n",
       "\\item 6.8\n",
       "\\item 0\n",
       "\\item 68.6\n",
       "\\item 38.7\n",
       "\\item 14.1\n",
       "\\end{enumerate*}\n"
      ],
      "text/markdown": [
       "1. 498\n",
       "2. 26.5\n",
       "3. 6.8\n",
       "4. 1.1\n",
       "5. 11.7\n",
       "6. 4.1\n",
       "7. 3.1\n",
       "8. 0\n",
       "9. 0.5\n",
       "10. 0\n",
       "11. 2.3\n",
       "12. 0\n",
       "13. 0\n",
       "14. 4.6\n",
       "15. 6.3\n",
       "16. 15.8\n",
       "17. 4\n",
       "18. 3.7\n",
       "19. 10.1\n",
       "20. 71\n",
       "21. 7.9\n",
       "22. 2.5\n",
       "23. 0.1\n",
       "24. 1.3\n",
       "25. 13.4\n",
       "26. 33\n",
       "27. 0.2\n",
       "28. 7.9\n",
       "29. 0.3\n",
       "30. 53.9\n",
       "31. 3.6\n",
       "32. 6.2\n",
       "33. 82.9\n",
       "34. 3.6\n",
       "35. 10.6\n",
       "36. 1.6\n",
       "37. 0.1\n",
       "38. 27.2\n",
       "39. 0\n",
       "40. 35\n",
       "41. 29.7\n",
       "42. 1.4\n",
       "43. 1.4\n",
       "44. 0\n",
       "45. 0\n",
       "46. 0\n",
       "47. 0\n",
       "48. 0.7\n",
       "49. 1.1\n",
       "50. 99.4\n",
       "51. 50.8\n",
       "52. 0.4\n",
       "53. 1537.4\n",
       "54. 7.6\n",
       "55. 245.8\n",
       "56. 30.5\n",
       "57. 108.8\n",
       "58. 4\n",
       "59. 1.7\n",
       "60. 4.3\n",
       "61. 6.8\n",
       "62. 0\n",
       "63. 68.6\n",
       "64. 38.7\n",
       "65. 14.1\n",
       "\n",
       "\n"
      ],
      "text/plain": [
       " [1]  498.0   26.5    6.8    1.1   11.7    4.1    3.1    0.0    0.5    0.0\n",
       "[11]    2.3    0.0    0.0    4.6    6.3   15.8    4.0    3.7   10.1   71.0\n",
       "[21]    7.9    2.5    0.1    1.3   13.4   33.0    0.2    7.9    0.3   53.9\n",
       "[31]    3.6    6.2   82.9    3.6   10.6    1.6    0.1   27.2    0.0   35.0\n",
       "[41]   29.7    1.4    1.4    0.0    0.0    0.0    0.0    0.7    1.1   99.4\n",
       "[51]   50.8    0.4 1537.4    7.6  245.8   30.5  108.8    4.0    1.7    4.3\n",
       "[61]    6.8    0.0   68.6   38.7   14.1"
      ]
     },
     "metadata": {},
     "output_type": "display_data"
    }
   ],
   "source": [
    "energyData$Coal"
   ]
  },
  {
   "cell_type": "code",
   "execution_count": 62,
   "metadata": {
    "ExecuteTime": {
     "end_time": "2017-03-05T09:45:13.404745",
     "start_time": "2017-03-05T08:45:12.894Z"
    },
    "collapsed": true
   },
   "outputs": [],
   "source": [
    "help(read.csv)"
   ]
  },
  {
   "cell_type": "code",
   "execution_count": null,
   "metadata": {
    "collapsed": true
   },
   "outputs": [],
   "source": []
  }
 ],
 "metadata": {
  "anaconda-cloud": {},
  "kernelspec": {
   "display_name": "R",
   "language": "R",
   "name": "ir"
  },
  "language_info": {
   "codemirror_mode": "r",
   "file_extension": ".r",
   "mimetype": "text/x-r-source",
   "name": "R",
   "pygments_lexer": "r",
   "version": "3.3.2"
  },
  "nav_menu": {},
  "toc": {
   "navigate_menu": true,
   "number_sections": true,
   "sideBar": true,
   "threshold": 4,
   "toc_cell": true,
   "toc_section_display": "block",
   "toc_window_display": true
  },
  "toc_position": {
   "height": "564px",
   "left": "0px",
   "right": "1196px",
   "top": "106px",
   "width": "212px"
  }
 },
 "nbformat": 4,
 "nbformat_minor": 2
}

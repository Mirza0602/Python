{
 "cells": [
  {
   "cell_type": "markdown",
   "metadata": {},
   "source": [
    "[Back to course overview](../CourseOverviewR.ipynb)\n",
    "\n",
    "# Getting started with R\n",
    "* Author: Johannes Maucher\n",
    "* Last Update: 2017-06-22\n",
    "* Links and references:\n",
    "    * [R reference card by Tom Short](https://cran.r-project.org/doc/contrib/Short-refcard.pdf) lists the most important R commands\n",
    "    \n",
    "![Data Science R Overview](../../../Pics/DSRgetStarted.PNG)\n",
    "\n",
    "## Why R?\n",
    "Statistical software, such as SPSS or SAS, make routine data analysis relatively easy. However, realizing functions and applications that are innovative, non-standard or shall supplement the built-in capabilities, is usually quite difficult with these proprietary tools. In contrast, a good statistical computing environment, such as R, also makes routine data analysis easy, but it additionally supports convenient programming. This means that users can extend the already impressive facilities of **core R**. Statisticians and others have taken advantage of this flexibility and extensibility. They contributed more than 10000 freely available **packages** of documented R programs and data to [CRAN (Comprehensive R Archive Network)](http://cran.r-project.org/web/packages/index.html) and other package archives. The relatively slim core-R installation can easily be supplemented on demand by functions for all types of tasks. \n",
    "\n",
    "In fact, R is not only a programming language, but a computing environment. [R](https://www.gnu.org/software/r/R.html) is a free, open-source implementation of the S language, and is available for Windows, Mac OS X, and Unix/Linux systems. It is part of the [GNU Project](https://www.gnu.org/). That is, users are free to use, modify, and distribute the program, within the limits of the [GNU non-license](http://www.gnu.org/licenses/licenses.html#WhatIsCopyleft).\n",
    "\n",
    "[The program itself and detailed installation instructions](http://stat.ethz.ch/R-manual/R-patched/doc/manual/R-admin.html) for Linux, Unix, Windows, and Macs are available through [CRAN (Comprehensive R Archive Network)](http://cran.r-project.org/) or via the ANACONDA distribution.\n",
    "Similar to e.g. Java and Python, R is an interpreted language. This implies that R-code runs on distinct platforms without requiring platform specific adaptations, such as e.g. C.\n",
    "\n",
    "[R is a functional programming (FP) language](http://adv-r.had.co.nz/Functional-programming.html). This means that the language supports passing functions as arguments to other functions, returning them as the values from other functions, and assigning them to variables or storing them in data structures.\n",
    "\n",
    "Today, R is the number-one computing environment for statistical computing. R has been developed and is particularly well suited for data manipulation, explorations and statistics. It includes many functions for comfortable data access and filtering, descriptive statistics, inferential statistics, visualizations, data mining and machine learning. For example the [R graph gallery](http://www.r-graph-gallery.com/) provides a glimpse of just some visualisation capabilities.\n",
    "\n"
   ]
  },
  {
   "cell_type": "markdown",
   "metadata": {},
   "source": [
    "## Development Environment\n",
    "\n",
    "### R Studio\n",
    "\n",
    "For developing R-projects [RStudio](https://www.rstudio.com/) is the most popular and comprehensive Integrated Development Environment (IDE). It provides for example syntax highlighting, tools for plotting, debugging, version management etc. RStudio is open source and available for Windows, Mac and Linux.\n",
    "\n",
    "The screenshot below depicts the RStudio standard view of a workspace. In the **console** (left side) R commands can be entered and executed interactively. In the scrennshot-example a vector of integers is assigned to the variable *x* and the logarithm for each of the vector-elements is calculated. While typing a command code-completion suggests valid command names given the already entered letters. The `plot(x,y)` visualizes the calculated logarithm in the lower right part of the window.\n",
    "\n",
    "All variables, which have been allocated in the current session, are shown in the **environment-view** (upper right part of the window).  For each of them type, size and values are listed.\n",
    "\n",
    "The window at the lower right provides \n",
    "\n",
    "* a file manager, \n",
    "* an area for plotting graphs\n",
    "* a package manager\n",
    "* and a help section\n",
    "\n",
    "For writing an R program a new file of type *R script* can be opened from the *File*-menu.\n",
    "\n",
    "![Anaconda Navigator](../../../Pics/rstudio.PNG)\n",
    "\n",
    "Despite RStudio’s excellent tools for developing R projects we do not apply it in this course. Instead, here we write and execute R code in Jupyter notebooks.\n",
    "\n",
    "### Jupyter Notebooks\n",
    "[Jupyter Notebooks](http://jupyter.org/) are less applicable for developing complex R-projects. However, they provide excellent capabilities for teaching purposes. Moreover, they are well suited for experiments and data analysis tasks. For me Jupyter Notebooks are the best platform for comfortable and efficient data analysis and integrated visualisation and documentation.\n",
    "\n",
    "Jupyter Notebook is an open-source web application that allows to create and share documents that contain\n",
    "* live code, \n",
    "* equations, \n",
    "* explanatory texts, \n",
    "* images, \n",
    "* videos \n",
    "* … and much more\n",
    "\n",
    "\n",
    "\n",
    "Jupyter Notebook consists of cells: \n",
    "\n",
    "* **Code-cells:** Code is placed in this type of cells. Each cell can be executed individually by pressing the `run cell`- button. The programming language of the code is defined by the current notebooks kernel. Kernels for currently more than 40 programming languages are supported. In this course Jupyter notebooks will be applied for *Python* and *R*. \n",
    "\n",
    "* **Markdown-cells:** Text, formulas, images, ... is placed in this type of cells. Formating is done in the very simple [markdown language](https://daringfireball.net/projects/markdown/).\n"
   ]
  },
  {
   "cell_type": "markdown",
   "metadata": {},
   "source": [
    "## Core R and Extensions\n",
    "### Core R Build-In Functions\n",
    "The Core-R installation provides an immense bunch of built-in-functions. They can be applied whenever needed and need not be explicitely loaded. Here are some examples of build-in functions for calculating convenient descriptive statistics."
   ]
  },
  {
   "cell_type": "code",
   "execution_count": 1,
   "metadata": {
    "ExecuteTime": {
     "end_time": "2017-09-08T09:34:51.448000Z",
     "start_time": "2017-09-08T09:34:51.355Z"
    }
   },
   "outputs": [
    {
     "data": {
      "text/html": [
       "<ol class=list-inline>\n",
       "\t<li>1</li>\n",
       "\t<li>2</li>\n",
       "\t<li>3</li>\n",
       "\t<li>4</li>\n",
       "\t<li>5</li>\n",
       "\t<li>6</li>\n",
       "\t<li>7</li>\n",
       "\t<li>8</li>\n",
       "\t<li>9</li>\n",
       "\t<li>10</li>\n",
       "\t<li>11</li>\n",
       "\t<li>12</li>\n",
       "\t<li>13</li>\n",
       "\t<li>14</li>\n",
       "\t<li>15</li>\n",
       "\t<li>16</li>\n",
       "\t<li>17</li>\n",
       "\t<li>18</li>\n",
       "\t<li>19</li>\n",
       "\t<li>20</li>\n",
       "</ol>\n"
      ],
      "text/latex": [
       "\\begin{enumerate*}\n",
       "\\item 1\n",
       "\\item 2\n",
       "\\item 3\n",
       "\\item 4\n",
       "\\item 5\n",
       "\\item 6\n",
       "\\item 7\n",
       "\\item 8\n",
       "\\item 9\n",
       "\\item 10\n",
       "\\item 11\n",
       "\\item 12\n",
       "\\item 13\n",
       "\\item 14\n",
       "\\item 15\n",
       "\\item 16\n",
       "\\item 17\n",
       "\\item 18\n",
       "\\item 19\n",
       "\\item 20\n",
       "\\end{enumerate*}\n"
      ],
      "text/markdown": [
       "1. 1\n",
       "2. 2\n",
       "3. 3\n",
       "4. 4\n",
       "5. 5\n",
       "6. 6\n",
       "7. 7\n",
       "8. 8\n",
       "9. 9\n",
       "10. 10\n",
       "11. 11\n",
       "12. 12\n",
       "13. 13\n",
       "14. 14\n",
       "15. 15\n",
       "16. 16\n",
       "17. 17\n",
       "18. 18\n",
       "19. 19\n",
       "20. 20\n",
       "\n",
       "\n"
      ],
      "text/plain": [
       " [1]  1  2  3  4  5  6  7  8  9 10 11 12 13 14 15 16 17 18 19 20"
      ]
     },
     "metadata": {},
     "output_type": "display_data"
    },
    {
     "data": {
      "text/html": [
       "20"
      ],
      "text/latex": [
       "20"
      ],
      "text/markdown": [
       "20"
      ],
      "text/plain": [
       "[1] 20"
      ]
     },
     "metadata": {},
     "output_type": "display_data"
    },
    {
     "data": {
      "text/html": [
       "1"
      ],
      "text/latex": [
       "1"
      ],
      "text/markdown": [
       "1"
      ],
      "text/plain": [
       "[1] 1"
      ]
     },
     "metadata": {},
     "output_type": "display_data"
    },
    {
     "data": {
      "text/html": [
       "10.5"
      ],
      "text/latex": [
       "10.5"
      ],
      "text/markdown": [
       "10.5"
      ],
      "text/plain": [
       "[1] 10.5"
      ]
     },
     "metadata": {},
     "output_type": "display_data"
    },
    {
     "data": {
      "text/html": [
       "5.91607978309962"
      ],
      "text/latex": [
       "5.91607978309962"
      ],
      "text/markdown": [
       "5.91607978309962"
      ],
      "text/plain": [
       "[1] 5.91608"
      ]
     },
     "metadata": {},
     "output_type": "display_data"
    },
    {
     "data": {
      "text/html": [
       "35"
      ],
      "text/latex": [
       "35"
      ],
      "text/markdown": [
       "35"
      ],
      "text/plain": [
       "[1] 35"
      ]
     },
     "metadata": {},
     "output_type": "display_data"
    }
   ],
   "source": [
    "a<-1:20 #allocate a vector of 20 integers\n",
    "a\n",
    "max(a) # get maximum value in vector a\n",
    "min(a) # get minimum value in vector a\n",
    "mean(a) # get arithmetic mean of values in a\n",
    "sd(a) # get standard deviation of values in a\n",
    "var(a) # get variance of values in a"
   ]
  },
  {
   "cell_type": "markdown",
   "metadata": {},
   "source": [
    "Some other mathematical built-in functions are:"
   ]
  },
  {
   "cell_type": "code",
   "execution_count": 2,
   "metadata": {
    "ExecuteTime": {
     "end_time": "2017-09-08T09:34:58.811000Z",
     "start_time": "2017-09-08T09:34:58.758Z"
    }
   },
   "outputs": [
    {
     "data": {
      "text/html": [
       "5"
      ],
      "text/latex": [
       "5"
      ],
      "text/markdown": [
       "5"
      ],
      "text/plain": [
       "[1] 5"
      ]
     },
     "metadata": {},
     "output_type": "display_data"
    },
    {
     "data": {
      "text/html": [
       "-1"
      ],
      "text/latex": [
       "-1"
      ],
      "text/markdown": [
       "-1"
      ],
      "text/plain": [
       "[1] -1"
      ]
     },
     "metadata": {},
     "output_type": "display_data"
    },
    {
     "data": {
      "text/html": [
       "7"
      ],
      "text/latex": [
       "7"
      ],
      "text/markdown": [
       "7"
      ],
      "text/plain": [
       "[1] 7"
      ]
     },
     "metadata": {},
     "output_type": "display_data"
    }
   ],
   "source": [
    "sqrt(25)\n",
    "cos(pi)\n",
    "log2(128)"
   ]
  },
  {
   "cell_type": "markdown",
   "metadata": {},
   "source": [
    "### Functions from external R packages\n",
    "There exists more than 10000 R-packages, which provide solutions for all kinds of problems. External R packages can be downloaded e.g. from [CRAN (Comprehensive R Archive Network)](http://cran.r-project.org/web/packages/index.html). The list of all installed package, available in your current environment, can be obtained by the following statement:"
   ]
  },
  {
   "cell_type": "code",
   "execution_count": 3,
   "metadata": {
    "ExecuteTime": {
     "end_time": "2017-09-08T07:44:33.051000Z",
     "start_time": "2017-09-08T07:44:32.742Z"
    }
   },
   "outputs": [
    {
     "data": {},
     "metadata": {},
     "output_type": "display_data"
    }
   ],
   "source": [
    "library()"
   ]
  },
  {
   "cell_type": "markdown",
   "metadata": {},
   "source": [
    "Functions of external packages, which are installed in your environment must be loaded before they can be applied. Functions from package *X* can be loaded by\n",
    "*library(X)*. For example the following statement loads the package *ggplot2*"
   ]
  },
  {
   "cell_type": "code",
   "execution_count": 3,
   "metadata": {
    "ExecuteTime": {
     "end_time": "2017-09-08T09:35:04.589000Z",
     "start_time": "2017-09-08T09:35:04.156Z"
    },
    "collapsed": true
   },
   "outputs": [],
   "source": [
    "library(ggplot2)"
   ]
  },
  {
   "cell_type": "markdown",
   "metadata": {},
   "source": [
    "External packages, which are not already installed in your environment, can be downloaded and installed by\n",
    "\n",
    "install.packages(\"NameOfPackage\")\n",
    "\n",
    "For example the following statement downloads and installs the package *ttseries*"
   ]
  },
  {
   "cell_type": "code",
   "execution_count": 4,
   "metadata": {
    "ExecuteTime": {
     "end_time": "2017-09-08T09:35:13.512000Z",
     "start_time": "2017-09-08T09:35:07.585Z"
    }
   },
   "outputs": [
    {
     "name": "stdout",
     "output_type": "stream",
     "text": [
      "package 'tagcloud' successfully unpacked and MD5 sums checked\n",
      "\n",
      "The downloaded binary packages are in\n",
      "\tC:\\Users\\maucher\\AppData\\Local\\Temp\\RtmpyK8thm\\downloaded_packages\n"
     ]
    }
   ],
   "source": [
    "install.packages(\"tagcloud\")"
   ]
  },
  {
   "cell_type": "markdown",
   "metadata": {},
   "source": [
    "This command is only successful if the package exists on the configured CRAN-mirror. A list of all available CRAN-mirrors can be obtained by the *getCRANmirrors()*-function."
   ]
  },
  {
   "cell_type": "code",
   "execution_count": 1,
   "metadata": {
    "ExecuteTime": {
     "end_time": "2017-08-10T04:51:05.803000Z",
     "start_time": "2017-08-10T04:51:04.928Z"
    }
   },
   "outputs": [
    {
     "data": {
      "text/html": [
       "<table>\n",
       "<thead><tr><th></th><th scope=col>Name</th><th scope=col>Country</th><th scope=col>City</th><th scope=col>URL</th><th scope=col>Host</th><th scope=col>Maintainer</th><th scope=col>OK</th><th scope=col>CountryCode</th><th scope=col>Comment</th></tr></thead>\n",
       "<tbody>\n",
       "\t<tr><th scope=row>1</th><td>0-Cloud [https]                                                           </td><td>0-Cloud                                                                   </td><td>0-Cloud                                                                   </td><td>https://cloud.r-project.org/                                              </td><td>Automatic redirection to servers worldwide, currently sponsored by Rstudio</td><td>winston # stdout.org                                                      </td><td>1                                                                         </td><td>us                                                                        </td><td>secure_mirror_from_master                                                 </td></tr>\n",
       "\t<tr><th scope=row>2</th><td>0-Cloud                                                                   </td><td>0-Cloud                                                                   </td><td>0-Cloud                                                                   </td><td>http://cloud.r-project.org/                                               </td><td>Automatic redirection to servers worldwide, currently sponsored by Rstudio</td><td>winston # stdout.org                                                      </td><td>1                                                                         </td><td>us                                                                        </td><td>secure_mirror_from_master                                                 </td></tr>\n",
       "\t<tr><th scope=row>3</th><td><span style=white-space:pre-wrap>Algeria [https]                </span>                                           </td><td><span style=white-space:pre-wrap>Algeria  </span>                                                                 </td><td><span style=white-space:pre-wrap>Algiers       </span>                                                            </td><td><span style=white-space:pre-wrap>https://cran.usthb.dz/                </span>                                    </td><td><span style=white-space:pre-wrap>University of Science and Technology Houari Boumediene                    </span></td><td><span style=white-space:pre-wrap>Boukala m c &lt;mboukala # usthb.dz&gt;                                 </span>  </td><td>1                                                                                                                 </td><td>dz                                                                                                                </td><td>secure_mirror_from_master                                                                                         </td></tr>\n",
       "\t<tr><th scope=row>4</th><td><span style=white-space:pre-wrap>Algeria                        </span>                                           </td><td><span style=white-space:pre-wrap>Algeria  </span>                                                                 </td><td><span style=white-space:pre-wrap>Algiers       </span>                                                            </td><td><span style=white-space:pre-wrap>http://cran.usthb.dz/                 </span>                                    </td><td><span style=white-space:pre-wrap>University of Science and Technology Houari Boumediene                    </span></td><td><span style=white-space:pre-wrap>Boukala m c &lt;mboukala # usthb.dz&gt;                                 </span>  </td><td>1                                                                                                                 </td><td>dz                                                                                                                </td><td>secure_mirror_from_master                                                                                         </td></tr>\n",
       "\t<tr><th scope=row>5</th><td>Argentina (La Plata)                                                      </td><td>Argentina                                                                 </td><td>La Plata                                                                  </td><td>http://mirror.fcaglp.unlp.edu.ar/CRAN/                                    </td><td>Universidad Nacional de La Plata                                          </td><td>esuarez # Fcaglp.unlp.edu.ar                                              </td><td>1                                                                         </td><td>ar                                                                        </td><td>                                                                          </td></tr>\n",
       "\t<tr><th scope=row>6</th><td>Australia (Canberra) [https]                                              </td><td>Australia                                                                 </td><td>Canberra                                                                  </td><td>https://cran.csiro.au/                                                    </td><td>CSIRO                                                                     </td><td>Bill.Venables # CSIRO.au, ServiceDesk2 # CSIRO.au                         </td><td>1                                                                         </td><td>au                                                                        </td><td>secure_mirror_from_master                                                 </td></tr>\n",
       "\t<tr><th scope=row>7</th><td>Australia (Canberra)                                                      </td><td>Australia                                                                 </td><td>Canberra                                                                  </td><td>http://cran.csiro.au/                                                     </td><td>CSIRO                                                                     </td><td>Bill.Venables # CSIRO.au, ServiceDesk2 # CSIRO.au                         </td><td>1                                                                         </td><td>au                                                                        </td><td>secure_mirror_from_master                                                 </td></tr>\n",
       "\t<tr><th scope=row>8</th><td>Australia (Melbourne 1) [https]                                                                                   </td><td>Australia                                                                                                         </td><td><span style=white-space:pre-wrap>Melbourne     </span>                                                            </td><td>https://mirror.aarnet.edu.au/pub/CRAN/                                                                            </td><td><span style=white-space:pre-wrap>AARNET                                                                    </span></td><td><span style=white-space:pre-wrap>&lt;sysadmin # aarnet.edu.au&gt;                                        </span>  </td><td>1                                                                                                                 </td><td>au                                                                                                                </td><td>secure_mirror_from_master                                                                                         </td></tr>\n",
       "\t<tr><th scope=row>9</th><td>Australia (Melbourne 2) [https]                                           </td><td>Australia                                                                 </td><td>Melbourne                                                                 </td><td>https://cran.ms.unimelb.edu.au/                                           </td><td>School of Mathematics and Statistics, University of Melbourne             </td><td>unix-ops # lists.unimelb.edu.au                                           </td><td>1                                                                         </td><td>au                                                                        </td><td>secure_mirror_from_master                                                 </td></tr>\n",
       "\t<tr><th scope=row>10</th><td>Australia (Perth) [https]                                                 </td><td>Australia                                                                 </td><td>Perth                                                                     </td><td>https://cran.curtin.edu.au/                                               </td><td>Curtin University of Technology                                           </td><td>unix # curtin.edu.au                                                      </td><td>1                                                                         </td><td>au                                                                        </td><td>secure_mirror_from_master                                                 </td></tr>\n",
       "\t<tr><th scope=row>11</th><td>Austria [https]                                                           </td><td>Austria                                                                   </td><td>Wien                                                                      </td><td>https://cran.wu.ac.at/                                                    </td><td>Wirtschaftsuniversität Wien                                               </td><td>CRAN # R-project.org                                                      </td><td>1                                                                         </td><td>at                                                                        </td><td>secure_mirror_from_master                                                 </td></tr>\n",
       "\t<tr><th scope=row>12</th><td>Austria                                                                   </td><td>Austria                                                                   </td><td>Wien                                                                      </td><td>http://cran.wu.ac.at/                                                     </td><td>Wirtschaftsuniversität Wien                                               </td><td>CRAN # R-project.org                                                      </td><td>1                                                                         </td><td>at                                                                        </td><td>secure_mirror_from_master                                                 </td></tr>\n",
       "\t<tr><th scope=row>13</th><td>Belgium (Antwerp)                                                         </td><td>Belgium                                                                   </td><td>Antwerp                                                                   </td><td>http://www.freestatistics.org/cran/                                       </td><td>K.U.Leuven Association                                                    </td><td>patrick # wessa.net                                                       </td><td>1                                                                         </td><td>be                                                                        </td><td>                                                                          </td></tr>\n",
       "\t<tr><th scope=row>14</th><td><span style=white-space:pre-wrap>Belgium (Ghent) [https]        </span>                                           </td><td><span style=white-space:pre-wrap>Belgium  </span>                                                                 </td><td><span style=white-space:pre-wrap>Ghent         </span>                                                            </td><td><span style=white-space:pre-wrap>https://lib.ugent.be/CRAN/            </span>                                    </td><td><span style=white-space:pre-wrap>Ghent University Library                                                  </span></td><td><span style=white-space:pre-wrap>Patrick Hochstenbach &lt;Patrick.Hochstenbach # UGent.be&gt;            </span>  </td><td>1                                                                                                                 </td><td>be                                                                                                                </td><td>secure_mirror_from_master                                                                                         </td></tr>\n",
       "\t<tr><th scope=row>15</th><td><span style=white-space:pre-wrap>Belgium (Ghent)                </span>                                           </td><td><span style=white-space:pre-wrap>Belgium  </span>                                                                 </td><td><span style=white-space:pre-wrap>Ghent         </span>                                                            </td><td><span style=white-space:pre-wrap>http://lib.ugent.be/CRAN/             </span>                                    </td><td><span style=white-space:pre-wrap>Ghent University Library                                                  </span></td><td><span style=white-space:pre-wrap>Patrick Hochstenbach &lt;Patrick.Hochstenbach # UGent.be&gt;            </span>  </td><td>1                                                                                                                 </td><td>be                                                                                                                </td><td>secure_mirror_from_master                                                                                         </td></tr>\n",
       "\t<tr><th scope=row>16</th><td>Brazil (BA)                                                               </td><td>Brazil                                                                    </td><td>Ilheus                                                                    </td><td>http://nbcgib.uesc.br/mirrors/cran/                                       </td><td>Center for Comp. Biol. at Universidade Estadual de Santa Cruz             </td><td>eduardo # nbcgib.uesc.br                                                  </td><td>1                                                                         </td><td>br                                                                        </td><td>                                                                          </td></tr>\n",
       "\t<tr><th scope=row>17</th><td>Brazil (PR) [https]                                                       </td><td>Brazil                                                                    </td><td>Curitiba                                                                  </td><td>https://cran-r.c3sl.ufpr.br/                                              </td><td>Universidade Federal do Parana                                            </td><td>root # c3sl.ufpr.br                                                       </td><td>1                                                                         </td><td>br                                                                        </td><td>                                                                          </td></tr>\n",
       "\t<tr><th scope=row>18</th><td>Brazil (PR)                                                               </td><td>Brazil                                                                    </td><td>Curitiba                                                                  </td><td>http://cran-r.c3sl.ufpr.br/                                               </td><td>Universidade Federal do Parana                                            </td><td>root # c3sl.ufpr.br                                                       </td><td>1                                                                         </td><td>br                                                                        </td><td>                                                                          </td></tr>\n",
       "\t<tr><th scope=row>19</th><td>Brazil (RJ) [https]                                                       </td><td>Brazil                                                                    </td><td>Rio de Janeiro                                                            </td><td>https://cran.fiocruz.br/                                                  </td><td>Oswaldo Cruz Foundation, Rio de Janeiro                                   </td><td>oswaldo.cruz # fiocruz.br                                                 </td><td>1                                                                         </td><td>br                                                                        </td><td>secure_mirror_from_master                                                 </td></tr>\n",
       "\t<tr><th scope=row>20</th><td>Brazil (RJ)                                                               </td><td>Brazil                                                                    </td><td>Rio de Janeiro                                                            </td><td>http://cran.fiocruz.br/                                                   </td><td>Oswaldo Cruz Foundation, Rio de Janeiro                                   </td><td>oswaldo.cruz # fiocruz.br                                                 </td><td>1                                                                         </td><td>br                                                                        </td><td>secure_mirror_from_master                                                 </td></tr>\n",
       "\t<tr><th scope=row>21</th><td><span style=white-space:pre-wrap>Brazil (SP 1) [https]          </span>                                           </td><td><span style=white-space:pre-wrap>Brazil   </span>                                                                 </td><td><span style=white-space:pre-wrap>Sao Paulo     </span>                                                            </td><td><span style=white-space:pre-wrap>https://vps.fmvz.usp.br/CRAN/         </span>                                    </td><td><span style=white-space:pre-wrap>University of Sao Paulo, Sao Paulo                                        </span></td><td><span style=white-space:pre-wrap>Fernando Ferreira &lt;fernando # vps.fmvz.usp.br&gt;                    </span>  </td><td>1                                                                                                                 </td><td>br                                                                                                                </td><td>secure_mirror_from_master                                                                                         </td></tr>\n",
       "\t<tr><th scope=row>22</th><td><span style=white-space:pre-wrap>Brazil (SP 1)                  </span>                                           </td><td><span style=white-space:pre-wrap>Brazil   </span>                                                                 </td><td><span style=white-space:pre-wrap>Sao Paulo     </span>                                                            </td><td><span style=white-space:pre-wrap>http://vps.fmvz.usp.br/CRAN/          </span>                                    </td><td><span style=white-space:pre-wrap>University of Sao Paulo, Sao Paulo                                        </span></td><td><span style=white-space:pre-wrap>Fernando Ferreira &lt;fernando # vps.fmvz.usp.br&gt;                    </span>  </td><td>1                                                                                                                 </td><td>br                                                                                                                </td><td>secure_mirror_from_master                                                                                         </td></tr>\n",
       "\t<tr><th scope=row>23</th><td><span style=white-space:pre-wrap>Brazil (SP 2)                  </span>                                           </td><td><span style=white-space:pre-wrap>Brazil   </span>                                                                 </td><td><span style=white-space:pre-wrap>Piracicaba    </span>                                                            </td><td><span style=white-space:pre-wrap>http://brieger.esalq.usp.br/CRAN/     </span>                                    </td><td><span style=white-space:pre-wrap>University of Sao Paulo, Piracicaba                                       </span></td><td>A Augusto F Garcia &lt;aafgarci # gmail.com&gt;, augusto.garcia # usp.br                                          </td><td>1                                                                                                                 </td><td>br                                                                                                                </td><td><span style=white-space:pre-wrap>                          </span>                                                </td></tr>\n",
       "\t<tr><th scope=row>24</th><td><span style=white-space:pre-wrap>Bulgaria [https]               </span>                                           </td><td>Bulgaria                                                                                                          </td><td><span style=white-space:pre-wrap>Sofia         </span>                                                            </td><td><span style=white-space:pre-wrap>https://ftp.uni-sofia.bg/CRAN/        </span>                                    </td><td><span style=white-space:pre-wrap>Sofia University                                                          </span></td><td><span style=white-space:pre-wrap>Alexander Velin &lt;velin # fccf.net&gt;                                </span>  </td><td>1                                                                                                                 </td><td>bg                                                                                                                </td><td>secure_mirror_from_master                                                                                         </td></tr>\n",
       "\t<tr><th scope=row>25</th><td><span style=white-space:pre-wrap>Bulgaria                       </span>                                           </td><td>Bulgaria                                                                                                          </td><td><span style=white-space:pre-wrap>Sofia         </span>                                                            </td><td><span style=white-space:pre-wrap>http://ftp.uni-sofia.bg/CRAN/         </span>                                    </td><td><span style=white-space:pre-wrap>Sofia University                                                          </span></td><td><span style=white-space:pre-wrap>Alexander Velin &lt;velin # fccf.net&gt;                                </span>  </td><td>1                                                                                                                 </td><td>bg                                                                                                                </td><td>secure_mirror_from_master                                                                                         </td></tr>\n",
       "\t<tr><th scope=row>26</th><td>Canada (BC)                                                               </td><td>Canada                                                                    </td><td>Burnaby                                                                   </td><td>http://cran.stat.sfu.ca/                                                  </td><td>Simon Fraser University, Burnaby                                          </td><td>gripe # sfu.ca                                                            </td><td>1                                                                         </td><td>ca                                                                        </td><td>maintainer_address_bounces                                                </td></tr>\n",
       "\t<tr><th scope=row>27</th><td>Canada (MB) [https]                                                       </td><td>Canada                                                                    </td><td>Winnipeg                                                                  </td><td>https://muug.ca/mirror/cran/                                              </td><td>Manitoba Unix User Group                                                  </td><td>mirror # muug.ca                                                          </td><td>1                                                                         </td><td>ca                                                                        </td><td>                                                                          </td></tr>\n",
       "\t<tr><th scope=row>28</th><td>Canada (MB)                                                               </td><td>Canada                                                                    </td><td>Winnipeg                                                                  </td><td>http://muug.ca/mirror/cran/                                               </td><td>Manitoba Unix User Group                                                  </td><td>mirror # muug.ca                                                          </td><td>1                                                                         </td><td>ca                                                                        </td><td>                                                                          </td></tr>\n",
       "\t<tr><th scope=row>29</th><td>Canada (NS)                                                               </td><td>Canada                                                                    </td><td>Halifax                                                                   </td><td>http://mirror.its.dal.ca/cran/                                            </td><td>Dalhousie University, Halifax                                             </td><td>mirror # lists.dal.ca                                                     </td><td>1                                                                         </td><td>ca                                                                        </td><td>                                                                          </td></tr>\n",
       "\t<tr><th scope=row>30</th><td><span style=white-space:pre-wrap>Canada (ON)                    </span>                                           </td><td><span style=white-space:pre-wrap>Canada   </span>                                                                 </td><td><span style=white-space:pre-wrap>Toronto       </span>                                                            </td><td><span style=white-space:pre-wrap>http://cran.utstat.utoronto.ca/       </span>                                    </td><td><span style=white-space:pre-wrap>University of Toronto                                                     </span></td><td><span style=white-space:pre-wrap>Dermot Whelan &lt;wheland # utstat.utoronto.ca&gt;                      </span>  </td><td>1                                                                                                                 </td><td>ca                                                                                                                </td><td><span style=white-space:pre-wrap>                          </span>                                                </td></tr>\n",
       "\t<tr><th scope=row>...</th><td>...</td><td>...</td><td>...</td><td>...</td><td>...</td><td>...</td><td>...</td><td>...</td><td>...</td></tr>\n",
       "\t<tr><th scope=row>121</th><td><span style=white-space:pre-wrap>UK (Bristol)          </span>                                      </td><td><span style=white-space:pre-wrap>UK       </span>                                                   </td><td><span style=white-space:pre-wrap>Bristol    </span>                                                 </td><td><span style=white-space:pre-wrap>http://www.stats.bris.ac.uk/R/       </span>                       </td><td><span style=white-space:pre-wrap>University of Bristol                                       </span></td><td>Guy Nason &lt;G.P.Nason # bristol.ac.uk&gt;, it-zone-d # bristol.ac.uk                              </td><td>1                                                                                                   </td><td>uk                                                                                                  </td><td>secure_mirror_from_master                                                                           </td></tr>\n",
       "\t<tr><th scope=row>122</th><td>UK (Cambridge) [https]                                                                                        </td><td><span style=white-space:pre-wrap>UK       </span>                                                             </td><td><span style=white-space:pre-wrap>Cambridge  </span>                                                           </td><td><span style=white-space:pre-wrap>https://mirrors.ebi.ac.uk/CRAN/      </span>                                 </td><td><span style=white-space:pre-wrap>EMBL-EBI (European Bioinformatics Institute)                </span>          </td><td><span style=white-space:pre-wrap>Andrew Tikhonov &lt;andrew # ebi.ac.uk&gt;                            </span></td><td>1                                                                                                             </td><td>uk                                                                                                            </td><td>secure_mirror_from_master                                                                                     </td></tr>\n",
       "\t<tr><th scope=row>123</th><td><span style=white-space:pre-wrap>UK (Cambridge)        </span>                                                </td><td><span style=white-space:pre-wrap>UK       </span>                                                             </td><td><span style=white-space:pre-wrap>Cambridge  </span>                                                           </td><td><span style=white-space:pre-wrap>http://mirrors.ebi.ac.uk/CRAN/       </span>                                 </td><td><span style=white-space:pre-wrap>EMBL-EBI (European Bioinformatics Institute)                </span>          </td><td><span style=white-space:pre-wrap>Andrew Tikhonov &lt;andrew # ebi.ac.uk&gt;                            </span></td><td>1                                                                                                             </td><td>uk                                                                                                            </td><td>secure_mirror_from_master                                                                                     </td></tr>\n",
       "\t<tr><th scope=row>124</th><td>UK (London 1) [https]                                           </td><td>UK                                                              </td><td>London                                                          </td><td>https://cran.ma.imperial.ac.uk/                                 </td><td>Imperial College London                                         </td><td>andy.thomas # imperial.ac.uk                                    </td><td>1                                                               </td><td>uk                                                              </td><td>secure_mirror_from_master                                       </td></tr>\n",
       "\t<tr><th scope=row>125</th><td>UK (London 1)                                                   </td><td>UK                                                              </td><td>London                                                          </td><td>http://cran.ma.imperial.ac.uk/                                  </td><td>Imperial College London                                         </td><td>andy.thomas # imperial.ac.uk                                    </td><td>1                                                               </td><td>uk                                                              </td><td>secure_mirror_from_master                                       </td></tr>\n",
       "\t<tr><th scope=row>127</th><td>USA (CA 1) [https]                                              </td><td>USA                                                             </td><td>Berkeley                                                        </td><td>https://cran.cnr.berkeley.edu/                                  </td><td>University of California, Berkeley, CA                          </td><td>casterln # nature.berkeley.edu                                  </td><td>1                                                               </td><td>us                                                              </td><td>secure_mirror_from_master                                       </td></tr>\n",
       "\t<tr><th scope=row>128</th><td>USA (CA 1)                                                      </td><td>USA                                                             </td><td>Berkeley                                                        </td><td>http://cran.cnr.berkeley.edu/                                   </td><td>University of California, Berkeley, CA                          </td><td>casterln # nature.berkeley.edu                                  </td><td>1                                                               </td><td>us                                                              </td><td>secure_mirror_from_master                                       </td></tr>\n",
       "\t<tr><th scope=row>129</th><td><span style=white-space:pre-wrap>USA (CA 2)            </span>                                                </td><td><span style=white-space:pre-wrap>USA      </span>                                                             </td><td>Los Angeles                                                                                                   </td><td><span style=white-space:pre-wrap>http://cran.stat.ucla.edu/           </span>                                 </td><td><span style=white-space:pre-wrap>University of California, Los Angeles, CA                   </span>          </td><td><span style=white-space:pre-wrap>Jose Hales-Garcia &lt;jose # stat.ucla.edu&gt;                        </span></td><td>1                                                                                                             </td><td>us                                                                                                            </td><td><span style=white-space:pre-wrap>                          </span>                                            </td></tr>\n",
       "\t<tr><th scope=row>130</th><td>USA (IA) [https]                                                </td><td>USA                                                             </td><td>Ames                                                            </td><td>https://mirror.las.iastate.edu/CRAN/                            </td><td>Iowa State University, Ames, IA                                 </td><td>statit # iastate.edu                                            </td><td>1                                                               </td><td>us                                                              </td><td>secure_mirror_from_master                                       </td></tr>\n",
       "\t<tr><th scope=row>131</th><td>USA (IA)                                                        </td><td>USA                                                             </td><td>Ames                                                            </td><td>http://mirror.las.iastate.edu/CRAN/                             </td><td>Iowa State University, Ames, IA                                 </td><td>statit # iastate.edu                                            </td><td>1                                                               </td><td>us                                                              </td><td>secure_mirror_from_master                                       </td></tr>\n",
       "\t<tr><th scope=row>132</th><td>USA (IN) [https]                                                </td><td>USA                                                             </td><td>Bloomington                                                     </td><td>https://ftp.ussg.iu.edu/CRAN/                                   </td><td>Indiana University                                              </td><td>rtadmin # indiana.edu                                           </td><td>1                                                               </td><td>us                                                              </td><td>                                                                </td></tr>\n",
       "\t<tr><th scope=row>133</th><td>USA (IN)                                                        </td><td>USA                                                             </td><td>Bloomington                                                     </td><td>http://ftp.ussg.iu.edu/CRAN/                                    </td><td>Indiana University                                              </td><td>rtadmin # indiana.edu                                           </td><td>1                                                               </td><td>us                                                              </td><td>                                                                </td></tr>\n",
       "\t<tr><th scope=row>134</th><td><span style=white-space:pre-wrap>USA (KS) [https]      </span>                                                </td><td><span style=white-space:pre-wrap>USA      </span>                                                             </td><td><span style=white-space:pre-wrap>Lawrence   </span>                                                           </td><td><span style=white-space:pre-wrap>https://rweb.crmda.ku.edu/cran/      </span>                                 </td><td><span style=white-space:pre-wrap>University of Kansas, Lawrence, KS                          </span>          </td><td><span style=white-space:pre-wrap>Paul Johnson &lt;pauljohn # ku.edu&gt;                                </span></td><td>1                                                                                                             </td><td>us                                                                                                            </td><td>secure_mirror_from_master                                                                                     </td></tr>\n",
       "\t<tr><th scope=row>135</th><td><span style=white-space:pre-wrap>USA (KS)              </span>                                                </td><td><span style=white-space:pre-wrap>USA      </span>                                                             </td><td><span style=white-space:pre-wrap>Lawrence   </span>                                                           </td><td><span style=white-space:pre-wrap>http://rweb.crmda.ku.edu/cran/       </span>                                 </td><td><span style=white-space:pre-wrap>University of Kansas, Lawrence, KS                          </span>          </td><td><span style=white-space:pre-wrap>Paul Johnson &lt;pauljohn # ku.edu&gt;                                </span></td><td>1                                                                                                             </td><td>us                                                                                                            </td><td>secure_mirror_from_master                                                                                     </td></tr>\n",
       "\t<tr><th scope=row>136</th><td><span style=white-space:pre-wrap>USA (MI 1) [https]    </span>                                                </td><td><span style=white-space:pre-wrap>USA      </span>                                                             </td><td><span style=white-space:pre-wrap>Houghton   </span>                                                           </td><td><span style=white-space:pre-wrap>https://cran.mtu.edu/                </span>                                 </td><td><span style=white-space:pre-wrap>Michigan Technological University, Houghton, MI             </span>          </td><td><span style=white-space:pre-wrap>Robert Froese &lt;froese # mtu.edu&gt;                                </span></td><td>1                                                                                                             </td><td>us                                                                                                            </td><td>secure_mirror_from_master                                                                                     </td></tr>\n",
       "\t<tr><th scope=row>137</th><td><span style=white-space:pre-wrap>USA (MI 1)            </span>                                                </td><td><span style=white-space:pre-wrap>USA      </span>                                                             </td><td><span style=white-space:pre-wrap>Houghton   </span>                                                           </td><td><span style=white-space:pre-wrap>http://cran.mtu.edu/                 </span>                                 </td><td><span style=white-space:pre-wrap>Michigan Technological University, Houghton, MI             </span>          </td><td><span style=white-space:pre-wrap>Robert Froese &lt;froese # mtu.edu&gt;                                </span></td><td>1                                                                                                             </td><td>us                                                                                                            </td><td>secure_mirror_from_master                                                                                     </td></tr>\n",
       "\t<tr><th scope=row>138</th><td>USA (MO)                                                        </td><td>USA                                                             </td><td>St. Louis                                                       </td><td>http://cran.wustl.edu/                                          </td><td>Washington University, St. Louis, MO                            </td><td>admartin # wustl.edu                                            </td><td>1                                                               </td><td>us                                                              </td><td>maintainer_address_bounces                                      </td></tr>\n",
       "\t<tr><th scope=row>139</th><td>USA (NC)                                                        </td><td>USA                                                             </td><td>Durham                                                          </td><td>http://archive.linux.duke.edu/cran/                             </td><td>Duke University, Durham, NC                                     </td><td>csi-linux-admins # duke.edu                                     </td><td>1                                                               </td><td>us                                                              </td><td>                                                                </td></tr>\n",
       "\t<tr><th scope=row>140</th><td><span style=white-space:pre-wrap>USA (OH 1)            </span>                                                </td><td><span style=white-space:pre-wrap>USA      </span>                                                             </td><td><span style=white-space:pre-wrap>Cleveland  </span>                                                           </td><td><span style=white-space:pre-wrap>http://cran.case.edu/                </span>                                 </td><td><span style=white-space:pre-wrap>Case Western Reserve University, Cleveland, OH              </span>          </td><td><span style=white-space:pre-wrap>\"Alberto H. Santana\" &lt;ahs4 # case.edu&gt;                          </span></td><td>1                                                                                                             </td><td>us                                                                                                            </td><td><span style=white-space:pre-wrap>                          </span>                                            </td></tr>\n",
       "\t<tr><th scope=row>141</th><td><span style=white-space:pre-wrap>USA (OH 2)            </span>                                                </td><td><span style=white-space:pre-wrap>USA      </span>                                                             </td><td><span style=white-space:pre-wrap>Dayton     </span>                                                           </td><td><span style=white-space:pre-wrap>http://iis.stat.wright.edu/CRAN/     </span>                                 </td><td><span style=white-space:pre-wrap>Wright State University, Dayton, OH                         </span>          </td><td><span style=white-space:pre-wrap>Gengxin Li &lt;gengxin.li # wright.edu&gt;                            </span></td><td>1                                                                                                             </td><td>us                                                                                                            </td><td><span style=white-space:pre-wrap>                          </span>                                            </td></tr>\n",
       "\t<tr><th scope=row>142</th><td>USA (OR) [https]                                                </td><td>USA                                                             </td><td>Corvallis                                                       </td><td>https://ftp.osuosl.org/pub/cran/                                </td><td>Oregon State University                                         </td><td>support # Osuosl.org                                            </td><td>1                                                               </td><td>us                                                              </td><td>secure_mirror_from_master                                       </td></tr>\n",
       "\t<tr><th scope=row>143</th><td>USA (OR)                                                        </td><td>USA                                                             </td><td>Corvallis                                                       </td><td>http://ftp.osuosl.org/pub/cran/                                 </td><td>Oregon State University                                         </td><td>support # Osuosl.org                                            </td><td>1                                                               </td><td>us                                                              </td><td>secure_mirror_from_master                                       </td></tr>\n",
       "\t<tr><th scope=row>144</th><td><span style=white-space:pre-wrap>USA (PA 1)            </span>                                                </td><td><span style=white-space:pre-wrap>USA      </span>                                                             </td><td>Pittsburgh                                                                                                    </td><td><span style=white-space:pre-wrap>http://lib.stat.cmu.edu/R/CRAN/      </span>                                 </td><td><span style=white-space:pre-wrap>Statlib, Carnegie Mellon University, Pittsburgh, PA         </span>          </td><td><span style=white-space:pre-wrap>Carl Skipper &lt;remarks # stat.cmu.edu&gt;                           </span></td><td>1                                                                                                             </td><td>us                                                                                                            </td><td><span style=white-space:pre-wrap>                          </span>                                            </td></tr>\n",
       "\t<tr><th scope=row>145</th><td><span style=white-space:pre-wrap>USA (PA 2)            </span>                                                </td><td><span style=white-space:pre-wrap>USA      </span>                                                             </td><td>Pittsburgh                                                                                                    </td><td><span style=white-space:pre-wrap>http://cran.mirrors.hoobly.com/      </span>                                 </td><td><span style=white-space:pre-wrap>Hoobly Classifieds, Pittsburgh, PA                          </span>          </td><td><span style=white-space:pre-wrap>Peter Grigor &lt;pgrigor # hoobly.com&gt;                             </span></td><td>1                                                                                                             </td><td>us                                                                                                            </td><td><span style=white-space:pre-wrap>                          </span>                                            </td></tr>\n",
       "\t<tr><th scope=row>146</th><td>USA (TN) [https]                                                </td><td>USA                                                             </td><td>Oak Ridge                                                       </td><td>https://mirrors.nics.utk.edu/cran/                              </td><td>National Institute for Computational Sciences, Oak Ridge, TN    </td><td>help # nics.utk.edu                                             </td><td>1                                                               </td><td>us                                                              </td><td>secure_mirror_from_master                                       </td></tr>\n",
       "\t<tr><th scope=row>147</th><td>USA (TN)                                                        </td><td>USA                                                             </td><td>Oak Ridge                                                       </td><td>http://mirrors.nics.utk.edu/cran/                               </td><td>National Institute for Computational Sciences, Oak Ridge, TN    </td><td>help # nics.utk.edu                                             </td><td>1                                                               </td><td>us                                                              </td><td>secure_mirror_from_master                                       </td></tr>\n",
       "\t<tr><th scope=row>148</th><td><span style=white-space:pre-wrap>USA (TX 1) [https]    </span>                                                </td><td><span style=white-space:pre-wrap>USA      </span>                                                             </td><td><span style=white-space:pre-wrap>Dallas     </span>                                                           </td><td>https://cran.revolutionanalytics.com/                                                                         </td><td><span style=white-space:pre-wrap>Revolution Analytics, Dallas, TX                            </span>          </td><td><span style=white-space:pre-wrap>David Smith &lt;david # revolutionanalytics.com&gt;                   </span></td><td>1                                                                                                             </td><td>us                                                                                                            </td><td>secure_mirror_from_master                                                                                     </td></tr>\n",
       "\t<tr><th scope=row>149</th><td><span style=white-space:pre-wrap>USA (TX 1)            </span>                                                </td><td><span style=white-space:pre-wrap>USA      </span>                                                             </td><td><span style=white-space:pre-wrap>Dallas     </span>                                                           </td><td>http://cran.revolutionanalytics.com/                                                                          </td><td><span style=white-space:pre-wrap>Revolution Analytics, Dallas, TX                            </span>          </td><td><span style=white-space:pre-wrap>David Smith &lt;david # revolutionanalytics.com&gt;                   </span></td><td>1                                                                                                             </td><td>us                                                                                                            </td><td>secure_mirror_from_master                                                                                     </td></tr>\n",
       "\t<tr><th scope=row>150</th><td>Vietnam [https]                                                 </td><td>Vietnam                                                         </td><td>Ho Chi Minh                                                     </td><td>https://mirror.vinahost.vn/CRAN/                                </td><td>VinaHost                                                        </td><td>tienhn # vinahost.vn                                            </td><td>1                                                               </td><td>vn                                                              </td><td>secure_mirror_from_master                                       </td></tr>\n",
       "\t<tr><th scope=row>151</th><td>Venezuela                                                       </td><td>Venezuela                                                       </td><td>Valencia                                                        </td><td>http://camoruco.ing.uc.edu.ve/cran/                             </td><td>Universidad de Carabobo Venezuela                               </td><td>dir-imyca # uc.edu.ve                                           </td><td>1                                                               </td><td>ve                                                              </td><td>                                                                </td></tr>\n",
       "</tbody>\n",
       "</table>\n"
      ],
      "text/latex": [
       "\\begin{tabular}{r|lllllllll}\n",
       "  & Name & Country & City & URL & Host & Maintainer & OK & CountryCode & Comment\\\\\n",
       "\\hline\n",
       "\t1 & 0-Cloud {[}https{]}                                                        & 0-Cloud                                                                    & 0-Cloud                                                                    & https://cloud.r-project.org/                                               & Automatic redirection to servers worldwide, currently sponsored by Rstudio & winston \\# stdout.org                                                     & 1                                                                          & us                                                                         & secure\\_mirror\\_from\\_master                                           \\\\\n",
       "\t2 & 0-Cloud                                                                    & 0-Cloud                                                                    & 0-Cloud                                                                    & http://cloud.r-project.org/                                                & Automatic redirection to servers worldwide, currently sponsored by Rstudio & winston \\# stdout.org                                                     & 1                                                                          & us                                                                         & secure\\_mirror\\_from\\_master                                           \\\\\n",
       "\t3 & Algeria {[}https{]}                                                        & Algeria                                                                    & Algiers                                                                    & https://cran.usthb.dz/                                                     & University of Science and Technology Houari Boumediene                     & Boukala m c <mboukala \\# usthb.dz>                                        & 1                                                                          & dz                                                                         & secure\\_mirror\\_from\\_master                                           \\\\\n",
       "\t4 & Algeria                                                                    & Algeria                                                                    & Algiers                                                                    & http://cran.usthb.dz/                                                      & University of Science and Technology Houari Boumediene                     & Boukala m c <mboukala \\# usthb.dz>                                        & 1                                                                          & dz                                                                         & secure\\_mirror\\_from\\_master                                           \\\\\n",
       "\t5 & Argentina (La Plata)                                                       & Argentina                                                                  & La Plata                                                                   & http://mirror.fcaglp.unlp.edu.ar/CRAN/                                     & Universidad Nacional de La Plata                                           & esuarez \\# Fcaglp.unlp.edu.ar                                             & 1                                                                          & ar                                                                         &                                                                           \\\\\n",
       "\t6 & Australia (Canberra) {[}https{]}                                           & Australia                                                                  & Canberra                                                                   & https://cran.csiro.au/                                                     & CSIRO                                                                      & Bill.Venables \\# CSIRO.au, ServiceDesk2 \\# CSIRO.au                      & 1                                                                          & au                                                                         & secure\\_mirror\\_from\\_master                                           \\\\\n",
       "\t7 & Australia (Canberra)                                                       & Australia                                                                  & Canberra                                                                   & http://cran.csiro.au/                                                      & CSIRO                                                                      & Bill.Venables \\# CSIRO.au, ServiceDesk2 \\# CSIRO.au                      & 1                                                                          & au                                                                         & secure\\_mirror\\_from\\_master                                           \\\\\n",
       "\t8 & Australia (Melbourne 1) {[}https{]}                                        & Australia                                                                  & Melbourne                                                                  & https://mirror.aarnet.edu.au/pub/CRAN/                                     & AARNET                                                                     & <sysadmin \\# aarnet.edu.au>                                               & 1                                                                          & au                                                                         & secure\\_mirror\\_from\\_master                                           \\\\\n",
       "\t9 & Australia (Melbourne 2) {[}https{]}                                        & Australia                                                                  & Melbourne                                                                  & https://cran.ms.unimelb.edu.au/                                            & School of Mathematics and Statistics, University of Melbourne              & unix-ops \\# lists.unimelb.edu.au                                          & 1                                                                          & au                                                                         & secure\\_mirror\\_from\\_master                                           \\\\\n",
       "\t10 & Australia (Perth) {[}https{]}                                              & Australia                                                                  & Perth                                                                      & https://cran.curtin.edu.au/                                                & Curtin University of Technology                                            & unix \\# curtin.edu.au                                                     & 1                                                                          & au                                                                         & secure\\_mirror\\_from\\_master                                           \\\\\n",
       "\t11 & Austria {[}https{]}                                                        & Austria                                                                    & Wien                                                                       & https://cran.wu.ac.at/                                                     & Wirtschaftsuniversität Wien                                                & CRAN \\# R-project.org                                                     & 1                                                                          & at                                                                         & secure\\_mirror\\_from\\_master                                           \\\\\n",
       "\t12 & Austria                                                                    & Austria                                                                    & Wien                                                                       & http://cran.wu.ac.at/                                                      & Wirtschaftsuniversität Wien                                                & CRAN \\# R-project.org                                                     & 1                                                                          & at                                                                         & secure\\_mirror\\_from\\_master                                           \\\\\n",
       "\t13 & Belgium (Antwerp)                                                          & Belgium                                                                    & Antwerp                                                                    & http://www.freestatistics.org/cran/                                        & K.U.Leuven Association                                                     & patrick \\# wessa.net                                                      & 1                                                                          & be                                                                         &                                                                           \\\\\n",
       "\t14 & Belgium (Ghent) {[}https{]}                                                & Belgium                                                                    & Ghent                                                                      & https://lib.ugent.be/CRAN/                                                 & Ghent University Library                                                   & Patrick Hochstenbach <Patrick.Hochstenbach \\# UGent.be>                   & 1                                                                          & be                                                                         & secure\\_mirror\\_from\\_master                                           \\\\\n",
       "\t15 & Belgium (Ghent)                                                            & Belgium                                                                    & Ghent                                                                      & http://lib.ugent.be/CRAN/                                                  & Ghent University Library                                                   & Patrick Hochstenbach <Patrick.Hochstenbach \\# UGent.be>                   & 1                                                                          & be                                                                         & secure\\_mirror\\_from\\_master                                           \\\\\n",
       "\t16 & Brazil (BA)                                                                & Brazil                                                                     & Ilheus                                                                     & http://nbcgib.uesc.br/mirrors/cran/                                        & Center for Comp. Biol. at Universidade Estadual de Santa Cruz              & eduardo \\# nbcgib.uesc.br                                                 & 1                                                                          & br                                                                         &                                                                           \\\\\n",
       "\t17 & Brazil (PR) {[}https{]}                                                    & Brazil                                                                     & Curitiba                                                                   & https://cran-r.c3sl.ufpr.br/                                               & Universidade Federal do Parana                                             & root \\# c3sl.ufpr.br                                                      & 1                                                                          & br                                                                         &                                                                           \\\\\n",
       "\t18 & Brazil (PR)                                                                & Brazil                                                                     & Curitiba                                                                   & http://cran-r.c3sl.ufpr.br/                                                & Universidade Federal do Parana                                             & root \\# c3sl.ufpr.br                                                      & 1                                                                          & br                                                                         &                                                                           \\\\\n",
       "\t19 & Brazil (RJ) {[}https{]}                                                    & Brazil                                                                     & Rio de Janeiro                                                             & https://cran.fiocruz.br/                                                   & Oswaldo Cruz Foundation, Rio de Janeiro                                    & oswaldo.cruz \\# fiocruz.br                                                & 1                                                                          & br                                                                         & secure\\_mirror\\_from\\_master                                           \\\\\n",
       "\t20 & Brazil (RJ)                                                                & Brazil                                                                     & Rio de Janeiro                                                             & http://cran.fiocruz.br/                                                    & Oswaldo Cruz Foundation, Rio de Janeiro                                    & oswaldo.cruz \\# fiocruz.br                                                & 1                                                                          & br                                                                         & secure\\_mirror\\_from\\_master                                           \\\\\n",
       "\t21 & Brazil (SP 1) {[}https{]}                                                  & Brazil                                                                     & Sao Paulo                                                                  & https://vps.fmvz.usp.br/CRAN/                                              & University of Sao Paulo, Sao Paulo                                         & Fernando Ferreira <fernando \\# vps.fmvz.usp.br>                           & 1                                                                          & br                                                                         & secure\\_mirror\\_from\\_master                                           \\\\\n",
       "\t22 & Brazil (SP 1)                                                              & Brazil                                                                     & Sao Paulo                                                                  & http://vps.fmvz.usp.br/CRAN/                                               & University of Sao Paulo, Sao Paulo                                         & Fernando Ferreira <fernando \\# vps.fmvz.usp.br>                           & 1                                                                          & br                                                                         & secure\\_mirror\\_from\\_master                                           \\\\\n",
       "\t23 & Brazil (SP 2)                                                              & Brazil                                                                     & Piracicaba                                                                 & http://brieger.esalq.usp.br/CRAN/                                          & University of Sao Paulo, Piracicaba                                        & A Augusto F Garcia <aafgarci \\# gmail.com>, augusto.garcia \\# usp.br     & 1                                                                          & br                                                                         &                                                                           \\\\\n",
       "\t24 & Bulgaria {[}https{]}                                                       & Bulgaria                                                                   & Sofia                                                                      & https://ftp.uni-sofia.bg/CRAN/                                             & Sofia University                                                           & Alexander Velin <velin \\# fccf.net>                                       & 1                                                                          & bg                                                                         & secure\\_mirror\\_from\\_master                                           \\\\\n",
       "\t25 & Bulgaria                                                                   & Bulgaria                                                                   & Sofia                                                                      & http://ftp.uni-sofia.bg/CRAN/                                              & Sofia University                                                           & Alexander Velin <velin \\# fccf.net>                                       & 1                                                                          & bg                                                                         & secure\\_mirror\\_from\\_master                                           \\\\\n",
       "\t26 & Canada (BC)                                                                & Canada                                                                     & Burnaby                                                                    & http://cran.stat.sfu.ca/                                                   & Simon Fraser University, Burnaby                                           & gripe \\# sfu.ca                                                           & 1                                                                          & ca                                                                         & maintainer\\_address\\_bounces                                            \\\\\n",
       "\t27 & Canada (MB) {[}https{]}                                                    & Canada                                                                     & Winnipeg                                                                   & https://muug.ca/mirror/cran/                                               & Manitoba Unix User Group                                                   & mirror \\# muug.ca                                                         & 1                                                                          & ca                                                                         &                                                                           \\\\\n",
       "\t28 & Canada (MB)                                                                & Canada                                                                     & Winnipeg                                                                   & http://muug.ca/mirror/cran/                                                & Manitoba Unix User Group                                                   & mirror \\# muug.ca                                                         & 1                                                                          & ca                                                                         &                                                                           \\\\\n",
       "\t29 & Canada (NS)                                                                & Canada                                                                     & Halifax                                                                    & http://mirror.its.dal.ca/cran/                                             & Dalhousie University, Halifax                                              & mirror \\# lists.dal.ca                                                    & 1                                                                          & ca                                                                         &                                                                           \\\\\n",
       "\t30 & Canada (ON)                                                                & Canada                                                                     & Toronto                                                                    & http://cran.utstat.utoronto.ca/                                            & University of Toronto                                                      & Dermot Whelan <wheland \\# utstat.utoronto.ca>                             & 1                                                                          & ca                                                                         &                                                                           \\\\\n",
       "\t... & ... & ... & ... & ... & ... & ... & ... & ... & ...\\\\\n",
       "\t121 & UK (Bristol)                                                         & UK                                                                   & Bristol                                                              & http://www.stats.bris.ac.uk/R/                                       & University of Bristol                                                & Guy Nason <G.P.Nason \\# bristol.ac.uk>, it-zone-d \\# bristol.ac.uk & 1                                                                    & uk                                                                   & secure\\_mirror\\_from\\_master                                     \\\\\n",
       "\t122 & UK (Cambridge) {[}https{]}                                         & UK                                                                 & Cambridge                                                          & https://mirrors.ebi.ac.uk/CRAN/                                    & EMBL-EBI (European Bioinformatics Institute)                       & Andrew Tikhonov <andrew \\# ebi.ac.uk>                             & 1                                                                  & uk                                                                 & secure\\_mirror\\_from\\_master                                   \\\\\n",
       "\t123 & UK (Cambridge)                                                     & UK                                                                 & Cambridge                                                          & http://mirrors.ebi.ac.uk/CRAN/                                     & EMBL-EBI (European Bioinformatics Institute)                       & Andrew Tikhonov <andrew \\# ebi.ac.uk>                             & 1                                                                  & uk                                                                 & secure\\_mirror\\_from\\_master                                   \\\\\n",
       "\t124 & UK (London 1) {[}https{]}                                          & UK                                                                 & London                                                             & https://cran.ma.imperial.ac.uk/                                    & Imperial College London                                            & andy.thomas \\# imperial.ac.uk                                     & 1                                                                  & uk                                                                 & secure\\_mirror\\_from\\_master                                   \\\\\n",
       "\t125 & UK (London 1)                                                      & UK                                                                 & London                                                             & http://cran.ma.imperial.ac.uk/                                     & Imperial College London                                            & andy.thomas \\# imperial.ac.uk                                     & 1                                                                  & uk                                                                 & secure\\_mirror\\_from\\_master                                   \\\\\n",
       "\t127 & USA (CA 1) {[}https{]}                                             & USA                                                                & Berkeley                                                           & https://cran.cnr.berkeley.edu/                                     & University of California, Berkeley, CA                             & casterln \\# nature.berkeley.edu                                   & 1                                                                  & us                                                                 & secure\\_mirror\\_from\\_master                                   \\\\\n",
       "\t128 & USA (CA 1)                                                         & USA                                                                & Berkeley                                                           & http://cran.cnr.berkeley.edu/                                      & University of California, Berkeley, CA                             & casterln \\# nature.berkeley.edu                                   & 1                                                                  & us                                                                 & secure\\_mirror\\_from\\_master                                   \\\\\n",
       "\t129 & USA (CA 2)                                                         & USA                                                                & Los Angeles                                                        & http://cran.stat.ucla.edu/                                         & University of California, Los Angeles, CA                          & Jose Hales-Garcia <jose \\# stat.ucla.edu>                         & 1                                                                  & us                                                                 &                                                                   \\\\\n",
       "\t130 & USA (IA) {[}https{]}                                               & USA                                                                & Ames                                                               & https://mirror.las.iastate.edu/CRAN/                               & Iowa State University, Ames, IA                                    & statit \\# iastate.edu                                             & 1                                                                  & us                                                                 & secure\\_mirror\\_from\\_master                                   \\\\\n",
       "\t131 & USA (IA)                                                           & USA                                                                & Ames                                                               & http://mirror.las.iastate.edu/CRAN/                                & Iowa State University, Ames, IA                                    & statit \\# iastate.edu                                             & 1                                                                  & us                                                                 & secure\\_mirror\\_from\\_master                                   \\\\\n",
       "\t132 & USA (IN) {[}https{]}                                               & USA                                                                & Bloomington                                                        & https://ftp.ussg.iu.edu/CRAN/                                      & Indiana University                                                 & rtadmin \\# indiana.edu                                            & 1                                                                  & us                                                                 &                                                                   \\\\\n",
       "\t133 & USA (IN)                                                           & USA                                                                & Bloomington                                                        & http://ftp.ussg.iu.edu/CRAN/                                       & Indiana University                                                 & rtadmin \\# indiana.edu                                            & 1                                                                  & us                                                                 &                                                                   \\\\\n",
       "\t134 & USA (KS) {[}https{]}                                               & USA                                                                & Lawrence                                                           & https://rweb.crmda.ku.edu/cran/                                    & University of Kansas, Lawrence, KS                                 & Paul Johnson <pauljohn \\# ku.edu>                                 & 1                                                                  & us                                                                 & secure\\_mirror\\_from\\_master                                   \\\\\n",
       "\t135 & USA (KS)                                                           & USA                                                                & Lawrence                                                           & http://rweb.crmda.ku.edu/cran/                                     & University of Kansas, Lawrence, KS                                 & Paul Johnson <pauljohn \\# ku.edu>                                 & 1                                                                  & us                                                                 & secure\\_mirror\\_from\\_master                                   \\\\\n",
       "\t136 & USA (MI 1) {[}https{]}                                             & USA                                                                & Houghton                                                           & https://cran.mtu.edu/                                              & Michigan Technological University, Houghton, MI                    & Robert Froese <froese \\# mtu.edu>                                 & 1                                                                  & us                                                                 & secure\\_mirror\\_from\\_master                                   \\\\\n",
       "\t137 & USA (MI 1)                                                         & USA                                                                & Houghton                                                           & http://cran.mtu.edu/                                               & Michigan Technological University, Houghton, MI                    & Robert Froese <froese \\# mtu.edu>                                 & 1                                                                  & us                                                                 & secure\\_mirror\\_from\\_master                                   \\\\\n",
       "\t138 & USA (MO)                                                           & USA                                                                & St. Louis                                                          & http://cran.wustl.edu/                                             & Washington University, St. Louis, MO                               & admartin \\# wustl.edu                                             & 1                                                                  & us                                                                 & maintainer\\_address\\_bounces                                    \\\\\n",
       "\t139 & USA (NC)                                                           & USA                                                                & Durham                                                             & http://archive.linux.duke.edu/cran/                                & Duke University, Durham, NC                                        & csi-linux-admins \\# duke.edu                                      & 1                                                                  & us                                                                 &                                                                   \\\\\n",
       "\t140 & USA (OH 1)                                                         & USA                                                                & Cleveland                                                          & http://cran.case.edu/                                              & Case Western Reserve University, Cleveland, OH                     & \"Alberto H. Santana\" <ahs4 \\# case.edu>                           & 1                                                                  & us                                                                 &                                                                   \\\\\n",
       "\t141 & USA (OH 2)                                                         & USA                                                                & Dayton                                                             & http://iis.stat.wright.edu/CRAN/                                   & Wright State University, Dayton, OH                                & Gengxin Li <gengxin.li \\# wright.edu>                             & 1                                                                  & us                                                                 &                                                                   \\\\\n",
       "\t142 & USA (OR) {[}https{]}                                               & USA                                                                & Corvallis                                                          & https://ftp.osuosl.org/pub/cran/                                   & Oregon State University                                            & support \\# Osuosl.org                                             & 1                                                                  & us                                                                 & secure\\_mirror\\_from\\_master                                   \\\\\n",
       "\t143 & USA (OR)                                                           & USA                                                                & Corvallis                                                          & http://ftp.osuosl.org/pub/cran/                                    & Oregon State University                                            & support \\# Osuosl.org                                             & 1                                                                  & us                                                                 & secure\\_mirror\\_from\\_master                                   \\\\\n",
       "\t144 & USA (PA 1)                                                         & USA                                                                & Pittsburgh                                                         & http://lib.stat.cmu.edu/R/CRAN/                                    & Statlib, Carnegie Mellon University, Pittsburgh, PA                & Carl Skipper <remarks \\# stat.cmu.edu>                            & 1                                                                  & us                                                                 &                                                                   \\\\\n",
       "\t145 & USA (PA 2)                                                         & USA                                                                & Pittsburgh                                                         & http://cran.mirrors.hoobly.com/                                    & Hoobly Classifieds, Pittsburgh, PA                                 & Peter Grigor <pgrigor \\# hoobly.com>                              & 1                                                                  & us                                                                 &                                                                   \\\\\n",
       "\t146 & USA (TN) {[}https{]}                                               & USA                                                                & Oak Ridge                                                          & https://mirrors.nics.utk.edu/cran/                                 & National Institute for Computational Sciences, Oak Ridge, TN       & help \\# nics.utk.edu                                              & 1                                                                  & us                                                                 & secure\\_mirror\\_from\\_master                                   \\\\\n",
       "\t147 & USA (TN)                                                           & USA                                                                & Oak Ridge                                                          & http://mirrors.nics.utk.edu/cran/                                  & National Institute for Computational Sciences, Oak Ridge, TN       & help \\# nics.utk.edu                                              & 1                                                                  & us                                                                 & secure\\_mirror\\_from\\_master                                   \\\\\n",
       "\t148 & USA (TX 1) {[}https{]}                                             & USA                                                                & Dallas                                                             & https://cran.revolutionanalytics.com/                              & Revolution Analytics, Dallas, TX                                   & David Smith <david \\# revolutionanalytics.com>                    & 1                                                                  & us                                                                 & secure\\_mirror\\_from\\_master                                   \\\\\n",
       "\t149 & USA (TX 1)                                                         & USA                                                                & Dallas                                                             & http://cran.revolutionanalytics.com/                               & Revolution Analytics, Dallas, TX                                   & David Smith <david \\# revolutionanalytics.com>                    & 1                                                                  & us                                                                 & secure\\_mirror\\_from\\_master                                   \\\\\n",
       "\t150 & Vietnam {[}https{]}                                                & Vietnam                                                            & Ho Chi Minh                                                        & https://mirror.vinahost.vn/CRAN/                                   & VinaHost                                                           & tienhn \\# vinahost.vn                                             & 1                                                                  & vn                                                                 & secure\\_mirror\\_from\\_master                                   \\\\\n",
       "\t151 & Venezuela                                                          & Venezuela                                                          & Valencia                                                           & http://camoruco.ing.uc.edu.ve/cran/                                & Universidad de Carabobo Venezuela                                  & dir-imyca \\# uc.edu.ve                                            & 1                                                                  & ve                                                                 &                                                                   \\\\\n",
       "\\end{tabular}\n"
      ],
      "text/markdown": [
       "\n",
       "| <!--/--> | Name | Country | City | URL | Host | Maintainer | OK | CountryCode | Comment | \n",
       "|---|---|---|---|---|---|---|---|---|---|---|---|---|---|---|---|---|---|---|---|---|---|---|---|---|---|---|---|---|---|---|---|---|---|---|---|---|---|---|---|---|---|---|---|---|---|---|---|---|---|---|---|---|---|---|---|---|---|---|---|---|\n",
       "| 1 | 0-Cloud [https]                                                            | 0-Cloud                                                                    | 0-Cloud                                                                    | https://cloud.r-project.org/                                               | Automatic redirection to servers worldwide, currently sponsored by Rstudio | winston # stdout.org                                                       | 1                                                                          | us                                                                         | secure_mirror_from_master                                                  | \n",
       "| 2 | 0-Cloud                                                                    | 0-Cloud                                                                    | 0-Cloud                                                                    | http://cloud.r-project.org/                                                | Automatic redirection to servers worldwide, currently sponsored by Rstudio | winston # stdout.org                                                       | 1                                                                          | us                                                                         | secure_mirror_from_master                                                  | \n",
       "| 3 | Algeria [https]                                                            | Algeria                                                                    | Algiers                                                                    | https://cran.usthb.dz/                                                     | University of Science and Technology Houari Boumediene                     | Boukala m c <mboukala # usthb.dz>                                          | 1                                                                          | dz                                                                         | secure_mirror_from_master                                                  | \n",
       "| 4 | Algeria                                                                    | Algeria                                                                    | Algiers                                                                    | http://cran.usthb.dz/                                                      | University of Science and Technology Houari Boumediene                     | Boukala m c <mboukala # usthb.dz>                                          | 1                                                                          | dz                                                                         | secure_mirror_from_master                                                  | \n",
       "| 5 | Argentina (La Plata)                                                       | Argentina                                                                  | La Plata                                                                   | http://mirror.fcaglp.unlp.edu.ar/CRAN/                                     | Universidad Nacional de La Plata                                           | esuarez # Fcaglp.unlp.edu.ar                                               | 1                                                                          | ar                                                                         |                                                                            | \n",
       "| 6 | Australia (Canberra) [https]                                               | Australia                                                                  | Canberra                                                                   | https://cran.csiro.au/                                                     | CSIRO                                                                      | Bill.Venables # CSIRO.au, ServiceDesk2 # CSIRO.au                          | 1                                                                          | au                                                                         | secure_mirror_from_master                                                  | \n",
       "| 7 | Australia (Canberra)                                                       | Australia                                                                  | Canberra                                                                   | http://cran.csiro.au/                                                      | CSIRO                                                                      | Bill.Venables # CSIRO.au, ServiceDesk2 # CSIRO.au                          | 1                                                                          | au                                                                         | secure_mirror_from_master                                                  | \n",
       "| 8 | Australia (Melbourne 1) [https]                                            | Australia                                                                  | Melbourne                                                                  | https://mirror.aarnet.edu.au/pub/CRAN/                                     | AARNET                                                                     | <sysadmin # aarnet.edu.au>                                                 | 1                                                                          | au                                                                         | secure_mirror_from_master                                                  | \n",
       "| 9 | Australia (Melbourne 2) [https]                                            | Australia                                                                  | Melbourne                                                                  | https://cran.ms.unimelb.edu.au/                                            | School of Mathematics and Statistics, University of Melbourne              | unix-ops # lists.unimelb.edu.au                                            | 1                                                                          | au                                                                         | secure_mirror_from_master                                                  | \n",
       "| 10 | Australia (Perth) [https]                                                  | Australia                                                                  | Perth                                                                      | https://cran.curtin.edu.au/                                                | Curtin University of Technology                                            | unix # curtin.edu.au                                                       | 1                                                                          | au                                                                         | secure_mirror_from_master                                                  | \n",
       "| 11 | Austria [https]                                                            | Austria                                                                    | Wien                                                                       | https://cran.wu.ac.at/                                                     | Wirtschaftsuniversität Wien                                                | CRAN # R-project.org                                                       | 1                                                                          | at                                                                         | secure_mirror_from_master                                                  | \n",
       "| 12 | Austria                                                                    | Austria                                                                    | Wien                                                                       | http://cran.wu.ac.at/                                                      | Wirtschaftsuniversität Wien                                                | CRAN # R-project.org                                                       | 1                                                                          | at                                                                         | secure_mirror_from_master                                                  | \n",
       "| 13 | Belgium (Antwerp)                                                          | Belgium                                                                    | Antwerp                                                                    | http://www.freestatistics.org/cran/                                        | K.U.Leuven Association                                                     | patrick # wessa.net                                                        | 1                                                                          | be                                                                         |                                                                            | \n",
       "| 14 | Belgium (Ghent) [https]                                                    | Belgium                                                                    | Ghent                                                                      | https://lib.ugent.be/CRAN/                                                 | Ghent University Library                                                   | Patrick Hochstenbach <Patrick.Hochstenbach # UGent.be>                     | 1                                                                          | be                                                                         | secure_mirror_from_master                                                  | \n",
       "| 15 | Belgium (Ghent)                                                            | Belgium                                                                    | Ghent                                                                      | http://lib.ugent.be/CRAN/                                                  | Ghent University Library                                                   | Patrick Hochstenbach <Patrick.Hochstenbach # UGent.be>                     | 1                                                                          | be                                                                         | secure_mirror_from_master                                                  | \n",
       "| 16 | Brazil (BA)                                                                | Brazil                                                                     | Ilheus                                                                     | http://nbcgib.uesc.br/mirrors/cran/                                        | Center for Comp. Biol. at Universidade Estadual de Santa Cruz              | eduardo # nbcgib.uesc.br                                                   | 1                                                                          | br                                                                         |                                                                            | \n",
       "| 17 | Brazil (PR) [https]                                                        | Brazil                                                                     | Curitiba                                                                   | https://cran-r.c3sl.ufpr.br/                                               | Universidade Federal do Parana                                             | root # c3sl.ufpr.br                                                        | 1                                                                          | br                                                                         |                                                                            | \n",
       "| 18 | Brazil (PR)                                                                | Brazil                                                                     | Curitiba                                                                   | http://cran-r.c3sl.ufpr.br/                                                | Universidade Federal do Parana                                             | root # c3sl.ufpr.br                                                        | 1                                                                          | br                                                                         |                                                                            | \n",
       "| 19 | Brazil (RJ) [https]                                                        | Brazil                                                                     | Rio de Janeiro                                                             | https://cran.fiocruz.br/                                                   | Oswaldo Cruz Foundation, Rio de Janeiro                                    | oswaldo.cruz # fiocruz.br                                                  | 1                                                                          | br                                                                         | secure_mirror_from_master                                                  | \n",
       "| 20 | Brazil (RJ)                                                                | Brazil                                                                     | Rio de Janeiro                                                             | http://cran.fiocruz.br/                                                    | Oswaldo Cruz Foundation, Rio de Janeiro                                    | oswaldo.cruz # fiocruz.br                                                  | 1                                                                          | br                                                                         | secure_mirror_from_master                                                  | \n",
       "| 21 | Brazil (SP 1) [https]                                                      | Brazil                                                                     | Sao Paulo                                                                  | https://vps.fmvz.usp.br/CRAN/                                              | University of Sao Paulo, Sao Paulo                                         | Fernando Ferreira <fernando # vps.fmvz.usp.br>                             | 1                                                                          | br                                                                         | secure_mirror_from_master                                                  | \n",
       "| 22 | Brazil (SP 1)                                                              | Brazil                                                                     | Sao Paulo                                                                  | http://vps.fmvz.usp.br/CRAN/                                               | University of Sao Paulo, Sao Paulo                                         | Fernando Ferreira <fernando # vps.fmvz.usp.br>                             | 1                                                                          | br                                                                         | secure_mirror_from_master                                                  | \n",
       "| 23 | Brazil (SP 2)                                                              | Brazil                                                                     | Piracicaba                                                                 | http://brieger.esalq.usp.br/CRAN/                                          | University of Sao Paulo, Piracicaba                                        | A Augusto F Garcia <aafgarci # gmail.com>, augusto.garcia # usp.br         | 1                                                                          | br                                                                         |                                                                            | \n",
       "| 24 | Bulgaria [https]                                                           | Bulgaria                                                                   | Sofia                                                                      | https://ftp.uni-sofia.bg/CRAN/                                             | Sofia University                                                           | Alexander Velin <velin # fccf.net>                                         | 1                                                                          | bg                                                                         | secure_mirror_from_master                                                  | \n",
       "| 25 | Bulgaria                                                                   | Bulgaria                                                                   | Sofia                                                                      | http://ftp.uni-sofia.bg/CRAN/                                              | Sofia University                                                           | Alexander Velin <velin # fccf.net>                                         | 1                                                                          | bg                                                                         | secure_mirror_from_master                                                  | \n",
       "| 26 | Canada (BC)                                                                | Canada                                                                     | Burnaby                                                                    | http://cran.stat.sfu.ca/                                                   | Simon Fraser University, Burnaby                                           | gripe # sfu.ca                                                             | 1                                                                          | ca                                                                         | maintainer_address_bounces                                                 | \n",
       "| 27 | Canada (MB) [https]                                                        | Canada                                                                     | Winnipeg                                                                   | https://muug.ca/mirror/cran/                                               | Manitoba Unix User Group                                                   | mirror # muug.ca                                                           | 1                                                                          | ca                                                                         |                                                                            | \n",
       "| 28 | Canada (MB)                                                                | Canada                                                                     | Winnipeg                                                                   | http://muug.ca/mirror/cran/                                                | Manitoba Unix User Group                                                   | mirror # muug.ca                                                           | 1                                                                          | ca                                                                         |                                                                            | \n",
       "| 29 | Canada (NS)                                                                | Canada                                                                     | Halifax                                                                    | http://mirror.its.dal.ca/cran/                                             | Dalhousie University, Halifax                                              | mirror # lists.dal.ca                                                      | 1                                                                          | ca                                                                         |                                                                            | \n",
       "| 30 | Canada (ON)                                                                | Canada                                                                     | Toronto                                                                    | http://cran.utstat.utoronto.ca/                                            | University of Toronto                                                      | Dermot Whelan <wheland # utstat.utoronto.ca>                               | 1                                                                          | ca                                                                         |                                                                            | \n",
       "| ... | ... | ... | ... | ... | ... | ... | ... | ... | ... | \n",
       "| 121 | UK (Bristol)                                                     | UK                                                               | Bristol                                                          | http://www.stats.bris.ac.uk/R/                                   | University of Bristol                                            | Guy Nason <G.P.Nason # bristol.ac.uk>, it-zone-d # bristol.ac.uk | 1                                                                | uk                                                               | secure_mirror_from_master                                        | \n",
       "| 122 | UK (Cambridge) [https]                                           | UK                                                               | Cambridge                                                        | https://mirrors.ebi.ac.uk/CRAN/                                  | EMBL-EBI (European Bioinformatics Institute)                     | Andrew Tikhonov <andrew # ebi.ac.uk>                             | 1                                                                | uk                                                               | secure_mirror_from_master                                        | \n",
       "| 123 | UK (Cambridge)                                                   | UK                                                               | Cambridge                                                        | http://mirrors.ebi.ac.uk/CRAN/                                   | EMBL-EBI (European Bioinformatics Institute)                     | Andrew Tikhonov <andrew # ebi.ac.uk>                             | 1                                                                | uk                                                               | secure_mirror_from_master                                        | \n",
       "| 124 | UK (London 1) [https]                                            | UK                                                               | London                                                           | https://cran.ma.imperial.ac.uk/                                  | Imperial College London                                          | andy.thomas # imperial.ac.uk                                     | 1                                                                | uk                                                               | secure_mirror_from_master                                        | \n",
       "| 125 | UK (London 1)                                                    | UK                                                               | London                                                           | http://cran.ma.imperial.ac.uk/                                   | Imperial College London                                          | andy.thomas # imperial.ac.uk                                     | 1                                                                | uk                                                               | secure_mirror_from_master                                        | \n",
       "| 127 | USA (CA 1) [https]                                               | USA                                                              | Berkeley                                                         | https://cran.cnr.berkeley.edu/                                   | University of California, Berkeley, CA                           | casterln # nature.berkeley.edu                                   | 1                                                                | us                                                               | secure_mirror_from_master                                        | \n",
       "| 128 | USA (CA 1)                                                       | USA                                                              | Berkeley                                                         | http://cran.cnr.berkeley.edu/                                    | University of California, Berkeley, CA                           | casterln # nature.berkeley.edu                                   | 1                                                                | us                                                               | secure_mirror_from_master                                        | \n",
       "| 129 | USA (CA 2)                                                       | USA                                                              | Los Angeles                                                      | http://cran.stat.ucla.edu/                                       | University of California, Los Angeles, CA                        | Jose Hales-Garcia <jose # stat.ucla.edu>                         | 1                                                                | us                                                               |                                                                  | \n",
       "| 130 | USA (IA) [https]                                                 | USA                                                              | Ames                                                             | https://mirror.las.iastate.edu/CRAN/                             | Iowa State University, Ames, IA                                  | statit # iastate.edu                                             | 1                                                                | us                                                               | secure_mirror_from_master                                        | \n",
       "| 131 | USA (IA)                                                         | USA                                                              | Ames                                                             | http://mirror.las.iastate.edu/CRAN/                              | Iowa State University, Ames, IA                                  | statit # iastate.edu                                             | 1                                                                | us                                                               | secure_mirror_from_master                                        | \n",
       "| 132 | USA (IN) [https]                                                 | USA                                                              | Bloomington                                                      | https://ftp.ussg.iu.edu/CRAN/                                    | Indiana University                                               | rtadmin # indiana.edu                                            | 1                                                                | us                                                               |                                                                  | \n",
       "| 133 | USA (IN)                                                         | USA                                                              | Bloomington                                                      | http://ftp.ussg.iu.edu/CRAN/                                     | Indiana University                                               | rtadmin # indiana.edu                                            | 1                                                                | us                                                               |                                                                  | \n",
       "| 134 | USA (KS) [https]                                                 | USA                                                              | Lawrence                                                         | https://rweb.crmda.ku.edu/cran/                                  | University of Kansas, Lawrence, KS                               | Paul Johnson <pauljohn # ku.edu>                                 | 1                                                                | us                                                               | secure_mirror_from_master                                        | \n",
       "| 135 | USA (KS)                                                         | USA                                                              | Lawrence                                                         | http://rweb.crmda.ku.edu/cran/                                   | University of Kansas, Lawrence, KS                               | Paul Johnson <pauljohn # ku.edu>                                 | 1                                                                | us                                                               | secure_mirror_from_master                                        | \n",
       "| 136 | USA (MI 1) [https]                                               | USA                                                              | Houghton                                                         | https://cran.mtu.edu/                                            | Michigan Technological University, Houghton, MI                  | Robert Froese <froese # mtu.edu>                                 | 1                                                                | us                                                               | secure_mirror_from_master                                        | \n",
       "| 137 | USA (MI 1)                                                       | USA                                                              | Houghton                                                         | http://cran.mtu.edu/                                             | Michigan Technological University, Houghton, MI                  | Robert Froese <froese # mtu.edu>                                 | 1                                                                | us                                                               | secure_mirror_from_master                                        | \n",
       "| 138 | USA (MO)                                                         | USA                                                              | St. Louis                                                        | http://cran.wustl.edu/                                           | Washington University, St. Louis, MO                             | admartin # wustl.edu                                             | 1                                                                | us                                                               | maintainer_address_bounces                                       | \n",
       "| 139 | USA (NC)                                                         | USA                                                              | Durham                                                           | http://archive.linux.duke.edu/cran/                              | Duke University, Durham, NC                                      | csi-linux-admins # duke.edu                                      | 1                                                                | us                                                               |                                                                  | \n",
       "| 140 | USA (OH 1)                                                       | USA                                                              | Cleveland                                                        | http://cran.case.edu/                                            | Case Western Reserve University, Cleveland, OH                   | \"Alberto H. Santana\" <ahs4 # case.edu>                           | 1                                                                | us                                                               |                                                                  | \n",
       "| 141 | USA (OH 2)                                                       | USA                                                              | Dayton                                                           | http://iis.stat.wright.edu/CRAN/                                 | Wright State University, Dayton, OH                              | Gengxin Li <gengxin.li # wright.edu>                             | 1                                                                | us                                                               |                                                                  | \n",
       "| 142 | USA (OR) [https]                                                 | USA                                                              | Corvallis                                                        | https://ftp.osuosl.org/pub/cran/                                 | Oregon State University                                          | support # Osuosl.org                                             | 1                                                                | us                                                               | secure_mirror_from_master                                        | \n",
       "| 143 | USA (OR)                                                         | USA                                                              | Corvallis                                                        | http://ftp.osuosl.org/pub/cran/                                  | Oregon State University                                          | support # Osuosl.org                                             | 1                                                                | us                                                               | secure_mirror_from_master                                        | \n",
       "| 144 | USA (PA 1)                                                       | USA                                                              | Pittsburgh                                                       | http://lib.stat.cmu.edu/R/CRAN/                                  | Statlib, Carnegie Mellon University, Pittsburgh, PA              | Carl Skipper <remarks # stat.cmu.edu>                            | 1                                                                | us                                                               |                                                                  | \n",
       "| 145 | USA (PA 2)                                                       | USA                                                              | Pittsburgh                                                       | http://cran.mirrors.hoobly.com/                                  | Hoobly Classifieds, Pittsburgh, PA                               | Peter Grigor <pgrigor # hoobly.com>                              | 1                                                                | us                                                               |                                                                  | \n",
       "| 146 | USA (TN) [https]                                                 | USA                                                              | Oak Ridge                                                        | https://mirrors.nics.utk.edu/cran/                               | National Institute for Computational Sciences, Oak Ridge, TN     | help # nics.utk.edu                                              | 1                                                                | us                                                               | secure_mirror_from_master                                        | \n",
       "| 147 | USA (TN)                                                         | USA                                                              | Oak Ridge                                                        | http://mirrors.nics.utk.edu/cran/                                | National Institute for Computational Sciences, Oak Ridge, TN     | help # nics.utk.edu                                              | 1                                                                | us                                                               | secure_mirror_from_master                                        | \n",
       "| 148 | USA (TX 1) [https]                                               | USA                                                              | Dallas                                                           | https://cran.revolutionanalytics.com/                            | Revolution Analytics, Dallas, TX                                 | David Smith <david # revolutionanalytics.com>                    | 1                                                                | us                                                               | secure_mirror_from_master                                        | \n",
       "| 149 | USA (TX 1)                                                       | USA                                                              | Dallas                                                           | http://cran.revolutionanalytics.com/                             | Revolution Analytics, Dallas, TX                                 | David Smith <david # revolutionanalytics.com>                    | 1                                                                | us                                                               | secure_mirror_from_master                                        | \n",
       "| 150 | Vietnam [https]                                                  | Vietnam                                                          | Ho Chi Minh                                                      | https://mirror.vinahost.vn/CRAN/                                 | VinaHost                                                         | tienhn # vinahost.vn                                             | 1                                                                | vn                                                               | secure_mirror_from_master                                        | \n",
       "| 151 | Venezuela                                                        | Venezuela                                                        | Valencia                                                         | http://camoruco.ing.uc.edu.ve/cran/                              | Universidad de Carabobo Venezuela                                | dir-imyca # uc.edu.ve                                            | 1                                                                | ve                                                               |                                                                  | \n",
       "\n",
       "\n"
      ],
      "text/plain": [
       "    Name                            Country   City          \n",
       "1   0-Cloud [https]                 0-Cloud   0-Cloud       \n",
       "2   0-Cloud                         0-Cloud   0-Cloud       \n",
       "3   Algeria [https]                 Algeria   Algiers       \n",
       "4   Algeria                         Algeria   Algiers       \n",
       "5   Argentina (La Plata)            Argentina La Plata      \n",
       "6   Australia (Canberra) [https]    Australia Canberra      \n",
       "7   Australia (Canberra)            Australia Canberra      \n",
       "8   Australia (Melbourne 1) [https] Australia Melbourne     \n",
       "9   Australia (Melbourne 2) [https] Australia Melbourne     \n",
       "10  Australia (Perth) [https]       Australia Perth         \n",
       "11  Austria [https]                 Austria   Wien          \n",
       "12  Austria                         Austria   Wien          \n",
       "13  Belgium (Antwerp)               Belgium   Antwerp       \n",
       "14  Belgium (Ghent) [https]         Belgium   Ghent         \n",
       "15  Belgium (Ghent)                 Belgium   Ghent         \n",
       "16  Brazil (BA)                     Brazil    Ilheus        \n",
       "17  Brazil (PR) [https]             Brazil    Curitiba      \n",
       "18  Brazil (PR)                     Brazil    Curitiba      \n",
       "19  Brazil (RJ) [https]             Brazil    Rio de Janeiro\n",
       "20  Brazil (RJ)                     Brazil    Rio de Janeiro\n",
       "21  Brazil (SP 1) [https]           Brazil    Sao Paulo     \n",
       "22  Brazil (SP 1)                   Brazil    Sao Paulo     \n",
       "23  Brazil (SP 2)                   Brazil    Piracicaba    \n",
       "24  Bulgaria [https]                Bulgaria  Sofia         \n",
       "25  Bulgaria                        Bulgaria  Sofia         \n",
       "26  Canada (BC)                     Canada    Burnaby       \n",
       "27  Canada (MB) [https]             Canada    Winnipeg      \n",
       "28  Canada (MB)                     Canada    Winnipeg      \n",
       "29  Canada (NS)                     Canada    Halifax       \n",
       "30  Canada (ON)                     Canada    Toronto       \n",
       "... ...                             ...       ...           \n",
       "121 UK (Bristol)                    UK        Bristol       \n",
       "122 UK (Cambridge) [https]          UK        Cambridge     \n",
       "123 UK (Cambridge)                  UK        Cambridge     \n",
       "124 UK (London 1) [https]           UK        London        \n",
       "125 UK (London 1)                   UK        London        \n",
       "127 USA (CA 1) [https]              USA       Berkeley      \n",
       "128 USA (CA 1)                      USA       Berkeley      \n",
       "129 USA (CA 2)                      USA       Los Angeles   \n",
       "130 USA (IA) [https]                USA       Ames          \n",
       "131 USA (IA)                        USA       Ames          \n",
       "132 USA (IN) [https]                USA       Bloomington   \n",
       "133 USA (IN)                        USA       Bloomington   \n",
       "134 USA (KS) [https]                USA       Lawrence      \n",
       "135 USA (KS)                        USA       Lawrence      \n",
       "136 USA (MI 1) [https]              USA       Houghton      \n",
       "137 USA (MI 1)                      USA       Houghton      \n",
       "138 USA (MO)                        USA       St. Louis     \n",
       "139 USA (NC)                        USA       Durham        \n",
       "140 USA (OH 1)                      USA       Cleveland     \n",
       "141 USA (OH 2)                      USA       Dayton        \n",
       "142 USA (OR) [https]                USA       Corvallis     \n",
       "143 USA (OR)                        USA       Corvallis     \n",
       "144 USA (PA 1)                      USA       Pittsburgh    \n",
       "145 USA (PA 2)                      USA       Pittsburgh    \n",
       "146 USA (TN) [https]                USA       Oak Ridge     \n",
       "147 USA (TN)                        USA       Oak Ridge     \n",
       "148 USA (TX 1) [https]              USA       Dallas        \n",
       "149 USA (TX 1)                      USA       Dallas        \n",
       "150 Vietnam [https]                 Vietnam   Ho Chi Minh   \n",
       "151 Venezuela                       Venezuela Valencia      \n",
       "    URL                                   \n",
       "1   https://cloud.r-project.org/          \n",
       "2   http://cloud.r-project.org/           \n",
       "3   https://cran.usthb.dz/                \n",
       "4   http://cran.usthb.dz/                 \n",
       "5   http://mirror.fcaglp.unlp.edu.ar/CRAN/\n",
       "6   https://cran.csiro.au/                \n",
       "7   http://cran.csiro.au/                 \n",
       "8   https://mirror.aarnet.edu.au/pub/CRAN/\n",
       "9   https://cran.ms.unimelb.edu.au/       \n",
       "10  https://cran.curtin.edu.au/           \n",
       "11  https://cran.wu.ac.at/                \n",
       "12  http://cran.wu.ac.at/                 \n",
       "13  http://www.freestatistics.org/cran/   \n",
       "14  https://lib.ugent.be/CRAN/            \n",
       "15  http://lib.ugent.be/CRAN/             \n",
       "16  http://nbcgib.uesc.br/mirrors/cran/   \n",
       "17  https://cran-r.c3sl.ufpr.br/          \n",
       "18  http://cran-r.c3sl.ufpr.br/           \n",
       "19  https://cran.fiocruz.br/              \n",
       "20  http://cran.fiocruz.br/               \n",
       "21  https://vps.fmvz.usp.br/CRAN/         \n",
       "22  http://vps.fmvz.usp.br/CRAN/          \n",
       "23  http://brieger.esalq.usp.br/CRAN/     \n",
       "24  https://ftp.uni-sofia.bg/CRAN/        \n",
       "25  http://ftp.uni-sofia.bg/CRAN/         \n",
       "26  http://cran.stat.sfu.ca/              \n",
       "27  https://muug.ca/mirror/cran/          \n",
       "28  http://muug.ca/mirror/cran/           \n",
       "29  http://mirror.its.dal.ca/cran/        \n",
       "30  http://cran.utstat.utoronto.ca/       \n",
       "... ...                                   \n",
       "121 http://www.stats.bris.ac.uk/R/        \n",
       "122 https://mirrors.ebi.ac.uk/CRAN/       \n",
       "123 http://mirrors.ebi.ac.uk/CRAN/        \n",
       "124 https://cran.ma.imperial.ac.uk/       \n",
       "125 http://cran.ma.imperial.ac.uk/        \n",
       "127 https://cran.cnr.berkeley.edu/        \n",
       "128 http://cran.cnr.berkeley.edu/         \n",
       "129 http://cran.stat.ucla.edu/            \n",
       "130 https://mirror.las.iastate.edu/CRAN/  \n",
       "131 http://mirror.las.iastate.edu/CRAN/   \n",
       "132 https://ftp.ussg.iu.edu/CRAN/         \n",
       "133 http://ftp.ussg.iu.edu/CRAN/          \n",
       "134 https://rweb.crmda.ku.edu/cran/       \n",
       "135 http://rweb.crmda.ku.edu/cran/        \n",
       "136 https://cran.mtu.edu/                 \n",
       "137 http://cran.mtu.edu/                  \n",
       "138 http://cran.wustl.edu/                \n",
       "139 http://archive.linux.duke.edu/cran/   \n",
       "140 http://cran.case.edu/                 \n",
       "141 http://iis.stat.wright.edu/CRAN/      \n",
       "142 https://ftp.osuosl.org/pub/cran/      \n",
       "143 http://ftp.osuosl.org/pub/cran/       \n",
       "144 http://lib.stat.cmu.edu/R/CRAN/       \n",
       "145 http://cran.mirrors.hoobly.com/       \n",
       "146 https://mirrors.nics.utk.edu/cran/    \n",
       "147 http://mirrors.nics.utk.edu/cran/     \n",
       "148 https://cran.revolutionanalytics.com/ \n",
       "149 http://cran.revolutionanalytics.com/  \n",
       "150 https://mirror.vinahost.vn/CRAN/      \n",
       "151 http://camoruco.ing.uc.edu.ve/cran/   \n",
       "    Host                                                                      \n",
       "1   Automatic redirection to servers worldwide, currently sponsored by Rstudio\n",
       "2   Automatic redirection to servers worldwide, currently sponsored by Rstudio\n",
       "3   University of Science and Technology Houari Boumediene                    \n",
       "4   University of Science and Technology Houari Boumediene                    \n",
       "5   Universidad Nacional de La Plata                                          \n",
       "6   CSIRO                                                                     \n",
       "7   CSIRO                                                                     \n",
       "8   AARNET                                                                    \n",
       "9   School of Mathematics and Statistics, University of Melbourne             \n",
       "10  Curtin University of Technology                                           \n",
       "11  Wirtschaftsuniversität Wien                                               \n",
       "12  Wirtschaftsuniversität Wien                                               \n",
       "13  K.U.Leuven Association                                                    \n",
       "14  Ghent University Library                                                  \n",
       "15  Ghent University Library                                                  \n",
       "16  Center for Comp. Biol. at Universidade Estadual de Santa Cruz             \n",
       "17  Universidade Federal do Parana                                            \n",
       "18  Universidade Federal do Parana                                            \n",
       "19  Oswaldo Cruz Foundation, Rio de Janeiro                                   \n",
       "20  Oswaldo Cruz Foundation, Rio de Janeiro                                   \n",
       "21  University of Sao Paulo, Sao Paulo                                        \n",
       "22  University of Sao Paulo, Sao Paulo                                        \n",
       "23  University of Sao Paulo, Piracicaba                                       \n",
       "24  Sofia University                                                          \n",
       "25  Sofia University                                                          \n",
       "26  Simon Fraser University, Burnaby                                          \n",
       "27  Manitoba Unix User Group                                                  \n",
       "28  Manitoba Unix User Group                                                  \n",
       "29  Dalhousie University, Halifax                                             \n",
       "30  University of Toronto                                                     \n",
       "... ...                                                                       \n",
       "121 University of Bristol                                                     \n",
       "122 EMBL-EBI (European Bioinformatics Institute)                              \n",
       "123 EMBL-EBI (European Bioinformatics Institute)                              \n",
       "124 Imperial College London                                                   \n",
       "125 Imperial College London                                                   \n",
       "127 University of California, Berkeley, CA                                    \n",
       "128 University of California, Berkeley, CA                                    \n",
       "129 University of California, Los Angeles, CA                                 \n",
       "130 Iowa State University, Ames, IA                                           \n",
       "131 Iowa State University, Ames, IA                                           \n",
       "132 Indiana University                                                        \n",
       "133 Indiana University                                                        \n",
       "134 University of Kansas, Lawrence, KS                                        \n",
       "135 University of Kansas, Lawrence, KS                                        \n",
       "136 Michigan Technological University, Houghton, MI                           \n",
       "137 Michigan Technological University, Houghton, MI                           \n",
       "138 Washington University, St. Louis, MO                                      \n",
       "139 Duke University, Durham, NC                                               \n",
       "140 Case Western Reserve University, Cleveland, OH                            \n",
       "141 Wright State University, Dayton, OH                                       \n",
       "142 Oregon State University                                                   \n",
       "143 Oregon State University                                                   \n",
       "144 Statlib, Carnegie Mellon University, Pittsburgh, PA                       \n",
       "145 Hoobly Classifieds, Pittsburgh, PA                                        \n",
       "146 National Institute for Computational Sciences, Oak Ridge, TN              \n",
       "147 National Institute for Computational Sciences, Oak Ridge, TN              \n",
       "148 Revolution Analytics, Dallas, TX                                          \n",
       "149 Revolution Analytics, Dallas, TX                                          \n",
       "150 VinaHost                                                                  \n",
       "151 Universidad de Carabobo Venezuela                                         \n",
       "    Maintainer                                                         OK \n",
       "1   winston # stdout.org                                               1  \n",
       "2   winston # stdout.org                                               1  \n",
       "3   Boukala m c <mboukala # usthb.dz>                                  1  \n",
       "4   Boukala m c <mboukala # usthb.dz>                                  1  \n",
       "5   esuarez # Fcaglp.unlp.edu.ar                                       1  \n",
       "6   Bill.Venables # CSIRO.au, ServiceDesk2 # CSIRO.au                  1  \n",
       "7   Bill.Venables # CSIRO.au, ServiceDesk2 # CSIRO.au                  1  \n",
       "8   <sysadmin # aarnet.edu.au>                                         1  \n",
       "9   unix-ops # lists.unimelb.edu.au                                    1  \n",
       "10  unix # curtin.edu.au                                               1  \n",
       "11  CRAN # R-project.org                                               1  \n",
       "12  CRAN # R-project.org                                               1  \n",
       "13  patrick # wessa.net                                                1  \n",
       "14  Patrick Hochstenbach <Patrick.Hochstenbach # UGent.be>             1  \n",
       "15  Patrick Hochstenbach <Patrick.Hochstenbach # UGent.be>             1  \n",
       "16  eduardo # nbcgib.uesc.br                                           1  \n",
       "17  root # c3sl.ufpr.br                                                1  \n",
       "18  root # c3sl.ufpr.br                                                1  \n",
       "19  oswaldo.cruz # fiocruz.br                                          1  \n",
       "20  oswaldo.cruz # fiocruz.br                                          1  \n",
       "21  Fernando Ferreira <fernando # vps.fmvz.usp.br>                     1  \n",
       "22  Fernando Ferreira <fernando # vps.fmvz.usp.br>                     1  \n",
       "23  A Augusto F Garcia <aafgarci # gmail.com>, augusto.garcia # usp.br 1  \n",
       "24  Alexander Velin <velin # fccf.net>                                 1  \n",
       "25  Alexander Velin <velin # fccf.net>                                 1  \n",
       "26  gripe # sfu.ca                                                     1  \n",
       "27  mirror # muug.ca                                                   1  \n",
       "28  mirror # muug.ca                                                   1  \n",
       "29  mirror # lists.dal.ca                                              1  \n",
       "30  Dermot Whelan <wheland # utstat.utoronto.ca>                       1  \n",
       "... ...                                                                ...\n",
       "121 Guy Nason <G.P.Nason # bristol.ac.uk>, it-zone-d # bristol.ac.uk   1  \n",
       "122 Andrew Tikhonov <andrew # ebi.ac.uk>                               1  \n",
       "123 Andrew Tikhonov <andrew # ebi.ac.uk>                               1  \n",
       "124 andy.thomas # imperial.ac.uk                                       1  \n",
       "125 andy.thomas # imperial.ac.uk                                       1  \n",
       "127 casterln # nature.berkeley.edu                                     1  \n",
       "128 casterln # nature.berkeley.edu                                     1  \n",
       "129 Jose Hales-Garcia <jose # stat.ucla.edu>                           1  \n",
       "130 statit # iastate.edu                                               1  \n",
       "131 statit # iastate.edu                                               1  \n",
       "132 rtadmin # indiana.edu                                              1  \n",
       "133 rtadmin # indiana.edu                                              1  \n",
       "134 Paul Johnson <pauljohn # ku.edu>                                   1  \n",
       "135 Paul Johnson <pauljohn # ku.edu>                                   1  \n",
       "136 Robert Froese <froese # mtu.edu>                                   1  \n",
       "137 Robert Froese <froese # mtu.edu>                                   1  \n",
       "138 admartin # wustl.edu                                               1  \n",
       "139 csi-linux-admins # duke.edu                                        1  \n",
       "140 \"Alberto H. Santana\" <ahs4 # case.edu>                             1  \n",
       "141 Gengxin Li <gengxin.li # wright.edu>                               1  \n",
       "142 support # Osuosl.org                                               1  \n",
       "143 support # Osuosl.org                                               1  \n",
       "144 Carl Skipper <remarks # stat.cmu.edu>                              1  \n",
       "145 Peter Grigor <pgrigor # hoobly.com>                                1  \n",
       "146 help # nics.utk.edu                                                1  \n",
       "147 help # nics.utk.edu                                                1  \n",
       "148 David Smith <david # revolutionanalytics.com>                      1  \n",
       "149 David Smith <david # revolutionanalytics.com>                      1  \n",
       "150 tienhn # vinahost.vn                                               1  \n",
       "151 dir-imyca # uc.edu.ve                                              1  \n",
       "    CountryCode Comment                   \n",
       "1   us          secure_mirror_from_master \n",
       "2   us          secure_mirror_from_master \n",
       "3   dz          secure_mirror_from_master \n",
       "4   dz          secure_mirror_from_master \n",
       "5   ar                                    \n",
       "6   au          secure_mirror_from_master \n",
       "7   au          secure_mirror_from_master \n",
       "8   au          secure_mirror_from_master \n",
       "9   au          secure_mirror_from_master \n",
       "10  au          secure_mirror_from_master \n",
       "11  at          secure_mirror_from_master \n",
       "12  at          secure_mirror_from_master \n",
       "13  be                                    \n",
       "14  be          secure_mirror_from_master \n",
       "15  be          secure_mirror_from_master \n",
       "16  br                                    \n",
       "17  br                                    \n",
       "18  br                                    \n",
       "19  br          secure_mirror_from_master \n",
       "20  br          secure_mirror_from_master \n",
       "21  br          secure_mirror_from_master \n",
       "22  br          secure_mirror_from_master \n",
       "23  br                                    \n",
       "24  bg          secure_mirror_from_master \n",
       "25  bg          secure_mirror_from_master \n",
       "26  ca          maintainer_address_bounces\n",
       "27  ca                                    \n",
       "28  ca                                    \n",
       "29  ca                                    \n",
       "30  ca                                    \n",
       "... ...         ...                       \n",
       "121 uk          secure_mirror_from_master \n",
       "122 uk          secure_mirror_from_master \n",
       "123 uk          secure_mirror_from_master \n",
       "124 uk          secure_mirror_from_master \n",
       "125 uk          secure_mirror_from_master \n",
       "127 us          secure_mirror_from_master \n",
       "128 us          secure_mirror_from_master \n",
       "129 us                                    \n",
       "130 us          secure_mirror_from_master \n",
       "131 us          secure_mirror_from_master \n",
       "132 us                                    \n",
       "133 us                                    \n",
       "134 us          secure_mirror_from_master \n",
       "135 us          secure_mirror_from_master \n",
       "136 us          secure_mirror_from_master \n",
       "137 us          secure_mirror_from_master \n",
       "138 us          maintainer_address_bounces\n",
       "139 us                                    \n",
       "140 us                                    \n",
       "141 us                                    \n",
       "142 us          secure_mirror_from_master \n",
       "143 us          secure_mirror_from_master \n",
       "144 us                                    \n",
       "145 us                                    \n",
       "146 us          secure_mirror_from_master \n",
       "147 us          secure_mirror_from_master \n",
       "148 us          secure_mirror_from_master \n",
       "149 us          secure_mirror_from_master \n",
       "150 vn          secure_mirror_from_master \n",
       "151 ve                                    "
      ]
     },
     "metadata": {},
     "output_type": "display_data"
    }
   ],
   "source": [
    "getCRANmirrors(all = FALSE, local.only = FALSE)"
   ]
  },
  {
   "cell_type": "markdown",
   "metadata": {},
   "source": [
    "From the list of available mirros we select one by:"
   ]
  },
  {
   "cell_type": "code",
   "execution_count": 2,
   "metadata": {
    "ExecuteTime": {
     "end_time": "2017-08-10T04:51:14.962000Z",
     "start_time": "2017-08-10T04:51:14.926Z"
    },
    "collapsed": true
   },
   "outputs": [],
   "source": [
    "options(repos=structure(c(CRAN=\"http://cloud.r-project.org/\")))"
   ]
  },
  {
   "cell_type": "markdown",
   "metadata": {},
   "source": [
    "Now the *install.packages()*-command should be successful: "
   ]
  },
  {
   "cell_type": "code",
   "execution_count": 5,
   "metadata": {
    "ExecuteTime": {
     "end_time": "2017-09-08T09:44:30.572000Z",
     "start_time": "2017-09-08T09:44:28.257Z"
    }
   },
   "outputs": [
    {
     "name": "stdout",
     "output_type": "stream",
     "text": [
      "package 'tagcloud' successfully unpacked and MD5 sums checked\n",
      "\n",
      "The downloaded binary packages are in\n",
      "\tC:\\Users\\maucher\\AppData\\Local\\Temp\\RtmpyK8thm\\downloaded_packages\n"
     ]
    }
   ],
   "source": [
    "install.packages(\"tagcloud\")"
   ]
  },
  {
   "cell_type": "markdown",
   "metadata": {},
   "source": [
    "> **Note:** The CRAN mirror for downloading R packages can be set in the current R script as shown above. However, a CRAN mirror can also be set permanently by inserting the line \n",
    "```options(repos=structure(c(CRAN=\"YOUR FAVORITE MIRROR\")))```\n",
    "into the *Rprofile* configuration file. This file can be found in the *library* of the directory, where R is installed. In my case it is located in `C:\\Users\\xxx\\Anaconda2\\envs\\condatascience\\R\\library\\base\\R`. "
   ]
  },
  {
   "cell_type": "markdown",
   "metadata": {},
   "source": [
    "## Getting Help\n",
    "### Help on packages\n",
    "In the prevoius section the external package *tagcloud* has been loaded from CRAN. In order to obtain a description of the functions available in this package it first must be activated, e.g. by the *library()*-command. Once it is activated, either *help(tagcloud)* or just ?tagcloud opens a description page: "
   ]
  },
  {
   "cell_type": "code",
   "execution_count": 7,
   "metadata": {
    "ExecuteTime": {
     "end_time": "2017-09-08T09:57:25.389000Z",
     "start_time": "2017-09-08T09:57:24.956Z"
    },
    "collapsed": true
   },
   "outputs": [],
   "source": [
    "library(tagcloud)\n",
    "?tagcloud"
   ]
  },
  {
   "cell_type": "markdown",
   "metadata": {},
   "source": [
    "In the same way descriptions for all packages can be obtained. The description pages usually also contain examples. Copy and pasting these examples provide a glimpse of the functionality. Moreover, all examples of a package (code and output) can be obtained by the command *example(tagcloud)*"
   ]
  },
  {
   "cell_type": "code",
   "execution_count": 26,
   "metadata": {},
   "outputs": [
    {
     "name": "stdout",
     "output_type": "stream",
     "text": [
      "\n",
      "tagcld> # a rather boring tag cloud\n",
      "tagcld> data( gambia )\n",
      "\n",
      "tagcld> terms <- gambia$Term\n",
      "\n",
      "tagcld> tagcloud( terms )\n",
      "\n",
      "tagcld> # tag cloud with weights relative to P value\n",
      "tagcld> # colors relative to odds ratio, from light\n",
      "tagcld> # grey to black\n",
      "tagcld> weights <- -log( gambia$Pvalue )\n",
      "\n",
      "tagcld> colors  <- smoothPalette( gambia$OddsRatio, max=4 )\n",
      "\n",
      "tagcld> tagcloud( terms, weights, col= colors, algorithm= \"oval\" )\n"
     ]
    },
    {
     "data": {
      "image/png": "[encoded data removed]",
      "text/plain": [
       "plot without title"
      ]
     },
     "metadata": {},
     "output_type": "display_data"
    },
    {
     "name": "stdout",
     "output_type": "stream",
     "text": [
      "\n",
      "tagcld> # tag cloud filling the whole plot\n",
      "tagcld> tagcloud( terms, weights, col= colors, algorithm= \"fill\" )\n"
     ]
    },
    {
     "data": {
      "image/png": "[encoded data removed]",
      "text/plain": [
       "plot without title"
      ]
     },
     "metadata": {},
     "output_type": "display_data"
    },
    {
     "name": "stdout",
     "output_type": "stream",
     "text": [
      "\n",
      "tagcld> # just a list of only the first ten terms\n",
      "tagcld> tagcloud( terms, weights, sel= 1:10,\n",
      "tagcld+           col= colors, algorithm= \"list\", order= \"width\" )\n"
     ]
    },
    {
     "data": {
      "image/png": "[encoded data removed]",
      "text/plain": [
       "plot without title"
      ]
     },
     "metadata": {},
     "output_type": "display_data"
    },
    {
     "name": "stdout",
     "output_type": "stream",
     "text": [
      "\n",
      "tagcld> # oval, with line breaks in terms\n",
      "tagcld> terms <- strmultline( gambia$Term )\n",
      "\n",
      "tagcld> tagcloud( terms, weights, col= colors, algorithm= \"oval\" )\n"
     ]
    },
    {
     "data": {
      "image/png": "[encoded data removed]",
      "text/plain": [
       "plot without title"
      ]
     },
     "metadata": {},
     "output_type": "display_data"
    },
    {
     "name": "stdout",
     "output_type": "stream",
     "text": [
      "\n",
      "tagcld> ## Not run: \n",
      "tagcld> ##D # shows available font families, scaled according to\n",
      "tagcld> ##D # the total disk space occupied by the fonts\n",
      "tagcld> ##D require( extrafont )\n",
      "tagcld> ##D ft <- fonttable()\n",
      "tagcld> ##D fi <- file.info( fonttable()$fontfile )\n",
      "tagcld> ##D families <- unique( ft$FamilyName )\n",
      "tagcld> ##D sizes    <- sapply( families,function( x ) sum( fi[ ft$FamilyName == x, \"size\" ] ) )\n",
      "tagcld> ##D tagcloud( families, sizes, family= families )\n",
      "tagcld> ## End(Not run)\n",
      "tagcld> \n",
      "tagcld> \n",
      "tagcld> \n"
     ]
    },
    {
     "data": {
      "image/png": "[encoded data removed]",
      "text/plain": [
       "plot without title"
      ]
     },
     "metadata": {},
     "output_type": "display_data"
    }
   ],
   "source": [
    "example(tagcloud)"
   ]
  },
  {
   "cell_type": "markdown",
   "metadata": {},
   "source": [
    "A list of all functions available in a package can be derived from the *objects('package:packagename')*-command:"
   ]
  },
  {
   "cell_type": "code",
   "execution_count": 8,
   "metadata": {
    "ExecuteTime": {
     "end_time": "2017-09-08T09:58:11.524000Z",
     "start_time": "2017-09-08T09:58:11.491Z"
    }
   },
   "outputs": [
    {
     "data": {
      "text/html": [
       "<ol class=list-inline>\n",
       "\t<li>'editor.tagcloud'</li>\n",
       "\t<li>'smoothPalette'</li>\n",
       "\t<li>'strmultline'</li>\n",
       "\t<li>'tagcloud'</li>\n",
       "</ol>\n"
      ],
      "text/latex": [
       "\\begin{enumerate*}\n",
       "\\item 'editor.tagcloud'\n",
       "\\item 'smoothPalette'\n",
       "\\item 'strmultline'\n",
       "\\item 'tagcloud'\n",
       "\\end{enumerate*}\n"
      ],
      "text/markdown": [
       "1. 'editor.tagcloud'\n",
       "2. 'smoothPalette'\n",
       "3. 'strmultline'\n",
       "4. 'tagcloud'\n",
       "\n",
       "\n"
      ],
      "text/plain": [
       "[1] \"editor.tagcloud\" \"smoothPalette\"   \"strmultline\"     \"tagcloud\"       "
      ]
     },
     "metadata": {},
     "output_type": "display_data"
    }
   ],
   "source": [
    "objects('package:tagcloud')"
   ]
  },
  {
   "cell_type": "markdown",
   "metadata": {},
   "source": [
    "### Help on functions"
   ]
  },
  {
   "cell_type": "markdown",
   "metadata": {},
   "source": [
    "Information on functions can be obtained by the same command as for packages, i.e. either by *help(functionname)* or by *?functionname*: "
   ]
  },
  {
   "cell_type": "code",
   "execution_count": 9,
   "metadata": {
    "ExecuteTime": {
     "end_time": "2017-09-08T10:20:14.042000Z",
     "start_time": "2017-09-08T10:20:13.853Z"
    },
    "collapsed": true
   },
   "outputs": [],
   "source": [
    "?mean"
   ]
  },
  {
   "cell_type": "markdown",
   "metadata": {},
   "source": [
    "All available functions, which contain a specified name or charactersequence can be derived from the *apropos('charactersequence')*-command:"
   ]
  },
  {
   "cell_type": "code",
   "execution_count": 10,
   "metadata": {
    "ExecuteTime": {
     "end_time": "2017-09-08T10:20:22.904000Z",
     "start_time": "2017-09-08T10:20:22.823Z"
    }
   },
   "outputs": [
    {
     "data": {
      "text/html": [
       "<ol class=list-inline>\n",
       "\t<li>'.__C__recordedplot'</li>\n",
       "\t<li>'assocplot'</li>\n",
       "\t<li>'autoplot'</li>\n",
       "\t<li>'barplot'</li>\n",
       "\t<li>'barplot.default'</li>\n",
       "\t<li>'benchplot'</li>\n",
       "\t<li>'biplot'</li>\n",
       "\t<li>'boxplot'</li>\n",
       "\t<li>'boxplot.default'</li>\n",
       "\t<li>'boxplot.matrix'</li>\n",
       "\t<li>'boxplot.stats'</li>\n",
       "\t<li>'cdplot'</li>\n",
       "\t<li>'coplot'</li>\n",
       "\t<li>'draw_key_boxplot'</li>\n",
       "\t<li>'draw_key_dotplot'</li>\n",
       "\t<li>'fourfoldplot'</li>\n",
       "\t<li>'geom_boxplot'</li>\n",
       "\t<li>'geom_dotplot'</li>\n",
       "\t<li>'GeomBoxplot'</li>\n",
       "\t<li>'GeomDotplot'</li>\n",
       "\t<li>'ggplot'</li>\n",
       "\t<li>'ggplot_build'</li>\n",
       "\t<li>'ggplot_gtable'</li>\n",
       "\t<li>'ggplotGrob'</li>\n",
       "\t<li>'interaction.plot'</li>\n",
       "\t<li>'is.ggplot'</li>\n",
       "\t<li>'lag.plot'</li>\n",
       "\t<li>'last_plot'</li>\n",
       "\t<li>'matplot'</li>\n",
       "\t<li>'monthplot'</li>\n",
       "\t<li>'mosaicplot'</li>\n",
       "\t<li>'plot'</li>\n",
       "\t<li>'plot.default'</li>\n",
       "\t<li>'plot.design'</li>\n",
       "\t<li>'plot.ecdf'</li>\n",
       "\t<li>'plot.function'</li>\n",
       "\t<li>'plot.new'</li>\n",
       "\t<li>'plot.spec.coherency'</li>\n",
       "\t<li>'plot.spec.phase'</li>\n",
       "\t<li>'plot.stepfun'</li>\n",
       "\t<li>'plot.ts'</li>\n",
       "\t<li>'plot.window'</li>\n",
       "\t<li>'plot.xy'</li>\n",
       "\t<li>'preplot'</li>\n",
       "\t<li>'qplot'</li>\n",
       "\t<li>'qqplot'</li>\n",
       "\t<li>'quickplot'</li>\n",
       "\t<li>'recordPlot'</li>\n",
       "\t<li>'replayPlot'</li>\n",
       "\t<li>'savePlot'</li>\n",
       "\t<li>'screeplot'</li>\n",
       "\t<li>'spineplot'</li>\n",
       "\t<li>'stat_boxplot'</li>\n",
       "\t<li>'StatBoxplot'</li>\n",
       "\t<li>'sunflowerplot'</li>\n",
       "\t<li>'termplot'</li>\n",
       "\t<li>'ts.plot'</li>\n",
       "</ol>\n"
      ],
      "text/latex": [
       "\\begin{enumerate*}\n",
       "\\item '.\\_\\_C\\_\\_recordedplot'\n",
       "\\item 'assocplot'\n",
       "\\item 'autoplot'\n",
       "\\item 'barplot'\n",
       "\\item 'barplot.default'\n",
       "\\item 'benchplot'\n",
       "\\item 'biplot'\n",
       "\\item 'boxplot'\n",
       "\\item 'boxplot.default'\n",
       "\\item 'boxplot.matrix'\n",
       "\\item 'boxplot.stats'\n",
       "\\item 'cdplot'\n",
       "\\item 'coplot'\n",
       "\\item 'draw\\_key\\_boxplot'\n",
       "\\item 'draw\\_key\\_dotplot'\n",
       "\\item 'fourfoldplot'\n",
       "\\item 'geom\\_boxplot'\n",
       "\\item 'geom\\_dotplot'\n",
       "\\item 'GeomBoxplot'\n",
       "\\item 'GeomDotplot'\n",
       "\\item 'ggplot'\n",
       "\\item 'ggplot\\_build'\n",
       "\\item 'ggplot\\_gtable'\n",
       "\\item 'ggplotGrob'\n",
       "\\item 'interaction.plot'\n",
       "\\item 'is.ggplot'\n",
       "\\item 'lag.plot'\n",
       "\\item 'last\\_plot'\n",
       "\\item 'matplot'\n",
       "\\item 'monthplot'\n",
       "\\item 'mosaicplot'\n",
       "\\item 'plot'\n",
       "\\item 'plot.default'\n",
       "\\item 'plot.design'\n",
       "\\item 'plot.ecdf'\n",
       "\\item 'plot.function'\n",
       "\\item 'plot.new'\n",
       "\\item 'plot.spec.coherency'\n",
       "\\item 'plot.spec.phase'\n",
       "\\item 'plot.stepfun'\n",
       "\\item 'plot.ts'\n",
       "\\item 'plot.window'\n",
       "\\item 'plot.xy'\n",
       "\\item 'preplot'\n",
       "\\item 'qplot'\n",
       "\\item 'qqplot'\n",
       "\\item 'quickplot'\n",
       "\\item 'recordPlot'\n",
       "\\item 'replayPlot'\n",
       "\\item 'savePlot'\n",
       "\\item 'screeplot'\n",
       "\\item 'spineplot'\n",
       "\\item 'stat\\_boxplot'\n",
       "\\item 'StatBoxplot'\n",
       "\\item 'sunflowerplot'\n",
       "\\item 'termplot'\n",
       "\\item 'ts.plot'\n",
       "\\end{enumerate*}\n"
      ],
      "text/markdown": [
       "1. '.__C__recordedplot'\n",
       "2. 'assocplot'\n",
       "3. 'autoplot'\n",
       "4. 'barplot'\n",
       "5. 'barplot.default'\n",
       "6. 'benchplot'\n",
       "7. 'biplot'\n",
       "8. 'boxplot'\n",
       "9. 'boxplot.default'\n",
       "10. 'boxplot.matrix'\n",
       "11. 'boxplot.stats'\n",
       "12. 'cdplot'\n",
       "13. 'coplot'\n",
       "14. 'draw_key_boxplot'\n",
       "15. 'draw_key_dotplot'\n",
       "16. 'fourfoldplot'\n",
       "17. 'geom_boxplot'\n",
       "18. 'geom_dotplot'\n",
       "19. 'GeomBoxplot'\n",
       "20. 'GeomDotplot'\n",
       "21. 'ggplot'\n",
       "22. 'ggplot_build'\n",
       "23. 'ggplot_gtable'\n",
       "24. 'ggplotGrob'\n",
       "25. 'interaction.plot'\n",
       "26. 'is.ggplot'\n",
       "27. 'lag.plot'\n",
       "28. 'last_plot'\n",
       "29. 'matplot'\n",
       "30. 'monthplot'\n",
       "31. 'mosaicplot'\n",
       "32. 'plot'\n",
       "33. 'plot.default'\n",
       "34. 'plot.design'\n",
       "35. 'plot.ecdf'\n",
       "36. 'plot.function'\n",
       "37. 'plot.new'\n",
       "38. 'plot.spec.coherency'\n",
       "39. 'plot.spec.phase'\n",
       "40. 'plot.stepfun'\n",
       "41. 'plot.ts'\n",
       "42. 'plot.window'\n",
       "43. 'plot.xy'\n",
       "44. 'preplot'\n",
       "45. 'qplot'\n",
       "46. 'qqplot'\n",
       "47. 'quickplot'\n",
       "48. 'recordPlot'\n",
       "49. 'replayPlot'\n",
       "50. 'savePlot'\n",
       "51. 'screeplot'\n",
       "52. 'spineplot'\n",
       "53. 'stat_boxplot'\n",
       "54. 'StatBoxplot'\n",
       "55. 'sunflowerplot'\n",
       "56. 'termplot'\n",
       "57. 'ts.plot'\n",
       "\n",
       "\n"
      ],
      "text/plain": [
       " [1] \".__C__recordedplot\"  \"assocplot\"           \"autoplot\"           \n",
       " [4] \"barplot\"             \"barplot.default\"     \"benchplot\"          \n",
       " [7] \"biplot\"              \"boxplot\"             \"boxplot.default\"    \n",
       "[10] \"boxplot.matrix\"      \"boxplot.stats\"       \"cdplot\"             \n",
       "[13] \"coplot\"              \"draw_key_boxplot\"    \"draw_key_dotplot\"   \n",
       "[16] \"fourfoldplot\"        \"geom_boxplot\"        \"geom_dotplot\"       \n",
       "[19] \"GeomBoxplot\"         \"GeomDotplot\"         \"ggplot\"             \n",
       "[22] \"ggplot_build\"        \"ggplot_gtable\"       \"ggplotGrob\"         \n",
       "[25] \"interaction.plot\"    \"is.ggplot\"           \"lag.plot\"           \n",
       "[28] \"last_plot\"           \"matplot\"             \"monthplot\"          \n",
       "[31] \"mosaicplot\"          \"plot\"                \"plot.default\"       \n",
       "[34] \"plot.design\"         \"plot.ecdf\"           \"plot.function\"      \n",
       "[37] \"plot.new\"            \"plot.spec.coherency\" \"plot.spec.phase\"    \n",
       "[40] \"plot.stepfun\"        \"plot.ts\"             \"plot.window\"        \n",
       "[43] \"plot.xy\"             \"preplot\"             \"qplot\"              \n",
       "[46] \"qqplot\"              \"quickplot\"           \"recordPlot\"         \n",
       "[49] \"replayPlot\"          \"savePlot\"            \"screeplot\"          \n",
       "[52] \"spineplot\"           \"stat_boxplot\"        \"StatBoxplot\"        \n",
       "[55] \"sunflowerplot\"       \"termplot\"            \"ts.plot\"            "
      ]
     },
     "metadata": {},
     "output_type": "display_data"
    }
   ],
   "source": [
    "apropos(\"plot\")"
   ]
  },
  {
   "cell_type": "markdown",
   "metadata": {},
   "source": [
    "## Assign and Print Variables"
   ]
  },
  {
   "cell_type": "markdown",
   "metadata": {},
   "source": [
    "In R there exists several possibilities to assign data to variables. Each of the following options yields the same result, but it is convenient to use the option *<-*:"
   ]
  },
  {
   "cell_type": "code",
   "execution_count": 11,
   "metadata": {
    "ExecuteTime": {
     "end_time": "2017-09-08T10:20:27.311000Z",
     "start_time": "2017-09-08T10:20:27.272Z"
    },
    "collapsed": true
   },
   "outputs": [],
   "source": [
    "a<-3\n",
    "a=3\n",
    "3->a"
   ]
  },
  {
   "cell_type": "markdown",
   "metadata": {
    "collapsed": true
   },
   "source": [
    "Executing the code-cell above, does not show any output. However, we can obtain the current value assigned to a variable by just typing the name of the variable:"
   ]
  },
  {
   "cell_type": "code",
   "execution_count": 12,
   "metadata": {
    "ExecuteTime": {
     "end_time": "2017-09-08T10:20:31.487000Z",
     "start_time": "2017-09-08T10:20:31.451Z"
    }
   },
   "outputs": [
    {
     "data": {
      "text/html": [
       "3"
      ],
      "text/latex": [
       "3"
      ],
      "text/markdown": [
       "3"
      ],
      "text/plain": [
       "[1] 3"
      ]
     },
     "metadata": {},
     "output_type": "display_data"
    }
   ],
   "source": [
    "a"
   ]
  },
  {
   "cell_type": "markdown",
   "metadata": {},
   "source": [
    "If the value of the variable shall be printed immediately after the assignment the assignment must be circumvented by brackets:"
   ]
  },
  {
   "cell_type": "code",
   "execution_count": 45,
   "metadata": {
    "ExecuteTime": {
     "end_time": "2017-09-08T13:25:12.014000Z",
     "start_time": "2017-09-08T13:25:11.969Z"
    }
   },
   "outputs": [
    {
     "data": {
      "text/html": [
       "5"
      ],
      "text/latex": [
       "5"
      ],
      "text/markdown": [
       "5"
      ],
      "text/plain": [
       "[1] 5"
      ]
     },
     "metadata": {},
     "output_type": "display_data"
    },
    {
     "data": {
      "text/html": [
       "10"
      ],
      "text/latex": [
       "10"
      ],
      "text/markdown": [
       "10"
      ],
      "text/plain": [
       "[1] 10"
      ]
     },
     "metadata": {},
     "output_type": "display_data"
    },
    {
     "data": {
      "text/html": [
       "15"
      ],
      "text/latex": [
       "15"
      ],
      "text/markdown": [
       "15"
      ],
      "text/plain": [
       "[1] 15"
      ]
     },
     "metadata": {},
     "output_type": "display_data"
    }
   ],
   "source": [
    "(a<-5)\n",
    "(b<-10)\n",
    "(c<-a+b)"
   ]
  },
  {
   "cell_type": "markdown",
   "metadata": {},
   "source": [
    "It is also possible to use the *print()*-command:"
   ]
  },
  {
   "cell_type": "code",
   "execution_count": 46,
   "metadata": {
    "ExecuteTime": {
     "end_time": "2017-09-08T13:25:14.104000Z",
     "start_time": "2017-09-08T13:25:14.077Z"
    }
   },
   "outputs": [
    {
     "name": "stdout",
     "output_type": "stream",
     "text": [
      "[1] 5\n"
     ]
    }
   ],
   "source": [
    "print(a)"
   ]
  },
  {
   "cell_type": "code",
   "execution_count": 59,
   "metadata": {
    "ExecuteTime": {
     "end_time": "2017-09-08T14:48:19.026000Z",
     "start_time": "2017-09-08T14:48:18.992Z"
    }
   },
   "outputs": [
    {
     "name": "stdout",
     "output_type": "stream",
     "text": [
      "  [1]   1   2   3   4   5   6   7   8   9  10  11  12  13  14  15  16  17  18\n",
      " [19]  19  20  21  22  23  24  25  26  27  28  29  30  31  32  33  34  35  36\n",
      " [37]  37  38  39  40  41  42  43  44  45  46  47  48  49  50  51  52  53  54\n",
      " [55]  55  56  57  58  59  60  61  62  63  64  65  66  67  68  69  70  71  72\n",
      " [73]  73  74  75  76  77  78  79  80  81  82  83  84  85  86  87  88  89  90\n",
      " [91]  91  92  93  94  95  96  97  98  99 100\n"
     ]
    }
   ],
   "source": [
    "b<-seq(1,100)\n",
    "print(b)"
   ]
  },
  {
   "cell_type": "markdown",
   "metadata": {},
   "source": [
    "As can be seen in the example above, the first element in each line of the output is a number in brackets, which defines the position, of the first number in the row."
   ]
  },
  {
   "cell_type": "markdown",
   "metadata": {},
   "source": [
    "The advantage of *print()* is that it knows how to format the output of each variable-type. A drawback of *print()* in R, however, is that it cannot print more than one item:"
   ]
  },
  {
   "cell_type": "code",
   "execution_count": 48,
   "metadata": {
    "ExecuteTime": {
     "end_time": "2017-09-08T13:25:19.456000Z",
     "start_time": "2017-09-08T13:25:19.436Z"
    }
   },
   "outputs": [
    {
     "name": "stdout",
     "output_type": "stream",
     "text": [
      "[1] \"The value of a is: \"\n"
     ]
    }
   ],
   "source": [
    "print(\"The value of a is: \",a)"
   ]
  },
  {
   "cell_type": "markdown",
   "metadata": {},
   "source": [
    "If more items shall be printed one can apply the *cat()*-command as follows:"
   ]
  },
  {
   "cell_type": "code",
   "execution_count": 49,
   "metadata": {
    "ExecuteTime": {
     "end_time": "2017-09-08T13:25:26.348000Z",
     "start_time": "2017-09-08T13:25:26.325Z"
    }
   },
   "outputs": [
    {
     "name": "stdout",
     "output_type": "stream",
     "text": [
      "The value of a is:  5"
     ]
    }
   ],
   "source": [
    "cat(\"The value of a is: \",a)"
   ]
  },
  {
   "cell_type": "markdown",
   "metadata": {},
   "source": [
    "The type of a variable can be obtained by the *class()*-function:"
   ]
  },
  {
   "cell_type": "code",
   "execution_count": 60,
   "metadata": {
    "ExecuteTime": {
     "end_time": "2017-09-08T14:48:30.326000Z",
     "start_time": "2017-09-08T14:48:30.287Z"
    }
   },
   "outputs": [
    {
     "data": {
      "text/html": [
       "'numeric'"
      ],
      "text/latex": [
       "'numeric'"
      ],
      "text/markdown": [
       "'numeric'"
      ],
      "text/plain": [
       "[1] \"numeric\""
      ]
     },
     "metadata": {},
     "output_type": "display_data"
    },
    {
     "data": {
      "text/html": [
       "'integer'"
      ],
      "text/latex": [
       "'integer'"
      ],
      "text/markdown": [
       "'integer'"
      ],
      "text/plain": [
       "[1] \"integer\""
      ]
     },
     "metadata": {},
     "output_type": "display_data"
    }
   ],
   "source": [
    "class(a)\n",
    "class(b)"
   ]
  },
  {
   "cell_type": "markdown",
   "metadata": {},
   "source": [
    "**R is a dynamically typed language**, which means that the type of a variable can change depending on the value, which is assigned to it. For example, the first value, which has been assigned to *b* is of type *numeric*. However, the following assignment yields a new type (character) for variable *b*."
   ]
  },
  {
   "cell_type": "code",
   "execution_count": 51,
   "metadata": {
    "ExecuteTime": {
     "end_time": "2017-09-08T13:25:37.078000Z",
     "start_time": "2017-09-08T13:25:37.052Z"
    }
   },
   "outputs": [
    {
     "data": {
      "text/html": [
       "'Das ist ein Text'"
      ],
      "text/latex": [
       "'Das ist ein Text'"
      ],
      "text/markdown": [
       "'Das ist ein Text'"
      ],
      "text/plain": [
       "[1] \"Das ist ein Text\""
      ]
     },
     "metadata": {},
     "output_type": "display_data"
    },
    {
     "data": {
      "text/html": [
       "'character'"
      ],
      "text/latex": [
       "'character'"
      ],
      "text/markdown": [
       "'character'"
      ],
      "text/plain": [
       "[1] \"character\""
      ]
     },
     "metadata": {},
     "output_type": "display_data"
    }
   ],
   "source": [
    "(b<-\"Das ist ein Text\")\n",
    "class(b)"
   ]
  },
  {
   "cell_type": "markdown",
   "metadata": {},
   "source": [
    "A list of all currently assigned variables can be obtained from the *ls.str()*-function:"
   ]
  },
  {
   "cell_type": "code",
   "execution_count": 52,
   "metadata": {
    "ExecuteTime": {
     "end_time": "2017-09-08T13:25:47.158000Z",
     "start_time": "2017-09-08T13:25:47.131Z"
    }
   },
   "outputs": [
    {
     "data": {
      "text/plain": [
       "a :  num 5\n",
       "b :  chr \"Das ist ein Text\"\n",
       "c :  num 15"
      ]
     },
     "metadata": {},
     "output_type": "display_data"
    }
   ],
   "source": [
    "ls.str()"
   ]
  },
  {
   "cell_type": "markdown",
   "metadata": {},
   "source": [
    "Represent a numeric value as character:"
   ]
  },
  {
   "cell_type": "code",
   "execution_count": 54,
   "metadata": {
    "ExecuteTime": {
     "end_time": "2017-09-08T13:27:25.460000Z",
     "start_time": "2017-09-08T13:27:25.427Z"
    }
   },
   "outputs": [
    {
     "data": {
      "text/html": [
       "'5'"
      ],
      "text/latex": [
       "'5'"
      ],
      "text/markdown": [
       "'5'"
      ],
      "text/plain": [
       "[1] \"5\""
      ]
     },
     "metadata": {},
     "output_type": "display_data"
    },
    {
     "data": {
      "text/html": [
       "'character'"
      ],
      "text/latex": [
       "'character'"
      ],
      "text/markdown": [
       "'character'"
      ],
      "text/plain": [
       "[1] \"character\""
      ]
     },
     "metadata": {},
     "output_type": "display_data"
    }
   ],
   "source": [
    "(ac<-as.character(a))\n",
    "class(ac)"
   ]
  },
  {
   "cell_type": "markdown",
   "metadata": {},
   "source": [
    "Variables can be deleted by the *rm()*-function:"
   ]
  },
  {
   "cell_type": "code",
   "execution_count": 55,
   "metadata": {
    "ExecuteTime": {
     "end_time": "2017-09-08T13:27:34.445000Z",
     "start_time": "2017-09-08T13:27:34.420Z"
    }
   },
   "outputs": [
    {
     "data": {
      "text/plain": [
       "a :  num 5\n",
       "ac :  chr \"5\"\n",
       "b :  chr \"Das ist ein Text\""
      ]
     },
     "metadata": {},
     "output_type": "display_data"
    }
   ],
   "source": [
    "rm(c)\n",
    "ls.str()"
   ]
  },
  {
   "cell_type": "markdown",
   "metadata": {},
   "source": [
    "## Simple Operations and Functions\n",
    "### Arithmetic Operations"
   ]
  },
  {
   "cell_type": "code",
   "execution_count": 28,
   "metadata": {
    "ExecuteTime": {
     "end_time": "2017-09-08T10:23:07.527000Z",
     "start_time": "2017-09-08T10:23:07.440Z"
    }
   },
   "outputs": [
    {
     "data": {
      "text/html": [
       "66"
      ],
      "text/latex": [
       "66"
      ],
      "text/markdown": [
       "66"
      ],
      "text/plain": [
       "[1] 66"
      ]
     },
     "metadata": {},
     "output_type": "display_data"
    },
    {
     "data": {
      "text/html": [
       "-12"
      ],
      "text/latex": [
       "-12"
      ],
      "text/markdown": [
       "-12"
      ],
      "text/plain": [
       "[1] -12"
      ]
     },
     "metadata": {},
     "output_type": "display_data"
    },
    {
     "data": {
      "text/html": [
       "27"
      ],
      "text/latex": [
       "27"
      ],
      "text/markdown": [
       "27"
      ],
      "text/plain": [
       "[1] 27"
      ]
     },
     "metadata": {},
     "output_type": "display_data"
    },
    {
     "data": {
      "text/html": [
       "0.571428571428571"
      ],
      "text/latex": [
       "0.571428571428571"
      ],
      "text/markdown": [
       "0.571428571428571"
      ],
      "text/plain": [
       "[1] 0.5714286"
      ]
     },
     "metadata": {},
     "output_type": "display_data"
    }
   ],
   "source": [
    "10+56 #Addition\n",
    "7-19  #Subtraction\n",
    "3*9   #Multiplication \n",
    "4/7   #Division"
   ]
  },
  {
   "cell_type": "markdown",
   "metadata": {},
   "source": [
    "Exponentiation"
   ]
  },
  {
   "cell_type": "code",
   "execution_count": 29,
   "metadata": {
    "ExecuteTime": {
     "end_time": "2017-09-08T10:23:12.021000Z",
     "start_time": "2017-09-08T10:23:11.964Z"
    }
   },
   "outputs": [
    {
     "data": {
      "text/html": [
       "32"
      ],
      "text/latex": [
       "32"
      ],
      "text/markdown": [
       "32"
      ],
      "text/plain": [
       "[1] 32"
      ]
     },
     "metadata": {},
     "output_type": "display_data"
    },
    {
     "data": {
      "text/html": [
       "9"
      ],
      "text/latex": [
       "9"
      ],
      "text/markdown": [
       "9"
      ],
      "text/plain": [
       "[1] 9"
      ]
     },
     "metadata": {},
     "output_type": "display_data"
    },
    {
     "data": {
      "text/html": [
       "2.71828182845905"
      ],
      "text/latex": [
       "2.71828182845905"
      ],
      "text/markdown": [
       "2.71828182845905"
      ],
      "text/plain": [
       "[1] 2.718282"
      ]
     },
     "metadata": {},
     "output_type": "display_data"
    }
   ],
   "source": [
    "2**5\n",
    "3^2\n",
    "exp(1)"
   ]
  },
  {
   "cell_type": "markdown",
   "metadata": {},
   "source": [
    "Modulo and Integer Division"
   ]
  },
  {
   "cell_type": "code",
   "execution_count": 31,
   "metadata": {
    "ExecuteTime": {
     "end_time": "2017-09-08T10:23:30.797000Z",
     "start_time": "2017-09-08T10:23:30.751Z"
    }
   },
   "outputs": [
    {
     "data": {
      "text/html": [
       "3"
      ],
      "text/latex": [
       "3"
      ],
      "text/markdown": [
       "3"
      ],
      "text/plain": [
       "[1] 3"
      ]
     },
     "metadata": {},
     "output_type": "display_data"
    },
    {
     "data": {
      "text/html": [
       "1"
      ],
      "text/latex": [
       "1"
      ],
      "text/markdown": [
       "1"
      ],
      "text/plain": [
       "[1] 1"
      ]
     },
     "metadata": {},
     "output_type": "display_data"
    }
   ],
   "source": [
    "7%%4\n",
    "7%/%4"
   ]
  },
  {
   "cell_type": "markdown",
   "metadata": {},
   "source": [
    "### Common functions\n",
    "Squareroot"
   ]
  },
  {
   "cell_type": "code",
   "execution_count": 32,
   "metadata": {
    "ExecuteTime": {
     "end_time": "2017-09-08T10:23:47.476000Z",
     "start_time": "2017-09-08T10:23:47.424Z"
    }
   },
   "outputs": [
    {
     "data": {
      "text/html": [
       "5"
      ],
      "text/latex": [
       "5"
      ],
      "text/markdown": [
       "5"
      ],
      "text/plain": [
       "[1] 5"
      ]
     },
     "metadata": {},
     "output_type": "display_data"
    }
   ],
   "source": [
    "sqrt(25)"
   ]
  },
  {
   "cell_type": "markdown",
   "metadata": {},
   "source": [
    "Natural Logarithm"
   ]
  },
  {
   "cell_type": "code",
   "execution_count": 33,
   "metadata": {
    "ExecuteTime": {
     "end_time": "2017-09-08T10:23:50.089000Z",
     "start_time": "2017-09-08T10:23:50.045Z"
    }
   },
   "outputs": [
    {
     "data": {
      "text/html": [
       "2.30258509299405"
      ],
      "text/latex": [
       "2.30258509299405"
      ],
      "text/markdown": [
       "2.30258509299405"
      ],
      "text/plain": [
       "[1] 2.302585"
      ]
     },
     "metadata": {},
     "output_type": "display_data"
    }
   ],
   "source": [
    "log(10)"
   ]
  },
  {
   "cell_type": "markdown",
   "metadata": {},
   "source": [
    "Logarithm to basis 2"
   ]
  },
  {
   "cell_type": "code",
   "execution_count": 34,
   "metadata": {
    "ExecuteTime": {
     "end_time": "2017-09-08T10:23:53.299000Z",
     "start_time": "2017-09-08T10:23:53.251Z"
    }
   },
   "outputs": [
    {
     "data": {
      "text/html": [
       "5"
      ],
      "text/latex": [
       "5"
      ],
      "text/markdown": [
       "5"
      ],
      "text/plain": [
       "[1] 5"
      ]
     },
     "metadata": {},
     "output_type": "display_data"
    }
   ],
   "source": [
    "log2(32)"
   ]
  },
  {
   "cell_type": "markdown",
   "metadata": {},
   "source": [
    "Logarithm to basis 10"
   ]
  },
  {
   "cell_type": "code",
   "execution_count": 35,
   "metadata": {
    "ExecuteTime": {
     "end_time": "2017-09-08T10:23:58.070000Z",
     "start_time": "2017-09-08T10:23:58.033Z"
    }
   },
   "outputs": [
    {
     "data": {
      "text/html": [
       "4"
      ],
      "text/latex": [
       "4"
      ],
      "text/markdown": [
       "4"
      ],
      "text/plain": [
       "[1] 4"
      ]
     },
     "metadata": {},
     "output_type": "display_data"
    }
   ],
   "source": [
    "log10(10000)"
   ]
  },
  {
   "cell_type": "markdown",
   "metadata": {},
   "source": [
    "Trigonometric functions"
   ]
  },
  {
   "cell_type": "code",
   "execution_count": 36,
   "metadata": {
    "ExecuteTime": {
     "end_time": "2017-09-08T10:24:02.102000Z",
     "start_time": "2017-09-08T10:24:02.021Z"
    }
   },
   "outputs": [
    {
     "data": {
      "text/html": [
       "1"
      ],
      "text/latex": [
       "1"
      ],
      "text/markdown": [
       "1"
      ],
      "text/plain": [
       "[1] 1"
      ]
     },
     "metadata": {},
     "output_type": "display_data"
    },
    {
     "data": {
      "text/html": [
       "0.707106781186548"
      ],
      "text/latex": [
       "0.707106781186548"
      ],
      "text/markdown": [
       "0.707106781186548"
      ],
      "text/plain": [
       "[1] 0.7071068"
      ]
     },
     "metadata": {},
     "output_type": "display_data"
    },
    {
     "data": {
      "text/html": [
       "1"
      ],
      "text/latex": [
       "1"
      ],
      "text/markdown": [
       "1"
      ],
      "text/plain": [
       "[1] 1"
      ]
     },
     "metadata": {},
     "output_type": "display_data"
    },
    {
     "data": {
      "text/html": [
       "1.5707963267949"
      ],
      "text/latex": [
       "1.5707963267949"
      ],
      "text/markdown": [
       "1.5707963267949"
      ],
      "text/plain": [
       "[1] 1.570796"
      ]
     },
     "metadata": {},
     "output_type": "display_data"
    },
    {
     "data": {
      "text/html": [
       "0.785398163397448"
      ],
      "text/latex": [
       "0.785398163397448"
      ],
      "text/markdown": [
       "0.785398163397448"
      ],
      "text/plain": [
       "[1] 0.7853982"
      ]
     },
     "metadata": {},
     "output_type": "display_data"
    },
    {
     "data": {
      "text/html": [
       "0.785398163397448"
      ],
      "text/latex": [
       "0.785398163397448"
      ],
      "text/markdown": [
       "0.785398163397448"
      ],
      "text/plain": [
       "[1] 0.7853982"
      ]
     },
     "metadata": {},
     "output_type": "display_data"
    }
   ],
   "source": [
    "sin(pi/2)\n",
    "cos(pi/4)\n",
    "tan(pi/4)\n",
    "\n",
    "asin(1)\n",
    "acos(sqrt(2)/2)\n",
    "atan(1)"
   ]
  },
  {
   "cell_type": "markdown",
   "metadata": {},
   "source": [
    "### Logic Operators"
   ]
  },
  {
   "cell_type": "code",
   "execution_count": 37,
   "metadata": {
    "ExecuteTime": {
     "end_time": "2017-09-08T10:24:10.452000Z",
     "start_time": "2017-09-08T10:24:10.333Z"
    },
    "scrolled": false
   },
   "outputs": [
    {
     "data": {
      "text/html": [
       "FALSE"
      ],
      "text/latex": [
       "FALSE"
      ],
      "text/markdown": [
       "FALSE"
      ],
      "text/plain": [
       "[1] FALSE"
      ]
     },
     "metadata": {},
     "output_type": "display_data"
    },
    {
     "data": {
      "text/html": [
       "TRUE"
      ],
      "text/latex": [
       "TRUE"
      ],
      "text/markdown": [
       "TRUE"
      ],
      "text/plain": [
       "[1] TRUE"
      ]
     },
     "metadata": {},
     "output_type": "display_data"
    },
    {
     "data": {
      "text/html": [
       "TRUE"
      ],
      "text/latex": [
       "TRUE"
      ],
      "text/markdown": [
       "TRUE"
      ],
      "text/plain": [
       "[1] TRUE"
      ]
     },
     "metadata": {},
     "output_type": "display_data"
    },
    {
     "data": {
      "text/html": [
       "FALSE"
      ],
      "text/latex": [
       "FALSE"
      ],
      "text/markdown": [
       "FALSE"
      ],
      "text/plain": [
       "[1] FALSE"
      ]
     },
     "metadata": {},
     "output_type": "display_data"
    },
    {
     "data": {
      "text/html": [
       "TRUE"
      ],
      "text/latex": [
       "TRUE"
      ],
      "text/markdown": [
       "TRUE"
      ],
      "text/plain": [
       "[1] TRUE"
      ]
     },
     "metadata": {},
     "output_type": "display_data"
    },
    {
     "data": {
      "text/html": [
       "TRUE"
      ],
      "text/latex": [
       "TRUE"
      ],
      "text/markdown": [
       "TRUE"
      ],
      "text/plain": [
       "[1] TRUE"
      ]
     },
     "metadata": {},
     "output_type": "display_data"
    },
    {
     "data": {
      "text/html": [
       "FALSE"
      ],
      "text/latex": [
       "FALSE"
      ],
      "text/markdown": [
       "FALSE"
      ],
      "text/plain": [
       "[1] FALSE"
      ]
     },
     "metadata": {},
     "output_type": "display_data"
    }
   ],
   "source": [
    "4<3\n",
    "4<=4\n",
    "4>3\n",
    "4>=5\n",
    "\n",
    "!4>=5 #negation\n",
    "4>3 | 3>4 # or\n",
    "4>3 & 3>4 # and"
   ]
  },
  {
   "cell_type": "markdown",
   "metadata": {},
   "source": [
    "## Exercises\n",
    "[Exercise on basic routines in R](../../Assignments/Ass00BasicRoutinesR.ipynb)"
   ]
  },
  {
   "cell_type": "code",
   "execution_count": null,
   "metadata": {
    "collapsed": true
   },
   "outputs": [],
   "source": []
  }
 ],
 "metadata": {
  "anaconda-cloud": {},
  "kernelspec": {
   "display_name": "R",
   "language": "R",
   "name": "ir"
  },
  "language_info": {
   "codemirror_mode": "r",
   "file_extension": ".r",
   "mimetype": "text/x-r-source",
   "name": "R",
   "pygments_lexer": "r",
   "version": "3.3.2"
  },
  "nav_menu": {},
  "toc": {
   "navigate_menu": true,
   "number_sections": true,
   "sideBar": true,
   "threshold": 6,
   "toc_cell": false,
   "toc_section_display": "block",
   "toc_window_display": true
  },
  "toc_position": {
   "height": "709px",
   "left": "0px",
   "right": "1326.83px",
   "top": "125.167px",
   "width": "237px"
  }
 },
 "nbformat": 4,
 "nbformat_minor": 1
}

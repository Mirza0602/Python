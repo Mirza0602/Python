{
 "cells": [
  {
   "cell_type": "markdown",
   "metadata": {},
   "source": [
    "[Back to course overview](../CourseOverviewR.ipynb)\n",
    "\n",
    "# Functions in R\n",
    "* Author: Johannes Maucher\n",
    "* Last Update: 2017-03-13\n",
    "\n",
    "![Data Science R Overview](../../../Pics/DSRfunctions.PNG)\n",
    "\n",
    "R is primarily a functional language. Functions are treated as other data types. For example functions can be assigned to variables and can be passed as arguments to other functions. Even simple operators as *+* are functions. The conventional formulation *x+y* is just a shortcut for \"+\"(x,y):"
   ]
  },
  {
   "cell_type": "code",
   "execution_count": 2,
   "metadata": {
    "ExecuteTime": {
     "end_time": "2017-09-21T13:49:11.722000Z",
     "start_time": "2017-09-21T13:49:11.679Z"
    }
   },
   "outputs": [
    {
     "data": {
      "text/html": [
       "15"
      ],
      "text/latex": [
       "15"
      ],
      "text/markdown": [
       "15"
      ],
      "text/plain": [
       "[1] 15"
      ]
     },
     "metadata": {},
     "output_type": "display_data"
    },
    {
     "data": {
      "text/html": [
       "15"
      ],
      "text/latex": [
       "15"
      ],
      "text/markdown": [
       "15"
      ],
      "text/plain": [
       "[1] 15"
      ]
     },
     "metadata": {},
     "output_type": "display_data"
    }
   ],
   "source": [
    "9+6\n",
    "\"+\"(9,6)"
   ]
  },
  {
   "cell_type": "markdown",
   "metadata": {},
   "source": [
    "One of the most popular concepts of R functions is that they can be applied in a *vectorized* manner. This means that they can be executed for an individual element as well as elementwise for a collection of elements, e.g. vectors or matrices:"
   ]
  },
  {
   "cell_type": "code",
   "execution_count": 3,
   "metadata": {
    "ExecuteTime": {
     "end_time": "2017-09-21T13:49:11.767000Z",
     "start_time": "2017-09-21T13:49:11.684Z"
    }
   },
   "outputs": [
    {
     "data": {
      "text/html": [
       "<ol class=list-inline>\n",
       "\t<li>12</li>\n",
       "\t<li>14</li>\n",
       "\t<li>16</li>\n",
       "\t<li>18</li>\n",
       "\t<li>20</li>\n",
       "\t<li>22</li>\n",
       "\t<li>24</li>\n",
       "\t<li>26</li>\n",
       "\t<li>28</li>\n",
       "\t<li>30</li>\n",
       "</ol>\n"
      ],
      "text/latex": [
       "\\begin{enumerate*}\n",
       "\\item 12\n",
       "\\item 14\n",
       "\\item 16\n",
       "\\item 18\n",
       "\\item 20\n",
       "\\item 22\n",
       "\\item 24\n",
       "\\item 26\n",
       "\\item 28\n",
       "\\item 30\n",
       "\\end{enumerate*}\n"
      ],
      "text/markdown": [
       "1. 12\n",
       "2. 14\n",
       "3. 16\n",
       "4. 18\n",
       "5. 20\n",
       "6. 22\n",
       "7. 24\n",
       "8. 26\n",
       "9. 28\n",
       "10. 30\n",
       "\n",
       "\n"
      ],
      "text/plain": [
       " [1] 12 14 16 18 20 22 24 26 28 30"
      ]
     },
     "metadata": {},
     "output_type": "display_data"
    },
    {
     "data": {
      "text/html": [
       "<ol class=list-inline>\n",
       "\t<li>12</li>\n",
       "\t<li>14</li>\n",
       "\t<li>16</li>\n",
       "\t<li>18</li>\n",
       "\t<li>20</li>\n",
       "\t<li>22</li>\n",
       "\t<li>24</li>\n",
       "\t<li>26</li>\n",
       "\t<li>28</li>\n",
       "\t<li>30</li>\n",
       "</ol>\n"
      ],
      "text/latex": [
       "\\begin{enumerate*}\n",
       "\\item 12\n",
       "\\item 14\n",
       "\\item 16\n",
       "\\item 18\n",
       "\\item 20\n",
       "\\item 22\n",
       "\\item 24\n",
       "\\item 26\n",
       "\\item 28\n",
       "\\item 30\n",
       "\\end{enumerate*}\n"
      ],
      "text/markdown": [
       "1. 12\n",
       "2. 14\n",
       "3. 16\n",
       "4. 18\n",
       "5. 20\n",
       "6. 22\n",
       "7. 24\n",
       "8. 26\n",
       "9. 28\n",
       "10. 30\n",
       "\n",
       "\n"
      ],
      "text/plain": [
       " [1] 12 14 16 18 20 22 24 26 28 30"
      ]
     },
     "metadata": {},
     "output_type": "display_data"
    }
   ],
   "source": [
    "a<-1:10\n",
    "b<-11:20\n",
    "\"+\"(a,b)\n",
    "a+b"
   ]
  },
  {
   "cell_type": "markdown",
   "metadata": {},
   "source": [
    "In other programming languages such operations are typically defined only for single elements and an elementwise calculation on vectors is usually implemented by a repeated call of the operation within a for-loop. "
   ]
  },
  {
   "cell_type": "markdown",
   "metadata": {},
   "source": [
    "## Build-in functions\n",
    "R provides an immense bunch of built-in-functions. These are functions, which are available in the basic R-package. They can be applied whenever needed and need not be explicitely loaded. \n",
    "\n",
    "### Examples for mathematical build-in functions\n",
    "Some basic statistics, such as maximum, minimum, mean, standard-deviation and variance can be calculated by the following built-in-functions:"
   ]
  },
  {
   "cell_type": "code",
   "execution_count": 4,
   "metadata": {
    "ExecuteTime": {
     "end_time": "2017-09-21T13:49:11.830000Z",
     "start_time": "2017-09-21T13:49:11.689Z"
    }
   },
   "outputs": [
    {
     "data": {
      "text/html": [
       "10"
      ],
      "text/latex": [
       "10"
      ],
      "text/markdown": [
       "10"
      ],
      "text/plain": [
       "[1] 10"
      ]
     },
     "metadata": {},
     "output_type": "display_data"
    },
    {
     "data": {
      "text/html": [
       "1"
      ],
      "text/latex": [
       "1"
      ],
      "text/markdown": [
       "1"
      ],
      "text/plain": [
       "[1] 1"
      ]
     },
     "metadata": {},
     "output_type": "display_data"
    },
    {
     "data": {
      "text/html": [
       "5.5"
      ],
      "text/latex": [
       "5.5"
      ],
      "text/markdown": [
       "5.5"
      ],
      "text/plain": [
       "[1] 5.5"
      ]
     },
     "metadata": {},
     "output_type": "display_data"
    },
    {
     "data": {
      "text/html": [
       "3.02765035409749"
      ],
      "text/latex": [
       "3.02765035409749"
      ],
      "text/markdown": [
       "3.02765035409749"
      ],
      "text/plain": [
       "[1] 3.02765"
      ]
     },
     "metadata": {},
     "output_type": "display_data"
    },
    {
     "data": {
      "text/html": [
       "9.16666666666667"
      ],
      "text/latex": [
       "9.16666666666667"
      ],
      "text/markdown": [
       "9.16666666666667"
      ],
      "text/plain": [
       "[1] 9.166667"
      ]
     },
     "metadata": {},
     "output_type": "display_data"
    }
   ],
   "source": [
    "max(a)\n",
    "min(a)\n",
    "mean(a)\n",
    "sd(a)\n",
    "var(a)"
   ]
  },
  {
   "cell_type": "markdown",
   "metadata": {},
   "source": [
    "Some other mathematical built-in functions are:"
   ]
  },
  {
   "cell_type": "code",
   "execution_count": 5,
   "metadata": {
    "ExecuteTime": {
     "end_time": "2017-09-21T13:49:11.885000Z",
     "start_time": "2017-09-21T13:49:11.695Z"
    }
   },
   "outputs": [
    {
     "data": {
      "text/html": [
       "5"
      ],
      "text/latex": [
       "5"
      ],
      "text/markdown": [
       "5"
      ],
      "text/plain": [
       "[1] 5"
      ]
     },
     "metadata": {},
     "output_type": "display_data"
    },
    {
     "data": {
      "text/html": [
       "-1"
      ],
      "text/latex": [
       "-1"
      ],
      "text/markdown": [
       "-1"
      ],
      "text/plain": [
       "[1] -1"
      ]
     },
     "metadata": {},
     "output_type": "display_data"
    },
    {
     "data": {
      "text/html": [
       "<ol class=list-inline>\n",
       "\t<li>1</li>\n",
       "\t<li>21</li>\n",
       "\t<li>41</li>\n",
       "\t<li>61</li>\n",
       "\t<li>81</li>\n",
       "</ol>\n"
      ],
      "text/latex": [
       "\\begin{enumerate*}\n",
       "\\item 1\n",
       "\\item 21\n",
       "\\item 41\n",
       "\\item 61\n",
       "\\item 81\n",
       "\\end{enumerate*}\n"
      ],
      "text/markdown": [
       "1. 1\n",
       "2. 21\n",
       "3. 41\n",
       "4. 61\n",
       "5. 81\n",
       "\n",
       "\n"
      ],
      "text/plain": [
       "[1]  1 21 41 61 81"
      ]
     },
     "metadata": {},
     "output_type": "display_data"
    }
   ],
   "source": [
    "sqrt(25)\n",
    "cos(pi)\n",
    "seq(1,100,by=20)"
   ]
  },
  {
   "cell_type": "markdown",
   "metadata": {},
   "source": [
    "### Examples for built-in character functions\n",
    "Character functions are executed on textual data. A small but important subset of character built-in functions is:\n",
    "\n",
    "* `nchar(x)`: Returns the number of characters in *x*,\n",
    "* `substr(x,u,v)`: Returns the substring of *x*, which starts at index *u* and terminates at index *v*,\n",
    "* `strsplit(x,split,fixed=FALSE)`: Splits the character-variable *x* at all characters defined in the pattern *split*. If *fixed=TRUE*, then the pattern *split* is interpreted as a character variable. If *fixed=FALSE*, the *split* is interpreted as a regular expression,\n",
    "* `grep(pattern,x,ignore.case=FALSE,fixed=TRUE)`: Searches for *pattern* in *x*. If *fixed=FALSE*, then pattern is a regular expression. If *fixed=TRUE*, then *pattern* is a text string. Returns the matching indices,\n",
    "* `sub(pattern, replacement, x, ignore.case=FALSE, fixed=FALSE)`: Finds pattern in *x* and substitutes the *replacement* text. If *fixed=FALSE*, then *pattern* is a regular expression. If *fixed=TRUE*, then *pattern* is a text string. Note that`sub()` replaces only the first occurence of *pattern*. If all occurences shall be replaced `gsub()` can be applied.\n",
    "* `paste(A,sep=\"\")`: Concatenates the strings in *A* (sequence of strings) after using the *sep* string to separate them,\n",
    "* `toupper(x)`: Turns all characters in *x* to uppercase,\n",
    "* `tolower(x)`: Turns all characters in *x* to lowercase.\n",
    "\n",
    "These functions are demonstrated in the following lines of codes:"
   ]
  },
  {
   "cell_type": "code",
   "execution_count": 6,
   "metadata": {
    "ExecuteTime": {
     "end_time": "2017-09-21T13:49:16.932000Z",
     "start_time": "2017-09-21T13:49:16.823Z"
    }
   },
   "outputs": [
    {
     "data": {
      "text/html": [
       "60"
      ],
      "text/latex": [
       "60"
      ],
      "text/markdown": [
       "60"
      ],
      "text/plain": [
       "[1] 60"
      ]
     },
     "metadata": {},
     "output_type": "display_data"
    },
    {
     "data": {
      "text/html": [
       "'ist '"
      ],
      "text/latex": [
       "'ist '"
      ],
      "text/markdown": [
       "'ist '"
      ],
      "text/plain": [
       "[1] \"ist \""
      ]
     },
     "metadata": {},
     "output_type": "display_data"
    },
    {
     "data": {
      "text/html": [
       "<ol>\n",
       "\t<li><ol class=list-inline>\n",
       "\t<li>'Das ist ein einfacher Satz'</li>\n",
       "\t<li>' Und hier kommt nochmal ein Satz'</li>\n",
       "</ol>\n",
       "</li>\n",
       "</ol>\n"
      ],
      "text/latex": [
       "\\begin{enumerate}\n",
       "\\item \\begin{enumerate*}\n",
       "\\item 'Das ist ein einfacher Satz'\n",
       "\\item ' Und hier kommt nochmal ein Satz'\n",
       "\\end{enumerate*}\n",
       "\n",
       "\\end{enumerate}\n"
      ],
      "text/markdown": [
       "1. 1. 'Das ist ein einfacher Satz'\n",
       "2. ' Und hier kommt nochmal ein Satz'\n",
       "\n",
       "\n",
       "\n",
       "\n",
       "\n"
      ],
      "text/plain": [
       "[[1]]\n",
       "[1] \"Das ist ein einfacher Satz\"       \" Und hier kommt nochmal ein Satz\"\n"
      ]
     },
     "metadata": {},
     "output_type": "display_data"
    },
    {
     "data": {
      "text/html": [
       "<ol>\n",
       "\t<li><ol class=list-inline>\n",
       "\t<li>'Das'</li>\n",
       "\t<li>'ist'</li>\n",
       "\t<li>'ein'</li>\n",
       "\t<li>'einfacher'</li>\n",
       "\t<li>'Satz.'</li>\n",
       "\t<li>'Und'</li>\n",
       "\t<li>'hier'</li>\n",
       "\t<li>'kommt'</li>\n",
       "\t<li>'nochmal'</li>\n",
       "\t<li>'ein'</li>\n",
       "\t<li>'Satz.'</li>\n",
       "</ol>\n",
       "</li>\n",
       "</ol>\n"
      ],
      "text/latex": [
       "\\begin{enumerate}\n",
       "\\item \\begin{enumerate*}\n",
       "\\item 'Das'\n",
       "\\item 'ist'\n",
       "\\item 'ein'\n",
       "\\item 'einfacher'\n",
       "\\item 'Satz.'\n",
       "\\item 'Und'\n",
       "\\item 'hier'\n",
       "\\item 'kommt'\n",
       "\\item 'nochmal'\n",
       "\\item 'ein'\n",
       "\\item 'Satz.'\n",
       "\\end{enumerate*}\n",
       "\n",
       "\\end{enumerate}\n"
      ],
      "text/markdown": [
       "1. 1. 'Das'\n",
       "2. 'ist'\n",
       "3. 'ein'\n",
       "4. 'einfacher'\n",
       "5. 'Satz.'\n",
       "6. 'Und'\n",
       "7. 'hier'\n",
       "8. 'kommt'\n",
       "9. 'nochmal'\n",
       "10. 'ein'\n",
       "11. 'Satz.'\n",
       "\n",
       "\n",
       "\n",
       "\n",
       "\n"
      ],
      "text/plain": [
       "[[1]]\n",
       " [1] \"Das\"       \"ist\"       \"ein\"       \"einfacher\" \"Satz.\"     \"Und\"      \n",
       " [7] \"hier\"      \"kommt\"     \"nochmal\"   \"ein\"       \"Satz.\"    \n"
      ]
     },
     "metadata": {},
     "output_type": "display_data"
    },
    {
     "data": {
      "text/html": [
       "<ol class=list-inline>\n",
       "\t<li>2</li>\n",
       "\t<li>3</li>\n",
       "</ol>\n"
      ],
      "text/latex": [
       "\\begin{enumerate*}\n",
       "\\item 2\n",
       "\\item 3\n",
       "\\end{enumerate*}\n"
      ],
      "text/markdown": [
       "1. 2\n",
       "2. 3\n",
       "\n",
       "\n"
      ],
      "text/plain": [
       "[1] 2 3"
      ]
     },
     "metadata": {},
     "output_type": "display_data"
    },
    {
     "data": {
      "text/html": [
       "<ol class=list-inline>\n",
       "\t<li>1</li>\n",
       "\t<li>2</li>\n",
       "</ol>\n"
      ],
      "text/latex": [
       "\\begin{enumerate*}\n",
       "\\item 1\n",
       "\\item 2\n",
       "\\end{enumerate*}\n"
      ],
      "text/markdown": [
       "1. 1\n",
       "2. 2\n",
       "\n",
       "\n"
      ],
      "text/plain": [
       "[1] 1 2"
      ]
     },
     "metadata": {},
     "output_type": "display_data"
    },
    {
     "data": {
      "text/html": [
       "1"
      ],
      "text/latex": [
       "1"
      ],
      "text/markdown": [
       "1"
      ],
      "text/plain": [
       "[1] 1"
      ]
     },
     "metadata": {},
     "output_type": "display_data"
    },
    {
     "data": {
      "text/html": [
       "<ol class=list-inline>\n",
       "\t<li>'Das ist Satz 1.'</li>\n",
       "\t<li>'Hier ist der 2. Satz.'</li>\n",
       "\t<li>'Und hier der dritte.'</li>\n",
       "</ol>\n"
      ],
      "text/latex": [
       "\\begin{enumerate*}\n",
       "\\item 'Das ist Satz 1.'\n",
       "\\item 'Hier ist der 2. Satz.'\n",
       "\\item 'Und hier der dritte.'\n",
       "\\end{enumerate*}\n"
      ],
      "text/markdown": [
       "1. 'Das ist Satz 1.'\n",
       "2. 'Hier ist der 2. Satz.'\n",
       "3. 'Und hier der dritte.'\n",
       "\n",
       "\n"
      ],
      "text/plain": [
       "[1] \"Das ist Satz 1.\"       \"Hier ist der 2. Satz.\" \"Und hier der dritte.\" "
      ]
     },
     "metadata": {},
     "output_type": "display_data"
    },
    {
     "data": {
      "text/html": [
       "<ol class=list-inline>\n",
       "\t<li>'Feature-1'</li>\n",
       "\t<li>'Feature-2'</li>\n",
       "\t<li>'Feature-3'</li>\n",
       "\t<li>'Feature-4'</li>\n",
       "\t<li>'Feature-5'</li>\n",
       "</ol>\n"
      ],
      "text/latex": [
       "\\begin{enumerate*}\n",
       "\\item 'Feature-1'\n",
       "\\item 'Feature-2'\n",
       "\\item 'Feature-3'\n",
       "\\item 'Feature-4'\n",
       "\\item 'Feature-5'\n",
       "\\end{enumerate*}\n"
      ],
      "text/markdown": [
       "1. 'Feature-1'\n",
       "2. 'Feature-2'\n",
       "3. 'Feature-3'\n",
       "4. 'Feature-4'\n",
       "5. 'Feature-5'\n",
       "\n",
       "\n"
      ],
      "text/plain": [
       "[1] \"Feature-1\" \"Feature-2\" \"Feature-3\" \"Feature-4\" \"Feature-5\""
      ]
     },
     "metadata": {},
     "output_type": "display_data"
    },
    {
     "data": {
      "text/html": [
       "'The value is: 10'"
      ],
      "text/latex": [
       "'The value is: 10'"
      ],
      "text/markdown": [
       "'The value is: 10'"
      ],
      "text/plain": [
       "[1] \"The value is: 10\""
      ]
     },
     "metadata": {},
     "output_type": "display_data"
    },
    {
     "data": {
      "text/html": [
       "'Today is: Thu Sep 21 15:49:16 2017'"
      ],
      "text/latex": [
       "'Today is: Thu Sep 21 15:49:16 2017'"
      ],
      "text/markdown": [
       "'Today is: Thu Sep 21 15:49:16 2017'"
      ],
      "text/plain": [
       "[1] \"Today is: Thu Sep 21 15:49:16 2017\""
      ]
     },
     "metadata": {},
     "output_type": "display_data"
    },
    {
     "data": {
      "text/html": [
       "'ABCD'"
      ],
      "text/latex": [
       "'ABCD'"
      ],
      "text/markdown": [
       "'ABCD'"
      ],
      "text/plain": [
       "[1] \"ABCD\""
      ]
     },
     "metadata": {},
     "output_type": "display_data"
    },
    {
     "data": {
      "text/html": [
       "'efgh'"
      ],
      "text/latex": [
       "'efgh'"
      ],
      "text/markdown": [
       "'efgh'"
      ],
      "text/plain": [
       "[1] \"efgh\""
      ]
     },
     "metadata": {},
     "output_type": "display_data"
    }
   ],
   "source": [
    "myCharVar=\"Das ist ein einfacher Satz. Und hier kommt nochmal ein Satz.\"\n",
    "nchar(myCharVar)\n",
    "substr(myCharVar,5,8)\n",
    "strsplit(myCharVar,'.',fixed=TRUE)\n",
    "strsplit(myCharVar,'\\\\s') #split at all whitespaces\n",
    "seqChars=c(\"Das ist Satz 1.\",\"Hier ist der zweite Satz.\",\"Und hier der dritte.\")\n",
    "grep('der',seqChars,fixed=TRUE)\n",
    "grep('\\\\si',seqChars,fixed=FALSE)\n",
    "grep('\\\\d',seqChars,fixed=FALSE)\n",
    "sub('zweite','2.',seqChars,fixed=TRUE)\n",
    "paste(\"Feature\",1:5,sep=\"-\")\n",
    "curval=10\n",
    "paste(\"The value is\",curval,sep=\": \")\n",
    "paste(\"Today is\",date(),sep=\": \")\n",
    "toupper('abCD')\n",
    "tolower('EFgh')"
   ]
  },
  {
   "cell_type": "markdown",
   "metadata": {},
   "source": [
    "### Examples for other useful built-in functions\n",
    "Besides a vast variety of mathematical functions, there are a lot other useful build-in functions in R. Here is just a small subset of such useful helpers:\n",
    "\n",
    "* `length(x)`: Returns the length of an object *x*. E.g. *length(c(4,2,19))* returns 3.\n",
    "* `seq(x,y,z)`: Generates a sequence of numbers from *x* to *y* with a step-size of *z*.\n",
    "* `rep(x,n)`: Generates a sequence, which contains *n* copies of *x* (x need not be a number, but can also be e.g. a sequence).\n",
    "* `cut(x,n)`: Divides the continuous variable *x* into a vector with *n* levels.\n",
    "* `pretty(x,n)`: Divides a continuous variable *x* into *n* intervals by selecting *n+1* equally spaced rounded values.\n",
    "* `cat(A)`: Concatenates objects in A.\n",
    "\n",
    "**Examples:**"
   ]
  },
  {
   "cell_type": "code",
   "execution_count": 7,
   "metadata": {
    "ExecuteTime": {
     "end_time": "2017-09-14T14:51:07.151000Z",
     "start_time": "2017-09-14T14:51:07.093Z"
    }
   },
   "outputs": [
    {
     "data": {
      "text/html": [
       "<ol class=list-inline>\n",
       "\t<li>13</li>\n",
       "\t<li>18</li>\n",
       "\t<li>23</li>\n",
       "\t<li>28</li>\n",
       "\t<li>33</li>\n",
       "\t<li>38</li>\n",
       "</ol>\n"
      ],
      "text/latex": [
       "\\begin{enumerate*}\n",
       "\\item 13\n",
       "\\item 18\n",
       "\\item 23\n",
       "\\item 28\n",
       "\\item 33\n",
       "\\item 38\n",
       "\\end{enumerate*}\n"
      ],
      "text/markdown": [
       "1. 13\n",
       "2. 18\n",
       "3. 23\n",
       "4. 28\n",
       "5. 33\n",
       "6. 38\n",
       "\n",
       "\n"
      ],
      "text/plain": [
       "[1] 13 18 23 28 33 38"
      ]
     },
     "metadata": {},
     "output_type": "display_data"
    },
    {
     "data": {
      "text/html": [
       "<ol class=list-inline>\n",
       "\t<li>13</li>\n",
       "\t<li>18</li>\n",
       "\t<li>23</li>\n",
       "\t<li>28</li>\n",
       "\t<li>33</li>\n",
       "\t<li>38</li>\n",
       "\t<li>13</li>\n",
       "\t<li>18</li>\n",
       "\t<li>23</li>\n",
       "\t<li>28</li>\n",
       "\t<li>33</li>\n",
       "\t<li>38</li>\n",
       "</ol>\n"
      ],
      "text/latex": [
       "\\begin{enumerate*}\n",
       "\\item 13\n",
       "\\item 18\n",
       "\\item 23\n",
       "\\item 28\n",
       "\\item 33\n",
       "\\item 38\n",
       "\\item 13\n",
       "\\item 18\n",
       "\\item 23\n",
       "\\item 28\n",
       "\\item 33\n",
       "\\item 38\n",
       "\\end{enumerate*}\n"
      ],
      "text/markdown": [
       "1. 13\n",
       "2. 18\n",
       "3. 23\n",
       "4. 28\n",
       "5. 33\n",
       "6. 38\n",
       "7. 13\n",
       "8. 18\n",
       "9. 23\n",
       "10. 28\n",
       "11. 33\n",
       "12. 38\n",
       "\n",
       "\n"
      ],
      "text/plain": [
       " [1] 13 18 23 28 33 38 13 18 23 28 33 38"
      ]
     },
     "metadata": {},
     "output_type": "display_data"
    },
    {
     "data": {
      "text/html": [
       "6"
      ],
      "text/latex": [
       "6"
      ],
      "text/markdown": [
       "6"
      ],
      "text/plain": [
       "[1] 6"
      ]
     },
     "metadata": {},
     "output_type": "display_data"
    },
    {
     "data": {
      "text/html": [
       "12"
      ],
      "text/latex": [
       "12"
      ],
      "text/markdown": [
       "12"
      ],
      "text/plain": [
       "[1] 12"
      ]
     },
     "metadata": {},
     "output_type": "display_data"
    }
   ],
   "source": [
    "x<-seq(13,40,5)\n",
    "x\n",
    "y<-rep(x,2)\n",
    "y\n",
    "length(x)\n",
    "length(y)"
   ]
  },
  {
   "cell_type": "code",
   "execution_count": 18,
   "metadata": {
    "ExecuteTime": {
     "end_time": "2017-09-14T15:00:28.072000Z",
     "start_time": "2017-09-14T15:00:28.030Z"
    }
   },
   "outputs": [
    {
     "data": {
      "text/html": [
       "<ol class=list-inline>\n",
       "\t<li>(3.99,8]</li>\n",
       "\t<li>(3.99,8]</li>\n",
       "\t<li>(12,16]</li>\n",
       "</ol>\n"
      ],
      "text/latex": [
       "\\begin{enumerate*}\n",
       "\\item (3.99,8{]}\n",
       "\\item (3.99,8{]}\n",
       "\\item (12,16{]}\n",
       "\\end{enumerate*}\n"
      ],
      "text/markdown": [
       "1. (3.99,8]\n",
       "2. (3.99,8]\n",
       "3. (12,16]\n",
       "\n",
       "\n"
      ],
      "text/plain": [
       "[1] (3.99,8] (3.99,8] (12,16] \n",
       "Levels: (3.99,8] (8,12] (12,16]"
      ]
     },
     "metadata": {},
     "output_type": "display_data"
    },
    {
     "data": {
      "text/html": [
       "<ol class=list-inline>\n",
       "\t<li>45</li>\n",
       "\t<li>2</li>\n",
       "\t<li>82</li>\n",
       "\t<li>22</li>\n",
       "\t<li>4</li>\n",
       "</ol>\n"
      ],
      "text/latex": [
       "\\begin{enumerate*}\n",
       "\\item 45\n",
       "\\item 2\n",
       "\\item 82\n",
       "\\item 22\n",
       "\\item 4\n",
       "\\end{enumerate*}\n"
      ],
      "text/markdown": [
       "1. 45\n",
       "2. 2\n",
       "3. 82\n",
       "4. 22\n",
       "5. 4\n",
       "\n",
       "\n"
      ],
      "text/plain": [
       "[1] 45  2 82 22  4"
      ]
     },
     "metadata": {},
     "output_type": "display_data"
    },
    {
     "data": {
      "text/html": [
       "<ol class=list-inline>\n",
       "\t<li>(42,62]</li>\n",
       "\t<li>(1.92,22]</li>\n",
       "\t<li>(62,82.1]</li>\n",
       "\t<li>(1.92,22]</li>\n",
       "\t<li>(1.92,22]</li>\n",
       "</ol>\n"
      ],
      "text/latex": [
       "\\begin{enumerate*}\n",
       "\\item (42,62{]}\n",
       "\\item (1.92,22{]}\n",
       "\\item (62,82.1{]}\n",
       "\\item (1.92,22{]}\n",
       "\\item (1.92,22{]}\n",
       "\\end{enumerate*}\n"
      ],
      "text/markdown": [
       "1. (42,62]\n",
       "2. (1.92,22]\n",
       "3. (62,82.1]\n",
       "4. (1.92,22]\n",
       "5. (1.92,22]\n",
       "\n",
       "\n"
      ],
      "text/plain": [
       "[1] (42,62]   (1.92,22] (62,82.1] (1.92,22] (1.92,22]\n",
       "Levels: (1.92,22] (22,42] (42,62] (62,82.1]"
      ]
     },
     "metadata": {},
     "output_type": "display_data"
    }
   ],
   "source": [
    "cut(c(8,4,16),3)\n",
    "x2<-c(45,2,82,22,4)\n",
    "x2\n",
    "cut(x2,4)"
   ]
  },
  {
   "cell_type": "code",
   "execution_count": 19,
   "metadata": {
    "ExecuteTime": {
     "end_time": "2017-09-14T15:01:46.173000Z",
     "start_time": "2017-09-14T15:01:46.138Z"
    }
   },
   "outputs": [
    {
     "data": {
      "text/html": [
       "<ol class=list-inline>\n",
       "\t<li>10</li>\n",
       "\t<li>15</li>\n",
       "\t<li>20</li>\n",
       "\t<li>25</li>\n",
       "\t<li>30</li>\n",
       "\t<li>35</li>\n",
       "\t<li>40</li>\n",
       "</ol>\n"
      ],
      "text/latex": [
       "\\begin{enumerate*}\n",
       "\\item 10\n",
       "\\item 15\n",
       "\\item 20\n",
       "\\item 25\n",
       "\\item 30\n",
       "\\item 35\n",
       "\\item 40\n",
       "\\end{enumerate*}\n"
      ],
      "text/markdown": [
       "1. 10\n",
       "2. 15\n",
       "3. 20\n",
       "4. 25\n",
       "5. 30\n",
       "6. 35\n",
       "7. 40\n",
       "\n",
       "\n"
      ],
      "text/plain": [
       "[1] 10 15 20 25 30 35 40"
      ]
     },
     "metadata": {},
     "output_type": "display_data"
    }
   ],
   "source": [
    "pretty(x,5)"
   ]
  },
  {
   "cell_type": "code",
   "execution_count": 9,
   "metadata": {
    "ExecuteTime": {
     "end_time": "2017-08-10T12:02:29.717000Z",
     "start_time": "2017-08-10T12:02:29.148Z"
    }
   },
   "outputs": [
    {
     "name": "stdout",
     "output_type": "stream",
     "text": [
      " Value of m is:\t 3 \n",
      " Value of j is\t 5"
     ]
    }
   ],
   "source": [
    "m=3\n",
    "j=5\n",
    "cat(\" Value of m is:\\t\", m, \"\\n\",\"Value of j is\\t\",j)"
   ]
  },
  {
   "cell_type": "markdown",
   "metadata": {},
   "source": [
    "## Functions from external R packages\n",
    "There exists more than 10000 R-packages, which provide solutions for all kinds of problems. External R packages can be downloaded e.g. from [https://cran.r-project.org/](https://cran.r-project.org/). The list of all installed package, available in your current environment, can be obtained by the following statement:"
   ]
  },
  {
   "cell_type": "code",
   "execution_count": 10,
   "metadata": {
    "ExecuteTime": {
     "end_time": "2017-08-10T12:02:30.063000Z",
     "start_time": "2017-08-10T12:02:29.155Z"
    }
   },
   "outputs": [
    {
     "data": {},
     "metadata": {},
     "output_type": "display_data"
    }
   ],
   "source": [
    "library()"
   ]
  },
  {
   "cell_type": "markdown",
   "metadata": {},
   "source": [
    "Functions of external packages, which are installed in your environment must be loaded before they can be applied. Functions from package *X* can be loaded by\n",
    "*library(X)*. For example the following statement loads the package *ggplot2*"
   ]
  },
  {
   "cell_type": "code",
   "execution_count": 11,
   "metadata": {
    "ExecuteTime": {
     "end_time": "2017-08-10T12:02:30.591000Z",
     "start_time": "2017-08-10T12:02:29.170Z"
    },
    "collapsed": true
   },
   "outputs": [],
   "source": [
    "library(ggplot2)"
   ]
  },
  {
   "cell_type": "markdown",
   "metadata": {},
   "source": [
    "External packages, which are not already installed in your environment, can be downloaded and installed by\n",
    "\n",
    "install.packages(\"NameOfPackage\")\n",
    "\n",
    "For example the following statement downloads and installs the package *ttseries*"
   ]
  },
  {
   "cell_type": "code",
   "execution_count": 12,
   "metadata": {
    "ExecuteTime": {
     "end_time": "2017-08-10T12:02:30.639000Z",
     "start_time": "2017-08-10T12:02:29.179Z"
    }
   },
   "outputs": [
    {
     "ename": "ERROR",
     "evalue": "Error in contrib.url(repos, \"source\"): trying to use CRAN without setting a mirror\n",
     "output_type": "error",
     "traceback": [
      "Error in contrib.url(repos, \"source\"): trying to use CRAN without setting a mirror\nTraceback:\n",
      "1. install.packages(\"tagcloud\")",
      "2. contrib.url(repos, \"source\")",
      "3. stop(\"trying to use CRAN without setting a mirror\")"
     ]
    }
   ],
   "source": [
    "install.packages(\"tagcloud\")"
   ]
  },
  {
   "cell_type": "markdown",
   "metadata": {},
   "source": [
    "This command is only successful if the package exists on the configured CRAN-mirror. A list of all available CRAN-mirrors can be obtained by the *getCRANmirrors()*-function. A particular mirror can the be set by\n",
    "\n",
    "*options(repos=structure(c(CRAN=\"http://cloud.r-project.org/\")))*\n",
    "\n",
    "Example:"
   ]
  },
  {
   "cell_type": "code",
   "execution_count": 13,
   "metadata": {
    "ExecuteTime": {
     "end_time": "2017-08-10T12:03:05.811000Z",
     "start_time": "2017-08-10T12:03:05.300Z"
    }
   },
   "outputs": [
    {
     "data": {
      "text/html": [
       "<table>\n",
       "<thead><tr><th></th><th scope=col>Name</th><th scope=col>Country</th><th scope=col>City</th><th scope=col>URL</th><th scope=col>Host</th><th scope=col>Maintainer</th><th scope=col>OK</th><th scope=col>CountryCode</th><th scope=col>Comment</th></tr></thead>\n",
       "<tbody>\n",
       "\t<tr><th scope=row>1</th><td>0-Cloud [https]                                                           </td><td>0-Cloud                                                                   </td><td>0-Cloud                                                                   </td><td>https://cloud.r-project.org/                                              </td><td>Automatic redirection to servers worldwide, currently sponsored by Rstudio</td><td>winston # stdout.org                                                      </td><td>1                                                                         </td><td>us                                                                        </td><td>secure_mirror_from_master                                                 </td></tr>\n",
       "\t<tr><th scope=row>2</th><td>0-Cloud                                                                   </td><td>0-Cloud                                                                   </td><td>0-Cloud                                                                   </td><td>http://cloud.r-project.org/                                               </td><td>Automatic redirection to servers worldwide, currently sponsored by Rstudio</td><td>winston # stdout.org                                                      </td><td>1                                                                         </td><td>us                                                                        </td><td>secure_mirror_from_master                                                 </td></tr>\n",
       "\t<tr><th scope=row>3</th><td><span style=white-space:pre-wrap>Algeria [https]                </span>                                           </td><td><span style=white-space:pre-wrap>Algeria  </span>                                                                 </td><td><span style=white-space:pre-wrap>Algiers       </span>                                                            </td><td><span style=white-space:pre-wrap>https://cran.usthb.dz/                </span>                                    </td><td><span style=white-space:pre-wrap>University of Science and Technology Houari Boumediene                    </span></td><td><span style=white-space:pre-wrap>Boukala m c &lt;mboukala # usthb.dz&gt;                                 </span>  </td><td>1                                                                                                                 </td><td>dz                                                                                                                </td><td>secure_mirror_from_master                                                                                         </td></tr>\n",
       "\t<tr><th scope=row>4</th><td><span style=white-space:pre-wrap>Algeria                        </span>                                           </td><td><span style=white-space:pre-wrap>Algeria  </span>                                                                 </td><td><span style=white-space:pre-wrap>Algiers       </span>                                                            </td><td><span style=white-space:pre-wrap>http://cran.usthb.dz/                 </span>                                    </td><td><span style=white-space:pre-wrap>University of Science and Technology Houari Boumediene                    </span></td><td><span style=white-space:pre-wrap>Boukala m c &lt;mboukala # usthb.dz&gt;                                 </span>  </td><td>1                                                                                                                 </td><td>dz                                                                                                                </td><td>secure_mirror_from_master                                                                                         </td></tr>\n",
       "\t<tr><th scope=row>5</th><td>Argentina (La Plata)                                                      </td><td>Argentina                                                                 </td><td>La Plata                                                                  </td><td>http://mirror.fcaglp.unlp.edu.ar/CRAN/                                    </td><td>Universidad Nacional de La Plata                                          </td><td>esuarez # Fcaglp.unlp.edu.ar                                              </td><td>1                                                                         </td><td>ar                                                                        </td><td>                                                                          </td></tr>\n",
       "\t<tr><th scope=row>6</th><td>Australia (Canberra) [https]                                              </td><td>Australia                                                                 </td><td>Canberra                                                                  </td><td>https://cran.csiro.au/                                                    </td><td>CSIRO                                                                     </td><td>Bill.Venables # CSIRO.au, ServiceDesk2 # CSIRO.au                         </td><td>1                                                                         </td><td>au                                                                        </td><td>secure_mirror_from_master                                                 </td></tr>\n",
       "\t<tr><th scope=row>7</th><td>Australia (Canberra)                                                      </td><td>Australia                                                                 </td><td>Canberra                                                                  </td><td>http://cran.csiro.au/                                                     </td><td>CSIRO                                                                     </td><td>Bill.Venables # CSIRO.au, ServiceDesk2 # CSIRO.au                         </td><td>1                                                                         </td><td>au                                                                        </td><td>secure_mirror_from_master                                                 </td></tr>\n",
       "\t<tr><th scope=row>8</th><td>Australia (Melbourne 1) [https]                                                                                   </td><td>Australia                                                                                                         </td><td><span style=white-space:pre-wrap>Melbourne     </span>                                                            </td><td>https://mirror.aarnet.edu.au/pub/CRAN/                                                                            </td><td><span style=white-space:pre-wrap>AARNET                                                                    </span></td><td><span style=white-space:pre-wrap>&lt;sysadmin # aarnet.edu.au&gt;                                        </span>  </td><td>1                                                                                                                 </td><td>au                                                                                                                </td><td>secure_mirror_from_master                                                                                         </td></tr>\n",
       "\t<tr><th scope=row>9</th><td>Australia (Melbourne 2) [https]                                           </td><td>Australia                                                                 </td><td>Melbourne                                                                 </td><td>https://cran.ms.unimelb.edu.au/                                           </td><td>School of Mathematics and Statistics, University of Melbourne             </td><td>unix-ops # lists.unimelb.edu.au                                           </td><td>1                                                                         </td><td>au                                                                        </td><td>secure_mirror_from_master                                                 </td></tr>\n",
       "\t<tr><th scope=row>10</th><td>Australia (Perth) [https]                                                 </td><td>Australia                                                                 </td><td>Perth                                                                     </td><td>https://cran.curtin.edu.au/                                               </td><td>Curtin University of Technology                                           </td><td>unix # curtin.edu.au                                                      </td><td>1                                                                         </td><td>au                                                                        </td><td>secure_mirror_from_master                                                 </td></tr>\n",
       "\t<tr><th scope=row>11</th><td>Austria [https]                                                           </td><td>Austria                                                                   </td><td>Wien                                                                      </td><td>https://cran.wu.ac.at/                                                    </td><td>Wirtschaftsuniversität Wien                                               </td><td>CRAN # R-project.org                                                      </td><td>1                                                                         </td><td>at                                                                        </td><td>secure_mirror_from_master                                                 </td></tr>\n",
       "\t<tr><th scope=row>12</th><td>Austria                                                                   </td><td>Austria                                                                   </td><td>Wien                                                                      </td><td>http://cran.wu.ac.at/                                                     </td><td>Wirtschaftsuniversität Wien                                               </td><td>CRAN # R-project.org                                                      </td><td>1                                                                         </td><td>at                                                                        </td><td>secure_mirror_from_master                                                 </td></tr>\n",
       "\t<tr><th scope=row>13</th><td>Belgium (Antwerp)                                                         </td><td>Belgium                                                                   </td><td>Antwerp                                                                   </td><td>http://www.freestatistics.org/cran/                                       </td><td>K.U.Leuven Association                                                    </td><td>patrick # wessa.net                                                       </td><td>1                                                                         </td><td>be                                                                        </td><td>                                                                          </td></tr>\n",
       "\t<tr><th scope=row>14</th><td><span style=white-space:pre-wrap>Belgium (Ghent) [https]        </span>                                           </td><td><span style=white-space:pre-wrap>Belgium  </span>                                                                 </td><td><span style=white-space:pre-wrap>Ghent         </span>                                                            </td><td><span style=white-space:pre-wrap>https://lib.ugent.be/CRAN/            </span>                                    </td><td><span style=white-space:pre-wrap>Ghent University Library                                                  </span></td><td><span style=white-space:pre-wrap>Patrick Hochstenbach &lt;Patrick.Hochstenbach # UGent.be&gt;            </span>  </td><td>1                                                                                                                 </td><td>be                                                                                                                </td><td>secure_mirror_from_master                                                                                         </td></tr>\n",
       "\t<tr><th scope=row>15</th><td><span style=white-space:pre-wrap>Belgium (Ghent)                </span>                                           </td><td><span style=white-space:pre-wrap>Belgium  </span>                                                                 </td><td><span style=white-space:pre-wrap>Ghent         </span>                                                            </td><td><span style=white-space:pre-wrap>http://lib.ugent.be/CRAN/             </span>                                    </td><td><span style=white-space:pre-wrap>Ghent University Library                                                  </span></td><td><span style=white-space:pre-wrap>Patrick Hochstenbach &lt;Patrick.Hochstenbach # UGent.be&gt;            </span>  </td><td>1                                                                                                                 </td><td>be                                                                                                                </td><td>secure_mirror_from_master                                                                                         </td></tr>\n",
       "\t<tr><th scope=row>16</th><td>Brazil (BA)                                                               </td><td>Brazil                                                                    </td><td>Ilheus                                                                    </td><td>http://nbcgib.uesc.br/mirrors/cran/                                       </td><td>Center for Comp. Biol. at Universidade Estadual de Santa Cruz             </td><td>eduardo # nbcgib.uesc.br                                                  </td><td>1                                                                         </td><td>br                                                                        </td><td>                                                                          </td></tr>\n",
       "\t<tr><th scope=row>17</th><td>Brazil (PR) [https]                                                       </td><td>Brazil                                                                    </td><td>Curitiba                                                                  </td><td>https://cran-r.c3sl.ufpr.br/                                              </td><td>Universidade Federal do Parana                                            </td><td>root # c3sl.ufpr.br                                                       </td><td>1                                                                         </td><td>br                                                                        </td><td>                                                                          </td></tr>\n",
       "\t<tr><th scope=row>18</th><td>Brazil (PR)                                                               </td><td>Brazil                                                                    </td><td>Curitiba                                                                  </td><td>http://cran-r.c3sl.ufpr.br/                                               </td><td>Universidade Federal do Parana                                            </td><td>root # c3sl.ufpr.br                                                       </td><td>1                                                                         </td><td>br                                                                        </td><td>                                                                          </td></tr>\n",
       "\t<tr><th scope=row>19</th><td>Brazil (RJ) [https]                                                       </td><td>Brazil                                                                    </td><td>Rio de Janeiro                                                            </td><td>https://cran.fiocruz.br/                                                  </td><td>Oswaldo Cruz Foundation, Rio de Janeiro                                   </td><td>oswaldo.cruz # fiocruz.br                                                 </td><td>1                                                                         </td><td>br                                                                        </td><td>secure_mirror_from_master                                                 </td></tr>\n",
       "\t<tr><th scope=row>20</th><td>Brazil (RJ)                                                               </td><td>Brazil                                                                    </td><td>Rio de Janeiro                                                            </td><td>http://cran.fiocruz.br/                                                   </td><td>Oswaldo Cruz Foundation, Rio de Janeiro                                   </td><td>oswaldo.cruz # fiocruz.br                                                 </td><td>1                                                                         </td><td>br                                                                        </td><td>secure_mirror_from_master                                                 </td></tr>\n",
       "\t<tr><th scope=row>21</th><td><span style=white-space:pre-wrap>Brazil (SP 1) [https]          </span>                                           </td><td><span style=white-space:pre-wrap>Brazil   </span>                                                                 </td><td><span style=white-space:pre-wrap>Sao Paulo     </span>                                                            </td><td><span style=white-space:pre-wrap>https://vps.fmvz.usp.br/CRAN/         </span>                                    </td><td><span style=white-space:pre-wrap>University of Sao Paulo, Sao Paulo                                        </span></td><td><span style=white-space:pre-wrap>Fernando Ferreira &lt;fernando # vps.fmvz.usp.br&gt;                    </span>  </td><td>1                                                                                                                 </td><td>br                                                                                                                </td><td>secure_mirror_from_master                                                                                         </td></tr>\n",
       "\t<tr><th scope=row>22</th><td><span style=white-space:pre-wrap>Brazil (SP 1)                  </span>                                           </td><td><span style=white-space:pre-wrap>Brazil   </span>                                                                 </td><td><span style=white-space:pre-wrap>Sao Paulo     </span>                                                            </td><td><span style=white-space:pre-wrap>http://vps.fmvz.usp.br/CRAN/          </span>                                    </td><td><span style=white-space:pre-wrap>University of Sao Paulo, Sao Paulo                                        </span></td><td><span style=white-space:pre-wrap>Fernando Ferreira &lt;fernando # vps.fmvz.usp.br&gt;                    </span>  </td><td>1                                                                                                                 </td><td>br                                                                                                                </td><td>secure_mirror_from_master                                                                                         </td></tr>\n",
       "\t<tr><th scope=row>23</th><td><span style=white-space:pre-wrap>Brazil (SP 2)                  </span>                                           </td><td><span style=white-space:pre-wrap>Brazil   </span>                                                                 </td><td><span style=white-space:pre-wrap>Piracicaba    </span>                                                            </td><td><span style=white-space:pre-wrap>http://brieger.esalq.usp.br/CRAN/     </span>                                    </td><td><span style=white-space:pre-wrap>University of Sao Paulo, Piracicaba                                       </span></td><td>A Augusto F Garcia &lt;aafgarci # gmail.com&gt;, augusto.garcia # usp.br                                          </td><td>1                                                                                                                 </td><td>br                                                                                                                </td><td><span style=white-space:pre-wrap>                          </span>                                                </td></tr>\n",
       "\t<tr><th scope=row>24</th><td><span style=white-space:pre-wrap>Bulgaria [https]               </span>                                           </td><td>Bulgaria                                                                                                          </td><td><span style=white-space:pre-wrap>Sofia         </span>                                                            </td><td><span style=white-space:pre-wrap>https://ftp.uni-sofia.bg/CRAN/        </span>                                    </td><td><span style=white-space:pre-wrap>Sofia University                                                          </span></td><td><span style=white-space:pre-wrap>Alexander Velin &lt;velin # fccf.net&gt;                                </span>  </td><td>1                                                                                                                 </td><td>bg                                                                                                                </td><td>secure_mirror_from_master                                                                                         </td></tr>\n",
       "\t<tr><th scope=row>25</th><td><span style=white-space:pre-wrap>Bulgaria                       </span>                                           </td><td>Bulgaria                                                                                                          </td><td><span style=white-space:pre-wrap>Sofia         </span>                                                            </td><td><span style=white-space:pre-wrap>http://ftp.uni-sofia.bg/CRAN/         </span>                                    </td><td><span style=white-space:pre-wrap>Sofia University                                                          </span></td><td><span style=white-space:pre-wrap>Alexander Velin &lt;velin # fccf.net&gt;                                </span>  </td><td>1                                                                                                                 </td><td>bg                                                                                                                </td><td>secure_mirror_from_master                                                                                         </td></tr>\n",
       "\t<tr><th scope=row>26</th><td>Canada (BC)                                                               </td><td>Canada                                                                    </td><td>Burnaby                                                                   </td><td>http://cran.stat.sfu.ca/                                                  </td><td>Simon Fraser University, Burnaby                                          </td><td>gripe # sfu.ca                                                            </td><td>1                                                                         </td><td>ca                                                                        </td><td>maintainer_address_bounces                                                </td></tr>\n",
       "\t<tr><th scope=row>27</th><td>Canada (MB) [https]                                                       </td><td>Canada                                                                    </td><td>Winnipeg                                                                  </td><td>https://muug.ca/mirror/cran/                                              </td><td>Manitoba Unix User Group                                                  </td><td>mirror # muug.ca                                                          </td><td>1                                                                         </td><td>ca                                                                        </td><td>                                                                          </td></tr>\n",
       "\t<tr><th scope=row>28</th><td>Canada (MB)                                                               </td><td>Canada                                                                    </td><td>Winnipeg                                                                  </td><td>http://muug.ca/mirror/cran/                                               </td><td>Manitoba Unix User Group                                                  </td><td>mirror # muug.ca                                                          </td><td>1                                                                         </td><td>ca                                                                        </td><td>                                                                          </td></tr>\n",
       "\t<tr><th scope=row>29</th><td>Canada (NS)                                                               </td><td>Canada                                                                    </td><td>Halifax                                                                   </td><td>http://mirror.its.dal.ca/cran/                                            </td><td>Dalhousie University, Halifax                                             </td><td>mirror # lists.dal.ca                                                     </td><td>1                                                                         </td><td>ca                                                                        </td><td>                                                                          </td></tr>\n",
       "\t<tr><th scope=row>30</th><td><span style=white-space:pre-wrap>Canada (ON)                    </span>                                           </td><td><span style=white-space:pre-wrap>Canada   </span>                                                                 </td><td><span style=white-space:pre-wrap>Toronto       </span>                                                            </td><td><span style=white-space:pre-wrap>http://cran.utstat.utoronto.ca/       </span>                                    </td><td><span style=white-space:pre-wrap>University of Toronto                                                     </span></td><td><span style=white-space:pre-wrap>Dermot Whelan &lt;wheland # utstat.utoronto.ca&gt;                      </span>  </td><td>1                                                                                                                 </td><td>ca                                                                                                                </td><td><span style=white-space:pre-wrap>                          </span>                                                </td></tr>\n",
       "\t<tr><th scope=row>...</th><td>...</td><td>...</td><td>...</td><td>...</td><td>...</td><td>...</td><td>...</td><td>...</td><td>...</td></tr>\n",
       "\t<tr><th scope=row>121</th><td><span style=white-space:pre-wrap>UK (Bristol)          </span>                                      </td><td><span style=white-space:pre-wrap>UK       </span>                                                   </td><td><span style=white-space:pre-wrap>Bristol    </span>                                                 </td><td><span style=white-space:pre-wrap>http://www.stats.bris.ac.uk/R/       </span>                       </td><td><span style=white-space:pre-wrap>University of Bristol                                       </span></td><td>Guy Nason &lt;G.P.Nason # bristol.ac.uk&gt;, it-zone-d # bristol.ac.uk                              </td><td>1                                                                                                   </td><td>uk                                                                                                  </td><td>secure_mirror_from_master                                                                           </td></tr>\n",
       "\t<tr><th scope=row>122</th><td>UK (Cambridge) [https]                                                                                        </td><td><span style=white-space:pre-wrap>UK       </span>                                                             </td><td><span style=white-space:pre-wrap>Cambridge  </span>                                                           </td><td><span style=white-space:pre-wrap>https://mirrors.ebi.ac.uk/CRAN/      </span>                                 </td><td><span style=white-space:pre-wrap>EMBL-EBI (European Bioinformatics Institute)                </span>          </td><td><span style=white-space:pre-wrap>Andrew Tikhonov &lt;andrew # ebi.ac.uk&gt;                            </span></td><td>1                                                                                                             </td><td>uk                                                                                                            </td><td>secure_mirror_from_master                                                                                     </td></tr>\n",
       "\t<tr><th scope=row>123</th><td><span style=white-space:pre-wrap>UK (Cambridge)        </span>                                                </td><td><span style=white-space:pre-wrap>UK       </span>                                                             </td><td><span style=white-space:pre-wrap>Cambridge  </span>                                                           </td><td><span style=white-space:pre-wrap>http://mirrors.ebi.ac.uk/CRAN/       </span>                                 </td><td><span style=white-space:pre-wrap>EMBL-EBI (European Bioinformatics Institute)                </span>          </td><td><span style=white-space:pre-wrap>Andrew Tikhonov &lt;andrew # ebi.ac.uk&gt;                            </span></td><td>1                                                                                                             </td><td>uk                                                                                                            </td><td>secure_mirror_from_master                                                                                     </td></tr>\n",
       "\t<tr><th scope=row>124</th><td>UK (London 1) [https]                                           </td><td>UK                                                              </td><td>London                                                          </td><td>https://cran.ma.imperial.ac.uk/                                 </td><td>Imperial College London                                         </td><td>andy.thomas # imperial.ac.uk                                    </td><td>1                                                               </td><td>uk                                                              </td><td>secure_mirror_from_master                                       </td></tr>\n",
       "\t<tr><th scope=row>125</th><td>UK (London 1)                                                   </td><td>UK                                                              </td><td>London                                                          </td><td>http://cran.ma.imperial.ac.uk/                                  </td><td>Imperial College London                                         </td><td>andy.thomas # imperial.ac.uk                                    </td><td>1                                                               </td><td>uk                                                              </td><td>secure_mirror_from_master                                       </td></tr>\n",
       "\t<tr><th scope=row>127</th><td>USA (CA 1) [https]                                              </td><td>USA                                                             </td><td>Berkeley                                                        </td><td>https://cran.cnr.berkeley.edu/                                  </td><td>University of California, Berkeley, CA                          </td><td>casterln # nature.berkeley.edu                                  </td><td>1                                                               </td><td>us                                                              </td><td>secure_mirror_from_master                                       </td></tr>\n",
       "\t<tr><th scope=row>128</th><td>USA (CA 1)                                                      </td><td>USA                                                             </td><td>Berkeley                                                        </td><td>http://cran.cnr.berkeley.edu/                                   </td><td>University of California, Berkeley, CA                          </td><td>casterln # nature.berkeley.edu                                  </td><td>1                                                               </td><td>us                                                              </td><td>secure_mirror_from_master                                       </td></tr>\n",
       "\t<tr><th scope=row>129</th><td><span style=white-space:pre-wrap>USA (CA 2)            </span>                                                </td><td><span style=white-space:pre-wrap>USA      </span>                                                             </td><td>Los Angeles                                                                                                   </td><td><span style=white-space:pre-wrap>http://cran.stat.ucla.edu/           </span>                                 </td><td><span style=white-space:pre-wrap>University of California, Los Angeles, CA                   </span>          </td><td><span style=white-space:pre-wrap>Jose Hales-Garcia &lt;jose # stat.ucla.edu&gt;                        </span></td><td>1                                                                                                             </td><td>us                                                                                                            </td><td><span style=white-space:pre-wrap>                          </span>                                            </td></tr>\n",
       "\t<tr><th scope=row>130</th><td>USA (IA) [https]                                                </td><td>USA                                                             </td><td>Ames                                                            </td><td>https://mirror.las.iastate.edu/CRAN/                            </td><td>Iowa State University, Ames, IA                                 </td><td>statit # iastate.edu                                            </td><td>1                                                               </td><td>us                                                              </td><td>secure_mirror_from_master                                       </td></tr>\n",
       "\t<tr><th scope=row>131</th><td>USA (IA)                                                        </td><td>USA                                                             </td><td>Ames                                                            </td><td>http://mirror.las.iastate.edu/CRAN/                             </td><td>Iowa State University, Ames, IA                                 </td><td>statit # iastate.edu                                            </td><td>1                                                               </td><td>us                                                              </td><td>secure_mirror_from_master                                       </td></tr>\n",
       "\t<tr><th scope=row>132</th><td>USA (IN) [https]                                                </td><td>USA                                                             </td><td>Bloomington                                                     </td><td>https://ftp.ussg.iu.edu/CRAN/                                   </td><td>Indiana University                                              </td><td>rtadmin # indiana.edu                                           </td><td>1                                                               </td><td>us                                                              </td><td>                                                                </td></tr>\n",
       "\t<tr><th scope=row>133</th><td>USA (IN)                                                        </td><td>USA                                                             </td><td>Bloomington                                                     </td><td>http://ftp.ussg.iu.edu/CRAN/                                    </td><td>Indiana University                                              </td><td>rtadmin # indiana.edu                                           </td><td>1                                                               </td><td>us                                                              </td><td>                                                                </td></tr>\n",
       "\t<tr><th scope=row>134</th><td><span style=white-space:pre-wrap>USA (KS) [https]      </span>                                                </td><td><span style=white-space:pre-wrap>USA      </span>                                                             </td><td><span style=white-space:pre-wrap>Lawrence   </span>                                                           </td><td><span style=white-space:pre-wrap>https://rweb.crmda.ku.edu/cran/      </span>                                 </td><td><span style=white-space:pre-wrap>University of Kansas, Lawrence, KS                          </span>          </td><td><span style=white-space:pre-wrap>Paul Johnson &lt;pauljohn # ku.edu&gt;                                </span></td><td>1                                                                                                             </td><td>us                                                                                                            </td><td>secure_mirror_from_master                                                                                     </td></tr>\n",
       "\t<tr><th scope=row>135</th><td><span style=white-space:pre-wrap>USA (KS)              </span>                                                </td><td><span style=white-space:pre-wrap>USA      </span>                                                             </td><td><span style=white-space:pre-wrap>Lawrence   </span>                                                           </td><td><span style=white-space:pre-wrap>http://rweb.crmda.ku.edu/cran/       </span>                                 </td><td><span style=white-space:pre-wrap>University of Kansas, Lawrence, KS                          </span>          </td><td><span style=white-space:pre-wrap>Paul Johnson &lt;pauljohn # ku.edu&gt;                                </span></td><td>1                                                                                                             </td><td>us                                                                                                            </td><td>secure_mirror_from_master                                                                                     </td></tr>\n",
       "\t<tr><th scope=row>136</th><td><span style=white-space:pre-wrap>USA (MI 1) [https]    </span>                                                </td><td><span style=white-space:pre-wrap>USA      </span>                                                             </td><td><span style=white-space:pre-wrap>Houghton   </span>                                                           </td><td><span style=white-space:pre-wrap>https://cran.mtu.edu/                </span>                                 </td><td><span style=white-space:pre-wrap>Michigan Technological University, Houghton, MI             </span>          </td><td><span style=white-space:pre-wrap>Robert Froese &lt;froese # mtu.edu&gt;                                </span></td><td>1                                                                                                             </td><td>us                                                                                                            </td><td>secure_mirror_from_master                                                                                     </td></tr>\n",
       "\t<tr><th scope=row>137</th><td><span style=white-space:pre-wrap>USA (MI 1)            </span>                                                </td><td><span style=white-space:pre-wrap>USA      </span>                                                             </td><td><span style=white-space:pre-wrap>Houghton   </span>                                                           </td><td><span style=white-space:pre-wrap>http://cran.mtu.edu/                 </span>                                 </td><td><span style=white-space:pre-wrap>Michigan Technological University, Houghton, MI             </span>          </td><td><span style=white-space:pre-wrap>Robert Froese &lt;froese # mtu.edu&gt;                                </span></td><td>1                                                                                                             </td><td>us                                                                                                            </td><td>secure_mirror_from_master                                                                                     </td></tr>\n",
       "\t<tr><th scope=row>138</th><td>USA (MO)                                                        </td><td>USA                                                             </td><td>St. Louis                                                       </td><td>http://cran.wustl.edu/                                          </td><td>Washington University, St. Louis, MO                            </td><td>admartin # wustl.edu                                            </td><td>1                                                               </td><td>us                                                              </td><td>maintainer_address_bounces                                      </td></tr>\n",
       "\t<tr><th scope=row>139</th><td>USA (NC)                                                        </td><td>USA                                                             </td><td>Durham                                                          </td><td>http://archive.linux.duke.edu/cran/                             </td><td>Duke University, Durham, NC                                     </td><td>csi-linux-admins # duke.edu                                     </td><td>1                                                               </td><td>us                                                              </td><td>                                                                </td></tr>\n",
       "\t<tr><th scope=row>140</th><td><span style=white-space:pre-wrap>USA (OH 1)            </span>                                                </td><td><span style=white-space:pre-wrap>USA      </span>                                                             </td><td><span style=white-space:pre-wrap>Cleveland  </span>                                                           </td><td><span style=white-space:pre-wrap>http://cran.case.edu/                </span>                                 </td><td><span style=white-space:pre-wrap>Case Western Reserve University, Cleveland, OH              </span>          </td><td><span style=white-space:pre-wrap>\"Alberto H. Santana\" &lt;ahs4 # case.edu&gt;                          </span></td><td>1                                                                                                             </td><td>us                                                                                                            </td><td><span style=white-space:pre-wrap>                          </span>                                            </td></tr>\n",
       "\t<tr><th scope=row>141</th><td><span style=white-space:pre-wrap>USA (OH 2)            </span>                                                </td><td><span style=white-space:pre-wrap>USA      </span>                                                             </td><td><span style=white-space:pre-wrap>Dayton     </span>                                                           </td><td><span style=white-space:pre-wrap>http://iis.stat.wright.edu/CRAN/     </span>                                 </td><td><span style=white-space:pre-wrap>Wright State University, Dayton, OH                         </span>          </td><td><span style=white-space:pre-wrap>Gengxin Li &lt;gengxin.li # wright.edu&gt;                            </span></td><td>1                                                                                                             </td><td>us                                                                                                            </td><td><span style=white-space:pre-wrap>                          </span>                                            </td></tr>\n",
       "\t<tr><th scope=row>142</th><td>USA (OR) [https]                                                </td><td>USA                                                             </td><td>Corvallis                                                       </td><td>https://ftp.osuosl.org/pub/cran/                                </td><td>Oregon State University                                         </td><td>support # Osuosl.org                                            </td><td>1                                                               </td><td>us                                                              </td><td>secure_mirror_from_master                                       </td></tr>\n",
       "\t<tr><th scope=row>143</th><td>USA (OR)                                                        </td><td>USA                                                             </td><td>Corvallis                                                       </td><td>http://ftp.osuosl.org/pub/cran/                                 </td><td>Oregon State University                                         </td><td>support # Osuosl.org                                            </td><td>1                                                               </td><td>us                                                              </td><td>secure_mirror_from_master                                       </td></tr>\n",
       "\t<tr><th scope=row>144</th><td><span style=white-space:pre-wrap>USA (PA 1)            </span>                                                </td><td><span style=white-space:pre-wrap>USA      </span>                                                             </td><td>Pittsburgh                                                                                                    </td><td><span style=white-space:pre-wrap>http://lib.stat.cmu.edu/R/CRAN/      </span>                                 </td><td><span style=white-space:pre-wrap>Statlib, Carnegie Mellon University, Pittsburgh, PA         </span>          </td><td><span style=white-space:pre-wrap>Carl Skipper &lt;remarks # stat.cmu.edu&gt;                           </span></td><td>1                                                                                                             </td><td>us                                                                                                            </td><td><span style=white-space:pre-wrap>                          </span>                                            </td></tr>\n",
       "\t<tr><th scope=row>145</th><td><span style=white-space:pre-wrap>USA (PA 2)            </span>                                                </td><td><span style=white-space:pre-wrap>USA      </span>                                                             </td><td>Pittsburgh                                                                                                    </td><td><span style=white-space:pre-wrap>http://cran.mirrors.hoobly.com/      </span>                                 </td><td><span style=white-space:pre-wrap>Hoobly Classifieds, Pittsburgh, PA                          </span>          </td><td><span style=white-space:pre-wrap>Peter Grigor &lt;pgrigor # hoobly.com&gt;                             </span></td><td>1                                                                                                             </td><td>us                                                                                                            </td><td><span style=white-space:pre-wrap>                          </span>                                            </td></tr>\n",
       "\t<tr><th scope=row>146</th><td>USA (TN) [https]                                                </td><td>USA                                                             </td><td>Oak Ridge                                                       </td><td>https://mirrors.nics.utk.edu/cran/                              </td><td>National Institute for Computational Sciences, Oak Ridge, TN    </td><td>help # nics.utk.edu                                             </td><td>1                                                               </td><td>us                                                              </td><td>secure_mirror_from_master                                       </td></tr>\n",
       "\t<tr><th scope=row>147</th><td>USA (TN)                                                        </td><td>USA                                                             </td><td>Oak Ridge                                                       </td><td>http://mirrors.nics.utk.edu/cran/                               </td><td>National Institute for Computational Sciences, Oak Ridge, TN    </td><td>help # nics.utk.edu                                             </td><td>1                                                               </td><td>us                                                              </td><td>secure_mirror_from_master                                       </td></tr>\n",
       "\t<tr><th scope=row>148</th><td><span style=white-space:pre-wrap>USA (TX 1) [https]    </span>                                                </td><td><span style=white-space:pre-wrap>USA      </span>                                                             </td><td><span style=white-space:pre-wrap>Dallas     </span>                                                           </td><td>https://cran.revolutionanalytics.com/                                                                         </td><td><span style=white-space:pre-wrap>Revolution Analytics, Dallas, TX                            </span>          </td><td><span style=white-space:pre-wrap>David Smith &lt;david # revolutionanalytics.com&gt;                   </span></td><td>1                                                                                                             </td><td>us                                                                                                            </td><td>secure_mirror_from_master                                                                                     </td></tr>\n",
       "\t<tr><th scope=row>149</th><td><span style=white-space:pre-wrap>USA (TX 1)            </span>                                                </td><td><span style=white-space:pre-wrap>USA      </span>                                                             </td><td><span style=white-space:pre-wrap>Dallas     </span>                                                           </td><td>http://cran.revolutionanalytics.com/                                                                          </td><td><span style=white-space:pre-wrap>Revolution Analytics, Dallas, TX                            </span>          </td><td><span style=white-space:pre-wrap>David Smith &lt;david # revolutionanalytics.com&gt;                   </span></td><td>1                                                                                                             </td><td>us                                                                                                            </td><td>secure_mirror_from_master                                                                                     </td></tr>\n",
       "\t<tr><th scope=row>150</th><td>Vietnam [https]                                                 </td><td>Vietnam                                                         </td><td>Ho Chi Minh                                                     </td><td>https://mirror.vinahost.vn/CRAN/                                </td><td>VinaHost                                                        </td><td>tienhn # vinahost.vn                                            </td><td>1                                                               </td><td>vn                                                              </td><td>secure_mirror_from_master                                       </td></tr>\n",
       "\t<tr><th scope=row>151</th><td>Venezuela                                                       </td><td>Venezuela                                                       </td><td>Valencia                                                        </td><td>http://camoruco.ing.uc.edu.ve/cran/                             </td><td>Universidad de Carabobo Venezuela                               </td><td>dir-imyca # uc.edu.ve                                           </td><td>1                                                               </td><td>ve                                                              </td><td>                                                                </td></tr>\n",
       "</tbody>\n",
       "</table>\n"
      ],
      "text/latex": [
       "\\begin{tabular}{r|lllllllll}\n",
       "  & Name & Country & City & URL & Host & Maintainer & OK & CountryCode & Comment\\\\\n",
       "\\hline\n",
       "\t1 & 0-Cloud {[}https{]}                                                        & 0-Cloud                                                                    & 0-Cloud                                                                    & https://cloud.r-project.org/                                               & Automatic redirection to servers worldwide, currently sponsored by Rstudio & winston \\# stdout.org                                                     & 1                                                                          & us                                                                         & secure\\_mirror\\_from\\_master                                           \\\\\n",
       "\t2 & 0-Cloud                                                                    & 0-Cloud                                                                    & 0-Cloud                                                                    & http://cloud.r-project.org/                                                & Automatic redirection to servers worldwide, currently sponsored by Rstudio & winston \\# stdout.org                                                     & 1                                                                          & us                                                                         & secure\\_mirror\\_from\\_master                                           \\\\\n",
       "\t3 & Algeria {[}https{]}                                                        & Algeria                                                                    & Algiers                                                                    & https://cran.usthb.dz/                                                     & University of Science and Technology Houari Boumediene                     & Boukala m c <mboukala \\# usthb.dz>                                        & 1                                                                          & dz                                                                         & secure\\_mirror\\_from\\_master                                           \\\\\n",
       "\t4 & Algeria                                                                    & Algeria                                                                    & Algiers                                                                    & http://cran.usthb.dz/                                                      & University of Science and Technology Houari Boumediene                     & Boukala m c <mboukala \\# usthb.dz>                                        & 1                                                                          & dz                                                                         & secure\\_mirror\\_from\\_master                                           \\\\\n",
       "\t5 & Argentina (La Plata)                                                       & Argentina                                                                  & La Plata                                                                   & http://mirror.fcaglp.unlp.edu.ar/CRAN/                                     & Universidad Nacional de La Plata                                           & esuarez \\# Fcaglp.unlp.edu.ar                                             & 1                                                                          & ar                                                                         &                                                                           \\\\\n",
       "\t6 & Australia (Canberra) {[}https{]}                                           & Australia                                                                  & Canberra                                                                   & https://cran.csiro.au/                                                     & CSIRO                                                                      & Bill.Venables \\# CSIRO.au, ServiceDesk2 \\# CSIRO.au                      & 1                                                                          & au                                                                         & secure\\_mirror\\_from\\_master                                           \\\\\n",
       "\t7 & Australia (Canberra)                                                       & Australia                                                                  & Canberra                                                                   & http://cran.csiro.au/                                                      & CSIRO                                                                      & Bill.Venables \\# CSIRO.au, ServiceDesk2 \\# CSIRO.au                      & 1                                                                          & au                                                                         & secure\\_mirror\\_from\\_master                                           \\\\\n",
       "\t8 & Australia (Melbourne 1) {[}https{]}                                        & Australia                                                                  & Melbourne                                                                  & https://mirror.aarnet.edu.au/pub/CRAN/                                     & AARNET                                                                     & <sysadmin \\# aarnet.edu.au>                                               & 1                                                                          & au                                                                         & secure\\_mirror\\_from\\_master                                           \\\\\n",
       "\t9 & Australia (Melbourne 2) {[}https{]}                                        & Australia                                                                  & Melbourne                                                                  & https://cran.ms.unimelb.edu.au/                                            & School of Mathematics and Statistics, University of Melbourne              & unix-ops \\# lists.unimelb.edu.au                                          & 1                                                                          & au                                                                         & secure\\_mirror\\_from\\_master                                           \\\\\n",
       "\t10 & Australia (Perth) {[}https{]}                                              & Australia                                                                  & Perth                                                                      & https://cran.curtin.edu.au/                                                & Curtin University of Technology                                            & unix \\# curtin.edu.au                                                     & 1                                                                          & au                                                                         & secure\\_mirror\\_from\\_master                                           \\\\\n",
       "\t11 & Austria {[}https{]}                                                        & Austria                                                                    & Wien                                                                       & https://cran.wu.ac.at/                                                     & Wirtschaftsuniversität Wien                                                & CRAN \\# R-project.org                                                     & 1                                                                          & at                                                                         & secure\\_mirror\\_from\\_master                                           \\\\\n",
       "\t12 & Austria                                                                    & Austria                                                                    & Wien                                                                       & http://cran.wu.ac.at/                                                      & Wirtschaftsuniversität Wien                                                & CRAN \\# R-project.org                                                     & 1                                                                          & at                                                                         & secure\\_mirror\\_from\\_master                                           \\\\\n",
       "\t13 & Belgium (Antwerp)                                                          & Belgium                                                                    & Antwerp                                                                    & http://www.freestatistics.org/cran/                                        & K.U.Leuven Association                                                     & patrick \\# wessa.net                                                      & 1                                                                          & be                                                                         &                                                                           \\\\\n",
       "\t14 & Belgium (Ghent) {[}https{]}                                                & Belgium                                                                    & Ghent                                                                      & https://lib.ugent.be/CRAN/                                                 & Ghent University Library                                                   & Patrick Hochstenbach <Patrick.Hochstenbach \\# UGent.be>                   & 1                                                                          & be                                                                         & secure\\_mirror\\_from\\_master                                           \\\\\n",
       "\t15 & Belgium (Ghent)                                                            & Belgium                                                                    & Ghent                                                                      & http://lib.ugent.be/CRAN/                                                  & Ghent University Library                                                   & Patrick Hochstenbach <Patrick.Hochstenbach \\# UGent.be>                   & 1                                                                          & be                                                                         & secure\\_mirror\\_from\\_master                                           \\\\\n",
       "\t16 & Brazil (BA)                                                                & Brazil                                                                     & Ilheus                                                                     & http://nbcgib.uesc.br/mirrors/cran/                                        & Center for Comp. Biol. at Universidade Estadual de Santa Cruz              & eduardo \\# nbcgib.uesc.br                                                 & 1                                                                          & br                                                                         &                                                                           \\\\\n",
       "\t17 & Brazil (PR) {[}https{]}                                                    & Brazil                                                                     & Curitiba                                                                   & https://cran-r.c3sl.ufpr.br/                                               & Universidade Federal do Parana                                             & root \\# c3sl.ufpr.br                                                      & 1                                                                          & br                                                                         &                                                                           \\\\\n",
       "\t18 & Brazil (PR)                                                                & Brazil                                                                     & Curitiba                                                                   & http://cran-r.c3sl.ufpr.br/                                                & Universidade Federal do Parana                                             & root \\# c3sl.ufpr.br                                                      & 1                                                                          & br                                                                         &                                                                           \\\\\n",
       "\t19 & Brazil (RJ) {[}https{]}                                                    & Brazil                                                                     & Rio de Janeiro                                                             & https://cran.fiocruz.br/                                                   & Oswaldo Cruz Foundation, Rio de Janeiro                                    & oswaldo.cruz \\# fiocruz.br                                                & 1                                                                          & br                                                                         & secure\\_mirror\\_from\\_master                                           \\\\\n",
       "\t20 & Brazil (RJ)                                                                & Brazil                                                                     & Rio de Janeiro                                                             & http://cran.fiocruz.br/                                                    & Oswaldo Cruz Foundation, Rio de Janeiro                                    & oswaldo.cruz \\# fiocruz.br                                                & 1                                                                          & br                                                                         & secure\\_mirror\\_from\\_master                                           \\\\\n",
       "\t21 & Brazil (SP 1) {[}https{]}                                                  & Brazil                                                                     & Sao Paulo                                                                  & https://vps.fmvz.usp.br/CRAN/                                              & University of Sao Paulo, Sao Paulo                                         & Fernando Ferreira <fernando \\# vps.fmvz.usp.br>                           & 1                                                                          & br                                                                         & secure\\_mirror\\_from\\_master                                           \\\\\n",
       "\t22 & Brazil (SP 1)                                                              & Brazil                                                                     & Sao Paulo                                                                  & http://vps.fmvz.usp.br/CRAN/                                               & University of Sao Paulo, Sao Paulo                                         & Fernando Ferreira <fernando \\# vps.fmvz.usp.br>                           & 1                                                                          & br                                                                         & secure\\_mirror\\_from\\_master                                           \\\\\n",
       "\t23 & Brazil (SP 2)                                                              & Brazil                                                                     & Piracicaba                                                                 & http://brieger.esalq.usp.br/CRAN/                                          & University of Sao Paulo, Piracicaba                                        & A Augusto F Garcia <aafgarci \\# gmail.com>, augusto.garcia \\# usp.br     & 1                                                                          & br                                                                         &                                                                           \\\\\n",
       "\t24 & Bulgaria {[}https{]}                                                       & Bulgaria                                                                   & Sofia                                                                      & https://ftp.uni-sofia.bg/CRAN/                                             & Sofia University                                                           & Alexander Velin <velin \\# fccf.net>                                       & 1                                                                          & bg                                                                         & secure\\_mirror\\_from\\_master                                           \\\\\n",
       "\t25 & Bulgaria                                                                   & Bulgaria                                                                   & Sofia                                                                      & http://ftp.uni-sofia.bg/CRAN/                                              & Sofia University                                                           & Alexander Velin <velin \\# fccf.net>                                       & 1                                                                          & bg                                                                         & secure\\_mirror\\_from\\_master                                           \\\\\n",
       "\t26 & Canada (BC)                                                                & Canada                                                                     & Burnaby                                                                    & http://cran.stat.sfu.ca/                                                   & Simon Fraser University, Burnaby                                           & gripe \\# sfu.ca                                                           & 1                                                                          & ca                                                                         & maintainer\\_address\\_bounces                                            \\\\\n",
       "\t27 & Canada (MB) {[}https{]}                                                    & Canada                                                                     & Winnipeg                                                                   & https://muug.ca/mirror/cran/                                               & Manitoba Unix User Group                                                   & mirror \\# muug.ca                                                         & 1                                                                          & ca                                                                         &                                                                           \\\\\n",
       "\t28 & Canada (MB)                                                                & Canada                                                                     & Winnipeg                                                                   & http://muug.ca/mirror/cran/                                                & Manitoba Unix User Group                                                   & mirror \\# muug.ca                                                         & 1                                                                          & ca                                                                         &                                                                           \\\\\n",
       "\t29 & Canada (NS)                                                                & Canada                                                                     & Halifax                                                                    & http://mirror.its.dal.ca/cran/                                             & Dalhousie University, Halifax                                              & mirror \\# lists.dal.ca                                                    & 1                                                                          & ca                                                                         &                                                                           \\\\\n",
       "\t30 & Canada (ON)                                                                & Canada                                                                     & Toronto                                                                    & http://cran.utstat.utoronto.ca/                                            & University of Toronto                                                      & Dermot Whelan <wheland \\# utstat.utoronto.ca>                             & 1                                                                          & ca                                                                         &                                                                           \\\\\n",
       "\t... & ... & ... & ... & ... & ... & ... & ... & ... & ...\\\\\n",
       "\t121 & UK (Bristol)                                                         & UK                                                                   & Bristol                                                              & http://www.stats.bris.ac.uk/R/                                       & University of Bristol                                                & Guy Nason <G.P.Nason \\# bristol.ac.uk>, it-zone-d \\# bristol.ac.uk & 1                                                                    & uk                                                                   & secure\\_mirror\\_from\\_master                                     \\\\\n",
       "\t122 & UK (Cambridge) {[}https{]}                                         & UK                                                                 & Cambridge                                                          & https://mirrors.ebi.ac.uk/CRAN/                                    & EMBL-EBI (European Bioinformatics Institute)                       & Andrew Tikhonov <andrew \\# ebi.ac.uk>                             & 1                                                                  & uk                                                                 & secure\\_mirror\\_from\\_master                                   \\\\\n",
       "\t123 & UK (Cambridge)                                                     & UK                                                                 & Cambridge                                                          & http://mirrors.ebi.ac.uk/CRAN/                                     & EMBL-EBI (European Bioinformatics Institute)                       & Andrew Tikhonov <andrew \\# ebi.ac.uk>                             & 1                                                                  & uk                                                                 & secure\\_mirror\\_from\\_master                                   \\\\\n",
       "\t124 & UK (London 1) {[}https{]}                                          & UK                                                                 & London                                                             & https://cran.ma.imperial.ac.uk/                                    & Imperial College London                                            & andy.thomas \\# imperial.ac.uk                                     & 1                                                                  & uk                                                                 & secure\\_mirror\\_from\\_master                                   \\\\\n",
       "\t125 & UK (London 1)                                                      & UK                                                                 & London                                                             & http://cran.ma.imperial.ac.uk/                                     & Imperial College London                                            & andy.thomas \\# imperial.ac.uk                                     & 1                                                                  & uk                                                                 & secure\\_mirror\\_from\\_master                                   \\\\\n",
       "\t127 & USA (CA 1) {[}https{]}                                             & USA                                                                & Berkeley                                                           & https://cran.cnr.berkeley.edu/                                     & University of California, Berkeley, CA                             & casterln \\# nature.berkeley.edu                                   & 1                                                                  & us                                                                 & secure\\_mirror\\_from\\_master                                   \\\\\n",
       "\t128 & USA (CA 1)                                                         & USA                                                                & Berkeley                                                           & http://cran.cnr.berkeley.edu/                                      & University of California, Berkeley, CA                             & casterln \\# nature.berkeley.edu                                   & 1                                                                  & us                                                                 & secure\\_mirror\\_from\\_master                                   \\\\\n",
       "\t129 & USA (CA 2)                                                         & USA                                                                & Los Angeles                                                        & http://cran.stat.ucla.edu/                                         & University of California, Los Angeles, CA                          & Jose Hales-Garcia <jose \\# stat.ucla.edu>                         & 1                                                                  & us                                                                 &                                                                   \\\\\n",
       "\t130 & USA (IA) {[}https{]}                                               & USA                                                                & Ames                                                               & https://mirror.las.iastate.edu/CRAN/                               & Iowa State University, Ames, IA                                    & statit \\# iastate.edu                                             & 1                                                                  & us                                                                 & secure\\_mirror\\_from\\_master                                   \\\\\n",
       "\t131 & USA (IA)                                                           & USA                                                                & Ames                                                               & http://mirror.las.iastate.edu/CRAN/                                & Iowa State University, Ames, IA                                    & statit \\# iastate.edu                                             & 1                                                                  & us                                                                 & secure\\_mirror\\_from\\_master                                   \\\\\n",
       "\t132 & USA (IN) {[}https{]}                                               & USA                                                                & Bloomington                                                        & https://ftp.ussg.iu.edu/CRAN/                                      & Indiana University                                                 & rtadmin \\# indiana.edu                                            & 1                                                                  & us                                                                 &                                                                   \\\\\n",
       "\t133 & USA (IN)                                                           & USA                                                                & Bloomington                                                        & http://ftp.ussg.iu.edu/CRAN/                                       & Indiana University                                                 & rtadmin \\# indiana.edu                                            & 1                                                                  & us                                                                 &                                                                   \\\\\n",
       "\t134 & USA (KS) {[}https{]}                                               & USA                                                                & Lawrence                                                           & https://rweb.crmda.ku.edu/cran/                                    & University of Kansas, Lawrence, KS                                 & Paul Johnson <pauljohn \\# ku.edu>                                 & 1                                                                  & us                                                                 & secure\\_mirror\\_from\\_master                                   \\\\\n",
       "\t135 & USA (KS)                                                           & USA                                                                & Lawrence                                                           & http://rweb.crmda.ku.edu/cran/                                     & University of Kansas, Lawrence, KS                                 & Paul Johnson <pauljohn \\# ku.edu>                                 & 1                                                                  & us                                                                 & secure\\_mirror\\_from\\_master                                   \\\\\n",
       "\t136 & USA (MI 1) {[}https{]}                                             & USA                                                                & Houghton                                                           & https://cran.mtu.edu/                                              & Michigan Technological University, Houghton, MI                    & Robert Froese <froese \\# mtu.edu>                                 & 1                                                                  & us                                                                 & secure\\_mirror\\_from\\_master                                   \\\\\n",
       "\t137 & USA (MI 1)                                                         & USA                                                                & Houghton                                                           & http://cran.mtu.edu/                                               & Michigan Technological University, Houghton, MI                    & Robert Froese <froese \\# mtu.edu>                                 & 1                                                                  & us                                                                 & secure\\_mirror\\_from\\_master                                   \\\\\n",
       "\t138 & USA (MO)                                                           & USA                                                                & St. Louis                                                          & http://cran.wustl.edu/                                             & Washington University, St. Louis, MO                               & admartin \\# wustl.edu                                             & 1                                                                  & us                                                                 & maintainer\\_address\\_bounces                                    \\\\\n",
       "\t139 & USA (NC)                                                           & USA                                                                & Durham                                                             & http://archive.linux.duke.edu/cran/                                & Duke University, Durham, NC                                        & csi-linux-admins \\# duke.edu                                      & 1                                                                  & us                                                                 &                                                                   \\\\\n",
       "\t140 & USA (OH 1)                                                         & USA                                                                & Cleveland                                                          & http://cran.case.edu/                                              & Case Western Reserve University, Cleveland, OH                     & \"Alberto H. Santana\" <ahs4 \\# case.edu>                           & 1                                                                  & us                                                                 &                                                                   \\\\\n",
       "\t141 & USA (OH 2)                                                         & USA                                                                & Dayton                                                             & http://iis.stat.wright.edu/CRAN/                                   & Wright State University, Dayton, OH                                & Gengxin Li <gengxin.li \\# wright.edu>                             & 1                                                                  & us                                                                 &                                                                   \\\\\n",
       "\t142 & USA (OR) {[}https{]}                                               & USA                                                                & Corvallis                                                          & https://ftp.osuosl.org/pub/cran/                                   & Oregon State University                                            & support \\# Osuosl.org                                             & 1                                                                  & us                                                                 & secure\\_mirror\\_from\\_master                                   \\\\\n",
       "\t143 & USA (OR)                                                           & USA                                                                & Corvallis                                                          & http://ftp.osuosl.org/pub/cran/                                    & Oregon State University                                            & support \\# Osuosl.org                                             & 1                                                                  & us                                                                 & secure\\_mirror\\_from\\_master                                   \\\\\n",
       "\t144 & USA (PA 1)                                                         & USA                                                                & Pittsburgh                                                         & http://lib.stat.cmu.edu/R/CRAN/                                    & Statlib, Carnegie Mellon University, Pittsburgh, PA                & Carl Skipper <remarks \\# stat.cmu.edu>                            & 1                                                                  & us                                                                 &                                                                   \\\\\n",
       "\t145 & USA (PA 2)                                                         & USA                                                                & Pittsburgh                                                         & http://cran.mirrors.hoobly.com/                                    & Hoobly Classifieds, Pittsburgh, PA                                 & Peter Grigor <pgrigor \\# hoobly.com>                              & 1                                                                  & us                                                                 &                                                                   \\\\\n",
       "\t146 & USA (TN) {[}https{]}                                               & USA                                                                & Oak Ridge                                                          & https://mirrors.nics.utk.edu/cran/                                 & National Institute for Computational Sciences, Oak Ridge, TN       & help \\# nics.utk.edu                                              & 1                                                                  & us                                                                 & secure\\_mirror\\_from\\_master                                   \\\\\n",
       "\t147 & USA (TN)                                                           & USA                                                                & Oak Ridge                                                          & http://mirrors.nics.utk.edu/cran/                                  & National Institute for Computational Sciences, Oak Ridge, TN       & help \\# nics.utk.edu                                              & 1                                                                  & us                                                                 & secure\\_mirror\\_from\\_master                                   \\\\\n",
       "\t148 & USA (TX 1) {[}https{]}                                             & USA                                                                & Dallas                                                             & https://cran.revolutionanalytics.com/                              & Revolution Analytics, Dallas, TX                                   & David Smith <david \\# revolutionanalytics.com>                    & 1                                                                  & us                                                                 & secure\\_mirror\\_from\\_master                                   \\\\\n",
       "\t149 & USA (TX 1)                                                         & USA                                                                & Dallas                                                             & http://cran.revolutionanalytics.com/                               & Revolution Analytics, Dallas, TX                                   & David Smith <david \\# revolutionanalytics.com>                    & 1                                                                  & us                                                                 & secure\\_mirror\\_from\\_master                                   \\\\\n",
       "\t150 & Vietnam {[}https{]}                                                & Vietnam                                                            & Ho Chi Minh                                                        & https://mirror.vinahost.vn/CRAN/                                   & VinaHost                                                           & tienhn \\# vinahost.vn                                             & 1                                                                  & vn                                                                 & secure\\_mirror\\_from\\_master                                   \\\\\n",
       "\t151 & Venezuela                                                          & Venezuela                                                          & Valencia                                                           & http://camoruco.ing.uc.edu.ve/cran/                                & Universidad de Carabobo Venezuela                                  & dir-imyca \\# uc.edu.ve                                            & 1                                                                  & ve                                                                 &                                                                   \\\\\n",
       "\\end{tabular}\n"
      ],
      "text/markdown": [
       "\n",
       "| <!--/--> | Name | Country | City | URL | Host | Maintainer | OK | CountryCode | Comment | \n",
       "|---|---|---|---|---|---|---|---|---|---|---|---|---|---|---|---|---|---|---|---|---|---|---|---|---|---|---|---|---|---|---|---|---|---|---|---|---|---|---|---|---|---|---|---|---|---|---|---|---|---|---|---|---|---|---|---|---|---|---|---|---|\n",
       "| 1 | 0-Cloud [https]                                                            | 0-Cloud                                                                    | 0-Cloud                                                                    | https://cloud.r-project.org/                                               | Automatic redirection to servers worldwide, currently sponsored by Rstudio | winston # stdout.org                                                       | 1                                                                          | us                                                                         | secure_mirror_from_master                                                  | \n",
       "| 2 | 0-Cloud                                                                    | 0-Cloud                                                                    | 0-Cloud                                                                    | http://cloud.r-project.org/                                                | Automatic redirection to servers worldwide, currently sponsored by Rstudio | winston # stdout.org                                                       | 1                                                                          | us                                                                         | secure_mirror_from_master                                                  | \n",
       "| 3 | Algeria [https]                                                            | Algeria                                                                    | Algiers                                                                    | https://cran.usthb.dz/                                                     | University of Science and Technology Houari Boumediene                     | Boukala m c <mboukala # usthb.dz>                                          | 1                                                                          | dz                                                                         | secure_mirror_from_master                                                  | \n",
       "| 4 | Algeria                                                                    | Algeria                                                                    | Algiers                                                                    | http://cran.usthb.dz/                                                      | University of Science and Technology Houari Boumediene                     | Boukala m c <mboukala # usthb.dz>                                          | 1                                                                          | dz                                                                         | secure_mirror_from_master                                                  | \n",
       "| 5 | Argentina (La Plata)                                                       | Argentina                                                                  | La Plata                                                                   | http://mirror.fcaglp.unlp.edu.ar/CRAN/                                     | Universidad Nacional de La Plata                                           | esuarez # Fcaglp.unlp.edu.ar                                               | 1                                                                          | ar                                                                         |                                                                            | \n",
       "| 6 | Australia (Canberra) [https]                                               | Australia                                                                  | Canberra                                                                   | https://cran.csiro.au/                                                     | CSIRO                                                                      | Bill.Venables # CSIRO.au, ServiceDesk2 # CSIRO.au                          | 1                                                                          | au                                                                         | secure_mirror_from_master                                                  | \n",
       "| 7 | Australia (Canberra)                                                       | Australia                                                                  | Canberra                                                                   | http://cran.csiro.au/                                                      | CSIRO                                                                      | Bill.Venables # CSIRO.au, ServiceDesk2 # CSIRO.au                          | 1                                                                          | au                                                                         | secure_mirror_from_master                                                  | \n",
       "| 8 | Australia (Melbourne 1) [https]                                            | Australia                                                                  | Melbourne                                                                  | https://mirror.aarnet.edu.au/pub/CRAN/                                     | AARNET                                                                     | <sysadmin # aarnet.edu.au>                                                 | 1                                                                          | au                                                                         | secure_mirror_from_master                                                  | \n",
       "| 9 | Australia (Melbourne 2) [https]                                            | Australia                                                                  | Melbourne                                                                  | https://cran.ms.unimelb.edu.au/                                            | School of Mathematics and Statistics, University of Melbourne              | unix-ops # lists.unimelb.edu.au                                            | 1                                                                          | au                                                                         | secure_mirror_from_master                                                  | \n",
       "| 10 | Australia (Perth) [https]                                                  | Australia                                                                  | Perth                                                                      | https://cran.curtin.edu.au/                                                | Curtin University of Technology                                            | unix # curtin.edu.au                                                       | 1                                                                          | au                                                                         | secure_mirror_from_master                                                  | \n",
       "| 11 | Austria [https]                                                            | Austria                                                                    | Wien                                                                       | https://cran.wu.ac.at/                                                     | Wirtschaftsuniversität Wien                                                | CRAN # R-project.org                                                       | 1                                                                          | at                                                                         | secure_mirror_from_master                                                  | \n",
       "| 12 | Austria                                                                    | Austria                                                                    | Wien                                                                       | http://cran.wu.ac.at/                                                      | Wirtschaftsuniversität Wien                                                | CRAN # R-project.org                                                       | 1                                                                          | at                                                                         | secure_mirror_from_master                                                  | \n",
       "| 13 | Belgium (Antwerp)                                                          | Belgium                                                                    | Antwerp                                                                    | http://www.freestatistics.org/cran/                                        | K.U.Leuven Association                                                     | patrick # wessa.net                                                        | 1                                                                          | be                                                                         |                                                                            | \n",
       "| 14 | Belgium (Ghent) [https]                                                    | Belgium                                                                    | Ghent                                                                      | https://lib.ugent.be/CRAN/                                                 | Ghent University Library                                                   | Patrick Hochstenbach <Patrick.Hochstenbach # UGent.be>                     | 1                                                                          | be                                                                         | secure_mirror_from_master                                                  | \n",
       "| 15 | Belgium (Ghent)                                                            | Belgium                                                                    | Ghent                                                                      | http://lib.ugent.be/CRAN/                                                  | Ghent University Library                                                   | Patrick Hochstenbach <Patrick.Hochstenbach # UGent.be>                     | 1                                                                          | be                                                                         | secure_mirror_from_master                                                  | \n",
       "| 16 | Brazil (BA)                                                                | Brazil                                                                     | Ilheus                                                                     | http://nbcgib.uesc.br/mirrors/cran/                                        | Center for Comp. Biol. at Universidade Estadual de Santa Cruz              | eduardo # nbcgib.uesc.br                                                   | 1                                                                          | br                                                                         |                                                                            | \n",
       "| 17 | Brazil (PR) [https]                                                        | Brazil                                                                     | Curitiba                                                                   | https://cran-r.c3sl.ufpr.br/                                               | Universidade Federal do Parana                                             | root # c3sl.ufpr.br                                                        | 1                                                                          | br                                                                         |                                                                            | \n",
       "| 18 | Brazil (PR)                                                                | Brazil                                                                     | Curitiba                                                                   | http://cran-r.c3sl.ufpr.br/                                                | Universidade Federal do Parana                                             | root # c3sl.ufpr.br                                                        | 1                                                                          | br                                                                         |                                                                            | \n",
       "| 19 | Brazil (RJ) [https]                                                        | Brazil                                                                     | Rio de Janeiro                                                             | https://cran.fiocruz.br/                                                   | Oswaldo Cruz Foundation, Rio de Janeiro                                    | oswaldo.cruz # fiocruz.br                                                  | 1                                                                          | br                                                                         | secure_mirror_from_master                                                  | \n",
       "| 20 | Brazil (RJ)                                                                | Brazil                                                                     | Rio de Janeiro                                                             | http://cran.fiocruz.br/                                                    | Oswaldo Cruz Foundation, Rio de Janeiro                                    | oswaldo.cruz # fiocruz.br                                                  | 1                                                                          | br                                                                         | secure_mirror_from_master                                                  | \n",
       "| 21 | Brazil (SP 1) [https]                                                      | Brazil                                                                     | Sao Paulo                                                                  | https://vps.fmvz.usp.br/CRAN/                                              | University of Sao Paulo, Sao Paulo                                         | Fernando Ferreira <fernando # vps.fmvz.usp.br>                             | 1                                                                          | br                                                                         | secure_mirror_from_master                                                  | \n",
       "| 22 | Brazil (SP 1)                                                              | Brazil                                                                     | Sao Paulo                                                                  | http://vps.fmvz.usp.br/CRAN/                                               | University of Sao Paulo, Sao Paulo                                         | Fernando Ferreira <fernando # vps.fmvz.usp.br>                             | 1                                                                          | br                                                                         | secure_mirror_from_master                                                  | \n",
       "| 23 | Brazil (SP 2)                                                              | Brazil                                                                     | Piracicaba                                                                 | http://brieger.esalq.usp.br/CRAN/                                          | University of Sao Paulo, Piracicaba                                        | A Augusto F Garcia <aafgarci # gmail.com>, augusto.garcia # usp.br         | 1                                                                          | br                                                                         |                                                                            | \n",
       "| 24 | Bulgaria [https]                                                           | Bulgaria                                                                   | Sofia                                                                      | https://ftp.uni-sofia.bg/CRAN/                                             | Sofia University                                                           | Alexander Velin <velin # fccf.net>                                         | 1                                                                          | bg                                                                         | secure_mirror_from_master                                                  | \n",
       "| 25 | Bulgaria                                                                   | Bulgaria                                                                   | Sofia                                                                      | http://ftp.uni-sofia.bg/CRAN/                                              | Sofia University                                                           | Alexander Velin <velin # fccf.net>                                         | 1                                                                          | bg                                                                         | secure_mirror_from_master                                                  | \n",
       "| 26 | Canada (BC)                                                                | Canada                                                                     | Burnaby                                                                    | http://cran.stat.sfu.ca/                                                   | Simon Fraser University, Burnaby                                           | gripe # sfu.ca                                                             | 1                                                                          | ca                                                                         | maintainer_address_bounces                                                 | \n",
       "| 27 | Canada (MB) [https]                                                        | Canada                                                                     | Winnipeg                                                                   | https://muug.ca/mirror/cran/                                               | Manitoba Unix User Group                                                   | mirror # muug.ca                                                           | 1                                                                          | ca                                                                         |                                                                            | \n",
       "| 28 | Canada (MB)                                                                | Canada                                                                     | Winnipeg                                                                   | http://muug.ca/mirror/cran/                                                | Manitoba Unix User Group                                                   | mirror # muug.ca                                                           | 1                                                                          | ca                                                                         |                                                                            | \n",
       "| 29 | Canada (NS)                                                                | Canada                                                                     | Halifax                                                                    | http://mirror.its.dal.ca/cran/                                             | Dalhousie University, Halifax                                              | mirror # lists.dal.ca                                                      | 1                                                                          | ca                                                                         |                                                                            | \n",
       "| 30 | Canada (ON)                                                                | Canada                                                                     | Toronto                                                                    | http://cran.utstat.utoronto.ca/                                            | University of Toronto                                                      | Dermot Whelan <wheland # utstat.utoronto.ca>                               | 1                                                                          | ca                                                                         |                                                                            | \n",
       "| ... | ... | ... | ... | ... | ... | ... | ... | ... | ... | \n",
       "| 121 | UK (Bristol)                                                     | UK                                                               | Bristol                                                          | http://www.stats.bris.ac.uk/R/                                   | University of Bristol                                            | Guy Nason <G.P.Nason # bristol.ac.uk>, it-zone-d # bristol.ac.uk | 1                                                                | uk                                                               | secure_mirror_from_master                                        | \n",
       "| 122 | UK (Cambridge) [https]                                           | UK                                                               | Cambridge                                                        | https://mirrors.ebi.ac.uk/CRAN/                                  | EMBL-EBI (European Bioinformatics Institute)                     | Andrew Tikhonov <andrew # ebi.ac.uk>                             | 1                                                                | uk                                                               | secure_mirror_from_master                                        | \n",
       "| 123 | UK (Cambridge)                                                   | UK                                                               | Cambridge                                                        | http://mirrors.ebi.ac.uk/CRAN/                                   | EMBL-EBI (European Bioinformatics Institute)                     | Andrew Tikhonov <andrew # ebi.ac.uk>                             | 1                                                                | uk                                                               | secure_mirror_from_master                                        | \n",
       "| 124 | UK (London 1) [https]                                            | UK                                                               | London                                                           | https://cran.ma.imperial.ac.uk/                                  | Imperial College London                                          | andy.thomas # imperial.ac.uk                                     | 1                                                                | uk                                                               | secure_mirror_from_master                                        | \n",
       "| 125 | UK (London 1)                                                    | UK                                                               | London                                                           | http://cran.ma.imperial.ac.uk/                                   | Imperial College London                                          | andy.thomas # imperial.ac.uk                                     | 1                                                                | uk                                                               | secure_mirror_from_master                                        | \n",
       "| 127 | USA (CA 1) [https]                                               | USA                                                              | Berkeley                                                         | https://cran.cnr.berkeley.edu/                                   | University of California, Berkeley, CA                           | casterln # nature.berkeley.edu                                   | 1                                                                | us                                                               | secure_mirror_from_master                                        | \n",
       "| 128 | USA (CA 1)                                                       | USA                                                              | Berkeley                                                         | http://cran.cnr.berkeley.edu/                                    | University of California, Berkeley, CA                           | casterln # nature.berkeley.edu                                   | 1                                                                | us                                                               | secure_mirror_from_master                                        | \n",
       "| 129 | USA (CA 2)                                                       | USA                                                              | Los Angeles                                                      | http://cran.stat.ucla.edu/                                       | University of California, Los Angeles, CA                        | Jose Hales-Garcia <jose # stat.ucla.edu>                         | 1                                                                | us                                                               |                                                                  | \n",
       "| 130 | USA (IA) [https]                                                 | USA                                                              | Ames                                                             | https://mirror.las.iastate.edu/CRAN/                             | Iowa State University, Ames, IA                                  | statit # iastate.edu                                             | 1                                                                | us                                                               | secure_mirror_from_master                                        | \n",
       "| 131 | USA (IA)                                                         | USA                                                              | Ames                                                             | http://mirror.las.iastate.edu/CRAN/                              | Iowa State University, Ames, IA                                  | statit # iastate.edu                                             | 1                                                                | us                                                               | secure_mirror_from_master                                        | \n",
       "| 132 | USA (IN) [https]                                                 | USA                                                              | Bloomington                                                      | https://ftp.ussg.iu.edu/CRAN/                                    | Indiana University                                               | rtadmin # indiana.edu                                            | 1                                                                | us                                                               |                                                                  | \n",
       "| 133 | USA (IN)                                                         | USA                                                              | Bloomington                                                      | http://ftp.ussg.iu.edu/CRAN/                                     | Indiana University                                               | rtadmin # indiana.edu                                            | 1                                                                | us                                                               |                                                                  | \n",
       "| 134 | USA (KS) [https]                                                 | USA                                                              | Lawrence                                                         | https://rweb.crmda.ku.edu/cran/                                  | University of Kansas, Lawrence, KS                               | Paul Johnson <pauljohn # ku.edu>                                 | 1                                                                | us                                                               | secure_mirror_from_master                                        | \n",
       "| 135 | USA (KS)                                                         | USA                                                              | Lawrence                                                         | http://rweb.crmda.ku.edu/cran/                                   | University of Kansas, Lawrence, KS                               | Paul Johnson <pauljohn # ku.edu>                                 | 1                                                                | us                                                               | secure_mirror_from_master                                        | \n",
       "| 136 | USA (MI 1) [https]                                               | USA                                                              | Houghton                                                         | https://cran.mtu.edu/                                            | Michigan Technological University, Houghton, MI                  | Robert Froese <froese # mtu.edu>                                 | 1                                                                | us                                                               | secure_mirror_from_master                                        | \n",
       "| 137 | USA (MI 1)                                                       | USA                                                              | Houghton                                                         | http://cran.mtu.edu/                                             | Michigan Technological University, Houghton, MI                  | Robert Froese <froese # mtu.edu>                                 | 1                                                                | us                                                               | secure_mirror_from_master                                        | \n",
       "| 138 | USA (MO)                                                         | USA                                                              | St. Louis                                                        | http://cran.wustl.edu/                                           | Washington University, St. Louis, MO                             | admartin # wustl.edu                                             | 1                                                                | us                                                               | maintainer_address_bounces                                       | \n",
       "| 139 | USA (NC)                                                         | USA                                                              | Durham                                                           | http://archive.linux.duke.edu/cran/                              | Duke University, Durham, NC                                      | csi-linux-admins # duke.edu                                      | 1                                                                | us                                                               |                                                                  | \n",
       "| 140 | USA (OH 1)                                                       | USA                                                              | Cleveland                                                        | http://cran.case.edu/                                            | Case Western Reserve University, Cleveland, OH                   | \"Alberto H. Santana\" <ahs4 # case.edu>                           | 1                                                                | us                                                               |                                                                  | \n",
       "| 141 | USA (OH 2)                                                       | USA                                                              | Dayton                                                           | http://iis.stat.wright.edu/CRAN/                                 | Wright State University, Dayton, OH                              | Gengxin Li <gengxin.li # wright.edu>                             | 1                                                                | us                                                               |                                                                  | \n",
       "| 142 | USA (OR) [https]                                                 | USA                                                              | Corvallis                                                        | https://ftp.osuosl.org/pub/cran/                                 | Oregon State University                                          | support # Osuosl.org                                             | 1                                                                | us                                                               | secure_mirror_from_master                                        | \n",
       "| 143 | USA (OR)                                                         | USA                                                              | Corvallis                                                        | http://ftp.osuosl.org/pub/cran/                                  | Oregon State University                                          | support # Osuosl.org                                             | 1                                                                | us                                                               | secure_mirror_from_master                                        | \n",
       "| 144 | USA (PA 1)                                                       | USA                                                              | Pittsburgh                                                       | http://lib.stat.cmu.edu/R/CRAN/                                  | Statlib, Carnegie Mellon University, Pittsburgh, PA              | Carl Skipper <remarks # stat.cmu.edu>                            | 1                                                                | us                                                               |                                                                  | \n",
       "| 145 | USA (PA 2)                                                       | USA                                                              | Pittsburgh                                                       | http://cran.mirrors.hoobly.com/                                  | Hoobly Classifieds, Pittsburgh, PA                               | Peter Grigor <pgrigor # hoobly.com>                              | 1                                                                | us                                                               |                                                                  | \n",
       "| 146 | USA (TN) [https]                                                 | USA                                                              | Oak Ridge                                                        | https://mirrors.nics.utk.edu/cran/                               | National Institute for Computational Sciences, Oak Ridge, TN     | help # nics.utk.edu                                              | 1                                                                | us                                                               | secure_mirror_from_master                                        | \n",
       "| 147 | USA (TN)                                                         | USA                                                              | Oak Ridge                                                        | http://mirrors.nics.utk.edu/cran/                                | National Institute for Computational Sciences, Oak Ridge, TN     | help # nics.utk.edu                                              | 1                                                                | us                                                               | secure_mirror_from_master                                        | \n",
       "| 148 | USA (TX 1) [https]                                               | USA                                                              | Dallas                                                           | https://cran.revolutionanalytics.com/                            | Revolution Analytics, Dallas, TX                                 | David Smith <david # revolutionanalytics.com>                    | 1                                                                | us                                                               | secure_mirror_from_master                                        | \n",
       "| 149 | USA (TX 1)                                                       | USA                                                              | Dallas                                                           | http://cran.revolutionanalytics.com/                             | Revolution Analytics, Dallas, TX                                 | David Smith <david # revolutionanalytics.com>                    | 1                                                                | us                                                               | secure_mirror_from_master                                        | \n",
       "| 150 | Vietnam [https]                                                  | Vietnam                                                          | Ho Chi Minh                                                      | https://mirror.vinahost.vn/CRAN/                                 | VinaHost                                                         | tienhn # vinahost.vn                                             | 1                                                                | vn                                                               | secure_mirror_from_master                                        | \n",
       "| 151 | Venezuela                                                        | Venezuela                                                        | Valencia                                                         | http://camoruco.ing.uc.edu.ve/cran/                              | Universidad de Carabobo Venezuela                                | dir-imyca # uc.edu.ve                                            | 1                                                                | ve                                                               |                                                                  | \n",
       "\n",
       "\n"
      ],
      "text/plain": [
       "    Name                            Country   City          \n",
       "1   0-Cloud [https]                 0-Cloud   0-Cloud       \n",
       "2   0-Cloud                         0-Cloud   0-Cloud       \n",
       "3   Algeria [https]                 Algeria   Algiers       \n",
       "4   Algeria                         Algeria   Algiers       \n",
       "5   Argentina (La Plata)            Argentina La Plata      \n",
       "6   Australia (Canberra) [https]    Australia Canberra      \n",
       "7   Australia (Canberra)            Australia Canberra      \n",
       "8   Australia (Melbourne 1) [https] Australia Melbourne     \n",
       "9   Australia (Melbourne 2) [https] Australia Melbourne     \n",
       "10  Australia (Perth) [https]       Australia Perth         \n",
       "11  Austria [https]                 Austria   Wien          \n",
       "12  Austria                         Austria   Wien          \n",
       "13  Belgium (Antwerp)               Belgium   Antwerp       \n",
       "14  Belgium (Ghent) [https]         Belgium   Ghent         \n",
       "15  Belgium (Ghent)                 Belgium   Ghent         \n",
       "16  Brazil (BA)                     Brazil    Ilheus        \n",
       "17  Brazil (PR) [https]             Brazil    Curitiba      \n",
       "18  Brazil (PR)                     Brazil    Curitiba      \n",
       "19  Brazil (RJ) [https]             Brazil    Rio de Janeiro\n",
       "20  Brazil (RJ)                     Brazil    Rio de Janeiro\n",
       "21  Brazil (SP 1) [https]           Brazil    Sao Paulo     \n",
       "22  Brazil (SP 1)                   Brazil    Sao Paulo     \n",
       "23  Brazil (SP 2)                   Brazil    Piracicaba    \n",
       "24  Bulgaria [https]                Bulgaria  Sofia         \n",
       "25  Bulgaria                        Bulgaria  Sofia         \n",
       "26  Canada (BC)                     Canada    Burnaby       \n",
       "27  Canada (MB) [https]             Canada    Winnipeg      \n",
       "28  Canada (MB)                     Canada    Winnipeg      \n",
       "29  Canada (NS)                     Canada    Halifax       \n",
       "30  Canada (ON)                     Canada    Toronto       \n",
       "... ...                             ...       ...           \n",
       "121 UK (Bristol)                    UK        Bristol       \n",
       "122 UK (Cambridge) [https]          UK        Cambridge     \n",
       "123 UK (Cambridge)                  UK        Cambridge     \n",
       "124 UK (London 1) [https]           UK        London        \n",
       "125 UK (London 1)                   UK        London        \n",
       "127 USA (CA 1) [https]              USA       Berkeley      \n",
       "128 USA (CA 1)                      USA       Berkeley      \n",
       "129 USA (CA 2)                      USA       Los Angeles   \n",
       "130 USA (IA) [https]                USA       Ames          \n",
       "131 USA (IA)                        USA       Ames          \n",
       "132 USA (IN) [https]                USA       Bloomington   \n",
       "133 USA (IN)                        USA       Bloomington   \n",
       "134 USA (KS) [https]                USA       Lawrence      \n",
       "135 USA (KS)                        USA       Lawrence      \n",
       "136 USA (MI 1) [https]              USA       Houghton      \n",
       "137 USA (MI 1)                      USA       Houghton      \n",
       "138 USA (MO)                        USA       St. Louis     \n",
       "139 USA (NC)                        USA       Durham        \n",
       "140 USA (OH 1)                      USA       Cleveland     \n",
       "141 USA (OH 2)                      USA       Dayton        \n",
       "142 USA (OR) [https]                USA       Corvallis     \n",
       "143 USA (OR)                        USA       Corvallis     \n",
       "144 USA (PA 1)                      USA       Pittsburgh    \n",
       "145 USA (PA 2)                      USA       Pittsburgh    \n",
       "146 USA (TN) [https]                USA       Oak Ridge     \n",
       "147 USA (TN)                        USA       Oak Ridge     \n",
       "148 USA (TX 1) [https]              USA       Dallas        \n",
       "149 USA (TX 1)                      USA       Dallas        \n",
       "150 Vietnam [https]                 Vietnam   Ho Chi Minh   \n",
       "151 Venezuela                       Venezuela Valencia      \n",
       "    URL                                   \n",
       "1   https://cloud.r-project.org/          \n",
       "2   http://cloud.r-project.org/           \n",
       "3   https://cran.usthb.dz/                \n",
       "4   http://cran.usthb.dz/                 \n",
       "5   http://mirror.fcaglp.unlp.edu.ar/CRAN/\n",
       "6   https://cran.csiro.au/                \n",
       "7   http://cran.csiro.au/                 \n",
       "8   https://mirror.aarnet.edu.au/pub/CRAN/\n",
       "9   https://cran.ms.unimelb.edu.au/       \n",
       "10  https://cran.curtin.edu.au/           \n",
       "11  https://cran.wu.ac.at/                \n",
       "12  http://cran.wu.ac.at/                 \n",
       "13  http://www.freestatistics.org/cran/   \n",
       "14  https://lib.ugent.be/CRAN/            \n",
       "15  http://lib.ugent.be/CRAN/             \n",
       "16  http://nbcgib.uesc.br/mirrors/cran/   \n",
       "17  https://cran-r.c3sl.ufpr.br/          \n",
       "18  http://cran-r.c3sl.ufpr.br/           \n",
       "19  https://cran.fiocruz.br/              \n",
       "20  http://cran.fiocruz.br/               \n",
       "21  https://vps.fmvz.usp.br/CRAN/         \n",
       "22  http://vps.fmvz.usp.br/CRAN/          \n",
       "23  http://brieger.esalq.usp.br/CRAN/     \n",
       "24  https://ftp.uni-sofia.bg/CRAN/        \n",
       "25  http://ftp.uni-sofia.bg/CRAN/         \n",
       "26  http://cran.stat.sfu.ca/              \n",
       "27  https://muug.ca/mirror/cran/          \n",
       "28  http://muug.ca/mirror/cran/           \n",
       "29  http://mirror.its.dal.ca/cran/        \n",
       "30  http://cran.utstat.utoronto.ca/       \n",
       "... ...                                   \n",
       "121 http://www.stats.bris.ac.uk/R/        \n",
       "122 https://mirrors.ebi.ac.uk/CRAN/       \n",
       "123 http://mirrors.ebi.ac.uk/CRAN/        \n",
       "124 https://cran.ma.imperial.ac.uk/       \n",
       "125 http://cran.ma.imperial.ac.uk/        \n",
       "127 https://cran.cnr.berkeley.edu/        \n",
       "128 http://cran.cnr.berkeley.edu/         \n",
       "129 http://cran.stat.ucla.edu/            \n",
       "130 https://mirror.las.iastate.edu/CRAN/  \n",
       "131 http://mirror.las.iastate.edu/CRAN/   \n",
       "132 https://ftp.ussg.iu.edu/CRAN/         \n",
       "133 http://ftp.ussg.iu.edu/CRAN/          \n",
       "134 https://rweb.crmda.ku.edu/cran/       \n",
       "135 http://rweb.crmda.ku.edu/cran/        \n",
       "136 https://cran.mtu.edu/                 \n",
       "137 http://cran.mtu.edu/                  \n",
       "138 http://cran.wustl.edu/                \n",
       "139 http://archive.linux.duke.edu/cran/   \n",
       "140 http://cran.case.edu/                 \n",
       "141 http://iis.stat.wright.edu/CRAN/      \n",
       "142 https://ftp.osuosl.org/pub/cran/      \n",
       "143 http://ftp.osuosl.org/pub/cran/       \n",
       "144 http://lib.stat.cmu.edu/R/CRAN/       \n",
       "145 http://cran.mirrors.hoobly.com/       \n",
       "146 https://mirrors.nics.utk.edu/cran/    \n",
       "147 http://mirrors.nics.utk.edu/cran/     \n",
       "148 https://cran.revolutionanalytics.com/ \n",
       "149 http://cran.revolutionanalytics.com/  \n",
       "150 https://mirror.vinahost.vn/CRAN/      \n",
       "151 http://camoruco.ing.uc.edu.ve/cran/   \n",
       "    Host                                                                      \n",
       "1   Automatic redirection to servers worldwide, currently sponsored by Rstudio\n",
       "2   Automatic redirection to servers worldwide, currently sponsored by Rstudio\n",
       "3   University of Science and Technology Houari Boumediene                    \n",
       "4   University of Science and Technology Houari Boumediene                    \n",
       "5   Universidad Nacional de La Plata                                          \n",
       "6   CSIRO                                                                     \n",
       "7   CSIRO                                                                     \n",
       "8   AARNET                                                                    \n",
       "9   School of Mathematics and Statistics, University of Melbourne             \n",
       "10  Curtin University of Technology                                           \n",
       "11  Wirtschaftsuniversität Wien                                               \n",
       "12  Wirtschaftsuniversität Wien                                               \n",
       "13  K.U.Leuven Association                                                    \n",
       "14  Ghent University Library                                                  \n",
       "15  Ghent University Library                                                  \n",
       "16  Center for Comp. Biol. at Universidade Estadual de Santa Cruz             \n",
       "17  Universidade Federal do Parana                                            \n",
       "18  Universidade Federal do Parana                                            \n",
       "19  Oswaldo Cruz Foundation, Rio de Janeiro                                   \n",
       "20  Oswaldo Cruz Foundation, Rio de Janeiro                                   \n",
       "21  University of Sao Paulo, Sao Paulo                                        \n",
       "22  University of Sao Paulo, Sao Paulo                                        \n",
       "23  University of Sao Paulo, Piracicaba                                       \n",
       "24  Sofia University                                                          \n",
       "25  Sofia University                                                          \n",
       "26  Simon Fraser University, Burnaby                                          \n",
       "27  Manitoba Unix User Group                                                  \n",
       "28  Manitoba Unix User Group                                                  \n",
       "29  Dalhousie University, Halifax                                             \n",
       "30  University of Toronto                                                     \n",
       "... ...                                                                       \n",
       "121 University of Bristol                                                     \n",
       "122 EMBL-EBI (European Bioinformatics Institute)                              \n",
       "123 EMBL-EBI (European Bioinformatics Institute)                              \n",
       "124 Imperial College London                                                   \n",
       "125 Imperial College London                                                   \n",
       "127 University of California, Berkeley, CA                                    \n",
       "128 University of California, Berkeley, CA                                    \n",
       "129 University of California, Los Angeles, CA                                 \n",
       "130 Iowa State University, Ames, IA                                           \n",
       "131 Iowa State University, Ames, IA                                           \n",
       "132 Indiana University                                                        \n",
       "133 Indiana University                                                        \n",
       "134 University of Kansas, Lawrence, KS                                        \n",
       "135 University of Kansas, Lawrence, KS                                        \n",
       "136 Michigan Technological University, Houghton, MI                           \n",
       "137 Michigan Technological University, Houghton, MI                           \n",
       "138 Washington University, St. Louis, MO                                      \n",
       "139 Duke University, Durham, NC                                               \n",
       "140 Case Western Reserve University, Cleveland, OH                            \n",
       "141 Wright State University, Dayton, OH                                       \n",
       "142 Oregon State University                                                   \n",
       "143 Oregon State University                                                   \n",
       "144 Statlib, Carnegie Mellon University, Pittsburgh, PA                       \n",
       "145 Hoobly Classifieds, Pittsburgh, PA                                        \n",
       "146 National Institute for Computational Sciences, Oak Ridge, TN              \n",
       "147 National Institute for Computational Sciences, Oak Ridge, TN              \n",
       "148 Revolution Analytics, Dallas, TX                                          \n",
       "149 Revolution Analytics, Dallas, TX                                          \n",
       "150 VinaHost                                                                  \n",
       "151 Universidad de Carabobo Venezuela                                         \n",
       "    Maintainer                                                         OK \n",
       "1   winston # stdout.org                                               1  \n",
       "2   winston # stdout.org                                               1  \n",
       "3   Boukala m c <mboukala # usthb.dz>                                  1  \n",
       "4   Boukala m c <mboukala # usthb.dz>                                  1  \n",
       "5   esuarez # Fcaglp.unlp.edu.ar                                       1  \n",
       "6   Bill.Venables # CSIRO.au, ServiceDesk2 # CSIRO.au                  1  \n",
       "7   Bill.Venables # CSIRO.au, ServiceDesk2 # CSIRO.au                  1  \n",
       "8   <sysadmin # aarnet.edu.au>                                         1  \n",
       "9   unix-ops # lists.unimelb.edu.au                                    1  \n",
       "10  unix # curtin.edu.au                                               1  \n",
       "11  CRAN # R-project.org                                               1  \n",
       "12  CRAN # R-project.org                                               1  \n",
       "13  patrick # wessa.net                                                1  \n",
       "14  Patrick Hochstenbach <Patrick.Hochstenbach # UGent.be>             1  \n",
       "15  Patrick Hochstenbach <Patrick.Hochstenbach # UGent.be>             1  \n",
       "16  eduardo # nbcgib.uesc.br                                           1  \n",
       "17  root # c3sl.ufpr.br                                                1  \n",
       "18  root # c3sl.ufpr.br                                                1  \n",
       "19  oswaldo.cruz # fiocruz.br                                          1  \n",
       "20  oswaldo.cruz # fiocruz.br                                          1  \n",
       "21  Fernando Ferreira <fernando # vps.fmvz.usp.br>                     1  \n",
       "22  Fernando Ferreira <fernando # vps.fmvz.usp.br>                     1  \n",
       "23  A Augusto F Garcia <aafgarci # gmail.com>, augusto.garcia # usp.br 1  \n",
       "24  Alexander Velin <velin # fccf.net>                                 1  \n",
       "25  Alexander Velin <velin # fccf.net>                                 1  \n",
       "26  gripe # sfu.ca                                                     1  \n",
       "27  mirror # muug.ca                                                   1  \n",
       "28  mirror # muug.ca                                                   1  \n",
       "29  mirror # lists.dal.ca                                              1  \n",
       "30  Dermot Whelan <wheland # utstat.utoronto.ca>                       1  \n",
       "... ...                                                                ...\n",
       "121 Guy Nason <G.P.Nason # bristol.ac.uk>, it-zone-d # bristol.ac.uk   1  \n",
       "122 Andrew Tikhonov <andrew # ebi.ac.uk>                               1  \n",
       "123 Andrew Tikhonov <andrew # ebi.ac.uk>                               1  \n",
       "124 andy.thomas # imperial.ac.uk                                       1  \n",
       "125 andy.thomas # imperial.ac.uk                                       1  \n",
       "127 casterln # nature.berkeley.edu                                     1  \n",
       "128 casterln # nature.berkeley.edu                                     1  \n",
       "129 Jose Hales-Garcia <jose # stat.ucla.edu>                           1  \n",
       "130 statit # iastate.edu                                               1  \n",
       "131 statit # iastate.edu                                               1  \n",
       "132 rtadmin # indiana.edu                                              1  \n",
       "133 rtadmin # indiana.edu                                              1  \n",
       "134 Paul Johnson <pauljohn # ku.edu>                                   1  \n",
       "135 Paul Johnson <pauljohn # ku.edu>                                   1  \n",
       "136 Robert Froese <froese # mtu.edu>                                   1  \n",
       "137 Robert Froese <froese # mtu.edu>                                   1  \n",
       "138 admartin # wustl.edu                                               1  \n",
       "139 csi-linux-admins # duke.edu                                        1  \n",
       "140 \"Alberto H. Santana\" <ahs4 # case.edu>                             1  \n",
       "141 Gengxin Li <gengxin.li # wright.edu>                               1  \n",
       "142 support # Osuosl.org                                               1  \n",
       "143 support # Osuosl.org                                               1  \n",
       "144 Carl Skipper <remarks # stat.cmu.edu>                              1  \n",
       "145 Peter Grigor <pgrigor # hoobly.com>                                1  \n",
       "146 help # nics.utk.edu                                                1  \n",
       "147 help # nics.utk.edu                                                1  \n",
       "148 David Smith <david # revolutionanalytics.com>                      1  \n",
       "149 David Smith <david # revolutionanalytics.com>                      1  \n",
       "150 tienhn # vinahost.vn                                               1  \n",
       "151 dir-imyca # uc.edu.ve                                              1  \n",
       "    CountryCode Comment                   \n",
       "1   us          secure_mirror_from_master \n",
       "2   us          secure_mirror_from_master \n",
       "3   dz          secure_mirror_from_master \n",
       "4   dz          secure_mirror_from_master \n",
       "5   ar                                    \n",
       "6   au          secure_mirror_from_master \n",
       "7   au          secure_mirror_from_master \n",
       "8   au          secure_mirror_from_master \n",
       "9   au          secure_mirror_from_master \n",
       "10  au          secure_mirror_from_master \n",
       "11  at          secure_mirror_from_master \n",
       "12  at          secure_mirror_from_master \n",
       "13  be                                    \n",
       "14  be          secure_mirror_from_master \n",
       "15  be          secure_mirror_from_master \n",
       "16  br                                    \n",
       "17  br                                    \n",
       "18  br                                    \n",
       "19  br          secure_mirror_from_master \n",
       "20  br          secure_mirror_from_master \n",
       "21  br          secure_mirror_from_master \n",
       "22  br          secure_mirror_from_master \n",
       "23  br                                    \n",
       "24  bg          secure_mirror_from_master \n",
       "25  bg          secure_mirror_from_master \n",
       "26  ca          maintainer_address_bounces\n",
       "27  ca                                    \n",
       "28  ca                                    \n",
       "29  ca                                    \n",
       "30  ca                                    \n",
       "... ...         ...                       \n",
       "121 uk          secure_mirror_from_master \n",
       "122 uk          secure_mirror_from_master \n",
       "123 uk          secure_mirror_from_master \n",
       "124 uk          secure_mirror_from_master \n",
       "125 uk          secure_mirror_from_master \n",
       "127 us          secure_mirror_from_master \n",
       "128 us          secure_mirror_from_master \n",
       "129 us                                    \n",
       "130 us          secure_mirror_from_master \n",
       "131 us          secure_mirror_from_master \n",
       "132 us                                    \n",
       "133 us                                    \n",
       "134 us          secure_mirror_from_master \n",
       "135 us          secure_mirror_from_master \n",
       "136 us          secure_mirror_from_master \n",
       "137 us          secure_mirror_from_master \n",
       "138 us          maintainer_address_bounces\n",
       "139 us                                    \n",
       "140 us                                    \n",
       "141 us                                    \n",
       "142 us          secure_mirror_from_master \n",
       "143 us          secure_mirror_from_master \n",
       "144 us                                    \n",
       "145 us                                    \n",
       "146 us          secure_mirror_from_master \n",
       "147 us          secure_mirror_from_master \n",
       "148 us          secure_mirror_from_master \n",
       "149 us          secure_mirror_from_master \n",
       "150 vn          secure_mirror_from_master \n",
       "151 ve                                    "
      ]
     },
     "metadata": {},
     "output_type": "display_data"
    }
   ],
   "source": [
    "getCRANmirrors(all = FALSE, local.only = FALSE)\n",
    "options(repos=structure(c(CRAN=\"http://cloud.r-project.org/\")))"
   ]
  },
  {
   "cell_type": "markdown",
   "metadata": {},
   "source": [
    "> **Note:** The CRAN mirror for downloading R packages can be set in the current R script as shown above. However, a CRAN mirror can also be set permanently by inserting the line \n",
    "```options(repos=structure(c(CRAN=\"YOUR FAVORITE MIRROR\")))```\n",
    "into the *Rprofile* configuration file. This file can be found in the *library* of the directory, where R is installed. In my case it is located in `C:\\Users\\xxx\\Anaconda2\\envs\\condatascience\\R\\library\\base\\R`. "
   ]
  },
  {
   "cell_type": "markdown",
   "metadata": {},
   "source": [
    "## User-defined functions"
   ]
  },
  {
   "cell_type": "markdown",
   "metadata": {},
   "source": [
    "Users can define their own functions. The encapsulations of code in functions provides a more structured and readable code. The most important advantage however is, that some routines, which are required not only once need not be implemented repititevly. A function must be defined only once and can then be used wherever it is required.\n",
    "\n",
    "The general syntax for functions in R is:"
   ]
  },
  {
   "cell_type": "code",
   "execution_count": 14,
   "metadata": {
    "ExecuteTime": {
     "end_time": "2017-08-10T12:03:13.250000Z",
     "start_time": "2017-08-10T12:03:13.217Z"
    },
    "collapsed": true
   },
   "outputs": [],
   "source": [
    "functionName<-function(listOfParameters){\n",
    " statements\n",
    " return (result)\n",
    "}"
   ]
  },
  {
   "cell_type": "markdown",
   "metadata": {},
   "source": [
    "The list of parameters within the brackets that follow the keyword *function* are the arguments, which are passed as input to the function. Within the function body (inside the curly brackets) arbitrarily complex statements are executed. The result of this computation is returned by the function. The defined function is assigned to a variable *functionName*. The function can be accessed via this variable-name as shown below."
   ]
  },
  {
   "cell_type": "markdown",
   "metadata": {},
   "source": [
    "For example in the following code-snippet a function is defined, which normalizes the values of the vector, which is passed as argument to the function. The normalized values of the passed vector is returned by the function."
   ]
  },
  {
   "cell_type": "code",
   "execution_count": 1,
   "metadata": {
    "ExecuteTime": {
     "end_time": "2017-09-19T13:54:59.794000Z",
     "start_time": "2017-09-19T13:54:59.733Z"
    },
    "collapsed": true
   },
   "outputs": [],
   "source": [
    "myNormalizer<-function(rawdata){\n",
    "    maximum<-max(rawdata)\n",
    "    minimum<-min(rawdata)\n",
    "    normeddata=(rawdata-minimum)/(maximum-minimum)\n",
    "    return (normeddata)\n",
    "}"
   ]
  },
  {
   "cell_type": "markdown",
   "metadata": {},
   "source": [
    "Now, this function can be executed wherever it is required, by the name "
   ]
  },
  {
   "cell_type": "code",
   "execution_count": 3,
   "metadata": {
    "ExecuteTime": {
     "end_time": "2017-09-19T13:55:15.447000Z",
     "start_time": "2017-09-19T13:55:15.392Z"
    },
    "scrolled": true
   },
   "outputs": [
    {
     "data": {
      "text/html": [
       "<ol class=list-inline>\n",
       "\t<li>10</li>\n",
       "\t<li>11</li>\n",
       "\t<li>12</li>\n",
       "\t<li>13</li>\n",
       "\t<li>14</li>\n",
       "\t<li>15</li>\n",
       "\t<li>16</li>\n",
       "\t<li>17</li>\n",
       "\t<li>18</li>\n",
       "\t<li>19</li>\n",
       "\t<li>20</li>\n",
       "</ol>\n"
      ],
      "text/latex": [
       "\\begin{enumerate*}\n",
       "\\item 10\n",
       "\\item 11\n",
       "\\item 12\n",
       "\\item 13\n",
       "\\item 14\n",
       "\\item 15\n",
       "\\item 16\n",
       "\\item 17\n",
       "\\item 18\n",
       "\\item 19\n",
       "\\item 20\n",
       "\\end{enumerate*}\n"
      ],
      "text/markdown": [
       "1. 10\n",
       "2. 11\n",
       "3. 12\n",
       "4. 13\n",
       "5. 14\n",
       "6. 15\n",
       "7. 16\n",
       "8. 17\n",
       "9. 18\n",
       "10. 19\n",
       "11. 20\n",
       "\n",
       "\n"
      ],
      "text/plain": [
       " [1] 10 11 12 13 14 15 16 17 18 19 20"
      ]
     },
     "metadata": {},
     "output_type": "display_data"
    },
    {
     "name": "stdout",
     "output_type": "stream",
     "text": [
      " [1] 0.0 0.1 0.2 0.3 0.4 0.5 0.6 0.7 0.8 0.9 1.0\n"
     ]
    }
   ],
   "source": [
    "(a<-10:20)\n",
    "A<-myNormalizer(a)\n",
    "print(A)"
   ]
  },
  {
   "cell_type": "code",
   "execution_count": 4,
   "metadata": {
    "ExecuteTime": {
     "end_time": "2017-09-19T13:55:36.153000Z",
     "start_time": "2017-09-19T13:55:36.105Z"
    }
   },
   "outputs": [
    {
     "data": {
      "text/html": [
       "<ol class=list-inline>\n",
       "\t<li>33</li>\n",
       "\t<li>34</li>\n",
       "\t<li>20</li>\n",
       "\t<li>52</li>\n",
       "\t<li>60</li>\n",
       "\t<li>71</li>\n",
       "</ol>\n"
      ],
      "text/latex": [
       "\\begin{enumerate*}\n",
       "\\item 33\n",
       "\\item 34\n",
       "\\item 20\n",
       "\\item 52\n",
       "\\item 60\n",
       "\\item 71\n",
       "\\end{enumerate*}\n"
      ],
      "text/markdown": [
       "1. 33\n",
       "2. 34\n",
       "3. 20\n",
       "4. 52\n",
       "5. 60\n",
       "6. 71\n",
       "\n",
       "\n"
      ],
      "text/plain": [
       "[1] 33 34 20 52 60 71"
      ]
     },
     "metadata": {},
     "output_type": "display_data"
    },
    {
     "name": "stdout",
     "output_type": "stream",
     "text": [
      "[1] 0.2549020 0.2745098 0.0000000 0.6274510 0.7843137 1.0000000\n"
     ]
    }
   ],
   "source": [
    "(b<-c(33,34,20,52,60,71))\n",
    "B<-myNormalizer(b)\n",
    "print(B)"
   ]
  },
  {
   "cell_type": "markdown",
   "metadata": {},
   "source": [
    "### Passing optional arguments to a function in the function\n",
    "The function *myNormalizer()* shall now be extended such that it can also provide normalized values, which are rounded to a configurable number of digits. The standard R-function *round()* already has the parameter *digits*, which allows to set the number of digits after the decimal point. The round()-function shall now be applied in the new function *myRoundNormalizer()*. Hence, a value for the *digits* parameter of the *round()*-function must be passed to *myRoundNormalizer()*. Passing an arbitrary set of parameters to an inner function can be realized by the *...*-function (triple dot function). This is demonstrated in the following code cells. "
   ]
  },
  {
   "cell_type": "code",
   "execution_count": 5,
   "metadata": {
    "ExecuteTime": {
     "end_time": "2017-09-19T13:58:32.414000Z",
     "start_time": "2017-09-19T13:58:32.378Z"
    },
    "collapsed": true
   },
   "outputs": [],
   "source": [
    "myRoundNormalizer<-function(rawdata,round=F,...){\n",
    "    maximum<-max(rawdata)\n",
    "    minimum<-min(rawdata)\n",
    "    normeddata=(rawdata-minimum)/(maximum-minimum)\n",
    "    if (!round){\n",
    "        return (normeddata)\n",
    "    }else{\n",
    "        return (round(normeddata,...))\n",
    "    }\n",
    "}"
   ]
  },
  {
   "cell_type": "code",
   "execution_count": 6,
   "metadata": {
    "ExecuteTime": {
     "end_time": "2017-09-19T13:58:35.075000Z",
     "start_time": "2017-09-19T13:58:35.022Z"
    }
   },
   "outputs": [
    {
     "name": "stdout",
     "output_type": "stream",
     "text": [
      "[1] 0.2549020 0.2745098 0.0000000 0.6274510 0.7843137 1.0000000\n",
      "[1] 0 0 0 1 1 1\n",
      "[1] 0.25 0.27 0.00 0.63 0.78 1.00\n"
     ]
    }
   ],
   "source": [
    "B<-myRoundNormalizer(b)\n",
    "print(B)\n",
    "B<-myRoundNormalizer(b,round=T)\n",
    "print(B)\n",
    "B<-myRoundNormalizer(b,round=T,digits=2)\n",
    "print(B)"
   ]
  },
  {
   "cell_type": "markdown",
   "metadata": {},
   "source": [
    "## Efficient evaluation of functions: apply, lapply, sapply\n",
    "In the case that there exists many sequences of numeric values (such as *a* and *b* above) and each sequence shall be normalized by the *myNormalizer*-function, one can just implement a loop, which envokes in each iteration the *myNormalizer*-function for an individual input-argument (sequence of numeric values). Such an implementation would work, but is not very efficient. It would be much more efficient to use the R built-in function *lapply(list of variables, functionName)*.\n",
    "\n",
    "As shown in the following code-snippet no looping is required in this way:"
   ]
  },
  {
   "cell_type": "code",
   "execution_count": 7,
   "metadata": {
    "ExecuteTime": {
     "end_time": "2017-09-19T13:58:45.633000Z",
     "start_time": "2017-09-19T13:58:45.600Z"
    }
   },
   "outputs": [
    {
     "name": "stdout",
     "output_type": "stream",
     "text": [
      "$l1\n",
      " [1] 10 11 12 13 14 15 16 17 18 19 20\n",
      "\n",
      "$l2\n",
      "[1] 33 34 20 52 60 71\n",
      "\n"
     ]
    }
   ],
   "source": [
    "columnlist<-list(l1=a,l2=b)\n",
    "print(columnlist)"
   ]
  },
  {
   "cell_type": "code",
   "execution_count": 8,
   "metadata": {
    "ExecuteTime": {
     "end_time": "2017-09-19T13:59:07.165000Z",
     "start_time": "2017-09-19T13:59:07.128Z"
    },
    "collapsed": true
   },
   "outputs": [],
   "source": [
    "columnlistNormed<-lapply(columnlist,myNormalizer)"
   ]
  },
  {
   "cell_type": "code",
   "execution_count": 9,
   "metadata": {
    "ExecuteTime": {
     "end_time": "2017-09-19T13:59:10.348000Z",
     "start_time": "2017-09-19T13:59:10.309Z"
    }
   },
   "outputs": [
    {
     "data": {
      "text/html": [
       "<dl>\n",
       "\t<dt>$l1</dt>\n",
       "\t\t<dd><ol class=list-inline>\n",
       "\t<li>0</li>\n",
       "\t<li>0.1</li>\n",
       "\t<li>0.2</li>\n",
       "\t<li>0.3</li>\n",
       "\t<li>0.4</li>\n",
       "\t<li>0.5</li>\n",
       "\t<li>0.6</li>\n",
       "\t<li>0.7</li>\n",
       "\t<li>0.8</li>\n",
       "\t<li>0.9</li>\n",
       "\t<li>1</li>\n",
       "</ol>\n",
       "</dd>\n",
       "\t<dt>$l2</dt>\n",
       "\t\t<dd><ol class=list-inline>\n",
       "\t<li>0.254901960784314</li>\n",
       "\t<li>0.274509803921569</li>\n",
       "\t<li>0</li>\n",
       "\t<li>0.627450980392157</li>\n",
       "\t<li>0.784313725490196</li>\n",
       "\t<li>1</li>\n",
       "</ol>\n",
       "</dd>\n",
       "</dl>\n"
      ],
      "text/latex": [
       "\\begin{description}\n",
       "\\item[\\$l1] \\begin{enumerate*}\n",
       "\\item 0\n",
       "\\item 0.1\n",
       "\\item 0.2\n",
       "\\item 0.3\n",
       "\\item 0.4\n",
       "\\item 0.5\n",
       "\\item 0.6\n",
       "\\item 0.7\n",
       "\\item 0.8\n",
       "\\item 0.9\n",
       "\\item 1\n",
       "\\end{enumerate*}\n",
       "\n",
       "\\item[\\$l2] \\begin{enumerate*}\n",
       "\\item 0.254901960784314\n",
       "\\item 0.274509803921569\n",
       "\\item 0\n",
       "\\item 0.627450980392157\n",
       "\\item 0.784313725490196\n",
       "\\item 1\n",
       "\\end{enumerate*}\n",
       "\n",
       "\\end{description}\n"
      ],
      "text/markdown": [
       "$l1\n",
       ":   1. 0\n",
       "2. 0.1\n",
       "3. 0.2\n",
       "4. 0.3\n",
       "5. 0.4\n",
       "6. 0.5\n",
       "7. 0.6\n",
       "8. 0.7\n",
       "9. 0.8\n",
       "10. 0.9\n",
       "11. 1\n",
       "\n",
       "\n",
       "\n",
       "$l2\n",
       ":   1. 0.254901960784314\n",
       "2. 0.274509803921569\n",
       "3. 0\n",
       "4. 0.627450980392157\n",
       "5. 0.784313725490196\n",
       "6. 1\n",
       "\n",
       "\n",
       "\n",
       "\n",
       "\n"
      ],
      "text/plain": [
       "$l1\n",
       " [1] 0.0 0.1 0.2 0.3 0.4 0.5 0.6 0.7 0.8 0.9 1.0\n",
       "\n",
       "$l2\n",
       "[1] 0.2549020 0.2745098 0.0000000 0.6274510 0.7843137 1.0000000\n"
      ]
     },
     "metadata": {},
     "output_type": "display_data"
    }
   ],
   "source": [
    "columnlistNormed"
   ]
  },
  {
   "cell_type": "markdown",
   "metadata": {},
   "source": [
    "Note that the first parameter of the *lapply()*-function is a list, which contains the objects on which the function (*myNormalizer()* in the example above) shall be executed. In the case that an arbitrary function shall be executed not on a list of objects, but on an array or a matrix, the *apply()*-function can be used. This function has an additional parameter, which determines along which axes of the multidimensional object the function shall be applied. This is demonstrated in the example below. Here the *myNormalizer()*-function is first performed rowwise (parameter 1 in *apply()*) and then columnwise (parameter 2 in *apply()*)."
   ]
  },
  {
   "cell_type": "code",
   "execution_count": 14,
   "metadata": {
    "ExecuteTime": {
     "end_time": "2017-09-19T14:04:56.726000Z",
     "start_time": "2017-09-19T14:04:56.691Z"
    },
    "collapsed": true
   },
   "outputs": [],
   "source": [
    "mymat=matrix(floor(runif(28)*20),nrow=4,ncol=7)"
   ]
  },
  {
   "cell_type": "code",
   "execution_count": 15,
   "metadata": {
    "ExecuteTime": {
     "end_time": "2017-09-19T14:04:58.587000Z",
     "start_time": "2017-09-19T14:04:58.540Z"
    }
   },
   "outputs": [
    {
     "data": {
      "text/html": [
       "<table>\n",
       "<tbody>\n",
       "\t<tr><td> 1</td><td>18</td><td> 5</td><td>15</td><td> 7</td><td>16</td><td>15</td></tr>\n",
       "\t<tr><td> 5</td><td> 3</td><td> 7</td><td>14</td><td>17</td><td>18</td><td>18</td></tr>\n",
       "\t<tr><td>12</td><td> 0</td><td>15</td><td> 6</td><td> 5</td><td>14</td><td> 3</td></tr>\n",
       "\t<tr><td>13</td><td>12</td><td> 3</td><td> 1</td><td>11</td><td>16</td><td>18</td></tr>\n",
       "</tbody>\n",
       "</table>\n"
      ],
      "text/latex": [
       "\\begin{tabular}{lllllll}\n",
       "\t  1 & 18 &  5 & 15 &  7 & 16 & 15\\\\\n",
       "\t  5 &  3 &  7 & 14 & 17 & 18 & 18\\\\\n",
       "\t 12 &  0 & 15 &  6 &  5 & 14 &  3\\\\\n",
       "\t 13 & 12 &  3 &  1 & 11 & 16 & 18\\\\\n",
       "\\end{tabular}\n"
      ],
      "text/markdown": [
       "\n",
       "|  1 | 18 |  5 | 15 |  7 | 16 | 15 | \n",
       "|  5 |  3 |  7 | 14 | 17 | 18 | 18 | \n",
       "| 12 |  0 | 15 |  6 |  5 | 14 |  3 | \n",
       "| 13 | 12 |  3 |  1 | 11 | 16 | 18 | \n",
       "\n",
       "\n"
      ],
      "text/plain": [
       "     [,1] [,2] [,3] [,4] [,5] [,6] [,7]\n",
       "[1,]  1   18    5   15    7   16   15  \n",
       "[2,]  5    3    7   14   17   18   18  \n",
       "[3,] 12    0   15    6    5   14    3  \n",
       "[4,] 13   12    3    1   11   16   18  "
      ]
     },
     "metadata": {},
     "output_type": "display_data"
    }
   ],
   "source": [
    "mymat"
   ]
  },
  {
   "cell_type": "markdown",
   "metadata": {},
   "source": [
    "Rowwise normalization:"
   ]
  },
  {
   "cell_type": "code",
   "execution_count": 17,
   "metadata": {
    "ExecuteTime": {
     "end_time": "2017-09-19T14:06:25.730000Z",
     "start_time": "2017-09-19T14:06:25.689Z"
    }
   },
   "outputs": [
    {
     "data": {
      "text/html": [
       "<table>\n",
       "<tbody>\n",
       "\t<tr><td>0.0000000</td><td>0.1333333</td><td>0.8000000</td><td>0.7058824</td></tr>\n",
       "\t<tr><td>1.0000000</td><td>0.0000000</td><td>0.0000000</td><td>0.6470588</td></tr>\n",
       "\t<tr><td>0.2352941</td><td>0.2666667</td><td>1.0000000</td><td>0.1176471</td></tr>\n",
       "\t<tr><td>0.8235294</td><td>0.7333333</td><td>0.4000000</td><td>0.0000000</td></tr>\n",
       "\t<tr><td>0.3529412</td><td>0.9333333</td><td>0.3333333</td><td>0.5882353</td></tr>\n",
       "\t<tr><td>0.8823529</td><td>1.0000000</td><td>0.9333333</td><td>0.8823529</td></tr>\n",
       "\t<tr><td>0.8235294</td><td>1.0000000</td><td>0.2000000</td><td>1.0000000</td></tr>\n",
       "</tbody>\n",
       "</table>\n"
      ],
      "text/latex": [
       "\\begin{tabular}{llll}\n",
       "\t 0.0000000 & 0.1333333 & 0.8000000 & 0.7058824\\\\\n",
       "\t 1.0000000 & 0.0000000 & 0.0000000 & 0.6470588\\\\\n",
       "\t 0.2352941 & 0.2666667 & 1.0000000 & 0.1176471\\\\\n",
       "\t 0.8235294 & 0.7333333 & 0.4000000 & 0.0000000\\\\\n",
       "\t 0.3529412 & 0.9333333 & 0.3333333 & 0.5882353\\\\\n",
       "\t 0.8823529 & 1.0000000 & 0.9333333 & 0.8823529\\\\\n",
       "\t 0.8235294 & 1.0000000 & 0.2000000 & 1.0000000\\\\\n",
       "\\end{tabular}\n"
      ],
      "text/markdown": [
       "\n",
       "| 0.0000000 | 0.1333333 | 0.8000000 | 0.7058824 | \n",
       "| 1.0000000 | 0.0000000 | 0.0000000 | 0.6470588 | \n",
       "| 0.2352941 | 0.2666667 | 1.0000000 | 0.1176471 | \n",
       "| 0.8235294 | 0.7333333 | 0.4000000 | 0.0000000 | \n",
       "| 0.3529412 | 0.9333333 | 0.3333333 | 0.5882353 | \n",
       "| 0.8823529 | 1.0000000 | 0.9333333 | 0.8823529 | \n",
       "| 0.8235294 | 1.0000000 | 0.2000000 | 1.0000000 | \n",
       "\n",
       "\n"
      ],
      "text/plain": [
       "     [,1]      [,2]      [,3]      [,4]     \n",
       "[1,] 0.0000000 0.1333333 0.8000000 0.7058824\n",
       "[2,] 1.0000000 0.0000000 0.0000000 0.6470588\n",
       "[3,] 0.2352941 0.2666667 1.0000000 0.1176471\n",
       "[4,] 0.8235294 0.7333333 0.4000000 0.0000000\n",
       "[5,] 0.3529412 0.9333333 0.3333333 0.5882353\n",
       "[6,] 0.8823529 1.0000000 0.9333333 0.8823529\n",
       "[7,] 0.8235294 1.0000000 0.2000000 1.0000000"
      ]
     },
     "metadata": {},
     "output_type": "display_data"
    }
   ],
   "source": [
    "mymatNormed=apply(mymat,1,myNormalizer)\n",
    "mymatNormed"
   ]
  },
  {
   "cell_type": "markdown",
   "metadata": {},
   "source": [
    "Columnwise normalization:"
   ]
  },
  {
   "cell_type": "code",
   "execution_count": 18,
   "metadata": {
    "ExecuteTime": {
     "end_time": "2017-09-19T14:06:28.818000Z",
     "start_time": "2017-09-19T14:06:28.779Z"
    }
   },
   "outputs": [
    {
     "data": {
      "text/html": [
       "<table>\n",
       "<tbody>\n",
       "\t<tr><td>0.0000000</td><td>1.0000000</td><td>0.1666667</td><td>1.0000000</td><td>0.1666667</td><td>0.5      </td><td>0.8      </td></tr>\n",
       "\t<tr><td>0.3333333</td><td>0.1666667</td><td>0.3333333</td><td>0.9285714</td><td>1.0000000</td><td>1.0      </td><td>1.0      </td></tr>\n",
       "\t<tr><td>0.9166667</td><td>0.0000000</td><td>1.0000000</td><td>0.3571429</td><td>0.0000000</td><td>0.0      </td><td>0.0      </td></tr>\n",
       "\t<tr><td>1.0000000</td><td>0.6666667</td><td>0.0000000</td><td>0.0000000</td><td>0.5000000</td><td>0.5      </td><td>1.0      </td></tr>\n",
       "</tbody>\n",
       "</table>\n"
      ],
      "text/latex": [
       "\\begin{tabular}{lllllll}\n",
       "\t 0.0000000 & 1.0000000 & 0.1666667 & 1.0000000 & 0.1666667 & 0.5       & 0.8      \\\\\n",
       "\t 0.3333333 & 0.1666667 & 0.3333333 & 0.9285714 & 1.0000000 & 1.0       & 1.0      \\\\\n",
       "\t 0.9166667 & 0.0000000 & 1.0000000 & 0.3571429 & 0.0000000 & 0.0       & 0.0      \\\\\n",
       "\t 1.0000000 & 0.6666667 & 0.0000000 & 0.0000000 & 0.5000000 & 0.5       & 1.0      \\\\\n",
       "\\end{tabular}\n"
      ],
      "text/markdown": [
       "\n",
       "| 0.0000000 | 1.0000000 | 0.1666667 | 1.0000000 | 0.1666667 | 0.5       | 0.8       | \n",
       "| 0.3333333 | 0.1666667 | 0.3333333 | 0.9285714 | 1.0000000 | 1.0       | 1.0       | \n",
       "| 0.9166667 | 0.0000000 | 1.0000000 | 0.3571429 | 0.0000000 | 0.0       | 0.0       | \n",
       "| 1.0000000 | 0.6666667 | 0.0000000 | 0.0000000 | 0.5000000 | 0.5       | 1.0       | \n",
       "\n",
       "\n"
      ],
      "text/plain": [
       "     [,1]      [,2]      [,3]      [,4]      [,5]      [,6] [,7]\n",
       "[1,] 0.0000000 1.0000000 0.1666667 1.0000000 0.1666667 0.5  0.8 \n",
       "[2,] 0.3333333 0.1666667 0.3333333 0.9285714 1.0000000 1.0  1.0 \n",
       "[3,] 0.9166667 0.0000000 1.0000000 0.3571429 0.0000000 0.0  0.0 \n",
       "[4,] 1.0000000 0.6666667 0.0000000 0.0000000 0.5000000 0.5  1.0 "
      ]
     },
     "metadata": {},
     "output_type": "display_data"
    }
   ],
   "source": [
    "mymatNormed=apply(mymat,2,myNormalizer)\n",
    "mymatNormed"
   ]
  },
  {
   "cell_type": "markdown",
   "metadata": {},
   "source": [
    "*sapply()*-is similar to *lapply()*. However, it returns a vector or a matrix instead of a list: "
   ]
  },
  {
   "cell_type": "code",
   "execution_count": 19,
   "metadata": {
    "ExecuteTime": {
     "end_time": "2017-09-19T14:06:56.768000Z",
     "start_time": "2017-09-19T14:06:56.723Z"
    }
   },
   "outputs": [
    {
     "data": {
      "text/html": [
       "<dl>\n",
       "\t<dt>$l1</dt>\n",
       "\t\t<dd>15</dd>\n",
       "\t<dt>$l2</dt>\n",
       "\t\t<dd>45</dd>\n",
       "</dl>\n"
      ],
      "text/latex": [
       "\\begin{description}\n",
       "\\item[\\$l1] 15\n",
       "\\item[\\$l2] 45\n",
       "\\end{description}\n"
      ],
      "text/markdown": [
       "$l1\n",
       ":   15\n",
       "$l2\n",
       ":   45\n",
       "\n",
       "\n"
      ],
      "text/plain": [
       "$l1\n",
       "[1] 15\n",
       "\n",
       "$l2\n",
       "[1] 45\n"
      ]
     },
     "metadata": {},
     "output_type": "display_data"
    },
    {
     "data": {
      "text/html": [
       "'list'"
      ],
      "text/latex": [
       "'list'"
      ],
      "text/markdown": [
       "'list'"
      ],
      "text/plain": [
       "[1] \"list\""
      ]
     },
     "metadata": {},
     "output_type": "display_data"
    }
   ],
   "source": [
    "columnmean<-lapply(columnlist,mean)\n",
    "columnmean\n",
    "class(columnmean)"
   ]
  },
  {
   "cell_type": "code",
   "execution_count": 20,
   "metadata": {
    "ExecuteTime": {
     "end_time": "2017-09-19T14:07:04.471000Z",
     "start_time": "2017-09-19T14:07:04.423Z"
    }
   },
   "outputs": [
    {
     "data": {
      "text/html": [
       "<dl class=dl-horizontal>\n",
       "\t<dt>l1</dt>\n",
       "\t\t<dd>15</dd>\n",
       "\t<dt>l2</dt>\n",
       "\t\t<dd>45</dd>\n",
       "</dl>\n"
      ],
      "text/latex": [
       "\\begin{description*}\n",
       "\\item[l1] 15\n",
       "\\item[l2] 45\n",
       "\\end{description*}\n"
      ],
      "text/markdown": [
       "l1\n",
       ":   15l2\n",
       ":   45\n",
       "\n"
      ],
      "text/plain": [
       "l1 l2 \n",
       "15 45 "
      ]
     },
     "metadata": {},
     "output_type": "display_data"
    },
    {
     "data": {
      "text/html": [
       "'numeric'"
      ],
      "text/latex": [
       "'numeric'"
      ],
      "text/markdown": [
       "'numeric'"
      ],
      "text/plain": [
       "[1] \"numeric\""
      ]
     },
     "metadata": {},
     "output_type": "display_data"
    }
   ],
   "source": [
    "columnmean<-sapply(columnlist,mean)\n",
    "columnmean\n",
    "class(columnmean)"
   ]
  },
  {
   "cell_type": "markdown",
   "metadata": {},
   "source": [
    "## Exercises\n",
    "[Exercise on functions in R](../../Assignments/Ass05FunctionsR.ipynb)"
   ]
  },
  {
   "cell_type": "code",
   "execution_count": null,
   "metadata": {
    "collapsed": true
   },
   "outputs": [],
   "source": []
  }
 ],
 "metadata": {
  "anaconda-cloud": {},
  "kernelspec": {
   "display_name": "R",
   "language": "R",
   "name": "ir"
  },
  "language_info": {
   "codemirror_mode": "r",
   "file_extension": ".r",
   "mimetype": "text/x-r-source",
   "name": "R",
   "pygments_lexer": "r",
   "version": "3.3.2"
  },
  "nav_menu": {},
  "toc": {
   "navigate_menu": true,
   "number_sections": true,
   "sideBar": true,
   "threshold": 6,
   "toc_cell": false,
   "toc_section_display": "block",
   "toc_window_display": true
  },
  "toc_position": {
   "height": "484px",
   "left": "0px",
   "right": "888px",
   "top": "125px",
   "width": "212px"
  }
 },
 "nbformat": 4,
 "nbformat_minor": 1
}

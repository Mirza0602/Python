{
 "cells": [
  {
   "cell_type": "code",
   "execution_count": 6,
   "metadata": {
    "collapsed": false
   },
   "outputs": [
    {
     "name": "stderr",
     "output_type": "stream",
     "text": [
      "Loading tidyverse: ggplot2\n",
      "Loading tidyverse: tibble\n",
      "Loading tidyverse: tidyr\n",
      "Loading tidyverse: readr\n",
      "Loading tidyverse: purrr\n",
      "Loading tidyverse: dplyr\n",
      "Conflicts with tidy packages ---------------------------------------------------\n",
      "filter(): dplyr, stats\n",
      "lag():    dplyr, stats\n"
     ]
    }
   ],
   "source": [
    "library(tidyverse)"
   ]
  },
  {
   "cell_type": "markdown",
   "metadata": {},
   "source": [
    "mpg is a dataframe\n",
    "\n",
    "xxxJM: How to find out the type of a variable"
   ]
  },
  {
   "cell_type": "code",
   "execution_count": 11,
   "metadata": {
    "collapsed": true
   },
   "outputs": [],
   "source": [
    "?mpg"
   ]
  },
  {
   "cell_type": "code",
   "execution_count": 10,
   "metadata": {
    "collapsed": false
   },
   "outputs": [
    {
     "data": {
      "text/html": [
       "<table>\n",
       "<thead><tr><th scope=col>manufacturer</th><th scope=col>model</th><th scope=col>displ</th><th scope=col>year</th><th scope=col>cyl</th><th scope=col>trans</th><th scope=col>drv</th><th scope=col>cty</th><th scope=col>hwy</th><th scope=col>fl</th><th scope=col>class</th></tr></thead>\n",
       "<tbody>\n",
       "\t<tr><td>audi              </td><td>a4                </td><td>1.8               </td><td>1999              </td><td>4                 </td><td>auto(l5)          </td><td>f                 </td><td>18                </td><td>29                </td><td>p                 </td><td>compact           </td></tr>\n",
       "\t<tr><td>audi              </td><td>a4                </td><td>1.8               </td><td>1999              </td><td>4                 </td><td>manual(m5)        </td><td>f                 </td><td>21                </td><td>29                </td><td>p                 </td><td>compact           </td></tr>\n",
       "\t<tr><td>audi              </td><td>a4                </td><td>2.0               </td><td>2008              </td><td>4                 </td><td>manual(m6)        </td><td>f                 </td><td>20                </td><td>31                </td><td>p                 </td><td>compact           </td></tr>\n",
       "\t<tr><td>audi              </td><td>a4                </td><td>2.0               </td><td>2008              </td><td>4                 </td><td>auto(av)          </td><td>f                 </td><td>21                </td><td>30                </td><td>p                 </td><td>compact           </td></tr>\n",
       "\t<tr><td>audi              </td><td>a4                </td><td>2.8               </td><td>1999              </td><td>6                 </td><td>auto(l5)          </td><td>f                 </td><td>16                </td><td>26                </td><td>p                 </td><td>compact           </td></tr>\n",
       "\t<tr><td>audi              </td><td>a4                </td><td>2.8               </td><td>1999              </td><td>6                 </td><td>manual(m5)        </td><td>f                 </td><td>18                </td><td>26                </td><td>p                 </td><td>compact           </td></tr>\n",
       "\t<tr><td>audi              </td><td>a4                </td><td>3.1               </td><td>2008              </td><td>6                 </td><td>auto(av)          </td><td>f                 </td><td>18                </td><td>27                </td><td>p                 </td><td>compact           </td></tr>\n",
       "\t<tr><td>audi              </td><td>a4 quattro        </td><td>1.8               </td><td>1999              </td><td>4                 </td><td>manual(m5)        </td><td>4                 </td><td>18                </td><td>26                </td><td>p                 </td><td>compact           </td></tr>\n",
       "\t<tr><td>audi              </td><td>a4 quattro        </td><td>1.8               </td><td>1999              </td><td>4                 </td><td>auto(l5)          </td><td>4                 </td><td>16                </td><td>25                </td><td>p                 </td><td>compact           </td></tr>\n",
       "\t<tr><td>audi              </td><td>a4 quattro        </td><td>2.0               </td><td>2008              </td><td>4                 </td><td>manual(m6)        </td><td>4                 </td><td>20                </td><td>28                </td><td>p                 </td><td>compact           </td></tr>\n",
       "\t<tr><td>audi              </td><td>a4 quattro        </td><td>2.0               </td><td>2008              </td><td>4                 </td><td>auto(s6)          </td><td>4                 </td><td>19                </td><td>27                </td><td>p                 </td><td>compact           </td></tr>\n",
       "\t<tr><td>audi              </td><td>a4 quattro        </td><td>2.8               </td><td>1999              </td><td>6                 </td><td>auto(l5)          </td><td>4                 </td><td>15                </td><td>25                </td><td>p                 </td><td>compact           </td></tr>\n",
       "\t<tr><td>audi              </td><td>a4 quattro        </td><td>2.8               </td><td>1999              </td><td>6                 </td><td>manual(m5)        </td><td>4                 </td><td>17                </td><td>25                </td><td>p                 </td><td>compact           </td></tr>\n",
       "\t<tr><td>audi              </td><td>a4 quattro        </td><td>3.1               </td><td>2008              </td><td>6                 </td><td>auto(s6)          </td><td>4                 </td><td>17                </td><td>25                </td><td>p                 </td><td>compact           </td></tr>\n",
       "\t<tr><td>audi              </td><td>a4 quattro        </td><td>3.1               </td><td>2008              </td><td>6                 </td><td>manual(m6)        </td><td>4                 </td><td>15                </td><td>25                </td><td>p                 </td><td>compact           </td></tr>\n",
       "\t<tr><td>audi              </td><td>a6 quattro        </td><td>2.8               </td><td>1999              </td><td>6                 </td><td>auto(l5)          </td><td>4                 </td><td>15                </td><td>24                </td><td>p                 </td><td>midsize           </td></tr>\n",
       "\t<tr><td>audi              </td><td>a6 quattro        </td><td>3.1               </td><td>2008              </td><td>6                 </td><td>auto(s6)          </td><td>4                 </td><td>17                </td><td>25                </td><td>p                 </td><td>midsize           </td></tr>\n",
       "\t<tr><td>audi              </td><td>a6 quattro        </td><td>4.2               </td><td>2008              </td><td>8                 </td><td>auto(s6)          </td><td>4                 </td><td>16                </td><td>23                </td><td>p                 </td><td>midsize           </td></tr>\n",
       "\t<tr><td>chevrolet         </td><td>c1500 suburban 2wd</td><td>5.3               </td><td>2008              </td><td>8                 </td><td>auto(l4)          </td><td>r                 </td><td>14                </td><td>20                </td><td>r                 </td><td>suv               </td></tr>\n",
       "\t<tr><td>chevrolet         </td><td>c1500 suburban 2wd</td><td>5.3               </td><td>2008              </td><td>8                 </td><td>auto(l4)          </td><td>r                 </td><td>11                </td><td>15                </td><td>e                 </td><td>suv               </td></tr>\n",
       "\t<tr><td>chevrolet         </td><td>c1500 suburban 2wd</td><td>5.3               </td><td>2008              </td><td>8                 </td><td>auto(l4)          </td><td>r                 </td><td>14                </td><td>20                </td><td>r                 </td><td>suv               </td></tr>\n",
       "\t<tr><td>chevrolet         </td><td>c1500 suburban 2wd</td><td>5.7               </td><td>1999              </td><td>8                 </td><td>auto(l4)          </td><td>r                 </td><td>13                </td><td>17                </td><td>r                 </td><td>suv               </td></tr>\n",
       "\t<tr><td>chevrolet         </td><td>c1500 suburban 2wd</td><td>6.0               </td><td>2008              </td><td>8                 </td><td>auto(l4)          </td><td>r                 </td><td>12                </td><td>17                </td><td>r                 </td><td>suv               </td></tr>\n",
       "\t<tr><td>chevrolet         </td><td>corvette          </td><td>5.7               </td><td>1999              </td><td>8                 </td><td>manual(m6)        </td><td>r                 </td><td>16                </td><td>26                </td><td>p                 </td><td>2seater           </td></tr>\n",
       "\t<tr><td>chevrolet         </td><td>corvette          </td><td>5.7               </td><td>1999              </td><td>8                 </td><td>auto(l4)          </td><td>r                 </td><td>15                </td><td>23                </td><td>p                 </td><td>2seater           </td></tr>\n",
       "\t<tr><td>chevrolet         </td><td>corvette          </td><td>6.2               </td><td>2008              </td><td>8                 </td><td>manual(m6)        </td><td>r                 </td><td>16                </td><td>26                </td><td>p                 </td><td>2seater           </td></tr>\n",
       "\t<tr><td>chevrolet         </td><td>corvette          </td><td>6.2               </td><td>2008              </td><td>8                 </td><td>auto(s6)          </td><td>r                 </td><td>15                </td><td>25                </td><td>p                 </td><td>2seater           </td></tr>\n",
       "\t<tr><td>chevrolet         </td><td>corvette          </td><td>7.0               </td><td>2008              </td><td>8                 </td><td>manual(m6)        </td><td>r                 </td><td>15                </td><td>24                </td><td>p                 </td><td>2seater           </td></tr>\n",
       "\t<tr><td>chevrolet         </td><td>k1500 tahoe 4wd   </td><td>5.3               </td><td>2008              </td><td>8                 </td><td>auto(l4)          </td><td>4                 </td><td>14                </td><td>19                </td><td>r                 </td><td>suv               </td></tr>\n",
       "\t<tr><td>chevrolet         </td><td>k1500 tahoe 4wd   </td><td>5.3               </td><td>2008              </td><td>8                 </td><td>auto(l4)          </td><td>4                 </td><td>11                </td><td>14                </td><td>e                 </td><td>suv               </td></tr>\n",
       "\t<tr><td>⋮</td><td>⋮</td><td>⋮</td><td>⋮</td><td>⋮</td><td>⋮</td><td>⋮</td><td>⋮</td><td>⋮</td><td>⋮</td><td>⋮</td></tr>\n",
       "\t<tr><td>toyota           </td><td>toyota tacoma 4wd</td><td>3.4              </td><td>1999             </td><td>6                </td><td>auto(l4)         </td><td>4                </td><td>15               </td><td>19               </td><td>r                </td><td>pickup           </td></tr>\n",
       "\t<tr><td>toyota           </td><td>toyota tacoma 4wd</td><td>4.0              </td><td>2008             </td><td>6                </td><td>manual(m6)       </td><td>4                </td><td>15               </td><td>18               </td><td>r                </td><td>pickup           </td></tr>\n",
       "\t<tr><td>toyota           </td><td>toyota tacoma 4wd</td><td>4.0              </td><td>2008             </td><td>6                </td><td>auto(l5)         </td><td>4                </td><td>16               </td><td>20               </td><td>r                </td><td>pickup           </td></tr>\n",
       "\t<tr><td>volkswagen       </td><td>gti              </td><td>2.0              </td><td>1999             </td><td>4                </td><td>manual(m5)       </td><td>f                </td><td>21               </td><td>29               </td><td>r                </td><td>compact          </td></tr>\n",
       "\t<tr><td>volkswagen       </td><td>gti              </td><td>2.0              </td><td>1999             </td><td>4                </td><td>auto(l4)         </td><td>f                </td><td>19               </td><td>26               </td><td>r                </td><td>compact          </td></tr>\n",
       "\t<tr><td>volkswagen       </td><td>gti              </td><td>2.0              </td><td>2008             </td><td>4                </td><td>manual(m6)       </td><td>f                </td><td>21               </td><td>29               </td><td>p                </td><td>compact          </td></tr>\n",
       "\t<tr><td>volkswagen       </td><td>gti              </td><td>2.0              </td><td>2008             </td><td>4                </td><td>auto(s6)         </td><td>f                </td><td>22               </td><td>29               </td><td>p                </td><td>compact          </td></tr>\n",
       "\t<tr><td>volkswagen       </td><td>gti              </td><td>2.8              </td><td>1999             </td><td>6                </td><td>manual(m5)       </td><td>f                </td><td>17               </td><td>24               </td><td>r                </td><td>compact          </td></tr>\n",
       "\t<tr><td>volkswagen       </td><td>jetta            </td><td>1.9              </td><td>1999             </td><td>4                </td><td>manual(m5)       </td><td>f                </td><td>33               </td><td>44               </td><td>d                </td><td>compact          </td></tr>\n",
       "\t<tr><td>volkswagen       </td><td>jetta            </td><td>2.0              </td><td>1999             </td><td>4                </td><td>manual(m5)       </td><td>f                </td><td>21               </td><td>29               </td><td>r                </td><td>compact          </td></tr>\n",
       "\t<tr><td>volkswagen       </td><td>jetta            </td><td>2.0              </td><td>1999             </td><td>4                </td><td>auto(l4)         </td><td>f                </td><td>19               </td><td>26               </td><td>r                </td><td>compact          </td></tr>\n",
       "\t<tr><td>volkswagen       </td><td>jetta            </td><td>2.0              </td><td>2008             </td><td>4                </td><td>auto(s6)         </td><td>f                </td><td>22               </td><td>29               </td><td>p                </td><td>compact          </td></tr>\n",
       "\t<tr><td>volkswagen       </td><td>jetta            </td><td>2.0              </td><td>2008             </td><td>4                </td><td>manual(m6)       </td><td>f                </td><td>21               </td><td>29               </td><td>p                </td><td>compact          </td></tr>\n",
       "\t<tr><td>volkswagen       </td><td>jetta            </td><td>2.5              </td><td>2008             </td><td>5                </td><td>auto(s6)         </td><td>f                </td><td>21               </td><td>29               </td><td>r                </td><td>compact          </td></tr>\n",
       "\t<tr><td>volkswagen       </td><td>jetta            </td><td>2.5              </td><td>2008             </td><td>5                </td><td>manual(m5)       </td><td>f                </td><td>21               </td><td>29               </td><td>r                </td><td>compact          </td></tr>\n",
       "\t<tr><td>volkswagen       </td><td>jetta            </td><td>2.8              </td><td>1999             </td><td>6                </td><td>auto(l4)         </td><td>f                </td><td>16               </td><td>23               </td><td>r                </td><td>compact          </td></tr>\n",
       "\t<tr><td>volkswagen       </td><td>jetta            </td><td>2.8              </td><td>1999             </td><td>6                </td><td>manual(m5)       </td><td>f                </td><td>17               </td><td>24               </td><td>r                </td><td>compact          </td></tr>\n",
       "\t<tr><td>volkswagen       </td><td>new beetle       </td><td>1.9              </td><td>1999             </td><td>4                </td><td>manual(m5)       </td><td>f                </td><td>35               </td><td>44               </td><td>d                </td><td>subcompact       </td></tr>\n",
       "\t<tr><td>volkswagen       </td><td>new beetle       </td><td>1.9              </td><td>1999             </td><td>4                </td><td>auto(l4)         </td><td>f                </td><td>29               </td><td>41               </td><td>d                </td><td>subcompact       </td></tr>\n",
       "\t<tr><td>volkswagen       </td><td>new beetle       </td><td>2.0              </td><td>1999             </td><td>4                </td><td>manual(m5)       </td><td>f                </td><td>21               </td><td>29               </td><td>r                </td><td>subcompact       </td></tr>\n",
       "\t<tr><td>volkswagen       </td><td>new beetle       </td><td>2.0              </td><td>1999             </td><td>4                </td><td>auto(l4)         </td><td>f                </td><td>19               </td><td>26               </td><td>r                </td><td>subcompact       </td></tr>\n",
       "\t<tr><td>volkswagen       </td><td>new beetle       </td><td>2.5              </td><td>2008             </td><td>5                </td><td>manual(m5)       </td><td>f                </td><td>20               </td><td>28               </td><td>r                </td><td>subcompact       </td></tr>\n",
       "\t<tr><td>volkswagen       </td><td>new beetle       </td><td>2.5              </td><td>2008             </td><td>5                </td><td>auto(s6)         </td><td>f                </td><td>20               </td><td>29               </td><td>r                </td><td>subcompact       </td></tr>\n",
       "\t<tr><td>volkswagen       </td><td>passat           </td><td>1.8              </td><td>1999             </td><td>4                </td><td>manual(m5)       </td><td>f                </td><td>21               </td><td>29               </td><td>p                </td><td>midsize          </td></tr>\n",
       "\t<tr><td>volkswagen       </td><td>passat           </td><td>1.8              </td><td>1999             </td><td>4                </td><td>auto(l5)         </td><td>f                </td><td>18               </td><td>29               </td><td>p                </td><td>midsize          </td></tr>\n",
       "\t<tr><td>volkswagen       </td><td>passat           </td><td>2.0              </td><td>2008             </td><td>4                </td><td>auto(s6)         </td><td>f                </td><td>19               </td><td>28               </td><td>p                </td><td>midsize          </td></tr>\n",
       "\t<tr><td>volkswagen       </td><td>passat           </td><td>2.0              </td><td>2008             </td><td>4                </td><td>manual(m6)       </td><td>f                </td><td>21               </td><td>29               </td><td>p                </td><td>midsize          </td></tr>\n",
       "\t<tr><td>volkswagen       </td><td>passat           </td><td>2.8              </td><td>1999             </td><td>6                </td><td>auto(l5)         </td><td>f                </td><td>16               </td><td>26               </td><td>p                </td><td>midsize          </td></tr>\n",
       "\t<tr><td>volkswagen       </td><td>passat           </td><td>2.8              </td><td>1999             </td><td>6                </td><td>manual(m5)       </td><td>f                </td><td>18               </td><td>26               </td><td>p                </td><td>midsize          </td></tr>\n",
       "\t<tr><td>volkswagen       </td><td>passat           </td><td>3.6              </td><td>2008             </td><td>6                </td><td>auto(s6)         </td><td>f                </td><td>17               </td><td>26               </td><td>p                </td><td>midsize          </td></tr>\n",
       "</tbody>\n",
       "</table>\n"
      ],
      "text/latex": [
       "\\begin{tabular}{r|lllllllllll}\n",
       " manufacturer & model & displ & year & cyl & trans & drv & cty & hwy & fl & class\\\\\n",
       "\\hline\n",
       "\t audi               & a4                 & 1.8                & 1999               & 4                  & auto(l5)           & f                  & 18                 & 29                 & p                  & compact           \\\\\n",
       "\t audi               & a4                 & 1.8                & 1999               & 4                  & manual(m5)         & f                  & 21                 & 29                 & p                  & compact           \\\\\n",
       "\t audi               & a4                 & 2.0                & 2008               & 4                  & manual(m6)         & f                  & 20                 & 31                 & p                  & compact           \\\\\n",
       "\t audi               & a4                 & 2.0                & 2008               & 4                  & auto(av)           & f                  & 21                 & 30                 & p                  & compact           \\\\\n",
       "\t audi               & a4                 & 2.8                & 1999               & 6                  & auto(l5)           & f                  & 16                 & 26                 & p                  & compact           \\\\\n",
       "\t audi               & a4                 & 2.8                & 1999               & 6                  & manual(m5)         & f                  & 18                 & 26                 & p                  & compact           \\\\\n",
       "\t audi               & a4                 & 3.1                & 2008               & 6                  & auto(av)           & f                  & 18                 & 27                 & p                  & compact           \\\\\n",
       "\t audi               & a4 quattro         & 1.8                & 1999               & 4                  & manual(m5)         & 4                  & 18                 & 26                 & p                  & compact           \\\\\n",
       "\t audi               & a4 quattro         & 1.8                & 1999               & 4                  & auto(l5)           & 4                  & 16                 & 25                 & p                  & compact           \\\\\n",
       "\t audi               & a4 quattro         & 2.0                & 2008               & 4                  & manual(m6)         & 4                  & 20                 & 28                 & p                  & compact           \\\\\n",
       "\t audi               & a4 quattro         & 2.0                & 2008               & 4                  & auto(s6)           & 4                  & 19                 & 27                 & p                  & compact           \\\\\n",
       "\t audi               & a4 quattro         & 2.8                & 1999               & 6                  & auto(l5)           & 4                  & 15                 & 25                 & p                  & compact           \\\\\n",
       "\t audi               & a4 quattro         & 2.8                & 1999               & 6                  & manual(m5)         & 4                  & 17                 & 25                 & p                  & compact           \\\\\n",
       "\t audi               & a4 quattro         & 3.1                & 2008               & 6                  & auto(s6)           & 4                  & 17                 & 25                 & p                  & compact           \\\\\n",
       "\t audi               & a4 quattro         & 3.1                & 2008               & 6                  & manual(m6)         & 4                  & 15                 & 25                 & p                  & compact           \\\\\n",
       "\t audi               & a6 quattro         & 2.8                & 1999               & 6                  & auto(l5)           & 4                  & 15                 & 24                 & p                  & midsize           \\\\\n",
       "\t audi               & a6 quattro         & 3.1                & 2008               & 6                  & auto(s6)           & 4                  & 17                 & 25                 & p                  & midsize           \\\\\n",
       "\t audi               & a6 quattro         & 4.2                & 2008               & 8                  & auto(s6)           & 4                  & 16                 & 23                 & p                  & midsize           \\\\\n",
       "\t chevrolet          & c1500 suburban 2wd & 5.3                & 2008               & 8                  & auto(l4)           & r                  & 14                 & 20                 & r                  & suv               \\\\\n",
       "\t chevrolet          & c1500 suburban 2wd & 5.3                & 2008               & 8                  & auto(l4)           & r                  & 11                 & 15                 & e                  & suv               \\\\\n",
       "\t chevrolet          & c1500 suburban 2wd & 5.3                & 2008               & 8                  & auto(l4)           & r                  & 14                 & 20                 & r                  & suv               \\\\\n",
       "\t chevrolet          & c1500 suburban 2wd & 5.7                & 1999               & 8                  & auto(l4)           & r                  & 13                 & 17                 & r                  & suv               \\\\\n",
       "\t chevrolet          & c1500 suburban 2wd & 6.0                & 2008               & 8                  & auto(l4)           & r                  & 12                 & 17                 & r                  & suv               \\\\\n",
       "\t chevrolet          & corvette           & 5.7                & 1999               & 8                  & manual(m6)         & r                  & 16                 & 26                 & p                  & 2seater           \\\\\n",
       "\t chevrolet          & corvette           & 5.7                & 1999               & 8                  & auto(l4)           & r                  & 15                 & 23                 & p                  & 2seater           \\\\\n",
       "\t chevrolet          & corvette           & 6.2                & 2008               & 8                  & manual(m6)         & r                  & 16                 & 26                 & p                  & 2seater           \\\\\n",
       "\t chevrolet          & corvette           & 6.2                & 2008               & 8                  & auto(s6)           & r                  & 15                 & 25                 & p                  & 2seater           \\\\\n",
       "\t chevrolet          & corvette           & 7.0                & 2008               & 8                  & manual(m6)         & r                  & 15                 & 24                 & p                  & 2seater           \\\\\n",
       "\t chevrolet          & k1500 tahoe 4wd    & 5.3                & 2008               & 8                  & auto(l4)           & 4                  & 14                 & 19                 & r                  & suv               \\\\\n",
       "\t chevrolet          & k1500 tahoe 4wd    & 5.3                & 2008               & 8                  & auto(l4)           & 4                  & 11                 & 14                 & e                  & suv               \\\\\n",
       "\t ⋮ & ⋮ & ⋮ & ⋮ & ⋮ & ⋮ & ⋮ & ⋮ & ⋮ & ⋮ & ⋮\\\\\n",
       "\t toyota            & toyota tacoma 4wd & 3.4               & 1999              & 6                 & auto(l4)          & 4                 & 15                & 19                & r                 & pickup           \\\\\n",
       "\t toyota            & toyota tacoma 4wd & 4.0               & 2008              & 6                 & manual(m6)        & 4                 & 15                & 18                & r                 & pickup           \\\\\n",
       "\t toyota            & toyota tacoma 4wd & 4.0               & 2008              & 6                 & auto(l5)          & 4                 & 16                & 20                & r                 & pickup           \\\\\n",
       "\t volkswagen        & gti               & 2.0               & 1999              & 4                 & manual(m5)        & f                 & 21                & 29                & r                 & compact          \\\\\n",
       "\t volkswagen        & gti               & 2.0               & 1999              & 4                 & auto(l4)          & f                 & 19                & 26                & r                 & compact          \\\\\n",
       "\t volkswagen        & gti               & 2.0               & 2008              & 4                 & manual(m6)        & f                 & 21                & 29                & p                 & compact          \\\\\n",
       "\t volkswagen        & gti               & 2.0               & 2008              & 4                 & auto(s6)          & f                 & 22                & 29                & p                 & compact          \\\\\n",
       "\t volkswagen        & gti               & 2.8               & 1999              & 6                 & manual(m5)        & f                 & 17                & 24                & r                 & compact          \\\\\n",
       "\t volkswagen        & jetta             & 1.9               & 1999              & 4                 & manual(m5)        & f                 & 33                & 44                & d                 & compact          \\\\\n",
       "\t volkswagen        & jetta             & 2.0               & 1999              & 4                 & manual(m5)        & f                 & 21                & 29                & r                 & compact          \\\\\n",
       "\t volkswagen        & jetta             & 2.0               & 1999              & 4                 & auto(l4)          & f                 & 19                & 26                & r                 & compact          \\\\\n",
       "\t volkswagen        & jetta             & 2.0               & 2008              & 4                 & auto(s6)          & f                 & 22                & 29                & p                 & compact          \\\\\n",
       "\t volkswagen        & jetta             & 2.0               & 2008              & 4                 & manual(m6)        & f                 & 21                & 29                & p                 & compact          \\\\\n",
       "\t volkswagen        & jetta             & 2.5               & 2008              & 5                 & auto(s6)          & f                 & 21                & 29                & r                 & compact          \\\\\n",
       "\t volkswagen        & jetta             & 2.5               & 2008              & 5                 & manual(m5)        & f                 & 21                & 29                & r                 & compact          \\\\\n",
       "\t volkswagen        & jetta             & 2.8               & 1999              & 6                 & auto(l4)          & f                 & 16                & 23                & r                 & compact          \\\\\n",
       "\t volkswagen        & jetta             & 2.8               & 1999              & 6                 & manual(m5)        & f                 & 17                & 24                & r                 & compact          \\\\\n",
       "\t volkswagen        & new beetle        & 1.9               & 1999              & 4                 & manual(m5)        & f                 & 35                & 44                & d                 & subcompact       \\\\\n",
       "\t volkswagen        & new beetle        & 1.9               & 1999              & 4                 & auto(l4)          & f                 & 29                & 41                & d                 & subcompact       \\\\\n",
       "\t volkswagen        & new beetle        & 2.0               & 1999              & 4                 & manual(m5)        & f                 & 21                & 29                & r                 & subcompact       \\\\\n",
       "\t volkswagen        & new beetle        & 2.0               & 1999              & 4                 & auto(l4)          & f                 & 19                & 26                & r                 & subcompact       \\\\\n",
       "\t volkswagen        & new beetle        & 2.5               & 2008              & 5                 & manual(m5)        & f                 & 20                & 28                & r                 & subcompact       \\\\\n",
       "\t volkswagen        & new beetle        & 2.5               & 2008              & 5                 & auto(s6)          & f                 & 20                & 29                & r                 & subcompact       \\\\\n",
       "\t volkswagen        & passat            & 1.8               & 1999              & 4                 & manual(m5)        & f                 & 21                & 29                & p                 & midsize          \\\\\n",
       "\t volkswagen        & passat            & 1.8               & 1999              & 4                 & auto(l5)          & f                 & 18                & 29                & p                 & midsize          \\\\\n",
       "\t volkswagen        & passat            & 2.0               & 2008              & 4                 & auto(s6)          & f                 & 19                & 28                & p                 & midsize          \\\\\n",
       "\t volkswagen        & passat            & 2.0               & 2008              & 4                 & manual(m6)        & f                 & 21                & 29                & p                 & midsize          \\\\\n",
       "\t volkswagen        & passat            & 2.8               & 1999              & 6                 & auto(l5)          & f                 & 16                & 26                & p                 & midsize          \\\\\n",
       "\t volkswagen        & passat            & 2.8               & 1999              & 6                 & manual(m5)        & f                 & 18                & 26                & p                 & midsize          \\\\\n",
       "\t volkswagen        & passat            & 3.6               & 2008              & 6                 & auto(s6)          & f                 & 17                & 26                & p                 & midsize          \\\\\n",
       "\\end{tabular}\n"
      ],
      "text/markdown": [
       "\n",
       "manufacturer | model | displ | year | cyl | trans | drv | cty | hwy | fl | class | \n",
       "|---|---|---|---|---|---|---|---|---|---|---|---|---|---|---|---|---|---|---|---|---|---|---|---|---|---|---|---|---|---|---|---|---|---|---|---|---|---|---|---|---|---|---|---|---|---|---|---|---|---|---|---|---|---|---|---|---|---|---|---|---|\n",
       "| audi               | a4                 | 1.8                | 1999               | 4                  | auto(l5)           | f                  | 18                 | 29                 | p                  | compact            | \n",
       "| audi               | a4                 | 1.8                | 1999               | 4                  | manual(m5)         | f                  | 21                 | 29                 | p                  | compact            | \n",
       "| audi               | a4                 | 2.0                | 2008               | 4                  | manual(m6)         | f                  | 20                 | 31                 | p                  | compact            | \n",
       "| audi               | a4                 | 2.0                | 2008               | 4                  | auto(av)           | f                  | 21                 | 30                 | p                  | compact            | \n",
       "| audi               | a4                 | 2.8                | 1999               | 6                  | auto(l5)           | f                  | 16                 | 26                 | p                  | compact            | \n",
       "| audi               | a4                 | 2.8                | 1999               | 6                  | manual(m5)         | f                  | 18                 | 26                 | p                  | compact            | \n",
       "| audi               | a4                 | 3.1                | 2008               | 6                  | auto(av)           | f                  | 18                 | 27                 | p                  | compact            | \n",
       "| audi               | a4 quattro         | 1.8                | 1999               | 4                  | manual(m5)         | 4                  | 18                 | 26                 | p                  | compact            | \n",
       "| audi               | a4 quattro         | 1.8                | 1999               | 4                  | auto(l5)           | 4                  | 16                 | 25                 | p                  | compact            | \n",
       "| audi               | a4 quattro         | 2.0                | 2008               | 4                  | manual(m6)         | 4                  | 20                 | 28                 | p                  | compact            | \n",
       "| audi               | a4 quattro         | 2.0                | 2008               | 4                  | auto(s6)           | 4                  | 19                 | 27                 | p                  | compact            | \n",
       "| audi               | a4 quattro         | 2.8                | 1999               | 6                  | auto(l5)           | 4                  | 15                 | 25                 | p                  | compact            | \n",
       "| audi               | a4 quattro         | 2.8                | 1999               | 6                  | manual(m5)         | 4                  | 17                 | 25                 | p                  | compact            | \n",
       "| audi               | a4 quattro         | 3.1                | 2008               | 6                  | auto(s6)           | 4                  | 17                 | 25                 | p                  | compact            | \n",
       "| audi               | a4 quattro         | 3.1                | 2008               | 6                  | manual(m6)         | 4                  | 15                 | 25                 | p                  | compact            | \n",
       "| audi               | a6 quattro         | 2.8                | 1999               | 6                  | auto(l5)           | 4                  | 15                 | 24                 | p                  | midsize            | \n",
       "| audi               | a6 quattro         | 3.1                | 2008               | 6                  | auto(s6)           | 4                  | 17                 | 25                 | p                  | midsize            | \n",
       "| audi               | a6 quattro         | 4.2                | 2008               | 8                  | auto(s6)           | 4                  | 16                 | 23                 | p                  | midsize            | \n",
       "| chevrolet          | c1500 suburban 2wd | 5.3                | 2008               | 8                  | auto(l4)           | r                  | 14                 | 20                 | r                  | suv                | \n",
       "| chevrolet          | c1500 suburban 2wd | 5.3                | 2008               | 8                  | auto(l4)           | r                  | 11                 | 15                 | e                  | suv                | \n",
       "| chevrolet          | c1500 suburban 2wd | 5.3                | 2008               | 8                  | auto(l4)           | r                  | 14                 | 20                 | r                  | suv                | \n",
       "| chevrolet          | c1500 suburban 2wd | 5.7                | 1999               | 8                  | auto(l4)           | r                  | 13                 | 17                 | r                  | suv                | \n",
       "| chevrolet          | c1500 suburban 2wd | 6.0                | 2008               | 8                  | auto(l4)           | r                  | 12                 | 17                 | r                  | suv                | \n",
       "| chevrolet          | corvette           | 5.7                | 1999               | 8                  | manual(m6)         | r                  | 16                 | 26                 | p                  | 2seater            | \n",
       "| chevrolet          | corvette           | 5.7                | 1999               | 8                  | auto(l4)           | r                  | 15                 | 23                 | p                  | 2seater            | \n",
       "| chevrolet          | corvette           | 6.2                | 2008               | 8                  | manual(m6)         | r                  | 16                 | 26                 | p                  | 2seater            | \n",
       "| chevrolet          | corvette           | 6.2                | 2008               | 8                  | auto(s6)           | r                  | 15                 | 25                 | p                  | 2seater            | \n",
       "| chevrolet          | corvette           | 7.0                | 2008               | 8                  | manual(m6)         | r                  | 15                 | 24                 | p                  | 2seater            | \n",
       "| chevrolet          | k1500 tahoe 4wd    | 5.3                | 2008               | 8                  | auto(l4)           | 4                  | 14                 | 19                 | r                  | suv                | \n",
       "| chevrolet          | k1500 tahoe 4wd    | 5.3                | 2008               | 8                  | auto(l4)           | 4                  | 11                 | 14                 | e                  | suv                | \n",
       "| ⋮ | ⋮ | ⋮ | ⋮ | ⋮ | ⋮ | ⋮ | ⋮ | ⋮ | ⋮ | ⋮ | \n",
       "| toyota            | toyota tacoma 4wd | 3.4               | 1999              | 6                 | auto(l4)          | 4                 | 15                | 19                | r                 | pickup            | \n",
       "| toyota            | toyota tacoma 4wd | 4.0               | 2008              | 6                 | manual(m6)        | 4                 | 15                | 18                | r                 | pickup            | \n",
       "| toyota            | toyota tacoma 4wd | 4.0               | 2008              | 6                 | auto(l5)          | 4                 | 16                | 20                | r                 | pickup            | \n",
       "| volkswagen        | gti               | 2.0               | 1999              | 4                 | manual(m5)        | f                 | 21                | 29                | r                 | compact           | \n",
       "| volkswagen        | gti               | 2.0               | 1999              | 4                 | auto(l4)          | f                 | 19                | 26                | r                 | compact           | \n",
       "| volkswagen        | gti               | 2.0               | 2008              | 4                 | manual(m6)        | f                 | 21                | 29                | p                 | compact           | \n",
       "| volkswagen        | gti               | 2.0               | 2008              | 4                 | auto(s6)          | f                 | 22                | 29                | p                 | compact           | \n",
       "| volkswagen        | gti               | 2.8               | 1999              | 6                 | manual(m5)        | f                 | 17                | 24                | r                 | compact           | \n",
       "| volkswagen        | jetta             | 1.9               | 1999              | 4                 | manual(m5)        | f                 | 33                | 44                | d                 | compact           | \n",
       "| volkswagen        | jetta             | 2.0               | 1999              | 4                 | manual(m5)        | f                 | 21                | 29                | r                 | compact           | \n",
       "| volkswagen        | jetta             | 2.0               | 1999              | 4                 | auto(l4)          | f                 | 19                | 26                | r                 | compact           | \n",
       "| volkswagen        | jetta             | 2.0               | 2008              | 4                 | auto(s6)          | f                 | 22                | 29                | p                 | compact           | \n",
       "| volkswagen        | jetta             | 2.0               | 2008              | 4                 | manual(m6)        | f                 | 21                | 29                | p                 | compact           | \n",
       "| volkswagen        | jetta             | 2.5               | 2008              | 5                 | auto(s6)          | f                 | 21                | 29                | r                 | compact           | \n",
       "| volkswagen        | jetta             | 2.5               | 2008              | 5                 | manual(m5)        | f                 | 21                | 29                | r                 | compact           | \n",
       "| volkswagen        | jetta             | 2.8               | 1999              | 6                 | auto(l4)          | f                 | 16                | 23                | r                 | compact           | \n",
       "| volkswagen        | jetta             | 2.8               | 1999              | 6                 | manual(m5)        | f                 | 17                | 24                | r                 | compact           | \n",
       "| volkswagen        | new beetle        | 1.9               | 1999              | 4                 | manual(m5)        | f                 | 35                | 44                | d                 | subcompact        | \n",
       "| volkswagen        | new beetle        | 1.9               | 1999              | 4                 | auto(l4)          | f                 | 29                | 41                | d                 | subcompact        | \n",
       "| volkswagen        | new beetle        | 2.0               | 1999              | 4                 | manual(m5)        | f                 | 21                | 29                | r                 | subcompact        | \n",
       "| volkswagen        | new beetle        | 2.0               | 1999              | 4                 | auto(l4)          | f                 | 19                | 26                | r                 | subcompact        | \n",
       "| volkswagen        | new beetle        | 2.5               | 2008              | 5                 | manual(m5)        | f                 | 20                | 28                | r                 | subcompact        | \n",
       "| volkswagen        | new beetle        | 2.5               | 2008              | 5                 | auto(s6)          | f                 | 20                | 29                | r                 | subcompact        | \n",
       "| volkswagen        | passat            | 1.8               | 1999              | 4                 | manual(m5)        | f                 | 21                | 29                | p                 | midsize           | \n",
       "| volkswagen        | passat            | 1.8               | 1999              | 4                 | auto(l5)          | f                 | 18                | 29                | p                 | midsize           | \n",
       "| volkswagen        | passat            | 2.0               | 2008              | 4                 | auto(s6)          | f                 | 19                | 28                | p                 | midsize           | \n",
       "| volkswagen        | passat            | 2.0               | 2008              | 4                 | manual(m6)        | f                 | 21                | 29                | p                 | midsize           | \n",
       "| volkswagen        | passat            | 2.8               | 1999              | 6                 | auto(l5)          | f                 | 16                | 26                | p                 | midsize           | \n",
       "| volkswagen        | passat            | 2.8               | 1999              | 6                 | manual(m5)        | f                 | 18                | 26                | p                 | midsize           | \n",
       "| volkswagen        | passat            | 3.6               | 2008              | 6                 | auto(s6)          | f                 | 17                | 26                | p                 | midsize           | \n",
       "\n",
       "\n"
      ],
      "text/plain": [
       "    manufacturer model              displ year cyl trans      drv cty hwy fl\n",
       "1   audi         a4                 1.8   1999 4   auto(l5)   f   18  29  p \n",
       "2   audi         a4                 1.8   1999 4   manual(m5) f   21  29  p \n",
       "3   audi         a4                 2.0   2008 4   manual(m6) f   20  31  p \n",
       "4   audi         a4                 2.0   2008 4   auto(av)   f   21  30  p \n",
       "5   audi         a4                 2.8   1999 6   auto(l5)   f   16  26  p \n",
       "6   audi         a4                 2.8   1999 6   manual(m5) f   18  26  p \n",
       "7   audi         a4                 3.1   2008 6   auto(av)   f   18  27  p \n",
       "8   audi         a4 quattro         1.8   1999 4   manual(m5) 4   18  26  p \n",
       "9   audi         a4 quattro         1.8   1999 4   auto(l5)   4   16  25  p \n",
       "10  audi         a4 quattro         2.0   2008 4   manual(m6) 4   20  28  p \n",
       "11  audi         a4 quattro         2.0   2008 4   auto(s6)   4   19  27  p \n",
       "12  audi         a4 quattro         2.8   1999 6   auto(l5)   4   15  25  p \n",
       "13  audi         a4 quattro         2.8   1999 6   manual(m5) 4   17  25  p \n",
       "14  audi         a4 quattro         3.1   2008 6   auto(s6)   4   17  25  p \n",
       "15  audi         a4 quattro         3.1   2008 6   manual(m6) 4   15  25  p \n",
       "16  audi         a6 quattro         2.8   1999 6   auto(l5)   4   15  24  p \n",
       "17  audi         a6 quattro         3.1   2008 6   auto(s6)   4   17  25  p \n",
       "18  audi         a6 quattro         4.2   2008 8   auto(s6)   4   16  23  p \n",
       "19  chevrolet    c1500 suburban 2wd 5.3   2008 8   auto(l4)   r   14  20  r \n",
       "20  chevrolet    c1500 suburban 2wd 5.3   2008 8   auto(l4)   r   11  15  e \n",
       "21  chevrolet    c1500 suburban 2wd 5.3   2008 8   auto(l4)   r   14  20  r \n",
       "22  chevrolet    c1500 suburban 2wd 5.7   1999 8   auto(l4)   r   13  17  r \n",
       "23  chevrolet    c1500 suburban 2wd 6.0   2008 8   auto(l4)   r   12  17  r \n",
       "24  chevrolet    corvette           5.7   1999 8   manual(m6) r   16  26  p \n",
       "25  chevrolet    corvette           5.7   1999 8   auto(l4)   r   15  23  p \n",
       "26  chevrolet    corvette           6.2   2008 8   manual(m6) r   16  26  p \n",
       "27  chevrolet    corvette           6.2   2008 8   auto(s6)   r   15  25  p \n",
       "28  chevrolet    corvette           7.0   2008 8   manual(m6) r   15  24  p \n",
       "29  chevrolet    k1500 tahoe 4wd    5.3   2008 8   auto(l4)   4   14  19  r \n",
       "30  chevrolet    k1500 tahoe 4wd    5.3   2008 8   auto(l4)   4   11  14  e \n",
       "⋮   ⋮            ⋮                  ⋮     ⋮    ⋮   ⋮          ⋮   ⋮   ⋮   ⋮ \n",
       "205 toyota       toyota tacoma 4wd  3.4   1999 6   auto(l4)   4   15  19  r \n",
       "206 toyota       toyota tacoma 4wd  4.0   2008 6   manual(m6) 4   15  18  r \n",
       "207 toyota       toyota tacoma 4wd  4.0   2008 6   auto(l5)   4   16  20  r \n",
       "208 volkswagen   gti                2.0   1999 4   manual(m5) f   21  29  r \n",
       "209 volkswagen   gti                2.0   1999 4   auto(l4)   f   19  26  r \n",
       "210 volkswagen   gti                2.0   2008 4   manual(m6) f   21  29  p \n",
       "211 volkswagen   gti                2.0   2008 4   auto(s6)   f   22  29  p \n",
       "212 volkswagen   gti                2.8   1999 6   manual(m5) f   17  24  r \n",
       "213 volkswagen   jetta              1.9   1999 4   manual(m5) f   33  44  d \n",
       "214 volkswagen   jetta              2.0   1999 4   manual(m5) f   21  29  r \n",
       "215 volkswagen   jetta              2.0   1999 4   auto(l4)   f   19  26  r \n",
       "216 volkswagen   jetta              2.0   2008 4   auto(s6)   f   22  29  p \n",
       "217 volkswagen   jetta              2.0   2008 4   manual(m6) f   21  29  p \n",
       "218 volkswagen   jetta              2.5   2008 5   auto(s6)   f   21  29  r \n",
       "219 volkswagen   jetta              2.5   2008 5   manual(m5) f   21  29  r \n",
       "220 volkswagen   jetta              2.8   1999 6   auto(l4)   f   16  23  r \n",
       "221 volkswagen   jetta              2.8   1999 6   manual(m5) f   17  24  r \n",
       "222 volkswagen   new beetle         1.9   1999 4   manual(m5) f   35  44  d \n",
       "223 volkswagen   new beetle         1.9   1999 4   auto(l4)   f   29  41  d \n",
       "224 volkswagen   new beetle         2.0   1999 4   manual(m5) f   21  29  r \n",
       "225 volkswagen   new beetle         2.0   1999 4   auto(l4)   f   19  26  r \n",
       "226 volkswagen   new beetle         2.5   2008 5   manual(m5) f   20  28  r \n",
       "227 volkswagen   new beetle         2.5   2008 5   auto(s6)   f   20  29  r \n",
       "228 volkswagen   passat             1.8   1999 4   manual(m5) f   21  29  p \n",
       "229 volkswagen   passat             1.8   1999 4   auto(l5)   f   18  29  p \n",
       "230 volkswagen   passat             2.0   2008 4   auto(s6)   f   19  28  p \n",
       "231 volkswagen   passat             2.0   2008 4   manual(m6) f   21  29  p \n",
       "232 volkswagen   passat             2.8   1999 6   auto(l5)   f   16  26  p \n",
       "233 volkswagen   passat             2.8   1999 6   manual(m5) f   18  26  p \n",
       "234 volkswagen   passat             3.6   2008 6   auto(s6)   f   17  26  p \n",
       "    class     \n",
       "1   compact   \n",
       "2   compact   \n",
       "3   compact   \n",
       "4   compact   \n",
       "5   compact   \n",
       "6   compact   \n",
       "7   compact   \n",
       "8   compact   \n",
       "9   compact   \n",
       "10  compact   \n",
       "11  compact   \n",
       "12  compact   \n",
       "13  compact   \n",
       "14  compact   \n",
       "15  compact   \n",
       "16  midsize   \n",
       "17  midsize   \n",
       "18  midsize   \n",
       "19  suv       \n",
       "20  suv       \n",
       "21  suv       \n",
       "22  suv       \n",
       "23  suv       \n",
       "24  2seater   \n",
       "25  2seater   \n",
       "26  2seater   \n",
       "27  2seater   \n",
       "28  2seater   \n",
       "29  suv       \n",
       "30  suv       \n",
       "⋮   ⋮         \n",
       "205 pickup    \n",
       "206 pickup    \n",
       "207 pickup    \n",
       "208 compact   \n",
       "209 compact   \n",
       "210 compact   \n",
       "211 compact   \n",
       "212 compact   \n",
       "213 compact   \n",
       "214 compact   \n",
       "215 compact   \n",
       "216 compact   \n",
       "217 compact   \n",
       "218 compact   \n",
       "219 compact   \n",
       "220 compact   \n",
       "221 compact   \n",
       "222 subcompact\n",
       "223 subcompact\n",
       "224 subcompact\n",
       "225 subcompact\n",
       "226 subcompact\n",
       "227 subcompact\n",
       "228 midsize   \n",
       "229 midsize   \n",
       "230 midsize   \n",
       "231 midsize   \n",
       "232 midsize   \n",
       "233 midsize   \n",
       "234 midsize   "
      ]
     },
     "metadata": {},
     "output_type": "display_data"
    }
   ],
   "source": [
    "mpg"
   ]
  },
  {
   "cell_type": "code",
   "execution_count": 12,
   "metadata": {
    "collapsed": false
   },
   "outputs": [
    {
     "data": {},
     "metadata": {},
     "output_type": "display_data"
    },
    {
     "data": {
      "image/png": "[encoded data removed]",
      "text/plain": [
       "plot without title"
      ]
     },
     "metadata": {},
     "output_type": "display_data"
    }
   ],
   "source": [
    "ggplot(data = mpg) +\n",
    "  geom_point(mapping = aes(x = displ, y = hwy))"
   ]
  },
  {
   "cell_type": "code",
   "execution_count": 3,
   "metadata": {
    "collapsed": false
   },
   "outputs": [
    {
     "data": {
      "text/html": [
       "<ol class=list-inline>\n",
       "\t<li>male</li>\n",
       "\t<li>male</li>\n",
       "\t<li>male</li>\n",
       "\t<li>male</li>\n",
       "\t<li>male</li>\n",
       "\t<li>male</li>\n",
       "\t<li>male</li>\n",
       "\t<li>male</li>\n",
       "\t<li>male</li>\n",
       "\t<li>male</li>\n",
       "\t<li>female</li>\n",
       "\t<li>female</li>\n",
       "\t<li>female</li>\n",
       "\t<li>female</li>\n",
       "\t<li>female</li>\n",
       "\t<li>female</li>\n",
       "\t<li>female</li>\n",
       "\t<li>female</li>\n",
       "\t<li>female</li>\n",
       "\t<li>female</li>\n",
       "</ol>\n"
      ],
      "text/latex": [
       "\\begin{enumerate*}\n",
       "\\item male\n",
       "\\item male\n",
       "\\item male\n",
       "\\item male\n",
       "\\item male\n",
       "\\item male\n",
       "\\item male\n",
       "\\item male\n",
       "\\item male\n",
       "\\item male\n",
       "\\item female\n",
       "\\item female\n",
       "\\item female\n",
       "\\item female\n",
       "\\item female\n",
       "\\item female\n",
       "\\item female\n",
       "\\item female\n",
       "\\item female\n",
       "\\item female\n",
       "\\end{enumerate*}\n"
      ],
      "text/markdown": [
       "1. male\n",
       "2. male\n",
       "3. male\n",
       "4. male\n",
       "5. male\n",
       "6. male\n",
       "7. male\n",
       "8. male\n",
       "9. male\n",
       "10. male\n",
       "11. female\n",
       "12. female\n",
       "13. female\n",
       "14. female\n",
       "15. female\n",
       "16. female\n",
       "17. female\n",
       "18. female\n",
       "19. female\n",
       "20. female\n",
       "\n",
       "\n"
      ],
      "text/plain": [
       " [1] male   male   male   male   male   male   male   male   male   male  \n",
       "[11] female female female female female female female female female female\n",
       "Levels: male female"
      ]
     },
     "metadata": {},
     "output_type": "display_data"
    },
    {
     "data": {
      "text/html": [
       "<ol class=list-inline>\n",
       "\t<li>male</li>\n",
       "\t<li>male</li>\n",
       "\t<li>male</li>\n",
       "\t<li>male</li>\n",
       "\t<li>male</li>\n",
       "\t<li>male</li>\n",
       "\t<li>male</li>\n",
       "\t<li>male</li>\n",
       "\t<li>male</li>\n",
       "\t<li>male</li>\n",
       "\t<li>female</li>\n",
       "\t<li>female</li>\n",
       "\t<li>female</li>\n",
       "\t<li>female</li>\n",
       "\t<li>female</li>\n",
       "\t<li>female</li>\n",
       "\t<li>female</li>\n",
       "\t<li>female</li>\n",
       "\t<li>female</li>\n",
       "\t<li>female</li>\n",
       "</ol>\n"
      ],
      "text/latex": [
       "\\begin{enumerate*}\n",
       "\\item male\n",
       "\\item male\n",
       "\\item male\n",
       "\\item male\n",
       "\\item male\n",
       "\\item male\n",
       "\\item male\n",
       "\\item male\n",
       "\\item male\n",
       "\\item male\n",
       "\\item female\n",
       "\\item female\n",
       "\\item female\n",
       "\\item female\n",
       "\\item female\n",
       "\\item female\n",
       "\\item female\n",
       "\\item female\n",
       "\\item female\n",
       "\\item female\n",
       "\\end{enumerate*}\n"
      ],
      "text/markdown": [
       "1. male\n",
       "2. male\n",
       "3. male\n",
       "4. male\n",
       "5. male\n",
       "6. male\n",
       "7. male\n",
       "8. male\n",
       "9. male\n",
       "10. male\n",
       "11. female\n",
       "12. female\n",
       "13. female\n",
       "14. female\n",
       "15. female\n",
       "16. female\n",
       "17. female\n",
       "18. female\n",
       "19. female\n",
       "20. female\n",
       "\n",
       "\n"
      ],
      "text/plain": [
       " [1] male   male   male   male   male   male   male   male   male   male  \n",
       "[11] female female female female female female female female female female\n",
       "Levels: female male"
      ]
     },
     "metadata": {},
     "output_type": "display_data"
    },
    {
     "data": {
      "text/html": [
       "<table>\n",
       "<tbody>\n",
       "\t<tr><td>4.141593</td><td>6.141593</td><td>8.141593</td></tr>\n",
       "\t<tr><td>5.141593</td><td>7.141593</td><td>9.141593</td></tr>\n",
       "</tbody>\n",
       "</table>\n"
      ],
      "text/latex": [
       "\\begin{tabular}{lll}\n",
       "\t 4.141593 & 6.141593 & 8.141593\\\\\n",
       "\t 5.141593 & 7.141593 & 9.141593\\\\\n",
       "\\end{tabular}\n"
      ],
      "text/markdown": [
       "\n",
       "| 4.141593 | 6.141593 | 8.141593 | \n",
       "| 5.141593 | 7.141593 | 9.141593 | \n",
       "\n",
       "\n"
      ],
      "text/plain": [
       "     [,1]     [,2]     [,3]    \n",
       "[1,] 4.141593 6.141593 8.141593\n",
       "[2,] 5.141593 7.141593 9.141593"
      ]
     },
     "metadata": {},
     "output_type": "display_data"
    },
    {
     "data": {
      "text/html": [
       "<table>\n",
       "<tbody>\n",
       "\t<tr><td>TRUE </td><td>FALSE</td><td>FALSE</td></tr>\n",
       "\t<tr><td>TRUE </td><td>FALSE</td><td>FALSE</td></tr>\n",
       "</tbody>\n",
       "</table>\n"
      ],
      "text/latex": [
       "\\begin{tabular}{lll}\n",
       "\t TRUE  & FALSE & FALSE\\\\\n",
       "\t TRUE  & FALSE & FALSE\\\\\n",
       "\\end{tabular}\n"
      ],
      "text/markdown": [
       "\n",
       "| TRUE  | FALSE | FALSE | \n",
       "| TRUE  | FALSE | FALSE | \n",
       "\n",
       "\n"
      ],
      "text/plain": [
       "     [,1] [,2]  [,3] \n",
       "[1,] TRUE FALSE FALSE\n",
       "[2,] TRUE FALSE FALSE"
      ]
     },
     "metadata": {},
     "output_type": "display_data"
    },
    {
     "data": {
      "text/html": [
       "<ol class=list-inline>\n",
       "\t<li>1</li>\n",
       "\t<li>2</li>\n",
       "\t<li>3</li>\n",
       "\t<li>4</li>\n",
       "\t<li>5</li>\n",
       "\t<li>6</li>\n",
       "\t<li>7</li>\n",
       "\t<li>8</li>\n",
       "\t<li>9</li>\n",
       "\t<li>10</li>\n",
       "\t<li>11</li>\n",
       "\t<li>12</li>\n",
       "\t<li>13</li>\n",
       "\t<li>14</li>\n",
       "\t<li>15</li>\n",
       "\t<li>16</li>\n",
       "\t<li>17</li>\n",
       "\t<li>18</li>\n",
       "\t<li>19</li>\n",
       "\t<li>20</li>\n",
       "\t<li>21</li>\n",
       "\t<li>22</li>\n",
       "\t<li>23</li>\n",
       "\t<li>24</li>\n",
       "</ol>\n"
      ],
      "text/latex": [
       "\\begin{enumerate*}\n",
       "\\item 1\n",
       "\\item 2\n",
       "\\item 3\n",
       "\\item 4\n",
       "\\item 5\n",
       "\\item 6\n",
       "\\item 7\n",
       "\\item 8\n",
       "\\item 9\n",
       "\\item 10\n",
       "\\item 11\n",
       "\\item 12\n",
       "\\item 13\n",
       "\\item 14\n",
       "\\item 15\n",
       "\\item 16\n",
       "\\item 17\n",
       "\\item 18\n",
       "\\item 19\n",
       "\\item 20\n",
       "\\item 21\n",
       "\\item 22\n",
       "\\item 23\n",
       "\\item 24\n",
       "\\end{enumerate*}\n"
      ],
      "text/markdown": [
       "1. 1\n",
       "2. 2\n",
       "3. 3\n",
       "4. 4\n",
       "5. 5\n",
       "6. 6\n",
       "7. 7\n",
       "8. 8\n",
       "9. 9\n",
       "10. 10\n",
       "11. 11\n",
       "12. 12\n",
       "13. 13\n",
       "14. 14\n",
       "15. 15\n",
       "16. 16\n",
       "17. 17\n",
       "18. 18\n",
       "19. 19\n",
       "20. 20\n",
       "21. 21\n",
       "22. 22\n",
       "23. 23\n",
       "24. 24\n",
       "\n",
       "\n"
      ],
      "text/plain": [
       ", , 1\n",
       "\n",
       "     [,1] [,2] [,3]\n",
       "[1,]    1    5    9\n",
       "[2,]    2    6   10\n",
       "[3,]    3    7   11\n",
       "[4,]    4    8   12\n",
       "\n",
       ", , 2\n",
       "\n",
       "     [,1] [,2] [,3]\n",
       "[1,]   13   17   21\n",
       "[2,]   14   18   22\n",
       "[3,]   15   19   23\n",
       "[4,]   16   20   24\n"
      ]
     },
     "metadata": {},
     "output_type": "display_data"
    }
   ],
   "source": [
    "#Factor\n",
    "\n",
    "gl(2,10, labels=c(\"male\", \"female\"))\n",
    "as.factor(c(rep(\"male\",10),rep(\"female\",10)))\n",
    "\n",
    "#Matrix and arrays\n",
    "\n",
    "matrix(c(1,2,3,4,5,6)+pi,nrow=2)\n",
    "matrix(c(1,2,3,4,5,6)+pi,nrow=2)<6\n",
    "\n",
    "array(c(1:24), dim=c(4,3,2))"
   ]
  },
  {
   "cell_type": "code",
   "execution_count": 4,
   "metadata": {
    "collapsed": false
   },
   "outputs": [
    {
     "data": {
      "text/html": [
       "<table>\n",
       "<thead><tr><th scope=col>treatment</th><th scope=col>bp</th></tr></thead>\n",
       "<tbody>\n",
       "\t<tr><td>active </td><td>80     </td></tr>\n",
       "\t<tr><td>active </td><td>85     </td></tr>\n",
       "\t<tr><td>placebo</td><td>90     </td></tr>\n",
       "</tbody>\n",
       "</table>\n"
      ],
      "text/latex": [
       "\\begin{tabular}{r|ll}\n",
       " treatment & bp\\\\\n",
       "\\hline\n",
       "\t active  & 80     \\\\\n",
       "\t active  & 85     \\\\\n",
       "\t placebo & 90     \\\\\n",
       "\\end{tabular}\n"
      ],
      "text/markdown": [
       "\n",
       "treatment | bp | \n",
       "|---|---|---|\n",
       "| active  | 80      | \n",
       "| active  | 85      | \n",
       "| placebo | 90      | \n",
       "\n",
       "\n"
      ],
      "text/plain": [
       "  treatment bp\n",
       "1 active    80\n",
       "2 active    85\n",
       "3 placebo   90"
      ]
     },
     "metadata": {},
     "output_type": "display_data"
    },
    {
     "data": {
      "text/html": [
       "<table>\n",
       "<thead><tr><th scope=col>treatment</th><th scope=col>bp</th></tr></thead>\n",
       "<tbody>\n",
       "\t<tr><td>active </td><td>80     </td></tr>\n",
       "\t<tr><td>active </td><td>85     </td></tr>\n",
       "\t<tr><td>placebo</td><td>90     </td></tr>\n",
       "</tbody>\n",
       "</table>\n"
      ],
      "text/latex": [
       "\\begin{tabular}{ll}\n",
       " treatment & bp\\\\\n",
       "\\hline\n",
       "\t active  & 80     \\\\\n",
       "\t active  & 85     \\\\\n",
       "\t placebo & 90     \\\\\n",
       "\\end{tabular}\n"
      ],
      "text/markdown": [
       "\n",
       "treatment | bp | \n",
       "|---|---|---|\n",
       "| active  | 80      | \n",
       "| active  | 85      | \n",
       "| placebo | 90      | \n",
       "\n",
       "\n"
      ],
      "text/plain": [
       "     treatment bp\n",
       "[1,] active    80\n",
       "[2,] active    85\n",
       "[3,] placebo   90"
      ]
     },
     "metadata": {},
     "output_type": "display_data"
    }
   ],
   "source": [
    "#Data frame\n",
    "\n",
    "data.frame(treatment=c(\"active\",\"active\",\"placebo\"), \n",
    "           bp=c(80,85,90))\n",
    "cbind(treatment=c(\"active\",\"active\",\"placebo\"), \n",
    "      bp=c(80,85,90))"
   ]
  },
  {
   "cell_type": "code",
   "execution_count": 5,
   "metadata": {
    "collapsed": false
   },
   "outputs": [
    {
     "data": {
      "text/html": [
       "<dl>\n",
       "\t<dt>$a</dt>\n",
       "\t\t<dd>1</dd>\n",
       "\t<dt>$b</dt>\n",
       "\t\t<dd>'abc'</dd>\n",
       "\t<dt>$c</dt>\n",
       "\t\t<dd><ol class=list-inline>\n",
       "\t<li>1</li>\n",
       "\t<li>2</li>\n",
       "\t<li>3</li>\n",
       "</ol>\n",
       "</dd>\n",
       "\t<dt>$d</dt>\n",
       "\t\t<dd><dl>\n",
       "\t<dt>$e</dt>\n",
       "\t\t<dd><table>\n",
       "<tbody>\n",
       "\t<tr><td>1</td><td>3</td></tr>\n",
       "\t<tr><td>2</td><td>4</td></tr>\n",
       "</tbody>\n",
       "</table>\n",
       "</dd>\n",
       "\t<dt>$f</dt>\n",
       "\t\t<dd><pre class=language-r><code>function (x) \n",
       "x^2</code></pre></dd>\n",
       "</dl>\n",
       "</dd>\n",
       "</dl>\n"
      ],
      "text/latex": [
       "\\begin{description}\n",
       "\\item[\\$a] 1\n",
       "\\item[\\$b] 'abc'\n",
       "\\item[\\$c] \\begin{enumerate*}\n",
       "\\item 1\n",
       "\\item 2\n",
       "\\item 3\n",
       "\\end{enumerate*}\n",
       "\n",
       "\\item[\\$d] \\begin{description}\n",
       "\\item[\\$e] \\begin{tabular}{ll}\n",
       "\t 1 & 3\\\\\n",
       "\t 2 & 4\\\\\n",
       "\\end{tabular}\n",
       "\n",
       "\\item[\\$f] \\begin{minted}{r}\n",
       "function (x) \n",
       "x\\textasciicircum{}2\n",
       "\\end{minted}\n",
       "\\end{description}\n",
       "\n",
       "\\end{description}\n"
      ],
      "text/markdown": [
       "$a\n",
       ":   1\n",
       "$b\n",
       ":   'abc'\n",
       "$c\n",
       ":   1. 1\n",
       "2. 2\n",
       "3. 3\n",
       "\n",
       "\n",
       "\n",
       "$d\n",
       ":   $e\n",
       ":   \n",
       "| 1 | 3 | \n",
       "| 2 | 4 | \n",
       "\n",
       "\n",
       "\n",
       "$f\n",
       ":   ```r\n",
       "function (x) \n",
       "x^2\n",
       "```\n",
       "\n",
       "\n",
       "\n",
       "\n",
       "\n"
      ],
      "text/plain": [
       "$a\n",
       "[1] 1\n",
       "\n",
       "$b\n",
       "[1] \"abc\"\n",
       "\n",
       "$c\n",
       "[1] 1 2 3\n",
       "\n",
       "$d\n",
       "$d$e\n",
       "     [,1] [,2]\n",
       "[1,]    1    3\n",
       "[2,]    2    4\n",
       "\n",
       "$d$f\n",
       "function (x) \n",
       "x^2\n",
       "\n"
      ]
     },
     "metadata": {},
     "output_type": "display_data"
    },
    {
     "data": {
      "text/html": [
       "<ol class=list-inline>\n",
       "\t<li>1</li>\n",
       "\t<li>4</li>\n",
       "\t<li>9</li>\n",
       "\t<li>16</li>\n",
       "\t<li>25</li>\n",
       "</ol>\n"
      ],
      "text/latex": [
       "\\begin{enumerate*}\n",
       "\\item 1\n",
       "\\item 4\n",
       "\\item 9\n",
       "\\item 16\n",
       "\\item 25\n",
       "\\end{enumerate*}\n"
      ],
      "text/markdown": [
       "1. 1\n",
       "2. 4\n",
       "3. 9\n",
       "4. 16\n",
       "5. 25\n",
       "\n",
       "\n"
      ],
      "text/plain": [
       "[1]  1  4  9 16 25"
      ]
     },
     "metadata": {},
     "output_type": "display_data"
    },
    {
     "data": {
      "text/html": [
       "<ol class=list-inline>\n",
       "\t<li>1</li>\n",
       "\t<li>8</li>\n",
       "\t<li>27</li>\n",
       "\t<li>64</li>\n",
       "\t<li>125</li>\n",
       "</ol>\n"
      ],
      "text/latex": [
       "\\begin{enumerate*}\n",
       "\\item 1\n",
       "\\item 8\n",
       "\\item 27\n",
       "\\item 64\n",
       "\\item 125\n",
       "\\end{enumerate*}\n"
      ],
      "text/markdown": [
       "1. 1\n",
       "2. 8\n",
       "3. 27\n",
       "4. 64\n",
       "5. 125\n",
       "\n",
       "\n"
      ],
      "text/plain": [
       "[1]   1   8  27  64 125"
      ]
     },
     "metadata": {},
     "output_type": "display_data"
    },
    {
     "data": {
      "text/html": [
       "<ol class=list-inline>\n",
       "\t<li>1</li>\n",
       "\t<li>4</li>\n",
       "\t<li>9</li>\n",
       "\t<li>16</li>\n",
       "\t<li>25</li>\n",
       "</ol>\n"
      ],
      "text/latex": [
       "\\begin{enumerate*}\n",
       "\\item 1\n",
       "\\item 4\n",
       "\\item 9\n",
       "\\item 16\n",
       "\\item 25\n",
       "\\end{enumerate*}\n"
      ],
      "text/markdown": [
       "1. 1\n",
       "2. 4\n",
       "3. 9\n",
       "4. 16\n",
       "5. 25\n",
       "\n",
       "\n"
      ],
      "text/plain": [
       "[1]  1  4  9 16 25"
      ]
     },
     "metadata": {},
     "output_type": "display_data"
    },
    {
     "data": {
      "text/html": [
       "<ol class=list-inline>\n",
       "\t<li>1</li>\n",
       "\t<li>16</li>\n",
       "\t<li>81</li>\n",
       "\t<li>256</li>\n",
       "\t<li>625</li>\n",
       "</ol>\n"
      ],
      "text/latex": [
       "\\begin{enumerate*}\n",
       "\\item 1\n",
       "\\item 16\n",
       "\\item 81\n",
       "\\item 256\n",
       "\\item 625\n",
       "\\end{enumerate*}\n"
      ],
      "text/markdown": [
       "1. 1\n",
       "2. 16\n",
       "3. 81\n",
       "4. 256\n",
       "5. 625\n",
       "\n",
       "\n"
      ],
      "text/plain": [
       "[1]   1  16  81 256 625"
      ]
     },
     "metadata": {},
     "output_type": "display_data"
    },
    {
     "data": {
      "text/html": [
       "6"
      ],
      "text/latex": [
       "6"
      ],
      "text/markdown": [
       "6"
      ],
      "text/plain": [
       "[1] 6"
      ]
     },
     "metadata": {},
     "output_type": "display_data"
    },
    {
     "data": {
      "text/html": [
       "<ol class=list-inline>\n",
       "\t<li>2</li>\n",
       "\t<li>3</li>\n",
       "</ol>\n"
      ],
      "text/latex": [
       "\\begin{enumerate*}\n",
       "\\item 2\n",
       "\\item 3\n",
       "\\end{enumerate*}\n"
      ],
      "text/markdown": [
       "1. 2\n",
       "2. 3\n",
       "\n",
       "\n"
      ],
      "text/plain": [
       "[1] 2 3"
      ]
     },
     "metadata": {},
     "output_type": "display_data"
    },
    {
     "data": {
      "image/png": "[encoded data removed]",
      "text/plain": [
       "plot without title"
      ]
     },
     "metadata": {},
     "output_type": "display_data"
    },
    {
     "name": "stderr",
     "output_type": "stream",
     "text": [
      "Warning message in file(filename, \"r\", encoding = encoding):\n",
      "“kann Datei 'C:/programdir/script.R' nicht öffnen: No such file or directory”"
     ]
    },
    {
     "ename": "ERROR",
     "evalue": "Error in file(filename, \"r\", encoding = encoding): kann Verbindung nicht öffnen\n",
     "output_type": "error",
     "traceback": [
      "Error in file(filename, \"r\", encoding = encoding): kann Verbindung nicht öffnen\nTraceback:\n",
      "1. source(\"C:/programdir/script.R\")",
      "2. file(filename, \"r\", encoding = encoding)"
     ]
    },
    {
     "data": {
      "image/png": "[encoded data removed]",
      "text/plain": [
       "plot without title"
      ]
     },
     "metadata": {},
     "output_type": "display_data"
    }
   ],
   "source": [
    "#Lists\n",
    "\n",
    "list(a=1,b=\"abc\",c=c(1,2,3),d=list(e=matrix(1:4,2), f=function(x)x^2))\n",
    "\n",
    "#Simple Functions\n",
    "\n",
    "square<-function(x){\n",
    "  return(x*x)\n",
    "}\n",
    "square(1:5)\n",
    "\n",
    "power<-function(x,pow){\n",
    "  return(x^pow)\n",
    "}\n",
    "power(1:5,3)\n",
    "\n",
    "#Default arguments \n",
    "\n",
    "power<-function(x,pow=2){\n",
    "  return(x^pow)\n",
    "}\n",
    "power(1:5)\n",
    "power(1:5,4)\n",
    "\n",
    "#Masking functions\n",
    "\n",
    "c<-function(x,y) x*y\n",
    "c(2,3)\n",
    "rm(c)\n",
    "c(2,3)\n",
    "\n",
    "#Simple plotting\n",
    "\n",
    "set.seed(333)\n",
    "x<-seq(0,6, length=100)\n",
    "y<-2*x+3+rnorm(100)\n",
    "plot(x,y)\n",
    "\n",
    "plot(sin,0,2*pi)\n",
    "\n",
    "#Function source\n",
    "\n",
    "source(\"C:/programdir/script.R\")"
   ]
  },
  {
   "cell_type": "code",
   "execution_count": null,
   "metadata": {
    "collapsed": true
   },
   "outputs": [],
   "source": []
  },
  {
   "cell_type": "code",
   "execution_count": null,
   "metadata": {
    "collapsed": true
   },
   "outputs": [],
   "source": []
  }
 ],
 "metadata": {
  "kernelspec": {
   "display_name": "R",
   "language": "R",
   "name": "ir"
  },
  "language_info": {
   "codemirror_mode": "r",
   "file_extension": ".r",
   "mimetype": "text/x-r-source",
   "name": "R",
   "pygments_lexer": "r",
   "version": "3.3.2"
  }
 },
 "nbformat": 4,
 "nbformat_minor": 2
}

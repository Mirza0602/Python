{
 "cells": [
  {
   "cell_type": "markdown",
   "metadata": {},
   "source": [
    "[Back to course overview](../CourseOverviewR.ipynb)\n",
    "\n",
    "# Control Structures in R\n",
    "* Author: Johannes Maucher\n",
    "* Last Update: 2017-03-13\n",
    "\n",
    "![Data Science R Overview](../../../Pics/DSRcontrol.PNG)"
   ]
  },
  {
   "cell_type": "markdown",
   "metadata": {},
   "source": [
    "In a R-program statements are executed sequentially from top to bottom. As in all other languages R provides *control structures*, which allow e.g. that statements are executed repetitively or only if certain conditions are met.\n",
    "Compound statements in control structures contain more than one atomic R-statements. Such blocks of statements must be surrounded by curly brackets *{}*.\n",
    "\n",
    "## Conditional Execution\n",
    "\n",
    "### If-Else\n",
    "In an *If-Else* control structure the (compound) statement in the *if-block* is executed only if the *condition* at the *if*-keyword is true, otherwise the (compound) statement of the *else-block* is executed:\n",
    "\n",
    "`if (cond) statement1 else statement`\n",
    "\n",
    "It is also possible that only an *if-block* is defined, then nothing is executed, if the condition at the if-block is not met:\n",
    "\n",
    "`if (cond) statement`\n",
    "\n",
    "\n",
    "`cond` is an expression, which resolves to either TRUE or FALSE.\n",
    "\n",
    "Examples:"
   ]
  },
  {
   "cell_type": "code",
   "execution_count": 1,
   "metadata": {
    "ExecuteTime": {
     "end_time": "2017-09-14T14:08:31.387000Z",
     "start_time": "2017-09-14T14:08:31.323Z"
    }
   },
   "outputs": [
    {
     "name": "stdout",
     "output_type": "stream",
     "text": [
      "[1] \"blue\"\n"
     ]
    }
   ],
   "source": [
    "gender<-\"Male\"\n",
    "if (gender==\"Male\"){\n",
    "    print(\"blue\")\n",
    "} "
   ]
  },
  {
   "cell_type": "code",
   "execution_count": 2,
   "metadata": {
    "ExecuteTime": {
     "end_time": "2017-09-14T14:08:34.353000Z",
     "start_time": "2017-09-14T14:08:34.330Z"
    }
   },
   "outputs": [
    {
     "name": "stdout",
     "output_type": "stream",
     "text": [
      "[1] \"pink\"\n"
     ]
    }
   ],
   "source": [
    "gender<-\"Female\"\n",
    "if (gender==\"Male\"){\n",
    "    mycolor<-\"blue\"\n",
    "} else {\n",
    "    mycolor<-\"pink\"\n",
    "}\n",
    "print(mycolor)"
   ]
  },
  {
   "cell_type": "markdown",
   "metadata": {},
   "source": [
    "In the case of simple statements, the if-else control structure can be formulated in the following compact form:\n",
    "\n",
    "`ifelse(cond, statement1,statement2)`\n",
    "\n",
    "Example:"
   ]
  },
  {
   "cell_type": "code",
   "execution_count": 3,
   "metadata": {
    "ExecuteTime": {
     "end_time": "2017-09-14T14:09:08.807000Z",
     "start_time": "2017-09-14T14:09:08.784Z"
    }
   },
   "outputs": [
    {
     "data": {
      "text/html": [
       "'blue'"
      ],
      "text/latex": [
       "'blue'"
      ],
      "text/markdown": [
       "'blue'"
      ],
      "text/plain": [
       "[1] \"blue\""
      ]
     },
     "metadata": {},
     "output_type": "display_data"
    }
   ],
   "source": [
    "gender=\"Male\"\n",
    "ifelse(gender==\"Male\",mycolor<-\"blue\",mycolor<-\"pink\")"
   ]
  },
  {
   "cell_type": "markdown",
   "metadata": {},
   "source": [
    "### Switch\n",
    "An *If-Else* control structure realizes a binary decision. If more than two alternatives must be checked, the *Switch* control structure can be applied. The general syntax is:\n",
    "\n",
    "`switch(expression, value-assignment-pairs)`\n",
    "\n",
    "I.e. if expression evaluates to value, then the assignment, which belongs to this value is returned by the switch-function.\n"
   ]
  },
  {
   "cell_type": "code",
   "execution_count": 5,
   "metadata": {
    "ExecuteTime": {
     "end_time": "2017-09-14T14:10:46.533000Z",
     "start_time": "2017-09-14T14:10:46.501Z"
    }
   },
   "outputs": [
    {
     "name": "stdout",
     "output_type": "stream",
     "text": [
      "[1] \"Pound\"\n"
     ]
    }
   ],
   "source": [
    "country<-\"UK\"\n",
    "currency<-switch(country,\n",
    "      \"Germany\" = \"Euro\",\n",
    "      \"UK\" = \"Pound\",\n",
    "      \"US\" = \"Dollar\",\n",
    "      \"Russia\" = \"Rubel\"           \n",
    "      )\n",
    "print(currency)"
   ]
  },
  {
   "cell_type": "markdown",
   "metadata": {},
   "source": [
    "## Repeated Execution and Loop "
   ]
  },
  {
   "cell_type": "markdown",
   "metadata": {},
   "source": [
    "### For-Loop\n",
    "In a *For-Loop* a (compound) statement is executed repetitively until the value of a counter-variable is no longer contained in a sequence. Usually, in each iteration of the loop the value of the variable is modified.\n",
    "\n",
    "`for (variable in sequence) statement`\n",
    "\n",
    "Example:\n"
   ]
  },
  {
   "cell_type": "code",
   "execution_count": 6,
   "metadata": {
    "ExecuteTime": {
     "end_time": "2017-09-14T14:12:53.265000Z",
     "start_time": "2017-09-14T14:12:53.241Z"
    }
   },
   "outputs": [
    {
     "name": "stdout",
     "output_type": "stream",
     "text": [
      "[1] \"Iteration \" \"1\"         \n",
      "[1] \"Iteration \" \"2\"         \n",
      "[1] \"Iteration \" \"3\"         \n",
      "[1] \"Iteration \" \"4\"         \n",
      "[1] \"Iteration \" \"5\"         \n"
     ]
    }
   ],
   "source": [
    "for (c in 1:5) print(c(\"Iteration \",c))"
   ]
  },
  {
   "cell_type": "markdown",
   "metadata": {},
   "source": [
    "### Nested Loop"
   ]
  },
  {
   "cell_type": "markdown",
   "metadata": {},
   "source": [
    "Nested loops are loops, which contain other loops in their statement. "
   ]
  },
  {
   "cell_type": "code",
   "execution_count": 7,
   "metadata": {
    "ExecuteTime": {
     "end_time": "2017-09-14T14:14:08.165000Z",
     "start_time": "2017-09-14T14:14:08.144Z"
    }
   },
   "outputs": [
    {
     "name": "stdout",
     "output_type": "stream",
     "text": [
      "[1] 1 1\n",
      "[1] 1 2\n",
      "[1] 2 1\n",
      "[1] 2 2\n",
      "[1] 3 1\n",
      "[1] 3 2\n"
     ]
    }
   ],
   "source": [
    "for (row in 1:3){\n",
    "    for (col in 1:2){\n",
    "        print(c(row,col))\n",
    "    }\n",
    "}"
   ]
  },
  {
   "cell_type": "markdown",
   "metadata": {},
   "source": [
    "### While Loop\n",
    "In a *While-Loop* a (compound) statement is executed repetitively until a condition is no longer true:\n",
    "\n",
    "`while (cond) statement`\n",
    "\n",
    "Example:"
   ]
  },
  {
   "cell_type": "code",
   "execution_count": 10,
   "metadata": {
    "ExecuteTime": {
     "end_time": "2017-09-14T14:15:31.675000Z",
     "start_time": "2017-09-14T14:15:31.640Z"
    }
   },
   "outputs": [
    {
     "name": "stdout",
     "output_type": "stream",
     "text": [
      "[1] 0\n",
      "[1] 1\n",
      "[1] 4\n",
      "[1] 9\n",
      "[1] 16\n",
      "[1] 25\n",
      "[1] 36\n",
      "[1] 49\n",
      "[1] 64\n",
      "[1] 81\n",
      "[1] 100\n",
      "After termination: i =  11"
     ]
    }
   ],
   "source": [
    "i<-0\n",
    "result<-0\n",
    "while (result<100) {\n",
    "    result<-i**2\n",
    "    print(result)\n",
    "i=i+1\n",
    "}\n",
    "cat('After termination: i = ',i)"
   ]
  },
  {
   "cell_type": "markdown",
   "metadata": {},
   "source": [
    "> **Note:** In the case of processing the rows or columns of large datasets looping can be very inefficient and time-consuming. It is recommended, that whenever possible, R’s built-in numerical and character functions in conjunction with the *apply* family of functions shall be used (see later notebook)."
   ]
  },
  {
   "cell_type": "markdown",
   "metadata": {},
   "source": [
    "### Terminate loops and iterations by *break* and *next*\n",
    "The *break*-statement within a loop causes the entire loop to terminate. The *next*-statement terminates just the current iteration of the loop and then continues with the next iteration."
   ]
  },
  {
   "cell_type": "code",
   "execution_count": 11,
   "metadata": {
    "ExecuteTime": {
     "end_time": "2017-09-14T14:17:58.010000Z",
     "start_time": "2017-09-14T14:17:57.987Z"
    }
   },
   "outputs": [
    {
     "name": "stdout",
     "output_type": "stream",
     "text": [
      "[1] 1\n",
      "[1] 2\n",
      "[1] 3\n"
     ]
    }
   ],
   "source": [
    "for (i in 1:5){\n",
    "    if (i==4) break else print(i)\n",
    "}"
   ]
  },
  {
   "cell_type": "code",
   "execution_count": 12,
   "metadata": {
    "ExecuteTime": {
     "end_time": "2017-09-14T14:18:14.419000Z",
     "start_time": "2017-09-14T14:18:14.393Z"
    }
   },
   "outputs": [
    {
     "name": "stdout",
     "output_type": "stream",
     "text": [
      "[1] 1\n",
      "[1] 2\n",
      "[1] 3\n",
      "[1] 5\n"
     ]
    }
   ],
   "source": [
    "for (i in 1:5){\n",
    "    if (i==4) next else print(i)\n",
    "}"
   ]
  },
  {
   "cell_type": "markdown",
   "metadata": {},
   "source": [
    "### What should not be done in loops\n",
    "In the following loop in each iteration a new element is attached to a vector. This is inefficient because in each loop new memory must be allocated for storing the increasing vector."
   ]
  },
  {
   "cell_type": "code",
   "execution_count": 13,
   "metadata": {
    "ExecuteTime": {
     "end_time": "2017-09-14T14:19:24.319000Z",
     "start_time": "2017-09-14T14:18:57.835Z"
    }
   },
   "outputs": [
    {
     "data": {
      "text/plain": [
       "   user  system elapsed \n",
       "  26.28    0.13   26.42 "
      ]
     },
     "metadata": {},
     "output_type": "display_data"
    }
   ],
   "source": [
    "system.time({\n",
    "    a<-numeric()\n",
    "    for(j in 1:100000){a<-c(a,j%%3)}\n",
    "})"
   ]
  },
  {
   "cell_type": "markdown",
   "metadata": {},
   "source": [
    "The same functionality as in the loop above can be implemented in a much faster way by first allocating the required memory for the vector and assigning in each iteration the corresponding value to the already assigned memory element."
   ]
  },
  {
   "cell_type": "code",
   "execution_count": 14,
   "metadata": {
    "ExecuteTime": {
     "end_time": "2017-09-14T14:20:00.802000Z",
     "start_time": "2017-09-14T14:20:00.603Z"
    }
   },
   "outputs": [
    {
     "data": {
      "text/plain": [
       "   user  system elapsed \n",
       "   0.14    0.00    0.14 "
      ]
     },
     "metadata": {},
     "output_type": "display_data"
    }
   ],
   "source": [
    "system.time({\n",
    "    a<-numeric(100000)\n",
    "    for(j in 1:100000){a[j]<-j%%3}\n",
    "})"
   ]
  },
  {
   "cell_type": "markdown",
   "metadata": {
    "collapsed": true
   },
   "source": [
    "### Alternatives for repeated Execution\n",
    "Compared to other programming languages in R for- and while- loops are rarely used. This is because R provides much more efficient ways to carry out repeated execution: The functions *apply()*, *lapply()*, *sapply()* and *vapply()*. These functions are described in an upcoming lecture."
   ]
  },
  {
   "cell_type": "markdown",
   "metadata": {
    "collapsed": true
   },
   "source": [
    "## Exercises\n",
    "[Exercise on control structures in R](../../Assignments/Ass04ControlStructuresR.ipynb)"
   ]
  },
  {
   "cell_type": "code",
   "execution_count": null,
   "metadata": {
    "collapsed": true
   },
   "outputs": [],
   "source": []
  }
 ],
 "metadata": {
  "anaconda-cloud": {},
  "kernelspec": {
   "display_name": "R [conda env:condatascience]",
   "language": "R",
   "name": "conda-env-condatascience-r"
  },
  "language_info": {
   "codemirror_mode": "r",
   "file_extension": ".r",
   "mimetype": "text/x-r-source",
   "name": "R",
   "pygments_lexer": "r",
   "version": "3.3.2"
  },
  "nav_menu": {},
  "toc": {
   "navigate_menu": true,
   "number_sections": true,
   "sideBar": true,
   "threshold": 6,
   "toc_cell": false,
   "toc_section_display": "block",
   "toc_window_display": true
  },
  "toc_position": {
   "height": "743px",
   "left": "0px",
   "right": "1351.83px",
   "top": "125.167px",
   "width": "212px"
  }
 },
 "nbformat": 4,
 "nbformat_minor": 1
}

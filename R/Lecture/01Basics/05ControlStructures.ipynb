{
 "cells": [
  {
   "cell_type": "markdown",
   "metadata": {
    "toc": "true"
   },
   "source": [
    "# Table of Contents\n",
    " <p><div class=\"lev1 toc-item\"><a href=\"#Control-Structures-in-R\" data-toc-modified-id=\"Control-Structures-in-R-1\"><span class=\"toc-item-num\">1&nbsp;&nbsp;</span>Control Structures in R</a></div><div class=\"lev2 toc-item\"><a href=\"#Conditional-Execution\" data-toc-modified-id=\"Conditional-Execution-1.1\"><span class=\"toc-item-num\">1.1&nbsp;&nbsp;</span>Conditional Execution</a></div><div class=\"lev3 toc-item\"><a href=\"#If-Else\" data-toc-modified-id=\"If-Else-1.1.1\"><span class=\"toc-item-num\">1.1.1&nbsp;&nbsp;</span>If-Else</a></div><div class=\"lev3 toc-item\"><a href=\"#Switch\" data-toc-modified-id=\"Switch-1.1.2\"><span class=\"toc-item-num\">1.1.2&nbsp;&nbsp;</span>Switch</a></div><div class=\"lev2 toc-item\"><a href=\"#Repeated-Execution-and-Loop\" data-toc-modified-id=\"Repeated-Execution-and-Loop-1.2\"><span class=\"toc-item-num\">1.2&nbsp;&nbsp;</span>Repeated Execution and Loop</a></div><div class=\"lev3 toc-item\"><a href=\"#For-Loop\" data-toc-modified-id=\"For-Loop-1.2.1\"><span class=\"toc-item-num\">1.2.1&nbsp;&nbsp;</span>For-Loop</a></div><div class=\"lev3 toc-item\"><a href=\"#Nested-Loop\" data-toc-modified-id=\"Nested-Loop-1.2.2\"><span class=\"toc-item-num\">1.2.2&nbsp;&nbsp;</span>Nested Loop</a></div><div class=\"lev3 toc-item\"><a href=\"#While-Loop\" data-toc-modified-id=\"While-Loop-1.2.3\"><span class=\"toc-item-num\">1.2.3&nbsp;&nbsp;</span>While Loop</a></div><div class=\"lev3 toc-item\"><a href=\"#Terminate-loops-and-iterations-by-break-and-next\" data-toc-modified-id=\"Terminate-loops-and-iterations-by-break-and-next-1.2.4\"><span class=\"toc-item-num\">1.2.4&nbsp;&nbsp;</span>Terminate loops and iterations by <em>break</em> and <em>next</em></a></div><div class=\"lev3 toc-item\"><a href=\"#What-should-not-be-done-in-loops\" data-toc-modified-id=\"What-should-not-be-done-in-loops-1.2.5\"><span class=\"toc-item-num\">1.2.5&nbsp;&nbsp;</span>What should not be done in loops</a></div><div class=\"lev3 toc-item\"><a href=\"#Alternatives-for-repeated-Execution\" data-toc-modified-id=\"Alternatives-for-repeated-Execution-1.2.6\"><span class=\"toc-item-num\">1.2.6&nbsp;&nbsp;</span>Alternatives for repeated Execution</a></div>"
   ]
  },
  {
   "cell_type": "markdown",
   "metadata": {},
   "source": [
    "# Control Structures in R\n",
    "* Author: Johannes Maucher\n",
    "* Last Update: 2017-03-13"
   ]
  },
  {
   "cell_type": "markdown",
   "metadata": {},
   "source": [
    "In a R-program statements are executed sequentially from top to bottom. As in all other languages R provides *control structures*, which allow e.g. that statements are executed repetitively or only if certain conditions are met.\n",
    "Compund statements in control structures contain more than one atomic R-statements. Such blocks of statements must be surrounded by curly brackets *{}*.\n",
    "\n",
    "## Conditional Execution\n",
    "\n",
    "### If-Else\n",
    "In an *If-Else* control structure the (compound) statement in the *if-block* is executed only if the *condition* at the *if*-keyword is true, otherwise the (compound) statement of the *else-block* is executed. It is also possible that only a *if-block* is defined, then nothing is executed, if the condition at the if-block is not met. \n",
    "\n",
    "*if (cond) statement*\n",
    "\n",
    "*if (cond) statement1 else statement2*\n",
    "\n",
    "Here, *cond* is an expression, which resolves to either TRUE or FALSE.\n",
    "\n",
    "Examples:"
   ]
  },
  {
   "cell_type": "code",
   "execution_count": 15,
   "metadata": {
    "collapsed": false
   },
   "outputs": [
    {
     "name": "stdout",
     "output_type": "stream",
     "text": [
      "[1] \"blue\"\n"
     ]
    }
   ],
   "source": [
    "gender<-\"Male\"\n",
    "if (gender==\"Male\"){\n",
    "    print(\"blue\")\n",
    "} "
   ]
  },
  {
   "cell_type": "code",
   "execution_count": 17,
   "metadata": {
    "collapsed": false
   },
   "outputs": [
    {
     "name": "stdout",
     "output_type": "stream",
     "text": [
      "[1] \"pink\"\n"
     ]
    }
   ],
   "source": [
    "gender<-\"Female\"\n",
    "if (gender==\"Male\"){\n",
    "    mycolor<-\"blue\"\n",
    "} else {\n",
    "    mycolor<-\"pink\"\n",
    "}\n",
    "print(mycolor)"
   ]
  },
  {
   "cell_type": "markdown",
   "metadata": {},
   "source": [
    "In the case of simple statements, the if-else control structure can be formulated in the following compact form:\n",
    "\n",
    "ifelse(cond, statement1,statement2)\n",
    "\n",
    "Example:"
   ]
  },
  {
   "cell_type": "code",
   "execution_count": 20,
   "metadata": {
    "collapsed": false
   },
   "outputs": [
    {
     "data": {
      "text/html": [
       "'blue'"
      ],
      "text/latex": [
       "'blue'"
      ],
      "text/markdown": [
       "'blue'"
      ],
      "text/plain": [
       "[1] \"blue\""
      ]
     },
     "metadata": {},
     "output_type": "display_data"
    }
   ],
   "source": [
    "gender=\"Male\"\n",
    "ifelse(gender==\"Male\",mycolor<-\"blue\",mycolor<-\"pink\")"
   ]
  },
  {
   "cell_type": "markdown",
   "metadata": {},
   "source": [
    "### Switch\n",
    "A *If-Else* control structure realizes a binary decision. If more than two alternatives must be checked, the *Switch* control structure can be applied. The general syntax is:\n",
    "\n",
    "switch(expression, value-assignment-pairs)\n",
    "\n",
    "I.e. if expression evaluates to value, then the assignment, which belongs to this value is returned by the switch-function.\n"
   ]
  },
  {
   "cell_type": "code",
   "execution_count": 25,
   "metadata": {
    "collapsed": false
   },
   "outputs": [
    {
     "name": "stdout",
     "output_type": "stream",
     "text": [
      "[1] \"Pound\"\n"
     ]
    }
   ],
   "source": [
    "country=\"UK\"\n",
    "currency<-switch(country,\n",
    "      \"Germany\" = \"Euro\",\n",
    "      \"UK\" = \"Pound\",\n",
    "      \"US\" = \"Dollar\",\n",
    "      \"Russia\" = \"Rubel\"           \n",
    "      )\n",
    "print(currency)"
   ]
  },
  {
   "cell_type": "markdown",
   "metadata": {},
   "source": [
    "## Repeated Execution and Loop "
   ]
  },
  {
   "cell_type": "markdown",
   "metadata": {},
   "source": [
    "### For-Loop\n",
    "In a *For-Loop* a (compound) statement is executed repetitively until the value of a variable is no longer contained in a sequence. Usually in each iteration of the loop the value of the variable is modified.\n",
    "\n",
    "*for (variable in sequence) statement*\n",
    "\n",
    "Example:\n"
   ]
  },
  {
   "cell_type": "code",
   "execution_count": 33,
   "metadata": {
    "collapsed": false
   },
   "outputs": [
    {
     "name": "stdout",
     "output_type": "stream",
     "text": [
      "[1] \"Iteration \" \"1\"         \n",
      "[1] \"Iteration \" \"2\"         \n",
      "[1] \"Iteration \" \"3\"         \n",
      "[1] \"Iteration \" \"4\"         \n",
      "[1] \"Iteration \" \"5\"         \n"
     ]
    }
   ],
   "source": [
    "for (c in 1:5) print(c(\"Iteration \",c))"
   ]
  },
  {
   "cell_type": "markdown",
   "metadata": {},
   "source": [
    "### Nested Loop"
   ]
  },
  {
   "cell_type": "code",
   "execution_count": 42,
   "metadata": {
    "collapsed": false
   },
   "outputs": [
    {
     "name": "stdout",
     "output_type": "stream",
     "text": [
      "[1] 1 1\n",
      "[1] 1 2\n",
      "[1] 2 1\n",
      "[1] 2 2\n",
      "[1] 3 1\n",
      "[1] 3 2\n"
     ]
    }
   ],
   "source": [
    "for (row in 1:3){\n",
    "    for (col in 1:2){\n",
    "        print(c(row,col))\n",
    "    }\n",
    "}"
   ]
  },
  {
   "cell_type": "markdown",
   "metadata": {},
   "source": [
    "### While Loop\n",
    "In a *While-Loop* a (compound) statement is executed repetitively until a condition is no longer true:\n",
    "\n",
    "*while (cond) statement*\n",
    "\n",
    "Example:"
   ]
  },
  {
   "cell_type": "code",
   "execution_count": 40,
   "metadata": {
    "collapsed": false
   },
   "outputs": [
    {
     "name": "stdout",
     "output_type": "stream",
     "text": [
      "[1] 0\n",
      "[1] 1\n",
      "[1] 4\n",
      "[1] 9\n",
      "[1] 16\n",
      "[1] 25\n",
      "[1] 36\n",
      "[1] 49\n",
      "[1] 64\n",
      "[1] 81\n",
      "[1] 100\n",
      "[1] \"After termination: i= \"\n",
      "[1] 11\n"
     ]
    }
   ],
   "source": [
    "i<-0\n",
    "result<-0\n",
    "while (result<100) {\n",
    "    result<-i**2\n",
    "    print(result)\n",
    "i=i+1\n",
    "}\n",
    "print('After termination: i= ')\n",
    "print(i)"
   ]
  },
  {
   "cell_type": "markdown",
   "metadata": {},
   "source": [
    "In the case of processing the rows or columns of large datasets looping can be very inefficient and time-consuming. It is recommended, that whenever possible, R’s built-in numerical and character functions in conjunction with the *apply* family of functions shall be used (see later notebook)."
   ]
  },
  {
   "cell_type": "markdown",
   "metadata": {},
   "source": [
    "### Terminate loops and iterations by *break* and *next*\n",
    "The *break*-statement within a loop causes the entire loop to terminate. The *next*-statement terminates just the current iteration of the loop and then continues with the next iteration."
   ]
  },
  {
   "cell_type": "code",
   "execution_count": 43,
   "metadata": {
    "collapsed": false
   },
   "outputs": [
    {
     "name": "stdout",
     "output_type": "stream",
     "text": [
      "[1] 1\n",
      "[1] 2\n",
      "[1] 3\n"
     ]
    }
   ],
   "source": [
    "for (i in 1:5){\n",
    "    if (i==4) break else print(i)\n",
    "}"
   ]
  },
  {
   "cell_type": "code",
   "execution_count": 44,
   "metadata": {
    "collapsed": false
   },
   "outputs": [
    {
     "name": "stdout",
     "output_type": "stream",
     "text": [
      "[1] 1\n",
      "[1] 2\n",
      "[1] 3\n",
      "[1] 5\n"
     ]
    }
   ],
   "source": [
    "for (i in 1:5){\n",
    "    if (i==4) next else print(i)\n",
    "}"
   ]
  },
  {
   "cell_type": "markdown",
   "metadata": {},
   "source": [
    "### What should not be done in loops\n",
    "In the following loop in each iteration a new element is attached to a vector. This is inefficient because in each loop new memory must be allocated for storing the increasing vector."
   ]
  },
  {
   "cell_type": "code",
   "execution_count": 3,
   "metadata": {
    "collapsed": false
   },
   "outputs": [
    {
     "data": {
      "text/plain": [
       "   user  system elapsed \n",
       "  24.11    0.09   24.21 "
      ]
     },
     "metadata": {},
     "output_type": "display_data"
    }
   ],
   "source": [
    "system.time({\n",
    "    a<-numeric()\n",
    "    for(j in 1:100000){a<-c(a,j%%3)}\n",
    "})"
   ]
  },
  {
   "cell_type": "markdown",
   "metadata": {},
   "source": [
    "The same functionality as in the loop above can be implemented in a much faster way by first allocating the required memory for the vector and assigning in each iteration the corresponding value to the already assigned memory element."
   ]
  },
  {
   "cell_type": "code",
   "execution_count": 5,
   "metadata": {
    "collapsed": false
   },
   "outputs": [
    {
     "data": {
      "text/plain": [
       "   user  system elapsed \n",
       "   0.16    0.00    0.16 "
      ]
     },
     "metadata": {},
     "output_type": "display_data"
    }
   ],
   "source": [
    "system.time({\n",
    "    a<-numeric(100000)\n",
    "    for(j in 1:100000){a[j]<-j%%3}\n",
    "})"
   ]
  },
  {
   "cell_type": "markdown",
   "metadata": {
    "collapsed": true
   },
   "source": [
    "### Alternatives for repeated Execution\n",
    "Compared to other programming languages in R for- and while- loops are rarely used. This is because R provides much more efficient ways to carry out repeated execution: The functions *apply()*, *lapply()*, *sapply()* and *vapply()*. These functions are described in an upcoming lecture."
   ]
  },
  {
   "cell_type": "code",
   "execution_count": null,
   "metadata": {
    "collapsed": true
   },
   "outputs": [],
   "source": []
  }
 ],
 "metadata": {
  "anaconda-cloud": {},
  "kernelspec": {
   "display_name": "R [conda env:condatascience]",
   "language": "R",
   "name": "conda-env-condatascience-r"
  },
  "language_info": {
   "codemirror_mode": "r",
   "file_extension": ".r",
   "mimetype": "text/x-r-source",
   "name": "R",
   "pygments_lexer": "r",
   "version": "3.3.2"
  },
  "nav_menu": {},
  "toc": {
   "navigate_menu": true,
   "number_sections": true,
   "sideBar": true,
   "threshold": 6,
   "toc_cell": true,
   "toc_section_display": "block",
   "toc_window_display": true
  }
 },
 "nbformat": 4,
 "nbformat_minor": 1
}

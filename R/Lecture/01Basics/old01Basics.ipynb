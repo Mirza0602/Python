{
 "cells": [
  {
   "cell_type": "markdown",
   "metadata": {
    "deletable": true,
    "editable": true,
    "toc": "true"
   },
   "source": [
    "# Table of Contents\n",
    " <p><div class=\"lev1 toc-item\"><a href=\"#Install-external-packages\" data-toc-modified-id=\"Install-external-packages-1\"><span class=\"toc-item-num\">1&nbsp;&nbsp;</span>Install external packages</a></div><div class=\"lev2 toc-item\"><a href=\"#Functions-from-external-R-packages\" data-toc-modified-id=\"Functions-from-external-R-packages-1.1\"><span class=\"toc-item-num\">1.1&nbsp;&nbsp;</span>Functions from external R packages</a></div><div class=\"lev2 toc-item\"><a href=\"#User-defined-functions\" data-toc-modified-id=\"User-defined-functions-1.2\"><span class=\"toc-item-num\">1.2&nbsp;&nbsp;</span>User-defined functions</a></div><div class=\"lev3 toc-item\"><a href=\"#Passing-optional-arguments-to-a-function-in-the-function\" data-toc-modified-id=\"Passing-optional-arguments-to-a-function-in-the-function-1.2.1\"><span class=\"toc-item-num\">1.2.1&nbsp;&nbsp;</span>Passing optional arguments to a function in the function</a></div><div class=\"lev2 toc-item\"><a href=\"#Efficient-evaluation-of-functions:-apply,-lapply,-sapply\" data-toc-modified-id=\"Efficient-evaluation-of-functions:-apply,-lapply,-sapply-1.3\"><span class=\"toc-item-num\">1.3&nbsp;&nbsp;</span>Efficient evaluation of functions: apply, lapply, sapply</a></div>"
   ]
  },
  {
   "cell_type": "markdown",
   "metadata": {
    "deletable": true,
    "editable": true
   },
   "source": [
    "[Back to course overview](../CourseOverviewR.ipynb)\n",
    "\n",
    "# Install external packages\n",
    "* Author: Johannes Maucher\n",
    "* Last Update: 2017-03-13\n",
    "\n",
    "R is primarily a functional language. Functions are treated as other data types. For example functions can be assigned to variables and can be passed as arguments to other functions. Even simple operators as *+* are functions. The conventional formulation *x+y* is just a shortcut for \"+\"(x,y):"
   ]
  },
  {
   "cell_type": "markdown",
   "metadata": {
    "deletable": true,
    "editable": true
   },
   "source": [
    "## Functions from external R packages\n",
    "There exists more than 10000 R-packages, which provide solutions for all kinds of problems. External R packages can be downloaded e.g. from [https://cran.r-project.org/](https://cran.r-project.org/). The list of all installed package, available in your current environment, can be obtained by the following statement:"
   ]
  },
  {
   "cell_type": "code",
   "execution_count": 20,
   "metadata": {
    "collapsed": false,
    "deletable": true,
    "editable": true
   },
   "outputs": [
    {
     "data": {},
     "metadata": {},
     "output_type": "display_data"
    }
   ],
   "source": [
    "library()"
   ]
  },
  {
   "cell_type": "markdown",
   "metadata": {
    "deletable": true,
    "editable": true
   },
   "source": [
    "Functions of external packages, which are installed in your environment must be loaded before they can be applied. Functions from package *X* can be loaded by\n",
    "*library(X)*. For example the following statement loads the package *ggplot2*"
   ]
  },
  {
   "cell_type": "code",
   "execution_count": 24,
   "metadata": {
    "collapsed": false,
    "deletable": true,
    "editable": true
   },
   "outputs": [],
   "source": [
    "library(ggplot2)"
   ]
  },
  {
   "cell_type": "markdown",
   "metadata": {
    "deletable": true,
    "editable": true
   },
   "source": [
    "External packages, which are not already installed in your environment, can be downloaded and installed by\n",
    "\n",
    "install.packages(\"NameOfPackage\")\n",
    "\n",
    "For example the following statement downloads and installs the package *ttseries*"
   ]
  },
  {
   "cell_type": "code",
   "execution_count": 33,
   "metadata": {
    "collapsed": false,
    "deletable": true,
    "editable": true
   },
   "outputs": [
    {
     "name": "stdout",
     "output_type": "stream",
     "text": [
      "package 'tagcloud' successfully unpacked and MD5 sums checked\n",
      "\n",
      "The downloaded binary packages are in\n",
      "\tC:\\Users\\maucher\\AppData\\Local\\Temp\\RtmpuKA0I2\\downloaded_packages\n"
     ]
    }
   ],
   "source": [
    "install.packages(\"tagcloud\")"
   ]
  },
  {
   "cell_type": "markdown",
   "metadata": {
    "deletable": true,
    "editable": true
   },
   "source": [
    "This command is only successful if the package exists on the configured CRAN-mirror. A list of all available CRAN-mirrors can be obtained by the *getCRANmirrors()*-function. A particular mirror can the be set by\n",
    "\n",
    "*options(repos=structure(c(CRAN=\"http://cloud.r-project.org/\")))*\n",
    "\n",
    "Example:"
   ]
  },
  {
   "cell_type": "code",
   "execution_count": 31,
   "metadata": {
    "collapsed": false,
    "deletable": true,
    "editable": true
   },
   "outputs": [
    {
     "data": {
      "text/html": [
       "<table>\n",
       "<thead><tr><th scope=col>Name</th><th scope=col>Country</th><th scope=col>City</th><th scope=col>URL</th><th scope=col>Host</th><th scope=col>Maintainer</th><th scope=col>OK</th><th scope=col>CountryCode</th><th scope=col>Comment</th></tr></thead>\n",
       "<tbody>\n",
       "\t<tr><td>0-Cloud [https]                                                           </td><td>0-Cloud                                                                   </td><td>0-Cloud                                                                   </td><td>https://cloud.r-project.org/                                              </td><td>Automatic redirection to servers worldwide, currently sponsored by Rstudio</td><td>winston # stdout.org                                                      </td><td>1                                                                         </td><td>us                                                                        </td><td>secure_mirror_from_master                                                 </td></tr>\n",
       "\t<tr><td>0-Cloud                                                                   </td><td>0-Cloud                                                                   </td><td>0-Cloud                                                                   </td><td>http://cloud.r-project.org/                                               </td><td>Automatic redirection to servers worldwide, currently sponsored by Rstudio</td><td>winston # stdout.org                                                      </td><td>1                                                                         </td><td>us                                                                        </td><td>secure_mirror_from_master                                                 </td></tr>\n",
       "\t<tr><td><span style=white-space:pre-wrap>Algeria [https]              </span>                                             </td><td><span style=white-space:pre-wrap>Algeria  </span>                                                                 </td><td><span style=white-space:pre-wrap>Algiers       </span>                                                            </td><td><span style=white-space:pre-wrap>https://cran.usthb.dz/                </span>                                    </td><td><span style=white-space:pre-wrap>University of Science and Technology Houari Boumediene                    </span></td><td><span style=white-space:pre-wrap>Boukala m c &lt;mboukala # usthb.dz&gt;                                 </span>  </td><td>1                                                                                                                 </td><td>dz                                                                                                                </td><td><span style=white-space:pre-wrap>                          </span>                                                </td></tr>\n",
       "\t<tr><td><span style=white-space:pre-wrap>Algeria                      </span>                                             </td><td><span style=white-space:pre-wrap>Algeria  </span>                                                                 </td><td><span style=white-space:pre-wrap>Algiers       </span>                                                            </td><td><span style=white-space:pre-wrap>http://cran.usthb.dz/                 </span>                                    </td><td><span style=white-space:pre-wrap>University of Science and Technology Houari Boumediene                    </span></td><td><span style=white-space:pre-wrap>Boukala m c &lt;mboukala # usthb.dz&gt;                                 </span>  </td><td>1                                                                                                                 </td><td>dz                                                                                                                </td><td><span style=white-space:pre-wrap>                          </span>                                                </td></tr>\n",
       "\t<tr><td>Argentina (La Plata)                                                      </td><td>Argentina                                                                 </td><td>La Plata                                                                  </td><td>http://mirror.fcaglp.unlp.edu.ar/CRAN/                                    </td><td>Universidad Nacional de La Plata                                          </td><td>esuarez # Fcaglp.unlp.edu.ar                                              </td><td>1                                                                         </td><td>ar                                                                        </td><td>                                                                          </td></tr>\n",
       "\t<tr><td>Australia (Canberra) [https]                                              </td><td>Australia                                                                 </td><td>Canberra                                                                  </td><td>https://cran.csiro.au/                                                    </td><td>CSIRO                                                                     </td><td>Bill.Venables # CSIRO.au, ServiceDesk2 # CSIRO.au                         </td><td>1                                                                         </td><td>au                                                                        </td><td>secure_mirror_from_master                                                 </td></tr>\n",
       "\t<tr><td>Australia (Canberra)                                                      </td><td>Australia                                                                 </td><td>Canberra                                                                  </td><td>http://cran.csiro.au/                                                     </td><td>CSIRO                                                                     </td><td>Bill.Venables # CSIRO.au, ServiceDesk2 # CSIRO.au                         </td><td>1                                                                         </td><td>au                                                                        </td><td>secure_mirror_from_master                                                 </td></tr>\n",
       "\t<tr><td>Australia (Melbourne) [https]                                             </td><td>Australia                                                                 </td><td>Melbourne                                                                 </td><td>https://cran.ms.unimelb.edu.au/                                           </td><td>University of Melbourne                                                   </td><td>cran # ms.unimelb.edu.au                                                  </td><td>1                                                                         </td><td>au                                                                        </td><td>secure_mirror_from_master                                                 </td></tr>\n",
       "\t<tr><td>Australia (Melbourne)                                                     </td><td>Australia                                                                 </td><td>Melbourne                                                                 </td><td>http://cran.ms.unimelb.edu.au/                                            </td><td>University of Melbourne                                                   </td><td>cran # ms.unimelb.edu.au                                                  </td><td>1                                                                         </td><td>au                                                                        </td><td>secure_mirror_from_master                                                 </td></tr>\n",
       "\t<tr><td>Australia (Perth) [https]                                                 </td><td>Australia                                                                 </td><td>Perth                                                                     </td><td>https://cran.curtin.edu.au/                                               </td><td>Curtin University of Technology                                           </td><td>unix # curtin.edu.au                                                      </td><td>1                                                                         </td><td>au                                                                        </td><td>secure_mirror_from_master                                                 </td></tr>\n",
       "\t<tr><td>Austria [https]                                                           </td><td>Austria                                                                   </td><td>Wien                                                                      </td><td>https://cran.wu.ac.at/                                                    </td><td>Wirtschaftsuniversität Wien                                               </td><td>CRAN # R-project.org                                                      </td><td>1                                                                         </td><td>at                                                                        </td><td>                                                                          </td></tr>\n",
       "\t<tr><td>Austria                                                                   </td><td>Austria                                                                   </td><td>Wien                                                                      </td><td>http://cran.wu.ac.at/                                                     </td><td>Wirtschaftsuniversität Wien                                               </td><td>CRAN # R-project.org                                                      </td><td>1                                                                         </td><td>at                                                                        </td><td>                                                                          </td></tr>\n",
       "\t<tr><td>Belgium (Antwerp)                                                         </td><td>Belgium                                                                   </td><td>Antwerp                                                                   </td><td>http://www.freestatistics.org/cran/                                       </td><td>K.U.Leuven Association                                                    </td><td>patrick # wessa.net                                                       </td><td>1                                                                         </td><td>be                                                                        </td><td>                                                                          </td></tr>\n",
       "\t<tr><td><span style=white-space:pre-wrap>Belgium (Ghent) [https]      </span>                                             </td><td><span style=white-space:pre-wrap>Belgium  </span>                                                                 </td><td><span style=white-space:pre-wrap>Ghent         </span>                                                            </td><td><span style=white-space:pre-wrap>https://lib.ugent.be/CRAN/            </span>                                    </td><td><span style=white-space:pre-wrap>Ghent University Library                                                  </span></td><td><span style=white-space:pre-wrap>Patrick Hochstenbach &lt;Patrick.Hochstenbach # UGent.be&gt;            </span>  </td><td>1                                                                                                                 </td><td>be                                                                                                                </td><td>secure_mirror_from_master                                                                                         </td></tr>\n",
       "\t<tr><td><span style=white-space:pre-wrap>Belgium (Ghent)              </span>                                             </td><td><span style=white-space:pre-wrap>Belgium  </span>                                                                 </td><td><span style=white-space:pre-wrap>Ghent         </span>                                                            </td><td><span style=white-space:pre-wrap>http://lib.ugent.be/CRAN/             </span>                                    </td><td><span style=white-space:pre-wrap>Ghent University Library                                                  </span></td><td><span style=white-space:pre-wrap>Patrick Hochstenbach &lt;Patrick.Hochstenbach # UGent.be&gt;            </span>  </td><td>1                                                                                                                 </td><td>be                                                                                                                </td><td>secure_mirror_from_master                                                                                         </td></tr>\n",
       "\t<tr><td>Brazil (BA)                                                               </td><td>Brazil                                                                    </td><td>Ilheus                                                                    </td><td>http://nbcgib.uesc.br/mirrors/cran/                                       </td><td>Center for Comp. Biol. at Universidade Estadual de Santa Cruz             </td><td>eduardo # nbcgib.uesc.br                                                  </td><td>1                                                                         </td><td>br                                                                        </td><td>                                                                          </td></tr>\n",
       "\t<tr><td><span style=white-space:pre-wrap>Brazil (PR)                  </span>                                             </td><td><span style=white-space:pre-wrap>Brazil   </span>                                                                 </td><td><span style=white-space:pre-wrap>Curitiba      </span>                                                            </td><td><span style=white-space:pre-wrap>http://cran-r.c3sl.ufpr.br/           </span>                                    </td><td><span style=white-space:pre-wrap>Universidade Federal do Parana                                            </span></td><td><span style=white-space:pre-wrap>Paulo Justiniano Ribeiro Junior &lt;paulojus # ufpr.br&gt;              </span>  </td><td>1                                                                                                                 </td><td>br                                                                                                                </td><td><span style=white-space:pre-wrap>                          </span>                                                </td></tr>\n",
       "\t<tr><td>Brazil (RJ) [https]                                                       </td><td>Brazil                                                                    </td><td>Rio de Janeiro                                                            </td><td>https://cran.fiocruz.br/                                                  </td><td>Oswaldo Cruz Foundation, Rio de Janeiro                                   </td><td>oswaldo.cruz # fiocruz.br                                                 </td><td>1                                                                         </td><td>br                                                                        </td><td>secure_mirror_from_master                                                 </td></tr>\n",
       "\t<tr><td>Brazil (RJ)                                                               </td><td>Brazil                                                                    </td><td>Rio de Janeiro                                                            </td><td>http://cran.fiocruz.br/                                                   </td><td>Oswaldo Cruz Foundation, Rio de Janeiro                                   </td><td>oswaldo.cruz # fiocruz.br                                                 </td><td>1                                                                         </td><td>br                                                                        </td><td>secure_mirror_from_master                                                 </td></tr>\n",
       "\t<tr><td><span style=white-space:pre-wrap>Brazil (SP 1) [https]        </span>                                             </td><td><span style=white-space:pre-wrap>Brazil   </span>                                                                 </td><td><span style=white-space:pre-wrap>Sao Paulo     </span>                                                            </td><td><span style=white-space:pre-wrap>https://vps.fmvz.usp.br/CRAN/         </span>                                    </td><td><span style=white-space:pre-wrap>University of Sao Paulo, Sao Paulo                                        </span></td><td><span style=white-space:pre-wrap>Fernando Ferreira &lt;fernando # vps.fmvz.usp.br&gt;                    </span>  </td><td>1                                                                                                                 </td><td>br                                                                                                                </td><td>secure_mirror_from_master                                                                                         </td></tr>\n",
       "\t<tr><td><span style=white-space:pre-wrap>Brazil (SP 1)                </span>                                             </td><td><span style=white-space:pre-wrap>Brazil   </span>                                                                 </td><td><span style=white-space:pre-wrap>Sao Paulo     </span>                                                            </td><td><span style=white-space:pre-wrap>http://vps.fmvz.usp.br/CRAN/          </span>                                    </td><td><span style=white-space:pre-wrap>University of Sao Paulo, Sao Paulo                                        </span></td><td><span style=white-space:pre-wrap>Fernando Ferreira &lt;fernando # vps.fmvz.usp.br&gt;                    </span>  </td><td>1                                                                                                                 </td><td>br                                                                                                                </td><td>secure_mirror_from_master                                                                                         </td></tr>\n",
       "\t<tr><td><span style=white-space:pre-wrap>Brazil (SP 2)                </span>                                             </td><td><span style=white-space:pre-wrap>Brazil   </span>                                                                 </td><td><span style=white-space:pre-wrap>Piracicaba    </span>                                                            </td><td><span style=white-space:pre-wrap>http://brieger.esalq.usp.br/CRAN/     </span>                                    </td><td><span style=white-space:pre-wrap>University of Sao Paulo, Piracicaba                                       </span></td><td>A Augusto F Garcia &lt;aafgarci # gmail.com&gt;, augusto.garcia # usp.br                                          </td><td>1                                                                                                                 </td><td>br                                                                                                                </td><td><span style=white-space:pre-wrap>                          </span>                                                </td></tr>\n",
       "\t<tr><td><span style=white-space:pre-wrap>Bulgaria [https]             </span>                                             </td><td>Bulgaria                                                                                                          </td><td><span style=white-space:pre-wrap>Sofia         </span>                                                            </td><td><span style=white-space:pre-wrap>https://ftp.uni-sofia.bg/CRAN/        </span>                                    </td><td><span style=white-space:pre-wrap>Sofia University                                                          </span></td><td><span style=white-space:pre-wrap>Alexander Velin &lt;velin # fccf.net&gt;                                </span>  </td><td>1                                                                                                                 </td><td>bg                                                                                                                </td><td>secure_mirror_from_master                                                                                         </td></tr>\n",
       "\t<tr><td><span style=white-space:pre-wrap>Bulgaria                     </span>                                             </td><td>Bulgaria                                                                                                          </td><td><span style=white-space:pre-wrap>Sofia         </span>                                                            </td><td><span style=white-space:pre-wrap>http://ftp.uni-sofia.bg/CRAN/         </span>                                    </td><td><span style=white-space:pre-wrap>Sofia University                                                          </span></td><td><span style=white-space:pre-wrap>Alexander Velin &lt;velin # fccf.net&gt;                                </span>  </td><td>1                                                                                                                 </td><td>bg                                                                                                                </td><td>secure_mirror_from_master                                                                                         </td></tr>\n",
       "\t<tr><td>Canada (BC)                                                               </td><td>Canada                                                                    </td><td>Burnaby                                                                   </td><td>http://cran.stat.sfu.ca/                                                  </td><td>Simon Fraser University, Burnaby                                          </td><td>gripe # sfu.ca                                                            </td><td>1                                                                         </td><td>ca                                                                        </td><td>maintainer_address_bounces                                                </td></tr>\n",
       "\t<tr><td>Canada (MB) [https]                                                       </td><td>Canada                                                                    </td><td>Winnipeg                                                                  </td><td>https://muug.ca/mirror/cran/                                              </td><td>Manitoba Unix User Group                                                  </td><td>mirror # muug.ca                                                          </td><td>1                                                                         </td><td>ca                                                                        </td><td>                                                                          </td></tr>\n",
       "\t<tr><td>Canada (MB)                                                               </td><td>Canada                                                                    </td><td>Winnipeg                                                                  </td><td>http://muug.ca/mirror/cran/                                               </td><td>Manitoba Unix User Group                                                  </td><td>mirror # muug.ca                                                          </td><td>1                                                                         </td><td>ca                                                                        </td><td>                                                                          </td></tr>\n",
       "\t<tr><td>Canada (NS)                                                               </td><td>Canada                                                                    </td><td>Halifax                                                                   </td><td>http://mirror.its.dal.ca/cran/                                            </td><td>Dalhousie University, Halifax                                             </td><td>mirror # lists.dal.ca                                                     </td><td>1                                                                         </td><td>ca                                                                        </td><td>                                                                          </td></tr>\n",
       "\t<tr><td><span style=white-space:pre-wrap>Canada (ON)                  </span>                                             </td><td><span style=white-space:pre-wrap>Canada   </span>                                                                 </td><td><span style=white-space:pre-wrap>Toronto       </span>                                                            </td><td><span style=white-space:pre-wrap>http://cran.utstat.utoronto.ca/       </span>                                    </td><td><span style=white-space:pre-wrap>University of Toronto                                                     </span></td><td><span style=white-space:pre-wrap>Dermot Whelan &lt;wheland # utstat.utoronto.ca&gt;                      </span>  </td><td>1                                                                                                                 </td><td>ca                                                                                                                </td><td><span style=white-space:pre-wrap>                          </span>                                                </td></tr>\n",
       "\t<tr><td><span style=white-space:pre-wrap>Chile 1 [https]              </span>                                             </td><td><span style=white-space:pre-wrap>Chile    </span>                                                                 </td><td><span style=white-space:pre-wrap>Santiago      </span>                                                            </td><td><span style=white-space:pre-wrap>https://dirichlet.mat.puc.cl/         </span>                                    </td><td><span style=white-space:pre-wrap>Pontificia Universidad Catolica de Chile, Santiago                        </span></td><td><span style=white-space:pre-wrap>Fernando Quintana &lt;quintana # mat.puc.cl&gt;                         </span>  </td><td>1                                                                                                                 </td><td>cl                                                                                                                </td><td>secure_mirror_from_master                                                                                         </td></tr>\n",
       "\t<tr><td>...</td><td>...</td><td>...</td><td>...</td><td>...</td><td>...</td><td>...</td><td>...</td><td>...</td></tr>\n",
       "\t<tr><td><span style=white-space:pre-wrap>UK (Cambridge)       </span>                                       </td><td><span style=white-space:pre-wrap>UK       </span>                                                   </td><td><span style=white-space:pre-wrap>Cambridge  </span>                                                 </td><td><span style=white-space:pre-wrap>http://mirrors.ebi.ac.uk/CRAN/           </span>                   </td><td><span style=white-space:pre-wrap>EMBL-EBI (European Bioinformatics Institute)                </span></td><td><span style=white-space:pre-wrap>Andrew Tikhonov &lt;andrew # ebi.ac.uk&gt;         </span>         </td><td>1                                                                                                   </td><td>uk                                                                                                  </td><td>secure_mirror_from_master                                                                           </td></tr>\n",
       "\t<tr><td>UK (London 1) [https]                                       </td><td>UK                                                          </td><td>London                                                      </td><td>https://cran.ma.imperial.ac.uk/                             </td><td>Imperial College London                                     </td><td>andy.thomas # imperial.ac.uk                                </td><td>1                                                           </td><td>uk                                                          </td><td>secure_mirror_from_master                                   </td></tr>\n",
       "\t<tr><td>UK (London 1)                                               </td><td>UK                                                          </td><td>London                                                      </td><td>http://cran.ma.imperial.ac.uk/                              </td><td>Imperial College London                                     </td><td>andy.thomas # imperial.ac.uk                                </td><td>1                                                           </td><td>uk                                                          </td><td>secure_mirror_from_master                                   </td></tr>\n",
       "\t<tr><td><span style=white-space:pre-wrap>UK (London 2)        </span>                                       </td><td><span style=white-space:pre-wrap>UK       </span>                                                   </td><td><span style=white-space:pre-wrap>London     </span>                                                 </td><td><span style=white-space:pre-wrap>http://mirror.mdx.ac.uk/R/               </span>                   </td><td><span style=white-space:pre-wrap>Middlesex University London                                 </span></td><td><span style=white-space:pre-wrap>Louis Slabbert &lt;l.slabbert # mdx.ac.uk&gt;      </span>         </td><td>1                                                                                                   </td><td>uk                                                                                                  </td><td><span style=white-space:pre-wrap>                          </span>                                  </td></tr>\n",
       "\t<tr><td><span style=white-space:pre-wrap>UK (St Andrews)      </span>                                       </td><td><span style=white-space:pre-wrap>UK       </span>                                                   </td><td>St Andrews                                                                                          </td><td><span style=white-space:pre-wrap>http://star-www.st-andrews.ac.uk/cran/   </span>                   </td><td><span style=white-space:pre-wrap>St Andrews University                                       </span></td><td><span style=white-space:pre-wrap>Lee Kelvin &lt;lsk9 # St-andrews.ac.uk&gt;         </span>         </td><td>1                                                                                                   </td><td>uk                                                                                                  </td><td>maintainer_address_bounces                                                                          </td></tr>\n",
       "\t<tr><td>USA (CA 1) [https]                                          </td><td>USA                                                         </td><td>Berkeley                                                    </td><td>https://cran.cnr.berkeley.edu/                              </td><td>University of California, Berkeley, CA                      </td><td>casterln # nature.berkeley.edu                              </td><td>1                                                           </td><td>us                                                          </td><td>secure_mirror_from_master                                   </td></tr>\n",
       "\t<tr><td>USA (CA 1)                                                  </td><td>USA                                                         </td><td>Berkeley                                                    </td><td>http://cran.cnr.berkeley.edu/                               </td><td>University of California, Berkeley, CA                      </td><td>casterln # nature.berkeley.edu                              </td><td>1                                                           </td><td>us                                                          </td><td>secure_mirror_from_master                                   </td></tr>\n",
       "\t<tr><td><span style=white-space:pre-wrap>USA (CA 2)           </span>                                       </td><td><span style=white-space:pre-wrap>USA      </span>                                                   </td><td>Los Angeles                                                                                         </td><td><span style=white-space:pre-wrap>http://cran.stat.ucla.edu/               </span>                   </td><td><span style=white-space:pre-wrap>University of California, Los Angeles, CA                   </span></td><td><span style=white-space:pre-wrap>Jose Hales-Garcia &lt;jose # stat.ucla.edu&gt;     </span>         </td><td>1                                                                                                   </td><td>us                                                                                                  </td><td><span style=white-space:pre-wrap>                          </span>                                  </td></tr>\n",
       "\t<tr><td>USA (IA) [https]                                            </td><td>USA                                                         </td><td>Ames                                                        </td><td>https://mirror.las.iastate.edu/CRAN/                        </td><td>Iowa State University, Ames, IA                             </td><td>statit # iastate.edu                                        </td><td>1                                                           </td><td>us                                                          </td><td>                                                            </td></tr>\n",
       "\t<tr><td>USA (IA)                                                    </td><td>USA                                                         </td><td>Ames                                                        </td><td>http://mirror.las.iastate.edu/CRAN/                         </td><td>Iowa State University, Ames, IA                             </td><td>statit # iastate.edu                                        </td><td>1                                                           </td><td>us                                                          </td><td>                                                            </td></tr>\n",
       "\t<tr><td>USA (IN) [https]                                            </td><td>USA                                                         </td><td>Bloomington                                                 </td><td>https://ftp.ussg.iu.edu/CRAN/                               </td><td>Indiana University                                          </td><td>rtadmin # indiana.edu                                       </td><td>1                                                           </td><td>us                                                          </td><td>                                                            </td></tr>\n",
       "\t<tr><td>USA (IN)                                                    </td><td>USA                                                         </td><td>Bloomington                                                 </td><td>http://ftp.ussg.iu.edu/CRAN/                                </td><td>Indiana University                                          </td><td>rtadmin # indiana.edu                                       </td><td>1                                                           </td><td>us                                                          </td><td>                                                            </td></tr>\n",
       "\t<tr><td><span style=white-space:pre-wrap>USA (KS) [https]     </span>                                       </td><td><span style=white-space:pre-wrap>USA      </span>                                                   </td><td><span style=white-space:pre-wrap>Lawrence   </span>                                                 </td><td><span style=white-space:pre-wrap>https://rweb.crmda.ku.edu/cran/          </span>                   </td><td><span style=white-space:pre-wrap>University of Kansas, Lawrence, KS                          </span></td><td><span style=white-space:pre-wrap>Paul Johnson &lt;pauljohn # ku.edu&gt;             </span>         </td><td>1                                                                                                   </td><td>us                                                                                                  </td><td>secure_mirror_from_master                                                                           </td></tr>\n",
       "\t<tr><td><span style=white-space:pre-wrap>USA (KS)             </span>                                       </td><td><span style=white-space:pre-wrap>USA      </span>                                                   </td><td><span style=white-space:pre-wrap>Lawrence   </span>                                                 </td><td><span style=white-space:pre-wrap>http://rweb.crmda.ku.edu/cran/           </span>                   </td><td><span style=white-space:pre-wrap>University of Kansas, Lawrence, KS                          </span></td><td><span style=white-space:pre-wrap>Paul Johnson &lt;pauljohn # ku.edu&gt;             </span>         </td><td>1                                                                                                   </td><td>us                                                                                                  </td><td>secure_mirror_from_master                                                                           </td></tr>\n",
       "\t<tr><td><span style=white-space:pre-wrap>USA (MI 1) [https]   </span>                                       </td><td><span style=white-space:pre-wrap>USA      </span>                                                   </td><td><span style=white-space:pre-wrap>Houghton   </span>                                                 </td><td><span style=white-space:pre-wrap>https://cran.mtu.edu/                    </span>                   </td><td><span style=white-space:pre-wrap>Michigan Technological University, Houghton, MI             </span></td><td><span style=white-space:pre-wrap>Robert Froese &lt;froese # mtu.edu&gt;             </span>         </td><td>1                                                                                                   </td><td>us                                                                                                  </td><td>secure_mirror_from_master                                                                           </td></tr>\n",
       "\t<tr><td><span style=white-space:pre-wrap>USA (MI 1)           </span>                                       </td><td><span style=white-space:pre-wrap>USA      </span>                                                   </td><td><span style=white-space:pre-wrap>Houghton   </span>                                                 </td><td><span style=white-space:pre-wrap>http://cran.mtu.edu/                     </span>                   </td><td><span style=white-space:pre-wrap>Michigan Technological University, Houghton, MI             </span></td><td><span style=white-space:pre-wrap>Robert Froese &lt;froese # mtu.edu&gt;             </span>         </td><td>1                                                                                                   </td><td>us                                                                                                  </td><td>secure_mirror_from_master                                                                           </td></tr>\n",
       "\t<tr><td>USA (MO)                                                    </td><td>USA                                                         </td><td>St. Louis                                                   </td><td>http://cran.wustl.edu/                                      </td><td>Washington University, St. Louis, MO                        </td><td>admartin # wustl.edu                                        </td><td>1                                                           </td><td>us                                                          </td><td>maintainer_address_bounces                                  </td></tr>\n",
       "\t<tr><td>USA (NC)                                                    </td><td>USA                                                         </td><td>Durham                                                      </td><td>http://archive.linux.duke.edu/cran/                         </td><td>Duke University, Durham, NC                                 </td><td>csi-linux-admins # duke.edu                                 </td><td>1                                                           </td><td>us                                                          </td><td>                                                            </td></tr>\n",
       "\t<tr><td><span style=white-space:pre-wrap>USA (OH 1)           </span>                                       </td><td><span style=white-space:pre-wrap>USA      </span>                                                   </td><td><span style=white-space:pre-wrap>Cleveland  </span>                                                 </td><td><span style=white-space:pre-wrap>http://cran.case.edu/                    </span>                   </td><td><span style=white-space:pre-wrap>Case Western Reserve University, Cleveland, OH              </span></td><td><span style=white-space:pre-wrap>\"Alberto H. Santana\" &lt;ahs4 # case.edu&gt;       </span>         </td><td>1                                                                                                   </td><td>us                                                                                                  </td><td><span style=white-space:pre-wrap>                          </span>                                  </td></tr>\n",
       "\t<tr><td><span style=white-space:pre-wrap>USA (OH 2)           </span>                                       </td><td><span style=white-space:pre-wrap>USA      </span>                                                   </td><td><span style=white-space:pre-wrap>Dayton     </span>                                                 </td><td><span style=white-space:pre-wrap>http://iis.stat.wright.edu/CRAN/         </span>                   </td><td><span style=white-space:pre-wrap>Wright State University, Dayton, OH                         </span></td><td><span style=white-space:pre-wrap>Long Qu &lt;long.qu # wright.edu&gt;               </span>         </td><td>1                                                                                                   </td><td>us                                                                                                  </td><td><span style=white-space:pre-wrap>                          </span>                                  </td></tr>\n",
       "\t<tr><td>USA (OR) [https]                                            </td><td>USA                                                         </td><td>Corvallis                                                   </td><td>https://ftp.osuosl.org/pub/cran/                            </td><td>Oregon State University                                     </td><td>support # Osuosl.org                                        </td><td>1                                                           </td><td>us                                                          </td><td>                                                            </td></tr>\n",
       "\t<tr><td>USA (OR)                                                    </td><td>USA                                                         </td><td>Corvallis                                                   </td><td>http://ftp.osuosl.org/pub/cran/                             </td><td>Oregon State University                                     </td><td>support # Osuosl.org                                        </td><td>1                                                           </td><td>us                                                          </td><td>                                                            </td></tr>\n",
       "\t<tr><td><span style=white-space:pre-wrap>USA (PA 1)           </span>                                       </td><td><span style=white-space:pre-wrap>USA      </span>                                                   </td><td>Pittsburgh                                                                                          </td><td><span style=white-space:pre-wrap>http://lib.stat.cmu.edu/R/CRAN/          </span>                   </td><td><span style=white-space:pre-wrap>Statlib, Carnegie Mellon University, Pittsburgh, PA         </span></td><td><span style=white-space:pre-wrap>Carl Skipper &lt;remarks # stat.cmu.edu&gt;        </span>         </td><td>1                                                                                                   </td><td>us                                                                                                  </td><td><span style=white-space:pre-wrap>                          </span>                                  </td></tr>\n",
       "\t<tr><td><span style=white-space:pre-wrap>USA (PA 2)           </span>                                       </td><td><span style=white-space:pre-wrap>USA      </span>                                                   </td><td>Pittsburgh                                                                                          </td><td><span style=white-space:pre-wrap>http://cran.mirrors.hoobly.com/          </span>                   </td><td><span style=white-space:pre-wrap>Hoobly Classifieds, Pittsburgh, PA                          </span></td><td><span style=white-space:pre-wrap>Peter Grigor &lt;pgrigor # hoobly.com&gt;          </span>         </td><td>1                                                                                                   </td><td>us                                                                                                  </td><td><span style=white-space:pre-wrap>                          </span>                                  </td></tr>\n",
       "\t<tr><td>USA (TN) [https]                                            </td><td>USA                                                         </td><td>Oak Ridge                                                   </td><td>https://mirrors.nics.utk.edu/cran/                          </td><td>National Institute for Computational Sciences, Oak Ridge, TN</td><td>help # nics.utk.edu                                         </td><td>1                                                           </td><td>us                                                          </td><td>secure_mirror_from_master                                   </td></tr>\n",
       "\t<tr><td>USA (TN)                                                    </td><td>USA                                                         </td><td>Oak Ridge                                                   </td><td>http://mirrors.nics.utk.edu/cran/                           </td><td>National Institute for Computational Sciences, Oak Ridge, TN</td><td>help # nics.utk.edu                                         </td><td>1                                                           </td><td>us                                                          </td><td>secure_mirror_from_master                                   </td></tr>\n",
       "\t<tr><td><span style=white-space:pre-wrap>USA (TX 1) [https]   </span>                                       </td><td><span style=white-space:pre-wrap>USA      </span>                                                   </td><td><span style=white-space:pre-wrap>Dallas     </span>                                                 </td><td><span style=white-space:pre-wrap>https://cran.revolutionanalytics.com/    </span>                   </td><td><span style=white-space:pre-wrap>Revolution Analytics, Dallas, TX                            </span></td><td>David Smith &lt;david # revolutionanalytics.com&gt;                                                 </td><td>1                                                                                                   </td><td>us                                                                                                  </td><td>secure_mirror_from_master                                                                           </td></tr>\n",
       "\t<tr><td><span style=white-space:pre-wrap>USA (TX 1)           </span>                                       </td><td><span style=white-space:pre-wrap>USA      </span>                                                   </td><td><span style=white-space:pre-wrap>Dallas     </span>                                                 </td><td><span style=white-space:pre-wrap>http://cran.revolutionanalytics.com/     </span>                   </td><td><span style=white-space:pre-wrap>Revolution Analytics, Dallas, TX                            </span></td><td>David Smith &lt;david # revolutionanalytics.com&gt;                                                 </td><td>1                                                                                                   </td><td>us                                                                                                  </td><td>secure_mirror_from_master                                                                           </td></tr>\n",
       "\t<tr><td><span style=white-space:pre-wrap>USA (TX 2) [https]   </span>                                       </td><td><span style=white-space:pre-wrap>USA      </span>                                                   </td><td>San Antonio                                                                                         </td><td>https://mirror.usertrust.info/cranmirror/                                                           </td><td><span style=white-space:pre-wrap>Dark Particle Labs, San Antonio                             </span></td><td><span style=white-space:pre-wrap>Matt Weeks &lt;scriptjunkie # scriptjunkie.us&gt;  </span>         </td><td>1                                                                                                   </td><td>us                                                                                                  </td><td>secure_mirror_from_master                                                                           </td></tr>\n",
       "\t<tr><td>Venezuela                                                   </td><td>Venezuela                                                   </td><td>Valencia                                                    </td><td>http://camoruco.ing.uc.edu.ve/cran/                         </td><td>Universidad de Carabobo Venezuela                           </td><td>dir-imyca # uc.edu.ve                                       </td><td>1                                                           </td><td>ve                                                          </td><td>                                                            </td></tr>\n",
       "</tbody>\n",
       "</table>\n"
      ],
      "text/latex": [
       "\\begin{tabular}{r|lllllllll}\n",
       " Name & Country & City & URL & Host & Maintainer & OK & CountryCode & Comment\\\\\n",
       "\\hline\n",
       "\t 0-Cloud {[}https{]}                                                        & 0-Cloud                                                                    & 0-Cloud                                                                    & https://cloud.r-project.org/                                               & Automatic redirection to servers worldwide, currently sponsored by Rstudio & winston \\# stdout.org                                                     & 1                                                                          & us                                                                         & secure\\_mirror\\_from\\_master                                           \\\\\n",
       "\t 0-Cloud                                                                    & 0-Cloud                                                                    & 0-Cloud                                                                    & http://cloud.r-project.org/                                                & Automatic redirection to servers worldwide, currently sponsored by Rstudio & winston \\# stdout.org                                                     & 1                                                                          & us                                                                         & secure\\_mirror\\_from\\_master                                           \\\\\n",
       "\t Algeria {[}https{]}                                                        & Algeria                                                                    & Algiers                                                                    & https://cran.usthb.dz/                                                     & University of Science and Technology Houari Boumediene                     & Boukala m c <mboukala \\# usthb.dz>                                        & 1                                                                          & dz                                                                         &                                                                           \\\\\n",
       "\t Algeria                                                                    & Algeria                                                                    & Algiers                                                                    & http://cran.usthb.dz/                                                      & University of Science and Technology Houari Boumediene                     & Boukala m c <mboukala \\# usthb.dz>                                        & 1                                                                          & dz                                                                         &                                                                           \\\\\n",
       "\t Argentina (La Plata)                                                       & Argentina                                                                  & La Plata                                                                   & http://mirror.fcaglp.unlp.edu.ar/CRAN/                                     & Universidad Nacional de La Plata                                           & esuarez \\# Fcaglp.unlp.edu.ar                                             & 1                                                                          & ar                                                                         &                                                                           \\\\\n",
       "\t Australia (Canberra) {[}https{]}                                           & Australia                                                                  & Canberra                                                                   & https://cran.csiro.au/                                                     & CSIRO                                                                      & Bill.Venables \\# CSIRO.au, ServiceDesk2 \\# CSIRO.au                      & 1                                                                          & au                                                                         & secure\\_mirror\\_from\\_master                                           \\\\\n",
       "\t Australia (Canberra)                                                       & Australia                                                                  & Canberra                                                                   & http://cran.csiro.au/                                                      & CSIRO                                                                      & Bill.Venables \\# CSIRO.au, ServiceDesk2 \\# CSIRO.au                      & 1                                                                          & au                                                                         & secure\\_mirror\\_from\\_master                                           \\\\\n",
       "\t Australia (Melbourne) {[}https{]}                                          & Australia                                                                  & Melbourne                                                                  & https://cran.ms.unimelb.edu.au/                                            & University of Melbourne                                                    & cran \\# ms.unimelb.edu.au                                                 & 1                                                                          & au                                                                         & secure\\_mirror\\_from\\_master                                           \\\\\n",
       "\t Australia (Melbourne)                                                      & Australia                                                                  & Melbourne                                                                  & http://cran.ms.unimelb.edu.au/                                             & University of Melbourne                                                    & cran \\# ms.unimelb.edu.au                                                 & 1                                                                          & au                                                                         & secure\\_mirror\\_from\\_master                                           \\\\\n",
       "\t Australia (Perth) {[}https{]}                                              & Australia                                                                  & Perth                                                                      & https://cran.curtin.edu.au/                                                & Curtin University of Technology                                            & unix \\# curtin.edu.au                                                     & 1                                                                          & au                                                                         & secure\\_mirror\\_from\\_master                                           \\\\\n",
       "\t Austria {[}https{]}                                                        & Austria                                                                    & Wien                                                                       & https://cran.wu.ac.at/                                                     & Wirtschaftsuniversität Wien                                                & CRAN \\# R-project.org                                                     & 1                                                                          & at                                                                         &                                                                           \\\\\n",
       "\t Austria                                                                    & Austria                                                                    & Wien                                                                       & http://cran.wu.ac.at/                                                      & Wirtschaftsuniversität Wien                                                & CRAN \\# R-project.org                                                     & 1                                                                          & at                                                                         &                                                                           \\\\\n",
       "\t Belgium (Antwerp)                                                          & Belgium                                                                    & Antwerp                                                                    & http://www.freestatistics.org/cran/                                        & K.U.Leuven Association                                                     & patrick \\# wessa.net                                                      & 1                                                                          & be                                                                         &                                                                           \\\\\n",
       "\t Belgium (Ghent) {[}https{]}                                                & Belgium                                                                    & Ghent                                                                      & https://lib.ugent.be/CRAN/                                                 & Ghent University Library                                                   & Patrick Hochstenbach <Patrick.Hochstenbach \\# UGent.be>                   & 1                                                                          & be                                                                         & secure\\_mirror\\_from\\_master                                           \\\\\n",
       "\t Belgium (Ghent)                                                            & Belgium                                                                    & Ghent                                                                      & http://lib.ugent.be/CRAN/                                                  & Ghent University Library                                                   & Patrick Hochstenbach <Patrick.Hochstenbach \\# UGent.be>                   & 1                                                                          & be                                                                         & secure\\_mirror\\_from\\_master                                           \\\\\n",
       "\t Brazil (BA)                                                                & Brazil                                                                     & Ilheus                                                                     & http://nbcgib.uesc.br/mirrors/cran/                                        & Center for Comp. Biol. at Universidade Estadual de Santa Cruz              & eduardo \\# nbcgib.uesc.br                                                 & 1                                                                          & br                                                                         &                                                                           \\\\\n",
       "\t Brazil (PR)                                                                & Brazil                                                                     & Curitiba                                                                   & http://cran-r.c3sl.ufpr.br/                                                & Universidade Federal do Parana                                             & Paulo Justiniano Ribeiro Junior <paulojus \\# ufpr.br>                     & 1                                                                          & br                                                                         &                                                                           \\\\\n",
       "\t Brazil (RJ) {[}https{]}                                                    & Brazil                                                                     & Rio de Janeiro                                                             & https://cran.fiocruz.br/                                                   & Oswaldo Cruz Foundation, Rio de Janeiro                                    & oswaldo.cruz \\# fiocruz.br                                                & 1                                                                          & br                                                                         & secure\\_mirror\\_from\\_master                                           \\\\\n",
       "\t Brazil (RJ)                                                                & Brazil                                                                     & Rio de Janeiro                                                             & http://cran.fiocruz.br/                                                    & Oswaldo Cruz Foundation, Rio de Janeiro                                    & oswaldo.cruz \\# fiocruz.br                                                & 1                                                                          & br                                                                         & secure\\_mirror\\_from\\_master                                           \\\\\n",
       "\t Brazil (SP 1) {[}https{]}                                                  & Brazil                                                                     & Sao Paulo                                                                  & https://vps.fmvz.usp.br/CRAN/                                              & University of Sao Paulo, Sao Paulo                                         & Fernando Ferreira <fernando \\# vps.fmvz.usp.br>                           & 1                                                                          & br                                                                         & secure\\_mirror\\_from\\_master                                           \\\\\n",
       "\t Brazil (SP 1)                                                              & Brazil                                                                     & Sao Paulo                                                                  & http://vps.fmvz.usp.br/CRAN/                                               & University of Sao Paulo, Sao Paulo                                         & Fernando Ferreira <fernando \\# vps.fmvz.usp.br>                           & 1                                                                          & br                                                                         & secure\\_mirror\\_from\\_master                                           \\\\\n",
       "\t Brazil (SP 2)                                                              & Brazil                                                                     & Piracicaba                                                                 & http://brieger.esalq.usp.br/CRAN/                                          & University of Sao Paulo, Piracicaba                                        & A Augusto F Garcia <aafgarci \\# gmail.com>, augusto.garcia \\# usp.br     & 1                                                                          & br                                                                         &                                                                           \\\\\n",
       "\t Bulgaria {[}https{]}                                                       & Bulgaria                                                                   & Sofia                                                                      & https://ftp.uni-sofia.bg/CRAN/                                             & Sofia University                                                           & Alexander Velin <velin \\# fccf.net>                                       & 1                                                                          & bg                                                                         & secure\\_mirror\\_from\\_master                                           \\\\\n",
       "\t Bulgaria                                                                   & Bulgaria                                                                   & Sofia                                                                      & http://ftp.uni-sofia.bg/CRAN/                                              & Sofia University                                                           & Alexander Velin <velin \\# fccf.net>                                       & 1                                                                          & bg                                                                         & secure\\_mirror\\_from\\_master                                           \\\\\n",
       "\t Canada (BC)                                                                & Canada                                                                     & Burnaby                                                                    & http://cran.stat.sfu.ca/                                                   & Simon Fraser University, Burnaby                                           & gripe \\# sfu.ca                                                           & 1                                                                          & ca                                                                         & maintainer\\_address\\_bounces                                            \\\\\n",
       "\t Canada (MB) {[}https{]}                                                    & Canada                                                                     & Winnipeg                                                                   & https://muug.ca/mirror/cran/                                               & Manitoba Unix User Group                                                   & mirror \\# muug.ca                                                         & 1                                                                          & ca                                                                         &                                                                           \\\\\n",
       "\t Canada (MB)                                                                & Canada                                                                     & Winnipeg                                                                   & http://muug.ca/mirror/cran/                                                & Manitoba Unix User Group                                                   & mirror \\# muug.ca                                                         & 1                                                                          & ca                                                                         &                                                                           \\\\\n",
       "\t Canada (NS)                                                                & Canada                                                                     & Halifax                                                                    & http://mirror.its.dal.ca/cran/                                             & Dalhousie University, Halifax                                              & mirror \\# lists.dal.ca                                                    & 1                                                                          & ca                                                                         &                                                                           \\\\\n",
       "\t Canada (ON)                                                                & Canada                                                                     & Toronto                                                                    & http://cran.utstat.utoronto.ca/                                            & University of Toronto                                                      & Dermot Whelan <wheland \\# utstat.utoronto.ca>                             & 1                                                                          & ca                                                                         &                                                                           \\\\\n",
       "\t Chile 1 {[}https{]}                                                        & Chile                                                                      & Santiago                                                                   & https://dirichlet.mat.puc.cl/                                              & Pontificia Universidad Catolica de Chile, Santiago                         & Fernando Quintana <quintana \\# mat.puc.cl>                                & 1                                                                          & cl                                                                         & secure\\_mirror\\_from\\_master                                           \\\\\n",
       "\t ... & ... & ... & ... & ... & ... & ... & ... & ...\\\\\n",
       "\t UK (Cambridge)                                               & UK                                                           & Cambridge                                                    & http://mirrors.ebi.ac.uk/CRAN/                               & EMBL-EBI (European Bioinformatics Institute)                 & Andrew Tikhonov <andrew \\# ebi.ac.uk>                       & 1                                                            & uk                                                           & secure\\_mirror\\_from\\_master                             \\\\\n",
       "\t UK (London 1) {[}https{]}                                    & UK                                                           & London                                                       & https://cran.ma.imperial.ac.uk/                              & Imperial College London                                      & andy.thomas \\# imperial.ac.uk                               & 1                                                            & uk                                                           & secure\\_mirror\\_from\\_master                             \\\\\n",
       "\t UK (London 1)                                                & UK                                                           & London                                                       & http://cran.ma.imperial.ac.uk/                               & Imperial College London                                      & andy.thomas \\# imperial.ac.uk                               & 1                                                            & uk                                                           & secure\\_mirror\\_from\\_master                             \\\\\n",
       "\t UK (London 2)                                                & UK                                                           & London                                                       & http://mirror.mdx.ac.uk/R/                                   & Middlesex University London                                  & Louis Slabbert <l.slabbert \\# mdx.ac.uk>                    & 1                                                            & uk                                                           &                                                             \\\\\n",
       "\t UK (St Andrews)                                              & UK                                                           & St Andrews                                                   & http://star-www.st-andrews.ac.uk/cran/                       & St Andrews University                                        & Lee Kelvin <lsk9 \\# St-andrews.ac.uk>                       & 1                                                            & uk                                                           & maintainer\\_address\\_bounces                              \\\\\n",
       "\t USA (CA 1) {[}https{]}                                       & USA                                                          & Berkeley                                                     & https://cran.cnr.berkeley.edu/                               & University of California, Berkeley, CA                       & casterln \\# nature.berkeley.edu                             & 1                                                            & us                                                           & secure\\_mirror\\_from\\_master                             \\\\\n",
       "\t USA (CA 1)                                                   & USA                                                          & Berkeley                                                     & http://cran.cnr.berkeley.edu/                                & University of California, Berkeley, CA                       & casterln \\# nature.berkeley.edu                             & 1                                                            & us                                                           & secure\\_mirror\\_from\\_master                             \\\\\n",
       "\t USA (CA 2)                                                   & USA                                                          & Los Angeles                                                  & http://cran.stat.ucla.edu/                                   & University of California, Los Angeles, CA                    & Jose Hales-Garcia <jose \\# stat.ucla.edu>                   & 1                                                            & us                                                           &                                                             \\\\\n",
       "\t USA (IA) {[}https{]}                                         & USA                                                          & Ames                                                         & https://mirror.las.iastate.edu/CRAN/                         & Iowa State University, Ames, IA                              & statit \\# iastate.edu                                       & 1                                                            & us                                                           &                                                             \\\\\n",
       "\t USA (IA)                                                     & USA                                                          & Ames                                                         & http://mirror.las.iastate.edu/CRAN/                          & Iowa State University, Ames, IA                              & statit \\# iastate.edu                                       & 1                                                            & us                                                           &                                                             \\\\\n",
       "\t USA (IN) {[}https{]}                                         & USA                                                          & Bloomington                                                  & https://ftp.ussg.iu.edu/CRAN/                                & Indiana University                                           & rtadmin \\# indiana.edu                                      & 1                                                            & us                                                           &                                                             \\\\\n",
       "\t USA (IN)                                                     & USA                                                          & Bloomington                                                  & http://ftp.ussg.iu.edu/CRAN/                                 & Indiana University                                           & rtadmin \\# indiana.edu                                      & 1                                                            & us                                                           &                                                             \\\\\n",
       "\t USA (KS) {[}https{]}                                         & USA                                                          & Lawrence                                                     & https://rweb.crmda.ku.edu/cran/                              & University of Kansas, Lawrence, KS                           & Paul Johnson <pauljohn \\# ku.edu>                           & 1                                                            & us                                                           & secure\\_mirror\\_from\\_master                             \\\\\n",
       "\t USA (KS)                                                     & USA                                                          & Lawrence                                                     & http://rweb.crmda.ku.edu/cran/                               & University of Kansas, Lawrence, KS                           & Paul Johnson <pauljohn \\# ku.edu>                           & 1                                                            & us                                                           & secure\\_mirror\\_from\\_master                             \\\\\n",
       "\t USA (MI 1) {[}https{]}                                       & USA                                                          & Houghton                                                     & https://cran.mtu.edu/                                        & Michigan Technological University, Houghton, MI              & Robert Froese <froese \\# mtu.edu>                           & 1                                                            & us                                                           & secure\\_mirror\\_from\\_master                             \\\\\n",
       "\t USA (MI 1)                                                   & USA                                                          & Houghton                                                     & http://cran.mtu.edu/                                         & Michigan Technological University, Houghton, MI              & Robert Froese <froese \\# mtu.edu>                           & 1                                                            & us                                                           & secure\\_mirror\\_from\\_master                             \\\\\n",
       "\t USA (MO)                                                     & USA                                                          & St. Louis                                                    & http://cran.wustl.edu/                                       & Washington University, St. Louis, MO                         & admartin \\# wustl.edu                                       & 1                                                            & us                                                           & maintainer\\_address\\_bounces                              \\\\\n",
       "\t USA (NC)                                                     & USA                                                          & Durham                                                       & http://archive.linux.duke.edu/cran/                          & Duke University, Durham, NC                                  & csi-linux-admins \\# duke.edu                                & 1                                                            & us                                                           &                                                             \\\\\n",
       "\t USA (OH 1)                                                   & USA                                                          & Cleveland                                                    & http://cran.case.edu/                                        & Case Western Reserve University, Cleveland, OH               & \"Alberto H. Santana\" <ahs4 \\# case.edu>                     & 1                                                            & us                                                           &                                                             \\\\\n",
       "\t USA (OH 2)                                                   & USA                                                          & Dayton                                                       & http://iis.stat.wright.edu/CRAN/                             & Wright State University, Dayton, OH                          & Long Qu <long.qu \\# wright.edu>                             & 1                                                            & us                                                           &                                                             \\\\\n",
       "\t USA (OR) {[}https{]}                                         & USA                                                          & Corvallis                                                    & https://ftp.osuosl.org/pub/cran/                             & Oregon State University                                      & support \\# Osuosl.org                                       & 1                                                            & us                                                           &                                                             \\\\\n",
       "\t USA (OR)                                                     & USA                                                          & Corvallis                                                    & http://ftp.osuosl.org/pub/cran/                              & Oregon State University                                      & support \\# Osuosl.org                                       & 1                                                            & us                                                           &                                                             \\\\\n",
       "\t USA (PA 1)                                                   & USA                                                          & Pittsburgh                                                   & http://lib.stat.cmu.edu/R/CRAN/                              & Statlib, Carnegie Mellon University, Pittsburgh, PA          & Carl Skipper <remarks \\# stat.cmu.edu>                      & 1                                                            & us                                                           &                                                             \\\\\n",
       "\t USA (PA 2)                                                   & USA                                                          & Pittsburgh                                                   & http://cran.mirrors.hoobly.com/                              & Hoobly Classifieds, Pittsburgh, PA                           & Peter Grigor <pgrigor \\# hoobly.com>                        & 1                                                            & us                                                           &                                                             \\\\\n",
       "\t USA (TN) {[}https{]}                                         & USA                                                          & Oak Ridge                                                    & https://mirrors.nics.utk.edu/cran/                           & National Institute for Computational Sciences, Oak Ridge, TN & help \\# nics.utk.edu                                        & 1                                                            & us                                                           & secure\\_mirror\\_from\\_master                             \\\\\n",
       "\t USA (TN)                                                     & USA                                                          & Oak Ridge                                                    & http://mirrors.nics.utk.edu/cran/                            & National Institute for Computational Sciences, Oak Ridge, TN & help \\# nics.utk.edu                                        & 1                                                            & us                                                           & secure\\_mirror\\_from\\_master                             \\\\\n",
       "\t USA (TX 1) {[}https{]}                                       & USA                                                          & Dallas                                                       & https://cran.revolutionanalytics.com/                        & Revolution Analytics, Dallas, TX                             & David Smith <david \\# revolutionanalytics.com>              & 1                                                            & us                                                           & secure\\_mirror\\_from\\_master                             \\\\\n",
       "\t USA (TX 1)                                                   & USA                                                          & Dallas                                                       & http://cran.revolutionanalytics.com/                         & Revolution Analytics, Dallas, TX                             & David Smith <david \\# revolutionanalytics.com>              & 1                                                            & us                                                           & secure\\_mirror\\_from\\_master                             \\\\\n",
       "\t USA (TX 2) {[}https{]}                                       & USA                                                          & San Antonio                                                  & https://mirror.usertrust.info/cranmirror/                    & Dark Particle Labs, San Antonio                              & Matt Weeks <scriptjunkie \\# scriptjunkie.us>                & 1                                                            & us                                                           & secure\\_mirror\\_from\\_master                             \\\\\n",
       "\t Venezuela                                                    & Venezuela                                                    & Valencia                                                     & http://camoruco.ing.uc.edu.ve/cran/                          & Universidad de Carabobo Venezuela                            & dir-imyca \\# uc.edu.ve                                      & 1                                                            & ve                                                           &                                                             \\\\\n",
       "\\end{tabular}\n"
      ],
      "text/markdown": [
       "\n",
       "Name | Country | City | URL | Host | Maintainer | OK | CountryCode | Comment | \n",
       "|---|---|---|---|---|---|---|---|---|---|---|---|---|---|---|---|---|---|---|---|---|---|---|---|---|---|---|---|---|---|---|---|---|---|---|---|---|---|---|---|---|---|---|---|---|---|---|---|---|---|---|---|---|---|---|---|---|---|---|---|---|\n",
       "| 0-Cloud [https]                                                            | 0-Cloud                                                                    | 0-Cloud                                                                    | https://cloud.r-project.org/                                               | Automatic redirection to servers worldwide, currently sponsored by Rstudio | winston # stdout.org                                                       | 1                                                                          | us                                                                         | secure_mirror_from_master                                                  | \n",
       "| 0-Cloud                                                                    | 0-Cloud                                                                    | 0-Cloud                                                                    | http://cloud.r-project.org/                                                | Automatic redirection to servers worldwide, currently sponsored by Rstudio | winston # stdout.org                                                       | 1                                                                          | us                                                                         | secure_mirror_from_master                                                  | \n",
       "| Algeria [https]                                                            | Algeria                                                                    | Algiers                                                                    | https://cran.usthb.dz/                                                     | University of Science and Technology Houari Boumediene                     | Boukala m c <mboukala # usthb.dz>                                          | 1                                                                          | dz                                                                         |                                                                            | \n",
       "| Algeria                                                                    | Algeria                                                                    | Algiers                                                                    | http://cran.usthb.dz/                                                      | University of Science and Technology Houari Boumediene                     | Boukala m c <mboukala # usthb.dz>                                          | 1                                                                          | dz                                                                         |                                                                            | \n",
       "| Argentina (La Plata)                                                       | Argentina                                                                  | La Plata                                                                   | http://mirror.fcaglp.unlp.edu.ar/CRAN/                                     | Universidad Nacional de La Plata                                           | esuarez # Fcaglp.unlp.edu.ar                                               | 1                                                                          | ar                                                                         |                                                                            | \n",
       "| Australia (Canberra) [https]                                               | Australia                                                                  | Canberra                                                                   | https://cran.csiro.au/                                                     | CSIRO                                                                      | Bill.Venables # CSIRO.au, ServiceDesk2 # CSIRO.au                          | 1                                                                          | au                                                                         | secure_mirror_from_master                                                  | \n",
       "| Australia (Canberra)                                                       | Australia                                                                  | Canberra                                                                   | http://cran.csiro.au/                                                      | CSIRO                                                                      | Bill.Venables # CSIRO.au, ServiceDesk2 # CSIRO.au                          | 1                                                                          | au                                                                         | secure_mirror_from_master                                                  | \n",
       "| Australia (Melbourne) [https]                                              | Australia                                                                  | Melbourne                                                                  | https://cran.ms.unimelb.edu.au/                                            | University of Melbourne                                                    | cran # ms.unimelb.edu.au                                                   | 1                                                                          | au                                                                         | secure_mirror_from_master                                                  | \n",
       "| Australia (Melbourne)                                                      | Australia                                                                  | Melbourne                                                                  | http://cran.ms.unimelb.edu.au/                                             | University of Melbourne                                                    | cran # ms.unimelb.edu.au                                                   | 1                                                                          | au                                                                         | secure_mirror_from_master                                                  | \n",
       "| Australia (Perth) [https]                                                  | Australia                                                                  | Perth                                                                      | https://cran.curtin.edu.au/                                                | Curtin University of Technology                                            | unix # curtin.edu.au                                                       | 1                                                                          | au                                                                         | secure_mirror_from_master                                                  | \n",
       "| Austria [https]                                                            | Austria                                                                    | Wien                                                                       | https://cran.wu.ac.at/                                                     | Wirtschaftsuniversität Wien                                                | CRAN # R-project.org                                                       | 1                                                                          | at                                                                         |                                                                            | \n",
       "| Austria                                                                    | Austria                                                                    | Wien                                                                       | http://cran.wu.ac.at/                                                      | Wirtschaftsuniversität Wien                                                | CRAN # R-project.org                                                       | 1                                                                          | at                                                                         |                                                                            | \n",
       "| Belgium (Antwerp)                                                          | Belgium                                                                    | Antwerp                                                                    | http://www.freestatistics.org/cran/                                        | K.U.Leuven Association                                                     | patrick # wessa.net                                                        | 1                                                                          | be                                                                         |                                                                            | \n",
       "| Belgium (Ghent) [https]                                                    | Belgium                                                                    | Ghent                                                                      | https://lib.ugent.be/CRAN/                                                 | Ghent University Library                                                   | Patrick Hochstenbach <Patrick.Hochstenbach # UGent.be>                     | 1                                                                          | be                                                                         | secure_mirror_from_master                                                  | \n",
       "| Belgium (Ghent)                                                            | Belgium                                                                    | Ghent                                                                      | http://lib.ugent.be/CRAN/                                                  | Ghent University Library                                                   | Patrick Hochstenbach <Patrick.Hochstenbach # UGent.be>                     | 1                                                                          | be                                                                         | secure_mirror_from_master                                                  | \n",
       "| Brazil (BA)                                                                | Brazil                                                                     | Ilheus                                                                     | http://nbcgib.uesc.br/mirrors/cran/                                        | Center for Comp. Biol. at Universidade Estadual de Santa Cruz              | eduardo # nbcgib.uesc.br                                                   | 1                                                                          | br                                                                         |                                                                            | \n",
       "| Brazil (PR)                                                                | Brazil                                                                     | Curitiba                                                                   | http://cran-r.c3sl.ufpr.br/                                                | Universidade Federal do Parana                                             | Paulo Justiniano Ribeiro Junior <paulojus # ufpr.br>                       | 1                                                                          | br                                                                         |                                                                            | \n",
       "| Brazil (RJ) [https]                                                        | Brazil                                                                     | Rio de Janeiro                                                             | https://cran.fiocruz.br/                                                   | Oswaldo Cruz Foundation, Rio de Janeiro                                    | oswaldo.cruz # fiocruz.br                                                  | 1                                                                          | br                                                                         | secure_mirror_from_master                                                  | \n",
       "| Brazil (RJ)                                                                | Brazil                                                                     | Rio de Janeiro                                                             | http://cran.fiocruz.br/                                                    | Oswaldo Cruz Foundation, Rio de Janeiro                                    | oswaldo.cruz # fiocruz.br                                                  | 1                                                                          | br                                                                         | secure_mirror_from_master                                                  | \n",
       "| Brazil (SP 1) [https]                                                      | Brazil                                                                     | Sao Paulo                                                                  | https://vps.fmvz.usp.br/CRAN/                                              | University of Sao Paulo, Sao Paulo                                         | Fernando Ferreira <fernando # vps.fmvz.usp.br>                             | 1                                                                          | br                                                                         | secure_mirror_from_master                                                  | \n",
       "| Brazil (SP 1)                                                              | Brazil                                                                     | Sao Paulo                                                                  | http://vps.fmvz.usp.br/CRAN/                                               | University of Sao Paulo, Sao Paulo                                         | Fernando Ferreira <fernando # vps.fmvz.usp.br>                             | 1                                                                          | br                                                                         | secure_mirror_from_master                                                  | \n",
       "| Brazil (SP 2)                                                              | Brazil                                                                     | Piracicaba                                                                 | http://brieger.esalq.usp.br/CRAN/                                          | University of Sao Paulo, Piracicaba                                        | A Augusto F Garcia <aafgarci # gmail.com>, augusto.garcia # usp.br         | 1                                                                          | br                                                                         |                                                                            | \n",
       "| Bulgaria [https]                                                           | Bulgaria                                                                   | Sofia                                                                      | https://ftp.uni-sofia.bg/CRAN/                                             | Sofia University                                                           | Alexander Velin <velin # fccf.net>                                         | 1                                                                          | bg                                                                         | secure_mirror_from_master                                                  | \n",
       "| Bulgaria                                                                   | Bulgaria                                                                   | Sofia                                                                      | http://ftp.uni-sofia.bg/CRAN/                                              | Sofia University                                                           | Alexander Velin <velin # fccf.net>                                         | 1                                                                          | bg                                                                         | secure_mirror_from_master                                                  | \n",
       "| Canada (BC)                                                                | Canada                                                                     | Burnaby                                                                    | http://cran.stat.sfu.ca/                                                   | Simon Fraser University, Burnaby                                           | gripe # sfu.ca                                                             | 1                                                                          | ca                                                                         | maintainer_address_bounces                                                 | \n",
       "| Canada (MB) [https]                                                        | Canada                                                                     | Winnipeg                                                                   | https://muug.ca/mirror/cran/                                               | Manitoba Unix User Group                                                   | mirror # muug.ca                                                           | 1                                                                          | ca                                                                         |                                                                            | \n",
       "| Canada (MB)                                                                | Canada                                                                     | Winnipeg                                                                   | http://muug.ca/mirror/cran/                                                | Manitoba Unix User Group                                                   | mirror # muug.ca                                                           | 1                                                                          | ca                                                                         |                                                                            | \n",
       "| Canada (NS)                                                                | Canada                                                                     | Halifax                                                                    | http://mirror.its.dal.ca/cran/                                             | Dalhousie University, Halifax                                              | mirror # lists.dal.ca                                                      | 1                                                                          | ca                                                                         |                                                                            | \n",
       "| Canada (ON)                                                                | Canada                                                                     | Toronto                                                                    | http://cran.utstat.utoronto.ca/                                            | University of Toronto                                                      | Dermot Whelan <wheland # utstat.utoronto.ca>                               | 1                                                                          | ca                                                                         |                                                                            | \n",
       "| Chile 1 [https]                                                            | Chile                                                                      | Santiago                                                                   | https://dirichlet.mat.puc.cl/                                              | Pontificia Universidad Catolica de Chile, Santiago                         | Fernando Quintana <quintana # mat.puc.cl>                                  | 1                                                                          | cl                                                                         | secure_mirror_from_master                                                  | \n",
       "| ... | ... | ... | ... | ... | ... | ... | ... | ... | \n",
       "| UK (Cambridge)                                               | UK                                                           | Cambridge                                                    | http://mirrors.ebi.ac.uk/CRAN/                               | EMBL-EBI (European Bioinformatics Institute)                 | Andrew Tikhonov <andrew # ebi.ac.uk>                         | 1                                                            | uk                                                           | secure_mirror_from_master                                    | \n",
       "| UK (London 1) [https]                                        | UK                                                           | London                                                       | https://cran.ma.imperial.ac.uk/                              | Imperial College London                                      | andy.thomas # imperial.ac.uk                                 | 1                                                            | uk                                                           | secure_mirror_from_master                                    | \n",
       "| UK (London 1)                                                | UK                                                           | London                                                       | http://cran.ma.imperial.ac.uk/                               | Imperial College London                                      | andy.thomas # imperial.ac.uk                                 | 1                                                            | uk                                                           | secure_mirror_from_master                                    | \n",
       "| UK (London 2)                                                | UK                                                           | London                                                       | http://mirror.mdx.ac.uk/R/                                   | Middlesex University London                                  | Louis Slabbert <l.slabbert # mdx.ac.uk>                      | 1                                                            | uk                                                           |                                                              | \n",
       "| UK (St Andrews)                                              | UK                                                           | St Andrews                                                   | http://star-www.st-andrews.ac.uk/cran/                       | St Andrews University                                        | Lee Kelvin <lsk9 # St-andrews.ac.uk>                         | 1                                                            | uk                                                           | maintainer_address_bounces                                   | \n",
       "| USA (CA 1) [https]                                           | USA                                                          | Berkeley                                                     | https://cran.cnr.berkeley.edu/                               | University of California, Berkeley, CA                       | casterln # nature.berkeley.edu                               | 1                                                            | us                                                           | secure_mirror_from_master                                    | \n",
       "| USA (CA 1)                                                   | USA                                                          | Berkeley                                                     | http://cran.cnr.berkeley.edu/                                | University of California, Berkeley, CA                       | casterln # nature.berkeley.edu                               | 1                                                            | us                                                           | secure_mirror_from_master                                    | \n",
       "| USA (CA 2)                                                   | USA                                                          | Los Angeles                                                  | http://cran.stat.ucla.edu/                                   | University of California, Los Angeles, CA                    | Jose Hales-Garcia <jose # stat.ucla.edu>                     | 1                                                            | us                                                           |                                                              | \n",
       "| USA (IA) [https]                                             | USA                                                          | Ames                                                         | https://mirror.las.iastate.edu/CRAN/                         | Iowa State University, Ames, IA                              | statit # iastate.edu                                         | 1                                                            | us                                                           |                                                              | \n",
       "| USA (IA)                                                     | USA                                                          | Ames                                                         | http://mirror.las.iastate.edu/CRAN/                          | Iowa State University, Ames, IA                              | statit # iastate.edu                                         | 1                                                            | us                                                           |                                                              | \n",
       "| USA (IN) [https]                                             | USA                                                          | Bloomington                                                  | https://ftp.ussg.iu.edu/CRAN/                                | Indiana University                                           | rtadmin # indiana.edu                                        | 1                                                            | us                                                           |                                                              | \n",
       "| USA (IN)                                                     | USA                                                          | Bloomington                                                  | http://ftp.ussg.iu.edu/CRAN/                                 | Indiana University                                           | rtadmin # indiana.edu                                        | 1                                                            | us                                                           |                                                              | \n",
       "| USA (KS) [https]                                             | USA                                                          | Lawrence                                                     | https://rweb.crmda.ku.edu/cran/                              | University of Kansas, Lawrence, KS                           | Paul Johnson <pauljohn # ku.edu>                             | 1                                                            | us                                                           | secure_mirror_from_master                                    | \n",
       "| USA (KS)                                                     | USA                                                          | Lawrence                                                     | http://rweb.crmda.ku.edu/cran/                               | University of Kansas, Lawrence, KS                           | Paul Johnson <pauljohn # ku.edu>                             | 1                                                            | us                                                           | secure_mirror_from_master                                    | \n",
       "| USA (MI 1) [https]                                           | USA                                                          | Houghton                                                     | https://cran.mtu.edu/                                        | Michigan Technological University, Houghton, MI              | Robert Froese <froese # mtu.edu>                             | 1                                                            | us                                                           | secure_mirror_from_master                                    | \n",
       "| USA (MI 1)                                                   | USA                                                          | Houghton                                                     | http://cran.mtu.edu/                                         | Michigan Technological University, Houghton, MI              | Robert Froese <froese # mtu.edu>                             | 1                                                            | us                                                           | secure_mirror_from_master                                    | \n",
       "| USA (MO)                                                     | USA                                                          | St. Louis                                                    | http://cran.wustl.edu/                                       | Washington University, St. Louis, MO                         | admartin # wustl.edu                                         | 1                                                            | us                                                           | maintainer_address_bounces                                   | \n",
       "| USA (NC)                                                     | USA                                                          | Durham                                                       | http://archive.linux.duke.edu/cran/                          | Duke University, Durham, NC                                  | csi-linux-admins # duke.edu                                  | 1                                                            | us                                                           |                                                              | \n",
       "| USA (OH 1)                                                   | USA                                                          | Cleveland                                                    | http://cran.case.edu/                                        | Case Western Reserve University, Cleveland, OH               | \"Alberto H. Santana\" <ahs4 # case.edu>                       | 1                                                            | us                                                           |                                                              | \n",
       "| USA (OH 2)                                                   | USA                                                          | Dayton                                                       | http://iis.stat.wright.edu/CRAN/                             | Wright State University, Dayton, OH                          | Long Qu <long.qu # wright.edu>                               | 1                                                            | us                                                           |                                                              | \n",
       "| USA (OR) [https]                                             | USA                                                          | Corvallis                                                    | https://ftp.osuosl.org/pub/cran/                             | Oregon State University                                      | support # Osuosl.org                                         | 1                                                            | us                                                           |                                                              | \n",
       "| USA (OR)                                                     | USA                                                          | Corvallis                                                    | http://ftp.osuosl.org/pub/cran/                              | Oregon State University                                      | support # Osuosl.org                                         | 1                                                            | us                                                           |                                                              | \n",
       "| USA (PA 1)                                                   | USA                                                          | Pittsburgh                                                   | http://lib.stat.cmu.edu/R/CRAN/                              | Statlib, Carnegie Mellon University, Pittsburgh, PA          | Carl Skipper <remarks # stat.cmu.edu>                        | 1                                                            | us                                                           |                                                              | \n",
       "| USA (PA 2)                                                   | USA                                                          | Pittsburgh                                                   | http://cran.mirrors.hoobly.com/                              | Hoobly Classifieds, Pittsburgh, PA                           | Peter Grigor <pgrigor # hoobly.com>                          | 1                                                            | us                                                           |                                                              | \n",
       "| USA (TN) [https]                                             | USA                                                          | Oak Ridge                                                    | https://mirrors.nics.utk.edu/cran/                           | National Institute for Computational Sciences, Oak Ridge, TN | help # nics.utk.edu                                          | 1                                                            | us                                                           | secure_mirror_from_master                                    | \n",
       "| USA (TN)                                                     | USA                                                          | Oak Ridge                                                    | http://mirrors.nics.utk.edu/cran/                            | National Institute for Computational Sciences, Oak Ridge, TN | help # nics.utk.edu                                          | 1                                                            | us                                                           | secure_mirror_from_master                                    | \n",
       "| USA (TX 1) [https]                                           | USA                                                          | Dallas                                                       | https://cran.revolutionanalytics.com/                        | Revolution Analytics, Dallas, TX                             | David Smith <david # revolutionanalytics.com>                | 1                                                            | us                                                           | secure_mirror_from_master                                    | \n",
       "| USA (TX 1)                                                   | USA                                                          | Dallas                                                       | http://cran.revolutionanalytics.com/                         | Revolution Analytics, Dallas, TX                             | David Smith <david # revolutionanalytics.com>                | 1                                                            | us                                                           | secure_mirror_from_master                                    | \n",
       "| USA (TX 2) [https]                                           | USA                                                          | San Antonio                                                  | https://mirror.usertrust.info/cranmirror/                    | Dark Particle Labs, San Antonio                              | Matt Weeks <scriptjunkie # scriptjunkie.us>                  | 1                                                            | us                                                           | secure_mirror_from_master                                    | \n",
       "| Venezuela                                                    | Venezuela                                                    | Valencia                                                     | http://camoruco.ing.uc.edu.ve/cran/                          | Universidad de Carabobo Venezuela                            | dir-imyca # uc.edu.ve                                        | 1                                                            | ve                                                           |                                                              | \n",
       "\n",
       "\n"
      ],
      "text/plain": [
       "    Name                          Country   City          \n",
       "1   0-Cloud [https]               0-Cloud   0-Cloud       \n",
       "2   0-Cloud                       0-Cloud   0-Cloud       \n",
       "3   Algeria [https]               Algeria   Algiers       \n",
       "4   Algeria                       Algeria   Algiers       \n",
       "5   Argentina (La Plata)          Argentina La Plata      \n",
       "6   Australia (Canberra) [https]  Australia Canberra      \n",
       "7   Australia (Canberra)          Australia Canberra      \n",
       "8   Australia (Melbourne) [https] Australia Melbourne     \n",
       "9   Australia (Melbourne)         Australia Melbourne     \n",
       "10  Australia (Perth) [https]     Australia Perth         \n",
       "11  Austria [https]               Austria   Wien          \n",
       "12  Austria                       Austria   Wien          \n",
       "13  Belgium (Antwerp)             Belgium   Antwerp       \n",
       "14  Belgium (Ghent) [https]       Belgium   Ghent         \n",
       "15  Belgium (Ghent)               Belgium   Ghent         \n",
       "16  Brazil (BA)                   Brazil    Ilheus        \n",
       "17  Brazil (PR)                   Brazil    Curitiba      \n",
       "18  Brazil (RJ) [https]           Brazil    Rio de Janeiro\n",
       "19  Brazil (RJ)                   Brazil    Rio de Janeiro\n",
       "20  Brazil (SP 1) [https]         Brazil    Sao Paulo     \n",
       "21  Brazil (SP 1)                 Brazil    Sao Paulo     \n",
       "22  Brazil (SP 2)                 Brazil    Piracicaba    \n",
       "23  Bulgaria [https]              Bulgaria  Sofia         \n",
       "24  Bulgaria                      Bulgaria  Sofia         \n",
       "25  Canada (BC)                   Canada    Burnaby       \n",
       "26  Canada (MB) [https]           Canada    Winnipeg      \n",
       "27  Canada (MB)                   Canada    Winnipeg      \n",
       "28  Canada (NS)                   Canada    Halifax       \n",
       "29  Canada (ON)                   Canada    Toronto       \n",
       "30  Chile 1 [https]               Chile     Santiago      \n",
       "... ...                           ...       ...           \n",
       "122 UK (Cambridge)                UK        Cambridge     \n",
       "123 UK (London 1) [https]         UK        London        \n",
       "124 UK (London 1)                 UK        London        \n",
       "125 UK (London 2)                 UK        London        \n",
       "126 UK (St Andrews)               UK        St Andrews    \n",
       "127 USA (CA 1) [https]            USA       Berkeley      \n",
       "128 USA (CA 1)                    USA       Berkeley      \n",
       "129 USA (CA 2)                    USA       Los Angeles   \n",
       "130 USA (IA) [https]              USA       Ames          \n",
       "131 USA (IA)                      USA       Ames          \n",
       "132 USA (IN) [https]              USA       Bloomington   \n",
       "133 USA (IN)                      USA       Bloomington   \n",
       "134 USA (KS) [https]              USA       Lawrence      \n",
       "135 USA (KS)                      USA       Lawrence      \n",
       "136 USA (MI 1) [https]            USA       Houghton      \n",
       "137 USA (MI 1)                    USA       Houghton      \n",
       "138 USA (MO)                      USA       St. Louis     \n",
       "139 USA (NC)                      USA       Durham        \n",
       "140 USA (OH 1)                    USA       Cleveland     \n",
       "141 USA (OH 2)                    USA       Dayton        \n",
       "142 USA (OR) [https]              USA       Corvallis     \n",
       "143 USA (OR)                      USA       Corvallis     \n",
       "144 USA (PA 1)                    USA       Pittsburgh    \n",
       "145 USA (PA 2)                    USA       Pittsburgh    \n",
       "146 USA (TN) [https]              USA       Oak Ridge     \n",
       "147 USA (TN)                      USA       Oak Ridge     \n",
       "148 USA (TX 1) [https]            USA       Dallas        \n",
       "149 USA (TX 1)                    USA       Dallas        \n",
       "150 USA (TX 2) [https]            USA       San Antonio   \n",
       "151 Venezuela                     Venezuela Valencia      \n",
       "    URL                                      \n",
       "1   https://cloud.r-project.org/             \n",
       "2   http://cloud.r-project.org/              \n",
       "3   https://cran.usthb.dz/                   \n",
       "4   http://cran.usthb.dz/                    \n",
       "5   http://mirror.fcaglp.unlp.edu.ar/CRAN/   \n",
       "6   https://cran.csiro.au/                   \n",
       "7   http://cran.csiro.au/                    \n",
       "8   https://cran.ms.unimelb.edu.au/          \n",
       "9   http://cran.ms.unimelb.edu.au/           \n",
       "10  https://cran.curtin.edu.au/              \n",
       "11  https://cran.wu.ac.at/                   \n",
       "12  http://cran.wu.ac.at/                    \n",
       "13  http://www.freestatistics.org/cran/      \n",
       "14  https://lib.ugent.be/CRAN/               \n",
       "15  http://lib.ugent.be/CRAN/                \n",
       "16  http://nbcgib.uesc.br/mirrors/cran/      \n",
       "17  http://cran-r.c3sl.ufpr.br/              \n",
       "18  https://cran.fiocruz.br/                 \n",
       "19  http://cran.fiocruz.br/                  \n",
       "20  https://vps.fmvz.usp.br/CRAN/            \n",
       "21  http://vps.fmvz.usp.br/CRAN/             \n",
       "22  http://brieger.esalq.usp.br/CRAN/        \n",
       "23  https://ftp.uni-sofia.bg/CRAN/           \n",
       "24  http://ftp.uni-sofia.bg/CRAN/            \n",
       "25  http://cran.stat.sfu.ca/                 \n",
       "26  https://muug.ca/mirror/cran/             \n",
       "27  http://muug.ca/mirror/cran/              \n",
       "28  http://mirror.its.dal.ca/cran/           \n",
       "29  http://cran.utstat.utoronto.ca/          \n",
       "30  https://dirichlet.mat.puc.cl/            \n",
       "... ...                                      \n",
       "122 http://mirrors.ebi.ac.uk/CRAN/           \n",
       "123 https://cran.ma.imperial.ac.uk/          \n",
       "124 http://cran.ma.imperial.ac.uk/           \n",
       "125 http://mirror.mdx.ac.uk/R/               \n",
       "126 http://star-www.st-andrews.ac.uk/cran/   \n",
       "127 https://cran.cnr.berkeley.edu/           \n",
       "128 http://cran.cnr.berkeley.edu/            \n",
       "129 http://cran.stat.ucla.edu/               \n",
       "130 https://mirror.las.iastate.edu/CRAN/     \n",
       "131 http://mirror.las.iastate.edu/CRAN/      \n",
       "132 https://ftp.ussg.iu.edu/CRAN/            \n",
       "133 http://ftp.ussg.iu.edu/CRAN/             \n",
       "134 https://rweb.crmda.ku.edu/cran/          \n",
       "135 http://rweb.crmda.ku.edu/cran/           \n",
       "136 https://cran.mtu.edu/                    \n",
       "137 http://cran.mtu.edu/                     \n",
       "138 http://cran.wustl.edu/                   \n",
       "139 http://archive.linux.duke.edu/cran/      \n",
       "140 http://cran.case.edu/                    \n",
       "141 http://iis.stat.wright.edu/CRAN/         \n",
       "142 https://ftp.osuosl.org/pub/cran/         \n",
       "143 http://ftp.osuosl.org/pub/cran/          \n",
       "144 http://lib.stat.cmu.edu/R/CRAN/          \n",
       "145 http://cran.mirrors.hoobly.com/          \n",
       "146 https://mirrors.nics.utk.edu/cran/       \n",
       "147 http://mirrors.nics.utk.edu/cran/        \n",
       "148 https://cran.revolutionanalytics.com/    \n",
       "149 http://cran.revolutionanalytics.com/     \n",
       "150 https://mirror.usertrust.info/cranmirror/\n",
       "151 http://camoruco.ing.uc.edu.ve/cran/      \n",
       "    Host                                                                      \n",
       "1   Automatic redirection to servers worldwide, currently sponsored by Rstudio\n",
       "2   Automatic redirection to servers worldwide, currently sponsored by Rstudio\n",
       "3   University of Science and Technology Houari Boumediene                    \n",
       "4   University of Science and Technology Houari Boumediene                    \n",
       "5   Universidad Nacional de La Plata                                          \n",
       "6   CSIRO                                                                     \n",
       "7   CSIRO                                                                     \n",
       "8   University of Melbourne                                                   \n",
       "9   University of Melbourne                                                   \n",
       "10  Curtin University of Technology                                           \n",
       "11  Wirtschaftsuniversität Wien                                               \n",
       "12  Wirtschaftsuniversität Wien                                               \n",
       "13  K.U.Leuven Association                                                    \n",
       "14  Ghent University Library                                                  \n",
       "15  Ghent University Library                                                  \n",
       "16  Center for Comp. Biol. at Universidade Estadual de Santa Cruz             \n",
       "17  Universidade Federal do Parana                                            \n",
       "18  Oswaldo Cruz Foundation, Rio de Janeiro                                   \n",
       "19  Oswaldo Cruz Foundation, Rio de Janeiro                                   \n",
       "20  University of Sao Paulo, Sao Paulo                                        \n",
       "21  University of Sao Paulo, Sao Paulo                                        \n",
       "22  University of Sao Paulo, Piracicaba                                       \n",
       "23  Sofia University                                                          \n",
       "24  Sofia University                                                          \n",
       "25  Simon Fraser University, Burnaby                                          \n",
       "26  Manitoba Unix User Group                                                  \n",
       "27  Manitoba Unix User Group                                                  \n",
       "28  Dalhousie University, Halifax                                             \n",
       "29  University of Toronto                                                     \n",
       "30  Pontificia Universidad Catolica de Chile, Santiago                        \n",
       "... ...                                                                       \n",
       "122 EMBL-EBI (European Bioinformatics Institute)                              \n",
       "123 Imperial College London                                                   \n",
       "124 Imperial College London                                                   \n",
       "125 Middlesex University London                                               \n",
       "126 St Andrews University                                                     \n",
       "127 University of California, Berkeley, CA                                    \n",
       "128 University of California, Berkeley, CA                                    \n",
       "129 University of California, Los Angeles, CA                                 \n",
       "130 Iowa State University, Ames, IA                                           \n",
       "131 Iowa State University, Ames, IA                                           \n",
       "132 Indiana University                                                        \n",
       "133 Indiana University                                                        \n",
       "134 University of Kansas, Lawrence, KS                                        \n",
       "135 University of Kansas, Lawrence, KS                                        \n",
       "136 Michigan Technological University, Houghton, MI                           \n",
       "137 Michigan Technological University, Houghton, MI                           \n",
       "138 Washington University, St. Louis, MO                                      \n",
       "139 Duke University, Durham, NC                                               \n",
       "140 Case Western Reserve University, Cleveland, OH                            \n",
       "141 Wright State University, Dayton, OH                                       \n",
       "142 Oregon State University                                                   \n",
       "143 Oregon State University                                                   \n",
       "144 Statlib, Carnegie Mellon University, Pittsburgh, PA                       \n",
       "145 Hoobly Classifieds, Pittsburgh, PA                                        \n",
       "146 National Institute for Computational Sciences, Oak Ridge, TN              \n",
       "147 National Institute for Computational Sciences, Oak Ridge, TN              \n",
       "148 Revolution Analytics, Dallas, TX                                          \n",
       "149 Revolution Analytics, Dallas, TX                                          \n",
       "150 Dark Particle Labs, San Antonio                                           \n",
       "151 Universidad de Carabobo Venezuela                                         \n",
       "    Maintainer                                                         OK \n",
       "1   winston # stdout.org                                               1  \n",
       "2   winston # stdout.org                                               1  \n",
       "3   Boukala m c <mboukala # usthb.dz>                                  1  \n",
       "4   Boukala m c <mboukala # usthb.dz>                                  1  \n",
       "5   esuarez # Fcaglp.unlp.edu.ar                                       1  \n",
       "6   Bill.Venables # CSIRO.au, ServiceDesk2 # CSIRO.au                  1  \n",
       "7   Bill.Venables # CSIRO.au, ServiceDesk2 # CSIRO.au                  1  \n",
       "8   cran # ms.unimelb.edu.au                                           1  \n",
       "9   cran # ms.unimelb.edu.au                                           1  \n",
       "10  unix # curtin.edu.au                                               1  \n",
       "11  CRAN # R-project.org                                               1  \n",
       "12  CRAN # R-project.org                                               1  \n",
       "13  patrick # wessa.net                                                1  \n",
       "14  Patrick Hochstenbach <Patrick.Hochstenbach # UGent.be>             1  \n",
       "15  Patrick Hochstenbach <Patrick.Hochstenbach # UGent.be>             1  \n",
       "16  eduardo # nbcgib.uesc.br                                           1  \n",
       "17  Paulo Justiniano Ribeiro Junior <paulojus # ufpr.br>               1  \n",
       "18  oswaldo.cruz # fiocruz.br                                          1  \n",
       "19  oswaldo.cruz # fiocruz.br                                          1  \n",
       "20  Fernando Ferreira <fernando # vps.fmvz.usp.br>                     1  \n",
       "21  Fernando Ferreira <fernando # vps.fmvz.usp.br>                     1  \n",
       "22  A Augusto F Garcia <aafgarci # gmail.com>, augusto.garcia # usp.br 1  \n",
       "23  Alexander Velin <velin # fccf.net>                                 1  \n",
       "24  Alexander Velin <velin # fccf.net>                                 1  \n",
       "25  gripe # sfu.ca                                                     1  \n",
       "26  mirror # muug.ca                                                   1  \n",
       "27  mirror # muug.ca                                                   1  \n",
       "28  mirror # lists.dal.ca                                              1  \n",
       "29  Dermot Whelan <wheland # utstat.utoronto.ca>                       1  \n",
       "30  Fernando Quintana <quintana # mat.puc.cl>                          1  \n",
       "... ...                                                                ...\n",
       "122 Andrew Tikhonov <andrew # ebi.ac.uk>                               1  \n",
       "123 andy.thomas # imperial.ac.uk                                       1  \n",
       "124 andy.thomas # imperial.ac.uk                                       1  \n",
       "125 Louis Slabbert <l.slabbert # mdx.ac.uk>                            1  \n",
       "126 Lee Kelvin <lsk9 # St-andrews.ac.uk>                               1  \n",
       "127 casterln # nature.berkeley.edu                                     1  \n",
       "128 casterln # nature.berkeley.edu                                     1  \n",
       "129 Jose Hales-Garcia <jose # stat.ucla.edu>                           1  \n",
       "130 statit # iastate.edu                                               1  \n",
       "131 statit # iastate.edu                                               1  \n",
       "132 rtadmin # indiana.edu                                              1  \n",
       "133 rtadmin # indiana.edu                                              1  \n",
       "134 Paul Johnson <pauljohn # ku.edu>                                   1  \n",
       "135 Paul Johnson <pauljohn # ku.edu>                                   1  \n",
       "136 Robert Froese <froese # mtu.edu>                                   1  \n",
       "137 Robert Froese <froese # mtu.edu>                                   1  \n",
       "138 admartin # wustl.edu                                               1  \n",
       "139 csi-linux-admins # duke.edu                                        1  \n",
       "140 \"Alberto H. Santana\" <ahs4 # case.edu>                             1  \n",
       "141 Long Qu <long.qu # wright.edu>                                     1  \n",
       "142 support # Osuosl.org                                               1  \n",
       "143 support # Osuosl.org                                               1  \n",
       "144 Carl Skipper <remarks # stat.cmu.edu>                              1  \n",
       "145 Peter Grigor <pgrigor # hoobly.com>                                1  \n",
       "146 help # nics.utk.edu                                                1  \n",
       "147 help # nics.utk.edu                                                1  \n",
       "148 David Smith <david # revolutionanalytics.com>                      1  \n",
       "149 David Smith <david # revolutionanalytics.com>                      1  \n",
       "150 Matt Weeks <scriptjunkie # scriptjunkie.us>                        1  \n",
       "151 dir-imyca # uc.edu.ve                                              1  \n",
       "    CountryCode Comment                   \n",
       "1   us          secure_mirror_from_master \n",
       "2   us          secure_mirror_from_master \n",
       "3   dz                                    \n",
       "4   dz                                    \n",
       "5   ar                                    \n",
       "6   au          secure_mirror_from_master \n",
       "7   au          secure_mirror_from_master \n",
       "8   au          secure_mirror_from_master \n",
       "9   au          secure_mirror_from_master \n",
       "10  au          secure_mirror_from_master \n",
       "11  at                                    \n",
       "12  at                                    \n",
       "13  be                                    \n",
       "14  be          secure_mirror_from_master \n",
       "15  be          secure_mirror_from_master \n",
       "16  br                                    \n",
       "17  br                                    \n",
       "18  br          secure_mirror_from_master \n",
       "19  br          secure_mirror_from_master \n",
       "20  br          secure_mirror_from_master \n",
       "21  br          secure_mirror_from_master \n",
       "22  br                                    \n",
       "23  bg          secure_mirror_from_master \n",
       "24  bg          secure_mirror_from_master \n",
       "25  ca          maintainer_address_bounces\n",
       "26  ca                                    \n",
       "27  ca                                    \n",
       "28  ca                                    \n",
       "29  ca                                    \n",
       "30  cl          secure_mirror_from_master \n",
       "... ...         ...                       \n",
       "122 uk          secure_mirror_from_master \n",
       "123 uk          secure_mirror_from_master \n",
       "124 uk          secure_mirror_from_master \n",
       "125 uk                                    \n",
       "126 uk          maintainer_address_bounces\n",
       "127 us          secure_mirror_from_master \n",
       "128 us          secure_mirror_from_master \n",
       "129 us                                    \n",
       "130 us                                    \n",
       "131 us                                    \n",
       "132 us                                    \n",
       "133 us                                    \n",
       "134 us          secure_mirror_from_master \n",
       "135 us          secure_mirror_from_master \n",
       "136 us          secure_mirror_from_master \n",
       "137 us          secure_mirror_from_master \n",
       "138 us          maintainer_address_bounces\n",
       "139 us                                    \n",
       "140 us                                    \n",
       "141 us                                    \n",
       "142 us                                    \n",
       "143 us                                    \n",
       "144 us                                    \n",
       "145 us                                    \n",
       "146 us          secure_mirror_from_master \n",
       "147 us          secure_mirror_from_master \n",
       "148 us          secure_mirror_from_master \n",
       "149 us          secure_mirror_from_master \n",
       "150 us          secure_mirror_from_master \n",
       "151 ve                                    "
      ]
     },
     "metadata": {},
     "output_type": "display_data"
    }
   ],
   "source": [
    "getCRANmirrors(all = FALSE, local.only = FALSE)\n",
    "options(repos=structure(c(CRAN=\"http://cloud.r-project.org/\")))"
   ]
  },
  {
   "cell_type": "markdown",
   "metadata": {
    "deletable": true,
    "editable": true
   },
   "source": [
    "## User-defined functions"
   ]
  },
  {
   "cell_type": "markdown",
   "metadata": {
    "deletable": true,
    "editable": true
   },
   "source": [
    "Users can define their own functions. The encapsulations of code in functions provides a more structured and readable code. The most important advantage however is, that some routines, which are required not only once need not be implemented repititevly. A function must be defined only once and can then be used wherever it is required.\n",
    "\n",
    "The general syntax for functions in R is:"
   ]
  },
  {
   "cell_type": "code",
   "execution_count": 33,
   "metadata": {
    "collapsed": false,
    "deletable": true,
    "editable": true
   },
   "outputs": [],
   "source": [
    "functionName<-function(listOfParameters){\n",
    " statements\n",
    " return (result)\n",
    "}"
   ]
  },
  {
   "cell_type": "markdown",
   "metadata": {
    "deletable": true,
    "editable": true
   },
   "source": [
    "The list of parameters within the brackets that follow the keyword *function* are the arguments, which are passed as input to the function. Within the function body (inside the curly brackets) arbitrarily complex statements are executed. The result of this computation is returned by the function. The defined function is assigned to a variable *functionName*. The function can be accessed via this variable-name as shown below."
   ]
  },
  {
   "cell_type": "markdown",
   "metadata": {
    "deletable": true,
    "editable": true
   },
   "source": [
    "For example in the following code-snippet a function is defined, which normalizes the values of the vector, which is passed as argument to the function. The normalized values of the passed vector is returned by the function."
   ]
  },
  {
   "cell_type": "code",
   "execution_count": 1,
   "metadata": {
    "collapsed": false,
    "deletable": true,
    "editable": true
   },
   "outputs": [],
   "source": [
    "myNormalizer<-function(rawdata){\n",
    "    maximum<-max(rawdata)\n",
    "    minimum<-min(rawdata)\n",
    "    normeddata=(rawdata-minimum)/(maximum-minimum)\n",
    "    return (normeddata)\n",
    "}"
   ]
  },
  {
   "cell_type": "markdown",
   "metadata": {
    "deletable": true,
    "editable": true
   },
   "source": [
    "Now, this function can be executed wherever it is required, by the name "
   ]
  },
  {
   "cell_type": "code",
   "execution_count": 11,
   "metadata": {
    "collapsed": false,
    "deletable": true,
    "editable": true
   },
   "outputs": [
    {
     "name": "stdout",
     "output_type": "stream",
     "text": [
      " [1] 0.0 0.1 0.2 0.3 0.4 0.5 0.6 0.7 0.8 0.9 1.0\n"
     ]
    }
   ],
   "source": [
    "a<-10:20\n",
    "A<-myNormalizer(a)\n",
    "print(A)"
   ]
  },
  {
   "cell_type": "code",
   "execution_count": 12,
   "metadata": {
    "collapsed": false,
    "deletable": true,
    "editable": true
   },
   "outputs": [
    {
     "name": "stdout",
     "output_type": "stream",
     "text": [
      "[1] 0.2549020 0.2745098 0.0000000 0.6274510 0.7843137 1.0000000\n"
     ]
    }
   ],
   "source": [
    "b<-c(33,34,20,52,60,71)\n",
    "B<-myNormalizer(b)\n",
    "print(B)"
   ]
  },
  {
   "cell_type": "markdown",
   "metadata": {
    "deletable": true,
    "editable": true
   },
   "source": [
    "### Passing optional arguments to a function in the function\n",
    "The function *myNormalizer()* shall now be extended such that it can also provide normalized values, which are rounded to a configurable number of digits. The standard R-function *round()* already has the parameter *digits*, which allows to set the number of digits after the decimal point. The round()-function shall now be applied in the new function *myRoundNormalizer()*. Hence, a value for the *digits* parameter of the *round()*-function must be passed to has to *myRoundNormalizer()*. Passing an arbitrary set of parameters to an inner function can be realized by the *...*-function (triple dot function). This is demonstrated in the following code cells. "
   ]
  },
  {
   "cell_type": "code",
   "execution_count": 13,
   "metadata": {
    "collapsed": false,
    "deletable": true,
    "editable": true
   },
   "outputs": [],
   "source": [
    "myRoundNormalizer<-function(rawdata,round=F,...){\n",
    "    maximum<-max(rawdata)\n",
    "    minimum<-min(rawdata)\n",
    "    normeddata=(rawdata-minimum)/(maximum-minimum)\n",
    "    if (!round){\n",
    "        return (normeddata)\n",
    "    }else{\n",
    "        return (round(normeddata,...))\n",
    "    }\n",
    "}"
   ]
  },
  {
   "cell_type": "code",
   "execution_count": 14,
   "metadata": {
    "collapsed": false,
    "deletable": true,
    "editable": true
   },
   "outputs": [
    {
     "name": "stdout",
     "output_type": "stream",
     "text": [
      "[1] 0.2549020 0.2745098 0.0000000 0.6274510 0.7843137 1.0000000\n",
      "[1] 0 0 0 1 1 1\n",
      "[1] 0.25 0.27 0.00 0.63 0.78 1.00\n"
     ]
    }
   ],
   "source": [
    "B<-myRoundNormalizer(b)\n",
    "print(B)\n",
    "B<-myRoundNormalizer(b,round=T)\n",
    "print(B)\n",
    "B<-myRoundNormalizer(b,round=T,digits=2)\n",
    "print(B)"
   ]
  },
  {
   "cell_type": "markdown",
   "metadata": {
    "deletable": true,
    "editable": true
   },
   "source": [
    "## Efficient evaluation of functions: apply, lapply, sapply\n",
    "In the case that there exists many sequences of numeric values (such as *a* and *b* above) and each sequence shall be normalized by the *myNormalizer*-function, one can just implement a loop, which envokes in each iteration the *myNormalizer*-function for an individual input-argument (sequence of numeric values). Such an implementation would work, but is not very efficient. It would be much more efficient to use the R built-in function *lapply(list of variables, functionName)*.\n",
    "\n",
    "As shown in the following code-snippet no looping is required in this way:"
   ]
  },
  {
   "cell_type": "code",
   "execution_count": 15,
   "metadata": {
    "collapsed": false,
    "deletable": true,
    "editable": true
   },
   "outputs": [
    {
     "name": "stdout",
     "output_type": "stream",
     "text": [
      "$l1\n",
      " [1] 10 11 12 13 14 15 16 17 18 19 20\n",
      "\n",
      "$l2\n",
      "[1] 33 34 20 52 60 71\n",
      "\n"
     ]
    }
   ],
   "source": [
    "columnlist<-list(l1=a,l2=b)\n",
    "print(columnlist)"
   ]
  },
  {
   "cell_type": "code",
   "execution_count": 16,
   "metadata": {
    "collapsed": false,
    "deletable": true,
    "editable": true
   },
   "outputs": [],
   "source": [
    "columnlistNormed<-lapply(columnlist,myNormalizer)"
   ]
  },
  {
   "cell_type": "code",
   "execution_count": 17,
   "metadata": {
    "collapsed": false,
    "deletable": true,
    "editable": true
   },
   "outputs": [
    {
     "data": {
      "text/html": [
       "<dl>\n",
       "\t<dt>$l1</dt>\n",
       "\t\t<dd><ol class=list-inline>\n",
       "\t<li>0</li>\n",
       "\t<li>0.1</li>\n",
       "\t<li>0.2</li>\n",
       "\t<li>0.3</li>\n",
       "\t<li>0.4</li>\n",
       "\t<li>0.5</li>\n",
       "\t<li>0.6</li>\n",
       "\t<li>0.7</li>\n",
       "\t<li>0.8</li>\n",
       "\t<li>0.9</li>\n",
       "\t<li>1</li>\n",
       "</ol>\n",
       "</dd>\n",
       "\t<dt>$l2</dt>\n",
       "\t\t<dd><ol class=list-inline>\n",
       "\t<li>0.254901960784314</li>\n",
       "\t<li>0.274509803921569</li>\n",
       "\t<li>0</li>\n",
       "\t<li>0.627450980392157</li>\n",
       "\t<li>0.784313725490196</li>\n",
       "\t<li>1</li>\n",
       "</ol>\n",
       "</dd>\n",
       "</dl>\n"
      ],
      "text/latex": [
       "\\begin{description}\n",
       "\\item[\\$l1] \\begin{enumerate*}\n",
       "\\item 0\n",
       "\\item 0.1\n",
       "\\item 0.2\n",
       "\\item 0.3\n",
       "\\item 0.4\n",
       "\\item 0.5\n",
       "\\item 0.6\n",
       "\\item 0.7\n",
       "\\item 0.8\n",
       "\\item 0.9\n",
       "\\item 1\n",
       "\\end{enumerate*}\n",
       "\n",
       "\\item[\\$l2] \\begin{enumerate*}\n",
       "\\item 0.254901960784314\n",
       "\\item 0.274509803921569\n",
       "\\item 0\n",
       "\\item 0.627450980392157\n",
       "\\item 0.784313725490196\n",
       "\\item 1\n",
       "\\end{enumerate*}\n",
       "\n",
       "\\end{description}\n"
      ],
      "text/markdown": [
       "$l1\n",
       ":   1. 0\n",
       "2. 0.1\n",
       "3. 0.2\n",
       "4. 0.3\n",
       "5. 0.4\n",
       "6. 0.5\n",
       "7. 0.6\n",
       "8. 0.7\n",
       "9. 0.8\n",
       "10. 0.9\n",
       "11. 1\n",
       "\n",
       "\n",
       "\n",
       "$l2\n",
       ":   1. 0.254901960784314\n",
       "2. 0.274509803921569\n",
       "3. 0\n",
       "4. 0.627450980392157\n",
       "5. 0.784313725490196\n",
       "6. 1\n",
       "\n",
       "\n",
       "\n",
       "\n",
       "\n"
      ],
      "text/plain": [
       "$l1\n",
       " [1] 0.0 0.1 0.2 0.3 0.4 0.5 0.6 0.7 0.8 0.9 1.0\n",
       "\n",
       "$l2\n",
       "[1] 0.2549020 0.2745098 0.0000000 0.6274510 0.7843137 1.0000000\n"
      ]
     },
     "metadata": {},
     "output_type": "display_data"
    }
   ],
   "source": [
    "columnlistNormed"
   ]
  },
  {
   "cell_type": "markdown",
   "metadata": {
    "deletable": true,
    "editable": true
   },
   "source": [
    "Note that the first parameter of the *lapply()*-function is a list, which contains the objects on which the function (*myNormalizer()* in the example above) shall be executed. In the case that an arbitrary function shall be executed not on a list of objects, but on an array or a matrix, the *apply()*-function can be used. This function has an additional parameter, which determines along which axes of the multidimensional object the function shall be applied. This is demonstrated in the example below. Here the *myNormalizer()*-function is first performed columnwise (parameter 1 in *apply()*) and then rowwise (parameter 2 in *apply()*)."
   ]
  },
  {
   "cell_type": "code",
   "execution_count": 57,
   "metadata": {
    "collapsed": false,
    "deletable": true,
    "editable": true
   },
   "outputs": [],
   "source": [
    "mymat=matrix(floor(runif(28)*20),nrow=4,ncol=7)"
   ]
  },
  {
   "cell_type": "code",
   "execution_count": 58,
   "metadata": {
    "collapsed": false,
    "deletable": true,
    "editable": true
   },
   "outputs": [
    {
     "data": {
      "text/html": [
       "<table>\n",
       "<tbody>\n",
       "\t<tr><td> 0</td><td> 9</td><td>15</td><td> 2</td><td>17</td><td>19</td><td>15</td></tr>\n",
       "\t<tr><td>15</td><td>17</td><td>16</td><td> 6</td><td>14</td><td>14</td><td>16</td></tr>\n",
       "\t<tr><td>16</td><td>15</td><td>15</td><td>14</td><td> 4</td><td> 5</td><td> 0</td></tr>\n",
       "\t<tr><td> 4</td><td> 8</td><td>19</td><td> 1</td><td>19</td><td>15</td><td>12</td></tr>\n",
       "</tbody>\n",
       "</table>\n"
      ],
      "text/latex": [
       "\\begin{tabular}{lllllll}\n",
       "\t  0 &  9 & 15 &  2 & 17 & 19 & 15\\\\\n",
       "\t 15 & 17 & 16 &  6 & 14 & 14 & 16\\\\\n",
       "\t 16 & 15 & 15 & 14 &  4 &  5 &  0\\\\\n",
       "\t  4 &  8 & 19 &  1 & 19 & 15 & 12\\\\\n",
       "\\end{tabular}\n"
      ],
      "text/markdown": [
       "\n",
       "|  0 |  9 | 15 |  2 | 17 | 19 | 15 | \n",
       "| 15 | 17 | 16 |  6 | 14 | 14 | 16 | \n",
       "| 16 | 15 | 15 | 14 |  4 |  5 |  0 | \n",
       "|  4 |  8 | 19 |  1 | 19 | 15 | 12 | \n",
       "\n",
       "\n"
      ],
      "text/plain": [
       "     [,1] [,2] [,3] [,4] [,5] [,6] [,7]\n",
       "[1,]  0    9   15    2   17   19   15  \n",
       "[2,] 15   17   16    6   14   14   16  \n",
       "[3,] 16   15   15   14    4    5    0  \n",
       "[4,]  4    8   19    1   19   15   12  "
      ]
     },
     "metadata": {},
     "output_type": "display_data"
    }
   ],
   "source": [
    "mymat"
   ]
  },
  {
   "cell_type": "markdown",
   "metadata": {
    "deletable": true,
    "editable": true
   },
   "source": [
    "Columnwise normalization:"
   ]
  },
  {
   "cell_type": "code",
   "execution_count": 59,
   "metadata": {
    "collapsed": false,
    "deletable": true,
    "editable": true
   },
   "outputs": [
    {
     "data": {
      "text/html": [
       "<table>\n",
       "<tbody>\n",
       "\t<tr><td>0.0000000</td><td>0.8181818</td><td>1.0000   </td><td>0.1666667</td></tr>\n",
       "\t<tr><td>0.4736842</td><td>1.0000000</td><td>0.9375   </td><td>0.3888889</td></tr>\n",
       "\t<tr><td>0.7894737</td><td>0.9090909</td><td>0.9375   </td><td>1.0000000</td></tr>\n",
       "\t<tr><td>0.1052632</td><td>0.0000000</td><td>0.8750   </td><td>0.0000000</td></tr>\n",
       "\t<tr><td>0.8947368</td><td>0.7272727</td><td>0.2500   </td><td>1.0000000</td></tr>\n",
       "\t<tr><td>1.0000000</td><td>0.7272727</td><td>0.3125   </td><td>0.7777778</td></tr>\n",
       "\t<tr><td>0.7894737</td><td>0.9090909</td><td>0.0000   </td><td>0.6111111</td></tr>\n",
       "</tbody>\n",
       "</table>\n"
      ],
      "text/latex": [
       "\\begin{tabular}{llll}\n",
       "\t 0.0000000 & 0.8181818 & 1.0000    & 0.1666667\\\\\n",
       "\t 0.4736842 & 1.0000000 & 0.9375    & 0.3888889\\\\\n",
       "\t 0.7894737 & 0.9090909 & 0.9375    & 1.0000000\\\\\n",
       "\t 0.1052632 & 0.0000000 & 0.8750    & 0.0000000\\\\\n",
       "\t 0.8947368 & 0.7272727 & 0.2500    & 1.0000000\\\\\n",
       "\t 1.0000000 & 0.7272727 & 0.3125    & 0.7777778\\\\\n",
       "\t 0.7894737 & 0.9090909 & 0.0000    & 0.6111111\\\\\n",
       "\\end{tabular}\n"
      ],
      "text/markdown": [
       "\n",
       "| 0.0000000 | 0.8181818 | 1.0000    | 0.1666667 | \n",
       "| 0.4736842 | 1.0000000 | 0.9375    | 0.3888889 | \n",
       "| 0.7894737 | 0.9090909 | 0.9375    | 1.0000000 | \n",
       "| 0.1052632 | 0.0000000 | 0.8750    | 0.0000000 | \n",
       "| 0.8947368 | 0.7272727 | 0.2500    | 1.0000000 | \n",
       "| 1.0000000 | 0.7272727 | 0.3125    | 0.7777778 | \n",
       "| 0.7894737 | 0.9090909 | 0.0000    | 0.6111111 | \n",
       "\n",
       "\n"
      ],
      "text/plain": [
       "     [,1]      [,2]      [,3]   [,4]     \n",
       "[1,] 0.0000000 0.8181818 1.0000 0.1666667\n",
       "[2,] 0.4736842 1.0000000 0.9375 0.3888889\n",
       "[3,] 0.7894737 0.9090909 0.9375 1.0000000\n",
       "[4,] 0.1052632 0.0000000 0.8750 0.0000000\n",
       "[5,] 0.8947368 0.7272727 0.2500 1.0000000\n",
       "[6,] 1.0000000 0.7272727 0.3125 0.7777778\n",
       "[7,] 0.7894737 0.9090909 0.0000 0.6111111"
      ]
     },
     "metadata": {},
     "output_type": "display_data"
    }
   ],
   "source": [
    "mymatNormed=apply(mymat,1,myNormalizer)\n",
    "mymatNormed"
   ]
  },
  {
   "cell_type": "markdown",
   "metadata": {
    "deletable": true,
    "editable": true
   },
   "source": [
    "Rowwise normalization:"
   ]
  },
  {
   "cell_type": "code",
   "execution_count": 60,
   "metadata": {
    "collapsed": false,
    "deletable": true,
    "editable": true
   },
   "outputs": [
    {
     "data": {
      "text/html": [
       "<table>\n",
       "<tbody>\n",
       "\t<tr><td>0.0000    </td><td>0.1111111 </td><td>0.00      </td><td>0.07692308</td><td>0.8666667 </td><td>1.0000000 </td><td>0.9375    </td></tr>\n",
       "\t<tr><td>0.9375    </td><td>1.0000000 </td><td>0.25      </td><td>0.38461538</td><td>0.6666667 </td><td>0.6428571 </td><td>1.0000    </td></tr>\n",
       "\t<tr><td>1.0000    </td><td>0.7777778 </td><td>0.00      </td><td>1.00000000</td><td>0.0000000 </td><td>0.0000000 </td><td>0.0000    </td></tr>\n",
       "\t<tr><td>0.2500    </td><td>0.0000000 </td><td>1.00      </td><td>0.00000000</td><td>1.0000000 </td><td>0.7142857 </td><td>0.7500    </td></tr>\n",
       "</tbody>\n",
       "</table>\n"
      ],
      "text/latex": [
       "\\begin{tabular}{lllllll}\n",
       "\t 0.0000     & 0.1111111  & 0.00       & 0.07692308 & 0.8666667  & 1.0000000  & 0.9375    \\\\\n",
       "\t 0.9375     & 1.0000000  & 0.25       & 0.38461538 & 0.6666667  & 0.6428571  & 1.0000    \\\\\n",
       "\t 1.0000     & 0.7777778  & 0.00       & 1.00000000 & 0.0000000  & 0.0000000  & 0.0000    \\\\\n",
       "\t 0.2500     & 0.0000000  & 1.00       & 0.00000000 & 1.0000000  & 0.7142857  & 0.7500    \\\\\n",
       "\\end{tabular}\n"
      ],
      "text/markdown": [
       "\n",
       "| 0.0000     | 0.1111111  | 0.00       | 0.07692308 | 0.8666667  | 1.0000000  | 0.9375     | \n",
       "| 0.9375     | 1.0000000  | 0.25       | 0.38461538 | 0.6666667  | 0.6428571  | 1.0000     | \n",
       "| 1.0000     | 0.7777778  | 0.00       | 1.00000000 | 0.0000000  | 0.0000000  | 0.0000     | \n",
       "| 0.2500     | 0.0000000  | 1.00       | 0.00000000 | 1.0000000  | 0.7142857  | 0.7500     | \n",
       "\n",
       "\n"
      ],
      "text/plain": [
       "     [,1]   [,2]      [,3] [,4]       [,5]      [,6]      [,7]  \n",
       "[1,] 0.0000 0.1111111 0.00 0.07692308 0.8666667 1.0000000 0.9375\n",
       "[2,] 0.9375 1.0000000 0.25 0.38461538 0.6666667 0.6428571 1.0000\n",
       "[3,] 1.0000 0.7777778 0.00 1.00000000 0.0000000 0.0000000 0.0000\n",
       "[4,] 0.2500 0.0000000 1.00 0.00000000 1.0000000 0.7142857 0.7500"
      ]
     },
     "metadata": {},
     "output_type": "display_data"
    }
   ],
   "source": [
    "mymatNormed=apply(mymat,2,myNormalizer)\n",
    "mymatNormed"
   ]
  },
  {
   "cell_type": "markdown",
   "metadata": {
    "deletable": true,
    "editable": true
   },
   "source": [
    "*sapply()*-is similar to *lapply()*. However, it returns a vector or a matrix instead of a list: "
   ]
  },
  {
   "cell_type": "code",
   "execution_count": 23,
   "metadata": {
    "collapsed": false,
    "deletable": true,
    "editable": true
   },
   "outputs": [
    {
     "data": {
      "text/html": [
       "<dl>\n",
       "\t<dt>$l1</dt>\n",
       "\t\t<dd>15</dd>\n",
       "\t<dt>$l2</dt>\n",
       "\t\t<dd>45</dd>\n",
       "</dl>\n"
      ],
      "text/latex": [
       "\\begin{description}\n",
       "\\item[\\$l1] 15\n",
       "\\item[\\$l2] 45\n",
       "\\end{description}\n"
      ],
      "text/markdown": [
       "$l1\n",
       ":   15\n",
       "$l2\n",
       ":   45\n",
       "\n",
       "\n"
      ],
      "text/plain": [
       "$l1\n",
       "[1] 15\n",
       "\n",
       "$l2\n",
       "[1] 45\n"
      ]
     },
     "metadata": {},
     "output_type": "display_data"
    },
    {
     "data": {
      "text/html": [
       "'list'"
      ],
      "text/latex": [
       "'list'"
      ],
      "text/markdown": [
       "'list'"
      ],
      "text/plain": [
       "[1] \"list\""
      ]
     },
     "metadata": {},
     "output_type": "display_data"
    }
   ],
   "source": [
    "columnmean<-lapply(columnlist,mean)\n",
    "columnmean\n",
    "class(columnmean)"
   ]
  },
  {
   "cell_type": "code",
   "execution_count": 24,
   "metadata": {
    "collapsed": false,
    "deletable": true,
    "editable": true
   },
   "outputs": [
    {
     "data": {
      "text/html": [
       "<dl class=dl-horizontal>\n",
       "\t<dt>l1</dt>\n",
       "\t\t<dd>15</dd>\n",
       "\t<dt>l2</dt>\n",
       "\t\t<dd>45</dd>\n",
       "</dl>\n"
      ],
      "text/latex": [
       "\\begin{description*}\n",
       "\\item[l1] 15\n",
       "\\item[l2] 45\n",
       "\\end{description*}\n"
      ],
      "text/markdown": [
       "l1\n",
       ":   15l2\n",
       ":   45\n",
       "\n"
      ],
      "text/plain": [
       "l1 l2 \n",
       "15 45 "
      ]
     },
     "metadata": {},
     "output_type": "display_data"
    },
    {
     "data": {
      "text/html": [
       "'numeric'"
      ],
      "text/latex": [
       "'numeric'"
      ],
      "text/markdown": [
       "'numeric'"
      ],
      "text/plain": [
       "[1] \"numeric\""
      ]
     },
     "metadata": {},
     "output_type": "display_data"
    }
   ],
   "source": [
    "columnmean<-sapply(columnlist,mean)\n",
    "columnmean\n",
    "class(columnmean)"
   ]
  },
  {
   "cell_type": "code",
   "execution_count": null,
   "metadata": {
    "collapsed": true,
    "deletable": true,
    "editable": true
   },
   "outputs": [],
   "source": []
  }
 ],
 "metadata": {
  "anaconda-cloud": {},
  "kernelspec": {
   "display_name": "R",
   "language": "R",
   "name": "ir"
  },
  "language_info": {
   "codemirror_mode": "r",
   "file_extension": ".r",
   "mimetype": "text/x-r-source",
   "name": "R",
   "pygments_lexer": "r",
   "version": "3.3.2"
  },
  "nav_menu": {},
  "toc": {
   "navigate_menu": true,
   "number_sections": true,
   "sideBar": false,
   "threshold": 6,
   "toc_cell": true,
   "toc_section_display": "block",
   "toc_window_display": false
  },
  "toc_position": {
   "height": "577px",
   "left": "1px",
   "right": "1195px",
   "top": "105px",
   "width": "212px"
  }
 },
 "nbformat": 4,
 "nbformat_minor": 1
}

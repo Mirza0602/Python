{
 "cells": [
  {
   "cell_type": "markdown",
   "metadata": {
    "deletable": true,
    "editable": true
   },
   "source": [
    "# Selection of R-functions\n",
    "\n",
    "* Author: Johannes Maucher\n",
    "* Last Update: 2017-03-23\n",
    "* References:\n",
    "    * R in Action, Chapter 5\n",
    "* Topics of this notebook\n",
    "    * basic statistical functions"
   ]
  },
  {
   "cell_type": "markdown",
   "metadata": {
    "deletable": true,
    "editable": true
   },
   "source": [
    "## Functions for generating data\n",
    "\n",
    "|       function       |                                           comment                                           |\n",
    "|:--------------------:|:-------------------------------------------------------------------------------------------:|\n",
    "| runif(n,min=0,max=1) | Generate n uniformly distributed random float numbers in the range between min and max      |\n",
    "| rnorm(n,mean=0,sd=1) | Generate n Gaussian distributed random numbers with mean = mean and standard deviation = sd |"
   ]
  },
  {
   "cell_type": "code",
   "execution_count": 1,
   "metadata": {
    "ExecuteTime": {
     "end_time": "2017-03-23T16:23:31.848294",
     "start_time": "2017-03-23T15:23:31.801Z"
    },
    "collapsed": false,
    "deletable": true,
    "editable": true
   },
   "outputs": [
    {
     "data": {
      "text/html": [
       "<ol class=list-inline>\n",
       "\t<li>0.603775634430349</li>\n",
       "\t<li>0.156660677632317</li>\n",
       "\t<li>0.125986250583082</li>\n",
       "\t<li>0.795336436945945</li>\n",
       "\t<li>0.055766892619431</li>\n",
       "\t<li>0.90560487494804</li>\n",
       "\t<li>0.0301487140823156</li>\n",
       "\t<li>0.0458288101945072</li>\n",
       "</ol>\n"
      ],
      "text/latex": [
       "\\begin{enumerate*}\n",
       "\\item 0.603775634430349\n",
       "\\item 0.156660677632317\n",
       "\\item 0.125986250583082\n",
       "\\item 0.795336436945945\n",
       "\\item 0.055766892619431\n",
       "\\item 0.90560487494804\n",
       "\\item 0.0301487140823156\n",
       "\\item 0.0458288101945072\n",
       "\\end{enumerate*}\n"
      ],
      "text/markdown": [
       "1. 0.603775634430349\n",
       "2. 0.156660677632317\n",
       "3. 0.125986250583082\n",
       "4. 0.795336436945945\n",
       "5. 0.055766892619431\n",
       "6. 0.90560487494804\n",
       "7. 0.0301487140823156\n",
       "8. 0.0458288101945072\n",
       "\n",
       "\n"
      ],
      "text/plain": [
       "[1] 0.60377563 0.15666068 0.12598625 0.79533644 0.05576689 0.90560487 0.03014871\n",
       "[8] 0.04582881"
      ]
     },
     "metadata": {},
     "output_type": "display_data"
    },
    {
     "data": {
      "text/html": [
       "<ol class=list-inline>\n",
       "\t<li>5.64261120045558</li>\n",
       "\t<li>5.87307042209432</li>\n",
       "\t<li>9.87309902207926</li>\n",
       "\t<li>5.1624265871942</li>\n",
       "\t<li>2.05485614482313</li>\n",
       "</ol>\n"
      ],
      "text/latex": [
       "\\begin{enumerate*}\n",
       "\\item 5.64261120045558\n",
       "\\item 5.87307042209432\n",
       "\\item 9.87309902207926\n",
       "\\item 5.1624265871942\n",
       "\\item 2.05485614482313\n",
       "\\end{enumerate*}\n"
      ],
      "text/markdown": [
       "1. 5.64261120045558\n",
       "2. 5.87307042209432\n",
       "3. 9.87309902207926\n",
       "4. 5.1624265871942\n",
       "5. 2.05485614482313\n",
       "\n",
       "\n"
      ],
      "text/plain": [
       "[1] 5.642611 5.873070 9.873099 5.162427 2.054856"
      ]
     },
     "metadata": {},
     "output_type": "display_data"
    }
   ],
   "source": [
    "runif(8)\n",
    "runif(5,0,10)"
   ]
  },
  {
   "cell_type": "markdown",
   "metadata": {
    "deletable": true,
    "editable": true
   },
   "source": [
    "Generate random rounded numbers"
   ]
  },
  {
   "cell_type": "code",
   "execution_count": 5,
   "metadata": {
    "ExecuteTime": {
     "end_time": "2017-03-23T16:23:34.902623",
     "start_time": "2017-03-23T15:23:34.860Z"
    },
    "collapsed": false,
    "deletable": true,
    "editable": true
   },
   "outputs": [
    {
     "data": {
      "text/html": [
       "<ol class=list-inline>\n",
       "\t<li>2.7566661988385</li>\n",
       "\t<li>4.92100463947281</li>\n",
       "\t<li>9.60771750658751</li>\n",
       "\t<li>1.55346524203196</li>\n",
       "\t<li>0.32770132413134</li>\n",
       "</ol>\n"
      ],
      "text/latex": [
       "\\begin{enumerate*}\n",
       "\\item 2.7566661988385\n",
       "\\item 4.92100463947281\n",
       "\\item 9.60771750658751\n",
       "\\item 1.55346524203196\n",
       "\\item 0.32770132413134\n",
       "\\end{enumerate*}\n"
      ],
      "text/markdown": [
       "1. 2.7566661988385\n",
       "2. 4.92100463947281\n",
       "3. 9.60771750658751\n",
       "4. 1.55346524203196\n",
       "5. 0.32770132413134\n",
       "\n",
       "\n"
      ],
      "text/plain": [
       "[1] 2.7566662 4.9210046 9.6077175 1.5534652 0.3277013"
      ]
     },
     "metadata": {},
     "output_type": "display_data"
    },
    {
     "data": {
      "text/html": [
       "<ol class=list-inline>\n",
       "\t<li>2</li>\n",
       "\t<li>4</li>\n",
       "\t<li>9</li>\n",
       "\t<li>1</li>\n",
       "\t<li>0</li>\n",
       "</ol>\n"
      ],
      "text/latex": [
       "\\begin{enumerate*}\n",
       "\\item 2\n",
       "\\item 4\n",
       "\\item 9\n",
       "\\item 1\n",
       "\\item 0\n",
       "\\end{enumerate*}\n"
      ],
      "text/markdown": [
       "1. 2\n",
       "2. 4\n",
       "3. 9\n",
       "4. 1\n",
       "5. 0\n",
       "\n",
       "\n"
      ],
      "text/plain": [
       "[1] 2 4 9 1 0"
      ]
     },
     "metadata": {},
     "output_type": "display_data"
    },
    {
     "data": {
      "text/html": [
       "<ol class=list-inline>\n",
       "\t<li>2</li>\n",
       "\t<li>4</li>\n",
       "\t<li>9</li>\n",
       "\t<li>1</li>\n",
       "\t<li>0</li>\n",
       "</ol>\n"
      ],
      "text/latex": [
       "\\begin{enumerate*}\n",
       "\\item 2\n",
       "\\item 4\n",
       "\\item 9\n",
       "\\item 1\n",
       "\\item 0\n",
       "\\end{enumerate*}\n"
      ],
      "text/markdown": [
       "1. 2\n",
       "2. 4\n",
       "3. 9\n",
       "4. 1\n",
       "5. 0\n",
       "\n",
       "\n"
      ],
      "text/plain": [
       "[1] 2 4 9 1 0"
      ]
     },
     "metadata": {},
     "output_type": "display_data"
    },
    {
     "data": {
      "text/html": [
       "<ol class=list-inline>\n",
       "\t<li>3</li>\n",
       "\t<li>5</li>\n",
       "\t<li>10</li>\n",
       "\t<li>2</li>\n",
       "\t<li>1</li>\n",
       "</ol>\n"
      ],
      "text/latex": [
       "\\begin{enumerate*}\n",
       "\\item 3\n",
       "\\item 5\n",
       "\\item 10\n",
       "\\item 2\n",
       "\\item 1\n",
       "\\end{enumerate*}\n"
      ],
      "text/markdown": [
       "1. 3\n",
       "2. 5\n",
       "3. 10\n",
       "4. 2\n",
       "5. 1\n",
       "\n",
       "\n"
      ],
      "text/plain": [
       "[1]  3  5 10  2  1"
      ]
     },
     "metadata": {},
     "output_type": "display_data"
    },
    {
     "data": {
      "text/html": [
       "<ol class=list-inline>\n",
       "\t<li>2.76</li>\n",
       "\t<li>4.92</li>\n",
       "\t<li>9.61</li>\n",
       "\t<li>1.55</li>\n",
       "\t<li>0.33</li>\n",
       "</ol>\n"
      ],
      "text/latex": [
       "\\begin{enumerate*}\n",
       "\\item 2.76\n",
       "\\item 4.92\n",
       "\\item 9.61\n",
       "\\item 1.55\n",
       "\\item 0.33\n",
       "\\end{enumerate*}\n"
      ],
      "text/markdown": [
       "1. 2.76\n",
       "2. 4.92\n",
       "3. 9.61\n",
       "4. 1.55\n",
       "5. 0.33\n",
       "\n",
       "\n"
      ],
      "text/plain": [
       "[1] 2.76 4.92 9.61 1.55 0.33"
      ]
     },
     "metadata": {},
     "output_type": "display_data"
    }
   ],
   "source": [
    "unif<-runif(5,0,10)\n",
    "unif\n",
    "trunc(unif) \n",
    "floor(unif)\n",
    "ceiling(unif)\n",
    "round(unif,2)"
   ]
  },
  {
   "cell_type": "markdown",
   "metadata": {
    "deletable": true,
    "editable": true
   },
   "source": [
    "Setting the seed of a random number generator in order to obtain same random numbers:"
   ]
  },
  {
   "cell_type": "code",
   "execution_count": 6,
   "metadata": {
    "ExecuteTime": {
     "end_time": "2017-03-23T16:24:18.535352",
     "start_time": "2017-03-23T15:24:18.472Z"
    },
    "collapsed": false,
    "deletable": true,
    "editable": true
   },
   "outputs": [
    {
     "data": {
      "text/html": [
       "<ol class=list-inline>\n",
       "\t<li>0.687857406679541</li>\n",
       "\t<li>0.492192608769983</li>\n",
       "\t<li>0.345115572912619</li>\n",
       "\t<li>0.995049911551178</li>\n",
       "\t<li>0.695267170201987</li>\n",
       "\t<li>0.0107000356074423</li>\n",
       "\t<li>0.345015853410587</li>\n",
       "\t<li>0.172049480024725</li>\n",
       "</ol>\n"
      ],
      "text/latex": [
       "\\begin{enumerate*}\n",
       "\\item 0.687857406679541\n",
       "\\item 0.492192608769983\n",
       "\\item 0.345115572912619\n",
       "\\item 0.995049911551178\n",
       "\\item 0.695267170201987\n",
       "\\item 0.0107000356074423\n",
       "\\item 0.345015853410587\n",
       "\\item 0.172049480024725\n",
       "\\end{enumerate*}\n"
      ],
      "text/markdown": [
       "1. 0.687857406679541\n",
       "2. 0.492192608769983\n",
       "3. 0.345115572912619\n",
       "4. 0.995049911551178\n",
       "5. 0.695267170201987\n",
       "6. 0.0107000356074423\n",
       "7. 0.345015853410587\n",
       "8. 0.172049480024725\n",
       "\n",
       "\n"
      ],
      "text/plain": [
       "[1] 0.68785741 0.49219261 0.34511557 0.99504991 0.69526717 0.01070004 0.34501585\n",
       "[8] 0.17204948"
      ]
     },
     "metadata": {},
     "output_type": "display_data"
    },
    {
     "data": {
      "text/html": [
       "<ol class=list-inline>\n",
       "\t<li>0.687857406679541</li>\n",
       "\t<li>0.492192608769983</li>\n",
       "\t<li>0.345115572912619</li>\n",
       "\t<li>0.995049911551178</li>\n",
       "\t<li>0.695267170201987</li>\n",
       "\t<li>0.0107000356074423</li>\n",
       "\t<li>0.345015853410587</li>\n",
       "\t<li>0.172049480024725</li>\n",
       "</ol>\n"
      ],
      "text/latex": [
       "\\begin{enumerate*}\n",
       "\\item 0.687857406679541\n",
       "\\item 0.492192608769983\n",
       "\\item 0.345115572912619\n",
       "\\item 0.995049911551178\n",
       "\\item 0.695267170201987\n",
       "\\item 0.0107000356074423\n",
       "\\item 0.345015853410587\n",
       "\\item 0.172049480024725\n",
       "\\end{enumerate*}\n"
      ],
      "text/markdown": [
       "1. 0.687857406679541\n",
       "2. 0.492192608769983\n",
       "3. 0.345115572912619\n",
       "4. 0.995049911551178\n",
       "5. 0.695267170201987\n",
       "6. 0.0107000356074423\n",
       "7. 0.345015853410587\n",
       "8. 0.172049480024725\n",
       "\n",
       "\n"
      ],
      "text/plain": [
       "[1] 0.68785741 0.49219261 0.34511557 0.99504991 0.69526717 0.01070004 0.34501585\n",
       "[8] 0.17204948"
      ]
     },
     "metadata": {},
     "output_type": "display_data"
    }
   ],
   "source": [
    "set.seed(777)\n",
    "runif(8)\n",
    "set.seed(777)\n",
    "runif(8)"
   ]
  },
  {
   "cell_type": "markdown",
   "metadata": {
    "deletable": true,
    "editable": true
   },
   "source": [
    "### Binning"
   ]
  },
  {
   "cell_type": "markdown",
   "metadata": {
    "deletable": true,
    "editable": true
   },
   "source": [
    "Generate random numbers:"
   ]
  },
  {
   "cell_type": "code",
   "execution_count": 13,
   "metadata": {
    "collapsed": false,
    "deletable": true,
    "editable": true
   },
   "outputs": [
    {
     "data": {
      "text/html": [
       "<ol class=list-inline>\n",
       "\t<li>92.4741920782253</li>\n",
       "\t<li>15.1476313825697</li>\n",
       "\t<li>66.531348368153</li>\n",
       "\t<li>35.9392260434106</li>\n",
       "\t<li>4.05397636350244</li>\n",
       "\t<li>16.0643466282636</li>\n",
       "\t<li>48.9901435328647</li>\n",
       "\t<li>15.4676747508347</li>\n",
       "\t<li>6.83330232277513</li>\n",
       "\t<li>95.7226864993572</li>\n",
       "\t<li>29.4055263046175</li>\n",
       "\t<li>2.05743976403028</li>\n",
       "\t<li>74.579417030327</li>\n",
       "\t<li>19.7957861237228</li>\n",
       "\t<li>80.4648202378303</li>\n",
       "\t<li>0.592189305461943</li>\n",
       "\t<li>89.4654654897749</li>\n",
       "\t<li>6.38492309954017</li>\n",
       "\t<li>11.2239698413759</li>\n",
       "\t<li>25.6419660057873</li>\n",
       "</ol>\n"
      ],
      "text/latex": [
       "\\begin{enumerate*}\n",
       "\\item 92.4741920782253\n",
       "\\item 15.1476313825697\n",
       "\\item 66.531348368153\n",
       "\\item 35.9392260434106\n",
       "\\item 4.05397636350244\n",
       "\\item 16.0643466282636\n",
       "\\item 48.9901435328647\n",
       "\\item 15.4676747508347\n",
       "\\item 6.83330232277513\n",
       "\\item 95.7226864993572\n",
       "\\item 29.4055263046175\n",
       "\\item 2.05743976403028\n",
       "\\item 74.579417030327\n",
       "\\item 19.7957861237228\n",
       "\\item 80.4648202378303\n",
       "\\item 0.592189305461943\n",
       "\\item 89.4654654897749\n",
       "\\item 6.38492309954017\n",
       "\\item 11.2239698413759\n",
       "\\item 25.6419660057873\n",
       "\\end{enumerate*}\n"
      ],
      "text/markdown": [
       "1. 92.4741920782253\n",
       "2. 15.1476313825697\n",
       "3. 66.531348368153\n",
       "4. 35.9392260434106\n",
       "5. 4.05397636350244\n",
       "6. 16.0643466282636\n",
       "7. 48.9901435328647\n",
       "8. 15.4676747508347\n",
       "9. 6.83330232277513\n",
       "10. 95.7226864993572\n",
       "11. 29.4055263046175\n",
       "12. 2.05743976403028\n",
       "13. 74.579417030327\n",
       "14. 19.7957861237228\n",
       "15. 80.4648202378303\n",
       "16. 0.592189305461943\n",
       "17. 89.4654654897749\n",
       "18. 6.38492309954017\n",
       "19. 11.2239698413759\n",
       "20. 25.6419660057873\n",
       "\n",
       "\n"
      ],
      "text/plain": [
       " [1] 92.4741921 15.1476314 66.5313484 35.9392260  4.0539764 16.0643466\n",
       " [7] 48.9901435 15.4676748  6.8333023 95.7226865 29.4055263  2.0574398\n",
       "[13] 74.5794170 19.7957861 80.4648202  0.5921893 89.4654655  6.3849231\n",
       "[19] 11.2239698 25.6419660"
      ]
     },
     "metadata": {},
     "output_type": "display_data"
    }
   ],
   "source": [
    "rawdat<-runif(20,0,100)\n",
    "rawdat"
   ]
  },
  {
   "cell_type": "markdown",
   "metadata": {
    "deletable": true,
    "editable": true
   },
   "source": [
    "Define Bins:"
   ]
  },
  {
   "cell_type": "code",
   "execution_count": 14,
   "metadata": {
    "collapsed": false,
    "deletable": true,
    "editable": true
   },
   "outputs": [
    {
     "data": {
      "text/html": [
       "<ol class=list-inline>\n",
       "\t<li>0</li>\n",
       "\t<li>10</li>\n",
       "\t<li>20</li>\n",
       "\t<li>30</li>\n",
       "\t<li>40</li>\n",
       "\t<li>50</li>\n",
       "\t<li>60</li>\n",
       "\t<li>70</li>\n",
       "\t<li>80</li>\n",
       "\t<li>90</li>\n",
       "\t<li>100</li>\n",
       "</ol>\n"
      ],
      "text/latex": [
       "\\begin{enumerate*}\n",
       "\\item 0\n",
       "\\item 10\n",
       "\\item 20\n",
       "\\item 30\n",
       "\\item 40\n",
       "\\item 50\n",
       "\\item 60\n",
       "\\item 70\n",
       "\\item 80\n",
       "\\item 90\n",
       "\\item 100\n",
       "\\end{enumerate*}\n"
      ],
      "text/markdown": [
       "1. 0\n",
       "2. 10\n",
       "3. 20\n",
       "4. 30\n",
       "5. 40\n",
       "6. 50\n",
       "7. 60\n",
       "8. 70\n",
       "9. 80\n",
       "10. 90\n",
       "11. 100\n",
       "\n",
       "\n"
      ],
      "text/plain": [
       " [1]   0  10  20  30  40  50  60  70  80  90 100"
      ]
     },
     "metadata": {},
     "output_type": "display_data"
    }
   ],
   "source": [
    "bins<-seq(0,100,10)\n",
    "bins"
   ]
  },
  {
   "cell_type": "markdown",
   "metadata": {
    "deletable": true,
    "editable": true
   },
   "source": [
    "Assign numbers to bins:"
   ]
  },
  {
   "cell_type": "code",
   "execution_count": 16,
   "metadata": {
    "collapsed": false,
    "deletable": true,
    "editable": true
   },
   "outputs": [
    {
     "data": {
      "text/html": [
       "<ol class=list-inline>\n",
       "\t<li>(90,100]</li>\n",
       "\t<li>(10,20]</li>\n",
       "\t<li>(60,70]</li>\n",
       "\t<li>(30,40]</li>\n",
       "\t<li>(0,10]</li>\n",
       "\t<li>(10,20]</li>\n",
       "\t<li>(40,50]</li>\n",
       "\t<li>(10,20]</li>\n",
       "\t<li>(0,10]</li>\n",
       "\t<li>(90,100]</li>\n",
       "\t<li>(20,30]</li>\n",
       "\t<li>(0,10]</li>\n",
       "\t<li>(70,80]</li>\n",
       "\t<li>(10,20]</li>\n",
       "\t<li>(80,90]</li>\n",
       "\t<li>(0,10]</li>\n",
       "\t<li>(80,90]</li>\n",
       "\t<li>(0,10]</li>\n",
       "\t<li>(10,20]</li>\n",
       "\t<li>(20,30]</li>\n",
       "</ol>\n"
      ],
      "text/latex": [
       "\\begin{enumerate*}\n",
       "\\item (90,100{]}\n",
       "\\item (10,20{]}\n",
       "\\item (60,70{]}\n",
       "\\item (30,40{]}\n",
       "\\item (0,10{]}\n",
       "\\item (10,20{]}\n",
       "\\item (40,50{]}\n",
       "\\item (10,20{]}\n",
       "\\item (0,10{]}\n",
       "\\item (90,100{]}\n",
       "\\item (20,30{]}\n",
       "\\item (0,10{]}\n",
       "\\item (70,80{]}\n",
       "\\item (10,20{]}\n",
       "\\item (80,90{]}\n",
       "\\item (0,10{]}\n",
       "\\item (80,90{]}\n",
       "\\item (0,10{]}\n",
       "\\item (10,20{]}\n",
       "\\item (20,30{]}\n",
       "\\end{enumerate*}\n"
      ],
      "text/markdown": [
       "1. (90,100]\n",
       "2. (10,20]\n",
       "3. (60,70]\n",
       "4. (30,40]\n",
       "5. (0,10]\n",
       "6. (10,20]\n",
       "7. (40,50]\n",
       "8. (10,20]\n",
       "9. (0,10]\n",
       "10. (90,100]\n",
       "11. (20,30]\n",
       "12. (0,10]\n",
       "13. (70,80]\n",
       "14. (10,20]\n",
       "15. (80,90]\n",
       "16. (0,10]\n",
       "17. (80,90]\n",
       "18. (0,10]\n",
       "19. (10,20]\n",
       "20. (20,30]\n",
       "\n",
       "\n"
      ],
      "text/plain": [
       " [1] (90,100] (10,20]  (60,70]  (30,40]  (0,10]   (10,20]  (40,50]  (10,20] \n",
       " [9] (0,10]   (90,100] (20,30]  (0,10]   (70,80]  (10,20]  (80,90]  (0,10]  \n",
       "[17] (80,90]  (0,10]   (10,20]  (20,30] \n",
       "10 Levels: (0,10] (10,20] (20,30] (30,40] (40,50] (50,60] (60,70] ... (90,100]"
      ]
     },
     "metadata": {},
     "output_type": "display_data"
    },
    {
     "data": {
      "text/html": [
       "'factor'"
      ],
      "text/latex": [
       "'factor'"
      ],
      "text/markdown": [
       "'factor'"
      ],
      "text/plain": [
       "[1] \"factor\""
      ]
     },
     "metadata": {},
     "output_type": "display_data"
    }
   ],
   "source": [
    "binDat<-cut(rawdat,bins)\n",
    "binDat\n",
    "class(binDat)"
   ]
  },
  {
   "cell_type": "markdown",
   "metadata": {
    "deletable": true,
    "editable": true
   },
   "source": [
    "Another way to define bins. Here the bins are defined such that over the entire value range of the numbers in rawdata 5 equally sized bins are generated."
   ]
  },
  {
   "cell_type": "code",
   "execution_count": 18,
   "metadata": {
    "collapsed": false,
    "deletable": true,
    "editable": true
   },
   "outputs": [
    {
     "data": {
      "text/html": [
       "<ol class=list-inline>\n",
       "\t<li>0</li>\n",
       "\t<li>20</li>\n",
       "\t<li>40</li>\n",
       "\t<li>60</li>\n",
       "\t<li>80</li>\n",
       "\t<li>100</li>\n",
       "</ol>\n"
      ],
      "text/latex": [
       "\\begin{enumerate*}\n",
       "\\item 0\n",
       "\\item 20\n",
       "\\item 40\n",
       "\\item 60\n",
       "\\item 80\n",
       "\\item 100\n",
       "\\end{enumerate*}\n"
      ],
      "text/markdown": [
       "1. 0\n",
       "2. 20\n",
       "3. 40\n",
       "4. 60\n",
       "5. 80\n",
       "6. 100\n",
       "\n",
       "\n"
      ],
      "text/plain": [
       "[1]   0  20  40  60  80 100"
      ]
     },
     "metadata": {},
     "output_type": "display_data"
    },
    {
     "data": {
      "text/html": [
       "<ol class=list-inline>\n",
       "\t<li>(80,100]</li>\n",
       "\t<li>(0,20]</li>\n",
       "\t<li>(60,80]</li>\n",
       "\t<li>(20,40]</li>\n",
       "\t<li>(0,20]</li>\n",
       "\t<li>(0,20]</li>\n",
       "\t<li>(40,60]</li>\n",
       "\t<li>(0,20]</li>\n",
       "\t<li>(0,20]</li>\n",
       "\t<li>(80,100]</li>\n",
       "\t<li>(20,40]</li>\n",
       "\t<li>(0,20]</li>\n",
       "\t<li>(60,80]</li>\n",
       "\t<li>(0,20]</li>\n",
       "\t<li>(80,100]</li>\n",
       "\t<li>(0,20]</li>\n",
       "\t<li>(80,100]</li>\n",
       "\t<li>(0,20]</li>\n",
       "\t<li>(0,20]</li>\n",
       "\t<li>(20,40]</li>\n",
       "</ol>\n"
      ],
      "text/latex": [
       "\\begin{enumerate*}\n",
       "\\item (80,100{]}\n",
       "\\item (0,20{]}\n",
       "\\item (60,80{]}\n",
       "\\item (20,40{]}\n",
       "\\item (0,20{]}\n",
       "\\item (0,20{]}\n",
       "\\item (40,60{]}\n",
       "\\item (0,20{]}\n",
       "\\item (0,20{]}\n",
       "\\item (80,100{]}\n",
       "\\item (20,40{]}\n",
       "\\item (0,20{]}\n",
       "\\item (60,80{]}\n",
       "\\item (0,20{]}\n",
       "\\item (80,100{]}\n",
       "\\item (0,20{]}\n",
       "\\item (80,100{]}\n",
       "\\item (0,20{]}\n",
       "\\item (0,20{]}\n",
       "\\item (20,40{]}\n",
       "\\end{enumerate*}\n"
      ],
      "text/markdown": [
       "1. (80,100]\n",
       "2. (0,20]\n",
       "3. (60,80]\n",
       "4. (20,40]\n",
       "5. (0,20]\n",
       "6. (0,20]\n",
       "7. (40,60]\n",
       "8. (0,20]\n",
       "9. (0,20]\n",
       "10. (80,100]\n",
       "11. (20,40]\n",
       "12. (0,20]\n",
       "13. (60,80]\n",
       "14. (0,20]\n",
       "15. (80,100]\n",
       "16. (0,20]\n",
       "17. (80,100]\n",
       "18. (0,20]\n",
       "19. (0,20]\n",
       "20. (20,40]\n",
       "\n",
       "\n"
      ],
      "text/plain": [
       " [1] (80,100] (0,20]   (60,80]  (20,40]  (0,20]   (0,20]   (40,60]  (0,20]  \n",
       " [9] (0,20]   (80,100] (20,40]  (0,20]   (60,80]  (0,20]   (80,100] (0,20]  \n",
       "[17] (80,100] (0,20]   (0,20]   (20,40] \n",
       "Levels: (0,20] (20,40] (40,60] (60,80] (80,100]"
      ]
     },
     "metadata": {},
     "output_type": "display_data"
    }
   ],
   "source": [
    "bins2<-pretty(rawdat,5)\n",
    "bins2\n",
    "binDat2<-cut(rawdat,bins2)\n",
    "binDat2"
   ]
  },
  {
   "cell_type": "markdown",
   "metadata": {
    "deletable": true,
    "editable": true
   },
   "source": [
    "Distribution of numbers over the defined bins (histogram):"
   ]
  },
  {
   "cell_type": "code",
   "execution_count": 23,
   "metadata": {
    "collapsed": false,
    "deletable": true,
    "editable": true
   },
   "outputs": [
    {
     "data": {
      "text/plain": [
       "binDat2\n",
       "  (0,20]  (20,40]  (40,60]  (60,80] (80,100] \n",
       "      10        3        1        2        4 "
      ]
     },
     "metadata": {},
     "output_type": "display_data"
    }
   ],
   "source": [
    "table(binDat2)"
   ]
  },
  {
   "cell_type": "markdown",
   "metadata": {
    "deletable": true,
    "editable": true
   },
   "source": [
    "## Statistical Functions\n",
    "\n",
    "|             function            |                                    comment                                    |\n",
    "|:-------------------------------:|:-----------------------------------------------------------------------------:|\n",
    "| mean(x)                         | Mean value of x                                                               |\n",
    "| median(x)                       | Median value of x                                                             |\n",
    "| sd(x)                           | Standard deviation of x                                                       |\n",
    "| var(x)                          | Variance of x                                                                 |\n",
    "| mad(x)                          | Median absolute deviation of x                                                |\n",
    "| quantile(x, probs)              | Quantiles of x; Probs is a numeric vector with probabilities in [0,1]         |\n",
    "| range(x)                        | Value range of x; returns sequence with lowest and highest value              |\n",
    "| sum(x)                          | Sum of x                                                                      |\n",
    "| diff(x,lag=n)                   | Difference of values in x; default lag is n=1                                 |\n",
    "| min(x)                          | Minimum of x                                                                  |\n",
    "| max(x)                          | Maximum of x                                                                  |\n",
    "| scale(x,center=TRUE,scale=TRUE) | Standardization of x, optionally to mean=0 and/or to standard deviation of 1  |\n",
    "|                                 |                                                                               |"
   ]
  },
  {
   "cell_type": "markdown",
   "metadata": {},
   "source": [
    "### Statistical summary\n",
    "The standeard *summary()*-function already provides a list of descriptive statistics for all columnes of a dataframe. As can be seen in the example above, the statistics calculated by *summary()* are:\n",
    "* for numeric variables: min, max, mean and the quartiles\n",
    "* for factor variables: a table of frequencies for all values of the variable\n"
   ]
  },
  {
   "cell_type": "code",
   "execution_count": 12,
   "metadata": {
    "collapsed": false
   },
   "outputs": [
    {
     "name": "stdout",
     "output_type": "stream",
     "text": [
      "'data.frame':\t1338 obs. of  7 variables:\n",
      " $ age     : int  19 18 28 33 32 31 46 37 37 60 ...\n",
      " $ sex     : Factor w/ 2 levels \"female\",\"male\": 1 2 2 2 2 1 1 1 2 1 ...\n",
      " $ bmi     : num  27.9 33.8 33 22.7 28.9 ...\n",
      " $ children: int  0 1 3 0 0 0 1 3 2 0 ...\n",
      " $ smoker  : Factor w/ 2 levels \"no\",\"yes\": 2 1 1 1 1 1 1 1 1 1 ...\n",
      " $ region  : Factor w/ 4 levels \"northeast\",\"northwest\",..: 4 3 3 2 2 3 3 2 1 2 ...\n",
      " $ charges : num  16885 1726 4449 21984 3867 ...\n"
     ]
    },
    {
     "data": {
      "text/plain": [
       "      age            sex           bmi           children     smoker    \n",
       " Min.   :18.00   female:662   Min.   :15.96   Min.   :0.000   no :1064  \n",
       " 1st Qu.:27.00   male  :676   1st Qu.:26.30   1st Qu.:0.000   yes: 274  \n",
       " Median :39.00                Median :30.40   Median :1.000             \n",
       " Mean   :39.21                Mean   :30.66   Mean   :1.095             \n",
       " 3rd Qu.:51.00                3rd Qu.:34.69   3rd Qu.:2.000             \n",
       " Max.   :64.00                Max.   :53.13   Max.   :5.000             \n",
       "       region       charges     \n",
       " northeast:324   Min.   : 1122  \n",
       " northwest:325   1st Qu.: 4740  \n",
       " southeast:364   Median : 9382  \n",
       " southwest:325   Mean   :13270  \n",
       "                 3rd Qu.:16640  \n",
       "                 Max.   :63770  "
      ]
     },
     "metadata": {},
     "output_type": "display_data"
    }
   ],
   "source": [
    "insurance<-read.csv(file=\"../data/insurance.csv\", header=T,sep=\",\",stringsAsFactors = TRUE)\n",
    "str(insurance)\n",
    "summary(insurance)"
   ]
  },
  {
   "cell_type": "markdown",
   "metadata": {},
   "source": [
    "If the descriptive statistics provided by *summary()* are not sufficient, a function can be defined, which calculates the desired statistics. Once such a function is defined, it can easily be applied to dataframes using *sapply()*. This is demonstrated in the code cells below:"
   ]
  },
  {
   "cell_type": "code",
   "execution_count": 10,
   "metadata": {
    "collapsed": false
   },
   "outputs": [],
   "source": [
    "stat_summary <- function(x, na.omit=FALSE){\n",
    "                if (na.omit)\n",
    "                    x <- x[!is.na(x)]\n",
    "                if (class(x)=='factor'){\n",
    "                    return(table(x))\n",
    "                } else {\n",
    "                    m <- mean(x)\n",
    "                    n <- length(x)\n",
    "                    s <- sd(x)\n",
    "                    skew <- sum((x-m)^3/s^3)/n\n",
    "                    kurt <- sum((x-m)^4/s^4)/n - 3\n",
    "                    return(c(n=n, mean=m, stdev=s, skew=skew, kurtosis=kurt))\n",
    "                    }\n",
    "              }"
   ]
  },
  {
   "cell_type": "code",
   "execution_count": 14,
   "metadata": {
    "collapsed": false
   },
   "outputs": [
    {
     "data": {
      "text/html": [
       "<table>\n",
       "<thead><tr><th></th><th scope=col>age</th><th scope=col>bmi</th><th scope=col>children</th><th scope=col>charges</th></tr></thead>\n",
       "<tbody>\n",
       "\t<tr><th scope=row>n</th><td>1338.00000000</td><td>1338.00000000</td><td>1338.0000000 </td><td> 1338.000000 </td></tr>\n",
       "\t<tr><th scope=row>mean</th><td>  39.20702541</td><td>  30.66339686</td><td>   1.0949178 </td><td>13270.422265 </td></tr>\n",
       "\t<tr><th scope=row>stdev</th><td>  14.04996038</td><td>   6.09818691</td><td>   1.2054927 </td><td>12110.011237 </td></tr>\n",
       "\t<tr><th scope=row>skew</th><td>   0.05554775</td><td>   0.28341055</td><td>   0.9362775 </td><td>    1.512483 </td></tr>\n",
       "\t<tr><th scope=row>kurtosis</th><td>  -1.24754314</td><td>  -0.05942352</td><td>   0.1924401 </td><td>    1.588954 </td></tr>\n",
       "</tbody>\n",
       "</table>\n"
      ],
      "text/latex": [
       "\\begin{tabular}{r|llll}\n",
       "  & age & bmi & children & charges\\\\\n",
       "\\hline\n",
       "\tn & 1338.00000000 & 1338.00000000 & 1338.0000000  &  1338.000000 \\\\\n",
       "\tmean &   39.20702541 &   30.66339686 &    1.0949178  & 13270.422265 \\\\\n",
       "\tstdev &   14.04996038 &    6.09818691 &    1.2054927  & 12110.011237 \\\\\n",
       "\tskew &    0.05554775 &    0.28341055 &    0.9362775  &     1.512483 \\\\\n",
       "\tkurtosis &   -1.24754314 &   -0.05942352 &    0.1924401  &     1.588954 \\\\\n",
       "\\end{tabular}\n"
      ],
      "text/markdown": [
       "\n",
       "| <!--/--> | age | bmi | children | charges | \n",
       "|---|---|---|---|---|\n",
       "| n | 1338.00000000 | 1338.00000000 | 1338.0000000  |  1338.000000  | \n",
       "| mean |   39.20702541 |   30.66339686 |    1.0949178  | 13270.422265  | \n",
       "| stdev |   14.04996038 |    6.09818691 |    1.2054927  | 12110.011237  | \n",
       "| skew |    0.05554775 |    0.28341055 |    0.9362775  |     1.512483  | \n",
       "| kurtosis |   -1.24754314 |   -0.05942352 |    0.1924401  |     1.588954  | \n",
       "\n",
       "\n"
      ],
      "text/plain": [
       "         age           bmi           children     charges     \n",
       "n        1338.00000000 1338.00000000 1338.0000000  1338.000000\n",
       "mean       39.20702541   30.66339686    1.0949178 13270.422265\n",
       "stdev      14.04996038    6.09818691    1.2054927 12110.011237\n",
       "skew        0.05554775    0.28341055    0.9362775     1.512483\n",
       "kurtosis   -1.24754314   -0.05942352    0.1924401     1.588954"
      ]
     },
     "metadata": {},
     "output_type": "display_data"
    }
   ],
   "source": [
    "numeric_cols <- c(\"age\", \"bmi\", \"children\",\"charges\")\n",
    "sapply(insurance[numeric_cols], stat_summary)"
   ]
  },
  {
   "cell_type": "code",
   "execution_count": 16,
   "metadata": {
    "collapsed": false
   },
   "outputs": [
    {
     "data": {
      "text/plain": [
       "$sex\n",
       "x\n",
       "female   male \n",
       "   662    676 \n",
       "\n",
       "$smoker\n",
       "x\n",
       "  no  yes \n",
       "1064  274 \n",
       "\n",
       "$region\n",
       "x\n",
       "northeast northwest southeast southwest \n",
       "      324       325       364       325 \n"
      ]
     },
     "metadata": {},
     "output_type": "display_data"
    }
   ],
   "source": [
    "factor_cols <- c(\"sex\", \"smoker\", \"region\")\n",
    "sapply(insurance[factor_cols], stat_summary)"
   ]
  },
  {
   "cell_type": "markdown",
   "metadata": {
    "collapsed": true,
    "deletable": true,
    "editable": true
   },
   "source": [
    "## Probability distribution\n",
    "R provides functions for many probability distributions. For example the name *norm* refers to a normal distribution. By applying different characters as prefix to the distribution name, different functions concerning this distribution can be applied:\n",
    "\n",
    "* Prefix *d*, followed by name of the distribution yields the corresponding **probability density distribution**. E.g. *dnorm(x,m,sd)* returns the probability density of a normal distribution with mean m and standard deviation sd.\n",
    "* Prefix *p*, followed by name of the distribution yields the corresponding **probability distribution**. E.g. *pnorm(x,m,sd)* returns the probability that the value of a normal-distributed variable with mean m and standard deviation sd is smaller than x.\n",
    "* Prefix *q*, followed by name of the distribution yields the corresponding **quantile function**. E.g. *qnorm(q,m,sd)* returns the q-quantile of a normal-distributed variable with mean m and standard deviation sd.\n",
    "* Prefix *r*, followed by name of the distribution **generates random samples** according to the given probability distribution. E.g. *rnorm(n,m,sd)* generates n random samples of a normal distribution with mean m and standard deviation sd.\n",
    "\n",
    "This family of functions is demonstrated in the following subsections for the case of a normal distribution. Other probability density functions, which can be applied in the same way are, e.g. \n",
    "\n",
    "* Beta (beta), \n",
    "* Binomial (binom), \n",
    "* Cauchy (cauchy), \n",
    "* Chi-squared (chisq),\n",
    "* Exponential (exp),\n",
    "* F (f),\n",
    "* Gamma (gamma),\n",
    "* Geometric (geom),\n",
    "* Lognormal (lnorm),\n",
    "* Logistic (logis),\n",
    "* Multinomial (multinom),\n",
    "* Normal (norm),\n",
    "* Poission (pois),\n",
    "* T (t),\n",
    "* Uniform (unif),\n",
    "* Weibull (weibull).\n",
    "\n",
    "The name in brackets is the abbreviation of the corresponding distribution in R.\n",
    "\n",
    "### Probability density function"
   ]
  },
  {
   "cell_type": "code",
   "execution_count": 73,
   "metadata": {
    "collapsed": false,
    "deletable": true,
    "editable": true
   },
   "outputs": [
    {
     "data": {
      "image/png": "[encoded data removed]",
      "text/plain": [
       "Plot with title \"Density of Normal Distribution with mean= 3  and std= 0.5\""
      ]
     },
     "metadata": {},
     "output_type": "display_data"
    }
   ],
   "source": [
    "mean<-3\n",
    "std<-0.5\n",
    "x<-pretty(c(0,6),60)\n",
    "#print(x)\n",
    "y<-dnorm(x,mean,std)\n",
    "plot(x,y,type=\"l\",xlab=\"x\",ylab=\"Density\",yaxs=\"i\")\n",
    "title(paste(\"Density of Normal Distribution with mean=\",mean,\" and std=\",std))"
   ]
  },
  {
   "cell_type": "markdown",
   "metadata": {
    "deletable": true,
    "editable": true
   },
   "source": [
    "### Probability function\n",
    "The probabiliy that a normal distributed variable (mean=0, standard deviation =1) has a value in the range *[-1,..,1]* can be calculated as follows:"
   ]
  },
  {
   "cell_type": "code",
   "execution_count": 74,
   "metadata": {
    "collapsed": false,
    "deletable": true,
    "editable": true
   },
   "outputs": [
    {
     "data": {
      "text/html": [
       "0.682689492137086"
      ],
      "text/latex": [
       "0.682689492137086"
      ],
      "text/markdown": [
       "0.682689492137086"
      ],
      "text/plain": [
       "[1] 0.6826895"
      ]
     },
     "metadata": {},
     "output_type": "display_data"
    }
   ],
   "source": [
    "mean=0\n",
    "std=1\n",
    "pnorm(1,mean,std)-pnorm(-1,mean,std)"
   ]
  },
  {
   "cell_type": "markdown",
   "metadata": {
    "deletable": true,
    "editable": true
   },
   "source": [
    "### Quantile function\n",
    "The q%-quantile of a random variable determines the value, below which q% of all samples of the corresponding probability distribution fall. For example\n",
    "the 95%-quantile of a normal distributed variable (mean=0, standard deviation =1) can be calculated as follows:"
   ]
  },
  {
   "cell_type": "code",
   "execution_count": 75,
   "metadata": {
    "collapsed": false,
    "deletable": true,
    "editable": true
   },
   "outputs": [
    {
     "data": {
      "text/html": [
       "1.64485362695147"
      ],
      "text/latex": [
       "1.64485362695147"
      ],
      "text/markdown": [
       "1.64485362695147"
      ],
      "text/plain": [
       "[1] 1.644854"
      ]
     },
     "metadata": {},
     "output_type": "display_data"
    }
   ],
   "source": [
    "mean=0\n",
    "std=1\n",
    "qnorm(.95,mean,std)"
   ]
  },
  {
   "cell_type": "markdown",
   "metadata": {
    "deletable": true,
    "editable": true
   },
   "source": [
    "### Random generator function\n",
    "*10* samples of a normal distribution with mean =0 and standard deviation = 1 can be generated as follows:"
   ]
  },
  {
   "cell_type": "code",
   "execution_count": 76,
   "metadata": {
    "collapsed": false,
    "deletable": true,
    "editable": true
   },
   "outputs": [
    {
     "data": {
      "text/html": [
       "<ol class=list-inline>\n",
       "\t<li>1.63868605878607</li>\n",
       "\t<li>0.621273969393756</li>\n",
       "\t<li>0.202704303988706</li>\n",
       "\t<li>1.10893778596448</li>\n",
       "\t<li>-0.206224754856176</li>\n",
       "\t<li>-0.378965036935805</li>\n",
       "\t<li>-0.304261661548152</li>\n",
       "\t<li>0.0541623242599256</li>\n",
       "\t<li>-1.88093061733509</li>\n",
       "\t<li>-0.0337564737409322</li>\n",
       "</ol>\n"
      ],
      "text/latex": [
       "\\begin{enumerate*}\n",
       "\\item 1.63868605878607\n",
       "\\item 0.621273969393756\n",
       "\\item 0.202704303988706\n",
       "\\item 1.10893778596448\n",
       "\\item -0.206224754856176\n",
       "\\item -0.378965036935805\n",
       "\\item -0.304261661548152\n",
       "\\item 0.0541623242599256\n",
       "\\item -1.88093061733509\n",
       "\\item -0.0337564737409322\n",
       "\\end{enumerate*}\n"
      ],
      "text/markdown": [
       "1. 1.63868605878607\n",
       "2. 0.621273969393756\n",
       "3. 0.202704303988706\n",
       "4. 1.10893778596448\n",
       "5. -0.206224754856176\n",
       "6. -0.378965036935805\n",
       "7. -0.304261661548152\n",
       "8. 0.0541623242599256\n",
       "9. -1.88093061733509\n",
       "10. -0.0337564737409322\n",
       "\n",
       "\n"
      ],
      "text/plain": [
       " [1]  1.63868606  0.62127397  0.20270430  1.10893779 -0.20622475 -0.37896504\n",
       " [7] -0.30426166  0.05416232 -1.88093062 -0.03375647"
      ]
     },
     "metadata": {},
     "output_type": "display_data"
    }
   ],
   "source": [
    "mean=0\n",
    "std=1\n",
    "rnorm(10,mean,std)"
   ]
  },
  {
   "cell_type": "markdown",
   "metadata": {
    "deletable": true,
    "editable": true
   },
   "source": [
    "## Generate samples of multidimensional normal distribution"
   ]
  },
  {
   "cell_type": "code",
   "execution_count": 77,
   "metadata": {
    "collapsed": false,
    "deletable": true,
    "editable": true
   },
   "outputs": [
    {
     "data": {
      "image/png": "[encoded data removed]",
      "text/plain": [
       "Plot with title \"Samples of 2-dimensional normal distribution\""
      ]
     },
     "metadata": {},
     "output_type": "display_data"
    }
   ],
   "source": [
    "library(MASS)\n",
    "meanVec<-c(1,1)\n",
    "cov<-matrix(c(1,0,0,1),nrow=2,ncol=2)\n",
    "dat2dim<-mvrnorm(200,meanVec,cov)\n",
    "plot(dat2dim[,1],dat2dim[,2],col=\"blue\",pch=1,xlab=\"x\",ylab=\"y\")\n",
    "title(\"Samples of 2-dimensional normal distribution\")\n"
   ]
  },
  {
   "cell_type": "markdown",
   "metadata": {
    "deletable": true,
    "editable": true
   },
   "source": [
    "# Exercises"
   ]
  },
  {
   "cell_type": "markdown",
   "metadata": {
    "deletable": true,
    "editable": true
   },
   "source": [
    "1. Plot probability density of the following distributions:\n",
    "    1. F\n",
    "    2. T\n",
    "2. xxxJM"
   ]
  },
  {
   "cell_type": "code",
   "execution_count": 42,
   "metadata": {
    "collapsed": false,
    "deletable": true,
    "editable": true
   },
   "outputs": [
    {
     "data": {
      "image/png": "[encoded data removed]",
      "text/plain": [
       "Plot with title \"Density of LogNormal Distribution\""
      ]
     },
     "metadata": {},
     "output_type": "display_data"
    }
   ],
   "source": [
    "x<-pretty(c(0,6),60)\n",
    "y<-dlnorm(x = x)\n",
    "plot(x,y,type=\"l\",xlab=\"x\",ylab=\"Density\",yaxs=\"i\")\n",
    "title(\"Density of LogNormal Distribution\")"
   ]
  },
  {
   "cell_type": "code",
   "execution_count": 58,
   "metadata": {
    "collapsed": false,
    "deletable": true,
    "editable": true
   },
   "outputs": [
    {
     "data": {
      "image/png": "[encoded data removed]",
      "text/plain": [
       "Plot with title \"Density of Chi-Squared Distribution\""
      ]
     },
     "metadata": {},
     "output_type": "display_data"
    }
   ],
   "source": [
    "y1<-dchisq(x = x, df=1)\n",
    "y2<-dchisq(x = x, df=2)\n",
    "y3<-dchisq(x = x, df=3)\n",
    "plot(x,y1,type=\"l\",xlab=\"x\",ylab=\"Density\",yaxs=\"i\",col=\"red\",lty=1)\n",
    "lines(x,y2,type=\"l\",col=\"blue\",lty=1)\n",
    "lines(x,y3,type=\"l\",col=\"green\",lty=1)\n",
    "legend('topright',c('df=1','df=2','df=3'),col=c(\"red\",\"blue\",\"green\"),lty=c(1,1,1))\n",
    "title(\"Density of Chi-Squared Distribution\")"
   ]
  },
  {
   "cell_type": "code",
   "execution_count": null,
   "metadata": {
    "collapsed": true,
    "deletable": true,
    "editable": true
   },
   "outputs": [],
   "source": []
  }
 ],
 "metadata": {
  "anaconda-cloud": {},
  "kernelspec": {
   "display_name": "R",
   "language": "R",
   "name": "ir"
  },
  "language_info": {
   "codemirror_mode": "r",
   "file_extension": ".r",
   "mimetype": "text/x-r-source",
   "name": "R",
   "pygments_lexer": "r",
   "version": "3.3.2"
  },
  "nav_menu": {},
  "toc": {
   "navigate_menu": true,
   "number_sections": true,
   "sideBar": true,
   "threshold": 4,
   "toc_cell": false,
   "toc_section_display": "block",
   "toc_window_display": true
  }
 },
 "nbformat": 4,
 "nbformat_minor": 2
}

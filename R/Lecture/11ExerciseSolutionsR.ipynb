{
 "cells": [
  {
   "cell_type": "markdown",
   "metadata": {},
   "source": [
    "# Solutions of R Exercises\n"
   ]
  },
  {
   "cell_type": "markdown",
   "metadata": {},
   "source": [
    "## Exercise 1 Basic Routines\n",
    "1. Create a vector `r` with integers from 1 to 10\n",
    "2. Access and display the\n",
    "    1. first element\n",
    "    2. the fifth element \n",
    "    3. elements at positions 6-9\n",
    "3. Assume that the elements of vector `r` are radiuses of circles. \n",
    "    1. Create a vector `c`, whose elements are the circumferences of circles with radiuses from `r`.\n",
    "    2. Create a vector `a`, whose elements are the surface areas of circles with radiuses from `r`.\n",
    "    \n",
    "   Apply `help()` and `apropos()` in order to find out how to use $\\pi$ in R.\n",
    "  \n",
    "    "
   ]
  },
  {
   "cell_type": "code",
   "execution_count": 1,
   "metadata": {
    "ExecuteTime": {
     "end_time": "2017-09-08T11:47:21.170000Z",
     "start_time": "2017-09-08T11:47:21.134Z"
    }
   },
   "outputs": [
    {
     "data": {
      "text/html": [
       "<ol class=list-inline>\n",
       "\t<li>1</li>\n",
       "\t<li>2</li>\n",
       "\t<li>3</li>\n",
       "\t<li>4</li>\n",
       "\t<li>5</li>\n",
       "\t<li>6</li>\n",
       "\t<li>7</li>\n",
       "\t<li>8</li>\n",
       "\t<li>9</li>\n",
       "\t<li>10</li>\n",
       "</ol>\n"
      ],
      "text/latex": [
       "\\begin{enumerate*}\n",
       "\\item 1\n",
       "\\item 2\n",
       "\\item 3\n",
       "\\item 4\n",
       "\\item 5\n",
       "\\item 6\n",
       "\\item 7\n",
       "\\item 8\n",
       "\\item 9\n",
       "\\item 10\n",
       "\\end{enumerate*}\n"
      ],
      "text/markdown": [
       "1. 1\n",
       "2. 2\n",
       "3. 3\n",
       "4. 4\n",
       "5. 5\n",
       "6. 6\n",
       "7. 7\n",
       "8. 8\n",
       "9. 9\n",
       "10. 10\n",
       "\n",
       "\n"
      ],
      "text/plain": [
       " [1]  1  2  3  4  5  6  7  8  9 10"
      ]
     },
     "metadata": {},
     "output_type": "display_data"
    }
   ],
   "source": [
    "(r<-1:10)"
   ]
  },
  {
   "cell_type": "code",
   "execution_count": 2,
   "metadata": {
    "ExecuteTime": {
     "end_time": "2017-09-08T11:47:48.179000Z",
     "start_time": "2017-09-08T11:47:48.153Z"
    }
   },
   "outputs": [
    {
     "data": {
      "text/html": [
       "<ol class=list-inline>\n",
       "\t<li>6.28318530717959</li>\n",
       "\t<li>12.5663706143592</li>\n",
       "\t<li>18.8495559215388</li>\n",
       "\t<li>25.1327412287183</li>\n",
       "\t<li>31.4159265358979</li>\n",
       "\t<li>37.6991118430775</li>\n",
       "\t<li>43.9822971502571</li>\n",
       "\t<li>50.2654824574367</li>\n",
       "\t<li>56.5486677646163</li>\n",
       "\t<li>62.8318530717959</li>\n",
       "</ol>\n"
      ],
      "text/latex": [
       "\\begin{enumerate*}\n",
       "\\item 6.28318530717959\n",
       "\\item 12.5663706143592\n",
       "\\item 18.8495559215388\n",
       "\\item 25.1327412287183\n",
       "\\item 31.4159265358979\n",
       "\\item 37.6991118430775\n",
       "\\item 43.9822971502571\n",
       "\\item 50.2654824574367\n",
       "\\item 56.5486677646163\n",
       "\\item 62.8318530717959\n",
       "\\end{enumerate*}\n"
      ],
      "text/markdown": [
       "1. 6.28318530717959\n",
       "2. 12.5663706143592\n",
       "3. 18.8495559215388\n",
       "4. 25.1327412287183\n",
       "5. 31.4159265358979\n",
       "6. 37.6991118430775\n",
       "7. 43.9822971502571\n",
       "8. 50.2654824574367\n",
       "9. 56.5486677646163\n",
       "10. 62.8318530717959\n",
       "\n",
       "\n"
      ],
      "text/plain": [
       " [1]  6.283185 12.566371 18.849556 25.132741 31.415927 37.699112 43.982297\n",
       " [8] 50.265482 56.548668 62.831853"
      ]
     },
     "metadata": {},
     "output_type": "display_data"
    }
   ],
   "source": [
    "(c<-2*pi*r)"
   ]
  },
  {
   "cell_type": "code",
   "execution_count": 11,
   "metadata": {
    "ExecuteTime": {
     "end_time": "2017-09-08T12:07:04.042000Z",
     "start_time": "2017-09-08T12:07:04.017Z"
    }
   },
   "outputs": [
    {
     "data": {
      "text/html": [
       "<ol class=list-inline>\n",
       "\t<li>3.14159265358979</li>\n",
       "\t<li>12.5663706143592</li>\n",
       "\t<li>28.2743338823081</li>\n",
       "\t<li>50.2654824574367</li>\n",
       "\t<li>78.5398163397448</li>\n",
       "\t<li>113.097335529233</li>\n",
       "\t<li>153.9380400259</li>\n",
       "\t<li>201.061929829747</li>\n",
       "\t<li>254.469004940773</li>\n",
       "\t<li>314.159265358979</li>\n",
       "</ol>\n"
      ],
      "text/latex": [
       "\\begin{enumerate*}\n",
       "\\item 3.14159265358979\n",
       "\\item 12.5663706143592\n",
       "\\item 28.2743338823081\n",
       "\\item 50.2654824574367\n",
       "\\item 78.5398163397448\n",
       "\\item 113.097335529233\n",
       "\\item 153.9380400259\n",
       "\\item 201.061929829747\n",
       "\\item 254.469004940773\n",
       "\\item 314.159265358979\n",
       "\\end{enumerate*}\n"
      ],
      "text/markdown": [
       "1. 3.14159265358979\n",
       "2. 12.5663706143592\n",
       "3. 28.2743338823081\n",
       "4. 50.2654824574367\n",
       "5. 78.5398163397448\n",
       "6. 113.097335529233\n",
       "7. 153.9380400259\n",
       "8. 201.061929829747\n",
       "9. 254.469004940773\n",
       "10. 314.159265358979\n",
       "\n",
       "\n"
      ],
      "text/plain": [
       " [1]   3.141593  12.566371  28.274334  50.265482  78.539816 113.097336\n",
       " [7] 153.938040 201.061930 254.469005 314.159265"
      ]
     },
     "metadata": {},
     "output_type": "display_data"
    }
   ],
   "source": [
    "(a<-pi*r**2)"
   ]
  },
  {
   "cell_type": "markdown",
   "metadata": {},
   "source": [
    "## Exercise 2 Data Types\n",
    "1. At time $t=0$ a vehicle has speed $v_0$ (in $m/s$). The vehicle's accelaration is $a$ (in $m/s^2$). Then the traveled distance $s$ (in meters) after an arbitrary time $t$ (in seconds) can be calculated as \n",
    "$$s=\\frac{1}{2}a t^2 +v_0 t.$$ \n",
    "In a lab experiment after time $t_1=2s$ the traveled distance is measured to be $s_1=16m$ and after time $t_2=4s$ the traveled distance is measured to be $s_2=44m$. Calculate the vehicle's accelaration $a$ and initial speed $v_0$ by solving the corresponding system of linear equations in R.\n",
    "2. Assign the constant `letters` to the variable `x` and `letters` in reverse order to the variable `y`. What is the result of `x > y`? Repeat this experiment but now `letters` and the reverse ordering of `letters` shall be represented as *factors*. What is now the result of `x > y`?\n",
    "3. A company likes to store the following data of it's employees:\n",
    "\n",
    "    1. ID\n",
    "    2. Name\n",
    "    3. Age\n",
    "    4. Salary\n",
    "    \n",
    "   For each employee this data shall be stored in a R - list. Create such lists for 4 arbitrary sample persons and assign all of these lists to another list `employeelist`. \n",
    "   \n",
    "   1. Access and display all data of a single employee.  \n",
    "   2. Access and display the salary of a single employee.\n",
    "   3. Define a list for a new person and insert this new list at the third position of the `employeelist`.\n",
    "   4. Remove the list of an arbitrary person from `employeelist`.\n",
    "\n",
    "4. Read the [energy data file](./data/EnergyMixGeoClust.csv) into a dataframe `energyData` like in the lecture notebook. \n",
    "    1. Determine the number of observations (rows) and features (columns) of this dataframe.\n",
    "    2. Create a dataframe `energyDataRed`, which contains all data of `energyData`, except the 4 countries with the highest coal-consumption.\n",
    "    3. Calculate the mean and the median of the coal-consumption for both dataframes `energyData` and `energyDataRed`.\n",
    "    4. What do you conclude from this experiment regarding the quality of the statistics *mean* and *median*?"
   ]
  },
  {
   "cell_type": "markdown",
   "metadata": {},
   "source": [
    "Task 1 solution:"
   ]
  },
  {
   "cell_type": "code",
   "execution_count": 19,
   "metadata": {
    "ExecuteTime": {
     "end_time": "2017-09-08T14:22:44.524000Z",
     "start_time": "2017-09-08T14:22:44.472Z"
    }
   },
   "outputs": [
    {
     "data": {
      "text/html": [
       "<ol class=list-inline>\n",
       "\t<li>2</li>\n",
       "\t<li>4</li>\n",
       "</ol>\n"
      ],
      "text/latex": [
       "\\begin{enumerate*}\n",
       "\\item 2\n",
       "\\item 4\n",
       "\\end{enumerate*}\n"
      ],
      "text/markdown": [
       "1. 2\n",
       "2. 4\n",
       "\n",
       "\n"
      ],
      "text/plain": [
       "[1] 2 4"
      ]
     },
     "metadata": {},
     "output_type": "display_data"
    },
    {
     "data": {
      "text/html": [
       "<ol class=list-inline>\n",
       "\t<li>16</li>\n",
       "\t<li>44</li>\n",
       "</ol>\n"
      ],
      "text/latex": [
       "\\begin{enumerate*}\n",
       "\\item 16\n",
       "\\item 44\n",
       "\\end{enumerate*}\n"
      ],
      "text/markdown": [
       "1. 16\n",
       "2. 44\n",
       "\n",
       "\n"
      ],
      "text/plain": [
       "[1] 16 44"
      ]
     },
     "metadata": {},
     "output_type": "display_data"
    }
   ],
   "source": [
    "(t<-c(2,4))\n",
    "(s<-c(16,44))"
   ]
  },
  {
   "cell_type": "code",
   "execution_count": 20,
   "metadata": {
    "ExecuteTime": {
     "end_time": "2017-09-08T14:22:48.488000Z",
     "start_time": "2017-09-08T14:22:48.465Z"
    }
   },
   "outputs": [
    {
     "data": {
      "text/html": [
       "<table>\n",
       "<tbody>\n",
       "\t<tr><td>16</td></tr>\n",
       "\t<tr><td>44</td></tr>\n",
       "</tbody>\n",
       "</table>\n"
      ],
      "text/latex": [
       "\\begin{tabular}{l}\n",
       "\t 16\\\\\n",
       "\t 44\\\\\n",
       "\\end{tabular}\n"
      ],
      "text/markdown": [
       "\n",
       "| 16 | \n",
       "| 44 | \n",
       "\n",
       "\n"
      ],
      "text/plain": [
       "     [,1]\n",
       "[1,] 16  \n",
       "[2,] 44  "
      ]
     },
     "metadata": {},
     "output_type": "display_data"
    }
   ],
   "source": [
    "(S<-matrix(s,nrow=2,ncol=1))"
   ]
  },
  {
   "cell_type": "code",
   "execution_count": 21,
   "metadata": {
    "ExecuteTime": {
     "end_time": "2017-09-08T14:22:52.181000Z",
     "start_time": "2017-09-08T14:22:52.156Z"
    }
   },
   "outputs": [
    {
     "data": {
      "text/html": [
       "<ol class=list-inline>\n",
       "\t<li>2</li>\n",
       "\t<li>8</li>\n",
       "\t<li>2</li>\n",
       "\t<li>4</li>\n",
       "</ol>\n"
      ],
      "text/latex": [
       "\\begin{enumerate*}\n",
       "\\item 2\n",
       "\\item 8\n",
       "\\item 2\n",
       "\\item 4\n",
       "\\end{enumerate*}\n"
      ],
      "text/markdown": [
       "1. 2\n",
       "2. 8\n",
       "3. 2\n",
       "4. 4\n",
       "\n",
       "\n"
      ],
      "text/plain": [
       "[1] 2 8 2 4"
      ]
     },
     "metadata": {},
     "output_type": "display_data"
    }
   ],
   "source": [
    "(tSer<-c(0.5*t[1]**2,0.5*t[2]**2,t[1],t[2]))"
   ]
  },
  {
   "cell_type": "code",
   "execution_count": 22,
   "metadata": {
    "ExecuteTime": {
     "end_time": "2017-09-08T14:22:55.320000Z",
     "start_time": "2017-09-08T14:22:55.294Z"
    }
   },
   "outputs": [
    {
     "data": {
      "text/html": [
       "<table>\n",
       "<tbody>\n",
       "\t<tr><td>2</td><td>2</td></tr>\n",
       "\t<tr><td>8</td><td>4</td></tr>\n",
       "</tbody>\n",
       "</table>\n"
      ],
      "text/latex": [
       "\\begin{tabular}{ll}\n",
       "\t 2 & 2\\\\\n",
       "\t 8 & 4\\\\\n",
       "\\end{tabular}\n"
      ],
      "text/markdown": [
       "\n",
       "| 2 | 2 | \n",
       "| 8 | 4 | \n",
       "\n",
       "\n"
      ],
      "text/plain": [
       "     [,1] [,2]\n",
       "[1,] 2    2   \n",
       "[2,] 8    4   "
      ]
     },
     "metadata": {},
     "output_type": "display_data"
    }
   ],
   "source": [
    "(tMat<-matrix(tSer,nrow=2,ncol=2))"
   ]
  },
  {
   "cell_type": "code",
   "execution_count": 23,
   "metadata": {
    "ExecuteTime": {
     "end_time": "2017-09-08T14:22:58.839000Z",
     "start_time": "2017-09-08T14:22:58.814Z"
    }
   },
   "outputs": [
    {
     "data": {
      "text/html": [
       "<table>\n",
       "<tbody>\n",
       "\t<tr><td>3</td></tr>\n",
       "\t<tr><td>5</td></tr>\n",
       "</tbody>\n",
       "</table>\n"
      ],
      "text/latex": [
       "\\begin{tabular}{l}\n",
       "\t 3\\\\\n",
       "\t 5\\\\\n",
       "\\end{tabular}\n"
      ],
      "text/markdown": [
       "\n",
       "| 3 | \n",
       "| 5 | \n",
       "\n",
       "\n"
      ],
      "text/plain": [
       "     [,1]\n",
       "[1,] 3   \n",
       "[2,] 5   "
      ]
     },
     "metadata": {},
     "output_type": "display_data"
    }
   ],
   "source": [
    "(av<-solve(tMat,S))"
   ]
  },
  {
   "cell_type": "markdown",
   "metadata": {},
   "source": [
    "The first component of vector av is the accelaration $a=3 m/s^2$, the second component is the initial speed $v_0=5 m/s$"
   ]
  },
  {
   "cell_type": "markdown",
   "metadata": {},
   "source": [
    "Task 2 solution:"
   ]
  },
  {
   "cell_type": "code",
   "execution_count": 3,
   "metadata": {
    "ExecuteTime": {
     "end_time": "2017-09-09T13:08:48.910000Z",
     "start_time": "2017-09-09T13:08:48.862Z"
    }
   },
   "outputs": [
    {
     "data": {
      "text/html": [
       "<ol class=list-inline>\n",
       "\t<li>'a'</li>\n",
       "\t<li>'b'</li>\n",
       "\t<li>'c'</li>\n",
       "\t<li>'d'</li>\n",
       "\t<li>'e'</li>\n",
       "\t<li>'f'</li>\n",
       "\t<li>'g'</li>\n",
       "\t<li>'h'</li>\n",
       "\t<li>'i'</li>\n",
       "\t<li>'j'</li>\n",
       "\t<li>'k'</li>\n",
       "\t<li>'l'</li>\n",
       "\t<li>'m'</li>\n",
       "\t<li>'n'</li>\n",
       "\t<li>'o'</li>\n",
       "\t<li>'p'</li>\n",
       "\t<li>'q'</li>\n",
       "\t<li>'r'</li>\n",
       "\t<li>'s'</li>\n",
       "\t<li>'t'</li>\n",
       "\t<li>'u'</li>\n",
       "\t<li>'v'</li>\n",
       "\t<li>'w'</li>\n",
       "\t<li>'x'</li>\n",
       "\t<li>'y'</li>\n",
       "\t<li>'z'</li>\n",
       "</ol>\n"
      ],
      "text/latex": [
       "\\begin{enumerate*}\n",
       "\\item 'a'\n",
       "\\item 'b'\n",
       "\\item 'c'\n",
       "\\item 'd'\n",
       "\\item 'e'\n",
       "\\item 'f'\n",
       "\\item 'g'\n",
       "\\item 'h'\n",
       "\\item 'i'\n",
       "\\item 'j'\n",
       "\\item 'k'\n",
       "\\item 'l'\n",
       "\\item 'm'\n",
       "\\item 'n'\n",
       "\\item 'o'\n",
       "\\item 'p'\n",
       "\\item 'q'\n",
       "\\item 'r'\n",
       "\\item 's'\n",
       "\\item 't'\n",
       "\\item 'u'\n",
       "\\item 'v'\n",
       "\\item 'w'\n",
       "\\item 'x'\n",
       "\\item 'y'\n",
       "\\item 'z'\n",
       "\\end{enumerate*}\n"
      ],
      "text/markdown": [
       "1. 'a'\n",
       "2. 'b'\n",
       "3. 'c'\n",
       "4. 'd'\n",
       "5. 'e'\n",
       "6. 'f'\n",
       "7. 'g'\n",
       "8. 'h'\n",
       "9. 'i'\n",
       "10. 'j'\n",
       "11. 'k'\n",
       "12. 'l'\n",
       "13. 'm'\n",
       "14. 'n'\n",
       "15. 'o'\n",
       "16. 'p'\n",
       "17. 'q'\n",
       "18. 'r'\n",
       "19. 's'\n",
       "20. 't'\n",
       "21. 'u'\n",
       "22. 'v'\n",
       "23. 'w'\n",
       "24. 'x'\n",
       "25. 'y'\n",
       "26. 'z'\n",
       "\n",
       "\n"
      ],
      "text/plain": [
       " [1] \"a\" \"b\" \"c\" \"d\" \"e\" \"f\" \"g\" \"h\" \"i\" \"j\" \"k\" \"l\" \"m\" \"n\" \"o\" \"p\" \"q\" \"r\" \"s\"\n",
       "[20] \"t\" \"u\" \"v\" \"w\" \"x\" \"y\" \"z\""
      ]
     },
     "metadata": {},
     "output_type": "display_data"
    },
    {
     "name": "stdout",
     "output_type": "stream",
     "text": [
      "[1] \"character\"\n"
     ]
    },
    {
     "data": {
      "text/html": [
       "<ol class=list-inline>\n",
       "\t<li>'z'</li>\n",
       "\t<li>'y'</li>\n",
       "\t<li>'x'</li>\n",
       "\t<li>'w'</li>\n",
       "\t<li>'v'</li>\n",
       "\t<li>'u'</li>\n",
       "\t<li>'t'</li>\n",
       "\t<li>'s'</li>\n",
       "\t<li>'r'</li>\n",
       "\t<li>'q'</li>\n",
       "\t<li>'p'</li>\n",
       "\t<li>'o'</li>\n",
       "\t<li>'n'</li>\n",
       "\t<li>'m'</li>\n",
       "\t<li>'l'</li>\n",
       "\t<li>'k'</li>\n",
       "\t<li>'j'</li>\n",
       "\t<li>'i'</li>\n",
       "\t<li>'h'</li>\n",
       "\t<li>'g'</li>\n",
       "\t<li>'f'</li>\n",
       "\t<li>'e'</li>\n",
       "\t<li>'d'</li>\n",
       "\t<li>'c'</li>\n",
       "\t<li>'b'</li>\n",
       "\t<li>'a'</li>\n",
       "</ol>\n"
      ],
      "text/latex": [
       "\\begin{enumerate*}\n",
       "\\item 'z'\n",
       "\\item 'y'\n",
       "\\item 'x'\n",
       "\\item 'w'\n",
       "\\item 'v'\n",
       "\\item 'u'\n",
       "\\item 't'\n",
       "\\item 's'\n",
       "\\item 'r'\n",
       "\\item 'q'\n",
       "\\item 'p'\n",
       "\\item 'o'\n",
       "\\item 'n'\n",
       "\\item 'm'\n",
       "\\item 'l'\n",
       "\\item 'k'\n",
       "\\item 'j'\n",
       "\\item 'i'\n",
       "\\item 'h'\n",
       "\\item 'g'\n",
       "\\item 'f'\n",
       "\\item 'e'\n",
       "\\item 'd'\n",
       "\\item 'c'\n",
       "\\item 'b'\n",
       "\\item 'a'\n",
       "\\end{enumerate*}\n"
      ],
      "text/markdown": [
       "1. 'z'\n",
       "2. 'y'\n",
       "3. 'x'\n",
       "4. 'w'\n",
       "5. 'v'\n",
       "6. 'u'\n",
       "7. 't'\n",
       "8. 's'\n",
       "9. 'r'\n",
       "10. 'q'\n",
       "11. 'p'\n",
       "12. 'o'\n",
       "13. 'n'\n",
       "14. 'm'\n",
       "15. 'l'\n",
       "16. 'k'\n",
       "17. 'j'\n",
       "18. 'i'\n",
       "19. 'h'\n",
       "20. 'g'\n",
       "21. 'f'\n",
       "22. 'e'\n",
       "23. 'd'\n",
       "24. 'c'\n",
       "25. 'b'\n",
       "26. 'a'\n",
       "\n",
       "\n"
      ],
      "text/plain": [
       " [1] \"z\" \"y\" \"x\" \"w\" \"v\" \"u\" \"t\" \"s\" \"r\" \"q\" \"p\" \"o\" \"n\" \"m\" \"l\" \"k\" \"j\" \"i\" \"h\"\n",
       "[20] \"g\" \"f\" \"e\" \"d\" \"c\" \"b\" \"a\""
      ]
     },
     "metadata": {},
     "output_type": "display_data"
    },
    {
     "data": {
      "text/html": [
       "<ol class=list-inline>\n",
       "\t<li>FALSE</li>\n",
       "\t<li>FALSE</li>\n",
       "\t<li>FALSE</li>\n",
       "\t<li>FALSE</li>\n",
       "\t<li>FALSE</li>\n",
       "\t<li>FALSE</li>\n",
       "\t<li>FALSE</li>\n",
       "\t<li>FALSE</li>\n",
       "\t<li>FALSE</li>\n",
       "\t<li>FALSE</li>\n",
       "\t<li>FALSE</li>\n",
       "\t<li>FALSE</li>\n",
       "\t<li>FALSE</li>\n",
       "\t<li>TRUE</li>\n",
       "\t<li>TRUE</li>\n",
       "\t<li>TRUE</li>\n",
       "\t<li>TRUE</li>\n",
       "\t<li>TRUE</li>\n",
       "\t<li>TRUE</li>\n",
       "\t<li>TRUE</li>\n",
       "\t<li>TRUE</li>\n",
       "\t<li>TRUE</li>\n",
       "\t<li>TRUE</li>\n",
       "\t<li>TRUE</li>\n",
       "\t<li>TRUE</li>\n",
       "\t<li>TRUE</li>\n",
       "</ol>\n"
      ],
      "text/latex": [
       "\\begin{enumerate*}\n",
       "\\item FALSE\n",
       "\\item FALSE\n",
       "\\item FALSE\n",
       "\\item FALSE\n",
       "\\item FALSE\n",
       "\\item FALSE\n",
       "\\item FALSE\n",
       "\\item FALSE\n",
       "\\item FALSE\n",
       "\\item FALSE\n",
       "\\item FALSE\n",
       "\\item FALSE\n",
       "\\item FALSE\n",
       "\\item TRUE\n",
       "\\item TRUE\n",
       "\\item TRUE\n",
       "\\item TRUE\n",
       "\\item TRUE\n",
       "\\item TRUE\n",
       "\\item TRUE\n",
       "\\item TRUE\n",
       "\\item TRUE\n",
       "\\item TRUE\n",
       "\\item TRUE\n",
       "\\item TRUE\n",
       "\\item TRUE\n",
       "\\end{enumerate*}\n"
      ],
      "text/markdown": [
       "1. FALSE\n",
       "2. FALSE\n",
       "3. FALSE\n",
       "4. FALSE\n",
       "5. FALSE\n",
       "6. FALSE\n",
       "7. FALSE\n",
       "8. FALSE\n",
       "9. FALSE\n",
       "10. FALSE\n",
       "11. FALSE\n",
       "12. FALSE\n",
       "13. FALSE\n",
       "14. TRUE\n",
       "15. TRUE\n",
       "16. TRUE\n",
       "17. TRUE\n",
       "18. TRUE\n",
       "19. TRUE\n",
       "20. TRUE\n",
       "21. TRUE\n",
       "22. TRUE\n",
       "23. TRUE\n",
       "24. TRUE\n",
       "25. TRUE\n",
       "26. TRUE\n",
       "\n",
       "\n"
      ],
      "text/plain": [
       " [1] FALSE FALSE FALSE FALSE FALSE FALSE FALSE FALSE FALSE FALSE FALSE FALSE\n",
       "[13] FALSE  TRUE  TRUE  TRUE  TRUE  TRUE  TRUE  TRUE  TRUE  TRUE  TRUE  TRUE\n",
       "[25]  TRUE  TRUE"
      ]
     },
     "metadata": {},
     "output_type": "display_data"
    }
   ],
   "source": [
    "(x<-letters)\n",
    "print(class(x))\n",
    "(y<-rev(x))\n",
    "(x>y)"
   ]
  },
  {
   "cell_type": "code",
   "execution_count": 5,
   "metadata": {
    "ExecuteTime": {
     "end_time": "2017-09-09T13:09:34.565000Z",
     "start_time": "2017-09-09T13:09:34.520Z"
    }
   },
   "outputs": [
    {
     "data": {
      "text/html": [
       "<ol class=list-inline>\n",
       "\t<li>a</li>\n",
       "\t<li>b</li>\n",
       "\t<li>c</li>\n",
       "\t<li>d</li>\n",
       "\t<li>e</li>\n",
       "\t<li>f</li>\n",
       "\t<li>g</li>\n",
       "\t<li>h</li>\n",
       "\t<li>i</li>\n",
       "\t<li>j</li>\n",
       "\t<li>k</li>\n",
       "\t<li>l</li>\n",
       "\t<li>m</li>\n",
       "\t<li>n</li>\n",
       "\t<li>o</li>\n",
       "\t<li>p</li>\n",
       "\t<li>q</li>\n",
       "\t<li>r</li>\n",
       "\t<li>s</li>\n",
       "\t<li>t</li>\n",
       "\t<li>u</li>\n",
       "\t<li>v</li>\n",
       "\t<li>w</li>\n",
       "\t<li>x</li>\n",
       "\t<li>y</li>\n",
       "\t<li>z</li>\n",
       "</ol>\n"
      ],
      "text/latex": [
       "\\begin{enumerate*}\n",
       "\\item a\n",
       "\\item b\n",
       "\\item c\n",
       "\\item d\n",
       "\\item e\n",
       "\\item f\n",
       "\\item g\n",
       "\\item h\n",
       "\\item i\n",
       "\\item j\n",
       "\\item k\n",
       "\\item l\n",
       "\\item m\n",
       "\\item n\n",
       "\\item o\n",
       "\\item p\n",
       "\\item q\n",
       "\\item r\n",
       "\\item s\n",
       "\\item t\n",
       "\\item u\n",
       "\\item v\n",
       "\\item w\n",
       "\\item x\n",
       "\\item y\n",
       "\\item z\n",
       "\\end{enumerate*}\n"
      ],
      "text/markdown": [
       "1. a\n",
       "2. b\n",
       "3. c\n",
       "4. d\n",
       "5. e\n",
       "6. f\n",
       "7. g\n",
       "8. h\n",
       "9. i\n",
       "10. j\n",
       "11. k\n",
       "12. l\n",
       "13. m\n",
       "14. n\n",
       "15. o\n",
       "16. p\n",
       "17. q\n",
       "18. r\n",
       "19. s\n",
       "20. t\n",
       "21. u\n",
       "22. v\n",
       "23. w\n",
       "24. x\n",
       "25. y\n",
       "26. z\n",
       "\n",
       "\n"
      ],
      "text/plain": [
       " [1] a b c d e f g h i j k l m n o p q r s t u v w x y z\n",
       "Levels: a b c d e f g h i j k l m n o p q r s t u v w x y z"
      ]
     },
     "metadata": {},
     "output_type": "display_data"
    },
    {
     "data": {
      "text/html": [
       "<ol class=list-inline>\n",
       "\t<li>z</li>\n",
       "\t<li>y</li>\n",
       "\t<li>x</li>\n",
       "\t<li>w</li>\n",
       "\t<li>v</li>\n",
       "\t<li>u</li>\n",
       "\t<li>t</li>\n",
       "\t<li>s</li>\n",
       "\t<li>r</li>\n",
       "\t<li>q</li>\n",
       "\t<li>p</li>\n",
       "\t<li>o</li>\n",
       "\t<li>n</li>\n",
       "\t<li>m</li>\n",
       "\t<li>l</li>\n",
       "\t<li>k</li>\n",
       "\t<li>j</li>\n",
       "\t<li>i</li>\n",
       "\t<li>h</li>\n",
       "\t<li>g</li>\n",
       "\t<li>f</li>\n",
       "\t<li>e</li>\n",
       "\t<li>d</li>\n",
       "\t<li>c</li>\n",
       "\t<li>b</li>\n",
       "\t<li>a</li>\n",
       "</ol>\n"
      ],
      "text/latex": [
       "\\begin{enumerate*}\n",
       "\\item z\n",
       "\\item y\n",
       "\\item x\n",
       "\\item w\n",
       "\\item v\n",
       "\\item u\n",
       "\\item t\n",
       "\\item s\n",
       "\\item r\n",
       "\\item q\n",
       "\\item p\n",
       "\\item o\n",
       "\\item n\n",
       "\\item m\n",
       "\\item l\n",
       "\\item k\n",
       "\\item j\n",
       "\\item i\n",
       "\\item h\n",
       "\\item g\n",
       "\\item f\n",
       "\\item e\n",
       "\\item d\n",
       "\\item c\n",
       "\\item b\n",
       "\\item a\n",
       "\\end{enumerate*}\n"
      ],
      "text/markdown": [
       "1. z\n",
       "2. y\n",
       "3. x\n",
       "4. w\n",
       "5. v\n",
       "6. u\n",
       "7. t\n",
       "8. s\n",
       "9. r\n",
       "10. q\n",
       "11. p\n",
       "12. o\n",
       "13. n\n",
       "14. m\n",
       "15. l\n",
       "16. k\n",
       "17. j\n",
       "18. i\n",
       "19. h\n",
       "20. g\n",
       "21. f\n",
       "22. e\n",
       "23. d\n",
       "24. c\n",
       "25. b\n",
       "26. a\n",
       "\n",
       "\n"
      ],
      "text/plain": [
       " [1] z y x w v u t s r q p o n m l k j i h g f e d c b a\n",
       "Levels: a b c d e f g h i j k l m n o p q r s t u v w x y z"
      ]
     },
     "metadata": {},
     "output_type": "display_data"
    }
   ],
   "source": [
    "(xfac<-factor(x))\n",
    "(yfac<-factor(y))"
   ]
  },
  {
   "cell_type": "code",
   "execution_count": 6,
   "metadata": {
    "ExecuteTime": {
     "end_time": "2017-09-09T13:09:55.098000Z",
     "start_time": "2017-09-09T13:09:55.050Z"
    }
   },
   "outputs": [
    {
     "name": "stderr",
     "output_type": "stream",
     "text": [
      "Warning message in Ops.factor(xfac, yfac):\n",
      "\"'>' not meaningful for factors\""
     ]
    },
    {
     "data": {
      "text/html": [
       "<ol class=list-inline>\n",
       "\t<li>NA</li>\n",
       "\t<li>NA</li>\n",
       "\t<li>NA</li>\n",
       "\t<li>NA</li>\n",
       "\t<li>NA</li>\n",
       "\t<li>NA</li>\n",
       "\t<li>NA</li>\n",
       "\t<li>NA</li>\n",
       "\t<li>NA</li>\n",
       "\t<li>NA</li>\n",
       "\t<li>NA</li>\n",
       "\t<li>NA</li>\n",
       "\t<li>NA</li>\n",
       "\t<li>NA</li>\n",
       "\t<li>NA</li>\n",
       "\t<li>NA</li>\n",
       "\t<li>NA</li>\n",
       "\t<li>NA</li>\n",
       "\t<li>NA</li>\n",
       "\t<li>NA</li>\n",
       "\t<li>NA</li>\n",
       "\t<li>NA</li>\n",
       "\t<li>NA</li>\n",
       "\t<li>NA</li>\n",
       "\t<li>NA</li>\n",
       "\t<li>NA</li>\n",
       "</ol>\n"
      ],
      "text/latex": [
       "\\begin{enumerate*}\n",
       "\\item NA\n",
       "\\item NA\n",
       "\\item NA\n",
       "\\item NA\n",
       "\\item NA\n",
       "\\item NA\n",
       "\\item NA\n",
       "\\item NA\n",
       "\\item NA\n",
       "\\item NA\n",
       "\\item NA\n",
       "\\item NA\n",
       "\\item NA\n",
       "\\item NA\n",
       "\\item NA\n",
       "\\item NA\n",
       "\\item NA\n",
       "\\item NA\n",
       "\\item NA\n",
       "\\item NA\n",
       "\\item NA\n",
       "\\item NA\n",
       "\\item NA\n",
       "\\item NA\n",
       "\\item NA\n",
       "\\item NA\n",
       "\\end{enumerate*}\n"
      ],
      "text/markdown": [
       "1. NA\n",
       "2. NA\n",
       "3. NA\n",
       "4. NA\n",
       "5. NA\n",
       "6. NA\n",
       "7. NA\n",
       "8. NA\n",
       "9. NA\n",
       "10. NA\n",
       "11. NA\n",
       "12. NA\n",
       "13. NA\n",
       "14. NA\n",
       "15. NA\n",
       "16. NA\n",
       "17. NA\n",
       "18. NA\n",
       "19. NA\n",
       "20. NA\n",
       "21. NA\n",
       "22. NA\n",
       "23. NA\n",
       "24. NA\n",
       "25. NA\n",
       "26. NA\n",
       "\n",
       "\n"
      ],
      "text/plain": [
       " [1] NA NA NA NA NA NA NA NA NA NA NA NA NA NA NA NA NA NA NA NA NA NA NA NA NA\n",
       "[26] NA"
      ]
     },
     "metadata": {},
     "output_type": "display_data"
    }
   ],
   "source": [
    "xfac>yfac"
   ]
  },
  {
   "cell_type": "markdown",
   "metadata": {},
   "source": [
    "Task 3 solution:"
   ]
  },
  {
   "cell_type": "code",
   "execution_count": 42,
   "metadata": {
    "ExecuteTime": {
     "end_time": "2017-09-12T04:52:46.096000Z",
     "start_time": "2017-09-12T04:52:45.983Z"
    }
   },
   "outputs": [
    {
     "data": {
      "text/html": [
       "<ol>\n",
       "\t<li><dl>\n",
       "\t<dt>$id</dt>\n",
       "\t\t<dd>1</dd>\n",
       "\t<dt>$name</dt>\n",
       "\t\t<dd>'bob'</dd>\n",
       "\t<dt>$age</dt>\n",
       "\t\t<dd>23</dd>\n",
       "\t<dt>$salary</dt>\n",
       "\t\t<dd>45600</dd>\n",
       "</dl>\n",
       "</li>\n",
       "\t<li><dl>\n",
       "\t<dt>$id</dt>\n",
       "\t\t<dd>2</dd>\n",
       "\t<dt>$name</dt>\n",
       "\t\t<dd>'mary'</dd>\n",
       "\t<dt>$age</dt>\n",
       "\t\t<dd>29</dd>\n",
       "\t<dt>$salary</dt>\n",
       "\t\t<dd>67800</dd>\n",
       "</dl>\n",
       "</li>\n",
       "\t<li><dl>\n",
       "\t<dt>$id</dt>\n",
       "\t\t<dd>3</dd>\n",
       "\t<dt>$name</dt>\n",
       "\t\t<dd>'tim'</dd>\n",
       "\t<dt>$age</dt>\n",
       "\t\t<dd>39</dd>\n",
       "\t<dt>$salary</dt>\n",
       "\t\t<dd>98000</dd>\n",
       "</dl>\n",
       "</li>\n",
       "\t<li><dl>\n",
       "\t<dt>$id</dt>\n",
       "\t\t<dd>4</dd>\n",
       "\t<dt>$name</dt>\n",
       "\t\t<dd>'anne'</dd>\n",
       "\t<dt>$age</dt>\n",
       "\t\t<dd>25</dd>\n",
       "\t<dt>$salary</dt>\n",
       "\t\t<dd>31400</dd>\n",
       "</dl>\n",
       "</li>\n",
       "</ol>\n"
      ],
      "text/latex": [
       "\\begin{enumerate}\n",
       "\\item \\begin{description}\n",
       "\\item[\\$id] 1\n",
       "\\item[\\$name] 'bob'\n",
       "\\item[\\$age] 23\n",
       "\\item[\\$salary] 45600\n",
       "\\end{description}\n",
       "\n",
       "\\item \\begin{description}\n",
       "\\item[\\$id] 2\n",
       "\\item[\\$name] 'mary'\n",
       "\\item[\\$age] 29\n",
       "\\item[\\$salary] 67800\n",
       "\\end{description}\n",
       "\n",
       "\\item \\begin{description}\n",
       "\\item[\\$id] 3\n",
       "\\item[\\$name] 'tim'\n",
       "\\item[\\$age] 39\n",
       "\\item[\\$salary] 98000\n",
       "\\end{description}\n",
       "\n",
       "\\item \\begin{description}\n",
       "\\item[\\$id] 4\n",
       "\\item[\\$name] 'anne'\n",
       "\\item[\\$age] 25\n",
       "\\item[\\$salary] 31400\n",
       "\\end{description}\n",
       "\n",
       "\\end{enumerate}\n"
      ],
      "text/markdown": [
       "1. $id\n",
       ":   1\n",
       "$name\n",
       ":   'bob'\n",
       "$age\n",
       ":   23\n",
       "$salary\n",
       ":   45600\n",
       "\n",
       "\n",
       "\n",
       "2. $id\n",
       ":   2\n",
       "$name\n",
       ":   'mary'\n",
       "$age\n",
       ":   29\n",
       "$salary\n",
       ":   67800\n",
       "\n",
       "\n",
       "\n",
       "3. $id\n",
       ":   3\n",
       "$name\n",
       ":   'tim'\n",
       "$age\n",
       ":   39\n",
       "$salary\n",
       ":   98000\n",
       "\n",
       "\n",
       "\n",
       "4. $id\n",
       ":   4\n",
       "$name\n",
       ":   'anne'\n",
       "$age\n",
       ":   25\n",
       "$salary\n",
       ":   31400\n",
       "\n",
       "\n",
       "\n",
       "\n",
       "\n"
      ],
      "text/plain": [
       "[[1]]\n",
       "[[1]]$id\n",
       "[1] 1\n",
       "\n",
       "[[1]]$name\n",
       "[1] \"bob\"\n",
       "\n",
       "[[1]]$age\n",
       "[1] 23\n",
       "\n",
       "[[1]]$salary\n",
       "[1] 45600\n",
       "\n",
       "\n",
       "[[2]]\n",
       "[[2]]$id\n",
       "[1] 2\n",
       "\n",
       "[[2]]$name\n",
       "[1] \"mary\"\n",
       "\n",
       "[[2]]$age\n",
       "[1] 29\n",
       "\n",
       "[[2]]$salary\n",
       "[1] 67800\n",
       "\n",
       "\n",
       "[[3]]\n",
       "[[3]]$id\n",
       "[1] 3\n",
       "\n",
       "[[3]]$name\n",
       "[1] \"tim\"\n",
       "\n",
       "[[3]]$age\n",
       "[1] 39\n",
       "\n",
       "[[3]]$salary\n",
       "[1] 98000\n",
       "\n",
       "\n",
       "[[4]]\n",
       "[[4]]$id\n",
       "[1] 4\n",
       "\n",
       "[[4]]$name\n",
       "[1] \"anne\"\n",
       "\n",
       "[[4]]$age\n",
       "[1] 25\n",
       "\n",
       "[[4]]$salary\n",
       "[1] 31400\n",
       "\n"
      ]
     },
     "metadata": {},
     "output_type": "display_data"
    }
   ],
   "source": [
    "e1<-list(id=1,name=\"bob\",age=23,salary=45600)\n",
    "e2<-list(id=2,name=\"mary\",age=29,salary=67800)\n",
    "e3<-list(id=3,name=\"tim\",age=39,salary=98000)\n",
    "e4<-list(id=4,name=\"anne\",age=25,salary=31400)\n",
    "employees<-list(e1,e2,e3,e4)\n",
    "employees"
   ]
  },
  {
   "cell_type": "code",
   "execution_count": 43,
   "metadata": {
    "ExecuteTime": {
     "end_time": "2017-09-12T04:53:04.532000Z",
     "start_time": "2017-09-12T04:53:04.497Z"
    }
   },
   "outputs": [
    {
     "data": {
      "text/html": [
       "<ol>\n",
       "\t<li><dl>\n",
       "\t<dt>$id</dt>\n",
       "\t\t<dd>1</dd>\n",
       "\t<dt>$name</dt>\n",
       "\t\t<dd>'bob'</dd>\n",
       "\t<dt>$age</dt>\n",
       "\t\t<dd>23</dd>\n",
       "\t<dt>$salary</dt>\n",
       "\t\t<dd>45600</dd>\n",
       "</dl>\n",
       "</li>\n",
       "\t<li><dl>\n",
       "\t<dt>$id</dt>\n",
       "\t\t<dd>2</dd>\n",
       "\t<dt>$name</dt>\n",
       "\t\t<dd>'mary'</dd>\n",
       "\t<dt>$age</dt>\n",
       "\t\t<dd>29</dd>\n",
       "\t<dt>$salary</dt>\n",
       "\t\t<dd>67800</dd>\n",
       "</dl>\n",
       "</li>\n",
       "\t<li><dl>\n",
       "\t<dt>$id</dt>\n",
       "\t\t<dd>5</dd>\n",
       "\t<dt>$name</dt>\n",
       "\t\t<dd>'ian'</dd>\n",
       "\t<dt>$age</dt>\n",
       "\t\t<dd>45</dd>\n",
       "\t<dt>$salary</dt>\n",
       "\t\t<dd>110000</dd>\n",
       "</dl>\n",
       "</li>\n",
       "\t<li><dl>\n",
       "\t<dt>$id</dt>\n",
       "\t\t<dd>3</dd>\n",
       "\t<dt>$name</dt>\n",
       "\t\t<dd>'tim'</dd>\n",
       "\t<dt>$age</dt>\n",
       "\t\t<dd>39</dd>\n",
       "\t<dt>$salary</dt>\n",
       "\t\t<dd>98000</dd>\n",
       "</dl>\n",
       "</li>\n",
       "\t<li><dl>\n",
       "\t<dt>$id</dt>\n",
       "\t\t<dd>4</dd>\n",
       "\t<dt>$name</dt>\n",
       "\t\t<dd>'anne'</dd>\n",
       "\t<dt>$age</dt>\n",
       "\t\t<dd>25</dd>\n",
       "\t<dt>$salary</dt>\n",
       "\t\t<dd>31400</dd>\n",
       "</dl>\n",
       "</li>\n",
       "</ol>\n"
      ],
      "text/latex": [
       "\\begin{enumerate}\n",
       "\\item \\begin{description}\n",
       "\\item[\\$id] 1\n",
       "\\item[\\$name] 'bob'\n",
       "\\item[\\$age] 23\n",
       "\\item[\\$salary] 45600\n",
       "\\end{description}\n",
       "\n",
       "\\item \\begin{description}\n",
       "\\item[\\$id] 2\n",
       "\\item[\\$name] 'mary'\n",
       "\\item[\\$age] 29\n",
       "\\item[\\$salary] 67800\n",
       "\\end{description}\n",
       "\n",
       "\\item \\begin{description}\n",
       "\\item[\\$id] 5\n",
       "\\item[\\$name] 'ian'\n",
       "\\item[\\$age] 45\n",
       "\\item[\\$salary] 110000\n",
       "\\end{description}\n",
       "\n",
       "\\item \\begin{description}\n",
       "\\item[\\$id] 3\n",
       "\\item[\\$name] 'tim'\n",
       "\\item[\\$age] 39\n",
       "\\item[\\$salary] 98000\n",
       "\\end{description}\n",
       "\n",
       "\\item \\begin{description}\n",
       "\\item[\\$id] 4\n",
       "\\item[\\$name] 'anne'\n",
       "\\item[\\$age] 25\n",
       "\\item[\\$salary] 31400\n",
       "\\end{description}\n",
       "\n",
       "\\end{enumerate}\n"
      ],
      "text/markdown": [
       "1. $id\n",
       ":   1\n",
       "$name\n",
       ":   'bob'\n",
       "$age\n",
       ":   23\n",
       "$salary\n",
       ":   45600\n",
       "\n",
       "\n",
       "\n",
       "2. $id\n",
       ":   2\n",
       "$name\n",
       ":   'mary'\n",
       "$age\n",
       ":   29\n",
       "$salary\n",
       ":   67800\n",
       "\n",
       "\n",
       "\n",
       "3. $id\n",
       ":   5\n",
       "$name\n",
       ":   'ian'\n",
       "$age\n",
       ":   45\n",
       "$salary\n",
       ":   110000\n",
       "\n",
       "\n",
       "\n",
       "4. $id\n",
       ":   3\n",
       "$name\n",
       ":   'tim'\n",
       "$age\n",
       ":   39\n",
       "$salary\n",
       ":   98000\n",
       "\n",
       "\n",
       "\n",
       "5. $id\n",
       ":   4\n",
       "$name\n",
       ":   'anne'\n",
       "$age\n",
       ":   25\n",
       "$salary\n",
       ":   31400\n",
       "\n",
       "\n",
       "\n",
       "\n",
       "\n"
      ],
      "text/plain": [
       "[[1]]\n",
       "[[1]]$id\n",
       "[1] 1\n",
       "\n",
       "[[1]]$name\n",
       "[1] \"bob\"\n",
       "\n",
       "[[1]]$age\n",
       "[1] 23\n",
       "\n",
       "[[1]]$salary\n",
       "[1] 45600\n",
       "\n",
       "\n",
       "[[2]]\n",
       "[[2]]$id\n",
       "[1] 2\n",
       "\n",
       "[[2]]$name\n",
       "[1] \"mary\"\n",
       "\n",
       "[[2]]$age\n",
       "[1] 29\n",
       "\n",
       "[[2]]$salary\n",
       "[1] 67800\n",
       "\n",
       "\n",
       "[[3]]\n",
       "[[3]]$id\n",
       "[1] 5\n",
       "\n",
       "[[3]]$name\n",
       "[1] \"ian\"\n",
       "\n",
       "[[3]]$age\n",
       "[1] 45\n",
       "\n",
       "[[3]]$salary\n",
       "[1] 110000\n",
       "\n",
       "\n",
       "[[4]]\n",
       "[[4]]$id\n",
       "[1] 3\n",
       "\n",
       "[[4]]$name\n",
       "[1] \"tim\"\n",
       "\n",
       "[[4]]$age\n",
       "[1] 39\n",
       "\n",
       "[[4]]$salary\n",
       "[1] 98000\n",
       "\n",
       "\n",
       "[[5]]\n",
       "[[5]]$id\n",
       "[1] 4\n",
       "\n",
       "[[5]]$name\n",
       "[1] \"anne\"\n",
       "\n",
       "[[5]]$age\n",
       "[1] 25\n",
       "\n",
       "[[5]]$salary\n",
       "[1] 31400\n",
       "\n"
      ]
     },
     "metadata": {},
     "output_type": "display_data"
    }
   ],
   "source": [
    "#employees[[3]]\n",
    "e5<-list(id=5,name=\"ian\",age=45,salary=110000)\n",
    "employees<-append(employees,list(e5),2)\n",
    "employees"
   ]
  },
  {
   "cell_type": "code",
   "execution_count": 44,
   "metadata": {
    "ExecuteTime": {
     "end_time": "2017-09-12T04:53:18.396000Z",
     "start_time": "2017-09-12T04:53:18.348Z"
    }
   },
   "outputs": [
    {
     "data": {
      "text/html": [
       "<ol>\n",
       "\t<li><dl>\n",
       "\t<dt>$id</dt>\n",
       "\t\t<dd>1</dd>\n",
       "\t<dt>$name</dt>\n",
       "\t\t<dd>'bob'</dd>\n",
       "\t<dt>$age</dt>\n",
       "\t\t<dd>23</dd>\n",
       "\t<dt>$salary</dt>\n",
       "\t\t<dd>45600</dd>\n",
       "</dl>\n",
       "</li>\n",
       "\t<li><dl>\n",
       "\t<dt>$id</dt>\n",
       "\t\t<dd>2</dd>\n",
       "\t<dt>$name</dt>\n",
       "\t\t<dd>'mary'</dd>\n",
       "\t<dt>$age</dt>\n",
       "\t\t<dd>29</dd>\n",
       "\t<dt>$salary</dt>\n",
       "\t\t<dd>67800</dd>\n",
       "</dl>\n",
       "</li>\n",
       "\t<li><dl>\n",
       "\t<dt>$id</dt>\n",
       "\t\t<dd>5</dd>\n",
       "\t<dt>$name</dt>\n",
       "\t\t<dd>'ian'</dd>\n",
       "\t<dt>$age</dt>\n",
       "\t\t<dd>45</dd>\n",
       "\t<dt>$salary</dt>\n",
       "\t\t<dd>110000</dd>\n",
       "</dl>\n",
       "</li>\n",
       "\t<li><dl>\n",
       "\t<dt>$id</dt>\n",
       "\t\t<dd>3</dd>\n",
       "\t<dt>$name</dt>\n",
       "\t\t<dd>'tim'</dd>\n",
       "\t<dt>$age</dt>\n",
       "\t\t<dd>39</dd>\n",
       "\t<dt>$salary</dt>\n",
       "\t\t<dd>98000</dd>\n",
       "</dl>\n",
       "</li>\n",
       "</ol>\n"
      ],
      "text/latex": [
       "\\begin{enumerate}\n",
       "\\item \\begin{description}\n",
       "\\item[\\$id] 1\n",
       "\\item[\\$name] 'bob'\n",
       "\\item[\\$age] 23\n",
       "\\item[\\$salary] 45600\n",
       "\\end{description}\n",
       "\n",
       "\\item \\begin{description}\n",
       "\\item[\\$id] 2\n",
       "\\item[\\$name] 'mary'\n",
       "\\item[\\$age] 29\n",
       "\\item[\\$salary] 67800\n",
       "\\end{description}\n",
       "\n",
       "\\item \\begin{description}\n",
       "\\item[\\$id] 5\n",
       "\\item[\\$name] 'ian'\n",
       "\\item[\\$age] 45\n",
       "\\item[\\$salary] 110000\n",
       "\\end{description}\n",
       "\n",
       "\\item \\begin{description}\n",
       "\\item[\\$id] 3\n",
       "\\item[\\$name] 'tim'\n",
       "\\item[\\$age] 39\n",
       "\\item[\\$salary] 98000\n",
       "\\end{description}\n",
       "\n",
       "\\end{enumerate}\n"
      ],
      "text/markdown": [
       "1. $id\n",
       ":   1\n",
       "$name\n",
       ":   'bob'\n",
       "$age\n",
       ":   23\n",
       "$salary\n",
       ":   45600\n",
       "\n",
       "\n",
       "\n",
       "2. $id\n",
       ":   2\n",
       "$name\n",
       ":   'mary'\n",
       "$age\n",
       ":   29\n",
       "$salary\n",
       ":   67800\n",
       "\n",
       "\n",
       "\n",
       "3. $id\n",
       ":   5\n",
       "$name\n",
       ":   'ian'\n",
       "$age\n",
       ":   45\n",
       "$salary\n",
       ":   110000\n",
       "\n",
       "\n",
       "\n",
       "4. $id\n",
       ":   3\n",
       "$name\n",
       ":   'tim'\n",
       "$age\n",
       ":   39\n",
       "$salary\n",
       ":   98000\n",
       "\n",
       "\n",
       "\n",
       "\n",
       "\n"
      ],
      "text/plain": [
       "[[1]]\n",
       "[[1]]$id\n",
       "[1] 1\n",
       "\n",
       "[[1]]$name\n",
       "[1] \"bob\"\n",
       "\n",
       "[[1]]$age\n",
       "[1] 23\n",
       "\n",
       "[[1]]$salary\n",
       "[1] 45600\n",
       "\n",
       "\n",
       "[[2]]\n",
       "[[2]]$id\n",
       "[1] 2\n",
       "\n",
       "[[2]]$name\n",
       "[1] \"mary\"\n",
       "\n",
       "[[2]]$age\n",
       "[1] 29\n",
       "\n",
       "[[2]]$salary\n",
       "[1] 67800\n",
       "\n",
       "\n",
       "[[3]]\n",
       "[[3]]$id\n",
       "[1] 5\n",
       "\n",
       "[[3]]$name\n",
       "[1] \"ian\"\n",
       "\n",
       "[[3]]$age\n",
       "[1] 45\n",
       "\n",
       "[[3]]$salary\n",
       "[1] 110000\n",
       "\n",
       "\n",
       "[[4]]\n",
       "[[4]]$id\n",
       "[1] 3\n",
       "\n",
       "[[4]]$name\n",
       "[1] \"tim\"\n",
       "\n",
       "[[4]]$age\n",
       "[1] 39\n",
       "\n",
       "[[4]]$salary\n",
       "[1] 98000\n",
       "\n"
      ]
     },
     "metadata": {},
     "output_type": "display_data"
    }
   ],
   "source": [
    "employees[[5]]<-NULL\n",
    "employees"
   ]
  },
  {
   "cell_type": "markdown",
   "metadata": {},
   "source": [
    "Task 4 Solution:"
   ]
  },
  {
   "cell_type": "code",
   "execution_count": 48,
   "metadata": {
    "ExecuteTime": {
     "end_time": "2017-09-12T04:57:10.992000Z",
     "start_time": "2017-09-12T04:57:10.943Z"
    }
   },
   "outputs": [
    {
     "name": "stdout",
     "output_type": "stream",
     "text": [
      "Number of observations:  65\n",
      "Number of features:  11"
     ]
    }
   ],
   "source": [
    "energyData=read.csv(file=\"./data/EnergyMixGeoClust.csv\", header=TRUE, sep=\",\",row.names=1)\n",
    "numObs<-dim(energyData)[1]\n",
    "numFeats<-dim(energyData)[2]\n",
    "cat(\"Number of observations: \",numObs)\n",
    "cat(\"\\nNumber of features: \",numFeats)"
   ]
  },
  {
   "cell_type": "code",
   "execution_count": 49,
   "metadata": {
    "ExecuteTime": {
     "end_time": "2017-09-12T04:59:43.297000Z",
     "start_time": "2017-09-12T04:59:43.094Z"
    }
   },
   "outputs": [
    {
     "data": {
      "text/html": [
       "<table>\n",
       "<thead><tr><th></th><th scope=col>Country</th><th scope=col>Oil</th><th scope=col>Gas</th><th scope=col>Coal</th><th scope=col>Nuclear</th><th scope=col>Hydro</th><th scope=col>Total2009</th><th scope=col>CO2Emm</th><th scope=col>Lat</th><th scope=col>Long</th><th scope=col>Cluster</th></tr></thead>\n",
       "<tbody>\n",
       "\t<tr><th scope=row>7</th><td>Ecuador             </td><td>  9.9               </td><td>  0.4               </td><td>0.0                 </td><td> 0.0                </td><td> 2.1                </td><td> 12.4               </td><td> 31.3               </td><td> -1.831239          </td><td>-78.183406          </td><td>5                   </td></tr>\n",
       "\t<tr><th scope=row>9</th><td>Venezuela           </td><td> 27.4               </td><td> 26.8               </td><td>0.0                 </td><td> 0.0                </td><td>19.5                </td><td> 73.6               </td><td>147.0               </td><td>  6.423750          </td><td>-66.589730          </td><td>5                   </td></tr>\n",
       "\t<tr><th scope=row>11</th><td>Azerbaijan          </td><td>  2.8               </td><td>  6.9               </td><td>0.0                 </td><td> 0.0                </td><td> 0.5                </td><td> 10.2               </td><td> 24.8               </td><td> 40.143105          </td><td> 47.576927          </td><td>4                   </td></tr>\n",
       "\t<tr><th scope=row>12</th><td>Belarus             </td><td>  9.3               </td><td> 14.5               </td><td>0.0                 </td><td> 0.0                </td><td> 0.0                </td><td> 23.9               </td><td> 62.9               </td><td> 53.709807          </td><td> 27.953389          </td><td>4                   </td></tr>\n",
       "\t<tr><th scope=row>38</th><td>Turkmenistan        </td><td>  5.2               </td><td> 17.8               </td><td>0.0                 </td><td> 0.0                </td><td> 0.0                </td><td> 23.0               </td><td> 57.9               </td><td> 38.969719          </td><td> 59.556278          </td><td>4                   </td></tr>\n",
       "\t<tr><th scope=row>43</th><td>Kuwait              </td><td> 19.2               </td><td> 12.1               </td><td>0.0                 </td><td> 0.0                </td><td> 0.0                </td><td> 31.3               </td><td> 87.2               </td><td> 29.311660          </td><td> 47.481766          </td><td>6                   </td></tr>\n",
       "\t<tr><th scope=row>44</th><td>Qatar               </td><td>  8.2               </td><td> 19.0               </td><td>0.0                 </td><td> 0.0                </td><td> 0.0                </td><td> 27.2               </td><td> 69.8               </td><td> 25.354826          </td><td> 51.183884          </td><td>4                   </td></tr>\n",
       "\t<tr><th scope=row>45</th><td>Saudi_Arabia        </td><td>121.8               </td><td> 69.7               </td><td>0.0                 </td><td> 0.0                </td><td> 0.0                </td><td>191.5               </td><td>537.6               </td><td> 23.885942          </td><td> 45.079162          </td><td>6                   </td></tr>\n",
       "\t<tr><th scope=row>46</th><td>United_Arab_Emirates</td><td> 21.8               </td><td> 53.2               </td><td>0.0                 </td><td> 0.0                </td><td> 0.0                </td><td> 75.0               </td><td>191.9               </td><td> 23.424076          </td><td> 53.847818          </td><td>4                   </td></tr>\n",
       "\t<tr><th scope=row>61</th><td>Singapore           </td><td> 52.1               </td><td>  8.7               </td><td>0.0                 </td><td> 0.0                </td><td> 0.0                </td><td> 60.8               </td><td>180.2               </td><td>  1.352083          </td><td>103.819836          </td><td>6                   </td></tr>\n",
       "\t<tr><th scope=row>22</th><td>Iceland             </td><td>  1.0               </td><td>  0.0               </td><td>0.1                 </td><td> 0.0                </td><td> 2.8                </td><td>  3.9               </td><td>  3.5               </td><td> 64.963051          </td><td>-19.020835          </td><td>1                   </td></tr>\n",
       "\t<tr><th scope=row>36</th><td>Switzerland         </td><td> 12.3               </td><td>  2.7               </td><td>0.1                 </td><td> 6.2                </td><td> 8.1                </td><td> 29.4               </td><td> 44.5               </td><td> 46.818188          </td><td>  8.227512          </td><td>1                   </td></tr>\n",
       "\t<tr><th scope=row>26</th><td>Lithuania           </td><td>  2.9               </td><td>  2.5               </td><td>0.2                 </td><td> 2.5                </td><td> 0.3                </td><td>  8.2               </td><td> 15.3               </td><td> 55.169438          </td><td> 23.881275          </td><td>3                   </td></tr>\n",
       "\t<tr><th scope=row>28</th><td>Norway              </td><td>  9.7               </td><td>  3.7               </td><td>0.3                 </td><td> 0.0                </td><td>28.8                </td><td> 42.5               </td><td> 39.9               </td><td> 60.472024          </td><td>  8.468946          </td><td>1                   </td></tr>\n",
       "\t<tr><th scope=row>51</th><td>Bangladesh          </td><td>  4.5               </td><td> 17.8               </td><td>0.4                 </td><td> 0.0                </td><td> 0.3                </td><td> 22.9               </td><td> 57.0               </td><td> 23.684994          </td><td> 90.356331          </td><td>4                   </td></tr>\n",
       "\t<tr><th scope=row>8</th><td>Peru                </td><td>  8.5               </td><td>  3.1               </td><td>0.5                 </td><td> 0.0                </td><td> 4.5                </td><td> 16.6               </td><td> 35.5               </td><td> -9.189967          </td><td>-75.015152          </td><td>5                   </td></tr>\n",
       "\t<tr><th scope=row>47</th><td>Algeria             </td><td> 14.9               </td><td> 24.0               </td><td>0.7                 </td><td> 0.0                </td><td> 0.1                </td><td> 39.7               </td><td>104.8               </td><td> 28.033886          </td><td>  1.659626          </td><td>4                   </td></tr>\n",
       "\t<tr><th scope=row>3</th><td>Argentina           </td><td> 22.3               </td><td> 38.8               </td><td>1.1                 </td><td> 1.8                </td><td> 9.2                </td><td> 73.3               </td><td>164.2               </td><td>-38.416097          </td><td>-63.616672          </td><td>4                   </td></tr>\n",
       "\t<tr><th scope=row>48</th><td>Egypt               </td><td> 33.7               </td><td> 38.3               </td><td>1.1                 </td><td> 0.0                </td><td> 3.1                </td><td> 76.3               </td><td>197.8               </td><td> 26.820553          </td><td> 30.802498          </td><td>4                   </td></tr>\n",
       "\t<tr><th scope=row>23</th><td>Republic_of_Ireland </td><td>  8.0               </td><td>  4.3               </td><td>1.3                 </td><td> 0.0                </td><td> 0.2                </td><td> 13.9               </td><td> 40.1               </td><td> 53.412910          </td><td> -8.243890          </td><td>6                   </td></tr>\n",
       "\t<tr><th scope=row>41</th><td>Uzbekistan          </td><td>  4.9               </td><td> 43.9               </td><td>1.4                 </td><td> 0.0                </td><td> 1.4                </td><td> 51.5               </td><td>123.5               </td><td> 41.377491          </td><td> 64.585262          </td><td>4                   </td></tr>\n",
       "\t<tr><th scope=row>42</th><td>Iran                </td><td> 83.6               </td><td>118.5               </td><td>1.4                 </td><td> 0.0                </td><td> 1.3                </td><td>204.8               </td><td>540.3               </td><td> 32.427908          </td><td> 53.688046          </td><td>4                   </td></tr>\n",
       "\t<tr><th scope=row>35</th><td>Sweden              </td><td> 13.7               </td><td>  1.0               </td><td>1.6                 </td><td>11.9                </td><td>14.9                </td><td> 43.2               </td><td> 50.9               </td><td> 60.128161          </td><td> 18.643501          </td><td>1                   </td></tr>\n",
       "\t<tr><th scope=row>58</th><td>New_Zealand         </td><td>  6.8               </td><td>  3.6               </td><td>1.7                 </td><td> 0.0                </td><td> 5.5                </td><td> 17.6               </td><td> 36.2               </td><td>-40.900557          </td><td>174.885971          </td><td>5                   </td></tr>\n",
       "\t<tr><th scope=row>10</th><td>Austria             </td><td> 13.0               </td><td>  8.4               </td><td>2.3                 </td><td> 0.0                </td><td> 8.3                </td><td> 32.0               </td><td> 68.8               </td><td> 47.516231          </td><td> 14.550072          </td><td>5                   </td></tr>\n",
       "\t<tr><th scope=row>21</th><td>Hungary             </td><td>  7.3               </td><td>  9.1               </td><td>2.5                 </td><td> 3.5                </td><td> 0.1                </td><td> 22.4               </td><td> 53.6               </td><td> 47.162494          </td><td> 19.503304          </td><td>4                   </td></tr>\n",
       "\t<tr><th scope=row>6</th><td>Colombia            </td><td>  8.8               </td><td>  7.8               </td><td>3.1                 </td><td> 0.0                </td><td> 9.3                </td><td> 29.0               </td><td> 57.9               </td><td>  4.570868          </td><td>-74.297333          </td><td>5                   </td></tr>\n",
       "\t<tr><th scope=row>30</th><td>Portugal            </td><td> 12.9               </td><td>  3.9               </td><td>3.6                 </td><td> 0.0                </td><td> 2.0                </td><td> 22.3               </td><td> 62.7               </td><td> 39.399872          </td><td> -8.224454          </td><td>6                   </td></tr>\n",
       "\t<tr><th scope=row>33</th><td>Slovakia            </td><td>  3.9               </td><td>  5.1               </td><td>3.6                 </td><td> 3.2                </td><td> 1.1                </td><td> 16.8               </td><td> 38.1               </td><td> 48.669026          </td><td> 19.699024          </td><td>4                   </td></tr>\n",
       "\t<tr><th scope=row>17</th><td>Finland             </td><td>  9.9               </td><td>  3.2               </td><td>3.7                 </td><td> 5.4                </td><td> 2.9                </td><td> 25.0               </td><td> 52.5               </td><td> 61.924110          </td><td> 25.748151          </td><td>6                   </td></tr>\n",
       "\t<tr><th scope=row>...</th><td>...</td><td>...</td><td>...</td><td>...</td><td>...</td><td>...</td><td>...</td><td>...</td><td>...</td><td>...</td><td>...</td></tr>\n",
       "\t<tr><th scope=row>31</th><td>Romania            </td><td>  9.9              </td><td> 12.2              </td><td>   6.2             </td><td>  2.7              </td><td>  3.6              </td><td>  34.6             </td><td>  83.7             </td><td> 45.943161         </td><td>  24.966760        </td><td>4                  </td></tr>\n",
       "\t<tr><th scope=row>14</th><td>Bulgaria           </td><td>  4.4              </td><td>  2.2              </td><td>   6.3             </td><td>  3.5              </td><td>  0.9              </td><td>  17.4             </td><td>  43.7             </td><td> 42.733883         </td><td>  25.485830        </td><td>2                  </td></tr>\n",
       "\t<tr><th scope=row>2</th><td>Mexico             </td><td> 85.6              </td><td> 62.7              </td><td>   6.8             </td><td>  2.2              </td><td>  6.0              </td><td> 163.2             </td><td> 436.8             </td><td> 23.634501         </td><td>-102.552784        </td><td>6                  </td></tr>\n",
       "\t<tr><th scope=row>60</th><td>Philippines        </td><td> 12.1              </td><td>  3.0              </td><td>   6.8             </td><td>  0.0              </td><td>  2.2              </td><td>  24.2             </td><td>  71.3             </td><td> 12.879721         </td><td> 121.774017        </td><td>6                  </td></tr>\n",
       "\t<tr><th scope=row>53</th><td>China_Hong_Kong_SAR</td><td> 14.0              </td><td>  2.3              </td><td>   7.6             </td><td>  0.0              </td><td>  0.0              </td><td>  23.9             </td><td>  78.5             </td><td> 22.287170         </td><td> 114.150969        </td><td>6                  </td></tr>\n",
       "\t<tr><th scope=row>20</th><td>Greece             </td><td> 20.2              </td><td>  3.0              </td><td>   7.9             </td><td>  0.0              </td><td>  1.6              </td><td>  32.7             </td><td> 100.4             </td><td> 39.074208         </td><td>  21.824312        </td><td>6                  </td></tr>\n",
       "\t<tr><th scope=row>27</th><td>Netherlands        </td><td> 49.4              </td><td> 35.0              </td><td>   7.9             </td><td>  1.0              </td><td>  0.0              </td><td>  93.3             </td><td> 265.1             </td><td> 52.132633         </td><td>   5.291266        </td><td>6                  </td></tr>\n",
       "\t<tr><th scope=row>18</th><td>France             </td><td> 87.5              </td><td> 38.4              </td><td>  10.1             </td><td> 92.9              </td><td> 13.1              </td><td> 241.9             </td><td> 398.7             </td><td> 46.227638         </td><td>   2.213749        </td><td>3                  </td></tr>\n",
       "\t<tr><th scope=row>34</th><td>Spain              </td><td> 72.9              </td><td> 31.1              </td><td>  10.6             </td><td> 12.0              </td><td>  6.1              </td><td> 132.6             </td><td> 338.7             </td><td> 40.463667         </td><td>  -3.749220        </td><td>6                  </td></tr>\n",
       "\t<tr><th scope=row>4</th><td>Brazil             </td><td>104.3              </td><td> 18.3              </td><td>  11.7             </td><td>  2.9              </td><td> 88.5              </td><td> 225.7             </td><td> 409.4             </td><td>-14.235004         </td><td> -51.925280        </td><td>5                  </td></tr>\n",
       "\t<tr><th scope=row>24</th><td>Italy              </td><td> 75.1              </td><td> 64.5              </td><td>  13.4             </td><td>  0.0              </td><td> 10.5              </td><td> 163.4             </td><td> 434.8             </td><td> 41.871940         </td><td>  12.567380        </td><td>6                  </td></tr>\n",
       "\t<tr><th scope=row>64</th><td>Thailand           </td><td> 44.2              </td><td> 35.3              </td><td>  14.1             </td><td>  0.0              </td><td>  1.5              </td><td>  95.1             </td><td> 274.4             </td><td> 15.870032         </td><td> 100.992541        </td><td>6                  </td></tr>\n",
       "\t<tr><th scope=row>15</th><td>Czech_Republic     </td><td>  9.7              </td><td>  7.4              </td><td>  15.8             </td><td>  6.1              </td><td>  0.7              </td><td>  39.6             </td><td> 109.5             </td><td> 49.817492         </td><td>  15.472962        </td><td>2                  </td></tr>\n",
       "\t<tr><th scope=row>1</th><td>Canada             </td><td> 97.0              </td><td> 85.2              </td><td>  26.5             </td><td> 20.3              </td><td> 90.2              </td><td> 319.2             </td><td> 602.7             </td><td> 56.130366         </td><td>-106.346771        </td><td>5                  </td></tr>\n",
       "\t<tr><th scope=row>37</th><td>Turkey             </td><td> 28.8              </td><td> 28.9              </td><td>  27.2             </td><td>  0.0              </td><td>  8.1              </td><td>  93.0             </td><td> 264.1             </td><td> 38.963745         </td><td>  35.243322        </td><td>2                  </td></tr>\n",
       "\t<tr><th scope=row>40</th><td>United_Kingdom     </td><td> 74.4              </td><td> 77.9              </td><td>  29.7             </td><td> 15.7              </td><td>  1.2              </td><td> 198.9             </td><td> 529.1             </td><td> 55.378051         </td><td>  -3.435973        </td><td>4                  </td></tr>\n",
       "\t<tr><th scope=row>55</th><td>Indonesia          </td><td> 62.0              </td><td> 33.0              </td><td>  30.5             </td><td>  0.0              </td><td>  2.7              </td><td> 128.2             </td><td> 388.5             </td><td> -0.789275         </td><td> 113.921327        </td><td>6                  </td></tr>\n",
       "\t<tr><th scope=row>25</th><td>Kazakhstan         </td><td> 12.0              </td><td> 17.7              </td><td>  33.0             </td><td>  0.0              </td><td>  1.7              </td><td>  64.4             </td><td> 209.2             </td><td> 48.019573         </td><td>  66.923684        </td><td>2                  </td></tr>\n",
       "\t<tr><th scope=row>39</th><td>Ukraine            </td><td> 14.1              </td><td> 42.3              </td><td>  35.0             </td><td> 18.6              </td><td>  2.7              </td><td> 112.5             </td><td> 280.8             </td><td> 48.379433         </td><td>  31.165580        </td><td>4                  </td></tr>\n",
       "\t<tr><th scope=row>63</th><td>Taiwan             </td><td> 46.6              </td><td> 10.2              </td><td>  38.7             </td><td>  9.4              </td><td>  0.8              </td><td> 105.7             </td><td> 320.3             </td><td> 23.697810         </td><td> 120.960515        </td><td>6                  </td></tr>\n",
       "\t<tr><th scope=row>50</th><td>Australia          </td><td> 42.7              </td><td> 23.1              </td><td>  50.8             </td><td>  0.0              </td><td>  2.6              </td><td> 119.2             </td><td> 386.6             </td><td>-25.274398         </td><td> 133.775136        </td><td>2                  </td></tr>\n",
       "\t<tr><th scope=row>29</th><td>Poland             </td><td> 25.5              </td><td> 12.3              </td><td>  53.9             </td><td>  0.0              </td><td>  0.7              </td><td>  92.3             </td><td> 320.4             </td><td> 51.919438         </td><td>  19.145136        </td><td>2                  </td></tr>\n",
       "\t<tr><th scope=row>62</th><td>South_Korea        </td><td>104.3              </td><td> 30.4              </td><td>  68.6             </td><td> 33.4              </td><td>  0.7              </td><td> 237.5             </td><td> 663.3             </td><td> 35.907757         </td><td> 127.766922        </td><td>6                  </td></tr>\n",
       "\t<tr><th scope=row>19</th><td>Germany            </td><td>113.9              </td><td> 70.2              </td><td>  71.0             </td><td> 30.5              </td><td>  4.2              </td><td> 289.8             </td><td> 795.6             </td><td> 51.165691         </td><td>  10.451526        </td><td>6                  </td></tr>\n",
       "\t<tr><th scope=row>32</th><td>Russian_Federation </td><td>124.9              </td><td>350.7              </td><td>  82.9             </td><td> 37.0              </td><td> 39.8              </td><td> 635.3             </td><td>1535.3             </td><td> 61.524010         </td><td> 105.318756        </td><td>4                  </td></tr>\n",
       "\t<tr><th scope=row>49</th><td>South_Africa       </td><td> 24.3              </td><td>  0.0              </td><td>  99.4             </td><td>  2.7              </td><td>  0.2              </td><td> 126.8             </td><td> 468.6             </td><td>-30.559482         </td><td>  22.937506        </td><td>2                  </td></tr>\n",
       "\t<tr><th scope=row>56</th><td>Japan              </td><td>197.6              </td><td> 78.7              </td><td> 108.8             </td><td> 62.1              </td><td> 16.7              </td><td> 463.9             </td><td>1222.1             </td><td> 36.204824         </td><td> 138.252924        </td><td>6                  </td></tr>\n",
       "\t<tr><th scope=row>54</th><td>India              </td><td>148.5              </td><td> 46.7              </td><td> 245.8             </td><td>  3.8              </td><td> 24.0              </td><td> 468.9             </td><td>1539.1             </td><td> 20.593684         </td><td>  78.962880        </td><td>2                  </td></tr>\n",
       "\t<tr><th scope=row>0</th><td>US                 </td><td>842.9              </td><td>588.7              </td><td> 498.0             </td><td>190.2              </td><td> 62.2              </td><td>2182.0             </td><td>5941.9             </td><td> 37.090240         </td><td> -95.712891        </td><td>6                  </td></tr>\n",
       "\t<tr><th scope=row>52</th><td>China              </td><td>404.6              </td><td> 79.8              </td><td>1537.4             </td><td> 15.9              </td><td>139.3              </td><td>2177.0             </td><td>7518.5             </td><td> 35.861660         </td><td> 104.195397        </td><td>2                  </td></tr>\n",
       "</tbody>\n",
       "</table>\n"
      ],
      "text/latex": [
       "\\begin{tabular}{r|lllllllllll}\n",
       "  & Country & Oil & Gas & Coal & Nuclear & Hydro & Total2009 & CO2Emm & Lat & Long & Cluster\\\\\n",
       "\\hline\n",
       "\t7 & Ecuador              &   9.9                &   0.4                & 0.0                  &  0.0                 &  2.1                 &  12.4                &  31.3                &  -1.831239           & -78.183406           & 5                   \\\\\n",
       "\t9 & Venezuela            &  27.4                &  26.8                & 0.0                  &  0.0                 & 19.5                 &  73.6                & 147.0                &   6.423750           & -66.589730           & 5                   \\\\\n",
       "\t11 & Azerbaijan           &   2.8                &   6.9                & 0.0                  &  0.0                 &  0.5                 &  10.2                &  24.8                &  40.143105           &  47.576927           & 4                   \\\\\n",
       "\t12 & Belarus              &   9.3                &  14.5                & 0.0                  &  0.0                 &  0.0                 &  23.9                &  62.9                &  53.709807           &  27.953389           & 4                   \\\\\n",
       "\t38 & Turkmenistan         &   5.2                &  17.8                & 0.0                  &  0.0                 &  0.0                 &  23.0                &  57.9                &  38.969719           &  59.556278           & 4                   \\\\\n",
       "\t43 & Kuwait               &  19.2                &  12.1                & 0.0                  &  0.0                 &  0.0                 &  31.3                &  87.2                &  29.311660           &  47.481766           & 6                   \\\\\n",
       "\t44 & Qatar                &   8.2                &  19.0                & 0.0                  &  0.0                 &  0.0                 &  27.2                &  69.8                &  25.354826           &  51.183884           & 4                   \\\\\n",
       "\t45 & Saudi\\_Arabia         & 121.8                  &  69.7                  & 0.0                    &  0.0                   &  0.0                   & 191.5                  & 537.6                  &  23.885942             &  45.079162             & 6                     \\\\\n",
       "\t46 & United\\_Arab\\_Emirates &  21.8                    &  53.2                    & 0.0                      &  0.0                     &  0.0                     &  75.0                    & 191.9                    &  23.424076               &  53.847818               & 4                       \\\\\n",
       "\t61 & Singapore            &  52.1                &   8.7                & 0.0                  &  0.0                 &  0.0                 &  60.8                & 180.2                &   1.352083           & 103.819836           & 6                   \\\\\n",
       "\t22 & Iceland              &   1.0                &   0.0                & 0.1                  &  0.0                 &  2.8                 &   3.9                &   3.5                &  64.963051           & -19.020835           & 1                   \\\\\n",
       "\t36 & Switzerland          &  12.3                &   2.7                & 0.1                  &  6.2                 &  8.1                 &  29.4                &  44.5                &  46.818188           &   8.227512           & 1                   \\\\\n",
       "\t26 & Lithuania            &   2.9                &   2.5                & 0.2                  &  2.5                 &  0.3                 &   8.2                &  15.3                &  55.169438           &  23.881275           & 3                   \\\\\n",
       "\t28 & Norway               &   9.7                &   3.7                & 0.3                  &  0.0                 & 28.8                 &  42.5                &  39.9                &  60.472024           &   8.468946           & 1                   \\\\\n",
       "\t51 & Bangladesh           &   4.5                &  17.8                & 0.4                  &  0.0                 &  0.3                 &  22.9                &  57.0                &  23.684994           &  90.356331           & 4                   \\\\\n",
       "\t8 & Peru                 &   8.5                &   3.1                & 0.5                  &  0.0                 &  4.5                 &  16.6                &  35.5                &  -9.189967           & -75.015152           & 5                   \\\\\n",
       "\t47 & Algeria              &  14.9                &  24.0                & 0.7                  &  0.0                 &  0.1                 &  39.7                & 104.8                &  28.033886           &   1.659626           & 4                   \\\\\n",
       "\t3 & Argentina            &  22.3                &  38.8                & 1.1                  &  1.8                 &  9.2                 &  73.3                & 164.2                & -38.416097           & -63.616672           & 4                   \\\\\n",
       "\t48 & Egypt                &  33.7                &  38.3                & 1.1                  &  0.0                 &  3.1                 &  76.3                & 197.8                &  26.820553           &  30.802498           & 4                   \\\\\n",
       "\t23 & Republic\\_of\\_Ireland  &   8.0                    &   4.3                    & 1.3                      &  0.0                     &  0.2                     &  13.9                    &  40.1                    &  53.412910               &  -8.243890               & 6                       \\\\\n",
       "\t41 & Uzbekistan           &   4.9                &  43.9                & 1.4                  &  0.0                 &  1.4                 &  51.5                & 123.5                &  41.377491           &  64.585262           & 4                   \\\\\n",
       "\t42 & Iran                 &  83.6                & 118.5                & 1.4                  &  0.0                 &  1.3                 & 204.8                & 540.3                &  32.427908           &  53.688046           & 4                   \\\\\n",
       "\t35 & Sweden               &  13.7                &   1.0                & 1.6                  & 11.9                 & 14.9                 &  43.2                &  50.9                &  60.128161           &  18.643501           & 1                   \\\\\n",
       "\t58 & New\\_Zealand          &   6.8                  &   3.6                  & 1.7                    &  0.0                   &  5.5                   &  17.6                  &  36.2                  & -40.900557             & 174.885971             & 5                     \\\\\n",
       "\t10 & Austria              &  13.0                &   8.4                & 2.3                  &  0.0                 &  8.3                 &  32.0                &  68.8                &  47.516231           &  14.550072           & 5                   \\\\\n",
       "\t21 & Hungary              &   7.3                &   9.1                & 2.5                  &  3.5                 &  0.1                 &  22.4                &  53.6                &  47.162494           &  19.503304           & 4                   \\\\\n",
       "\t6 & Colombia             &   8.8                &   7.8                & 3.1                  &  0.0                 &  9.3                 &  29.0                &  57.9                &   4.570868           & -74.297333           & 5                   \\\\\n",
       "\t30 & Portugal             &  12.9                &   3.9                & 3.6                  &  0.0                 &  2.0                 &  22.3                &  62.7                &  39.399872           &  -8.224454           & 6                   \\\\\n",
       "\t33 & Slovakia             &   3.9                &   5.1                & 3.6                  &  3.2                 &  1.1                 &  16.8                &  38.1                &  48.669026           &  19.699024           & 4                   \\\\\n",
       "\t17 & Finland              &   9.9                &   3.2                & 3.7                  &  5.4                 &  2.9                 &  25.0                &  52.5                &  61.924110           &  25.748151           & 6                   \\\\\n",
       "\t... & ... & ... & ... & ... & ... & ... & ... & ... & ... & ... & ...\\\\\n",
       "\t31 & Romania             &   9.9               &  12.2               &    6.2              &   2.7               &   3.6               &   34.6              &   83.7              &  45.943161          &   24.966760         & 4                  \\\\\n",
       "\t14 & Bulgaria            &   4.4               &   2.2               &    6.3              &   3.5               &   0.9               &   17.4              &   43.7              &  42.733883          &   25.485830         & 2                  \\\\\n",
       "\t2 & Mexico              &  85.6               &  62.7               &    6.8              &   2.2               &   6.0               &  163.2              &  436.8              &  23.634501          & -102.552784         & 6                  \\\\\n",
       "\t60 & Philippines         &  12.1               &   3.0               &    6.8              &   0.0               &   2.2               &   24.2              &   71.3              &  12.879721          &  121.774017         & 6                  \\\\\n",
       "\t53 & China\\_Hong\\_Kong\\_SAR &  14.0                     &   2.3                     &    7.6                    &   0.0                     &   0.0                     &   23.9                    &   78.5                    &  22.287170                &  114.150969               & 6                        \\\\\n",
       "\t20 & Greece              &  20.2               &   3.0               &    7.9              &   0.0               &   1.6               &   32.7              &  100.4              &  39.074208          &   21.824312         & 6                  \\\\\n",
       "\t27 & Netherlands         &  49.4               &  35.0               &    7.9              &   1.0               &   0.0               &   93.3              &  265.1              &  52.132633          &    5.291266         & 6                  \\\\\n",
       "\t18 & France              &  87.5               &  38.4               &   10.1              &  92.9               &  13.1               &  241.9              &  398.7              &  46.227638          &    2.213749         & 3                  \\\\\n",
       "\t34 & Spain               &  72.9               &  31.1               &   10.6              &  12.0               &   6.1               &  132.6              &  338.7              &  40.463667          &   -3.749220         & 6                  \\\\\n",
       "\t4 & Brazil              & 104.3               &  18.3               &   11.7              &   2.9               &  88.5               &  225.7              &  409.4              & -14.235004          &  -51.925280         & 5                  \\\\\n",
       "\t24 & Italy               &  75.1               &  64.5               &   13.4              &   0.0               &  10.5               &  163.4              &  434.8              &  41.871940          &   12.567380         & 6                  \\\\\n",
       "\t64 & Thailand            &  44.2               &  35.3               &   14.1              &   0.0               &   1.5               &   95.1              &  274.4              &  15.870032          &  100.992541         & 6                  \\\\\n",
       "\t15 & Czech\\_Republic      &   9.7                 &   7.4                 &   15.8                &   6.1                 &   0.7                 &   39.6                &  109.5                &  49.817492            &   15.472962           & 2                    \\\\\n",
       "\t1 & Canada              &  97.0               &  85.2               &   26.5              &  20.3               &  90.2               &  319.2              &  602.7              &  56.130366          & -106.346771         & 5                  \\\\\n",
       "\t37 & Turkey              &  28.8               &  28.9               &   27.2              &   0.0               &   8.1               &   93.0              &  264.1              &  38.963745          &   35.243322         & 2                  \\\\\n",
       "\t40 & United\\_Kingdom      &  74.4                 &  77.9                 &   29.7                &  15.7                 &   1.2                 &  198.9                &  529.1                &  55.378051            &   -3.435973           & 4                    \\\\\n",
       "\t55 & Indonesia           &  62.0               &  33.0               &   30.5              &   0.0               &   2.7               &  128.2              &  388.5              &  -0.789275          &  113.921327         & 6                  \\\\\n",
       "\t25 & Kazakhstan          &  12.0               &  17.7               &   33.0              &   0.0               &   1.7               &   64.4              &  209.2              &  48.019573          &   66.923684         & 2                  \\\\\n",
       "\t39 & Ukraine             &  14.1               &  42.3               &   35.0              &  18.6               &   2.7               &  112.5              &  280.8              &  48.379433          &   31.165580         & 4                  \\\\\n",
       "\t63 & Taiwan              &  46.6               &  10.2               &   38.7              &   9.4               &   0.8               &  105.7              &  320.3              &  23.697810          &  120.960515         & 6                  \\\\\n",
       "\t50 & Australia           &  42.7               &  23.1               &   50.8              &   0.0               &   2.6               &  119.2              &  386.6              & -25.274398          &  133.775136         & 2                  \\\\\n",
       "\t29 & Poland              &  25.5               &  12.3               &   53.9              &   0.0               &   0.7               &   92.3              &  320.4              &  51.919438          &   19.145136         & 2                  \\\\\n",
       "\t62 & South\\_Korea         & 104.3                 &  30.4                 &   68.6                &  33.4                 &   0.7                 &  237.5                &  663.3                &  35.907757            &  127.766922           & 6                    \\\\\n",
       "\t19 & Germany             & 113.9               &  70.2               &   71.0              &  30.5               &   4.2               &  289.8              &  795.6              &  51.165691          &   10.451526         & 6                  \\\\\n",
       "\t32 & Russian\\_Federation  & 124.9                 & 350.7                 &   82.9                &  37.0                 &  39.8                 &  635.3                & 1535.3                &  61.524010            &  105.318756           & 4                    \\\\\n",
       "\t49 & South\\_Africa        &  24.3                 &   0.0                 &   99.4                &   2.7                 &   0.2                 &  126.8                &  468.6                & -30.559482            &   22.937506           & 2                    \\\\\n",
       "\t56 & Japan               & 197.6               &  78.7               &  108.8              &  62.1               &  16.7               &  463.9              & 1222.1              &  36.204824          &  138.252924         & 6                  \\\\\n",
       "\t54 & India               & 148.5               &  46.7               &  245.8              &   3.8               &  24.0               &  468.9              & 1539.1              &  20.593684          &   78.962880         & 2                  \\\\\n",
       "\t0 & US                  & 842.9               & 588.7               &  498.0              & 190.2               &  62.2               & 2182.0              & 5941.9              &  37.090240          &  -95.712891         & 6                  \\\\\n",
       "\t52 & China               & 404.6               &  79.8               & 1537.4              &  15.9               & 139.3               & 2177.0              & 7518.5              &  35.861660          &  104.195397         & 2                  \\\\\n",
       "\\end{tabular}\n"
      ],
      "text/markdown": [
       "\n",
       "| <!--/--> | Country | Oil | Gas | Coal | Nuclear | Hydro | Total2009 | CO2Emm | Lat | Long | Cluster | \n",
       "|---|---|---|---|---|---|---|---|---|---|---|---|---|---|---|---|---|---|---|---|---|---|---|---|---|---|---|---|---|---|---|---|---|---|---|---|---|---|---|---|---|---|---|---|---|---|---|---|---|---|---|---|---|---|---|---|---|---|---|---|---|\n",
       "| 7 | Ecuador              |   9.9                |   0.4                | 0.0                  |  0.0                 |  2.1                 |  12.4                |  31.3                |  -1.831239           | -78.183406           | 5                    | \n",
       "| 9 | Venezuela            |  27.4                |  26.8                | 0.0                  |  0.0                 | 19.5                 |  73.6                | 147.0                |   6.423750           | -66.589730           | 5                    | \n",
       "| 11 | Azerbaijan           |   2.8                |   6.9                | 0.0                  |  0.0                 |  0.5                 |  10.2                |  24.8                |  40.143105           |  47.576927           | 4                    | \n",
       "| 12 | Belarus              |   9.3                |  14.5                | 0.0                  |  0.0                 |  0.0                 |  23.9                |  62.9                |  53.709807           |  27.953389           | 4                    | \n",
       "| 38 | Turkmenistan         |   5.2                |  17.8                | 0.0                  |  0.0                 |  0.0                 |  23.0                |  57.9                |  38.969719           |  59.556278           | 4                    | \n",
       "| 43 | Kuwait               |  19.2                |  12.1                | 0.0                  |  0.0                 |  0.0                 |  31.3                |  87.2                |  29.311660           |  47.481766           | 6                    | \n",
       "| 44 | Qatar                |   8.2                |  19.0                | 0.0                  |  0.0                 |  0.0                 |  27.2                |  69.8                |  25.354826           |  51.183884           | 4                    | \n",
       "| 45 | Saudi_Arabia         | 121.8                |  69.7                | 0.0                  |  0.0                 |  0.0                 | 191.5                | 537.6                |  23.885942           |  45.079162           | 6                    | \n",
       "| 46 | United_Arab_Emirates |  21.8                |  53.2                | 0.0                  |  0.0                 |  0.0                 |  75.0                | 191.9                |  23.424076           |  53.847818           | 4                    | \n",
       "| 61 | Singapore            |  52.1                |   8.7                | 0.0                  |  0.0                 |  0.0                 |  60.8                | 180.2                |   1.352083           | 103.819836           | 6                    | \n",
       "| 22 | Iceland              |   1.0                |   0.0                | 0.1                  |  0.0                 |  2.8                 |   3.9                |   3.5                |  64.963051           | -19.020835           | 1                    | \n",
       "| 36 | Switzerland          |  12.3                |   2.7                | 0.1                  |  6.2                 |  8.1                 |  29.4                |  44.5                |  46.818188           |   8.227512           | 1                    | \n",
       "| 26 | Lithuania            |   2.9                |   2.5                | 0.2                  |  2.5                 |  0.3                 |   8.2                |  15.3                |  55.169438           |  23.881275           | 3                    | \n",
       "| 28 | Norway               |   9.7                |   3.7                | 0.3                  |  0.0                 | 28.8                 |  42.5                |  39.9                |  60.472024           |   8.468946           | 1                    | \n",
       "| 51 | Bangladesh           |   4.5                |  17.8                | 0.4                  |  0.0                 |  0.3                 |  22.9                |  57.0                |  23.684994           |  90.356331           | 4                    | \n",
       "| 8 | Peru                 |   8.5                |   3.1                | 0.5                  |  0.0                 |  4.5                 |  16.6                |  35.5                |  -9.189967           | -75.015152           | 5                    | \n",
       "| 47 | Algeria              |  14.9                |  24.0                | 0.7                  |  0.0                 |  0.1                 |  39.7                | 104.8                |  28.033886           |   1.659626           | 4                    | \n",
       "| 3 | Argentina            |  22.3                |  38.8                | 1.1                  |  1.8                 |  9.2                 |  73.3                | 164.2                | -38.416097           | -63.616672           | 4                    | \n",
       "| 48 | Egypt                |  33.7                |  38.3                | 1.1                  |  0.0                 |  3.1                 |  76.3                | 197.8                |  26.820553           |  30.802498           | 4                    | \n",
       "| 23 | Republic_of_Ireland  |   8.0                |   4.3                | 1.3                  |  0.0                 |  0.2                 |  13.9                |  40.1                |  53.412910           |  -8.243890           | 6                    | \n",
       "| 41 | Uzbekistan           |   4.9                |  43.9                | 1.4                  |  0.0                 |  1.4                 |  51.5                | 123.5                |  41.377491           |  64.585262           | 4                    | \n",
       "| 42 | Iran                 |  83.6                | 118.5                | 1.4                  |  0.0                 |  1.3                 | 204.8                | 540.3                |  32.427908           |  53.688046           | 4                    | \n",
       "| 35 | Sweden               |  13.7                |   1.0                | 1.6                  | 11.9                 | 14.9                 |  43.2                |  50.9                |  60.128161           |  18.643501           | 1                    | \n",
       "| 58 | New_Zealand          |   6.8                |   3.6                | 1.7                  |  0.0                 |  5.5                 |  17.6                |  36.2                | -40.900557           | 174.885971           | 5                    | \n",
       "| 10 | Austria              |  13.0                |   8.4                | 2.3                  |  0.0                 |  8.3                 |  32.0                |  68.8                |  47.516231           |  14.550072           | 5                    | \n",
       "| 21 | Hungary              |   7.3                |   9.1                | 2.5                  |  3.5                 |  0.1                 |  22.4                |  53.6                |  47.162494           |  19.503304           | 4                    | \n",
       "| 6 | Colombia             |   8.8                |   7.8                | 3.1                  |  0.0                 |  9.3                 |  29.0                |  57.9                |   4.570868           | -74.297333           | 5                    | \n",
       "| 30 | Portugal             |  12.9                |   3.9                | 3.6                  |  0.0                 |  2.0                 |  22.3                |  62.7                |  39.399872           |  -8.224454           | 6                    | \n",
       "| 33 | Slovakia             |   3.9                |   5.1                | 3.6                  |  3.2                 |  1.1                 |  16.8                |  38.1                |  48.669026           |  19.699024           | 4                    | \n",
       "| 17 | Finland              |   9.9                |   3.2                | 3.7                  |  5.4                 |  2.9                 |  25.0                |  52.5                |  61.924110           |  25.748151           | 6                    | \n",
       "| ... | ... | ... | ... | ... | ... | ... | ... | ... | ... | ... | ... | \n",
       "| 31 | Romania             |   9.9               |  12.2               |    6.2              |   2.7               |   3.6               |   34.6              |   83.7              |  45.943161          |   24.966760         | 4                   | \n",
       "| 14 | Bulgaria            |   4.4               |   2.2               |    6.3              |   3.5               |   0.9               |   17.4              |   43.7              |  42.733883          |   25.485830         | 2                   | \n",
       "| 2 | Mexico              |  85.6               |  62.7               |    6.8              |   2.2               |   6.0               |  163.2              |  436.8              |  23.634501          | -102.552784         | 6                   | \n",
       "| 60 | Philippines         |  12.1               |   3.0               |    6.8              |   0.0               |   2.2               |   24.2              |   71.3              |  12.879721          |  121.774017         | 6                   | \n",
       "| 53 | China_Hong_Kong_SAR |  14.0               |   2.3               |    7.6              |   0.0               |   0.0               |   23.9              |   78.5              |  22.287170          |  114.150969         | 6                   | \n",
       "| 20 | Greece              |  20.2               |   3.0               |    7.9              |   0.0               |   1.6               |   32.7              |  100.4              |  39.074208          |   21.824312         | 6                   | \n",
       "| 27 | Netherlands         |  49.4               |  35.0               |    7.9              |   1.0               |   0.0               |   93.3              |  265.1              |  52.132633          |    5.291266         | 6                   | \n",
       "| 18 | France              |  87.5               |  38.4               |   10.1              |  92.9               |  13.1               |  241.9              |  398.7              |  46.227638          |    2.213749         | 3                   | \n",
       "| 34 | Spain               |  72.9               |  31.1               |   10.6              |  12.0               |   6.1               |  132.6              |  338.7              |  40.463667          |   -3.749220         | 6                   | \n",
       "| 4 | Brazil              | 104.3               |  18.3               |   11.7              |   2.9               |  88.5               |  225.7              |  409.4              | -14.235004          |  -51.925280         | 5                   | \n",
       "| 24 | Italy               |  75.1               |  64.5               |   13.4              |   0.0               |  10.5               |  163.4              |  434.8              |  41.871940          |   12.567380         | 6                   | \n",
       "| 64 | Thailand            |  44.2               |  35.3               |   14.1              |   0.0               |   1.5               |   95.1              |  274.4              |  15.870032          |  100.992541         | 6                   | \n",
       "| 15 | Czech_Republic      |   9.7               |   7.4               |   15.8              |   6.1               |   0.7               |   39.6              |  109.5              |  49.817492          |   15.472962         | 2                   | \n",
       "| 1 | Canada              |  97.0               |  85.2               |   26.5              |  20.3               |  90.2               |  319.2              |  602.7              |  56.130366          | -106.346771         | 5                   | \n",
       "| 37 | Turkey              |  28.8               |  28.9               |   27.2              |   0.0               |   8.1               |   93.0              |  264.1              |  38.963745          |   35.243322         | 2                   | \n",
       "| 40 | United_Kingdom      |  74.4               |  77.9               |   29.7              |  15.7               |   1.2               |  198.9              |  529.1              |  55.378051          |   -3.435973         | 4                   | \n",
       "| 55 | Indonesia           |  62.0               |  33.0               |   30.5              |   0.0               |   2.7               |  128.2              |  388.5              |  -0.789275          |  113.921327         | 6                   | \n",
       "| 25 | Kazakhstan          |  12.0               |  17.7               |   33.0              |   0.0               |   1.7               |   64.4              |  209.2              |  48.019573          |   66.923684         | 2                   | \n",
       "| 39 | Ukraine             |  14.1               |  42.3               |   35.0              |  18.6               |   2.7               |  112.5              |  280.8              |  48.379433          |   31.165580         | 4                   | \n",
       "| 63 | Taiwan              |  46.6               |  10.2               |   38.7              |   9.4               |   0.8               |  105.7              |  320.3              |  23.697810          |  120.960515         | 6                   | \n",
       "| 50 | Australia           |  42.7               |  23.1               |   50.8              |   0.0               |   2.6               |  119.2              |  386.6              | -25.274398          |  133.775136         | 2                   | \n",
       "| 29 | Poland              |  25.5               |  12.3               |   53.9              |   0.0               |   0.7               |   92.3              |  320.4              |  51.919438          |   19.145136         | 2                   | \n",
       "| 62 | South_Korea         | 104.3               |  30.4               |   68.6              |  33.4               |   0.7               |  237.5              |  663.3              |  35.907757          |  127.766922         | 6                   | \n",
       "| 19 | Germany             | 113.9               |  70.2               |   71.0              |  30.5               |   4.2               |  289.8              |  795.6              |  51.165691          |   10.451526         | 6                   | \n",
       "| 32 | Russian_Federation  | 124.9               | 350.7               |   82.9              |  37.0               |  39.8               |  635.3              | 1535.3              |  61.524010          |  105.318756         | 4                   | \n",
       "| 49 | South_Africa        |  24.3               |   0.0               |   99.4              |   2.7               |   0.2               |  126.8              |  468.6              | -30.559482          |   22.937506         | 2                   | \n",
       "| 56 | Japan               | 197.6               |  78.7               |  108.8              |  62.1               |  16.7               |  463.9              | 1222.1              |  36.204824          |  138.252924         | 6                   | \n",
       "| 54 | India               | 148.5               |  46.7               |  245.8              |   3.8               |  24.0               |  468.9              | 1539.1              |  20.593684          |   78.962880         | 2                   | \n",
       "| 0 | US                  | 842.9               | 588.7               |  498.0              | 190.2               |  62.2               | 2182.0              | 5941.9              |  37.090240          |  -95.712891         | 6                   | \n",
       "| 52 | China               | 404.6               |  79.8               | 1537.4              |  15.9               | 139.3               | 2177.0              | 7518.5              |  35.861660          |  104.195397         | 2                   | \n",
       "\n",
       "\n"
      ],
      "text/plain": [
       "    Country              Oil   Gas   Coal   Nuclear Hydro Total2009 CO2Emm\n",
       "7   Ecuador                9.9   0.4 0.0     0.0     2.1   12.4      31.3 \n",
       "9   Venezuela             27.4  26.8 0.0     0.0    19.5   73.6     147.0 \n",
       "11  Azerbaijan             2.8   6.9 0.0     0.0     0.5   10.2      24.8 \n",
       "12  Belarus                9.3  14.5 0.0     0.0     0.0   23.9      62.9 \n",
       "38  Turkmenistan           5.2  17.8 0.0     0.0     0.0   23.0      57.9 \n",
       "43  Kuwait                19.2  12.1 0.0     0.0     0.0   31.3      87.2 \n",
       "44  Qatar                  8.2  19.0 0.0     0.0     0.0   27.2      69.8 \n",
       "45  Saudi_Arabia         121.8  69.7 0.0     0.0     0.0  191.5     537.6 \n",
       "46  United_Arab_Emirates  21.8  53.2 0.0     0.0     0.0   75.0     191.9 \n",
       "61  Singapore             52.1   8.7 0.0     0.0     0.0   60.8     180.2 \n",
       "22  Iceland                1.0   0.0 0.1     0.0     2.8    3.9       3.5 \n",
       "36  Switzerland           12.3   2.7 0.1     6.2     8.1   29.4      44.5 \n",
       "26  Lithuania              2.9   2.5 0.2     2.5     0.3    8.2      15.3 \n",
       "28  Norway                 9.7   3.7 0.3     0.0    28.8   42.5      39.9 \n",
       "51  Bangladesh             4.5  17.8 0.4     0.0     0.3   22.9      57.0 \n",
       "8   Peru                   8.5   3.1 0.5     0.0     4.5   16.6      35.5 \n",
       "47  Algeria               14.9  24.0 0.7     0.0     0.1   39.7     104.8 \n",
       "3   Argentina             22.3  38.8 1.1     1.8     9.2   73.3     164.2 \n",
       "48  Egypt                 33.7  38.3 1.1     0.0     3.1   76.3     197.8 \n",
       "23  Republic_of_Ireland    8.0   4.3 1.3     0.0     0.2   13.9      40.1 \n",
       "41  Uzbekistan             4.9  43.9 1.4     0.0     1.4   51.5     123.5 \n",
       "42  Iran                  83.6 118.5 1.4     0.0     1.3  204.8     540.3 \n",
       "35  Sweden                13.7   1.0 1.6    11.9    14.9   43.2      50.9 \n",
       "58  New_Zealand            6.8   3.6 1.7     0.0     5.5   17.6      36.2 \n",
       "10  Austria               13.0   8.4 2.3     0.0     8.3   32.0      68.8 \n",
       "21  Hungary                7.3   9.1 2.5     3.5     0.1   22.4      53.6 \n",
       "6   Colombia               8.8   7.8 3.1     0.0     9.3   29.0      57.9 \n",
       "30  Portugal              12.9   3.9 3.6     0.0     2.0   22.3      62.7 \n",
       "33  Slovakia               3.9   5.1 3.6     3.2     1.1   16.8      38.1 \n",
       "17  Finland                9.9   3.2 3.7     5.4     2.9   25.0      52.5 \n",
       "... ...                  ...   ...   ...    ...     ...   ...       ...   \n",
       "31  Romania                9.9  12.2    6.2   2.7     3.6   34.6      83.7\n",
       "14  Bulgaria               4.4   2.2    6.3   3.5     0.9   17.4      43.7\n",
       "2   Mexico                85.6  62.7    6.8   2.2     6.0  163.2     436.8\n",
       "60  Philippines           12.1   3.0    6.8   0.0     2.2   24.2      71.3\n",
       "53  China_Hong_Kong_SAR   14.0   2.3    7.6   0.0     0.0   23.9      78.5\n",
       "20  Greece                20.2   3.0    7.9   0.0     1.6   32.7     100.4\n",
       "27  Netherlands           49.4  35.0    7.9   1.0     0.0   93.3     265.1\n",
       "18  France                87.5  38.4   10.1  92.9    13.1  241.9     398.7\n",
       "34  Spain                 72.9  31.1   10.6  12.0     6.1  132.6     338.7\n",
       "4   Brazil               104.3  18.3   11.7   2.9    88.5  225.7     409.4\n",
       "24  Italy                 75.1  64.5   13.4   0.0    10.5  163.4     434.8\n",
       "64  Thailand              44.2  35.3   14.1   0.0     1.5   95.1     274.4\n",
       "15  Czech_Republic         9.7   7.4   15.8   6.1     0.7   39.6     109.5\n",
       "1   Canada                97.0  85.2   26.5  20.3    90.2  319.2     602.7\n",
       "37  Turkey                28.8  28.9   27.2   0.0     8.1   93.0     264.1\n",
       "40  United_Kingdom        74.4  77.9   29.7  15.7     1.2  198.9     529.1\n",
       "55  Indonesia             62.0  33.0   30.5   0.0     2.7  128.2     388.5\n",
       "25  Kazakhstan            12.0  17.7   33.0   0.0     1.7   64.4     209.2\n",
       "39  Ukraine               14.1  42.3   35.0  18.6     2.7  112.5     280.8\n",
       "63  Taiwan                46.6  10.2   38.7   9.4     0.8  105.7     320.3\n",
       "50  Australia             42.7  23.1   50.8   0.0     2.6  119.2     386.6\n",
       "29  Poland                25.5  12.3   53.9   0.0     0.7   92.3     320.4\n",
       "62  South_Korea          104.3  30.4   68.6  33.4     0.7  237.5     663.3\n",
       "19  Germany              113.9  70.2   71.0  30.5     4.2  289.8     795.6\n",
       "32  Russian_Federation   124.9 350.7   82.9  37.0    39.8  635.3    1535.3\n",
       "49  South_Africa          24.3   0.0   99.4   2.7     0.2  126.8     468.6\n",
       "56  Japan                197.6  78.7  108.8  62.1    16.7  463.9    1222.1\n",
       "54  India                148.5  46.7  245.8   3.8    24.0  468.9    1539.1\n",
       "0   US                   842.9 588.7  498.0 190.2    62.2 2182.0    5941.9\n",
       "52  China                404.6  79.8 1537.4  15.9   139.3 2177.0    7518.5\n",
       "    Lat        Long        Cluster\n",
       "7    -1.831239 -78.183406  5      \n",
       "9     6.423750 -66.589730  5      \n",
       "11   40.143105  47.576927  4      \n",
       "12   53.709807  27.953389  4      \n",
       "38   38.969719  59.556278  4      \n",
       "43   29.311660  47.481766  6      \n",
       "44   25.354826  51.183884  4      \n",
       "45   23.885942  45.079162  6      \n",
       "46   23.424076  53.847818  4      \n",
       "61    1.352083 103.819836  6      \n",
       "22   64.963051 -19.020835  1      \n",
       "36   46.818188   8.227512  1      \n",
       "26   55.169438  23.881275  3      \n",
       "28   60.472024   8.468946  1      \n",
       "51   23.684994  90.356331  4      \n",
       "8    -9.189967 -75.015152  5      \n",
       "47   28.033886   1.659626  4      \n",
       "3   -38.416097 -63.616672  4      \n",
       "48   26.820553  30.802498  4      \n",
       "23   53.412910  -8.243890  6      \n",
       "41   41.377491  64.585262  4      \n",
       "42   32.427908  53.688046  4      \n",
       "35   60.128161  18.643501  1      \n",
       "58  -40.900557 174.885971  5      \n",
       "10   47.516231  14.550072  5      \n",
       "21   47.162494  19.503304  4      \n",
       "6     4.570868 -74.297333  5      \n",
       "30   39.399872  -8.224454  6      \n",
       "33   48.669026  19.699024  4      \n",
       "17   61.924110  25.748151  6      \n",
       "... ...        ...         ...    \n",
       "31   45.943161   24.966760 4      \n",
       "14   42.733883   25.485830 2      \n",
       "2    23.634501 -102.552784 6      \n",
       "60   12.879721  121.774017 6      \n",
       "53   22.287170  114.150969 6      \n",
       "20   39.074208   21.824312 6      \n",
       "27   52.132633    5.291266 6      \n",
       "18   46.227638    2.213749 3      \n",
       "34   40.463667   -3.749220 6      \n",
       "4   -14.235004  -51.925280 5      \n",
       "24   41.871940   12.567380 6      \n",
       "64   15.870032  100.992541 6      \n",
       "15   49.817492   15.472962 2      \n",
       "1    56.130366 -106.346771 5      \n",
       "37   38.963745   35.243322 2      \n",
       "40   55.378051   -3.435973 4      \n",
       "55   -0.789275  113.921327 6      \n",
       "25   48.019573   66.923684 2      \n",
       "39   48.379433   31.165580 4      \n",
       "63   23.697810  120.960515 6      \n",
       "50  -25.274398  133.775136 2      \n",
       "29   51.919438   19.145136 2      \n",
       "62   35.907757  127.766922 6      \n",
       "19   51.165691   10.451526 6      \n",
       "32   61.524010  105.318756 4      \n",
       "49  -30.559482   22.937506 2      \n",
       "56   36.204824  138.252924 6      \n",
       "54   20.593684   78.962880 2      \n",
       "0    37.090240  -95.712891 6      \n",
       "52   35.861660  104.195397 2      "
      ]
     },
     "metadata": {},
     "output_type": "display_data"
    }
   ],
   "source": [
    "sortEnergyData<-energyData[order(energyData$Coal),]\n",
    "sortEnergyData"
   ]
  },
  {
   "cell_type": "code",
   "execution_count": 50,
   "metadata": {
    "ExecuteTime": {
     "end_time": "2017-09-12T05:01:24.657000Z",
     "start_time": "2017-09-12T05:01:24.479Z"
    }
   },
   "outputs": [
    {
     "data": {
      "text/html": [
       "<table>\n",
       "<thead><tr><th></th><th scope=col>Country</th><th scope=col>Oil</th><th scope=col>Gas</th><th scope=col>Coal</th><th scope=col>Nuclear</th><th scope=col>Hydro</th><th scope=col>Total2009</th><th scope=col>CO2Emm</th><th scope=col>Lat</th><th scope=col>Long</th><th scope=col>Cluster</th></tr></thead>\n",
       "<tbody>\n",
       "\t<tr><th scope=row>7</th><td>Ecuador             </td><td>  9.9               </td><td>  0.4               </td><td>0.0                 </td><td> 0.0                </td><td> 2.1                </td><td> 12.4               </td><td> 31.3               </td><td> -1.831239          </td><td>-78.183406          </td><td>5                   </td></tr>\n",
       "\t<tr><th scope=row>9</th><td>Venezuela           </td><td> 27.4               </td><td> 26.8               </td><td>0.0                 </td><td> 0.0                </td><td>19.5                </td><td> 73.6               </td><td>147.0               </td><td>  6.423750          </td><td>-66.589730          </td><td>5                   </td></tr>\n",
       "\t<tr><th scope=row>11</th><td>Azerbaijan          </td><td>  2.8               </td><td>  6.9               </td><td>0.0                 </td><td> 0.0                </td><td> 0.5                </td><td> 10.2               </td><td> 24.8               </td><td> 40.143105          </td><td> 47.576927          </td><td>4                   </td></tr>\n",
       "\t<tr><th scope=row>12</th><td>Belarus             </td><td>  9.3               </td><td> 14.5               </td><td>0.0                 </td><td> 0.0                </td><td> 0.0                </td><td> 23.9               </td><td> 62.9               </td><td> 53.709807          </td><td> 27.953389          </td><td>4                   </td></tr>\n",
       "\t<tr><th scope=row>38</th><td>Turkmenistan        </td><td>  5.2               </td><td> 17.8               </td><td>0.0                 </td><td> 0.0                </td><td> 0.0                </td><td> 23.0               </td><td> 57.9               </td><td> 38.969719          </td><td> 59.556278          </td><td>4                   </td></tr>\n",
       "\t<tr><th scope=row>43</th><td>Kuwait              </td><td> 19.2               </td><td> 12.1               </td><td>0.0                 </td><td> 0.0                </td><td> 0.0                </td><td> 31.3               </td><td> 87.2               </td><td> 29.311660          </td><td> 47.481766          </td><td>6                   </td></tr>\n",
       "\t<tr><th scope=row>44</th><td>Qatar               </td><td>  8.2               </td><td> 19.0               </td><td>0.0                 </td><td> 0.0                </td><td> 0.0                </td><td> 27.2               </td><td> 69.8               </td><td> 25.354826          </td><td> 51.183884          </td><td>4                   </td></tr>\n",
       "\t<tr><th scope=row>45</th><td>Saudi_Arabia        </td><td>121.8               </td><td> 69.7               </td><td>0.0                 </td><td> 0.0                </td><td> 0.0                </td><td>191.5               </td><td>537.6               </td><td> 23.885942          </td><td> 45.079162          </td><td>6                   </td></tr>\n",
       "\t<tr><th scope=row>46</th><td>United_Arab_Emirates</td><td> 21.8               </td><td> 53.2               </td><td>0.0                 </td><td> 0.0                </td><td> 0.0                </td><td> 75.0               </td><td>191.9               </td><td> 23.424076          </td><td> 53.847818          </td><td>4                   </td></tr>\n",
       "\t<tr><th scope=row>61</th><td>Singapore           </td><td> 52.1               </td><td>  8.7               </td><td>0.0                 </td><td> 0.0                </td><td> 0.0                </td><td> 60.8               </td><td>180.2               </td><td>  1.352083          </td><td>103.819836          </td><td>6                   </td></tr>\n",
       "\t<tr><th scope=row>22</th><td>Iceland             </td><td>  1.0               </td><td>  0.0               </td><td>0.1                 </td><td> 0.0                </td><td> 2.8                </td><td>  3.9               </td><td>  3.5               </td><td> 64.963051          </td><td>-19.020835          </td><td>1                   </td></tr>\n",
       "\t<tr><th scope=row>36</th><td>Switzerland         </td><td> 12.3               </td><td>  2.7               </td><td>0.1                 </td><td> 6.2                </td><td> 8.1                </td><td> 29.4               </td><td> 44.5               </td><td> 46.818188          </td><td>  8.227512          </td><td>1                   </td></tr>\n",
       "\t<tr><th scope=row>26</th><td>Lithuania           </td><td>  2.9               </td><td>  2.5               </td><td>0.2                 </td><td> 2.5                </td><td> 0.3                </td><td>  8.2               </td><td> 15.3               </td><td> 55.169438          </td><td> 23.881275          </td><td>3                   </td></tr>\n",
       "\t<tr><th scope=row>28</th><td>Norway              </td><td>  9.7               </td><td>  3.7               </td><td>0.3                 </td><td> 0.0                </td><td>28.8                </td><td> 42.5               </td><td> 39.9               </td><td> 60.472024          </td><td>  8.468946          </td><td>1                   </td></tr>\n",
       "\t<tr><th scope=row>51</th><td>Bangladesh          </td><td>  4.5               </td><td> 17.8               </td><td>0.4                 </td><td> 0.0                </td><td> 0.3                </td><td> 22.9               </td><td> 57.0               </td><td> 23.684994          </td><td> 90.356331          </td><td>4                   </td></tr>\n",
       "\t<tr><th scope=row>8</th><td>Peru                </td><td>  8.5               </td><td>  3.1               </td><td>0.5                 </td><td> 0.0                </td><td> 4.5                </td><td> 16.6               </td><td> 35.5               </td><td> -9.189967          </td><td>-75.015152          </td><td>5                   </td></tr>\n",
       "\t<tr><th scope=row>47</th><td>Algeria             </td><td> 14.9               </td><td> 24.0               </td><td>0.7                 </td><td> 0.0                </td><td> 0.1                </td><td> 39.7               </td><td>104.8               </td><td> 28.033886          </td><td>  1.659626          </td><td>4                   </td></tr>\n",
       "\t<tr><th scope=row>3</th><td>Argentina           </td><td> 22.3               </td><td> 38.8               </td><td>1.1                 </td><td> 1.8                </td><td> 9.2                </td><td> 73.3               </td><td>164.2               </td><td>-38.416097          </td><td>-63.616672          </td><td>4                   </td></tr>\n",
       "\t<tr><th scope=row>48</th><td>Egypt               </td><td> 33.7               </td><td> 38.3               </td><td>1.1                 </td><td> 0.0                </td><td> 3.1                </td><td> 76.3               </td><td>197.8               </td><td> 26.820553          </td><td> 30.802498          </td><td>4                   </td></tr>\n",
       "\t<tr><th scope=row>23</th><td>Republic_of_Ireland </td><td>  8.0               </td><td>  4.3               </td><td>1.3                 </td><td> 0.0                </td><td> 0.2                </td><td> 13.9               </td><td> 40.1               </td><td> 53.412910          </td><td> -8.243890          </td><td>6                   </td></tr>\n",
       "\t<tr><th scope=row>41</th><td>Uzbekistan          </td><td>  4.9               </td><td> 43.9               </td><td>1.4                 </td><td> 0.0                </td><td> 1.4                </td><td> 51.5               </td><td>123.5               </td><td> 41.377491          </td><td> 64.585262          </td><td>4                   </td></tr>\n",
       "\t<tr><th scope=row>42</th><td>Iran                </td><td> 83.6               </td><td>118.5               </td><td>1.4                 </td><td> 0.0                </td><td> 1.3                </td><td>204.8               </td><td>540.3               </td><td> 32.427908          </td><td> 53.688046          </td><td>4                   </td></tr>\n",
       "\t<tr><th scope=row>35</th><td>Sweden              </td><td> 13.7               </td><td>  1.0               </td><td>1.6                 </td><td>11.9                </td><td>14.9                </td><td> 43.2               </td><td> 50.9               </td><td> 60.128161          </td><td> 18.643501          </td><td>1                   </td></tr>\n",
       "\t<tr><th scope=row>58</th><td>New_Zealand         </td><td>  6.8               </td><td>  3.6               </td><td>1.7                 </td><td> 0.0                </td><td> 5.5                </td><td> 17.6               </td><td> 36.2               </td><td>-40.900557          </td><td>174.885971          </td><td>5                   </td></tr>\n",
       "\t<tr><th scope=row>10</th><td>Austria             </td><td> 13.0               </td><td>  8.4               </td><td>2.3                 </td><td> 0.0                </td><td> 8.3                </td><td> 32.0               </td><td> 68.8               </td><td> 47.516231          </td><td> 14.550072          </td><td>5                   </td></tr>\n",
       "\t<tr><th scope=row>21</th><td>Hungary             </td><td>  7.3               </td><td>  9.1               </td><td>2.5                 </td><td> 3.5                </td><td> 0.1                </td><td> 22.4               </td><td> 53.6               </td><td> 47.162494          </td><td> 19.503304          </td><td>4                   </td></tr>\n",
       "\t<tr><th scope=row>6</th><td>Colombia            </td><td>  8.8               </td><td>  7.8               </td><td>3.1                 </td><td> 0.0                </td><td> 9.3                </td><td> 29.0               </td><td> 57.9               </td><td>  4.570868          </td><td>-74.297333          </td><td>5                   </td></tr>\n",
       "\t<tr><th scope=row>30</th><td>Portugal            </td><td> 12.9               </td><td>  3.9               </td><td>3.6                 </td><td> 0.0                </td><td> 2.0                </td><td> 22.3               </td><td> 62.7               </td><td> 39.399872          </td><td> -8.224454          </td><td>6                   </td></tr>\n",
       "\t<tr><th scope=row>33</th><td>Slovakia            </td><td>  3.9               </td><td>  5.1               </td><td>3.6                 </td><td> 3.2                </td><td> 1.1                </td><td> 16.8               </td><td> 38.1               </td><td> 48.669026          </td><td> 19.699024          </td><td>4                   </td></tr>\n",
       "\t<tr><th scope=row>17</th><td>Finland             </td><td>  9.9               </td><td>  3.2               </td><td>3.7                 </td><td> 5.4                </td><td> 2.9                </td><td> 25.0               </td><td> 52.5               </td><td> 61.924110          </td><td> 25.748151          </td><td>6                   </td></tr>\n",
       "\t<tr><th scope=row>...</th><td>...</td><td>...</td><td>...</td><td>...</td><td>...</td><td>...</td><td>...</td><td>...</td><td>...</td><td>...</td><td>...</td></tr>\n",
       "\t<tr><th scope=row>57</th><td>Malaysia           </td><td> 21.4              </td><td> 28.3              </td><td> 4.0               </td><td> 0.0               </td><td> 2.0               </td><td> 55.7              </td><td> 148.0             </td><td>  4.210484         </td><td> 101.975766        </td><td>4                  </td></tr>\n",
       "\t<tr><th scope=row>5</th><td>Chile              </td><td> 15.4              </td><td>  3.0              </td><td> 4.1               </td><td> 0.0               </td><td> 5.6               </td><td> 28.1              </td><td>  70.3             </td><td>-35.675147         </td><td> -71.542969        </td><td>5                  </td></tr>\n",
       "\t<tr><th scope=row>59</th><td>Pakistan           </td><td> 20.6              </td><td> 34.1              </td><td> 4.3               </td><td> 0.6               </td><td> 6.2               </td><td> 65.8              </td><td> 160.4             </td><td> 30.375321         </td><td>  69.345116        </td><td>4                  </td></tr>\n",
       "\t<tr><th scope=row>13</th><td>Belgium            </td><td> 38.5              </td><td> 15.6              </td><td> 4.6               </td><td>10.7               </td><td> 0.1               </td><td> 69.4              </td><td> 172.8             </td><td> 50.503887         </td><td>   4.469936        </td><td>6                  </td></tr>\n",
       "\t<tr><th scope=row>31</th><td>Romania            </td><td>  9.9              </td><td> 12.2              </td><td> 6.2               </td><td> 2.7               </td><td> 3.6               </td><td> 34.6              </td><td>  83.7             </td><td> 45.943161         </td><td>  24.966760        </td><td>4                  </td></tr>\n",
       "\t<tr><th scope=row>14</th><td>Bulgaria           </td><td>  4.4              </td><td>  2.2              </td><td> 6.3               </td><td> 3.5               </td><td> 0.9               </td><td> 17.4              </td><td>  43.7             </td><td> 42.733883         </td><td>  25.485830        </td><td>2                  </td></tr>\n",
       "\t<tr><th scope=row>2</th><td>Mexico             </td><td> 85.6              </td><td> 62.7              </td><td> 6.8               </td><td> 2.2               </td><td> 6.0               </td><td>163.2              </td><td> 436.8             </td><td> 23.634501         </td><td>-102.552784        </td><td>6                  </td></tr>\n",
       "\t<tr><th scope=row>60</th><td>Philippines        </td><td> 12.1              </td><td>  3.0              </td><td> 6.8               </td><td> 0.0               </td><td> 2.2               </td><td> 24.2              </td><td>  71.3             </td><td> 12.879721         </td><td> 121.774017        </td><td>6                  </td></tr>\n",
       "\t<tr><th scope=row>53</th><td>China_Hong_Kong_SAR</td><td> 14.0              </td><td>  2.3              </td><td> 7.6               </td><td> 0.0               </td><td> 0.0               </td><td> 23.9              </td><td>  78.5             </td><td> 22.287170         </td><td> 114.150969        </td><td>6                  </td></tr>\n",
       "\t<tr><th scope=row>20</th><td>Greece             </td><td> 20.2              </td><td>  3.0              </td><td> 7.9               </td><td> 0.0               </td><td> 1.6               </td><td> 32.7              </td><td> 100.4             </td><td> 39.074208         </td><td>  21.824312        </td><td>6                  </td></tr>\n",
       "\t<tr><th scope=row>27</th><td>Netherlands        </td><td> 49.4              </td><td> 35.0              </td><td> 7.9               </td><td> 1.0               </td><td> 0.0               </td><td> 93.3              </td><td> 265.1             </td><td> 52.132633         </td><td>   5.291266        </td><td>6                  </td></tr>\n",
       "\t<tr><th scope=row>18</th><td>France             </td><td> 87.5              </td><td> 38.4              </td><td>10.1               </td><td>92.9               </td><td>13.1               </td><td>241.9              </td><td> 398.7             </td><td> 46.227638         </td><td>   2.213749        </td><td>3                  </td></tr>\n",
       "\t<tr><th scope=row>34</th><td>Spain              </td><td> 72.9              </td><td> 31.1              </td><td>10.6               </td><td>12.0               </td><td> 6.1               </td><td>132.6              </td><td> 338.7             </td><td> 40.463667         </td><td>  -3.749220        </td><td>6                  </td></tr>\n",
       "\t<tr><th scope=row>4</th><td>Brazil             </td><td>104.3              </td><td> 18.3              </td><td>11.7               </td><td> 2.9               </td><td>88.5               </td><td>225.7              </td><td> 409.4             </td><td>-14.235004         </td><td> -51.925280        </td><td>5                  </td></tr>\n",
       "\t<tr><th scope=row>24</th><td>Italy              </td><td> 75.1              </td><td> 64.5              </td><td>13.4               </td><td> 0.0               </td><td>10.5               </td><td>163.4              </td><td> 434.8             </td><td> 41.871940         </td><td>  12.567380        </td><td>6                  </td></tr>\n",
       "\t<tr><th scope=row>64</th><td>Thailand           </td><td> 44.2              </td><td> 35.3              </td><td>14.1               </td><td> 0.0               </td><td> 1.5               </td><td> 95.1              </td><td> 274.4             </td><td> 15.870032         </td><td> 100.992541        </td><td>6                  </td></tr>\n",
       "\t<tr><th scope=row>15</th><td>Czech_Republic     </td><td>  9.7              </td><td>  7.4              </td><td>15.8               </td><td> 6.1               </td><td> 0.7               </td><td> 39.6              </td><td> 109.5             </td><td> 49.817492         </td><td>  15.472962        </td><td>2                  </td></tr>\n",
       "\t<tr><th scope=row>1</th><td>Canada             </td><td> 97.0              </td><td> 85.2              </td><td>26.5               </td><td>20.3               </td><td>90.2               </td><td>319.2              </td><td> 602.7             </td><td> 56.130366         </td><td>-106.346771        </td><td>5                  </td></tr>\n",
       "\t<tr><th scope=row>37</th><td>Turkey             </td><td> 28.8              </td><td> 28.9              </td><td>27.2               </td><td> 0.0               </td><td> 8.1               </td><td> 93.0              </td><td> 264.1             </td><td> 38.963745         </td><td>  35.243322        </td><td>2                  </td></tr>\n",
       "\t<tr><th scope=row>40</th><td>United_Kingdom     </td><td> 74.4              </td><td> 77.9              </td><td>29.7               </td><td>15.7               </td><td> 1.2               </td><td>198.9              </td><td> 529.1             </td><td> 55.378051         </td><td>  -3.435973        </td><td>4                  </td></tr>\n",
       "\t<tr><th scope=row>55</th><td>Indonesia          </td><td> 62.0              </td><td> 33.0              </td><td>30.5               </td><td> 0.0               </td><td> 2.7               </td><td>128.2              </td><td> 388.5             </td><td> -0.789275         </td><td> 113.921327        </td><td>6                  </td></tr>\n",
       "\t<tr><th scope=row>25</th><td>Kazakhstan         </td><td> 12.0              </td><td> 17.7              </td><td>33.0               </td><td> 0.0               </td><td> 1.7               </td><td> 64.4              </td><td> 209.2             </td><td> 48.019573         </td><td>  66.923684        </td><td>2                  </td></tr>\n",
       "\t<tr><th scope=row>39</th><td>Ukraine            </td><td> 14.1              </td><td> 42.3              </td><td>35.0               </td><td>18.6               </td><td> 2.7               </td><td>112.5              </td><td> 280.8             </td><td> 48.379433         </td><td>  31.165580        </td><td>4                  </td></tr>\n",
       "\t<tr><th scope=row>63</th><td>Taiwan             </td><td> 46.6              </td><td> 10.2              </td><td>38.7               </td><td> 9.4               </td><td> 0.8               </td><td>105.7              </td><td> 320.3             </td><td> 23.697810         </td><td> 120.960515        </td><td>6                  </td></tr>\n",
       "\t<tr><th scope=row>50</th><td>Australia          </td><td> 42.7              </td><td> 23.1              </td><td>50.8               </td><td> 0.0               </td><td> 2.6               </td><td>119.2              </td><td> 386.6             </td><td>-25.274398         </td><td> 133.775136        </td><td>2                  </td></tr>\n",
       "\t<tr><th scope=row>29</th><td>Poland             </td><td> 25.5              </td><td> 12.3              </td><td>53.9               </td><td> 0.0               </td><td> 0.7               </td><td> 92.3              </td><td> 320.4             </td><td> 51.919438         </td><td>  19.145136        </td><td>2                  </td></tr>\n",
       "\t<tr><th scope=row>62</th><td>South_Korea        </td><td>104.3              </td><td> 30.4              </td><td>68.6               </td><td>33.4               </td><td> 0.7               </td><td>237.5              </td><td> 663.3             </td><td> 35.907757         </td><td> 127.766922        </td><td>6                  </td></tr>\n",
       "\t<tr><th scope=row>19</th><td>Germany            </td><td>113.9              </td><td> 70.2              </td><td>71.0               </td><td>30.5               </td><td> 4.2               </td><td>289.8              </td><td> 795.6             </td><td> 51.165691         </td><td>  10.451526        </td><td>6                  </td></tr>\n",
       "\t<tr><th scope=row>32</th><td>Russian_Federation </td><td>124.9              </td><td>350.7              </td><td>82.9               </td><td>37.0               </td><td>39.8               </td><td>635.3              </td><td>1535.3             </td><td> 61.524010         </td><td> 105.318756        </td><td>4                  </td></tr>\n",
       "\t<tr><th scope=row>49</th><td>South_Africa       </td><td> 24.3              </td><td>  0.0              </td><td>99.4               </td><td> 2.7               </td><td> 0.2               </td><td>126.8              </td><td> 468.6             </td><td>-30.559482         </td><td>  22.937506        </td><td>2                  </td></tr>\n",
       "</tbody>\n",
       "</table>\n"
      ],
      "text/latex": [
       "\\begin{tabular}{r|lllllllllll}\n",
       "  & Country & Oil & Gas & Coal & Nuclear & Hydro & Total2009 & CO2Emm & Lat & Long & Cluster\\\\\n",
       "\\hline\n",
       "\t7 & Ecuador              &   9.9                &   0.4                & 0.0                  &  0.0                 &  2.1                 &  12.4                &  31.3                &  -1.831239           & -78.183406           & 5                   \\\\\n",
       "\t9 & Venezuela            &  27.4                &  26.8                & 0.0                  &  0.0                 & 19.5                 &  73.6                & 147.0                &   6.423750           & -66.589730           & 5                   \\\\\n",
       "\t11 & Azerbaijan           &   2.8                &   6.9                & 0.0                  &  0.0                 &  0.5                 &  10.2                &  24.8                &  40.143105           &  47.576927           & 4                   \\\\\n",
       "\t12 & Belarus              &   9.3                &  14.5                & 0.0                  &  0.0                 &  0.0                 &  23.9                &  62.9                &  53.709807           &  27.953389           & 4                   \\\\\n",
       "\t38 & Turkmenistan         &   5.2                &  17.8                & 0.0                  &  0.0                 &  0.0                 &  23.0                &  57.9                &  38.969719           &  59.556278           & 4                   \\\\\n",
       "\t43 & Kuwait               &  19.2                &  12.1                & 0.0                  &  0.0                 &  0.0                 &  31.3                &  87.2                &  29.311660           &  47.481766           & 6                   \\\\\n",
       "\t44 & Qatar                &   8.2                &  19.0                & 0.0                  &  0.0                 &  0.0                 &  27.2                &  69.8                &  25.354826           &  51.183884           & 4                   \\\\\n",
       "\t45 & Saudi\\_Arabia         & 121.8                  &  69.7                  & 0.0                    &  0.0                   &  0.0                   & 191.5                  & 537.6                  &  23.885942             &  45.079162             & 6                     \\\\\n",
       "\t46 & United\\_Arab\\_Emirates &  21.8                    &  53.2                    & 0.0                      &  0.0                     &  0.0                     &  75.0                    & 191.9                    &  23.424076               &  53.847818               & 4                       \\\\\n",
       "\t61 & Singapore            &  52.1                &   8.7                & 0.0                  &  0.0                 &  0.0                 &  60.8                & 180.2                &   1.352083           & 103.819836           & 6                   \\\\\n",
       "\t22 & Iceland              &   1.0                &   0.0                & 0.1                  &  0.0                 &  2.8                 &   3.9                &   3.5                &  64.963051           & -19.020835           & 1                   \\\\\n",
       "\t36 & Switzerland          &  12.3                &   2.7                & 0.1                  &  6.2                 &  8.1                 &  29.4                &  44.5                &  46.818188           &   8.227512           & 1                   \\\\\n",
       "\t26 & Lithuania            &   2.9                &   2.5                & 0.2                  &  2.5                 &  0.3                 &   8.2                &  15.3                &  55.169438           &  23.881275           & 3                   \\\\\n",
       "\t28 & Norway               &   9.7                &   3.7                & 0.3                  &  0.0                 & 28.8                 &  42.5                &  39.9                &  60.472024           &   8.468946           & 1                   \\\\\n",
       "\t51 & Bangladesh           &   4.5                &  17.8                & 0.4                  &  0.0                 &  0.3                 &  22.9                &  57.0                &  23.684994           &  90.356331           & 4                   \\\\\n",
       "\t8 & Peru                 &   8.5                &   3.1                & 0.5                  &  0.0                 &  4.5                 &  16.6                &  35.5                &  -9.189967           & -75.015152           & 5                   \\\\\n",
       "\t47 & Algeria              &  14.9                &  24.0                & 0.7                  &  0.0                 &  0.1                 &  39.7                & 104.8                &  28.033886           &   1.659626           & 4                   \\\\\n",
       "\t3 & Argentina            &  22.3                &  38.8                & 1.1                  &  1.8                 &  9.2                 &  73.3                & 164.2                & -38.416097           & -63.616672           & 4                   \\\\\n",
       "\t48 & Egypt                &  33.7                &  38.3                & 1.1                  &  0.0                 &  3.1                 &  76.3                & 197.8                &  26.820553           &  30.802498           & 4                   \\\\\n",
       "\t23 & Republic\\_of\\_Ireland  &   8.0                    &   4.3                    & 1.3                      &  0.0                     &  0.2                     &  13.9                    &  40.1                    &  53.412910               &  -8.243890               & 6                       \\\\\n",
       "\t41 & Uzbekistan           &   4.9                &  43.9                & 1.4                  &  0.0                 &  1.4                 &  51.5                & 123.5                &  41.377491           &  64.585262           & 4                   \\\\\n",
       "\t42 & Iran                 &  83.6                & 118.5                & 1.4                  &  0.0                 &  1.3                 & 204.8                & 540.3                &  32.427908           &  53.688046           & 4                   \\\\\n",
       "\t35 & Sweden               &  13.7                &   1.0                & 1.6                  & 11.9                 & 14.9                 &  43.2                &  50.9                &  60.128161           &  18.643501           & 1                   \\\\\n",
       "\t58 & New\\_Zealand          &   6.8                  &   3.6                  & 1.7                    &  0.0                   &  5.5                   &  17.6                  &  36.2                  & -40.900557             & 174.885971             & 5                     \\\\\n",
       "\t10 & Austria              &  13.0                &   8.4                & 2.3                  &  0.0                 &  8.3                 &  32.0                &  68.8                &  47.516231           &  14.550072           & 5                   \\\\\n",
       "\t21 & Hungary              &   7.3                &   9.1                & 2.5                  &  3.5                 &  0.1                 &  22.4                &  53.6                &  47.162494           &  19.503304           & 4                   \\\\\n",
       "\t6 & Colombia             &   8.8                &   7.8                & 3.1                  &  0.0                 &  9.3                 &  29.0                &  57.9                &   4.570868           & -74.297333           & 5                   \\\\\n",
       "\t30 & Portugal             &  12.9                &   3.9                & 3.6                  &  0.0                 &  2.0                 &  22.3                &  62.7                &  39.399872           &  -8.224454           & 6                   \\\\\n",
       "\t33 & Slovakia             &   3.9                &   5.1                & 3.6                  &  3.2                 &  1.1                 &  16.8                &  38.1                &  48.669026           &  19.699024           & 4                   \\\\\n",
       "\t17 & Finland              &   9.9                &   3.2                & 3.7                  &  5.4                 &  2.9                 &  25.0                &  52.5                &  61.924110           &  25.748151           & 6                   \\\\\n",
       "\t... & ... & ... & ... & ... & ... & ... & ... & ... & ... & ... & ...\\\\\n",
       "\t57 & Malaysia            &  21.4               &  28.3               &  4.0                &  0.0                &  2.0                &  55.7               &  148.0              &   4.210484          &  101.975766         & 4                  \\\\\n",
       "\t5 & Chile               &  15.4               &   3.0               &  4.1                &  0.0                &  5.6                &  28.1               &   70.3              & -35.675147          &  -71.542969         & 5                  \\\\\n",
       "\t59 & Pakistan            &  20.6               &  34.1               &  4.3                &  0.6                &  6.2                &  65.8               &  160.4              &  30.375321          &   69.345116         & 4                  \\\\\n",
       "\t13 & Belgium             &  38.5               &  15.6               &  4.6                & 10.7                &  0.1                &  69.4               &  172.8              &  50.503887          &    4.469936         & 6                  \\\\\n",
       "\t31 & Romania             &   9.9               &  12.2               &  6.2                &  2.7                &  3.6                &  34.6               &   83.7              &  45.943161          &   24.966760         & 4                  \\\\\n",
       "\t14 & Bulgaria            &   4.4               &   2.2               &  6.3                &  3.5                &  0.9                &  17.4               &   43.7              &  42.733883          &   25.485830         & 2                  \\\\\n",
       "\t2 & Mexico              &  85.6               &  62.7               &  6.8                &  2.2                &  6.0                & 163.2               &  436.8              &  23.634501          & -102.552784         & 6                  \\\\\n",
       "\t60 & Philippines         &  12.1               &   3.0               &  6.8                &  0.0                &  2.2                &  24.2               &   71.3              &  12.879721          &  121.774017         & 6                  \\\\\n",
       "\t53 & China\\_Hong\\_Kong\\_SAR &  14.0                     &   2.3                     &  7.6                      &  0.0                      &  0.0                      &  23.9                     &   78.5                    &  22.287170                &  114.150969               & 6                        \\\\\n",
       "\t20 & Greece              &  20.2               &   3.0               &  7.9                &  0.0                &  1.6                &  32.7               &  100.4              &  39.074208          &   21.824312         & 6                  \\\\\n",
       "\t27 & Netherlands         &  49.4               &  35.0               &  7.9                &  1.0                &  0.0                &  93.3               &  265.1              &  52.132633          &    5.291266         & 6                  \\\\\n",
       "\t18 & France              &  87.5               &  38.4               & 10.1                & 92.9                & 13.1                & 241.9               &  398.7              &  46.227638          &    2.213749         & 3                  \\\\\n",
       "\t34 & Spain               &  72.9               &  31.1               & 10.6                & 12.0                &  6.1                & 132.6               &  338.7              &  40.463667          &   -3.749220         & 6                  \\\\\n",
       "\t4 & Brazil              & 104.3               &  18.3               & 11.7                &  2.9                & 88.5                & 225.7               &  409.4              & -14.235004          &  -51.925280         & 5                  \\\\\n",
       "\t24 & Italy               &  75.1               &  64.5               & 13.4                &  0.0                & 10.5                & 163.4               &  434.8              &  41.871940          &   12.567380         & 6                  \\\\\n",
       "\t64 & Thailand            &  44.2               &  35.3               & 14.1                &  0.0                &  1.5                &  95.1               &  274.4              &  15.870032          &  100.992541         & 6                  \\\\\n",
       "\t15 & Czech\\_Republic      &   9.7                 &   7.4                 & 15.8                  &  6.1                  &  0.7                  &  39.6                 &  109.5                &  49.817492            &   15.472962           & 2                    \\\\\n",
       "\t1 & Canada              &  97.0               &  85.2               & 26.5                & 20.3                & 90.2                & 319.2               &  602.7              &  56.130366          & -106.346771         & 5                  \\\\\n",
       "\t37 & Turkey              &  28.8               &  28.9               & 27.2                &  0.0                &  8.1                &  93.0               &  264.1              &  38.963745          &   35.243322         & 2                  \\\\\n",
       "\t40 & United\\_Kingdom      &  74.4                 &  77.9                 & 29.7                  & 15.7                  &  1.2                  & 198.9                 &  529.1                &  55.378051            &   -3.435973           & 4                    \\\\\n",
       "\t55 & Indonesia           &  62.0               &  33.0               & 30.5                &  0.0                &  2.7                & 128.2               &  388.5              &  -0.789275          &  113.921327         & 6                  \\\\\n",
       "\t25 & Kazakhstan          &  12.0               &  17.7               & 33.0                &  0.0                &  1.7                &  64.4               &  209.2              &  48.019573          &   66.923684         & 2                  \\\\\n",
       "\t39 & Ukraine             &  14.1               &  42.3               & 35.0                & 18.6                &  2.7                & 112.5               &  280.8              &  48.379433          &   31.165580         & 4                  \\\\\n",
       "\t63 & Taiwan              &  46.6               &  10.2               & 38.7                &  9.4                &  0.8                & 105.7               &  320.3              &  23.697810          &  120.960515         & 6                  \\\\\n",
       "\t50 & Australia           &  42.7               &  23.1               & 50.8                &  0.0                &  2.6                & 119.2               &  386.6              & -25.274398          &  133.775136         & 2                  \\\\\n",
       "\t29 & Poland              &  25.5               &  12.3               & 53.9                &  0.0                &  0.7                &  92.3               &  320.4              &  51.919438          &   19.145136         & 2                  \\\\\n",
       "\t62 & South\\_Korea         & 104.3                 &  30.4                 & 68.6                  & 33.4                  &  0.7                  & 237.5                 &  663.3                &  35.907757            &  127.766922           & 6                    \\\\\n",
       "\t19 & Germany             & 113.9               &  70.2               & 71.0                & 30.5                &  4.2                & 289.8               &  795.6              &  51.165691          &   10.451526         & 6                  \\\\\n",
       "\t32 & Russian\\_Federation  & 124.9                 & 350.7                 & 82.9                  & 37.0                  & 39.8                  & 635.3                 & 1535.3                &  61.524010            &  105.318756           & 4                    \\\\\n",
       "\t49 & South\\_Africa        &  24.3                 &   0.0                 & 99.4                  &  2.7                  &  0.2                  & 126.8                 &  468.6                & -30.559482            &   22.937506           & 2                    \\\\\n",
       "\\end{tabular}\n"
      ],
      "text/markdown": [
       "\n",
       "| <!--/--> | Country | Oil | Gas | Coal | Nuclear | Hydro | Total2009 | CO2Emm | Lat | Long | Cluster | \n",
       "|---|---|---|---|---|---|---|---|---|---|---|---|---|---|---|---|---|---|---|---|---|---|---|---|---|---|---|---|---|---|---|---|---|---|---|---|---|---|---|---|---|---|---|---|---|---|---|---|---|---|---|---|---|---|---|---|---|---|---|---|---|\n",
       "| 7 | Ecuador              |   9.9                |   0.4                | 0.0                  |  0.0                 |  2.1                 |  12.4                |  31.3                |  -1.831239           | -78.183406           | 5                    | \n",
       "| 9 | Venezuela            |  27.4                |  26.8                | 0.0                  |  0.0                 | 19.5                 |  73.6                | 147.0                |   6.423750           | -66.589730           | 5                    | \n",
       "| 11 | Azerbaijan           |   2.8                |   6.9                | 0.0                  |  0.0                 |  0.5                 |  10.2                |  24.8                |  40.143105           |  47.576927           | 4                    | \n",
       "| 12 | Belarus              |   9.3                |  14.5                | 0.0                  |  0.0                 |  0.0                 |  23.9                |  62.9                |  53.709807           |  27.953389           | 4                    | \n",
       "| 38 | Turkmenistan         |   5.2                |  17.8                | 0.0                  |  0.0                 |  0.0                 |  23.0                |  57.9                |  38.969719           |  59.556278           | 4                    | \n",
       "| 43 | Kuwait               |  19.2                |  12.1                | 0.0                  |  0.0                 |  0.0                 |  31.3                |  87.2                |  29.311660           |  47.481766           | 6                    | \n",
       "| 44 | Qatar                |   8.2                |  19.0                | 0.0                  |  0.0                 |  0.0                 |  27.2                |  69.8                |  25.354826           |  51.183884           | 4                    | \n",
       "| 45 | Saudi_Arabia         | 121.8                |  69.7                | 0.0                  |  0.0                 |  0.0                 | 191.5                | 537.6                |  23.885942           |  45.079162           | 6                    | \n",
       "| 46 | United_Arab_Emirates |  21.8                |  53.2                | 0.0                  |  0.0                 |  0.0                 |  75.0                | 191.9                |  23.424076           |  53.847818           | 4                    | \n",
       "| 61 | Singapore            |  52.1                |   8.7                | 0.0                  |  0.0                 |  0.0                 |  60.8                | 180.2                |   1.352083           | 103.819836           | 6                    | \n",
       "| 22 | Iceland              |   1.0                |   0.0                | 0.1                  |  0.0                 |  2.8                 |   3.9                |   3.5                |  64.963051           | -19.020835           | 1                    | \n",
       "| 36 | Switzerland          |  12.3                |   2.7                | 0.1                  |  6.2                 |  8.1                 |  29.4                |  44.5                |  46.818188           |   8.227512           | 1                    | \n",
       "| 26 | Lithuania            |   2.9                |   2.5                | 0.2                  |  2.5                 |  0.3                 |   8.2                |  15.3                |  55.169438           |  23.881275           | 3                    | \n",
       "| 28 | Norway               |   9.7                |   3.7                | 0.3                  |  0.0                 | 28.8                 |  42.5                |  39.9                |  60.472024           |   8.468946           | 1                    | \n",
       "| 51 | Bangladesh           |   4.5                |  17.8                | 0.4                  |  0.0                 |  0.3                 |  22.9                |  57.0                |  23.684994           |  90.356331           | 4                    | \n",
       "| 8 | Peru                 |   8.5                |   3.1                | 0.5                  |  0.0                 |  4.5                 |  16.6                |  35.5                |  -9.189967           | -75.015152           | 5                    | \n",
       "| 47 | Algeria              |  14.9                |  24.0                | 0.7                  |  0.0                 |  0.1                 |  39.7                | 104.8                |  28.033886           |   1.659626           | 4                    | \n",
       "| 3 | Argentina            |  22.3                |  38.8                | 1.1                  |  1.8                 |  9.2                 |  73.3                | 164.2                | -38.416097           | -63.616672           | 4                    | \n",
       "| 48 | Egypt                |  33.7                |  38.3                | 1.1                  |  0.0                 |  3.1                 |  76.3                | 197.8                |  26.820553           |  30.802498           | 4                    | \n",
       "| 23 | Republic_of_Ireland  |   8.0                |   4.3                | 1.3                  |  0.0                 |  0.2                 |  13.9                |  40.1                |  53.412910           |  -8.243890           | 6                    | \n",
       "| 41 | Uzbekistan           |   4.9                |  43.9                | 1.4                  |  0.0                 |  1.4                 |  51.5                | 123.5                |  41.377491           |  64.585262           | 4                    | \n",
       "| 42 | Iran                 |  83.6                | 118.5                | 1.4                  |  0.0                 |  1.3                 | 204.8                | 540.3                |  32.427908           |  53.688046           | 4                    | \n",
       "| 35 | Sweden               |  13.7                |   1.0                | 1.6                  | 11.9                 | 14.9                 |  43.2                |  50.9                |  60.128161           |  18.643501           | 1                    | \n",
       "| 58 | New_Zealand          |   6.8                |   3.6                | 1.7                  |  0.0                 |  5.5                 |  17.6                |  36.2                | -40.900557           | 174.885971           | 5                    | \n",
       "| 10 | Austria              |  13.0                |   8.4                | 2.3                  |  0.0                 |  8.3                 |  32.0                |  68.8                |  47.516231           |  14.550072           | 5                    | \n",
       "| 21 | Hungary              |   7.3                |   9.1                | 2.5                  |  3.5                 |  0.1                 |  22.4                |  53.6                |  47.162494           |  19.503304           | 4                    | \n",
       "| 6 | Colombia             |   8.8                |   7.8                | 3.1                  |  0.0                 |  9.3                 |  29.0                |  57.9                |   4.570868           | -74.297333           | 5                    | \n",
       "| 30 | Portugal             |  12.9                |   3.9                | 3.6                  |  0.0                 |  2.0                 |  22.3                |  62.7                |  39.399872           |  -8.224454           | 6                    | \n",
       "| 33 | Slovakia             |   3.9                |   5.1                | 3.6                  |  3.2                 |  1.1                 |  16.8                |  38.1                |  48.669026           |  19.699024           | 4                    | \n",
       "| 17 | Finland              |   9.9                |   3.2                | 3.7                  |  5.4                 |  2.9                 |  25.0                |  52.5                |  61.924110           |  25.748151           | 6                    | \n",
       "| ... | ... | ... | ... | ... | ... | ... | ... | ... | ... | ... | ... | \n",
       "| 57 | Malaysia            |  21.4               |  28.3               |  4.0                |  0.0                |  2.0                |  55.7               |  148.0              |   4.210484          |  101.975766         | 4                   | \n",
       "| 5 | Chile               |  15.4               |   3.0               |  4.1                |  0.0                |  5.6                |  28.1               |   70.3              | -35.675147          |  -71.542969         | 5                   | \n",
       "| 59 | Pakistan            |  20.6               |  34.1               |  4.3                |  0.6                |  6.2                |  65.8               |  160.4              |  30.375321          |   69.345116         | 4                   | \n",
       "| 13 | Belgium             |  38.5               |  15.6               |  4.6                | 10.7                |  0.1                |  69.4               |  172.8              |  50.503887          |    4.469936         | 6                   | \n",
       "| 31 | Romania             |   9.9               |  12.2               |  6.2                |  2.7                |  3.6                |  34.6               |   83.7              |  45.943161          |   24.966760         | 4                   | \n",
       "| 14 | Bulgaria            |   4.4               |   2.2               |  6.3                |  3.5                |  0.9                |  17.4               |   43.7              |  42.733883          |   25.485830         | 2                   | \n",
       "| 2 | Mexico              |  85.6               |  62.7               |  6.8                |  2.2                |  6.0                | 163.2               |  436.8              |  23.634501          | -102.552784         | 6                   | \n",
       "| 60 | Philippines         |  12.1               |   3.0               |  6.8                |  0.0                |  2.2                |  24.2               |   71.3              |  12.879721          |  121.774017         | 6                   | \n",
       "| 53 | China_Hong_Kong_SAR |  14.0               |   2.3               |  7.6                |  0.0                |  0.0                |  23.9               |   78.5              |  22.287170          |  114.150969         | 6                   | \n",
       "| 20 | Greece              |  20.2               |   3.0               |  7.9                |  0.0                |  1.6                |  32.7               |  100.4              |  39.074208          |   21.824312         | 6                   | \n",
       "| 27 | Netherlands         |  49.4               |  35.0               |  7.9                |  1.0                |  0.0                |  93.3               |  265.1              |  52.132633          |    5.291266         | 6                   | \n",
       "| 18 | France              |  87.5               |  38.4               | 10.1                | 92.9                | 13.1                | 241.9               |  398.7              |  46.227638          |    2.213749         | 3                   | \n",
       "| 34 | Spain               |  72.9               |  31.1               | 10.6                | 12.0                |  6.1                | 132.6               |  338.7              |  40.463667          |   -3.749220         | 6                   | \n",
       "| 4 | Brazil              | 104.3               |  18.3               | 11.7                |  2.9                | 88.5                | 225.7               |  409.4              | -14.235004          |  -51.925280         | 5                   | \n",
       "| 24 | Italy               |  75.1               |  64.5               | 13.4                |  0.0                | 10.5                | 163.4               |  434.8              |  41.871940          |   12.567380         | 6                   | \n",
       "| 64 | Thailand            |  44.2               |  35.3               | 14.1                |  0.0                |  1.5                |  95.1               |  274.4              |  15.870032          |  100.992541         | 6                   | \n",
       "| 15 | Czech_Republic      |   9.7               |   7.4               | 15.8                |  6.1                |  0.7                |  39.6               |  109.5              |  49.817492          |   15.472962         | 2                   | \n",
       "| 1 | Canada              |  97.0               |  85.2               | 26.5                | 20.3                | 90.2                | 319.2               |  602.7              |  56.130366          | -106.346771         | 5                   | \n",
       "| 37 | Turkey              |  28.8               |  28.9               | 27.2                |  0.0                |  8.1                |  93.0               |  264.1              |  38.963745          |   35.243322         | 2                   | \n",
       "| 40 | United_Kingdom      |  74.4               |  77.9               | 29.7                | 15.7                |  1.2                | 198.9               |  529.1              |  55.378051          |   -3.435973         | 4                   | \n",
       "| 55 | Indonesia           |  62.0               |  33.0               | 30.5                |  0.0                |  2.7                | 128.2               |  388.5              |  -0.789275          |  113.921327         | 6                   | \n",
       "| 25 | Kazakhstan          |  12.0               |  17.7               | 33.0                |  0.0                |  1.7                |  64.4               |  209.2              |  48.019573          |   66.923684         | 2                   | \n",
       "| 39 | Ukraine             |  14.1               |  42.3               | 35.0                | 18.6                |  2.7                | 112.5               |  280.8              |  48.379433          |   31.165580         | 4                   | \n",
       "| 63 | Taiwan              |  46.6               |  10.2               | 38.7                |  9.4                |  0.8                | 105.7               |  320.3              |  23.697810          |  120.960515         | 6                   | \n",
       "| 50 | Australia           |  42.7               |  23.1               | 50.8                |  0.0                |  2.6                | 119.2               |  386.6              | -25.274398          |  133.775136         | 2                   | \n",
       "| 29 | Poland              |  25.5               |  12.3               | 53.9                |  0.0                |  0.7                |  92.3               |  320.4              |  51.919438          |   19.145136         | 2                   | \n",
       "| 62 | South_Korea         | 104.3               |  30.4               | 68.6                | 33.4                |  0.7                | 237.5               |  663.3              |  35.907757          |  127.766922         | 6                   | \n",
       "| 19 | Germany             | 113.9               |  70.2               | 71.0                | 30.5                |  4.2                | 289.8               |  795.6              |  51.165691          |   10.451526         | 6                   | \n",
       "| 32 | Russian_Federation  | 124.9               | 350.7               | 82.9                | 37.0                | 39.8                | 635.3               | 1535.3              |  61.524010          |  105.318756         | 4                   | \n",
       "| 49 | South_Africa        |  24.3               |   0.0               | 99.4                |  2.7                |  0.2                | 126.8               |  468.6              | -30.559482          |   22.937506         | 2                   | \n",
       "\n",
       "\n"
      ],
      "text/plain": [
       "    Country              Oil   Gas   Coal Nuclear Hydro Total2009 CO2Emm\n",
       "7   Ecuador                9.9   0.4 0.0   0.0     2.1   12.4      31.3 \n",
       "9   Venezuela             27.4  26.8 0.0   0.0    19.5   73.6     147.0 \n",
       "11  Azerbaijan             2.8   6.9 0.0   0.0     0.5   10.2      24.8 \n",
       "12  Belarus                9.3  14.5 0.0   0.0     0.0   23.9      62.9 \n",
       "38  Turkmenistan           5.2  17.8 0.0   0.0     0.0   23.0      57.9 \n",
       "43  Kuwait                19.2  12.1 0.0   0.0     0.0   31.3      87.2 \n",
       "44  Qatar                  8.2  19.0 0.0   0.0     0.0   27.2      69.8 \n",
       "45  Saudi_Arabia         121.8  69.7 0.0   0.0     0.0  191.5     537.6 \n",
       "46  United_Arab_Emirates  21.8  53.2 0.0   0.0     0.0   75.0     191.9 \n",
       "61  Singapore             52.1   8.7 0.0   0.0     0.0   60.8     180.2 \n",
       "22  Iceland                1.0   0.0 0.1   0.0     2.8    3.9       3.5 \n",
       "36  Switzerland           12.3   2.7 0.1   6.2     8.1   29.4      44.5 \n",
       "26  Lithuania              2.9   2.5 0.2   2.5     0.3    8.2      15.3 \n",
       "28  Norway                 9.7   3.7 0.3   0.0    28.8   42.5      39.9 \n",
       "51  Bangladesh             4.5  17.8 0.4   0.0     0.3   22.9      57.0 \n",
       "8   Peru                   8.5   3.1 0.5   0.0     4.5   16.6      35.5 \n",
       "47  Algeria               14.9  24.0 0.7   0.0     0.1   39.7     104.8 \n",
       "3   Argentina             22.3  38.8 1.1   1.8     9.2   73.3     164.2 \n",
       "48  Egypt                 33.7  38.3 1.1   0.0     3.1   76.3     197.8 \n",
       "23  Republic_of_Ireland    8.0   4.3 1.3   0.0     0.2   13.9      40.1 \n",
       "41  Uzbekistan             4.9  43.9 1.4   0.0     1.4   51.5     123.5 \n",
       "42  Iran                  83.6 118.5 1.4   0.0     1.3  204.8     540.3 \n",
       "35  Sweden                13.7   1.0 1.6  11.9    14.9   43.2      50.9 \n",
       "58  New_Zealand            6.8   3.6 1.7   0.0     5.5   17.6      36.2 \n",
       "10  Austria               13.0   8.4 2.3   0.0     8.3   32.0      68.8 \n",
       "21  Hungary                7.3   9.1 2.5   3.5     0.1   22.4      53.6 \n",
       "6   Colombia               8.8   7.8 3.1   0.0     9.3   29.0      57.9 \n",
       "30  Portugal              12.9   3.9 3.6   0.0     2.0   22.3      62.7 \n",
       "33  Slovakia               3.9   5.1 3.6   3.2     1.1   16.8      38.1 \n",
       "17  Finland                9.9   3.2 3.7   5.4     2.9   25.0      52.5 \n",
       "... ...                  ...   ...   ...  ...     ...   ...       ...   \n",
       "57  Malaysia              21.4  28.3  4.0  0.0     2.0   55.7      148.0\n",
       "5   Chile                 15.4   3.0  4.1  0.0     5.6   28.1       70.3\n",
       "59  Pakistan              20.6  34.1  4.3  0.6     6.2   65.8      160.4\n",
       "13  Belgium               38.5  15.6  4.6 10.7     0.1   69.4      172.8\n",
       "31  Romania                9.9  12.2  6.2  2.7     3.6   34.6       83.7\n",
       "14  Bulgaria               4.4   2.2  6.3  3.5     0.9   17.4       43.7\n",
       "2   Mexico                85.6  62.7  6.8  2.2     6.0  163.2      436.8\n",
       "60  Philippines           12.1   3.0  6.8  0.0     2.2   24.2       71.3\n",
       "53  China_Hong_Kong_SAR   14.0   2.3  7.6  0.0     0.0   23.9       78.5\n",
       "20  Greece                20.2   3.0  7.9  0.0     1.6   32.7      100.4\n",
       "27  Netherlands           49.4  35.0  7.9  1.0     0.0   93.3      265.1\n",
       "18  France                87.5  38.4 10.1 92.9    13.1  241.9      398.7\n",
       "34  Spain                 72.9  31.1 10.6 12.0     6.1  132.6      338.7\n",
       "4   Brazil               104.3  18.3 11.7  2.9    88.5  225.7      409.4\n",
       "24  Italy                 75.1  64.5 13.4  0.0    10.5  163.4      434.8\n",
       "64  Thailand              44.2  35.3 14.1  0.0     1.5   95.1      274.4\n",
       "15  Czech_Republic         9.7   7.4 15.8  6.1     0.7   39.6      109.5\n",
       "1   Canada                97.0  85.2 26.5 20.3    90.2  319.2      602.7\n",
       "37  Turkey                28.8  28.9 27.2  0.0     8.1   93.0      264.1\n",
       "40  United_Kingdom        74.4  77.9 29.7 15.7     1.2  198.9      529.1\n",
       "55  Indonesia             62.0  33.0 30.5  0.0     2.7  128.2      388.5\n",
       "25  Kazakhstan            12.0  17.7 33.0  0.0     1.7   64.4      209.2\n",
       "39  Ukraine               14.1  42.3 35.0 18.6     2.7  112.5      280.8\n",
       "63  Taiwan                46.6  10.2 38.7  9.4     0.8  105.7      320.3\n",
       "50  Australia             42.7  23.1 50.8  0.0     2.6  119.2      386.6\n",
       "29  Poland                25.5  12.3 53.9  0.0     0.7   92.3      320.4\n",
       "62  South_Korea          104.3  30.4 68.6 33.4     0.7  237.5      663.3\n",
       "19  Germany              113.9  70.2 71.0 30.5     4.2  289.8      795.6\n",
       "32  Russian_Federation   124.9 350.7 82.9 37.0    39.8  635.3     1535.3\n",
       "49  South_Africa          24.3   0.0 99.4  2.7     0.2  126.8      468.6\n",
       "    Lat        Long        Cluster\n",
       "7    -1.831239 -78.183406  5      \n",
       "9     6.423750 -66.589730  5      \n",
       "11   40.143105  47.576927  4      \n",
       "12   53.709807  27.953389  4      \n",
       "38   38.969719  59.556278  4      \n",
       "43   29.311660  47.481766  6      \n",
       "44   25.354826  51.183884  4      \n",
       "45   23.885942  45.079162  6      \n",
       "46   23.424076  53.847818  4      \n",
       "61    1.352083 103.819836  6      \n",
       "22   64.963051 -19.020835  1      \n",
       "36   46.818188   8.227512  1      \n",
       "26   55.169438  23.881275  3      \n",
       "28   60.472024   8.468946  1      \n",
       "51   23.684994  90.356331  4      \n",
       "8    -9.189967 -75.015152  5      \n",
       "47   28.033886   1.659626  4      \n",
       "3   -38.416097 -63.616672  4      \n",
       "48   26.820553  30.802498  4      \n",
       "23   53.412910  -8.243890  6      \n",
       "41   41.377491  64.585262  4      \n",
       "42   32.427908  53.688046  4      \n",
       "35   60.128161  18.643501  1      \n",
       "58  -40.900557 174.885971  5      \n",
       "10   47.516231  14.550072  5      \n",
       "21   47.162494  19.503304  4      \n",
       "6     4.570868 -74.297333  5      \n",
       "30   39.399872  -8.224454  6      \n",
       "33   48.669026  19.699024  4      \n",
       "17   61.924110  25.748151  6      \n",
       "... ...        ...         ...    \n",
       "57    4.210484  101.975766 4      \n",
       "5   -35.675147  -71.542969 5      \n",
       "59   30.375321   69.345116 4      \n",
       "13   50.503887    4.469936 6      \n",
       "31   45.943161   24.966760 4      \n",
       "14   42.733883   25.485830 2      \n",
       "2    23.634501 -102.552784 6      \n",
       "60   12.879721  121.774017 6      \n",
       "53   22.287170  114.150969 6      \n",
       "20   39.074208   21.824312 6      \n",
       "27   52.132633    5.291266 6      \n",
       "18   46.227638    2.213749 3      \n",
       "34   40.463667   -3.749220 6      \n",
       "4   -14.235004  -51.925280 5      \n",
       "24   41.871940   12.567380 6      \n",
       "64   15.870032  100.992541 6      \n",
       "15   49.817492   15.472962 2      \n",
       "1    56.130366 -106.346771 5      \n",
       "37   38.963745   35.243322 2      \n",
       "40   55.378051   -3.435973 4      \n",
       "55   -0.789275  113.921327 6      \n",
       "25   48.019573   66.923684 2      \n",
       "39   48.379433   31.165580 4      \n",
       "63   23.697810  120.960515 6      \n",
       "50  -25.274398  133.775136 2      \n",
       "29   51.919438   19.145136 2      \n",
       "62   35.907757  127.766922 6      \n",
       "19   51.165691   10.451526 6      \n",
       "32   61.524010  105.318756 4      \n",
       "49  -30.559482   22.937506 2      "
      ]
     },
     "metadata": {},
     "output_type": "display_data"
    },
    {
     "data": {
      "text/html": [
       "<ol class=list-inline>\n",
       "\t<li>61</li>\n",
       "\t<li>11</li>\n",
       "</ol>\n"
      ],
      "text/latex": [
       "\\begin{enumerate*}\n",
       "\\item 61\n",
       "\\item 11\n",
       "\\end{enumerate*}\n"
      ],
      "text/markdown": [
       "1. 61\n",
       "2. 11\n",
       "\n",
       "\n"
      ],
      "text/plain": [
       "[1] 61 11"
      ]
     },
     "metadata": {},
     "output_type": "display_data"
    }
   ],
   "source": [
    "sortEnergyDataRed<-sortEnergyData[1:(numObs-4),]\n",
    "sortEnergyDataRed\n",
    "dim(sortEnergyDataRed)"
   ]
  },
  {
   "cell_type": "code",
   "execution_count": 52,
   "metadata": {
    "ExecuteTime": {
     "end_time": "2017-09-12T05:03:28.585000Z",
     "start_time": "2017-09-12T05:03:28.538Z"
    }
   },
   "outputs": [
    {
     "name": "stdout",
     "output_type": "stream",
     "text": [
      "Mean value of coal consumption all:  49.44769\n",
      "Mean value of coal consumption reduced:  13.50984"
     ]
    }
   ],
   "source": [
    "cat(\"Mean value of coal consumption all: \",mean(sortEnergyData$Coal))\n",
    "cat(\"\\nMean value of coal consumption reduced: \",mean(sortEnergyDataRed$Coal))"
   ]
  },
  {
   "cell_type": "code",
   "execution_count": 53,
   "metadata": {
    "ExecuteTime": {
     "end_time": "2017-09-12T05:04:06.131000Z",
     "start_time": "2017-09-12T05:04:06.106Z"
    }
   },
   "outputs": [
    {
     "name": "stdout",
     "output_type": "stream",
     "text": [
      "Median value of coal consumption all:  4.1\n",
      "Median value of coal consumption reduced:  4"
     ]
    }
   ],
   "source": [
    "cat(\"Median value of coal consumption all: \",median(sortEnergyData$Coal))\n",
    "cat(\"\\nMedian value of coal consumption reduced: \",median(sortEnergyDataRed$Coal))"
   ]
  },
  {
   "cell_type": "markdown",
   "metadata": {},
   "source": [
    "As can be seen in this experiment, the median is a much more robust statistic than the arithmetic mean value."
   ]
  },
  {
   "cell_type": "markdown",
   "metadata": {},
   "source": [
    "## Exercise 3 Visualization\n",
    "1. Read data from [HRV data .csv file](./data/spikeeHRVjm.csv). In order to configure the arguments of [`read.csv()`](https://stat.ethz.ch/R-manual/R-devel/library/utils/html/read.table.html), first the file should be inspected in a text-editor. This file contains short-time EKG-recordings of a person. The columns of the file contain different HRV-parameters (Heart Rate Variability). These parameters indicate the state of the Autonomic Nervous System (ANS) and can be interpreted as markers for physical fitness. \n",
    "2. Calculate summary statistics of the imported HRV-data. What is the mean value of the average heartrate (Avg.HR)?\n",
    "3. For all numeric columns, plot a histogram of the column values. The set of all histograms shall be arranged in a grid with two columns. Configure the graphical parameter `mai`-such that the histograms are well aranged. In each histogram the title shall contain the parameter-name. Then the label for the x-axis can be ommitted. Plot each histogram in a different color from an arbitrary *Brewer*-color-palette.\n",
    "4. Find a plot, which allows a fast visual investigation of correlations between parameters. Generate such a visualisation in order to analyse the correlation between\n",
    "\n",
    "    1. Avg.HR and RMSSD\n",
    "    2. HF and RMSSD\n",
    "    3. HF and LF\n",
    "    \n",
    "  Which parameter pairs correlate and how?\n",
    "5. Plot the time-series data of RMSSD over the ID.\n",
    "6. The code `ma <- function(x,n=5){filter(x,rep(1/n,n), sides=2)}` implements a *moving average filter* of length $n=5$. Apply this function to the RMSSD time-series data and plot the smoothed data over the ID. Repeat this experiment for filter lengths of $n=11$ and $n=21$."
   ]
  },
  {
   "cell_type": "code",
   "execution_count": 16,
   "metadata": {
    "ExecuteTime": {
     "end_time": "2017-09-13T12:35:12.778000Z",
     "start_time": "2017-09-13T12:35:12.746Z"
    }
   },
   "outputs": [],
   "source": [
    "hrvData=read.csv(file=\"./data/spikeeHRVjm.csv\", header=TRUE, sep=\";\", dec=\",\")"
   ]
  },
  {
   "cell_type": "code",
   "execution_count": 17,
   "metadata": {
    "ExecuteTime": {
     "end_time": "2017-09-13T12:35:15.752000Z",
     "start_time": "2017-09-13T12:35:15.700Z"
    }
   },
   "outputs": [
    {
     "data": {
      "text/html": [
       "<table>\n",
       "<thead><tr><th scope=col>ID</th><th scope=col>Tag</th><th scope=col>Start</th><th scope=col>Dauer</th><th scope=col>Avg..HR</th><th scope=col>RMSSD</th><th scope=col>SDNN</th><th scope=col>pNN50</th><th scope=col>RRmin</th><th scope=col>RRmean</th><th scope=col>RRmax</th><th scope=col>LF</th><th scope=col>HF</th><th scope=col>LF.HF</th><th scope=col>Total</th></tr></thead>\n",
       "<tbody>\n",
       "\t<tr><td>1       </td><td>17.03.17</td><td>06:08:55</td><td>0:08:57 </td><td>42.61727</td><td>130.33  </td><td>116.80  </td><td>58.42   </td><td>1117    </td><td>1407.88 </td><td>1758    </td><td>4537.05 </td><td>1786.91 </td><td>2.54    </td><td> 6489.09</td></tr>\n",
       "\t<tr><td>2       </td><td>16.03.17</td><td>06:09:06</td><td>0:09:59 </td><td>44.02571</td><td>126.81  </td><td>148.24  </td><td>70.94   </td><td> 979    </td><td>1362.84 </td><td>1755    </td><td>5277.45 </td><td>3067.23 </td><td>1.72    </td><td> 8999.88</td></tr>\n",
       "\t<tr><td>3       </td><td>15.03.17</td><td>06:10:05</td><td>0:10:00 </td><td>41.56161</td><td>172.43  </td><td>150.37  </td><td>81.16   </td><td>1018    </td><td>1443.64 </td><td>1805    </td><td>7591.26 </td><td>7359.64 </td><td>1.03    </td><td>15269.42</td></tr>\n",
       "\t<tr><td>4       </td><td>14.03.17</td><td>06:10:08</td><td>0:10:00 </td><td>42.94211</td><td>170.64  </td><td>191.75  </td><td>76.64   </td><td>1025    </td><td>1397.23 </td><td>1974    </td><td>5687.76 </td><td>8554.06 </td><td>0.66    </td><td>14614.74</td></tr>\n",
       "\t<tr><td>5       </td><td>13.03.17</td><td>06:25:49</td><td>0:10:00 </td><td>42.98795</td><td>139.66  </td><td>165.57  </td><td>76.17   </td><td>1012    </td><td>1395.74 </td><td>1742    </td><td>4188.03 </td><td>4258.05 </td><td>0.98    </td><td> 8746.70</td></tr>\n",
       "\t<tr><td>6       </td><td>12.03.17</td><td>07:02:51</td><td>0:09:10 </td><td>43.66749</td><td>136.07  </td><td>174.51  </td><td>68.59   </td><td> 924    </td><td>1374.02 </td><td>1832    </td><td>3868.90 </td><td>6005.90 </td><td>0.64    </td><td> 9815.63</td></tr>\n",
       "</tbody>\n",
       "</table>\n"
      ],
      "text/latex": [
       "\\begin{tabular}{r|lllllllllllllll}\n",
       " ID & Tag & Start & Dauer & Avg..HR & RMSSD & SDNN & pNN50 & RRmin & RRmean & RRmax & LF & HF & LF.HF & Total\\\\\n",
       "\\hline\n",
       "\t 1        & 17.03.17 & 06:08:55 & 0:08:57  & 42.61727 & 130.33   & 116.80   & 58.42    & 1117     & 1407.88  & 1758     & 4537.05  & 1786.91  & 2.54     &  6489.09\\\\\n",
       "\t 2        & 16.03.17 & 06:09:06 & 0:09:59  & 44.02571 & 126.81   & 148.24   & 70.94    &  979     & 1362.84  & 1755     & 5277.45  & 3067.23  & 1.72     &  8999.88\\\\\n",
       "\t 3        & 15.03.17 & 06:10:05 & 0:10:00  & 41.56161 & 172.43   & 150.37   & 81.16    & 1018     & 1443.64  & 1805     & 7591.26  & 7359.64  & 1.03     & 15269.42\\\\\n",
       "\t 4        & 14.03.17 & 06:10:08 & 0:10:00  & 42.94211 & 170.64   & 191.75   & 76.64    & 1025     & 1397.23  & 1974     & 5687.76  & 8554.06  & 0.66     & 14614.74\\\\\n",
       "\t 5        & 13.03.17 & 06:25:49 & 0:10:00  & 42.98795 & 139.66   & 165.57   & 76.17    & 1012     & 1395.74  & 1742     & 4188.03  & 4258.05  & 0.98     &  8746.70\\\\\n",
       "\t 6        & 12.03.17 & 07:02:51 & 0:09:10  & 43.66749 & 136.07   & 174.51   & 68.59    &  924     & 1374.02  & 1832     & 3868.90  & 6005.90  & 0.64     &  9815.63\\\\\n",
       "\\end{tabular}\n"
      ],
      "text/markdown": [
       "\n",
       "ID | Tag | Start | Dauer | Avg..HR | RMSSD | SDNN | pNN50 | RRmin | RRmean | RRmax | LF | HF | LF.HF | Total | \n",
       "|---|---|---|---|---|---|\n",
       "| 1        | 17.03.17 | 06:08:55 | 0:08:57  | 42.61727 | 130.33   | 116.80   | 58.42    | 1117     | 1407.88  | 1758     | 4537.05  | 1786.91  | 2.54     |  6489.09 | \n",
       "| 2        | 16.03.17 | 06:09:06 | 0:09:59  | 44.02571 | 126.81   | 148.24   | 70.94    |  979     | 1362.84  | 1755     | 5277.45  | 3067.23  | 1.72     |  8999.88 | \n",
       "| 3        | 15.03.17 | 06:10:05 | 0:10:00  | 41.56161 | 172.43   | 150.37   | 81.16    | 1018     | 1443.64  | 1805     | 7591.26  | 7359.64  | 1.03     | 15269.42 | \n",
       "| 4        | 14.03.17 | 06:10:08 | 0:10:00  | 42.94211 | 170.64   | 191.75   | 76.64    | 1025     | 1397.23  | 1974     | 5687.76  | 8554.06  | 0.66     | 14614.74 | \n",
       "| 5        | 13.03.17 | 06:25:49 | 0:10:00  | 42.98795 | 139.66   | 165.57   | 76.17    | 1012     | 1395.74  | 1742     | 4188.03  | 4258.05  | 0.98     |  8746.70 | \n",
       "| 6        | 12.03.17 | 07:02:51 | 0:09:10  | 43.66749 | 136.07   | 174.51   | 68.59    |  924     | 1374.02  | 1832     | 3868.90  | 6005.90  | 0.64     |  9815.63 | \n",
       "\n",
       "\n"
      ],
      "text/plain": [
       "  ID Tag      Start    Dauer   Avg..HR  RMSSD  SDNN   pNN50 RRmin RRmean  RRmax\n",
       "1 1  17.03.17 06:08:55 0:08:57 42.61727 130.33 116.80 58.42 1117  1407.88 1758 \n",
       "2 2  16.03.17 06:09:06 0:09:59 44.02571 126.81 148.24 70.94  979  1362.84 1755 \n",
       "3 3  15.03.17 06:10:05 0:10:00 41.56161 172.43 150.37 81.16 1018  1443.64 1805 \n",
       "4 4  14.03.17 06:10:08 0:10:00 42.94211 170.64 191.75 76.64 1025  1397.23 1974 \n",
       "5 5  13.03.17 06:25:49 0:10:00 42.98795 139.66 165.57 76.17 1012  1395.74 1742 \n",
       "6 6  12.03.17 07:02:51 0:09:10 43.66749 136.07 174.51 68.59  924  1374.02 1832 \n",
       "  LF      HF      LF.HF Total   \n",
       "1 4537.05 1786.91 2.54   6489.09\n",
       "2 5277.45 3067.23 1.72   8999.88\n",
       "3 7591.26 7359.64 1.03  15269.42\n",
       "4 5687.76 8554.06 0.66  14614.74\n",
       "5 4188.03 4258.05 0.98   8746.70\n",
       "6 3868.90 6005.90 0.64   9815.63"
      ]
     },
     "metadata": {},
     "output_type": "display_data"
    },
    {
     "data": {
      "text/html": [
       "<ol class=list-inline>\n",
       "\t<li>740</li>\n",
       "\t<li>15</li>\n",
       "</ol>\n"
      ],
      "text/latex": [
       "\\begin{enumerate*}\n",
       "\\item 740\n",
       "\\item 15\n",
       "\\end{enumerate*}\n"
      ],
      "text/markdown": [
       "1. 740\n",
       "2. 15\n",
       "\n",
       "\n"
      ],
      "text/plain": [
       "[1] 740  15"
      ]
     },
     "metadata": {},
     "output_type": "display_data"
    }
   ],
   "source": [
    "head(hrvData)\n",
    "dim(hrvData)"
   ]
  },
  {
   "cell_type": "code",
   "execution_count": 18,
   "metadata": {
    "ExecuteTime": {
     "end_time": "2017-09-13T12:35:19.779000Z",
     "start_time": "2017-09-13T12:35:19.750Z"
    }
   },
   "outputs": [
    {
     "data": {
      "text/plain": [
       "       ID              Tag           Start         Dauer        Avg..HR     \n",
       " Min.   :  1.0           :  2   06:10:08:  3   0:10:00: 18   Min.   :39.29  \n",
       " 1st Qu.:187.2   28.06.16:  2   06:23:48:  3   0:09:59: 11   1st Qu.:43.52  \n",
       " Median :371.5   01.01.16:  1   06:34:26:  3   0:10:01:  6   Median :45.86  \n",
       " Mean   :371.2   01.01.17:  1           :  2   0:10:07:  6   Mean   :45.99  \n",
       " 3rd Qu.:555.8   01.02.16:  1   05:20:04:  2   0:10:08:  6   3rd Qu.:48.00  \n",
       " Max.   :740.0   01.02.17:  1   05:31:09:  2   0:10:26:  6   Max.   :59.88  \n",
       " NA's   :2       (Other) :732   (Other) :725   (Other):687   NA's   :2      \n",
       "     RMSSD             SDNN            pNN50           RRmin       \n",
       " Min.   : 40.65   Min.   : 60.87   Min.   :18.73   Min.   : 501.0  \n",
       " 1st Qu.:102.70   1st Qu.:123.32   1st Qu.:61.84   1st Qu.: 923.2  \n",
       " Median :118.42   Median :139.51   Median :68.86   Median : 988.0  \n",
       " Mean   :117.90   Mean   :140.02   Mean   :66.79   Mean   : 972.7  \n",
       " 3rd Qu.:133.35   3rd Qu.:155.40   3rd Qu.:73.53   3rd Qu.:1043.0  \n",
       " Max.   :206.20   Max.   :294.51   Max.   :84.35   Max.   :1314.0  \n",
       " NA's   :2        NA's   :2        NA's   :2       NA's   :2       \n",
       "     RRmean         RRmax            LF                HF          \n",
       " Min.   :1002   Min.   :1271   Min.   :  649.3   Min.   :   78.56  \n",
       " 1st Qu.:1250   1st Qu.:1664   1st Qu.: 1948.1   1st Qu.: 2727.49  \n",
       " Median :1308   Median :1734   Median : 2640.0   Median : 3684.30  \n",
       " Mean   :1311   Mean   :1726   Mean   : 3117.0   Mean   : 3821.76  \n",
       " 3rd Qu.:1379   3rd Qu.:1796   3rd Qu.: 3724.6   3rd Qu.: 4642.67  \n",
       " Max.   :1527   Max.   :2192   Max.   :16950.0   Max.   :11281.73  \n",
       " NA's   :2      NA's   :2      NA's   :2         NA's   :2         \n",
       "     LF.HF             Total      \n",
       " Min.   : 0.1200   Min.   : 1289  \n",
       " 1st Qu.: 0.5600   1st Qu.: 5364  \n",
       " Median : 0.7800   Median : 6708  \n",
       " Mean   : 0.9048   Mean   : 7292  \n",
       " 3rd Qu.: 1.0875   3rd Qu.: 8654  \n",
       " Max.   :14.7700   Max.   :27504  \n",
       " NA's   :2         NA's   :2      "
      ]
     },
     "metadata": {},
     "output_type": "display_data"
    }
   ],
   "source": [
    "summary(hrvData)"
   ]
  },
  {
   "cell_type": "code",
   "execution_count": 22,
   "metadata": {
    "ExecuteTime": {
     "end_time": "2017-09-13T12:46:21.571000Z",
     "start_time": "2017-09-13T12:46:21.534Z"
    }
   },
   "outputs": [
    {
     "data": {
      "text/html": [
       "<ol class=list-inline>\n",
       "\t<li>'Avg..HR'</li>\n",
       "\t<li>'RMSSD'</li>\n",
       "\t<li>'SDNN'</li>\n",
       "\t<li>'pNN50'</li>\n",
       "\t<li>'RRmin'</li>\n",
       "\t<li>'RRmean'</li>\n",
       "\t<li>'RRmax'</li>\n",
       "\t<li>'LF'</li>\n",
       "\t<li>'HF'</li>\n",
       "\t<li>'LF.HF'</li>\n",
       "\t<li>'Total'</li>\n",
       "</ol>\n"
      ],
      "text/latex": [
       "\\begin{enumerate*}\n",
       "\\item 'Avg..HR'\n",
       "\\item 'RMSSD'\n",
       "\\item 'SDNN'\n",
       "\\item 'pNN50'\n",
       "\\item 'RRmin'\n",
       "\\item 'RRmean'\n",
       "\\item 'RRmax'\n",
       "\\item 'LF'\n",
       "\\item 'HF'\n",
       "\\item 'LF.HF'\n",
       "\\item 'Total'\n",
       "\\end{enumerate*}\n"
      ],
      "text/markdown": [
       "1. 'Avg..HR'\n",
       "2. 'RMSSD'\n",
       "3. 'SDNN'\n",
       "4. 'pNN50'\n",
       "5. 'RRmin'\n",
       "6. 'RRmean'\n",
       "7. 'RRmax'\n",
       "8. 'LF'\n",
       "9. 'HF'\n",
       "10. 'LF.HF'\n",
       "11. 'Total'\n",
       "\n",
       "\n"
      ],
      "text/plain": [
       " [1] \"Avg..HR\" \"RMSSD\"   \"SDNN\"    \"pNN50\"   \"RRmin\"   \"RRmean\"  \"RRmax\"  \n",
       " [8] \"LF\"      \"HF\"      \"LF.HF\"   \"Total\"  "
      ]
     },
     "metadata": {},
     "output_type": "display_data"
    }
   ],
   "source": [
    "allColNames<-names(hrvData)\n",
    "numericColNames<-allColNames[c(-1,-2,-3,-4)]\n",
    "numericColNames"
   ]
  },
  {
   "cell_type": "code",
   "execution_count": 39,
   "metadata": {
    "ExecuteTime": {
     "end_time": "2017-09-13T13:09:12.522000Z",
     "start_time": "2017-09-13T13:09:12.456Z"
    }
   },
   "outputs": [
    {
     "data": {
      "image/png": "[encoded data removed]",
      "text/plain": [
       "Plot with title \"Histogram of  Avg..HR\""
      ]
     },
     "metadata": {},
     "output_type": "display_data"
    }
   ],
   "source": [
    "library(RColorBrewer)\n",
    "n<-length(numericColNames)\n",
    "mycolors <- brewer.pal(n, \"Spectral\")\n",
    "hist(hrvData[,numericColNames[1]],xlab=numericColNames[1],main=paste(\"Histogram of \",numericColNames[1]),col=mycolors[1])"
   ]
  },
  {
   "cell_type": "code",
   "execution_count": 93,
   "metadata": {
    "ExecuteTime": {
     "end_time": "2017-09-13T14:10:41.761000Z",
     "start_time": "2017-09-13T14:10:41.616Z"
    }
   },
   "outputs": [
    {
     "data": {
      "image/png": "[encoded data removed]",
      "text/plain": [
       "Plot with title \"Histogram of  Total\""
      ]
     },
     "metadata": {},
     "output_type": "display_data"
    }
   ],
   "source": [
    "#par(mfrow=(c(6,2)),pin=c(10,10),mai=c(.3,.3,.3,.1))\n",
    "par(mfrow=(c(6,2)),mai=c(.3,.3,.3,.1))\n",
    "#par(mfrow=(c(6,2)),pin=c(1.2,1.0))\n",
    "for (idx in 1:11){\n",
    "    hist(hrvData[,numericColNames[idx]],xlab=\"\",main=paste(\"Histogram of \",numericColNames[idx]),col=mycolors[idx])\n",
    "}"
   ]
  },
  {
   "cell_type": "code",
   "execution_count": 94,
   "metadata": {
    "ExecuteTime": {
     "end_time": "2017-09-13T14:10:48.963000Z",
     "start_time": "2017-09-13T14:10:48.822Z"
    }
   },
   "outputs": [
    {
     "data": {
      "image/png": "[encoded data removed]",
      "text/plain": [
       "Plot with title \"Density of  Total\""
      ]
     },
     "metadata": {},
     "output_type": "display_data"
    }
   ],
   "source": [
    "par(mfrow=(c(6,2)),mai=c(.3,.3,.3,.1))\n",
    "for (idx in 1:11){\n",
    "    dens <-density(hrvData[,numericColNames[idx]], na.rm = TRUE)\n",
    "    plot(dens,xlab=\"\",main=paste(\"Density of \",numericColNames[idx]),col=mycolors[idx])\n",
    "}"
   ]
  },
  {
   "cell_type": "code",
   "execution_count": 96,
   "metadata": {
    "ExecuteTime": {
     "end_time": "2017-09-13T14:19:30.745000Z",
     "start_time": "2017-09-13T14:19:30.588Z"
    }
   },
   "outputs": [
    {
     "data": {
      "image/png": "[encoded data removed]",
      "text/plain": [
       "plot without title"
      ]
     },
     "metadata": {},
     "output_type": "display_data"
    }
   ],
   "source": [
    "plot(hrvData$Avg..HR~hrvData$RMSSD,xlab=\"RMSSD\",ylab=\"Avg.HR\",col=\"blue\")"
   ]
  },
  {
   "cell_type": "code",
   "execution_count": 98,
   "metadata": {
    "ExecuteTime": {
     "end_time": "2017-09-13T14:21:08.056000Z",
     "start_time": "2017-09-13T14:21:07.929Z"
    }
   },
   "outputs": [
    {
     "data": {
      "image/png": "[encoded data removed]",
      "text/plain": [
       "plot without title"
      ]
     },
     "metadata": {},
     "output_type": "display_data"
    }
   ],
   "source": [
    "plot(hrvData$HF~hrvData$RMSSD,xlab=\"RMSSD\",ylab=\"HF\",col=\"red\")"
   ]
  },
  {
   "cell_type": "code",
   "execution_count": 108,
   "metadata": {
    "ExecuteTime": {
     "end_time": "2017-09-13T14:28:53.616000Z",
     "start_time": "2017-09-13T14:28:53.512Z"
    }
   },
   "outputs": [
    {
     "data": {
      "image/png": "[encoded data removed]",
      "text/plain": [
       "plot without title"
      ]
     },
     "metadata": {},
     "output_type": "display_data"
    }
   ],
   "source": [
    "plot(hrvData$HF~hrvData$LF,xlab=\"LF\",ylab=\"HF\",col=\"green\")"
   ]
  },
  {
   "cell_type": "code",
   "execution_count": 137,
   "metadata": {
    "ExecuteTime": {
     "end_time": "2017-09-13T14:56:45.047000Z",
     "start_time": "2017-09-13T14:56:44.951Z"
    }
   },
   "outputs": [
    {
     "data": {
      "image/png": "[encoded data removed]",
      "text/plain": [
       "plot without title"
      ]
     },
     "metadata": {},
     "output_type": "display_data"
    }
   ],
   "source": [
    "plot(hrvData$ID,hrvData$RMSSD,type='l',xlab=\"ID\",ylab=\"RMSSD\")"
   ]
  },
  {
   "cell_type": "code",
   "execution_count": 127,
   "metadata": {
    "ExecuteTime": {
     "end_time": "2017-09-13T14:53:21.093000Z",
     "start_time": "2017-09-13T14:53:21.077Z"
    },
    "collapsed": true
   },
   "outputs": [],
   "source": [
    "ma <- function(x,n=5){filter(x,rep(1/n,n), sides=2)}"
   ]
  },
  {
   "cell_type": "code",
   "execution_count": 134,
   "metadata": {
    "ExecuteTime": {
     "end_time": "2017-09-13T14:56:07.027000Z",
     "start_time": "2017-09-13T14:56:06.990Z"
    },
    "collapsed": true
   },
   "outputs": [],
   "source": [
    "FL=21\n",
    "smoothedRMSSD<-ma(hrvData$RMSSD,FL)"
   ]
  },
  {
   "cell_type": "code",
   "execution_count": 136,
   "metadata": {
    "ExecuteTime": {
     "end_time": "2017-09-13T14:56:24.641000Z",
     "start_time": "2017-09-13T14:56:24.564Z"
    }
   },
   "outputs": [
    {
     "data": {
      "image/png": "[encoded data removed]",
      "text/plain": [
       "Plot with title \"RMSSD Moving Averange of length  21\""
      ]
     },
     "metadata": {},
     "output_type": "display_data"
    }
   ],
   "source": [
    "plot(hrvData$ID,smoothedRMSSD,type='l',xlab=\"ID\",ylab=\"RMSSD\",main=paste(\"RMSSD Moving Averange of length \",FL))"
   ]
  },
  {
   "cell_type": "markdown",
   "metadata": {},
   "source": [
    "## Not used"
   ]
  },
  {
   "cell_type": "code",
   "execution_count": 8,
   "metadata": {
    "ExecuteTime": {
     "end_time": "2017-09-09T16:06:54.870000Z",
     "start_time": "2017-09-09T16:06:54.845Z"
    },
    "collapsed": true
   },
   "outputs": [],
   "source": [
    "shop1Sales<-c(235000,278234,567890,456890,345123,398000)\n",
    "shop2Sales<-c(335300,468000,588810,745895,666123,503980)"
   ]
  },
  {
   "cell_type": "code",
   "execution_count": 16,
   "metadata": {
    "ExecuteTime": {
     "end_time": "2017-09-09T16:12:51.908000Z",
     "start_time": "2017-09-09T16:12:51.876Z"
    }
   },
   "outputs": [
    {
     "data": {
      "text/html": [
       "<dl>\n",
       "\t<dt>$shop1</dt>\n",
       "\t\t<dd><ol class=list-inline>\n",
       "\t<li>235000</li>\n",
       "\t<li>278234</li>\n",
       "\t<li>567890</li>\n",
       "\t<li>456890</li>\n",
       "\t<li>345123</li>\n",
       "\t<li>398000</li>\n",
       "</ol>\n",
       "</dd>\n",
       "\t<dt>$shop2</dt>\n",
       "\t\t<dd><ol class=list-inline>\n",
       "\t<li>335300</li>\n",
       "\t<li>468000</li>\n",
       "\t<li>588810</li>\n",
       "\t<li>745895</li>\n",
       "\t<li>666123</li>\n",
       "\t<li>503980</li>\n",
       "</ol>\n",
       "</dd>\n",
       "</dl>\n"
      ],
      "text/latex": [
       "\\begin{description}\n",
       "\\item[\\$shop1] \\begin{enumerate*}\n",
       "\\item 235000\n",
       "\\item 278234\n",
       "\\item 567890\n",
       "\\item 456890\n",
       "\\item 345123\n",
       "\\item 398000\n",
       "\\end{enumerate*}\n",
       "\n",
       "\\item[\\$shop2] \\begin{enumerate*}\n",
       "\\item 335300\n",
       "\\item 468000\n",
       "\\item 588810\n",
       "\\item 745895\n",
       "\\item 666123\n",
       "\\item 503980\n",
       "\\end{enumerate*}\n",
       "\n",
       "\\end{description}\n"
      ],
      "text/markdown": [
       "$shop1\n",
       ":   1. 235000\n",
       "2. 278234\n",
       "3. 567890\n",
       "4. 456890\n",
       "5. 345123\n",
       "6. 398000\n",
       "\n",
       "\n",
       "\n",
       "$shop2\n",
       ":   1. 335300\n",
       "2. 468000\n",
       "3. 588810\n",
       "4. 745895\n",
       "5. 666123\n",
       "6. 503980\n",
       "\n",
       "\n",
       "\n",
       "\n",
       "\n"
      ],
      "text/plain": [
       "$shop1\n",
       "[1] 235000 278234 567890 456890 345123 398000\n",
       "\n",
       "$shop2\n",
       "[1] 335300 468000 588810 745895 666123 503980\n"
      ]
     },
     "metadata": {},
     "output_type": "display_data"
    }
   ],
   "source": [
    "salesList<-list(shop1=shop1Sales,shop2=shop2Sales)\n",
    "salesList"
   ]
  },
  {
   "cell_type": "code",
   "execution_count": 17,
   "metadata": {
    "ExecuteTime": {
     "end_time": "2017-09-09T16:13:51.842000Z",
     "start_time": "2017-09-09T16:13:51.802Z"
    }
   },
   "outputs": [
    {
     "data": {
      "text/html": [
       "<table>\n",
       "<thead><tr><th scope=col>values</th><th scope=col>ind</th></tr></thead>\n",
       "<tbody>\n",
       "\t<tr><td>235000</td><td>shop1 </td></tr>\n",
       "\t<tr><td>278234</td><td>shop1 </td></tr>\n",
       "\t<tr><td>567890</td><td>shop1 </td></tr>\n",
       "\t<tr><td>456890</td><td>shop1 </td></tr>\n",
       "\t<tr><td>345123</td><td>shop1 </td></tr>\n",
       "\t<tr><td>398000</td><td>shop1 </td></tr>\n",
       "\t<tr><td>335300</td><td>shop2 </td></tr>\n",
       "\t<tr><td>468000</td><td>shop2 </td></tr>\n",
       "\t<tr><td>588810</td><td>shop2 </td></tr>\n",
       "\t<tr><td>745895</td><td>shop2 </td></tr>\n",
       "\t<tr><td>666123</td><td>shop2 </td></tr>\n",
       "\t<tr><td>503980</td><td>shop2 </td></tr>\n",
       "</tbody>\n",
       "</table>\n"
      ],
      "text/latex": [
       "\\begin{tabular}{r|ll}\n",
       " values & ind\\\\\n",
       "\\hline\n",
       "\t 235000 & shop1 \\\\\n",
       "\t 278234 & shop1 \\\\\n",
       "\t 567890 & shop1 \\\\\n",
       "\t 456890 & shop1 \\\\\n",
       "\t 345123 & shop1 \\\\\n",
       "\t 398000 & shop1 \\\\\n",
       "\t 335300 & shop2 \\\\\n",
       "\t 468000 & shop2 \\\\\n",
       "\t 588810 & shop2 \\\\\n",
       "\t 745895 & shop2 \\\\\n",
       "\t 666123 & shop2 \\\\\n",
       "\t 503980 & shop2 \\\\\n",
       "\\end{tabular}\n"
      ],
      "text/markdown": [
       "\n",
       "values | ind | \n",
       "|---|---|---|---|---|---|---|---|---|---|---|---|\n",
       "| 235000 | shop1  | \n",
       "| 278234 | shop1  | \n",
       "| 567890 | shop1  | \n",
       "| 456890 | shop1  | \n",
       "| 345123 | shop1  | \n",
       "| 398000 | shop1  | \n",
       "| 335300 | shop2  | \n",
       "| 468000 | shop2  | \n",
       "| 588810 | shop2  | \n",
       "| 745895 | shop2  | \n",
       "| 666123 | shop2  | \n",
       "| 503980 | shop2  | \n",
       "\n",
       "\n"
      ],
      "text/plain": [
       "   values ind  \n",
       "1  235000 shop1\n",
       "2  278234 shop1\n",
       "3  567890 shop1\n",
       "4  456890 shop1\n",
       "5  345123 shop1\n",
       "6  398000 shop1\n",
       "7  335300 shop2\n",
       "8  468000 shop2\n",
       "9  588810 shop2\n",
       "10 745895 shop2\n",
       "11 666123 shop2\n",
       "12 503980 shop2"
      ]
     },
     "metadata": {},
     "output_type": "display_data"
    }
   ],
   "source": [
    "salesDF<-stack(salesList)\n",
    "salesDF"
   ]
  },
  {
   "cell_type": "code",
   "execution_count": 37,
   "metadata": {
    "ExecuteTime": {
     "end_time": "2017-09-11T13:53:14.028000Z",
     "start_time": "2017-09-11T13:53:14.000Z"
    }
   },
   "outputs": [
    {
     "data": {
      "text/plain": [
       "        ind\n",
       "values   shop1 shop2\n",
       "  235000     1     0\n",
       "  278234     1     0\n",
       "  335300     0     1\n",
       "  345123     1     0\n",
       "  398000     1     0\n",
       "  456890     1     0\n",
       "  468000     0     1\n",
       "  503980     0     1\n",
       "  567890     1     0\n",
       "  588810     0     1\n",
       "  666123     0     1\n",
       "  745895     0     1"
      ]
     },
     "metadata": {},
     "output_type": "display_data"
    }
   ],
   "source": [
    "table(salesDF)"
   ]
  },
  {
   "cell_type": "code",
   "execution_count": 34,
   "metadata": {
    "ExecuteTime": {
     "end_time": "2017-09-11T13:52:28.737000Z",
     "start_time": "2017-09-11T13:52:28.702Z"
    }
   },
   "outputs": [
    {
     "data": {
      "text/html": [
       "'data.frame'"
      ],
      "text/latex": [
       "'data.frame'"
      ],
      "text/markdown": [
       "'data.frame'"
      ],
      "text/plain": [
       "[1] \"data.frame\""
      ]
     },
     "metadata": {},
     "output_type": "display_data"
    },
    {
     "data": {
      "text/html": [
       "'data.frame'"
      ],
      "text/latex": [
       "'data.frame'"
      ],
      "text/markdown": [
       "'data.frame'"
      ],
      "text/plain": [
       "[1] \"data.frame\""
      ]
     },
     "metadata": {},
     "output_type": "display_data"
    }
   ],
   "source": [
    "class(sales)\n",
    "class(sales['values'])"
   ]
  },
  {
   "cell_type": "code",
   "execution_count": 35,
   "metadata": {
    "ExecuteTime": {
     "end_time": "2017-09-11T13:52:36.952000Z",
     "start_time": "2017-09-11T13:52:36.912Z"
    }
   },
   "outputs": [
    {
     "name": "stderr",
     "output_type": "stream",
     "text": [
      "Warning message in mean.default(values ~ ind, data = sales):\n",
      "\"argument is not numeric or logical: returning NA\""
     ]
    },
    {
     "data": {
      "text/plain": [
       "[1] NA"
      ]
     },
     "metadata": {},
     "output_type": "display_data"
    }
   ],
   "source": [
    "aov(values ~ ind, data = sales)"
   ]
  },
  {
   "cell_type": "code",
   "execution_count": null,
   "metadata": {
    "collapsed": true
   },
   "outputs": [],
   "source": []
  }
 ],
 "metadata": {
  "kernelspec": {
   "display_name": "R [conda env:condatascience]",
   "language": "R",
   "name": "conda-env-condatascience-r"
  },
  "language_info": {
   "codemirror_mode": "r",
   "file_extension": ".r",
   "mimetype": "text/x-r-source",
   "name": "R",
   "pygments_lexer": "r",
   "version": "3.3.2"
  },
  "nav_menu": {},
  "toc": {
   "navigate_menu": true,
   "number_sections": true,
   "sideBar": true,
   "threshold": 6,
   "toc_cell": false,
   "toc_section_display": "block",
   "toc_window_display": true
  },
  "toc_position": {
   "height": "743px",
   "left": "0px",
   "right": "1351.83px",
   "top": "125.167px",
   "width": "212px"
  }
 },
 "nbformat": 4,
 "nbformat_minor": 2
}

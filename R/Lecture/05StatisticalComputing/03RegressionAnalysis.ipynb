{
 "cells": [
  {
   "cell_type": "markdown",
   "metadata": {
    "toc": "true"
   },
   "source": [
    "# Table of Contents\n",
    " <p><div class=\"lev1 toc-item\"><a href=\"#Regression-Analysis\" data-toc-modified-id=\"Regression-Analysis-1\"><span class=\"toc-item-num\">1&nbsp;&nbsp;</span>Regression Analysis</a></div><div class=\"lev2 toc-item\"><a href=\"#Simple-linear-Regression\" data-toc-modified-id=\"Simple-linear-Regression-11\"><span class=\"toc-item-num\">1.1&nbsp;&nbsp;</span>Simple linear Regression</a></div><div class=\"lev3 toc-item\"><a href=\"#Load-and-visualize-data-for-simple-linear-regression\" data-toc-modified-id=\"Load-and-visualize-data-for-simple-linear-regression-111\"><span class=\"toc-item-num\">1.1.1&nbsp;&nbsp;</span>Load and visualize data for simple linear regression</a></div><div class=\"lev3 toc-item\"><a href=\"#Calculate-the-regression-model\" data-toc-modified-id=\"Calculate-the-regression-model-112\"><span class=\"toc-item-num\">1.1.2&nbsp;&nbsp;</span>Calculate the regression model</a></div><div class=\"lev3 toc-item\"><a href=\"#Visualize-regression-model\" data-toc-modified-id=\"Visualize-regression-model-113\"><span class=\"toc-item-num\">1.1.3&nbsp;&nbsp;</span>Visualize regression model</a></div><div class=\"lev3 toc-item\"><a href=\"#Summary-Report\" data-toc-modified-id=\"Summary-Report-114\"><span class=\"toc-item-num\">1.1.4&nbsp;&nbsp;</span>Summary Report</a></div><div class=\"lev3 toc-item\"><a href=\"#Calculate-Regression-Parameters-step-by-step\" data-toc-modified-id=\"Calculate-Regression-Parameters-step-by-step-115\"><span class=\"toc-item-num\">1.1.5&nbsp;&nbsp;</span>Calculate Regression Parameters step by step</a></div><div class=\"lev2 toc-item\"><a href=\"#Multiple-linear-Regression\" data-toc-modified-id=\"Multiple-linear-Regression-12\"><span class=\"toc-item-num\">1.2&nbsp;&nbsp;</span>Multiple linear Regression</a></div><div class=\"lev3 toc-item\"><a href=\"#Load-and-visualize-data\" data-toc-modified-id=\"Load-and-visualize-data-121\"><span class=\"toc-item-num\">1.2.1&nbsp;&nbsp;</span>Load and visualize data</a></div><div class=\"lev3 toc-item\"><a href=\"#Calculate-the-regression-model\" data-toc-modified-id=\"Calculate-the-regression-model-122\"><span class=\"toc-item-num\">1.2.2&nbsp;&nbsp;</span>Calculate the regression model</a></div><div class=\"lev3 toc-item\"><a href=\"#Calculate-Regression-Parameters-step-by-step\" data-toc-modified-id=\"Calculate-Regression-Parameters-step-by-step-123\"><span class=\"toc-item-num\">1.2.3&nbsp;&nbsp;</span>Calculate Regression Parameters step by step</a></div><div class=\"lev2 toc-item\"><a href=\"#Linear-Regression-for-nonlinear-functions\" data-toc-modified-id=\"Linear-Regression-for-nonlinear-functions-13\"><span class=\"toc-item-num\">1.3&nbsp;&nbsp;</span>Linear Regression for nonlinear functions</a></div><div class=\"lev3 toc-item\"><a href=\"#Calculate-Polynomial-Regression-Model\" data-toc-modified-id=\"Calculate-Polynomial-Regression-Model-131\"><span class=\"toc-item-num\">1.3.1&nbsp;&nbsp;</span>Calculate Polynomial Regression Model</a></div><div class=\"lev3 toc-item\"><a href=\"#Apply-the-regression-model-for-prediction-from-new-inputs\" data-toc-modified-id=\"Apply-the-regression-model-for-prediction-from-new-inputs-132\"><span class=\"toc-item-num\">1.3.2&nbsp;&nbsp;</span>Apply the regression model for prediction from new inputs</a></div><div class=\"lev3 toc-item\"><a href=\"#Visualize-the-polynomial-regression-model\" data-toc-modified-id=\"Visualize-the-polynomial-regression-model-133\"><span class=\"toc-item-num\">1.3.3&nbsp;&nbsp;</span>Visualize the polynomial regression model</a></div><div class=\"lev2 toc-item\"><a href=\"#Evaluation-of-Regression-Models\" data-toc-modified-id=\"Evaluation-of-Regression-Models-14\"><span class=\"toc-item-num\">1.4&nbsp;&nbsp;</span>Evaluation of Regression Models</a></div><div class=\"lev3 toc-item\"><a href=\"#Anscombe's-Quartet:-One-model-fits-all?\" data-toc-modified-id=\"Anscombe's-Quartet:-One-model-fits-all?-141\"><span class=\"toc-item-num\">1.4.1&nbsp;&nbsp;</span>Anscombe's Quartet: One model fits all?</a></div><div class=\"lev3 toc-item\"><a href=\"#Diagnostics-of-the-4-linear-regression-models\" data-toc-modified-id=\"Diagnostics-of-the-4-linear-regression-models-142\"><span class=\"toc-item-num\">1.4.2&nbsp;&nbsp;</span>Diagnostics of the 4 linear regression models</a></div>"
   ]
  },
  {
   "cell_type": "markdown",
   "metadata": {},
   "source": [
    "# Regression Analysis\n",
    "* Author: Johannes Maucher\n",
    "* Last Update: 2017-06-02\n",
    "* References:\n",
    "    * R in Action\n",
    "    \n",
    "* Topics of this notebook\n",
    "    * xxx\n",
    "    \n",
    "Regression Analysis deals with the prediction of a numeric output variable $y$ from $k$ input variables $x_1,x_2,\\ldots,x_{k}$. For a given set $T$ of $N$ observations\n",
    "$$T=\\left\\{[(x_{i,1},x_{i,2},\\ldots,x_{i,k}), \\, y_i] \\quad | \\quad i \\in [1,\\ldots,N]\\right\\},$$\n",
    "each described by the values of the input variables $x_{i,1},x_{i,2},\\ldots,x_{i,k}$ and the value of the corresponding output variable $y_i$, **Ordinary Least-Square Regression (OLS)** calculates a model (a function f), which defines a linear mapping from the input variables to the output variable of the form:\n",
    "$$ \\hat{y} = f(x_1,x_2,\\ldots,x_{k}) = \\beta_0 + \\beta_1 x_1 + \\beta_2 x_2 + \\ldots + \\beta_k x_k$$\n",
    "Once this model is determined, it can be applied to predict for arbitrary vectors of input variables $x_1,x_2,\\ldots,x_{k}$ the corresponding output $\\hat{y}$.\n",
    "\n",
    "**Note:** In the context of Regression Analysis and ANOVA the *input variables* are called *predictor variables* and the *output variable* is called the *response variable*. However, here we apply the more general terms of input- and output-variables, respectively.  \n",
    "\n",
    "\n",
    "\n",
    "The model $f$ is infered inductively from the set $T$ of $N$ observations, by minimizing the *sum of squared errors* between the observed output $y_i$ and the prediction of the model $\\hat{y_i}$ \n",
    "$$ \\sum\\limits_{i=1}^N (y_i - \\hat{y}_i)^2 = \\sum\\limits_{i=1}^N (y_i - (\\beta_0 + \\beta_1 x_{i,1} + \\beta_2 x_{i,2} + \\ldots + \\beta_k x_{i,k}))^2 = \\sum\\limits_{i=1}^N \\epsilon_i^2.$$\n",
    "\n",
    "\n",
    "With\n",
    "$$\\mathbf{\\hat{y}}=\\left(\n",
    "\\begin{array}{c}\n",
    "\\hat{y}_1 \\\\ \n",
    "\\hat{y}_2 \\\\ \n",
    "\\vdots \\\\ \n",
    "\\hat{y}_N\\\\ \n",
    "\\end{array} \n",
    "\\right),\n",
    "\\quad\n",
    "X=\n",
    "\\left(\n",
    "\\begin{array}{ccccc}\n",
    "1 & x_{1,1} & x_{1,2} & \\cdots  & x_{1,k} \\\\\n",
    "1 & x_{2,1} & x_{2,2} & \\cdots  & x_{2,k} \\\\\n",
    "\\vdots & \\vdots & \\vdots & \\ddots & \\vdots \\\\\n",
    "1 & x_{N,1} & x_{N,2} & \\cdots  & x_{N,k} \\\\\n",
    "\\end{array}\n",
    "\\right),\n",
    "\\quad\n",
    "\\mbox{and}\n",
    "\\quad\n",
    "\\boldsymbol{\\beta}=\\left(\n",
    "\\begin{array}{c}\n",
    "\\beta_0 \\\\ \n",
    "\\beta_1 \\\\ \n",
    "\\vdots \\\\ \n",
    "\\beta_k\\\\ \n",
    "\\end{array} \n",
    "\\right).\n",
    "$$\n",
    "\n",
    "OLS regression calculates the coefficients of $\\boldsymbol{\\beta}$, such that \n",
    "\n",
    "$$\\mathbf{\\hat{y}=X \\cdot \\boldsymbol{\\beta}},$$\n",
    "\n",
    "yields the minimum sum of sauared error $$\\sum\\limits_{i=1}^N (y_i-\\hat{y}_i)^2 = \\sum\\limits_{i=1}^N \\epsilon_i^2.$$\n",
    "\n",
    "The solution for this problem is:\n",
    "\n",
    "$$\\boldsymbol{\\beta} = (X^T X)^{-1} X^T \\cdot \\mathbf{y}$$"
   ]
  },
  {
   "cell_type": "markdown",
   "metadata": {},
   "source": [
    "<a id='simpleLinReg'></a>\n",
    "## Simple linear Regression\n",
    "Simple linear regression refers to the case of only one input-variable, i.e. $k=1$ and \n",
    "$$ \\hat{y} = f(x_1) = \\beta_0 + \\beta_1 x_1 $$"
   ]
  },
  {
   "cell_type": "markdown",
   "metadata": {},
   "source": [
    "### Load and visualize data for simple linear regression"
   ]
  },
  {
   "cell_type": "code",
   "execution_count": 3,
   "metadata": {
    "collapsed": false
   },
   "outputs": [
    {
     "name": "stdout",
     "output_type": "stream",
     "text": [
      "'data.frame':\t30 obs. of  3 variables:\n",
      " $ Id       : int  1 2 3 4 5 6 7 8 9 10 ...\n",
      " $ Speed    : num  4.5 5 4.5 5.25 4.5 4.75 5 5.5 4.5 5.25 ...\n",
      " $ Heartrate: num  155 167 164 161 149 ...\n"
     ]
    },
    {
     "data": {
      "text/html": [
       "<table>\n",
       "<thead><tr><th scope=col>Id</th><th scope=col>Speed</th><th scope=col>Heartrate</th></tr></thead>\n",
       "<tbody>\n",
       "\t<tr><td> 1    </td><td>4.50  </td><td>155.15</td></tr>\n",
       "\t<tr><td> 2    </td><td>5.00  </td><td>166.68</td></tr>\n",
       "\t<tr><td> 3    </td><td>4.50  </td><td>164.37</td></tr>\n",
       "\t<tr><td> 4    </td><td>5.25  </td><td>160.82</td></tr>\n",
       "\t<tr><td> 5    </td><td>4.50  </td><td>148.51</td></tr>\n",
       "\t<tr><td> 6    </td><td>4.75  </td><td>169.83</td></tr>\n",
       "\t<tr><td> 7    </td><td>5.00  </td><td>188.01</td></tr>\n",
       "\t<tr><td> 8    </td><td>5.50  </td><td>187.90</td></tr>\n",
       "\t<tr><td> 9    </td><td>4.50  </td><td>157.96</td></tr>\n",
       "\t<tr><td>10    </td><td>5.25  </td><td>178.29</td></tr>\n",
       "\t<tr><td>11    </td><td>5.25  </td><td>179.55</td></tr>\n",
       "\t<tr><td>12    </td><td>5.50  </td><td>203.81</td></tr>\n",
       "\t<tr><td>13    </td><td>4.00  </td><td>150.74</td></tr>\n",
       "\t<tr><td>14    </td><td>4.50  </td><td>171.78</td></tr>\n",
       "\t<tr><td>15    </td><td>5.00  </td><td>172.52</td></tr>\n",
       "\t<tr><td>16    </td><td>4.25  </td><td>148.92</td></tr>\n",
       "\t<tr><td>17    </td><td>4.25  </td><td>160.02</td></tr>\n",
       "\t<tr><td>18    </td><td>5.00  </td><td>183.83</td></tr>\n",
       "\t<tr><td>19    </td><td>5.00  </td><td>156.67</td></tr>\n",
       "\t<tr><td>20    </td><td>5.00  </td><td>162.40</td></tr>\n",
       "\t<tr><td>21    </td><td>5.00  </td><td>171.39</td></tr>\n",
       "\t<tr><td>22    </td><td>4.00  </td><td>156.10</td></tr>\n",
       "\t<tr><td>23    </td><td>4.50  </td><td>153.15</td></tr>\n",
       "\t<tr><td>24    </td><td>4.75  </td><td>161.35</td></tr>\n",
       "\t<tr><td>25    </td><td>4.25  </td><td>163.16</td></tr>\n",
       "\t<tr><td>26    </td><td>5.25  </td><td>165.42</td></tr>\n",
       "\t<tr><td>27    </td><td>5.25  </td><td>189.25</td></tr>\n",
       "\t<tr><td>28    </td><td>4.25  </td><td>165.56</td></tr>\n",
       "\t<tr><td>29    </td><td>5.25  </td><td>172.35</td></tr>\n",
       "\t<tr><td>30    </td><td>4.00  </td><td>158.07</td></tr>\n",
       "</tbody>\n",
       "</table>\n"
      ],
      "text/latex": [
       "\\begin{tabular}{r|lll}\n",
       " Id & Speed & Heartrate\\\\\n",
       "\\hline\n",
       "\t  1     & 4.50   & 155.15\\\\\n",
       "\t  2     & 5.00   & 166.68\\\\\n",
       "\t  3     & 4.50   & 164.37\\\\\n",
       "\t  4     & 5.25   & 160.82\\\\\n",
       "\t  5     & 4.50   & 148.51\\\\\n",
       "\t  6     & 4.75   & 169.83\\\\\n",
       "\t  7     & 5.00   & 188.01\\\\\n",
       "\t  8     & 5.50   & 187.90\\\\\n",
       "\t  9     & 4.50   & 157.96\\\\\n",
       "\t 10     & 5.25   & 178.29\\\\\n",
       "\t 11     & 5.25   & 179.55\\\\\n",
       "\t 12     & 5.50   & 203.81\\\\\n",
       "\t 13     & 4.00   & 150.74\\\\\n",
       "\t 14     & 4.50   & 171.78\\\\\n",
       "\t 15     & 5.00   & 172.52\\\\\n",
       "\t 16     & 4.25   & 148.92\\\\\n",
       "\t 17     & 4.25   & 160.02\\\\\n",
       "\t 18     & 5.00   & 183.83\\\\\n",
       "\t 19     & 5.00   & 156.67\\\\\n",
       "\t 20     & 5.00   & 162.40\\\\\n",
       "\t 21     & 5.00   & 171.39\\\\\n",
       "\t 22     & 4.00   & 156.10\\\\\n",
       "\t 23     & 4.50   & 153.15\\\\\n",
       "\t 24     & 4.75   & 161.35\\\\\n",
       "\t 25     & 4.25   & 163.16\\\\\n",
       "\t 26     & 5.25   & 165.42\\\\\n",
       "\t 27     & 5.25   & 189.25\\\\\n",
       "\t 28     & 4.25   & 165.56\\\\\n",
       "\t 29     & 5.25   & 172.35\\\\\n",
       "\t 30     & 4.00   & 158.07\\\\\n",
       "\\end{tabular}\n"
      ],
      "text/markdown": [
       "\n",
       "Id | Speed | Heartrate | \n",
       "|---|---|---|---|---|---|---|---|---|---|---|---|---|---|---|---|---|---|---|---|---|---|---|---|---|---|---|---|---|---|\n",
       "|  1     | 4.50   | 155.15 | \n",
       "|  2     | 5.00   | 166.68 | \n",
       "|  3     | 4.50   | 164.37 | \n",
       "|  4     | 5.25   | 160.82 | \n",
       "|  5     | 4.50   | 148.51 | \n",
       "|  6     | 4.75   | 169.83 | \n",
       "|  7     | 5.00   | 188.01 | \n",
       "|  8     | 5.50   | 187.90 | \n",
       "|  9     | 4.50   | 157.96 | \n",
       "| 10     | 5.25   | 178.29 | \n",
       "| 11     | 5.25   | 179.55 | \n",
       "| 12     | 5.50   | 203.81 | \n",
       "| 13     | 4.00   | 150.74 | \n",
       "| 14     | 4.50   | 171.78 | \n",
       "| 15     | 5.00   | 172.52 | \n",
       "| 16     | 4.25   | 148.92 | \n",
       "| 17     | 4.25   | 160.02 | \n",
       "| 18     | 5.00   | 183.83 | \n",
       "| 19     | 5.00   | 156.67 | \n",
       "| 20     | 5.00   | 162.40 | \n",
       "| 21     | 5.00   | 171.39 | \n",
       "| 22     | 4.00   | 156.10 | \n",
       "| 23     | 4.50   | 153.15 | \n",
       "| 24     | 4.75   | 161.35 | \n",
       "| 25     | 4.25   | 163.16 | \n",
       "| 26     | 5.25   | 165.42 | \n",
       "| 27     | 5.25   | 189.25 | \n",
       "| 28     | 4.25   | 165.56 | \n",
       "| 29     | 5.25   | 172.35 | \n",
       "| 30     | 4.00   | 158.07 | \n",
       "\n",
       "\n"
      ],
      "text/plain": [
       "   Id Speed Heartrate\n",
       "1   1 4.50  155.15   \n",
       "2   2 5.00  166.68   \n",
       "3   3 4.50  164.37   \n",
       "4   4 5.25  160.82   \n",
       "5   5 4.50  148.51   \n",
       "6   6 4.75  169.83   \n",
       "7   7 5.00  188.01   \n",
       "8   8 5.50  187.90   \n",
       "9   9 4.50  157.96   \n",
       "10 10 5.25  178.29   \n",
       "11 11 5.25  179.55   \n",
       "12 12 5.50  203.81   \n",
       "13 13 4.00  150.74   \n",
       "14 14 4.50  171.78   \n",
       "15 15 5.00  172.52   \n",
       "16 16 4.25  148.92   \n",
       "17 17 4.25  160.02   \n",
       "18 18 5.00  183.83   \n",
       "19 19 5.00  156.67   \n",
       "20 20 5.00  162.40   \n",
       "21 21 5.00  171.39   \n",
       "22 22 4.00  156.10   \n",
       "23 23 4.50  153.15   \n",
       "24 24 4.75  161.35   \n",
       "25 25 4.25  163.16   \n",
       "26 26 5.25  165.42   \n",
       "27 27 5.25  189.25   \n",
       "28 28 4.25  165.56   \n",
       "29 29 5.25  172.35   \n",
       "30 30 4.00  158.07   "
      ]
     },
     "metadata": {},
     "output_type": "display_data"
    }
   ],
   "source": [
    "heartrate<-read.csv(file=\"../data/HeartRate.txt\", header=T,sep=\" \",stringsAsFactors = TRUE)\n",
    "str(heartrate)\n",
    "heartrate"
   ]
  },
  {
   "cell_type": "code",
   "execution_count": 4,
   "metadata": {
    "collapsed": false
   },
   "outputs": [
    {
     "data": {},
     "metadata": {},
     "output_type": "display_data"
    },
    {
     "data": {
      "image/png": "[encoded data removed]",
      "text/plain": [
       "plot without title"
      ]
     },
     "metadata": {},
     "output_type": "display_data"
    }
   ],
   "source": [
    "library(ggplot2)\n",
    "ggplot(data=heartrate) + \n",
    "geom_point(aes(x=Speed,y=Heartrate),colour='blue')+\n",
    "labs(title=\"Heartrate over Speed\",y=\"Heartrate [bpm]\", x=\"Speed [m/s]\")"
   ]
  },
  {
   "cell_type": "markdown",
   "metadata": {},
   "source": [
    "### Calculate the regression model"
   ]
  },
  {
   "cell_type": "code",
   "execution_count": 5,
   "metadata": {
    "collapsed": false
   },
   "outputs": [
    {
     "data": {
      "text/plain": [
       "\n",
       "Call:\n",
       "lm(formula = Heartrate ~ Speed, data = heartrate)\n",
       "\n",
       "Coefficients:\n",
       "(Intercept)        Speed  \n",
       "      67.68        20.93  \n"
      ]
     },
     "metadata": {},
     "output_type": "display_data"
    }
   ],
   "source": [
    "(linFit<-lm(Heartrate ~ Speed, data=heartrate))"
   ]
  },
  {
   "cell_type": "code",
   "execution_count": 6,
   "metadata": {
    "collapsed": false
   },
   "outputs": [
    {
     "data": {
      "text/html": [
       "<dl class=dl-horizontal>\n",
       "\t<dt>(Intercept)</dt>\n",
       "\t\t<dd>67.6800817438692</dd>\n",
       "\t<dt>Speed</dt>\n",
       "\t\t<dd>20.9311716621253</dd>\n",
       "</dl>\n"
      ],
      "text/latex": [
       "\\begin{description*}\n",
       "\\item[(Intercept)] 67.6800817438692\n",
       "\\item[Speed] 20.9311716621253\n",
       "\\end{description*}\n"
      ],
      "text/markdown": [
       "(Intercept)\n",
       ":   67.6800817438692Speed\n",
       ":   20.9311716621253\n",
       "\n"
      ],
      "text/plain": [
       "(Intercept)       Speed \n",
       "   67.68008    20.93117 "
      ]
     },
     "metadata": {},
     "output_type": "display_data"
    }
   ],
   "source": [
    "linFit$coefficients"
   ]
  },
  {
   "cell_type": "markdown",
   "metadata": {},
   "source": [
    "The coefficient for speed indicates, that for every speed-increase of 1 m/s the heartrate increases by more than 20 bpm."
   ]
  },
  {
   "cell_type": "markdown",
   "metadata": {},
   "source": [
    "### Visualize regression model"
   ]
  },
  {
   "cell_type": "code",
   "execution_count": 7,
   "metadata": {
    "collapsed": false
   },
   "outputs": [
    {
     "data": {},
     "metadata": {},
     "output_type": "display_data"
    },
    {
     "data": {
      "image/png": "[encoded data removed]",
      "text/plain": [
       "plot without title"
      ]
     },
     "metadata": {},
     "output_type": "display_data"
    }
   ],
   "source": [
    "ggplot(data=heartrate, aes(x=Speed, y=Heartrate)) +\n",
    "geom_point(color=\"blue\")+\n",
    "geom_smooth(method=lm , color=\"red\", se=T)+\n",
    "labs(title = paste(\"Adj R2 = \",signif(summary(linFit)$adj.r.squared, 3),\n",
    "                     \"Intercept =\",signif(linFit$coef[[1]],3 ),\n",
    "                     \" Slope =\",signif(linFit$coef[[2]], 3),\n",
    "                     \" P =\",signif(summary(linFit)$coef[2,4], 3)))"
   ]
  },
  {
   "cell_type": "markdown",
   "metadata": {},
   "source": [
    "### Summary Report"
   ]
  },
  {
   "cell_type": "code",
   "execution_count": 8,
   "metadata": {
    "collapsed": false
   },
   "outputs": [
    {
     "data": {
      "text/plain": [
       "\n",
       "Call:\n",
       "lm(formula = Heartrate ~ Speed, data = heartrate)\n",
       "\n",
       "Residuals:\n",
       "     Min       1Q   Median       3Q      Max \n",
       "-16.7487  -6.4786   0.4527   6.1664  21.0085 \n",
       "\n",
       "Coefficients:\n",
       "            Estimate Std. Error t value Pr(>|t|)    \n",
       "(Intercept)    67.68      18.43   3.672  0.00101 ** \n",
       "Speed          20.93       3.85   5.437 8.41e-06 ***\n",
       "---\n",
       "Signif. codes:  0 '***' 0.001 '**' 0.01 '*' 0.05 '.' 0.1 ' ' 1\n",
       "\n",
       "Residual standard error: 9.522 on 28 degrees of freedom\n",
       "Multiple R-squared:  0.5135,\tAdjusted R-squared:  0.4962 \n",
       "F-statistic: 29.56 on 1 and 28 DF,  p-value: 8.415e-06\n"
      ]
     },
     "metadata": {},
     "output_type": "display_data"
    }
   ],
   "source": [
    "summary(linFit)"
   ]
  },
  {
   "cell_type": "markdown",
   "metadata": {},
   "source": [
    "### Calculate Regression Parameters step by step\n",
    "In order to understand the parameters returned by R's *lm()*-function and listed in the *summary()*-report, this subsection describes how these parameters are calculated. \n",
    "\n",
    "Note that all parameters can also be calculated as shown in subsection [Multiple Linear Regression](#multisteps), since *Multiple Linear Regression* is the more general case, which includes the special case *Simple Linear Regression*."
   ]
  },
  {
   "cell_type": "markdown",
   "metadata": {},
   "source": [
    "**Residuals:** This part plots the quartiles of the residuals $\\epsilon_i=y_i-\\hat{y}_i$ between the observed output variable $y_i$ and the predicted output $\\hat{y}_i$ for all $N$ observations. Observed -, predicted- and residual values are arranged in the following dataframe. "
   ]
  },
  {
   "cell_type": "code",
   "execution_count": 9,
   "metadata": {
    "collapsed": false
   },
   "outputs": [
    {
     "data": {
      "text/html": [
       "<table>\n",
       "<thead><tr><th scope=col>observed</th><th scope=col>predicted</th><th scope=col>residual</th></tr></thead>\n",
       "<tbody>\n",
       "\t<tr><td>155.15    </td><td>161.8704  </td><td> -6.720354</td></tr>\n",
       "\t<tr><td>166.68    </td><td>172.3359  </td><td> -5.655940</td></tr>\n",
       "\t<tr><td>164.37    </td><td>161.8704  </td><td>  2.499646</td></tr>\n",
       "\t<tr><td>160.82    </td><td>177.5687  </td><td>-16.748733</td></tr>\n",
       "\t<tr><td>148.51    </td><td>161.8704  </td><td>-13.360354</td></tr>\n",
       "\t<tr><td>169.83    </td><td>167.1031  </td><td>  2.726853</td></tr>\n",
       "</tbody>\n",
       "</table>\n"
      ],
      "text/latex": [
       "\\begin{tabular}{r|lll}\n",
       " observed & predicted & residual\\\\\n",
       "\\hline\n",
       "\t 155.15     & 161.8704   &  -6.720354\\\\\n",
       "\t 166.68     & 172.3359   &  -5.655940\\\\\n",
       "\t 164.37     & 161.8704   &   2.499646\\\\\n",
       "\t 160.82     & 177.5687   & -16.748733\\\\\n",
       "\t 148.51     & 161.8704   & -13.360354\\\\\n",
       "\t 169.83     & 167.1031   &   2.726853\\\\\n",
       "\\end{tabular}\n"
      ],
      "text/markdown": [
       "\n",
       "observed | predicted | residual | \n",
       "|---|---|---|---|---|---|\n",
       "| 155.15     | 161.8704   |  -6.720354 | \n",
       "| 166.68     | 172.3359   |  -5.655940 | \n",
       "| 164.37     | 161.8704   |   2.499646 | \n",
       "| 160.82     | 177.5687   | -16.748733 | \n",
       "| 148.51     | 161.8704   | -13.360354 | \n",
       "| 169.83     | 167.1031   |   2.726853 | \n",
       "\n",
       "\n"
      ],
      "text/plain": [
       "  observed predicted residual  \n",
       "1 155.15   161.8704   -6.720354\n",
       "2 166.68   172.3359   -5.655940\n",
       "3 164.37   161.8704    2.499646\n",
       "4 160.82   177.5687  -16.748733\n",
       "5 148.51   161.8704  -13.360354\n",
       "6 169.83   167.1031    2.726853"
      ]
     },
     "metadata": {},
     "output_type": "display_data"
    }
   ],
   "source": [
    "linFitDF<-data.frame(observed=heartrate$Heartrate,predicted=fitted(linFit),residual=residuals(linFit))\n",
    "head(linFitDF)"
   ]
  },
  {
   "cell_type": "markdown",
   "metadata": {},
   "source": [
    "The *summary()*-report contains the quartiles of the residuals. They are calculated as follows:"
   ]
  },
  {
   "cell_type": "code",
   "execution_count": 10,
   "metadata": {
    "collapsed": false,
    "run_control": {
     "marked": false
    }
   },
   "outputs": [
    {
     "data": {
      "text/html": [
       "<dl class=dl-horizontal>\n",
       "\t<dt>0%</dt>\n",
       "\t\t<dd>-16.7487329700273</dd>\n",
       "\t<dt>25%</dt>\n",
       "\t\t<dd>-6.47855245231592</dd>\n",
       "\t<dt>50%</dt>\n",
       "\t\t<dd>0.452663487738414</dd>\n",
       "\t<dt>75%</dt>\n",
       "\t\t<dd>6.16644754768392</dd>\n",
       "\t<dt>100%</dt>\n",
       "\t\t<dd>21.0084741144414</dd>\n",
       "</dl>\n"
      ],
      "text/latex": [
       "\\begin{description*}\n",
       "\\item[0\\textbackslash{}\\%] -16.7487329700273\n",
       "\\item[25\\textbackslash{}\\%] -6.47855245231592\n",
       "\\item[50\\textbackslash{}\\%] 0.452663487738414\n",
       "\\item[75\\textbackslash{}\\%] 6.16644754768392\n",
       "\\item[100\\textbackslash{}\\%] 21.0084741144414\n",
       "\\end{description*}\n"
      ],
      "text/markdown": [
       "0%\n",
       ":   -16.748732970027325%\n",
       ":   -6.4785524523159250%\n",
       ":   0.45266348773841475%\n",
       ":   6.16644754768392100%\n",
       ":   21.0084741144414\n",
       "\n"
      ],
      "text/plain": [
       "         0%         25%         50%         75%        100% \n",
       "-16.7487330  -6.4785525   0.4526635   6.1664475  21.0084741 "
      ]
     },
     "metadata": {},
     "output_type": "display_data"
    }
   ],
   "source": [
    "quantile(residuals(linFit))"
   ]
  },
  {
   "cell_type": "markdown",
   "metadata": {},
   "source": [
    "**Coefficients:** The estimated coefficients of the linear equation. Intercept is the estimator for the constant $\\beta_0$. For all other coefficients the estimated coefficient is identified by the name of the input-variable (here only *Speed*) to which it belongs. The confidence for an estimated coefficient $\\beta_j$ can be calculated from the standard error and the corresponding t-value (see e.g. [https://en.wikipedia.org/wiki/Simple_linear_regression#Normality_assumption](https://en.wikipedia.org/wiki/Simple_linear_regression#Normality_assumption)). The **standard error** for $\\beta_j, \\, j \\in \\{1,\\ldots,k\\}$ is: \n",
    "$$s_{\\beta_j}= \\sqrt{\\frac{\\frac{1}{n-(1+k)}\\sum\\limits_{i=1}^{N} \\epsilon_i}{\\sum\\limits_{i=1}^{N}(x_{i,j}-\\overline{x}_j)^2}},$$\n",
    "where $x_{i,j}$ is the $i.th$ observation of the $j.th$ input-variable and $\\overline{x}_j$ is the mean of the $j.th$ input-variable.\n",
    "\n",
    "The standard error for the estimated intercept $\\beta_0$ in the case of simple linear regression ($k=1$) is:\n",
    "$$s_{\\beta_0}= s_{\\beta_1} \\sqrt{\\frac{1}{N}\\sum\\limits_{i=1}^{N} x_{i,1}^2}$$\n",
    "\n",
    "For all $j \\in \\{0,\\ldots,k\\}$ the t-value of $\\beta_j$ can be calculated by:\n",
    "$$t_{\\beta_j}=\\frac{\\beta_j}{s_{\\beta_j}}$$\n",
    "This value follows a t-distribution of $n-(1+k)$ degrees of freedom. From this distribution the p-value can be obtained.\n",
    "The p-value of a coefficient is the probability for the null-hypothesis, which states, that the coefficient is 0. A very small p-value indicates, that the corresponding parameter is meaningful. Parameters with p-values $>0.05$ are statistically not significant. Hence, the p-values can be applied for feature selection.\n",
    "\n",
    "Moreover, a confidence intervall for each estimated coeffiecient can be defined as follows:\n",
    "$$\\beta_j \\in [ \\beta_j-s_{\\beta_j}t_{\\beta_j},\\beta_j+s_{\\beta_j}t_{\\beta_j}] \\quad \\mbox{ for } \\quad j \\in \\{0,\\ldots,k\\}$$"
   ]
  },
  {
   "cell_type": "markdown",
   "metadata": {},
   "source": [
    "Calculation of the standard error of the residuals, the standard error of the coefficients, the t-values and the p-values can be done as follows:\n",
    "\n",
    "*Standard Error of Residuals:*"
   ]
  },
  {
   "cell_type": "code",
   "execution_count": 11,
   "metadata": {
    "collapsed": false
   },
   "outputs": [
    {
     "data": {
      "text/html": [
       "30"
      ],
      "text/latex": [
       "30"
      ],
      "text/markdown": [
       "30"
      ],
      "text/plain": [
       "[1] 30"
      ]
     },
     "metadata": {},
     "output_type": "display_data"
    },
    {
     "data": {
      "text/html": [
       "1"
      ],
      "text/latex": [
       "1"
      ],
      "text/markdown": [
       "1"
      ],
      "text/plain": [
       "[1] 1"
      ]
     },
     "metadata": {},
     "output_type": "display_data"
    },
    {
     "data": {
      "text/html": [
       "28"
      ],
      "text/latex": [
       "28"
      ],
      "text/markdown": [
       "28"
      ],
      "text/plain": [
       "[1] 28"
      ]
     },
     "metadata": {},
     "output_type": "display_data"
    },
    {
     "data": {
      "text/html": [
       "9.52158282022959"
      ],
      "text/latex": [
       "9.52158282022959"
      ],
      "text/markdown": [
       "9.52158282022959"
      ],
      "text/plain": [
       "[1] 9.521583"
      ]
     },
     "metadata": {},
     "output_type": "display_data"
    }
   ],
   "source": [
    "(n<-length(linFitDF[,'residual']))\n",
    "(k<-length(linFit$coefficients)-1)\n",
    "(deg_freedom<- n-(1+k))\n",
    "(Std_Error_Residuals<-sqrt(sum(linFitDF[,'residual']**2)/deg_freedom))"
   ]
  },
  {
   "cell_type": "markdown",
   "metadata": {},
   "source": [
    "*Standard Error of estimated coefficients:*"
   ]
  },
  {
   "cell_type": "code",
   "execution_count": 12,
   "metadata": {
    "collapsed": false
   },
   "outputs": [
    {
     "data": {
      "text/html": [
       "3.84992033045049"
      ],
      "text/latex": [
       "3.84992033045049"
      ],
      "text/markdown": [
       "3.84992033045049"
      ],
      "text/plain": [
       "[1] 3.84992"
      ]
     },
     "metadata": {},
     "output_type": "display_data"
    },
    {
     "data": {
      "text/html": [
       "18.4334410563372"
      ],
      "text/latex": [
       "18.4334410563372"
      ],
      "text/markdown": [
       "18.4334410563372"
      ],
      "text/plain": [
       "[1] 18.43344"
      ]
     },
     "metadata": {},
     "output_type": "display_data"
    }
   ],
   "source": [
    "normedHR<-heartrate[,'Speed']-mean(heartrate[,'Speed'])\n",
    "(Std_Error_Beta1<-sqrt(sum(linFitDF[,'residual']**2)/(n-(1+k))/sum(normedHR**2)))\n",
    "(Std_Error_Beta0<-Std_Error_Beta1*sqrt(1/n*sum(heartrate[,'Speed']**2)))"
   ]
  },
  {
   "cell_type": "markdown",
   "metadata": {},
   "source": [
    "*t-values of estimated coefficients:*"
   ]
  },
  {
   "cell_type": "code",
   "execution_count": 13,
   "metadata": {
    "collapsed": false
   },
   "outputs": [
    {
     "data": {
      "text/html": [
       "<strong>Speed:</strong> 5.43678046960419"
      ],
      "text/latex": [
       "\\textbf{Speed:} 5.43678046960419"
      ],
      "text/markdown": [
       "**Speed:** 5.43678046960419"
      ],
      "text/plain": [
       "  Speed \n",
       "5.43678 "
      ]
     },
     "metadata": {},
     "output_type": "display_data"
    },
    {
     "data": {
      "text/html": [
       "<strong>(Intercept):</strong> 3.67159238131514"
      ],
      "text/latex": [
       "\\textbf{(Intercept):} 3.67159238131514"
      ],
      "text/markdown": [
       "**(Intercept):** 3.67159238131514"
      ],
      "text/plain": [
       "(Intercept) \n",
       "   3.671592 "
      ]
     },
     "metadata": {},
     "output_type": "display_data"
    }
   ],
   "source": [
    "(t_Beta1<-linFit$coefficients[2]/Std_Error_Beta1)\n",
    "(t_Beta0<-linFit$coefficients[1]/Std_Error_Beta0)"
   ]
  },
  {
   "cell_type": "markdown",
   "metadata": {},
   "source": [
    "*p-Values of estimated coefficients:*"
   ]
  },
  {
   "cell_type": "code",
   "execution_count": 14,
   "metadata": {
    "collapsed": false
   },
   "outputs": [
    {
     "data": {
      "text/html": [
       "<strong>Speed:</strong> 8.41476187085632e-06"
      ],
      "text/latex": [
       "\\textbf{Speed:} 8.41476187085632e-06"
      ],
      "text/markdown": [
       "**Speed:** 8.41476187085632e-06"
      ],
      "text/plain": [
       "       Speed \n",
       "8.414762e-06 "
      ]
     },
     "metadata": {},
     "output_type": "display_data"
    },
    {
     "data": {
      "text/html": [
       "<strong>(Intercept):</strong> 0.00100611196589417"
      ],
      "text/latex": [
       "\\textbf{(Intercept):} 0.00100611196589417"
      ],
      "text/markdown": [
       "**(Intercept):** 0.00100611196589417"
      ],
      "text/plain": [
       "(Intercept) \n",
       "0.001006112 "
      ]
     },
     "metadata": {},
     "output_type": "display_data"
    }
   ],
   "source": [
    "(pval1<-2*(1-pt(abs(t_Beta1),df=deg_freedom)))\n",
    "(pval0<-2*(1-pt(abs(t_Beta0),df=deg_freedom)))"
   ]
  },
  {
   "cell_type": "markdown",
   "metadata": {},
   "source": [
    "*Confidence Intervalls for estimated coefficients:*"
   ]
  },
  {
   "cell_type": "code",
   "execution_count": 15,
   "metadata": {
    "collapsed": false
   },
   "outputs": [
    {
     "data": {
      "text/html": [
       "<table>\n",
       "<thead><tr><th></th><th scope=col>2.5 %</th><th scope=col>97.5 %</th></tr></thead>\n",
       "<tbody>\n",
       "\t<tr><th scope=row>(Intercept)</th><td>29.92089 </td><td>105.43927</td></tr>\n",
       "\t<tr><th scope=row>Speed</th><td>13.04497 </td><td> 28.81738</td></tr>\n",
       "</tbody>\n",
       "</table>\n"
      ],
      "text/latex": [
       "\\begin{tabular}{r|ll}\n",
       "  & 2.5 \\% & 97.5 \\%\\\\\n",
       "\\hline\n",
       "\t(Intercept) & 29.92089  & 105.43927\\\\\n",
       "\tSpeed & 13.04497  &  28.81738\\\\\n",
       "\\end{tabular}\n"
      ],
      "text/markdown": [
       "\n",
       "| <!--/--> | 2.5 % | 97.5 % | \n",
       "|---|---|\n",
       "| (Intercept) | 29.92089  | 105.43927 | \n",
       "| Speed | 13.04497  |  28.81738 | \n",
       "\n",
       "\n"
      ],
      "text/plain": [
       "            2.5 %    97.5 %   \n",
       "(Intercept) 29.92089 105.43927\n",
       "Speed       13.04497  28.81738"
      ]
     },
     "metadata": {},
     "output_type": "display_data"
    }
   ],
   "source": [
    "confint(linFit)"
   ]
  },
  {
   "cell_type": "markdown",
   "metadata": {},
   "source": [
    "**Coefficient of determination $R^2$:** This metric indicates the proportion of the variance in the output-variable that is predictable by the input-variable(s). It is calculated as follows:\n",
    "$$R^2=1-\\frac{SS_e}{SS_y}, \\quad \\mbox{ with } SS_e=\\sum\\limits_{i=1}^N(y_i-\\hat{y}_i)^2, \\quad SS_y=\\sum\\limits_{i=1}^N(y_i-\\overline{y})^2, \\quad \\mbox{ and } \\overline{y}=\\frac{1}{N} \\sum\\limits_{i=1}^N y_i$$\n",
    "The maximum value for $R^2$ is 1. It is achieved, if all predicted values $\\hat{y}_i$ are equal to the observed values $y_i$. The mininum value of 0 appears for a model, which always predicts the mean $\\overline{y}$ of the output-variable. For such a trivial model, no input-variable is required. \n",
    "\n",
    "The adjusted $R^2$ normalizes $R^2$ by taking into account the number of samples and the number of variables:\n",
    "$$R^2_{adj}=1-\\frac{SS_e}{SS_y}\\frac{n-1}{n-(1+k)}$$"
   ]
  },
  {
   "cell_type": "markdown",
   "metadata": {},
   "source": [
    "*Calculation of $R^2$ and adjusted $R^2$:*"
   ]
  },
  {
   "cell_type": "code",
   "execution_count": 16,
   "metadata": {
    "collapsed": false,
    "scrolled": true
   },
   "outputs": [
    {
     "data": {
      "text/html": [
       "0.513539092033777"
      ],
      "text/latex": [
       "0.513539092033777"
      ],
      "text/markdown": [
       "0.513539092033777"
      ],
      "text/plain": [
       "[1] 0.5135391"
      ]
     },
     "metadata": {},
     "output_type": "display_data"
    },
    {
     "data": {
      "text/html": [
       "0.49616548817784"
      ],
      "text/latex": [
       "0.49616548817784"
      ],
      "text/markdown": [
       "0.49616548817784"
      ],
      "text/plain": [
       "[1] 0.4961655"
      ]
     },
     "metadata": {},
     "output_type": "display_data"
    }
   ],
   "source": [
    "normedOutput<-linFitDF[,'observed']-mean(linFitDF[,'observed'])\n",
    "(R2<-1-sum(linFitDF[,'residual']**2)/sum(normedOutput**2))\n",
    "(R2adj<-1-sum(linFitDF[,'residual']**2)/sum(normedOutput**2)*(n-1)/(n-(1+k)))"
   ]
  },
  {
   "cell_type": "markdown",
   "metadata": {},
   "source": [
    "## Multiple linear Regression\n",
    "### Load and visualize data"
   ]
  },
  {
   "cell_type": "code",
   "execution_count": 17,
   "metadata": {
    "collapsed": false
   },
   "outputs": [
    {
     "name": "stdout",
     "output_type": "stream",
     "text": [
      "'data.frame':\t65 obs. of  10 variables:\n",
      " $ Country  : Factor w/ 65 levels \"Algeria\",\"Argentina\",..: 63 11 35 2 9 12 15 18 40 65 ...\n",
      " $ Oil      : num  842.9 97 85.6 22.3 104.3 ...\n",
      " $ Gas      : num  588.7 85.2 62.7 38.8 18.3 ...\n",
      " $ Coal     : num  498 26.5 6.8 1.1 11.7 4.1 3.1 0 0.5 0 ...\n",
      " $ Nuclear  : num  190.2 20.3 2.2 1.8 2.9 ...\n",
      " $ Hydro    : num  62.2 90.2 6 9.2 88.5 5.6 9.3 2.1 4.5 19.5 ...\n",
      " $ Total2009: num  2182 319.2 163.2 73.3 225.7 ...\n",
      " $ CO2Emm   : num  5942 603 437 164 409 ...\n",
      " $ Lat      : num  37.1 56.1 23.6 -38.4 -14.2 ...\n",
      " $ Long     : num  -95.7 -106.3 -102.6 -63.6 -51.9 ...\n"
     ]
    },
    {
     "data": {
      "text/plain": [
       "       Country        Oil              Gas              Coal        \n",
       " Algeria   : 1   Min.   :  1.00   Min.   :  0.00   Min.   :   0.00  \n",
       " Argentina : 1   1st Qu.:  9.70   1st Qu.:  4.00   1st Qu.:   0.70  \n",
       " Australia : 1   Median : 20.20   Median : 17.80   Median :   4.10  \n",
       " Austria   : 1   Mean   : 55.66   Mean   : 39.15   Mean   :  49.45  \n",
       " Azerbaijan: 1   3rd Qu.: 62.00   3rd Qu.: 38.40   3rd Qu.:  26.50  \n",
       " Bangladesh: 1   Max.   :842.90   Max.   :588.70   Max.   :1537.40  \n",
       " (Other)   :59                                                      \n",
       "    Nuclear            Hydro          Total2009          CO2Emm      \n",
       " Min.   :  0.000   Min.   :  0.00   Min.   :   3.9   Min.   :   3.5  \n",
       " 1st Qu.:  0.000   1st Qu.:  0.30   1st Qu.:  24.2   1st Qu.:  57.9  \n",
       " Median :  0.000   Median :  2.10   Median :  60.8   Median : 148.0  \n",
       " Mean   :  9.365   Mean   : 10.35   Mean   : 164.0   Mean   : 458.6  \n",
       " 3rd Qu.:  5.400   3rd Qu.:  8.10   3rd Qu.: 128.2   3rd Qu.: 388.5  \n",
       " Max.   :190.200   Max.   :139.30   Max.   :2182.0   Max.   :7518.5  \n",
       "                                                                     \n",
       "      Lat              Long         \n",
       " Min.   :-40.90   Min.   :-106.347  \n",
       " 1st Qu.: 22.29   1st Qu.:   2.214  \n",
       " Median : 38.96   Median :  23.881  \n",
       " Mean   : 30.21   Mean   :  29.258  \n",
       " 3rd Qu.: 48.67   3rd Qu.:  66.924  \n",
       " Max.   : 64.96   Max.   : 174.886  \n",
       "                                    "
      ]
     },
     "metadata": {},
     "output_type": "display_data"
    }
   ],
   "source": [
    "energyData=read.csv(file=\"../data/EnergyMixGeo.csv\", header=TRUE, sep=\",\",row.names=1)\n",
    "#sapply(energyData,mode)\n",
    "str(energyData)\n",
    "summary(energyData)"
   ]
  },
  {
   "cell_type": "code",
   "execution_count": 18,
   "metadata": {
    "collapsed": false
   },
   "outputs": [
    {
     "name": "stdout",
     "output_type": "stream",
     "text": [
      "'data.frame':\t61 obs. of  6 variables:\n",
      " $ Oil    : num  97 85.6 22.3 104.3 15.4 ...\n",
      " $ Gas    : num  85.2 62.7 38.8 18.3 3 7.8 0.4 3.1 26.8 8.4 ...\n",
      " $ Coal   : num  26.5 6.8 1.1 11.7 4.1 3.1 0 0.5 0 2.3 ...\n",
      " $ Nuclear: num  20.3 2.2 1.8 2.9 0 0 0 0 0 0 ...\n",
      " $ Hydro  : num  90.2 6 9.2 88.5 5.6 9.3 2.1 4.5 19.5 8.3 ...\n",
      " $ CO2Emm : num  602.7 436.8 164.2 409.4 70.3 ...\n"
     ]
    }
   ],
   "source": [
    "THRES_CO2<-1500\n",
    "sources<-c(\"Oil\",\"Gas\",\"Coal\",\"Nuclear\",\"Hydro\",\"CO2Emm\")\n",
    "co2<-energyData[,\"CO2Emm\"]\n",
    "mask<-co2<THRES_CO2\n",
    "redData<-energyData[mask,sources]\n",
    "str(redData)"
   ]
  },
  {
   "cell_type": "code",
   "execution_count": 19,
   "metadata": {
    "collapsed": false
   },
   "outputs": [
    {
     "data": {
      "image/png": "[encoded data removed]",
      "text/plain": [
       "plot without title"
      ]
     },
     "metadata": {},
     "output_type": "display_data"
    }
   ],
   "source": [
    "mycolors <- rainbow(6)\n",
    "par(mfrow=(c(3,2)),pin=c(2, 1.25))\n",
    "plot(redData$Oil,redData$CO2Emm,col=mycolors[1])\n",
    "plot(redData$Gas,redData$CO2Emm,col=mycolors[2])\n",
    "plot(redData$Coal,redData$CO2Emm,col=mycolors[3])\n",
    "plot(redData$Nuclear,redData$CO2Emm,col=mycolors[4])\n",
    "plot(redData$Hydro,redData$CO2Emm,col=mycolors[5])"
   ]
  },
  {
   "cell_type": "markdown",
   "metadata": {},
   "source": [
    "Another possibility to visually analyze correlations between the parameters is the use of *scatterplotMatrix()* from the package *car*:"
   ]
  },
  {
   "cell_type": "code",
   "execution_count": 20,
   "metadata": {
    "collapsed": false,
    "scrolled": true
   },
   "outputs": [
    {
     "data": {
      "image/png": "[encoded data removed]",
      "text/plain": [
       "plot without title"
      ]
     },
     "metadata": {},
     "output_type": "display_data"
    }
   ],
   "source": [
    "library(car)\n",
    "scatterplotMatrix(redData, spread=FALSE, smoother.args=list(lty=2),\n",
    "    main=\"Scatter Plot Matrix\")"
   ]
  },
  {
   "cell_type": "markdown",
   "metadata": {},
   "source": [
    "### Calculate the regression model"
   ]
  },
  {
   "cell_type": "code",
   "execution_count": 21,
   "metadata": {
    "collapsed": false
   },
   "outputs": [
    {
     "data": {
      "text/plain": [
       "\n",
       "Call:\n",
       "lm(formula = CO2Emm ~ Oil + Gas + Coal + Nuclear + Hydro, data = redData)\n",
       "\n",
       "Coefficients:\n",
       "(Intercept)          Oil          Gas         Coal      Nuclear        Hydro  \n",
       "  0.0167740    3.0689512    2.3475854    3.9614972   -0.0010719    0.0007234  \n"
      ]
     },
     "metadata": {},
     "output_type": "display_data"
    }
   ],
   "source": [
    "(linFitMult<-lm(CO2Emm ~ Oil + Gas + Coal + Nuclear + Hydro, data=redData))"
   ]
  },
  {
   "cell_type": "code",
   "execution_count": 22,
   "metadata": {
    "collapsed": false
   },
   "outputs": [
    {
     "data": {
      "text/plain": [
       "\n",
       "Call:\n",
       "lm(formula = CO2Emm ~ Oil + Gas + Coal + Nuclear + Hydro, data = redData)\n",
       "\n",
       "Residuals:\n",
       "     Min       1Q   Median       3Q      Max \n",
       "-0.42627 -0.08321  0.01108  0.09363  0.30199 \n",
       "\n",
       "Coefficients:\n",
       "              Estimate Std. Error  t value Pr(>|t|)    \n",
       "(Intercept)  0.0167740  0.0308803    0.543    0.589    \n",
       "Oil          3.0689512  0.0011352 2703.410   <2e-16 ***\n",
       "Gas          2.3475854  0.0012722 1845.315   <2e-16 ***\n",
       "Coal         3.9614972  0.0011608 3412.649   <2e-16 ***\n",
       "Nuclear     -0.0010719  0.0018015   -0.595    0.554    \n",
       "Hydro        0.0007234  0.0014588    0.496    0.622    \n",
       "---\n",
       "Signif. codes:  0 '***' 0.001 '**' 0.01 '*' 0.05 '.' 0.1 ' ' 1\n",
       "\n",
       "Residual standard error: 0.1669 on 55 degrees of freedom\n",
       "Multiple R-squared:      1,\tAdjusted R-squared:      1 \n",
       "F-statistic: 2.261e+07 on 5 and 55 DF,  p-value: < 2.2e-16\n"
      ]
     },
     "metadata": {},
     "output_type": "display_data"
    }
   ],
   "source": [
    "summary(linFitMult)"
   ]
  },
  {
   "cell_type": "markdown",
   "metadata": {},
   "source": [
    "<a id='multisteps'></a>\n",
    "### Calculate Regression Parameters step by step\n",
    "In order to understand the parameters returned by R's *lm()*-function and listed in the *summary()*-report, this subsection describes how these parameters are calculated. "
   ]
  },
  {
   "cell_type": "markdown",
   "metadata": {},
   "source": [
    "**Residuals:** This part plots the quartiles of the residuals $\\epsilon_i=y_i-\\hat{y}_i$ between the observed output variable $y_i$ and the predicted output $\\hat{y}_i$ for all $N$ observations. Observed -, predicted- and residual values are arranged in the following dataframe. "
   ]
  },
  {
   "cell_type": "code",
   "execution_count": 23,
   "metadata": {
    "collapsed": false
   },
   "outputs": [
    {
     "data": {
      "text/html": [
       "<table>\n",
       "<thead><tr><th scope=col>observed</th><th scope=col>predicted</th><th scope=col>residual</th></tr></thead>\n",
       "<tbody>\n",
       "\t<tr><td>602.7      </td><td>602.74248  </td><td>-0.04248188</td></tr>\n",
       "\t<tr><td>436.8      </td><td>436.85276  </td><td>-0.05276151</td></tr>\n",
       "\t<tr><td>164.2      </td><td>163.90307  </td><td> 0.29692818</td></tr>\n",
       "\t<tr><td>409.4      </td><td>409.47962  </td><td>-0.07962391</td></tr>\n",
       "\t<tr><td> 70.3      </td><td> 70.56757  </td><td>-0.26756771</td></tr>\n",
       "\t<tr><td> 57.9      </td><td> 57.62208  </td><td> 0.27792043</td></tr>\n",
       "</tbody>\n",
       "</table>\n"
      ],
      "text/latex": [
       "\\begin{tabular}{r|lll}\n",
       " observed & predicted & residual\\\\\n",
       "\\hline\n",
       "\t 602.7       & 602.74248   & -0.04248188\\\\\n",
       "\t 436.8       & 436.85276   & -0.05276151\\\\\n",
       "\t 164.2       & 163.90307   &  0.29692818\\\\\n",
       "\t 409.4       & 409.47962   & -0.07962391\\\\\n",
       "\t  70.3       &  70.56757   & -0.26756771\\\\\n",
       "\t  57.9       &  57.62208   &  0.27792043\\\\\n",
       "\\end{tabular}\n"
      ],
      "text/markdown": [
       "\n",
       "observed | predicted | residual | \n",
       "|---|---|---|---|---|---|\n",
       "| 602.7       | 602.74248   | -0.04248188 | \n",
       "| 436.8       | 436.85276   | -0.05276151 | \n",
       "| 164.2       | 163.90307   |  0.29692818 | \n",
       "| 409.4       | 409.47962   | -0.07962391 | \n",
       "|  70.3       |  70.56757   | -0.26756771 | \n",
       "|  57.9       |  57.62208   |  0.27792043 | \n",
       "\n",
       "\n"
      ],
      "text/plain": [
       "  observed predicted residual   \n",
       "1 602.7    602.74248 -0.04248188\n",
       "2 436.8    436.85276 -0.05276151\n",
       "3 164.2    163.90307  0.29692818\n",
       "4 409.4    409.47962 -0.07962391\n",
       "5  70.3     70.56757 -0.26756771\n",
       "6  57.9     57.62208  0.27792043"
      ]
     },
     "metadata": {},
     "output_type": "display_data"
    }
   ],
   "source": [
    "linFitMultDF<-data.frame(observed=redData$CO2Emm,predicted=fitted(linFitMult),residual=residuals(linFitMult))\n",
    "head(linFitMultDF)"
   ]
  },
  {
   "cell_type": "markdown",
   "metadata": {},
   "source": [
    "The *summary()*-report contains the quartiles of the residuals. They are calculated as follows:"
   ]
  },
  {
   "cell_type": "code",
   "execution_count": 24,
   "metadata": {
    "collapsed": false,
    "run_control": {
     "marked": false
    }
   },
   "outputs": [
    {
     "data": {
      "text/html": [
       "<dl class=dl-horizontal>\n",
       "\t<dt>0%</dt>\n",
       "\t\t<dd>-0.426266045725655</dd>\n",
       "\t<dt>25%</dt>\n",
       "\t\t<dd>-0.0832083512336304</dd>\n",
       "\t<dt>50%</dt>\n",
       "\t\t<dd>0.0110846423575012</dd>\n",
       "\t<dt>75%</dt>\n",
       "\t\t<dd>0.0936305898073774</dd>\n",
       "\t<dt>100%</dt>\n",
       "\t\t<dd>0.301991727143287</dd>\n",
       "</dl>\n"
      ],
      "text/latex": [
       "\\begin{description*}\n",
       "\\item[0\\textbackslash{}\\%] -0.426266045725655\n",
       "\\item[25\\textbackslash{}\\%] -0.0832083512336304\n",
       "\\item[50\\textbackslash{}\\%] 0.0110846423575012\n",
       "\\item[75\\textbackslash{}\\%] 0.0936305898073774\n",
       "\\item[100\\textbackslash{}\\%] 0.301991727143287\n",
       "\\end{description*}\n"
      ],
      "text/markdown": [
       "0%\n",
       ":   -0.42626604572565525%\n",
       ":   -0.083208351233630450%\n",
       ":   0.011084642357501275%\n",
       ":   0.0936305898073774100%\n",
       ":   0.301991727143287\n",
       "\n"
      ],
      "text/plain": [
       "         0%         25%         50%         75%        100% \n",
       "-0.42626605 -0.08320835  0.01108464  0.09363059  0.30199173 "
      ]
     },
     "metadata": {},
     "output_type": "display_data"
    }
   ],
   "source": [
    "quantile(residuals(linFitMult))"
   ]
  },
  {
   "cell_type": "markdown",
   "metadata": {},
   "source": [
    "The standard error of the residuals is defined as\n",
    "$$s_{Res}=\\sqrt{\\frac{1}{n-(1+k)}\\sum\\limits_{i=1}^{N} \\epsilon_i},$$"
   ]
  },
  {
   "cell_type": "code",
   "execution_count": 25,
   "metadata": {
    "collapsed": false,
    "run_control": {
     "marked": false
    }
   },
   "outputs": [
    {
     "data": {
      "text/html": [
       "61"
      ],
      "text/latex": [
       "61"
      ],
      "text/markdown": [
       "61"
      ],
      "text/plain": [
       "[1] 61"
      ]
     },
     "metadata": {},
     "output_type": "display_data"
    },
    {
     "data": {
      "text/html": [
       "5"
      ],
      "text/latex": [
       "5"
      ],
      "text/markdown": [
       "5"
      ],
      "text/plain": [
       "[1] 5"
      ]
     },
     "metadata": {},
     "output_type": "display_data"
    },
    {
     "data": {
      "text/html": [
       "55"
      ],
      "text/latex": [
       "55"
      ],
      "text/markdown": [
       "55"
      ],
      "text/plain": [
       "[1] 55"
      ]
     },
     "metadata": {},
     "output_type": "display_data"
    },
    {
     "data": {
      "text/html": [
       "0.166928055467662"
      ],
      "text/latex": [
       "0.166928055467662"
      ],
      "text/markdown": [
       "0.166928055467662"
      ],
      "text/plain": [
       "[1] 0.1669281"
      ]
     },
     "metadata": {},
     "output_type": "display_data"
    }
   ],
   "source": [
    "(n<-length(linFitMultDF[,'residual']))\n",
    "(k<-length(linFitMult$coefficients)-1)\n",
    "(deg_freedom<- n-(1+k))\n",
    "(Std_Error_Residuals<-sqrt(sum(linFitMultDF[,'residual']**2)/deg_freedom))"
   ]
  },
  {
   "cell_type": "markdown",
   "metadata": {},
   "source": [
    "**Coefficients:** OLS estimates the coefficients $\\beta_j$ by \n",
    "$$\\boldsymbol{\\beta} = (X^T X)^{-1} X^T \\cdot \\mathbf{y}.$$\n",
    "\n",
    "*Build matrix $X$:*"
   ]
  },
  {
   "cell_type": "code",
   "execution_count": 26,
   "metadata": {
    "collapsed": false
   },
   "outputs": [
    {
     "data": {
      "text/html": [
       "<ol class=list-inline>\n",
       "\t<li>61</li>\n",
       "\t<li>5</li>\n",
       "</ol>\n"
      ],
      "text/latex": [
       "\\begin{enumerate*}\n",
       "\\item 61\n",
       "\\item 5\n",
       "\\end{enumerate*}\n"
      ],
      "text/markdown": [
       "1. 61\n",
       "2. 5\n",
       "\n",
       "\n"
      ],
      "text/plain": [
       "[1] 61  5"
      ]
     },
     "metadata": {},
     "output_type": "display_data"
    }
   ],
   "source": [
    "redSources<-data.matrix(redData[,-6])\n",
    "dim(redSources)\n",
    "O<-matrix(rep(1,61),61,1)\n",
    "X<-cbind(O,redSources)"
   ]
  },
  {
   "cell_type": "markdown",
   "metadata": {},
   "source": [
    "*Calculate the coefficients $\\boldsymbol{\\beta}=(\\beta_0,\\beta_1,\\ldots,\\beta_k)$*:"
   ]
  },
  {
   "cell_type": "code",
   "execution_count": 27,
   "metadata": {
    "collapsed": false
   },
   "outputs": [
    {
     "data": {
      "text/html": [
       "<table>\n",
       "<tbody>\n",
       "\t<tr><th scope=row></th><td> 0.016774025</td></tr>\n",
       "\t<tr><th scope=row>Oil</th><td> 3.068951152</td></tr>\n",
       "\t<tr><th scope=row>Gas</th><td> 2.347585416</td></tr>\n",
       "\t<tr><th scope=row>Coal</th><td> 3.961497204</td></tr>\n",
       "\t<tr><th scope=row>Nuclear</th><td>-0.001071921</td></tr>\n",
       "\t<tr><th scope=row>Hydro</th><td> 0.000723423</td></tr>\n",
       "</tbody>\n",
       "</table>\n"
      ],
      "text/latex": [
       "\\begin{tabular}{r|l}\n",
       "\t &  0.016774025\\\\\n",
       "\tOil &  3.068951152\\\\\n",
       "\tGas &  2.347585416\\\\\n",
       "\tCoal &  3.961497204\\\\\n",
       "\tNuclear & -0.001071921\\\\\n",
       "\tHydro &  0.000723423\\\\\n",
       "\\end{tabular}\n"
      ],
      "text/markdown": [
       "\n",
       "|  |  0.016774025 | \n",
       "| Oil |  3.068951152 | \n",
       "| Gas |  2.347585416 | \n",
       "| Coal |  3.961497204 | \n",
       "| Nuclear | -0.001071921 | \n",
       "| Hydro |  0.000723423 | \n",
       "\n",
       "\n"
      ],
      "text/plain": [
       "        [,1]        \n",
       "         0.016774025\n",
       "Oil      3.068951152\n",
       "Gas      2.347585416\n",
       "Coal     3.961497204\n",
       "Nuclear -0.001071921\n",
       "Hydro    0.000723423"
      ]
     },
     "metadata": {},
     "output_type": "display_data"
    }
   ],
   "source": [
    "XT<-t(X)\n",
    "XInv<-solve(XT %*% X)\n",
    "y_hat<-data.matrix(redData[,6])\n",
    "(beta<-(XInv %*% XT) %*% y_hat)"
   ]
  },
  {
   "cell_type": "markdown",
   "metadata": {},
   "source": [
    "The *summary()* contains not only the estimated coefficients $\\beta_j$, but also for each coefficient, the \n",
    "* standard error\n",
    "* t-test statistic\n",
    "* p-value\n",
    "\n",
    "The following code snippets show, how these parameters are calculated.\n",
    "\n",
    "*Standard Error of estimated coefficients:* Let $v_{jj}, \\, j \\in \\{0,\\ldots,k\\} $ be the diagonal-elements of $(X^T X)^{-1}$, then the standard-error $s_{\\beta_j}$ of coefficient $\\beta_j$ is \n",
    "$$s_{\\beta_j}=s_{Res} \\sqrt{v_{jj}} \\quad \\mbox{ for } \\quad j \\in \\{0,\\ldots,k\\}$$"
   ]
  },
  {
   "cell_type": "code",
   "execution_count": 28,
   "metadata": {
    "collapsed": false
   },
   "outputs": [
    {
     "data": {
      "text/html": [
       "<dl class=dl-horizontal>\n",
       "\t<dt>1</dt>\n",
       "\t\t<dd>0.030880255989832</dd>\n",
       "\t<dt>Oil</dt>\n",
       "\t\t<dd>0.00113521504857278</dd>\n",
       "\t<dt>Gas</dt>\n",
       "\t\t<dd>0.00127218679291936</dd>\n",
       "\t<dt>Coal</dt>\n",
       "\t\t<dd>0.0011608275668874</dd>\n",
       "\t<dt>Nuclear</dt>\n",
       "\t\t<dd>0.00180146988081862</dd>\n",
       "\t<dt>Hydro</dt>\n",
       "\t\t<dd>0.0014588103546192</dd>\n",
       "</dl>\n"
      ],
      "text/latex": [
       "\\begin{description*}\n",
       "\\item[1] 0.030880255989832\n",
       "\\item[Oil] 0.00113521504857278\n",
       "\\item[Gas] 0.00127218679291936\n",
       "\\item[Coal] 0.0011608275668874\n",
       "\\item[Nuclear] 0.00180146988081862\n",
       "\\item[Hydro] 0.0014588103546192\n",
       "\\end{description*}\n"
      ],
      "text/markdown": [
       "1\n",
       ":   0.030880255989832Oil\n",
       ":   0.00113521504857278Gas\n",
       ":   0.00127218679291936Coal\n",
       ":   0.0011608275668874Nuclear\n",
       ":   0.00180146988081862Hydro\n",
       ":   0.0014588103546192\n",
       "\n"
      ],
      "text/plain": [
       "                    Oil         Gas        Coal     Nuclear       Hydro \n",
       "0.030880256 0.001135215 0.001272187 0.001160828 0.001801470 0.001458810 "
      ]
     },
     "metadata": {},
     "output_type": "display_data"
    }
   ],
   "source": [
    "(Std_Error_Coeffs<-Std_Error_Residuals*sqrt(diag(XInv)))"
   ]
  },
  {
   "cell_type": "markdown",
   "metadata": {},
   "source": [
    "The *t-test-statistic of estimated coefficients* is calculated by\n",
    "$$t_{\\beta_j}=\\frac{\\beta_j}{s_{\\beta_j}} \\quad \\mbox{ for } \\quad j \\in \\{0,\\ldots,k\\}$$"
   ]
  },
  {
   "cell_type": "code",
   "execution_count": 29,
   "metadata": {
    "collapsed": false
   },
   "outputs": [
    {
     "data": {
      "text/html": [
       "<table>\n",
       "<tbody>\n",
       "\t<tr><th scope=row></th><td>   0.5431958</td></tr>\n",
       "\t<tr><th scope=row>Oil</th><td>2703.4095042</td></tr>\n",
       "\t<tr><th scope=row>Gas</th><td>1845.3150351</td></tr>\n",
       "\t<tr><th scope=row>Coal</th><td>3412.6491456</td></tr>\n",
       "\t<tr><th scope=row>Nuclear</th><td>  -0.5950257</td></tr>\n",
       "\t<tr><th scope=row>Hydro</th><td>   0.4958992</td></tr>\n",
       "</tbody>\n",
       "</table>\n"
      ],
      "text/latex": [
       "\\begin{tabular}{r|l}\n",
       "\t &    0.5431958\\\\\n",
       "\tOil & 2703.4095042\\\\\n",
       "\tGas & 1845.3150351\\\\\n",
       "\tCoal & 3412.6491456\\\\\n",
       "\tNuclear &   -0.5950257\\\\\n",
       "\tHydro &    0.4958992\\\\\n",
       "\\end{tabular}\n"
      ],
      "text/markdown": [
       "\n",
       "|  |    0.5431958 | \n",
       "| Oil | 2703.4095042 | \n",
       "| Gas | 1845.3150351 | \n",
       "| Coal | 3412.6491456 | \n",
       "| Nuclear |   -0.5950257 | \n",
       "| Hydro |    0.4958992 | \n",
       "\n",
       "\n"
      ],
      "text/plain": [
       "        [,1]        \n",
       "           0.5431958\n",
       "Oil     2703.4095042\n",
       "Gas     1845.3150351\n",
       "Coal    3412.6491456\n",
       "Nuclear   -0.5950257\n",
       "Hydro      0.4958992"
      ]
     },
     "metadata": {},
     "output_type": "display_data"
    }
   ],
   "source": [
    "(t_vals<-beta/Std_Error_Coeffs)"
   ]
  },
  {
   "cell_type": "markdown",
   "metadata": {},
   "source": [
    "From the estimated coefficients, their standard error and their t-values a confidence intervall for each estimated coeffiecient can be defined as follows:\n",
    "$$\\beta_j \\in [ \\beta_j-s_{\\beta_j}t_{\\beta_j},\\beta_j+s_{\\beta_j}t_{\\beta_j}] \\quad \\mbox{ for } \\quad j \\in \\{0,\\ldots,k\\}$$"
   ]
  },
  {
   "cell_type": "markdown",
   "metadata": {},
   "source": [
    "The t-values follow a t-distribution of $n-(1+k)$ degrees of freedom. From this distribution the p-value can be obtained.\n",
    "The p-value of a coefficient is the probability for the null-hypothesis, which states, that the coefficient is 0. A very small p-value indicates, that the null-hypothesis can be rejected and the corresponding parameter is meaningful. Parameters with p-values $>0.05$ are statistically not significant. Hence, the p-values can be applied for feature selection."
   ]
  },
  {
   "cell_type": "markdown",
   "metadata": {},
   "source": [
    "*Calculate p-values:*"
   ]
  },
  {
   "cell_type": "code",
   "execution_count": 30,
   "metadata": {
    "collapsed": false
   },
   "outputs": [
    {
     "data": {
      "text/html": [
       "<table>\n",
       "<tbody>\n",
       "\t<tr><th scope=row></th><td>0.5891898</td></tr>\n",
       "\t<tr><th scope=row>Oil</th><td>0.0000000</td></tr>\n",
       "\t<tr><th scope=row>Gas</th><td>0.0000000</td></tr>\n",
       "\t<tr><th scope=row>Coal</th><td>0.0000000</td></tr>\n",
       "\t<tr><th scope=row>Nuclear</th><td>0.5542667</td></tr>\n",
       "\t<tr><th scope=row>Hydro</th><td>0.6219414</td></tr>\n",
       "</tbody>\n",
       "</table>\n"
      ],
      "text/latex": [
       "\\begin{tabular}{r|l}\n",
       "\t & 0.5891898\\\\\n",
       "\tOil & 0.0000000\\\\\n",
       "\tGas & 0.0000000\\\\\n",
       "\tCoal & 0.0000000\\\\\n",
       "\tNuclear & 0.5542667\\\\\n",
       "\tHydro & 0.6219414\\\\\n",
       "\\end{tabular}\n"
      ],
      "text/markdown": [
       "\n",
       "|  | 0.5891898 | \n",
       "| Oil | 0.0000000 | \n",
       "| Gas | 0.0000000 | \n",
       "| Coal | 0.0000000 | \n",
       "| Nuclear | 0.5542667 | \n",
       "| Hydro | 0.6219414 | \n",
       "\n",
       "\n"
      ],
      "text/plain": [
       "        [,1]     \n",
       "        0.5891898\n",
       "Oil     0.0000000\n",
       "Gas     0.0000000\n",
       "Coal    0.0000000\n",
       "Nuclear 0.5542667\n",
       "Hydro   0.6219414"
      ]
     },
     "metadata": {},
     "output_type": "display_data"
    }
   ],
   "source": [
    "(pval<-2*(1-pt(abs(t_vals),df=deg_freedom)))"
   ]
  },
  {
   "cell_type": "markdown",
   "metadata": {},
   "source": [
    "The p-values indicate, that *Nuclear* and *Hydro* are not relevant for the prediction of *CO2Emmission*."
   ]
  },
  {
   "cell_type": "markdown",
   "metadata": {},
   "source": [
    "**Coefficient of determination $R^2$:** This metric indicates the proportion of the variance in the output-variable that is predictable by the input-variable(s). It is calculated as follows:\n",
    "$$R^2=1-\\frac{SS_e}{SS_y}, \\quad \\mbox{ with } SS_e=\\sum\\limits_{i=1}^N(y_i-\\hat{y}_i)^2, \\quad SS_y=\\sum\\limits_{i=1}^N(y_i-\\overline{y})^2, \\quad \\mbox{ and } \\overline{y}=\\frac{1}{N} \\sum\\limits_{i=1}^N y_i$$\n",
    "The maximum value for $R^2$ is 1. It is achieved, if all predicted values $\\hat{y}_i$ are equal to the observed values $y_i$. The mininum value of 0 appears for a model, which always predicts the mean $\\overline{y}$ of the output-variable. For such a trivial model, no input-variable is required. \n",
    "\n",
    "The adjusted $R^2$ normalizes $R^2$ by taking into account the number of samples and the number of variables:\n",
    "$$R^2_{adj}=1-\\frac{SS_e}{SS_y}\\frac{n-1}{n-(1+k)}$$"
   ]
  },
  {
   "cell_type": "code",
   "execution_count": 31,
   "metadata": {
    "collapsed": false,
    "scrolled": true
   },
   "outputs": [
    {
     "data": {
      "text/html": [
       "0.999999513522277"
      ],
      "text/latex": [
       "0.999999513522277"
      ],
      "text/markdown": [
       "0.999999513522277"
      ],
      "text/plain": [
       "[1] 0.9999995"
      ]
     },
     "metadata": {},
     "output_type": "display_data"
    },
    {
     "data": {
      "text/html": [
       "0.99999946929703"
      ],
      "text/latex": [
       "0.99999946929703"
      ],
      "text/markdown": [
       "0.99999946929703"
      ],
      "text/plain": [
       "[1] 0.9999995"
      ]
     },
     "metadata": {},
     "output_type": "display_data"
    }
   ],
   "source": [
    "normedOutput<-linFitMultDF[,'observed']-mean(linFitMultDF[,'observed'])\n",
    "(R2<-1-sum(linFitMultDF[,'residual']**2)/sum(normedOutput**2))\n",
    "(R2adj<-1-sum(linFitMultDF[,'residual']**2)/sum(normedOutput**2)*(n-1)/(n-(1+k)))"
   ]
  },
  {
   "cell_type": "markdown",
   "metadata": {},
   "source": [
    "## Linear Regression for nonlinear functions\n",
    "In the example of [subsection Simple Linear Regression](#simpleLinReg), the linear function, which fits best (in terms of minimizing the sum of squared errors) to the given observations has been determined. However, it might be, that there is a polynomial function of higher degree, which yields a better fit than the best linear function. \n",
    "\n",
    "The same methods and concepts can be applied for fitting univariate polynomials of arbitrary degree $p$: \n",
    "\n",
    "$$ \\hat{y} = f(x_1) = \\beta_0 + \\beta_1 x_1 + \\beta_2 x_1^2 + \\ldots + \\beta_p x_1^p,$$\n",
    "\n",
    "multivariate polynomials of arbitrary degree, such as:\n",
    "\n",
    "$$ \\hat{y} = f(x_1,x_2,\\ldots,x_{k}) = \\beta_0 + \\beta_1 x_1 + \\beta_2 x_3^2 + \\beta_3 x_1 x_2 \\cdots x_k + \\beta_4 x_1 x_2^2 \\ldots $$\n",
    "\n",
    "or any other non-linear function, as long as all unknown coefficients $\\beta_j$ appear only linearly\n",
    "in the function. As long as this requirement is fulfilled we speak of *Linear Regression*.\n",
    "\n",
    "E.g. a function of type\n",
    "$$ f(x_1,x_2)=\\beta_0+\\beta_1 x_1^2+\\beta_2 sin(x_1 x_2)+ \\beta_3 log_{10}(x_1)$$\n",
    "belongs to Linear Regression, but\n",
    "$$ f(x_1,x_2)=\\beta_0+x_1^{\\beta_1}$$\n",
    "does not.\n",
    "\n",
    "In the example below the polynomial of degree 2, which best fits the given observations is calculated. As the exmaple shows the only difference is the construction of the input-observations-matrix $X$, which now contains also columns in which the input-variables are contained non-linearly."
   ]
  },
  {
   "cell_type": "markdown",
   "metadata": {},
   "source": [
    "### Calculate Polynomial Regression Model"
   ]
  },
  {
   "cell_type": "code",
   "execution_count": 32,
   "metadata": {
    "collapsed": false
   },
   "outputs": [
    {
     "data": {
      "text/plain": [
       "\n",
       "Call:\n",
       "lm(formula = Heartrate ~ Speed + I(Speed^2), data = heartrate)\n",
       "\n",
       "Coefficients:\n",
       "(Intercept)        Speed   I(Speed^2)  \n",
       "     445.13      -140.19        17.04  \n"
      ]
     },
     "metadata": {},
     "output_type": "display_data"
    }
   ],
   "source": [
    "(linFitPoly2<-lm(data=heartrate,Heartrate ~ Speed + I(Speed^2)))"
   ]
  },
  {
   "cell_type": "code",
   "execution_count": 33,
   "metadata": {
    "collapsed": false
   },
   "outputs": [
    {
     "data": {
      "text/html": [
       "<table>\n",
       "<thead><tr><th scope=col>speed</th><th scope=col>observed</th><th scope=col>predicted</th><th scope=col>residual</th></tr></thead>\n",
       "<tbody>\n",
       "\t<tr><td>4.50      </td><td>155.15    </td><td>159.2651  </td><td> -4.115150</td></tr>\n",
       "\t<tr><td>5.00      </td><td>166.68    </td><td>170.0905  </td><td> -3.410474</td></tr>\n",
       "\t<tr><td>4.50      </td><td>164.37    </td><td>159.2651  </td><td>  5.104850</td></tr>\n",
       "\t<tr><td>5.25      </td><td>160.82    </td><td>178.6973  </td><td>-17.877268</td></tr>\n",
       "\t<tr><td>4.50      </td><td>148.51    </td><td>159.2651  </td><td>-10.755150</td></tr>\n",
       "\t<tr><td>4.75      </td><td>169.83    </td><td>163.6131  </td><td>  6.216898</td></tr>\n",
       "</tbody>\n",
       "</table>\n"
      ],
      "text/latex": [
       "\\begin{tabular}{r|llll}\n",
       " speed & observed & predicted & residual\\\\\n",
       "\\hline\n",
       "\t 4.50       & 155.15     & 159.2651   &  -4.115150\\\\\n",
       "\t 5.00       & 166.68     & 170.0905   &  -3.410474\\\\\n",
       "\t 4.50       & 164.37     & 159.2651   &   5.104850\\\\\n",
       "\t 5.25       & 160.82     & 178.6973   & -17.877268\\\\\n",
       "\t 4.50       & 148.51     & 159.2651   & -10.755150\\\\\n",
       "\t 4.75       & 169.83     & 163.6131   &   6.216898\\\\\n",
       "\\end{tabular}\n"
      ],
      "text/markdown": [
       "\n",
       "speed | observed | predicted | residual | \n",
       "|---|---|---|---|---|---|\n",
       "| 4.50       | 155.15     | 159.2651   |  -4.115150 | \n",
       "| 5.00       | 166.68     | 170.0905   |  -3.410474 | \n",
       "| 4.50       | 164.37     | 159.2651   |   5.104850 | \n",
       "| 5.25       | 160.82     | 178.6973   | -17.877268 | \n",
       "| 4.50       | 148.51     | 159.2651   | -10.755150 | \n",
       "| 4.75       | 169.83     | 163.6131   |   6.216898 | \n",
       "\n",
       "\n"
      ],
      "text/plain": [
       "  speed observed predicted residual  \n",
       "1 4.50  155.15   159.2651   -4.115150\n",
       "2 5.00  166.68   170.0905   -3.410474\n",
       "3 4.50  164.37   159.2651    5.104850\n",
       "4 5.25  160.82   178.6973  -17.877268\n",
       "5 4.50  148.51   159.2651  -10.755150\n",
       "6 4.75  169.83   163.6131    6.216898"
      ]
     },
     "metadata": {},
     "output_type": "display_data"
    }
   ],
   "source": [
    "linFitPoly2DF<-data.frame(speed=heartrate$Speed,observed=heartrate$Heartrate,predicted=fitted(linFitPoly2),residual=residuals(linFitPoly2))\n",
    "head(linFitPoly2DF)"
   ]
  },
  {
   "cell_type": "markdown",
   "metadata": {},
   "source": [
    "### Apply the regression model for prediction from new inputs"
   ]
  },
  {
   "cell_type": "code",
   "execution_count": 34,
   "metadata": {
    "collapsed": false
   },
   "outputs": [
    {
     "data": {
      "text/html": [
       "<dl class=dl-horizontal>\n",
       "\t<dt>1</dt>\n",
       "\t\t<dd>158.419404640431</dd>\n",
       "\t<dt>2</dt>\n",
       "\t\t<dd>157.518103285903</dd>\n",
       "\t<dt>3</dt>\n",
       "\t\t<dd>156.95750929368</dd>\n",
       "\t<dt>4</dt>\n",
       "\t\t<dd>156.737622663761</dd>\n",
       "\t<dt>5</dt>\n",
       "\t\t<dd>156.858443396146</dd>\n",
       "\t<dt>6</dt>\n",
       "\t\t<dd>157.319971490834</dd>\n",
       "\t<dt>7</dt>\n",
       "\t\t<dd>158.122206947827</dd>\n",
       "\t<dt>8</dt>\n",
       "\t\t<dd>159.265149767124</dd>\n",
       "\t<dt>9</dt>\n",
       "\t\t<dd>160.748799948725</dd>\n",
       "\t<dt>10</dt>\n",
       "\t\t<dd>162.573157492629</dd>\n",
       "\t<dt>11</dt>\n",
       "\t\t<dd>164.738222398838</dd>\n",
       "\t<dt>12</dt>\n",
       "\t\t<dd>167.24399466735</dd>\n",
       "\t<dt>13</dt>\n",
       "\t\t<dd>170.090474298167</dd>\n",
       "\t<dt>14</dt>\n",
       "\t\t<dd>173.277661291287</dd>\n",
       "\t<dt>15</dt>\n",
       "\t\t<dd>176.805555646712</dd>\n",
       "\t<dt>16</dt>\n",
       "\t\t<dd>180.67415736444</dd>\n",
       "\t<dt>17</dt>\n",
       "\t\t<dd>184.883466444473</dd>\n",
       "\t<dt>18</dt>\n",
       "\t\t<dd>189.433482886809</dd>\n",
       "\t<dt>19</dt>\n",
       "\t\t<dd>194.32420669145</dd>\n",
       "\t<dt>20</dt>\n",
       "\t\t<dd>199.555637858394</dd>\n",
       "</dl>\n"
      ],
      "text/latex": [
       "\\begin{description*}\n",
       "\\item[1] 158.419404640431\n",
       "\\item[2] 157.518103285903\n",
       "\\item[3] 156.95750929368\n",
       "\\item[4] 156.737622663761\n",
       "\\item[5] 156.858443396146\n",
       "\\item[6] 157.319971490834\n",
       "\\item[7] 158.122206947827\n",
       "\\item[8] 159.265149767124\n",
       "\\item[9] 160.748799948725\n",
       "\\item[10] 162.573157492629\n",
       "\\item[11] 164.738222398838\n",
       "\\item[12] 167.24399466735\n",
       "\\item[13] 170.090474298167\n",
       "\\item[14] 173.277661291287\n",
       "\\item[15] 176.805555646712\n",
       "\\item[16] 180.67415736444\n",
       "\\item[17] 184.883466444473\n",
       "\\item[18] 189.433482886809\n",
       "\\item[19] 194.32420669145\n",
       "\\item[20] 199.555637858394\n",
       "\\end{description*}\n"
      ],
      "text/markdown": [
       "1\n",
       ":   158.4194046404312\n",
       ":   157.5181032859033\n",
       ":   156.957509293684\n",
       ":   156.7376226637615\n",
       ":   156.8584433961466\n",
       ":   157.3199714908347\n",
       ":   158.1222069478278\n",
       ":   159.2651497671249\n",
       ":   160.74879994872510\n",
       ":   162.57315749262911\n",
       ":   164.73822239883812\n",
       ":   167.2439946673513\n",
       ":   170.09047429816714\n",
       ":   173.27766129128715\n",
       ":   176.80555564671216\n",
       ":   180.6741573644417\n",
       ":   184.88346644447318\n",
       ":   189.43348288680919\n",
       ":   194.3242066914520\n",
       ":   199.555637858394\n",
       "\n"
      ],
      "text/plain": [
       "       1        2        3        4        5        6        7        8 \n",
       "158.4194 157.5181 156.9575 156.7376 156.8584 157.3200 158.1222 159.2651 \n",
       "       9       10       11       12       13       14       15       16 \n",
       "160.7488 162.5732 164.7382 167.2440 170.0905 173.2777 176.8056 180.6742 \n",
       "      17       18       19       20 \n",
       "184.8835 189.4335 194.3242 199.5556 "
      ]
     },
     "metadata": {},
     "output_type": "display_data"
    }
   ],
   "source": [
    "sR<-data.frame(Speed=seq(3.8,5.7,0.1))\n",
    "(preds<-predict(linFitPoly2,sR))"
   ]
  },
  {
   "cell_type": "markdown",
   "metadata": {},
   "source": [
    "### Visualize the polynomial regression model\n",
    "One possibility to vizualize the learned model is to define a range for input variables, calculate the response to this input variables by applying the *predict()*-method as demonstrated above and then apply ggplot2's *geom_line()* in order to plot outputs vs. input.\n",
    "\n",
    "The second, and more comfortable, possibility is to apply the *geom_smooth()*-function. In this way there is no need to explicitely define inputs and calculate the corresponding outputs. \n",
    "\n",
    "The example below demonstrates, that both possibilities yield the same result, but the $geom_smooth()$-function provides more information, e.g. the standard error (if se=TRUE)."
   ]
  },
  {
   "cell_type": "code",
   "execution_count": 35,
   "metadata": {
    "collapsed": false
   },
   "outputs": [
    {
     "data": {},
     "metadata": {},
     "output_type": "display_data"
    },
    {
     "data": {
      "image/png": "[encoded data removed]",
      "text/plain": [
       "plot without title"
      ]
     },
     "metadata": {},
     "output_type": "display_data"
    }
   ],
   "source": [
    "ggplot() +\n",
    "geom_point(data=heartrate,aes(x=Speed,y=Heartrate),color=\"blue\")+\n",
    "geom_line(mapping=aes(x=sR,y=preds), color=\"blue\")+\n",
    "geom_smooth(data=heartrate,aes(x=Speed,y=Heartrate),method=lm, formula = y ~ x + I(x^2), color=\"red\", se=T)"
   ]
  },
  {
   "cell_type": "code",
   "execution_count": 36,
   "metadata": {
    "collapsed": false,
    "scrolled": true
   },
   "outputs": [
    {
     "data": {
      "text/plain": [
       "\n",
       "Call:\n",
       "lm(formula = Heartrate ~ Speed + I(Speed^2), data = heartrate)\n",
       "\n",
       "Residuals:\n",
       "     Min       1Q   Median       3Q      Max \n",
       "-17.8773  -6.1919  -0.6324   5.8612  17.9195 \n",
       "\n",
       "Coefficients:\n",
       "            Estimate Std. Error t value Pr(>|t|)  \n",
       "(Intercept)  445.133    203.371   2.189   0.0374 *\n",
       "Speed       -140.185     86.560  -1.620   0.1170  \n",
       "I(Speed^2)    17.035      9.144   1.863   0.0734 .\n",
       "---\n",
       "Signif. codes:  0 '***' 0.001 '**' 0.01 '*' 0.05 '.' 0.1 ' ' 1\n",
       "\n",
       "Residual standard error: 9.127 on 27 degrees of freedom\n",
       "Multiple R-squared:  0.569,\tAdjusted R-squared:  0.537 \n",
       "F-statistic: 17.82 on 2 and 27 DF,  p-value: 1.164e-05\n"
      ]
     },
     "metadata": {},
     "output_type": "display_data"
    }
   ],
   "source": [
    "summary(linFitPoly2)"
   ]
  },
  {
   "cell_type": "markdown",
   "metadata": {},
   "source": [
    "*Verify the calculation of the coefficients $\\boldsymbol{\\beta}=(\\beta_0,\\beta_1,\\ldots,\\beta_k)$*:"
   ]
  },
  {
   "cell_type": "code",
   "execution_count": 37,
   "metadata": {
    "collapsed": false
   },
   "outputs": [
    {
     "data": {
      "text/html": [
       "<table>\n",
       "<tbody>\n",
       "\t<tr><td>1      </td><td>4.50   </td><td>20.2500</td></tr>\n",
       "\t<tr><td>1      </td><td>5.00   </td><td>25.0000</td></tr>\n",
       "\t<tr><td>1      </td><td>4.50   </td><td>20.2500</td></tr>\n",
       "\t<tr><td>1      </td><td>5.25   </td><td>27.5625</td></tr>\n",
       "\t<tr><td>1      </td><td>4.50   </td><td>20.2500</td></tr>\n",
       "\t<tr><td>1      </td><td>4.75   </td><td>22.5625</td></tr>\n",
       "</tbody>\n",
       "</table>\n"
      ],
      "text/latex": [
       "\\begin{tabular}{lll}\n",
       "\t 1       & 4.50    & 20.2500\\\\\n",
       "\t 1       & 5.00    & 25.0000\\\\\n",
       "\t 1       & 4.50    & 20.2500\\\\\n",
       "\t 1       & 5.25    & 27.5625\\\\\n",
       "\t 1       & 4.50    & 20.2500\\\\\n",
       "\t 1       & 4.75    & 22.5625\\\\\n",
       "\\end{tabular}\n"
      ],
      "text/markdown": [
       "\n",
       "| 1       | 4.50    | 20.2500 | \n",
       "| 1       | 5.00    | 25.0000 | \n",
       "| 1       | 4.50    | 20.2500 | \n",
       "| 1       | 5.25    | 27.5625 | \n",
       "| 1       | 4.50    | 20.2500 | \n",
       "| 1       | 4.75    | 22.5625 | \n",
       "\n",
       "\n"
      ],
      "text/plain": [
       "     [,1] [,2] [,3]   \n",
       "[1,] 1    4.50 20.2500\n",
       "[2,] 1    5.00 25.0000\n",
       "[3,] 1    4.50 20.2500\n",
       "[4,] 1    5.25 27.5625\n",
       "[5,] 1    4.50 20.2500\n",
       "[6,] 1    4.75 22.5625"
      ]
     },
     "metadata": {},
     "output_type": "display_data"
    }
   ],
   "source": [
    "redSources<-data.matrix(heartrate$Speed)\n",
    "d<-dim(redSources)\n",
    "O<-matrix(rep(1,d[1]),d[1],1)\n",
    "#dim(O)\n",
    "X<-cbind(O,redSources,redSources**2)\n",
    "head(X)\n",
    "y_hat<-data.matrix(heartrate$Heartrate)"
   ]
  },
  {
   "cell_type": "code",
   "execution_count": 38,
   "metadata": {
    "collapsed": false
   },
   "outputs": [
    {
     "data": {
      "text/html": [
       "<table>\n",
       "<tbody>\n",
       "\t<tr><td> 445.13301</td></tr>\n",
       "\t<tr><td>-140.18535</td></tr>\n",
       "\t<tr><td>  17.03537</td></tr>\n",
       "</tbody>\n",
       "</table>\n"
      ],
      "text/latex": [
       "\\begin{tabular}{l}\n",
       "\t  445.13301\\\\\n",
       "\t -140.18535\\\\\n",
       "\t   17.03537\\\\\n",
       "\\end{tabular}\n"
      ],
      "text/markdown": [
       "\n",
       "|  445.13301 | \n",
       "| -140.18535 | \n",
       "|   17.03537 | \n",
       "\n",
       "\n"
      ],
      "text/plain": [
       "     [,1]      \n",
       "[1,]  445.13301\n",
       "[2,] -140.18535\n",
       "[3,]   17.03537"
      ]
     },
     "metadata": {},
     "output_type": "display_data"
    }
   ],
   "source": [
    "XT<-t(X)\n",
    "XInv<-solve(XT %*% X)\n",
    "(beta<-(XInv %*% XT) %*% y_hat)"
   ]
  },
  {
   "cell_type": "markdown",
   "metadata": {},
   "source": [
    "## Evaluation of Regression Models\n",
    "Linear and generalized linear models make strong assumptions about the structure of data. In real world applications these assumptions often do not hold. For example if the noise (residuals) is not normally distributed and there exists a relatively large proportion of outliers, the fitted model can be improper. Hence it is important to check before and after the fitting process, if the available data satisfies the restrictions for applying the chosen regression method.\n",
    "\n",
    "In the chapters above some methods to explore the given data before the fitting process have already been applied, e.g. the calculation of descriptive statistics and the visualisation of data, by e.g. scatterplots, boxplots or histograms. \n",
    "\n",
    "Now, methods for diagnosing regression models, after the modelling process are described."
   ]
  },
  {
   "cell_type": "markdown",
   "metadata": {},
   "source": [
    "### Anscombe's Quartet: One model fits all?\n",
    "The necessity for regression diagnostics can be demonstrated by the famous [Anscombe quartet](https://en.wikipedia.org/wiki/Anscombe%27s_quartet). The quartet consists of 4 different datasets, each with one input- and one output variable. Despite the obvious difference between the datasets, they all yield the exactly same linear regression model. Each having the same coefficients, the same Sum of Squared Errors (Residual Standard Error), the same $R^2$- and the same $F$-statistic. This is demonstrated in the code cells below.  \n",
    "\n",
    "**Load Anscombe's quartet data:**"
   ]
  },
  {
   "cell_type": "code",
   "execution_count": 103,
   "metadata": {
    "collapsed": false
   },
   "outputs": [
    {
     "data": {
      "text/html": [
       "<table>\n",
       "<thead><tr><th scope=col>x1</th><th scope=col>y1</th><th scope=col>x2</th><th scope=col>y2</th><th scope=col>x3</th><th scope=col>y3</th><th scope=col>x4</th><th scope=col>y4</th></tr></thead>\n",
       "<tbody>\n",
       "\t<tr><td>10   </td><td> 8.04</td><td>10   </td><td>9.14 </td><td>10   </td><td> 7.46</td><td> 8   </td><td> 6.58</td></tr>\n",
       "\t<tr><td> 8   </td><td> 6.95</td><td> 8   </td><td>8.14 </td><td> 8   </td><td> 6.77</td><td> 8   </td><td> 5.76</td></tr>\n",
       "\t<tr><td>13   </td><td> 7.58</td><td>13   </td><td>8.74 </td><td>13   </td><td>12.74</td><td> 8   </td><td> 7.71</td></tr>\n",
       "\t<tr><td> 9   </td><td> 8.81</td><td> 9   </td><td>8.77 </td><td> 9   </td><td> 7.11</td><td> 8   </td><td> 8.84</td></tr>\n",
       "\t<tr><td>11   </td><td> 8.33</td><td>11   </td><td>9.26 </td><td>11   </td><td> 7.81</td><td> 8   </td><td> 8.47</td></tr>\n",
       "\t<tr><td>14   </td><td> 9.96</td><td>14   </td><td>8.10 </td><td>14   </td><td> 8.84</td><td> 8   </td><td> 7.04</td></tr>\n",
       "\t<tr><td> 6   </td><td> 7.24</td><td> 6   </td><td>6.13 </td><td> 6   </td><td> 6.08</td><td> 8   </td><td> 5.25</td></tr>\n",
       "\t<tr><td> 4   </td><td> 4.26</td><td> 4   </td><td>3.10 </td><td> 4   </td><td> 5.39</td><td>19   </td><td>12.50</td></tr>\n",
       "\t<tr><td>12   </td><td>10.84</td><td>12   </td><td>9.13 </td><td>12   </td><td> 8.15</td><td> 8   </td><td> 5.56</td></tr>\n",
       "\t<tr><td> 7   </td><td> 4.82</td><td> 7   </td><td>7.26 </td><td> 7   </td><td> 6.42</td><td> 8   </td><td> 7.91</td></tr>\n",
       "\t<tr><td> 5   </td><td> 5.68</td><td> 5   </td><td>4.74 </td><td> 5   </td><td> 5.73</td><td> 8   </td><td> 6.89</td></tr>\n",
       "</tbody>\n",
       "</table>\n"
      ],
      "text/latex": [
       "\\begin{tabular}{r|llllllll}\n",
       " x1 & y1 & x2 & y2 & x3 & y3 & x4 & y4\\\\\n",
       "\\hline\n",
       "\t 10    &  8.04 & 10    & 9.14  & 10    &  7.46 &  8    &  6.58\\\\\n",
       "\t  8    &  6.95 &  8    & 8.14  &  8    &  6.77 &  8    &  5.76\\\\\n",
       "\t 13    &  7.58 & 13    & 8.74  & 13    & 12.74 &  8    &  7.71\\\\\n",
       "\t  9    &  8.81 &  9    & 8.77  &  9    &  7.11 &  8    &  8.84\\\\\n",
       "\t 11    &  8.33 & 11    & 9.26  & 11    &  7.81 &  8    &  8.47\\\\\n",
       "\t 14    &  9.96 & 14    & 8.10  & 14    &  8.84 &  8    &  7.04\\\\\n",
       "\t  6    &  7.24 &  6    & 6.13  &  6    &  6.08 &  8    &  5.25\\\\\n",
       "\t  4    &  4.26 &  4    & 3.10  &  4    &  5.39 & 19    & 12.50\\\\\n",
       "\t 12    & 10.84 & 12    & 9.13  & 12    &  8.15 &  8    &  5.56\\\\\n",
       "\t  7    &  4.82 &  7    & 7.26  &  7    &  6.42 &  8    &  7.91\\\\\n",
       "\t  5    &  5.68 &  5    & 4.74  &  5    &  5.73 &  8    &  6.89\\\\\n",
       "\\end{tabular}\n"
      ],
      "text/markdown": [
       "\n",
       "x1 | y1 | x2 | y2 | x3 | y3 | x4 | y4 | \n",
       "|---|---|---|---|---|---|---|---|---|---|---|\n",
       "| 10    |  8.04 | 10    | 9.14  | 10    |  7.46 |  8    |  6.58 | \n",
       "|  8    |  6.95 |  8    | 8.14  |  8    |  6.77 |  8    |  5.76 | \n",
       "| 13    |  7.58 | 13    | 8.74  | 13    | 12.74 |  8    |  7.71 | \n",
       "|  9    |  8.81 |  9    | 8.77  |  9    |  7.11 |  8    |  8.84 | \n",
       "| 11    |  8.33 | 11    | 9.26  | 11    |  7.81 |  8    |  8.47 | \n",
       "| 14    |  9.96 | 14    | 8.10  | 14    |  8.84 |  8    |  7.04 | \n",
       "|  6    |  7.24 |  6    | 6.13  |  6    |  6.08 |  8    |  5.25 | \n",
       "|  4    |  4.26 |  4    | 3.10  |  4    |  5.39 | 19    | 12.50 | \n",
       "| 12    | 10.84 | 12    | 9.13  | 12    |  8.15 |  8    |  5.56 | \n",
       "|  7    |  4.82 |  7    | 7.26  |  7    |  6.42 |  8    |  7.91 | \n",
       "|  5    |  5.68 |  5    | 4.74  |  5    |  5.73 |  8    |  6.89 | \n",
       "\n",
       "\n"
      ],
      "text/plain": [
       "   x1 y1    x2 y2   x3 y3    x4 y4   \n",
       "1  10  8.04 10 9.14 10  7.46  8  6.58\n",
       "2   8  6.95  8 8.14  8  6.77  8  5.76\n",
       "3  13  7.58 13 8.74 13 12.74  8  7.71\n",
       "4   9  8.81  9 8.77  9  7.11  8  8.84\n",
       "5  11  8.33 11 9.26 11  7.81  8  8.47\n",
       "6  14  9.96 14 8.10 14  8.84  8  7.04\n",
       "7   6  7.24  6 6.13  6  6.08  8  5.25\n",
       "8   4  4.26  4 3.10  4  5.39 19 12.50\n",
       "9  12 10.84 12 9.13 12  8.15  8  5.56\n",
       "10  7  4.82  7 7.26  7  6.42  8  7.91\n",
       "11  5  5.68  5 4.74  5  5.73  8  6.89"
      ]
     },
     "metadata": {},
     "output_type": "display_data"
    }
   ],
   "source": [
    "anscombe<-read.csv(file=\"../data/Anscombe.txt\", header=F,sep=\"\\t\",dec = \",\")\n",
    "colnames(anscombe)<-c('x1','y1','x2','y2','x3','y3','x4','y4')\n",
    "anscombe"
   ]
  },
  {
   "cell_type": "markdown",
   "metadata": {},
   "source": [
    "**Visualize data and the fitted linear regression model:**"
   ]
  },
  {
   "cell_type": "code",
   "execution_count": 104,
   "metadata": {
    "collapsed": false
   },
   "outputs": [],
   "source": [
    "a1<-ggplot(data=anscombe, aes(x=x1, y=y1)) +\n",
    "geom_point(color=\"blue\")+\n",
    "geom_smooth(method=lm , color=\"red\", se=T)\n",
    "\n",
    "a2<-ggplot(data=anscombe, aes(x=x2, y=y2)) +\n",
    "geom_point(color=\"blue\")+\n",
    "geom_smooth(method=lm , color=\"red\", se=T)\n",
    "\n",
    "a3<-ggplot(data=anscombe, aes(x=x3, y=y3)) +\n",
    "geom_point(color=\"blue\")+\n",
    "geom_smooth(method=lm , color=\"red\", se=T)\n",
    "\n",
    "a4<-ggplot(data=anscombe, aes(x=x4, y=y4)) +\n",
    "geom_point(color=\"blue\")+\n",
    "geom_smooth(method=lm , color=\"red\", se=T)"
   ]
  },
  {
   "cell_type": "code",
   "execution_count": 98,
   "metadata": {
    "collapsed": false
   },
   "outputs": [
    {
     "data": {
      "image/png": "[encoded data removed]",
      "text/plain": [
       "plot without title"
      ]
     },
     "metadata": {},
     "output_type": "display_data"
    }
   ],
   "source": [
    "multiplot(a1, a2, a3, a4, cols=2) #multiplot-function is defined below"
   ]
  },
  {
   "cell_type": "markdown",
   "metadata": {},
   "source": [
    "**Regression Summary of each model:**"
   ]
  },
  {
   "cell_type": "code",
   "execution_count": 99,
   "metadata": {
    "collapsed": false,
    "scrolled": true
   },
   "outputs": [
    {
     "data": {
      "text/plain": [
       "\n",
       "Call:\n",
       "lm(formula = y1 ~ x1, data = anscombe)\n",
       "\n",
       "Residuals:\n",
       "     Min       1Q   Median       3Q      Max \n",
       "-1.92127 -0.45577 -0.04136  0.70941  1.83882 \n",
       "\n",
       "Coefficients:\n",
       "            Estimate Std. Error t value Pr(>|t|)   \n",
       "(Intercept)   3.0001     1.1247   2.667  0.02573 * \n",
       "x1            0.5001     0.1179   4.241  0.00217 **\n",
       "---\n",
       "Signif. codes:  0 '***' 0.001 '**' 0.01 '*' 0.05 '.' 0.1 ' ' 1\n",
       "\n",
       "Residual standard error: 1.237 on 9 degrees of freedom\n",
       "Multiple R-squared:  0.6665,\tAdjusted R-squared:  0.6295 \n",
       "F-statistic: 17.99 on 1 and 9 DF,  p-value: 0.00217\n"
      ]
     },
     "metadata": {},
     "output_type": "display_data"
    }
   ],
   "source": [
    "fit1<-lm(data=anscombe,y1~x1)\n",
    "summary(fit1)"
   ]
  },
  {
   "cell_type": "code",
   "execution_count": 100,
   "metadata": {
    "collapsed": false,
    "scrolled": true
   },
   "outputs": [
    {
     "data": {
      "text/plain": [
       "\n",
       "Call:\n",
       "lm(formula = y2 ~ x2, data = anscombe)\n",
       "\n",
       "Residuals:\n",
       "    Min      1Q  Median      3Q     Max \n",
       "-1.9009 -0.7609  0.1291  0.9491  1.2691 \n",
       "\n",
       "Coefficients:\n",
       "            Estimate Std. Error t value Pr(>|t|)   \n",
       "(Intercept)    3.001      1.125   2.667  0.02576 * \n",
       "x2             0.500      0.118   4.239  0.00218 **\n",
       "---\n",
       "Signif. codes:  0 '***' 0.001 '**' 0.01 '*' 0.05 '.' 0.1 ' ' 1\n",
       "\n",
       "Residual standard error: 1.237 on 9 degrees of freedom\n",
       "Multiple R-squared:  0.6662,\tAdjusted R-squared:  0.6292 \n",
       "F-statistic: 17.97 on 1 and 9 DF,  p-value: 0.002179\n"
      ]
     },
     "metadata": {},
     "output_type": "display_data"
    }
   ],
   "source": [
    "fit2<-lm(data=anscombe,y2~x2)\n",
    "summary(fit2)"
   ]
  },
  {
   "cell_type": "code",
   "execution_count": 101,
   "metadata": {
    "collapsed": false,
    "scrolled": true
   },
   "outputs": [
    {
     "data": {
      "text/plain": [
       "\n",
       "Call:\n",
       "lm(formula = y3 ~ x3, data = anscombe)\n",
       "\n",
       "Residuals:\n",
       "    Min      1Q  Median      3Q     Max \n",
       "-1.1586 -0.6146 -0.2303  0.1540  3.2411 \n",
       "\n",
       "Coefficients:\n",
       "            Estimate Std. Error t value Pr(>|t|)   \n",
       "(Intercept)   3.0025     1.1245   2.670  0.02562 * \n",
       "x3            0.4997     0.1179   4.239  0.00218 **\n",
       "---\n",
       "Signif. codes:  0 '***' 0.001 '**' 0.01 '*' 0.05 '.' 0.1 ' ' 1\n",
       "\n",
       "Residual standard error: 1.236 on 9 degrees of freedom\n",
       "Multiple R-squared:  0.6663,\tAdjusted R-squared:  0.6292 \n",
       "F-statistic: 17.97 on 1 and 9 DF,  p-value: 0.002176\n"
      ]
     },
     "metadata": {},
     "output_type": "display_data"
    }
   ],
   "source": [
    "fit3<-lm(data=anscombe,y3~x3)\n",
    "summary(fit3)"
   ]
  },
  {
   "cell_type": "code",
   "execution_count": 102,
   "metadata": {
    "collapsed": false,
    "scrolled": true
   },
   "outputs": [
    {
     "data": {
      "text/plain": [
       "\n",
       "Call:\n",
       "lm(formula = y4 ~ x4, data = anscombe)\n",
       "\n",
       "Residuals:\n",
       "   Min     1Q Median     3Q    Max \n",
       "-1.751 -0.831  0.000  0.809  1.839 \n",
       "\n",
       "Coefficients:\n",
       "            Estimate Std. Error t value Pr(>|t|)   \n",
       "(Intercept)   3.0017     1.1239   2.671  0.02559 * \n",
       "x4            0.4999     0.1178   4.243  0.00216 **\n",
       "---\n",
       "Signif. codes:  0 '***' 0.001 '**' 0.01 '*' 0.05 '.' 0.1 ' ' 1\n",
       "\n",
       "Residual standard error: 1.236 on 9 degrees of freedom\n",
       "Multiple R-squared:  0.6667,\tAdjusted R-squared:  0.6297 \n",
       "F-statistic:    18 on 1 and 9 DF,  p-value: 0.002165\n"
      ]
     },
     "metadata": {},
     "output_type": "display_data"
    }
   ],
   "source": [
    "fit4<-lm(data=anscombe,y4~x4)\n",
    "summary(fit4)"
   ]
  },
  {
   "cell_type": "markdown",
   "metadata": {},
   "source": [
    "### Diagnostics of the 4 linear regression models\n",
    "\n",
    "Since no effective difference can be observed in the *summary()*-report of the 4 different models, we have to apply other methods to determine the different suitability of the models w.r.t. the 4 datasets. "
   ]
  },
  {
   "cell_type": "code",
   "execution_count": 111,
   "metadata": {
    "collapsed": false
   },
   "outputs": [],
   "source": [
    "library(car)\n",
    "#outlierTest(fit1)\n",
    "#outlierTest(fit2)\n",
    "#outlierTest(fit3)\n",
    "#outlierTest(fit4)"
   ]
  },
  {
   "cell_type": "code",
   "execution_count": 112,
   "metadata": {
    "collapsed": false
   },
   "outputs": [
    {
     "data": {
      "image/png": "[encoded data removed]",
      "text/plain": [
       "Plot with title \"\""
      ]
     },
     "metadata": {},
     "output_type": "display_data"
    }
   ],
   "source": [
    "par(mfrow=c(2,2))\n",
    "plot(fit1)"
   ]
  },
  {
   "cell_type": "code",
   "execution_count": 108,
   "metadata": {
    "collapsed": false
   },
   "outputs": [
    {
     "data": {
      "image/png": "[encoded data removed]",
      "text/plain": [
       "Plot with title \"\""
      ]
     },
     "metadata": {},
     "output_type": "display_data"
    }
   ],
   "source": [
    "par(mfrow=c(2,2))\n",
    "plot(fit2)"
   ]
  },
  {
   "cell_type": "code",
   "execution_count": 109,
   "metadata": {
    "collapsed": false
   },
   "outputs": [
    {
     "data": {
      "image/png": "[encoded data removed]",
      "text/plain": [
       "Plot with title \"\""
      ]
     },
     "metadata": {},
     "output_type": "display_data"
    }
   ],
   "source": [
    "par(mfrow=c(2,2))\n",
    "plot(fit3)"
   ]
  },
  {
   "cell_type": "code",
   "execution_count": 110,
   "metadata": {
    "collapsed": false,
    "scrolled": true
   },
   "outputs": [
    {
     "name": "stderr",
     "output_type": "stream",
     "text": [
      "Warning message:\n",
      "\"not plotting observations with leverage one:\n",
      "  8\"Warning message:\n",
      "\"not plotting observations with leverage one:\n",
      "  8\""
     ]
    },
    {
     "data": {
      "image/png": "[encoded data removed]",
      "text/plain": [
       "Plot with title \"\""
      ]
     },
     "metadata": {},
     "output_type": "display_data"
    }
   ],
   "source": [
    "par(mfrow=c(2,2))\n",
    "plot(fit4)"
   ]
  },
  {
   "cell_type": "code",
   "execution_count": 66,
   "metadata": {
    "collapsed": true
   },
   "outputs": [],
   "source": [
    "# Source: http://www.cookbook-r.com/Graphs/Multiple_graphs_on_one_page_(ggplot2)/\n",
    "# Multiple plot function\n",
    "#\n",
    "# ggplot objects can be passed in ..., or to plotlist (as a list of ggplot objects)\n",
    "# - cols:   Number of columns in layout\n",
    "# - layout: A matrix specifying the layout. If present, 'cols' is ignored.\n",
    "#\n",
    "# If the layout is something like matrix(c(1,2,3,3), nrow=2, byrow=TRUE),\n",
    "# then plot 1 will go in the upper left, 2 will go in the upper right, and\n",
    "# 3 will go all the way across the bottom.\n",
    "#\n",
    "multiplot <- function(..., plotlist=NULL, file, cols=1, layout=NULL) {\n",
    "  library(grid)\n",
    "\n",
    "  # Make a list from the ... arguments and plotlist\n",
    "  plots <- c(list(...), plotlist)\n",
    "\n",
    "  numPlots = length(plots)\n",
    "\n",
    "  # If layout is NULL, then use 'cols' to determine layout\n",
    "  if (is.null(layout)) {\n",
    "    # Make the panel\n",
    "    # ncol: Number of columns of plots\n",
    "    # nrow: Number of rows needed, calculated from # of cols\n",
    "    layout <- matrix(seq(1, cols * ceiling(numPlots/cols)),\n",
    "                    ncol = cols, nrow = ceiling(numPlots/cols))\n",
    "  }\n",
    "\n",
    " if (numPlots==1) {\n",
    "    print(plots[[1]])\n",
    "\n",
    "  } else {\n",
    "    # Set up the page\n",
    "    grid.newpage()\n",
    "    pushViewport(viewport(layout = grid.layout(nrow(layout), ncol(layout))))\n",
    "\n",
    "    # Make each plot, in the correct location\n",
    "    for (i in 1:numPlots) {\n",
    "      # Get the i,j matrix positions of the regions that contain this subplot\n",
    "      matchidx <- as.data.frame(which(layout == i, arr.ind = TRUE))\n",
    "\n",
    "      print(plots[[i]], vp = viewport(layout.pos.row = matchidx$row,\n",
    "                                      layout.pos.col = matchidx$col))\n",
    "    }\n",
    "  }\n",
    "}"
   ]
  },
  {
   "cell_type": "code",
   "execution_count": null,
   "metadata": {
    "collapsed": true
   },
   "outputs": [],
   "source": []
  }
 ],
 "metadata": {
  "kernelspec": {
   "display_name": "R",
   "language": "R",
   "name": "ir"
  },
  "language_info": {
   "codemirror_mode": "r",
   "file_extension": ".r",
   "mimetype": "text/x-r-source",
   "name": "R",
   "pygments_lexer": "r",
   "version": "3.3.2"
  },
  "nav_menu": {},
  "toc": {
   "colors": {
    "hover_highlight": "#DAA520",
    "running_highlight": "#FF0000",
    "selected_highlight": "#FFD700"
   },
   "moveMenuLeft": true,
   "nav_menu": {
    "height": "369px",
    "width": "253px"
   },
   "navigate_menu": true,
   "number_sections": true,
   "sideBar": true,
   "threshold": 6,
   "toc_cell": true,
   "toc_section_display": "block",
   "toc_window_display": true
  },
  "toc_position": {
   "height": "564px",
   "left": "0px",
   "right": "1196px",
   "top": "106px",
   "width": "212px"
  }
 },
 "nbformat": 4,
 "nbformat_minor": 2
}

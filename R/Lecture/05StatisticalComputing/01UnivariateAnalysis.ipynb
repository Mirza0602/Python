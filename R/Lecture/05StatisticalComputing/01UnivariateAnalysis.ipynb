{
 "cells": [
  {
   "cell_type": "markdown",
   "metadata": {},
   "source": [
    "# Univariate Analysis\n",
    "* Author: Johannes Maucher\n",
    "* Last Update: 2017-05-15\n",
    "* References:\n",
    "    * Paul Teetor; R Cookbook\n",
    "    \n",
    "* Topics of this notebook\n",
    "    * xxx\n",
    "\n",
    "![Data Science R Overview](../../../Pics/DSRstatistical.PNG)\n",
    " "
   ]
  },
  {
   "cell_type": "markdown",
   "metadata": {},
   "source": [
    "## Load Data\n",
    "\n",
    "### Games Sales\n",
    "This dataset is publicly available from here: [Video Game Dataset](https://www.kaggle.com/rush4ratio/video-game-sales-with-ratings)"
   ]
  },
  {
   "cell_type": "code",
   "execution_count": 12,
   "metadata": {},
   "outputs": [
    {
     "data": {
      "text/html": [
       "<ol class=list-inline>\n",
       "\t<li>16719</li>\n",
       "\t<li>16</li>\n",
       "</ol>\n"
      ],
      "text/latex": [
       "\\begin{enumerate*}\n",
       "\\item 16719\n",
       "\\item 16\n",
       "\\end{enumerate*}\n"
      ],
      "text/markdown": [
       "1. 16719\n",
       "2. 16\n",
       "\n",
       "\n"
      ],
      "text/plain": [
       "[1] 16719    16"
      ]
     },
     "metadata": {},
     "output_type": "display_data"
    },
    {
     "data": {
      "text/html": [
       "<ol class=list-inline>\n",
       "\t<li>16717</li>\n",
       "\t<li>16</li>\n",
       "</ol>\n"
      ],
      "text/latex": [
       "\\begin{enumerate*}\n",
       "\\item 16717\n",
       "\\item 16\n",
       "\\end{enumerate*}\n"
      ],
      "text/markdown": [
       "1. 16717\n",
       "2. 16\n",
       "\n",
       "\n"
      ],
      "text/plain": [
       "[1] 16717    16"
      ]
     },
     "metadata": {},
     "output_type": "display_data"
    },
    {
     "name": "stdout",
     "output_type": "stream",
     "text": [
      "'data.frame':\t16717 obs. of  16 variables:\n",
      " $ Name           : Factor w/ 11563 levels \"\",\"'98 Koshien\",..: 11059 9406 5573 11061 7417 9771 6693 11057 6696 2620 ...\n",
      " $ Platform       : Factor w/ 31 levels \"2600\",\"3DO\",\"3DS\",..: 26 12 26 26 6 6 5 26 26 12 ...\n",
      " $ Year_of_Release: Factor w/ 40 levels \"1980\",\"1981\",..: 27 6 29 30 17 10 27 27 30 5 ...\n",
      " $ Genre          : Factor w/ 13 levels \"\",\"Action\",\"Adventure\",..: 12 6 8 12 9 7 6 5 6 10 ...\n",
      " $ Publisher      : Factor w/ 582 levels \"10TACLE Studios\",..: 371 371 371 371 371 371 371 371 371 371 ...\n",
      " $ NA_Sales       : num  41.4 29.1 15.7 15.6 11.3 ...\n",
      " $ EU_Sales       : num  28.96 3.58 12.76 10.93 8.89 ...\n",
      " $ JP_Sales       : num  3.77 6.81 3.79 3.28 10.22 ...\n",
      " $ Other_Sales    : num  8.45 0.77 3.29 2.95 1 0.58 2.88 2.84 2.24 0.47 ...\n",
      " $ Global_Sales   : num  82.5 40.2 35.5 32.8 31.4 ...\n",
      " $ Critic_Score   : int  76 NA 82 80 NA NA 89 58 87 NA ...\n",
      " $ Critic_Count   : int  51 NA 73 73 NA NA 65 41 80 NA ...\n",
      " $ User_Score     : Factor w/ 97 levels \"\",\"0\",\"0.2\",\"0.3\",..: 79 1 82 79 1 1 84 65 83 1 ...\n",
      " $ User_Count     : int  322 NA 709 192 NA NA 431 129 594 NA ...\n",
      " $ Developer      : Factor w/ 1697 levels \"\",\"10tacle Studios\",..: 1035 1 1035 1035 1 1 1035 1035 1035 1 ...\n",
      " $ Rating         : Factor w/ 9 levels \"\",\"AO\",\"E\",\"E10+\",..: 3 1 3 3 1 1 3 3 3 1 ...\n"
     ]
    }
   ],
   "source": [
    "gamesData=read.csv(file=\"../data/VideoGamesSales-22-12-2016.csv\", header=TRUE, sep=\",\")\n",
    "dim(gamesData)\n",
    "gamesData<-gamesData[gamesData$Genre != \"\" ,] #Remove games, which are not assigned to any genre\n",
    "dim(gamesData)\n",
    "#sapply(gamesData,mode)\n",
    "str(gamesData)"
   ]
  },
  {
   "cell_type": "markdown",
   "metadata": {},
   "source": [
    "### Energy Data"
   ]
  },
  {
   "cell_type": "code",
   "execution_count": 13,
   "metadata": {},
   "outputs": [
    {
     "name": "stdout",
     "output_type": "stream",
     "text": [
      "'data.frame':\t65 obs. of  10 variables:\n",
      " $ Country  : Factor w/ 65 levels \"Algeria\",\"Argentina\",..: 63 11 35 2 9 12 15 18 40 65 ...\n",
      " $ Oil      : num  842.9 97 85.6 22.3 104.3 ...\n",
      " $ Gas      : num  588.7 85.2 62.7 38.8 18.3 ...\n",
      " $ Coal     : num  498 26.5 6.8 1.1 11.7 4.1 3.1 0 0.5 0 ...\n",
      " $ Nuclear  : num  190.2 20.3 2.2 1.8 2.9 ...\n",
      " $ Hydro    : num  62.2 90.2 6 9.2 88.5 5.6 9.3 2.1 4.5 19.5 ...\n",
      " $ Total2009: num  2182 319.2 163.2 73.3 225.7 ...\n",
      " $ CO2Emm   : num  5942 603 437 164 409 ...\n",
      " $ Lat      : num  37.1 56.1 23.6 -38.4 -14.2 ...\n",
      " $ Long     : num  -95.7 -106.3 -102.6 -63.6 -51.9 ...\n"
     ]
    }
   ],
   "source": [
    "energyData=read.csv(file=\"../data/EnergyMixGeo.csv\", header=TRUE, sep=\",\",row.names=1)\n",
    "#sapply(energyData,mode)\n",
    "str(energyData)"
   ]
  },
  {
   "cell_type": "markdown",
   "metadata": {},
   "source": [
    "### Human Resource Data"
   ]
  },
  {
   "cell_type": "code",
   "execution_count": 14,
   "metadata": {},
   "outputs": [
    {
     "name": "stdout",
     "output_type": "stream",
     "text": [
      "'data.frame':\t14999 obs. of  10 variables:\n",
      " $ satisfaction_level   : num  0.38 0.8 0.11 0.72 0.37 0.41 0.1 0.92 0.89 0.42 ...\n",
      " $ last_evaluation      : num  0.53 0.86 0.88 0.87 0.52 0.5 0.77 0.85 1 0.53 ...\n",
      " $ number_project       : int  2 5 7 5 2 2 6 5 5 2 ...\n",
      " $ average_montly_hours : int  157 262 272 223 159 153 247 259 224 142 ...\n",
      " $ time_spend_company   : int  3 6 4 5 3 3 4 5 5 3 ...\n",
      " $ Work_accident        : int  0 0 0 0 0 0 0 0 0 0 ...\n",
      " $ left                 : Factor w/ 2 levels \"0\",\"1\": 2 2 2 2 2 2 2 2 2 2 ...\n",
      " $ promotion_last_5years: int  0 0 0 0 0 0 0 0 0 0 ...\n",
      " $ sales                : Factor w/ 10 levels \"accounting\",\"hr\",..: 8 8 8 8 8 8 8 8 8 8 ...\n",
      " $ salary               : Factor w/ 3 levels \"high\",\"low\",\"medium\": 2 3 3 2 2 2 2 2 2 2 ...\n"
     ]
    }
   ],
   "source": [
    "hrData=read.csv(file=\"../data/humanResources.csv\", header=TRUE, sep=\",\")\n",
    "hrData$left<-factor(hrData$left)\n",
    "#sapply(hrData,mode)\n",
    "str(hrData)"
   ]
  },
  {
   "cell_type": "markdown",
   "metadata": {},
   "source": [
    "## Variable Types\n",
    "In statistics and datamining the following data types are typically distinguished\n",
    "\n",
    "* numerical (continuous) data, e.g. annual income in Euros, height in cm, ...\n",
    "* categorical data\n",
    "    - ordinal data, e.g. size (small, medium, large, ...)\n",
    "    - nominal data, e.g. colour (red, green, blue, ...)"
   ]
  },
  {
   "cell_type": "code",
   "execution_count": 15,
   "metadata": {},
   "outputs": [
    {
     "data": {
      "image/png": "[encoded data removed]"
     },
     "metadata": {
      "width": 300
     },
     "output_type": "display_data"
    }
   ],
   "source": [
    "library(\"IRdisplay\")\n",
    "display_png(file=\"../img/dataTypes.png\",width=300)"
   ]
  },
  {
   "cell_type": "markdown",
   "metadata": {},
   "source": [
    "**Questions:** \n",
    "\n",
    "1. In the *Games Sales*-dataset there are 16 variables (features) for each of the 16719 instances. Which of the variables are numeric, ordinal, nominal?\n",
    "3. How to explicitely define a variable as categorical variable?\n",
    "4. What does the *summary()*-function calculate for \n",
    "    1.) numerical variables?\n",
    "    2.) categorical variables?"
   ]
  },
  {
   "cell_type": "markdown",
   "metadata": {},
   "source": [
    "## Descriptive Statistics\n",
    "### Numerical variables\n",
    "Access a single numeric variable (column) of the *Games Sales* dataframe:"
   ]
  },
  {
   "cell_type": "code",
   "execution_count": 16,
   "metadata": {},
   "outputs": [
    {
     "data": {
      "text/html": [
       "<ol class=list-inline>\n",
       "\t<li>82.53</li>\n",
       "\t<li>40.24</li>\n",
       "\t<li>35.52</li>\n",
       "\t<li>32.77</li>\n",
       "\t<li>31.37</li>\n",
       "\t<li>30.26</li>\n",
       "</ol>\n"
      ],
      "text/latex": [
       "\\begin{enumerate*}\n",
       "\\item 82.53\n",
       "\\item 40.24\n",
       "\\item 35.52\n",
       "\\item 32.77\n",
       "\\item 31.37\n",
       "\\item 30.26\n",
       "\\end{enumerate*}\n"
      ],
      "text/markdown": [
       "1. 82.53\n",
       "2. 40.24\n",
       "3. 35.52\n",
       "4. 32.77\n",
       "5. 31.37\n",
       "6. 30.26\n",
       "\n",
       "\n"
      ],
      "text/plain": [
       "[1] 82.53 40.24 35.52 32.77 31.37 30.26"
      ]
     },
     "metadata": {},
     "output_type": "display_data"
    }
   ],
   "source": [
    "globsales<-gamesData$Global_Sales\n",
    "head(globsales)"
   ]
  },
  {
   "cell_type": "markdown",
   "metadata": {},
   "source": [
    "Calculate simple descriptive statistics of the selected numerical variable:"
   ]
  },
  {
   "cell_type": "code",
   "execution_count": 17,
   "metadata": {},
   "outputs": [
    {
     "name": "stdout",
     "output_type": "stream",
     "text": [
      "[1] \"Mean: \"\n"
     ]
    },
    {
     "data": {
      "text/html": [
       "0.533461745528504"
      ],
      "text/latex": [
       "0.533461745528504"
      ],
      "text/markdown": [
       "0.533461745528504"
      ],
      "text/plain": [
       "[1] 0.5334617"
      ]
     },
     "metadata": {},
     "output_type": "display_data"
    }
   ],
   "source": [
    "print(\"Mean: \")\n",
    "mean(globsales)"
   ]
  },
  {
   "cell_type": "code",
   "execution_count": 18,
   "metadata": {},
   "outputs": [
    {
     "name": "stdout",
     "output_type": "stream",
     "text": [
      "[1] \"Standard Deviation: \"\n"
     ]
    },
    {
     "data": {
      "text/html": [
       "1.54795622787476"
      ],
      "text/latex": [
       "1.54795622787476"
      ],
      "text/markdown": [
       "1.54795622787476"
      ],
      "text/plain": [
       "[1] 1.547956"
      ]
     },
     "metadata": {},
     "output_type": "display_data"
    }
   ],
   "source": [
    "print(\"Standard Deviation: \")\n",
    "sd(globsales)"
   ]
  },
  {
   "cell_type": "code",
   "execution_count": 19,
   "metadata": {},
   "outputs": [
    {
     "name": "stdout",
     "output_type": "stream",
     "text": [
      "[1] \"Variance: \"\n"
     ]
    },
    {
     "data": {
      "text/html": [
       "2.39616848341626"
      ],
      "text/latex": [
       "2.39616848341626"
      ],
      "text/markdown": [
       "2.39616848341626"
      ],
      "text/plain": [
       "[1] 2.396168"
      ]
     },
     "metadata": {},
     "output_type": "display_data"
    }
   ],
   "source": [
    "print(\"Variance: \")\n",
    "var(globsales)"
   ]
  },
  {
   "cell_type": "code",
   "execution_count": 20,
   "metadata": {},
   "outputs": [
    {
     "name": "stdout",
     "output_type": "stream",
     "text": [
      "[1] \"Range: \"\n"
     ]
    },
    {
     "data": {
      "text/html": [
       "<ol class=list-inline>\n",
       "\t<li>0.01</li>\n",
       "\t<li>82.53</li>\n",
       "</ol>\n"
      ],
      "text/latex": [
       "\\begin{enumerate*}\n",
       "\\item 0.01\n",
       "\\item 82.53\n",
       "\\end{enumerate*}\n"
      ],
      "text/markdown": [
       "1. 0.01\n",
       "2. 82.53\n",
       "\n",
       "\n"
      ],
      "text/plain": [
       "[1]  0.01 82.53"
      ]
     },
     "metadata": {},
     "output_type": "display_data"
    }
   ],
   "source": [
    "print(\"Range: \")\n",
    "range(globsales)"
   ]
  },
  {
   "cell_type": "code",
   "execution_count": 21,
   "metadata": {},
   "outputs": [
    {
     "name": "stdout",
     "output_type": "stream",
     "text": [
      "[1] \"Quantiles: \"\n"
     ]
    },
    {
     "data": {
      "text/html": [
       "<dl class=dl-horizontal>\n",
       "\t<dt>0%</dt>\n",
       "\t\t<dd>0.01</dd>\n",
       "\t<dt>25%</dt>\n",
       "\t\t<dd>0.06</dd>\n",
       "\t<dt>50%</dt>\n",
       "\t\t<dd>0.17</dd>\n",
       "\t<dt>75%</dt>\n",
       "\t\t<dd>0.47</dd>\n",
       "\t<dt>100%</dt>\n",
       "\t\t<dd>82.53</dd>\n",
       "</dl>\n"
      ],
      "text/latex": [
       "\\begin{description*}\n",
       "\\item[0\\textbackslash{}\\%] 0.01\n",
       "\\item[25\\textbackslash{}\\%] 0.06\n",
       "\\item[50\\textbackslash{}\\%] 0.17\n",
       "\\item[75\\textbackslash{}\\%] 0.47\n",
       "\\item[100\\textbackslash{}\\%] 82.53\n",
       "\\end{description*}\n"
      ],
      "text/markdown": [
       "0%\n",
       ":   0.0125%\n",
       ":   0.0650%\n",
       ":   0.1775%\n",
       ":   0.47100%\n",
       ":   82.53\n",
       "\n"
      ],
      "text/plain": [
       "   0%   25%   50%   75%  100% \n",
       " 0.01  0.06  0.17  0.47 82.53 "
      ]
     },
     "metadata": {},
     "output_type": "display_data"
    }
   ],
   "source": [
    "print(\"Quantiles: \")\n",
    "quantile(globsales)"
   ]
  },
  {
   "cell_type": "code",
   "execution_count": 22,
   "metadata": {},
   "outputs": [
    {
     "name": "stdout",
     "output_type": "stream",
     "text": [
      "[1] \"Coefficient of Variation: \"\n"
     ]
    },
    {
     "data": {
      "text/html": [
       "2.90171927199989"
      ],
      "text/latex": [
       "2.90171927199989"
      ],
      "text/markdown": [
       "2.90171927199989"
      ],
      "text/plain": [
       "[1] 2.901719"
      ]
     },
     "metadata": {},
     "output_type": "display_data"
    }
   ],
   "source": [
    "print(\"Coefficient of Variation: \")\n",
    "sd(globsales)/mean(globsales)"
   ]
  },
  {
   "cell_type": "code",
   "execution_count": 23,
   "metadata": {},
   "outputs": [
    {
     "name": "stdout",
     "output_type": "stream",
     "text": [
      "[1] \"Inter Quartile Range (Difference between 75%- and 25% Quantile) \"\n"
     ]
    },
    {
     "data": {
      "text/html": [
       "0.41"
      ],
      "text/latex": [
       "0.41"
      ],
      "text/markdown": [
       "0.41"
      ],
      "text/plain": [
       "[1] 0.41"
      ]
     },
     "metadata": {},
     "output_type": "display_data"
    }
   ],
   "source": [
    "print(\"Inter Quartile Range (Difference between 75%- and 25% Quantile) \")\n",
    "IQR(globsales)"
   ]
  },
  {
   "cell_type": "markdown",
   "metadata": {},
   "source": [
    "#### Calculate relative frequencies\n",
    "Assume that the ratio of games, which are globally sold more than 1 Mio times shall be calculated. This can be done using the mean-function, because inside the function the logical *FALSE* is mapped to 0, and *TRUE* is mapped to 1. The same mapping is applied in other funcions, e.g. *sum()*. Therefore, *sum()* and *mean()* can be applied to calculate the absolute and relative count of cases where the condtion is *TRUE*."
   ]
  },
  {
   "cell_type": "code",
   "execution_count": 24,
   "metadata": {},
   "outputs": [
    {
     "data": {
      "text/html": [
       "0.122988574504995"
      ],
      "text/latex": [
       "0.122988574504995"
      ],
      "text/markdown": [
       "0.122988574504995"
      ],
      "text/plain": [
       "[1] 0.1229886"
      ]
     },
     "metadata": {},
     "output_type": "display_data"
    },
    {
     "data": {
      "text/html": [
       "2056"
      ],
      "text/latex": [
       "2056"
      ],
      "text/markdown": [
       "2056"
      ],
      "text/plain": [
       "[1] 2056"
      ]
     },
     "metadata": {},
     "output_type": "display_data"
    }
   ],
   "source": [
    "mean(gamesData$Global_Sales>1)\n",
    "sum(gamesData$Global_Sales>1)"
   ]
  },
  {
   "cell_type": "code",
   "execution_count": null,
   "metadata": {
    "collapsed": true
   },
   "outputs": [],
   "source": []
  },
  {
   "cell_type": "markdown",
   "metadata": {},
   "source": [
    "#### More on Quantiles\n",
    "In the default usage the *quantile(data)*-function calculates the min- and max-values and the 25%-, 50%-, and 75%-quantiles. These quantile-values are also called **quartiles**: "
   ]
  },
  {
   "cell_type": "code",
   "execution_count": 25,
   "metadata": {},
   "outputs": [
    {
     "data": {
      "text/html": [
       "<dl class=dl-horizontal>\n",
       "\t<dt>0%</dt>\n",
       "\t\t<dd>0.01</dd>\n",
       "\t<dt>25%</dt>\n",
       "\t\t<dd>0.06</dd>\n",
       "\t<dt>50%</dt>\n",
       "\t\t<dd>0.17</dd>\n",
       "\t<dt>75%</dt>\n",
       "\t\t<dd>0.47</dd>\n",
       "\t<dt>100%</dt>\n",
       "\t\t<dd>82.53</dd>\n",
       "</dl>\n"
      ],
      "text/latex": [
       "\\begin{description*}\n",
       "\\item[0\\textbackslash{}\\%] 0.01\n",
       "\\item[25\\textbackslash{}\\%] 0.06\n",
       "\\item[50\\textbackslash{}\\%] 0.17\n",
       "\\item[75\\textbackslash{}\\%] 0.47\n",
       "\\item[100\\textbackslash{}\\%] 82.53\n",
       "\\end{description*}\n"
      ],
      "text/markdown": [
       "0%\n",
       ":   0.0125%\n",
       ":   0.0650%\n",
       ":   0.1775%\n",
       ":   0.47100%\n",
       ":   82.53\n",
       "\n"
      ],
      "text/plain": [
       "   0%   25%   50%   75%  100% \n",
       " 0.01  0.06  0.17  0.47 82.53 "
      ]
     },
     "metadata": {},
     "output_type": "display_data"
    }
   ],
   "source": [
    "quantile(globsales)"
   ]
  },
  {
   "cell_type": "markdown",
   "metadata": {},
   "source": [
    "Arbitrary quantiles can be calculated by specifying the second argument of the *quantile()*-function. Either a single value or a vector can be assigned to this argument. But only values between 0 and 1 are valid. "
   ]
  },
  {
   "cell_type": "code",
   "execution_count": 26,
   "metadata": {
    "scrolled": true
   },
   "outputs": [
    {
     "data": {
      "text/html": [
       "<dl class=dl-horizontal>\n",
       "\t<dt>0%</dt>\n",
       "\t\t<dd>0.01</dd>\n",
       "\t<dt>10%</dt>\n",
       "\t\t<dd>0.02</dd>\n",
       "\t<dt>20%</dt>\n",
       "\t\t<dd>0.05</dd>\n",
       "\t<dt>30%</dt>\n",
       "\t\t<dd>0.08</dd>\n",
       "\t<dt>40%</dt>\n",
       "\t\t<dd>0.11</dd>\n",
       "\t<dt>50%</dt>\n",
       "\t\t<dd>0.17</dd>\n",
       "\t<dt>60%</dt>\n",
       "\t\t<dd>0.25</dd>\n",
       "\t<dt>70%</dt>\n",
       "\t\t<dd>0.38</dd>\n",
       "\t<dt>80%</dt>\n",
       "\t\t<dd>0.6</dd>\n",
       "\t<dt>90%</dt>\n",
       "\t\t<dd>1.2</dd>\n",
       "\t<dt>100%</dt>\n",
       "\t\t<dd>82.53</dd>\n",
       "</dl>\n"
      ],
      "text/latex": [
       "\\begin{description*}\n",
       "\\item[0\\textbackslash{}\\%] 0.01\n",
       "\\item[10\\textbackslash{}\\%] 0.02\n",
       "\\item[20\\textbackslash{}\\%] 0.05\n",
       "\\item[30\\textbackslash{}\\%] 0.08\n",
       "\\item[40\\textbackslash{}\\%] 0.11\n",
       "\\item[50\\textbackslash{}\\%] 0.17\n",
       "\\item[60\\textbackslash{}\\%] 0.25\n",
       "\\item[70\\textbackslash{}\\%] 0.38\n",
       "\\item[80\\textbackslash{}\\%] 0.6\n",
       "\\item[90\\textbackslash{}\\%] 1.2\n",
       "\\item[100\\textbackslash{}\\%] 82.53\n",
       "\\end{description*}\n"
      ],
      "text/markdown": [
       "0%\n",
       ":   0.0110%\n",
       ":   0.0220%\n",
       ":   0.0530%\n",
       ":   0.0840%\n",
       ":   0.1150%\n",
       ":   0.1760%\n",
       ":   0.2570%\n",
       ":   0.3880%\n",
       ":   0.690%\n",
       ":   1.2100%\n",
       ":   82.53\n",
       "\n"
      ],
      "text/plain": [
       "   0%   10%   20%   30%   40%   50%   60%   70%   80%   90%  100% \n",
       " 0.01  0.02  0.05  0.08  0.11  0.17  0.25  0.38  0.60  1.20 82.53 "
      ]
     },
     "metadata": {},
     "output_type": "display_data"
    }
   ],
   "source": [
    "quantile(globsales,seq(0,1,0.1))"
   ]
  },
  {
   "cell_type": "markdown",
   "metadata": {},
   "source": [
    "The q-quantile returns a value t, such that a fraction of q percent of the data has a value less than t. In the other direction a value t is given and the question is how much elements have a value less than t. This can be calculated as follows: "
   ]
  },
  {
   "cell_type": "code",
   "execution_count": 27,
   "metadata": {},
   "outputs": [
    {
     "data": {
      "text/html": [
       "0.29658431536759"
      ],
      "text/latex": [
       "0.29658431536759"
      ],
      "text/markdown": [
       "0.29658431536759"
      ],
      "text/plain": [
       "[1] 0.2965843"
      ]
     },
     "metadata": {},
     "output_type": "display_data"
    }
   ],
   "source": [
    "mean(globsales<0.08)"
   ]
  },
  {
   "cell_type": "markdown",
   "metadata": {},
   "source": [
    "#### Quantile Based Outlier Filtering\n",
    "The following code snippet demonstrates how a subset of the Games Sales dataset can be filtered, which does not contain the 10% games with the lowest and the 10% games with the highest global sales figure. "
   ]
  },
  {
   "cell_type": "code",
   "execution_count": 28,
   "metadata": {},
   "outputs": [
    {
     "data": {
      "text/html": [
       "<strong>10%:</strong> 0.02"
      ],
      "text/latex": [
       "\\textbf{10\\textbackslash{}\\%:} 0.02"
      ],
      "text/markdown": [
       "**10%:** 0.02"
      ],
      "text/plain": [
       " 10% \n",
       "0.02 "
      ]
     },
     "metadata": {},
     "output_type": "display_data"
    },
    {
     "data": {
      "text/html": [
       "<strong>90%:</strong> 1.2"
      ],
      "text/latex": [
       "\\textbf{90\\textbackslash{}\\%:} 1.2"
      ],
      "text/markdown": [
       "**90%:** 1.2"
      ],
      "text/plain": [
       "90% \n",
       "1.2 "
      ]
     },
     "metadata": {},
     "output_type": "display_data"
    },
    {
     "data": {
      "text/html": [
       "<ol class=list-inline>\n",
       "\t<li>13305</li>\n",
       "\t<li>16</li>\n",
       "</ol>\n"
      ],
      "text/latex": [
       "\\begin{enumerate*}\n",
       "\\item 13305\n",
       "\\item 16\n",
       "\\end{enumerate*}\n"
      ],
      "text/markdown": [
       "1. 13305\n",
       "2. 16\n",
       "\n",
       "\n"
      ],
      "text/plain": [
       "[1] 13305    16"
      ]
     },
     "metadata": {},
     "output_type": "display_data"
    }
   ],
   "source": [
    "(q10<-quantile(globsales,0.1))\n",
    "(q90<-quantile(globsales,0.9))\n",
    "stableGamesData<-gamesData[gamesData$Global_Sales>q10 & gamesData$Global_Sales<q90,]\n",
    "dim(stableGamesData)"
   ]
  },
  {
   "cell_type": "markdown",
   "metadata": {},
   "source": [
    "### Categorical variables"
   ]
  },
  {
   "cell_type": "markdown",
   "metadata": {},
   "source": [
    "#### Frequency and probability table of single categorical variable"
   ]
  },
  {
   "cell_type": "code",
   "execution_count": 76,
   "metadata": {},
   "outputs": [
    {
     "data": {
      "text/plain": [
       "\n",
       "  high    low medium \n",
       "  1237   7316   6446 "
      ]
     },
     "metadata": {},
     "output_type": "display_data"
    },
    {
     "data": {
      "text/plain": [
       "\n",
       "      high        low     medium \n",
       "0.08247216 0.48776585 0.42976198 "
      ]
     },
     "metadata": {},
     "output_type": "display_data"
    }
   ],
   "source": [
    "(salTab<-table(hrData$salary))\n",
    "prop.table(salTab)"
   ]
  },
  {
   "cell_type": "markdown",
   "metadata": {},
   "source": [
    "#### Joint Frequency, Joint Probability and Conditional Probability\n",
    "Joint Frequency of two variables:"
   ]
  },
  {
   "cell_type": "code",
   "execution_count": 82,
   "metadata": {},
   "outputs": [
    {
     "data": {
      "text/plain": [
       "             \n",
       "              high  low medium\n",
       "  accounting    74  358    335\n",
       "  hr            45  335    359\n",
       "  IT            83  609    535\n",
       "  management   225  180    225\n",
       "  marketing     80  402    376\n",
       "  product_mng   68  451    383\n",
       "  RandD         51  364    372\n",
       "  sales        269 2099   1772\n",
       "  support      141 1146    942\n",
       "  technical    201 1372   1147"
      ]
     },
     "metadata": {},
     "output_type": "display_data"
    }
   ],
   "source": [
    "(deptSalTab<-table(hrData$sales,hrData$salary))"
   ]
  },
  {
   "cell_type": "markdown",
   "metadata": {},
   "source": [
    "Alternative method, which generates the same result:"
   ]
  },
  {
   "cell_type": "code",
   "execution_count": 98,
   "metadata": {},
   "outputs": [
    {
     "data": {
      "text/plain": [
       "             salary\n",
       "sales         high  low medium\n",
       "  accounting    74  358    335\n",
       "  hr            45  335    359\n",
       "  IT            83  609    535\n",
       "  management   225  180    225\n",
       "  marketing     80  402    376\n",
       "  product_mng   68  451    383\n",
       "  RandD         51  364    372\n",
       "  sales        269 2099   1772\n",
       "  support      141 1146    942\n",
       "  technical    201 1372   1147"
      ]
     },
     "metadata": {},
     "output_type": "display_data"
    }
   ],
   "source": [
    "xtabs(~ sales+salary, data=hrData)"
   ]
  },
  {
   "cell_type": "markdown",
   "metadata": {},
   "source": [
    "Joint Propability of two variables:"
   ]
  },
  {
   "cell_type": "code",
   "execution_count": 83,
   "metadata": {},
   "outputs": [
    {
     "data": {
      "text/plain": [
       "             \n",
       "                     high         low      medium\n",
       "  accounting  0.004933662 0.023868258 0.022334822\n",
       "  hr          0.003000200 0.022334822 0.023934929\n",
       "  IT          0.005533702 0.040602707 0.035669045\n",
       "  management  0.015001000 0.012000800 0.015001000\n",
       "  marketing   0.005333689 0.026801787 0.025068338\n",
       "  product_mng 0.004533636 0.030068671 0.025535036\n",
       "  RandD       0.003400227 0.024268285 0.024801653\n",
       "  sales       0.017934529 0.139942663 0.118141209\n",
       "  support     0.009400627 0.076405094 0.062804187\n",
       "  technical   0.013400893 0.091472765 0.076471765"
      ]
     },
     "metadata": {},
     "output_type": "display_data"
    }
   ],
   "source": [
    "prop.table(deptSalTab)"
   ]
  },
  {
   "cell_type": "markdown",
   "metadata": {},
   "source": [
    "Joint Probability, given the row value:"
   ]
  },
  {
   "cell_type": "code",
   "execution_count": 88,
   "metadata": {},
   "outputs": [
    {
     "data": {
      "text/plain": [
       "             \n",
       "                    high        low     medium\n",
       "  accounting  0.09647979 0.46675359 0.43676662\n",
       "  hr          0.06089310 0.45331529 0.48579161\n",
       "  IT          0.06764466 0.49633252 0.43602282\n",
       "  management  0.35714286 0.28571429 0.35714286\n",
       "  marketing   0.09324009 0.46853147 0.43822844\n",
       "  product_mng 0.07538803 0.50000000 0.42461197\n",
       "  RandD       0.06480305 0.46251588 0.47268107\n",
       "  sales       0.06497585 0.50700483 0.42801932\n",
       "  support     0.06325707 0.51413190 0.42261104\n",
       "  technical   0.07389706 0.50441176 0.42169118"
      ]
     },
     "metadata": {},
     "output_type": "display_data"
    }
   ],
   "source": [
    "prop.table(deptSalTab,1)"
   ]
  },
  {
   "cell_type": "markdown",
   "metadata": {},
   "source": [
    "Joint Probability, given the column value:"
   ]
  },
  {
   "cell_type": "code",
   "execution_count": 89,
   "metadata": {},
   "outputs": [
    {
     "data": {
      "text/plain": [
       "             \n",
       "                    high        low     medium\n",
       "  accounting  0.05982215 0.04893384 0.05197021\n",
       "  hr          0.03637833 0.04579005 0.05569345\n",
       "  IT          0.06709782 0.08324221 0.08299721\n",
       "  management  0.18189167 0.02460361 0.03490537\n",
       "  marketing   0.06467259 0.05494806 0.05833075\n",
       "  product_mng 0.05497171 0.06164571 0.05941669\n",
       "  RandD       0.04122878 0.04975396 0.05771021\n",
       "  sales       0.21746160 0.28690541 0.27489916\n",
       "  support     0.11398545 0.15664297 0.14613714\n",
       "  technical   0.16248989 0.18753417 0.17793981"
      ]
     },
     "metadata": {},
     "output_type": "display_data"
    }
   ],
   "source": [
    "prop.table(deptSalTab,2)"
   ]
  },
  {
   "cell_type": "markdown",
   "metadata": {
    "run_control": {
     "marked": true
    }
   },
   "source": [
    "Total Frequency, frequency by row and frequency by column"
   ]
  },
  {
   "cell_type": "code",
   "execution_count": 90,
   "metadata": {},
   "outputs": [
    {
     "data": {
      "text/html": [
       "14999"
      ],
      "text/latex": [
       "14999"
      ],
      "text/markdown": [
       "14999"
      ],
      "text/plain": [
       "[1] 14999"
      ]
     },
     "metadata": {},
     "output_type": "display_data"
    },
    {
     "data": {
      "text/plain": [
       "\n",
       " accounting          hr          IT  management   marketing product_mng \n",
       "        767         739        1227         630         858         902 \n",
       "      RandD       sales     support   technical \n",
       "        787        4140        2229        2720 "
      ]
     },
     "metadata": {},
     "output_type": "display_data"
    },
    {
     "data": {
      "text/plain": [
       "\n",
       "  high    low medium \n",
       "  1237   7316   6446 "
      ]
     },
     "metadata": {},
     "output_type": "display_data"
    }
   ],
   "source": [
    "margin.table(deptSalTab)\n",
    "margin.table(deptSalTab,1)\n",
    "margin.table(deptSalTab,2)"
   ]
  },
  {
   "cell_type": "code",
   "execution_count": 92,
   "metadata": {},
   "outputs": [
    {
     "data": {
      "text/plain": [
       "Number of cases in table: 14999 \n",
       "Number of factors: 2 \n",
       "Test for independence of all factors:\n",
       "\tChisq = 700.9, df = 18, p-value = 3.621e-137"
      ]
     },
     "metadata": {},
     "output_type": "display_data"
    }
   ],
   "source": [
    "summary(deptSalTab)"
   ]
  },
  {
   "cell_type": "markdown",
   "metadata": {},
   "source": [
    "## Visualizations"
   ]
  },
  {
   "cell_type": "markdown",
   "metadata": {},
   "source": [
    "### Histogram of Global Games Sales Figure\n",
    "The following plot shows the Frequency of Games with respect to their global sales figure. In this example not all games of the dataset, but only the ones which have not been detected as outliers, are regarded. "
   ]
  },
  {
   "cell_type": "code",
   "execution_count": 43,
   "metadata": {},
   "outputs": [
    {
     "data": {},
     "metadata": {},
     "output_type": "display_data"
    },
    {
     "data": {
      "image/png": "[encoded data removed]",
      "text/plain": [
       "plot without title"
      ]
     },
     "metadata": {},
     "output_type": "display_data"
    }
   ],
   "source": [
    "ggplot(data = stableGamesData) +\n",
    "  geom_histogram(mapping = aes(x = Global_Sales),breaks=seq(0, 1.5, by=0.05),color=\"red\")+\n",
    "  theme(axis.text.x = element_text(angle = 90)) +\n",
    "  labs(title=\"Distribution of Global Sales Figure\",x=\"Number of globally sold items in Millions\",y=\"Frequency\")"
   ]
  },
  {
   "cell_type": "code",
   "execution_count": 58,
   "metadata": {},
   "outputs": [
    {
     "data": {},
     "metadata": {},
     "output_type": "display_data"
    },
    {
     "data": {
      "image/png": "[encoded data removed]",
      "text/plain": [
       "plot without title"
      ]
     },
     "metadata": {},
     "output_type": "display_data"
    }
   ],
   "source": [
    "ggplot(data = hrData) +\n",
    "  geom_histogram(mapping = aes(x = average_montly_hours,y =..density..,fill=left),color=\"red\",breaks=seq(80,330,10),alpha=.4)+\n",
    "  geom_density(mapping=aes(x=average_montly_hours,color=left))+\n",
    "  theme(axis.text.x = element_text(angle = 90)) #+\n",
    "  #labs(title=\"Distribution of Global Sales Figure\",x=\"Number of globally sold items in Millions\",y=\"Frequency\")"
   ]
  },
  {
   "cell_type": "code",
   "execution_count": null,
   "metadata": {
    "collapsed": true
   },
   "outputs": [],
   "source": []
  },
  {
   "cell_type": "code",
   "execution_count": 53,
   "metadata": {},
   "outputs": [
    {
     "data": {},
     "metadata": {},
     "output_type": "display_data"
    },
    {
     "data": {
      "image/png": "[encoded data removed]",
      "text/plain": [
       "plot without title"
      ]
     },
     "metadata": {},
     "output_type": "display_data"
    }
   ],
   "source": [
    "ggplot(data = hrData) +\n",
    "  geom_density(mapping=aes(x=average_montly_hours,fill=left),alpha=.4)+\n",
    "  theme(axis.text.x = element_text(angle = 90))"
   ]
  },
  {
   "cell_type": "code",
   "execution_count": 99,
   "metadata": {},
   "outputs": [
    {
     "data": {
      "image/png": "[encoded data removed]",
      "text/plain": [
       "plot without title"
      ]
     },
     "metadata": {},
     "output_type": "display_data"
    }
   ],
   "source": [
    "barplot(deptSalTab)"
   ]
  },
  {
   "cell_type": "code",
   "execution_count": 107,
   "metadata": {},
   "outputs": [
    {
     "data": {
      "image/png": "[encoded data removed]",
      "text/plain": [
       "Plot with title \"deptSalTab\""
      ]
     },
     "metadata": {},
     "output_type": "display_data"
    }
   ],
   "source": [
    "mosaicplot(deptSalTab,dir=c(\"h\",\"v\"),las=2,col=rainbow(3))"
   ]
  }
 ],
 "metadata": {
  "kernelspec": {
   "display_name": "R",
   "language": "R",
   "name": "ir"
  },
  "language_info": {
   "codemirror_mode": "r",
   "file_extension": ".r",
   "mimetype": "text/x-r-source",
   "name": "R",
   "pygments_lexer": "r",
   "version": "3.3.2"
  },
  "nav_menu": {},
  "toc": {
   "navigate_menu": true,
   "number_sections": true,
   "sideBar": true,
   "threshold": 6,
   "toc_cell": false,
   "toc_section_display": "block",
   "toc_window_display": true
  },
  "toc_position": {
   "height": "743px",
   "left": "0px",
   "right": "1351.83px",
   "top": "125.167px",
   "width": "212px"
  }
 },
 "nbformat": 4,
 "nbformat_minor": 2
}

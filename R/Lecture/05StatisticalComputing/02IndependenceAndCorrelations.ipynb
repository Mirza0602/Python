{
 "cells": [
  {
   "cell_type": "markdown",
   "metadata": {
    "toc": "true"
   },
   "source": [
    "# Table of Contents\n",
    " <p><div class=\"lev1 toc-item\"><a href=\"#Statistical-Significant-Dependance,-Difference-and-Correlations\" data-toc-modified-id=\"Statistical-Significant-Dependance,-Difference-and-Correlations-1\"><span class=\"toc-item-num\">1&nbsp;&nbsp;</span>Statistical Significant Dependance, Difference and Correlations</a></div><div class=\"lev2 toc-item\"><a href=\"#Test-independence-of-2-random-variables\" data-toc-modified-id=\"Test-independence-of-2-random-variables-1.1\"><span class=\"toc-item-num\">1.1&nbsp;&nbsp;</span>Test independence of 2 random variables</a></div><div class=\"lev3 toc-item\"><a href=\"#Chi-Square-Test-for-determining-independence-of-categorial-variables\" data-toc-modified-id=\"Chi-Square-Test-for-determining-independence-of-categorial-variables-1.1.1\"><span class=\"toc-item-num\">1.1.1&nbsp;&nbsp;</span>Chi-Square Test for determining independence of categorial variables</a></div><div class=\"lev4 toc-item\"><a href=\"#Applying-R's-chisq.test()-function\" data-toc-modified-id=\"Applying-R's-chisq.test()-function-1.1.1.1\"><span class=\"toc-item-num\">1.1.1.1&nbsp;&nbsp;</span>Applying R's chisq.test() function</a></div><div class=\"lev2 toc-item\"><a href=\"#T-Test\" data-toc-modified-id=\"T-Test-1.2\"><span class=\"toc-item-num\">1.2&nbsp;&nbsp;</span>T-Test</a></div><div class=\"lev2 toc-item\"><a href=\"#Demonstration-for-determining-significant-distinct-populations\" data-toc-modified-id=\"Demonstration-for-determining-significant-distinct-populations-1.3\"><span class=\"toc-item-num\">1.3&nbsp;&nbsp;</span>Demonstration for determining significant distinct populations</a></div><div class=\"lev3 toc-item\"><a href=\"#Two-samples-from-a-single-population\" data-toc-modified-id=\"Two-samples-from-a-single-population-1.3.1\"><span class=\"toc-item-num\">1.3.1&nbsp;&nbsp;</span>Two samples from a single population</a></div><div class=\"lev3 toc-item\"><a href=\"#Two-samples-from-different-populations\" data-toc-modified-id=\"Two-samples-from-different-populations-1.3.2\"><span class=\"toc-item-num\">1.3.2&nbsp;&nbsp;</span>Two samples from different populations</a></div><div class=\"lev2 toc-item\"><a href=\"#Correlations\" data-toc-modified-id=\"Correlations-1.4\"><span class=\"toc-item-num\">1.4&nbsp;&nbsp;</span>Correlations</a></div><div class=\"lev3 toc-item\"><a href=\"#cor()--and-cov()-function\" data-toc-modified-id=\"cor()--and-cov()-function-1.4.1\"><span class=\"toc-item-num\">1.4.1&nbsp;&nbsp;</span><em>cor()</em>- and <em>cov()</em>-function</a></div><div class=\"lev3 toc-item\"><a href=\"#Significance-of-Correlations\" data-toc-modified-id=\"Significance-of-Correlations-1.4.2\"><span class=\"toc-item-num\">1.4.2&nbsp;&nbsp;</span>Significance of Correlations</a></div><div class=\"lev4 toc-item\"><a href=\"#Demonstration-of-significant-correlations\" data-toc-modified-id=\"Demonstration-of-significant-correlations-1.4.2.1\"><span class=\"toc-item-num\">1.4.2.1&nbsp;&nbsp;</span>Demonstration of significant correlations</a></div><div class=\"lev3 toc-item\"><a href=\"#Visualization-of-Correlations\" data-toc-modified-id=\"Visualization-of-Correlations-1.4.3\"><span class=\"toc-item-num\">1.4.3&nbsp;&nbsp;</span>Visualization of Correlations</a></div>"
   ]
  },
  {
   "cell_type": "markdown",
   "metadata": {},
   "source": [
    "# Statistical Significant Dependance, Difference and Correlations\n",
    "* Author: Johannes Maucher\n",
    "* Last Update: 2017-05-27\n",
    "* References:\n",
    "    * Paul Teetor; R Cookbook\n",
    "    \n",
    "* Topics of this notebook\n",
    "    * $\\chi^2$-test for determining independence of categorical variables\n",
    "    * $t$-tests for determining statistical difference\n",
    "    * Calculation of significant correlations\n",
    " "
   ]
  },
  {
   "cell_type": "code",
   "execution_count": 412,
   "metadata": {
    "collapsed": true
   },
   "outputs": [],
   "source": [
    "insurance<-read.csv(file=\"../data/insurance.csv\", header=T,sep=\",\",stringsAsFactors = TRUE)"
   ]
  },
  {
   "cell_type": "code",
   "execution_count": 2,
   "metadata": {
    "collapsed": true
   },
   "outputs": [],
   "source": [
    "factor_cols <- c(\"sex\", \"smoker\", \"region\")\n",
    "numeric_cols <- c(\"age\", \"bmi\", \"children\",\"charges\")"
   ]
  },
  {
   "cell_type": "code",
   "execution_count": 4,
   "metadata": {},
   "outputs": [
    {
     "name": "stdout",
     "output_type": "stream",
     "text": [
      "'data.frame':\t1338 obs. of  7 variables:\n",
      " $ age     : int  19 18 28 33 32 31 46 37 37 60 ...\n",
      " $ sex     : Factor w/ 2 levels \"female\",\"male\": 1 2 2 2 2 1 1 1 2 1 ...\n",
      " $ bmi     : num  27.9 33.8 33 22.7 28.9 ...\n",
      " $ children: int  0 1 3 0 0 0 1 3 2 0 ...\n",
      " $ smoker  : Factor w/ 2 levels \"no\",\"yes\": 2 1 1 1 1 1 1 1 1 1 ...\n",
      " $ region  : Factor w/ 4 levels \"northeast\",\"northwest\",..: 4 3 3 2 2 3 3 2 1 2 ...\n",
      " $ charges : num  16885 1726 4449 21984 3867 ...\n"
     ]
    }
   ],
   "source": [
    "str(insurance)"
   ]
  },
  {
   "cell_type": "markdown",
   "metadata": {},
   "source": [
    "## Test independence of 2 random variables\n",
    "If two random variables $A$ and $B$ are independent, then $P(A \\cap B)=P(A) \\cdot P(B)$. Hence, independence can be tested by determining the difference between the joint probability $P(A \\cap B)$ and the product $P(A) \\cdot P(B)$. If this difference is small, then the 2 variables can be assumed to be independent. $D_A$ and $D_B$ are the domains of the categorical variables $A$ and $B$ and $|D_A|$ and $|D_B|$ are the number of elements in domain $A$ and $B$, respectively.\n",
    "\n",
    "**Example:** Check if the two variables *smoker* and *region* in the *insurance*-dataset are independent. For this first the frequency table of the two variables and the corresponding table of joint probabilities $P(smoker=x \\cap region=y)$ is calculated, with $x \\in D_s$ and $y \\in D_r$, with $D_s=\\{no,yes\\}$ and $D_r=\\{ne,nw,se,sw\\}$, respectively (the elements of $D_r$ are the abbreviations for the four regions *northeast,...,southwest*). "
   ]
  },
  {
   "cell_type": "code",
   "execution_count": 72,
   "metadata": {},
   "outputs": [
    {
     "data": {
      "text/html": [
       "'Frequency Table:'"
      ],
      "text/latex": [
       "'Frequency Table:'"
      ],
      "text/markdown": [
       "'Frequency Table:'"
      ],
      "text/plain": [
       "[1] \"Frequency Table:\""
      ]
     },
     "metadata": {},
     "output_type": "display_data"
    },
    {
     "data": {
      "text/plain": [
       "     \n",
       "      northeast northwest southeast southwest\n",
       "  no        257       267       273       267\n",
       "  yes        67        58        91        58"
      ]
     },
     "metadata": {},
     "output_type": "display_data"
    },
    {
     "data": {
      "text/html": [
       "'Table of joint probabilities:'"
      ],
      "text/latex": [
       "'Table of joint probabilities:'"
      ],
      "text/markdown": [
       "'Table of joint probabilities:'"
      ],
      "text/plain": [
       "[1] \"Table of joint probabilities:\""
      ]
     },
     "metadata": {},
     "output_type": "display_data"
    },
    {
     "data": {
      "text/html": [
       "<table>\n",
       "<thead><tr><th></th><th scope=col>northeast</th><th scope=col>northwest</th><th scope=col>southeast</th><th scope=col>southwest</th><th scope=col>Sum</th></tr></thead>\n",
       "<tbody>\n",
       "\t<tr><th scope=row>no</th><td>0.19207773</td><td>0.19955157</td><td>0.20403587</td><td>0.19955157</td><td>0.7952167 </td></tr>\n",
       "\t<tr><th scope=row>yes</th><td>0.05007474</td><td>0.04334828</td><td>0.06801196</td><td>0.04334828</td><td>0.2047833 </td></tr>\n",
       "\t<tr><th scope=row>Sum</th><td>0.24215247</td><td>0.24289985</td><td>0.27204783</td><td>0.24289985</td><td>1.0000000 </td></tr>\n",
       "</tbody>\n",
       "</table>\n"
      ],
      "text/latex": [
       "\\begin{tabular}{r|lllll}\n",
       "  & northeast & northwest & southeast & southwest & Sum\\\\\n",
       "\\hline\n",
       "\tno & 0.19207773 & 0.19955157 & 0.20403587 & 0.19955157 & 0.7952167 \\\\\n",
       "\tyes & 0.05007474 & 0.04334828 & 0.06801196 & 0.04334828 & 0.2047833 \\\\\n",
       "\tSum & 0.24215247 & 0.24289985 & 0.27204783 & 0.24289985 & 1.0000000 \\\\\n",
       "\\end{tabular}\n"
      ],
      "text/markdown": [
       "\n",
       "| <!--/--> | northeast | northwest | southeast | southwest | Sum | \n",
       "|---|---|---|\n",
       "| no | 0.19207773 | 0.19955157 | 0.20403587 | 0.19955157 | 0.7952167  | \n",
       "| yes | 0.05007474 | 0.04334828 | 0.06801196 | 0.04334828 | 0.2047833  | \n",
       "| Sum | 0.24215247 | 0.24289985 | 0.27204783 | 0.24289985 | 1.0000000  | \n",
       "\n",
       "\n"
      ],
      "text/plain": [
       "     \n",
       "      northeast  northwest  southeast  southwest  Sum      \n",
       "  no  0.19207773 0.19955157 0.20403587 0.19955157 0.7952167\n",
       "  yes 0.05007474 0.04334828 0.06801196 0.04334828 0.2047833\n",
       "  Sum 0.24215247 0.24289985 0.27204783 0.24289985 1.0000000"
      ]
     },
     "metadata": {},
     "output_type": "display_data"
    }
   ],
   "source": [
    "sprintf(\"Frequency Table:\")\n",
    "(smoker_region<-table(insurance$smoker,insurance$region))\n",
    "sprintf(\"Table of joint probabilities:\")\n",
    "(prop_Tab<-addmargins(prop.table(smoker_region)))"
   ]
  },
  {
   "cell_type": "markdown",
   "metadata": {},
   "source": [
    "The product of A-priori probabilities $P(smoker=no) \\cdot P(region=y)$ is:"
   ]
  },
  {
   "cell_type": "code",
   "execution_count": 55,
   "metadata": {},
   "outputs": [
    {
     "data": {
      "text/html": [
       "<dl class=dl-horizontal>\n",
       "\t<dt>northeast</dt>\n",
       "\t\t<dd>0.192563695228136</dd>\n",
       "\t<dt>northwest</dt>\n",
       "\t\t<dd>0.193158027620816</dd>\n",
       "\t<dt>southeast</dt>\n",
       "\t\t<dd>0.216336990935314</dd>\n",
       "\t<dt>southwest</dt>\n",
       "\t\t<dd>0.193158027620816</dd>\n",
       "\t<dt>Sum</dt>\n",
       "\t\t<dd>0.795216741405082</dd>\n",
       "</dl>\n"
      ],
      "text/latex": [
       "\\begin{description*}\n",
       "\\item[northeast] 0.192563695228136\n",
       "\\item[northwest] 0.193158027620816\n",
       "\\item[southeast] 0.216336990935314\n",
       "\\item[southwest] 0.193158027620816\n",
       "\\item[Sum] 0.795216741405082\n",
       "\\end{description*}\n"
      ],
      "text/markdown": [
       "northeast\n",
       ":   0.192563695228136northwest\n",
       ":   0.193158027620816southeast\n",
       ":   0.216336990935314southwest\n",
       ":   0.193158027620816Sum\n",
       ":   0.795216741405082\n",
       "\n"
      ],
      "text/plain": [
       "northeast northwest southeast southwest       Sum \n",
       "0.1925637 0.1931580 0.2163370 0.1931580 0.7952167 "
      ]
     },
     "metadata": {},
     "output_type": "display_data"
    }
   ],
   "source": [
    "prop_Tab['no','Sum']*prop_Tab['Sum',]"
   ]
  },
  {
   "cell_type": "markdown",
   "metadata": {},
   "source": [
    "And the difference between the product and the joint probabilities $P(smoker=no \\cap region=y)$: "
   ]
  },
  {
   "cell_type": "code",
   "execution_count": 73,
   "metadata": {},
   "outputs": [
    {
     "data": {
      "text/html": [
       "<dl class=dl-horizontal>\n",
       "\t<dt>northeast</dt>\n",
       "\t\t<dd>-0.000485967275969057</dd>\n",
       "\t<dt>northwest</dt>\n",
       "\t\t<dd>0.00639354188591054</dd>\n",
       "\t<dt>southeast</dt>\n",
       "\t\t<dd>-0.0123011164958519</dd>\n",
       "\t<dt>southwest</dt>\n",
       "\t\t<dd>0.00639354188591054</dd>\n",
       "\t<dt>Sum</dt>\n",
       "\t\t<dd>0</dd>\n",
       "</dl>\n"
      ],
      "text/latex": [
       "\\begin{description*}\n",
       "\\item[northeast] -0.000485967275969057\n",
       "\\item[northwest] 0.00639354188591054\n",
       "\\item[southeast] -0.0123011164958519\n",
       "\\item[southwest] 0.00639354188591054\n",
       "\\item[Sum] 0\n",
       "\\end{description*}\n"
      ],
      "text/markdown": [
       "northeast\n",
       ":   -0.000485967275969057northwest\n",
       ":   0.00639354188591054southeast\n",
       ":   -0.0123011164958519southwest\n",
       ":   0.00639354188591054Sum\n",
       ":   0\n",
       "\n"
      ],
      "text/plain": [
       "    northeast     northwest     southeast     southwest           Sum \n",
       "-0.0004859673  0.0063935419 -0.0123011165  0.0063935419  0.0000000000 "
      ]
     },
     "metadata": {},
     "output_type": "display_data"
    }
   ],
   "source": [
    "(diffsNo<-prop_Tab['no',]-prop_Tab['no','Sum']*prop_Tab['Sum',])"
   ]
  },
  {
   "cell_type": "markdown",
   "metadata": {},
   "source": [
    "In the same way the differences $$P(smoker=yes \\cap region=y)-P(smoker=yes) \\cdot P(region=y)$$ can be calculated:"
   ]
  },
  {
   "cell_type": "code",
   "execution_count": 40,
   "metadata": {},
   "outputs": [
    {
     "data": {
      "text/html": [
       "<dl class=dl-horizontal>\n",
       "\t<dt>northeast</dt>\n",
       "\t\t<dd>0.000485967275969085</dd>\n",
       "\t<dt>northwest</dt>\n",
       "\t\t<dd>-0.00639354188591052</dd>\n",
       "\t<dt>southeast</dt>\n",
       "\t\t<dd>0.012301116495852</dd>\n",
       "\t<dt>southwest</dt>\n",
       "\t\t<dd>-0.00639354188591052</dd>\n",
       "\t<dt>Sum</dt>\n",
       "\t\t<dd>0</dd>\n",
       "</dl>\n"
      ],
      "text/latex": [
       "\\begin{description*}\n",
       "\\item[northeast] 0.000485967275969085\n",
       "\\item[northwest] -0.00639354188591052\n",
       "\\item[southeast] 0.012301116495852\n",
       "\\item[southwest] -0.00639354188591052\n",
       "\\item[Sum] 0\n",
       "\\end{description*}\n"
      ],
      "text/markdown": [
       "northeast\n",
       ":   0.000485967275969085northwest\n",
       ":   -0.00639354188591052southeast\n",
       ":   0.012301116495852southwest\n",
       ":   -0.00639354188591052Sum\n",
       ":   0\n",
       "\n"
      ],
      "text/plain": [
       "    northeast     northwest     southeast     southwest           Sum \n",
       " 0.0004859673 -0.0063935419  0.0123011165 -0.0063935419  0.0000000000 "
      ]
     },
     "metadata": {},
     "output_type": "display_data"
    }
   ],
   "source": [
    "prop_Tab['yes',]-prop_Tab['yes','Sum']*prop_Tab['Sum',]"
   ]
  },
  {
   "cell_type": "markdown",
   "metadata": {},
   "source": [
    "Since all the differences are marginal one can conclude, that the two variables are independent."
   ]
  },
  {
   "cell_type": "markdown",
   "metadata": {},
   "source": [
    "### Chi-Square Test for determining independence of categorial variables\n",
    "The chi-square test of independence is based on the idea, which has been described above: *If two variables are independent, then the difference between the joint probability $P(A \\cap B)$ and the product $P(A) \\cdot P(B)$ * must be marginal. The chi-square defines a metric for measuring the difference between $P(A \\cap B)$ and the product $P(A) \\cdot P(B)$. This metric is $$\\chi^2=\\sum\\limits_{i \\in D_A} \\sum\\limits_{j \\in D_B} \\frac{(f_{ij}-e_{ij})^2}{e_{ij}},$$\n",
    "where $f_{ij}$ is the observed frequency count of events belonging to both $A=i$ and $B=j$. The values $e_{ij}$ are the corresponding expected count if $A$ and $B$ are independent. It is assumed that the $\\chi^2$-value is distributed according to a [$\\chi^2$-distribution](https://en.wikipedia.org/wiki/Chi-squared_distribution) with $$k=|D_A-1|\\cdot |D_B-1|$$ degrees of freedom.\n",
    "\n",
    "The probability-density function of $\\chi^2$-distributions for different degrees of freedom are plotted in the code cell below:"
   ]
  },
  {
   "cell_type": "code",
   "execution_count": 193,
   "metadata": {},
   "outputs": [
    {
     "data": {
      "text/html": [
       "801"
      ],
      "text/latex": [
       "801"
      ],
      "text/markdown": [
       "801"
      ],
      "text/plain": [
       "[1] 801"
      ]
     },
     "metadata": {},
     "output_type": "display_data"
    },
    {
     "data": {},
     "metadata": {},
     "output_type": "display_data"
    },
    {
     "data": {
      "image/png": "[encoded data removed]",
      "text/plain": [
       "plot without title"
      ]
     },
     "metadata": {},
     "output_type": "display_data"
    }
   ],
   "source": [
    "library(ggplot2)\n",
    "S<-800\n",
    "maxK<-5\n",
    "k<-1:maxK\n",
    "colnam<-c(\"x\")\n",
    "xvals<-pretty(c(0,8),S)\n",
    "length(xvals)\n",
    "mat <- matrix(, nrow = S+1, ncol = maxK+1)\n",
    "mat[,1]<-xvals\n",
    "for(column in 1:maxK){\n",
    "  mat[, column+1] <- dchisq(xvals,df=k[column])\n",
    "  colnam<-append(colnam,paste(\"K=\",column))  \n",
    "}\n",
    "R<-as.data.frame(mat)\n",
    "colnames(R)<-colnam\n",
    "meltR <- melt(R, id = \"x\")\n",
    "ggplot(meltR, aes(x = x, y = value, group = variable, colour = variable)) + \n",
    "geom_line()+\n",
    "ylim(0,0.5)+\n",
    "labs(title=\"Chi2 Distributions for different degrees of freedom\")"
   ]
  },
  {
   "cell_type": "markdown",
   "metadata": {},
   "source": [
    "The values $f_{ij}$ and $e_{ij}$ are calculated as shown in the following code cells:\n",
    "\n",
    "The values $f_{ij}$ are the elements of the joint frequency table (see below). The last column in this table contains the frequency count $n_{yes}$ for $smoker=yes$  and the frequency count $n_{no}$ for $smoker=no$, respectively. The last row in this table contains the frequency count $n_{ne}, n_{nw}, n_{se}, n_{sw},$ for the four different regions. The element in the last column and the last row of this matrix is the total count $n$. Then, for example, the value $e_{no,sw}$ can be calculated as follows: $$e_{no,sw}=\\frac{n_{no}n_{sw}}{n}=\\frac{1064 \\cdot 325}{1338}=258.44.$$"
   ]
  },
  {
   "cell_type": "code",
   "execution_count": 41,
   "metadata": {},
   "outputs": [
    {
     "data": {
      "text/html": [
       "<table>\n",
       "<thead><tr><th></th><th scope=col>northeast</th><th scope=col>northwest</th><th scope=col>southeast</th><th scope=col>southwest</th><th scope=col>Sum</th></tr></thead>\n",
       "<tbody>\n",
       "\t<tr><th scope=row>no</th><td>257 </td><td>267 </td><td>273 </td><td>267 </td><td>1064</td></tr>\n",
       "\t<tr><th scope=row>yes</th><td> 67 </td><td> 58 </td><td> 91 </td><td> 58 </td><td> 274</td></tr>\n",
       "\t<tr><th scope=row>Sum</th><td>324 </td><td>325 </td><td>364 </td><td>325 </td><td>1338</td></tr>\n",
       "</tbody>\n",
       "</table>\n"
      ],
      "text/latex": [
       "\\begin{tabular}{r|lllll}\n",
       "  & northeast & northwest & southeast & southwest & Sum\\\\\n",
       "\\hline\n",
       "\tno & 257  & 267  & 273  & 267  & 1064\\\\\n",
       "\tyes &  67  &  58  &  91  &  58  &  274\\\\\n",
       "\tSum & 324  & 325  & 364  & 325  & 1338\\\\\n",
       "\\end{tabular}\n"
      ],
      "text/markdown": [
       "\n",
       "| <!--/--> | northeast | northwest | southeast | southwest | Sum | \n",
       "|---|---|---|\n",
       "| no | 257  | 267  | 273  | 267  | 1064 | \n",
       "| yes |  67  |  58  |  91  |  58  |  274 | \n",
       "| Sum | 324  | 325  | 364  | 325  | 1338 | \n",
       "\n",
       "\n"
      ],
      "text/plain": [
       "     \n",
       "      northeast northwest southeast southwest Sum \n",
       "  no  257       267       273       267       1064\n",
       "  yes  67        58        91        58        274\n",
       "  Sum 324       325       364       325       1338"
      ]
     },
     "metadata": {},
     "output_type": "display_data"
    }
   ],
   "source": [
    "(marg_Tab<-addmargins(smoker_region))"
   ]
  },
  {
   "cell_type": "markdown",
   "metadata": {},
   "source": [
    "From this table, the overall $\\chi^2$-value can be calculated as follows:"
   ]
  },
  {
   "cell_type": "code",
   "execution_count": 67,
   "metadata": {},
   "outputs": [
    {
     "data": {
      "text/html": [
       "'Chi-Square Value = 7.343478'"
      ],
      "text/latex": [
       "'Chi-Square Value = 7.343478'"
      ],
      "text/markdown": [
       "'Chi-Square Value = 7.343478'"
      ],
      "text/plain": [
       "[1] \"Chi-Square Value = 7.343478\""
      ]
     },
     "metadata": {},
     "output_type": "display_data"
    }
   ],
   "source": [
    "n<-marg_Tab['Sum','Sum']\n",
    "chi2<-sum((marg_Tab['no',]-marg_Tab['no','Sum']*marg_Tab['Sum',]/n)**2/(marg_Tab['no','Sum']*marg_Tab['Sum',]/n),\n",
    "    (marg_Tab['yes',]-marg_Tab['yes','Sum']*marg_Tab['Sum',]/n)**2/(marg_Tab['yes','Sum']*marg_Tab['Sum',]/n))\n",
    "sprintf(\"Chi-Square Value = %f\",chi2)"
   ]
  },
  {
   "cell_type": "markdown",
   "metadata": {},
   "source": [
    "#### Applying R's chisq.test() function"
   ]
  },
  {
   "cell_type": "markdown",
   "metadata": {},
   "source": [
    "The Chi-Square test is already available in the R base package. It can be applied as follows:"
   ]
  },
  {
   "cell_type": "code",
   "execution_count": 329,
   "metadata": {},
   "outputs": [
    {
     "data": {
      "text/plain": [
       "\n",
       "\tPearson's Chi-squared test\n",
       "\n",
       "data:  smoker_region\n",
       "X-squared = 7.3435, df = 3, p-value = 0.06172\n"
      ]
     },
     "metadata": {},
     "output_type": "display_data"
    }
   ],
   "source": [
    "chisq.test(smoker_region)"
   ]
  },
  {
   "cell_type": "markdown",
   "metadata": {},
   "source": [
    "As the p-value 0.06172 is greater than the .05 significance level, we do not reject the null hypothesis that smoking is independent of the region. I.e. the random variables *smoking* and *region* can be considered to be independent.\n",
    "\n",
    "Note that from the $\\chi^2$-value and the degree-of-freedom value, the p-value can be calculated from the probability distribution of the corresponding $\\chi^2$-distribution: "
   ]
  },
  {
   "cell_type": "code",
   "execution_count": 328,
   "metadata": {},
   "outputs": [
    {
     "data": {
      "text/html": [
       "0.0617189369567795"
      ],
      "text/latex": [
       "0.0617189369567795"
      ],
      "text/markdown": [
       "0.0617189369567795"
      ],
      "text/plain": [
       "[1] 0.06171894"
      ]
     },
     "metadata": {},
     "output_type": "display_data"
    }
   ],
   "source": [
    "1-pchisq(7.3435,df=3)"
   ]
  },
  {
   "cell_type": "markdown",
   "metadata": {},
   "source": [
    "Applying the same test to the random variables *smoking* and *sex* yields a p-value less than the .05 significance level. Hence, this pair of variables can be considered to be dependent. "
   ]
  },
  {
   "cell_type": "code",
   "execution_count": 195,
   "metadata": {},
   "outputs": [
    {
     "data": {
      "text/plain": [
       "     \n",
       "      female male\n",
       "  no     547  517\n",
       "  yes    115  159"
      ]
     },
     "metadata": {},
     "output_type": "display_data"
    },
    {
     "data": {
      "text/plain": [
       "\n",
       "\tPearson's Chi-squared test with Yates' continuity correction\n",
       "\n",
       "data:  smoker_sex\n",
       "X-squared = 7.3929, df = 1, p-value = 0.006548\n"
      ]
     },
     "metadata": {},
     "output_type": "display_data"
    }
   ],
   "source": [
    "(smoker_sex<-table(insurance$smoker,insurance$sex))\n",
    "chisq.test(smoker_sex)"
   ]
  },
  {
   "cell_type": "code",
   "execution_count": 330,
   "metadata": {},
   "outputs": [
    {
     "data": {
      "text/html": [
       "0.00654818287344683"
      ],
      "text/latex": [
       "0.00654818287344683"
      ],
      "text/markdown": [
       "0.00654818287344683"
      ],
      "text/plain": [
       "[1] 0.006548183"
      ]
     },
     "metadata": {},
     "output_type": "display_data"
    }
   ],
   "source": [
    "1-pchisq(7.3929,df=1)"
   ]
  },
  {
   "cell_type": "markdown",
   "metadata": {},
   "source": [
    "## T-Test\n",
    "The t-test is applied for determining if two samples are statistically distinct. For example in a study on the effect of a new blood-pressure-reducing drug the testpersons are partitioned into two groups: The persons of one group receive the new drug, whereas the persons of the other group receive a placebo. For all persons the daily blood-pressure is measured over a period of time. If the average blood-pressure decrease in the non-placebo group is higher than in the placebo group, one could conclude that the new drug is effective. However, this conclusion is only valid, if the two samples actually stem from different populations. In this case one would say that the two samples are statistically different. Otherwise the two samples stem from the same population, which means in this example, that the new drug is not effective, i.e. the larger average blood-pressure decrease in the non-placebo group has been just by chance. \n",
    "\n",
    "Resources:\n",
    "\n",
    "[http://matheguru.com/stochastik/267-t-test.html](http://matheguru.com/stochastik/267-t-test.html)\n",
    "\n",
    "[https://de.wikipedia.org/wiki/Zweistichproben-t-Test](https://de.wikipedia.org/wiki/Zweistichproben-t-Test)"
   ]
  },
  {
   "cell_type": "markdown",
   "metadata": {},
   "source": [
    "The example below demonstrates the use of R's *t.test()*-function. The first argument is the continuous outcome-variable (here *bmi* and *charges*, respectively) and the second argument is the categorical variable, which splits the set of all samples in two groups (here *sex*). The results of the two t-tests indicate, that there is no statistically significant difference between the mean *bmi* of men and women, but there is a statistically significant difference (if the 5%-significance-thershold is applied) between the mean *charges* of men and women."
   ]
  },
  {
   "cell_type": "code",
   "execution_count": 298,
   "metadata": {},
   "outputs": [
    {
     "data": {
      "text/plain": [
       "\n",
       "\tWelch Two Sample t-test\n",
       "\n",
       "data:  bmi by sex\n",
       "t = -1.697, df = 1336, p-value = 0.08992\n",
       "alternative hypothesis: true difference in means is not equal to 0\n",
       "95 percent confidence interval:\n",
       " -1.21895043  0.08819153\n",
       "sample estimates:\n",
       "mean in group female   mean in group male \n",
       "            30.37775             30.94313 \n"
      ]
     },
     "metadata": {},
     "output_type": "display_data"
    }
   ],
   "source": [
    "t.test(bmi ~ sex, data=insurance)"
   ]
  },
  {
   "cell_type": "code",
   "execution_count": 299,
   "metadata": {},
   "outputs": [
    {
     "data": {
      "text/plain": [
       "\n",
       "\tWelch Two Sample t-test\n",
       "\n",
       "data:  charges by sex\n",
       "t = -2.1009, df = 1313.4, p-value = 0.03584\n",
       "alternative hypothesis: true difference in means is not equal to 0\n",
       "95 percent confidence interval:\n",
       " -2682.48932   -91.85535\n",
       "sample estimates:\n",
       "mean in group female   mean in group male \n",
       "            12569.58             13956.75 \n"
      ]
     },
     "metadata": {},
     "output_type": "display_data"
    }
   ],
   "source": [
    "t.test(charges ~ sex, data=insurance)"
   ]
  },
  {
   "cell_type": "markdown",
   "metadata": {},
   "source": [
    "## Demonstration for determining significant distinct populations \n",
    "In real world applications the entire population is typically unknown. Therefore samples of limited size are drawn from this population and one tries to estimate the real statistics of the population from the statistics of the sample. The goal of significance-tests is to assess the quality of the sample-based estimation.\n",
    "\n",
    "In the following examples large *playground*-populations are generated. Then samples from these populations are drawn. The goal of these experiments is to demonstrate the difference between $true$ statistics of the population (which usually cannot be calculated) and the estimations for these statistics from the drawn samples. In particular, we pretend as if we do not know the population(s) and try to infer whether the two samples are drawn from populations with equal or with different statistics."
   ]
  },
  {
   "cell_type": "markdown",
   "metadata": {},
   "source": [
    "### Two samples from a single population\n",
    "In the following code cells 2 samples are drawn from a single population. The population-size is 10000. The *true* mean value of the population is $\\mu=100.014$.\n",
    "\n",
    "The two samples contain only 30 elements. The mean values $m_1$ and $m_2$ of the two samples differ effectively. **But is this difference statistically significant?** The t-test calculates a p-value of 0.35 for the null-hypothesis (null-hypothesis assumes that the true difference in means is 0). Because of this high p-value the null-hypothesis is not rejected. I.e. one can conclude, that the two samples stem from the same population."
   ]
  },
  {
   "cell_type": "markdown",
   "metadata": {},
   "source": [
    "**Generate Population:**"
   ]
  },
  {
   "cell_type": "code",
   "execution_count": 395,
   "metadata": {},
   "outputs": [
    {
     "data": {
      "text/html": [
       "100.014185830036"
      ],
      "text/latex": [
       "100.014185830036"
      ],
      "text/markdown": [
       "100.014185830036"
      ],
      "text/plain": [
       "[1] 100.0142"
      ]
     },
     "metadata": {},
     "output_type": "display_data"
    }
   ],
   "source": [
    "set.seed(124145)\n",
    "x<-rnorm(10000,mean=100,sd=15)\n",
    "(mu<-mean(x))"
   ]
  },
  {
   "cell_type": "markdown",
   "metadata": {},
   "source": [
    "**Draw two samples from the population:**"
   ]
  },
  {
   "cell_type": "code",
   "execution_count": 396,
   "metadata": {},
   "outputs": [
    {
     "data": {
      "text/html": [
       "101.014745436325"
      ],
      "text/latex": [
       "101.014745436325"
      ],
      "text/markdown": [
       "101.014745436325"
      ],
      "text/plain": [
       "[1] 101.0147"
      ]
     },
     "metadata": {},
     "output_type": "display_data"
    },
    {
     "data": {
      "text/html": [
       "97.2839865814313"
      ],
      "text/latex": [
       "97.2839865814313"
      ],
      "text/markdown": [
       "97.2839865814313"
      ],
      "text/plain": [
       "[1] 97.28399"
      ]
     },
     "metadata": {},
     "output_type": "display_data"
    }
   ],
   "source": [
    "s1<-sample(x,30)\n",
    "s2<-sample(x,30)\n",
    "(m1<-mean(s1))\n",
    "(m2<-mean(s2))"
   ]
  },
  {
   "cell_type": "markdown",
   "metadata": {},
   "source": [
    "The means $m_1$ and $m_2$ of the two samples differ! But, is this difference statistically significant, such that one can conclude, that the samples stem from different populations?"
   ]
  },
  {
   "cell_type": "code",
   "execution_count": 313,
   "metadata": {
    "scrolled": true
   },
   "outputs": [
    {
     "data": {
      "text/plain": [
       "\n",
       "\tWelch Two Sample t-test\n",
       "\n",
       "data:  s1 and s2\n",
       "t = 0.92747, df = 54.913, p-value = 0.3577\n",
       "alternative hypothesis: true difference in means is not equal to 0\n",
       "95 percent confidence interval:\n",
       " -4.330837 11.792355\n",
       "sample estimates:\n",
       "mean of x mean of y \n",
       "101.01475  97.28399 \n"
      ]
     },
     "metadata": {},
     "output_type": "display_data"
    }
   ],
   "source": [
    "t.test(s1,s2)"
   ]
  },
  {
   "cell_type": "markdown",
   "metadata": {},
   "source": [
    "The t-test yields a large p-value for the null-hypothesis. I.e. the null-hypothesis, which claims that the true means of the populations, from which the samples are drawn, are equal, is not rejected. "
   ]
  },
  {
   "cell_type": "markdown",
   "metadata": {},
   "source": [
    "### Two samples from different populations\n",
    "Now two samples are drawn from different populations. The *t.test()* provides a very small p-value, which indicates, that the null-hypothesis can be rejected and the alternative hypothesis, which states that the true difference in means is larger than 0 is accepted. "
   ]
  },
  {
   "cell_type": "code",
   "execution_count": 399,
   "metadata": {},
   "outputs": [
    {
     "data": {
      "text/html": [
       "94.9750091184493"
      ],
      "text/latex": [
       "94.9750091184493"
      ],
      "text/markdown": [
       "94.9750091184493"
      ],
      "text/plain": [
       "[1] 94.97501"
      ]
     },
     "metadata": {},
     "output_type": "display_data"
    }
   ],
   "source": [
    "set.seed(2145)\n",
    "y<-rnorm(10000,mean=95,sd=10)\n",
    "mean(y)"
   ]
  },
  {
   "cell_type": "code",
   "execution_count": 400,
   "metadata": {},
   "outputs": [
    {
     "data": {
      "text/html": [
       "106.043411651351"
      ],
      "text/latex": [
       "106.043411651351"
      ],
      "text/markdown": [
       "106.043411651351"
      ],
      "text/plain": [
       "[1] 106.0434"
      ]
     },
     "metadata": {},
     "output_type": "display_data"
    },
    {
     "data": {
      "text/html": [
       "92.3180072493798"
      ],
      "text/latex": [
       "92.3180072493798"
      ],
      "text/markdown": [
       "92.3180072493798"
      ],
      "text/plain": [
       "[1] 92.31801"
      ]
     },
     "metadata": {},
     "output_type": "display_data"
    }
   ],
   "source": [
    "s1<-sample(x,30)\n",
    "s2<-sample(y,30)\n",
    "mean(s1)\n",
    "mean(s2)"
   ]
  },
  {
   "cell_type": "code",
   "execution_count": 401,
   "metadata": {},
   "outputs": [
    {
     "data": {
      "text/plain": [
       "\n",
       "\tWelch Two Sample t-test\n",
       "\n",
       "data:  s1 and s2\n",
       "t = 5.6044, df = 45.623, p-value = 1.156e-06\n",
       "alternative hypothesis: true difference in means is not equal to 0\n",
       "95 percent confidence interval:\n",
       "  8.794655 18.656153\n",
       "sample estimates:\n",
       "mean of x mean of y \n",
       "106.04341  92.31801 \n"
      ]
     },
     "metadata": {},
     "output_type": "display_data"
    }
   ],
   "source": [
    "t.test(s1,s2)"
   ]
  },
  {
   "cell_type": "markdown",
   "metadata": {},
   "source": [
    "## Correlations\n",
    "The *cor()*-function can be applied to determine the relationship between quantitative variables. There exists different methods for calculating a correlation-measure. For example the *pearson*-correlation-coefficient measures the degree of linear relationship between two variables. Other correlation-methods, which can be assigned to the *method*-argument of the *cor()*-function are *spearman* and *kendall*. If data stems from a normal-distributed population the *pearson*-correlation-coefficient should be calculated, otherwise one of the other two methods is recommended.\n",
    "\n",
    "\n",
    "\n",
    "**Generate example data with correlated and uncorrelated variables:**\n",
    "\n",
    "In the example below columns 1 and 2 are random integers, columns 3, 4 and 5 are fully linear related, column 6 is non-linearly correlated to column 3 and column 7 is the sum of a fully linear-related part to column 3 plus a random integer. These relations are reflected by the correlation coefficients, calculated by the *cor()*-function. "
   ]
  },
  {
   "cell_type": "code",
   "execution_count": 402,
   "metadata": {},
   "outputs": [
    {
     "data": {
      "text/html": [
       "<table>\n",
       "<thead><tr><th scope=col>col1</th><th scope=col>col2</th><th scope=col>col3</th><th scope=col>col4</th><th scope=col>col5</th><th scope=col>col6</th><th scope=col>col7</th></tr></thead>\n",
       "<tbody>\n",
       "\t<tr><td>7   </td><td>5   </td><td> 1  </td><td> 0  </td><td> -1 </td><td>-100</td><td> 1  </td></tr>\n",
       "\t<tr><td>3   </td><td>7   </td><td> 2  </td><td> 2  </td><td> -3 </td><td> -96</td><td> 3  </td></tr>\n",
       "\t<tr><td>9   </td><td>8   </td><td> 3  </td><td> 4  </td><td> -5 </td><td> -82</td><td> 5  </td></tr>\n",
       "\t<tr><td>4   </td><td>2   </td><td> 4  </td><td> 6  </td><td> -7 </td><td> -52</td><td> 4  </td></tr>\n",
       "\t<tr><td>3   </td><td>8   </td><td> 5  </td><td> 8  </td><td> -9 </td><td>   0</td><td> 7  </td></tr>\n",
       "\t<tr><td>3   </td><td>4   </td><td> 6  </td><td>10  </td><td>-11 </td><td>  80</td><td> 8  </td></tr>\n",
       "\t<tr><td>6   </td><td>9   </td><td> 7  </td><td>12  </td><td>-13 </td><td> 194</td><td> 9  </td></tr>\n",
       "\t<tr><td>7   </td><td>4   </td><td> 8  </td><td>14  </td><td>-15 </td><td> 348</td><td> 9  </td></tr>\n",
       "\t<tr><td>0   </td><td>6   </td><td> 9  </td><td>16  </td><td>-17 </td><td> 548</td><td>11  </td></tr>\n",
       "\t<tr><td>4   </td><td>5   </td><td>10  </td><td>18  </td><td>-19 </td><td> 800</td><td>12  </td></tr>\n",
       "</tbody>\n",
       "</table>\n"
      ],
      "text/latex": [
       "\\begin{tabular}{r|lllllll}\n",
       " col1 & col2 & col3 & col4 & col5 & col6 & col7\\\\\n",
       "\\hline\n",
       "\t 7    & 5    &  1   &  0   &  -1  & -100 &  1  \\\\\n",
       "\t 3    & 7    &  2   &  2   &  -3  &  -96 &  3  \\\\\n",
       "\t 9    & 8    &  3   &  4   &  -5  &  -82 &  5  \\\\\n",
       "\t 4    & 2    &  4   &  6   &  -7  &  -52 &  4  \\\\\n",
       "\t 3    & 8    &  5   &  8   &  -9  &    0 &  7  \\\\\n",
       "\t 3    & 4    &  6   & 10   & -11  &   80 &  8  \\\\\n",
       "\t 6    & 9    &  7   & 12   & -13  &  194 &  9  \\\\\n",
       "\t 7    & 4    &  8   & 14   & -15  &  348 &  9  \\\\\n",
       "\t 0    & 6    &  9   & 16   & -17  &  548 & 11  \\\\\n",
       "\t 4    & 5    & 10   & 18   & -19  &  800 & 12  \\\\\n",
       "\\end{tabular}\n"
      ],
      "text/markdown": [
       "\n",
       "col1 | col2 | col3 | col4 | col5 | col6 | col7 | \n",
       "|---|---|---|---|---|---|---|---|---|---|\n",
       "| 7    | 5    |  1   |  0   |  -1  | -100 |  1   | \n",
       "| 3    | 7    |  2   |  2   |  -3  |  -96 |  3   | \n",
       "| 9    | 8    |  3   |  4   |  -5  |  -82 |  5   | \n",
       "| 4    | 2    |  4   |  6   |  -7  |  -52 |  4   | \n",
       "| 3    | 8    |  5   |  8   |  -9  |    0 |  7   | \n",
       "| 3    | 4    |  6   | 10   | -11  |   80 |  8   | \n",
       "| 6    | 9    |  7   | 12   | -13  |  194 |  9   | \n",
       "| 7    | 4    |  8   | 14   | -15  |  348 |  9   | \n",
       "| 0    | 6    |  9   | 16   | -17  |  548 | 11   | \n",
       "| 4    | 5    | 10   | 18   | -19  |  800 | 12   | \n",
       "\n",
       "\n"
      ],
      "text/plain": [
       "   col1 col2 col3 col4 col5 col6 col7\n",
       "1  7    5     1    0    -1  -100  1  \n",
       "2  3    7     2    2    -3   -96  3  \n",
       "3  9    8     3    4    -5   -82  5  \n",
       "4  4    2     4    6    -7   -52  4  \n",
       "5  3    8     5    8    -9     0  7  \n",
       "6  3    4     6   10   -11    80  8  \n",
       "7  6    9     7   12   -13   194  9  \n",
       "8  7    4     8   14   -15   348  9  \n",
       "9  0    6     9   16   -17   548 11  \n",
       "10 4    5    10   18   -19   800 12  "
      ]
     },
     "metadata": {},
     "output_type": "display_data"
    }
   ],
   "source": [
    "NS<-10\n",
    "c1<-floor(10*runif(NS))\n",
    "c2<-floor(10*runif(NS))\n",
    "c3<-1:NS\n",
    "c4<--2+2*c3\n",
    "c5<-1-2*c3\n",
    "c6<--100+c3**3-c3**2\n",
    "c7<-c3+floor(3*runif(NS))\n",
    "(testDF<-data.frame(col1=c1,col2=c2,col3=c3,col4=c4,col5=c5,col6=c6,col7=c7))"
   ]
  },
  {
   "cell_type": "markdown",
   "metadata": {},
   "source": [
    "### *cor()*- and *cov()*-function"
   ]
  },
  {
   "cell_type": "code",
   "execution_count": 405,
   "metadata": {},
   "outputs": [
    {
     "data": {
      "text/html": [
       "<table>\n",
       "<thead><tr><th></th><th scope=col>col1</th><th scope=col>col2</th><th scope=col>col3</th><th scope=col>col4</th><th scope=col>col5</th><th scope=col>col6</th><th scope=col>col7</th></tr></thead>\n",
       "<tbody>\n",
       "\t<tr><th scope=row>col1</th><td> 1.0000000 </td><td> 0.13803746</td><td>-0.36237154</td><td>-0.36237154</td><td> 0.36237154</td><td>-0.3318190 </td><td>-0.35902218</td></tr>\n",
       "\t<tr><th scope=row>col2</th><td> 0.1380375 </td><td> 1.00000000</td><td>-0.08336808</td><td>-0.08336808</td><td> 0.08336808</td><td>-0.1136507 </td><td> 0.06781691</td></tr>\n",
       "\t<tr><th scope=row>col3</th><td>-0.3623715 </td><td>-0.08336808</td><td> 1.00000000</td><td> 1.00000000</td><td>-1.00000000</td><td> 0.9218469 </td><td> 0.98088114</td></tr>\n",
       "\t<tr><th scope=row>col4</th><td>-0.3623715 </td><td>-0.08336808</td><td> 1.00000000</td><td> 1.00000000</td><td>-1.00000000</td><td> 0.9218469 </td><td> 0.98088114</td></tr>\n",
       "\t<tr><th scope=row>col5</th><td> 0.3623715 </td><td> 0.08336808</td><td>-1.00000000</td><td>-1.00000000</td><td> 1.00000000</td><td>-0.9218469 </td><td>-0.98088114</td></tr>\n",
       "\t<tr><th scope=row>col6</th><td>-0.3318190 </td><td>-0.11365067</td><td> 0.92184687</td><td> 0.92184687</td><td>-0.92184687</td><td> 1.0000000 </td><td> 0.88504489</td></tr>\n",
       "\t<tr><th scope=row>col7</th><td>-0.3590222 </td><td> 0.06781691</td><td> 0.98088114</td><td> 0.98088114</td><td>-0.98088114</td><td> 0.8850449 </td><td> 1.00000000</td></tr>\n",
       "</tbody>\n",
       "</table>\n"
      ],
      "text/latex": [
       "\\begin{tabular}{r|lllllll}\n",
       "  & col1 & col2 & col3 & col4 & col5 & col6 & col7\\\\\n",
       "\\hline\n",
       "\tcol1 &  1.0000000  &  0.13803746 & -0.36237154 & -0.36237154 &  0.36237154 & -0.3318190  & -0.35902218\\\\\n",
       "\tcol2 &  0.1380375  &  1.00000000 & -0.08336808 & -0.08336808 &  0.08336808 & -0.1136507  &  0.06781691\\\\\n",
       "\tcol3 & -0.3623715  & -0.08336808 &  1.00000000 &  1.00000000 & -1.00000000 &  0.9218469  &  0.98088114\\\\\n",
       "\tcol4 & -0.3623715  & -0.08336808 &  1.00000000 &  1.00000000 & -1.00000000 &  0.9218469  &  0.98088114\\\\\n",
       "\tcol5 &  0.3623715  &  0.08336808 & -1.00000000 & -1.00000000 &  1.00000000 & -0.9218469  & -0.98088114\\\\\n",
       "\tcol6 & -0.3318190  & -0.11365067 &  0.92184687 &  0.92184687 & -0.92184687 &  1.0000000  &  0.88504489\\\\\n",
       "\tcol7 & -0.3590222  &  0.06781691 &  0.98088114 &  0.98088114 & -0.98088114 &  0.8850449  &  1.00000000\\\\\n",
       "\\end{tabular}\n"
      ],
      "text/markdown": [
       "\n",
       "| <!--/--> | col1 | col2 | col3 | col4 | col5 | col6 | col7 | \n",
       "|---|---|---|---|---|---|---|\n",
       "| col1 |  1.0000000  |  0.13803746 | -0.36237154 | -0.36237154 |  0.36237154 | -0.3318190  | -0.35902218 | \n",
       "| col2 |  0.1380375  |  1.00000000 | -0.08336808 | -0.08336808 |  0.08336808 | -0.1136507  |  0.06781691 | \n",
       "| col3 | -0.3623715  | -0.08336808 |  1.00000000 |  1.00000000 | -1.00000000 |  0.9218469  |  0.98088114 | \n",
       "| col4 | -0.3623715  | -0.08336808 |  1.00000000 |  1.00000000 | -1.00000000 |  0.9218469  |  0.98088114 | \n",
       "| col5 |  0.3623715  |  0.08336808 | -1.00000000 | -1.00000000 |  1.00000000 | -0.9218469  | -0.98088114 | \n",
       "| col6 | -0.3318190  | -0.11365067 |  0.92184687 |  0.92184687 | -0.92184687 |  1.0000000  |  0.88504489 | \n",
       "| col7 | -0.3590222  |  0.06781691 |  0.98088114 |  0.98088114 | -0.98088114 |  0.8850449  |  1.00000000 | \n",
       "\n",
       "\n"
      ],
      "text/plain": [
       "     col1       col2        col3        col4        col5        col6      \n",
       "col1  1.0000000  0.13803746 -0.36237154 -0.36237154  0.36237154 -0.3318190\n",
       "col2  0.1380375  1.00000000 -0.08336808 -0.08336808  0.08336808 -0.1136507\n",
       "col3 -0.3623715 -0.08336808  1.00000000  1.00000000 -1.00000000  0.9218469\n",
       "col4 -0.3623715 -0.08336808  1.00000000  1.00000000 -1.00000000  0.9218469\n",
       "col5  0.3623715  0.08336808 -1.00000000 -1.00000000  1.00000000 -0.9218469\n",
       "col6 -0.3318190 -0.11365067  0.92184687  0.92184687 -0.92184687  1.0000000\n",
       "col7 -0.3590222  0.06781691  0.98088114  0.98088114 -0.98088114  0.8850449\n",
       "     col7       \n",
       "col1 -0.35902218\n",
       "col2  0.06781691\n",
       "col3  0.98088114\n",
       "col4  0.98088114\n",
       "col5 -0.98088114\n",
       "col6  0.88504489\n",
       "col7  1.00000000"
      ]
     },
     "metadata": {},
     "output_type": "display_data"
    }
   ],
   "source": [
    "cor(testDF,method=\"pearson\")"
   ]
  },
  {
   "cell_type": "code",
   "execution_count": 404,
   "metadata": {},
   "outputs": [
    {
     "data": {
      "text/html": [
       "<table>\n",
       "<thead><tr><th></th><th scope=col>col1</th><th scope=col>col2</th><th scope=col>col3</th><th scope=col>col4</th><th scope=col>col5</th><th scope=col>col6</th><th scope=col>col7</th></tr></thead>\n",
       "<tbody>\n",
       "\t<tr><th scope=row>col1</th><td> 1.00000000</td><td> 0.02803861</td><td>-0.27165152</td><td>-0.27165152</td><td> 0.27165152</td><td>-0.27165152</td><td>-0.22603328</td></tr>\n",
       "\t<tr><th scope=row>col2</th><td> 0.02803861</td><td> 1.00000000</td><td>-0.09786345</td><td>-0.09786345</td><td> 0.09786345</td><td>-0.09786345</td><td> 0.03987805</td></tr>\n",
       "\t<tr><th scope=row>col3</th><td>-0.27165152</td><td>-0.09786345</td><td> 1.00000000</td><td> 1.00000000</td><td>-1.00000000</td><td> 1.00000000</td><td> 0.98480698</td></tr>\n",
       "\t<tr><th scope=row>col4</th><td>-0.27165152</td><td>-0.09786345</td><td> 1.00000000</td><td> 1.00000000</td><td>-1.00000000</td><td> 1.00000000</td><td> 0.98480698</td></tr>\n",
       "\t<tr><th scope=row>col5</th><td> 0.27165152</td><td> 0.09786345</td><td>-1.00000000</td><td>-1.00000000</td><td> 1.00000000</td><td>-1.00000000</td><td>-0.98480698</td></tr>\n",
       "\t<tr><th scope=row>col6</th><td>-0.27165152</td><td>-0.09786345</td><td> 1.00000000</td><td> 1.00000000</td><td>-1.00000000</td><td> 1.00000000</td><td> 0.98480698</td></tr>\n",
       "\t<tr><th scope=row>col7</th><td>-0.22603328</td><td> 0.03987805</td><td> 0.98480698</td><td> 0.98480698</td><td>-0.98480698</td><td> 0.98480698</td><td> 1.00000000</td></tr>\n",
       "</tbody>\n",
       "</table>\n"
      ],
      "text/latex": [
       "\\begin{tabular}{r|lllllll}\n",
       "  & col1 & col2 & col3 & col4 & col5 & col6 & col7\\\\\n",
       "\\hline\n",
       "\tcol1 &  1.00000000 &  0.02803861 & -0.27165152 & -0.27165152 &  0.27165152 & -0.27165152 & -0.22603328\\\\\n",
       "\tcol2 &  0.02803861 &  1.00000000 & -0.09786345 & -0.09786345 &  0.09786345 & -0.09786345 &  0.03987805\\\\\n",
       "\tcol3 & -0.27165152 & -0.09786345 &  1.00000000 &  1.00000000 & -1.00000000 &  1.00000000 &  0.98480698\\\\\n",
       "\tcol4 & -0.27165152 & -0.09786345 &  1.00000000 &  1.00000000 & -1.00000000 &  1.00000000 &  0.98480698\\\\\n",
       "\tcol5 &  0.27165152 &  0.09786345 & -1.00000000 & -1.00000000 &  1.00000000 & -1.00000000 & -0.98480698\\\\\n",
       "\tcol6 & -0.27165152 & -0.09786345 &  1.00000000 &  1.00000000 & -1.00000000 &  1.00000000 &  0.98480698\\\\\n",
       "\tcol7 & -0.22603328 &  0.03987805 &  0.98480698 &  0.98480698 & -0.98480698 &  0.98480698 &  1.00000000\\\\\n",
       "\\end{tabular}\n"
      ],
      "text/markdown": [
       "\n",
       "| <!--/--> | col1 | col2 | col3 | col4 | col5 | col6 | col7 | \n",
       "|---|---|---|---|---|---|---|\n",
       "| col1 |  1.00000000 |  0.02803861 | -0.27165152 | -0.27165152 |  0.27165152 | -0.27165152 | -0.22603328 | \n",
       "| col2 |  0.02803861 |  1.00000000 | -0.09786345 | -0.09786345 |  0.09786345 | -0.09786345 |  0.03987805 | \n",
       "| col3 | -0.27165152 | -0.09786345 |  1.00000000 |  1.00000000 | -1.00000000 |  1.00000000 |  0.98480698 | \n",
       "| col4 | -0.27165152 | -0.09786345 |  1.00000000 |  1.00000000 | -1.00000000 |  1.00000000 |  0.98480698 | \n",
       "| col5 |  0.27165152 |  0.09786345 | -1.00000000 | -1.00000000 |  1.00000000 | -1.00000000 | -0.98480698 | \n",
       "| col6 | -0.27165152 | -0.09786345 |  1.00000000 |  1.00000000 | -1.00000000 |  1.00000000 |  0.98480698 | \n",
       "| col7 | -0.22603328 |  0.03987805 |  0.98480698 |  0.98480698 | -0.98480698 |  0.98480698 |  1.00000000 | \n",
       "\n",
       "\n"
      ],
      "text/plain": [
       "     col1        col2        col3        col4        col5        col6       \n",
       "col1  1.00000000  0.02803861 -0.27165152 -0.27165152  0.27165152 -0.27165152\n",
       "col2  0.02803861  1.00000000 -0.09786345 -0.09786345  0.09786345 -0.09786345\n",
       "col3 -0.27165152 -0.09786345  1.00000000  1.00000000 -1.00000000  1.00000000\n",
       "col4 -0.27165152 -0.09786345  1.00000000  1.00000000 -1.00000000  1.00000000\n",
       "col5  0.27165152  0.09786345 -1.00000000 -1.00000000  1.00000000 -1.00000000\n",
       "col6 -0.27165152 -0.09786345  1.00000000  1.00000000 -1.00000000  1.00000000\n",
       "col7 -0.22603328  0.03987805  0.98480698  0.98480698 -0.98480698  0.98480698\n",
       "     col7       \n",
       "col1 -0.22603328\n",
       "col2  0.03987805\n",
       "col3  0.98480698\n",
       "col4  0.98480698\n",
       "col5 -0.98480698\n",
       "col6  0.98480698\n",
       "col7  1.00000000"
      ]
     },
     "metadata": {},
     "output_type": "display_data"
    }
   ],
   "source": [
    "cor(testDF,method=\"spearman\")"
   ]
  },
  {
   "cell_type": "code",
   "execution_count": 406,
   "metadata": {},
   "outputs": [
    {
     "data": {
      "text/html": [
       "<table>\n",
       "<thead><tr><th></th><th scope=col>col1</th><th scope=col>col2</th><th scope=col>col3</th><th scope=col>col4</th><th scope=col>col5</th><th scope=col>col6</th><th scope=col>col7</th></tr></thead>\n",
       "<tbody>\n",
       "\t<tr><th scope=row>col1</th><td>   6.933333 </td><td>  0.8000000 </td><td> -2.8888889 </td><td>  -5.777778 </td><td>    5.777778</td><td> -270.88889 </td><td> -3.3777778 </td></tr>\n",
       "\t<tr><th scope=row>col2</th><td>   0.800000 </td><td>  4.8444444 </td><td> -0.5555556 </td><td>  -1.111111 </td><td>    1.111111</td><td>  -77.55556 </td><td>  0.5333333 </td></tr>\n",
       "\t<tr><th scope=row>col3</th><td>  -2.888889 </td><td> -0.5555556 </td><td>  9.1666667 </td><td>  18.333333 </td><td>  -18.333333</td><td>  865.33333 </td><td> 10.6111111 </td></tr>\n",
       "\t<tr><th scope=row>col4</th><td>  -5.777778 </td><td> -1.1111111 </td><td> 18.3333333 </td><td>  36.666667 </td><td>  -36.666667</td><td> 1730.66667 </td><td> 21.2222222 </td></tr>\n",
       "\t<tr><th scope=row>col5</th><td>   5.777778 </td><td>  1.1111111 </td><td>-18.3333333 </td><td> -36.666667 </td><td>   36.666667</td><td>-1730.66667 </td><td>-21.2222222 </td></tr>\n",
       "\t<tr><th scope=row>col6</th><td>-270.888889 </td><td>-77.5555556 </td><td>865.3333333 </td><td>1730.666667 </td><td>-1730.666667</td><td>96125.33333 </td><td>980.4444444 </td></tr>\n",
       "\t<tr><th scope=row>col7</th><td>  -3.377778 </td><td>  0.5333333 </td><td> 10.6111111 </td><td>  21.222222 </td><td>  -21.222222</td><td>  980.44444 </td><td> 12.7666667 </td></tr>\n",
       "</tbody>\n",
       "</table>\n"
      ],
      "text/latex": [
       "\\begin{tabular}{r|lllllll}\n",
       "  & col1 & col2 & col3 & col4 & col5 & col6 & col7\\\\\n",
       "\\hline\n",
       "\tcol1 &    6.933333  &   0.8000000  &  -2.8888889  &   -5.777778  &     5.777778 &  -270.88889  &  -3.3777778 \\\\\n",
       "\tcol2 &    0.800000  &   4.8444444  &  -0.5555556  &   -1.111111  &     1.111111 &   -77.55556  &   0.5333333 \\\\\n",
       "\tcol3 &   -2.888889  &  -0.5555556  &   9.1666667  &   18.333333  &   -18.333333 &   865.33333  &  10.6111111 \\\\\n",
       "\tcol4 &   -5.777778  &  -1.1111111  &  18.3333333  &   36.666667  &   -36.666667 &  1730.66667  &  21.2222222 \\\\\n",
       "\tcol5 &    5.777778  &   1.1111111  & -18.3333333  &  -36.666667  &    36.666667 & -1730.66667  & -21.2222222 \\\\\n",
       "\tcol6 & -270.888889  & -77.5555556  & 865.3333333  & 1730.666667  & -1730.666667 & 96125.33333  & 980.4444444 \\\\\n",
       "\tcol7 &   -3.377778  &   0.5333333  &  10.6111111  &   21.222222  &   -21.222222 &   980.44444  &  12.7666667 \\\\\n",
       "\\end{tabular}\n"
      ],
      "text/markdown": [
       "\n",
       "| <!--/--> | col1 | col2 | col3 | col4 | col5 | col6 | col7 | \n",
       "|---|---|---|---|---|---|---|\n",
       "| col1 |    6.933333  |   0.8000000  |  -2.8888889  |   -5.777778  |     5.777778 |  -270.88889  |  -3.3777778  | \n",
       "| col2 |    0.800000  |   4.8444444  |  -0.5555556  |   -1.111111  |     1.111111 |   -77.55556  |   0.5333333  | \n",
       "| col3 |   -2.888889  |  -0.5555556  |   9.1666667  |   18.333333  |   -18.333333 |   865.33333  |  10.6111111  | \n",
       "| col4 |   -5.777778  |  -1.1111111  |  18.3333333  |   36.666667  |   -36.666667 |  1730.66667  |  21.2222222  | \n",
       "| col5 |    5.777778  |   1.1111111  | -18.3333333  |  -36.666667  |    36.666667 | -1730.66667  | -21.2222222  | \n",
       "| col6 | -270.888889  | -77.5555556  | 865.3333333  | 1730.666667  | -1730.666667 | 96125.33333  | 980.4444444  | \n",
       "| col7 |   -3.377778  |   0.5333333  |  10.6111111  |   21.222222  |   -21.222222 |   980.44444  |  12.7666667  | \n",
       "\n",
       "\n"
      ],
      "text/plain": [
       "     col1        col2        col3        col4        col5         col6       \n",
       "col1    6.933333   0.8000000  -2.8888889   -5.777778     5.777778  -270.88889\n",
       "col2    0.800000   4.8444444  -0.5555556   -1.111111     1.111111   -77.55556\n",
       "col3   -2.888889  -0.5555556   9.1666667   18.333333   -18.333333   865.33333\n",
       "col4   -5.777778  -1.1111111  18.3333333   36.666667   -36.666667  1730.66667\n",
       "col5    5.777778   1.1111111 -18.3333333  -36.666667    36.666667 -1730.66667\n",
       "col6 -270.888889 -77.5555556 865.3333333 1730.666667 -1730.666667 96125.33333\n",
       "col7   -3.377778   0.5333333  10.6111111   21.222222   -21.222222   980.44444\n",
       "     col7       \n",
       "col1  -3.3777778\n",
       "col2   0.5333333\n",
       "col3  10.6111111\n",
       "col4  21.2222222\n",
       "col5 -21.2222222\n",
       "col6 980.4444444\n",
       "col7  12.7666667"
      ]
     },
     "metadata": {},
     "output_type": "display_data"
    }
   ],
   "source": [
    "cov(testDF)"
   ]
  },
  {
   "cell_type": "markdown",
   "metadata": {},
   "source": [
    "The entries $\\rho_{i,j}$ of the pearson-correlation matrix, which is returned by the *cor()*-function with *method='pearson'*, can be calculated from the entries $\\sigma_{i,j}$ of the covariance matrix (returned by *cov()*) as follows: \n",
    "$$\\rho_{i,j}=\\frac{\\sigma_{i,j}}{\\sigma_{i}\\cdot \\sigma_{j}},$$ \n",
    "where $\\sigma_{i}$ and $\\sigma_{j}$ are the standard-deviations of columns $i$ and $j$, respectively. This relation is proven for a pair of columns $i$, $j$ of the *testDF*-data in the code snippet below: "
   ]
  },
  {
   "cell_type": "code",
   "execution_count": 411,
   "metadata": {},
   "outputs": [
    {
     "data": {
      "text/html": [
       "0.885044894142152"
      ],
      "text/latex": [
       "0.885044894142152"
      ],
      "text/markdown": [
       "0.885044894142152"
      ],
      "text/plain": [
       "[1] 0.8850449"
      ]
     },
     "metadata": {},
     "output_type": "display_data"
    }
   ],
   "source": [
    "i<-6\n",
    "j<-7\n",
    "si<-sd(testDF[,i])\n",
    "sj<-sd(testDF[,j])\n",
    "cov(testDF)[i,j]/(si*sj)"
   ]
  },
  {
   "cell_type": "markdown",
   "metadata": {},
   "source": [
    "**Correlations between the numeric variables of the *insurance*-dataset:**"
   ]
  },
  {
   "cell_type": "code",
   "execution_count": 295,
   "metadata": {},
   "outputs": [
    {
     "data": {
      "text/html": [
       "<table>\n",
       "<thead><tr><th></th><th scope=col>age</th><th scope=col>bmi</th><th scope=col>children</th><th scope=col>charges</th></tr></thead>\n",
       "<tbody>\n",
       "\t<tr><th scope=row>age</th><td>1.0000000 </td><td>0.1092719 </td><td>0.04246900</td><td>0.29900819</td></tr>\n",
       "\t<tr><th scope=row>bmi</th><td>0.1092719 </td><td>1.0000000 </td><td>0.01275890</td><td>0.19834097</td></tr>\n",
       "\t<tr><th scope=row>children</th><td>0.0424690 </td><td>0.0127589 </td><td>1.00000000</td><td>0.06799823</td></tr>\n",
       "\t<tr><th scope=row>charges</th><td>0.2990082 </td><td>0.1983410 </td><td>0.06799823</td><td>1.00000000</td></tr>\n",
       "</tbody>\n",
       "</table>\n"
      ],
      "text/latex": [
       "\\begin{tabular}{r|llll}\n",
       "  & age & bmi & children & charges\\\\\n",
       "\\hline\n",
       "\tage & 1.0000000  & 0.1092719  & 0.04246900 & 0.29900819\\\\\n",
       "\tbmi & 0.1092719  & 1.0000000  & 0.01275890 & 0.19834097\\\\\n",
       "\tchildren & 0.0424690  & 0.0127589  & 1.00000000 & 0.06799823\\\\\n",
       "\tcharges & 0.2990082  & 0.1983410  & 0.06799823 & 1.00000000\\\\\n",
       "\\end{tabular}\n"
      ],
      "text/markdown": [
       "\n",
       "| <!--/--> | age | bmi | children | charges | \n",
       "|---|---|---|---|\n",
       "| age | 1.0000000  | 0.1092719  | 0.04246900 | 0.29900819 | \n",
       "| bmi | 0.1092719  | 1.0000000  | 0.01275890 | 0.19834097 | \n",
       "| children | 0.0424690  | 0.0127589  | 1.00000000 | 0.06799823 | \n",
       "| charges | 0.2990082  | 0.1983410  | 0.06799823 | 1.00000000 | \n",
       "\n",
       "\n"
      ],
      "text/plain": [
       "         age       bmi       children   charges   \n",
       "age      1.0000000 0.1092719 0.04246900 0.29900819\n",
       "bmi      0.1092719 1.0000000 0.01275890 0.19834097\n",
       "children 0.0424690 0.0127589 1.00000000 0.06799823\n",
       "charges  0.2990082 0.1983410 0.06799823 1.00000000"
      ]
     },
     "metadata": {},
     "output_type": "display_data"
    }
   ],
   "source": [
    "cor(insurance[numeric_cols],method=\"pearson\")"
   ]
  },
  {
   "cell_type": "markdown",
   "metadata": {},
   "source": [
    "In the examples above the *cor()*-function calculates a square-matrix, which contains the correlation-coefficients of all pairs of variables. However, it is also possible to explicitely define between which variables the correlations shall be calculated:"
   ]
  },
  {
   "cell_type": "code",
   "execution_count": 271,
   "metadata": {},
   "outputs": [
    {
     "data": {
      "text/html": [
       "<table>\n",
       "<thead><tr><th></th><th scope=col>bmi</th><th scope=col>charges</th></tr></thead>\n",
       "<tbody>\n",
       "\t<tr><th scope=row>age</th><td>0.1092719 </td><td>0.29900819</td></tr>\n",
       "\t<tr><th scope=row>children</th><td>0.0127589 </td><td>0.06799823</td></tr>\n",
       "</tbody>\n",
       "</table>\n"
      ],
      "text/latex": [
       "\\begin{tabular}{r|ll}\n",
       "  & bmi & charges\\\\\n",
       "\\hline\n",
       "\tage & 0.1092719  & 0.29900819\\\\\n",
       "\tchildren & 0.0127589  & 0.06799823\\\\\n",
       "\\end{tabular}\n"
      ],
      "text/markdown": [
       "\n",
       "| <!--/--> | bmi | charges | \n",
       "|---|---|\n",
       "| age | 0.1092719  | 0.29900819 | \n",
       "| children | 0.0127589  | 0.06799823 | \n",
       "\n",
       "\n"
      ],
      "text/plain": [
       "         bmi       charges   \n",
       "age      0.1092719 0.29900819\n",
       "children 0.0127589 0.06799823"
      ]
     },
     "metadata": {},
     "output_type": "display_data"
    }
   ],
   "source": [
    "cor(insurance[c(\"age\",\"children\")],insurance[c(\"bmi\",\"charges\")])"
   ]
  },
  {
   "cell_type": "markdown",
   "metadata": {},
   "source": [
    "### Significance of Correlations\n",
    "Calculating just a correlation coefficient, such as the *cor()*-function can be insufficient. The samples, based on which the correlation has been calculated, may be to small. Moreover, it can be difficult to interpret the correlation values: Which magnitude actually indicates a correlation? R's *cor.test()*-function can be applied to find statistically significant correlations."
   ]
  },
  {
   "cell_type": "code",
   "execution_count": 385,
   "metadata": {},
   "outputs": [
    {
     "data": {
      "text/plain": [
       "\n",
       "\tPearson's product-moment correlation\n",
       "\n",
       "data:  testDF[, 1] and testDF[, 2]\n",
       "t = 0.86593, df = 8, p-value = 0.4117\n",
       "alternative hypothesis: true correlation is not equal to 0\n",
       "95 percent confidence interval:\n",
       " -0.4130121  0.7788168\n",
       "sample estimates:\n",
       "     cor \n",
       "0.292739 \n"
      ]
     },
     "metadata": {},
     "output_type": "display_data"
    }
   ],
   "source": [
    "r<-cor(testDF[,1],testDF[,2])\n",
    "cor.test(testDF[,1],testDF[,2])"
   ]
  },
  {
   "cell_type": "markdown",
   "metadata": {},
   "source": [
    "The report, generated by the *cor.test()*-function contains:\n",
    "\n",
    "* the correlation-coefficient $r$, calculated from the sample. This is the same value as returned by *cor()*\n",
    "* The t-value for the null-hypothesis: $$t=\\frac{r}{\\sqrt{\\frac{1-r^2}{N-2}}}.$$ The null-hypothesis states that the true correlation of the population is 0. The t-value for the null-hypothesis is assumed to be distributed according to a t-distribution with $N-2$ degrees of freedom, where $N$ is the number of elements in the sample.\n",
    "* The p-value for the null-hypothesis. If this value is larger than a given confidence-threshold (e.g. 0.05), the null-hypothesis can not be rejected: in this case no statistically significant correlation can be derived from the sample.\n",
    "\n",
    "These values, calculated by *cor.test()*, can also be calculated as follows:"
   ]
  },
  {
   "cell_type": "code",
   "execution_count": 392,
   "metadata": {},
   "outputs": [
    {
     "data": {
      "text/html": [
       "10"
      ],
      "text/latex": [
       "10"
      ],
      "text/markdown": [
       "10"
      ],
      "text/plain": [
       "[1] 10"
      ]
     },
     "metadata": {},
     "output_type": "display_data"
    },
    {
     "data": {
      "text/html": [
       "0.292739045846608"
      ],
      "text/latex": [
       "0.292739045846608"
      ],
      "text/markdown": [
       "0.292739045846608"
      ],
      "text/plain": [
       "[1] 0.292739"
      ]
     },
     "metadata": {},
     "output_type": "display_data"
    },
    {
     "data": {
      "text/html": [
       "0.865925186761157"
      ],
      "text/latex": [
       "0.865925186761157"
      ],
      "text/markdown": [
       "0.865925186761157"
      ],
      "text/plain": [
       "[1] 0.8659252"
      ]
     },
     "metadata": {},
     "output_type": "display_data"
    },
    {
     "data": {
      "text/html": [
       "0.411746220245047"
      ],
      "text/latex": [
       "0.411746220245047"
      ],
      "text/markdown": [
       "0.411746220245047"
      ],
      "text/plain": [
       "[1] 0.4117462"
      ]
     },
     "metadata": {},
     "output_type": "display_data"
    }
   ],
   "source": [
    "(N<-dim(testDF)[1]) #N is the sample-size\n",
    "r\n",
    "(t<-r/(sqrt((1-r**2)/(N-2)))) #calculate the t-value for the given sample from the sample's correlation-coefficient r\n",
    "(pval<-2*(1-pt(t,df=N-2))) #Probability of the null-hypothesis, calculated from the corresponding t-distribution"
   ]
  },
  {
   "cell_type": "markdown",
   "metadata": {},
   "source": [
    "#### Demonstration of significant correlations\n",
    "In real world applications the entire population is typically unknown. Therefore samples of limited size are drawn from this population and one tries to estimate the real statistics of the population from the statistics of the sample. The goal of significance-tests is to assess the quality of the sample-based estimation.\n",
    "\n",
    "In the following code snippets, first a *large* population of items is generated. The two variables, which describe each item are correlated. Then 3 different *small* samples are drawn from the entire population. From each sample a different correlation-coefficient is estimated. From the p-values calculated by *cor.test()*, one can assess the significance of the estimates. "
   ]
  },
  {
   "cell_type": "markdown",
   "metadata": {},
   "source": [
    "**Generate and visualize the entire population:**"
   ]
  },
  {
   "cell_type": "code",
   "execution_count": 393,
   "metadata": {},
   "outputs": [],
   "source": [
    "set.seed(123456)\n",
    "NSS<-100\n",
    "r1<-10*runif(NSS)\n",
    "r2<-r1+5*rnorm(NSS)\n",
    "df<-data.frame(c1=r1,c2=r2)"
   ]
  },
  {
   "cell_type": "code",
   "execution_count": 374,
   "metadata": {},
   "outputs": [
    {
     "data": {},
     "metadata": {},
     "output_type": "display_data"
    },
    {
     "data": {
      "image/png": "[encoded data removed]",
      "text/plain": [
       "plot without title"
      ]
     },
     "metadata": {},
     "output_type": "display_data"
    }
   ],
   "source": [
    "library(ggplot2)\n",
    "ggplot(data=df)+\n",
    "geom_point(mapping=aes(x=c1,y=c2))"
   ]
  },
  {
   "cell_type": "markdown",
   "metadata": {},
   "source": [
    "**Calculate the *true* correlation of the population:**"
   ]
  },
  {
   "cell_type": "code",
   "execution_count": 376,
   "metadata": {},
   "outputs": [
    {
     "data": {
      "text/html": [
       "0.559769477524793"
      ],
      "text/latex": [
       "0.559769477524793"
      ],
      "text/markdown": [
       "0.559769477524793"
      ],
      "text/plain": [
       "[1] 0.5597695"
      ]
     },
     "metadata": {},
     "output_type": "display_data"
    },
    {
     "data": {
      "text/plain": [
       "\n",
       "\tPearson's product-moment correlation\n",
       "\n",
       "data:  r1 and r2\n",
       "t = 6.6873, df = 98, p-value = 1.407e-09\n",
       "alternative hypothesis: true correlation is not equal to 0\n",
       "95 percent confidence interval:\n",
       " 0.4082365 0.6812815\n",
       "sample estimates:\n",
       "      cor \n",
       "0.5597695 \n"
      ]
     },
     "metadata": {},
     "output_type": "display_data"
    }
   ],
   "source": [
    "(r<-cor(r1,r2))\n",
    "cor.test(r1,r2)"
   ]
  },
  {
   "cell_type": "markdown",
   "metadata": {},
   "source": [
    "**Sample 1:**"
   ]
  },
  {
   "cell_type": "code",
   "execution_count": 378,
   "metadata": {},
   "outputs": [
    {
     "data": {
      "text/plain": [
       "\n",
       "\tPearson's product-moment correlation\n",
       "\n",
       "data:  sample1$c1 and sample1$c2\n",
       "t = 0.9436, df = 8, p-value = 0.373\n",
       "alternative hypothesis: true correlation is not equal to 0\n",
       "95 percent confidence interval:\n",
       " -0.391086  0.788900\n",
       "sample estimates:\n",
       "      cor \n",
       "0.3164664 \n"
      ]
     },
     "metadata": {},
     "output_type": "display_data"
    }
   ],
   "source": [
    "sample1<-df[1:10,]\n",
    "rs1<-cor(sample1$c1,sample1$c2)\n",
    "cor.test(sample1$c1,sample1$c2)"
   ]
  },
  {
   "cell_type": "markdown",
   "metadata": {},
   "source": [
    "Even though the correlation-coefficient is effectively larger than 0, the significance test suggests that the null-hypothesis should not be rejected (because of the large p-value)."
   ]
  },
  {
   "cell_type": "markdown",
   "metadata": {},
   "source": [
    "**Sample 2:**"
   ]
  },
  {
   "cell_type": "code",
   "execution_count": 380,
   "metadata": {},
   "outputs": [
    {
     "data": {
      "text/plain": [
       "\n",
       "\tPearson's product-moment correlation\n",
       "\n",
       "data:  sample2$c1 and sample2$c2\n",
       "t = 1.4859, df = 9, p-value = 0.1715\n",
       "alternative hypothesis: true correlation is not equal to 0\n",
       "95 percent confidence interval:\n",
       " -0.2126572  0.8242565\n",
       "sample estimates:\n",
       "      cor \n",
       "0.4438371 \n"
      ]
     },
     "metadata": {},
     "output_type": "display_data"
    }
   ],
   "source": [
    "sample2<-df[20:30,]\n",
    "rs1<-cor(sample2$c1,sample2$c2)\n",
    "cor.test(sample2$c1,sample2$c2)"
   ]
  },
  {
   "cell_type": "markdown",
   "metadata": {},
   "source": [
    "Even though the correlation-coefficient is effectively larger than 0, the significance test suggests that the null-hypothesis should not be rejected (because of the large p-value)."
   ]
  },
  {
   "cell_type": "markdown",
   "metadata": {},
   "source": [
    "**Sample 3:**"
   ]
  },
  {
   "cell_type": "code",
   "execution_count": 384,
   "metadata": {},
   "outputs": [
    {
     "data": {
      "text/plain": [
       "\n",
       "\tPearson's product-moment correlation\n",
       "\n",
       "data:  sample3$c1 and sample3$c2\n",
       "t = 2.9264, df = 9, p-value = 0.01686\n",
       "alternative hypothesis: true correlation is not equal to 0\n",
       "95 percent confidence interval:\n",
       " 0.1693223 0.9149124\n",
       "sample estimates:\n",
       "      cor \n",
       "0.6982722 \n"
      ]
     },
     "metadata": {},
     "output_type": "display_data"
    }
   ],
   "source": [
    "sample3<-df[30:40,]\n",
    "rs1<-cor(sample3$c1,sample3$c2)\n",
    "cor.test(sample3$c1,sample3$c2)"
   ]
  },
  {
   "cell_type": "markdown",
   "metadata": {},
   "source": [
    "If a confidence-threshold of $5%$ is applied the null-hypothesis can be rejected with this sample. The correlation estimated from the sample is higher than the *true* correlation of the population. "
   ]
  },
  {
   "cell_type": "markdown",
   "metadata": {},
   "source": [
    "### Visualization of Correlations\n",
    "R's function *pairs()* plots a matrix of 2-dimensional correlations between columns of the given dataframe. "
   ]
  },
  {
   "cell_type": "code",
   "execution_count": 394,
   "metadata": {},
   "outputs": [
    {
     "data": {
      "image/png": "[encoded data removed]",
      "text/plain": [
       "plot without title"
      ]
     },
     "metadata": {},
     "output_type": "display_data"
    }
   ],
   "source": [
    "pairs(insurance[numeric_cols])"
   ]
  },
  {
   "cell_type": "code",
   "execution_count": null,
   "metadata": {
    "collapsed": true
   },
   "outputs": [],
   "source": []
  }
 ],
 "metadata": {
  "kernelspec": {
   "display_name": "R",
   "language": "R",
   "name": "ir"
  },
  "language_info": {
   "codemirror_mode": "r",
   "file_extension": ".r",
   "mimetype": "text/x-r-source",
   "name": "R",
   "pygments_lexer": "r",
   "version": "3.3.2"
  },
  "nav_menu": {},
  "toc": {
   "navigate_menu": true,
   "number_sections": true,
   "sideBar": true,
   "threshold": 6,
   "toc_cell": true,
   "toc_section_display": "block",
   "toc_window_display": true
  },
  "toc_position": {
   "height": "545px",
   "left": "0px",
   "right": "901px",
   "top": "124.533px",
   "width": "309px"
  }
 },
 "nbformat": 4,
 "nbformat_minor": 2
}

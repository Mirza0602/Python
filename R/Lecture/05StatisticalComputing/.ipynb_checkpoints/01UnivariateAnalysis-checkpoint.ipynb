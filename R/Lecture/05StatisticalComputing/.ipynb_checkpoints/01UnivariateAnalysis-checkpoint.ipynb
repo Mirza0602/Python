{
 "cells": [
  {
   "cell_type": "markdown",
   "metadata": {
    "toc": "true"
   },
   "source": [
    "# Table of Contents\n",
    " <p><div class=\"lev1 toc-item\"><a href=\"#Univariate-Analysis\" data-toc-modified-id=\"Univariate-Analysis-1\"><span class=\"toc-item-num\">1&nbsp;&nbsp;</span>Univariate Analysis</a></div><div class=\"lev2 toc-item\"><a href=\"#Load-Data\" data-toc-modified-id=\"Load-Data-1.1\"><span class=\"toc-item-num\">1.1&nbsp;&nbsp;</span>Load Data</a></div><div class=\"lev3 toc-item\"><a href=\"#Games-Sales\" data-toc-modified-id=\"Games-Sales-1.1.1\"><span class=\"toc-item-num\">1.1.1&nbsp;&nbsp;</span>Games Sales</a></div><div class=\"lev3 toc-item\"><a href=\"#Energy-Data\" data-toc-modified-id=\"Energy-Data-1.1.2\"><span class=\"toc-item-num\">1.1.2&nbsp;&nbsp;</span>Energy Data</a></div><div class=\"lev2 toc-item\"><a href=\"#Variable-Types\" data-toc-modified-id=\"Variable-Types-1.2\"><span class=\"toc-item-num\">1.2&nbsp;&nbsp;</span>Variable Types</a></div><div class=\"lev2 toc-item\"><a href=\"#Descriptive-Statistics\" data-toc-modified-id=\"Descriptive-Statistics-1.3\"><span class=\"toc-item-num\">1.3&nbsp;&nbsp;</span>Descriptive Statistics</a></div><div class=\"lev3 toc-item\"><a href=\"#Numerical-variables\" data-toc-modified-id=\"Numerical-variables-1.3.1\"><span class=\"toc-item-num\">1.3.1&nbsp;&nbsp;</span>Numerical variables</a></div><div class=\"lev4 toc-item\"><a href=\"#Calculate-relative-frequencies\" data-toc-modified-id=\"Calculate-relative-frequencies-1.3.1.1\"><span class=\"toc-item-num\">1.3.1.1&nbsp;&nbsp;</span>Calculate relative frequencies</a></div><div class=\"lev4 toc-item\"><a href=\"#More-on-Quantiles\" data-toc-modified-id=\"More-on-Quantiles-1.3.1.2\"><span class=\"toc-item-num\">1.3.1.2&nbsp;&nbsp;</span>More on Quantiles</a></div><div class=\"lev4 toc-item\"><a href=\"#Quantile-Based-Outlier-Filtering\" data-toc-modified-id=\"Quantile-Based-Outlier-Filtering-1.3.1.3\"><span class=\"toc-item-num\">1.3.1.3&nbsp;&nbsp;</span>Quantile Based Outlier Filtering</a></div><div class=\"lev3 toc-item\"><a href=\"#Categorical-variables\" data-toc-modified-id=\"Categorical-variables-1.3.2\"><span class=\"toc-item-num\">1.3.2&nbsp;&nbsp;</span>Categorical variables</a></div><div class=\"lev4 toc-item\"><a href=\"#Frequency-and-probability-table-of-single-categorical-variable\" data-toc-modified-id=\"Frequency-and-probability-table-of-single-categorical-variable-1.3.2.1\"><span class=\"toc-item-num\">1.3.2.1&nbsp;&nbsp;</span>Frequency and probability table of single categorical variable</a></div><div class=\"lev4 toc-item\"><a href=\"#Joint-Frequency,-Joint-Probability-and-Conditional-Probability\" data-toc-modified-id=\"Joint-Frequency,-Joint-Probability-and-Conditional-Probability-1.3.2.2\"><span class=\"toc-item-num\">1.3.2.2&nbsp;&nbsp;</span>Joint Frequency, Joint Probability and Conditional Probability</a></div>"
   ]
  },
  {
   "cell_type": "markdown",
   "metadata": {},
   "source": [
    "# Univariate Analysis\n",
    "* Author: Johannes Maucher\n",
    "* Last Update: 2017-05-15\n",
    "* References:\n",
    "    * Paul Teetor; R Cookbook\n",
    "    \n",
    "* Topics of this notebook\n",
    "    * xxx\n",
    " "
   ]
  },
  {
   "cell_type": "markdown",
   "metadata": {},
   "source": [
    "## Load Data\n",
    "\n",
    "### Games Sales\n",
    "This dataset is publicly available from here: [Video Game Dataset](https://www.kaggle.com/rush4ratio/video-game-sales-with-ratings)"
   ]
  },
  {
   "cell_type": "code",
   "execution_count": 146,
   "metadata": {
    "collapsed": false
   },
   "outputs": [
    {
     "data": {
      "text/html": [
       "<ol class=list-inline>\n",
       "\t<li>16719</li>\n",
       "\t<li>16</li>\n",
       "</ol>\n"
      ],
      "text/latex": [
       "\\begin{enumerate*}\n",
       "\\item 16719\n",
       "\\item 16\n",
       "\\end{enumerate*}\n"
      ],
      "text/markdown": [
       "1. 16719\n",
       "2. 16\n",
       "\n",
       "\n"
      ],
      "text/plain": [
       "[1] 16719    16"
      ]
     },
     "metadata": {},
     "output_type": "display_data"
    },
    {
     "data": {
      "text/html": [
       "<ol class=list-inline>\n",
       "\t<li>16717</li>\n",
       "\t<li>16</li>\n",
       "</ol>\n"
      ],
      "text/latex": [
       "\\begin{enumerate*}\n",
       "\\item 16717\n",
       "\\item 16\n",
       "\\end{enumerate*}\n"
      ],
      "text/markdown": [
       "1. 16717\n",
       "2. 16\n",
       "\n",
       "\n"
      ],
      "text/plain": [
       "[1] 16717    16"
      ]
     },
     "metadata": {},
     "output_type": "display_data"
    },
    {
     "data": {
      "text/html": [
       "<dl class=dl-horizontal>\n",
       "\t<dt>Name</dt>\n",
       "\t\t<dd>'numeric'</dd>\n",
       "\t<dt>Platform</dt>\n",
       "\t\t<dd>'numeric'</dd>\n",
       "\t<dt>Year_of_Release</dt>\n",
       "\t\t<dd>'numeric'</dd>\n",
       "\t<dt>Genre</dt>\n",
       "\t\t<dd>'numeric'</dd>\n",
       "\t<dt>Publisher</dt>\n",
       "\t\t<dd>'numeric'</dd>\n",
       "\t<dt>NA_Sales</dt>\n",
       "\t\t<dd>'numeric'</dd>\n",
       "\t<dt>EU_Sales</dt>\n",
       "\t\t<dd>'numeric'</dd>\n",
       "\t<dt>JP_Sales</dt>\n",
       "\t\t<dd>'numeric'</dd>\n",
       "\t<dt>Other_Sales</dt>\n",
       "\t\t<dd>'numeric'</dd>\n",
       "\t<dt>Global_Sales</dt>\n",
       "\t\t<dd>'numeric'</dd>\n",
       "\t<dt>Critic_Score</dt>\n",
       "\t\t<dd>'numeric'</dd>\n",
       "\t<dt>Critic_Count</dt>\n",
       "\t\t<dd>'numeric'</dd>\n",
       "\t<dt>User_Score</dt>\n",
       "\t\t<dd>'numeric'</dd>\n",
       "\t<dt>User_Count</dt>\n",
       "\t\t<dd>'numeric'</dd>\n",
       "\t<dt>Developer</dt>\n",
       "\t\t<dd>'numeric'</dd>\n",
       "\t<dt>Rating</dt>\n",
       "\t\t<dd>'numeric'</dd>\n",
       "</dl>\n"
      ],
      "text/latex": [
       "\\begin{description*}\n",
       "\\item[Name] 'numeric'\n",
       "\\item[Platform] 'numeric'\n",
       "\\item[Year\\textbackslash{}\\_of\\textbackslash{}\\_Release] 'numeric'\n",
       "\\item[Genre] 'numeric'\n",
       "\\item[Publisher] 'numeric'\n",
       "\\item[NA\\textbackslash{}\\_Sales] 'numeric'\n",
       "\\item[EU\\textbackslash{}\\_Sales] 'numeric'\n",
       "\\item[JP\\textbackslash{}\\_Sales] 'numeric'\n",
       "\\item[Other\\textbackslash{}\\_Sales] 'numeric'\n",
       "\\item[Global\\textbackslash{}\\_Sales] 'numeric'\n",
       "\\item[Critic\\textbackslash{}\\_Score] 'numeric'\n",
       "\\item[Critic\\textbackslash{}\\_Count] 'numeric'\n",
       "\\item[User\\textbackslash{}\\_Score] 'numeric'\n",
       "\\item[User\\textbackslash{}\\_Count] 'numeric'\n",
       "\\item[Developer] 'numeric'\n",
       "\\item[Rating] 'numeric'\n",
       "\\end{description*}\n"
      ],
      "text/markdown": [
       "Name\n",
       ":   'numeric'Platform\n",
       ":   'numeric'Year_of_Release\n",
       ":   'numeric'Genre\n",
       ":   'numeric'Publisher\n",
       ":   'numeric'NA_Sales\n",
       ":   'numeric'EU_Sales\n",
       ":   'numeric'JP_Sales\n",
       ":   'numeric'Other_Sales\n",
       ":   'numeric'Global_Sales\n",
       ":   'numeric'Critic_Score\n",
       ":   'numeric'Critic_Count\n",
       ":   'numeric'User_Score\n",
       ":   'numeric'User_Count\n",
       ":   'numeric'Developer\n",
       ":   'numeric'Rating\n",
       ":   'numeric'\n",
       "\n"
      ],
      "text/plain": [
       "           Name        Platform Year_of_Release           Genre       Publisher \n",
       "      \"numeric\"       \"numeric\"       \"numeric\"       \"numeric\"       \"numeric\" \n",
       "       NA_Sales        EU_Sales        JP_Sales     Other_Sales    Global_Sales \n",
       "      \"numeric\"       \"numeric\"       \"numeric\"       \"numeric\"       \"numeric\" \n",
       "   Critic_Score    Critic_Count      User_Score      User_Count       Developer \n",
       "      \"numeric\"       \"numeric\"       \"numeric\"       \"numeric\"       \"numeric\" \n",
       "         Rating \n",
       "      \"numeric\" "
      ]
     },
     "metadata": {},
     "output_type": "display_data"
    }
   ],
   "source": [
    "gamesData=read.csv(file=\"../data/VideoGamesSales-22-12-2016.csv\", header=TRUE, sep=\",\")\n",
    "dim(gamesData)\n",
    "gamesData<-gamesData[gamesData$Genre != \"\" ,] #Remove games, which are not assigned to any genre\n",
    "dim(gamesData)\n",
    "sapply(gamesData,mode)"
   ]
  },
  {
   "cell_type": "markdown",
   "metadata": {},
   "source": [
    "### Energy Data"
   ]
  },
  {
   "cell_type": "code",
   "execution_count": 158,
   "metadata": {
    "collapsed": false
   },
   "outputs": [
    {
     "data": {
      "text/html": [
       "<dl class=dl-horizontal>\n",
       "\t<dt>Country</dt>\n",
       "\t\t<dd>'numeric'</dd>\n",
       "\t<dt>Oil</dt>\n",
       "\t\t<dd>'numeric'</dd>\n",
       "\t<dt>Gas</dt>\n",
       "\t\t<dd>'numeric'</dd>\n",
       "\t<dt>Coal</dt>\n",
       "\t\t<dd>'numeric'</dd>\n",
       "\t<dt>Nuclear</dt>\n",
       "\t\t<dd>'numeric'</dd>\n",
       "\t<dt>Hydro</dt>\n",
       "\t\t<dd>'numeric'</dd>\n",
       "\t<dt>Total2009</dt>\n",
       "\t\t<dd>'numeric'</dd>\n",
       "\t<dt>CO2Emm</dt>\n",
       "\t\t<dd>'numeric'</dd>\n",
       "\t<dt>Lat</dt>\n",
       "\t\t<dd>'numeric'</dd>\n",
       "\t<dt>Long</dt>\n",
       "\t\t<dd>'numeric'</dd>\n",
       "</dl>\n"
      ],
      "text/latex": [
       "\\begin{description*}\n",
       "\\item[Country] 'numeric'\n",
       "\\item[Oil] 'numeric'\n",
       "\\item[Gas] 'numeric'\n",
       "\\item[Coal] 'numeric'\n",
       "\\item[Nuclear] 'numeric'\n",
       "\\item[Hydro] 'numeric'\n",
       "\\item[Total2009] 'numeric'\n",
       "\\item[CO2Emm] 'numeric'\n",
       "\\item[Lat] 'numeric'\n",
       "\\item[Long] 'numeric'\n",
       "\\end{description*}\n"
      ],
      "text/markdown": [
       "Country\n",
       ":   'numeric'Oil\n",
       ":   'numeric'Gas\n",
       ":   'numeric'Coal\n",
       ":   'numeric'Nuclear\n",
       ":   'numeric'Hydro\n",
       ":   'numeric'Total2009\n",
       ":   'numeric'CO2Emm\n",
       ":   'numeric'Lat\n",
       ":   'numeric'Long\n",
       ":   'numeric'\n",
       "\n"
      ],
      "text/plain": [
       "  Country       Oil       Gas      Coal   Nuclear     Hydro Total2009    CO2Emm \n",
       "\"numeric\" \"numeric\" \"numeric\" \"numeric\" \"numeric\" \"numeric\" \"numeric\" \"numeric\" \n",
       "      Lat      Long \n",
       "\"numeric\" \"numeric\" "
      ]
     },
     "metadata": {},
     "output_type": "display_data"
    }
   ],
   "source": [
    "energyData=read.csv(file=\"../data/EnergyMixGeo.csv\", header=TRUE, sep=\",\",row.names=1)\n",
    "sapply(energyData,mode)"
   ]
  },
  {
   "cell_type": "markdown",
   "metadata": {},
   "source": [
    "## Variable Types\n",
    "In statistics and datamining the following data types are typically distinguished\n",
    "\n",
    "* numerical (continuous) data, e.g. annual income in Euros, height in cm, ...\n",
    "* categorical data\n",
    "    - ordinal data, e.g. size (small, medium, large, ...)\n",
    "    - nominal data, e.g. colour (red, green, blue, ...)"
   ]
  },
  {
   "cell_type": "code",
   "execution_count": 148,
   "metadata": {
    "collapsed": false
   },
   "outputs": [
    {
     "data": {
      "image/png": "[encoded data removed]"
     },
     "metadata": {
      "width": 300
     },
     "output_type": "display_data"
    }
   ],
   "source": [
    "library(\"IRdisplay\")\n",
    "display_png(file=\"../img/dataTypes.png\",width=300)"
   ]
  },
  {
   "cell_type": "markdown",
   "metadata": {},
   "source": [
    "**Questions:** \n",
    "\n",
    "1. In the *Games Sales*-dataset there are 16 variables (features) for each of the 16719 instances. Which of the variables are numeric, ordinal, nominal?\n",
    "2. What ist the datatype of the variables in the R dataframe, after reading the data from the .csv-file into the dataframe? Explain!\n",
    "3. How to explicitely define a variable as categorical variable?\n",
    "4. What does the *summary()*-function calculate for \n",
    "    1.) numerical variables?\n",
    "    2.) categorical variables?"
   ]
  },
  {
   "cell_type": "markdown",
   "metadata": {},
   "source": [
    "## Descriptive Statistics\n",
    "### Numerical variables\n",
    "Access a single numeric variable (column) of the *Games Sales* dataframe:"
   ]
  },
  {
   "cell_type": "code",
   "execution_count": 150,
   "metadata": {
    "collapsed": false
   },
   "outputs": [
    {
     "data": {
      "text/html": [
       "<ol class=list-inline>\n",
       "\t<li>82.53</li>\n",
       "\t<li>40.24</li>\n",
       "\t<li>35.52</li>\n",
       "\t<li>32.77</li>\n",
       "\t<li>31.37</li>\n",
       "\t<li>30.26</li>\n",
       "</ol>\n"
      ],
      "text/latex": [
       "\\begin{enumerate*}\n",
       "\\item 82.53\n",
       "\\item 40.24\n",
       "\\item 35.52\n",
       "\\item 32.77\n",
       "\\item 31.37\n",
       "\\item 30.26\n",
       "\\end{enumerate*}\n"
      ],
      "text/markdown": [
       "1. 82.53\n",
       "2. 40.24\n",
       "3. 35.52\n",
       "4. 32.77\n",
       "5. 31.37\n",
       "6. 30.26\n",
       "\n",
       "\n"
      ],
      "text/plain": [
       "[1] 82.53 40.24 35.52 32.77 31.37 30.26"
      ]
     },
     "metadata": {},
     "output_type": "display_data"
    }
   ],
   "source": [
    "globsales<-gamesData$Global_Sales\n",
    "head(globsales)"
   ]
  },
  {
   "cell_type": "markdown",
   "metadata": {},
   "source": [
    "Calculate simple descriptive statistics of the selected numerical variable:"
   ]
  },
  {
   "cell_type": "code",
   "execution_count": 109,
   "metadata": {
    "collapsed": false
   },
   "outputs": [
    {
     "name": "stdout",
     "output_type": "stream",
     "text": [
      "[1] \"Mean: \"\n"
     ]
    },
    {
     "data": {
      "text/html": [
       "0.533461745528504"
      ],
      "text/latex": [
       "0.533461745528504"
      ],
      "text/markdown": [
       "0.533461745528504"
      ],
      "text/plain": [
       "[1] 0.5334617"
      ]
     },
     "metadata": {},
     "output_type": "display_data"
    }
   ],
   "source": [
    "print(\"Mean: \")\n",
    "mean(globsales)"
   ]
  },
  {
   "cell_type": "code",
   "execution_count": 110,
   "metadata": {
    "collapsed": false
   },
   "outputs": [
    {
     "name": "stdout",
     "output_type": "stream",
     "text": [
      "[1] \"Standard Deviation: \"\n"
     ]
    },
    {
     "data": {
      "text/html": [
       "1.54795622787476"
      ],
      "text/latex": [
       "1.54795622787476"
      ],
      "text/markdown": [
       "1.54795622787476"
      ],
      "text/plain": [
       "[1] 1.547956"
      ]
     },
     "metadata": {},
     "output_type": "display_data"
    }
   ],
   "source": [
    "print(\"Standard Deviation: \")\n",
    "sd(globsales)"
   ]
  },
  {
   "cell_type": "code",
   "execution_count": 111,
   "metadata": {
    "collapsed": false
   },
   "outputs": [
    {
     "name": "stdout",
     "output_type": "stream",
     "text": [
      "[1] \"Variance: \"\n"
     ]
    },
    {
     "data": {
      "text/html": [
       "2.39616848341626"
      ],
      "text/latex": [
       "2.39616848341626"
      ],
      "text/markdown": [
       "2.39616848341626"
      ],
      "text/plain": [
       "[1] 2.396168"
      ]
     },
     "metadata": {},
     "output_type": "display_data"
    }
   ],
   "source": [
    "print(\"Variance: \")\n",
    "var(globsales)"
   ]
  },
  {
   "cell_type": "code",
   "execution_count": 112,
   "metadata": {
    "collapsed": false
   },
   "outputs": [
    {
     "name": "stdout",
     "output_type": "stream",
     "text": [
      "[1] \"Range: \"\n"
     ]
    },
    {
     "data": {
      "text/html": [
       "<ol class=list-inline>\n",
       "\t<li>0.01</li>\n",
       "\t<li>82.53</li>\n",
       "</ol>\n"
      ],
      "text/latex": [
       "\\begin{enumerate*}\n",
       "\\item 0.01\n",
       "\\item 82.53\n",
       "\\end{enumerate*}\n"
      ],
      "text/markdown": [
       "1. 0.01\n",
       "2. 82.53\n",
       "\n",
       "\n"
      ],
      "text/plain": [
       "[1]  0.01 82.53"
      ]
     },
     "metadata": {},
     "output_type": "display_data"
    }
   ],
   "source": [
    "print(\"Range: \")\n",
    "range(globsales)"
   ]
  },
  {
   "cell_type": "code",
   "execution_count": 113,
   "metadata": {
    "collapsed": false
   },
   "outputs": [
    {
     "name": "stdout",
     "output_type": "stream",
     "text": [
      "[1] \"Quantiles: \"\n"
     ]
    },
    {
     "data": {
      "text/html": [
       "<dl class=dl-horizontal>\n",
       "\t<dt>0%</dt>\n",
       "\t\t<dd>0.01</dd>\n",
       "\t<dt>25%</dt>\n",
       "\t\t<dd>0.06</dd>\n",
       "\t<dt>50%</dt>\n",
       "\t\t<dd>0.17</dd>\n",
       "\t<dt>75%</dt>\n",
       "\t\t<dd>0.47</dd>\n",
       "\t<dt>100%</dt>\n",
       "\t\t<dd>82.53</dd>\n",
       "</dl>\n"
      ],
      "text/latex": [
       "\\begin{description*}\n",
       "\\item[0\\textbackslash{}\\%] 0.01\n",
       "\\item[25\\textbackslash{}\\%] 0.06\n",
       "\\item[50\\textbackslash{}\\%] 0.17\n",
       "\\item[75\\textbackslash{}\\%] 0.47\n",
       "\\item[100\\textbackslash{}\\%] 82.53\n",
       "\\end{description*}\n"
      ],
      "text/markdown": [
       "0%\n",
       ":   0.0125%\n",
       ":   0.0650%\n",
       ":   0.1775%\n",
       ":   0.47100%\n",
       ":   82.53\n",
       "\n"
      ],
      "text/plain": [
       "   0%   25%   50%   75%  100% \n",
       " 0.01  0.06  0.17  0.47 82.53 "
      ]
     },
     "metadata": {},
     "output_type": "display_data"
    }
   ],
   "source": [
    "print(\"Quantiles: \")\n",
    "quantile(globsales)"
   ]
  },
  {
   "cell_type": "code",
   "execution_count": 114,
   "metadata": {
    "collapsed": false
   },
   "outputs": [
    {
     "name": "stdout",
     "output_type": "stream",
     "text": [
      "[1] \"Coefficient of Variation: \"\n"
     ]
    },
    {
     "data": {
      "text/html": [
       "2.90171927199989"
      ],
      "text/latex": [
       "2.90171927199989"
      ],
      "text/markdown": [
       "2.90171927199989"
      ],
      "text/plain": [
       "[1] 2.901719"
      ]
     },
     "metadata": {},
     "output_type": "display_data"
    }
   ],
   "source": [
    "print(\"Coefficient of Variation: \")\n",
    "sd(globsales)/mean(globsales)"
   ]
  },
  {
   "cell_type": "code",
   "execution_count": 139,
   "metadata": {
    "collapsed": false
   },
   "outputs": [
    {
     "name": "stdout",
     "output_type": "stream",
     "text": [
      "[1] \"Inter Quartile Range (Difference between 75%- and 25% Quantile) \"\n"
     ]
    },
    {
     "data": {
      "text/html": [
       "0.41"
      ],
      "text/latex": [
       "0.41"
      ],
      "text/markdown": [
       "0.41"
      ],
      "text/plain": [
       "[1] 0.41"
      ]
     },
     "metadata": {},
     "output_type": "display_data"
    }
   ],
   "source": [
    "print(\"Inter Quartile Range (Difference between 75%- and 25% Quantile) \")\n",
    "IQR(globsales)"
   ]
  },
  {
   "cell_type": "markdown",
   "metadata": {},
   "source": [
    "#### Calculate relative frequencies\n",
    "Assume that the ratio of games, which are globally sold more than 1 Mio times shall be calculated. This can be done using the mean-function, because inside the function the logical *FALSE* is mapped to 0, and *TRUE* is mapped to 1. The same mapping is applied in other funcions, e.g. *sum()*. Therefore, *sum()* and *mean()* can be applied to calculate the absolute and relative count of cases where the condtion is *TRUE*."
   ]
  },
  {
   "cell_type": "code",
   "execution_count": 124,
   "metadata": {
    "collapsed": false
   },
   "outputs": [
    {
     "data": {
      "text/html": [
       "0.122988574504995"
      ],
      "text/latex": [
       "0.122988574504995"
      ],
      "text/markdown": [
       "0.122988574504995"
      ],
      "text/plain": [
       "[1] 0.1229886"
      ]
     },
     "metadata": {},
     "output_type": "display_data"
    },
    {
     "data": {
      "text/html": [
       "2056"
      ],
      "text/latex": [
       "2056"
      ],
      "text/markdown": [
       "2056"
      ],
      "text/plain": [
       "[1] 2056"
      ]
     },
     "metadata": {},
     "output_type": "display_data"
    }
   ],
   "source": [
    "mean(gamesData$Global_Sales>1)\n",
    "sum(gamesData$Global_Sales>1)"
   ]
  },
  {
   "cell_type": "code",
   "execution_count": null,
   "metadata": {
    "collapsed": true
   },
   "outputs": [],
   "source": []
  },
  {
   "cell_type": "markdown",
   "metadata": {},
   "source": [
    "#### More on Quantiles\n",
    "In the default usage the *quantile(data)*-function calculates the min- and max-values and the 25%-, 50%-, and 75%-quantiles. These quantile-values are also called **quartiles**: "
   ]
  },
  {
   "cell_type": "code",
   "execution_count": 125,
   "metadata": {
    "collapsed": false
   },
   "outputs": [
    {
     "data": {
      "text/html": [
       "<dl class=dl-horizontal>\n",
       "\t<dt>0%</dt>\n",
       "\t\t<dd>0.01</dd>\n",
       "\t<dt>25%</dt>\n",
       "\t\t<dd>0.06</dd>\n",
       "\t<dt>50%</dt>\n",
       "\t\t<dd>0.17</dd>\n",
       "\t<dt>75%</dt>\n",
       "\t\t<dd>0.47</dd>\n",
       "\t<dt>100%</dt>\n",
       "\t\t<dd>82.53</dd>\n",
       "</dl>\n"
      ],
      "text/latex": [
       "\\begin{description*}\n",
       "\\item[0\\textbackslash{}\\%] 0.01\n",
       "\\item[25\\textbackslash{}\\%] 0.06\n",
       "\\item[50\\textbackslash{}\\%] 0.17\n",
       "\\item[75\\textbackslash{}\\%] 0.47\n",
       "\\item[100\\textbackslash{}\\%] 82.53\n",
       "\\end{description*}\n"
      ],
      "text/markdown": [
       "0%\n",
       ":   0.0125%\n",
       ":   0.0650%\n",
       ":   0.1775%\n",
       ":   0.47100%\n",
       ":   82.53\n",
       "\n"
      ],
      "text/plain": [
       "   0%   25%   50%   75%  100% \n",
       " 0.01  0.06  0.17  0.47 82.53 "
      ]
     },
     "metadata": {},
     "output_type": "display_data"
    }
   ],
   "source": [
    "quantile(globsales)"
   ]
  },
  {
   "cell_type": "markdown",
   "metadata": {},
   "source": [
    "Arbitrary quantiles can be calculated by specifying the second argument of the *quantile()*-function. Either a single value or a vector can be assigned to this argument. But only values between 0 and 1 are valid. "
   ]
  },
  {
   "cell_type": "code",
   "execution_count": 131,
   "metadata": {
    "collapsed": false,
    "scrolled": true
   },
   "outputs": [
    {
     "data": {
      "text/html": [
       "<dl class=dl-horizontal>\n",
       "\t<dt>0%</dt>\n",
       "\t\t<dd>0.01</dd>\n",
       "\t<dt>10%</dt>\n",
       "\t\t<dd>0.02</dd>\n",
       "\t<dt>20%</dt>\n",
       "\t\t<dd>0.05</dd>\n",
       "\t<dt>30%</dt>\n",
       "\t\t<dd>0.08</dd>\n",
       "\t<dt>40%</dt>\n",
       "\t\t<dd>0.11</dd>\n",
       "\t<dt>50%</dt>\n",
       "\t\t<dd>0.17</dd>\n",
       "\t<dt>60%</dt>\n",
       "\t\t<dd>0.25</dd>\n",
       "\t<dt>70%</dt>\n",
       "\t\t<dd>0.38</dd>\n",
       "\t<dt>80%</dt>\n",
       "\t\t<dd>0.6</dd>\n",
       "\t<dt>90%</dt>\n",
       "\t\t<dd>1.2</dd>\n",
       "\t<dt>100%</dt>\n",
       "\t\t<dd>82.53</dd>\n",
       "</dl>\n"
      ],
      "text/latex": [
       "\\begin{description*}\n",
       "\\item[0\\textbackslash{}\\%] 0.01\n",
       "\\item[10\\textbackslash{}\\%] 0.02\n",
       "\\item[20\\textbackslash{}\\%] 0.05\n",
       "\\item[30\\textbackslash{}\\%] 0.08\n",
       "\\item[40\\textbackslash{}\\%] 0.11\n",
       "\\item[50\\textbackslash{}\\%] 0.17\n",
       "\\item[60\\textbackslash{}\\%] 0.25\n",
       "\\item[70\\textbackslash{}\\%] 0.38\n",
       "\\item[80\\textbackslash{}\\%] 0.6\n",
       "\\item[90\\textbackslash{}\\%] 1.2\n",
       "\\item[100\\textbackslash{}\\%] 82.53\n",
       "\\end{description*}\n"
      ],
      "text/markdown": [
       "0%\n",
       ":   0.0110%\n",
       ":   0.0220%\n",
       ":   0.0530%\n",
       ":   0.0840%\n",
       ":   0.1150%\n",
       ":   0.1760%\n",
       ":   0.2570%\n",
       ":   0.3880%\n",
       ":   0.690%\n",
       ":   1.2100%\n",
       ":   82.53\n",
       "\n"
      ],
      "text/plain": [
       "   0%   10%   20%   30%   40%   50%   60%   70%   80%   90%  100% \n",
       " 0.01  0.02  0.05  0.08  0.11  0.17  0.25  0.38  0.60  1.20 82.53 "
      ]
     },
     "metadata": {},
     "output_type": "display_data"
    }
   ],
   "source": [
    "quantile(globsales,seq(0,1,0.1))"
   ]
  },
  {
   "cell_type": "markdown",
   "metadata": {},
   "source": [
    "The q-quantile returns a value t, such that a fraction of q percent of the data has a value less than t. In the other direction a value t is given and the question is how much elements have a value less than t. This can be calculated as follows: "
   ]
  },
  {
   "cell_type": "code",
   "execution_count": 137,
   "metadata": {
    "collapsed": false
   },
   "outputs": [
    {
     "data": {
      "text/html": [
       "0.29658431536759"
      ],
      "text/latex": [
       "0.29658431536759"
      ],
      "text/markdown": [
       "0.29658431536759"
      ],
      "text/plain": [
       "[1] 0.2965843"
      ]
     },
     "metadata": {},
     "output_type": "display_data"
    }
   ],
   "source": [
    "mean(globsales<0.08)"
   ]
  },
  {
   "cell_type": "markdown",
   "metadata": {},
   "source": [
    "#### Quantile Based Outlier Filtering\n",
    "The following code snippet demonstrates how a subset of the Games Sales dataset can be filtered, which does not contain the 10% games with the lowest and the 10% games with the highest global sales figure. "
   ]
  },
  {
   "cell_type": "code",
   "execution_count": 155,
   "metadata": {
    "collapsed": false
   },
   "outputs": [
    {
     "data": {
      "text/html": [
       "<strong>10%:</strong> 0.02"
      ],
      "text/latex": [
       "\\textbf{10\\textbackslash{}\\%:} 0.02"
      ],
      "text/markdown": [
       "**10%:** 0.02"
      ],
      "text/plain": [
       " 10% \n",
       "0.02 "
      ]
     },
     "metadata": {},
     "output_type": "display_data"
    },
    {
     "data": {
      "text/html": [
       "<strong>90%:</strong> 1.2"
      ],
      "text/latex": [
       "\\textbf{90\\textbackslash{}\\%:} 1.2"
      ],
      "text/markdown": [
       "**90%:** 1.2"
      ],
      "text/plain": [
       "90% \n",
       "1.2 "
      ]
     },
     "metadata": {},
     "output_type": "display_data"
    },
    {
     "data": {
      "text/html": [
       "<ol class=list-inline>\n",
       "\t<li>13305</li>\n",
       "\t<li>16</li>\n",
       "</ol>\n"
      ],
      "text/latex": [
       "\\begin{enumerate*}\n",
       "\\item 13305\n",
       "\\item 16\n",
       "\\end{enumerate*}\n"
      ],
      "text/markdown": [
       "1. 13305\n",
       "2. 16\n",
       "\n",
       "\n"
      ],
      "text/plain": [
       "[1] 13305    16"
      ]
     },
     "metadata": {},
     "output_type": "display_data"
    }
   ],
   "source": [
    "(q10<-quantile(globsales,0.1))\n",
    "(q90<-quantile(globsales,0.9))\n",
    "stableGamesData<-gamesData[gamesData$Global_Sales>q10 & gamesData$Global_Sales<q90,]\n",
    "dim(stableGamesData)"
   ]
  },
  {
   "cell_type": "code",
   "execution_count": 166,
   "metadata": {
    "collapsed": false
   },
   "outputs": [
    {
     "data": {
      "image/png": "[encoded data removed]",
      "text/plain": [
       "Plot with title \"Histogram of globsales\""
      ]
     },
     "metadata": {},
     "output_type": "display_data"
    }
   ],
   "source": [
    "hist(globsales,col=\"red\")"
   ]
  },
  {
   "cell_type": "code",
   "execution_count": 165,
   "metadata": {
    "collapsed": false
   },
   "outputs": [
    {
     "data": {
      "image/png": "[encoded data removed]",
      "text/plain": [
       "Plot with title \"Histogram of stableGamesData$Global_Sales\""
      ]
     },
     "metadata": {},
     "output_type": "display_data"
    }
   ],
   "source": [
    "hist(stableGamesData$Global_Sales,col=\"orange\")"
   ]
  },
  {
   "cell_type": "markdown",
   "metadata": {},
   "source": [
    "### Categorical variables"
   ]
  },
  {
   "cell_type": "code",
   "execution_count": 14,
   "metadata": {
    "collapsed": false
   },
   "outputs": [
    {
     "data": {
      "text/html": [
       "<dl class=dl-horizontal>\n",
       "\t<dt>satisfaction_level</dt>\n",
       "\t\t<dd>'numeric'</dd>\n",
       "\t<dt>last_evaluation</dt>\n",
       "\t\t<dd>'numeric'</dd>\n",
       "\t<dt>number_project</dt>\n",
       "\t\t<dd>'numeric'</dd>\n",
       "\t<dt>average_montly_hours</dt>\n",
       "\t\t<dd>'numeric'</dd>\n",
       "\t<dt>time_spend_company</dt>\n",
       "\t\t<dd>'numeric'</dd>\n",
       "\t<dt>Work_accident</dt>\n",
       "\t\t<dd>'numeric'</dd>\n",
       "\t<dt>left</dt>\n",
       "\t\t<dd>'numeric'</dd>\n",
       "\t<dt>promotion_last_5years</dt>\n",
       "\t\t<dd>'numeric'</dd>\n",
       "\t<dt>sales</dt>\n",
       "\t\t<dd>'numeric'</dd>\n",
       "\t<dt>salary</dt>\n",
       "\t\t<dd>'numeric'</dd>\n",
       "</dl>\n"
      ],
      "text/latex": [
       "\\begin{description*}\n",
       "\\item[satisfaction\\textbackslash{}\\_level] 'numeric'\n",
       "\\item[last\\textbackslash{}\\_evaluation] 'numeric'\n",
       "\\item[number\\textbackslash{}\\_project] 'numeric'\n",
       "\\item[average\\textbackslash{}\\_montly\\textbackslash{}\\_hours] 'numeric'\n",
       "\\item[time\\textbackslash{}\\_spend\\textbackslash{}\\_company] 'numeric'\n",
       "\\item[Work\\textbackslash{}\\_accident] 'numeric'\n",
       "\\item[left] 'numeric'\n",
       "\\item[promotion\\textbackslash{}\\_last\\textbackslash{}\\_5years] 'numeric'\n",
       "\\item[sales] 'numeric'\n",
       "\\item[salary] 'numeric'\n",
       "\\end{description*}\n"
      ],
      "text/markdown": [
       "satisfaction_level\n",
       ":   'numeric'last_evaluation\n",
       ":   'numeric'number_project\n",
       ":   'numeric'average_montly_hours\n",
       ":   'numeric'time_spend_company\n",
       ":   'numeric'Work_accident\n",
       ":   'numeric'left\n",
       ":   'numeric'promotion_last_5years\n",
       ":   'numeric'sales\n",
       ":   'numeric'salary\n",
       ":   'numeric'\n",
       "\n"
      ],
      "text/plain": [
       "   satisfaction_level       last_evaluation        number_project \n",
       "            \"numeric\"             \"numeric\"             \"numeric\" \n",
       " average_montly_hours    time_spend_company         Work_accident \n",
       "            \"numeric\"             \"numeric\"             \"numeric\" \n",
       "                 left promotion_last_5years                 sales \n",
       "            \"numeric\"             \"numeric\"             \"numeric\" \n",
       "               salary \n",
       "            \"numeric\" "
      ]
     },
     "metadata": {},
     "output_type": "display_data"
    },
    {
     "data": {
      "text/html": [
       "<table>\n",
       "<thead><tr><th scope=col>satisfaction_level</th><th scope=col>last_evaluation</th><th scope=col>number_project</th><th scope=col>average_montly_hours</th><th scope=col>time_spend_company</th><th scope=col>Work_accident</th><th scope=col>left</th><th scope=col>promotion_last_5years</th><th scope=col>sales</th><th scope=col>salary</th></tr></thead>\n",
       "<tbody>\n",
       "\t<tr><td>0.38  </td><td>0.53  </td><td>2     </td><td>157   </td><td>3     </td><td>0     </td><td>1     </td><td>0     </td><td>sales </td><td>low   </td></tr>\n",
       "\t<tr><td>0.80  </td><td>0.86  </td><td>5     </td><td>262   </td><td>6     </td><td>0     </td><td>1     </td><td>0     </td><td>sales </td><td>medium</td></tr>\n",
       "\t<tr><td>0.11  </td><td>0.88  </td><td>7     </td><td>272   </td><td>4     </td><td>0     </td><td>1     </td><td>0     </td><td>sales </td><td>medium</td></tr>\n",
       "\t<tr><td>0.72  </td><td>0.87  </td><td>5     </td><td>223   </td><td>5     </td><td>0     </td><td>1     </td><td>0     </td><td>sales </td><td>low   </td></tr>\n",
       "\t<tr><td>0.37  </td><td>0.52  </td><td>2     </td><td>159   </td><td>3     </td><td>0     </td><td>1     </td><td>0     </td><td>sales </td><td>low   </td></tr>\n",
       "\t<tr><td>0.41  </td><td>0.50  </td><td>2     </td><td>153   </td><td>3     </td><td>0     </td><td>1     </td><td>0     </td><td>sales </td><td>low   </td></tr>\n",
       "</tbody>\n",
       "</table>\n"
      ],
      "text/latex": [
       "\\begin{tabular}{r|llllllllll}\n",
       " satisfaction\\_level & last\\_evaluation & number\\_project & average\\_montly\\_hours & time\\_spend\\_company & Work\\_accident & left & promotion\\_last\\_5years & sales & salary\\\\\n",
       "\\hline\n",
       "\t 0.38   & 0.53   & 2      & 157    & 3      & 0      & 1      & 0      & sales  & low   \\\\\n",
       "\t 0.80   & 0.86   & 5      & 262    & 6      & 0      & 1      & 0      & sales  & medium\\\\\n",
       "\t 0.11   & 0.88   & 7      & 272    & 4      & 0      & 1      & 0      & sales  & medium\\\\\n",
       "\t 0.72   & 0.87   & 5      & 223    & 5      & 0      & 1      & 0      & sales  & low   \\\\\n",
       "\t 0.37   & 0.52   & 2      & 159    & 3      & 0      & 1      & 0      & sales  & low   \\\\\n",
       "\t 0.41   & 0.50   & 2      & 153    & 3      & 0      & 1      & 0      & sales  & low   \\\\\n",
       "\\end{tabular}\n"
      ],
      "text/markdown": [
       "\n",
       "satisfaction_level | last_evaluation | number_project | average_montly_hours | time_spend_company | Work_accident | left | promotion_last_5years | sales | salary | \n",
       "|---|---|---|---|---|---|\n",
       "| 0.38   | 0.53   | 2      | 157    | 3      | 0      | 1      | 0      | sales  | low    | \n",
       "| 0.80   | 0.86   | 5      | 262    | 6      | 0      | 1      | 0      | sales  | medium | \n",
       "| 0.11   | 0.88   | 7      | 272    | 4      | 0      | 1      | 0      | sales  | medium | \n",
       "| 0.72   | 0.87   | 5      | 223    | 5      | 0      | 1      | 0      | sales  | low    | \n",
       "| 0.37   | 0.52   | 2      | 159    | 3      | 0      | 1      | 0      | sales  | low    | \n",
       "| 0.41   | 0.50   | 2      | 153    | 3      | 0      | 1      | 0      | sales  | low    | \n",
       "\n",
       "\n"
      ],
      "text/plain": [
       "  satisfaction_level last_evaluation number_project average_montly_hours\n",
       "1 0.38               0.53            2              157                 \n",
       "2 0.80               0.86            5              262                 \n",
       "3 0.11               0.88            7              272                 \n",
       "4 0.72               0.87            5              223                 \n",
       "5 0.37               0.52            2              159                 \n",
       "6 0.41               0.50            2              153                 \n",
       "  time_spend_company Work_accident left promotion_last_5years sales salary\n",
       "1 3                  0             1    0                     sales low   \n",
       "2 6                  0             1    0                     sales medium\n",
       "3 4                  0             1    0                     sales medium\n",
       "4 5                  0             1    0                     sales low   \n",
       "5 3                  0             1    0                     sales low   \n",
       "6 3                  0             1    0                     sales low   "
      ]
     },
     "metadata": {},
     "output_type": "display_data"
    }
   ],
   "source": [
    "hrData=read.csv(file=\"../data/humanResources.csv\", header=TRUE, sep=\",\")\n",
    "hrData$left<-factor(hrData$left)\n",
    "sapply(hrData,mode)\n",
    "head(hrData)"
   ]
  },
  {
   "cell_type": "markdown",
   "metadata": {},
   "source": [
    "#### Frequency and probability table of single categorical variable"
   ]
  },
  {
   "cell_type": "code",
   "execution_count": 76,
   "metadata": {
    "collapsed": false
   },
   "outputs": [
    {
     "data": {
      "text/plain": [
       "\n",
       "  high    low medium \n",
       "  1237   7316   6446 "
      ]
     },
     "metadata": {},
     "output_type": "display_data"
    },
    {
     "data": {
      "text/plain": [
       "\n",
       "      high        low     medium \n",
       "0.08247216 0.48776585 0.42976198 "
      ]
     },
     "metadata": {},
     "output_type": "display_data"
    }
   ],
   "source": [
    "(salTab<-table(hrData$salary))\n",
    "prop.table(salTab)"
   ]
  },
  {
   "cell_type": "markdown",
   "metadata": {},
   "source": [
    "#### Joint Frequency, Joint Probability and Conditional Probability\n",
    "Joint Frequency of two variables:"
   ]
  },
  {
   "cell_type": "code",
   "execution_count": 82,
   "metadata": {
    "collapsed": false
   },
   "outputs": [
    {
     "data": {
      "text/plain": [
       "             \n",
       "              high  low medium\n",
       "  accounting    74  358    335\n",
       "  hr            45  335    359\n",
       "  IT            83  609    535\n",
       "  management   225  180    225\n",
       "  marketing     80  402    376\n",
       "  product_mng   68  451    383\n",
       "  RandD         51  364    372\n",
       "  sales        269 2099   1772\n",
       "  support      141 1146    942\n",
       "  technical    201 1372   1147"
      ]
     },
     "metadata": {},
     "output_type": "display_data"
    }
   ],
   "source": [
    "(deptSalTab<-table(hrData$sales,hrData$salary))"
   ]
  },
  {
   "cell_type": "markdown",
   "metadata": {},
   "source": [
    "Alternative method, which generates the same result:"
   ]
  },
  {
   "cell_type": "code",
   "execution_count": 98,
   "metadata": {
    "collapsed": false
   },
   "outputs": [
    {
     "data": {
      "text/plain": [
       "             salary\n",
       "sales         high  low medium\n",
       "  accounting    74  358    335\n",
       "  hr            45  335    359\n",
       "  IT            83  609    535\n",
       "  management   225  180    225\n",
       "  marketing     80  402    376\n",
       "  product_mng   68  451    383\n",
       "  RandD         51  364    372\n",
       "  sales        269 2099   1772\n",
       "  support      141 1146    942\n",
       "  technical    201 1372   1147"
      ]
     },
     "metadata": {},
     "output_type": "display_data"
    }
   ],
   "source": [
    "xtabs(~ sales+salary, data=hrData)"
   ]
  },
  {
   "cell_type": "markdown",
   "metadata": {},
   "source": [
    "Joint Propability of two variables:"
   ]
  },
  {
   "cell_type": "code",
   "execution_count": 83,
   "metadata": {
    "collapsed": false
   },
   "outputs": [
    {
     "data": {
      "text/plain": [
       "             \n",
       "                     high         low      medium\n",
       "  accounting  0.004933662 0.023868258 0.022334822\n",
       "  hr          0.003000200 0.022334822 0.023934929\n",
       "  IT          0.005533702 0.040602707 0.035669045\n",
       "  management  0.015001000 0.012000800 0.015001000\n",
       "  marketing   0.005333689 0.026801787 0.025068338\n",
       "  product_mng 0.004533636 0.030068671 0.025535036\n",
       "  RandD       0.003400227 0.024268285 0.024801653\n",
       "  sales       0.017934529 0.139942663 0.118141209\n",
       "  support     0.009400627 0.076405094 0.062804187\n",
       "  technical   0.013400893 0.091472765 0.076471765"
      ]
     },
     "metadata": {},
     "output_type": "display_data"
    }
   ],
   "source": [
    "prop.table(deptSalTab)"
   ]
  },
  {
   "cell_type": "markdown",
   "metadata": {},
   "source": [
    "Joint Probability, given the row value:"
   ]
  },
  {
   "cell_type": "code",
   "execution_count": 88,
   "metadata": {
    "collapsed": false
   },
   "outputs": [
    {
     "data": {
      "text/plain": [
       "             \n",
       "                    high        low     medium\n",
       "  accounting  0.09647979 0.46675359 0.43676662\n",
       "  hr          0.06089310 0.45331529 0.48579161\n",
       "  IT          0.06764466 0.49633252 0.43602282\n",
       "  management  0.35714286 0.28571429 0.35714286\n",
       "  marketing   0.09324009 0.46853147 0.43822844\n",
       "  product_mng 0.07538803 0.50000000 0.42461197\n",
       "  RandD       0.06480305 0.46251588 0.47268107\n",
       "  sales       0.06497585 0.50700483 0.42801932\n",
       "  support     0.06325707 0.51413190 0.42261104\n",
       "  technical   0.07389706 0.50441176 0.42169118"
      ]
     },
     "metadata": {},
     "output_type": "display_data"
    }
   ],
   "source": [
    "prop.table(deptSalTab,1)"
   ]
  },
  {
   "cell_type": "markdown",
   "metadata": {},
   "source": [
    "Joint Probability, given the column value:"
   ]
  },
  {
   "cell_type": "code",
   "execution_count": 89,
   "metadata": {
    "collapsed": false
   },
   "outputs": [
    {
     "data": {
      "text/plain": [
       "             \n",
       "                    high        low     medium\n",
       "  accounting  0.05982215 0.04893384 0.05197021\n",
       "  hr          0.03637833 0.04579005 0.05569345\n",
       "  IT          0.06709782 0.08324221 0.08299721\n",
       "  management  0.18189167 0.02460361 0.03490537\n",
       "  marketing   0.06467259 0.05494806 0.05833075\n",
       "  product_mng 0.05497171 0.06164571 0.05941669\n",
       "  RandD       0.04122878 0.04975396 0.05771021\n",
       "  sales       0.21746160 0.28690541 0.27489916\n",
       "  support     0.11398545 0.15664297 0.14613714\n",
       "  technical   0.16248989 0.18753417 0.17793981"
      ]
     },
     "metadata": {},
     "output_type": "display_data"
    }
   ],
   "source": [
    "prop.table(deptSalTab,2)"
   ]
  },
  {
   "cell_type": "markdown",
   "metadata": {
    "run_control": {
     "marked": true
    }
   },
   "source": [
    "Total Frequency, frequency by row and frequency by column"
   ]
  },
  {
   "cell_type": "code",
   "execution_count": 90,
   "metadata": {
    "collapsed": false
   },
   "outputs": [
    {
     "data": {
      "text/html": [
       "14999"
      ],
      "text/latex": [
       "14999"
      ],
      "text/markdown": [
       "14999"
      ],
      "text/plain": [
       "[1] 14999"
      ]
     },
     "metadata": {},
     "output_type": "display_data"
    },
    {
     "data": {
      "text/plain": [
       "\n",
       " accounting          hr          IT  management   marketing product_mng \n",
       "        767         739        1227         630         858         902 \n",
       "      RandD       sales     support   technical \n",
       "        787        4140        2229        2720 "
      ]
     },
     "metadata": {},
     "output_type": "display_data"
    },
    {
     "data": {
      "text/plain": [
       "\n",
       "  high    low medium \n",
       "  1237   7316   6446 "
      ]
     },
     "metadata": {},
     "output_type": "display_data"
    }
   ],
   "source": [
    "margin.table(deptSalTab)\n",
    "margin.table(deptSalTab,1)\n",
    "margin.table(deptSalTab,2)"
   ]
  },
  {
   "cell_type": "code",
   "execution_count": 92,
   "metadata": {
    "collapsed": false
   },
   "outputs": [
    {
     "data": {
      "text/plain": [
       "Number of cases in table: 14999 \n",
       "Number of factors: 2 \n",
       "Test for independence of all factors:\n",
       "\tChisq = 700.9, df = 18, p-value = 3.621e-137"
      ]
     },
     "metadata": {},
     "output_type": "display_data"
    }
   ],
   "source": [
    "summary(deptSalTab)"
   ]
  },
  {
   "cell_type": "code",
   "execution_count": 99,
   "metadata": {
    "collapsed": false
   },
   "outputs": [
    {
     "data": {
      "image/png": "[encoded data removed]",
      "text/plain": [
       "plot without title"
      ]
     },
     "metadata": {},
     "output_type": "display_data"
    }
   ],
   "source": [
    "barplot(deptSalTab)"
   ]
  },
  {
   "cell_type": "code",
   "execution_count": 107,
   "metadata": {
    "collapsed": false
   },
   "outputs": [
    {
     "data": {
      "image/png": "[encoded data removed]",
      "text/plain": [
       "Plot with title \"deptSalTab\""
      ]
     },
     "metadata": {},
     "output_type": "display_data"
    }
   ],
   "source": [
    "mosaicplot(deptSalTab,dir=c(\"h\",\"v\"),las=2,col=rainbow(3))"
   ]
  },
  {
   "cell_type": "code",
   "execution_count": 180,
   "metadata": {
    "collapsed": false
   },
   "outputs": [
    {
     "data": {
      "text/html": [
       "102.369419264179"
      ],
      "text/latex": [
       "102.369419264179"
      ],
      "text/markdown": [
       "102.369419264179"
      ],
      "text/plain": [
       "[1] 102.3694"
      ]
     },
     "metadata": {},
     "output_type": "display_data"
    }
   ],
   "source": [
    "100.51+1.96*15.0/sqrt(250)"
   ]
  },
  {
   "cell_type": "code",
   "execution_count": 184,
   "metadata": {
    "collapsed": false
   },
   "outputs": [
    {
     "data": {
      "text/html": [
       "99.9666514644703"
      ],
      "text/latex": [
       "99.9666514644703"
      ],
      "text/markdown": [
       "99.9666514644703"
      ],
      "text/plain": [
       "[1] 99.96665"
      ]
     },
     "metadata": {},
     "output_type": "display_data"
    }
   ],
   "source": [
    "x<-rnorm(10000,mean=100,sd=15)\n",
    "mean(x)"
   ]
  },
  {
   "cell_type": "code",
   "execution_count": 182,
   "metadata": {
    "collapsed": false
   },
   "outputs": [
    {
     "data": {
      "text/plain": [
       "\n",
       "\tOne Sample t-test\n",
       "\n",
       "data:  x\n",
       "t = 99.396, df = 249, p-value < 2.2e-16\n",
       "alternative hypothesis: true mean is not equal to 0\n",
       "95 percent confidence interval:\n",
       "  98.16908 102.13817\n",
       "sample estimates:\n",
       "mean of x \n",
       " 100.1536 \n"
      ]
     },
     "metadata": {},
     "output_type": "display_data"
    }
   ],
   "source": [
    "t.test(x)"
   ]
  },
  {
   "cell_type": "code",
   "execution_count": 187,
   "metadata": {
    "collapsed": false
   },
   "outputs": [
    {
     "name": "stdout",
     "output_type": "stream",
     "text": [
      "[1] 104.4204\n",
      "[1] 101.1289\n",
      "[1] 101.4603\n",
      "[1] 102.8342\n",
      "[1] 98.79813\n",
      "[1] 98.19894\n",
      "[1] 96.88839\n",
      "[1] 102.074\n",
      "[1] 94.91676\n",
      "[1] 103.8157\n"
     ]
    }
   ],
   "source": [
    "for (i in 1:10){\n",
    "    s1<-sample(x,30)\n",
    "    print(mean(s1))\n",
    "}\n"
   ]
  },
  {
   "cell_type": "code",
   "execution_count": null,
   "metadata": {
    "collapsed": true
   },
   "outputs": [],
   "source": []
  }
 ],
 "metadata": {
  "kernelspec": {
   "display_name": "R [conda env:condatascience]",
   "language": "R",
   "name": "conda-env-condatascience-r"
  },
  "language_info": {
   "codemirror_mode": "r",
   "file_extension": ".r",
   "mimetype": "text/x-r-source",
   "name": "R",
   "pygments_lexer": "r",
   "version": "3.3.2"
  },
  "nav_menu": {},
  "toc": {
   "navigate_menu": true,
   "number_sections": true,
   "sideBar": true,
   "threshold": 6,
   "toc_cell": true,
   "toc_section_display": "block",
   "toc_window_display": true
  },
  "toc_position": {
   "height": "761px",
   "left": "0px",
   "right": "1351.83px",
   "top": "107px",
   "width": "212px"
  }
 },
 "nbformat": 4,
 "nbformat_minor": 2
}

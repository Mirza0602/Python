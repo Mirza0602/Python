{
 "cells": [
  {
   "cell_type": "code",
   "execution_count": 1,
   "metadata": {
    "collapsed": false
   },
   "outputs": [
    {
     "data": {
      "text/html": [
       "<ol class=list-inline>\n",
       "\t<li>'.__C__recordedplot'</li>\n",
       "\t<li>'assocplot'</li>\n",
       "\t<li>'barplot'</li>\n",
       "\t<li>'barplot.default'</li>\n",
       "\t<li>'biplot'</li>\n",
       "\t<li>'boxplot'</li>\n",
       "\t<li>'boxplot.default'</li>\n",
       "\t<li>'boxplot.matrix'</li>\n",
       "\t<li>'boxplot.stats'</li>\n",
       "\t<li>'cdplot'</li>\n",
       "\t<li>'coplot'</li>\n",
       "\t<li>'fourfoldplot'</li>\n",
       "\t<li>'interaction.plot'</li>\n",
       "\t<li>'lag.plot'</li>\n",
       "\t<li>'matplot'</li>\n",
       "\t<li>'monthplot'</li>\n",
       "\t<li>'mosaicplot'</li>\n",
       "\t<li>'plot'</li>\n",
       "\t<li>'plot.default'</li>\n",
       "\t<li>'plot.design'</li>\n",
       "\t<li>'plot.ecdf'</li>\n",
       "\t<li>'plot.function'</li>\n",
       "\t<li>'plot.new'</li>\n",
       "\t<li>'plot.spec.coherency'</li>\n",
       "\t<li>'plot.spec.phase'</li>\n",
       "\t<li>'plot.stepfun'</li>\n",
       "\t<li>'plot.ts'</li>\n",
       "\t<li>'plot.window'</li>\n",
       "\t<li>'plot.xy'</li>\n",
       "\t<li>'preplot'</li>\n",
       "\t<li>'qqplot'</li>\n",
       "\t<li>'recordPlot'</li>\n",
       "\t<li>'replayPlot'</li>\n",
       "\t<li>'savePlot'</li>\n",
       "\t<li>'screeplot'</li>\n",
       "\t<li>'spineplot'</li>\n",
       "\t<li>'sunflowerplot'</li>\n",
       "\t<li>'termplot'</li>\n",
       "\t<li>'ts.plot'</li>\n",
       "</ol>\n"
      ],
      "text/latex": [
       "\\begin{enumerate*}\n",
       "\\item '.\\_\\_C\\_\\_recordedplot'\n",
       "\\item 'assocplot'\n",
       "\\item 'barplot'\n",
       "\\item 'barplot.default'\n",
       "\\item 'biplot'\n",
       "\\item 'boxplot'\n",
       "\\item 'boxplot.default'\n",
       "\\item 'boxplot.matrix'\n",
       "\\item 'boxplot.stats'\n",
       "\\item 'cdplot'\n",
       "\\item 'coplot'\n",
       "\\item 'fourfoldplot'\n",
       "\\item 'interaction.plot'\n",
       "\\item 'lag.plot'\n",
       "\\item 'matplot'\n",
       "\\item 'monthplot'\n",
       "\\item 'mosaicplot'\n",
       "\\item 'plot'\n",
       "\\item 'plot.default'\n",
       "\\item 'plot.design'\n",
       "\\item 'plot.ecdf'\n",
       "\\item 'plot.function'\n",
       "\\item 'plot.new'\n",
       "\\item 'plot.spec.coherency'\n",
       "\\item 'plot.spec.phase'\n",
       "\\item 'plot.stepfun'\n",
       "\\item 'plot.ts'\n",
       "\\item 'plot.window'\n",
       "\\item 'plot.xy'\n",
       "\\item 'preplot'\n",
       "\\item 'qqplot'\n",
       "\\item 'recordPlot'\n",
       "\\item 'replayPlot'\n",
       "\\item 'savePlot'\n",
       "\\item 'screeplot'\n",
       "\\item 'spineplot'\n",
       "\\item 'sunflowerplot'\n",
       "\\item 'termplot'\n",
       "\\item 'ts.plot'\n",
       "\\end{enumerate*}\n"
      ],
      "text/markdown": [
       "1. '.__C__recordedplot'\n",
       "2. 'assocplot'\n",
       "3. 'barplot'\n",
       "4. 'barplot.default'\n",
       "5. 'biplot'\n",
       "6. 'boxplot'\n",
       "7. 'boxplot.default'\n",
       "8. 'boxplot.matrix'\n",
       "9. 'boxplot.stats'\n",
       "10. 'cdplot'\n",
       "11. 'coplot'\n",
       "12. 'fourfoldplot'\n",
       "13. 'interaction.plot'\n",
       "14. 'lag.plot'\n",
       "15. 'matplot'\n",
       "16. 'monthplot'\n",
       "17. 'mosaicplot'\n",
       "18. 'plot'\n",
       "19. 'plot.default'\n",
       "20. 'plot.design'\n",
       "21. 'plot.ecdf'\n",
       "22. 'plot.function'\n",
       "23. 'plot.new'\n",
       "24. 'plot.spec.coherency'\n",
       "25. 'plot.spec.phase'\n",
       "26. 'plot.stepfun'\n",
       "27. 'plot.ts'\n",
       "28. 'plot.window'\n",
       "29. 'plot.xy'\n",
       "30. 'preplot'\n",
       "31. 'qqplot'\n",
       "32. 'recordPlot'\n",
       "33. 'replayPlot'\n",
       "34. 'savePlot'\n",
       "35. 'screeplot'\n",
       "36. 'spineplot'\n",
       "37. 'sunflowerplot'\n",
       "38. 'termplot'\n",
       "39. 'ts.plot'\n",
       "\n",
       "\n"
      ],
      "text/plain": [
       " [1] \".__C__recordedplot\"  \"assocplot\"           \"barplot\"            \n",
       " [4] \"barplot.default\"     \"biplot\"              \"boxplot\"            \n",
       " [7] \"boxplot.default\"     \"boxplot.matrix\"      \"boxplot.stats\"      \n",
       "[10] \"cdplot\"              \"coplot\"              \"fourfoldplot\"       \n",
       "[13] \"interaction.plot\"    \"lag.plot\"            \"matplot\"            \n",
       "[16] \"monthplot\"           \"mosaicplot\"          \"plot\"               \n",
       "[19] \"plot.default\"        \"plot.design\"         \"plot.ecdf\"          \n",
       "[22] \"plot.function\"       \"plot.new\"            \"plot.spec.coherency\"\n",
       "[25] \"plot.spec.phase\"     \"plot.stepfun\"        \"plot.ts\"            \n",
       "[28] \"plot.window\"         \"plot.xy\"             \"preplot\"            \n",
       "[31] \"qqplot\"              \"recordPlot\"          \"replayPlot\"         \n",
       "[34] \"savePlot\"            \"screeplot\"           \"spineplot\"          \n",
       "[37] \"sunflowerplot\"       \"termplot\"            \"ts.plot\"            "
      ]
     },
     "metadata": {},
     "output_type": "display_data"
    }
   ],
   "source": [
    "apropos(\"plot\")"
   ]
  },
  {
   "cell_type": "code",
   "execution_count": 3,
   "metadata": {
    "collapsed": false
   },
   "outputs": [],
   "source": [
    "help(ts.plot)"
   ]
  },
  {
   "cell_type": "code",
   "execution_count": null,
   "metadata": {
    "collapsed": true
   },
   "outputs": [],
   "source": []
  }
 ],
 "metadata": {
  "kernelspec": {
   "display_name": "R",
   "language": "R",
   "name": "ir"
  },
  "language_info": {
   "codemirror_mode": "r",
   "file_extension": ".r",
   "mimetype": "text/x-r-source",
   "name": "R",
   "pygments_lexer": "r",
   "version": "3.3.2"
  },
  "nav_menu": {},
  "toc": {
   "navigate_menu": true,
   "number_sections": true,
   "sideBar": true,
   "threshold": 6,
   "toc_cell": false,
   "toc_section_display": "block",
   "toc_window_display": false
  }
 },
 "nbformat": 4,
 "nbformat_minor": 2
}

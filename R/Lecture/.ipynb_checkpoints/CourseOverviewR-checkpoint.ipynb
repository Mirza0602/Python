{
 "cells": [
  {
   "cell_type": "markdown",
   "metadata": {},
   "source": [
    "# Introduction in R-Progamming\n",
    "\n",
    "* Author: Johannes Maucher\n",
    "* Last Update: 13.04.2017\n",
    "\n",
    "![Data Science R Overview](../../Pics/DSRlevel1.PNG)\n",
    "## Contents\n",
    "\n",
    "### Basics\n",
    "\n",
    "   1. [Getting Started with R](./01Basics/00GettingStartedR.ipynb)\n",
    "   2. [Datatypes](./01Basics/02DataTypes.ipynb)\n",
    "   3. [Import and Export](./01Basics/03ImportExport.ipynb)\n",
    "   4. [Visualization](./01Basics/04Visualisation.ipynb)\n",
    "   5. [Control Structures](./01Basics/05ControlStructures.ipynb)\n",
    "   6. [Functions](./01Basics/06Functions.ipynb)\n",
    "   \n",
    "### Data Management\n",
    "\n",
    "   1. [Operations on Data Frames](./02DataManagement/01OperationsOnDataframes.ipynb)\n",
    "   1. [Database Access](./02DataManagement/02DataBaseAccess.ipynb)\n",
    "   1. [Database Aceess Advanced](./02DataManagement/03DataBaseAcessAdvanced1.ipynb)\n",
    "   \n",
    "### Visualization\n",
    "\n",
    "   1. [Visualization with ggplot2](./04Visualization/01ggplot2.ipynb)\n",
    "   \n",
    "   \n",
    "### Statistical Computing\n",
    "   1. [Selected Functions for Statistical Computing](./03Functions/01BasicFunctions.ipynb)\n",
    "   1. [Univariate Analysis](./05StatisticalComputing/01UnivariateAnalysis.ipynb)\n",
    "   2. [Independence and Correlations](./05StatisticalComputing/02IndependenceAndCorrelations.ipynb)\n",
    "   3. [Regression Analysis](./05StatisticalComputing/03RegressionAnalysis.ipynb)\n",
    "   4. [Analysis of Variance](./05StatisticalComputing/04ANOVA.ipynb) (not yet included)"
   ]
  },
  {
   "cell_type": "code",
   "execution_count": null,
   "metadata": {
    "collapsed": true
   },
   "outputs": [],
   "source": []
  }
 ],
 "metadata": {
  "kernelspec": {
   "display_name": "R",
   "language": "R",
   "name": "ir"
  },
  "language_info": {
   "codemirror_mode": "r",
   "file_extension": ".r",
   "mimetype": "text/x-r-source",
   "name": "R",
   "pygments_lexer": "r",
   "version": "3.3.2"
  },
  "nav_menu": {},
  "toc": {
   "navigate_menu": true,
   "number_sections": true,
   "sideBar": true,
   "threshold": 4,
   "toc_cell": false,
   "toc_section_display": "block",
   "toc_window_display": true
  }
 },
 "nbformat": 4,
 "nbformat_minor": 2
}

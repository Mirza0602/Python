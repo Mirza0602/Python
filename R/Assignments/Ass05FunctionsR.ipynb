{
 "cells": [
  {
   "cell_type": "markdown",
   "metadata": {},
   "source": [
    "# Exercises on Functions in R\n",
    "* Author: Johannes Maucher\n",
    "* Last Update: 19.09.2017\n",
    "* Corresponding lecture notebook: [06Functions](../Lecture/01Basics/06Functions.ipynb) and [02DataTypes](../Lecture/01Basics/02DataTypes.ipynb)"
   ]
  },
  {
   "cell_type": "markdown",
   "metadata": {},
   "source": [
    "## To be submitted:\n",
    "* this notebook, enhanced with the solutions to the questions. Your solution should contain \n",
    "    * the implemented code in code-cells, \n",
    "    * the output of this code\n",
    "    * and optionally your remarks, discussion, comments on the solution in markdown-cells."
   ]
  },
  {
   "cell_type": "markdown",
   "metadata": {},
   "source": [
    "## Tasks\n",
    "\n"
   ]
  },
  {
   "cell_type": "markdown",
   "metadata": {
    "collapsed": true
   },
   "source": [
    "1. Read data from [invitationTemplate.txt](../Lecture/data/invitationTemplate.txt) into a character-variable. This file is a form letter (template), which shall be applied by a company for inviting persons to events. \n",
    "In this assignment a function and corresponding function-calls for the automatic generation of concrete invitations, based on the given template, must be implemented.\n",
    "2. Write a R-function `createLetter(fieldsdata,templateText)`, which takes concrete person- and event-data and substitutes the placeholders in the template text with this concrete data. The function returns the concrete invitation letter. The function-arguments shall be:\n",
    "    * `fieldsdata` is a named vector (see [02DataTypes](../Lecture/01Basics/02DataTypes.ipynb)). The names of the vector-components are the 8 placeholders (`<SALUTATION>`,...,`<ADDRESS>`) used in the template. The values of the vector-components are the concrete dataelements for a specific person and a specific event. For example the first component of the vector may have the name `<SALUTATION>` and the value `Mr.`.\n",
    "    * `templateText` is a character-variable, which contains the template text as imported from the file in the previous subtask.\n",
    "3. For a single event and 3 different persons create 3 concrete data vectors, which can be passed to \n",
    "the function's `fieldsdata`-argument. Call the function 3 times for generating the invitation letter for the 3 persons. Display these invitation letters in the jupyter-notebook. Hint: Since for one concrete event usually many persons must be invited it makes sense to construct the concrete vector from two parts: one person- and one event-specific part. A possible return text of the function could be e.g.\n",
    "```\n",
    "'Dear Mrs. Julia Roberts, we are happy to invite you to our annual showroom 2017. The event starts on 01.04 at 10.00h in Headquarter Office, Mainroad 26, 4711 Ytown. We look forward to your visist. The Xcompany'\n",
    "```\n",
    "4. Create a vector, whose elements are 10 different normal-distributed random sequences (`rnorm`), each of length 150. For each of these sequences the *minimum-, maximum-, mean- and median-value* shall be calculated. These 4 statistics shall be stored in a vector. All 4-element-statistics-vectors shall be stored in a vector of length 10. Implement this task in 2 variations. First, the statistics shall be calculated within a for-loop. Then a function for calculating the statistics of a single sequence shall be implemented. This function shall then be applied within a `lapply()`-function. The `lapply()`-call shall return the length-10 vector, which contains the statistics of all 10 random sequences. \n"
   ]
  },
  {
   "cell_type": "code",
   "execution_count": null,
   "metadata": {
    "collapsed": true
   },
   "outputs": [],
   "source": []
  }
 ],
 "metadata": {
  "anaconda-cloud": {},
  "kernelspec": {
   "display_name": "R [conda env:condatascience]",
   "language": "R",
   "name": "conda-env-condatascience-r"
  },
  "language_info": {
   "codemirror_mode": "r",
   "file_extension": ".r",
   "mimetype": "text/x-r-source",
   "name": "R",
   "pygments_lexer": "r",
   "version": "3.4.1"
  },
  "nav_menu": {},
  "toc": {
   "nav_menu": {},
   "number_sections": true,
   "sideBar": true,
   "skip_h1_title": false,
   "toc_cell": false,
   "toc_position": {},
   "toc_section_display": "block",
   "toc_window_display": false
  }
 },
 "nbformat": 4,
 "nbformat_minor": 2
}

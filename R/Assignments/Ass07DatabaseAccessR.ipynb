{
 "cells": [
  {
   "cell_type": "markdown",
   "metadata": {},
   "source": [
    "# Exercises on Dataframes in R\n",
    "* Author: Johannes Maucher\n",
    "* Last Update: 25.09.2017\n",
    "* Corresponding lecture notebook: [02DataBaseAccess](../Lecture/02DataManagement/02DataBaseAccess.ipynb) and [03DataBaseAccessAdvanced1](../Lecture/02DataManagement/03DataBaseAcessAdvanced1.ipynb)"
   ]
  },
  {
   "cell_type": "markdown",
   "metadata": {},
   "source": [
    "## To be submitted:\n",
    "* this notebook, enhanced with the solutions to the questions. Your solution should contain \n",
    "    * the implemented code in code-cells, \n",
    "    * the output of this code\n",
    "    * and optionally your remarks, discussion, comments on the solution in markdown-cells."
   ]
  },
  {
   "cell_type": "markdown",
   "metadata": {},
   "source": [
    "## Tasks\n",
    "\n"
   ]
  },
  {
   "cell_type": "markdown",
   "metadata": {},
   "source": [
    "1. Connect to database `experiments` as in [03DataBaseAccessAdvanced1](../Lecture/02DataManagement/03DataBaseAcessAdvanced1.ipynb).\n",
    "2. Check if the table `records_hrvidenticators` exists in this DB. This database contains for each measurement of type HRV-Measurement (record_type_id=1 in table `records_record`) the HRV-parameters, as calculated from the time-series of RR-distances. In table `records_hrvidenticators` the column `calc_ident_id` identifies the measurement and corresponds to the primary key `id` in table `records_record`.\n",
    "3. Query for all HRV-measurements (record_type_id=1) of `user_id=1` the following parameters:\n",
    "    * id,\n",
    "    * start,\n",
    "    * sdnn,\n",
    "    * rmssd,\n",
    "    * power_lf,\n",
    "    * power_hf,\n",
    "    * power_lf_hf\n",
    "    \n",
    "   ordered by ascending start-date. \n",
    "4. Visualize the RMSSD- and the SDNN parameters over time in a single plot. Apply suitable geometric functions of `ggplot2` for this task. "
   ]
  },
  {
   "cell_type": "code",
   "execution_count": null,
   "metadata": {
    "collapsed": true
   },
   "outputs": [],
   "source": []
  }
 ],
 "metadata": {
  "kernelspec": {
   "display_name": "R [conda env:condatascience]",
   "language": "R",
   "name": "conda-env-condatascience-r"
  },
  "language_info": {
   "codemirror_mode": "r",
   "file_extension": ".r",
   "mimetype": "text/x-r-source",
   "name": "R",
   "pygments_lexer": "r",
   "version": "3.4.1"
  },
  "nav_menu": {},
  "toc": {
   "navigate_menu": true,
   "number_sections": true,
   "sideBar": true,
   "threshold": 6,
   "toc_cell": false,
   "toc_section_display": "block",
   "toc_window_display": false
  }
 },
 "nbformat": 4,
 "nbformat_minor": 2
}

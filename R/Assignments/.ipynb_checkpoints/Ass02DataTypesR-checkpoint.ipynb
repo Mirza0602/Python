{
 "cells": [
  {
   "cell_type": "markdown",
   "metadata": {},
   "source": [
    "# Exercises on Basic Routines in R\n",
    "* Author: Johannes Maucher\n",
    "* Last Update: 08.09.2017\n",
    "* Corresponding lecture notebook: [02DataTypes](../Lecture/01Basics/02DataTypes.ipynb)"
   ]
  },
  {
   "cell_type": "markdown",
   "metadata": {},
   "source": [
    "## To be submitted:\n",
    "* this notebook, enhanced with the solutions to the questions. Your solution should contain \n",
    "    * the implemented code in code-cells, \n",
    "    * the output of this code \n",
    "    * and optionally your remarks, discussion, comments on the solution in markdown-cells."
   ]
  },
  {
   "cell_type": "markdown",
   "metadata": {},
   "source": [
    "## Tasks\n",
    "1. At time $t=0$ a vehicle has speed $v_0$ (in $m/s$). The vehicle's accelaration is $a$ (in $m/s^2$). Then the traveled distance $s$ (in meters) after an arbitrary time $t$ (in seconds) can be calculated as \n",
    "$$s=\\frac{1}{2}a t^2 +v_0 t.$$ \n",
    "In a lab experiment after time $t_1=2s$ the traveled distance is measured to be $s_1=16m$ and after time $t_2=4s$ the traveled distance is measured to be $s_2=44m$. Calculate the vehicle's accelaration $a$ and initial speed $v_0$ by solving the corresponding system of linear equations in R.\n",
    "2. Assign the constant `letters` to the variable `x` and `letters` in reverse order to the variable `y`. What is the result of `x > y`? Repeat this experiment but now `letters` and the reverse ordering of `letters` shall be represented as *factors*. What is now the result of `x > y`?\n",
    "3. A company likes to store the following data of it's employees:\n",
    "    1. ID\n",
    "    2. Name\n",
    "    3. Age\n",
    "    4. Salary\n",
    "    \n",
    "   For each employee this data shall be stored in a R - list. Create such lists for 4 arbitrary sample persons and assign all of these lists to another list `employeelist`. \n",
    "   1. Access and display all data of a single employee.  \n",
    "   2. Access and display the salary of a single employee.\n",
    "   3. Define a list for a new person and insert this new list at the third position of the `employeelist`.\n",
    "   4. Remove the list of an arbitrary person from `employeelist`.\n",
    "\n",
    "4. Read the [energy data file](../Lecture/data/EnergyMixGeoClust.csv) into a dataframe `energyData` like in the lecture notebook. \n",
    "    1. Determine the number of observations (rows) and features (columns) of this dataframe.\n",
    "    2. Create a dataframe `energyDataRed`, which contains all data of `energyData`, except the 4 countries with the highest coal-consumption.\n",
    "    3. Calculate the mean and the median of the coal-consumption for both dataframes `energyData` and `energyDataRed`.\n",
    "    4. What do you conclude from this experiment regarding the quality of the statistics *mean* and *median*?\n"
   ]
  },
  {
   "cell_type": "code",
   "execution_count": null,
   "metadata": {
    "collapsed": true
   },
   "outputs": [],
   "source": []
  }
 ],
 "metadata": {
  "kernelspec": {
   "display_name": "R [conda env:condatascience]",
   "language": "R",
   "name": "conda-env-condatascience-r"
  },
  "language_info": {
   "codemirror_mode": "r",
   "file_extension": ".r",
   "mimetype": "text/x-r-source",
   "name": "R",
   "pygments_lexer": "r",
   "version": "3.3.2"
  },
  "nav_menu": {},
  "toc": {
   "navigate_menu": true,
   "number_sections": true,
   "sideBar": true,
   "threshold": 6,
   "toc_cell": false,
   "toc_section_display": "block",
   "toc_window_display": false
  }
 },
 "nbformat": 4,
 "nbformat_minor": 2
}

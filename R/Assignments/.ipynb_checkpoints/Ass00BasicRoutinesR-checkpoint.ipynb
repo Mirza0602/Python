{
 "cells": [
  {
   "cell_type": "markdown",
   "metadata": {},
   "source": [
    "# Exercises on Basic Routines in R\n",
    "* Author: Johannes Maucher\n",
    "* Last Update: 08.09.2017\n",
    "* Corresponding lecture notebooks: [00GettingStartedR](../Lecture/01Basics/00GettingStartedR.ipynb) and section *Vectors* from [02DataTypes](../Lecture/01Basics/02DataTypes.ipynb)"
   ]
  },
  {
   "cell_type": "markdown",
   "metadata": {},
   "source": [
    "## To be submitted:\n",
    "* this notebook, enhanced with the solutions to the questions. Your solution should contain \n",
    "    * the implemented code in code-cells, \n",
    "    * the output of this code \n",
    "    * and optionally your remarks, discussion, comments on the solution in markdown-cells."
   ]
  },
  {
   "cell_type": "markdown",
   "metadata": {},
   "source": [
    "## Tasks\n",
    "1. Create a vector `r` with integers from 1 to 10\n",
    "2. Access and display the\n",
    "    1. first element\n",
    "    2. the fifth element \n",
    "    3. elements at positions 6-9\n",
    "3. Assume that the elements of vector `r` are radiuses of circles. \n",
    "    1. Create a vector `c`, whose elements are the circumferences of circles with radiuses from `r`.\n",
    "    2. Create a vector `a`, whose elements are the surface areas of circles with radiuses from `r`.\n",
    "    \n",
    "   Apply `help()` and `apropos()` in order to find out how to use $\\pi$ in R.\n"
   ]
  },
  {
   "cell_type": "code",
   "execution_count": null,
   "metadata": {
    "collapsed": true
   },
   "outputs": [],
   "source": []
  }
 ],
 "metadata": {
  "kernelspec": {
   "display_name": "R [conda env:condatascience]",
   "language": "R",
   "name": "conda-env-condatascience-r"
  },
  "language_info": {
   "codemirror_mode": "r",
   "file_extension": ".r",
   "mimetype": "text/x-r-source",
   "name": "R",
   "pygments_lexer": "r",
   "version": "3.3.2"
  },
  "nav_menu": {},
  "toc": {
   "navigate_menu": true,
   "number_sections": true,
   "sideBar": true,
   "threshold": 6,
   "toc_cell": false,
   "toc_section_display": "block",
   "toc_window_display": false
  }
 },
 "nbformat": 4,
 "nbformat_minor": 2
}

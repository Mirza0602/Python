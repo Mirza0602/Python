{
 "cells": [
  {
   "cell_type": "markdown",
   "metadata": {},
   "source": [
    "# Exercises on Dataframes in R\n",
    "* Author: Johannes Maucher\n",
    "* Last Update: 21.09.2017\n",
    "* Corresponding lecture notebook: [01OperationsOnDataframes](../Lecture/02DataManagement/01OperationsOnDataframes.ipynb)"
   ]
  },
  {
   "cell_type": "markdown",
   "metadata": {},
   "source": [
    "## To be submitted:\n",
    "* this notebook, enhanced with the solutions to the questions. Your solution should contain \n",
    "    * the implemented code in code-cells, \n",
    "    * the output of this code\n",
    "    * the answers on the questions in mark-down cells\n",
    "    * and optionally your remarks, discussion, comments on the solution in markdown-cells."
   ]
  },
  {
   "cell_type": "markdown",
   "metadata": {},
   "source": [
    "## Tasks\n",
    "\n"
   ]
  },
  {
   "cell_type": "markdown",
   "metadata": {},
   "source": [
    "1. Read data from [lobbyPediaParteispenden.csv](../Lecture/data/lobbyPediaParteispenden.csv) into an R dataframe. This file is a dump of the [Lobbypedia Database](https://lobbypedia.de/wiki/Hauptseite), which contains all donations of more than 10000.- Euros to German political parties. \n",
    "2. Remove the columns `Bundesland`, `Branche` and `Schlagworte`, since these columns contain no data. Determine the number of rows and columns in the resulting dataframe and display it's head.\n",
    "3. Transform the values in column `Betrag` into a numeric representation. This can be done by removing all characters behind the `,` (i.e. decimal places and the Euro-Sign are cut) and converting the type of this pruned character into numeric. Implement this transformation of the dataframe-values by defining a corresponding function, which is then used by the `sapply()`-function. \n",
    "4. Transform the party-names in column `Empfänger`, such that they only contain alpha-numeric characters. I.e. whitespaces and slashes shall be removed. This can be done efficiently by the `gsub()`-function with the regular expression `\\\\W` assigned to the `pattern`-argument. Implement this transformation of the dataframe-values by defining a corresponding function, which is then used by the `sapply()`-function. Note that after this transformation the column `Empfänger` shall again be a factor-variable, not a character.\n",
    "4. Calculate and display the summary of univariate descriptive statistics on this dataframe and answer the following questions:\n",
    "    1. Which company raises the most donations (number of donations, not amount)?\n",
    "    2. Which party receives the most donations (number of donations, not amount)?\n",
    "    3. What is the minimum, maximum and mean-value of party-donations?\n",
    "5. Write a function, which returns for an arbitrary party the sum, min, max and mean-value of donations received. The functions arguments shall be the name of a party and the dataframe as constructed in the previous subtasks. Moreover, a third argument `onlySum` shall be implemented. If this argument is `TRUE`, the function shall return not all descriptive statistics, but only the sum.\n",
    "Call this function for all parties in the dataframe. Which party received the highest amount of donations?\n",
    "\n",
    "6. A new dataframe, which lists for each donator (Geldgeber) the sum of all donations and the distribution of the donations across the parties, shall be created. This dataframe allows comfortable answers on questions like \n",
    " * *Which companies are the strongest donators?*  \n",
    " * *Which parties do they support?*. \n",
    " \n",
    " The structure of the dataframe shall be as in the image below. Each row corresponds to a donator company (Geldgeber). The column-entries are the amounts of spendings (in Euro) for the different parties. The dataframe shall be ordered according to the values in column *Sum*.\n",
    "\n",
    "7. Save the dataframe to a file `donationsPerCompany.csv`."
   ]
  },
  {
   "cell_type": "code",
   "execution_count": null,
   "metadata": {
    "collapsed": true
   },
   "outputs": [],
   "source": []
  },
  {
   "cell_type": "markdown",
   "metadata": {
    "collapsed": true
   },
   "source": [
    "![Screenshot Donators Data Frame](../../Pics/donatorDF.PNG)"
   ]
  },
  {
   "cell_type": "code",
   "execution_count": null,
   "metadata": {
    "collapsed": true
   },
   "outputs": [],
   "source": []
  }
 ],
 "metadata": {
  "anaconda-cloud": {},
  "kernelspec": {
   "display_name": "R [conda env:condatascience]",
   "language": "R",
   "name": "conda-env-condatascience-r"
  },
  "language_info": {
   "codemirror_mode": "r",
   "file_extension": ".r",
   "mimetype": "text/x-r-source",
   "name": "R",
   "pygments_lexer": "r",
   "version": "3.4.1"
  },
  "nav_menu": {},
  "toc": {
   "nav_menu": {},
   "number_sections": true,
   "sideBar": true,
   "skip_h1_title": false,
   "toc_cell": false,
   "toc_position": {},
   "toc_section_display": "block",
   "toc_window_display": false
  }
 },
 "nbformat": 4,
 "nbformat_minor": 2
}

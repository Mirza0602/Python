{
 "cells": [
  {
   "cell_type": "markdown",
   "metadata": {},
   "source": [
    "# Exercises on Basic Visualisations in R\n",
    "* Author: Johannes Maucher\n",
    "* Last Update: 13.09.2017\n",
    "* Corresponding lecture notebook: [04Visualisation](../Lecture/01Basics/04Visualisation.ipynb)"
   ]
  },
  {
   "cell_type": "markdown",
   "metadata": {},
   "source": [
    "## To be submitted:\n",
    "* this notebook, enhanced with the solutions to the questions. Your solution should contain \n",
    "    * the implemented code in code-cells, \n",
    "    * the output of this code\n",
    "    * Answers on questions in mark-down cells\n",
    "    * and optionally your remarks, discussion, comments on the solution in markdown-cells."
   ]
  },
  {
   "cell_type": "markdown",
   "metadata": {},
   "source": [
    "## Tasks\n",
    "1. Read data from [HRV data .csv file](../Lecture/data/spikeeHRVjm.csv). In order to configure the arguments of [`read.csv()`](https://stat.ethz.ch/R-manual/R-devel/library/utils/html/read.table.html), first the file should be inspected in a text-editor. This file contains short-time ECG-recordings of a person. The columns of the file contain different HRV-parameters (Heart Rate Variability). These parameters indicate the state of the Autonomic Nervous System (ANS) and can be interpreted as markers for physical fitness. \n",
    "2. Calculate summary statistics of the imported HRV-data. What is the mean value of the average heartrate (Avg.HR)?\n",
    "3. For all numeric columns, plot a histogram of the column values. The set of all histograms shall be arranged in a grid with two columns. Configure the graphical parameter `mai`-such that the histograms are well aranged. In each histogram the title shall contain the parameter-name. Then the label for the x-axis can be ommitted. Plot each histogram in a different color from an arbitrary *Brewer*-color-palette.\n",
    "4. Find a plot, which allows a fast visual investigation of correlations between parameters. Generate such a visualisation in order to analyse the correlation between\n",
    "\n",
    "    1. Avg.HR and RMSSD\n",
    "    2. HF and RMSSD\n",
    "    3. HF and LF\n",
    "    \n",
    "  Which parameter pairs correlate and how?\n",
    "5. Plot the time-series data of RMSSD over the ID.\n",
    "6. The code `ma <- function(x,n=5){filter(x,rep(1/n,n), sides=2)}` implements a *moving average filter* of length $n=5$. Apply this function to the RMSSD time-series data and plot the smoothed data over the ID. Repeat this experiment for filter lengths of $n=11$ and $n=21$.\n"
   ]
  },
  {
   "cell_type": "code",
   "execution_count": null,
   "metadata": {
    "collapsed": true
   },
   "outputs": [],
   "source": []
  }
 ],
 "metadata": {
  "anaconda-cloud": {},
  "kernelspec": {
   "display_name": "R [conda env:condatascience]",
   "language": "R",
   "name": "conda-env-condatascience-r"
  },
  "language_info": {
   "codemirror_mode": "r",
   "file_extension": ".r",
   "mimetype": "text/x-r-source",
   "name": "R",
   "pygments_lexer": "r",
   "version": "3.4.1"
  },
  "nav_menu": {},
  "toc": {
   "nav_menu": {
    "height": "64px",
    "width": "253px"
   },
   "navigate_menu": true,
   "number_sections": true,
   "sideBar": true,
   "threshold": 6,
   "toc_cell": false,
   "toc_section_display": "block",
   "toc_window_display": false
  }
 },
 "nbformat": 4,
 "nbformat_minor": 2
}

{
 "cells": [
  {
   "cell_type": "markdown",
   "metadata": {},
   "source": [
    "# Exercises on Control Structures in R\n",
    "* Author: Johannes Maucher\n",
    "* Last Update: 18.09.2017\n",
    "* Corresponding lecture notebook: [05ControlStructures](../Lecture/01Basics/05ControlStructures.ipynb)"
   ]
  },
  {
   "cell_type": "markdown",
   "metadata": {},
   "source": [
    "## To be submitted:\n",
    "* this notebook, enhanced with the solutions to the questions. Your solution should contain \n",
    "    * the implemented code in code-cells, \n",
    "    * the output of this code\n",
    "    * Answers on questions in mark-down cells\n",
    "    * and optionally your remarks, discussion, comments on the solution in markdown-cells."
   ]
  },
  {
   "cell_type": "markdown",
   "metadata": {},
   "source": [
    "## Tasks\n",
    "\n"
   ]
  },
  {
   "cell_type": "markdown",
   "metadata": {
    "collapsed": true
   },
   "source": [
    "1. In the following tasks the concepts of representing dates and times in R are required. Study [Documentation on Dates and Time in R](https://www.stat.berkeley.edu/~s133/dates.html) before processing the tasks below.\n",
    "1. Read data from [exampleDateTime.csv](../Lecture/data/exampleDateTime.csv) into a dataframe. \n",
    "2. Iterate over the first column (Date) and check for each date, if it is a weekend-day. Output (print()) for each date the result of this check. \n",
    "3. Iterate over the first column (Date) and count how often each weekday appears in the data. Use a `switch`-construct to implement this functionality.\n",
    "4. Iterate over the first column (Date), determine for each pair of successive dates the number of days inbetween and output the maximum number of days between successive dates.\n",
    "5. Similar as in the previous task iterate over the rows and determine the maximum time inbetween a pair of successive rows. However, now not only the date shall be considered, but also the time. For this concatenate the entry in the date-column with the entry of the time-column and convert this concatenated string into a `POSIXct`-object. Output the maximum number of minutes inbetween 2 successive rows in the dataframe."
   ]
  },
  {
   "cell_type": "code",
   "execution_count": null,
   "metadata": {
    "collapsed": true
   },
   "outputs": [],
   "source": []
  }
 ],
 "metadata": {
  "kernelspec": {
   "display_name": "R [conda env:condatascience]",
   "language": "R",
   "name": "conda-env-condatascience-r"
  },
  "language_info": {
   "codemirror_mode": "r",
   "file_extension": ".r",
   "mimetype": "text/x-r-source",
   "name": "R",
   "pygments_lexer": "r",
   "version": "3.3.2"
  },
  "nav_menu": {},
  "toc": {
   "navigate_menu": true,
   "number_sections": true,
   "sideBar": true,
   "threshold": 6,
   "toc_cell": false,
   "toc_section_display": "block",
   "toc_window_display": false
  }
 },
 "nbformat": 4,
 "nbformat_minor": 2
}

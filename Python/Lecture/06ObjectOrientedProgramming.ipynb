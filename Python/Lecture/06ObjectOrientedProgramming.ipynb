{
 "cells": [
  {
   "cell_type": "markdown",
   "metadata": {},
   "source": [
    "[Back to Lecture Overview](Overview.ipynb)"
   ]
  },
  {
   "cell_type": "markdown",
   "metadata": {},
   "source": [
    "# Object Oriented Programming in Python\n",
    "* Author: Johannes Maucher\n",
    "* Last Update: 11.07.2017"
   ]
  },
  {
   "cell_type": "markdown",
   "metadata": {},
   "source": [
    "<figure align=\"center\">\n",
    "<img width=\"800\" src=\"https://maucher.home.hdm-stuttgart.de/Pics/DS_Python_OOP_All.png\">\n",
    "</figure>"
   ]
  },
  {
   "cell_type": "markdown",
   "metadata": {},
   "source": [
    "In the [lecture on functions](#05Functions) the motivation for a **modular software design** has already been described: A modular design increases readability, reliability, maintainability and thus the general quality of the software. Splitting code in smaller reusable and manageable functions is one way to realize modularity. An other, more elaborated and more comprehensive approach is **object oriented programing (OOP)**. An object oriented software design consists of *objects* that interact with one another. Actually, objects are not defined itself, but *classes*. **A class can be considered as a blueprint and objects are concrete instances of these blueprints**. An arbitrary number of objects of a given class can exist in the program. Objects have\n",
    "* a **type**: this is the class from which they are instantiated\n",
    "* **data**, which is stored in the objects **attributes**\n",
    "* **functions**: These functions, defined inside classes, are called **methods**. They can access and/or modify the attributes of the same object and of **associated objects** .\n",
    "\n",
    "Actually in Python all datatypes are objects. For example strings have a certain definition for the class `string`, this defintion contains attributes (the data, which is stored in a string-variable) and functions, that operate on this data. In the first line of the following code-cell an object of class `string` is instantiated. In the second line a method, defined for this class is called and the third line provides the class-name, of the object, refered by `myString`."
   ]
  },
  {
   "cell_type": "code",
   "execution_count": 2,
   "metadata": {
    "ExecuteTime": {
     "end_time": "2017-09-28T06:50:59.351000Z",
     "start_time": "2017-09-28T06:50:59.351000Z"
    }
   },
   "outputs": [
    {
     "name": "stdout",
     "output_type": "stream",
     "text": [
      "2\n",
      "<class 'str'>\n"
     ]
    }
   ],
   "source": [
    "myString=str(\"This is my text\") #A short-cut of this is just myString=\"This is my text\"\n",
    "print(myString.count('i'))\n",
    "print(type(myString))"
   ]
  },
  {
   "cell_type": "markdown",
   "metadata": {},
   "source": [
    "From this point of view, object oriented programming allows the definiton of arbitrary types (aka classes) by the user. Python standard types are just classes, that have already been defined by the Python developers. \n",
    "\n",
    "A user-defined type (=class) could for example be a class `Person` "
   ]
  },
  {
   "cell_type": "markdown",
   "metadata": {},
   "source": [
    "<figure align=\"center\">\n",
    "<img width=\"200\" src=\"https://maucher.home.hdm-stuttgart.de/Pics/umlClassPerson.png\">\n",
    "</figure>"
   ]
  },
  {
   "cell_type": "markdown",
   "metadata": {},
   "source": [
    "Objects of this class have the attributes (=data) `name`, `address`, `age` and `friends`. Methods that can operate on this data are for examle `connectFriend()`, `getFriends()`, `getName()`, etc. Below it will be shown how such classes are defined and how objects of this can be generated."
   ]
  },
  {
   "cell_type": "markdown",
   "metadata": {},
   "source": [
    "## Definition of classes\n",
    "### Head Line of Class Definiton\n",
    "In Python classes are defined in files with the extension *.py*. These files are called *modules* and can contain the definitions of one or more classes and/or one or more functions. \n",
    "\n",
    "The definition of a class starts with the keyword `class`, followed by the name of the class and a colon:\n",
    "```\n",
    "class myFirstClass:\n",
    "```"
   ]
  },
  {
   "cell_type": "markdown",
   "metadata": {},
   "source": [
    "As will be shown later, classes can be inherited from other classes (the concept of inheritance is described in [subsection Inheritance](#Inheritance)) In this case the name of the class is followed by the name of the class(es) from which it is inherited:\n",
    "```\n",
    "class myFirstClass(nameOfParent1,nameOfParent2,...):\n",
    "```\n",
    "In Python all classes are inherited from the root-class `object`. This can be made explicit by writing the head line of classes, which do not inherit from other classes as follows:\n",
    "```\n",
    "class myFirstClass(object):\n",
    "```"
   ]
  },
  {
   "cell_type": "markdown",
   "metadata": {},
   "source": [
    "The head line of the class-definition is followed by it's body. The body contains the definition of attributes and methods and must be indented. \n",
    "In the development process one often specifies the name of the classes, but cares only later for the concrete implementation (attributes and methods). In this case the definition of a head line alone would cause a *syntax error* if the file is compiled. However, the keyword `pass` can be applied to prevent this error. The code\n",
    "\n",
    "```\n",
    "class myFirstClass:\n",
    "    pass\n",
    "```\n",
    "does not yield a syntax error. The keyword `pass` can not only be applied for incomplete class-definitions but also for other constructs such as functions, methods, loops, etc. \n"
   ]
  },
  {
   "cell_type": "markdown",
   "metadata": {},
   "source": [
    "### Methods\n",
    "Methods are functions, that are defined within a class-definition. This means that they can be called only for objects of this class. Methods are visible and accessible for objects of classes within they are defined. From outside the method can only be called over a reference to an object of this class, if the method is declared to be `public`. Methods, which are declared to be `private` can not be accessed from outside.\n",
    "\n",
    "In Python the first argument in the argument-list of each method must be `self`. Via `self` the method gets a reference to the object for which it is called. In the following code-cell a class with two methods, which are not yet specified, is defined:"
   ]
  },
  {
   "cell_type": "code",
   "execution_count": 4,
   "metadata": {
    "ExecuteTime": {
     "end_time": "2017-09-28T07:51:16.562000Z",
     "start_time": "2017-09-28T07:51:16.547000Z"
    }
   },
   "outputs": [],
   "source": [
    "class myFirstClass:\n",
    "    def method1(self,arg1,arg2):\n",
    "        pass\n",
    "    def method2(self,arg1,arg2,arg3):\n",
    "        pass"
   ]
  },
  {
   "cell_type": "markdown",
   "metadata": {},
   "source": [
    "### Attributes\n",
    "Attributes are variables, which are defined inside a class definition. There are two types of attributes: \n",
    "1. **Instance Attributes** (or: Object Variables) are variables which can have different values for all objects of a class. For example a class `Person` may have the instance attribute `age`. Each object of this class (modell of a concrete person) has it's own age-value. Object variables are owned by each individual object, i.e. each object has its own copy of the variable.\n",
    "2. **Class Attribures** are shared by all objects (instances) of a given class. They can be accessed and changed by any object of the class. If one object modifies the value of a class attribute, all other objects of the same class see the same modified value. For example `person_count` may be a class-attribute of the class `Person`. If this attribute is incremented whenever a new person object is instantiated, all person objects know how much persons currently exists.\n",
    "\n",
    "Usually there exists many instance attributes but no, or only a few class attributes. Instance attributes are defined within the `__init__()`-method (=*constuctor* of the class; see below) of the class. The name of each instance attribute must be preceded by `self.` Class attributes are defined at the top of the class-definition body.  "
   ]
  },
  {
   "cell_type": "markdown",
   "metadata": {},
   "source": [
    "### Constructor and Destructor\n",
    "If a new object of a defined class is instantiated, a set of object-specific instance-attributes is generated and initialized for this object. This process is performed in a specific method - the **constructor**. In Python this constructor is specified in the `__init()__`-method, whose head line is:\n",
    "```\n",
    "def __init__(self):\n",
    "```\n",
    "As with other methods, this head line is followed by the indented body of the method. The body of the constructor assigns and initializes instance-variables. For example if the class `Persons` has the instance attributes `name`, `age` and `address`, the constructor of the class could be:\n",
    "```\n",
    "def __init__(self):\n",
    "    self.age=0\n",
    "    self.name=\"\"\n",
    "    self.address=\"\"\n",
    "```\n",
    "The `__init__()`-method is private and can not be called from outside. Actually it is called automatically if a new object is instantiated. As for other methods, a set of arguments can be defined for the `__init__()`-method. At object-instantiation concrete parameters are passed to these arguments. Typically these parameters define the intial-values of the instance-variables. Key-word arguments and default-values can be applied in the same way as for all other methods. In the case of the `Person`-class a suitable constructor would be\n",
    "\n",
    "```\n",
    "def __init__(self,ageInit,nameInit,addressInit):\n",
    "    self.age=ageInit\n",
    "    self.name=nameInit\n",
    "    self.address=addressInit\n",
    "```\n",
    "\n",
    "A concrete `Person`-object could then be instantiated as follows:\n",
    "\n",
    "```\n",
    "ben=Person(ageInit=29,nameInit=\"Ben Miller\", addressInit=\"29th High Street, Brighton\")\n",
    "```"
   ]
  },
  {
   "cell_type": "markdown",
   "metadata": {},
   "source": [
    "> **Note:** Strictly speaking the `__init__()`-method in Python is not a constructor as available in other programming languages. But it behaves similar as these constructors. The difference is, that in Python the object is already constructed at the time where the `__init__()`-method is executed. A *true* constructor generates the objects itself. "
   ]
  },
  {
   "cell_type": "markdown",
   "metadata": {
    "collapsed": true
   },
   "source": [
    "As with constructors Python also doesn't have a *real* destructor, but something that behaves similar to destructors. This is the `__del__()`-function. This method is called when an object is about to be destroyed. A typical routine implemented in a destructor is to decrement the object counter of its class, if such a counter is implemented as class-attribute.\n",
    "\n",
    "A `Person`-class with class-variable `person_counter`, a constructor and a destructor could be implemented as follows:"
   ]
  },
  {
   "cell_type": "code",
   "execution_count": 5,
   "metadata": {
    "ExecuteTime": {
     "end_time": "2017-09-28T07:51:36.144000Z",
     "start_time": "2017-09-28T07:51:36.118000Z"
    }
   },
   "outputs": [],
   "source": [
    "class Person(object):\n",
    "    person_counter=0\n",
    "    def __init__(self,ageInit,nameInit,addressInit):\n",
    "        self.age=ageInit\n",
    "        self.name=nameInit\n",
    "        self.address=addressInit\n",
    "        Person.person_counter+=1\n",
    "        print(\"Person Object generated\")\n",
    "        \n",
    "    def setAddress(self,address):\n",
    "        self.address=addressInit\n",
    "    \n",
    "    def setAge(self,age):\n",
    "        self.age=age\n",
    "        \n",
    "    def __del__(self):\n",
    "        Person.person_counter-=1\n",
    "        print(\"Person Object deleted\")"
   ]
  },
  {
   "cell_type": "markdown",
   "metadata": {},
   "source": [
    "Objects of this class can be instantiated as follows:  "
   ]
  },
  {
   "cell_type": "code",
   "execution_count": 6,
   "metadata": {
    "ExecuteTime": {
     "end_time": "2017-09-28T07:51:39.953000Z",
     "start_time": "2017-09-28T07:51:39.953000Z"
    }
   },
   "outputs": [
    {
     "name": "stdout",
     "output_type": "stream",
     "text": [
      "Person Object generated\n",
      "Person Object generated\n",
      "30\n"
     ]
    }
   ],
   "source": [
    "ben=Person(ageInit=29,nameInit=\"Ben Miller\", addressInit=\"29th High Street, Brighton\")\n",
    "peter=Person(ageInit=23,nameInit=\"Peter Boyd\", addressInit=\"5th Avenue, New York\")\n",
    "ceo=ben\n",
    "ben.setAge(30)\n",
    "print(ceo.age)"
   ]
  },
  {
   "cell_type": "code",
   "execution_count": 7,
   "metadata": {
    "ExecuteTime": {
     "end_time": "2017-09-28T07:51:46.641000Z",
     "start_time": "2017-09-28T07:51:46.641000Z"
    }
   },
   "outputs": [
    {
     "name": "stdout",
     "output_type": "stream",
     "text": [
      "2\n"
     ]
    }
   ],
   "source": [
    "print(Person.person_counter)"
   ]
  },
  {
   "cell_type": "markdown",
   "metadata": {},
   "source": [
    "Instance attributes of a `Person`-object and the class attribute `person_counter`-can be accessed as follows:"
   ]
  },
  {
   "cell_type": "code",
   "execution_count": 8,
   "metadata": {
    "ExecuteTime": {
     "end_time": "2017-09-28T07:52:00.076000Z",
     "start_time": "2017-09-28T07:52:00.061000Z"
    }
   },
   "outputs": [
    {
     "name": "stdout",
     "output_type": "stream",
     "text": [
      "30\n",
      "Ben Miller\n",
      "29th High Street, Brighton\n",
      "2\n",
      "<class '__main__.Person'>\n"
     ]
    }
   ],
   "source": [
    "print(ben.age)\n",
    "print(ben.name)\n",
    "print(ben.address)\n",
    "print(Person.person_counter)\n",
    "print(type(ben))"
   ]
  },
  {
   "cell_type": "markdown",
   "metadata": {},
   "source": [
    "Using the `del`-command, objects can be deleted. Note that an object is deleted only if all references to this object are deleted."
   ]
  },
  {
   "cell_type": "code",
   "execution_count": 9,
   "metadata": {
    "ExecuteTime": {
     "end_time": "2017-09-28T07:52:10.766000Z",
     "start_time": "2017-09-28T07:52:10.766000Z"
    }
   },
   "outputs": [],
   "source": [
    "del ben"
   ]
  },
  {
   "cell_type": "code",
   "execution_count": 10,
   "metadata": {
    "ExecuteTime": {
     "end_time": "2017-09-28T07:52:13.210000Z",
     "start_time": "2017-09-28T07:52:13.210000Z"
    }
   },
   "outputs": [
    {
     "name": "stdout",
     "output_type": "stream",
     "text": [
      "2\n"
     ]
    }
   ],
   "source": [
    "print(Person.person_counter)"
   ]
  },
  {
   "cell_type": "code",
   "execution_count": 11,
   "metadata": {
    "ExecuteTime": {
     "end_time": "2017-09-28T07:52:18.531000Z",
     "start_time": "2017-09-28T07:52:18.515000Z"
    }
   },
   "outputs": [
    {
     "name": "stdout",
     "output_type": "stream",
     "text": [
      "Person Object deleted\n"
     ]
    }
   ],
   "source": [
    "del ceo"
   ]
  },
  {
   "cell_type": "code",
   "execution_count": 12,
   "metadata": {
    "ExecuteTime": {
     "end_time": "2017-09-28T07:52:20.726000Z",
     "start_time": "2017-09-28T07:52:20.711000Z"
    }
   },
   "outputs": [
    {
     "name": "stdout",
     "output_type": "stream",
     "text": [
      "1\n",
      "Person Object deleted\n",
      "0\n"
     ]
    }
   ],
   "source": [
    "print(Person.person_counter)\n",
    "del peter\n",
    "print(Person.person_counter)"
   ]
  },
  {
   "cell_type": "markdown",
   "metadata": {},
   "source": [
    ">**Question:** Why does `del ben` not yield an object-deletion? When is this object deleted?"
   ]
  },
  {
   "cell_type": "markdown",
   "metadata": {
    "ExecuteTime": {
     "end_time": "2017-07-12T05:42:55.438000Z",
     "start_time": "2017-07-12T07:42:55.438000+02:00"
    }
   },
   "source": [
    "## Encapsulation"
   ]
  },
  {
   "cell_type": "markdown",
   "metadata": {},
   "source": [
    "Encapsulation is an object-oriented programming concept that binds together the data and functions, that manipulate the data, and that keeps both safe from outside interference and misuse. Data encapsulation led to the important OOP concept of data hiding. If a class does not allow calling code to access internal object data and permits access through methods only, this is a strong form of abstraction or information hiding known as encapsulation (Source: [https://en.wikipedia.org/wiki/Object-oriented_programming#Encapsulation](https://en.wikipedia.org/wiki/Object-oriented_programming#Encapsulation)).\n",
    "\n",
    "For managing access on internal data, attributes and methods can be declared to be either `public`, `private` or `protected`:\n",
    "\n",
    "* **public** attributes and methods are directly accessible from outside via a the reference on the object. E.g. in the example of the `Person`-class, as introduced above, all attributes are implicitly declared *public*. Attribute values can directly be accessed via a reference to the object, e.g. `ben.age` and methods can be called in the same way, e.g. `ben.setAge(30)`. In Python all attributes and methods, whose name do not start with an underscore `_` are implicitly declared to be public. \n",
    "* **private** attributes and methods cannot be accessed directly from outside. All attributes and methods, whose name start with a double underscore `__` are implicitly declared to be private. \n",
    "* **protected** attributes and methods are declared implicitily by prefixing a single underscore `_`. However, this is just a convention, which shall remind developers not to access these attributes and methods directly. Technically it is the same as *public*.\n"
   ]
  },
  {
   "cell_type": "markdown",
   "metadata": {},
   "source": [
    "Below a new class `User` is defind. This class contains two *private* attributes `__username` and `__pw`. These two attributes cannot be accessed directly from outside. Indirectly the values of these attributes can be set from outside via the public method `setAccount()`."
   ]
  },
  {
   "cell_type": "code",
   "execution_count": 13,
   "metadata": {
    "ExecuteTime": {
     "end_time": "2017-09-28T07:55:37.437000Z",
     "start_time": "2017-09-28T07:55:37.421000Z"
    }
   },
   "outputs": [],
   "source": [
    "class User(object):\n",
    "    person_counter=0\n",
    "    def __init__(self,ageInit,nameInit,addressInit,username=\"\",pw=\"\"):\n",
    "        self.age=ageInit\n",
    "        self.name=nameInit\n",
    "        self.address=addressInit\n",
    "        self.__username=username\n",
    "        self.__pw=pw\n",
    "        type(self).person_counter+=1\n",
    "        print(\"User Object generated\")\n",
    "    \n",
    "    def setAccount(self,username,pw):\n",
    "        self.__username=username\n",
    "        self.__pw=pw\n",
    "        \n",
    "    def __del__(self):\n",
    "        type(self).person_counter-=1\n",
    "        print(\"User Object deleted\")"
   ]
  },
  {
   "cell_type": "markdown",
   "metadata": {},
   "source": [
    "Generate instances of class `User`:"
   ]
  },
  {
   "cell_type": "code",
   "execution_count": 14,
   "metadata": {
    "ExecuteTime": {
     "end_time": "2017-09-28T07:56:08.879000Z",
     "start_time": "2017-09-28T07:56:08.879000Z"
    }
   },
   "outputs": [
    {
     "name": "stdout",
     "output_type": "stream",
     "text": [
      "User Object generated\n",
      "User Object generated\n"
     ]
    }
   ],
   "source": [
    "ben=User(ageInit=29,nameInit=\"Ben Miller\", addressInit=\"29th High Street, Brighton\")\n",
    "peter=User(ageInit=23,nameInit=\"Peter Boyd\", addressInit=\"5th Avenue, New York\")"
   ]
  },
  {
   "cell_type": "markdown",
   "metadata": {},
   "source": [
    "Call method `setAccount()` to set `__username` and `__pw`:"
   ]
  },
  {
   "cell_type": "code",
   "execution_count": 15,
   "metadata": {
    "ExecuteTime": {
     "end_time": "2017-09-28T07:57:10.502000Z",
     "start_time": "2017-09-28T07:57:10.487000Z"
    }
   },
   "outputs": [],
   "source": [
    "ben.setAccount('userben','123')"
   ]
  },
  {
   "cell_type": "markdown",
   "metadata": {},
   "source": [
    "Try to access a private attribute directly from outside yields an error:"
   ]
  },
  {
   "cell_type": "code",
   "execution_count": 16,
   "metadata": {
    "ExecuteTime": {
     "end_time": "2017-09-28T07:57:21.930000Z",
     "start_time": "2017-09-28T07:57:21.805000Z"
    }
   },
   "outputs": [
    {
     "ename": "AttributeError",
     "evalue": "'User' object has no attribute '__username'",
     "output_type": "error",
     "traceback": [
      "\u001b[0;31m---------------------------------------------------------------------------\u001b[0m",
      "\u001b[0;31mAttributeError\u001b[0m                            Traceback (most recent call last)",
      "\u001b[0;32m<ipython-input-16-b574e38aa28e>\u001b[0m in \u001b[0;36m<module>\u001b[0;34m()\u001b[0m\n\u001b[0;32m----> 1\u001b[0;31m \u001b[0mprint\u001b[0m\u001b[0;34m(\u001b[0m\u001b[0mben\u001b[0m\u001b[0;34m.\u001b[0m\u001b[0m__username\u001b[0m\u001b[0;34m)\u001b[0m\u001b[0;34m\u001b[0m\u001b[0m\n\u001b[0m",
      "\u001b[0;31mAttributeError\u001b[0m: 'User' object has no attribute '__username'"
     ]
    }
   ],
   "source": [
    "print(ben.__username)"
   ]
  },
  {
   "cell_type": "markdown",
   "metadata": {},
   "source": [
    ">**Question:** Compare the two classes `Person` and `User`. How are they related. Is it efficient to define classes, which are related in this way in a totally independent manner? How can it be improved?"
   ]
  },
  {
   "cell_type": "markdown",
   "metadata": {
    "collapsed": true
   },
   "source": [
    "## Inheritance\n",
    "In the example above a class `User` has been defined, which is a **specification** of the class `Person`. There exists a **is-a**-relation between the classes: a `User` is a `Person`. Whenever, classes are related in this way it is inefficient to implement them independently, as in the example above. It is much more efficient to exploit the concept of inheritance in such cases. This concept allows to define in the more specific class only the attributes and methods, in which it differs from the more general class. All attributes and methods, which are contained in both classes must only be defined in the general class. The more general class, from which the more specific class inherits is called the **super-class**, and the more specific class is called the **sub-class**.\n",
    "\n",
    "In Python there exists a root class, called `object`, from which all other classes are inherited. The complete inheritance relations of the example in this subsection can be visualized by the following UML-diagram: \n"
   ]
  },
  {
   "cell_type": "code",
   "execution_count": null,
   "metadata": {
    "ExecuteTime": {
     "end_time": "2017-08-11T14:03:21.197000Z",
     "start_time": "2017-08-11T16:03:21.188000+02:00"
    }
   },
   "outputs": [],
   "source": [
    "Image(filename=\"../../Pics/umlClassInheritance.png\")"
   ]
  },
  {
   "cell_type": "markdown",
   "metadata": {},
   "source": [
    "As already mentioned above, in the definition of a class, which inherits from another class, the name of the super-class must be written into the parenthesis after the name of the current class. For example:\n",
    "```\n",
    "class myFirstClass(nameOfParent):\n",
    "```\n",
    "Here, we just consider the case of simple inheritance, i.e. a class inherits only from one direct super-class. However, Python supports multiple inheritance. Then the name of all direct super-classes must be written into the parenthesis of the definition's head line.\n",
    "\n",
    "In sub-classes methods of super-classes can be **overwritten**. This means that in both classes methods with the same name, but distinct implementations can be defined. In this case the implementation as defined in the **sub-class** overwrites the implementation of the superclass, i.e. the implementation in the super-class is ignored. In the following definition of class `UserD` the definition of the `__init__()`-method from the super-class `Person` is overwritten, but within the  `__init__()`-method of the sub-class, the `__init__()`-method of the super-class is called (similar for the `__del__()`-method).\n"
   ]
  },
  {
   "cell_type": "code",
   "execution_count": null,
   "metadata": {
    "ExecuteTime": {
     "end_time": "2017-09-28T07:59:50.728000Z",
     "start_time": "2017-09-28T07:59:50.712000Z"
    }
   },
   "outputs": [],
   "source": [
    "class UserD(Person):\n",
    "    userD_counter=0\n",
    "    def __init__(self,ageInit,nameInit,addressInit,username=\"\",pw=\"\"):\n",
    "        self.__username=username\n",
    "        self.__pw=pw\n",
    "        Person.__init__(self,ageInit,nameInit,addressInit)\n",
    "        type(self).userD_counter+=1\n",
    "    \n",
    "    def setAccount(self,username,pw,token=\"\"):\n",
    "        if token==\"1234\":\n",
    "            self.__username=username\n",
    "            self.__pw=pw\n",
    "        else:\n",
    "            return \"Edit Permission Denied\"\n",
    "        \n",
    "    def getAccount(self,token=\"\"):\n",
    "        if token==\"1234\": #only users with valid token can query credentials\n",
    "            return self.__username, self.__pw\n",
    "        else:\n",
    "            return \"Query Permission Denied\"\n",
    "        \n",
    "    def __del__(self):\n",
    "        type(self).userD_counter-=1\n",
    "        Person.__del__(self)"
   ]
  },
  {
   "cell_type": "code",
   "execution_count": null,
   "metadata": {
    "ExecuteTime": {
     "end_time": "2017-09-28T07:59:55.133000Z",
     "start_time": "2017-09-28T07:59:55.133000Z"
    }
   },
   "outputs": [],
   "source": [
    "ben=UserD(ageInit=29,nameInit=\"Ben Miller\", addressInit=\"29th High Street, Brighton\")\n",
    "peter=UserD(ageInit=23,nameInit=\"Peter Boyd\", addressInit=\"5th Avenue, New York\")"
   ]
  },
  {
   "cell_type": "code",
   "execution_count": null,
   "metadata": {
    "ExecuteTime": {
     "end_time": "2017-09-28T08:00:04.705000Z",
     "start_time": "2017-09-28T08:00:04.689000Z"
    }
   },
   "outputs": [],
   "source": [
    "print(ben.age)\n",
    "print(ben.name)\n",
    "print(ben.address)\n",
    "print(type(ben))"
   ]
  },
  {
   "cell_type": "code",
   "execution_count": null,
   "metadata": {
    "ExecuteTime": {
     "end_time": "2017-09-28T08:00:12.617000Z",
     "start_time": "2017-09-28T08:00:12.601000Z"
    }
   },
   "outputs": [],
   "source": [
    "print(UserD.userD_counter)\n",
    "print(Person.person_counter)"
   ]
  },
  {
   "cell_type": "code",
   "execution_count": null,
   "metadata": {
    "ExecuteTime": {
     "end_time": "2017-09-28T08:00:18.980000Z",
     "start_time": "2017-09-28T08:00:18.963000Z"
    }
   },
   "outputs": [],
   "source": [
    "print(ben.__username)"
   ]
  },
  {
   "cell_type": "code",
   "execution_count": null,
   "metadata": {
    "ExecuteTime": {
     "end_time": "2017-09-28T08:00:25.584000Z",
     "start_time": "2017-09-28T08:00:25.584000Z"
    }
   },
   "outputs": [],
   "source": [
    "ben.setAccount(\"bennyboy\",\"xyz\",'1234')"
   ]
  },
  {
   "cell_type": "code",
   "execution_count": null,
   "metadata": {
    "ExecuteTime": {
     "end_time": "2017-09-28T08:00:32.646000Z",
     "start_time": "2017-09-28T08:00:32.630000Z"
    }
   },
   "outputs": [],
   "source": [
    "ben.getAccount('1234')"
   ]
  },
  {
   "cell_type": "code",
   "execution_count": null,
   "metadata": {
    "ExecuteTime": {
     "end_time": "2017-09-28T08:00:38.505000Z",
     "start_time": "2017-09-28T08:00:38.490000Z"
    }
   },
   "outputs": [],
   "source": [
    "del peter,ben"
   ]
  },
  {
   "cell_type": "markdown",
   "metadata": {},
   "source": [
    "In the following subsection another class, `AccountManager` will be inherited from the class `Person`. The corresponding UML diagram is then:"
   ]
  },
  {
   "cell_type": "code",
   "execution_count": null,
   "metadata": {
    "ExecuteTime": {
     "end_time": "2017-09-28T08:01:30.094000Z",
     "start_time": "2017-09-28T08:01:30.079000Z"
    }
   },
   "outputs": [],
   "source": [
    "Image(filename=\"../../Pics/umlClassInheritance2.png\")"
   ]
  },
  {
   "cell_type": "markdown",
   "metadata": {},
   "source": [
    "## Association\n",
    "The concept of inheritance allows to efficiently derive more specific classes from more general classes. Inheritance always refers to **is-a**-relations between classes. \n",
    "\n",
    "However, this is not the only relevant relation type in UML. Classes and objects can be **associated** for example by a **has**-relation: An object of class A *has* one or more objects of class B.    \n",
    "\n",
    "This type of association is implemented in this subsection. First a class `AccountManager` is `inherited` from the `Person`-class. Each `AccountManager`-object shall be responsible for one or many `UserD`-objects. For this the `AccountManager` has a list, which stores the corresponding `UserD`-objects. Moreover, methods must be defined to add new and delete old `UserD`-objects.\n",
    "\n",
    "The **association** between a `AccountManager` and is `UserD`-objects is implemented by a reference (a list of references) in the `AccountManager`-object, which points to `UserD`-objects.  "
   ]
  },
  {
   "cell_type": "code",
   "execution_count": null,
   "metadata": {
    "ExecuteTime": {
     "end_time": "2017-09-28T08:01:58.407000Z",
     "start_time": "2017-09-28T08:01:58.391000Z"
    }
   },
   "outputs": [],
   "source": [
    "class AccountManager(Person):\n",
    "    accountManager_counter=0\n",
    "    def __init__(self,ageInit,nameInit,addressInit,username=\"\",pw=\"\"):\n",
    "        self.__customerList=[]\n",
    "        Person.__init__(self,ageInit,nameInit,addressInit)\n",
    "        type(self).accountManager_counter+=1\n",
    "    \n",
    "    def addCustomer(self,newUser):\n",
    "        if not newUser in self.__customerList:\n",
    "            self.__customerList.append(newUser)\n",
    "        else:\n",
    "            print(\"User already in list\")\n",
    "        \n",
    "    def delCustomer(self,User):\n",
    "        if User in self.__customerList:\n",
    "            self.__customerList.remove(User)\n",
    "        else:\n",
    "            print(\"Unknown user can not be deleted\")\n",
    "        \n",
    "    def getCustomerList(self):\n",
    "        return self.__customerList\n",
    "        \n",
    "    def __del__(self):\n",
    "        type(self).accountManager_counter-=1\n",
    "        Person.__del__(self)"
   ]
  },
  {
   "cell_type": "code",
   "execution_count": null,
   "metadata": {
    "ExecuteTime": {
     "end_time": "2017-09-28T08:02:09.935000Z",
     "start_time": "2017-09-28T08:02:09.919000Z"
    }
   },
   "outputs": [],
   "source": [
    "ben=UserD(ageInit=29,nameInit=\"Ben Miller\", addressInit=\"29th High Street, Brighton\")\n",
    "peter=UserD(ageInit=23,nameInit=\"Peter Boyd\", addressInit=\"5th Avenue, New York\")\n",
    "mrX=AccountManager(ageInit=23,nameInit=\"Peter Boyd\", addressInit=\"5th Avenue, New York\")"
   ]
  },
  {
   "cell_type": "code",
   "execution_count": null,
   "metadata": {
    "ExecuteTime": {
     "end_time": "2017-09-28T08:02:12.185000Z",
     "start_time": "2017-09-28T08:02:12.185000Z"
    }
   },
   "outputs": [],
   "source": [
    "print(UserD.userD_counter)\n",
    "print(AccountManager.accountManager_counter)\n",
    "print(Person.person_counter)"
   ]
  },
  {
   "cell_type": "markdown",
   "metadata": {},
   "source": [
    "Create association betwenn `AccountManger`-object and `UserD`-objects:"
   ]
  },
  {
   "cell_type": "code",
   "execution_count": null,
   "metadata": {
    "ExecuteTime": {
     "end_time": "2017-09-28T08:02:23.337000Z",
     "start_time": "2017-09-28T08:02:23.337000Z"
    }
   },
   "outputs": [],
   "source": [
    "mrX.addCustomer(ben)"
   ]
  },
  {
   "cell_type": "code",
   "execution_count": null,
   "metadata": {
    "ExecuteTime": {
     "end_time": "2017-09-28T08:02:31.005000Z",
     "start_time": "2017-09-28T08:02:30.989000Z"
    }
   },
   "outputs": [],
   "source": [
    "mrX.addCustomer(peter)"
   ]
  },
  {
   "cell_type": "code",
   "execution_count": null,
   "metadata": {
    "ExecuteTime": {
     "end_time": "2017-09-28T08:02:34.513000Z",
     "start_time": "2017-09-28T08:02:34.513000Z"
    }
   },
   "outputs": [],
   "source": [
    "cl = mrX.getCustomerList()\n",
    "print([c.name for c in cl])"
   ]
  },
  {
   "cell_type": "code",
   "execution_count": null,
   "metadata": {
    "ExecuteTime": {
     "end_time": "2017-09-28T08:02:38.389000Z",
     "start_time": "2017-09-28T08:02:38.373000Z"
    }
   },
   "outputs": [],
   "source": [
    "del mrX\n",
    "del ben\n",
    "del peter"
   ]
  },
  {
   "cell_type": "markdown",
   "metadata": {
    "collapsed": true
   },
   "source": [
    "## Exercises\n",
    "[Exercise on Object Oriented Programming in Python](../Assignments/Ass06ObjectOrientedProgramming.ipynb)"
   ]
  },
  {
   "cell_type": "code",
   "execution_count": null,
   "metadata": {},
   "outputs": [],
   "source": []
  }
 ],
 "metadata": {
  "kernelspec": {
   "display_name": "Python 3",
   "language": "python",
   "name": "python3"
  },
  "language_info": {
   "codemirror_mode": {
    "name": "ipython",
    "version": 3
   },
   "file_extension": ".py",
   "mimetype": "text/x-python",
   "name": "python",
   "nbconvert_exporter": "python",
   "pygments_lexer": "ipython3",
   "version": "3.7.5"
  },
  "nav_menu": {},
  "toc": {
   "base_numbering": 1,
   "nav_menu": {},
   "number_sections": true,
   "sideBar": true,
   "skip_h1_title": false,
   "title_cell": "Table of Contents",
   "title_sidebar": "Contents",
   "toc_cell": false,
   "toc_position": {},
   "toc_section_display": "block",
   "toc_window_display": true
  },
  "toc_position": {
   "height": "545px",
   "left": "0px",
   "right": "1008px",
   "top": "124.533px",
   "width": "202px"
  }
 },
 "nbformat": 4,
 "nbformat_minor": 2
}

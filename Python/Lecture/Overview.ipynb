{
 "cells": [
  {
   "cell_type": "markdown",
   "metadata": {},
   "source": [
    "# Lecture Programming for Data Science, Part Python\n",
    "\n",
    "* Author: Prof. Dr. Johannes Maucher\n",
    "* Email: maucher@hdm-stuttgart.de\n",
    "* Last Update: 22.06.2017\n"
   ]
  },
  {
   "cell_type": "markdown",
   "metadata": {},
   "source": [
    "> This Python course is the first part of the lecture [Programming Languages for Data Scientists](https://www.hdm-stuttgart.de/ds/de/weiterbildung/modul_07/) within the master program [Data Science and Business Analytics](https://www.hdm-stuttgart.de/ds/de/masterstudium) at HdM Stuttgart. In the second part of this lecture the programming language *R* is introduced. Both programming languages are introduced in a quite general manner. However, in the selection of routines, packages and examples Data Science tasks are focused. The concrete implementation of typical Data-Science-/Data-Mining-processes is not subject of this course but of the follow-up lecture [Data Mining Process](https://www.hdm-stuttgart.de/ds/de/weiterbildung/modul_12).  \n",
    "\n",
    "![Course Overview Python Mindmap](../../Pics/DS_Python_level1.PNG)"
   ]
  },
  {
   "cell_type": "markdown",
   "metadata": {},
   "source": [
    "## Getting started with Python\n",
    "In [Getting started with Python](01GettingStarted.ipynb) you will learn about the main features of Python, in particular the ones, which make it a number-one tool for all kinds of data science tasks. Moreover, the most important Python distributions and packages for data scientists and some popular Integrated Development Environments (IDEs) are sketched.\n",
    "\n",
    "Basic routines in the daily work with Python are summarized in notebook [Basic Routines](02BasicRoutines.ipynb). You will learn how to download and install packages, how to get help and how to import/export data into/from Python scripts."
   ]
  },
  {
   "cell_type": "markdown",
   "metadata": {},
   "source": [
    "## Datatypes and Datastructures\n",
    "Notebook [Numeric Datatypes](02DataTypesNumeric.ipynb) provides a short introduction into numeric datatypes and how Python can be applied for standard arithmetic calculations. More complex datatypes such as strings, lists, dictionaries etc. and the operations and functions available for these types are described in the notebooks [Sequential Datatypes](03aDataTypesSequential.ipynb), [Dictionaries](03bDataTypesDictionaries.ipynb) and [Sets](03cDataTypesSets.ipynb). "
   ]
  },
  {
   "cell_type": "markdown",
   "metadata": {},
   "source": [
    "## Controll Structures\n",
    "Computer programs usually consist of a list of commands. The order in which these commands are processed can be controlled by different control-flow constructs such as *if-then-else*, *for-loops*, *while-loops*, etc. Such control flow elements are defined in all programming languages. Syntax and usage of these elements in Python is described in notebook [Control Structures](04ControllStructures.ipynb).  "
   ]
  },
  {
   "cell_type": "markdown",
   "metadata": {},
   "source": [
    "## Functions and Modules\n",
    "Simple computer programs are usually implemented in single scripts (files). Such scripts typically consist of a list of commands, that must be executed to solve the given task. For more complex tasks implementation in single scripts can be inefficient and error-prone. In order to provide readability, maintainability, reusability and reliability, complex software is usually structured in modules and functions. Notebook [Modules and Functions](05Functions.ipynb) first introduces the notions of *packages*, *modules* and *functions* in Python. Then the definition and application of functions in Python is described.   "
   ]
  },
  {
   "cell_type": "markdown",
   "metadata": {},
   "source": [
    "## Object Oriented Programming in Python\n",
    "Splitting code in smaller reusable and manageable functions, as introduced in the previous section, is one way to realize modularity. Another, more elaborated and more comprehensive approach is object oriented programing (OOP). An object oriented software design consists of objects that interact with one another. Notebook [Object Oriented Programming](06ObjectOrientedProgramming.ipynb) demonstrates the key OOP concepts in Python, the definition of classes and the instantiation of objects. Classes can be considered as blueprints and objects are concrete instances of these blueprints. "
   ]
  },
  {
   "cell_type": "markdown",
   "metadata": {},
   "source": [
    "## Data Base Access\n",
    "Software, in particular software for Data Science applications, often must interfaces with databases. For all of the main database-types (SQL, MongoDB, ...) there exists Python packages to adapt the database to the Python programm. In this lecture access to *PostgreSQL* databases is introduced and demonstrated in notebook [Database Access](07DataBasePandas.ipynb).     "
   ]
  },
  {
   "cell_type": "markdown",
   "metadata": {},
   "source": [
    "<a id='basic_modules'></a>\n",
    "## Python Libraries for Data Science\n",
    "The main Python modules, which are usually applied in the context of scikit-learn are:\n",
    "\n",
    "* [Basics in Numpy (.ipynb)](NP01numpyBasics.ipynb) / [[.html]](NP01numpyBasics.html)\n",
    "* [Basics in Matplotlib (.ipynb)](PLT01visualization.ipynb) / [[.html]](PLT01visualization.html)\n",
    "* [Basics in Pandas (.ipynb)](PD01Pandas.ipynb) / [[.html]](PD01Pandas.html)\n",
    "\n",
    "The main concepts of the Python Machine Learning framework [Scikit-Learn](http://scikit-learn.org/stable/index.html) are:\n",
    "* it is primarily built on Numpy. In particular internal and external data structures are [Numpy Arrays](https://docs.scipy.org/doc/numpy/reference/generated/numpy.array.html).\n",
    "* All algorithms, which somehow transform data belong to the **<span class=\"mark\">Transformer</span>**-class, e.g. *PCA, Normalizer, StandardScaler, OneHotEncoder*, etc. These transformers are trained by applying the *<span class=\"mark\">.fit(traindata)</span>*-method. Once they are trained, there *<span class=\"mark\">.transform(data)</span>*-method can be called in order to transform *data*. If the data used for training the transformer shall be transformed immediately after training, the *.<span class=\"mark\">fit_transform(data)</span>*-method can be applied.\n",
    "* All Machine Learning algorithms for supervised and unsupervised learning belong to the **<span class=\"mark\">Estimator</span>** class, e.g. *LogisticRegression, SVM, MLP, Kmeans*, etc. These estimators are trained by applying the *.fit(trainfeatures)*- or *<span class=\"mark\">.fit(trainfeatures,trainlabels)</span>*-method. The former configuration is applied for unsupervised-, the latter for supervised learning. Once an estimator is trained, it can be applied for clustering, classification or regression by envoking the *.<span class=\"mark\">predict(data)</span>*-method. \n",
    "* At their interfaces all **Transformers** and **Estimators** apply *Numpy Arrays*."
   ]
  },
  {
   "cell_type": "code",
   "execution_count": null,
   "metadata": {
    "collapsed": true
   },
   "outputs": [],
   "source": []
  }
 ],
 "metadata": {
  "anaconda-cloud": {},
  "kernelspec": {
   "display_name": "Python [default]",
   "language": "python",
   "name": "python2"
  },
  "language_info": {
   "codemirror_mode": {
    "name": "ipython",
    "version": 2
   },
   "file_extension": ".py",
   "mimetype": "text/x-python",
   "name": "python",
   "nbconvert_exporter": "python",
   "pygments_lexer": "ipython2",
   "version": "2.7.13"
  },
  "nav_menu": {},
  "toc": {
   "navigate_menu": true,
   "number_sections": true,
   "sideBar": true,
   "threshold": 6,
   "toc_cell": false,
   "toc_section_display": "block",
   "toc_window_display": false
  }
 },
 "nbformat": 4,
 "nbformat_minor": 1
}

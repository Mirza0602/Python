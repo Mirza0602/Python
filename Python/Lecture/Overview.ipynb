{
 "cells": [
  {
   "cell_type": "markdown",
   "metadata": {},
   "source": [
    "## Lecture Overview Python for Data Science\n",
    "* Author: Prof. Dr. Johannes Maucher\n",
    "* Email: maucher@hdm-stuttgart.de\n",
    "* Last Update: 10.11.2020\n"
   ]
  },
  {
   "cell_type": "markdown",
   "metadata": {},
   "source": [
    "> This notebook provides an overview of the lecture **Python for Data Science** within the master program **Data Science** at HdM Stuttgart.  In this course the basics of core Python and some important extension packages for data science are introduced in a quite general manner. Standard Exploarative Data Analysis (EDA) tasks will be programmed in Python. More advanced Data Mining procedures, in particular Machine Learning, are subject of the follow-up lecture **Machine Learning**. "
   ]
  },
  {
   "cell_type": "markdown",
   "metadata": {},
   "source": [
    "<figure align=\"center\">\n",
    "<img width=\"800\" src=\"https://maucher.home.hdm-stuttgart.de/Pics/DS_Python_level1.png\">\n",
    "</figure>"
   ]
  },
  {
   "cell_type": "markdown",
   "metadata": {},
   "source": [
    "## Getting started with Python\n",
    "In [Getting started with Python](01GettingStarted.ipynb) you will learn about the main features of Python, in particular the ones, which make it a number-one tool for all kinds of data science tasks. Moreover, the most important Python distributions and packages for data scientists and some popular Integrated Development Environments (IDEs) are sketched.\n",
    "\n",
    "Basic routines in the daily work with Python are summarized in notebook [Basic Routines](02BasicRoutines.ipynb). You will learn how to download and install packages, how to get help and how to import/export data into/from Python scripts."
   ]
  },
  {
   "cell_type": "markdown",
   "metadata": {},
   "source": [
    "## Datatypes and Datastructures\n",
    "Notebook [Numeric Datatypes](02DataTypesNumeric.ipynb) provides a short introduction into numeric datatypes and how Python can be applied for standard arithmetic calculations. More complex datatypes such as strings, lists, dictionaries etc. and the operations and functions available for these types are described in the notebooks [Sequential Datatypes](03aDataTypesSequential.ipynb), [Dictionaries](03bDataTypesDictionaries.ipynb) and [Sets](03cDataTypesSets.ipynb). "
   ]
  },
  {
   "cell_type": "markdown",
   "metadata": {},
   "source": [
    "## Controll Structures\n",
    "Computer programs usually consist of a list of commands. The order in which these commands are processed can be controlled by different control-flow constructs such as *if-then-else*, *for-loops*, *while-loops*, etc. Such control flow elements are defined in all programming languages. Syntax and usage of these elements in Python is described in notebook [Control Structures](04ControllStructures.ipynb).  "
   ]
  },
  {
   "cell_type": "markdown",
   "metadata": {},
   "source": [
    "## Functions and Modules\n",
    "Simple computer programs are usually implemented in single scripts (files). Such scripts typically consist of a list of commands, that must be executed to solve the given task. For more complex tasks implementation in single scripts can be inefficient and error-prone. In order to provide readability, maintainability, reusability and reliability, complex software is usually structured in modules and functions. Notebook [Modules and Functions](05Functions.ipynb) first introduces the notions of *packages*, *modules* and *functions* in Python. Then the definition and application of functions in Python is described.   "
   ]
  },
  {
   "cell_type": "markdown",
   "metadata": {},
   "source": [
    "## Object Oriented Programming in Python\n",
    "Splitting code in smaller reusable and manageable functions, as introduced in the previous section, is one way to realize modularity. Another, more elaborated and more comprehensive approach is object oriented programing (OOP). An object oriented software design consists of objects that interact with one another. Notebook [Object Oriented Programming](06ObjectOrientedProgramming.ipynb) demonstrates the key OOP concepts in Python, the definition of classes and the instantiation of objects. Classes can be considered as blueprints and objects are concrete instances of these blueprints. "
   ]
  },
  {
   "cell_type": "markdown",
   "metadata": {},
   "source": [
    "<a id='basic_modules'></a>\n",
    "## Python Libraries for Data Science\n",
    "The main Python modules, which are usually applied for data analysis are:\n",
    "\n",
    "* [Basics in Numpy](NP01numpyBasics.ipynb): Scientific and technical maths \n",
    "* [Basics in Matplotlib](PLT01visualization.ipynb): Visualisation \n",
    "* [Basics in Pandas](PD01Pandas.ipynb): Datamanagement and -analysis\n",
    "\n",
    "Moreover, [Scikit-Learn](http://scikit-learn.org/stable/index.html) is the most comprehensive library for Machine Learning. It is primarily built on Numpy. In particular internal and external data structures are [Numpy Arrays](https://docs.scipy.org/doc/numpy/reference/generated/numpy.array.html). *Scikit-Learn* will not be applied in the course **Python for Data Science**, but it is the main framework for the follow-up module **Machine Learning**. "
   ]
  },
  {
   "cell_type": "markdown",
   "metadata": {},
   "source": [
    "## Data Base Access\n",
    "Software, in particular software for Data Science applications, often must interface with databases. For all of the main database-types (SQL, MongoDB, ...) there exists Python packages to adapt the database to the Python programm. In this lecture access to *PostgreSQL* databases is introduced and demonstrated in notebook [07DatabaseSQL](07DataBaseSQL.ipynb). Connecting MongoDB with Python programms is subject of notebook [07DatabaseMongo](07DataBaseMongo.ipynb). "
   ]
  },
  {
   "cell_type": "markdown",
   "metadata": {},
   "source": [
    "## Interactive Visualizations with Bokeh\n",
    "\n",
    "* In notebook [08BokehInteractiveVisualisation.ipynb](08BokehInteractiveVisualisation.ipynb) the basics of 2-dimensional Bokeh plots, interaction-tools, linking of multiple plots and output to .html is demonstrated.\n",
    "\n",
    "* Notebook [08BokehTCXvisualisation.ipynb](08BokehTCXvisualisation.ipynb) demonstrates the visualisation of data, recorded by a Garmin sport watch in .tcx-format. In particular the visualisation of tracks in Google-Maps is shown. \n",
    "* Notebook [08BokehTCXvisualisationFileSelection.ipynb](08BokehTCXvisualisationFileSelection.ipynb) extends the previous notebook by an interaction-widget for file-selection."
   ]
  },
  {
   "cell_type": "code",
   "execution_count": null,
   "metadata": {},
   "outputs": [],
   "source": []
  }
 ],
 "metadata": {
  "anaconda-cloud": {},
  "kernelspec": {
   "display_name": "Python 3",
   "language": "python",
   "name": "python3"
  },
  "language_info": {
   "codemirror_mode": {
    "name": "ipython",
    "version": 3
   },
   "file_extension": ".py",
   "mimetype": "text/x-python",
   "name": "python",
   "nbconvert_exporter": "python",
   "pygments_lexer": "ipython3",
   "version": "3.7.5"
  },
  "nav_menu": {},
  "toc": {
   "base_numbering": 1,
   "nav_menu": {},
   "number_sections": true,
   "sideBar": true,
   "skip_h1_title": false,
   "title_cell": "Table of Contents",
   "title_sidebar": "Contents",
   "toc_cell": false,
   "toc_position": {},
   "toc_section_display": "block",
   "toc_window_display": false
  }
 },
 "nbformat": 4,
 "nbformat_minor": 2
}

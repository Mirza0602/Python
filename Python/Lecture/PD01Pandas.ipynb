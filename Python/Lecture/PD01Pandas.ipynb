{
 "cells": [
  {
   "cell_type": "markdown",
   "metadata": {},
   "source": [
    "[Back to Lecture Overview](Overview.ipynb)"
   ]
  },
  {
   "cell_type": "markdown",
   "metadata": {},
   "source": [
    "# Pandas for real-world data"
   ]
  },
  {
   "cell_type": "markdown",
   "metadata": {},
   "source": [
    "<figure align=\"center\">\n",
    "<img width=\"800\" src=\"https://maucher.home.hdm-stuttgart.de/Pics/DS_Python_Libs_All.png\">\n",
    "</figure>"
   ]
  },
  {
   "cell_type": "markdown",
   "metadata": {},
   "source": [
    "In the previous notebook Numpy arrays have been introduced. Numpy arrays provide an efficient data structure for clean, numerical data. However, in practise the quality of data is often more challenging. There can be missing data and lots of different data types. Moreover, accessing data only by integer indices may be cumbersome. More meaningful indices would be desirable.\n",
    "**Pandas** is a newer python package, which builds on top of numpy arrays and extends it with many features, which provide a much more efficient managing of practical data. Pandas provides\n",
    "\n",
    "* methods to cope with missing data and different data types, \n",
    "* methods to label columns and rows for a comfortable data access\n",
    "* functions, which are familiar to users of database- and spreadsheet frameworks, such as complex queries, filters, joins, pivots, ...\n",
    "* methods for comfortable data visualisation (on top of Matplotlib)\n",
    "\n",
    "The fundamental data structures of Pandas are _Series_ and _Dataframes_. Both of them apply a third important structure, the _Index_. The basics of these datastructures are introduced in this notebook. "
   ]
  },
  {
   "cell_type": "markdown",
   "metadata": {},
   "source": [
    "Import Pandas and check version:"
   ]
  },
  {
   "cell_type": "code",
   "execution_count": 2,
   "metadata": {},
   "outputs": [],
   "source": [
    "import warnings\n",
    "warnings.filterwarnings(\"ignore\")"
   ]
  },
  {
   "cell_type": "code",
   "execution_count": 3,
   "metadata": {
    "ExecuteTime": {
     "end_time": "2017-10-03T13:57:12.179000Z",
     "start_time": "2017-10-03T15:57:08.472000+02:00"
    }
   },
   "outputs": [
    {
     "name": "stdout",
     "output_type": "stream",
     "text": [
      "1.0.0\n"
     ]
    }
   ],
   "source": [
    "import pandas as pd\n",
    "print(pd.__version__)"
   ]
  },
  {
   "cell_type": "markdown",
   "metadata": {},
   "source": [
    "## Basics of Pandas Series\n",
    "Pandas Series can be considered to be 1-dimensional numpy arrays with an explicitly configurable index.\n",
    "### Construction of Pandas Series"
   ]
  },
  {
   "cell_type": "code",
   "execution_count": 4,
   "metadata": {
    "ExecuteTime": {
     "end_time": "2017-10-03T13:57:18.354000Z",
     "start_time": "2017-10-03T15:57:18.185000+02:00"
    }
   },
   "outputs": [
    {
     "name": "stdout",
     "output_type": "stream",
     "text": [
      "Pandas Series object:    \n",
      " 0    10\n",
      "1    20\n",
      "2    30\n",
      "3    40\n",
      "dtype: int64\n",
      "Values of series object:  [10 20 30 40]\n",
      "Type of series values:    <class 'numpy.ndarray'>\n",
      "Index of series object:   RangeIndex(start=0, stop=4, step=1)\n",
      "Type of series index:     <class 'pandas.core.indexes.range.RangeIndex'>\n"
     ]
    }
   ],
   "source": [
    "S1=pd.Series(data=[10,20,30,40])\n",
    "print(\"Pandas Series object:    \\n\",S1)\n",
    "print(\"Values of series object: \",S1.values)\n",
    "print(\"Type of series values:   \",type(S1.values))\n",
    "print(\"Index of series object:  \",S1.index)\n",
    "print(\"Type of series index:    \",type(S1.index))"
   ]
  },
  {
   "cell_type": "code",
   "execution_count": 5,
   "metadata": {
    "ExecuteTime": {
     "end_time": "2017-10-03T13:57:20.287000Z",
     "start_time": "2017-10-03T15:57:20.229000+02:00"
    }
   },
   "outputs": [
    {
     "name": "stdout",
     "output_type": "stream",
     "text": [
      "Pandas Series object:    \n",
      " 2014    19.5\n",
      "2015    20.3\n",
      "2016    18.7\n",
      "2017    17.0\n",
      "dtype: float64\n",
      "Values of series object:  [19.5 20.3 18.7 17. ]\n",
      "Type of series values:    <class 'numpy.ndarray'>\n",
      "Index of series object:   Index(['2014', '2015', '2016', '2017'], dtype='object')\n",
      "Type of series index:     <class 'pandas.core.indexes.base.Index'>\n"
     ]
    }
   ],
   "source": [
    "pd.Series()\n",
    "S2=pd.Series(index=[\"2014\",\"2015\",\"2016\",\"2017\"],data=[19.5,20.3,18.7,17.0])\n",
    "print(\"Pandas Series object:    \\n\",S2)\n",
    "print(\"Values of series object: \",S2.values)\n",
    "print(\"Type of series values:   \",type(S2.values))\n",
    "print(\"Index of series object:  \",S2.index)\n",
    "print(\"Type of series index:    \",type(S2.index))"
   ]
  },
  {
   "cell_type": "markdown",
   "metadata": {},
   "source": [
    "Pandas series can be directly generated from Python dictionaries:"
   ]
  },
  {
   "cell_type": "code",
   "execution_count": 6,
   "metadata": {
    "ExecuteTime": {
     "end_time": "2017-10-03T13:57:29.162000Z",
     "start_time": "2017-10-03T15:57:29.162000+02:00"
    }
   },
   "outputs": [
    {
     "name": "stdout",
     "output_type": "stream",
     "text": [
      "{'June': 14789, 'July': 15511, 'August': 15517, 'September': 16012}\n"
     ]
    }
   ],
   "source": [
    "RegisteredUsersDict={\"June\":14789,\"July\":15511,\"August\":15517,\"September\":16012}\n",
    "print(RegisteredUsersDict)"
   ]
  },
  {
   "cell_type": "code",
   "execution_count": 7,
   "metadata": {
    "ExecuteTime": {
     "end_time": "2017-10-03T13:57:34.679000Z",
     "start_time": "2017-10-03T15:57:34.626000+02:00"
    }
   },
   "outputs": [
    {
     "name": "stdout",
     "output_type": "stream",
     "text": [
      "June         14789\n",
      "July         15511\n",
      "August       15517\n",
      "September    16012\n",
      "dtype: int64\n"
     ]
    }
   ],
   "source": [
    "RegisteredUsersSeries=pd.Series(RegisteredUsersDict)\n",
    "print(RegisteredUsersSeries)"
   ]
  },
  {
   "cell_type": "markdown",
   "metadata": {},
   "source": [
    "### Accessing Pandas Series data\n",
    "Accessing single elements:"
   ]
  },
  {
   "cell_type": "code",
   "execution_count": 8,
   "metadata": {
    "ExecuteTime": {
     "end_time": "2017-10-03T13:57:40.763000Z",
     "start_time": "2017-10-03T15:57:40.759000+02:00"
    }
   },
   "outputs": [
    {
     "name": "stdout",
     "output_type": "stream",
     "text": [
      "20\n",
      "20.3\n"
     ]
    }
   ],
   "source": [
    "print(S1[1])\n",
    "print(S2[\"2015\"])"
   ]
  },
  {
   "cell_type": "markdown",
   "metadata": {},
   "source": [
    "A data structure with an explicitly defined index is already available in Python: the _dictionary_. However, pandas series provide more capabilities, e.g. for the query of slices over a key-range, such as "
   ]
  },
  {
   "cell_type": "code",
   "execution_count": 9,
   "metadata": {
    "ExecuteTime": {
     "end_time": "2017-10-03T13:57:57.527000Z",
     "start_time": "2017-10-03T15:57:57.411000+02:00"
    }
   },
   "outputs": [
    {
     "name": "stdout",
     "output_type": "stream",
     "text": [
      "Slice of S1:\n",
      " 1    20\n",
      "2    30\n",
      "dtype: int64\n",
      "\n",
      "Slice of S2:\n",
      " 2015    20.3\n",
      "2016    18.7\n",
      "2017    17.0\n",
      "dtype: float64\n"
     ]
    }
   ],
   "source": [
    "print(\"Slice of S1:\\n\",S1[1:3]) \n",
    "print(\"\\nSlice of S2:\\n\",S2[\"2015\":\"2017\"])"
   ]
  },
  {
   "cell_type": "markdown",
   "metadata": {},
   "source": [
    "Even though the index has been defined explicitly, it is always possible to access by integer indices"
   ]
  },
  {
   "cell_type": "code",
   "execution_count": 10,
   "metadata": {
    "ExecuteTime": {
     "end_time": "2017-10-03T13:58:23.804000Z",
     "start_time": "2017-10-03T15:58:23.750000+02:00"
    }
   },
   "outputs": [
    {
     "name": "stdout",
     "output_type": "stream",
     "text": [
      "2015    20.3\n",
      "2016    18.7\n",
      "dtype: float64\n"
     ]
    }
   ],
   "source": [
    "print(S2[1:3])"
   ]
  },
  {
   "cell_type": "markdown",
   "metadata": {},
   "source": [
    "The possibilty to access elements by the explicitly defined index and the implicit integer index may yield confusions, in particular if the explicitly defined index also contains integers. Therefore it is recommended to access elements by `.loc[]` and `.iloc[].` The former provides access by explicitly defined index and the latter by the implicit integer index:"
   ]
  },
  {
   "cell_type": "code",
   "execution_count": 11,
   "metadata": {
    "ExecuteTime": {
     "end_time": "2017-10-03T13:58:53.959000Z",
     "start_time": "2017-10-03T15:58:53.906000+02:00"
    }
   },
   "outputs": [
    {
     "data": {
      "text/plain": [
       "2015    20.3\n",
       "2016    18.7\n",
       "2017    17.0\n",
       "dtype: float64"
      ]
     },
     "execution_count": 11,
     "metadata": {},
     "output_type": "execute_result"
    }
   ],
   "source": [
    "S2.loc[\"2015\":\"2017\"]"
   ]
  },
  {
   "cell_type": "code",
   "execution_count": 12,
   "metadata": {
    "ExecuteTime": {
     "end_time": "2017-10-03T13:58:57.047000Z",
     "start_time": "2017-10-03T15:58:56.994000+02:00"
    }
   },
   "outputs": [
    {
     "data": {
      "text/plain": [
       "2015    20.3\n",
       "2016    18.7\n",
       "dtype: float64"
      ]
     },
     "execution_count": 12,
     "metadata": {},
     "output_type": "execute_result"
    }
   ],
   "source": [
    "S2.iloc[1:3]"
   ]
  },
  {
   "cell_type": "markdown",
   "metadata": {},
   "source": [
    "Masked access:"
   ]
  },
  {
   "cell_type": "code",
   "execution_count": 13,
   "metadata": {
    "ExecuteTime": {
     "end_time": "2017-10-03T13:59:02.543000Z",
     "start_time": "2017-10-03T15:59:02.480000+02:00"
    }
   },
   "outputs": [
    {
     "name": "stdout",
     "output_type": "stream",
     "text": [
      "2014    19.5\n",
      "2016    18.7\n",
      "dtype: float64\n"
     ]
    }
   ],
   "source": [
    "print(S2[(S2<20) & (S2>18)])"
   ]
  },
  {
   "cell_type": "markdown",
   "metadata": {},
   "source": [
    "Add new element to series"
   ]
  },
  {
   "cell_type": "code",
   "execution_count": 14,
   "metadata": {
    "ExecuteTime": {
     "end_time": "2017-10-03T13:59:08.648000Z",
     "start_time": "2017-10-03T15:59:08.548000+02:00"
    }
   },
   "outputs": [
    {
     "name": "stdout",
     "output_type": "stream",
     "text": [
      "Before: \n",
      " 2014    19.5\n",
      "2015    20.3\n",
      "2016    18.7\n",
      "2017    17.0\n",
      "dtype: float64\n",
      "\n",
      "After: \n",
      " 2014    19.5\n",
      "2015    20.3\n",
      "2016    18.7\n",
      "2017    17.0\n",
      "2018    17.7\n",
      "dtype: float64\n"
     ]
    }
   ],
   "source": [
    "print(\"Before: \\n\",S2)\n",
    "S2[\"2018\"]=17.7\n",
    "print(\"\\nAfter: \\n\",S2)"
   ]
  },
  {
   "cell_type": "markdown",
   "metadata": {},
   "source": [
    "## Basics of Pandas Dataframes"
   ]
  },
  {
   "cell_type": "markdown",
   "metadata": {},
   "source": [
    "Pandas dataframes can be considered to be 2-dimensional numpy array with an explicitly configurable index.\n",
    "\n",
    "### Construction of Pandas Dataframes\n",
    "Create dataframe from nested Python list:"
   ]
  },
  {
   "cell_type": "code",
   "execution_count": 15,
   "metadata": {
    "ExecuteTime": {
     "end_time": "2017-10-03T13:59:40.329000Z",
     "start_time": "2017-10-03T15:59:40.281000+02:00"
    }
   },
   "outputs": [
    {
     "name": "stdout",
     "output_type": "stream",
     "text": [
      "Pandas dataframe object:    \n",
      "    0  1  2\n",
      "0  1  2  3\n",
      "1  4  5  6\n",
      "\n",
      "Values of dataframe object: \n",
      " [[1 2 3]\n",
      " [4 5 6]]\n",
      "\n",
      "Type of dataframe values:    <class 'numpy.ndarray'>\n",
      "Index of dataframe object:   RangeIndex(start=0, stop=2, step=1)\n",
      "Type of dataframe index:     <class 'pandas.core.indexes.range.RangeIndex'>\n",
      "Columns of dataframe object: RangeIndex(start=0, stop=3, step=1)\n"
     ]
    }
   ],
   "source": [
    "DF1=pd.DataFrame(data=[[1,2,3],[4,5,6]])\n",
    "print(\"Pandas dataframe object:    \\n\",DF1)\n",
    "print(\"\\nValues of dataframe object: \\n\",DF1.values)\n",
    "print(\"\\nType of dataframe values:   \",type(DF1.values))\n",
    "print(\"Index of dataframe object:  \",DF1.index)\n",
    "print(\"Type of dataframe index:    \",type(DF1.index))\n",
    "print(\"Columns of dataframe object:\",DF1.columns)"
   ]
  },
  {
   "cell_type": "markdown",
   "metadata": {},
   "source": [
    "Create dataframe with explicitly defined index and labeled column names:"
   ]
  },
  {
   "cell_type": "code",
   "execution_count": 16,
   "metadata": {
    "ExecuteTime": {
     "end_time": "2017-10-03T13:59:45.600000Z",
     "start_time": "2017-10-03T15:59:45.586000+02:00"
    }
   },
   "outputs": [
    {
     "name": "stdout",
     "output_type": "stream",
     "text": [
      "Pandas dataframe object:    \n",
      "        gender  age\n",
      "peter    male   23\n",
      "paul     male   31\n",
      "mary   female   25\n",
      "\n",
      "Values of dataframe object: \n",
      " [['male' 23]\n",
      " ['male' 31]\n",
      " ['female' 25]]\n",
      "\n",
      "Type of dataframe values:    <class 'numpy.ndarray'>\n",
      "Index of dataframe object:   Index(['peter', 'paul', 'mary'], dtype='object')\n",
      "Type of dataframe index:     <class 'pandas.core.indexes.base.Index'>\n",
      "Columns of dataframe object: Index(['gender', 'age'], dtype='object')\n"
     ]
    }
   ],
   "source": [
    "DF2=pd.DataFrame(index=[\"peter\",\"paul\",\"mary\"],columns=[\"gender\",\"age\"],\n",
    "                 data=[[\"male\",23],[\"male\",31],[\"female\",25]])\n",
    "print(\"Pandas dataframe object:    \\n\",DF2)\n",
    "print(\"\\nValues of dataframe object: \\n\",DF2.values)\n",
    "print(\"\\nType of dataframe values:   \",type(DF2.values))\n",
    "print(\"Index of dataframe object:  \",DF2.index)\n",
    "print(\"Type of dataframe index:    \",type(DF2.index))\n",
    "print(\"Columns of dataframe object:\",DF2.columns)"
   ]
  },
  {
   "cell_type": "markdown",
   "metadata": {},
   "source": [
    "Create dataframe from Numpy array:"
   ]
  },
  {
   "cell_type": "code",
   "execution_count": 17,
   "metadata": {
    "ExecuteTime": {
     "end_time": "2017-10-03T13:59:49.050000Z",
     "start_time": "2017-10-03T15:59:49.035000+02:00"
    }
   },
   "outputs": [
    {
     "name": "stdout",
     "output_type": "stream",
     "text": [
      "Pandas dataframe object:    \n",
      "    0  1  2  3  4  5  6\n",
      "0  7  5  2  9  7  1  0\n",
      "1  1  1  9  0  1  4  2\n",
      "2  0  1  7  8  1  1  8\n",
      "\n",
      "Values of dataframe object: \n",
      " [[7 5 2 9 7 1 0]\n",
      " [1 1 9 0 1 4 2]\n",
      " [0 1 7 8 1 1 8]]\n",
      "\n",
      "Type of dataframe values:    <class 'numpy.ndarray'>\n",
      "Index of dataframe object:   RangeIndex(start=0, stop=3, step=1)\n",
      "Type of dataframe index:     <class 'pandas.core.indexes.range.RangeIndex'>\n",
      "Columns of dataframe object: RangeIndex(start=0, stop=7, step=1)\n"
     ]
    }
   ],
   "source": [
    "import numpy as np\n",
    "arr= np.random.randint(0,10,(3,7))\n",
    "DF3=pd.DataFrame(arr)\n",
    "print(\"Pandas dataframe object:    \\n\",DF3)\n",
    "print(\"\\nValues of dataframe object: \\n\",DF3.values)\n",
    "print(\"\\nType of dataframe values:   \",type(DF3.values))\n",
    "print(\"Index of dataframe object:  \",DF3.index)\n",
    "print(\"Type of dataframe index:    \",type(DF3.index))\n",
    "print(\"Columns of dataframe object:\",DF3.columns)"
   ]
  },
  {
   "cell_type": "markdown",
   "metadata": {},
   "source": [
    "Rename index and columns of dataframe:"
   ]
  },
  {
   "cell_type": "code",
   "execution_count": 18,
   "metadata": {
    "ExecuteTime": {
     "end_time": "2017-10-03T13:59:59.024000Z",
     "start_time": "2017-10-03T15:59:59.009000+02:00"
    }
   },
   "outputs": [
    {
     "name": "stdout",
     "output_type": "stream",
     "text": [
      "       A  B  C  D  E  F  G\n",
      "user1  7  5  2  9  7  1  0\n",
      "user2  1  1  9  0  1  4  2\n",
      "user3  0  1  7  8  1  1  8\n"
     ]
    }
   ],
   "source": [
    "DF3.columns=[\"A\",\"B\",\"C\",\"D\",\"E\",\"F\",\"G\"]\n",
    "DF3.index= [\"user1\",\"user2\",\"user3\"]\n",
    "print(DF3)"
   ]
  },
  {
   "cell_type": "markdown",
   "metadata": {},
   "source": [
    "Insert new column into existing dataframe"
   ]
  },
  {
   "cell_type": "code",
   "execution_count": 19,
   "metadata": {
    "ExecuteTime": {
     "end_time": "2017-10-03T14:00:19.934000Z",
     "start_time": "2017-10-03T16:00:19.918000+02:00"
    }
   },
   "outputs": [
    {
     "name": "stdout",
     "output_type": "stream",
     "text": [
      "       gender  age       home\n",
      "peter    male   23   new york\n",
      "paul     male   31  san diego\n",
      "mary   female   25     Boston\n"
     ]
    }
   ],
   "source": [
    "hometown=['new york','san diego','Boston']\n",
    "DF2[\"home\"]=hometown\n",
    "print(DF2)"
   ]
  },
  {
   "cell_type": "markdown",
   "metadata": {},
   "source": [
    "In the previous section the Pandas series _RegisteredUsersSeries_ has been defined. From such a series object dataframes can be constructed as follows:"
   ]
  },
  {
   "cell_type": "code",
   "execution_count": 20,
   "metadata": {
    "ExecuteTime": {
     "end_time": "2017-10-03T14:00:32.672000Z",
     "start_time": "2017-10-03T16:00:32.672000+02:00"
    }
   },
   "outputs": [
    {
     "name": "stdout",
     "output_type": "stream",
     "text": [
      "           Users\n",
      "June       14789\n",
      "July       15511\n",
      "August     15517\n",
      "September  16012\n"
     ]
    }
   ],
   "source": [
    "RegisteredUsersDF=pd.DataFrame(RegisteredUsersSeries,columns=[\"Users\"])\n",
    "print(RegisteredUsersDF)"
   ]
  },
  {
   "cell_type": "markdown",
   "metadata": {},
   "source": [
    "Create dataframe from list of dictionaries. Note that even though not all dictionaries have the same keys the dataframe can be built."
   ]
  },
  {
   "cell_type": "code",
   "execution_count": 21,
   "metadata": {
    "ExecuteTime": {
     "end_time": "2017-10-03T14:00:43.652000Z",
     "start_time": "2017-10-03T16:00:43.652000+02:00"
    }
   },
   "outputs": [
    {
     "name": "stdout",
     "output_type": "stream",
     "text": [
      "[{'name': 'ben', 'age': 13}, {'name': 'lucia', 'age': 15}, {'name': 'lynn', 'age': 11}, {'name': 'eve'}]\n"
     ]
    }
   ],
   "source": [
    "personDict=[{\"name\":\"ben\",\"age\":13},{\"name\":\"lucia\",\"age\":15},{\"name\":\"lynn\",\"age\":11},{\"name\":\"eve\"}]\n",
    "print(personDict)"
   ]
  },
  {
   "cell_type": "code",
   "execution_count": 22,
   "metadata": {
    "ExecuteTime": {
     "end_time": "2017-10-03T14:00:45.137000Z",
     "start_time": "2017-10-03T16:00:45.137000+02:00"
    }
   },
   "outputs": [
    {
     "name": "stdout",
     "output_type": "stream",
     "text": [
      "    name   age\n",
      "0    ben  13.0\n",
      "1  lucia  15.0\n",
      "2   lynn  11.0\n",
      "3    eve   NaN\n"
     ]
    }
   ],
   "source": [
    "personDF=pd.DataFrame(personDict)\n",
    "print(personDF)"
   ]
  },
  {
   "cell_type": "markdown",
   "metadata": {},
   "source": [
    "### Accessing Pandas Dataframe data"
   ]
  },
  {
   "cell_type": "markdown",
   "metadata": {},
   "source": [
    "A single column of a dataframe can be accessed by specifying the name of the column such as e.g.:"
   ]
  },
  {
   "cell_type": "code",
   "execution_count": 23,
   "metadata": {
    "ExecuteTime": {
     "end_time": "2017-10-03T14:01:03.414000Z",
     "start_time": "2017-10-03T16:01:03.360000+02:00"
    }
   },
   "outputs": [
    {
     "name": "stdout",
     "output_type": "stream",
     "text": [
      "peter     new york\n",
      "paul     san diego\n",
      "mary        Boston\n",
      "Name: home, dtype: object\n"
     ]
    }
   ],
   "source": [
    "print(DF2[\"home\"])"
   ]
  },
  {
   "cell_type": "markdown",
   "metadata": {},
   "source": [
    "or alternatively:"
   ]
  },
  {
   "cell_type": "code",
   "execution_count": 24,
   "metadata": {
    "ExecuteTime": {
     "end_time": "2017-10-03T14:01:10.965000Z",
     "start_time": "2017-10-03T16:01:10.918000+02:00"
    }
   },
   "outputs": [
    {
     "name": "stdout",
     "output_type": "stream",
     "text": [
      "peter     new york\n",
      "paul     san diego\n",
      "mary        Boston\n",
      "Name: home, dtype: object\n"
     ]
    }
   ],
   "source": [
    "print(DF2.home)"
   ]
  },
  {
   "cell_type": "markdown",
   "metadata": {},
   "source": [
    "However, __a single row can not be accessed in this way__:"
   ]
  },
  {
   "cell_type": "code",
   "execution_count": 25,
   "metadata": {
    "ExecuteTime": {
     "end_time": "2017-10-03T14:01:17.432000Z",
     "start_time": "2017-10-03T16:01:17.432000+02:00"
    }
   },
   "outputs": [],
   "source": [
    "# DF2[\"peter\"] or DF2[0] raises an error"
   ]
  },
  {
   "cell_type": "markdown",
   "metadata": {},
   "source": [
    "A possibility to access a single row would be"
   ]
  },
  {
   "cell_type": "code",
   "execution_count": 26,
   "metadata": {
    "ExecuteTime": {
     "end_time": "2017-10-03T14:01:22.517000Z",
     "start_time": "2017-10-03T16:01:22.501000+02:00"
    }
   },
   "outputs": [
    {
     "name": "stdout",
     "output_type": "stream",
     "text": [
      "      gender  age      home\n",
      "peter   male   23  new york\n"
     ]
    }
   ],
   "source": [
    "print(DF2[\"peter\":\"peter\"])"
   ]
  },
  {
   "cell_type": "code",
   "execution_count": 27,
   "metadata": {
    "ExecuteTime": {
     "end_time": "2017-10-03T14:01:23.766000Z",
     "start_time": "2017-10-03T16:01:23.751000+02:00"
    }
   },
   "outputs": [
    {
     "name": "stdout",
     "output_type": "stream",
     "text": [
      "      gender  age      home\n",
      "peter   male   23  new york\n"
     ]
    }
   ],
   "source": [
    "print(DF2[0:1])"
   ]
  },
  {
   "cell_type": "markdown",
   "metadata": {},
   "source": [
    "As already mentioned in the context of Pandas Series objects, this type of indexing is confusing and it is recommended to apply `.loc[]` and `.iloc[]` instead.\n",
    "\n",
    "Access of single row:"
   ]
  },
  {
   "cell_type": "code",
   "execution_count": 28,
   "metadata": {
    "ExecuteTime": {
     "end_time": "2017-10-03T14:01:46.808000Z",
     "start_time": "2017-10-03T16:01:46.754000+02:00"
    }
   },
   "outputs": [
    {
     "name": "stdout",
     "output_type": "stream",
     "text": [
      "gender        male\n",
      "age             23\n",
      "home      new york\n",
      "Name: peter, dtype: object\n"
     ]
    }
   ],
   "source": [
    "print(DF2.loc[\"peter\"])"
   ]
  },
  {
   "cell_type": "markdown",
   "metadata": {},
   "source": [
    "or:"
   ]
  },
  {
   "cell_type": "code",
   "execution_count": 29,
   "metadata": {
    "ExecuteTime": {
     "end_time": "2017-10-03T14:01:50.187000Z",
     "start_time": "2017-10-03T16:01:50.125000+02:00"
    }
   },
   "outputs": [
    {
     "name": "stdout",
     "output_type": "stream",
     "text": [
      "gender        male\n",
      "age             23\n",
      "home      new york\n",
      "Name: peter, dtype: object\n"
     ]
    }
   ],
   "source": [
    "print(DF2.iloc[0])"
   ]
  },
  {
   "cell_type": "markdown",
   "metadata": {},
   "source": [
    "Access element in dedicated row and column:"
   ]
  },
  {
   "cell_type": "code",
   "execution_count": 30,
   "metadata": {
    "ExecuteTime": {
     "end_time": "2017-10-03T14:01:57.305000Z",
     "start_time": "2017-10-03T16:01:57.305000+02:00"
    }
   },
   "outputs": [
    {
     "name": "stdout",
     "output_type": "stream",
     "text": [
      "new york\n"
     ]
    }
   ],
   "source": [
    "print(DF2.loc[\"peter\",\"home\"])"
   ]
  },
  {
   "cell_type": "markdown",
   "metadata": {},
   "source": [
    "or:"
   ]
  },
  {
   "cell_type": "code",
   "execution_count": 31,
   "metadata": {
    "ExecuteTime": {
     "end_time": "2017-10-03T14:02:02.364000Z",
     "start_time": "2017-10-03T16:02:02.364000+02:00"
    }
   },
   "outputs": [
    {
     "name": "stdout",
     "output_type": "stream",
     "text": [
      "new york\n"
     ]
    }
   ],
   "source": [
    "print(DF2.iloc[0,2])"
   ]
  },
  {
   "cell_type": "markdown",
   "metadata": {},
   "source": [
    "Access dedicated subframe of the dataframe"
   ]
  },
  {
   "cell_type": "code",
   "execution_count": 32,
   "metadata": {
    "ExecuteTime": {
     "end_time": "2017-10-03T14:02:07.850000Z",
     "start_time": "2017-10-03T16:02:07.828000+02:00"
    }
   },
   "outputs": [
    {
     "name": "stdout",
     "output_type": "stream",
     "text": [
      "       age      home\n",
      "peter   23  new york\n",
      "mary    25    Boston\n"
     ]
    }
   ],
   "source": [
    "print(DF2.loc[[\"peter\",\"mary\"],[\"age\",\"home\"]])"
   ]
  },
  {
   "cell_type": "markdown",
   "metadata": {},
   "source": [
    "or:"
   ]
  },
  {
   "cell_type": "code",
   "execution_count": 33,
   "metadata": {
    "ExecuteTime": {
     "end_time": "2017-10-03T14:02:11.315000Z",
     "start_time": "2017-10-03T16:02:11.315000+02:00"
    }
   },
   "outputs": [
    {
     "name": "stdout",
     "output_type": "stream",
     "text": [
      "       age      home\n",
      "peter   23  new york\n",
      "mary    25    Boston\n"
     ]
    }
   ],
   "source": [
    "print(DF2.iloc[[0,2],[1,2]])"
   ]
  },
  {
   "cell_type": "markdown",
   "metadata": {},
   "source": [
    "## Read from and write to Pandas Dataframes\n",
    "### Read from .csv"
   ]
  },
  {
   "cell_type": "code",
   "execution_count": 34,
   "metadata": {
    "scrolled": true
   },
   "outputs": [
    {
     "data": {
      "text/html": [
       "<div>\n",
       "<style scoped>\n",
       "    .dataframe tbody tr th:only-of-type {\n",
       "        vertical-align: middle;\n",
       "    }\n",
       "\n",
       "    .dataframe tbody tr th {\n",
       "        vertical-align: top;\n",
       "    }\n",
       "\n",
       "    .dataframe thead th {\n",
       "        text-align: right;\n",
       "    }\n",
       "</style>\n",
       "<table border=\"1\" class=\"dataframe\">\n",
       "  <thead>\n",
       "    <tr style=\"text-align: right;\">\n",
       "      <th></th>\n",
       "      <th>age</th>\n",
       "      <th>sex</th>\n",
       "      <th>bmi</th>\n",
       "      <th>children</th>\n",
       "      <th>smoker</th>\n",
       "      <th>region</th>\n",
       "      <th>charges</th>\n",
       "    </tr>\n",
       "  </thead>\n",
       "  <tbody>\n",
       "    <tr>\n",
       "      <th>0</th>\n",
       "      <td>19</td>\n",
       "      <td>female</td>\n",
       "      <td>27.900</td>\n",
       "      <td>0</td>\n",
       "      <td>yes</td>\n",
       "      <td>southwest</td>\n",
       "      <td>16884.92400</td>\n",
       "    </tr>\n",
       "    <tr>\n",
       "      <th>1</th>\n",
       "      <td>18</td>\n",
       "      <td>male</td>\n",
       "      <td>33.770</td>\n",
       "      <td>1</td>\n",
       "      <td>no</td>\n",
       "      <td>southeast</td>\n",
       "      <td>1725.55230</td>\n",
       "    </tr>\n",
       "    <tr>\n",
       "      <th>2</th>\n",
       "      <td>28</td>\n",
       "      <td>male</td>\n",
       "      <td>33.000</td>\n",
       "      <td>3</td>\n",
       "      <td>no</td>\n",
       "      <td>southeast</td>\n",
       "      <td>4449.46200</td>\n",
       "    </tr>\n",
       "    <tr>\n",
       "      <th>3</th>\n",
       "      <td>33</td>\n",
       "      <td>male</td>\n",
       "      <td>22.705</td>\n",
       "      <td>0</td>\n",
       "      <td>no</td>\n",
       "      <td>northwest</td>\n",
       "      <td>21984.47061</td>\n",
       "    </tr>\n",
       "    <tr>\n",
       "      <th>4</th>\n",
       "      <td>32</td>\n",
       "      <td>male</td>\n",
       "      <td>28.880</td>\n",
       "      <td>0</td>\n",
       "      <td>no</td>\n",
       "      <td>northwest</td>\n",
       "      <td>3866.85520</td>\n",
       "    </tr>\n",
       "  </tbody>\n",
       "</table>\n",
       "</div>"
      ],
      "text/plain": [
       "   age     sex     bmi  children smoker     region      charges\n",
       "0   19  female  27.900         0    yes  southwest  16884.92400\n",
       "1   18    male  33.770         1     no  southeast   1725.55230\n",
       "2   28    male  33.000         3     no  southeast   4449.46200\n",
       "3   33    male  22.705         0     no  northwest  21984.47061\n",
       "4   32    male  28.880         0     no  northwest   3866.85520"
      ]
     },
     "execution_count": 34,
     "metadata": {},
     "output_type": "execute_result"
    }
   ],
   "source": [
    "insDF=pd.read_csv(\"insurance.csv\")\n",
    "insDF.head() #Display the first 5 rows of the dataframe"
   ]
  },
  {
   "cell_type": "markdown",
   "metadata": {},
   "source": [
    "### Write Dataframe to .csv"
   ]
  },
  {
   "cell_type": "code",
   "execution_count": 41,
   "metadata": {},
   "outputs": [],
   "source": [
    "DF2.to_csv(\"peterpaulmary.csv\",sep=\",\")"
   ]
  },
  {
   "cell_type": "markdown",
   "metadata": {},
   "source": [
    "## Excel File IO"
   ]
  },
  {
   "cell_type": "code",
   "execution_count": 42,
   "metadata": {},
   "outputs": [],
   "source": [
    "#!pip install openpyxl\n",
    "#!pip install xlrd"
   ]
  },
  {
   "cell_type": "markdown",
   "metadata": {},
   "source": [
    "### Write to Exel"
   ]
  },
  {
   "cell_type": "code",
   "execution_count": 43,
   "metadata": {
    "ExecuteTime": {
     "end_time": "2017-10-03T17:26:02.035000Z",
     "start_time": "2017-10-03T19:26:01.913000+02:00"
    }
   },
   "outputs": [],
   "source": [
    "DF2.to_excel(\"peterpaulmary.xlsx\")"
   ]
  },
  {
   "cell_type": "markdown",
   "metadata": {},
   "source": [
    "### Read from Exel"
   ]
  },
  {
   "cell_type": "code",
   "execution_count": 44,
   "metadata": {
    "ExecuteTime": {
     "end_time": "2017-10-03T17:26:03.668000Z",
     "start_time": "2017-10-03T19:26:03.282000+02:00"
    }
   },
   "outputs": [
    {
     "name": "stdout",
     "output_type": "stream",
     "text": [
      "       gender  age       home\n",
      "peter    male   23   new york\n",
      "paul     male   31  san diego\n",
      "mary   female   25     Boston\n"
     ]
    }
   ],
   "source": [
    "newDF2=pd.read_excel(\"peterpaulmary.xlsx\",index_col=0)\n",
    "print(newDF2)"
   ]
  },
  {
   "cell_type": "markdown",
   "metadata": {},
   "source": [
    "## Json File IO"
   ]
  },
  {
   "cell_type": "markdown",
   "metadata": {},
   "source": [
    "### Write to .json"
   ]
  },
  {
   "cell_type": "code",
   "execution_count": 45,
   "metadata": {
    "ExecuteTime": {
     "end_time": "2017-10-03T17:26:04.537000Z",
     "start_time": "2017-10-03T19:26:04.515000+02:00"
    }
   },
   "outputs": [],
   "source": [
    "DF2.to_json(\"peterpaulmary.json\",orient='columns')"
   ]
  },
  {
   "cell_type": "markdown",
   "metadata": {},
   "source": [
    "### Read from .json"
   ]
  },
  {
   "cell_type": "code",
   "execution_count": 46,
   "metadata": {
    "ExecuteTime": {
     "end_time": "2017-10-03T17:26:05.894000Z",
     "start_time": "2017-10-03T19:26:05.849000+02:00"
    }
   },
   "outputs": [
    {
     "name": "stdout",
     "output_type": "stream",
     "text": [
      "       gender  age       home\n",
      "peter    male   23   new york\n",
      "paul     male   31  san diego\n",
      "mary   female   25     Boston\n"
     ]
    }
   ],
   "source": [
    "newDF2=pd.read_json(\"peterpaulmary.json\")\n",
    "print(newDF2)"
   ]
  },
  {
   "cell_type": "markdown",
   "metadata": {},
   "source": [
    "## Quick and Simple Data Analysis"
   ]
  },
  {
   "cell_type": "code",
   "execution_count": 47,
   "metadata": {},
   "outputs": [
    {
     "name": "stdout",
     "output_type": "stream",
     "text": [
      "<class 'pandas.core.frame.DataFrame'>\n",
      "RangeIndex: 1338 entries, 0 to 1337\n",
      "Data columns (total 7 columns):\n",
      " #   Column    Non-Null Count  Dtype  \n",
      "---  ------    --------------  -----  \n",
      " 0   age       1338 non-null   int64  \n",
      " 1   sex       1338 non-null   object \n",
      " 2   bmi       1338 non-null   float64\n",
      " 3   children  1338 non-null   int64  \n",
      " 4   smoker    1338 non-null   object \n",
      " 5   region    1338 non-null   object \n",
      " 6   charges   1338 non-null   float64\n",
      "dtypes: float64(2), int64(2), object(3)\n",
      "memory usage: 73.3+ KB\n"
     ]
    }
   ],
   "source": [
    "insDF.info()"
   ]
  },
  {
   "cell_type": "markdown",
   "metadata": {},
   "source": [
    "### Descriptive Statistics of numeric features:"
   ]
  },
  {
   "cell_type": "code",
   "execution_count": 48,
   "metadata": {},
   "outputs": [
    {
     "data": {
      "text/html": [
       "<div>\n",
       "<style scoped>\n",
       "    .dataframe tbody tr th:only-of-type {\n",
       "        vertical-align: middle;\n",
       "    }\n",
       "\n",
       "    .dataframe tbody tr th {\n",
       "        vertical-align: top;\n",
       "    }\n",
       "\n",
       "    .dataframe thead th {\n",
       "        text-align: right;\n",
       "    }\n",
       "</style>\n",
       "<table border=\"1\" class=\"dataframe\">\n",
       "  <thead>\n",
       "    <tr style=\"text-align: right;\">\n",
       "      <th></th>\n",
       "      <th>age</th>\n",
       "      <th>bmi</th>\n",
       "      <th>children</th>\n",
       "      <th>charges</th>\n",
       "    </tr>\n",
       "  </thead>\n",
       "  <tbody>\n",
       "    <tr>\n",
       "      <th>count</th>\n",
       "      <td>1338.000000</td>\n",
       "      <td>1338.000000</td>\n",
       "      <td>1338.000000</td>\n",
       "      <td>1338.000000</td>\n",
       "    </tr>\n",
       "    <tr>\n",
       "      <th>mean</th>\n",
       "      <td>39.207025</td>\n",
       "      <td>30.663397</td>\n",
       "      <td>1.094918</td>\n",
       "      <td>13270.422265</td>\n",
       "    </tr>\n",
       "    <tr>\n",
       "      <th>std</th>\n",
       "      <td>14.049960</td>\n",
       "      <td>6.098187</td>\n",
       "      <td>1.205493</td>\n",
       "      <td>12110.011237</td>\n",
       "    </tr>\n",
       "    <tr>\n",
       "      <th>min</th>\n",
       "      <td>18.000000</td>\n",
       "      <td>15.960000</td>\n",
       "      <td>0.000000</td>\n",
       "      <td>1121.873900</td>\n",
       "    </tr>\n",
       "    <tr>\n",
       "      <th>25%</th>\n",
       "      <td>27.000000</td>\n",
       "      <td>26.296250</td>\n",
       "      <td>0.000000</td>\n",
       "      <td>4740.287150</td>\n",
       "    </tr>\n",
       "    <tr>\n",
       "      <th>50%</th>\n",
       "      <td>39.000000</td>\n",
       "      <td>30.400000</td>\n",
       "      <td>1.000000</td>\n",
       "      <td>9382.033000</td>\n",
       "    </tr>\n",
       "    <tr>\n",
       "      <th>75%</th>\n",
       "      <td>51.000000</td>\n",
       "      <td>34.693750</td>\n",
       "      <td>2.000000</td>\n",
       "      <td>16639.912515</td>\n",
       "    </tr>\n",
       "    <tr>\n",
       "      <th>max</th>\n",
       "      <td>64.000000</td>\n",
       "      <td>53.130000</td>\n",
       "      <td>5.000000</td>\n",
       "      <td>63770.428010</td>\n",
       "    </tr>\n",
       "  </tbody>\n",
       "</table>\n",
       "</div>"
      ],
      "text/plain": [
       "               age          bmi     children       charges\n",
       "count  1338.000000  1338.000000  1338.000000   1338.000000\n",
       "mean     39.207025    30.663397     1.094918  13270.422265\n",
       "std      14.049960     6.098187     1.205493  12110.011237\n",
       "min      18.000000    15.960000     0.000000   1121.873900\n",
       "25%      27.000000    26.296250     0.000000   4740.287150\n",
       "50%      39.000000    30.400000     1.000000   9382.033000\n",
       "75%      51.000000    34.693750     2.000000  16639.912515\n",
       "max      64.000000    53.130000     5.000000  63770.428010"
      ]
     },
     "execution_count": 48,
     "metadata": {},
     "output_type": "execute_result"
    }
   ],
   "source": [
    "insDF.describe()"
   ]
  },
  {
   "cell_type": "markdown",
   "metadata": {},
   "source": [
    "### Frequency Counts of categorical data"
   ]
  },
  {
   "cell_type": "code",
   "execution_count": 49,
   "metadata": {},
   "outputs": [
    {
     "data": {
      "text/plain": [
       "no     1064\n",
       "yes     274\n",
       "Name: smoker, dtype: int64"
      ]
     },
     "execution_count": 49,
     "metadata": {},
     "output_type": "execute_result"
    }
   ],
   "source": [
    "insDF[\"smoker\"].value_counts()"
   ]
  },
  {
   "cell_type": "code",
   "execution_count": 50,
   "metadata": {},
   "outputs": [
    {
     "data": {
      "text/plain": [
       "male      676\n",
       "female    662\n",
       "Name: sex, dtype: int64"
      ]
     },
     "execution_count": 50,
     "metadata": {},
     "output_type": "execute_result"
    }
   ],
   "source": [
    "insDF[\"sex\"].value_counts()"
   ]
  },
  {
   "cell_type": "code",
   "execution_count": 51,
   "metadata": {},
   "outputs": [
    {
     "data": {
      "text/plain": [
       "southeast    364\n",
       "northwest    325\n",
       "southwest    325\n",
       "northeast    324\n",
       "Name: region, dtype: int64"
      ]
     },
     "execution_count": 51,
     "metadata": {},
     "output_type": "execute_result"
    }
   ],
   "source": [
    "insDF[\"region\"].value_counts()"
   ]
  },
  {
   "cell_type": "markdown",
   "metadata": {},
   "source": [
    "### Check for missing data"
   ]
  },
  {
   "cell_type": "code",
   "execution_count": 52,
   "metadata": {},
   "outputs": [
    {
     "data": {
      "text/plain": [
       "age         0\n",
       "sex         0\n",
       "bmi         0\n",
       "children    0\n",
       "smoker      0\n",
       "region      0\n",
       "charges     0\n",
       "dtype: int64"
      ]
     },
     "execution_count": 52,
     "metadata": {},
     "output_type": "execute_result"
    }
   ],
   "source": [
    "insDF.isnull().sum(axis=0)"
   ]
  },
  {
   "cell_type": "markdown",
   "metadata": {},
   "source": [
    "### Descriptive Statistics of subgroups"
   ]
  },
  {
   "cell_type": "code",
   "execution_count": 53,
   "metadata": {},
   "outputs": [
    {
     "data": {
      "text/html": [
       "<div>\n",
       "<style scoped>\n",
       "    .dataframe tbody tr th:only-of-type {\n",
       "        vertical-align: middle;\n",
       "    }\n",
       "\n",
       "    .dataframe tbody tr th {\n",
       "        vertical-align: top;\n",
       "    }\n",
       "\n",
       "    .dataframe thead th {\n",
       "        text-align: right;\n",
       "    }\n",
       "</style>\n",
       "<table border=\"1\" class=\"dataframe\">\n",
       "  <thead>\n",
       "    <tr style=\"text-align: right;\">\n",
       "      <th></th>\n",
       "      <th>age</th>\n",
       "      <th>bmi</th>\n",
       "      <th>children</th>\n",
       "      <th>charges</th>\n",
       "    </tr>\n",
       "    <tr>\n",
       "      <th>smoker</th>\n",
       "      <th></th>\n",
       "      <th></th>\n",
       "      <th></th>\n",
       "      <th></th>\n",
       "    </tr>\n",
       "  </thead>\n",
       "  <tbody>\n",
       "    <tr>\n",
       "      <th>no</th>\n",
       "      <td>39.385338</td>\n",
       "      <td>30.651795</td>\n",
       "      <td>1.090226</td>\n",
       "      <td>8434.268298</td>\n",
       "    </tr>\n",
       "    <tr>\n",
       "      <th>yes</th>\n",
       "      <td>38.514599</td>\n",
       "      <td>30.708449</td>\n",
       "      <td>1.113139</td>\n",
       "      <td>32050.231832</td>\n",
       "    </tr>\n",
       "  </tbody>\n",
       "</table>\n",
       "</div>"
      ],
      "text/plain": [
       "              age        bmi  children       charges\n",
       "smoker                                              \n",
       "no      39.385338  30.651795  1.090226   8434.268298\n",
       "yes     38.514599  30.708449  1.113139  32050.231832"
      ]
     },
     "execution_count": 53,
     "metadata": {},
     "output_type": "execute_result"
    }
   ],
   "source": [
    "insDF.groupby(by=\"smoker\").mean()"
   ]
  },
  {
   "cell_type": "markdown",
   "metadata": {},
   "source": [
    "## Time Ranges in Pandas\n",
    "Data is often associated to date- and time-stamps. In particular time-series data consists of a series of uni- or multi-variate data instances, where each instance is labeled with an unique date-time-stamp. In Pandas date-time ranges can be created by the `date_range()` method as shown below. The first parameter defines the start of the date-time range, the _periods_-parameter defines the number of instances and the `freq`-parameter defines the duration between successive date-time-stamps.\n",
    "\n",
    "Date-time range with a frequency of 2-days:"
   ]
  },
  {
   "cell_type": "code",
   "execution_count": 54,
   "metadata": {
    "ExecuteTime": {
     "end_time": "2017-10-03T16:48:03.817000Z",
     "start_time": "2017-10-03T18:48:03.817000+02:00"
    }
   },
   "outputs": [
    {
     "name": "stdout",
     "output_type": "stream",
     "text": [
      "DatetimeIndex(['2016-10-03', '2016-10-05', '2016-10-07', '2016-10-09',\n",
      "               '2016-10-11', '2016-10-13'],\n",
      "              dtype='datetime64[ns]', freq='2D')\n"
     ]
    }
   ],
   "source": [
    "dates1 = pd.date_range('20161003', periods=6,freq=\"2D\")\n",
    "print(dates1)"
   ]
  },
  {
   "cell_type": "markdown",
   "metadata": {},
   "source": [
    "Date-time range with a frequency of 45 minutes:"
   ]
  },
  {
   "cell_type": "code",
   "execution_count": 55,
   "metadata": {
    "ExecuteTime": {
     "end_time": "2017-10-03T16:43:50.336000Z",
     "start_time": "2017-10-03T18:43:50.336000+02:00"
    }
   },
   "outputs": [
    {
     "name": "stdout",
     "output_type": "stream",
     "text": [
      "DatetimeIndex(['2016-10-03 10:45:00', '2016-10-03 11:30:00',\n",
      "               '2016-10-03 12:15:00', '2016-10-03 13:00:00'],\n",
      "              dtype='datetime64[ns]', freq='45T')\n"
     ]
    }
   ],
   "source": [
    "dates2 = pd.date_range('20161003104500', periods=4,freq=\"45Min\")\n",
    "print(dates2)"
   ]
  },
  {
   "cell_type": "markdown",
   "metadata": {},
   "source": [
    "The elements of a date-time range are `timestamps`. Single `timestamps`-objects can be created as follows:"
   ]
  },
  {
   "cell_type": "code",
   "execution_count": 56,
   "metadata": {
    "ExecuteTime": {
     "end_time": "2017-10-03T16:44:57.838000Z",
     "start_time": "2017-10-03T18:44:57.838000+02:00"
    }
   },
   "outputs": [
    {
     "name": "stdout",
     "output_type": "stream",
     "text": [
      "2016-12-23 09:15:00\n",
      "2017-01-09 10:30:00\n"
     ]
    }
   ],
   "source": [
    "dec23=pd.Timestamp(pd.datetime(2016,12,23,9,15,0))\n",
    "jan9=pd.Timestamp(pd.datetime(2017,1,9,10,30,0))\n",
    "print(dec23)\n",
    "print(jan9)"
   ]
  },
  {
   "cell_type": "markdown",
   "metadata": {},
   "source": [
    "Operations like adding a time-delta to a given timestamp or calculating the number of days can be performed like e.g.:"
   ]
  },
  {
   "cell_type": "code",
   "execution_count": 57,
   "metadata": {
    "ExecuteTime": {
     "end_time": "2017-10-03T17:00:09.704000Z",
     "start_time": "2017-10-03T19:00:09.704000+02:00"
    }
   },
   "outputs": [
    {
     "name": "stdout",
     "output_type": "stream",
     "text": [
      "<class 'pandas._libs.tslibs.timestamps.Timestamp'>\n",
      "6 days 00:00:00\n",
      "17 days 01:15:00\n",
      "23 days 01:15:00\n"
     ]
    }
   ],
   "source": [
    "print(type(dates1[1]))\n",
    "#print(dates1[1]+10)\n",
    "datediff1=dates1[4]-dates1[1]\n",
    "print(datediff1)\n",
    "datediff2=jan9-dec23\n",
    "print(datediff2)\n",
    "print(datediff1 + datediff2)"
   ]
  },
  {
   "cell_type": "markdown",
   "metadata": {},
   "source": [
    "In Pandas date-time-ranges are often applied as index for series or dataframes:"
   ]
  },
  {
   "cell_type": "code",
   "execution_count": 58,
   "metadata": {
    "ExecuteTime": {
     "end_time": "2017-10-03T17:00:25.285000Z",
     "start_time": "2017-10-03T19:00:25.222000+02:00"
    }
   },
   "outputs": [
    {
     "name": "stdout",
     "output_type": "stream",
     "text": [
      "2016-10-03    10\n",
      "2016-10-05    11\n",
      "2016-10-07    12\n",
      "2016-10-09    13\n",
      "2016-10-11    14\n",
      "2016-10-13    15\n",
      "Freq: 2D, dtype: int64\n"
     ]
    }
   ],
   "source": [
    "TS1=pd.Series(index=dates1,data=np.arange(10,16))\n",
    "print(TS1)"
   ]
  },
  {
   "cell_type": "code",
   "execution_count": 59,
   "metadata": {
    "ExecuteTime": {
     "end_time": "2017-10-03T17:00:57.766000Z",
     "start_time": "2017-10-03T19:00:57.704000+02:00"
    }
   },
   "outputs": [
    {
     "name": "stdout",
     "output_type": "stream",
     "text": [
      "2016-09-29    0\n",
      "2016-10-01    1\n",
      "2016-10-03    2\n",
      "2016-10-05    3\n",
      "2016-10-07    4\n",
      "Freq: 2D, dtype: int64\n"
     ]
    }
   ],
   "source": [
    "dates2 = pd.date_range('20160929', periods=5,freq=\"2D\")\n",
    "TS2=pd.Series(index=dates2,data=np.arange(5))\n",
    "print(TS2)"
   ]
  },
  {
   "cell_type": "code",
   "execution_count": 60,
   "metadata": {
    "ExecuteTime": {
     "end_time": "2017-10-03T17:01:56.632000Z",
     "start_time": "2017-10-03T19:01:56.610000+02:00"
    }
   },
   "outputs": [
    {
     "name": "stdout",
     "output_type": "stream",
     "text": [
      "                      C1   C2   C3\n",
      "2016-10-03 00:00:00  143  174  124\n",
      "2016-10-03 10:30:00  180  157  142\n",
      "2016-10-03 21:00:00  161  157  129\n",
      "2016-10-04 07:30:00  147  142  148\n",
      "2016-10-04 18:00:00  195  150  132\n"
     ]
    }
   ],
   "source": [
    "dates3 = pd.date_range('20161003', periods=5,freq=\"10H30MIN\")\n",
    "TDF1=pd.DataFrame(index=dates3,data=np.random.randint(100,200,(5,3)),columns=[\"C1\",\"C2\",\"C3\"])\n",
    "print(TDF1)"
   ]
  },
  {
   "cell_type": "code",
   "execution_count": 61,
   "metadata": {
    "ExecuteTime": {
     "end_time": "2017-10-03T17:02:11.538000Z",
     "start_time": "2017-10-03T19:02:11.534000+02:00"
    }
   },
   "outputs": [
    {
     "name": "stdout",
     "output_type": "stream",
     "text": [
      "                      C3   C4   C5\n",
      "2016-10-03 11:00:00  171  193  100\n",
      "2016-10-03 11:00:10  195  177  111\n",
      "2016-10-03 11:00:20  140  150  168\n",
      "2016-10-03 11:00:30  178  162  136\n",
      "2016-10-03 11:00:40  153  185  185\n",
      "2016-10-03 11:00:50  129  112  198\n",
      "2016-10-03 11:01:00  149  183  109\n",
      "2016-10-03 11:01:10  164  100  103\n",
      "2016-10-03 11:01:20  153  148  156\n",
      "2016-10-03 11:01:30  151  170  127\n"
     ]
    }
   ],
   "source": [
    "dates4 = pd.date_range('20161003110000', periods=10,freq=\"10S\")\n",
    "TDF2=pd.DataFrame(index=dates4,data=np.random.randint(100,200,(10,3)),columns=[\"C3\",\"C4\",\"C5\"])\n",
    "print(TDF2)"
   ]
  },
  {
   "cell_type": "markdown",
   "metadata": {},
   "source": [
    "## Combining Series and Dataframes\n",
    "Series and dataframes can be combined by the methods `combine()` and `combine_first()`. Application of `combine_first()` is demonstrated below. If 2 series `S1`, and `S2` are combined by `S1.combine_first(S2)` the result is a new Series-object whose index is the union of the index elements in `S1` and `S2`. For each element in the new index the corresponding value is\n",
    "* the value of `S1` at this index-element, if `S1` contains this index-element.\n",
    "* the value of `S2` at this index-element, if `S1` does not contain this index-element\n",
    "\n",
    "If two dataframes `DF1`, and `DF2` are combined by `DF1.combine_first(DF2)` the result is a new Dataframe-object whose index is the union of the index elements in `DF1` and `DF2` and whose columns are the union of the columns in `DF1` and `DF2`. For each element in the resulting dataframe the value is\n",
    "* the value of `DF1` at this index/column-element, if `DF1` contains this index/column-element.\n",
    "* the value of `DF2` at this index/column-element, if `DF1` does not contain this index/column-element, but `DF2` contains it\n",
    "* `NAN` if neither `DF1` nor `DF2` contains this index/column-element."
   ]
  },
  {
   "cell_type": "code",
   "execution_count": 62,
   "metadata": {
    "ExecuteTime": {
     "end_time": "2017-10-03T17:07:26.650000Z",
     "start_time": "2017-10-03T19:07:26.465000+02:00"
    }
   },
   "outputs": [
    {
     "name": "stdout",
     "output_type": "stream",
     "text": [
      "\n",
      "Time Series TS1=\n",
      " 2016-10-03    10\n",
      "2016-10-05    11\n",
      "2016-10-07    12\n",
      "2016-10-09    13\n",
      "2016-10-11    14\n",
      "2016-10-13    15\n",
      "Freq: 2D, dtype: int64\n",
      "\n",
      "Time Series TS2=\n",
      " 2016-09-29    0\n",
      "2016-10-01    1\n",
      "2016-10-03    2\n",
      "2016-10-05    3\n",
      "2016-10-07    4\n",
      "Freq: 2D, dtype: int64\n",
      "\n",
      "Combination of TS1 and TS2 is TS3=\n",
      " 2016-09-29     0.0\n",
      "2016-10-01     1.0\n",
      "2016-10-03    10.0\n",
      "2016-10-05    11.0\n",
      "2016-10-07    12.0\n",
      "2016-10-09    13.0\n",
      "2016-10-11    14.0\n",
      "2016-10-13    15.0\n",
      "Freq: 2D, dtype: float64\n",
      "------------------------------\n",
      "\n",
      "Dataframe TDF1=\n",
      "                       C1   C2   C3\n",
      "2016-10-03 00:00:00  143  174  124\n",
      "2016-10-03 10:30:00  180  157  142\n",
      "2016-10-03 21:00:00  161  157  129\n",
      "2016-10-04 07:30:00  147  142  148\n",
      "2016-10-04 18:00:00  195  150  132\n",
      "\n",
      "Dataframe TDF2=\n",
      "                       C3   C4   C5\n",
      "2016-10-03 11:00:00  171  193  100\n",
      "2016-10-03 11:00:10  195  177  111\n",
      "2016-10-03 11:00:20  140  150  168\n",
      "2016-10-03 11:00:30  178  162  136\n",
      "2016-10-03 11:00:40  153  185  185\n",
      "2016-10-03 11:00:50  129  112  198\n",
      "2016-10-03 11:01:00  149  183  109\n",
      "2016-10-03 11:01:10  164  100  103\n",
      "2016-10-03 11:01:20  153  148  156\n",
      "2016-10-03 11:01:30  151  170  127\n",
      "\n",
      "Combination of TDF1 and TDF2 is TSDF1=\n",
      "                         C1     C2     C3     C4     C5\n",
      "2016-10-03 00:00:00  143.0  174.0  124.0    NaN    NaN\n",
      "2016-10-03 10:30:00  180.0  157.0  142.0    NaN    NaN\n",
      "2016-10-03 11:00:00    NaN    NaN  171.0  193.0  100.0\n",
      "2016-10-03 11:00:10    NaN    NaN  195.0  177.0  111.0\n",
      "2016-10-03 11:00:20    NaN    NaN  140.0  150.0  168.0\n",
      "2016-10-03 11:00:30    NaN    NaN  178.0  162.0  136.0\n",
      "2016-10-03 11:00:40    NaN    NaN  153.0  185.0  185.0\n",
      "2016-10-03 11:00:50    NaN    NaN  129.0  112.0  198.0\n",
      "2016-10-03 11:01:00    NaN    NaN  149.0  183.0  109.0\n",
      "2016-10-03 11:01:10    NaN    NaN  164.0  100.0  103.0\n",
      "2016-10-03 11:01:20    NaN    NaN  153.0  148.0  156.0\n",
      "2016-10-03 11:01:30    NaN    NaN  151.0  170.0  127.0\n",
      "2016-10-03 21:00:00  161.0  157.0  129.0    NaN    NaN\n",
      "2016-10-04 07:30:00  147.0  142.0  148.0    NaN    NaN\n",
      "2016-10-04 18:00:00  195.0  150.0  132.0    NaN    NaN\n"
     ]
    }
   ],
   "source": [
    "print(\"\\nTime Series TS1=\\n\",TS1)\n",
    "print(\"\\nTime Series TS2=\\n\",TS2)\n",
    "TS3=TS1.combine_first(TS2)\n",
    "print(\"\\nCombination of TS1 and TS2 is TS3=\\n\",TS3)\n",
    "print(\"-\"*30)\n",
    "print(\"\\nDataframe TDF1=\\n\",TDF1)\n",
    "print(\"\\nDataframe TDF2=\\n\",TDF2)\n",
    "TSDF1=TDF2.combine_first(TDF1)\n",
    "print(\"\\nCombination of TDF1 and TDF2 is TSDF1=\\n\",TSDF1)"
   ]
  },
  {
   "cell_type": "markdown",
   "metadata": {},
   "source": [
    "## Handling of Missing Data\n",
    "One of the main features of `Pandas` is it's capability to manage missing data. As shown in the example above, Series- and Dataframe-elements without assigned data are represented by `NaN`, which is actually Numpy's `numpy.nan` value. A boolean mask, which identifies all dataframe-elements with missing data (NaN-values) can be calculated as follows. It contains `True` at all `NaN`-positions."
   ]
  },
  {
   "cell_type": "code",
   "execution_count": 63,
   "metadata": {
    "ExecuteTime": {
     "end_time": "2017-10-03T17:10:13.169000Z",
     "start_time": "2017-10-03T19:10:13.169000+02:00"
    }
   },
   "outputs": [
    {
     "name": "stdout",
     "output_type": "stream",
     "text": [
      "                        C1     C2     C3     C4     C5\n",
      "2016-10-03 00:00:00  False  False  False   True   True\n",
      "2016-10-03 10:30:00  False  False  False   True   True\n",
      "2016-10-03 11:00:00   True   True  False  False  False\n",
      "2016-10-03 11:00:10   True   True  False  False  False\n",
      "2016-10-03 11:00:20   True   True  False  False  False\n",
      "2016-10-03 11:00:30   True   True  False  False  False\n",
      "2016-10-03 11:00:40   True   True  False  False  False\n",
      "2016-10-03 11:00:50   True   True  False  False  False\n",
      "2016-10-03 11:01:00   True   True  False  False  False\n",
      "2016-10-03 11:01:10   True   True  False  False  False\n",
      "2016-10-03 11:01:20   True   True  False  False  False\n",
      "2016-10-03 11:01:30   True   True  False  False  False\n",
      "2016-10-03 21:00:00  False  False  False   True   True\n",
      "2016-10-04 07:30:00  False  False  False   True   True\n",
      "2016-10-04 18:00:00  False  False  False   True   True\n"
     ]
    }
   ],
   "source": [
    "print(TSDF1.isnull())"
   ]
  },
  {
   "cell_type": "markdown",
   "metadata": {},
   "source": [
    "In combination with `all()` and `any()` the `isnull()`-method can also be applied to check whether all columns or all rows or any column or any row contain missing data."
   ]
  },
  {
   "cell_type": "code",
   "execution_count": 64,
   "metadata": {
    "ExecuteTime": {
     "end_time": "2017-10-03T17:10:43.028000Z",
     "start_time": "2017-10-03T19:10:42.812000+02:00"
    }
   },
   "outputs": [
    {
     "name": "stdout",
     "output_type": "stream",
     "text": [
      "Are all elements in a column of TSDF1 NaN?\n",
      " C1    False\n",
      "C2    False\n",
      "C3    False\n",
      "C4    False\n",
      "C5    False\n",
      "dtype: bool\n",
      "\n",
      "Is any element in a column of TSDF1 NaN?\n",
      " C1     True\n",
      "C2     True\n",
      "C3    False\n",
      "C4     True\n",
      "C5     True\n",
      "dtype: bool\n",
      "\n",
      "Are all elements in a row of TSDF1 NaN?\n",
      " 2016-10-03 00:00:00    False\n",
      "2016-10-03 10:30:00    False\n",
      "2016-10-03 11:00:00    False\n",
      "2016-10-03 11:00:10    False\n",
      "2016-10-03 11:00:20    False\n",
      "2016-10-03 11:00:30    False\n",
      "2016-10-03 11:00:40    False\n",
      "2016-10-03 11:00:50    False\n",
      "2016-10-03 11:01:00    False\n",
      "2016-10-03 11:01:10    False\n",
      "2016-10-03 11:01:20    False\n",
      "2016-10-03 11:01:30    False\n",
      "2016-10-03 21:00:00    False\n",
      "2016-10-04 07:30:00    False\n",
      "2016-10-04 18:00:00    False\n",
      "dtype: bool\n",
      "\n",
      "Is any element in a row of TSDF1 NaN?\n",
      " 2016-10-03 00:00:00    True\n",
      "2016-10-03 10:30:00    True\n",
      "2016-10-03 11:00:00    True\n",
      "2016-10-03 11:00:10    True\n",
      "2016-10-03 11:00:20    True\n",
      "2016-10-03 11:00:30    True\n",
      "2016-10-03 11:00:40    True\n",
      "2016-10-03 11:00:50    True\n",
      "2016-10-03 11:01:00    True\n",
      "2016-10-03 11:01:10    True\n",
      "2016-10-03 11:01:20    True\n",
      "2016-10-03 11:01:30    True\n",
      "2016-10-03 21:00:00    True\n",
      "2016-10-04 07:30:00    True\n",
      "2016-10-04 18:00:00    True\n",
      "dtype: bool\n"
     ]
    }
   ],
   "source": [
    "print(\"Are all elements in a column of TSDF1 NaN?\\n\",TSDF1.isnull().all(axis=0))\n",
    "print(\"\\nIs any element in a column of TSDF1 NaN?\\n\",TSDF1.isnull().any(axis=0))\n",
    "print(\"\\nAre all elements in a row of TSDF1 NaN?\\n\",TSDF1.isnull().all(axis=1))\n",
    "print(\"\\nIs any element in a row of TSDF1 NaN?\\n\",TSDF1.isnull().any(axis=1))"
   ]
  },
  {
   "cell_type": "markdown",
   "metadata": {},
   "source": [
    "The `dropna()`-method can be applied to drop all columns or rows, in which at least one or in which all elements are NaN. The following use of `dropna()` drops all columns, which contain at least one `NaN`."
   ]
  },
  {
   "cell_type": "code",
   "execution_count": 65,
   "metadata": {
    "ExecuteTime": {
     "end_time": "2017-10-03T17:18:19.053000Z",
     "start_time": "2017-10-03T19:18:19.053000+02:00"
    }
   },
   "outputs": [
    {
     "name": "stdout",
     "output_type": "stream",
     "text": [
      "                        C3\n",
      "2016-10-03 00:00:00  124.0\n",
      "2016-10-03 10:30:00  142.0\n",
      "2016-10-03 11:00:00  171.0\n",
      "2016-10-03 11:00:10  195.0\n",
      "2016-10-03 11:00:20  140.0\n",
      "2016-10-03 11:00:30  178.0\n",
      "2016-10-03 11:00:40  153.0\n",
      "2016-10-03 11:00:50  129.0\n",
      "2016-10-03 11:01:00  149.0\n",
      "2016-10-03 11:01:10  164.0\n",
      "2016-10-03 11:01:20  153.0\n",
      "2016-10-03 11:01:30  151.0\n",
      "2016-10-03 21:00:00  129.0\n",
      "2016-10-04 07:30:00  148.0\n",
      "2016-10-04 18:00:00  132.0\n"
     ]
    }
   ],
   "source": [
    "TSDF2=TSDF1.copy()\n",
    "print(TSDF2.dropna(axis=1,how=\"any\"))"
   ]
  },
  {
   "cell_type": "markdown",
   "metadata": {},
   "source": [
    "`NaN`-values can be replaced by any other value using the `fillna()` method:"
   ]
  },
  {
   "cell_type": "code",
   "execution_count": 66,
   "metadata": {
    "ExecuteTime": {
     "end_time": "2017-10-03T17:18:24.727000Z",
     "start_time": "2017-10-03T19:18:24.727000+02:00"
    }
   },
   "outputs": [
    {
     "name": "stdout",
     "output_type": "stream",
     "text": [
      "                        C1     C2     C3     C4     C5\n",
      "2016-10-03 00:00:00  143.0  174.0  124.0    0.0    0.0\n",
      "2016-10-03 10:30:00  180.0  157.0  142.0    0.0    0.0\n",
      "2016-10-03 11:00:00    0.0    0.0  171.0  193.0  100.0\n",
      "2016-10-03 11:00:10    0.0    0.0  195.0  177.0  111.0\n",
      "2016-10-03 11:00:20    0.0    0.0  140.0  150.0  168.0\n",
      "2016-10-03 11:00:30    0.0    0.0  178.0  162.0  136.0\n",
      "2016-10-03 11:00:40    0.0    0.0  153.0  185.0  185.0\n",
      "2016-10-03 11:00:50    0.0    0.0  129.0  112.0  198.0\n",
      "2016-10-03 11:01:00    0.0    0.0  149.0  183.0  109.0\n",
      "2016-10-03 11:01:10    0.0    0.0  164.0  100.0  103.0\n",
      "2016-10-03 11:01:20    0.0    0.0  153.0  148.0  156.0\n",
      "2016-10-03 11:01:30    0.0    0.0  151.0  170.0  127.0\n",
      "2016-10-03 21:00:00  161.0  157.0  129.0    0.0    0.0\n",
      "2016-10-04 07:30:00  147.0  142.0  148.0    0.0    0.0\n",
      "2016-10-04 18:00:00  195.0  150.0  132.0    0.0    0.0\n"
     ]
    }
   ],
   "source": [
    "TSDF3=TSDF1.fillna(value=0.0)\n",
    "print(TSDF3)"
   ]
  },
  {
   "cell_type": "markdown",
   "metadata": {},
   "source": [
    "## Split, Concatenate and Join\n",
    "Pandas dataframes can be splitted into parts using the common slicing approach as shown below."
   ]
  },
  {
   "cell_type": "code",
   "execution_count": 67,
   "metadata": {
    "ExecuteTime": {
     "end_time": "2017-10-03T17:18:30.935000Z",
     "start_time": "2017-10-03T19:18:30.919000+02:00"
    }
   },
   "outputs": [
    {
     "name": "stdout",
     "output_type": "stream",
     "text": [
      "\n",
      "Part 0\n",
      "                         C1     C2     C3   C4   C5\n",
      "2016-10-03 00:00:00  143.0  174.0  124.0  0.0  0.0\n",
      "2016-10-03 10:30:00  180.0  157.0  142.0  0.0  0.0\n",
      "\n",
      "Part 1\n",
      "                       C1   C2     C3     C4     C5\n",
      "2016-10-03 11:00:00  0.0  0.0  171.0  193.0  100.0\n",
      "2016-10-03 11:00:10  0.0  0.0  195.0  177.0  111.0\n",
      "2016-10-03 11:00:20  0.0  0.0  140.0  150.0  168.0\n",
      "2016-10-03 11:00:30  0.0  0.0  178.0  162.0  136.0\n",
      "2016-10-03 11:00:40  0.0  0.0  153.0  185.0  185.0\n",
      "2016-10-03 11:00:50  0.0  0.0  129.0  112.0  198.0\n",
      "2016-10-03 11:01:00  0.0  0.0  149.0  183.0  109.0\n",
      "2016-10-03 11:01:10  0.0  0.0  164.0  100.0  103.0\n",
      "2016-10-03 11:01:20  0.0  0.0  153.0  148.0  156.0\n",
      "2016-10-03 11:01:30  0.0  0.0  151.0  170.0  127.0\n",
      "\n",
      "Part 2\n",
      "                         C1     C2     C3   C4   C5\n",
      "2016-10-03 21:00:00  161.0  157.0  129.0  0.0  0.0\n",
      "2016-10-04 07:30:00  147.0  142.0  148.0  0.0  0.0\n",
      "2016-10-04 18:00:00  195.0  150.0  132.0  0.0  0.0\n"
     ]
    }
   ],
   "source": [
    "parts=[TSDF3[:2],TSDF3[2:12],TSDF3[12:]]\n",
    "for i,p in enumerate(parts):\n",
    "    print(\"\\nPart %1d\\n\"%i,p)"
   ]
  },
  {
   "cell_type": "markdown",
   "metadata": {},
   "source": [
    "Several dataframes can be concatenated. For this the parts must be assigned to a python list, which is passed to the Pandas method `concat()`. Vertical concatenation is realised by setting the parameter `axis=0`. For horizontal concatenation this parameter must be `1`. "
   ]
  },
  {
   "cell_type": "code",
   "execution_count": 68,
   "metadata": {
    "ExecuteTime": {
     "end_time": "2017-10-03T17:19:00.932000Z",
     "start_time": "2017-10-03T19:19:00.915000+02:00"
    },
    "run_control": {
     "marked": true
    }
   },
   "outputs": [
    {
     "name": "stdout",
     "output_type": "stream",
     "text": [
      "                        C1     C2     C3     C4     C5\n",
      "2016-10-03 00:00:00  143.0  174.0  124.0    0.0    0.0\n",
      "2016-10-03 10:30:00  180.0  157.0  142.0    0.0    0.0\n",
      "2016-10-03 11:00:00    0.0    0.0  171.0  193.0  100.0\n",
      "2016-10-03 11:00:10    0.0    0.0  195.0  177.0  111.0\n",
      "2016-10-03 11:00:20    0.0    0.0  140.0  150.0  168.0\n",
      "2016-10-03 11:00:30    0.0    0.0  178.0  162.0  136.0\n",
      "2016-10-03 11:00:40    0.0    0.0  153.0  185.0  185.0\n",
      "2016-10-03 11:00:50    0.0    0.0  129.0  112.0  198.0\n",
      "2016-10-03 11:01:00    0.0    0.0  149.0  183.0  109.0\n",
      "2016-10-03 11:01:10    0.0    0.0  164.0  100.0  103.0\n",
      "2016-10-03 11:01:20    0.0    0.0  153.0  148.0  156.0\n",
      "2016-10-03 11:01:30    0.0    0.0  151.0  170.0  127.0\n",
      "2016-10-03 21:00:00  161.0  157.0  129.0    0.0    0.0\n",
      "2016-10-04 07:30:00  147.0  142.0  148.0    0.0    0.0\n",
      "2016-10-04 18:00:00  195.0  150.0  132.0    0.0    0.0\n"
     ]
    }
   ],
   "source": [
    "All=pd.concat(parts,axis=0)\n",
    "print(All)"
   ]
  },
  {
   "cell_type": "markdown",
   "metadata": {},
   "source": [
    "SQL-style joins can be performed on pandas dataframes by applying the `merge()`-method. The `on`-parameter of the `merge()`-method takes a list, whose elements are the keys on which the join shall be performed. The keys must be column names, which exist in both dataframes. The _how_-parameter of the `merge()`-method is used to specify the type of join. The type of join defines how to create the new dataframe in the case that some key-combinations do not exist in both dataframes:\n",
    "* `inner`: The joined dataframe contains only rows, whose key-combinations exist in both dataframes\n",
    "* `outer`: The joined dataframe contains all rows, whose key-combinations exist either in the left, the right or in both dataframes\n",
    "* `left`: The joined dataframe contains all rows, whose key-combinations exist in the left dataframe\n",
    "* `right`: The joined dataframe contains all rows, whose key-combinations exist in the right dataframe\n",
    "\n",
    "Examples of all join-types are demonstrated below."
   ]
  },
  {
   "cell_type": "code",
   "execution_count": 69,
   "metadata": {
    "ExecuteTime": {
     "end_time": "2017-10-03T17:21:52.790000Z",
     "start_time": "2017-10-03T19:21:52.758000+02:00"
    }
   },
   "outputs": [
    {
     "name": "stdout",
     "output_type": "stream",
     "text": [
      "  firstname familyname  age gender\n",
      "0     peter       aman   21      m\n",
      "1      paul       bman   18      m\n",
      "2      mary       cman   23      f\n",
      "  firstname familyname      home  phone\n",
      "0     peter       aman  new york   1234\n",
      "1      paul       bman    boston   4789\n",
      "2      mary       dman   florida   9856\n",
      "  firstname familyname      home  phone\n",
      "0     peter       aman  new york   1234\n",
      "1      paul       bman    boston   4789\n",
      "2      mary       dman   florida   9856\n",
      "3      mary       dman      ohio   3498\n"
     ]
    }
   ],
   "source": [
    "group1=pd.DataFrame({\"firstname\":[\"peter\",\"paul\",\"mary\"],\"familyname\":[\"aman\",\"bman\",\"cman\"],\"age\":[21,18,23],\"gender\":[\"m\",\"m\",\"f\"]})\n",
    "print(group1)\n",
    "group2=pd.DataFrame({\"firstname\":[\"peter\",\"paul\",\"mary\"],\"familyname\":[\"aman\",\"bman\",\"dman\"],\"home\":[\"new york\",\"boston\",\"florida\"],\"phone\":[1234,4789,9856]})\n",
    "print(group2)\n",
    "group3=pd.DataFrame({\"firstname\":[\"peter\",\"paul\",\"mary\",\"mary\"],\"familyname\":[\"aman\",\"bman\",\"dman\",\"dman\"],\"home\":[\"new york\",\"boston\",\"florida\",\"ohio\"],\"phone\":[1234,4789,9856,3498]})\n",
    "print(group3)"
   ]
  },
  {
   "cell_type": "code",
   "execution_count": 70,
   "metadata": {
    "ExecuteTime": {
     "end_time": "2017-10-03T17:22:15.996000Z",
     "start_time": "2017-10-03T19:22:15.965000+02:00"
    }
   },
   "outputs": [
    {
     "name": "stdout",
     "output_type": "stream",
     "text": [
      "  firstname familyname  age gender      home  phone\n",
      "0     peter       aman   21      m  new york   1234\n",
      "1      paul       bman   18      m    boston   4789\n",
      "  firstname familyname    home_x  phone_x    home_y  phone_y\n",
      "0     peter       aman  new york     1234  new york     1234\n",
      "1      paul       bman    boston     4789    boston     4789\n",
      "2      mary       dman   florida     9856   florida     9856\n",
      "3      mary       dman   florida     9856      ohio     3498\n"
     ]
    }
   ],
   "source": [
    "groupInner12=pd.merge(group1, group2, on=['firstname','familyname'],how=\"inner\")\n",
    "print(groupInner12)\n",
    "groupInner23=pd.merge(group2, group3, on=['firstname','familyname'],how=\"inner\")\n",
    "print(groupInner23)"
   ]
  },
  {
   "cell_type": "code",
   "execution_count": 71,
   "metadata": {
    "ExecuteTime": {
     "end_time": "2017-10-03T17:23:40.272000Z",
     "start_time": "2017-10-03T19:23:40.225000+02:00"
    }
   },
   "outputs": [
    {
     "name": "stdout",
     "output_type": "stream",
     "text": [
      "  firstname familyname   age gender      home   phone\n",
      "0     peter       aman  21.0      m  new york  1234.0\n",
      "1      paul       bman  18.0      m    boston  4789.0\n",
      "2      mary       cman  23.0      f       NaN     NaN\n",
      "3      mary       dman   NaN    NaN   florida  9856.0\n"
     ]
    }
   ],
   "source": [
    "groupOuter=pd.merge(group1, group2, on=['firstname','familyname'],how=\"outer\")\n",
    "print(groupOuter)"
   ]
  },
  {
   "cell_type": "code",
   "execution_count": 72,
   "metadata": {
    "ExecuteTime": {
     "end_time": "2017-10-03T17:23:44.944000Z",
     "start_time": "2017-10-03T19:23:44.928000+02:00"
    }
   },
   "outputs": [
    {
     "name": "stdout",
     "output_type": "stream",
     "text": [
      "  firstname familyname  age gender      home   phone\n",
      "0     peter       aman   21      m  new york  1234.0\n",
      "1      paul       bman   18      m    boston  4789.0\n",
      "2      mary       cman   23      f       NaN     NaN\n"
     ]
    }
   ],
   "source": [
    "groupLeft=pd.merge(group1, group2, on=['firstname','familyname'],how=\"left\")\n",
    "print(groupLeft)"
   ]
  },
  {
   "cell_type": "code",
   "execution_count": 73,
   "metadata": {
    "ExecuteTime": {
     "end_time": "2017-10-03T17:23:47.879000Z",
     "start_time": "2017-10-03T19:23:47.879000+02:00"
    }
   },
   "outputs": [
    {
     "name": "stdout",
     "output_type": "stream",
     "text": [
      "  firstname familyname   age gender      home  phone\n",
      "0     peter       aman  21.0      m  new york   1234\n",
      "1      paul       bman  18.0      m    boston   4789\n",
      "2      mary       dman   NaN    NaN   florida   9856\n"
     ]
    }
   ],
   "source": [
    "groupRight=pd.merge(group1, group2, on=['firstname','familyname'],how=\"right\")\n",
    "print(groupRight)"
   ]
  },
  {
   "cell_type": "markdown",
   "metadata": {},
   "source": [
    "## Simple Operations on Pandas Series and Dataframes"
   ]
  },
  {
   "cell_type": "markdown",
   "metadata": {},
   "source": [
    "### Python operations"
   ]
  },
  {
   "cell_type": "code",
   "execution_count": 74,
   "metadata": {
    "ExecuteTime": {
     "end_time": "2017-10-03T17:23:58.168000Z",
     "start_time": "2017-10-03T19:23:58.153000+02:00"
    }
   },
   "outputs": [
    {
     "name": "stdout",
     "output_type": "stream",
     "text": [
      "   0  1  2\n",
      "0  1  2  3\n",
      "1  4  5  6\n",
      "    0   1   2\n",
      "0   3   6   9\n",
      "1  12  15  18\n",
      "    0   1   2\n",
      "0   4   8  12\n",
      "1  16  20  24\n"
     ]
    }
   ],
   "source": [
    "print(DF1)\n",
    "DF2=3*DF1\n",
    "print(DF2)\n",
    "print(DF1.add(DF2))"
   ]
  },
  {
   "cell_type": "markdown",
   "metadata": {},
   "source": [
    "### Numpy operations on Pandas Series and Dataframes "
   ]
  },
  {
   "cell_type": "code",
   "execution_count": 75,
   "metadata": {
    "ExecuteTime": {
     "end_time": "2017-10-03T17:24:09.141000Z",
     "start_time": "2017-10-03T19:24:09.088000+02:00"
    }
   },
   "outputs": [
    {
     "name": "stdout",
     "output_type": "stream",
     "text": [
      "0    10\n",
      "1    20\n",
      "2    30\n",
      "3    40\n",
      "dtype: int64\n"
     ]
    }
   ],
   "source": [
    "print(S1)"
   ]
  },
  {
   "cell_type": "code",
   "execution_count": 76,
   "metadata": {
    "ExecuteTime": {
     "end_time": "2017-10-03T17:24:17.259000Z",
     "start_time": "2017-10-03T19:24:17.259000+02:00"
    }
   },
   "outputs": [
    {
     "name": "stdout",
     "output_type": "stream",
     "text": [
      "   0  1  2\n",
      "0  1  2  3\n",
      "1  4  5  6\n"
     ]
    }
   ],
   "source": [
    "print(DF1)"
   ]
  },
  {
   "cell_type": "code",
   "execution_count": 77,
   "metadata": {
    "ExecuteTime": {
     "end_time": "2017-10-03T17:25:26.168000Z",
     "start_time": "2017-10-03T19:25:26.005000+02:00"
    }
   },
   "outputs": [
    {
     "name": "stdout",
     "output_type": "stream",
     "text": [
      "----------------------------------------\n",
      "\n",
      "log2 of series values:\n",
      " 0    3.321928\n",
      "1    4.321928\n",
      "2    4.906891\n",
      "3    5.321928\n",
      "dtype: float64\n",
      "\n",
      "log2 of dataframe values:\n",
      "      0         1         2\n",
      "0  0.0  1.000000  1.584963\n",
      "1  2.0  2.321928  2.584963\n",
      "----------------------------------------\n",
      "\n",
      "Sinus of series values:\n",
      " 0   -0.544021\n",
      "1    0.912945\n",
      "2   -0.988032\n",
      "3    0.745113\n",
      "dtype: float64\n",
      "\n",
      "Sinus of dataframe values:\n",
      "           0         1         2\n",
      "0  0.841471  0.909297  0.141120\n",
      "1 -0.756802 -0.958924 -0.279415\n",
      "----------------------------------------\n",
      "\n",
      "Second power of series values:\n",
      " 0     100\n",
      "1     400\n",
      "2     900\n",
      "3    1600\n",
      "dtype: int64\n",
      "\n",
      "Second power of dataframe values:\n",
      "     0   1   2\n",
      "0   1   4   9\n",
      "1  16  25  36\n"
     ]
    }
   ],
   "source": [
    "print(\"-\"*40)\n",
    "print(\"\\nlog2 of series values:\\n\",np.log2(S1))\n",
    "print(\"\\nlog2 of dataframe values:\\n\",np.log2(DF1))\n",
    "\n",
    "print(\"-\"*40)\n",
    "print(\"\\nSinus of series values:\\n\",np.sin(S1))\n",
    "print(\"\\nSinus of dataframe values:\\n\",np.sin(DF1))\n",
    "\n",
    "print(\"-\"*40)\n",
    "print(\"\\nSecond power of series values:\\n\",np.power(S1,2))\n",
    "print(\"\\nSecond power of dataframe values:\\n\",np.power(DF1,2))"
   ]
  },
  {
   "cell_type": "code",
   "execution_count": 78,
   "metadata": {
    "ExecuteTime": {
     "end_time": "2017-10-03T17:25:48.526000Z",
     "start_time": "2017-10-03T19:25:48.457000+02:00"
    }
   },
   "outputs": [
    {
     "name": "stdout",
     "output_type": "stream",
     "text": [
      "Which series value are in the specified range:\n",
      " 2016-09-29    False\n",
      "2016-10-01    False\n",
      "2016-10-03    False\n",
      "2016-10-05     True\n",
      "2016-10-07     True\n",
      "Freq: 2D, dtype: bool\n",
      "\n",
      "Maximum value in series:\n",
      " 4\n",
      "\n",
      "Index of maximum value\n",
      " 2016-10-07 00:00:00\n"
     ]
    }
   ],
   "source": [
    "print(\"Which series value are in the specified range:\\n\",TS2.between(3,8))\n",
    "print(\"\\nMaximum value in series:\\n\",TS2.max())\n",
    "print(\"\\nIndex of maximum value\\n\",TS2.idxmax())"
   ]
  }
 ],
 "metadata": {
  "anaconda-cloud": {},
  "kernelspec": {
   "display_name": "Python 3",
   "language": "python",
   "name": "python3"
  },
  "language_info": {
   "codemirror_mode": {
    "name": "ipython",
    "version": 3
   },
   "file_extension": ".py",
   "mimetype": "text/x-python",
   "name": "python",
   "nbconvert_exporter": "python",
   "pygments_lexer": "ipython3",
   "version": "3.7.5"
  },
  "nav_menu": {},
  "toc": {
   "base_numbering": 1,
   "nav_menu": {},
   "number_sections": true,
   "sideBar": true,
   "skip_h1_title": false,
   "title_cell": "Table of Contents",
   "title_sidebar": "Contents",
   "toc_cell": false,
   "toc_position": {},
   "toc_section_display": "block",
   "toc_window_display": false
  },
  "toc_position": {
   "height": "840px",
   "left": "0px",
   "right": "1650px",
   "top": "107px",
   "width": "270px"
  },
  "varInspector": {
   "cols": {
    "lenName": 16,
    "lenType": 16,
    "lenVar": 40
   },
   "kernels_config": {
    "python": {
     "delete_cmd_postfix": "",
     "delete_cmd_prefix": "del ",
     "library": "var_list.py",
     "varRefreshCmd": "print(var_dic_list())"
    },
    "r": {
     "delete_cmd_postfix": ") ",
     "delete_cmd_prefix": "rm(",
     "library": "var_list.r",
     "varRefreshCmd": "cat(var_dic_list()) "
    }
   },
   "types_to_exclude": [
    "module",
    "function",
    "builtin_function_or_method",
    "instance",
    "_Feature"
   ],
   "window_display": false
  }
 },
 "nbformat": 4,
 "nbformat_minor": 2
}

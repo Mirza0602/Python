{
 "cells": [
  {
   "cell_type": "markdown",
   "metadata": {},
   "source": [
    "# MongoDB Experiments\n",
    "\n",
    "* Author: Johannes Maucher\n",
    "* Last Update: 18.05.2018\n",
    "\n",
    "## Prerequisites\n",
    "For the experiments in this notebook MongoDB must be installed. It can be downloaded from [MongoDB Community Server Download](https://www.mongodb.com/download-center#community). After installation the MongoDB environment must be set up as described in the [MongoDB installation and setup tutorial](https://docs.mongodb.com/manual/tutorial). As described in this tutorial a data directory for MongoDB must be defined. In the case that the MongoDB data dirctory is `d:\\test\\mongodb\\data`. Enter the following command in a shell in order to start the MongoDB server:\n",
    "\n",
    "`\"C:\\Program Files\\MongoDB\\Server\\3.4\\bin\\mongod.exe\" --dbpath d:\\test\\mongodb\\data`\n",
    "\n",
    "> Notes JM: \n",
    "> * The first part of the command above is the script to start the mongoDB server. Instead of providing the full path, `mongodb` is sufficient, if the following line has been included in the *.bash_profile*-file:\n",
    "> `export PATH=\"/Users/maucher/mongodb/bin:$PATH\"`\n",
    "> the second part of the command defines the path to the mongoDB database, on my Macbook, this is `/Users/maucher/DataSets/mongodb/data`. On thinkpad the path is `C:\\Users\\maucher\\DataSets\\world-food-fact`\n",
    "\n",
    "The example data used in this notebook comes from [OpenFoodFacts](https://world.openfoodfacts.org/data). A MongoDB dump of this data can be downloaded from [MongoDB dump of OpenFoodFacts](http://world.openfoodfacts.org/data/openfoodfacts-mongodbdump.tar.gz). Decompress the downloaded archive and move the `.tsv` file to your MongoDB data directory. \n",
    "\n",
    "Apply the *mongoimport*-command to import the *.tsv*-dump into the MongoDB database by typing the following command into a shell:\n",
    "\n",
    "`\"C:\\Program Files\\MongoDB\\Server\\3.4\\bin\\mongoimport.exe\" --db fooddata --type tsv --file d:\\test\\mongodb\\data\\en.openfoodfacts.org.products.tsv --ignoreBlanks --headerline`\n",
    "\n",
    "Finally the `pymongo`- package must be installed, e.g. by `conda install pymongo`. Then the local *Open Food Facts-MongoDB* can be accessed as demonstrated in this notebook. [pymongo tutorial](http://api.mongodb.com/python/current/tutorial.html) provides a quick *pymongo*-introduction.  "
   ]
  },
  {
   "cell_type": "markdown",
   "metadata": {},
   "source": [
    "## Access local Open Food Facts MongoDb\n",
    "\n",
    "> Note that the MongoDB Server must run in order to execute the following client-actions (as described above)."
   ]
  },
  {
   "cell_type": "code",
   "execution_count": 2,
   "metadata": {
    "ExecuteTime": {
     "end_time": "2017-11-20T14:36:57.202000Z",
     "start_time": "2017-11-20T15:36:56.965000+01:00"
    }
   },
   "outputs": [],
   "source": [
    "import pymongo\n",
    "import pprint\n",
    "import pandas as pd\n",
    "from IPython.display import display"
   ]
  },
  {
   "cell_type": "markdown",
   "metadata": {},
   "source": [
    "Create MongoDB client and connect to the running MongoDB server:"
   ]
  },
  {
   "cell_type": "code",
   "execution_count": 3,
   "metadata": {
    "ExecuteTime": {
     "end_time": "2017-11-20T17:07:17.376000Z",
     "start_time": "2017-11-20T18:07:17.365000+01:00"
    }
   },
   "outputs": [
    {
     "name": "stdout",
     "output_type": "stream",
     "text": [
      "('localhost', 27017)\n",
      "['admin', 'config', 'fooddata', 'local', 'progCourseData']\n"
     ]
    }
   ],
   "source": [
    "from pymongo import MongoClient\n",
    "client = MongoClient()\n",
    "client = MongoClient('mongodb://localhost:27017/')\n",
    "print(client.address)\n",
    "print(client.database_names())"
   ]
  },
  {
   "cell_type": "markdown",
   "metadata": {},
   "source": [
    "Select the `progCourseData`-database. This database contains several datasets, applied in the *Programming for Data Science*-course."
   ]
  },
  {
   "cell_type": "code",
   "execution_count": 4,
   "metadata": {
    "ExecuteTime": {
     "end_time": "2017-11-20T17:08:16.842000Z",
     "start_time": "2017-11-20T18:08:16.838000+01:00"
    }
   },
   "outputs": [],
   "source": [
    "db = client['progCourseData']"
   ]
  },
  {
   "cell_type": "markdown",
   "metadata": {},
   "source": [
    "In MongoDB *collections* are like tables in other database types. A list of all collection names can be obtained as follows:"
   ]
  },
  {
   "cell_type": "code",
   "execution_count": 5,
   "metadata": {
    "ExecuteTime": {
     "end_time": "2017-11-20T17:08:36.027000Z",
     "start_time": "2017-11-20T18:08:36.020000+01:00"
    }
   },
   "outputs": [
    {
     "name": "stdout",
     "output_type": "stream",
     "text": [
      "progCourseData\n",
      "['lobbyPediaParteispenden', 'insurance', 'humanResources', 'VideoGamesSales-22-12-2016', 'EnergyMixGeoClust']\n"
     ]
    }
   ],
   "source": [
    "print(db.name)\n",
    "print(db.collection_names())"
   ]
  },
  {
   "cell_type": "markdown",
   "metadata": {},
   "source": [
    "## Import data from csv File into mongoDB\n",
    "The following command can be applied (either from shell or in jupyter notebook) for importing data into the Mongo database. Note that this command should be executed only once. A second run yields a doubling of data."
   ]
  },
  {
   "cell_type": "code",
   "execution_count": 5,
   "metadata": {},
   "outputs": [],
   "source": [
    "#!/Users/maucher/mongodb/bin/mongoimport --db progCourseData --type csv --file /Users/maucher/DataSets/DataFromProgramming/lobbyPediaParteispenden.csv --ignoreBlanks --headerline"
   ]
  },
  {
   "cell_type": "markdown",
   "metadata": {},
   "source": [
    "The better option is maybe to use the `--drop` option, which drops a collecion, if it exists, before creating the new. "
   ]
  },
  {
   "cell_type": "code",
   "execution_count": 6,
   "metadata": {},
   "outputs": [
    {
     "name": "stdout",
     "output_type": "stream",
     "text": [
      "2018-10-02T21:00:16.169+0200\tno collection specified\n",
      "2018-10-02T21:00:16.169+0200\tusing filename 'lobbyPediaParteispenden' as collection\n",
      "2018-10-02T21:00:16.183+0200\tconnected to: localhost\n",
      "2018-10-02T21:00:16.183+0200\tdropping: progCourseData.lobbyPediaParteispenden\n",
      "2018-10-02T21:00:16.329+0200\timported 2466 documents\n"
     ]
    }
   ],
   "source": [
    "!/Users/maucher/mongodb/bin/mongoimport --db progCourseData --type csv --file /Users/maucher/DataSets/DataFromProgramming/lobbyPediaParteispenden.csv --ignoreBlanks --headerline --drop"
   ]
  },
  {
   "cell_type": "code",
   "execution_count": 7,
   "metadata": {},
   "outputs": [
    {
     "name": "stdout",
     "output_type": "stream",
     "text": [
      "['lobbyPediaParteispenden', 'insurance', 'humanResources', 'VideoGamesSales-22-12-2016', 'EnergyMixGeoClust']\n"
     ]
    }
   ],
   "source": [
    "print(db.collection_names())"
   ]
  },
  {
   "cell_type": "markdown",
   "metadata": {},
   "source": [
    "## Drop a collection"
   ]
  },
  {
   "cell_type": "code",
   "execution_count": 8,
   "metadata": {},
   "outputs": [],
   "source": [
    "#db.drop_collection(\"lobbyPediaParteispenden\")"
   ]
  },
  {
   "cell_type": "markdown",
   "metadata": {},
   "source": [
    "## Access a database collection (a table of the database)\n",
    "Create the interface to the collection (table):` [The Mongo DB documentation](https://docs.mongodb.com/manual/reference/method/db.getCollection/) says that the following two options are functionally equivalent:\n",
    "\n",
    "* `db.get_collection(\"collectionName\")`\n",
    "* `db.collectionName`\n"
   ]
  },
  {
   "cell_type": "code",
   "execution_count": 9,
   "metadata": {
    "ExecuteTime": {
     "end_time": "2017-11-20T17:08:45.067000Z",
     "start_time": "2017-11-20T18:08:45.064000+01:00"
    }
   },
   "outputs": [],
   "source": [
    "#coll=db.EnergyMixGeoClust\n",
    "coll=db.get_collection(\"EnergyMixGeoClust\")\n",
    "#coll=db.get_collection(\"lobbyPediaParteispenden\")"
   ]
  },
  {
   "cell_type": "markdown",
   "metadata": {},
   "source": [
    "Determine the number of items in the collection (rows in the table):"
   ]
  },
  {
   "cell_type": "code",
   "execution_count": 10,
   "metadata": {
    "ExecuteTime": {
     "end_time": "2017-11-20T17:09:10.135000Z",
     "start_time": "2017-11-20T18:09:10.112000+01:00"
    }
   },
   "outputs": [
    {
     "data": {
      "text/plain": [
       "65"
      ]
     },
     "execution_count": 10,
     "metadata": {},
     "output_type": "execute_result"
    }
   ],
   "source": [
    "coll.count()"
   ]
  },
  {
   "cell_type": "markdown",
   "metadata": {},
   "source": [
    "## Write Mongo DB to Pandas Dataframe"
   ]
  },
  {
   "cell_type": "markdown",
   "metadata": {},
   "source": [
    "`find()` without any arguments (a query) returns the entire database as a cursor-object:"
   ]
  },
  {
   "cell_type": "code",
   "execution_count": 11,
   "metadata": {},
   "outputs": [],
   "source": [
    "datadict=coll.find()"
   ]
  },
  {
   "cell_type": "code",
   "execution_count": 12,
   "metadata": {},
   "outputs": [
    {
     "name": "stdout",
     "output_type": "stream",
     "text": [
      "<class 'pymongo.cursor.Cursor'>\n"
     ]
    }
   ],
   "source": [
    "print(type(datadict))"
   ]
  },
  {
   "cell_type": "markdown",
   "metadata": {},
   "source": [
    "Write database contents to pandas dataframe:"
   ]
  },
  {
   "cell_type": "code",
   "execution_count": 13,
   "metadata": {},
   "outputs": [],
   "source": [
    "energyDF=pd.DataFrame(list(datadict))"
   ]
  },
  {
   "cell_type": "code",
   "execution_count": 14,
   "metadata": {},
   "outputs": [
    {
     "data": {
      "text/plain": [
       "(65, 13)"
      ]
     },
     "execution_count": 14,
     "metadata": {},
     "output_type": "execute_result"
    }
   ],
   "source": [
    "energyDF.shape"
   ]
  },
  {
   "cell_type": "code",
   "execution_count": 15,
   "metadata": {},
   "outputs": [
    {
     "data": {
      "text/html": [
       "<div>\n",
       "<style scoped>\n",
       "    .dataframe tbody tr th:only-of-type {\n",
       "        vertical-align: middle;\n",
       "    }\n",
       "\n",
       "    .dataframe tbody tr th {\n",
       "        vertical-align: top;\n",
       "    }\n",
       "\n",
       "    .dataframe thead th {\n",
       "        text-align: right;\n",
       "    }\n",
       "</style>\n",
       "<table border=\"1\" class=\"dataframe\">\n",
       "  <thead>\n",
       "    <tr style=\"text-align: right;\">\n",
       "      <th></th>\n",
       "      <th></th>\n",
       "      <th>CO2Emm</th>\n",
       "      <th>Cluster</th>\n",
       "      <th>Coal</th>\n",
       "      <th>Country</th>\n",
       "      <th>Gas</th>\n",
       "      <th>Hydro</th>\n",
       "      <th>Lat</th>\n",
       "      <th>Long</th>\n",
       "      <th>Nuclear</th>\n",
       "      <th>Oil</th>\n",
       "      <th>Total2009</th>\n",
       "      <th>_id</th>\n",
       "    </tr>\n",
       "  </thead>\n",
       "  <tbody>\n",
       "    <tr>\n",
       "      <th>0</th>\n",
       "      <td>1</td>\n",
       "      <td>602.7</td>\n",
       "      <td>5</td>\n",
       "      <td>26.5</td>\n",
       "      <td>Canada</td>\n",
       "      <td>85.2</td>\n",
       "      <td>90.2</td>\n",
       "      <td>56.130366</td>\n",
       "      <td>-106.346771</td>\n",
       "      <td>20.3</td>\n",
       "      <td>97.0</td>\n",
       "      <td>319.2</td>\n",
       "      <td>5afddb89ef93e059be279628</td>\n",
       "    </tr>\n",
       "    <tr>\n",
       "      <th>1</th>\n",
       "      <td>4</td>\n",
       "      <td>409.4</td>\n",
       "      <td>5</td>\n",
       "      <td>11.7</td>\n",
       "      <td>Brazil</td>\n",
       "      <td>18.3</td>\n",
       "      <td>88.5</td>\n",
       "      <td>-14.235004</td>\n",
       "      <td>-51.925280</td>\n",
       "      <td>2.9</td>\n",
       "      <td>104.3</td>\n",
       "      <td>225.7</td>\n",
       "      <td>5afddb89ef93e059be279629</td>\n",
       "    </tr>\n",
       "    <tr>\n",
       "      <th>2</th>\n",
       "      <td>0</td>\n",
       "      <td>5941.9</td>\n",
       "      <td>6</td>\n",
       "      <td>498.0</td>\n",
       "      <td>US</td>\n",
       "      <td>588.7</td>\n",
       "      <td>62.2</td>\n",
       "      <td>37.090240</td>\n",
       "      <td>-95.712891</td>\n",
       "      <td>190.2</td>\n",
       "      <td>842.9</td>\n",
       "      <td>2182.0</td>\n",
       "      <td>5afddb89ef93e059be27962a</td>\n",
       "    </tr>\n",
       "    <tr>\n",
       "      <th>3</th>\n",
       "      <td>2</td>\n",
       "      <td>436.8</td>\n",
       "      <td>6</td>\n",
       "      <td>6.8</td>\n",
       "      <td>Mexico</td>\n",
       "      <td>62.7</td>\n",
       "      <td>6.0</td>\n",
       "      <td>23.634501</td>\n",
       "      <td>-102.552784</td>\n",
       "      <td>2.2</td>\n",
       "      <td>85.6</td>\n",
       "      <td>163.2</td>\n",
       "      <td>5afddb89ef93e059be27962b</td>\n",
       "    </tr>\n",
       "    <tr>\n",
       "      <th>4</th>\n",
       "      <td>5</td>\n",
       "      <td>70.3</td>\n",
       "      <td>5</td>\n",
       "      <td>4.1</td>\n",
       "      <td>Chile</td>\n",
       "      <td>3.0</td>\n",
       "      <td>5.6</td>\n",
       "      <td>-35.675147</td>\n",
       "      <td>-71.542969</td>\n",
       "      <td>0.0</td>\n",
       "      <td>15.4</td>\n",
       "      <td>28.1</td>\n",
       "      <td>5afddb89ef93e059be27962c</td>\n",
       "    </tr>\n",
       "  </tbody>\n",
       "</table>\n",
       "</div>"
      ],
      "text/plain": [
       "      CO2Emm  Cluster   Coal Country    Gas  Hydro        Lat        Long  \\\n",
       "0  1   602.7        5   26.5  Canada   85.2   90.2  56.130366 -106.346771   \n",
       "1  4   409.4        5   11.7  Brazil   18.3   88.5 -14.235004  -51.925280   \n",
       "2  0  5941.9        6  498.0      US  588.7   62.2  37.090240  -95.712891   \n",
       "3  2   436.8        6    6.8  Mexico   62.7    6.0  23.634501 -102.552784   \n",
       "4  5    70.3        5    4.1   Chile    3.0    5.6 -35.675147  -71.542969   \n",
       "\n",
       "   Nuclear    Oil  Total2009                       _id  \n",
       "0     20.3   97.0      319.2  5afddb89ef93e059be279628  \n",
       "1      2.9  104.3      225.7  5afddb89ef93e059be279629  \n",
       "2    190.2  842.9     2182.0  5afddb89ef93e059be27962a  \n",
       "3      2.2   85.6      163.2  5afddb89ef93e059be27962b  \n",
       "4      0.0   15.4       28.1  5afddb89ef93e059be27962c  "
      ]
     },
     "metadata": {},
     "output_type": "display_data"
    }
   ],
   "source": [
    "display(energyDF.head())"
   ]
  },
  {
   "cell_type": "code",
   "execution_count": 16,
   "metadata": {
    "scrolled": false
   },
   "outputs": [
    {
     "data": {
      "text/plain": [
       "Index(['', 'CO2Emm', 'Cluster', 'Coal', 'Country', 'Gas', 'Hydro', 'Lat',\n",
       "       'Long', 'Nuclear', 'Oil', 'Total2009', '_id'],\n",
       "      dtype='object')"
      ]
     },
     "execution_count": 16,
     "metadata": {},
     "output_type": "execute_result"
    }
   ],
   "source": [
    "energyDF.columns"
   ]
  },
  {
   "cell_type": "code",
   "execution_count": 17,
   "metadata": {},
   "outputs": [],
   "source": [
    "energyDF=energyDF.drop(columns=[\"_id\"])"
   ]
  },
  {
   "cell_type": "code",
   "execution_count": 18,
   "metadata": {},
   "outputs": [
    {
     "data": {
      "text/html": [
       "<div>\n",
       "<style scoped>\n",
       "    .dataframe tbody tr th:only-of-type {\n",
       "        vertical-align: middle;\n",
       "    }\n",
       "\n",
       "    .dataframe tbody tr th {\n",
       "        vertical-align: top;\n",
       "    }\n",
       "\n",
       "    .dataframe thead th {\n",
       "        text-align: right;\n",
       "    }\n",
       "</style>\n",
       "<table border=\"1\" class=\"dataframe\">\n",
       "  <thead>\n",
       "    <tr style=\"text-align: right;\">\n",
       "      <th></th>\n",
       "      <th></th>\n",
       "      <th>CO2Emm</th>\n",
       "      <th>Cluster</th>\n",
       "      <th>Coal</th>\n",
       "      <th>Country</th>\n",
       "      <th>Gas</th>\n",
       "      <th>Hydro</th>\n",
       "      <th>Lat</th>\n",
       "      <th>Long</th>\n",
       "      <th>Nuclear</th>\n",
       "      <th>Oil</th>\n",
       "      <th>Total2009</th>\n",
       "    </tr>\n",
       "  </thead>\n",
       "  <tbody>\n",
       "    <tr>\n",
       "      <th>0</th>\n",
       "      <td>1</td>\n",
       "      <td>602.7</td>\n",
       "      <td>5</td>\n",
       "      <td>26.5</td>\n",
       "      <td>Canada</td>\n",
       "      <td>85.2</td>\n",
       "      <td>90.2</td>\n",
       "      <td>56.130366</td>\n",
       "      <td>-106.346771</td>\n",
       "      <td>20.3</td>\n",
       "      <td>97.0</td>\n",
       "      <td>319.2</td>\n",
       "    </tr>\n",
       "    <tr>\n",
       "      <th>1</th>\n",
       "      <td>4</td>\n",
       "      <td>409.4</td>\n",
       "      <td>5</td>\n",
       "      <td>11.7</td>\n",
       "      <td>Brazil</td>\n",
       "      <td>18.3</td>\n",
       "      <td>88.5</td>\n",
       "      <td>-14.235004</td>\n",
       "      <td>-51.925280</td>\n",
       "      <td>2.9</td>\n",
       "      <td>104.3</td>\n",
       "      <td>225.7</td>\n",
       "    </tr>\n",
       "    <tr>\n",
       "      <th>2</th>\n",
       "      <td>0</td>\n",
       "      <td>5941.9</td>\n",
       "      <td>6</td>\n",
       "      <td>498.0</td>\n",
       "      <td>US</td>\n",
       "      <td>588.7</td>\n",
       "      <td>62.2</td>\n",
       "      <td>37.090240</td>\n",
       "      <td>-95.712891</td>\n",
       "      <td>190.2</td>\n",
       "      <td>842.9</td>\n",
       "      <td>2182.0</td>\n",
       "    </tr>\n",
       "    <tr>\n",
       "      <th>3</th>\n",
       "      <td>2</td>\n",
       "      <td>436.8</td>\n",
       "      <td>6</td>\n",
       "      <td>6.8</td>\n",
       "      <td>Mexico</td>\n",
       "      <td>62.7</td>\n",
       "      <td>6.0</td>\n",
       "      <td>23.634501</td>\n",
       "      <td>-102.552784</td>\n",
       "      <td>2.2</td>\n",
       "      <td>85.6</td>\n",
       "      <td>163.2</td>\n",
       "    </tr>\n",
       "    <tr>\n",
       "      <th>4</th>\n",
       "      <td>5</td>\n",
       "      <td>70.3</td>\n",
       "      <td>5</td>\n",
       "      <td>4.1</td>\n",
       "      <td>Chile</td>\n",
       "      <td>3.0</td>\n",
       "      <td>5.6</td>\n",
       "      <td>-35.675147</td>\n",
       "      <td>-71.542969</td>\n",
       "      <td>0.0</td>\n",
       "      <td>15.4</td>\n",
       "      <td>28.1</td>\n",
       "    </tr>\n",
       "  </tbody>\n",
       "</table>\n",
       "</div>"
      ],
      "text/plain": [
       "      CO2Emm  Cluster   Coal Country    Gas  Hydro        Lat        Long  \\\n",
       "0  1   602.7        5   26.5  Canada   85.2   90.2  56.130366 -106.346771   \n",
       "1  4   409.4        5   11.7  Brazil   18.3   88.5 -14.235004  -51.925280   \n",
       "2  0  5941.9        6  498.0      US  588.7   62.2  37.090240  -95.712891   \n",
       "3  2   436.8        6    6.8  Mexico   62.7    6.0  23.634501 -102.552784   \n",
       "4  5    70.3        5    4.1   Chile    3.0    5.6 -35.675147  -71.542969   \n",
       "\n",
       "   Nuclear    Oil  Total2009  \n",
       "0     20.3   97.0      319.2  \n",
       "1      2.9  104.3      225.7  \n",
       "2    190.2  842.9     2182.0  \n",
       "3      2.2   85.6      163.2  \n",
       "4      0.0   15.4       28.1  "
      ]
     },
     "metadata": {},
     "output_type": "display_data"
    }
   ],
   "source": [
    "display(energyDF.head())"
   ]
  },
  {
   "cell_type": "markdown",
   "metadata": {},
   "source": [
    "### Get items of the collection\n",
    "Retrieve first element of the database:"
   ]
  },
  {
   "cell_type": "code",
   "execution_count": 19,
   "metadata": {
    "ExecuteTime": {
     "end_time": "2017-11-20T17:09:22.364000Z",
     "start_time": "2017-11-20T18:09:22.330000+01:00"
    },
    "scrolled": false
   },
   "outputs": [
    {
     "name": "stdout",
     "output_type": "stream",
     "text": [
      "{'': 1,\n",
      " 'CO2Emm': 602.7,\n",
      " 'Cluster': 5,\n",
      " 'Coal': 26.5,\n",
      " 'Country': 'Canada',\n",
      " 'Gas': 85.2,\n",
      " 'Hydro': 90.2,\n",
      " 'Lat': 56.130366,\n",
      " 'Long': -106.346771,\n",
      " 'Nuclear': 20.3,\n",
      " 'Oil': 97.0,\n",
      " 'Total2009': 319.2,\n",
      " '_id': ObjectId('5afddb89ef93e059be279628')}\n"
     ]
    }
   ],
   "source": [
    "item=coll.find_one()\n",
    "pprint.pprint(item)"
   ]
  },
  {
   "cell_type": "markdown",
   "metadata": {},
   "source": [
    "Get subset according to specified query:"
   ]
  },
  {
   "cell_type": "code",
   "execution_count": 20,
   "metadata": {},
   "outputs": [],
   "source": [
    "nuclear=coll.find({\"Nuclear\": { '$gt': 0.0 }})"
   ]
  },
  {
   "cell_type": "code",
   "execution_count": 21,
   "metadata": {},
   "outputs": [
    {
     "data": {
      "text/html": [
       "<div>\n",
       "<style scoped>\n",
       "    .dataframe tbody tr th:only-of-type {\n",
       "        vertical-align: middle;\n",
       "    }\n",
       "\n",
       "    .dataframe tbody tr th {\n",
       "        vertical-align: top;\n",
       "    }\n",
       "\n",
       "    .dataframe thead th {\n",
       "        text-align: right;\n",
       "    }\n",
       "</style>\n",
       "<table border=\"1\" class=\"dataframe\">\n",
       "  <thead>\n",
       "    <tr style=\"text-align: right;\">\n",
       "      <th></th>\n",
       "      <th></th>\n",
       "      <th>CO2Emm</th>\n",
       "      <th>Cluster</th>\n",
       "      <th>Coal</th>\n",
       "      <th>Country</th>\n",
       "      <th>Gas</th>\n",
       "      <th>Hydro</th>\n",
       "      <th>Lat</th>\n",
       "      <th>Long</th>\n",
       "      <th>Nuclear</th>\n",
       "      <th>Oil</th>\n",
       "      <th>Total2009</th>\n",
       "      <th>_id</th>\n",
       "    </tr>\n",
       "  </thead>\n",
       "  <tbody>\n",
       "    <tr>\n",
       "      <th>0</th>\n",
       "      <td>1</td>\n",
       "      <td>602.7</td>\n",
       "      <td>5</td>\n",
       "      <td>26.5</td>\n",
       "      <td>Canada</td>\n",
       "      <td>85.2</td>\n",
       "      <td>90.2</td>\n",
       "      <td>56.130366</td>\n",
       "      <td>-106.346771</td>\n",
       "      <td>20.3</td>\n",
       "      <td>97.0</td>\n",
       "      <td>319.2</td>\n",
       "      <td>5afddb89ef93e059be279628</td>\n",
       "    </tr>\n",
       "    <tr>\n",
       "      <th>1</th>\n",
       "      <td>4</td>\n",
       "      <td>409.4</td>\n",
       "      <td>5</td>\n",
       "      <td>11.7</td>\n",
       "      <td>Brazil</td>\n",
       "      <td>18.3</td>\n",
       "      <td>88.5</td>\n",
       "      <td>-14.235004</td>\n",
       "      <td>-51.925280</td>\n",
       "      <td>2.9</td>\n",
       "      <td>104.3</td>\n",
       "      <td>225.7</td>\n",
       "      <td>5afddb89ef93e059be279629</td>\n",
       "    </tr>\n",
       "    <tr>\n",
       "      <th>2</th>\n",
       "      <td>0</td>\n",
       "      <td>5941.9</td>\n",
       "      <td>6</td>\n",
       "      <td>498.0</td>\n",
       "      <td>US</td>\n",
       "      <td>588.7</td>\n",
       "      <td>62.2</td>\n",
       "      <td>37.090240</td>\n",
       "      <td>-95.712891</td>\n",
       "      <td>190.2</td>\n",
       "      <td>842.9</td>\n",
       "      <td>2182.0</td>\n",
       "      <td>5afddb89ef93e059be27962a</td>\n",
       "    </tr>\n",
       "    <tr>\n",
       "      <th>3</th>\n",
       "      <td>2</td>\n",
       "      <td>436.8</td>\n",
       "      <td>6</td>\n",
       "      <td>6.8</td>\n",
       "      <td>Mexico</td>\n",
       "      <td>62.7</td>\n",
       "      <td>6.0</td>\n",
       "      <td>23.634501</td>\n",
       "      <td>-102.552784</td>\n",
       "      <td>2.2</td>\n",
       "      <td>85.6</td>\n",
       "      <td>163.2</td>\n",
       "      <td>5afddb89ef93e059be27962b</td>\n",
       "    </tr>\n",
       "    <tr>\n",
       "      <th>4</th>\n",
       "      <td>3</td>\n",
       "      <td>164.2</td>\n",
       "      <td>4</td>\n",
       "      <td>1.1</td>\n",
       "      <td>Argentina</td>\n",
       "      <td>38.8</td>\n",
       "      <td>9.2</td>\n",
       "      <td>-38.416097</td>\n",
       "      <td>-63.616672</td>\n",
       "      <td>1.8</td>\n",
       "      <td>22.3</td>\n",
       "      <td>73.3</td>\n",
       "      <td>5afddb89ef93e059be27962d</td>\n",
       "    </tr>\n",
       "    <tr>\n",
       "      <th>5</th>\n",
       "      <td>13</td>\n",
       "      <td>172.8</td>\n",
       "      <td>6</td>\n",
       "      <td>4.6</td>\n",
       "      <td>Belgium</td>\n",
       "      <td>15.6</td>\n",
       "      <td>0.1</td>\n",
       "      <td>50.503887</td>\n",
       "      <td>4.469936</td>\n",
       "      <td>10.7</td>\n",
       "      <td>38.5</td>\n",
       "      <td>69.4</td>\n",
       "      <td>5afddb89ef93e059be279635</td>\n",
       "    </tr>\n",
       "    <tr>\n",
       "      <th>6</th>\n",
       "      <td>14</td>\n",
       "      <td>43.7</td>\n",
       "      <td>2</td>\n",
       "      <td>6.3</td>\n",
       "      <td>Bulgaria</td>\n",
       "      <td>2.2</td>\n",
       "      <td>0.9</td>\n",
       "      <td>42.733883</td>\n",
       "      <td>25.485830</td>\n",
       "      <td>3.5</td>\n",
       "      <td>4.4</td>\n",
       "      <td>17.4</td>\n",
       "      <td>5afddb89ef93e059be279636</td>\n",
       "    </tr>\n",
       "    <tr>\n",
       "      <th>7</th>\n",
       "      <td>15</td>\n",
       "      <td>109.5</td>\n",
       "      <td>2</td>\n",
       "      <td>15.8</td>\n",
       "      <td>Czech_Republic</td>\n",
       "      <td>7.4</td>\n",
       "      <td>0.7</td>\n",
       "      <td>49.817492</td>\n",
       "      <td>15.472962</td>\n",
       "      <td>6.1</td>\n",
       "      <td>9.7</td>\n",
       "      <td>39.6</td>\n",
       "      <td>5afddb89ef93e059be279637</td>\n",
       "    </tr>\n",
       "    <tr>\n",
       "      <th>8</th>\n",
       "      <td>17</td>\n",
       "      <td>52.5</td>\n",
       "      <td>6</td>\n",
       "      <td>3.7</td>\n",
       "      <td>Finland</td>\n",
       "      <td>3.2</td>\n",
       "      <td>2.9</td>\n",
       "      <td>61.924110</td>\n",
       "      <td>25.748151</td>\n",
       "      <td>5.4</td>\n",
       "      <td>9.9</td>\n",
       "      <td>25.0</td>\n",
       "      <td>5afddb89ef93e059be279639</td>\n",
       "    </tr>\n",
       "    <tr>\n",
       "      <th>9</th>\n",
       "      <td>18</td>\n",
       "      <td>398.7</td>\n",
       "      <td>3</td>\n",
       "      <td>10.1</td>\n",
       "      <td>France</td>\n",
       "      <td>38.4</td>\n",
       "      <td>13.1</td>\n",
       "      <td>46.227638</td>\n",
       "      <td>2.213749</td>\n",
       "      <td>92.9</td>\n",
       "      <td>87.5</td>\n",
       "      <td>241.9</td>\n",
       "      <td>5afddb89ef93e059be27963a</td>\n",
       "    </tr>\n",
       "    <tr>\n",
       "      <th>10</th>\n",
       "      <td>19</td>\n",
       "      <td>795.6</td>\n",
       "      <td>6</td>\n",
       "      <td>71.0</td>\n",
       "      <td>Germany</td>\n",
       "      <td>70.2</td>\n",
       "      <td>4.2</td>\n",
       "      <td>51.165691</td>\n",
       "      <td>10.451526</td>\n",
       "      <td>30.5</td>\n",
       "      <td>113.9</td>\n",
       "      <td>289.8</td>\n",
       "      <td>5afddb89ef93e059be27963b</td>\n",
       "    </tr>\n",
       "    <tr>\n",
       "      <th>11</th>\n",
       "      <td>21</td>\n",
       "      <td>53.6</td>\n",
       "      <td>4</td>\n",
       "      <td>2.5</td>\n",
       "      <td>Hungary</td>\n",
       "      <td>9.1</td>\n",
       "      <td>0.1</td>\n",
       "      <td>47.162494</td>\n",
       "      <td>19.503304</td>\n",
       "      <td>3.5</td>\n",
       "      <td>7.3</td>\n",
       "      <td>22.4</td>\n",
       "      <td>5afddb89ef93e059be27963d</td>\n",
       "    </tr>\n",
       "    <tr>\n",
       "      <th>12</th>\n",
       "      <td>26</td>\n",
       "      <td>15.3</td>\n",
       "      <td>3</td>\n",
       "      <td>0.2</td>\n",
       "      <td>Lithuania</td>\n",
       "      <td>2.5</td>\n",
       "      <td>0.3</td>\n",
       "      <td>55.169438</td>\n",
       "      <td>23.881275</td>\n",
       "      <td>2.5</td>\n",
       "      <td>2.9</td>\n",
       "      <td>8.2</td>\n",
       "      <td>5afddb89ef93e059be279642</td>\n",
       "    </tr>\n",
       "    <tr>\n",
       "      <th>13</th>\n",
       "      <td>27</td>\n",
       "      <td>265.1</td>\n",
       "      <td>6</td>\n",
       "      <td>7.9</td>\n",
       "      <td>Netherlands</td>\n",
       "      <td>35.0</td>\n",
       "      <td>0.0</td>\n",
       "      <td>52.132633</td>\n",
       "      <td>5.291266</td>\n",
       "      <td>1.0</td>\n",
       "      <td>49.4</td>\n",
       "      <td>93.3</td>\n",
       "      <td>5afddb89ef93e059be279644</td>\n",
       "    </tr>\n",
       "    <tr>\n",
       "      <th>14</th>\n",
       "      <td>31</td>\n",
       "      <td>83.7</td>\n",
       "      <td>4</td>\n",
       "      <td>6.2</td>\n",
       "      <td>Romania</td>\n",
       "      <td>12.2</td>\n",
       "      <td>3.6</td>\n",
       "      <td>45.943161</td>\n",
       "      <td>24.966760</td>\n",
       "      <td>2.7</td>\n",
       "      <td>9.9</td>\n",
       "      <td>34.6</td>\n",
       "      <td>5afddb89ef93e059be279647</td>\n",
       "    </tr>\n",
       "    <tr>\n",
       "      <th>15</th>\n",
       "      <td>32</td>\n",
       "      <td>1535.3</td>\n",
       "      <td>4</td>\n",
       "      <td>82.9</td>\n",
       "      <td>Russian_Federation</td>\n",
       "      <td>350.7</td>\n",
       "      <td>39.8</td>\n",
       "      <td>61.524010</td>\n",
       "      <td>105.318756</td>\n",
       "      <td>37.0</td>\n",
       "      <td>124.9</td>\n",
       "      <td>635.3</td>\n",
       "      <td>5afddb89ef93e059be279648</td>\n",
       "    </tr>\n",
       "    <tr>\n",
       "      <th>16</th>\n",
       "      <td>33</td>\n",
       "      <td>38.1</td>\n",
       "      <td>4</td>\n",
       "      <td>3.6</td>\n",
       "      <td>Slovakia</td>\n",
       "      <td>5.1</td>\n",
       "      <td>1.1</td>\n",
       "      <td>48.669026</td>\n",
       "      <td>19.699024</td>\n",
       "      <td>3.2</td>\n",
       "      <td>3.9</td>\n",
       "      <td>16.8</td>\n",
       "      <td>5afddb89ef93e059be279649</td>\n",
       "    </tr>\n",
       "    <tr>\n",
       "      <th>17</th>\n",
       "      <td>34</td>\n",
       "      <td>338.7</td>\n",
       "      <td>6</td>\n",
       "      <td>10.6</td>\n",
       "      <td>Spain</td>\n",
       "      <td>31.1</td>\n",
       "      <td>6.1</td>\n",
       "      <td>40.463667</td>\n",
       "      <td>-3.749220</td>\n",
       "      <td>12.0</td>\n",
       "      <td>72.9</td>\n",
       "      <td>132.6</td>\n",
       "      <td>5afddb89ef93e059be27964a</td>\n",
       "    </tr>\n",
       "    <tr>\n",
       "      <th>18</th>\n",
       "      <td>35</td>\n",
       "      <td>50.9</td>\n",
       "      <td>1</td>\n",
       "      <td>1.6</td>\n",
       "      <td>Sweden</td>\n",
       "      <td>1.0</td>\n",
       "      <td>14.9</td>\n",
       "      <td>60.128161</td>\n",
       "      <td>18.643501</td>\n",
       "      <td>11.9</td>\n",
       "      <td>13.7</td>\n",
       "      <td>43.2</td>\n",
       "      <td>5afddb89ef93e059be27964b</td>\n",
       "    </tr>\n",
       "    <tr>\n",
       "      <th>19</th>\n",
       "      <td>36</td>\n",
       "      <td>44.5</td>\n",
       "      <td>1</td>\n",
       "      <td>0.1</td>\n",
       "      <td>Switzerland</td>\n",
       "      <td>2.7</td>\n",
       "      <td>8.1</td>\n",
       "      <td>46.818188</td>\n",
       "      <td>8.227512</td>\n",
       "      <td>6.2</td>\n",
       "      <td>12.3</td>\n",
       "      <td>29.4</td>\n",
       "      <td>5afddb89ef93e059be27964c</td>\n",
       "    </tr>\n",
       "    <tr>\n",
       "      <th>20</th>\n",
       "      <td>39</td>\n",
       "      <td>280.8</td>\n",
       "      <td>4</td>\n",
       "      <td>35.0</td>\n",
       "      <td>Ukraine</td>\n",
       "      <td>42.3</td>\n",
       "      <td>2.7</td>\n",
       "      <td>48.379433</td>\n",
       "      <td>31.165580</td>\n",
       "      <td>18.6</td>\n",
       "      <td>14.1</td>\n",
       "      <td>112.5</td>\n",
       "      <td>5afddb89ef93e059be27964f</td>\n",
       "    </tr>\n",
       "    <tr>\n",
       "      <th>21</th>\n",
       "      <td>40</td>\n",
       "      <td>529.1</td>\n",
       "      <td>4</td>\n",
       "      <td>29.7</td>\n",
       "      <td>United_Kingdom</td>\n",
       "      <td>77.9</td>\n",
       "      <td>1.2</td>\n",
       "      <td>55.378051</td>\n",
       "      <td>-3.435973</td>\n",
       "      <td>15.7</td>\n",
       "      <td>74.4</td>\n",
       "      <td>198.9</td>\n",
       "      <td>5afddb89ef93e059be279650</td>\n",
       "    </tr>\n",
       "    <tr>\n",
       "      <th>22</th>\n",
       "      <td>49</td>\n",
       "      <td>468.6</td>\n",
       "      <td>2</td>\n",
       "      <td>99.4</td>\n",
       "      <td>South_Africa</td>\n",
       "      <td>0.0</td>\n",
       "      <td>0.2</td>\n",
       "      <td>-30.559482</td>\n",
       "      <td>22.937506</td>\n",
       "      <td>2.7</td>\n",
       "      <td>24.3</td>\n",
       "      <td>126.8</td>\n",
       "      <td>5afddb89ef93e059be279659</td>\n",
       "    </tr>\n",
       "    <tr>\n",
       "      <th>23</th>\n",
       "      <td>52</td>\n",
       "      <td>7518.5</td>\n",
       "      <td>2</td>\n",
       "      <td>1537.4</td>\n",
       "      <td>China</td>\n",
       "      <td>79.8</td>\n",
       "      <td>139.3</td>\n",
       "      <td>35.861660</td>\n",
       "      <td>104.195397</td>\n",
       "      <td>15.9</td>\n",
       "      <td>404.6</td>\n",
       "      <td>2177.0</td>\n",
       "      <td>5afddb89ef93e059be27965d</td>\n",
       "    </tr>\n",
       "    <tr>\n",
       "      <th>24</th>\n",
       "      <td>54</td>\n",
       "      <td>1539.1</td>\n",
       "      <td>2</td>\n",
       "      <td>245.8</td>\n",
       "      <td>India</td>\n",
       "      <td>46.7</td>\n",
       "      <td>24.0</td>\n",
       "      <td>20.593684</td>\n",
       "      <td>78.962880</td>\n",
       "      <td>3.8</td>\n",
       "      <td>148.5</td>\n",
       "      <td>468.9</td>\n",
       "      <td>5afddb89ef93e059be27965e</td>\n",
       "    </tr>\n",
       "    <tr>\n",
       "      <th>25</th>\n",
       "      <td>56</td>\n",
       "      <td>1222.1</td>\n",
       "      <td>6</td>\n",
       "      <td>108.8</td>\n",
       "      <td>Japan</td>\n",
       "      <td>78.7</td>\n",
       "      <td>16.7</td>\n",
       "      <td>36.204824</td>\n",
       "      <td>138.252924</td>\n",
       "      <td>62.1</td>\n",
       "      <td>197.6</td>\n",
       "      <td>463.9</td>\n",
       "      <td>5afddb89ef93e059be279661</td>\n",
       "    </tr>\n",
       "    <tr>\n",
       "      <th>26</th>\n",
       "      <td>59</td>\n",
       "      <td>160.4</td>\n",
       "      <td>4</td>\n",
       "      <td>4.3</td>\n",
       "      <td>Pakistan</td>\n",
       "      <td>34.1</td>\n",
       "      <td>6.2</td>\n",
       "      <td>30.375321</td>\n",
       "      <td>69.345116</td>\n",
       "      <td>0.6</td>\n",
       "      <td>20.6</td>\n",
       "      <td>65.8</td>\n",
       "      <td>5afddb89ef93e059be279663</td>\n",
       "    </tr>\n",
       "    <tr>\n",
       "      <th>27</th>\n",
       "      <td>62</td>\n",
       "      <td>663.3</td>\n",
       "      <td>6</td>\n",
       "      <td>68.6</td>\n",
       "      <td>South_Korea</td>\n",
       "      <td>30.4</td>\n",
       "      <td>0.7</td>\n",
       "      <td>35.907757</td>\n",
       "      <td>127.766922</td>\n",
       "      <td>33.4</td>\n",
       "      <td>104.3</td>\n",
       "      <td>237.5</td>\n",
       "      <td>5afddb89ef93e059be279666</td>\n",
       "    </tr>\n",
       "    <tr>\n",
       "      <th>28</th>\n",
       "      <td>63</td>\n",
       "      <td>320.3</td>\n",
       "      <td>6</td>\n",
       "      <td>38.7</td>\n",
       "      <td>Taiwan</td>\n",
       "      <td>10.2</td>\n",
       "      <td>0.8</td>\n",
       "      <td>23.697810</td>\n",
       "      <td>120.960515</td>\n",
       "      <td>9.4</td>\n",
       "      <td>46.6</td>\n",
       "      <td>105.7</td>\n",
       "      <td>5afddb89ef93e059be279667</td>\n",
       "    </tr>\n",
       "  </tbody>\n",
       "</table>\n",
       "</div>"
      ],
      "text/plain": [
       "        CO2Emm  Cluster    Coal             Country    Gas  Hydro        Lat  \\\n",
       "0    1   602.7        5    26.5              Canada   85.2   90.2  56.130366   \n",
       "1    4   409.4        5    11.7              Brazil   18.3   88.5 -14.235004   \n",
       "2    0  5941.9        6   498.0                  US  588.7   62.2  37.090240   \n",
       "3    2   436.8        6     6.8              Mexico   62.7    6.0  23.634501   \n",
       "4    3   164.2        4     1.1           Argentina   38.8    9.2 -38.416097   \n",
       "5   13   172.8        6     4.6             Belgium   15.6    0.1  50.503887   \n",
       "6   14    43.7        2     6.3            Bulgaria    2.2    0.9  42.733883   \n",
       "7   15   109.5        2    15.8      Czech_Republic    7.4    0.7  49.817492   \n",
       "8   17    52.5        6     3.7             Finland    3.2    2.9  61.924110   \n",
       "9   18   398.7        3    10.1              France   38.4   13.1  46.227638   \n",
       "10  19   795.6        6    71.0             Germany   70.2    4.2  51.165691   \n",
       "11  21    53.6        4     2.5             Hungary    9.1    0.1  47.162494   \n",
       "12  26    15.3        3     0.2           Lithuania    2.5    0.3  55.169438   \n",
       "13  27   265.1        6     7.9         Netherlands   35.0    0.0  52.132633   \n",
       "14  31    83.7        4     6.2             Romania   12.2    3.6  45.943161   \n",
       "15  32  1535.3        4    82.9  Russian_Federation  350.7   39.8  61.524010   \n",
       "16  33    38.1        4     3.6            Slovakia    5.1    1.1  48.669026   \n",
       "17  34   338.7        6    10.6               Spain   31.1    6.1  40.463667   \n",
       "18  35    50.9        1     1.6              Sweden    1.0   14.9  60.128161   \n",
       "19  36    44.5        1     0.1         Switzerland    2.7    8.1  46.818188   \n",
       "20  39   280.8        4    35.0             Ukraine   42.3    2.7  48.379433   \n",
       "21  40   529.1        4    29.7      United_Kingdom   77.9    1.2  55.378051   \n",
       "22  49   468.6        2    99.4        South_Africa    0.0    0.2 -30.559482   \n",
       "23  52  7518.5        2  1537.4               China   79.8  139.3  35.861660   \n",
       "24  54  1539.1        2   245.8               India   46.7   24.0  20.593684   \n",
       "25  56  1222.1        6   108.8               Japan   78.7   16.7  36.204824   \n",
       "26  59   160.4        4     4.3            Pakistan   34.1    6.2  30.375321   \n",
       "27  62   663.3        6    68.6         South_Korea   30.4    0.7  35.907757   \n",
       "28  63   320.3        6    38.7              Taiwan   10.2    0.8  23.697810   \n",
       "\n",
       "          Long  Nuclear    Oil  Total2009                       _id  \n",
       "0  -106.346771     20.3   97.0      319.2  5afddb89ef93e059be279628  \n",
       "1   -51.925280      2.9  104.3      225.7  5afddb89ef93e059be279629  \n",
       "2   -95.712891    190.2  842.9     2182.0  5afddb89ef93e059be27962a  \n",
       "3  -102.552784      2.2   85.6      163.2  5afddb89ef93e059be27962b  \n",
       "4   -63.616672      1.8   22.3       73.3  5afddb89ef93e059be27962d  \n",
       "5     4.469936     10.7   38.5       69.4  5afddb89ef93e059be279635  \n",
       "6    25.485830      3.5    4.4       17.4  5afddb89ef93e059be279636  \n",
       "7    15.472962      6.1    9.7       39.6  5afddb89ef93e059be279637  \n",
       "8    25.748151      5.4    9.9       25.0  5afddb89ef93e059be279639  \n",
       "9     2.213749     92.9   87.5      241.9  5afddb89ef93e059be27963a  \n",
       "10   10.451526     30.5  113.9      289.8  5afddb89ef93e059be27963b  \n",
       "11   19.503304      3.5    7.3       22.4  5afddb89ef93e059be27963d  \n",
       "12   23.881275      2.5    2.9        8.2  5afddb89ef93e059be279642  \n",
       "13    5.291266      1.0   49.4       93.3  5afddb89ef93e059be279644  \n",
       "14   24.966760      2.7    9.9       34.6  5afddb89ef93e059be279647  \n",
       "15  105.318756     37.0  124.9      635.3  5afddb89ef93e059be279648  \n",
       "16   19.699024      3.2    3.9       16.8  5afddb89ef93e059be279649  \n",
       "17   -3.749220     12.0   72.9      132.6  5afddb89ef93e059be27964a  \n",
       "18   18.643501     11.9   13.7       43.2  5afddb89ef93e059be27964b  \n",
       "19    8.227512      6.2   12.3       29.4  5afddb89ef93e059be27964c  \n",
       "20   31.165580     18.6   14.1      112.5  5afddb89ef93e059be27964f  \n",
       "21   -3.435973     15.7   74.4      198.9  5afddb89ef93e059be279650  \n",
       "22   22.937506      2.7   24.3      126.8  5afddb89ef93e059be279659  \n",
       "23  104.195397     15.9  404.6     2177.0  5afddb89ef93e059be27965d  \n",
       "24   78.962880      3.8  148.5      468.9  5afddb89ef93e059be27965e  \n",
       "25  138.252924     62.1  197.6      463.9  5afddb89ef93e059be279661  \n",
       "26   69.345116      0.6   20.6       65.8  5afddb89ef93e059be279663  \n",
       "27  127.766922     33.4  104.3      237.5  5afddb89ef93e059be279666  \n",
       "28  120.960515      9.4   46.6      105.7  5afddb89ef93e059be279667  "
      ]
     },
     "metadata": {},
     "output_type": "display_data"
    }
   ],
   "source": [
    "nuclearDF=pd.DataFrame(list(nuclear))\n",
    "display(nuclearDF)"
   ]
  },
  {
   "cell_type": "markdown",
   "metadata": {},
   "source": [
    "Each element of a collection is a Python dictionary. Hence, e.g. the attributes (keys) can be obtained as follows:"
   ]
  },
  {
   "cell_type": "code",
   "execution_count": 22,
   "metadata": {
    "ExecuteTime": {
     "end_time": "2017-11-20T17:10:09.084000Z",
     "start_time": "2017-11-20T18:10:09.079000+01:00"
    }
   },
   "outputs": [
    {
     "name": "stdout",
     "output_type": "stream",
     "text": [
      "['_id',\n",
      " '',\n",
      " 'Country',\n",
      " 'Oil',\n",
      " 'Gas',\n",
      " 'Coal',\n",
      " 'Nuclear',\n",
      " 'Hydro',\n",
      " 'Total2009',\n",
      " 'CO2Emm',\n",
      " 'Lat',\n",
      " 'Long',\n",
      " 'Cluster']\n"
     ]
    }
   ],
   "source": [
    "pprint.pprint(list(item.keys()))"
   ]
  },
  {
   "cell_type": "markdown",
   "metadata": {},
   "source": [
    "Queries can be specified as key-value pairs. E.g. in order to retrieve one product from *Ferrero* the following command can be applied:"
   ]
  },
  {
   "cell_type": "code",
   "execution_count": 23,
   "metadata": {
    "ExecuteTime": {
     "end_time": "2017-11-20T17:10:25.440000Z",
     "start_time": "2017-11-20T18:10:25.414000+01:00"
    }
   },
   "outputs": [
    {
     "name": "stdout",
     "output_type": "stream",
     "text": [
      "{'': 19,\n",
      " 'CO2Emm': 795.6,\n",
      " 'Cluster': 6,\n",
      " 'Coal': 71.0,\n",
      " 'Country': 'Germany',\n",
      " 'Gas': 70.2,\n",
      " 'Hydro': 4.2,\n",
      " 'Lat': 51.165691,\n",
      " 'Long': 10.451526,\n",
      " 'Nuclear': 30.5,\n",
      " 'Oil': 113.9,\n",
      " 'Total2009': 289.8,\n",
      " '_id': ObjectId('5afddb89ef93e059be27963b')}\n"
     ]
    }
   ],
   "source": [
    "germ=coll.find_one({'Country' : {'$regex':'.*[gG]erman.*'}})\n",
    "pprint.pprint(germ)"
   ]
  },
  {
   "cell_type": "markdown",
   "metadata": {},
   "source": [
    "CO2-Emmission of the queried country:"
   ]
  },
  {
   "cell_type": "code",
   "execution_count": 24,
   "metadata": {
    "ExecuteTime": {
     "end_time": "2017-11-20T17:13:51.330000Z",
     "start_time": "2017-11-20T18:13:51.326000+01:00"
    }
   },
   "outputs": [
    {
     "name": "stdout",
     "output_type": "stream",
     "text": [
      "795.6\n"
     ]
    }
   ],
   "source": [
    "pprint.pprint(germ['CO2Emm'])"
   ]
  },
  {
   "cell_type": "markdown",
   "metadata": {},
   "source": [
    "More complex queries can be configured by applying logical operators and comparison symbols, such as `$and, $or`, `$gt` (greater then) and `$lt` (smaller then)."
   ]
  },
  {
   "cell_type": "code",
   "execution_count": 25,
   "metadata": {
    "ExecuteTime": {
     "end_time": "2017-11-20T17:15:50.625000Z",
     "start_time": "2017-11-20T18:15:50.620000+01:00"
    }
   },
   "outputs": [],
   "source": [
    "risky=coll.find(\n",
    "{\n",
    "     '$and': [\n",
    "            { 'Nuclear' : { '$gt': 50.0 } },\n",
    "            { 'Oil'    : { '$gt': 80.0 } }\n",
    "          ]\n",
    "}\n",
    ")"
   ]
  },
  {
   "cell_type": "code",
   "execution_count": 26,
   "metadata": {
    "ExecuteTime": {
     "end_time": "2017-11-20T17:16:00.690000Z",
     "start_time": "2017-11-20T18:16:00.055000+01:00"
    }
   },
   "outputs": [
    {
     "data": {
      "text/plain": [
       "3"
      ]
     },
     "execution_count": 26,
     "metadata": {},
     "output_type": "execute_result"
    }
   ],
   "source": [
    "risky.count()"
   ]
  },
  {
   "cell_type": "code",
   "execution_count": 27,
   "metadata": {},
   "outputs": [
    {
     "data": {
      "text/html": [
       "<div>\n",
       "<style scoped>\n",
       "    .dataframe tbody tr th:only-of-type {\n",
       "        vertical-align: middle;\n",
       "    }\n",
       "\n",
       "    .dataframe tbody tr th {\n",
       "        vertical-align: top;\n",
       "    }\n",
       "\n",
       "    .dataframe thead th {\n",
       "        text-align: right;\n",
       "    }\n",
       "</style>\n",
       "<table border=\"1\" class=\"dataframe\">\n",
       "  <thead>\n",
       "    <tr style=\"text-align: right;\">\n",
       "      <th></th>\n",
       "      <th></th>\n",
       "      <th>CO2Emm</th>\n",
       "      <th>Cluster</th>\n",
       "      <th>Coal</th>\n",
       "      <th>Country</th>\n",
       "      <th>Gas</th>\n",
       "      <th>Hydro</th>\n",
       "      <th>Lat</th>\n",
       "      <th>Long</th>\n",
       "      <th>Nuclear</th>\n",
       "      <th>Oil</th>\n",
       "      <th>Total2009</th>\n",
       "      <th>_id</th>\n",
       "    </tr>\n",
       "  </thead>\n",
       "  <tbody>\n",
       "    <tr>\n",
       "      <th>0</th>\n",
       "      <td>0</td>\n",
       "      <td>5941.9</td>\n",
       "      <td>6</td>\n",
       "      <td>498.0</td>\n",
       "      <td>US</td>\n",
       "      <td>588.7</td>\n",
       "      <td>62.2</td>\n",
       "      <td>37.090240</td>\n",
       "      <td>-95.712891</td>\n",
       "      <td>190.2</td>\n",
       "      <td>842.9</td>\n",
       "      <td>2182.0</td>\n",
       "      <td>5afddb89ef93e059be27962a</td>\n",
       "    </tr>\n",
       "    <tr>\n",
       "      <th>1</th>\n",
       "      <td>18</td>\n",
       "      <td>398.7</td>\n",
       "      <td>3</td>\n",
       "      <td>10.1</td>\n",
       "      <td>France</td>\n",
       "      <td>38.4</td>\n",
       "      <td>13.1</td>\n",
       "      <td>46.227638</td>\n",
       "      <td>2.213749</td>\n",
       "      <td>92.9</td>\n",
       "      <td>87.5</td>\n",
       "      <td>241.9</td>\n",
       "      <td>5afddb89ef93e059be27963a</td>\n",
       "    </tr>\n",
       "    <tr>\n",
       "      <th>2</th>\n",
       "      <td>56</td>\n",
       "      <td>1222.1</td>\n",
       "      <td>6</td>\n",
       "      <td>108.8</td>\n",
       "      <td>Japan</td>\n",
       "      <td>78.7</td>\n",
       "      <td>16.7</td>\n",
       "      <td>36.204824</td>\n",
       "      <td>138.252924</td>\n",
       "      <td>62.1</td>\n",
       "      <td>197.6</td>\n",
       "      <td>463.9</td>\n",
       "      <td>5afddb89ef93e059be279661</td>\n",
       "    </tr>\n",
       "  </tbody>\n",
       "</table>\n",
       "</div>"
      ],
      "text/plain": [
       "       CO2Emm  Cluster   Coal Country    Gas  Hydro        Lat        Long  \\\n",
       "0   0  5941.9        6  498.0      US  588.7   62.2  37.090240  -95.712891   \n",
       "1  18   398.7        3   10.1  France   38.4   13.1  46.227638    2.213749   \n",
       "2  56  1222.1        6  108.8   Japan   78.7   16.7  36.204824  138.252924   \n",
       "\n",
       "   Nuclear    Oil  Total2009                       _id  \n",
       "0    190.2  842.9     2182.0  5afddb89ef93e059be27962a  \n",
       "1     92.9   87.5      241.9  5afddb89ef93e059be27963a  \n",
       "2     62.1  197.6      463.9  5afddb89ef93e059be279661  "
      ]
     },
     "metadata": {},
     "output_type": "display_data"
    }
   ],
   "source": [
    "display(pd.DataFrame(list(risky)))"
   ]
  },
  {
   "cell_type": "markdown",
   "metadata": {},
   "source": [
    "The `next()`-operator can be obtained to iterate through all items of a query-result:"
   ]
  },
  {
   "cell_type": "code",
   "execution_count": 28,
   "metadata": {},
   "outputs": [],
   "source": [
    "nuclear=coll.find({\"Nuclear\": { '$gt': 0.0 }})"
   ]
  },
  {
   "cell_type": "code",
   "execution_count": 29,
   "metadata": {
    "ExecuteTime": {
     "end_time": "2017-11-20T17:16:10.844000Z",
     "start_time": "2017-11-20T18:16:10.814000+01:00"
    }
   },
   "outputs": [
    {
     "name": "stdout",
     "output_type": "stream",
     "text": [
      "----------\n",
      "Canada\n",
      "20.3\n",
      "90.2\n",
      "----------\n",
      "Brazil\n",
      "2.9\n",
      "88.5\n",
      "----------\n",
      "US\n",
      "190.2\n",
      "62.2\n",
      "----------\n",
      "Mexico\n",
      "2.2\n",
      "6.0\n",
      "----------\n",
      "Argentina\n",
      "1.8\n",
      "9.2\n",
      "----------\n",
      "Belgium\n",
      "10.7\n",
      "0.1\n",
      "----------\n",
      "Bulgaria\n",
      "3.5\n",
      "0.9\n",
      "----------\n",
      "Czech_Republic\n",
      "6.1\n",
      "0.7\n",
      "----------\n",
      "Finland\n",
      "5.4\n",
      "2.9\n",
      "----------\n",
      "France\n",
      "92.9\n",
      "13.1\n"
     ]
    }
   ],
   "source": [
    "for i in range(10): #list the first 10 items\n",
    "    p=next(nuclear)\n",
    "    print('-'*10)\n",
    "    print(p['Country'])\n",
    "    print(p['Nuclear'])\n",
    "    print(p['Hydro'])"
   ]
  },
  {
   "cell_type": "code",
   "execution_count": 30,
   "metadata": {
    "ExecuteTime": {
     "end_time": "2017-11-20T17:18:47.478000Z",
     "start_time": "2017-11-20T18:18:46.973000+01:00"
    }
   },
   "outputs": [
    {
     "data": {
      "text/plain": [
       "[5, 6, 4, 2, 3, 1]"
      ]
     },
     "execution_count": 30,
     "metadata": {},
     "output_type": "execute_result"
    }
   ],
   "source": [
    "coll.distinct('Cluster')"
   ]
  },
  {
   "cell_type": "code",
   "execution_count": null,
   "metadata": {
    "collapsed": true
   },
   "outputs": [],
   "source": []
  }
 ],
 "metadata": {
  "anaconda-cloud": {},
  "kernelspec": {
   "display_name": "Python 3",
   "language": "python",
   "name": "python3"
  },
  "language_info": {
   "codemirror_mode": {
    "name": "ipython",
    "version": 3
   },
   "file_extension": ".py",
   "mimetype": "text/x-python",
   "name": "python",
   "nbconvert_exporter": "python",
   "pygments_lexer": "ipython3",
   "version": "3.6.3"
  },
  "nav_menu": {},
  "toc": {
   "nav_menu": {},
   "number_sections": true,
   "sideBar": true,
   "skip_h1_title": false,
   "title_cell": "Table of Contents",
   "title_sidebar": "Contents",
   "toc_cell": false,
   "toc_position": {},
   "toc_section_display": "block",
   "toc_window_display": false
  }
 },
 "nbformat": 4,
 "nbformat_minor": 2
}

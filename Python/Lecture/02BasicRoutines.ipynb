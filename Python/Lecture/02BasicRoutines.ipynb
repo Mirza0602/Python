{
 "cells": [
  {
   "cell_type": "markdown",
   "metadata": {},
   "source": [
    "[Back to Lecture Overview](Overview.ipynb)"
   ]
  },
  {
   "cell_type": "markdown",
   "metadata": {},
   "source": [
    "# Basic Routines\n",
    "* Author: Johannes Maucher\n",
    "* Last Update: 10.11.2020\n",
    "* References:\n",
    "    * https://www.tutorialspoint.com/python/python_basic_syntax.htm\n",
    "\n",
    "Contents:\n",
    "* Getting help\n",
    "* comments\n",
    "* include packages and naming of functions from packages\n",
    "* Indent as syntax element\n",
    "* Files of type .py / .ipynb\n",
    "* Run .py - script\n",
    "* install packages with conda or pip"
   ]
  },
  {
   "cell_type": "markdown",
   "metadata": {},
   "source": [
    "<figure align=\"center\">\n",
    "<img width=\"800\" src=\"https://maucher.home.hdm-stuttgart.de/Pics/DS_Python_GetStart_All.png\">\n",
    "</figure>"
   ]
  },
  {
   "cell_type": "markdown",
   "metadata": {},
   "source": [
    "## Packages and Modules\n",
    "In [Notebook Getting Started](01GettingStarted.ipynb) different environments to write Python code, e.g. in the IPython-Shell, in a script of type *.py* or in jupyter notebooks have been introduced. Independent of the used environment there are \n",
    "\n",
    "* some basic functions, which are available directly, e.g. in order to determine the length of a list `L` one can just apply `len(L)`\n",
    "* many functions, which are defined in modules of the Python standard library. In order to use these functions one must first **import** the module. Functions and modules, which are included in standard Python are listed in the [documentation of Python Standard Library](https://docs.python.org/3.6/library/index.html).\n",
    "* many functions and classes, which are defined in modules that are not contained in the Python standard distribution. In order to use functions from external packages one must first **download and install** the package. Then the module must be imported like the modules of the Python standard distribution. \n",
    "\n",
    "> **Note:** In Python a **module** is just a file with extension *.py*. Such a file can contain the defintion of **functions** and **classes** or a sequence of statements (instructions). A **package** consists of one or more modules. "
   ]
  },
  {
   "cell_type": "markdown",
   "metadata": {},
   "source": [
    "<figure align=\"center\">\n",
    "<img width=\"600\" src=\"https://maucher.home.hdm-stuttgart.de/Pics/pythonModularity.png\">\n",
    "</figure>"
   ]
  },
  {
   "cell_type": "markdown",
   "metadata": {},
   "source": [
    "### Download and install external packages\n",
    "\n",
    "#### Pip\n",
    "External Python packages are available from the software repository **Python Package Index (PyPI)**. The [official page of PyPI](https://pypi.python.org/pypi) contains a list of all currently available packages. The application **pip** is the package manager of PyPI. It can be launched from the command line in order to download, install, update or remove packages. The most important pip-commands are:\n",
    "\n",
    "```\n",
    "pip install <<package_name>>\n",
    "pip search <<package_name>>\n",
    "pip show <<package_name>>\n",
    "pip uninstall <<package_name>>\n",
    "```\n",
    "\n",
    "All functions and options provided by pip are described in the [official pip documentation](https://pip.pypa.io/en/stable/). \n",
    "\n",
    "#### Conda\n",
    "If [Anaconda](https://www.anaconda.com) is installed, the included conda package manager can be applied as an alternative to pip. However, the conda package list is less comprehensive than PyPI. The available packages are listed on the [Anaconda Package List](https://docs.continuum.io/anaconda/packages/pkg-docs). From the Anaconda shell these packages can be downloaded and installed by\n",
    "\n",
    "```\n",
    "conda install <<package_name>>\n",
    "```\n",
    "\n",
    "Alternatively, packages and virtual environments can be managed via the environment-view of the **Anaconda Navigator** (figure below)."
   ]
  },
  {
   "cell_type": "markdown",
   "metadata": {},
   "source": [
    "<figure align=\"center\">\n",
    "<img width=\"900\" src=\"https://maucher.home.hdm-stuttgart.de/Pics/anacondaNavigatorEnvironment.PNG\">\n",
    "</figure>"
   ]
  },
  {
   "cell_type": "markdown",
   "metadata": {},
   "source": [
    "### Import of packages and modules\n",
    "All installed packages can be imported by\n",
    "\n",
    "```\n",
    "import <<package_name>>\n",
    "```\n",
    "For example to import the *time*-package of the Python standard library:"
   ]
  },
  {
   "cell_type": "code",
   "execution_count": 4,
   "metadata": {
    "ExecuteTime": {
     "end_time": "2017-08-02T04:45:17.846000Z",
     "start_time": "2017-08-02T06:45:17.840000+02:00"
    }
   },
   "outputs": [],
   "source": [
    "import time"
   ]
  },
  {
   "cell_type": "markdown",
   "metadata": {},
   "source": [
    "All modules, functions and classes of an imported package can be accessed by prefixing the name of the package:\n",
    "```\n",
    "<<package_name>>.<<function_name>>\n",
    "```\n",
    "For example, in order to get the current local time as a string variable one can apply the `ctime()`-function of the `time`-package as follows: "
   ]
  },
  {
   "cell_type": "code",
   "execution_count": 7,
   "metadata": {
    "ExecuteTime": {
     "end_time": "2017-08-02T04:45:17.864000Z",
     "start_time": "2017-08-02T06:45:17.850000+02:00"
    }
   },
   "outputs": [
    {
     "data": {
      "text/plain": [
       "'Tue Nov 10 09:50:28 2020'"
      ]
     },
     "execution_count": 7,
     "metadata": {},
     "output_type": "execute_result"
    }
   ],
   "source": [
    "time.ctime()"
   ]
  },
  {
   "cell_type": "markdown",
   "metadata": {},
   "source": [
    "Once the package (module) is imported, it's functions and classes can be viewed by typing the name of the package, followed by a dot and then pressing the *tab*-key. In the case of the *time*-package this yields: "
   ]
  },
  {
   "cell_type": "markdown",
   "metadata": {},
   "source": [
    "<figure align=\"center\">\n",
    "<img width=\"200\" src=\"https://maucher.home.hdm-stuttgart.de/Pics/timeSubmodules.PNG\">\n",
    "</figure>"
   ]
  },
  {
   "cell_type": "markdown",
   "metadata": {},
   "source": [
    "Some packages are quite comprehensive. Importing the entire package can be inefficient if only one or a few functions are required. In this case one can just import the required module or function:\n",
    "```\n",
    "from <<package_name>> import <<module_name>>, <<function_name>>, <<function_name>>, ...\n",
    "```\n",
    "For example, if only the functions `ctime()` and `sleep()` are required from the `time`-package, then they can be imported and applied as follows:"
   ]
  },
  {
   "cell_type": "code",
   "execution_count": 9,
   "metadata": {
    "ExecuteTime": {
     "end_time": "2017-08-02T04:45:27.872000Z",
     "start_time": "2017-08-02T06:45:17.866000+02:00"
    }
   },
   "outputs": [
    {
     "name": "stdout",
     "output_type": "stream",
     "text": [
      "Tue Nov 10 09:50:36 2020\n",
      "Tue Nov 10 09:50:46 2020\n"
     ]
    }
   ],
   "source": [
    "from time import ctime,sleep\n",
    "print(ctime()) #current local time\n",
    "sleep(10)     #stop current thread for 10 seconds\n",
    "print(ctime())"
   ]
  },
  {
   "cell_type": "markdown",
   "metadata": {},
   "source": [
    "Note that if this version of import is applied, the function-name need not be prefixed by the package-name. This is also the case if the following version of import is applied:\n",
    "```\n",
    "from <<package_name>> import *\n",
    "```\n",
    "This imports the entire package. However, the functions can be called without the package-name prefix. The drawback of this option is that it is not apparent from which packages the functions are provided (if more packages are imported in this way). Moreover, serious errors (namespace conflicts) can arise if a function name is defined ambigously in different imported packages. In the case of long package names it may be a good choice to apply the following option for import:\n",
    "```\n",
    "import <<package_name>> as <<alias_name>>\n",
    "```\n",
    "For example in order to avoid prefixing with the long package name `statsmodels` one can apply an arbitrary alias as follows:\n"
   ]
  },
  {
   "cell_type": "code",
   "execution_count": 10,
   "metadata": {},
   "outputs": [],
   "source": [
    "#!pip install scipy"
   ]
  },
  {
   "cell_type": "code",
   "execution_count": 11,
   "metadata": {
    "ExecuteTime": {
     "end_time": "2017-08-02T04:45:28.654000Z",
     "start_time": "2017-08-02T06:45:27.876000+02:00"
    }
   },
   "outputs": [
    {
     "name": "stdout",
     "output_type": "stream",
     "text": [
      "[('1958-03-29T00:00:00.000000000', 316.1)\n",
      " ('1958-04-05T00:00:00.000000000', 317.3)\n",
      " ('1958-04-12T00:00:00.000000000', 317.6) ...\n",
      " ('2001-12-15T00:00:00.000000000', 371.2)\n",
      " ('2001-12-22T00:00:00.000000000', 371.3)\n",
      " ('2001-12-29T00:00:00.000000000', 371.5)]\n"
     ]
    }
   ],
   "source": [
    "import statsmodels.api as stats\n",
    "a=stats.datasets.co2.load()\n",
    "print(a.data)"
   ]
  },
  {
   "cell_type": "markdown",
   "metadata": {},
   "source": [
    "## Getting Help\n",
    "Help on modules and functions can be obtained in different ways. Online documentation is available for all [Modules of the Python standard library](https://docs.python.org/2.7/library/index.html) and for all [Modules provided in the PyPI repository](https://pypi.python.org/pypi?%3Aaction=browse). For inline information help can be obtained by \n",
    "\n",
    "```\n",
    "help(<<package_name>>)\n",
    "```\n",
    "or equivalently\n",
    "```\n",
    "<<package_name>>?\n",
    "```\n",
    "In the same way help on individual functions or objects can be queried.\n"
   ]
  },
  {
   "cell_type": "markdown",
   "metadata": {},
   "source": [
    "## Input and Output\n",
    "### print\n",
    "The value of an arbitrary variable can be printed to the output (console or jupyter notebook) by\n",
    "```\n",
    "print(variable_name)\n",
    "```\n",
    "For example:"
   ]
  },
  {
   "cell_type": "code",
   "execution_count": 12,
   "metadata": {
    "ExecuteTime": {
     "end_time": "2017-08-02T04:45:28.662000Z",
     "start_time": "2017-08-02T06:45:28.657000+02:00"
    }
   },
   "outputs": [
    {
     "name": "stdout",
     "output_type": "stream",
     "text": [
      "3.5\n"
     ]
    }
   ],
   "source": [
    "a=3.5\n",
    "print(a)"
   ]
  },
  {
   "cell_type": "markdown",
   "metadata": {},
   "source": [
    "**Formatted output - old way:**\n",
    "\n",
    "The `print` command also allows commented and formated output. For example:"
   ]
  },
  {
   "cell_type": "code",
   "execution_count": 13,
   "metadata": {
    "ExecuteTime": {
     "end_time": "2017-08-02T04:46:30.193000Z",
     "start_time": "2017-08-02T06:46:30.193000+02:00"
    }
   },
   "outputs": [
    {
     "name": "stdout",
     "output_type": "stream",
     "text": [
      " 5 divided by 3.000000 is 1.667\n"
     ]
    }
   ],
   "source": [
    "a=5\n",
    "b=3.0\n",
    "print(\"%2d divided by %3f is %2.3f\"%(a,b,a/b)) # old way of formatted output"
   ]
  },
  {
   "cell_type": "markdown",
   "metadata": {},
   "source": [
    "Here `%2d` is a placeholder for an integer-variable with 2 digits and `%2.3f` is a placeholder for a float-variable with 2 digits before and 3 digits after the decimal point. The variables, which will be inserted at the placeholder positions, must be specified within parenthesis, which is separated by a `%`-character from the string."
   ]
  },
  {
   "cell_type": "markdown",
   "metadata": {},
   "source": [
    "**Formated output - new way:**\n",
    "In the new way of formatted output the placeholders are defined like this\n",
    "```\n",
    "{2:2.3f}\n",
    "```\n",
    "This implies that a float variable with 2 digits before and 3 digits after the decimal point can be inserted here. The `2` before the `:` (colon) indicates, that the variable at index 2 of the variable-list in the `format`-method will be inserted here. \n"
   ]
  },
  {
   "cell_type": "code",
   "execution_count": 14,
   "metadata": {
    "ExecuteTime": {
     "end_time": "2017-08-02T04:46:30.178000Z",
     "start_time": "2017-08-02T06:46:30.178000+02:00"
    }
   },
   "outputs": [
    {
     "name": "stdout",
     "output_type": "stream",
     "text": [
      " 5 divided by 3.000000 is 1.667\n",
      "3.000000 divided by  5 is 0.600\n"
     ]
    }
   ],
   "source": [
    "print(\"{0:2d} divided by {1:2f} is {2:2.3f}\".format(a,b,a/b)) # new way of formatted output\n",
    "print(\"{1:2f} divided by {0:2d} is {2:2.3f}\".format(a,b,b/a))"
   ]
  },
  {
   "cell_type": "markdown",
   "metadata": {},
   "source": [
    "### Input and raw_input\n",
    "Python programs may require input of users. For this the `input()`-function can be applied. Note that this function does not interprete the input. If you like to have the input interpreted `eval(input())` must be applied. \n",
    "\n",
    "In both versions the program stops at the line with the input-instruction and waits for a user-input, which must be terminated by pressing the *Return*-key."
   ]
  },
  {
   "cell_type": "code",
   "execution_count": 33,
   "metadata": {
    "ExecuteTime": {
     "end_time": "2017-08-02T04:46:30.162000Z",
     "start_time": "2017-08-02T06:45:28.684000+02:00"
    }
   },
   "outputs": [
    {
     "name": "stdout",
     "output_type": "stream",
     "text": [
      "Some keyboard input, please! 3*4\n",
      "12\n",
      "<class 'int'>\n",
      "Some keyboard input, please! 3*4\n",
      "3*4\n",
      "<class 'str'>\n"
     ]
    }
   ],
   "source": [
    "try:\n",
    "    i=eval(input(\"Some keyboard input, please! \"))\n",
    "    print(i)\n",
    "    print(type(i))\n",
    "except:\n",
    "    print(\"ERROR: Input impossible\")\n",
    "\n",
    "try:\n",
    "    r=input(\"Some keyboard input, please! \")\n",
    "    print(r)\n",
    "    print(type(r))\n",
    "except:\n",
    "    print(\"ERROR: Input impossible\")"
   ]
  },
  {
   "cell_type": "markdown",
   "metadata": {},
   "source": [
    "### Read from File"
   ]
  },
  {
   "cell_type": "markdown",
   "metadata": {},
   "source": [
    "In Python input from files and output to files is realized by *file objects*. A file object is returned by the function `open(filename,mode)`, where the string-variable `filename` defines the (path and) name of the file that shall be accessed, and the string-variable `mode` defines how the file shall be accessed. E.g. \n",
    "* `mode = 'w'` for writing to a file (if the file already exists it will first be erased)\n",
    "* `mode = 'a'` for appending to a file\n",
    "* `mode = 'r'` for reading from a file.\n",
    "* `mode = 'r+'` for reading from and writing to a file.\n",
    "\n",
    "Once a file object has been created, it's `read()` method can be called to read the entire file content into a single string-variable. If file access is no longer needed the file object's `close()`-method shall be called to clean up all resources."
   ]
  },
  {
   "cell_type": "code",
   "execution_count": 17,
   "metadata": {
    "ExecuteTime": {
     "end_time": "2017-08-02T05:36:59.725000Z",
     "start_time": "2017-08-02T07:36:59.709000+02:00"
    }
   },
   "outputs": [
    {
     "name": "stdout",
     "output_type": "stream",
     "text": [
      "Type of fin:   <class '_io.TextIOWrapper'>\n",
      "Type of content:   <class 'str'>\n",
      "Content:\n",
      " This is the first row.\n",
      "The sentence, which starts in the second row\n",
      "ends in the third row.\n",
      "\n",
      "Last line follows an empty line.\n"
     ]
    }
   ],
   "source": [
    "fin = open(\"exampleFile.txt\",\"r\")\n",
    "print(\"Type of fin:  \",type(fin))\n",
    "filecontents = fin.read()\n",
    "print(\"Type of content:  \",type(filecontents))\n",
    "print(\"Content:\\n\", filecontents)\n",
    "fin.close()"
   ]
  },
  {
   "cell_type": "markdown",
   "metadata": {},
   "source": [
    "An alternative way to read in all contents of a file into a single string variable is:"
   ]
  },
  {
   "cell_type": "code",
   "execution_count": 18,
   "metadata": {
    "ExecuteTime": {
     "end_time": "2017-08-02T07:46:17.522000Z",
     "start_time": "2017-08-02T09:46:17.506000+02:00"
    },
    "scrolled": true
   },
   "outputs": [
    {
     "name": "stdout",
     "output_type": "stream",
     "text": [
      "This is the first row.\n",
      "The sentence, which starts in the second row\n",
      "ends in the third row.\n",
      "\n",
      "Last line follows an empty line.\n"
     ]
    }
   ],
   "source": [
    "with open(\"exampleFile.txt\",\"r\") as f:\n",
    "    read_data = f.read()\n",
    "print(read_data)"
   ]
  },
  {
   "cell_type": "markdown",
   "metadata": {},
   "source": [
    "Actually this option is often recommended, because in this way the file is properly closed after access, even if an exception is raised on the way. "
   ]
  },
  {
   "cell_type": "markdown",
   "metadata": {},
   "source": [
    "\n",
    "\n",
    "If not the entire file content but only single lines shall be read the `readline()`-method can be applied as follows:"
   ]
  },
  {
   "cell_type": "code",
   "execution_count": 19,
   "metadata": {
    "ExecuteTime": {
     "end_time": "2017-08-02T05:37:09.900000Z",
     "start_time": "2017-08-02T07:37:09.884000+02:00"
    }
   },
   "outputs": [
    {
     "name": "stdout",
     "output_type": "stream",
     "text": [
      "This is the first row.\n",
      "\n",
      "The sentence, which starts in the second row\n",
      "\n"
     ]
    }
   ],
   "source": [
    "fin = open(\"exampleFile.txt\",\"r\")\n",
    "print(fin.readline())\n",
    "print(fin.readline())\n",
    "fin.close()"
   ]
  },
  {
   "cell_type": "markdown",
   "metadata": {},
   "source": [
    "In the while-loop of the following code snippet the contents of a file are read line by line. The code demonstrates, that\n",
    "* for empty rows in the file `'\\n'` is returned, which is the line-break control sequence\n",
    "* At the end of the file an empty string is returned by `readline()`.\n"
   ]
  },
  {
   "cell_type": "code",
   "execution_count": 20,
   "metadata": {
    "ExecuteTime": {
     "end_time": "2017-08-02T05:00:13.671000Z",
     "start_time": "2017-08-02T07:00:13.656000+02:00"
    }
   },
   "outputs": [
    {
     "name": "stdout",
     "output_type": "stream",
     "text": [
      "23\n",
      "This is the first row.\n",
      "\n",
      "45\n",
      "The sentence, which starts in the second row\n",
      "\n",
      "23\n",
      "ends in the third row.\n",
      "\n",
      "1\n",
      "Empty row\n",
      "32\n",
      "Last line follows an empty line.\n",
      "0\n"
     ]
    }
   ],
   "source": [
    "fin = open(\"exampleFile.txt\",\"r\")\n",
    "while True:\n",
    "    s=fin.readline()\n",
    "    print(len(s))\n",
    "    if len(s)>0:\n",
    "        if s==\"\\n\":\n",
    "            print(\"Empty row\")\n",
    "        else:\n",
    "            print(s)\n",
    "    else:\n",
    "        break\n",
    "fin.close()"
   ]
  },
  {
   "cell_type": "markdown",
   "metadata": {},
   "source": [
    "The most memory-efficient method for reading file-contents is to loop over the file object as follwos:"
   ]
  },
  {
   "cell_type": "code",
   "execution_count": 21,
   "metadata": {
    "ExecuteTime": {
     "end_time": "2017-11-22T14:14:51.807000Z",
     "start_time": "2017-11-22T15:14:51.792000+01:00"
    }
   },
   "outputs": [
    {
     "name": "stdout",
     "output_type": "stream",
     "text": [
      "This is the first row.\n",
      "\n",
      "The sentence, which starts in the second row\n",
      "\n",
      "ends in the third row.\n",
      "\n",
      "\n",
      "\n",
      "Last line follows an empty line.\n"
     ]
    }
   ],
   "source": [
    "with open(\"exampleFile.txt\",\"r\") as fin:\n",
    "    for line in fin:\n",
    "        print(line)"
   ]
  },
  {
   "cell_type": "markdown",
   "metadata": {},
   "source": [
    "The `readlines()`-method returns a list of string-variables. Each element in this list contains the contents of a single line:"
   ]
  },
  {
   "cell_type": "code",
   "execution_count": 22,
   "metadata": {
    "ExecuteTime": {
     "end_time": "2017-11-22T14:15:51.087000Z",
     "start_time": "2017-11-22T15:15:51.087000+01:00"
    }
   },
   "outputs": [
    {
     "name": "stdout",
     "output_type": "stream",
     "text": [
      "['This is the first row.\\n', 'The sentence, which starts in the second row\\n', 'ends in the third row.\\n', '\\n', 'Last line follows an empty line.']\n"
     ]
    }
   ],
   "source": [
    "with open(\"exampleFile.txt\",\"r\") as fin:\n",
    "    linelist=fin.readlines()\n",
    "print(linelist)"
   ]
  },
  {
   "cell_type": "markdown",
   "metadata": {},
   "source": [
    "### Write to File"
   ]
  },
  {
   "cell_type": "markdown",
   "metadata": {
    "ExecuteTime": {
     "end_time": "2017-07-13T13:44:26.344000Z",
     "start_time": "2017-07-13T15:44:26.328000+02:00"
    }
   },
   "source": [
    "Writing to files can be done in 2 different modes: If the file shall always be erased before writing new text to it the parameter `mode` of the `open(filename,mode)`-method must be set to `mode='w'`. If the new content shall be appended to the already available contents in the file the mode parameter must be set to `mode='a'`. For writing, the file object, which is returned by the `open(filename,mode)`-method provides the methods `write()` and `writelines()`. The former writes the string in the methods argument to the file. The argument of the latter must be a list of strings, which is written to the file (not line by line, unless a `\\n` is at the end of the list-elements):  "
   ]
  },
  {
   "cell_type": "code",
   "execution_count": 23,
   "metadata": {
    "ExecuteTime": {
     "end_time": "2017-11-22T14:16:30.738000Z",
     "start_time": "2017-11-22T15:16:23.064000+01:00"
    }
   },
   "outputs": [
    {
     "name": "stdout",
     "output_type": "stream",
     "text": [
      "Enter some text for the third row! this is example text\n"
     ]
    }
   ],
   "source": [
    "fout=open(\"outPutFile.txt\",'w')\n",
    "fout.write(\"My first row is here.\\n\")\n",
    "fout.write(\"Here is the second row.\\n\")\n",
    "usertext=input(\"Enter some text for the third row! \")\n",
    "fout.write(usertext+'\\n')\n",
    "fout.writelines(['line 1','line 2'])\n",
    "fout.close()"
   ]
  },
  {
   "cell_type": "code",
   "execution_count": 24,
   "metadata": {
    "ExecuteTime": {
     "end_time": "2017-11-22T14:17:36.439000Z",
     "start_time": "2017-11-22T15:17:36.423000+01:00"
    }
   },
   "outputs": [],
   "source": [
    "with open(\"outPutFile.txt\",'a') as fout:\n",
    "    fout.write(\"Appended this line\")"
   ]
  },
  {
   "cell_type": "markdown",
   "metadata": {},
   "source": [
    "Note that in this way only string-variables can be written to files. Non-string-variables need to be converted to strings before writing:"
   ]
  },
  {
   "cell_type": "code",
   "execution_count": 34,
   "metadata": {
    "ExecuteTime": {
     "end_time": "2017-11-22T14:17:39.125000Z",
     "start_time": "2017-11-22T15:17:39.025000+01:00"
    }
   },
   "outputs": [
    {
     "name": "stdout",
     "output_type": "stream",
     "text": [
      "ERROR: Can't write this data type to file\n"
     ]
    }
   ],
   "source": [
    "with open(\"outPutFile.txt\",'a') as fout:\n",
    "    num=12.7\n",
    "    try:\n",
    "        fout.write(num)\n",
    "    except:\n",
    "        print(\"ERROR: Can't write this data type to file\")"
   ]
  },
  {
   "cell_type": "code",
   "execution_count": 35,
   "metadata": {
    "ExecuteTime": {
     "end_time": "2017-11-22T14:18:06.256000Z",
     "start_time": "2017-11-22T15:18:06.235000+01:00"
    }
   },
   "outputs": [],
   "source": [
    "with open(\"outPutFile.txt\",'a') as fout:\n",
    "    fout.write('\\n')\n",
    "    fout.write(str(num))"
   ]
  },
  {
   "cell_type": "markdown",
   "metadata": {},
   "source": [
    "> There exists many Python packages for accessing files of certain types, e.g *.csv, Excel, json*, even for formats of other media types such as *.jpeg, .png, .wav, .mp3, .mp4, etc.*. Accessing databases is subject of lecture [Database Access](07DataBaseSQL.ipynb).       "
   ]
  }
 ],
 "metadata": {
  "anaconda-cloud": {},
  "kernelspec": {
   "display_name": "Python 3",
   "language": "python",
   "name": "python3"
  },
  "language_info": {
   "codemirror_mode": {
    "name": "ipython",
    "version": 3
   },
   "file_extension": ".py",
   "mimetype": "text/x-python",
   "name": "python",
   "nbconvert_exporter": "python",
   "pygments_lexer": "ipython3",
   "version": "3.7.5"
  },
  "nav_menu": {},
  "toc": {
   "base_numbering": 1,
   "nav_menu": {
    "height": "266px",
    "width": "251px"
   },
   "number_sections": true,
   "sideBar": true,
   "skip_h1_title": false,
   "title_cell": "Table of Contents",
   "title_sidebar": "Contents",
   "toc_cell": false,
   "toc_position": {},
   "toc_section_display": "block",
   "toc_window_display": false
  },
  "toc_position": {
   "height": "545px",
   "left": "0px",
   "right": "998px",
   "top": "124.533px",
   "width": "212px"
  },
  "varInspector": {
   "cols": {
    "lenName": 16,
    "lenType": 16,
    "lenVar": 40
   },
   "kernels_config": {
    "python": {
     "delete_cmd_postfix": "",
     "delete_cmd_prefix": "del ",
     "library": "var_list.py",
     "varRefreshCmd": "print(var_dic_list())"
    },
    "r": {
     "delete_cmd_postfix": ") ",
     "delete_cmd_prefix": "rm(",
     "library": "var_list.r",
     "varRefreshCmd": "cat(var_dic_list()) "
    }
   },
   "types_to_exclude": [
    "module",
    "function",
    "builtin_function_or_method",
    "instance",
    "_Feature"
   ],
   "window_display": false
  }
 },
 "nbformat": 4,
 "nbformat_minor": 2
}

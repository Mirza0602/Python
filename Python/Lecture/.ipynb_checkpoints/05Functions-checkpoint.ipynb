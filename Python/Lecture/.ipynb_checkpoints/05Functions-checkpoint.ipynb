{
 "cells": [
  {
   "cell_type": "markdown",
   "metadata": {
    "deletable": true,
    "editable": true
   },
   "source": [
    "# Functions in Python\n",
    "* Author: Johannes Maucher\n",
    "* Last Update: 06.07.2017"
   ]
  },
  {
   "cell_type": "markdown",
   "metadata": {
    "deletable": true,
    "editable": true
   },
   "source": [
    "In general software shall be designed such that it is not only efficient (in terms of computation- and memory complexity) but also readable, reliable and maintainable without too much effort. In order to fulfill these requirements a **modular software design** is preferable. This  design concept implies that the entire code is split into compact, reusable parts. These parts should be designed such that there exists as less as possible dependencies between different parts. Python supports a hierarchical splitting of the software into its parts: On the highest level packages are distinguished. A single package may consist of different modules (Python-files), and each module can contain the definition of multiple classes and functions. Hence, defining code in separate functions is crucial for developing high-quality software. \n",
    "\n",
    "Functions are usually defined in external modules. In order to use them in the current program the corresponding modules/packages must be imported.\n",
    "\n",
    "\n",
    "![Anaconda Navigator](../../Pics/pythonModularity.PNG)\n"
   ]
  },
  {
   "cell_type": "markdown",
   "metadata": {
    "deletable": true,
    "editable": true
   },
   "source": [
    "Python already provides many **built-in functions**, such as `len(x)`, which returns the length (number of elements) in `x`, or the function `range(N)`, which returns a list of integers from $0$ to $N-1$. \n",
    "\n",
    "Subject of the lecture is the implementation of **user-defined function**."
   ]
  },
  {
   "cell_type": "markdown",
   "metadata": {
    "deletable": true,
    "editable": true
   },
   "source": [
    "## User-defined functions\n",
    "### Function Definition\n",
    "The general syntax for defining a function in Python is:\n",
    "```\n",
    "def function_name(list_of_arguments):\n",
    "    block of instructions\n",
    "    return x\n",
    "```\n",
    "The definition starts with the key-word `def` followed by the selected function name. After the function-name there must be parenthesis. Within the parenthesis there can be zero, one or many arguments. Arguments are the parameters, which are passed from the calling piece of code to the called function. After the round brackets a colon `:` must be inserted. \n",
    "\n",
    "The body of the function contains a sequence of instructions. This block of instructions must be **indented**. A function usually returns one or more values to the calling piece of code. The return value(s) are preceded by the key-word `return`. If `return` is not used in the function the function returns the value `None`.\n",
    "\n",
    "The function defined in the following code cell calculates the euclidean distance between two points. The function applies the function `pow()`, from the `math`-package of the Python standard library. Therefore this package, or at least the function `pow()` must be imported (first line). The function `pow(x,i)` calculates the $i.th$ power of $x$. \n"
   ]
  },
  {
   "cell_type": "code",
   "execution_count": null,
   "metadata": {
    "ExecuteTime": {
     "end_time": "2017-07-06T12:46:46.772000Z",
     "start_time": "2017-07-06T14:46:46.741000+02:00"
    },
    "collapsed": true,
    "deletable": true,
    "editable": true
   },
   "outputs": [],
   "source": [
    "import math\n",
    "def eukliddist(pointA,pointB):\n",
    "        ''' Function calculates the euclidean distance between a pair of points'''\n",
    "        mindim=min(len(pointA),len(pointB)) #determine minimum dimension of points\n",
    "        sum=0\n",
    "        for i in range(mindim):\n",
    "                sum+=math.pow(pointA[i]-pointB[i],2)\n",
    "        return math.sqrt(sum) #return euclidean distance"
   ]
  },
  {
   "cell_type": "markdown",
   "metadata": {
    "deletable": true,
    "editable": true
   },
   "source": [
    "In the example above the first statement of the function is an optional string literal. This is the function’s documentation string, or docstring (More about docstrings can be found e.g. in [Documentation Strings](https://docs.python.org/2/tutorial/controlflow.html#tut-docstrings)). There are tools which use docstrings to automatically produce online or printed documentation.\n",
    "\n",
    "### Function Call\n",
    "Once this function is defined it can be called from elsewhere, as demonstrated below:"
   ]
  },
  {
   "cell_type": "code",
   "execution_count": null,
   "metadata": {
    "ExecuteTime": {
     "end_time": "2017-07-06T12:51:23.414000Z",
     "start_time": "2017-07-06T14:51:23.414000+02:00"
    },
    "collapsed": false,
    "deletable": true,
    "editable": true
   },
   "outputs": [],
   "source": [
    "A=[1,1,1]\n",
    "B=[2,3,3]\n",
    "d_AB=eukliddist(A,B)\n",
    "print 'Coordinates of first point:    ',A\n",
    "print 'Coordinates of second point:   ',B\n",
    "print '----------------------------------------------'\n",
    "print 'Distance between the points:     ',d_AB"
   ]
  },
  {
   "cell_type": "markdown",
   "metadata": {
    "deletable": true,
    "editable": true
   },
   "source": [
    "### Define functions in other modules\n",
    "As well as function from other packages, also the user-defined functions are often defined in external files of type *.py*. In order to use these functions the corresponding files (=modules) must be imported in the same way as functions from other packages. The directory of the file, which contains the self-defined functions must be included in the *Pythonpath-Variable* of the system. Or it must be in the same directory as the program that imports the module.\n",
    "\n",
    "We have defined a simple function `cumsum(numList)` in the file *helpers.py*. This function just calculates the sum over all elements in the list, which is passed as argument to the function. The function can be called as follows:\n"
   ]
  },
  {
   "cell_type": "code",
   "execution_count": null,
   "metadata": {
    "ExecuteTime": {
     "end_time": "2017-07-06T14:04:48.557000Z",
     "start_time": "2017-07-06T16:04:48.541000+02:00"
    },
    "collapsed": false,
    "deletable": true,
    "editable": true
   },
   "outputs": [],
   "source": [
    "import helpers\n",
    "mylist=range(6)\n",
    "s = helpers.cumsum(mylist)\n",
    "print s"
   ]
  },
  {
   "cell_type": "markdown",
   "metadata": {
    "deletable": true,
    "editable": true
   },
   "source": [
    "### Keyword Arguments\n",
    "In the function-call above the first parameter `A` is passed to the first argument in the function definition (which is `pointA`) and the second parameter `B` is passed to the second argument in the function definition (which is `pointB`). \n",
    "\n",
    "Another option for the same function-call is to use key-word arguments within the parenthesis of the function call. In the example above this would be\n",
    "```\n",
    "d_AB=eukliddist(pointA=A,pointB=B)\n",
    "```\n",
    "This option yields the same result. The main advantage is, that it does not matter in which sequence the parameters are passed to the function. Moreover, if the arguments of the function are assigned with default-values, than the use of keyword arguments allows, that only for a subset of arguments parameters must be assigned in the function call (see below).\n"
   ]
  },
  {
   "cell_type": "markdown",
   "metadata": {
    "deletable": true,
    "editable": true
   },
   "source": [
    "### Default Values for Function Arguments"
   ]
  },
  {
   "cell_type": "markdown",
   "metadata": {
    "collapsed": true,
    "deletable": true,
    "editable": true
   },
   "source": [
    "Default values can be assigned to arguments of functions. Then in the function-call not all arguments must be assigned with parameters. Arguments, for which no parameter is assigned at function-call just have their default-value. For all arguments that have no default-value parameter must be assigned if the function is invoked.\n",
    "\n",
    "The following "
   ]
  },
  {
   "cell_type": "code",
   "execution_count": 1,
   "metadata": {
    "collapsed": false
   },
   "outputs": [
    {
     "name": "stdout",
     "output_type": "stream",
     "text": [
      "12.0830459736\n"
     ]
    }
   ],
   "source": [
    "import helpers\n",
    "A = [4,7,9]\n",
    "magA=helpers.eukliddist2(pointA=A)\n",
    "print magA"
   ]
  },
  {
   "cell_type": "code",
   "execution_count": null,
   "metadata": {
    "collapsed": true
   },
   "outputs": [],
   "source": []
  }
 ],
 "metadata": {
  "kernelspec": {
   "display_name": "Python 2",
   "language": "python",
   "name": "python2"
  },
  "language_info": {
   "codemirror_mode": {
    "name": "ipython",
    "version": 2
   },
   "file_extension": ".py",
   "mimetype": "text/x-python",
   "name": "python",
   "nbconvert_exporter": "python",
   "pygments_lexer": "ipython2",
   "version": "2.7.13"
  },
  "nav_menu": {},
  "toc": {
   "navigate_menu": true,
   "number_sections": true,
   "sideBar": true,
   "threshold": 6,
   "toc_cell": false,
   "toc_section_display": "block",
   "toc_window_display": true
  }
 },
 "nbformat": 4,
 "nbformat_minor": 2
}

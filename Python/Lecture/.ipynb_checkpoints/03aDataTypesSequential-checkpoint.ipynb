{
 "cells": [
  {
   "cell_type": "markdown",
   "metadata": {},
   "source": [
    "# Sequential Datatypes\n",
    "* Author: Johannes Maucher\n",
    "* Last Update: 27.06.2017"
   ]
  },
  {
   "cell_type": "markdown",
   "metadata": {},
   "source": [
    "Sequential Datatypes in Python contain sequences of elements. The following types belong to the category of sequential datatypes:\n",
    "\n",
    "* string\n",
    "* unicode\n",
    "* list\n",
    "* tuple\n",
    "* bytearray\n",
    "* buffer\n",
    "* xrange objects\n",
    "\n",
    "Other container types, not belonging to sequential datatypes, are e.g. <code>dict</code>, <code>set</code> and <code>collections</code>.\n",
    "\n",
    "For all sequential datatypes the following operators are defined:"
   ]
  },
  {
   "cell_type": "markdown",
   "metadata": {
    "ExecuteTime": {
     "end_time": "2017-06-30T15:13:04.196000Z",
     "start_time": "2017-06-30T17:13:04.174000+02:00"
    }
   },
   "source": [
    "<table border=\"1\" cellspacing=\"20\" cellpadding=\"20\"><colgroup> <col width=\"30%\" /> <col width=\"70%\" /> </colgroup>\n",
    "<thead>\n",
    "<tr>\n",
    "<th>Operation</th>\n",
    "<th>Result</th>\n",
    "</tr>\n",
    "</thead>\n",
    "<tbody>\n",
    "<tr>\n",
    "<td><code>x in s</code></td>\n",
    "<td><code>True</code> if an item of <em>s</em> is equal to <em>x</em>, else <code>False</code></td>\n",
    "</tr>\n",
    "<tr>\n",
    "<td><code>x not in s</code></td>\n",
    "<td><code>False</code> if an item of <em>s</em> is equal to <em>x</em>, else <code>True</code></td>\n",
    "</tr>\n",
    "<tr>\n",
    "<td><code>s + t</code></td>\n",
    "<td>the concatenation of <em>s</em> and <em>t</em></td>\n",
    "</tr>\n",
    "<tr>\n",
    "<td><code>s \\* n, n \\* s</code></td>\n",
    "<td>equivalent to adding <em>s</em> to itself <em>n</em> times</td>\n",
    "</tr>\n",
    "<tr>\n",
    "<td><code>s[i]</code></td>\n",
    "<td><em>i.</em>th item of <em>s</em>, origin 0</td>\n",
    "</tr>\n",
    "<tr>\n",
    "<td><code>s[i:j]</code></td>\n",
    "<td>slice of <em>s</em> from <em>i</em> to <em>j</em></td>\n",
    "</tr>\n",
    "<tr>\n",
    "<td><code>s[i:j:k]</code></td>\n",
    "<td>slice of <em>s</em> from <em>i</em> to <em>j</em> with step <em>k</em></td>\n",
    "</tr>\n",
    "<tr>\n",
    "<td><code>len(s)</code></td>\n",
    "<td>length of <em>s</em></td>\n",
    "</tr>\n",
    "<tr>\n",
    "<td><code>min(s)</code></td>\n",
    "<td>smallest item of <em>s</em></td>\n",
    "</tr>\n",
    "<tr>\n",
    "<td><code>max(s)</code></td>\n",
    "<td>largest item of <em>s</em></td>\n",
    "</tr>\n",
    "<tr>\n",
    "<td><code>s.index(x)</code></td>\n",
    "<td>index of the first occurrence of <em>x</em> in <em>s</em></td>\n",
    "</tr>\n",
    "<tr>\n",
    "<td><code>s.count(x)</code></td>\n",
    "<td>total number of occurrences of <em>x</em> in <em>s</em></td>\n",
    "</tr>\n",
    "</tbody>\n",
    "</table>\n"
   ]
  },
  {
   "cell_type": "markdown",
   "metadata": {
    "ExecuteTime": {
     "end_time": "2017-06-30T15:13:55.973000Z",
     "start_time": "2017-06-30T17:13:55.973000+02:00"
    }
   },
   "source": [
    "## Strings\n",
    "A String is a sequence of characters. Strings can either be defined within single, double or triple quotes: "
   ]
  },
  {
   "cell_type": "code",
   "execution_count": 13,
   "metadata": {},
   "outputs": [
    {
     "name": "stdout",
     "output_type": "stream",
     "text": [
      "this is my first string\n",
      "<type 'str'>\n"
     ]
    }
   ],
   "source": [
    "s1='this is my first string'\n",
    "print s1\n",
    "print type(s1)"
   ]
  },
  {
   "cell_type": "code",
   "execution_count": 14,
   "metadata": {},
   "outputs": [
    {
     "name": "stdout",
     "output_type": "stream",
     "text": [
      "this is my second string\n",
      "<type 'str'>\n"
     ]
    }
   ],
   "source": [
    "s2='this is my second string'\n",
    "print s2 \n",
    "print type(s2)"
   ]
  },
  {
   "cell_type": "code",
   "execution_count": 15,
   "metadata": {},
   "outputs": [
    {
     "name": "stdout",
     "output_type": "stream",
     "text": [
      "using triple quotes\n",
      "strings can also be defined \n",
      "over multiple lines\n",
      "<type 'str'>\n"
     ]
    }
   ],
   "source": [
    "s3=\"\"\"using triple quotes\n",
    "strings can also be defined \n",
    "over multiple lines\"\"\"\n",
    "print s3\n",
    "print type(s3)"
   ]
  },
  {
   "cell_type": "markdown",
   "metadata": {},
   "source": [
    "### Accessing string components\n",
    "\n",
    "The components of strings are characters. Each component of a string-variable can be accessed by it's index or index-range in the same way as described in the [table of operations for sequential types](#seqops). In Python the first index of a datatype, that contains multiple components is always 0. Hence, for a container of length *n* the valid indeces range from 0 to n-1."
   ]
  },
  {
   "cell_type": "code",
   "execution_count": 16,
   "metadata": {},
   "outputs": [
    {
     "name": "stdout",
     "output_type": "stream",
     "text": [
      "First element of s3 is u\n"
     ]
    }
   ],
   "source": [
    "print \"First element of s3 is %s\"%s3[0]"
   ]
  },
  {
   "cell_type": "code",
   "execution_count": 17,
   "metadata": {},
   "outputs": [
    {
     "name": "stdout",
     "output_type": "stream",
     "text": [
      "The first 3 elements of s3 are usi\n"
     ]
    }
   ],
   "source": [
    "print \"The first 3 elements of s3 are %s\"%s3[:3]"
   ]
  },
  {
   "cell_type": "code",
   "execution_count": 18,
   "metadata": {},
   "outputs": [
    {
     "name": "stdout",
     "output_type": "stream",
     "text": [
      "The subsequence cotaining the 3rd, 4th and 5th element of s3 are ing\n"
     ]
    }
   ],
   "source": [
    "print \"The subsequence cotaining the 3rd, 4th and 5th element of s3 are %s\"%s3[2:5]"
   ]
  },
  {
   "cell_type": "markdown",
   "metadata": {},
   "source": [
    "The code-cells above show:\n",
    "* The index must be surrounded by square brackets\n",
    "* The i.th element is at index i-1\n",
    "* If <code>lowerbound=0</code>, it can be ommitted\n",
    "* Index-ranges are defined by <code>lowerbound:upperbound</code>, where <code>lowerbound</code> is the first index of the queried sequence and <code>upperbound</code> is the first index **after** the queried sequence. That is the lower bound is inclusive and the upper bound is exclusive.\n",
    "\n",
    "It is also possible to invert the index and count elements from the end of the sequence. For this negative indices can be applied as shown here:"
   ]
  },
  {
   "cell_type": "code",
   "execution_count": 19,
   "metadata": {},
   "outputs": [
    {
     "name": "stdout",
     "output_type": "stream",
     "text": [
      "The last character of s3 is s\n",
      "The last 5 characters of s3 are: lines\n"
     ]
    }
   ],
   "source": [
    "print \"The last character of s3 is %s\"%s3[-1]\n",
    "print \"The last 5 characters of s3 are: %s\"%s3[-5:]"
   ]
  },
  {
   "cell_type": "markdown",
   "metadata": {},
   "source": [
    "### Useful operations on strings\n",
    "In the following some operations from [the table of operations for sequential types](#seqops) are executed on string objects."
   ]
  },
  {
   "cell_type": "markdown",
   "metadata": {},
   "source": [
    "**Test if characters are contained in strings**"
   ]
  },
  {
   "cell_type": "code",
   "execution_count": 20,
   "metadata": {},
   "outputs": [
    {
     "name": "stdout",
     "output_type": "stream",
     "text": [
      "this is my first string\n",
      "True\n",
      "True\n",
      "True\n",
      "False\n"
     ]
    }
   ],
   "source": [
    "print s1\n",
    "print 'f' in s1\n",
    "print 'ing' in s1\n",
    "print ' ' in s1\n",
    "print '\\n' in s1"
   ]
  },
  {
   "cell_type": "markdown",
   "metadata": {},
   "source": [
    "**Concatenate strings**"
   ]
  },
  {
   "cell_type": "code",
   "execution_count": 21,
   "metadata": {},
   "outputs": [
    {
     "data": {
      "text/plain": [
       "'this is my first string this is my second string'"
      ]
     },
     "execution_count": 21,
     "metadata": {},
     "output_type": "execute_result"
    }
   ],
   "source": [
    "s1 + ' ' + s2"
   ]
  },
  {
   "cell_type": "markdown",
   "metadata": {},
   "source": [
    "**Replicate strings:**"
   ]
  },
  {
   "cell_type": "code",
   "execution_count": 22,
   "metadata": {},
   "outputs": [
    {
     "data": {
      "text/plain": [
       "'abc abc abc '"
      ]
     },
     "execution_count": 22,
     "metadata": {},
     "output_type": "execute_result"
    }
   ],
   "source": [
    "'abc '*3"
   ]
  },
  {
   "cell_type": "markdown",
   "metadata": {},
   "source": [
    "**Determine the length of a string:**"
   ]
  },
  {
   "cell_type": "code",
   "execution_count": 23,
   "metadata": {},
   "outputs": [
    {
     "data": {
      "text/plain": [
       "23"
      ]
     },
     "execution_count": 23,
     "metadata": {},
     "output_type": "execute_result"
    }
   ],
   "source": [
    "len(s1)"
   ]
  },
  {
   "cell_type": "markdown",
   "metadata": {},
   "source": [
    "**Determine index of first occurence of characters in string:**"
   ]
  },
  {
   "cell_type": "code",
   "execution_count": 24,
   "metadata": {},
   "outputs": [
    {
     "name": "stdout",
     "output_type": "stream",
     "text": [
      "2\n",
      "8\n"
     ]
    }
   ],
   "source": [
    "print s1.index('i')\n",
    "print s1.index('my')"
   ]
  },
  {
   "cell_type": "markdown",
   "metadata": {},
   "source": [
    "**Count fequency of characters in string:**"
   ]
  },
  {
   "cell_type": "code",
   "execution_count": 25,
   "metadata": {},
   "outputs": [
    {
     "name": "stdout",
     "output_type": "stream",
     "text": [
      "4\n",
      "1\n"
     ]
    }
   ],
   "source": [
    "print s1.count('i')\n",
    "print s1.count('my')"
   ]
  },
  {
   "cell_type": "markdown",
   "metadata": {},
   "source": [
    "## Unicode"
   ]
  },
  {
   "cell_type": "code",
   "execution_count": 26,
   "metadata": {},
   "outputs": [
    {
     "name": "stdout",
     "output_type": "stream",
     "text": [
      "<type 'str'>\n"
     ]
    },
    {
     "data": {
      "text/plain": [
       "True"
      ]
     },
     "execution_count": 26,
     "metadata": {},
     "output_type": "execute_result"
    }
   ],
   "source": [
    "su=\"für\"\n",
    "print type(su)\n",
    "\"ü\" in su"
   ]
  },
  {
   "cell_type": "code",
   "execution_count": 27,
   "metadata": {},
   "outputs": [
    {
     "name": "stdout",
     "output_type": "stream",
     "text": [
      "<type 'unicode'>\n"
     ]
    },
    {
     "data": {
      "text/plain": [
       "True"
      ]
     },
     "execution_count": 27,
     "metadata": {},
     "output_type": "execute_result"
    }
   ],
   "source": [
    "sv=u\"für\"\n",
    "print type(sv)\n",
    "u\"ü\" in sv"
   ]
  },
  {
   "cell_type": "markdown",
   "metadata": {},
   "source": [
    "## Lists"
   ]
  },
  {
   "cell_type": "markdown",
   "metadata": {},
   "source": [
    "In Python lists can contain elements of different type. Same as the type *string*, the type *list* also belongs to the category of *sequential types*. Hence, the operations in the [table of operations for sequential types](#seqops) are also applicable to lists.\n",
    "\n",
    "Lists can be generated for example by writing the elements of the list comma-separated into **square brackets**:"
   ]
  },
  {
   "cell_type": "code",
   "execution_count": 28,
   "metadata": {},
   "outputs": [
    {
     "name": "stdout",
     "output_type": "stream",
     "text": [
      "[1, 2, 5.3, 'word', True, ['a', 'b', 'c']]\n",
      "<type 'list'>\n"
     ]
    }
   ],
   "source": [
    "l1=[1,2,5.3,\"word\",True,['a','b','c']]\n",
    "print l1\n",
    "print type(l1)"
   ]
  },
  {
   "cell_type": "markdown",
   "metadata": {},
   "source": [
    "Empty lists can be generated either by `mylist = list()` or by `mylist = []`:\n"
   ]
  },
  {
   "cell_type": "code",
   "execution_count": 29,
   "metadata": {},
   "outputs": [
    {
     "name": "stdout",
     "output_type": "stream",
     "text": [
      "[]\n",
      "<type 'list'>\n"
     ]
    }
   ],
   "source": [
    "l2=list() \n",
    "print l2\n",
    "print type(l2)"
   ]
  },
  {
   "cell_type": "code",
   "execution_count": 30,
   "metadata": {},
   "outputs": [
    {
     "name": "stdout",
     "output_type": "stream",
     "text": [
      "[0, 1, 2, 3, 4, 5, 6, 7, 8, 9]\n",
      "[20, 22, 24, 26, 28]\n",
      "<type 'list'>\n"
     ]
    }
   ],
   "source": [
    "l3=range(10)\n",
    "print l3\n",
    "l4=range(20,29,2)\n",
    "print l4\n",
    "print type(l4)"
   ]
  },
  {
   "cell_type": "markdown",
   "metadata": {},
   "source": [
    "### Accessing list elements"
   ]
  },
  {
   "cell_type": "markdown",
   "metadata": {},
   "source": [
    "Same as with strings, each component of a list can be accessed by it's index and multiple list elements can be sliced by an index-range in the same way as described in the [table of operations for sequential types](#seqops). "
   ]
  },
  {
   "cell_type": "code",
   "execution_count": 33,
   "metadata": {},
   "outputs": [
    {
     "name": "stdout",
     "output_type": "stream",
     "text": [
      "[1, 2, 5.3, 'word', True, ['a', 'b', 'c']]\n",
      "2\n",
      "['a', 'b', 'c']\n",
      "[2, 5.3]\n",
      "[5.3, 'word', True, ['a', 'b', 'c']]\n"
     ]
    }
   ],
   "source": [
    "print l1\n",
    "print l1[1]\n",
    "print l1[-1]\n",
    "print l1[1:3]\n",
    "print l1[2:]"
   ]
  },
  {
   "cell_type": "markdown",
   "metadata": {},
   "source": [
    "The last element of list `l1` is a list itself. Elements of the inner list can be accessed as follows: "
   ]
  },
  {
   "cell_type": "code",
   "execution_count": 34,
   "metadata": {},
   "outputs": [
    {
     "name": "stdout",
     "output_type": "stream",
     "text": [
      "b\n"
     ]
    }
   ],
   "source": [
    "print l1[-1][1]"
   ]
  },
  {
   "cell_type": "markdown",
   "metadata": {},
   "source": [
    "### Modifying Lists\n",
    "**Modify single list elements:**"
   ]
  },
  {
   "cell_type": "code",
   "execution_count": 6,
   "metadata": {},
   "outputs": [
    {
     "name": "stdout",
     "output_type": "stream",
     "text": [
      "[2, 4, 6]\n",
      "[2, 4, 20]\n",
      "[2, 4, [21, 22]]\n"
     ]
    }
   ],
   "source": [
    "l4=[2,4,6]\n",
    "print l4\n",
    "l4[2]=20\n",
    "print l4\n",
    "l4[2]=[21,22]\n",
    "print l4"
   ]
  },
  {
   "cell_type": "markdown",
   "metadata": {},
   "source": [
    "**Modifying multiple list elements:**"
   ]
  },
  {
   "cell_type": "code",
   "execution_count": 7,
   "metadata": {},
   "outputs": [
    {
     "name": "stdout",
     "output_type": "stream",
     "text": [
      "[10, 11, [21, 22]]\n"
     ]
    }
   ],
   "source": [
    "l4[:2]=[10,11]\n",
    "print l4"
   ]
  },
  {
   "cell_type": "markdown",
   "metadata": {},
   "source": [
    "**Append and Concatenate Lists**\n",
    "New elements can be attached to the end of the list by the `append` function:"
   ]
  },
  {
   "cell_type": "code",
   "execution_count": 80,
   "metadata": {},
   "outputs": [
    {
     "name": "stdout",
     "output_type": "stream",
     "text": [
      "['a']\n",
      "['a', 'b']\n"
     ]
    }
   ],
   "source": [
    "l5=[]\n",
    "l5.append('a')\n",
    "print l5\n",
    "l5.append('b')\n",
    "print l5"
   ]
  },
  {
   "cell_type": "markdown",
   "metadata": {},
   "source": [
    "Note that if the argument of `append(anotherlist)` is another list, then not the elements of `anotherlist` are attached to the list. Instead a single element, which is a list, is appended. However, using the `extend(anotherlist)`-function attaches the single elements of `anotherlist` to the given list. The same effect can be obtained by concatenation of the two lists by the `+`-operator:  "
   ]
  },
  {
   "cell_type": "code",
   "execution_count": 81,
   "metadata": {},
   "outputs": [
    {
     "name": "stdout",
     "output_type": "stream",
     "text": [
      "['a', 'b', ['c', 'd', 'e']]\n",
      "3\n",
      "pop() returns and remvoves the element at the last index of the list:   ['c', 'd', 'e']\n",
      "After pop() the former topmost element is removed:   ['a', 'b']\n",
      "['a', 'b']\n",
      "List extended by another list:  ['a', 'b', 'c', 'd', 'e']\n",
      "Another list extension:  ['a', 'b', 'c', 'd', 'e', 'e', 'f', 'g']\n"
     ]
    }
   ],
   "source": [
    "l5.append(['c','d','e'])\n",
    "print l5\n",
    "print len(l5)\n",
    "print \"pop() returns and remvoves the element at the last index of the list:  \",l5.pop()\n",
    "print \"After pop() the former topmost element is removed:  \",l5\n",
    "print l5\n",
    "l5.extend(['c','d','e'])\n",
    "print \"List extended by another list: \",l5\n",
    "print \"Another list extension: \",l5 + ['e','f','g']"
   ]
  },
  {
   "cell_type": "markdown",
   "metadata": {},
   "source": [
    "**Remove list elements:**"
   ]
  },
  {
   "cell_type": "code",
   "execution_count": 82,
   "metadata": {},
   "outputs": [
    {
     "name": "stdout",
     "output_type": "stream",
     "text": [
      "['a', 'b', 'c', 'd', 'e']\n",
      "['a', 'c', 'd', 'e']\n",
      "['e']\n"
     ]
    }
   ],
   "source": [
    "print l5\n",
    "l5[1:2]=[]\n",
    "print l5\n",
    "l5[:3]=[]\n",
    "print l5"
   ]
  },
  {
   "cell_type": "markdown",
   "metadata": {},
   "source": [
    "**Insert elements at certain positions**"
   ]
  },
  {
   "cell_type": "code",
   "execution_count": 83,
   "metadata": {},
   "outputs": [
    {
     "name": "stdout",
     "output_type": "stream",
     "text": [
      "['A', 'e']\n",
      "['A', ['B', 'C'], 'e']\n",
      "[['B', 'C'], 'A', 'e']\n"
     ]
    }
   ],
   "source": [
    "l5.insert(0,'A')\n",
    "print l5\n",
    "l5.insert(1,['B','C'])\n",
    "print l5"
   ]
  },
  {
   "cell_type": "markdown",
   "metadata": {},
   "source": [
    "### Copy Reference, Shallow Copy, Deep Copy\n",
    ">**Note**: The distinction between the three types of copying explained in this subsection refers not only to lists, but to all objects in Python.\n",
    "\n",
    "#### Multiple references for a single object\n",
    "Assume that `mylist` is a list that shall be copied. The simple assignment ```newlist=mylist``` does not create a copy of `mylist`. Assignments of this type allow, that one and the same list can be accessed by multiple names. The effect is shown in the example below. There `l4` refers to the same list as `l6`. If the list is modified via `l4` the modification can also be seen via the other reference to the list `l6`:"
   ]
  },
  {
   "cell_type": "code",
   "execution_count": 99,
   "metadata": {},
   "outputs": [
    {
     "name": "stdout",
     "output_type": "stream",
     "text": [
      "l6: \t[0, 1, 2, 3, 4, 5, 6, 7, 8, 9]\n",
      "l4 after modification: \t \t[0, 1, 99, 3, 4, 5, 6, 7, 8, 9]\n",
      "l6 after modification of l4: \t[0, 1, 99, 3, 4, 5, 6, 7, 8, 9]\n"
     ]
    }
   ],
   "source": [
    "l6=range(10)\n",
    "print \"l6: \\t\",l6\n",
    "l4=l6\n",
    "l4[2]=99\n",
    "print \"l4 after modification: \\t \\t\",l4\n",
    "print \"l6 after modification of l4: \\t\",l6"
   ]
  },
  {
   "cell_type": "markdown",
   "metadata": {},
   "source": [
    "A list is an object (the blue rectangle in the following figure) which is assigned to a variable name (ref1 in the figure below). The variable name points to the object."
   ]
  },
  {
   "cell_type": "code",
   "execution_count": 108,
   "metadata": {
    "hide_input": true
   },
   "outputs": [
    {
     "data": {
      "image/svg+xml": [
       "<?xml version=\"1.0\" encoding=\"UTF-8\" standalone=\"no\"?>\r\n",
       "<!DOCTYPE svg PUBLIC \"-//W3C//DTD SVG 1.1//EN\"\r\n",
       " \"http://www.w3.org/Graphics/SVG/1.1/DTD/svg11.dtd\">\r\n",
       "<!-- Generated by graphviz version 2.38.0 (20140413.2041)\r\n",
       " -->\r\n",
       "<!-- Title: %3 Pages: 1 -->\r\n",
       "<svg width=\"141pt\" height=\"117pt\"\r\n",
       " viewBox=\"0.00 0.00 140.50 117.00\" xmlns=\"http://www.w3.org/2000/svg\" xmlns:xlink=\"http://www.w3.org/1999/xlink\">\r\n",
       "<g id=\"graph0\" class=\"graph\" transform=\"scale(1 1) rotate(0) translate(4 113)\">\r\n",
       "<title>%3</title>\r\n",
       "<polygon fill=\"white\" stroke=\"none\" points=\"-4,4 -4,-113 136.5,-113 136.5,4 -4,4\"/>\r\n",
       "<!-- B -->\r\n",
       "<g id=\"node1\" class=\"node\"><title>B</title>\r\n",
       "<ellipse fill=\"none\" stroke=\"black\" cx=\"27\" cy=\"-91\" rx=\"27\" ry=\"18\"/>\r\n",
       "<text text-anchor=\"middle\" x=\"27\" y=\"-87.3\" font-family=\"Times New Roman,serif\" font-size=\"14.00\">ref1</text>\r\n",
       "</g>\r\n",
       "<!-- A -->\r\n",
       "<g id=\"node2\" class=\"node\"><title>A</title>\r\n",
       "<polygon fill=\"none\" stroke=\"blue\" points=\"15.5,-0.5 15.5,-36.5 132.5,-36.5 132.5,-0.5 15.5,-0.5\"/>\r\n",
       "<text text-anchor=\"middle\" x=\"27\" y=\"-14.8\" font-family=\"Times New Roman,serif\" font-size=\"14.00\">a</text>\r\n",
       "<polyline fill=\"none\" stroke=\"blue\" points=\"38.5,-0.5 38.5,-36.5 \"/>\r\n",
       "<text text-anchor=\"middle\" x=\"50.5\" y=\"-14.8\" font-family=\"Times New Roman,serif\" font-size=\"14.00\">b</text>\r\n",
       "<polyline fill=\"none\" stroke=\"blue\" points=\"62.5,-0.5 62.5,-36.5 \"/>\r\n",
       "<text text-anchor=\"middle\" x=\"74\" y=\"-14.8\" font-family=\"Times New Roman,serif\" font-size=\"14.00\">c</text>\r\n",
       "<polyline fill=\"none\" stroke=\"blue\" points=\"85.5,-0.5 85.5,-36.5 \"/>\r\n",
       "<text text-anchor=\"middle\" x=\"97.5\" y=\"-14.8\" font-family=\"Times New Roman,serif\" font-size=\"14.00\">d</text>\r\n",
       "<polyline fill=\"none\" stroke=\"blue\" points=\"109.5,-0.5 109.5,-36.5 \"/>\r\n",
       "<text text-anchor=\"middle\" x=\"121\" y=\"-14.8\" font-family=\"Times New Roman,serif\" font-size=\"14.00\">e</text>\r\n",
       "</g>\r\n",
       "<!-- B&#45;&gt;A -->\r\n",
       "<g id=\"edge1\" class=\"edge\"><title>B&#45;&gt;A:f0</title>\r\n",
       "<path fill=\"none\" stroke=\"black\" d=\"M27,-72.8142C27,-65.2783 27,-56.1015 27,-47.0584\"/>\r\n",
       "<polygon fill=\"black\" stroke=\"black\" points=\"30.5001,-47 27,-37 23.5001,-47 30.5001,-47\"/>\r\n",
       "</g>\r\n",
       "</g>\r\n",
       "</svg>\r\n"
      ],
      "text/plain": [
       "<graphviz.dot.Digraph at 0x78b75f8>"
      ]
     },
     "execution_count": 108,
     "metadata": {},
     "output_type": "execute_result"
    }
   ],
   "source": [
    "from graphviz import Digraph\n",
    "dot = Digraph()\n",
    "dot.node('B', 'ref1')\n",
    "dot.node('A', '<f0> a | <f1> b | <f2> c | <f3> d| <f4> e ',shape=\"record\",color=\"blue\")\n",
    "dot.edge('B', 'A:f0')\n",
    "dot"
   ]
  },
  {
   "cell_type": "markdown",
   "metadata": {
    "hide_input": true
   },
   "source": [
    "The assignment `ref1=ref2` just generates a new reference `ref2`, which points to the same object as `ref1`. "
   ]
  },
  {
   "cell_type": "code",
   "execution_count": 113,
   "metadata": {
    "hide_input": true
   },
   "outputs": [
    {
     "data": {
      "image/svg+xml": [
       "<?xml version=\"1.0\" encoding=\"UTF-8\" standalone=\"no\"?>\r\n",
       "<!DOCTYPE svg PUBLIC \"-//W3C//DTD SVG 1.1//EN\"\r\n",
       " \"http://www.w3.org/Graphics/SVG/1.1/DTD/svg11.dtd\">\r\n",
       "<!-- Generated by graphviz version 2.38.0 (20140413.2041)\r\n",
       " -->\r\n",
       "<!-- Title: %3 Pages: 1 -->\r\n",
       "<svg width=\"177pt\" height=\"117pt\"\r\n",
       " viewBox=\"0.00 0.00 176.50 117.00\" xmlns=\"http://www.w3.org/2000/svg\" xmlns:xlink=\"http://www.w3.org/1999/xlink\">\r\n",
       "<g id=\"graph0\" class=\"graph\" transform=\"scale(1 1) rotate(0) translate(4 113)\">\r\n",
       "<title>%3</title>\r\n",
       "<polygon fill=\"white\" stroke=\"none\" points=\"-4,4 -4,-113 172.5,-113 172.5,4 -4,4\"/>\r\n",
       "<!-- B -->\r\n",
       "<g id=\"node1\" class=\"node\"><title>B</title>\r\n",
       "<ellipse fill=\"none\" stroke=\"black\" cx=\"27\" cy=\"-91\" rx=\"27\" ry=\"18\"/>\r\n",
       "<text text-anchor=\"middle\" x=\"27\" y=\"-87.3\" font-family=\"Times New Roman,serif\" font-size=\"14.00\">ref1</text>\r\n",
       "</g>\r\n",
       "<!-- A -->\r\n",
       "<g id=\"node3\" class=\"node\"><title>A</title>\r\n",
       "<polygon fill=\"none\" stroke=\"blue\" points=\"51.5,-0.5 51.5,-36.5 168.5,-36.5 168.5,-0.5 51.5,-0.5\"/>\r\n",
       "<text text-anchor=\"middle\" x=\"63\" y=\"-14.8\" font-family=\"Times New Roman,serif\" font-size=\"14.00\">a</text>\r\n",
       "<polyline fill=\"none\" stroke=\"blue\" points=\"74.5,-0.5 74.5,-36.5 \"/>\r\n",
       "<text text-anchor=\"middle\" x=\"86.5\" y=\"-14.8\" font-family=\"Times New Roman,serif\" font-size=\"14.00\">b</text>\r\n",
       "<polyline fill=\"none\" stroke=\"blue\" points=\"98.5,-0.5 98.5,-36.5 \"/>\r\n",
       "<text text-anchor=\"middle\" x=\"110\" y=\"-14.8\" font-family=\"Times New Roman,serif\" font-size=\"14.00\">c</text>\r\n",
       "<polyline fill=\"none\" stroke=\"blue\" points=\"121.5,-0.5 121.5,-36.5 \"/>\r\n",
       "<text text-anchor=\"middle\" x=\"133.5\" y=\"-14.8\" font-family=\"Times New Roman,serif\" font-size=\"14.00\">d</text>\r\n",
       "<polyline fill=\"none\" stroke=\"blue\" points=\"145.5,-0.5 145.5,-36.5 \"/>\r\n",
       "<text text-anchor=\"middle\" x=\"157\" y=\"-14.8\" font-family=\"Times New Roman,serif\" font-size=\"14.00\">e</text>\r\n",
       "</g>\r\n",
       "<!-- B&#45;&gt;A -->\r\n",
       "<g id=\"edge1\" class=\"edge\"><title>B&#45;&gt;A:f0</title>\r\n",
       "<path fill=\"none\" stroke=\"black\" d=\"M42.8949,-76.3832C50.3539,-68.7795 58.3017,-58.5611 61.5202,-47.219\"/>\r\n",
       "<polygon fill=\"black\" stroke=\"black\" points=\"65.0307,-47.3984 63,-37 58.1029,-46.3952 65.0307,-47.3984\"/>\r\n",
       "</g>\r\n",
       "<!-- L -->\r\n",
       "<g id=\"node2\" class=\"node\"><title>L</title>\r\n",
       "<ellipse fill=\"none\" stroke=\"black\" cx=\"99\" cy=\"-91\" rx=\"27\" ry=\"18\"/>\r\n",
       "<text text-anchor=\"middle\" x=\"99\" y=\"-87.3\" font-family=\"Times New Roman,serif\" font-size=\"14.00\">ref2</text>\r\n",
       "</g>\r\n",
       "<!-- L&#45;&gt;A -->\r\n",
       "<g id=\"edge2\" class=\"edge\"><title>L&#45;&gt;A:f0</title>\r\n",
       "<path fill=\"none\" stroke=\"black\" d=\"M83.1051,-76.3832C75.6461,-68.7795 67.6983,-58.5611 64.4798,-47.219\"/>\r\n",
       "<polygon fill=\"black\" stroke=\"black\" points=\"67.8971,-46.3952 63,-37 60.9693,-47.3984 67.8971,-46.3952\"/>\r\n",
       "</g>\r\n",
       "</g>\r\n",
       "</svg>\r\n"
      ],
      "text/plain": [
       "<graphviz.dot.Digraph at 0x78cf4a8>"
      ]
     },
     "execution_count": 113,
     "metadata": {},
     "output_type": "execute_result"
    }
   ],
   "source": [
    "dot2 = Digraph()\n",
    "dot2.node('B', 'ref1')\n",
    "dot2.node('L', 'ref2')\n",
    "dot2.node('A', '<f0> a | <f1> b | <f2> c | <f3> d| <f4> e ',shape=\"record\",color=\"blue\")\n",
    "dot2.edge('B', 'A:f0')\n",
    "dot2.edge('L', 'A:f0')\n",
    "dot2"
   ]
  },
  {
   "cell_type": "markdown",
   "metadata": {},
   "source": [
    "A modification of the list-object is visible through both references."
   ]
  },
  {
   "cell_type": "markdown",
   "metadata": {},
   "source": [
    "#### Shallow copy\n",
    "In order to generate a true copy of `mylist` one can just assign *a slice of the entire list* to the new variable by `newlist=mylist[:]`: "
   ]
  },
  {
   "cell_type": "code",
   "execution_count": 101,
   "metadata": {},
   "outputs": [
    {
     "name": "stdout",
     "output_type": "stream",
     "text": [
      "l6:  [0, 1, 99, 3, 4, 5, 6, 7, 8, 9]\n",
      "l3 as shallow copy from l6: \t[0, 1, 99, 3, 4, 5, 6, 7, 8, 9]\n",
      "l3 after modification: \t[0, 1, 100, 3, 4, 5, 6, 7, 8, 9]\n",
      "l6 after modification of l3: \t[0, 1, 99, 3, 4, 5, 6, 7, 8, 9]\n"
     ]
    }
   ],
   "source": [
    "print \"l6: \",l6\n",
    "l3=l6[:]\n",
    "print \"l3 as shallow copy from l6: \\t\",l3\n",
    "l3[2]=100\n",
    "print \"l3 after modification: \\t\",l3\n",
    "print \"l6 after modification of l3: \\t\",l6"
   ]
  },
  {
   "cell_type": "markdown",
   "metadata": {},
   "source": [
    "The same kind of copy can be obtained by applying the `copy()`-function from the package `copy` as shown below:"
   ]
  },
  {
   "cell_type": "code",
   "execution_count": 104,
   "metadata": {},
   "outputs": [
    {
     "name": "stdout",
     "output_type": "stream",
     "text": [
      "l2 as shallow copy from l6: \t[0, 1, 99, 3, 4, 5, 6, 7, 8, 9]\n",
      "l2 after modification: \t[0, 1, 222, 3, 4, 5, 6, 7, 8, 9]\n",
      "l6 after modification of l2: \t[0, 1, 99, 3, 4, 5, 6, 7, 8, 9]\n"
     ]
    }
   ],
   "source": [
    "import copy\n",
    "l2=copy.copy(l6)\n",
    "print \"l2 as shallow copy from l6: \\t\",l2\n",
    "l2[2]=222\n",
    "print \"l2 after modification: \\t\",l2\n",
    "print \"l6 after modification of l2: \\t\",l6"
   ]
  },
  {
   "cell_type": "markdown",
   "metadata": {},
   "source": [
    "As shown in the figure below the shallow copy actually generates a second list-object, with the same elements as the original list."
   ]
  },
  {
   "cell_type": "code",
   "execution_count": 114,
   "metadata": {
    "hide_input": true
   },
   "outputs": [
    {
     "data": {
      "image/svg+xml": [
       "<?xml version=\"1.0\" encoding=\"UTF-8\" standalone=\"no\"?>\r\n",
       "<!DOCTYPE svg PUBLIC \"-//W3C//DTD SVG 1.1//EN\"\r\n",
       " \"http://www.w3.org/Graphics/SVG/1.1/DTD/svg11.dtd\">\r\n",
       "<!-- Generated by graphviz version 2.38.0 (20140413.2041)\r\n",
       " -->\r\n",
       "<!-- Title: %3 Pages: 1 -->\r\n",
       "<svg width=\"276pt\" height=\"117pt\"\r\n",
       " viewBox=\"0.00 0.00 275.50 117.00\" xmlns=\"http://www.w3.org/2000/svg\" xmlns:xlink=\"http://www.w3.org/1999/xlink\">\r\n",
       "<g id=\"graph0\" class=\"graph\" transform=\"scale(1 1) rotate(0) translate(4 113)\">\r\n",
       "<title>%3</title>\r\n",
       "<polygon fill=\"white\" stroke=\"none\" points=\"-4,4 -4,-113 271.5,-113 271.5,4 -4,4\"/>\r\n",
       "<!-- B -->\r\n",
       "<g id=\"node1\" class=\"node\"><title>B</title>\r\n",
       "<ellipse fill=\"none\" stroke=\"black\" cx=\"27\" cy=\"-91\" rx=\"27\" ry=\"18\"/>\r\n",
       "<text text-anchor=\"middle\" x=\"27\" y=\"-87.3\" font-family=\"Times New Roman,serif\" font-size=\"14.00\">ref1</text>\r\n",
       "</g>\r\n",
       "<!-- A -->\r\n",
       "<g id=\"node2\" class=\"node\"><title>A</title>\r\n",
       "<polygon fill=\"none\" stroke=\"blue\" points=\"15.5,-0.5 15.5,-36.5 132.5,-36.5 132.5,-0.5 15.5,-0.5\"/>\r\n",
       "<text text-anchor=\"middle\" x=\"27\" y=\"-14.8\" font-family=\"Times New Roman,serif\" font-size=\"14.00\">a</text>\r\n",
       "<polyline fill=\"none\" stroke=\"blue\" points=\"38.5,-0.5 38.5,-36.5 \"/>\r\n",
       "<text text-anchor=\"middle\" x=\"50.5\" y=\"-14.8\" font-family=\"Times New Roman,serif\" font-size=\"14.00\">b</text>\r\n",
       "<polyline fill=\"none\" stroke=\"blue\" points=\"62.5,-0.5 62.5,-36.5 \"/>\r\n",
       "<text text-anchor=\"middle\" x=\"74\" y=\"-14.8\" font-family=\"Times New Roman,serif\" font-size=\"14.00\">c</text>\r\n",
       "<polyline fill=\"none\" stroke=\"blue\" points=\"85.5,-0.5 85.5,-36.5 \"/>\r\n",
       "<text text-anchor=\"middle\" x=\"97.5\" y=\"-14.8\" font-family=\"Times New Roman,serif\" font-size=\"14.00\">d</text>\r\n",
       "<polyline fill=\"none\" stroke=\"blue\" points=\"109.5,-0.5 109.5,-36.5 \"/>\r\n",
       "<text text-anchor=\"middle\" x=\"121\" y=\"-14.8\" font-family=\"Times New Roman,serif\" font-size=\"14.00\">e</text>\r\n",
       "</g>\r\n",
       "<!-- B&#45;&gt;A -->\r\n",
       "<g id=\"edge1\" class=\"edge\"><title>B&#45;&gt;A:f0</title>\r\n",
       "<path fill=\"none\" stroke=\"black\" d=\"M27,-72.8142C27,-65.2783 27,-56.1015 27,-47.0584\"/>\r\n",
       "<polygon fill=\"black\" stroke=\"black\" points=\"30.5001,-47 27,-37 23.5001,-47 30.5001,-47\"/>\r\n",
       "</g>\r\n",
       "<!-- C -->\r\n",
       "<g id=\"node3\" class=\"node\"><title>C</title>\r\n",
       "<ellipse fill=\"none\" stroke=\"black\" cx=\"162\" cy=\"-91\" rx=\"27\" ry=\"18\"/>\r\n",
       "<text text-anchor=\"middle\" x=\"162\" y=\"-87.3\" font-family=\"Times New Roman,serif\" font-size=\"14.00\">ref2</text>\r\n",
       "</g>\r\n",
       "<!-- D -->\r\n",
       "<g id=\"node4\" class=\"node\"><title>D</title>\r\n",
       "<polygon fill=\"none\" stroke=\"blue\" points=\"150.5,-0.5 150.5,-36.5 267.5,-36.5 267.5,-0.5 150.5,-0.5\"/>\r\n",
       "<text text-anchor=\"middle\" x=\"162\" y=\"-14.8\" font-family=\"Times New Roman,serif\" font-size=\"14.00\">a</text>\r\n",
       "<polyline fill=\"none\" stroke=\"blue\" points=\"173.5,-0.5 173.5,-36.5 \"/>\r\n",
       "<text text-anchor=\"middle\" x=\"185.5\" y=\"-14.8\" font-family=\"Times New Roman,serif\" font-size=\"14.00\">b</text>\r\n",
       "<polyline fill=\"none\" stroke=\"blue\" points=\"197.5,-0.5 197.5,-36.5 \"/>\r\n",
       "<text text-anchor=\"middle\" x=\"209\" y=\"-14.8\" font-family=\"Times New Roman,serif\" font-size=\"14.00\">c</text>\r\n",
       "<polyline fill=\"none\" stroke=\"blue\" points=\"220.5,-0.5 220.5,-36.5 \"/>\r\n",
       "<text text-anchor=\"middle\" x=\"232.5\" y=\"-14.8\" font-family=\"Times New Roman,serif\" font-size=\"14.00\">d</text>\r\n",
       "<polyline fill=\"none\" stroke=\"blue\" points=\"244.5,-0.5 244.5,-36.5 \"/>\r\n",
       "<text text-anchor=\"middle\" x=\"256\" y=\"-14.8\" font-family=\"Times New Roman,serif\" font-size=\"14.00\">e</text>\r\n",
       "</g>\r\n",
       "<!-- C&#45;&gt;D -->\r\n",
       "<g id=\"edge2\" class=\"edge\"><title>C&#45;&gt;D:f0</title>\r\n",
       "<path fill=\"none\" stroke=\"black\" d=\"M162,-72.8142C162,-65.2783 162,-56.1015 162,-47.0584\"/>\r\n",
       "<polygon fill=\"black\" stroke=\"black\" points=\"165.5,-47 162,-37 158.5,-47 165.5,-47\"/>\r\n",
       "</g>\r\n",
       "</g>\r\n",
       "</svg>\r\n"
      ],
      "text/plain": [
       "<graphviz.dot.Digraph at 0x78cfac8>"
      ]
     },
     "execution_count": 114,
     "metadata": {},
     "output_type": "execute_result"
    }
   ],
   "source": [
    "dot3 = Digraph()\n",
    "dot3.node('B', 'ref1')\n",
    "dot3.node('A', '<f0> a | <f1> b | <f2> c | <f3> d| <f4> e ',shape=\"record\",color=\"blue\")\n",
    "dot3.node('C', 'ref2')\n",
    "dot3.node('D', '<f0> a | <f1> b | <f2> c | <f3> d| <f4> e ',shape=\"record\",color=\"blue\")\n",
    "dot3.edge('B', 'A:f0')\n",
    "dot3.edge('C', 'D:f0')\n",
    "dot3"
   ]
  },
  {
   "cell_type": "markdown",
   "metadata": {},
   "source": [
    "Assume that a list `listA` contains another list `listB` and a shallow copy `listC` of `listA` is created. If the inner list `listB` is modified via `listC`, does this modification also modify `listB` in `listA`?\n",
    "\n",
    "As can be seen in the code cell below, the inner list is actually modified for both outer list. This means that the shallow copy, generated by `copy.copy()` creates a new list, but if the lists (objects) contained in the copied list are not replicated."
   ]
  },
  {
   "cell_type": "code",
   "execution_count": 106,
   "metadata": {},
   "outputs": [
    {
     "name": "stdout",
     "output_type": "stream",
     "text": [
      "l6: [0, [11, 12, 0], 99, 3, 4, 5, 6, 7, 8, 9]\n",
      "l7 as shallow copy from l6: \t[0, [11, 12, 13], 99, 3, 4, 5, 6, 7, 8, 9]\n",
      "l7 after modification of its sublist: \t\t[0, [11, 12, 0], 99, 3, 4, 5, 6, 7, 8, 9]\n",
      "l6 after modification of a sublist of l7: \t[0, [11, 12, 0], 99, 3, 4, 5, 6, 7, 8, 9]\n"
     ]
    }
   ],
   "source": [
    "print \"l6:\",l6\n",
    "l6[1]=[11,12,13]\n",
    "l7=copy.copy(l6)\n",
    "print \"l7 as shallow copy from l6: \\t\",l7\n",
    "l7[1][2]=0\n",
    "print \"l7 after modification of its sublist: \\t\\t\",l7\n",
    "print \"l6 after modification of a sublist of l7: \\t\",l6"
   ]
  },
  {
   "cell_type": "markdown",
   "metadata": {},
   "source": [
    "If a list contains sublists, then with shallow copies the sublists are note replicated. Both list elements point to the same sublist as shown below:"
   ]
  },
  {
   "cell_type": "code",
   "execution_count": 115,
   "metadata": {
    "hide_input": true
   },
   "outputs": [
    {
     "data": {
      "image/svg+xml": [
       "<?xml version=\"1.0\" encoding=\"UTF-8\" standalone=\"no\"?>\r\n",
       "<!DOCTYPE svg PUBLIC \"-//W3C//DTD SVG 1.1//EN\"\r\n",
       " \"http://www.w3.org/Graphics/SVG/1.1/DTD/svg11.dtd\">\r\n",
       "<!-- Generated by graphviz version 2.38.0 (20140413.2041)\r\n",
       " -->\r\n",
       "<!-- Title: %3 Pages: 1 -->\r\n",
       "<svg width=\"276pt\" height=\"190pt\"\r\n",
       " viewBox=\"0.00 0.00 275.50 190.00\" xmlns=\"http://www.w3.org/2000/svg\" xmlns:xlink=\"http://www.w3.org/1999/xlink\">\r\n",
       "<g id=\"graph0\" class=\"graph\" transform=\"scale(1 1) rotate(0) translate(4 186)\">\r\n",
       "<title>%3</title>\r\n",
       "<polygon fill=\"white\" stroke=\"none\" points=\"-4,4 -4,-186 271.5,-186 271.5,4 -4,4\"/>\r\n",
       "<!-- B -->\r\n",
       "<g id=\"node1\" class=\"node\"><title>B</title>\r\n",
       "<ellipse fill=\"none\" stroke=\"black\" cx=\"27\" cy=\"-164\" rx=\"27\" ry=\"18\"/>\r\n",
       "<text text-anchor=\"middle\" x=\"27\" y=\"-160.3\" font-family=\"Times New Roman,serif\" font-size=\"14.00\">ref1</text>\r\n",
       "</g>\r\n",
       "<!-- A -->\r\n",
       "<g id=\"node2\" class=\"node\"><title>A</title>\r\n",
       "<polygon fill=\"none\" stroke=\"blue\" points=\"15.5,-73.5 15.5,-109.5 132.5,-109.5 132.5,-73.5 15.5,-73.5\"/>\r\n",
       "<text text-anchor=\"middle\" x=\"27\" y=\"-87.8\" font-family=\"Times New Roman,serif\" font-size=\"14.00\">a</text>\r\n",
       "<polyline fill=\"none\" stroke=\"blue\" points=\"38.5,-73.5 38.5,-109.5 \"/>\r\n",
       "<text text-anchor=\"middle\" x=\"50.5\" y=\"-87.8\" font-family=\"Times New Roman,serif\" font-size=\"14.00\">b</text>\r\n",
       "<polyline fill=\"none\" stroke=\"blue\" points=\"62.5,-73.5 62.5,-109.5 \"/>\r\n",
       "<text text-anchor=\"middle\" x=\"74\" y=\"-87.8\" font-family=\"Times New Roman,serif\" font-size=\"14.00\">c</text>\r\n",
       "<polyline fill=\"none\" stroke=\"blue\" points=\"85.5,-73.5 85.5,-109.5 \"/>\r\n",
       "<text text-anchor=\"middle\" x=\"97.5\" y=\"-87.8\" font-family=\"Times New Roman,serif\" font-size=\"14.00\">d</text>\r\n",
       "<polyline fill=\"none\" stroke=\"blue\" points=\"109.5,-73.5 109.5,-109.5 \"/>\r\n",
       "<text text-anchor=\"middle\" x=\"121\" y=\"-87.8\" font-family=\"Times New Roman,serif\" font-size=\"14.00\">e</text>\r\n",
       "</g>\r\n",
       "<!-- B&#45;&gt;A -->\r\n",
       "<g id=\"edge1\" class=\"edge\"><title>B&#45;&gt;A:f0</title>\r\n",
       "<path fill=\"none\" stroke=\"black\" d=\"M27,-145.814C27,-138.278 27,-129.101 27,-120.058\"/>\r\n",
       "<polygon fill=\"black\" stroke=\"black\" points=\"30.5001,-120 27,-110 23.5001,-120 30.5001,-120\"/>\r\n",
       "</g>\r\n",
       "<!-- E -->\r\n",
       "<g id=\"node5\" class=\"node\"><title>E</title>\r\n",
       "<polygon fill=\"none\" stroke=\"green\" points=\"105.5,-0.5 105.5,-36.5 174.5,-36.5 174.5,-0.5 105.5,-0.5\"/>\r\n",
       "<text text-anchor=\"middle\" x=\"117\" y=\"-14.8\" font-family=\"Times New Roman,serif\" font-size=\"14.00\">x</text>\r\n",
       "<polyline fill=\"none\" stroke=\"green\" points=\"128.5,-0.5 128.5,-36.5 \"/>\r\n",
       "<text text-anchor=\"middle\" x=\"140\" y=\"-14.8\" font-family=\"Times New Roman,serif\" font-size=\"14.00\">y</text>\r\n",
       "<polyline fill=\"none\" stroke=\"green\" points=\"151.5,-0.5 151.5,-36.5 \"/>\r\n",
       "<text text-anchor=\"middle\" x=\"163\" y=\"-14.8\" font-family=\"Times New Roman,serif\" font-size=\"14.00\">z</text>\r\n",
       "</g>\r\n",
       "<!-- A&#45;&gt;E -->\r\n",
       "<g id=\"edge3\" class=\"edge\"><title>A:f1&#45;&gt;E:f0</title>\r\n",
       "<path fill=\"none\" stroke=\"black\" d=\"M50,-73C50,-43.4214 101.297,-63.9241 114.121,-46.8658\"/>\r\n",
       "<polygon fill=\"black\" stroke=\"black\" points=\"117.559,-47.5801 117,-37 110.839,-45.6192 117.559,-47.5801\"/>\r\n",
       "</g>\r\n",
       "<!-- C -->\r\n",
       "<g id=\"node3\" class=\"node\"><title>C</title>\r\n",
       "<ellipse fill=\"none\" stroke=\"black\" cx=\"162\" cy=\"-164\" rx=\"27\" ry=\"18\"/>\r\n",
       "<text text-anchor=\"middle\" x=\"162\" y=\"-160.3\" font-family=\"Times New Roman,serif\" font-size=\"14.00\">ref2</text>\r\n",
       "</g>\r\n",
       "<!-- D -->\r\n",
       "<g id=\"node4\" class=\"node\"><title>D</title>\r\n",
       "<polygon fill=\"none\" stroke=\"blue\" points=\"150.5,-73.5 150.5,-109.5 267.5,-109.5 267.5,-73.5 150.5,-73.5\"/>\r\n",
       "<text text-anchor=\"middle\" x=\"162\" y=\"-87.8\" font-family=\"Times New Roman,serif\" font-size=\"14.00\">a</text>\r\n",
       "<polyline fill=\"none\" stroke=\"blue\" points=\"173.5,-73.5 173.5,-109.5 \"/>\r\n",
       "<text text-anchor=\"middle\" x=\"185.5\" y=\"-87.8\" font-family=\"Times New Roman,serif\" font-size=\"14.00\">b</text>\r\n",
       "<polyline fill=\"none\" stroke=\"blue\" points=\"197.5,-73.5 197.5,-109.5 \"/>\r\n",
       "<text text-anchor=\"middle\" x=\"209\" y=\"-87.8\" font-family=\"Times New Roman,serif\" font-size=\"14.00\">c</text>\r\n",
       "<polyline fill=\"none\" stroke=\"blue\" points=\"220.5,-73.5 220.5,-109.5 \"/>\r\n",
       "<text text-anchor=\"middle\" x=\"232.5\" y=\"-87.8\" font-family=\"Times New Roman,serif\" font-size=\"14.00\">d</text>\r\n",
       "<polyline fill=\"none\" stroke=\"blue\" points=\"244.5,-73.5 244.5,-109.5 \"/>\r\n",
       "<text text-anchor=\"middle\" x=\"256\" y=\"-87.8\" font-family=\"Times New Roman,serif\" font-size=\"14.00\">e</text>\r\n",
       "</g>\r\n",
       "<!-- C&#45;&gt;D -->\r\n",
       "<g id=\"edge2\" class=\"edge\"><title>C&#45;&gt;D:f0</title>\r\n",
       "<path fill=\"none\" stroke=\"black\" d=\"M162,-145.814C162,-138.278 162,-129.101 162,-120.058\"/>\r\n",
       "<polygon fill=\"black\" stroke=\"black\" points=\"165.5,-120 162,-110 158.5,-120 165.5,-120\"/>\r\n",
       "</g>\r\n",
       "<!-- D&#45;&gt;E -->\r\n",
       "<g id=\"edge4\" class=\"edge\"><title>D:f1&#45;&gt;E:f0</title>\r\n",
       "<path fill=\"none\" stroke=\"black\" d=\"M185,-73C185,-43.0783 132.938,-64.1386 119.922,-46.9624\"/>\r\n",
       "<polygon fill=\"black\" stroke=\"black\" points=\"123.173,-45.6107 117,-37 116.456,-47.5809 123.173,-45.6107\"/>\r\n",
       "</g>\r\n",
       "</g>\r\n",
       "</svg>\r\n"
      ],
      "text/plain": [
       "<graphviz.dot.Digraph at 0x784b080>"
      ]
     },
     "execution_count": 115,
     "metadata": {},
     "output_type": "execute_result"
    }
   ],
   "source": [
    "dot3 = Digraph()\n",
    "dot3.node('B', 'ref1')\n",
    "dot3.node('A', '<f0> a | <f1> b | <f2> c | <f3> d| <f4> e ',shape=\"record\",color=\"blue\")\n",
    "dot3.node('C', 'ref2')\n",
    "dot3.node('D', '<f0> a | <f1> b | <f2> c | <f3> d| <f4> e ',shape=\"record\",color=\"blue\")\n",
    "dot3.node('E', '<f0> x | <f1> y | <f2> z ',shape=\"record\",color=\"green\")\n",
    "dot3.edge('B', 'A:f0')\n",
    "dot3.edge('C', 'D:f0')\n",
    "dot3.edge('A:f1', 'E:f0')\n",
    "dot3.edge('D:f1', 'E:f0')\n",
    "dot3"
   ]
  },
  {
   "cell_type": "markdown",
   "metadata": {},
   "source": [
    "#### Deep copy\n",
    "If all objects within lists shall really be replicated, then the `deepcopy()`-function from the `copy`-package can be applied as shown below:"
   ]
  },
  {
   "cell_type": "code",
   "execution_count": 107,
   "metadata": {},
   "outputs": [
    {
     "name": "stdout",
     "output_type": "stream",
     "text": [
      "[0, [11, 12, 0], 99, 3, 4, 5, 6, 7, 8, 9]\n",
      "l7 as deep copy from l6: \t[0, [11, 12, 13], 99, 3, 4, 5, 6, 7, 8, 9]\n",
      "l8 after modification of its sublist: \t\t[0, [11, 12, 0], 99, 3, 4, 5, 6, 7, 8, 9]\n",
      "l6 after modification of a sublist of l7: \t[0, [11, 12, 13], 99, 3, 4, 5, 6, 7, 8, 9]\n"
     ]
    }
   ],
   "source": [
    "print l6\n",
    "l6[1]=[11,12,13]\n",
    "l8=copy.deepcopy(l6)\n",
    "print \"l7 as deep copy from l6: \\t\",l8\n",
    "l8[1][2]=0\n",
    "print \"l8 after modification of its sublist: \\t\\t\",l8\n",
    "print \"l6 after modification of a sublist of l8: \\t\",l6"
   ]
  },
  {
   "cell_type": "markdown",
   "metadata": {},
   "source": [
    "As shown below a deepcopy also replicates all sublists."
   ]
  },
  {
   "cell_type": "code",
   "execution_count": 116,
   "metadata": {
    "hide_input": true
   },
   "outputs": [
    {
     "data": {
      "image/svg+xml": [
       "<?xml version=\"1.0\" encoding=\"UTF-8\" standalone=\"no\"?>\r\n",
       "<!DOCTYPE svg PUBLIC \"-//W3C//DTD SVG 1.1//EN\"\r\n",
       " \"http://www.w3.org/Graphics/SVG/1.1/DTD/svg11.dtd\">\r\n",
       "<!-- Generated by graphviz version 2.38.0 (20140413.2041)\r\n",
       " -->\r\n",
       "<!-- Title: %3 Pages: 1 -->\r\n",
       "<svg width=\"276pt\" height=\"190pt\"\r\n",
       " viewBox=\"0.00 0.00 275.50 190.00\" xmlns=\"http://www.w3.org/2000/svg\" xmlns:xlink=\"http://www.w3.org/1999/xlink\">\r\n",
       "<g id=\"graph0\" class=\"graph\" transform=\"scale(1 1) rotate(0) translate(4 186)\">\r\n",
       "<title>%3</title>\r\n",
       "<polygon fill=\"white\" stroke=\"none\" points=\"-4,4 -4,-186 271.5,-186 271.5,4 -4,4\"/>\r\n",
       "<!-- B -->\r\n",
       "<g id=\"node1\" class=\"node\"><title>B</title>\r\n",
       "<ellipse fill=\"none\" stroke=\"black\" cx=\"27\" cy=\"-164\" rx=\"27\" ry=\"18\"/>\r\n",
       "<text text-anchor=\"middle\" x=\"27\" y=\"-160.3\" font-family=\"Times New Roman,serif\" font-size=\"14.00\">ref1</text>\r\n",
       "</g>\r\n",
       "<!-- A -->\r\n",
       "<g id=\"node2\" class=\"node\"><title>A</title>\r\n",
       "<polygon fill=\"none\" stroke=\"blue\" points=\"15.5,-73.5 15.5,-109.5 132.5,-109.5 132.5,-73.5 15.5,-73.5\"/>\r\n",
       "<text text-anchor=\"middle\" x=\"27\" y=\"-87.8\" font-family=\"Times New Roman,serif\" font-size=\"14.00\">a</text>\r\n",
       "<polyline fill=\"none\" stroke=\"blue\" points=\"38.5,-73.5 38.5,-109.5 \"/>\r\n",
       "<text text-anchor=\"middle\" x=\"50.5\" y=\"-87.8\" font-family=\"Times New Roman,serif\" font-size=\"14.00\">b</text>\r\n",
       "<polyline fill=\"none\" stroke=\"blue\" points=\"62.5,-73.5 62.5,-109.5 \"/>\r\n",
       "<text text-anchor=\"middle\" x=\"74\" y=\"-87.8\" font-family=\"Times New Roman,serif\" font-size=\"14.00\">c</text>\r\n",
       "<polyline fill=\"none\" stroke=\"blue\" points=\"85.5,-73.5 85.5,-109.5 \"/>\r\n",
       "<text text-anchor=\"middle\" x=\"97.5\" y=\"-87.8\" font-family=\"Times New Roman,serif\" font-size=\"14.00\">d</text>\r\n",
       "<polyline fill=\"none\" stroke=\"blue\" points=\"109.5,-73.5 109.5,-109.5 \"/>\r\n",
       "<text text-anchor=\"middle\" x=\"121\" y=\"-87.8\" font-family=\"Times New Roman,serif\" font-size=\"14.00\">e</text>\r\n",
       "</g>\r\n",
       "<!-- B&#45;&gt;A -->\r\n",
       "<g id=\"edge1\" class=\"edge\"><title>B&#45;&gt;A:f0</title>\r\n",
       "<path fill=\"none\" stroke=\"black\" d=\"M27,-145.814C27,-138.278 27,-129.101 27,-120.058\"/>\r\n",
       "<polygon fill=\"black\" stroke=\"black\" points=\"30.5001,-120 27,-110 23.5001,-120 30.5001,-120\"/>\r\n",
       "</g>\r\n",
       "<!-- E -->\r\n",
       "<g id=\"node5\" class=\"node\"><title>E</title>\r\n",
       "<polygon fill=\"none\" stroke=\"green\" points=\"38.5,-0.5 38.5,-36.5 107.5,-36.5 107.5,-0.5 38.5,-0.5\"/>\r\n",
       "<text text-anchor=\"middle\" x=\"50\" y=\"-14.8\" font-family=\"Times New Roman,serif\" font-size=\"14.00\">x</text>\r\n",
       "<polyline fill=\"none\" stroke=\"green\" points=\"61.5,-0.5 61.5,-36.5 \"/>\r\n",
       "<text text-anchor=\"middle\" x=\"73\" y=\"-14.8\" font-family=\"Times New Roman,serif\" font-size=\"14.00\">y</text>\r\n",
       "<polyline fill=\"none\" stroke=\"green\" points=\"84.5,-0.5 84.5,-36.5 \"/>\r\n",
       "<text text-anchor=\"middle\" x=\"96\" y=\"-14.8\" font-family=\"Times New Roman,serif\" font-size=\"14.00\">z</text>\r\n",
       "</g>\r\n",
       "<!-- A&#45;&gt;E -->\r\n",
       "<g id=\"edge3\" class=\"edge\"><title>A:f1&#45;&gt;E:f0</title>\r\n",
       "<path fill=\"none\" stroke=\"black\" d=\"M50,-73C50,-61 50,-55.75 50,-47.125\"/>\r\n",
       "<polygon fill=\"black\" stroke=\"black\" points=\"53.5001,-47 50,-37 46.5001,-47 53.5001,-47\"/>\r\n",
       "</g>\r\n",
       "<!-- C -->\r\n",
       "<g id=\"node3\" class=\"node\"><title>C</title>\r\n",
       "<ellipse fill=\"none\" stroke=\"black\" cx=\"162\" cy=\"-164\" rx=\"27\" ry=\"18\"/>\r\n",
       "<text text-anchor=\"middle\" x=\"162\" y=\"-160.3\" font-family=\"Times New Roman,serif\" font-size=\"14.00\">ref2</text>\r\n",
       "</g>\r\n",
       "<!-- D -->\r\n",
       "<g id=\"node4\" class=\"node\"><title>D</title>\r\n",
       "<polygon fill=\"none\" stroke=\"blue\" points=\"150.5,-73.5 150.5,-109.5 267.5,-109.5 267.5,-73.5 150.5,-73.5\"/>\r\n",
       "<text text-anchor=\"middle\" x=\"162\" y=\"-87.8\" font-family=\"Times New Roman,serif\" font-size=\"14.00\">a</text>\r\n",
       "<polyline fill=\"none\" stroke=\"blue\" points=\"173.5,-73.5 173.5,-109.5 \"/>\r\n",
       "<text text-anchor=\"middle\" x=\"185.5\" y=\"-87.8\" font-family=\"Times New Roman,serif\" font-size=\"14.00\">b</text>\r\n",
       "<polyline fill=\"none\" stroke=\"blue\" points=\"197.5,-73.5 197.5,-109.5 \"/>\r\n",
       "<text text-anchor=\"middle\" x=\"209\" y=\"-87.8\" font-family=\"Times New Roman,serif\" font-size=\"14.00\">c</text>\r\n",
       "<polyline fill=\"none\" stroke=\"blue\" points=\"220.5,-73.5 220.5,-109.5 \"/>\r\n",
       "<text text-anchor=\"middle\" x=\"232.5\" y=\"-87.8\" font-family=\"Times New Roman,serif\" font-size=\"14.00\">d</text>\r\n",
       "<polyline fill=\"none\" stroke=\"blue\" points=\"244.5,-73.5 244.5,-109.5 \"/>\r\n",
       "<text text-anchor=\"middle\" x=\"256\" y=\"-87.8\" font-family=\"Times New Roman,serif\" font-size=\"14.00\">e</text>\r\n",
       "</g>\r\n",
       "<!-- C&#45;&gt;D -->\r\n",
       "<g id=\"edge2\" class=\"edge\"><title>C&#45;&gt;D:f0</title>\r\n",
       "<path fill=\"none\" stroke=\"black\" d=\"M162,-145.814C162,-138.278 162,-129.101 162,-120.058\"/>\r\n",
       "<polygon fill=\"black\" stroke=\"black\" points=\"165.5,-120 162,-110 158.5,-120 165.5,-120\"/>\r\n",
       "</g>\r\n",
       "<!-- F -->\r\n",
       "<g id=\"node6\" class=\"node\"><title>F</title>\r\n",
       "<polygon fill=\"none\" stroke=\"green\" points=\"173.5,-0.5 173.5,-36.5 242.5,-36.5 242.5,-0.5 173.5,-0.5\"/>\r\n",
       "<text text-anchor=\"middle\" x=\"185\" y=\"-14.8\" font-family=\"Times New Roman,serif\" font-size=\"14.00\">x</text>\r\n",
       "<polyline fill=\"none\" stroke=\"green\" points=\"196.5,-0.5 196.5,-36.5 \"/>\r\n",
       "<text text-anchor=\"middle\" x=\"208\" y=\"-14.8\" font-family=\"Times New Roman,serif\" font-size=\"14.00\">y</text>\r\n",
       "<polyline fill=\"none\" stroke=\"green\" points=\"219.5,-0.5 219.5,-36.5 \"/>\r\n",
       "<text text-anchor=\"middle\" x=\"231\" y=\"-14.8\" font-family=\"Times New Roman,serif\" font-size=\"14.00\">z</text>\r\n",
       "</g>\r\n",
       "<!-- D&#45;&gt;F -->\r\n",
       "<g id=\"edge4\" class=\"edge\"><title>D:f1&#45;&gt;F:f0</title>\r\n",
       "<path fill=\"none\" stroke=\"black\" d=\"M185,-73C185,-61 185,-55.75 185,-47.125\"/>\r\n",
       "<polygon fill=\"black\" stroke=\"black\" points=\"188.5,-47 185,-37 181.5,-47 188.5,-47\"/>\r\n",
       "</g>\r\n",
       "</g>\r\n",
       "</svg>\r\n"
      ],
      "text/plain": [
       "<graphviz.dot.Digraph at 0x784b358>"
      ]
     },
     "execution_count": 116,
     "metadata": {},
     "output_type": "execute_result"
    }
   ],
   "source": [
    "dot3 = Digraph()\n",
    "dot3.node('B', 'ref1')\n",
    "dot3.node('A', '<f0> a | <f1> b | <f2> c | <f3> d| <f4> e ',shape=\"record\",color=\"blue\")\n",
    "dot3.node('C', 'ref2')\n",
    "dot3.node('D', '<f0> a | <f1> b | <f2> c | <f3> d| <f4> e ',shape=\"record\",color=\"blue\")\n",
    "dot3.node('E', '<f0> x | <f1> y | <f2> z ',shape=\"record\",color=\"green\")\n",
    "dot3.node('F', '<f0> x | <f1> y | <f2> z ',shape=\"record\",color=\"green\")\n",
    "dot3.edge('B', 'A:f0')\n",
    "dot3.edge('C', 'D:f0')\n",
    "dot3.edge('A:f1', 'E:f0')\n",
    "dot3.edge('D:f1', 'F:f0')\n",
    "dot3"
   ]
  },
  {
   "cell_type": "markdown",
   "metadata": {},
   "source": [
    "## Tuple\n",
    "Tuples are immutable list. This means that they can not be modified after creation. Tuples can be generated similar to lists, however their elements are surrounded by parentheses instead of square brackets."
   ]
  },
  {
   "cell_type": "code",
   "execution_count": 22,
   "metadata": {},
   "outputs": [
    {
     "name": "stdout",
     "output_type": "stream",
     "text": [
      "(3, 5.4, 'a', 'in tuple', (1, 2, 3))\n",
      "<type 'tuple'>\n"
     ]
    }
   ],
   "source": [
    "t1=(3,5.4,'a','in tuple',(1,2,3))\n",
    "print t1\n",
    "print type(t1)"
   ]
  },
  {
   "cell_type": "code",
   "execution_count": null,
   "metadata": {
    "collapsed": true
   },
   "outputs": [],
   "source": []
  }
 ],
 "metadata": {
  "kernelspec": {
   "display_name": "Python [default]",
   "language": "python",
   "name": "python2"
  },
  "language_info": {
   "codemirror_mode": {
    "name": "ipython",
    "version": 2
   },
   "file_extension": ".py",
   "mimetype": "text/x-python",
   "name": "python",
   "nbconvert_exporter": "python",
   "pygments_lexer": "ipython2",
   "version": "2.7.13"
  },
  "nav_menu": {},
  "toc": {
   "navigate_menu": true,
   "number_sections": true,
   "sideBar": true,
   "threshold": 6,
   "toc_cell": false,
   "toc_section_display": "block",
   "toc_window_display": true
  },
  "toc_position": {
   "height": "743px",
   "left": "0px",
   "right": "1351.83px",
   "top": "125.167px",
   "width": "212px"
  }
 },
 "nbformat": 4,
 "nbformat_minor": 2
}

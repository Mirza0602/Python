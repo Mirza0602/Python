{
 "cells": [
  {
   "cell_type": "markdown",
   "metadata": {
    "deletable": true,
    "editable": true
   },
   "source": [
    "# Lecture Programming for Data Science, Part Python\n",
    "\n",
    "* Author: Prof. Dr. Johannes Maucher\n",
    "* Email: maucher@hdm-stuttgart.de\n",
    "* Last Update: 22.06.2017\n",
    "\n",
    "Goal of this workshop is to demonstrate how *Python* and it's main Machine Learning Framework [Scikit-Learn](http://scikit-learn.org/stable/index.html) can be applied for data mining, in particular for learning, testing and evaluating models. *Scikit-Learn* is based on [NumPy](http://www.numpy.org/), which is the fundamental package for scientific calculation in Python. Comfortable methods for data access and data analysis are provided by [Pandas](http://pandas.pydata.org/). Pandas is also based on *Numpy*. The main library for 2- and 3-dimensional data visualisation is [Matplotlib](http://matplotlib.org/). Numpy datastructures can easily be visualized with matplotlib. \n",
    "\n",
    "Selected concepts, classes and methods of *Scikit-Learn* are demonstrated in the main part [Data Mining with Python Modules](#data_mining) of this workshop. Basic concepts of the mentioned base- and helper-modules *Numpy, Pandas* and *Matplotlib* can be learned from the jupyter notebooks of chapter [Basic Modules](#basic_modules)."
   ]
  },
  {
   "cell_type": "markdown",
   "metadata": {
    "deletable": true,
    "editable": true
   },
   "source": [
    "<a id='basic_modules'></a>\n",
    "## Basic Modules and concepts\n",
    "The main Python modules, which are usually applied in the context of scikit-learn are:\n",
    "\n",
    "* [Basics in Numpy (.ipynb)](NP01numpyBasics.ipynb) / [[.html]](NP01numpyBasics.html)\n",
    "* [Basics in Matplotlib (.ipynb)](PLT01visualization.ipynb) / [[.html]](PLT01visualization.html)\n",
    "* [Basics in Pandas (.ipynb)](PD01Pandas.ipynb) / [[.html]](PD01Pandas.html)\n",
    "\n",
    "The main concepts of the Python Machine Learning framework [Scikit-Learn](http://scikit-learn.org/stable/index.html) are:\n",
    "* it is primarily built on Numpy. In particular internal and external data structures are [Numpy Arrays](https://docs.scipy.org/doc/numpy/reference/generated/numpy.array.html).\n",
    "* All algorithms, which somehow transform data belong to the **<span class=\"mark\">Transformer</span>**-class, e.g. *PCA, Normalizer, StandardScaler, OneHotEncoder*, etc. These transformers are trained by applying the *<span class=\"mark\">.fit(traindata)</span>*-method. Once they are trained, there *<span class=\"mark\">.transform(data)</span>*-method can be called in order to transform *data*. If the data used for training the transformer shall be transformed immediately after training, the *.<span class=\"mark\">fit_transform(data)</span>*-method can be applied.\n",
    "* All Machine Learning algorithms for supervised and unsupervised learning belong to the **<span class=\"mark\">Estimator</span>** class, e.g. *LogisticRegression, SVM, MLP, Kmeans*, etc. These estimators are trained by applying the *.fit(trainfeatures)*- or *<span class=\"mark\">.fit(trainfeatures,trainlabels)</span>*-method. The former configuration is applied for unsupervised-, the latter for supervised learning. Once an estimator is trained, it can be applied for clustering, classification or regression by envoking the *.<span class=\"mark\">predict(data)</span>*-method. \n",
    "* At their interfaces all **Transformers** and **Estimators** apply *Numpy Arrays*."
   ]
  },
  {
   "cell_type": "markdown",
   "metadata": {
    "deletable": true,
    "editable": true
   },
   "source": [
    "<a id='data_mining'></a>\n",
    "## Data Mining with Python Modules\n",
    "\n",
    "1. [Data Access, Preprocessing and Understanding (.ipynb)](01DataAccess.ipynb) / [[.html]](01DataAccess.html)\n",
    "    * Pandas for Data Access and Preprocessing\n",
    "    * Dealing with missing data\n",
    "    * Data understanding by\n",
    "        - descriptive statistics\n",
    "        - visualisation\n",
    "    * Transformations for ordinal and nominal data\n",
    "    * Data Scaling\n",
    "    * Feature Selection\n",
    "        \n",
    "2. [Learning and Visualization of Decision Trees(.ipynb)](02DecisionTree.ipynb) / [[.html]](02DecisionTree.html)\n",
    "    * Label-Encoding and One-Hot-Encoding\n",
    "    * Train and test with scikit-learn (basic approach)\n",
    "    * Decision Tree based calculation of feature importance\n",
    "    * Visualisation of decision tree\n",
    "    \n",
    "3. [Building Data Mining Processing Chains (.ipynb)](03ProcessingPipeline.ipynb) / [[.html]](03ProcessingPipeline.html)\n",
    "    * Example Data: Cleveland Heart Disease Dataset\n",
    "    * Preprocessing\n",
    "    * Building a pipeline of modules for scaling, transformation and classification\n",
    "    * Evaluation of a Classifier by accuracy, confusion matrix, precision, recall, f1-score\n",
    "    * Cross-Validation\n",
    "    * Determine feature importance\n",
    "    * Fast and efficient model comparison\n",
    "    \n",
    "4. [Model Evaluation (.ipynb)](04EvaluationCurves.ipynb) / [[.html]](04EvaluationCurves.html)\n",
    "    * Calculation and visualisation of Learning Curve\n",
    "    * Calculation and visualisation of Validation Curve\n",
    "    * Logistic Regression\n",
    "    * Support Vector Machine\n",
    "    * Hyperparameter tuning with\n",
    "        * GridSearch\n",
    "        * RandomSearch\n",
    "    * Calculation and visualisation of ROC\n",
    "    * Analyse and visualise influence of Regularisation on weights\n",
    "    \n",
    "5. [Ensemble Methods: General Concept (.ipynb)](05EnsembleMethods.ipynb)  / [[.html]](05EnsembleMethods.html)\n",
    "    * Categorisation of ensemble machine learning algorithms and the main concepts\n",
    "\n",
    "5. [Random Forest Regression (.ipynb)](05RandomForestRegression.ipynb)  / [[.html]](05RandomForestRegression.html)\n",
    "    * Example Data: Predict bike rental\n",
    "    * Train and evaluate Random Forest Regression model\n",
    "    * Error visualisation\n",
    "    * Determining feature importance\n",
    "    * Hyperparameter Tuning\n",
    "    * Fast and efficient model comparison\n",
    "    * Comparison with Extremly Randomized Trees\n",
    "    * Combined Learning and Hyperparameter-Tuning in Linear Regression modules\n",
    "\n",
    "5. [Gradient Boosting Regression (.ipynb)](05GradientBoostingRegression.ipynb)  / [[.html]](05GradientBoostingRegression.html)\n",
    "    * Example Data: Predict bike rental\n",
    "    * Train and evaluate Gradient Boosting Regression model\n",
    "    * Error visualisation\n",
    "    * Determining feature importance\n",
    "    * Hyperparameter Tuning\n",
    "    * Fast and efficient model comparison\n",
    "    * Comparison with Ada Boost Regression\n",
    "\n",
    "6. [Clustering Energy Consumption (.ipynb)](06ClusteringEnergy.ipynb) / [[.html]](06ClusteringEnergy.html).\n",
    "    * Boxplots\n",
    "    * Enhance data with geo-information\n",
    "    * Normalization\n",
    "    * Clusteralgorithms\n",
    "        - Hierarchical Clustering\n",
    "        - Kmeans\n",
    "        - DBSAN\n",
    "        - Affinity Propagation\n",
    "    * Visualisation of clusters\n",
    "    * Dimensionality Reduction\n",
    "    * Visualisation in Google Maps"
   ]
  },
  {
   "cell_type": "markdown",
   "metadata": {
    "collapsed": true,
    "deletable": true,
    "editable": true
   },
   "source": [
    "## Exercise\n",
    "\n",
    "1. [Classification and Regression on StepStone Data(.ipynb)](100Exercise.ipynb) / [[.html]](100Exercise.html)"
   ]
  },
  {
   "cell_type": "code",
   "execution_count": null,
   "metadata": {
    "collapsed": true,
    "deletable": true,
    "editable": true
   },
   "outputs": [],
   "source": []
  }
 ],
 "metadata": {
  "anaconda-cloud": {},
  "kernelspec": {
   "display_name": "Python 2",
   "language": "python",
   "name": "python2"
  },
  "language_info": {
   "codemirror_mode": {
    "name": "ipython",
    "version": 2
   },
   "file_extension": ".py",
   "mimetype": "text/x-python",
   "name": "python",
   "nbconvert_exporter": "python",
   "pygments_lexer": "ipython2",
   "version": "2.7.13"
  },
  "nav_menu": {},
  "toc": {
   "navigate_menu": true,
   "number_sections": true,
   "sideBar": true,
   "threshold": 6,
   "toc_cell": false,
   "toc_section_display": "block",
   "toc_window_display": false
  }
 },
 "nbformat": 4,
 "nbformat_minor": 0
}

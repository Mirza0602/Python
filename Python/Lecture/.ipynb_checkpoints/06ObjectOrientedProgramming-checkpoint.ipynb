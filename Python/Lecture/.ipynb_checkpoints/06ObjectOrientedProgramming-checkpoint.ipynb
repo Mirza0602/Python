{
 "cells": [
  {
   "cell_type": "markdown",
   "metadata": {},
   "source": [
    "# Object Oriented Programming in Python\n",
    "* Author: Johannes Maucher\n",
    "* Last Update: 11.07.2017\n"
   ]
  },
  {
   "cell_type": "markdown",
   "metadata": {},
   "source": [
    "In the [lecture on functions](#05Functions) the motivation for a **modular software design** has already been described: A modular design increases readability, reliability, maintainability and thus the general quality of the software. Splitting code in smaller reusable and manageable functions is one way to realize modularity. An other, more elaborated and more comprehensive approach is **object oriented programing (OOP)**. An object oriented software design consists of *objects* that interact with one another. Actually, objects are not defined itself, but *classes*. A class can be considered as a blueprint and objects are concrete instances of these blueprints. An arbitrary number of objects of a given class can exist in the program. Objects contain data, in the form of **attributes** and **methods**. Methods are functions, which are defined within a class. The methods of an object can access and often modify the attributes of the same object and of the **associated objects** ."
   ]
  },
  {
   "cell_type": "markdown",
   "metadata": {},
   "source": [
    "## Definition of classes\n",
    "In Python classes are defined in files with the extension *.py*. These files are called *modules* and can contain the definitions of one or more classes and/or one or more functions. \n",
    "\n",
    "The definition of a class starts with the keyword `class`, followed by the name of the class and a colon:\n",
    "```\n",
    "class myFirstClass:\n",
    "```"
   ]
  },
  {
   "cell_type": "markdown",
   "metadata": {},
   "source": [
    "As will be shown later, classes can be inherited from other classes"
   ]
  }
 ],
 "metadata": {
  "kernelspec": {
   "display_name": "Python 2",
   "language": "python",
   "name": "python2"
  },
  "language_info": {
   "codemirror_mode": {
    "name": "ipython",
    "version": 2
   },
   "file_extension": ".py",
   "mimetype": "text/x-python",
   "name": "python",
   "nbconvert_exporter": "python",
   "pygments_lexer": "ipython2",
   "version": "2.7.13"
  },
  "nav_menu": {},
  "toc": {
   "navigate_menu": true,
   "number_sections": true,
   "sideBar": true,
   "threshold": 6,
   "toc_cell": false,
   "toc_section_display": "block",
   "toc_window_display": false
  }
 },
 "nbformat": 4,
 "nbformat_minor": 2
}

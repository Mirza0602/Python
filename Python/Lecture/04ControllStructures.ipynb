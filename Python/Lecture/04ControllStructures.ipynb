{
 "cells": [
  {
   "cell_type": "markdown",
   "metadata": {},
   "source": [
    "# Control Flow Structures\n",
    "* Author: Johannes Maucher\n",
    "* Last Update: 02.07.2019"
   ]
  },
  {
   "cell_type": "markdown",
   "metadata": {},
   "source": [
    "<figure align=\"center\">\n",
    "<img width=\"800\" src=\"https://maucher.home.hdm-stuttgart.de/Pics/DS_Python_Control_All.png\">\n",
    "</figure>"
   ]
  },
  {
   "cell_type": "markdown",
   "metadata": {
    "ExecuteTime": {
     "end_time": "2017-08-02T08:47:38.594000Z",
     "start_time": "2017-08-02T10:47:38.586000+02:00"
    },
    "hide_input": false
   },
   "source": [
    "A computer program is usually a sequence of many instructions. The sequential processing of these instructions is controlled by some control flow structures such as loops and conditional statements. Such control flow structures are defined in all programming languages."
   ]
  },
  {
   "cell_type": "markdown",
   "metadata": {},
   "source": [
    "## Conditional Statements\n",
    "Conditional statements are used to perform different computations or actions depending on whether a condition evaluates to true or false. \n",
    "### If - Statement\n",
    "The most fundamental form of a conditional statement consists of a check if a certain condition is `true`. If this is the case, then a block of instructions is processed. Otherwise this block is ignored and the program continues with processing the code after the conditional block. \n",
    "\n",
    "```\n",
    "if condition:\n",
    "    Block of Instructions 1\n",
    "```\n",
    "\n",
    "\n",
    "> **Note:** In Python blocks of instructions, e.g. within conditional statements, loops and functions are marked by **indention**. In other programming languages such blocks are surrounded by brackets. "
   ]
  },
  {
   "cell_type": "markdown",
   "metadata": {},
   "source": [
    "The following code cell demonstrates the implementation of a simple if-statement in Python. The syntactic elements are\n",
    "* the statement starts with the keyword `if`,\n",
    "* followed by a condition. The condition can be arbitrarily complex, but it must evaluate to either `True` or `False`.\n",
    "* after the condition, a colon `:` indicates the end of the checking-line, \n",
    "* the following indented block is processed only if the condition is `True`"
   ]
  },
  {
   "cell_type": "code",
   "execution_count": 2,
   "metadata": {
    "ExecuteTime": {
     "end_time": "2017-07-04T08:59:37.654000Z",
     "start_time": "2017-07-04T10:59:37.646000+02:00"
    }
   },
   "outputs": [
    {
     "name": "stdout",
     "output_type": "stream",
     "text": [
      "['cash', 'creditcard', 'invoice']\n"
     ]
    }
   ],
   "source": [
    "paymentOptions=['cash','creditcard','invoice']\n",
    "customer={'gender':'male','age':19,'sales':345}\n",
    "if customer['age']<18:\n",
    "    print(\"Customer is under 18\")\n",
    "    paymentOptions=['cash']\n",
    "print(paymentOptions)"
   ]
  },
  {
   "cell_type": "markdown",
   "metadata": {},
   "source": [
    "### If-else Statement\n",
    "In the example above the instructions within the if-block are processed only if the condition is `True`. In the case that some instructions shall be performed if a condtion is true and other instructions shall be performed if and only if the condition is `False` the optional `else` can be applied:"
   ]
  },
  {
   "cell_type": "markdown",
   "metadata": {},
   "source": [
    "```\n",
    "if condition:\n",
    "    Block of Instructions 1\n",
    "else:\n",
    "    Block of Instructions 2\n",
    "```"
   ]
  },
  {
   "cell_type": "markdown",
   "metadata": {},
   "source": [
    "<a id='ifelse'></a>\n",
    "Integration of the `else`-block allows a more efficient implementation of the example above:"
   ]
  },
  {
   "cell_type": "code",
   "execution_count": 3,
   "metadata": {
    "ExecuteTime": {
     "end_time": "2017-07-04T08:19:45.285000Z",
     "start_time": "2017-07-04T10:19:45.285000+02:00"
    }
   },
   "outputs": [
    {
     "name": "stdout",
     "output_type": "stream",
     "text": [
      "['cash', 'creditcard', 'invoice']\n"
     ]
    }
   ],
   "source": [
    "customer={'gender':'male','age':19,'sales':345}\n",
    "if customer['age']<18:\n",
    "    print(\"Customer is under 18\")\n",
    "    paymentOptions=['cash']\n",
    "else:\n",
    "    paymentOptions=['cash','creditcard','invoice'] \n",
    "print(paymentOptions)"
   ]
  },
  {
   "cell_type": "markdown",
   "metadata": {},
   "source": [
    "> **Question:** Why is this implementation more efficient than the version without the `else`-block?"
   ]
  },
  {
   "cell_type": "markdown",
   "metadata": {},
   "source": [
    "### If-elif-else Statement\n",
    "In the case that more than two options shall be distinguished, Python provides `elif` (else if) as a further option in an if-statement. The condition after the `elif`-keyword is tested if the previous condition-test(s) have been `False`. If the condition after an `elif`-block is `True` the following instructions within this `elif`-block are processed, otherwise this block is ignored. It is possible to integrate more than one `elif`-blocks within a conditonal statement. The instructions within the optional `else`-block after the `elif`-blocks are processed only if all previous conditions have been `False`.\n",
    "\n",
    "```\n",
    "if condition1:\n",
    "    Block of Instructions 1\n",
    "elif condition2:\n",
    "    Block of Instructions 2\n",
    "elif condition3:\n",
    "    Block of Instructions 3\n",
    ".\n",
    ".\n",
    ".\n",
    "else:\n",
    "    Block of Instructions Z\n",
    "```"
   ]
  },
  {
   "cell_type": "markdown",
   "metadata": {},
   "source": [
    "The example above can now be extended to implement a finer distinction:"
   ]
  },
  {
   "cell_type": "code",
   "execution_count": 4,
   "metadata": {
    "ExecuteTime": {
     "end_time": "2017-07-04T09:00:16.295000Z",
     "start_time": "2017-07-04T11:00:16.279000+02:00"
    }
   },
   "outputs": [
    {
     "name": "stdout",
     "output_type": "stream",
     "text": [
      "Weak customer\n",
      "['cash', 'invoice']\n"
     ]
    }
   ],
   "source": [
    "customer={'gender':'male','age':19,'sales':345}\n",
    "if customer['age']<18:\n",
    "    print(\"Customer is under 18\")\n",
    "    paymentOptions=['cash']\n",
    "elif customer['sales']<400:\n",
    "    print(\"Weak customer\")\n",
    "    paymentOptions=['cash','invoice']\n",
    "else:\n",
    "    paymentOptions=['cash','creditcard','invoice'] \n",
    "print(paymentOptions)"
   ]
  },
  {
   "cell_type": "markdown",
   "metadata": {},
   "source": [
    ">**Question:** Is it possible to implement this last distinction without `elif`? How?"
   ]
  },
  {
   "cell_type": "markdown",
   "metadata": {},
   "source": [
    "### Conditional Expressions \n",
    "A very simple form of conditional processing\n",
    "st assigns a different value (object) to a variable, depending on the truth-value of a condition:  \n",
    "\n",
    "```\n",
    "if condition:\n",
    "    x=y\n",
    "else:\n",
    "    x=z\n",
    "```\n",
    "\n",
    "In the [example of if-else statement](#ifelse) this simple form is already given. Such simple variants can be implemented in only a single line of code by a **Conditional Expression**. \n",
    "\n",
    "Conditional expressions are of the following form:\n",
    "```\n",
    "x=(y if condition, else z)\n",
    "```\n",
    "If the condition is `True` y is assigned to x, otherwise z is assigned to x. The [Example of if-else statement](#ifelse) can then be implemented as follows:"
   ]
  },
  {
   "cell_type": "code",
   "execution_count": 5,
   "metadata": {
    "ExecuteTime": {
     "end_time": "2017-07-04T10:19:10.307000Z",
     "start_time": "2017-07-04T12:19:10.307000+02:00"
    }
   },
   "outputs": [
    {
     "name": "stdout",
     "output_type": "stream",
     "text": [
      "['cash', 'creditcard', 'invoice']\n"
     ]
    }
   ],
   "source": [
    "customer={'gender':'male','age':19,'sales':345}\n",
    "paymentOptions=(['cash'] if customer['age']<18 else ['cash','creditcard','invoice'])\n",
    "print(paymentOptions)"
   ]
  },
  {
   "cell_type": "markdown",
   "metadata": {},
   "source": [
    "## Loops\n",
    "Loops are applied if a block of instructions must be calculated repeatedly. The repeated processing of the block can either be terminated if a certain condition becomes `False` or if a predefined number of iterations has been reached.\n",
    "### While Loop\n",
    "In a while loop a condition is checked at the beginning of each iteration. If the condition is `True` the block of instructions inside the `while`-loop is exectued. As soon as the condition evaluates to `False` the loop terminates and the program continues with the instructions after the while-loop.\n",
    "\n",
    "The basic syntax of a while loop is:\n",
    "\n",
    "```\n",
    "while condition:\n",
    "    Block of instructions\n",
    "```\n"
   ]
  },
  {
   "cell_type": "markdown",
   "metadata": {},
   "source": [
    "In the following code cell the instructions within the while-block are processed as long as the random number, which is generated inside the while-block has a value of $<8$."
   ]
  },
  {
   "cell_type": "code",
   "execution_count": 6,
   "metadata": {
    "ExecuteTime": {
     "end_time": "2017-07-04T10:39:38.623000Z",
     "start_time": "2017-07-04T12:39:38.608000+02:00"
    }
   },
   "outputs": [
    {
     "name": "stdout",
     "output_type": "stream",
     "text": [
      "Current random number is: 9\n",
      "First line after while loop\n"
     ]
    }
   ],
   "source": [
    "from numpy import random\n",
    "number=0\n",
    "while number < 8:\n",
    "    number=random.randint(10)\n",
    "    print(\"Current random number is:\", number)\n",
    "print(\"First line after while loop\")"
   ]
  },
  {
   "cell_type": "markdown",
   "metadata": {},
   "source": [
    "The basic while-loop syntax can be extended by the optional keywords `continue`, `break` and `else` as follows:\n",
    "```\n",
    "while condition 1:\n",
    "    Block of instructions 1\n",
    "    if condition 2:\n",
    "        Block of instructions 2\n",
    "        continue\n",
    "    Block of instructions 3\n",
    "    if condition 3:\n",
    "        Block of instructions 4\n",
    "    break\n",
    "    Block of instructions 5\n",
    "else:\n",
    "    Block of instructions 6\n",
    "```"
   ]
  },
  {
   "cell_type": "markdown",
   "metadata": {},
   "source": [
    "* As soon as `continue` is processed within a loop, the current iteration stops and the program continues with next iteration of the while-loop (if condition1 is `True`).\n",
    "* As soon as `break` is processed within a loop, the entire while-loop terminates.\n",
    "* If there is an `else` at the end of the while-loop, the instructions inside this `else`-block are processed only if the while-loop terminated in a *regular* way, i.e. the while-loop has not been terminated by `break`.  "
   ]
  },
  {
   "cell_type": "code",
   "execution_count": 7,
   "metadata": {
    "ExecuteTime": {
     "end_time": "2017-07-04T14:23:33.963000Z",
     "start_time": "2017-07-04T16:23:33.947000+02:00"
    }
   },
   "outputs": [
    {
     "name": "stdout",
     "output_type": "stream",
     "text": [
      "Current random number is:  9\n",
      "New total amount is:  9\n",
      "Loop terminated because random number is at least 8\n",
      "First line after while loop\n"
     ]
    }
   ],
   "source": [
    "number=0\n",
    "totalAmount=0\n",
    "while number < 8:\n",
    "    number=random.randint(10)\n",
    "    print(\"Current random number is: \", number)\n",
    "    if number==0:\n",
    "        break\n",
    "    if number==1:\n",
    "        continue\n",
    "    totalAmount+=number\n",
    "    print(\"New total amount is: \", totalAmount)\n",
    "else:\n",
    "    print(\"Loop terminated because random number is at least 8\")\n",
    "print(\"First line after while loop\")"
   ]
  },
  {
   "cell_type": "markdown",
   "metadata": {},
   "source": [
    "The while-loop in the following code snippet asks users to input text. As long as the input is not *QUIT* it is stored in a list. The loop terminates as soon as the user enters *QUIT*. "
   ]
  },
  {
   "cell_type": "code",
   "execution_count": 8,
   "metadata": {
    "ExecuteTime": {
     "end_time": "2017-07-05T13:30:24.828000Z",
     "start_time": "2017-07-05T15:29:55.946000+02:00"
    }
   },
   "outputs": [
    {
     "name": "stdout",
     "output_type": "stream",
     "text": [
      "Provide some input (Type QUIT to terminate)aaa\n",
      "Provide some input (Type QUIT to terminate)bbb\n",
      "Provide some input (Type QUIT to terminate)QUIT\n",
      "['aaa', 'bbb']\n"
     ]
    }
   ],
   "source": [
    "textlist=[]\n",
    "while True:\n",
    "    try:\n",
    "        text=input(\"Provide some input (Type QUIT to terminate)\")\n",
    "        if text == \"QUIT\":\n",
    "            break\n",
    "        else:\n",
    "            textlist.append(text)\n",
    "    except:\n",
    "        print(\"ERROR: Input impossible\")\n",
    "        break\n",
    "print(textlist)"
   ]
  },
  {
   "cell_type": "markdown",
   "metadata": {},
   "source": [
    "### For Loop\n",
    "For-loops process a sequence of instructions multiple times. The number of iterations is given by the number of elements in the sequence over which the loop-variable iterates. \n",
    "\n",
    "The syntax of a basic for loop is:\n",
    "```\n",
    "for variable in Sequence:\n",
    "    Block of instructions\n",
    "```\n",
    "\n",
    "The following example implements such a basic for-loop. The loop iterates over the integers in the integer list `range(10)`. In each iteration the integer, it's square- and it's cubic value is printed:\n",
    "<a id=\"simplefor\"></a>"
   ]
  },
  {
   "cell_type": "code",
   "execution_count": 9,
   "metadata": {
    "ExecuteTime": {
     "end_time": "2017-07-05T12:31:56.003000Z",
     "start_time": "2017-07-05T14:31:55.893000+02:00"
    }
   },
   "outputs": [
    {
     "name": "stdout",
     "output_type": "stream",
     "text": [
      " 0 \t   0 \t   0\n",
      " 1 \t   1 \t   1\n",
      " 2 \t   4 \t   8\n",
      " 3 \t   9 \t  27\n",
      " 4 \t  16 \t  64\n",
      " 5 \t  25 \t 125\n",
      " 6 \t  36 \t 216\n",
      " 7 \t  49 \t 343\n",
      " 8 \t  64 \t 512\n",
      " 9 \t  81 \t 729\n"
     ]
    }
   ],
   "source": [
    "listOfPowers=[]\n",
    "numbers=list(range(10))\n",
    "for i in numbers:\n",
    "    p=(i,i**2,i**3)\n",
    "    listOfPowers.append(p)\n",
    "    print(\"%2d \\t %3d \\t %3d\"%(i,i**2,i**3))"
   ]
  },
  {
   "cell_type": "markdown",
   "metadata": {},
   "source": [
    "In the example above the loop iterates over the elements of an integer list. Instead of such a list loops can iterate over any iterable datatype, e.g. strings, lists of objects, dictionary-keys, etc.\n",
    "\n",
    "In the following example the loop iterates over the characters of a string-variable. This loop counts the frequency of all letters in the given string:"
   ]
  },
  {
   "cell_type": "code",
   "execution_count": 10,
   "metadata": {
    "ExecuteTime": {
     "end_time": "2017-07-04T12:35:09.449000Z",
     "start_time": "2017-07-04T14:35:09.433000+02:00"
    }
   },
   "outputs": [
    {
     "name": "stdout",
     "output_type": "stream",
     "text": [
      "[('t', 11), ('h', 4), ('i', 10), ('s', 12), (' ', 18), ('j', 1), ('u', 1), ('o', 7), ('m', 5), ('e', 9), ('a', 4), ('p', 6), ('l', 5), ('x', 1), ('w', 2), ('c', 2), ('d', 1), ('r', 3), ('f', 1), ('n', 2)]\n"
     ]
    }
   ],
   "source": [
    "s=\"this is just some sample text which is applied to perform some statistics on letters within a simple loop\"\n",
    "lettercount={}\n",
    "for i in s:\n",
    "    lettercount.setdefault(i,0)\n",
    "    lettercount[i]+=1\n",
    "print(list(lettercount.items()))"
   ]
  },
  {
   "cell_type": "markdown",
   "metadata": {},
   "source": [
    "The keywords `continue`, `break` and `else` can be applied for for-loops in the same manner as for while-loops. With these optional keywords the most general form of a for-loop is:\n",
    "\n",
    "```\n",
    "for variable in Sequence:\n",
    "    Block of instructions 1\n",
    "    if condition 2:\n",
    "        Block of instructions 2\n",
    "        continue\n",
    "    Block of instructions 3\n",
    "    if condition 3:\n",
    "        Block of instructions 4\n",
    "    break\n",
    "    Block of instructions 5\n",
    "else:\n",
    "    Block of instructions 6\n",
    "```"
   ]
  },
  {
   "cell_type": "markdown",
   "metadata": {},
   "source": [
    "Sometimes within the instruction-block of a for-loop the number of the current iteration is required. The current iteration-number (first iteration is indexed by 0) can be accessed, if the `enumerate(Sequence)`-function is applied. This function returns the current index and the current object of the sequence. The most basic for-loop then becomes\n",
    "```\n",
    "for variable in enumerate(Sequence):\n",
    "    Block of instructions\n",
    "```\n",
    "The following example implements such a basic for-loop. The iteration number is used to assign an ID to each person in the list. ID and name of each person is stored in a dictionary and the dictionaries of all persons are collected in the list `persDicts`:"
   ]
  },
  {
   "cell_type": "code",
   "execution_count": 11,
   "metadata": {
    "ExecuteTime": {
     "end_time": "2017-07-04T14:45:31.024000Z",
     "start_time": "2017-07-04T16:45:31.008000+02:00"
    }
   },
   "outputs": [
    {
     "name": "stdout",
     "output_type": "stream",
     "text": [
      "id = 0 \t name: peter\n",
      "id = 1 \t name: paul\n",
      "id = 2 \t name: mary\n"
     ]
    }
   ],
   "source": [
    "persList=['peter','paul','mary']\n",
    "persDicts=[]\n",
    "for i,x in enumerate(persList):\n",
    "    singlePers={'id':i,'name':x}\n",
    "    persDicts.append(singlePers)\n",
    "\n",
    "for d in persDicts:\n",
    "    print(\"id = %d \\t name: %s\"%(d['id'],d['name']))"
   ]
  },
  {
   "cell_type": "markdown",
   "metadata": {},
   "source": [
    "## Alternatives for Loops in Python\n",
    "Python supports the **functional programming** paradigma. Functional programming languages provide methods that allow a very efficient implementation of tasks, which are typically solved by loops. Hence, in efficient Python code, conventional loops are rather rarely used."
   ]
  },
  {
   "cell_type": "markdown",
   "metadata": {},
   "source": [
    "In loops often an output is calculated for each element in the sequential datatype, over which the loop iterates. E.g. in the [example of a simple for-loop](#simplefor) for each integer $i$ in `range(10)` a tuple consisting of $i$, $i^2$ and $i^3$ is calculated. Each of this tuples is stored in a list. This list can be considered to be the output for the given input `range(10)`. One can say that the loop **maps** each input-element to an output-element. Tasks of this type can be solved more efficiently by **list-comprehensions** and the `map()`-function."
   ]
  },
  {
   "cell_type": "markdown",
   "metadata": {},
   "source": [
    "### List-comprehension\n",
    "List-comprehensions create in only a single command a list of elements (*output-list*), where each element in this list is calculated by applying a unique function to each element of another list (*output-list*). The general form of a list-comprehension is \n",
    "```\n",
    "outputlist = [ somefunction(i) for i in inputlist]\n",
    "```\n",
    "The task, implemented in [example of a simple for-loop](#simplefor) can be implemented as list-comprehension as follows:"
   ]
  },
  {
   "cell_type": "code",
   "execution_count": 12,
   "metadata": {
    "ExecuteTime": {
     "end_time": "2017-07-05T12:33:55.773000Z",
     "start_time": "2017-07-05T14:33:55.758000+02:00"
    }
   },
   "outputs": [],
   "source": [
    "listOfPowers2=[(i,i**2,i**3) for i in range(10)]"
   ]
  },
  {
   "cell_type": "markdown",
   "metadata": {},
   "source": [
    ">**Question:** Increase the size of the input list in the example above from 10 to 10000 and determine the required processing time (by activating the Notebook Extension *time*). Increase the size of the list in [example of a simple for-loop](#simplefor) in the same manner and determine the required time. Which implementation is more efficient?"
   ]
  },
  {
   "cell_type": "markdown",
   "metadata": {},
   "source": [
    "In the example above the applied function is quite simple and it's definition has been placed directly in the list-comprehension. However, the applied function can be arbitrarily complex. Then the function is defined outside the list-comprehension. The definition of functions in Python is subject of lecture [Defining functions in Python](05Functions.ipynb). Here, we anticipate this subject by just showing how a function for our example-task can be defined explicetly and how such a function can then be applied in a list-comprehension: \n",
    "\n",
    "\n",
    "**Function definition:**"
   ]
  },
  {
   "cell_type": "code",
   "execution_count": 13,
   "metadata": {
    "ExecuteTime": {
     "end_time": "2017-07-05T12:28:52.354000Z",
     "start_time": "2017-07-05T14:28:52.323000+02:00"
    }
   },
   "outputs": [],
   "source": [
    "def calcMyPowers(i):\n",
    "    return (i,i**2,i**3)"
   ]
  },
  {
   "cell_type": "markdown",
   "metadata": {},
   "source": [
    "**Applying the function in a list-comprehension:**"
   ]
  },
  {
   "cell_type": "code",
   "execution_count": 14,
   "metadata": {
    "ExecuteTime": {
     "end_time": "2017-07-05T12:51:26.857000Z",
     "start_time": "2017-07-05T14:51:26.842000+02:00"
    }
   },
   "outputs": [
    {
     "name": "stdout",
     "output_type": "stream",
     "text": [
      "[(0, 0, 0), (1, 1, 1), (2, 4, 8), (3, 9, 27), (4, 16, 64), (5, 25, 125), (6, 36, 216), (7, 49, 343), (8, 64, 512), (9, 81, 729)]\n"
     ]
    }
   ],
   "source": [
    "listOfPowers3=list(map(calcMyPowers,list(range(10))))\n",
    "print(listOfPowers3)"
   ]
  },
  {
   "cell_type": "markdown",
   "metadata": {},
   "source": [
    "Other Python functions that implement certain tasks more efficient than conventional for-loops are \n",
    "\n",
    "* *map()*\n",
    "* *reduce()*\n",
    "* *filter()*\n",
    "\n",
    "These functions are introduced in later sections of this lecture."
   ]
  },
  {
   "cell_type": "code",
   "execution_count": null,
   "metadata": {},
   "outputs": [],
   "source": []
  }
 ],
 "metadata": {
  "anaconda-cloud": {},
  "kernelspec": {
   "display_name": "Python 3",
   "language": "python",
   "name": "python3"
  },
  "language_info": {
   "codemirror_mode": {
    "name": "ipython",
    "version": 3
   },
   "file_extension": ".py",
   "mimetype": "text/x-python",
   "name": "python",
   "nbconvert_exporter": "python",
   "pygments_lexer": "ipython3",
   "version": "3.7.5"
  },
  "nav_menu": {},
  "toc": {
   "base_numbering": 1,
   "nav_menu": {
    "height": "234px",
    "width": "251px"
   },
   "number_sections": true,
   "sideBar": true,
   "skip_h1_title": false,
   "title_cell": "Table of Contents",
   "title_sidebar": "Contents",
   "toc_cell": false,
   "toc_position": {},
   "toc_section_display": "block",
   "toc_window_display": false
  },
  "toc_position": {
   "height": "545px",
   "left": "0px",
   "right": "998px",
   "top": "124.533px",
   "width": "212px"
  }
 },
 "nbformat": 4,
 "nbformat_minor": 2
}

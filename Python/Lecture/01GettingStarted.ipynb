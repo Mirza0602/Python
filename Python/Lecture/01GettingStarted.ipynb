{
 "cells": [
  {
   "cell_type": "markdown",
   "metadata": {},
   "source": [
    "[Back to Lecture Overview](Overview.ipynb)"
   ]
  },
  {
   "cell_type": "markdown",
   "metadata": {},
   "source": [
    "# Getting Started with Python\n",
    "* **Author:** Johannes Maucher\n",
    "* **Last Update:** 10.11.2020"
   ]
  },
  {
   "cell_type": "markdown",
   "metadata": {},
   "source": [
    "<figure align=\"center\">\n",
    "<img width=\"600\" src=\"https://maucher.home.hdm-stuttgart.de/Pics/DS_Python_GetStart_All.png\">\n",
    "</figure>"
   ]
  },
  {
   "cell_type": "markdown",
   "metadata": {},
   "source": [
    "## Python for Data Science\n",
    "\n",
    "There exists a bunch of commercial tools, which provide functions for solving routine data science tasks. One of the main drawbacks of these tools, is that they limit analysis to their limited set of available functions. Data science does not require only standard routines. Instead each task and each dataset has its own characteristics and requirements. Hence, in order to obtain a maximum of knowledge from the given data individual functions must be implemented. This is either impossible or expensive with proprietary tools.\n",
    "\n",
    "Today, there exists programming languages and -environments, which are freely available for all platforms. Data Scientists, who are familiar with the basic programming skills in these frameworks, are capable to implement individual solutions for individual problems. Their solution is not bound to the limits given by the applied software tool. Their solution can provide maximum knowledge.\n",
    "\n",
    "Not all programming environments are equally well suited for efficient data analysis. The following properties of Python are particularly important for data science:\n",
    "\n",
    "* The programming language is easy to learn and intuitive to apply.\n",
    "* Efficient Data science requires a certain degree of interactivity. An interactive interpreter allows to interact with each line of code and to develop analysis code step-by-step.\n",
    "* Efficient datastructures are provided. E.g. for fast storage, sorting and filtering of large datasets.\n",
    "* Data science integrates methods from statistical modelling, linear algebra, data storage and retrieval, machine learning, visualization, business intelligence, natural language processing and more. Comprehensive libraries of functions from these disciplines are available for Python.\n",
    "\n",
    "Other characteristics of Python are:\n",
    "\n",
    "* for an interpreted language it is efficient in terms of computing complexity and storage. \n",
    "* it is easily extensible\n",
    "* it provides efficient tools for debugging\n",
    "* it is cross-platform cabable, i.e. the programs run on Windows, MAC and Linux without requiring platform-specific adaptations.\n",
    "* it is supported by a large community\n",
    "* it is an object-oriented programming language, but it also supports other programming paradigms such as procedural programming and functional programming.\n",
    " \n",
    "Python enables programs to be written compactly and readably. Programs written in Python are typically much shorter than equivalent C, C++, or Java programs. The main reasons for this are: \n",
    "\n",
    "* the high-level data types allow you to express complex operations in a single statement;\n",
    "* no variable or argument declarations are necessary.\n",
    "\n",
    "And solving a task with fewer lines of codes implies that the code is more robust and less error-prone.\n",
    "\n",
    "You will experience in this course, that in Python it is easy to implement even quite complex analysis tasks in only few lines of codes.\n",
    "\n",
    "More general characteristics of Python can be found e.g. in the [Official Python Tutorial](https://docs.python.org/2.7/tutorial/index.html), in particular in it's first chapter [Whetting Your Appetite](https://docs.python.org/2.7/tutorial/appetite.html). A summary of Python's main features is also given in [6 Reasons Why Python is Suddenly Super Popular](http://www.kdnuggets.com/2017/07/6-reasons-python-suddenly-super-popular.html). The stackoverflow post [The Incredible Growth of Python](https://stackoverflow.blog/2017/09/06/incredible-growth-python/) shows that Python is currently the most growing programming language. Reasons for this overwhelming growth are elaborated in the post [Why is Python Growing so Quickly?](https://stackoverflow.blog/2017/09/14/python-growing-quickly/).\n"
   ]
  },
  {
   "cell_type": "markdown",
   "metadata": {},
   "source": [
    "## Installation and Distributions\n",
    "### Anaconda\n",
    "[Anaconda](https://www.anaconda.com) is the leading open data science platform for Python and R. The distribution offered by Continuum Analytics includes nearly 100 packages, which comprises NumPy, SciPy, pandas, Jupyter, Matplotlib, Scikit-learn, and NLTK. Additionally more than 620 packages can easily be installed and updated by Anaconda's internal environment-, dependancy- and package-manager **conda**. \n",
    "\n",
    "Once Anaconda has been downloaded and installed, the included Anaconda Navigator can be used to start programming. As shown in the picture below, from the home-view of the Anaconda navigator one can launch or install development environments such as *Jupyter Notebooks* or *RStudio*. "
   ]
  },
  {
   "cell_type": "markdown",
   "metadata": {},
   "source": [
    "<figure align=\"center\">\n",
    "<img width=\"800\" src=\"https://maucher.home.hdm-stuttgart.de/Pics/anacondaNavigatorHome.PNG\">\n",
    "</figure>"
   ]
  },
  {
   "cell_type": "markdown",
   "metadata": {},
   "source": [
    "## Development Environment\n",
    "\n",
    "### Pycharm\n",
    "\n",
    "[PyCharm](https://www.jetbrains.com/pycharm/) is an Integrated Development Environment (IDE) used in computer programming, specifically for the Python language. It provides \n",
    "smart code completion, code analysis, on-the-fly error highlighting and quick-fixes, a graphical debugger, an integrated unit tester, integration with version control systems (VCSes), and supports web development with Django.\n",
    "PyCharm is cross-platform, with Windows, macOS and Linux versions. The free Community Edition is released under the Apache License. There is also Professional Edition released under a proprietary license."
   ]
  },
  {
   "cell_type": "markdown",
   "metadata": {},
   "source": [
    "<figure align=\"center\">\n",
    "<img width=\"800\" src=\"https://maucher.home.hdm-stuttgart.de/Pics/pyCharm.PNG\">\n",
    "</figure>"
   ]
  },
  {
   "cell_type": "markdown",
   "metadata": {},
   "source": [
    "### Jupyter Notebooks\n",
    "[Jupyter Notebooks](http://jupyter.org/) are less applicable for developing complex Python-projects. However, they provide excellent capabilities for teaching purposes. Moreover, they are well suited for experiments and data analysis tasks. For me Jupyter Notebooks are the best platform for comfortable and efficient data analysis and integrated visualisation and documentation.\n",
    "\n",
    "Jupyter Notebook is an open-source web application that allows to create and share documents that contain\n",
    "* live code, \n",
    "* equations, \n",
    "* explanatory texts, \n",
    "* images, \n",
    "* videos \n",
    "* … and much more\n",
    "\n",
    "\n",
    "\n",
    "Jupyter Notebook consists of cells: \n",
    "\n",
    "* **Code-cells:** Code is placed in this type of cells. Each cell can be executed individually by pressing the `run cell`- button. The programming language of the code is defined by the current notebooks kernel. Kernels for currently more than 40 programming languages are supported. In this course Jupyter notebooks will be applied for *Python* and *R*. \n",
    "\n",
    "* **Markdown-cells:** Text, formulas, images, ... is placed in this type of cells. Formating is done in the very simple [markdown language](https://daringfireball.net/projects/markdown/).\n",
    "\n",
    "\n",
    "### (Interactive) Interpreter\n",
    "For interactive Python programming the IPython Shell can be applied."
   ]
  },
  {
   "cell_type": "markdown",
   "metadata": {},
   "source": [
    "<figure align=\"center\">\n",
    "<img width=\"800\" src=\"https://maucher.home.hdm-stuttgart.de/Pics/interactiveShell.PNG\">\n",
    "</figure>"
   ]
  },
  {
   "cell_type": "markdown",
   "metadata": {},
   "source": [
    "## Important Python Libraries for Data Science\n",
    "Goal of this workshop is to demonstrate how *Python* and it's main Machine Learning Framework [Scikit-Learn](http://scikit-learn.org/stable/index.html) can be applied for data mining, in particular for learning, testing and evaluating models. *Scikit-Learn* is based on [NumPy](http://www.numpy.org/), which is the fundamental package for scientific calculation in Python. Comfortable methods for data access and data analysis are provided by [Pandas](http://pandas.pydata.org/). Pandas is also based on *Numpy*. The main library for 2- and 3-dimensional data visualisation is [Pandas](http://pandas.pydata.org/). Numpy datastructures can easily be visualized with matplotlib.\n",
    "\n",
    "### Numpy\n",
    "\n",
    "[NumPy](http://www.numpy.org/) is the fundamental package for scientific calculation in Python. It provides a multi-dimensional datastructure, the numpy-array, and many efficiently implemented functions for numerical calculations. Many other important libraries for scientific calculation and data analysis are based on Numpy.\n",
    "\n",
    "### Scipy\n",
    "\n",
    "[Scipy](https://www.scipy.org/) is based on and extends the functionality of numpy with packages for linear algebra, integration, optimisation, signal processing, statistics and much more. Python with Numpy, Scipy and Matplotlib constitutes a comprehensive tool for scientific calculations of all types. This bunch provides functionality comparable with the commercial tool *Matlab*.  \n",
    "\n",
    "### Pandas\n",
    "\n",
    "[Pandas](http://pandas.pydata.org/) provides high-performance, easy-to-use data structures and data analysis tools for Python. It's main datastructure is the numpy-array-based *dataframe*, which is comparable to dataframes in R. Actually, with Pandas Python provides similar functionality as R. The [Pandas Website](http://pandas.pydata.org/) states it as follows: *Python has long been great for data munging and preparation, but less so for data analysis and modeling. pandas helps fill this gap, enabling you to carry out your entire data analysis workflow in Python without having to switch to a more domain specific language like R.* \n",
    "\n",
    "### Matplotlib\n",
    "\n",
    "[Matplotlib](https://matplotlib.org/) is a Python 2D plotting library which produces publication quality figures in a variety of hardcopy formats and interactive environments across platforms. Matplotlib can be used in Python scripts, the Python and IPython shell, the jupyter notebook, web application servers, and for graphical user interface toolkits.\n",
    "\n",
    "### Bokeh\n",
    "\n",
    "[Bokeh](http://bokeh.pydata.org/en/latest/docs/user_guide/quickstart.html#userguide-quickstart) is an interactive visualization library for Python that enables beautiful and meaningful visual presentation of data in modern web browsers. With Bokeh, you can quickly and easily create interactive plots, dashboards, and data applications.\n",
    "\n",
    "Bokeh provides an elegant and concise way to construct versatile graphics while delivering high-performance interactivity for large or streamed datasets.\n",
    "\n",
    "### Scikit-Learn\n",
    "\n",
    "[Scikit-Learn](http://scikit-learn.org/stable/index.html) is a comprehensive framework for Data Mining and Machine Learning in Python. It is primarily built on Numpy, Scipy and Matplotlib. In particular internal and external data structures are [Numpy Arrays](https://docs.scipy.org/doc/numpy/reference/generated/numpy.array.html). \n",
    "\n",
    "### Tensorflow\n",
    "[Tensorflow](https://www.tensorflow.org/) is an open source software library for numerical computation using data flow graphs. It is particularly well suited for implementing deep learning systems. The flexible architecture allows to deploy computation to one or more CPUs or GPUs in a desktop, server, or mobile device with a single API. \n",
    "\n",
    "### Statsmodels\n",
    "[statsmodels](http://www.statsmodels.org/stable/index.html) is a Python module that provides classes and functions for the estimation of many different statistical models, as well as for conducting statistical tests, and statistical data. exploration.\n",
    "\n",
    "### NLTK\n",
    "[NLTK](www.nltk.org) is a leading platform for building Python programs to work with human language data. It provides easy-to-use interfaces to over 50 corpora and lexical resources such as WordNet, along with a suite of text processing libraries for classification, tokenization, stemming, tagging, parsing, and semantic reasoning, wrappers for industrial-strength NLP libraries,\n",
    "\n",
    "### Gensim\n",
    "[Gensim](https://radimrehurek.com/gensim/) is a Python library for topic modelling, document indexing and similarity retrieval with large corpora. Target audience is the natural language processing (NLP) and information retrieval (IR) community."
   ]
  },
  {
   "cell_type": "markdown",
   "metadata": {},
   "source": [
    "# Exercises\n",
    "1. Open Anaconda Navigator and switch to the virtual environment *datascience*.\n",
    "2. Launch Jupyter Notebook\n",
    "3. Go to your home directory, create a new directory for this course and create a new Python notebook in this directory.\n",
    "4. Write some text in a markdown-cell\n",
    "5. Write `print \"Hello World\"` into a code cell and execute it.\n",
    "6. Get familiar with Jupyter notebook functions, such as switching cell-type, \n"
   ]
  },
  {
   "cell_type": "code",
   "execution_count": null,
   "metadata": {},
   "outputs": [],
   "source": []
  }
 ],
 "metadata": {
  "anaconda-cloud": {},
  "kernelspec": {
   "display_name": "Python 3",
   "language": "python",
   "name": "python3"
  },
  "language_info": {
   "codemirror_mode": {
    "name": "ipython",
    "version": 3
   },
   "file_extension": ".py",
   "mimetype": "text/x-python",
   "name": "python",
   "nbconvert_exporter": "python",
   "pygments_lexer": "ipython3",
   "version": "3.7.5"
  },
  "nav_menu": {},
  "toc": {
   "base_numbering": 1,
   "nav_menu": {
    "height": "378px",
    "width": "251px"
   },
   "number_sections": true,
   "sideBar": true,
   "skip_h1_title": false,
   "title_cell": "Table of Contents",
   "title_sidebar": "Contents",
   "toc_cell": false,
   "toc_position": {},
   "toc_section_display": "block",
   "toc_window_display": true
  },
  "varInspector": {
   "cols": {
    "lenName": 16,
    "lenType": 16,
    "lenVar": 40
   },
   "kernels_config": {
    "python": {
     "delete_cmd_postfix": "",
     "delete_cmd_prefix": "del ",
     "library": "var_list.py",
     "varRefreshCmd": "print(var_dic_list())"
    },
    "r": {
     "delete_cmd_postfix": ") ",
     "delete_cmd_prefix": "rm(",
     "library": "var_list.r",
     "varRefreshCmd": "cat(var_dic_list()) "
    }
   },
   "types_to_exclude": [
    "module",
    "function",
    "builtin_function_or_method",
    "instance",
    "_Feature"
   ],
   "window_display": false
  }
 },
 "nbformat": 4,
 "nbformat_minor": 2
}

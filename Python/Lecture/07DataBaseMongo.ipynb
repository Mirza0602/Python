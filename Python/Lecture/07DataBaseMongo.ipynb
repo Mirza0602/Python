{
 "cells": [
  {
   "cell_type": "markdown",
   "metadata": {},
   "source": [
    "# Access MongoDB\n",
    "\n",
    "* Author: Johannes Maucher\n",
    "* Last Update: 30.10.2017\n",
    "\n",
    "## Prerequisites\n",
    "For the experiments in this notebook MongoDB must be installed. It can be downloaded from [MongoDB Community Server Download](https://www.mongodb.com/download-center#community). After installation the MongoDB environment must be set up as described in the [MongoDB installation and setup tutorial](https://docs.mongodb.com/manual/tutorial). As described in this tutorial a data directory for MongoDB must be defined. In the case that the MongoDB data dirctory is `d:\\test\\mongodb\\data`. Enter the following command in a shell in order to start the MongoDB server:\n",
    "\n",
    "`\"C:\\Program Files\\MongoDB\\Server\\3.4\\bin\\mongod.exe\" --dbpath d:\\test\\mongodb\\data`\n",
    "\n",
    "> Note JM: On thinkpad the path is C:\\Users\\maucher\\DataSets\\world-food-facts\n",
    "\n",
    "The example data used in this notebook comes from [OpenFoodFacts](https://world.openfoodfacts.org/data). A MongoDB dump of this data can be downloaded from [MongoDB dump of OpenFoodFacts](http://world.openfoodfacts.org/data/openfoodfacts-mongodbdump.tar.gz). Decompress the downloaded archive and move the `.tsv` file to your MongoDB data directory. \n",
    "\n",
    "Apply the *mongoimport*-command to import the *.tsv*-dump into the MongoDB database by typing the following command into a shell:\n",
    "\n",
    "`\"C:\\Program Files\\MongoDB\\Server\\3.4\\bin\\mongoimport.exe\" --db fooddata --type tsv --file d:\\test\\mongodb\\data\\en.openfoodfacts.org.products.tsv --ignoreBlanks --headerline`\n",
    "\n",
    "Finally the `pymongo`- package must be installed, e.g. by `conda install pymongo`. Then the local *Open Food Facts-MongoDB* can be accessed as demonstrated in this notebook. [pymongo tutorial](http://api.mongodb.com/python/current/tutorial.html) provides a quick *pymongo*-introduction.  "
   ]
  },
  {
   "cell_type": "markdown",
   "metadata": {},
   "source": [
    "## Access local Open Food Facts MongoDb"
   ]
  },
  {
   "cell_type": "code",
   "execution_count": 2,
   "metadata": {
    "ExecuteTime": {
     "end_time": "2017-11-20T14:36:57.202000Z",
     "start_time": "2017-11-20T15:36:56.965000+01:00"
    },
    "collapsed": true
   },
   "outputs": [],
   "source": [
    "import pymongo\n",
    "import pprint"
   ]
  },
  {
   "cell_type": "markdown",
   "metadata": {},
   "source": [
    "Create MongoDB client and connect to the running MongoDB server:"
   ]
  },
  {
   "cell_type": "code",
   "execution_count": 3,
   "metadata": {
    "ExecuteTime": {
     "end_time": "2017-11-20T17:07:17.376000Z",
     "start_time": "2017-11-20T18:07:17.365000+01:00"
    },
    "collapsed": true
   },
   "outputs": [],
   "source": [
    "from pymongo import MongoClient\n",
    "client = MongoClient()"
   ]
  },
  {
   "cell_type": "code",
   "execution_count": 4,
   "metadata": {
    "collapsed": true
   },
   "outputs": [],
   "source": [
    "client = MongoClient('mongodb://localhost:27017/')"
   ]
  },
  {
   "cell_type": "code",
   "execution_count": 5,
   "metadata": {
    "ExecuteTime": {
     "end_time": "2017-11-20T17:08:03.904000Z",
     "start_time": "2017-11-20T18:08:03.840000+01:00"
    }
   },
   "outputs": [
    {
     "name": "stdout",
     "output_type": "stream",
     "text": [
      "('localhost', 27017)\n",
      "[u'admin', u'fooddata', u'local']\n"
     ]
    }
   ],
   "source": [
    "print(client.address)\n",
    "print(client.database_names())"
   ]
  },
  {
   "cell_type": "markdown",
   "metadata": {},
   "source": [
    "Select the `fooddata`-database:"
   ]
  },
  {
   "cell_type": "code",
   "execution_count": 6,
   "metadata": {
    "ExecuteTime": {
     "end_time": "2017-11-20T17:08:16.842000Z",
     "start_time": "2017-11-20T18:08:16.838000+01:00"
    },
    "collapsed": true
   },
   "outputs": [],
   "source": [
    "db = client['fooddata']"
   ]
  },
  {
   "cell_type": "markdown",
   "metadata": {},
   "source": [
    "In MongoDB *collections* are like tables in other database types. A list of all collection names can be obtained as follows:"
   ]
  },
  {
   "cell_type": "code",
   "execution_count": 7,
   "metadata": {
    "ExecuteTime": {
     "end_time": "2017-11-20T17:08:36.027000Z",
     "start_time": "2017-11-20T18:08:36.020000+01:00"
    }
   },
   "outputs": [
    {
     "name": "stdout",
     "output_type": "stream",
     "text": [
      "fooddata\n",
      "[u'en.openfoodfacts.org.products']\n"
     ]
    }
   ],
   "source": [
    "print(db.name)\n",
    "print(db.collection_names())"
   ]
  },
  {
   "cell_type": "markdown",
   "metadata": {},
   "source": [
    "## Access a database collection (a table of the database)\n",
    "Create the interface to the collection (table):"
   ]
  },
  {
   "cell_type": "code",
   "execution_count": 10,
   "metadata": {
    "ExecuteTime": {
     "end_time": "2017-11-20T17:08:45.067000Z",
     "start_time": "2017-11-20T18:08:45.064000+01:00"
    },
    "collapsed": true
   },
   "outputs": [],
   "source": [
    "coll=db.get_collection('en.openfoodfacts.org.products')"
   ]
  },
  {
   "cell_type": "markdown",
   "metadata": {},
   "source": [
    "Determine the number of items in the collection (rows in the table):"
   ]
  },
  {
   "cell_type": "code",
   "execution_count": 11,
   "metadata": {
    "ExecuteTime": {
     "end_time": "2017-11-20T17:09:10.135000Z",
     "start_time": "2017-11-20T18:09:10.112000+01:00"
    }
   },
   "outputs": [
    {
     "data": {
      "text/plain": [
       "356001"
      ]
     },
     "execution_count": 11,
     "metadata": {},
     "output_type": "execute_result"
    }
   ],
   "source": [
    "coll.count()"
   ]
  },
  {
   "cell_type": "markdown",
   "metadata": {},
   "source": [
    "### Get items of the collection\n",
    "Retrieve first element of the database:"
   ]
  },
  {
   "cell_type": "code",
   "execution_count": 12,
   "metadata": {
    "ExecuteTime": {
     "end_time": "2017-11-20T17:09:22.364000Z",
     "start_time": "2017-11-20T18:09:22.330000+01:00"
    }
   },
   "outputs": [
    {
     "name": "stdout",
     "output_type": "stream",
     "text": [
      "{u'_id': ObjectId('59f6d2ff48ffef36860670bd'),\n",
      " u'brands': u\"Ferme t'y R'nao\",\n",
      " u'brands_tags': u'ferme-t-y-r-nao',\n",
      " u'code': 3087,\n",
      " u'countries': u'en:FR',\n",
      " u'countries_en': u'France',\n",
      " u'countries_tags': u'en:france',\n",
      " u'created_datetime': u'2016-09-17T09:17:46Z',\n",
      " u'created_t': 1474103866,\n",
      " u'creator': u'openfoodfacts-contributors',\n",
      " u'last_modified_datetime': u'2016-09-17T09:18:13Z',\n",
      " u'last_modified_t': 1474103893,\n",
      " u'product_name': u'Farine de bl\\xe9 noir',\n",
      " u'quantity': u'1kg',\n",
      " u'states': u'en:to-be-completed, en:nutrition-facts-to-be-completed, en:ingredients-to-be-completed, en:expiration-date-to-be-completed, en:characteristics-to-be-completed, en:categories-to-be-completed, en:brands-completed, en:packaging-to-be-completed, en:quantity-completed, en:product-name-completed, en:photos-to-be-validated, en:photos-uploaded',\n",
      " u'states_en': u'To be completed,Nutrition facts to be completed,Ingredients to be completed,Expiration date to be completed,Characteristics to be completed,Categories to be completed,Brands completed,Packaging to be completed,Quantity completed,Product name completed,Photos to be validated,Photos uploaded',\n",
      " u'states_tags': u'en:to-be-completed,en:nutrition-facts-to-be-completed,en:ingredients-to-be-completed,en:expiration-date-to-be-completed,en:characteristics-to-be-completed,en:categories-to-be-completed,en:brands-completed,en:packaging-to-be-completed,en:quantity-completed,en:product-name-completed,en:photos-to-be-validated,en:photos-uploaded',\n",
      " u'url': u'http://world-en.openfoodfacts.org/product/0000000003087/farine-de-ble-noir-ferme-t-y-r-nao'}\n"
     ]
    }
   ],
   "source": [
    "firstItem=coll.find_one()\n",
    "pprint.pprint(firstItem)"
   ]
  },
  {
   "cell_type": "markdown",
   "metadata": {},
   "source": [
    "Each element of a collection is a Python dictionary. Hence, e.g. the attributes (keys) can be obtained as follows:"
   ]
  },
  {
   "cell_type": "code",
   "execution_count": 13,
   "metadata": {
    "ExecuteTime": {
     "end_time": "2017-11-20T17:10:09.084000Z",
     "start_time": "2017-11-20T18:10:09.079000+01:00"
    }
   },
   "outputs": [
    {
     "name": "stdout",
     "output_type": "stream",
     "text": [
      "[u'created_t',\n",
      " u'last_modified_datetime',\n",
      " u'code',\n",
      " u'states_tags',\n",
      " u'creator',\n",
      " u'url',\n",
      " u'countries_tags',\n",
      " u'countries',\n",
      " u'countries_en',\n",
      " u'brands_tags',\n",
      " u'states',\n",
      " u'created_datetime',\n",
      " u'last_modified_t',\n",
      " u'brands',\n",
      " u'states_en',\n",
      " u'_id',\n",
      " u'product_name',\n",
      " u'quantity']\n"
     ]
    }
   ],
   "source": [
    "pprint.pprint(list(firstItem.keys()))"
   ]
  },
  {
   "cell_type": "markdown",
   "metadata": {},
   "source": [
    "Queries can be specified as key-value pairs. E.g. in order to retrieve one product from *Ferrero* the following command can be applied:"
   ]
  },
  {
   "cell_type": "code",
   "execution_count": 14,
   "metadata": {
    "ExecuteTime": {
     "end_time": "2017-11-20T17:10:25.440000Z",
     "start_time": "2017-11-20T18:10:25.414000+01:00"
    }
   },
   "outputs": [
    {
     "name": "stdout",
     "output_type": "stream",
     "text": [
      "{u'_id': ObjectId('59f6d30048ffef3686067604'),\n",
      " u'additives': u' [ milk-chocolate -> en:milk-chocolate  ]  [ chocolate -> en:chocolate  ]  [ sugar -> en:sugar  ]  [ cocoa-butter -> en:cocoa-butter  ]  [ butter -> en:butter  ]  [ cocoa-mass -> en:cocoa-mass  ]  [ mass -> en:mass  ]  [ skim-milk-powder -> en:skim-milk-powder  ]  [ milk-powder -> en:milk-powder  ]  [ powder -> en:powder  ]  [ butteroil -> en:butteroil  ]  [ lecithin-as-emulsifier -> en:lecithin-as-emulsifier  ]  [ as-emulsifier -> en:as-emulsifier  ]  [ emulsifier -> en:emulsifier  ]  [ soy -> en:soy  ]  [ vanillin -> en:vanillin  ]  [ an-artificial-flavor -> en:an-artificial-flavor  ]  [ artificial-flavor -> en:artificial-flavor  ]  [ flavor -> en:flavor  ]  [ hazelnuts -> en:hazelnuts  ]  [ sugar -> en:sugar  ]  [ palm-oil -> en:palm-oil  ]  [ oil -> en:oil  ]  [ wheat-flour -> en:wheat-flour  ]  [ flour -> en:flour  ]  [ whey -> en:whey  ]  [ milk -> en:milk  ]  [ lowfat-cocoa-powder -> en:lowfat-cocoa-powder  ]  [ cocoa-powder -> en:cocoa-powder  ]  [ powder -> en:powder  ]  [ lecithin-as-emulsifier -> en:lecithin-as-emulsifier  ]  [ as-emulsifier -> en:as-emulsifier  ]  [ emulsifier -> en:emulsifier  ]  [ soy-sodium-bicarbonate-as-leavening-agent -> en:soy-sodium-bicarbonate-as-leavening-agent  ]  [ sodium-bicarbonate-as-leavening-agent -> en:sodium-bicarbonate-as-leavening-agent  ]  [ bicarbonate-as-leavening-agent -> en:bicarbonate-as-leavening-agent  ]  [ as-leavening-agent -> en:as-leavening-agent  ]  [ leavening-agent -> en:leavening-agent  ]  [ agent -> en:agent  ]  [ salt -> en:salt  ]  [ vanillin -> en:vanillin  ]  [ an-artificial-flavor -> en:an-artificial-flavor  ]  [ artificial-flavor -> en:artificial-flavor  ]  [ flavor -> en:flavor  ] ',\n",
      " u'additives_n': 0,\n",
      " u'brands': u'Ferrero',\n",
      " u'brands_tags': u'ferrero',\n",
      " u'calcium_100g': 0.105,\n",
      " u'carbohydrates_100g': 47.37,\n",
      " u'cholesterol_100g': 0.013,\n",
      " u'code': 9800120659L,\n",
      " u'countries': u'US',\n",
      " u'countries_en': u'United States',\n",
      " u'countries_tags': u'en:united-states',\n",
      " u'created_datetime': u'2017-03-09T14:06:39Z',\n",
      " u'created_t': 1489068399,\n",
      " u'creator': u'usda-ndb-import',\n",
      " u'energy_100g': 2531,\n",
      " u'fat_100g': 42.11,\n",
      " u'fiber_100g': 2.6,\n",
      " u'ingredients_from_palm_oil_n': 0,\n",
      " u'ingredients_text': u'Milk chocolate (sugar, cocoa butter, cocoa mass, skim milk powder, butteroil, lecithin as emulsifier (soy), vanillin: an artificial flavor), hazelnuts, sugar, palm oil, wheat flour, whey (milk), lowfat cocoa powder, lecithin as emulsifier (soy) sodium bicarbonate as leavening agent, salt, vanillin: an artificial flavor.',\n",
      " u'ingredients_that_may_be_from_palm_oil_n': 0,\n",
      " u'iron_100g': 0.00189,\n",
      " u'last_modified_datetime': u'2017-03-09T14:06:39Z',\n",
      " u'last_modified_t': 1489068399,\n",
      " u'nutrition-score-fr_100g': 22,\n",
      " u'nutrition-score-uk_100g': 22,\n",
      " u'nutrition_grade_fr': u'e',\n",
      " u'product_name': u'Rocher, Fine Hazelnut Chocolates',\n",
      " u'proteins_100g': 7.89,\n",
      " u'salt_100g': 0.16764,\n",
      " u'saturated-fat_100g': 13.16,\n",
      " u'serving_size': u'38 g (38 g)',\n",
      " u'sodium_100g': 0.066,\n",
      " u'states': u'en:to-be-completed, en:nutrition-facts-completed, en:ingredients-completed, en:expiration-date-to-be-completed, en:packaging-code-to-be-completed, en:characteristics-to-be-completed, en:categories-to-be-completed, en:brands-completed, en:packaging-to-be-completed, en:quantity-to-be-completed, en:product-name-completed, en:photos-to-be-uploaded',\n",
      " u'states_en': u'To be completed,Nutrition facts completed,Ingredients completed,Expiration date to be completed,Packaging-code-to-be-completed,Characteristics to be completed,Categories to be completed,Brands completed,Packaging to be completed,Quantity to be completed,Product name completed,Photos to be uploaded',\n",
      " u'states_tags': u'en:to-be-completed,en:nutrition-facts-completed,en:ingredients-completed,en:expiration-date-to-be-completed,en:packaging-code-to-be-completed,en:characteristics-to-be-completed,en:categories-to-be-completed,en:brands-completed,en:packaging-to-be-completed,en:quantity-to-be-completed,en:product-name-completed,en:photos-to-be-uploaded',\n",
      " u'sugars_100g': 39.47,\n",
      " u'trans-fat_100g': 0,\n",
      " u'url': u'http://world-en.openfoodfacts.org/product/0009800120659/rocher-fine-hazelnut-chocolates-ferrero',\n",
      " u'vitamin-a_100g': 0,\n",
      " u'vitamin-c_100g': 0}\n"
     ]
    }
   ],
   "source": [
    "ferr1=coll.find_one({'brands' : 'Ferrero'})\n",
    "pprint.pprint(ferr1)"
   ]
  },
  {
   "cell_type": "markdown",
   "metadata": {},
   "source": [
    "Name of the queried product:"
   ]
  },
  {
   "cell_type": "code",
   "execution_count": 15,
   "metadata": {
    "ExecuteTime": {
     "end_time": "2017-11-20T17:13:51.330000Z",
     "start_time": "2017-11-20T18:13:51.326000+01:00"
    }
   },
   "outputs": [
    {
     "name": "stdout",
     "output_type": "stream",
     "text": [
      "u'Rocher, Fine Hazelnut Chocolates'\n"
     ]
    }
   ],
   "source": [
    "pprint.pprint(ferr1['product_name'])"
   ]
  },
  {
   "cell_type": "markdown",
   "metadata": {},
   "source": [
    "All items, which match a specified criteria, can be obtained by applying the `find({key:value})`-function on the collection-object. E.g. all items with brandname *Ferrero* can be obtained as follows:"
   ]
  },
  {
   "cell_type": "code",
   "execution_count": 16,
   "metadata": {
    "ExecuteTime": {
     "end_time": "2017-11-20T17:14:34.117000Z",
     "start_time": "2017-11-20T18:14:33.278000+01:00"
    }
   },
   "outputs": [
    {
     "name": "stdout",
     "output_type": "stream",
     "text": [
      "('Number of found products: ', 117)\n",
      "Rocher, Fine Hazelnut Chocolates\n",
      "Fine Hazelnut Chocolates\n",
      "Rocher\n",
      "Nutella\n",
      "Nutella\n",
      "Nutella\n",
      "Nutella\n",
      "Mon chéri\n",
      "Nutella\n",
      "Nutella\n",
      "Pâte à tartiner\n",
      "Nutella\n",
      "Nutella\n",
      "Nutella\n",
      "Nutella\n",
      "Nutella\n",
      "Nutella\n",
      "Nutella\n",
      "Nutella\n",
      "Nutella\n",
      "K. BUENO T15\n",
      "Kinder country\n",
      "Cloche Ferrero\n",
      "Graine de couscous moyenne\n",
      "Graine de Couscous Moyen 1,5 Kg Ferrero\n",
      "Couscous aux Épices et Petits Raisins\n",
      "Couscous aux 4 épices\n",
      "Polenta express\n",
      "Harissa\n",
      "Graine de Couscous Moyen\n",
      "Graine de Couscous Fin 1 Kg Ferrero\n",
      "Graine de couscous fin\n",
      "Nutella B-ready\n",
      "Grainde de couscous fin\n",
      "Nutella\n",
      "Duplo\n",
      "Die Besten von Ferrero\n",
      "Ferrero Küsschen\n",
      "Ferrero Küsschen\n",
      "Ferrero Rocher\n",
      "Lapin Ferrero Rocher\n",
      "Raffaello\n",
      "Raffaello\n",
      "Raffaello\n",
      "kinder maxi\n",
      "Duplo big pack 18+2\n",
      "Die Besten Classic\n",
      "Ferrero Küsschen Caramel 20er Geschenkverpackung\n",
      "Grand Ferrero Rocher\n",
      "Kinder Chocolate\n",
      "Nutella & Go!\n",
      "Kinder Surprise (x6) de Noël\n",
      "Raffaello\n",
      "Tic tac 100\n",
      "Ferrero Rocher\n",
      "Nutella +10% Gratuit,\n",
      "Ferrero Rocher\n",
      "Prestige\n",
      "Ferrero Rocher\n",
      "Mon chéri\n",
      "Duplo Etui De 5 Pieces\n",
      "Ferrero Rocher\n",
      "Choc.kinder Bueno PACK3x2\n",
      "Raffaello\n",
      ", chlorophylle , le lot de 4 64 gr\n",
      "WARNING! - PRODUCT NAME NOT AVAILABLE\n",
      "Rond Noir\n",
      "Fines gaufrettes 16 pièces Ferrero\n",
      "Prestige\n",
      "Ferrero Eggs Cacao\n",
      "brioss\n",
      "Ferrero prestige\n",
      "Mon Chéri\n",
      "Pocket Coffee T8 GR 100 Ferrero\n",
      "Raffaello\n",
      "Rocher - Chocolat au lait\n",
      "Raffaello\n",
      "GRAND FERRERO ROCHER\n",
      "Ferrero Rocher\n",
      "Tic Tac Gum Mint\n",
      "Ferrero Collection\n",
      "Ferrero collection \n",
      "Nutella\n",
      "Krem Nutella\n",
      "Coffret chocolat\n",
      "Tic Tac Strawberry Mix Big Pack\n",
      "Joghurt-Schnitte\n",
      "Duplo\n",
      "Bisc. nutella B-ready T10 Ferre\n",
      "Chocolat fourré cerise et liqueur\n",
      "WARNING! - PRODUCT NAME NOT AVAILABLE\n",
      "Nutella B-ready\n",
      "Ferrero Valparaiso Goji & Himbeere\n",
      "Kinder Cards\n",
      "Tic tac\n",
      "Kinder Country\n",
      "Collection T15\n",
      "Ferrero 48 Piece Collection\n",
      "Ferrero Rocher\n",
      "Golden Gallery\n",
      "Ferrero golden gallery \n",
      "Tic Tac - Cola\n",
      "The Estathe' LT1,5 Pesca Zero\n",
      "EstaThé Limone\n",
      "Mon Chéri\n",
      "Estathe Bicch. Pesca Cluster CL. 20 X6\n",
      "Pocket coffee espresso\n",
      "Esta thé\n",
      "Nutella\n",
      "Poker coffie\n",
      "Tronky Nocciola Singolo\n",
      "Nutella\n",
      "Estathe Bottiglia Limone ML. 1500\n",
      "Kinder Chocolate\n",
      "Nutella\n",
      "Nutella\n",
      "Kinder Chocolate\n"
     ]
    }
   ],
   "source": [
    "ferrero=coll.find({'brands' : 'Ferrero' })\n",
    "print(\"Number of found products: \",ferrero.count())\n",
    "for p in ferrero:\n",
    "    try:\n",
    "        print(p['product_name'])\n",
    "    except:\n",
    "        print(\"WARNING! - PRODUCT NAME NOT AVAILABLE\")"
   ]
  },
  {
   "cell_type": "markdown",
   "metadata": {},
   "source": [
    "It is quite common, that attribute values, e.g. productnames, are represented ambigously. For example in the current database, there are many different variations for the brandname `Ferrero`. Such variations can typically be catched by the application of *regular expressiong*. The `find()`-method on collection objects accepts regular expressions as demonstrated below. In this example all items are retrieved, which have *Ferrero* in their `brands`-attribute:"
   ]
  },
  {
   "cell_type": "code",
   "execution_count": 18,
   "metadata": {
    "ExecuteTime": {
     "end_time": "2017-11-20T17:14:57.764000Z",
     "start_time": "2017-11-20T18:14:56.559000+01:00"
    }
   },
   "outputs": [
    {
     "name": "stdout",
     "output_type": "stream",
     "text": [
      "('Number of found products: ', 417)\n",
      "(u'Tic Tac,  Ferrero U.S.A.  Incorporated', '----------', u'Mints, Candy Cane')\n",
      "(u'Tic Tac,  Ferrero U.S.A.  Incorporated', '----------', u'Scary Sweets Mints, Grape & Cherry')\n",
      "(u'Ferrero, Tic Tac,  Ferrero U.S.A.  Incorporated', '----------', u'Tic Tac')\n",
      "(u'Tic Tac,  Ferrero U.S.A.  Incorporated', '----------', u'Flavored Mints, Grape')\n",
      "(u'Ferrero,  Ferrero Rocher', '----------', u'Rocher, Hazelnut Chocolates')\n",
      "(u'Tic Tac,  Ferrero U.S.A.  Incorporated', '----------', u'Candy Cane')\n",
      "(u'Ferrero U.S.A.  Incorporated', '----------', u'Flavored Mints')\n",
      "(u'Ferrero U.S.A.  Incorporated', '----------', u'Summer Ice Pop Mint')\n",
      "(u'Ferrero U.S.A.  Incorporated', '----------', u'Freshmints')\n",
      "(u'Tic Tac,  Ferrero U.S.A.  Incorporated', '----------', u'Fruit Mints')\n",
      "(u'Ferrero U.S.A.  Incorporated', '----------', u'Freshmints')\n",
      "(u'Ferrero U.S.A.  Incorporated', '----------', u'Mints')\n",
      "(u'Tic Tac,  Ferrero U.S.A.  Incorporated', '----------', u'Flavored Mints')\n",
      "(u'Tic Tac,  Ferrero U.S.A.  Incorporated', '----------', u'Mints')\n",
      "(u'Tic Tac,  Ferrero U.S.A.  Incorporated', '----------', u'Snowman Fruit Mix Mints, Lime & Berry')\n",
      "(u'Tic Tac,  Ferrero U.S.A.  Incorporated', '----------', u'Flavored Mints, Grrr...Een Apple')\n",
      "(u'Tic Tac,  Ferrero U.S.A.  Incorporated', '----------', u'Mummy Mints, Orange')\n",
      "(u'Tic Tac,  Ferrero U.S.A.  Incorporated', '----------', u'Minions Mints, Banana')\n",
      "(u'Tic Tac,  Ferrero U.S.A.  Incorporated', '----------', u'Mints, Grape')\n",
      "(u'Tic Tac,  Ferrero U.S.A.  Incorporated', '----------', u'Fruit Adventure')\n",
      "(u'Tic Tac,  Ferrero U.S.A.  Incorporated', '----------', u'Freshmints')\n",
      "(u'Tic Tac,  Ferrero U.S.A.  Incorporated', '----------', u'Flavored Mints, Berry Cherry')\n",
      "(u'Ferrero U.S.A.  Incorporated', '----------', u'Mints')\n",
      "(u'Tic Tac,  Ferrero U.S.A.  Incorporated', '----------', u'Flavored Mints, Wintergreen')\n",
      "(u'Tic Tac,  Ferrero', '----------', u'Orange Mints, Orange')\n",
      "(u'Tic Tac,  Excl. Dist. Ferrero U.S.A.  Inc.', '----------', u'Freshmints')\n",
      "(u'Tic Tac,  Ferrero', '----------', u'Fruit Adventure Mints')\n",
      "(u'Tic Tac,  Ferrero', '----------', u'Mints, Orange')\n",
      "(u'Tic Tac,  Ferrero', '----------', u'Mints, Wintergreen')\n",
      "(u'Tic Tac,  Ferrero U.S.A.  Incorporated', '----------', u'Flavored Mints, Fruit Adventure')\n",
      "(u'Tic Tac,  Ferrero U.S.A.  Incorporated', '----------', u'Freshmints')\n",
      "(u'Tic Tac,  Ferrero', '----------', u'Mints, Wintergreen')\n",
      "(u'Tic Tac,  Ferrero U.S.A.  Incorporated', '----------', u'Flavored Mints, Fruit Adventure')\n",
      "(u'Tic Tac,  Ferrero U.S.A.  Incorporated', '----------', u'Flavored Mints, Orange')\n",
      "(u'Tic Tac,  Ferrero U.S.A.  Incorporated', '----------', u'Flavored Mints, Berry Cherry')\n",
      "(u'Ferrero U.S.A.  Incorporated', '----------', u'Mints')\n",
      "(u'Tic Tac,  Ferrero U.S.A.  Incorporated', '----------', u'Freshmints')\n",
      "(u'Tic Tac,  Ferrero U.S.A.  Incorporated', '----------', u'Flavored Mints, Grape')\n",
      "(u'Tic Tac,  Ferrero U.S.A.  Incorporated', '----------', u'Minions Mints, Banana')\n",
      "(u'Tic Tac,  Ferrero U.S.A.  Incorporated', '----------', u'Minions Mints, Banana')\n",
      "(u'Tic Tac,  Ferrero U.S.A.  Incorporated', '----------', u'Flavored Mints, Spearmint Mix')\n",
      "(u'Tic Tac,  Ferrero U.S.A.  Incorporated', '----------', u'Flavored Mints, Grape')\n",
      "(u'Tic Tac,  Ferrero U.S.A.  Incorporated', '----------', u'Mixers Mints, Cherry Cola')\n",
      "(u'Tic Tac,  Ferrero U.S.A.  Incorporated', '----------', u'Mixers Mints, Peach, Lemonade')\n",
      "(u'Tic Tac,  Ferrero U.S.A.  Incorporated', '----------', u'Flavored Mints, Strawberry')\n",
      "(u'Tic Tac,  Ferrero U.S.A.  Incorporated', '----------', u'Flavored Mints, Fruit Adventure')\n",
      "(u'Tic Tac,  Ferrero U.S.A.  Incorporated', '----------', u'Freshmints')\n",
      "(u'Tic Tac,  Ferrero U.S.A.  Incorporated', '----------', u'Flavored Mints, Orange')\n",
      "(u'Tic Tac,  Ferrero U.S.A.  Incorporated', '----------', u'Flavored Mints, Wintergreen')\n",
      "(u'Tic Tac,  Ferrero U.S.A.  Incorporated', '----------', u'Mints, Orange, Fruit Adventure, Wintergreen')\n",
      "(u'Ferrero U.S.A.  Incorporated', '----------', u'Milk Chocolate')\n",
      "(u'Ferrero,  Ferrero U.S.A.  Incorporated', '----------', u'Rocher, Fine Hazelnut Chocolates')\n",
      "(u'Ferrero,  Ferrero Rocher', '----------', u'Rocher, Fine Hazelnut Chocolates')\n",
      "(u'Ferrero,  Ferrero U.S.A.  Incorporated', '----------', u'Rocher, Fine Hazelnut Chocolates')\n",
      "(u'Ferrero,  Ferrero U.S.A.  Incorporated', '----------', u'Rocher, Fine Hazelnut Chocolates')\n",
      "(u'Ferrero,  Ferrero U.S.A.  Incorporated', '----------', u'Rocher, Fine Hazelnut Chocolates')\n",
      "(u'Ferrero,  Ferrero U.S.A.  Incorporated', '----------', u'Rocher, Fine Hazelnut Chocolates')\n",
      "(u'Ferrero', '----------', u'Rocher, Fine Hazelnut Chocolates')\n",
      "(u'Ferrero Rocher', '----------', u'Fine Hazel Nut Chocolates')\n",
      "(u'Ferrero,  Ferrero Rocher', '----------', u'Rocher, Fine Hazelnut Chocolates')\n",
      "(u'Ferrero,  Ferrero U.S.A.  Incorporated', '----------', u'Rocher, Fine Hazelnut Chocolates')\n",
      "(u'Ferrero,  Ferrero U.S.A.  Incorporated', '----------', u'Rocher, Fine Hazelnut Chocolates')\n",
      "(u'Ferrero,  Ferrero U.S.A.  Incorporated', '----------', u'Rocher, Hazelnut Chocolates')\n",
      "(u'Ferrero', '----------', u'Fine Hazelnut Chocolates')\n",
      "(u'Ferrero', '----------', u'Rocher')\n",
      "(u'Ferrero U.S.A.  Incorporated', '----------', u'Raffaello, Almond Coconut Treat')\n",
      "(u'Ferrero Collection,  Ferrero U.S.A.  Incorporated', '----------', u'Fine Assorted Confection Chocolates')\n",
      "(u'Ferrero Collection,  Ferrero U.S.A.  Incorporated', '----------', u'Fine Assorted Confections')\n",
      "(u'Ferrero Collection', '----------', u'Fine Assorted Confections')\n",
      "(u'Ferrero Collection,  Ferrero U.S.A.  Incorporated', '----------', u'Fine Assorted Confections')\n",
      "(u'Ferrero Collection,  Ferrero U.S.A.  Incorporated', '----------', u'Fine Assorted Confections')\n",
      "(u'Ferrero Collection,  Ferrero U.S.A.  Incorporated', '----------', u'Fine Assorted Confections')\n",
      "(u'Ferrero Collection,  Ferrero U.S.A.  Incorporated', '----------', u'Fine Assorted Confections')\n",
      "(u'Ferrero Collection,  Ferrero U.S.A.  Incorporated', '----------', u'Fine Assorted Confections')\n",
      "(u'Ferrero Collection,  Ferrero U.S.A.  Incorporated', '----------', u'Fine Assorted Confections')\n",
      "(u'Ferrero Collection,  Ferrero U.S.A.  Incorporated', '----------', u'Fine Assorted Congections')\n",
      "(u'Ferrero Collection,  Ferrero U.S.A.  Incorporated', '----------', u'Fine Assorted Confections')\n",
      "(u'Ferrero Collection,  Ferrero U.S.A.  Incorporated', '----------', u'Fine Assorted Confections')\n",
      "(u'Ferrero Collection,  Ferrero U.S.A.  Incorporated', '----------', u'Fine Assorted Confections')\n",
      "(u'Ferrero Collection,  Ferrero U.S.A.  Incorporated', '----------', u'Fine Assorted Confections')\n",
      "(u'Ferrero Collection,  Ferrero U.S.A.  Incorporated', '----------', u'Fine Assorted Confections')\n",
      "(u'Ferrero Collection,  Ferrero U.S.A.  Incorporated', '----------', u'Fine Assorted Collections')\n",
      "(u'Ferrero Collection,  Ferrero U.S.A.  Incorporated', '----------', u'Fine Assorted Conefections')\n",
      "(u'Ferrero Collection,  Ferrero U.S.A.  Incorporated', '----------', u'Fine Assorted Confections')\n",
      "(u'Ferrero Collection,  Ferrero U.S.A.  Incorporated', '----------', u'Fine Assorted Confections')\n",
      "(u'Ferrero U.S.A.  Incorporated', '----------', u'Fererro, Nutella, B-Ready Filled Wafer Bars')\n",
      "(u'Ferrero Collection,  Ferrero U.S.A.  Incorporated', '----------', u'Fine Assorted Confection')\n",
      "(u'Ferrero,  Ferrero U.S.A.  Incorporated', '----------', u'Eggs Chocolate Covered Crispy Eggs, Cocoa')\n",
      "(u'Ferrero,  Ferrero U.S.A.  Incorporated', '----------', u'Eggs Chocolate Covered Crispy Eggs, Hazelnut')\n",
      "(u'Nutella Ferrero', '----------', u'12 Pack Hazelnut Spread + Breadsticks')\n",
      "(u'Ferrero,  Ferrero U.S.A.  Incorporated', '----------', u'Nutella, Hazelnut Spread With Cocoa')\n",
      "(u'Nutella,Ferrero', '----------', u'Mini Cups')\n",
      "(u'Ferrero,  Ferrero U.S.A.  Incorporated', '----------', u'Nutella, Hazelnut Spread With Cocoa')\n",
      "(u'Ferrero,Nutella', '----------', u'Nutella')\n",
      "(u'Ferrero,Nutella', '----------', u'Nutella')\n",
      "(u'Nutella,Ferrero', '----------', u'Nutella')\n",
      "(u'Kinder,Ferrero', '----------', u'Kinder surprise ')\n",
      "(u'Kinder,Ferrero', '----------', u'Kinder Schoko-Bons')\n",
      "(u'Ferrero', '----------', u'Nutella')\n",
      "(u'Ferrero,Nutella', '----------', u'Nutella')\n",
      "(u'Tic Tac,Ferrero', '----------', u'Tic Tc Menthe Fra\\xeecheur')\n"
     ]
    },
    {
     "name": "stdout",
     "output_type": "stream",
     "text": [
      "(u'Ferrero Duplo', '----------', u'Milk Chocolate Covered Wafer With Whole Hazelnut')\n",
      "(u'Ferrero Inc.', '----------', u'Bueno Chocolate')\n",
      "(u'Ferrero,Nutella', '----------', u'Nutella')\n",
      "(u'Ferrero,Nutella', '----------', u'Nutella')\n",
      "(u'Kinder,Ferrero', '----------', u'Schoko-bons')\n",
      "(u'Ferrero', '----------', u'Nutella')\n",
      "(u'Kinder,  Ferrero Polska', '----------', u'Delice Kokos')\n",
      "(u'Ferrero', '----------', u'Nutella')\n",
      "(u'Ferrero', '----------', u'Nutella')\n",
      "(u'Kinder,  Ferrero', '----------', u'Bueno Riegel Bar')\n",
      "(u'Ferrero', '----------', u'Mon ch\\xe9ri')\n",
      "(u'Ferrero,Nutella', '----------', u'Nutella')\n",
      "(u'Ferrero,Nutella', '----------', u'Nutella')\n",
      "(u'Kinder,Ferrero', '----------', u'Happy Hippo Cacao')\n",
      "(u'Ferrero', '----------', u'Nutella')\n",
      "(u'Ferrero', '----------', u'Nutella')\n",
      "(u'Ferrero', '----------', u'P\\xe2te \\xe0 tartiner')\n",
      "(u'Ferrero,Nutella', '----------', u'Nutella ')\n",
      "(u'Ferrero,Nutella', '----------', u'Nutella')\n",
      "(u'Ferrero', '----------', u'Nutella')\n",
      "(u'Ferrero', '----------', u'Nutella')\n",
      "(u'Ferrero', '----------', u'Nutella')\n",
      "(u'Ferrero', '----------', u'Nutella')\n",
      "(u'Nutella,Ferrero', '----------', u'Nutella ')\n",
      "(u'Ferrero', '----------', u'Nutella')\n",
      "(u'Ferrero', '----------', u'Nutella')\n",
      "(u'Ferrero,Nutella', '----------', u'Nutella')\n",
      "(u'Nutella,Ferrero', '----------', u'Nutella')\n",
      "(u'Nutella,Ferrero', '----------', u'Nutella')\n",
      "(u'Ferrero', '----------', u'Nutella')\n",
      "(u'Ferrero,Nutella', '----------', u'Nutella')\n",
      "(u'Nutella,Ferrero', '----------', u'Nutella')\n",
      "(u'Ferrero', '----------', u'Nutella')\n",
      "(u'Ferrero,Nutella', '----------', u'Nutella')\n",
      "(u'Ferrero', '----------', u'Nutella')\n",
      "(u'Ferrero', '----------', u'K. BUENO T15')\n",
      "(u'kinder,Ferrero', '----------', u'Kinder bueno')\n",
      "(u'Ferrero,Kinder Bueno, Kinder', '----------', u'Kinder Bueno')\n",
      "(u'Kinder,Ferrero', '----------', u'Kinder Bueno')\n",
      "(u'Kinder,Ferrero', '----------', u'Kinder Maxi')\n",
      "(u'Ferrero', '----------', u'Kinder country')\n",
      "(u'Kinder Bueno,Ferrero,Kinder', '----------', u'Kinder Bueno')\n",
      "(u'Kinder,Ferrero', '----------', u'Kinder Country')\n",
      "(u'Kinder,Ferrero', '----------', u'Kinder Surprise')\n",
      "(u'Ferrero', '----------', u'Cloche Ferrero')\n",
      "(u'Ferrero,Nutella', '----------', u'Nutella')\n",
      "(u'Ferrero,Nutella', '----------', u'Nutella')\n",
      "(u'Nutella,Ferrero', '----------', u'Nutella')\n",
      "(u'Ferrero,Tic Tac', '----------', u'Tic Tac Mint')\n",
      "(u'Kinder,Kinder Bueno,Ferrero', '----------', u'Kinder Bueno')\n",
      "(u'Kinder,Ferrero', '----------', u'16 batonnets Chocolat')\n",
      "(u'Kinder,Ferrero', '----------', u\"calendrier de l'avent \")\n",
      "(u'Ferrero,Kinder', '----------', u'Kinder Chocolat (format 32 b\\xe2tonnets)')\n",
      "(u'Kinder,Ferrero', '----------', u\"Calendrier de l'avent\")\n",
      "(u'Ferrero', '----------', u'Graine de couscous moyenne')\n",
      "(u'Ferrero,Panzani,Ebro Foods', '----------', u'Graine de Couscous Fin (+ 25 % Gratuit)')\n",
      "(u'Ferrero', '----------', u'Graine de Couscous Moyen 1,5 Kg Ferrero')\n",
      "(u'Ferrero', '----------', u'Couscous aux \\xc9pices et Petits Raisins')\n",
      "(u'Ferrero', '----------', u'Couscous aux 4 \\xe9pices')\n",
      "(u'Ferrero', '----------', u'Polenta express')\n",
      "(u'Ferrero', '----------', u'Harissa')\n",
      "(u'Ferrero', '----------', u'Graine de Couscous Moyen')\n",
      "(u'Ferrero', '----------', u'Graine de Couscous Fin 1 Kg Ferrero')\n",
      "(u'Ferrero,Panzani,Ebro Foods', '----------', u'Couscous moyen')\n",
      "(u'Ferrero', '----------', u'Graine de couscous fin')\n",
      "(u'Ferrero,Panzani,Ebro Foods', '----------', u'Graine de Couscous Moyen (+ 25 % Gratuit)')\n",
      "(u'Ferrero', '----------', u'Nutella B-ready')\n",
      "(u'Ferrero', '----------', u'Grainde de couscous fin')\n",
      "(u'Ferrero', '----------', u'Nutella')\n",
      "(u'Ferrero', '----------', u'Duplo')\n",
      "(u'Ferrero,Mon Ch\\xe9ri', '----------', u'Mon Ch\\xe9ri')\n",
      "(u'Ferrero', '----------', u'Die Besten von Ferrero')\n",
      "(u'Ferrero', '----------', u'Ferrero K\\xfcsschen')\n",
      "(u'Ferrero', '----------', u'Ferrero K\\xfcsschen')\n",
      "(u'Ferrero', '----------', u'Ferrero Rocher')\n",
      "(u'Ferrero rocher', '----------', u'Lapin')\n",
      "(u'Ferrero', '----------', u'Lapin Ferrero Rocher')\n",
      "(u'Ferrero', '----------', u'Raffaello')\n",
      "(u'Ferrero', '----------', u'Raffaello')\n",
      "(u'Ferrero', '----------', u'Raffaello')\n",
      "(u'Milch-Schnitte,Ferrero', '----------', u'Milch-Schnitte')\n",
      "(u'Kinder,Ferrero', '----------', u'Kinder Schokolade')\n",
      "(u'Kinder,Ferrero', '----------', u'Kinder Schokolade')\n",
      "(u'Kinder,Ferrero', '----------', u'Kinder Riegel ')\n",
      "(u'Ferrero', '----------', u'kinder maxi')\n",
      "(u'kinder,Ferrero', '----------', u'Kinder Riegel')\n",
      "(u'Kinder,Ferrero', '----------', u'Kinder country ')\n",
      "(u'Kinder,Ferrero', '----------', u'Kinder pingu')\n",
      "(u'Kinder,Ferrero', '----------', u'Kinder Schoko-Bons')\n",
      "(u'Kinder,Ferrero', '----------', u'Kinder Pingui Schoko')\n",
      "(u'Ferrero', '----------', u'Duplo big pack 18+2')\n",
      "(u'Kinder,Ferrero', '----------', u'Pingui chocolat')\n",
      "(u'Ferrero,Kinder', '----------', u'Kinder Pingui Chocolat')\n",
      "(u'Kinder,Ferrero', '----------', u'Pingui Framboise')\n",
      "(u'Ferrero,duplo', '----------', u'duplo')\n",
      "(u'Ferrero,Duplo', '----------', u'Duplo')\n",
      "(u'Duplo,Ferrero', '----------', u'duplo Chocnut')\n",
      "(u'Kinder,Ferrero', '----------', u'Kinder bueno')\n",
      "(u'hanuta,Ferrero', '----------', u'Hanuta')\n",
      "(u'hanuta,Ferrero', '----------', u'hanuta')\n",
      "(u'Ferrero', '----------', u'Die Besten Classic')\n",
      "(u'Kinder,Ferrero', '----------', u'Kinder Choco fresh')\n",
      "(u'Tic Tac,Ferrero', '----------', u'100 Tic Tac go\\xfbt citron vert et orange')\n",
      "(u'nutella,Ferrero', '----------', u'nutella')\n",
      "(u'Nutella,Ferrero', '----------', u'Nutella')\n",
      "(u'Nutella,Ferrero', '----------', u'nutella')\n",
      "(u'Nutella,Ferrero', '----------', u'nutella')\n",
      "(u'nutella,Ferrero', '----------', u'Nutella')\n",
      "(u'Nutella,Ferrero', '----------', u'Nutella')\n",
      "(u'Nutella,Ferrero', '----------', u'Nutella')\n",
      "(u'Ferrero', '----------', u'Ferrero K\\xfcsschen Caramel 20er Geschenkverpackung')\n",
      "(u'Ferrero K\\xfcsschen,Ferrero', '----------', u'Ferrero K\\xfcsschen Mix')\n",
      "(u'Kinder,Ferrero', '----------', u'Kinder Weihnachtsmann')\n",
      "(u'Kinder,Ferrero', '----------', u'Kinder Hase')\n",
      "(u'Kinder,Ferrero', '----------', u'Kinder \\xdcberraschung Weihnachtsmann')\n",
      "(u'Ferrero', '----------', u'Grand Ferrero Rocher')\n",
      "(u'Mon Ch\\xe9ri,Ferrero,Ferrero S.p.A.', '----------', u'Mon Ch\\xe9ri')\n",
      "(u'Kinder,Ferrero', '----------', u'Maxi King')\n",
      "(u'Kinder,Ferrero', '----------', u'Kinder Maxi')\n",
      "(u'Ferrero,Kinder', '----------', u'Kinder maxi')\n",
      "(u'Kinder,Ferrero', '----------', u'Kinder Chocolat')\n",
      "(u'Kinder,Ferrero', '----------', u'Choco Fresh')\n",
      "(u'Kinder,Ferrero', '----------', u'Kinder bueno')\n",
      "(u'Ferrero,duplo', '----------', u'Duplo')\n",
      "(u'Kinder,Ferrero', '----------', u'Kinder Riegel')\n",
      "(u'Kinder,Ferrero', '----------', u'Kinder Country')\n",
      "(u'hanuta,Ferrero', '----------', u'hanuta')\n",
      "(u'Ferrero', '----------', u'Kinder Chocolate')\n",
      "(u'Milch-Schnitte,Ferrero', '----------', u'Milch-Schnitte')\n",
      "(u'Milch-Schnitte,Ferrero', '----------', u'Milch-Schnitte')\n",
      "(u'duplo,Ferrero', '----------', u'duplo Caramel')\n",
      "(u'Kinder,Ferrero', '----------', u'Mini Eggs')\n",
      "(u'Ferrero,Kinder', '----------', u'Kinder Chocolate Mini')\n",
      "(u'Ferrero', '----------', u'Nutella & Go!')\n",
      "(u'Kinder,Ferrero', '----------', u'Kinder Surprise')\n",
      "(u'kinder,Ferrero', '----------', u'schoko-bons')\n",
      "(u'Kinder,Ferrero', '----------', u'Bueno (8+2 gratis)')\n",
      "(u'Kinder,Ferrero,Kinder surprise', '----------', u'Kinder Surprise')\n",
      "(u'Kinder,Ferrero,Kinder surprise', '----------', u'Kinder surprise Ast\\xe9rix et Ob\\xe9lix')\n",
      "(u'Kinder,Kinder surprise,Ferrero', '----------', u'Kinder surprise Barbie')\n",
      "(u'Kinder,Ferrero', '----------', u'Schoko-Bons')\n",
      "(u'Kinder,Ferrero,Schoko-bons', '----------', u'Schoko-bons')\n",
      "(u'Kinder,Ferrero', '----------', u'Kinder Suprise')\n",
      "(u'Ferrero', '----------', u'Kinder Surprise (x6) de No\\xebl')\n",
      "(u'Kinder,Ferrero', '----------', u'Schoko-Bons')\n",
      "(u'Ferrero', '----------', u'Raffaello')\n",
      "(u'Kinder,Kinder Surprise,Ferrero', '----------', u'6 Kinder Surprise')\n",
      "(u'Kinder,Ferrero', '----------', u'Kinder Schoko-Bons')\n",
      "(u'Kinder,Ferrero', '----------', u'Schoko-Bons')\n",
      "(u'Kinder,Ferrero', '----------', u'Schoko-Bons')\n",
      "(u'Ferrero,Nutella', '----------', u'Nutella')\n",
      "WARNING! - PRODUCT NAME NOT AVAILABLE\n",
      "(u'Ferrero,Kinder', '----------', u'Kinder Bueno')\n",
      "(u'kinder,Ferrero', '----------', u'Bueno')\n",
      "(u'Ferrero', '----------', u'Tic tac 100')\n",
      "(u'Ferrero,Ferrero Rocher', '----------', u'Ferrero Rocher')\n",
      "(u'Ferrero', '----------', u'Ferrero Rocher')\n",
      "(u'Ferrero', '----------', u'Nutella +10% Gratuit,')\n",
      "(u'Ferrero', '----------', u'Ferrero Rocher')\n",
      "(u'Kinder,Ferrero', '----------', u'Kinder Country')\n",
      "(u'Ferrero', '----------', u'Prestige')\n",
      "(u'Ferrero', '----------', u'Ferrero Rocher')\n",
      "(u'Ferrero', '----------', u'Mon ch\\xe9ri')\n",
      "(u'Kinder,Ferrero', '----------', u'Bueno')\n",
      "(u'Kinder,Ferrero', '----------', u'Kinder Chocolat 1/2 m\\xe8tre')\n",
      "(u'Kinder,Ferrero', '----------', u'Maxi Kinder Surprise')\n",
      "(u'Ferrero', '----------', u'Duplo Etui De 5 Pieces')\n",
      "(u'Tic Tac,Ferrero', '----------', u'Tic Tac Menthe')\n",
      "(u'Ferero, Ferrero', '----------', u'Rocher')\n",
      "(u'Ferrero', '----------', u'Ferrero Rocher')\n",
      "(u'Ferrero', '----------', u'Choc.kinder Bueno PACK3x2')\n",
      "(u'Ferrero', '----------', u'Raffaello')\n",
      "(u'Kinder,Ferrero', '----------', u'Colazione Pi\\xf9')\n",
      "(u'Mon Ch\\xe9ri,Ferrero,//Propiedad de://,Ferrero S.p.A.', '----------', u'Bombones Mon Ch\\xe9ri')\n",
      "(u'Kinder D\\xe9lice,Ferrero S.p.A. Piazzale Pietro Ferrero 1 12051 Alba CN Italy,ferrero', '----------', u'Kinder D\\xe9lice')\n",
      "(u'Ferrero', '----------', u', chlorophylle , le lot de 4 64 gr')\n",
      "(u'Kinder,Ferrero', '----------', u'Kinder Bueno')\n",
      "(u'Kinder,Ferrero', '----------', u'P\\xe8re No\\xebl')\n",
      "(u'Ferrero,nutella,Nutella & Go !', '----------', u'Nutella & Go !')\n",
      "WARNING! - PRODUCT NAME NOT AVAILABLE\n",
      "(u'Ferrero', '----------', u'Rond Noir')\n",
      "(u'Nutella,Ferrero', '----------', u'Nutella sp\\xe9cial f\\xeates')\n",
      "(u'Ferrero', '----------', u'Fines gaufrettes 16 pi\\xe8ces Ferrero')\n",
      "(u'Nutella,Ferrero', '----------', u'Nutella')\n",
      "(u'Tic Tac,Ferrero', '----------', u'Liberty ')\n",
      "(u'Kinder,Ferrero', '----------', u'Kinder chocolat')\n",
      "(u'Tic Tac,Ferrero', '----------', u'Intense Mint Menthe Extra-Fraiche')\n",
      "(u'Ferrero', '----------', u'Prestige')\n",
      "(u'Kinder,Ferrero', '----------', u'Bueno White')\n",
      "(u'Kinder,Ferrero', '----------', u'B\\xe2tonnets de chocolat')\n",
      "(u'Kinder,Ferrero', '----------', u'Kinder\\xa0Bueno\\xa0White\\xa0-\\xa0390\\xa0g')\n",
      "(u'Kinder,Ferrero', '----------', u'Kinder Eggs')\n",
      "(u'Kinder,Kinder bueno,Ferrero', '----------', u'kinder bueno white')\n",
      "(u'Ferrero', '----------', u'Ferrero Eggs Cacao')\n",
      "(u'Ferrero,Nutella', '----------', u'Nutella')\n",
      "(u'Golden Gallery,Ferrero', '----------', u'Ferrero Golden Gallery')\n",
      "(u'Ferrero,Nutella,Nutella B-ready', '----------', u'Nutella B-Ready')\n",
      "(u'Ferrero,Kinder', '----------', u'Kinder Chocolat')\n",
      "(u'Ferrero,Nutella,Nutella B-ready,B-ready', '----------', u'Nutella B-ready')\n",
      "(u'Kinder,Ferrero', '----------', u'Kinder d\\xe9lice cacao')\n",
      "(u'Ferrero', '----------', u'brioss')\n",
      "(u'Ferrero', '----------', u'Ferrero prestige')\n",
      "(u'Ferrero', '----------', u'Mon Ch\\xe9ri')\n",
      "(u'Tic Tac,Ferrero', '----------', u'Tic Tac Fresh Mint')\n",
      "(u'Ferrero,Mon Ch\\xe9ri', '----------', u'Mon Ch\\xe9ri')\n",
      "(u'Kinder,Ferrero', '----------', u'Kinder chocolat mini')\n",
      "(u'Ferrero', '----------', u'Pocket Coffee T8 GR 100 Ferrero')\n",
      "(u'Ferrero', '----------', u'Raffaello')\n",
      "(u'Ferrero', '----------', u'Rocher - Chocolat au lait')\n",
      "(u'Kinder,Ferrero', '----------', u'Kinder Joy')\n",
      "(u'Kinder,Ferrero', '----------', u'Kinder Country')\n",
      "(u'Duplo,Ferrero', '----------', u'Duplo')\n",
      "(u'Kinder,Ferrero', '----------', u'Kinder country')\n",
      "(u'Ferrero', '----------', u'Raffaello')\n",
      "WARNING! - PRODUCT NAME NOT AVAILABLE\n",
      "(u'Ferrero ', '----------', u'Nutella ')\n",
      "(u'Ferrero,Tic Tac', '----------', u'Tic Tac Citron Vert & Orange')\n",
      "(u'Kinder Bueno,Ferrero', '----------', u'Kinder Bueno White')\n",
      "(u'kinder,Ferrero', '----------', u'kinder chocolate with cereals')\n",
      "(u'Ferrero', '----------', u'GRAND FERRERO ROCHER')\n",
      "(u'Ferrero,Tic Tac', '----------', u'Tic Tac Apple Mix go\\xfbt Duo de Pommes')\n",
      "(u'Ferrero', '----------', u'Ferrero Rocher')\n",
      "(u'Ferrero france,tic tac', '----------', u'Tic tac go\\xfbts citron vert & orange')\n",
      "(u'Ferrero', '----------', u'Tic Tac Gum Mint')\n",
      "(u'Ferrero', '----------', u'Ferrero Collection')\n",
      "(u'Ferrero', '----------', u'Ferrero collection ')\n",
      "(u'Ferrero', '----------', u'Nutella')\n",
      "(u'Ferrero', '----------', u'Krem Nutella')\n",
      "(u'Ferrero', '----------', u'Coffret chocolat')\n",
      "(u'Kinder,Kinder Bueno,Kinder Bueno Mini,Ferrero', '----------', u'Kinder Bueno Mini')\n",
      "(u'Kinder,Ferrero', '----------', u\"Calendrier de l'Avent\")\n",
      "(u'Ferrero', '----------', u'Tic Tac Strawberry Mix Big Pack')\n",
      "(u'Ferrero,Kinder', '----------', u'Kinder Maxi')\n",
      "(u'Ferrero Rocher', '----------', u'Lapin chocolat au lait')\n",
      "(u'Kinder,Ferrero', '----------', u'Kinder Country')\n",
      "(u'Ferrero', '----------', u'Joghurt-Schnitte')\n",
      "WARNING! - PRODUCT NAME NOT AVAILABLE\n",
      "(u'Tronky,Ferrero', '----------', u'Tronky Nocciola - Croccante wafer ripieno alla nocciola')\n",
      "WARNING! - PRODUCT NAME NOT AVAILABLE\n",
      "(u'Kinder,Ferrero', '----------', u'Chocolate with cereals')\n",
      "(u'Ferrero', '----------', u'Duplo')\n",
      "(u'Kinder,Ferrero', '----------', u'Bueno Dark')\n",
      "(u'Kinder,CARDS,Ferrero', '----------', u'Kinder Cards')\n",
      "(u'Ferrero', '----------', u'Bisc. nutella B-ready T10 Ferre')\n",
      "(u'Ferrero', '----------', u'Chocolat fourr\\xe9 cerise et liqueur')\n",
      "(u'Kinder,Ferrero', '----------', u'Kinder Surprise Infinimix')\n",
      "(u'Ferrero,Kinder Surprise,Kinder', '----------', u'Kinder Surprise Infinimix')\n",
      "(u'Nutella,Ferrero', '----------', u'Nutella B-ready')\n",
      "WARNING! - PRODUCT NAME NOT AVAILABLE\n",
      "(u'Ferrero', '----------', u'Nutella B-ready')\n",
      "(u'Ferrero,Kinder', '----------', u'Kinder Surprise Maxi Infinimix')\n",
      "(u'Ferrero', '----------', u'Ferrero Valparaiso Goji & Himbeere')\n",
      "(u'ValParaiso,Ferrero', '----------', u'Feine Schoko-Frucht-Perlen Physalis & Mango auf Apfelbasis')\n",
      "(u'ValParaiso,Ferrero', '----------', u'Feine Schoko-Frucht-Perlen Maqui & Heidelbeere auf Apfelbasis')\n",
      "(u'Ferrero', '----------', u'Kinder Cards')\n",
      "(u'Ferrero rocher ', '----------', u'Ferrero rocher ')\n",
      "(u'Ferrero', '----------', u'Tic tac')\n",
      "(u'Ferrero', '----------', u'Kinder Country')\n",
      "(u'Ferrero,Kinder', '----------', u'Kinder Surprise Infinimix')\n",
      "(u'Ferrero', '----------', u'Collection T15')\n",
      "(u'Ferrero', '----------', u'Ferrero 48 Piece Collection')\n",
      "(u'Ferrero', '----------', u'Ferrero Rocher')\n",
      "(u'Ferrero', '----------', u'Golden Gallery')\n",
      "(u'Ferrero', '----------', u'Ferrero golden gallery ')\n",
      "(u'Ferrero', '----------', u'Tic Tac - Cola')\n",
      "(u'Kinder,Ferrero,CARDS', '----------', u'Kinder Cards C\\xe9r\\xe9ales')\n",
      "(u'Kinder,Ferrero,CARDS', '----------', u'Kinder Cards Noisette')\n",
      "(u'Ferrero Rocher', '----------', u'Ecureuil')\n",
      "(u'Ferrero,Tic Tac', '----------', u'Tic Tac Breeze')\n",
      "(u'Kinder,Ferrero', '----------', u'Kinder Delice Cacao X10 GR390')\n",
      "(u'Ferrero', '----------', u\"The Estathe' LT1,5 Pesca Zero\")\n",
      "(u'Ferrero Rocher', '----------', u'Ferrero Rocher')\n",
      "WARNING! - PRODUCT NAME NOT AVAILABLE\n",
      "(u'Ferrero,Nutella,Nutella & Go !', '----------', u'Nutella & Go !')\n",
      "(u'Ferrero ', '----------', u'EstaThe')\n",
      "(u'Ferrero', '----------', u'EstaTh\\xe9 Limone')\n",
      "(u'Ferrero', '----------', u'Mon Ch\\xe9ri')\n",
      "(u'Ferrero', '----------', u'Estathe Bicch. Pesca Cluster CL. 20 X6')\n",
      "(u'Ferrero,Nutella', '----------', u'Nutella')\n",
      "(u'Ferrero', '----------', u'Pocket coffee espresso')\n",
      "(u'Ferrero,Nutella', '----------', u'Nutella')\n",
      "(u'Ferrero', '----------', u'Esta th\\xe9')\n",
      "(u'Ferrero', '----------', u'Nutella')\n",
      "(u'Ferrero,Nutella', '----------', u'Nutella')\n",
      "(u'Ferrero', '----------', u'Poker coffie')\n",
      "(u'Ferrero,Nutella', '----------', u'Nutella')\n",
      "(u'Ferrero', '----------', u'Tronky Nocciola Singolo')\n",
      "(u'Duplo,Ferrero', '----------', u'Duplo Chocnut')\n",
      "(u'Ferrero', '----------', u'Nutella')\n",
      "(u'Nutella,Ferrero', '----------', u'Nutella')\n",
      "(u'Kinder,Ferrero', '----------', u'Kinder')\n",
      "(u'Ferrero Iberica', '----------', u'nutella')\n",
      "(u'Ferrero,Nutella', '----------', u'Nutella')\n",
      "(u'Kinder,Ferrero', '----------', u'Country')\n",
      "(u'Ferrero,Nutella', '----------', u'Nutella Hazelnut Spread With Cocoa')\n",
      "(u'Nutella,Ferrero', '----------', u'Nutella ')\n",
      "(u'Ferrero', '----------', u'Estathe Bottiglia Limone ML. 1500')\n",
      "(u'Ferrero,Nutella', '----------', u'Nutella')\n",
      "(u'Ferrero,Kinder', '----------', u'Kinder Cioccolato')\n",
      "(u'Ferrero,EstaThe', '----------', u'Estath\\xe9 limone')\n",
      "(u'Kinder,Ferrero', '----------', u'Kinder Chocolat')\n",
      "(u'Ferrero', '----------', u'Kinder Chocolate')\n",
      "(u'Kinder,Ferrero', '----------', u'Kinder country')\n",
      "(u'Ferrero,Tic Tac', '----------', u'Tic Tac Menthe Extra Fra\\xeeche')\n",
      "(u'Nutella,Ferrero', '----------', u'nutella')\n",
      "(u'Ferrero,Kinder', '----------', u'Kinder Bueno White')\n",
      "(u'Kinder Bueno,Ferrero', '----------', u'Kinder Bueno White')\n",
      "(u'Kinder ,Ferrero', '----------', u'\\u5065\\u9054\\u5947\\u8da3\\u86cb(\\u5973\\u5b69\\u7248)')\n",
      "(u'Tic tac,Ferrero', '----------', u'Tic tac')\n",
      "(u'Ferrero', '----------', u'Nutella')\n",
      "(u'Tic Tac,Ferrero', '----------', u'Tic Tac Citron Vert & Orange')\n",
      "(u'Kinder,Ferrero', '----------', u'Kinder Joy Egg')\n",
      "(u'Kinder,Ferrero', '----------', u'Kinder surprise maxi infinimix')\n",
      "(u'Ferrero', '----------', u'Nutella')\n",
      "(u'Ferrero', '----------', u'Kinder Chocolate')\n",
      "(u'Ferrero,Nutella', '----------', u'Nutella')\n"
     ]
    }
   ],
   "source": [
    "ferrero2=coll.find({'brands' : {'$regex':'.*Ferrero.*'} })\n",
    "print(\"Number of found products: \",ferrero2.count())\n",
    "for p in ferrero2:\n",
    "    try:\n",
    "        print(p['brands'],\"-\"*10,p['product_name'])\n",
    "    except:\n",
    "        print(\"WARNING! - PRODUCT NAME NOT AVAILABLE\")"
   ]
  },
  {
   "cell_type": "markdown",
   "metadata": {},
   "source": [
    "More complex queries can be configured by applying logical operators and comparison symbols, such as `$and, $or`, `$gt` (greater then) and `$lt` (smaller then). E.g. in the next cell all products with more than 3000 kJ and more than 60g fat per 100g are obtained:  "
   ]
  },
  {
   "cell_type": "code",
   "execution_count": 19,
   "metadata": {
    "ExecuteTime": {
     "end_time": "2017-11-20T17:15:50.625000Z",
     "start_time": "2017-11-20T18:15:50.620000+01:00"
    },
    "collapsed": true
   },
   "outputs": [],
   "source": [
    "heavy=coll.find(\n",
    "{\n",
    "     '$and': [\n",
    "            { 'energy_100g' : { '$gt': 3000.0 } },\n",
    "            { 'fat_100g'    : { '$gt': 60.0 } }\n",
    "          ]\n",
    "}\n",
    ")"
   ]
  },
  {
   "cell_type": "code",
   "execution_count": 20,
   "metadata": {
    "ExecuteTime": {
     "end_time": "2017-11-20T17:16:00.690000Z",
     "start_time": "2017-11-20T18:16:00.055000+01:00"
    }
   },
   "outputs": [
    {
     "data": {
      "text/plain": [
       "4200"
      ]
     },
     "execution_count": 20,
     "metadata": {},
     "output_type": "execute_result"
    }
   ],
   "source": [
    "heavy.count()"
   ]
  },
  {
   "cell_type": "markdown",
   "metadata": {},
   "source": [
    "The `next()`-operator can be obtained to iterate through all items of a query-result:"
   ]
  },
  {
   "cell_type": "code",
   "execution_count": 21,
   "metadata": {
    "ExecuteTime": {
     "end_time": "2017-11-20T17:16:10.844000Z",
     "start_time": "2017-11-20T18:16:10.814000+01:00"
    }
   },
   "outputs": [
    {
     "name": "stdout",
     "output_type": "stream",
     "text": [
      "----------\n",
      "Organic Sunflower Oil\n",
      "3586\n",
      "100\n",
      "----------\n",
      "Organic Extra Virgin Olive Oil\n",
      "3586\n",
      "100\n",
      "----------\n",
      "Organic Canola Oil Refined\n",
      "3586\n",
      "100\n",
      "----------\n",
      "Organic Unrefined Extra Virgin Coconut Oil\n",
      "3586\n",
      "100\n",
      "----------\n",
      "100% Pure Canola Oil\n",
      "3586\n",
      "100\n",
      "----------\n",
      "Imported Olive Oil\n",
      "3347\n",
      "93.33\n",
      "----------\n",
      "Extra Virgin Olive Oil\n",
      "3347\n",
      "93.33\n",
      "----------\n",
      "Olive Oil\n",
      "3347\n",
      "93.33\n",
      "----------\n",
      "Ventura, Soybean - Peanut Frying Oil Blend\n",
      "3586\n",
      "100\n",
      "----------\n",
      "Extra Virgin Olive Oil\n",
      "3586\n",
      "100\n"
     ]
    }
   ],
   "source": [
    "for i in range(10): #list the first 10 items\n",
    "    p=next(heavy)\n",
    "    print('-'*10)\n",
    "    print(p['product_name'])\n",
    "    print(p['energy_100g'])\n",
    "    print(p['fat_100g'])"
   ]
  },
  {
   "cell_type": "markdown",
   "metadata": {},
   "source": [
    "In order to retrieve all products with completed nutrition facts, the following query can be applied:"
   ]
  },
  {
   "cell_type": "code",
   "execution_count": 22,
   "metadata": {
    "ExecuteTime": {
     "end_time": "2017-11-20T17:16:29.145000Z",
     "start_time": "2017-11-20T18:16:29.142000+01:00"
    },
    "collapsed": true
   },
   "outputs": [],
   "source": [
    "nutritionProds=coll.find({'states' : {'$regex':'.*en:nutrition-facts-completed.*'} })"
   ]
  },
  {
   "cell_type": "code",
   "execution_count": 23,
   "metadata": {
    "ExecuteTime": {
     "end_time": "2017-11-20T17:16:34.824000Z",
     "start_time": "2017-11-20T18:16:31.314000+01:00"
    }
   },
   "outputs": [
    {
     "data": {
      "text/plain": [
       "309604"
      ]
     },
     "execution_count": 23,
     "metadata": {},
     "output_type": "execute_result"
    }
   ],
   "source": [
    "nutritionProds.count()"
   ]
  },
  {
   "cell_type": "code",
   "execution_count": 24,
   "metadata": {
    "ExecuteTime": {
     "end_time": "2017-11-20T17:17:11.627000Z",
     "start_time": "2017-11-20T18:17:10.957000+01:00"
    },
    "collapsed": true
   },
   "outputs": [],
   "source": [
    "cats=coll.distinct('countries_tags')"
   ]
  },
  {
   "cell_type": "markdown",
   "metadata": {},
   "source": [
    "Get all countries:"
   ]
  },
  {
   "cell_type": "code",
   "execution_count": 25,
   "metadata": {
    "ExecuteTime": {
     "end_time": "2017-11-20T17:17:19.375000Z",
     "start_time": "2017-11-20T18:17:19.368000+01:00"
    }
   },
   "outputs": [
    {
     "name": "stdout",
     "output_type": "stream",
     "text": [
      "[u'en:egypt', u'en:indonesia', u'en:guinea-bissau', u'en:switzerland', u'en:yemen', u'en:united-states', u'en:austria', u'en:greece', u'en:slovakia', u'en:french-polynesia', u'en:georgia', u'en:turkey', u'en:algeria', u'en:russia', u'fr:grande-bretagne', u'en:ukraine', u'en:oman', u'en:sri-lanka', u'en:el-salvador', u'en:poland']\n",
      "224\n"
     ]
    }
   ],
   "source": [
    "countries=set()\n",
    "for c in cats:\n",
    "    for s in c.split(','):\n",
    "        countries.add(s)\n",
    "print(list(countries)[:20])\n",
    "print(len(countries))"
   ]
  },
  {
   "cell_type": "markdown",
   "metadata": {},
   "source": [
    "Find all Products which are sold in Germany:"
   ]
  },
  {
   "cell_type": "code",
   "execution_count": 26,
   "metadata": {
    "ExecuteTime": {
     "end_time": "2017-11-20T17:18:28.190000Z",
     "start_time": "2017-11-20T18:18:27.666000+01:00"
    }
   },
   "outputs": [
    {
     "name": "stdout",
     "output_type": "stream",
     "text": [
      "714\n"
     ]
    }
   ],
   "source": [
    "germanProds=coll.find({'countries' : {'$regex':'.*[gG]erman.*'} })\n",
    "print(germanProds.count())"
   ]
  },
  {
   "cell_type": "code",
   "execution_count": 27,
   "metadata": {
    "ExecuteTime": {
     "end_time": "2017-11-20T17:18:47.478000Z",
     "start_time": "2017-11-20T18:18:46.973000+01:00"
    }
   },
   "outputs": [
    {
     "data": {
      "text/plain": [
       "[u'Germany',\n",
       " u'United States,Germany',\n",
       " u'Germany,Switzerland',\n",
       " u'Germany,Spain',\n",
       " u'Germany,United Kingdom,United States',\n",
       " u'France,Germany',\n",
       " u'Germany,United States',\n",
       " u'Germany,Portugal,Spain',\n",
       " u'Germany, en:france,France',\n",
       " u'Germany,France',\n",
       " u'Belgium,France,Germany,Ireland,Netherlands,Portugal,Spain,United Kingdom',\n",
       " u'Belgique,France,Suisse, en:germany',\n",
       " u'France,Germany,Switzerland',\n",
       " u'Austria,France,Germany,Italy,Netherlands,Switzerland',\n",
       " u'Denmark,France,Germany,Hungary,Portugal,Serbia,Spain,Switzerland,United Kingdom',\n",
       " u'France, en:germany',\n",
       " u'Belgium,France,Germany,Italy,Netherlands,Portugal,Spain,Switzerland,United Kingdom',\n",
       " u'Germany, Suisse',\n",
       " u'Belgium,France,Germany,Switzerland',\n",
       " u'Australia,Czech Republic,France,Germany,Hungary']"
      ]
     },
     "execution_count": 27,
     "metadata": {},
     "output_type": "execute_result"
    }
   ],
   "source": [
    "germanProds.distinct('countries')[:20]"
   ]
  },
  {
   "cell_type": "markdown",
   "metadata": {},
   "source": [
    "## Import collection from MongoDB into Pandas dataframe"
   ]
  },
  {
   "cell_type": "code",
   "execution_count": 28,
   "metadata": {
    "ExecuteTime": {
     "end_time": "2017-11-20T17:19:03.863000Z",
     "start_time": "2017-11-20T18:18:57.132000+01:00"
    },
    "collapsed": true
   },
   "outputs": [],
   "source": [
    "import pandas as pd"
   ]
  },
  {
   "cell_type": "code",
   "execution_count": 29,
   "metadata": {
    "ExecuteTime": {
     "end_time": "2017-11-20T17:20:01.068000Z",
     "start_time": "2017-11-20T18:20:00.423000+01:00"
    },
    "collapsed": true
   },
   "outputs": [],
   "source": [
    "df=pd.DataFrame(list(germanProds))"
   ]
  },
  {
   "cell_type": "code",
   "execution_count": 30,
   "metadata": {
    "ExecuteTime": {
     "end_time": "2017-11-20T17:20:53.338000Z",
     "start_time": "2017-11-20T18:20:53.317000+01:00"
    }
   },
   "outputs": [
    {
     "name": "stdout",
     "output_type": "stream",
     "text": [
      "     -alpha-linolenic-acid_100g  -capric-acid_100g  -caprylic-acid_100g  \\\n",
      "709                         NaN                NaN                  NaN   \n",
      "710                         NaN                NaN                  NaN   \n",
      "711                         NaN                NaN                  NaN   \n",
      "712                         NaN                NaN                  NaN   \n",
      "713                         NaN                NaN                  NaN   \n",
      "\n",
      "     -docosahexaenoic-acid_100g  -eicosapentaenoic-acid_100g  -lactose_100g  \\\n",
      "709                         NaN                          NaN            NaN   \n",
      "710                         NaN                          NaN            NaN   \n",
      "711                         NaN                          NaN            NaN   \n",
      "712                         NaN                          NaN            NaN   \n",
      "713                         NaN                          NaN            NaN   \n",
      "\n",
      "     -lauric-acid_100g  -linoleic-acid_100g  -myristic-acid_100g  \\\n",
      "709                NaN                  NaN                  NaN   \n",
      "710                NaN                  NaN                  NaN   \n",
      "711                NaN                  NaN                  NaN   \n",
      "712                NaN                  NaN                  NaN   \n",
      "713                NaN                  NaN                  NaN   \n",
      "\n",
      "     -oleic-acid_100g    ...      vitamin-b12_100g  vitamin-b1_100g  \\\n",
      "709               NaN    ...                   NaN              NaN   \n",
      "710               NaN    ...                   NaN              NaN   \n",
      "711               NaN    ...                   NaN              NaN   \n",
      "712               NaN    ...                   NaN              NaN   \n",
      "713               NaN    ...                   NaN              NaN   \n",
      "\n",
      "    vitamin-b2_100g vitamin-b6_100g vitamin-b9_100g  vitamin-c_100g  \\\n",
      "709             NaN             NaN             NaN             NaN   \n",
      "710             NaN             NaN             NaN           0.032   \n",
      "711             NaN             NaN             NaN             NaN   \n",
      "712             NaN             NaN             NaN             NaN   \n",
      "713             NaN             NaN             NaN           0.000   \n",
      "\n",
      "    vitamin-d_100g  vitamin-e_100g vitamin-pp_100g  zinc_100g  \n",
      "709            NaN             NaN             NaN        NaN  \n",
      "710            NaN             NaN             NaN        NaN  \n",
      "711            NaN             NaN             NaN        NaN  \n",
      "712            NaN             NaN             NaN        NaN  \n",
      "713            NaN             NaN             NaN        NaN  \n",
      "\n",
      "[5 rows x 112 columns]\n"
     ]
    }
   ],
   "source": [
    "print(df.tail())"
   ]
  },
  {
   "cell_type": "code",
   "execution_count": 31,
   "metadata": {
    "ExecuteTime": {
     "end_time": "2017-11-20T17:20:03.268000Z",
     "start_time": "2017-11-20T18:20:03.263000+01:00"
    }
   },
   "outputs": [
    {
     "data": {
      "text/plain": [
       "(714, 112)"
      ]
     },
     "execution_count": 31,
     "metadata": {},
     "output_type": "execute_result"
    }
   ],
   "source": [
    "df.shape"
   ]
  },
  {
   "cell_type": "markdown",
   "metadata": {},
   "source": [
    "### Define subset of relevant columns\n",
    "In a first step all columns of the German dataframe, which have more than 500 values are determined:"
   ]
  },
  {
   "cell_type": "code",
   "execution_count": 32,
   "metadata": {
    "ExecuteTime": {
     "end_time": "2017-11-20T17:21:14.152000Z",
     "start_time": "2017-11-20T18:21:13.816000+01:00"
    }
   },
   "outputs": [
    {
     "name": "stdout",
     "output_type": "stream",
     "text": [
      "[u'_id', u'additives', u'additives_n', u'brands', u'brands_tags', u'carbohydrates_100g', u'categories', u'categories_en', u'categories_tags', u'code', u'countries', u'countries_en', u'countries_tags', u'created_datetime', u'created_t', u'creator', u'energy_100g', u'fat_100g', u'ingredients_from_palm_oil_n', u'ingredients_text', u'ingredients_that_may_be_from_palm_oil_n', u'last_modified_datetime', u'last_modified_t', u'main_category', u'main_category_en', u'nutrition-score-fr_100g', u'nutrition-score-uk_100g', u'nutrition_grade_fr', u'packaging', u'packaging_tags', u'pnns_groups_1', u'pnns_groups_2', u'product_name', u'proteins_100g', u'quantity', u'salt_100g', u'saturated-fat_100g', u'sodium_100g', u'states', u'states_en', u'states_tags', u'sugars_100g', u'url']\n"
     ]
    }
   ],
   "source": [
    "relCols=[]\n",
    "for c in df.columns:\n",
    "    if df[c].dropna().count()>500:\n",
    "        relCols.append(c)\n",
    "print(relCols)"
   ]
  },
  {
   "cell_type": "markdown",
   "metadata": {},
   "source": [
    "From the column subset generated above a further subset of interesting columns is manually configured:"
   ]
  },
  {
   "cell_type": "code",
   "execution_count": 33,
   "metadata": {
    "ExecuteTime": {
     "end_time": "2017-11-20T17:21:42.587000Z",
     "start_time": "2017-11-20T18:21:42.583000+01:00"
    },
    "collapsed": true
   },
   "outputs": [],
   "source": [
    "relCols=['brands','product_name','main_category','energy_100g', 'fat_100g','proteins_100g','salt_100g','carbohydrates_100g','sugars_100g', 'sodium_100g', 'saturated-fat_100g']"
   ]
  },
  {
   "cell_type": "markdown",
   "metadata": {},
   "source": [
    "Drop all rows of the German dataframe, which have non-values in the relevant columns:"
   ]
  },
  {
   "cell_type": "code",
   "execution_count": 34,
   "metadata": {
    "ExecuteTime": {
     "end_time": "2017-11-20T17:21:53.466000Z",
     "start_time": "2017-11-20T18:21:53.417000+01:00"
    },
    "collapsed": true
   },
   "outputs": [],
   "source": [
    "dfclean=df[relCols].dropna()"
   ]
  },
  {
   "cell_type": "markdown",
   "metadata": {},
   "source": [
    "### Descriptive Statistics and visualization\n",
    "Calculate some descriptive statistics:"
   ]
  },
  {
   "cell_type": "code",
   "execution_count": 35,
   "metadata": {
    "ExecuteTime": {
     "end_time": "2017-11-20T17:21:59.366000Z",
     "start_time": "2017-11-20T18:21:59.290000+01:00"
    }
   },
   "outputs": [
    {
     "data": {
      "text/html": [
       "<div>\n",
       "<style>\n",
       "    .dataframe thead tr:only-child th {\n",
       "        text-align: right;\n",
       "    }\n",
       "\n",
       "    .dataframe thead th {\n",
       "        text-align: left;\n",
       "    }\n",
       "\n",
       "    .dataframe tbody tr th {\n",
       "        vertical-align: top;\n",
       "    }\n",
       "</style>\n",
       "<table border=\"1\" class=\"dataframe\">\n",
       "  <thead>\n",
       "    <tr style=\"text-align: right;\">\n",
       "      <th></th>\n",
       "      <th>energy_100g</th>\n",
       "      <th>fat_100g</th>\n",
       "      <th>proteins_100g</th>\n",
       "      <th>salt_100g</th>\n",
       "      <th>carbohydrates_100g</th>\n",
       "      <th>sugars_100g</th>\n",
       "      <th>sodium_100g</th>\n",
       "      <th>saturated-fat_100g</th>\n",
       "    </tr>\n",
       "  </thead>\n",
       "  <tbody>\n",
       "    <tr>\n",
       "      <th>count</th>\n",
       "      <td>466.000000</td>\n",
       "      <td>466.000000</td>\n",
       "      <td>466.000000</td>\n",
       "      <td>466.000000</td>\n",
       "      <td>466.000000</td>\n",
       "      <td>466.000000</td>\n",
       "      <td>466.000000</td>\n",
       "      <td>466.000000</td>\n",
       "    </tr>\n",
       "    <tr>\n",
       "      <th>mean</th>\n",
       "      <td>1251.597639</td>\n",
       "      <td>15.797116</td>\n",
       "      <td>8.633433</td>\n",
       "      <td>0.852519</td>\n",
       "      <td>29.638734</td>\n",
       "      <td>14.521094</td>\n",
       "      <td>0.335632</td>\n",
       "      <td>6.537835</td>\n",
       "    </tr>\n",
       "    <tr>\n",
       "      <th>std</th>\n",
       "      <td>828.731115</td>\n",
       "      <td>18.379247</td>\n",
       "      <td>10.436273</td>\n",
       "      <td>2.160974</td>\n",
       "      <td>27.057874</td>\n",
       "      <td>19.500017</td>\n",
       "      <td>0.850757</td>\n",
       "      <td>8.744876</td>\n",
       "    </tr>\n",
       "    <tr>\n",
       "      <th>min</th>\n",
       "      <td>0.000000</td>\n",
       "      <td>0.000000</td>\n",
       "      <td>0.000000</td>\n",
       "      <td>0.000000</td>\n",
       "      <td>0.000000</td>\n",
       "      <td>0.000000</td>\n",
       "      <td>0.000000</td>\n",
       "      <td>0.000000</td>\n",
       "    </tr>\n",
       "    <tr>\n",
       "      <th>25%</th>\n",
       "      <td>398.750000</td>\n",
       "      <td>1.400000</td>\n",
       "      <td>2.125000</td>\n",
       "      <td>0.050000</td>\n",
       "      <td>5.125000</td>\n",
       "      <td>1.800000</td>\n",
       "      <td>0.019685</td>\n",
       "      <td>0.300000</td>\n",
       "    </tr>\n",
       "    <tr>\n",
       "      <th>50%</th>\n",
       "      <td>1366.500000</td>\n",
       "      <td>7.500000</td>\n",
       "      <td>6.100000</td>\n",
       "      <td>0.275000</td>\n",
       "      <td>16.600000</td>\n",
       "      <td>5.000000</td>\n",
       "      <td>0.108268</td>\n",
       "      <td>2.400000</td>\n",
       "    </tr>\n",
       "    <tr>\n",
       "      <th>75%</th>\n",
       "      <td>1866.500000</td>\n",
       "      <td>28.000000</td>\n",
       "      <td>11.000000</td>\n",
       "      <td>1.100000</td>\n",
       "      <td>55.925000</td>\n",
       "      <td>20.800000</td>\n",
       "      <td>0.433071</td>\n",
       "      <td>10.875000</td>\n",
       "    </tr>\n",
       "    <tr>\n",
       "      <th>max</th>\n",
       "      <td>3853.000000</td>\n",
       "      <td>99.900000</td>\n",
       "      <td>82.000000</td>\n",
       "      <td>35.560000</td>\n",
       "      <td>100.000000</td>\n",
       "      <td>100.000000</td>\n",
       "      <td>14.000000</td>\n",
       "      <td>65.800000</td>\n",
       "    </tr>\n",
       "  </tbody>\n",
       "</table>\n",
       "</div>"
      ],
      "text/plain": [
       "       energy_100g    fat_100g  proteins_100g   salt_100g  carbohydrates_100g  \\\n",
       "count   466.000000  466.000000     466.000000  466.000000          466.000000   \n",
       "mean   1251.597639   15.797116       8.633433    0.852519           29.638734   \n",
       "std     828.731115   18.379247      10.436273    2.160974           27.057874   \n",
       "min       0.000000    0.000000       0.000000    0.000000            0.000000   \n",
       "25%     398.750000    1.400000       2.125000    0.050000            5.125000   \n",
       "50%    1366.500000    7.500000       6.100000    0.275000           16.600000   \n",
       "75%    1866.500000   28.000000      11.000000    1.100000           55.925000   \n",
       "max    3853.000000   99.900000      82.000000   35.560000          100.000000   \n",
       "\n",
       "       sugars_100g  sodium_100g  saturated-fat_100g  \n",
       "count   466.000000   466.000000          466.000000  \n",
       "mean     14.521094     0.335632            6.537835  \n",
       "std      19.500017     0.850757            8.744876  \n",
       "min       0.000000     0.000000            0.000000  \n",
       "25%       1.800000     0.019685            0.300000  \n",
       "50%       5.000000     0.108268            2.400000  \n",
       "75%      20.800000     0.433071           10.875000  \n",
       "max     100.000000    14.000000           65.800000  "
      ]
     },
     "execution_count": 35,
     "metadata": {},
     "output_type": "execute_result"
    }
   ],
   "source": [
    "dfclean.describe()"
   ]
  },
  {
   "cell_type": "code",
   "execution_count": 36,
   "metadata": {
    "ExecuteTime": {
     "end_time": "2017-11-20T17:23:24.748000Z",
     "start_time": "2017-11-20T18:23:22.474000+01:00"
    }
   },
   "outputs": [
    {
     "data": {
      "image/png": "[encoded data removed]",
      "text/plain": [
       "<matplotlib.figure.Figure at 0x1eb22860>"
      ]
     },
     "metadata": {},
     "output_type": "display_data"
    }
   ],
   "source": [
    "%matplotlib inline\n",
    "from matplotlib import pyplot as plt\n",
    "df.plot('sugars_100g','energy_100g',kind=\"scatter\")\n",
    "plt.show()"
   ]
  },
  {
   "cell_type": "code",
   "execution_count": 37,
   "metadata": {
    "ExecuteTime": {
     "end_time": "2017-11-20T17:23:29.043000Z",
     "start_time": "2017-11-20T18:23:28.834000+01:00"
    }
   },
   "outputs": [
    {
     "data": {
      "image/png": "[encoded data removed]",
      "text/plain": [
       "<matplotlib.figure.Figure at 0x1cb31b70>"
      ]
     },
     "metadata": {},
     "output_type": "display_data"
    }
   ],
   "source": [
    "df.plot('fat_100g','energy_100g',kind=\"scatter\")\n",
    "plt.show()"
   ]
  },
  {
   "cell_type": "code",
   "execution_count": 38,
   "metadata": {
    "ExecuteTime": {
     "end_time": "2017-11-20T17:23:33.717000Z",
     "start_time": "2017-11-20T18:23:33.521000+01:00"
    }
   },
   "outputs": [
    {
     "data": {
      "image/png": "[encoded data removed]",
      "text/plain": [
       "<matplotlib.figure.Figure at 0x1f2892b0>"
      ]
     },
     "metadata": {},
     "output_type": "display_data"
    }
   ],
   "source": [
    "df.plot('sugars_100g','fat_100g',kind=\"scatter\")\n",
    "plt.show()"
   ]
  },
  {
   "cell_type": "markdown",
   "metadata": {},
   "source": [
    "Interprete these plots!"
   ]
  },
  {
   "cell_type": "code",
   "execution_count": 39,
   "metadata": {
    "ExecuteTime": {
     "end_time": "2017-11-21T12:59:55.897000Z",
     "start_time": "2017-11-21T13:59:55.797000+01:00"
    },
    "collapsed": true
   },
   "outputs": [],
   "source": [
    "dfclean.to_csv(\"germanProductSubset.csv\",encoding=\"utf-8\")"
   ]
  },
  {
   "cell_type": "code",
   "execution_count": null,
   "metadata": {
    "collapsed": true
   },
   "outputs": [],
   "source": []
  }
 ],
 "metadata": {
  "anaconda-cloud": {},
  "kernelspec": {
   "display_name": "Python [conda env:condatascience]",
   "language": "python",
   "name": "conda-env-condatascience-py"
  },
  "language_info": {
   "codemirror_mode": {
    "name": "ipython",
    "version": 2
   },
   "file_extension": ".py",
   "mimetype": "text/x-python",
   "name": "python",
   "nbconvert_exporter": "python",
   "pygments_lexer": "ipython2",
   "version": "2.7.13"
  },
  "nav_menu": {},
  "toc": {
   "navigate_menu": true,
   "number_sections": true,
   "sideBar": true,
   "threshold": 6,
   "toc_cell": false,
   "toc_section_display": "block",
   "toc_window_display": false
  }
 },
 "nbformat": 4,
 "nbformat_minor": 2
}

{
 "cells": [
  {
   "cell_type": "markdown",
   "metadata": {},
   "source": [
    "# Access MongoDB\n",
    "\n",
    "* Author: Johannes Maucher\n",
    "* Last Update: 30.10.2017"
   ]
  },
  {
   "cell_type": "markdown",
   "metadata": {},
   "source": [
    "<figure align=\"center\">\n",
    "<img width=\"800\" src=\"https://maucher.home.hdm-stuttgart.de/Pics/DS_Python_Database_All.png\">\n",
    "</figure>"
   ]
  },
  {
   "cell_type": "markdown",
   "metadata": {},
   "source": [
    "## Prerequisites\n",
    "For the experiments in this notebook MongoDB must be installed. It can be downloaded from [MongoDB Community Server Download](https://www.mongodb.com/download-center#community). After installation the MongoDB environment must be set up as described in the [MongoDB installation and setup tutorial](https://docs.mongodb.com/manual/tutorial). As described in this tutorial a data directory for MongoDB must be defined. \n",
    "\n",
    "### On my Windows machines\n",
    "1. My MongoDB data directory is `d:\\test\\mongodb\\data`. (xxxJM: On thinkpad the path is C:\\Users\\maucher\\DataSets\\world-food-facts)\n",
    "2. The following command starts the MongoDB server: ``C:\\Program Files\\MongoDB\\Server\\3.4\\bin\\mongod.exe\" --dbpath d:\\test\\mongodb\\data``\n",
    "3. The example data used in this notebook comes from [OpenFoodFacts](https://world.openfoodfacts.org/data). A .tsv dump of OpenFoodFacts can be accessed from the corresponding [Kaggle Open Food Facts contest](https://www.kaggle.com/openfoodfacts/world-food-facts/version/5). Download this .tsv file and move it to your   MongoDB data directory. \n",
    "\n",
    "4. Apply the *mongoimport*-command to import the *.tsv*-dump into the MongoDB database by typing the following command into a shell: ``C:\\Program Files\\MongoDB\\Server\\3.4\\bin\\mongoimport.exe\" --db fooddata --type tsv --file d:\\test\\mongodb\\data\\en.openfoodfacts.org.products.tsv --ignoreBlanks --headerline``"
   ]
  },
  {
   "cell_type": "markdown",
   "metadata": {},
   "source": [
    "### On my Macbooks\n",
    "\n",
    "1. Install homebrew (paketmanager for MAC) as described here: [https://brew.sh/index_de](https://brew.sh/index_de)\n",
    "2. In terminal type ``brew install mongodb``\n",
    "3. Create data directory for MongoDB. On my Macbook this is ``/Users/johannes/DataSets/mongodb/data``\n",
    "4. Run mongodb: ``mongod --dbpath /Users/johannes/DataSets/mongodb/data``\n",
    "5. Download .tsv OpenFoodFacts data from [Kaggle Open Food Facts contest](https://www.kaggle.com/openfoodfacts/world-food-facts/version/5) and move it into your MongoDB data directory.\n",
    "6. Import data from .tsv into your MongoDB: ``mongoimport --db fooddata --type tsv --file /Users/johannes/DataSets/mongodb/data/en.openfoodfacts.org.products.tsv --ignoreBlanks --headerline``"
   ]
  },
  {
   "cell_type": "markdown",
   "metadata": {},
   "source": [
    "## Access local Open Food Facts MongoDB\n",
    "\n",
    "Note that the MongoDB Server must run in order to execute the following client-actions. On my Mac the command to run the MongoDB server is: ``mongod --dbpath /Users/johannes/DataSets/mongodb/data``.\n",
    "\n",
    "The `pymongo`- package must be installed, e.g. by `pip install pymongo`. Then the local *Open Food Facts-MongoDB* can be accessed as demonstrated in this notebook. [pymongo tutorial](http://api.mongodb.com/python/current/tutorial.html) provides a quick *pymongo*-introduction.  \n"
   ]
  },
  {
   "cell_type": "code",
   "execution_count": 6,
   "metadata": {},
   "outputs": [],
   "source": [
    "#!pip install pymongo"
   ]
  },
  {
   "cell_type": "code",
   "execution_count": 23,
   "metadata": {
    "ExecuteTime": {
     "end_time": "2017-11-20T14:36:57.202000Z",
     "start_time": "2017-11-20T15:36:56.965000+01:00"
    }
   },
   "outputs": [],
   "source": [
    "import pymongo\n",
    "import pprint"
   ]
  },
  {
   "cell_type": "markdown",
   "metadata": {},
   "source": [
    "Create MongoDB client and connect to the running MongoDB server:"
   ]
  },
  {
   "cell_type": "code",
   "execution_count": 24,
   "metadata": {
    "ExecuteTime": {
     "end_time": "2017-11-20T17:07:17.376000Z",
     "start_time": "2017-11-20T18:07:17.365000+01:00"
    }
   },
   "outputs": [],
   "source": [
    "from pymongo import MongoClient\n",
    "client = MongoClient()"
   ]
  },
  {
   "cell_type": "code",
   "execution_count": 25,
   "metadata": {},
   "outputs": [],
   "source": [
    "client = MongoClient('mongodb://localhost:27017/')"
   ]
  },
  {
   "cell_type": "code",
   "execution_count": 27,
   "metadata": {
    "ExecuteTime": {
     "end_time": "2017-11-20T17:08:03.904000Z",
     "start_time": "2017-11-20T18:08:03.840000+01:00"
    }
   },
   "outputs": [
    {
     "name": "stdout",
     "output_type": "stream",
     "text": [
      "('localhost', 27017)\n",
      "Database(MongoClient(host=['localhost:27017'], document_class=dict, tz_aware=False, connect=True), 'list_database_names')\n"
     ]
    }
   ],
   "source": [
    "print(client.address)\n",
    "print(client.list_database_names)"
   ]
  },
  {
   "cell_type": "markdown",
   "metadata": {},
   "source": [
    "Select the `fooddata`-database:"
   ]
  },
  {
   "cell_type": "code",
   "execution_count": 28,
   "metadata": {
    "ExecuteTime": {
     "end_time": "2017-11-20T17:08:16.842000Z",
     "start_time": "2017-11-20T18:08:16.838000+01:00"
    }
   },
   "outputs": [],
   "source": [
    "db = client['fooddata']"
   ]
  },
  {
   "cell_type": "markdown",
   "metadata": {},
   "source": [
    "In MongoDB *collections* are like tables in other database types. A list of all collection names can be obtained as follows:"
   ]
  },
  {
   "cell_type": "code",
   "execution_count": 30,
   "metadata": {
    "ExecuteTime": {
     "end_time": "2017-11-20T17:08:36.027000Z",
     "start_time": "2017-11-20T18:08:36.020000+01:00"
    }
   },
   "outputs": [
    {
     "name": "stdout",
     "output_type": "stream",
     "text": [
      "fooddata\n",
      "Collection(Database(MongoClient(host=['localhost:27017'], document_class=dict, tz_aware=False, connect=True), 'fooddata'), 'list_collection_names')\n"
     ]
    }
   ],
   "source": [
    "print(db.name)\n",
    "print(db.list_collection_names)"
   ]
  },
  {
   "cell_type": "markdown",
   "metadata": {},
   "source": [
    "## Access a database collection (a table of the database)\n",
    "Create the interface to the collection (table):"
   ]
  },
  {
   "cell_type": "code",
   "execution_count": 31,
   "metadata": {
    "ExecuteTime": {
     "end_time": "2017-11-20T17:08:45.067000Z",
     "start_time": "2017-11-20T18:08:45.064000+01:00"
    }
   },
   "outputs": [],
   "source": [
    "coll=db.get_collection('en.openfoodfacts.org.products')"
   ]
  },
  {
   "cell_type": "markdown",
   "metadata": {},
   "source": [
    "Determine the number of items in the collection (rows in the table):"
   ]
  },
  {
   "cell_type": "code",
   "execution_count": 33,
   "metadata": {
    "ExecuteTime": {
     "end_time": "2017-11-20T17:09:10.135000Z",
     "start_time": "2017-11-20T18:09:10.112000+01:00"
    }
   },
   "outputs": [
    {
     "data": {
      "text/plain": [
       "Collection(Database(MongoClient(host=['localhost:27017'], document_class=dict, tz_aware=False, connect=True), 'fooddata'), 'en.openfoodfacts.org.products.estimated_document_count')"
      ]
     },
     "execution_count": 33,
     "metadata": {},
     "output_type": "execute_result"
    }
   ],
   "source": [
    "coll.estimated_document_count"
   ]
  },
  {
   "cell_type": "code",
   "execution_count": 34,
   "metadata": {},
   "outputs": [
    {
     "data": {
      "text/plain": [
       "{'_id': ObjectId('5ae619b0817e1ce6df49e332'),\n",
       " 'brands': \"Ferme t'y R'nao\",\n",
       " 'brands_tags': 'ferme-t-y-r-nao',\n",
       " 'code': 3087,\n",
       " 'countries': 'en:FR',\n",
       " 'countries_en': 'France',\n",
       " 'countries_tags': 'en:france',\n",
       " 'created_datetime': '2016-09-17T09:17:46Z',\n",
       " 'created_t': 1474103866,\n",
       " 'creator': 'openfoodfacts-contributors',\n",
       " 'last_modified_datetime': '2016-09-17T09:18:13Z',\n",
       " 'last_modified_t': 1474103893,\n",
       " 'product_name': 'Farine de blé noir',\n",
       " 'quantity': '1kg',\n",
       " 'states': 'en:to-be-completed, en:nutrition-facts-to-be-completed, en:ingredients-to-be-completed, en:expiration-date-to-be-completed, en:characteristics-to-be-completed, en:categories-to-be-completed, en:brands-completed, en:packaging-to-be-completed, en:quantity-completed, en:product-name-completed, en:photos-to-be-validated, en:photos-uploaded',\n",
       " 'states_en': 'To be completed,Nutrition facts to be completed,Ingredients to be completed,Expiration date to be completed,Characteristics to be completed,Categories to be completed,Brands completed,Packaging to be completed,Quantity completed,Product name completed,Photos to be validated,Photos uploaded',\n",
       " 'states_tags': 'en:to-be-completed,en:nutrition-facts-to-be-completed,en:ingredients-to-be-completed,en:expiration-date-to-be-completed,en:characteristics-to-be-completed,en:categories-to-be-completed,en:brands-completed,en:packaging-to-be-completed,en:quantity-completed,en:product-name-completed,en:photos-to-be-validated,en:photos-uploaded',\n",
       " 'url': 'http://world-en.openfoodfacts.org/product/0000000003087/farine-de-ble-noir-ferme-t-y-r-nao'}"
      ]
     },
     "execution_count": 34,
     "metadata": {},
     "output_type": "execute_result"
    }
   ],
   "source": [
    "coll.find_one()"
   ]
  },
  {
   "cell_type": "markdown",
   "metadata": {},
   "source": [
    "### Get items of the collection\n",
    "Retrieve first element of the database:"
   ]
  },
  {
   "cell_type": "code",
   "execution_count": 35,
   "metadata": {
    "ExecuteTime": {
     "end_time": "2017-11-20T17:09:22.364000Z",
     "start_time": "2017-11-20T18:09:22.330000+01:00"
    }
   },
   "outputs": [
    {
     "name": "stdout",
     "output_type": "stream",
     "text": [
      "{'_id': ObjectId('5ae619b0817e1ce6df49e332'),\n",
      " 'brands': \"Ferme t'y R'nao\",\n",
      " 'brands_tags': 'ferme-t-y-r-nao',\n",
      " 'code': 3087,\n",
      " 'countries': 'en:FR',\n",
      " 'countries_en': 'France',\n",
      " 'countries_tags': 'en:france',\n",
      " 'created_datetime': '2016-09-17T09:17:46Z',\n",
      " 'created_t': 1474103866,\n",
      " 'creator': 'openfoodfacts-contributors',\n",
      " 'last_modified_datetime': '2016-09-17T09:18:13Z',\n",
      " 'last_modified_t': 1474103893,\n",
      " 'product_name': 'Farine de blé noir',\n",
      " 'quantity': '1kg',\n",
      " 'states': 'en:to-be-completed, en:nutrition-facts-to-be-completed, '\n",
      "           'en:ingredients-to-be-completed, '\n",
      "           'en:expiration-date-to-be-completed, '\n",
      "           'en:characteristics-to-be-completed, en:categories-to-be-completed, '\n",
      "           'en:brands-completed, en:packaging-to-be-completed, '\n",
      "           'en:quantity-completed, en:product-name-completed, '\n",
      "           'en:photos-to-be-validated, en:photos-uploaded',\n",
      " 'states_en': 'To be completed,Nutrition facts to be completed,Ingredients to '\n",
      "              'be completed,Expiration date to be completed,Characteristics to '\n",
      "              'be completed,Categories to be completed,Brands '\n",
      "              'completed,Packaging to be completed,Quantity completed,Product '\n",
      "              'name completed,Photos to be validated,Photos uploaded',\n",
      " 'states_tags': 'en:to-be-completed,en:nutrition-facts-to-be-completed,en:ingredients-to-be-completed,en:expiration-date-to-be-completed,en:characteristics-to-be-completed,en:categories-to-be-completed,en:brands-completed,en:packaging-to-be-completed,en:quantity-completed,en:product-name-completed,en:photos-to-be-validated,en:photos-uploaded',\n",
      " 'url': 'http://world-en.openfoodfacts.org/product/0000000003087/farine-de-ble-noir-ferme-t-y-r-nao'}\n"
     ]
    }
   ],
   "source": [
    "firstItem=coll.find_one()\n",
    "pprint.pprint(firstItem)"
   ]
  },
  {
   "cell_type": "markdown",
   "metadata": {},
   "source": [
    "Each element of a collection is a Python dictionary. Hence, e.g. the attributes (keys) can be obtained as follows:"
   ]
  },
  {
   "cell_type": "code",
   "execution_count": 36,
   "metadata": {
    "ExecuteTime": {
     "end_time": "2017-11-20T17:10:09.084000Z",
     "start_time": "2017-11-20T18:10:09.079000+01:00"
    }
   },
   "outputs": [
    {
     "name": "stdout",
     "output_type": "stream",
     "text": [
      "['_id',\n",
      " 'code',\n",
      " 'url',\n",
      " 'creator',\n",
      " 'created_t',\n",
      " 'created_datetime',\n",
      " 'last_modified_t',\n",
      " 'last_modified_datetime',\n",
      " 'product_name',\n",
      " 'quantity',\n",
      " 'brands',\n",
      " 'brands_tags',\n",
      " 'countries',\n",
      " 'countries_tags',\n",
      " 'countries_en',\n",
      " 'states',\n",
      " 'states_tags',\n",
      " 'states_en']\n"
     ]
    }
   ],
   "source": [
    "pprint.pprint(list(firstItem.keys()))"
   ]
  },
  {
   "cell_type": "markdown",
   "metadata": {},
   "source": [
    "Queries can be specified as key-value pairs. E.g. in order to retrieve one product from *Ferrero* the following command can be applied:"
   ]
  },
  {
   "cell_type": "code",
   "execution_count": 37,
   "metadata": {
    "ExecuteTime": {
     "end_time": "2017-11-20T17:10:25.440000Z",
     "start_time": "2017-11-20T18:10:25.414000+01:00"
    }
   },
   "outputs": [
    {
     "name": "stdout",
     "output_type": "stream",
     "text": [
      "{'_id': ObjectId('5ae619b0817e1ce6df49e878'),\n",
      " 'additives': ' [ milk-chocolate -> en:milk-chocolate  ]  [ chocolate -> '\n",
      "              'en:chocolate  ]  [ sugar -> en:sugar  ]  [ cocoa-butter -> '\n",
      "              'en:cocoa-butter  ]  [ butter -> en:butter  ]  [ cocoa-mass -> '\n",
      "              'en:cocoa-mass  ]  [ mass -> en:mass  ]  [ skim-milk-powder -> '\n",
      "              'en:skim-milk-powder  ]  [ milk-powder -> en:milk-powder  ]  [ '\n",
      "              'powder -> en:powder  ]  [ butteroil -> en:butteroil  ]  [ '\n",
      "              'lecithin-as-emulsifier -> en:lecithin-as-emulsifier  ]  [ '\n",
      "              'as-emulsifier -> en:as-emulsifier  ]  [ emulsifier -> '\n",
      "              'en:emulsifier  ]  [ soy -> en:soy  ]  [ vanillin -> '\n",
      "              'en:vanillin  ]  [ an-artificial-flavor -> '\n",
      "              'en:an-artificial-flavor  ]  [ artificial-flavor -> '\n",
      "              'en:artificial-flavor  ]  [ flavor -> en:flavor  ]  [ hazelnuts '\n",
      "              '-> en:hazelnuts  ]  [ sugar -> en:sugar  ]  [ palm-oil -> '\n",
      "              'en:palm-oil  ]  [ oil -> en:oil  ]  [ wheat-flour -> '\n",
      "              'en:wheat-flour  ]  [ flour -> en:flour  ]  [ whey -> en:whey  '\n",
      "              ']  [ milk -> en:milk  ]  [ lowfat-cocoa-powder -> '\n",
      "              'en:lowfat-cocoa-powder  ]  [ cocoa-powder -> en:cocoa-powder  '\n",
      "              ']  [ powder -> en:powder  ]  [ lecithin-as-emulsifier -> '\n",
      "              'en:lecithin-as-emulsifier  ]  [ as-emulsifier -> '\n",
      "              'en:as-emulsifier  ]  [ emulsifier -> en:emulsifier  ]  [ '\n",
      "              'soy-sodium-bicarbonate-as-leavening-agent -> '\n",
      "              'en:soy-sodium-bicarbonate-as-leavening-agent  ]  [ '\n",
      "              'sodium-bicarbonate-as-leavening-agent -> '\n",
      "              'en:sodium-bicarbonate-as-leavening-agent  ]  [ '\n",
      "              'bicarbonate-as-leavening-agent -> '\n",
      "              'en:bicarbonate-as-leavening-agent  ]  [ as-leavening-agent -> '\n",
      "              'en:as-leavening-agent  ]  [ leavening-agent -> '\n",
      "              'en:leavening-agent  ]  [ agent -> en:agent  ]  [ salt -> '\n",
      "              'en:salt  ]  [ vanillin -> en:vanillin  ]  [ '\n",
      "              'an-artificial-flavor -> en:an-artificial-flavor  ]  [ '\n",
      "              'artificial-flavor -> en:artificial-flavor  ]  [ flavor -> '\n",
      "              'en:flavor  ] ',\n",
      " 'additives_n': 0,\n",
      " 'brands': 'Ferrero',\n",
      " 'brands_tags': 'ferrero',\n",
      " 'calcium_100g': 0.105,\n",
      " 'carbohydrates_100g': 47.37,\n",
      " 'cholesterol_100g': 0.013,\n",
      " 'code': 9800120659,\n",
      " 'countries': 'US',\n",
      " 'countries_en': 'United States',\n",
      " 'countries_tags': 'en:united-states',\n",
      " 'created_datetime': '2017-03-09T14:06:39Z',\n",
      " 'created_t': 1489068399,\n",
      " 'creator': 'usda-ndb-import',\n",
      " 'energy_100g': 2531,\n",
      " 'fat_100g': 42.11,\n",
      " 'fiber_100g': 2.6,\n",
      " 'ingredients_from_palm_oil_n': 0,\n",
      " 'ingredients_text': 'Milk chocolate (sugar, cocoa butter, cocoa mass, skim '\n",
      "                     'milk powder, butteroil, lecithin as emulsifier (soy), '\n",
      "                     'vanillin: an artificial flavor), hazelnuts, sugar, palm '\n",
      "                     'oil, wheat flour, whey (milk), lowfat cocoa powder, '\n",
      "                     'lecithin as emulsifier (soy) sodium bicarbonate as '\n",
      "                     'leavening agent, salt, vanillin: an artificial flavor.',\n",
      " 'ingredients_that_may_be_from_palm_oil_n': 0,\n",
      " 'iron_100g': 0.00189,\n",
      " 'last_modified_datetime': '2017-03-09T14:06:39Z',\n",
      " 'last_modified_t': 1489068399,\n",
      " 'nutrition-score-fr_100g': 22,\n",
      " 'nutrition-score-uk_100g': 22,\n",
      " 'nutrition_grade_fr': 'e',\n",
      " 'product_name': 'Rocher, Fine Hazelnut Chocolates',\n",
      " 'proteins_100g': 7.89,\n",
      " 'salt_100g': 0.16764,\n",
      " 'saturated-fat_100g': 13.16,\n",
      " 'serving_size': '38 g (38 g)',\n",
      " 'sodium_100g': 0.066,\n",
      " 'states': 'en:to-be-completed, en:nutrition-facts-completed, '\n",
      "           'en:ingredients-completed, en:expiration-date-to-be-completed, '\n",
      "           'en:packaging-code-to-be-completed, '\n",
      "           'en:characteristics-to-be-completed, en:categories-to-be-completed, '\n",
      "           'en:brands-completed, en:packaging-to-be-completed, '\n",
      "           'en:quantity-to-be-completed, en:product-name-completed, '\n",
      "           'en:photos-to-be-uploaded',\n",
      " 'states_en': 'To be completed,Nutrition facts completed,Ingredients '\n",
      "              'completed,Expiration date to be '\n",
      "              'completed,Packaging-code-to-be-completed,Characteristics to be '\n",
      "              'completed,Categories to be completed,Brands completed,Packaging '\n",
      "              'to be completed,Quantity to be completed,Product name '\n",
      "              'completed,Photos to be uploaded',\n",
      " 'states_tags': 'en:to-be-completed,en:nutrition-facts-completed,en:ingredients-completed,en:expiration-date-to-be-completed,en:packaging-code-to-be-completed,en:characteristics-to-be-completed,en:categories-to-be-completed,en:brands-completed,en:packaging-to-be-completed,en:quantity-to-be-completed,en:product-name-completed,en:photos-to-be-uploaded',\n",
      " 'sugars_100g': 39.47,\n",
      " 'trans-fat_100g': 0,\n",
      " 'url': 'http://world-en.openfoodfacts.org/product/0009800120659/rocher-fine-hazelnut-chocolates-ferrero',\n",
      " 'vitamin-a_100g': 0,\n",
      " 'vitamin-c_100g': 0}\n"
     ]
    }
   ],
   "source": [
    "ferr1=coll.find_one({'brands' : 'Ferrero'})\n",
    "pprint.pprint(ferr1)"
   ]
  },
  {
   "cell_type": "markdown",
   "metadata": {},
   "source": [
    "Name of the queried product:"
   ]
  },
  {
   "cell_type": "code",
   "execution_count": 38,
   "metadata": {
    "ExecuteTime": {
     "end_time": "2017-11-20T17:13:51.330000Z",
     "start_time": "2017-11-20T18:13:51.326000+01:00"
    }
   },
   "outputs": [
    {
     "name": "stdout",
     "output_type": "stream",
     "text": [
      "'Rocher, Fine Hazelnut Chocolates'\n"
     ]
    }
   ],
   "source": [
    "pprint.pprint(ferr1['product_name'])"
   ]
  },
  {
   "cell_type": "markdown",
   "metadata": {},
   "source": [
    "All items, which match a specified criteria, can be obtained by applying the `find({key:value})`-function on the collection-object. E.g. all items with brandname *Ferrero* can be obtained as follows:"
   ]
  },
  {
   "cell_type": "code",
   "execution_count": 39,
   "metadata": {
    "ExecuteTime": {
     "end_time": "2017-11-20T17:14:34.117000Z",
     "start_time": "2017-11-20T18:14:33.278000+01:00"
    },
    "scrolled": false
   },
   "outputs": [
    {
     "name": "stdout",
     "output_type": "stream",
     "text": [
      "Number of found products:  117\n",
      "Rocher, Fine Hazelnut Chocolates\n",
      "Fine Hazelnut Chocolates\n",
      "Rocher\n",
      "Nutella\n",
      "Nutella\n",
      "Nutella\n",
      "Nutella\n",
      "Mon chéri\n",
      "Nutella\n",
      "Nutella\n",
      "Pâte à tartiner\n",
      "Nutella\n",
      "Nutella\n",
      "Nutella\n",
      "Nutella\n",
      "Nutella\n",
      "Nutella\n",
      "Nutella\n",
      "Nutella\n",
      "Nutella\n",
      "K. BUENO T15\n",
      "Kinder country\n",
      "Cloche Ferrero\n",
      "Graine de couscous moyenne\n",
      "Graine de Couscous Moyen 1,5 Kg Ferrero\n",
      "Couscous aux 4 épices\n",
      "Couscous aux Épices et Petits Raisins\n",
      "Polenta express\n",
      "Harissa\n",
      "Graine de Couscous Moyen\n",
      "Graine de Couscous Fin 1 Kg Ferrero\n",
      "Graine de couscous fin\n",
      "Nutella B-ready\n",
      "Grainde de couscous fin\n",
      "Nutella\n",
      "Duplo\n",
      "Die Besten von Ferrero\n",
      "Ferrero Küsschen\n",
      "Ferrero Küsschen\n",
      "Ferrero Rocher\n",
      "Lapin Ferrero Rocher\n",
      "Raffaello\n",
      "Raffaello\n",
      "Raffaello\n",
      "kinder maxi\n",
      "Duplo big pack 18+2\n",
      "Die Besten Classic\n",
      "Ferrero Küsschen Caramel 20er Geschenkverpackung\n",
      "Grand Ferrero Rocher\n",
      "Kinder Chocolate\n",
      "Nutella & Go!\n",
      "Kinder Surprise (x6) de Noël\n",
      "Raffaello\n",
      "Tic tac 100\n",
      "Prestige\n",
      "Nutella +10% Gratuit,\n",
      "Ferrero Rocher\n",
      "Ferrero Rocher\n",
      "Ferrero Rocher\n",
      "Duplo Etui De 5 Pieces\n",
      "Mon chéri\n",
      "Ferrero Rocher\n",
      "Raffaello\n",
      "Choc.kinder Bueno PACK3x2\n",
      ", chlorophylle , le lot de 4 64 gr\n",
      "WARNING! - PRODUCT NAME NOT AVAILABLE\n",
      "Rond Noir\n",
      "Fines gaufrettes 16 pièces Ferrero\n",
      "Prestige\n",
      "Ferrero Eggs Cacao\n",
      "brioss\n",
      "Ferrero prestige\n",
      "Mon Chéri\n",
      "Pocket Coffee T8 GR 100 Ferrero\n",
      "Raffaello\n",
      "Rocher - Chocolat au lait\n",
      "Raffaello\n",
      "Ferrero Rocher\n",
      "GRAND FERRERO ROCHER\n",
      "Tic Tac Gum Mint\n",
      "Ferrero Collection\n",
      "Ferrero collection \n",
      "Nutella\n",
      "Coffret chocolat\n",
      "Krem Nutella\n",
      "Tic Tac Strawberry Mix Big Pack\n",
      "Joghurt-Schnitte\n",
      "Duplo\n",
      "Bisc. nutella B-ready T10 Ferre\n",
      "Chocolat fourré cerise et liqueur\n",
      "Nutella B-ready\n",
      "Ferrero Valparaiso Goji & Himbeere\n",
      "WARNING! - PRODUCT NAME NOT AVAILABLE\n",
      "Kinder Cards\n",
      "Tic tac\n",
      "Kinder Country\n",
      "Ferrero Rocher\n",
      "Ferrero 48 Piece Collection\n",
      "Golden Gallery\n",
      "Ferrero golden gallery \n",
      "Collection T15\n",
      "Tic Tac - Cola\n",
      "The Estathe' LT1,5 Pesca Zero\n",
      "Mon Chéri\n",
      "EstaThé Limone\n",
      "Estathe Bicch. Pesca Cluster CL. 20 X6\n",
      "Pocket coffee espresso\n",
      "Esta thé\n",
      "Poker coffie\n",
      "Nutella\n",
      "Tronky Nocciola Singolo\n",
      "Nutella\n",
      "Estathe Bottiglia Limone ML. 1500\n",
      "Kinder Chocolate\n",
      "Nutella\n",
      "Nutella\n",
      "Kinder Chocolate\n"
     ]
    }
   ],
   "source": [
    "ferrero=coll.find({'brands' : 'Ferrero' })\n",
    "print(\"Number of found products: \",ferrero.count())\n",
    "for p in ferrero:\n",
    "    try:\n",
    "        print(p['product_name'])\n",
    "    except:\n",
    "        print(\"WARNING! - PRODUCT NAME NOT AVAILABLE\")"
   ]
  },
  {
   "cell_type": "markdown",
   "metadata": {},
   "source": [
    "It is quite common, that attribute values, e.g. productnames, are represented ambigously. For example in the current database, there are many different variations for the brandname `Ferrero`. Such variations can typically be catched by the application of *regular expressiong*. The `find()`-method on collection objects accepts regular expressions as demonstrated below. In this example all items are retrieved, which have *Ferrero* in their `brands`-attribute:"
   ]
  },
  {
   "cell_type": "code",
   "execution_count": 40,
   "metadata": {
    "ExecuteTime": {
     "end_time": "2017-11-20T17:14:57.764000Z",
     "start_time": "2017-11-20T18:14:56.559000+01:00"
    }
   },
   "outputs": [
    {
     "name": "stdout",
     "output_type": "stream",
     "text": [
      "Number of found products:  417\n",
      "Tic Tac,  Ferrero U.S.A.  Incorporated ---------- Mints, Candy Cane\n",
      "Ferrero, Tic Tac,  Ferrero U.S.A.  Incorporated ---------- Tic Tac\n",
      "Tic Tac,  Ferrero U.S.A.  Incorporated ---------- Scary Sweets Mints, Grape & Cherry\n",
      "Tic Tac,  Ferrero U.S.A.  Incorporated ---------- Flavored Mints, Grape\n",
      "Tic Tac,  Ferrero U.S.A.  Incorporated ---------- Candy Cane\n",
      "Ferrero U.S.A.  Incorporated ---------- Summer Ice Pop Mint\n",
      "Ferrero,  Ferrero Rocher ---------- Rocher, Hazelnut Chocolates\n",
      "Ferrero U.S.A.  Incorporated ---------- Freshmints\n",
      "Tic Tac,  Ferrero U.S.A.  Incorporated ---------- Fruit Mints\n",
      "Ferrero U.S.A.  Incorporated ---------- Freshmints\n",
      "Ferrero U.S.A.  Incorporated ---------- Mints\n",
      "Tic Tac,  Ferrero U.S.A.  Incorporated ---------- Mints\n",
      "Tic Tac,  Ferrero U.S.A.  Incorporated ---------- Flavored Mints\n",
      "Tic Tac,  Ferrero U.S.A.  Incorporated ---------- Mummy Mints, Orange\n",
      "Tic Tac,  Ferrero U.S.A.  Incorporated ---------- Snowman Fruit Mix Mints, Lime & Berry\n",
      "Tic Tac,  Ferrero U.S.A.  Incorporated ---------- Flavored Mints, Grrr...Een Apple\n",
      "Tic Tac,  Ferrero U.S.A.  Incorporated ---------- Mints, Grape\n",
      "Tic Tac,  Ferrero U.S.A.  Incorporated ---------- Minions Mints, Banana\n",
      "Ferrero U.S.A.  Incorporated ---------- Flavored Mints\n",
      "Tic Tac,  Ferrero U.S.A.  Incorporated ---------- Fruit Adventure\n",
      "Tic Tac,  Ferrero U.S.A.  Incorporated ---------- Flavored Mints, Berry Cherry\n",
      "Ferrero U.S.A.  Incorporated ---------- Mints\n",
      "Tic Tac,  Ferrero U.S.A.  Incorporated ---------- Freshmints\n",
      "Tic Tac,  Ferrero ---------- Orange Mints, Orange\n",
      "Tic Tac,  Ferrero U.S.A.  Incorporated ---------- Flavored Mints, Wintergreen\n",
      "Tic Tac,  Ferrero ---------- Mints, Orange\n",
      "Tic Tac,  Ferrero ---------- Mints, Wintergreen\n",
      "Tic Tac,  Ferrero U.S.A.  Incorporated ---------- Flavored Mints, Fruit Adventure\n",
      "Tic Tac,  Ferrero ---------- Mints, Wintergreen\n",
      "Tic Tac,  Excl. Dist. Ferrero U.S.A.  Inc. ---------- Freshmints\n",
      "Tic Tac,  Ferrero ---------- Fruit Adventure Mints\n",
      "Tic Tac,  Ferrero U.S.A.  Incorporated ---------- Flavored Mints, Fruit Adventure\n",
      "Tic Tac,  Ferrero U.S.A.  Incorporated ---------- Freshmints\n",
      "Ferrero U.S.A.  Incorporated ---------- Mints\n",
      "Tic Tac,  Ferrero U.S.A.  Incorporated ---------- Freshmints\n",
      "Tic Tac,  Ferrero U.S.A.  Incorporated ---------- Flavored Mints, Grape\n",
      "Tic Tac,  Ferrero U.S.A.  Incorporated ---------- Flavored Mints, Orange\n",
      "Tic Tac,  Ferrero U.S.A.  Incorporated ---------- Flavored Mints, Berry Cherry\n",
      "Tic Tac,  Ferrero U.S.A.  Incorporated ---------- Minions Mints, Banana\n",
      "Tic Tac,  Ferrero U.S.A.  Incorporated ---------- Flavored Mints, Grape\n",
      "Tic Tac,  Ferrero U.S.A.  Incorporated ---------- Minions Mints, Banana\n",
      "Tic Tac,  Ferrero U.S.A.  Incorporated ---------- Mixers Mints, Cherry Cola\n",
      "Tic Tac,  Ferrero U.S.A.  Incorporated ---------- Flavored Mints, Spearmint Mix\n",
      "Tic Tac,  Ferrero U.S.A.  Incorporated ---------- Freshmints\n",
      "Tic Tac,  Ferrero U.S.A.  Incorporated ---------- Mixers Mints, Peach, Lemonade\n",
      "Tic Tac,  Ferrero U.S.A.  Incorporated ---------- Flavored Mints, Orange\n",
      "Tic Tac,  Ferrero U.S.A.  Incorporated ---------- Flavored Mints, Wintergreen\n",
      "Tic Tac,  Ferrero U.S.A.  Incorporated ---------- Flavored Mints, Strawberry\n",
      "Tic Tac,  Ferrero U.S.A.  Incorporated ---------- Mints, Orange, Fruit Adventure, Wintergreen\n",
      "Ferrero,  Ferrero U.S.A.  Incorporated ---------- Rocher, Fine Hazelnut Chocolates\n",
      "Ferrero,  Ferrero Rocher ---------- Rocher, Fine Hazelnut Chocolates\n",
      "Ferrero,  Ferrero U.S.A.  Incorporated ---------- Rocher, Fine Hazelnut Chocolates\n",
      "Ferrero,  Ferrero U.S.A.  Incorporated ---------- Rocher, Fine Hazelnut Chocolates\n",
      "Ferrero,  Ferrero U.S.A.  Incorporated ---------- Rocher, Fine Hazelnut Chocolates\n",
      "Ferrero,  Ferrero U.S.A.  Incorporated ---------- Rocher, Fine Hazelnut Chocolates\n",
      "Ferrero U.S.A.  Incorporated ---------- Milk Chocolate\n",
      "Ferrero ---------- Rocher, Fine Hazelnut Chocolates\n",
      "Ferrero,  Ferrero Rocher ---------- Rocher, Fine Hazelnut Chocolates\n",
      "Ferrero,  Ferrero U.S.A.  Incorporated ---------- Rocher, Fine Hazelnut Chocolates\n",
      "Ferrero,  Ferrero U.S.A.  Incorporated ---------- Rocher, Hazelnut Chocolates\n",
      "Ferrero,  Ferrero U.S.A.  Incorporated ---------- Rocher, Fine Hazelnut Chocolates\n",
      "Tic Tac,  Ferrero U.S.A.  Incorporated ---------- Flavored Mints, Fruit Adventure\n",
      "Ferrero ---------- Fine Hazelnut Chocolates\n",
      "Ferrero ---------- Rocher\n",
      "Ferrero Collection,  Ferrero U.S.A.  Incorporated ---------- Fine Assorted Confection Chocolates\n",
      "Ferrero Collection ---------- Fine Assorted Confections\n",
      "Ferrero Rocher ---------- Fine Hazel Nut Chocolates\n",
      "Ferrero Collection,  Ferrero U.S.A.  Incorporated ---------- Fine Assorted Confections\n",
      "Ferrero Collection,  Ferrero U.S.A.  Incorporated ---------- Fine Assorted Confections\n",
      "Ferrero Collection,  Ferrero U.S.A.  Incorporated ---------- Fine Assorted Confections\n",
      "Ferrero Collection,  Ferrero U.S.A.  Incorporated ---------- Fine Assorted Confections\n",
      "Ferrero Collection,  Ferrero U.S.A.  Incorporated ---------- Fine Assorted Confections\n",
      "Ferrero U.S.A.  Incorporated ---------- Raffaello, Almond Coconut Treat\n",
      "Ferrero Collection,  Ferrero U.S.A.  Incorporated ---------- Fine Assorted Confections\n",
      "Ferrero Collection,  Ferrero U.S.A.  Incorporated ---------- Fine Assorted Confections\n",
      "Ferrero Collection,  Ferrero U.S.A.  Incorporated ---------- Fine Assorted Congections\n",
      "Ferrero Collection,  Ferrero U.S.A.  Incorporated ---------- Fine Assorted Confections\n",
      "Ferrero Collection,  Ferrero U.S.A.  Incorporated ---------- Fine Assorted Confections\n",
      "Ferrero Collection,  Ferrero U.S.A.  Incorporated ---------- Fine Assorted Confections\n",
      "Ferrero Collection,  Ferrero U.S.A.  Incorporated ---------- Fine Assorted Collections\n",
      "Ferrero Collection,  Ferrero U.S.A.  Incorporated ---------- Fine Assorted Confections\n",
      "Ferrero Collection,  Ferrero U.S.A.  Incorporated ---------- Fine Assorted Conefections\n",
      "Ferrero Collection,  Ferrero U.S.A.  Incorporated ---------- Fine Assorted Confections\n",
      "Ferrero U.S.A.  Incorporated ---------- Fererro, Nutella, B-Ready Filled Wafer Bars\n",
      "Ferrero Collection,  Ferrero U.S.A.  Incorporated ---------- Fine Assorted Confections\n",
      "Ferrero,  Ferrero U.S.A.  Incorporated ---------- Eggs Chocolate Covered Crispy Eggs, Hazelnut\n",
      "Ferrero Collection,  Ferrero U.S.A.  Incorporated ---------- Fine Assorted Confection\n",
      "Ferrero,  Ferrero U.S.A.  Incorporated ---------- Eggs Chocolate Covered Crispy Eggs, Cocoa\n",
      "Nutella Ferrero ---------- 12 Pack Hazelnut Spread + Breadsticks\n",
      "Ferrero,  Ferrero U.S.A.  Incorporated ---------- Nutella, Hazelnut Spread With Cocoa\n",
      "Ferrero,  Ferrero U.S.A.  Incorporated ---------- Nutella, Hazelnut Spread With Cocoa\n",
      "Nutella,Ferrero ---------- Mini Cups\n",
      "Ferrero,Nutella ---------- Nutella\n",
      "Ferrero,Nutella ---------- Nutella\n",
      "Nutella,Ferrero ---------- Nutella\n",
      "Ferrero Collection,  Ferrero U.S.A.  Incorporated ---------- Fine Assorted Confections\n",
      "Kinder,Ferrero ---------- Kinder surprise \n",
      "Kinder,Ferrero ---------- Kinder Schoko-Bons\n",
      "Ferrero ---------- Nutella\n",
      "Ferrero,Nutella ---------- Nutella\n",
      "Tic Tac,Ferrero ---------- Tic Tc Menthe Fraîcheur\n",
      "Ferrero Duplo ---------- Milk Chocolate Covered Wafer With Whole Hazelnut\n",
      "Ferrero Inc. ---------- Bueno Chocolate\n",
      "Ferrero,Nutella ---------- Nutella\n",
      "Ferrero,Nutella ---------- Nutella\n",
      "Kinder,Ferrero ---------- Schoko-bons\n",
      "Ferrero ---------- Nutella\n",
      "Kinder,  Ferrero Polska ---------- Delice Kokos\n",
      "Ferrero ---------- Nutella\n",
      "Ferrero ---------- Nutella\n",
      "Kinder,  Ferrero ---------- Bueno Riegel Bar\n",
      "Ferrero ---------- Mon chéri\n",
      "Ferrero,Nutella ---------- Nutella\n",
      "Ferrero,Nutella ---------- Nutella\n",
      "Kinder,Ferrero ---------- Happy Hippo Cacao\n",
      "Ferrero ---------- Nutella\n",
      "Ferrero ---------- Nutella\n",
      "Ferrero,Nutella ---------- Nutella \n",
      "Ferrero ---------- Pâte à tartiner\n",
      "Ferrero,Nutella ---------- Nutella\n",
      "Ferrero ---------- Nutella\n",
      "Ferrero ---------- Nutella\n",
      "Ferrero ---------- Nutella\n",
      "Ferrero ---------- Nutella\n",
      "Nutella,Ferrero ---------- Nutella \n",
      "Ferrero ---------- Nutella\n",
      "Ferrero ---------- Nutella\n",
      "Ferrero,Nutella ---------- Nutella\n",
      "Nutella,Ferrero ---------- Nutella\n",
      "Nutella,Ferrero ---------- Nutella\n",
      "Ferrero ---------- Nutella\n",
      "Ferrero,Nutella ---------- Nutella\n",
      "Nutella,Ferrero ---------- Nutella\n",
      "Ferrero ---------- Nutella\n",
      "Ferrero,Nutella ---------- Nutella\n",
      "Ferrero ---------- Nutella\n",
      "Ferrero ---------- K. BUENO T15\n",
      "Ferrero,Kinder Bueno, Kinder ---------- Kinder Bueno\n",
      "kinder,Ferrero ---------- Kinder bueno\n",
      "Kinder,Ferrero ---------- Kinder Bueno\n",
      "Kinder Bueno,Ferrero,Kinder ---------- Kinder Bueno\n",
      "Kinder,Ferrero ---------- Kinder Maxi\n",
      "Ferrero ---------- Kinder country\n",
      "Kinder,Ferrero ---------- Kinder Surprise\n",
      "Ferrero ---------- Cloche Ferrero\n",
      "Ferrero,Nutella ---------- Nutella\n",
      "Ferrero,Tic Tac ---------- Tic Tac Mint\n",
      "Kinder,Ferrero ---------- Kinder Country\n",
      "Nutella,Ferrero ---------- Nutella\n",
      "Kinder,Kinder Bueno,Ferrero ---------- Kinder Bueno\n",
      "Kinder,Ferrero ---------- 16 batonnets Chocolat\n",
      "Ferrero,Kinder ---------- Kinder Chocolat (format 32 bâtonnets)\n",
      "Ferrero,Nutella ---------- Nutella\n",
      "Kinder,Ferrero ---------- calendrier de l'avent \n",
      "Kinder,Ferrero ---------- Calendrier de l'avent\n",
      "Ferrero ---------- Graine de couscous moyenne\n",
      "Ferrero,Panzani,Ebro Foods ---------- Graine de Couscous Fin (+ 25 % Gratuit)\n",
      "Ferrero ---------- Graine de Couscous Moyen 1,5 Kg Ferrero\n",
      "Ferrero ---------- Couscous aux 4 épices\n",
      "Ferrero ---------- Couscous aux Épices et Petits Raisins\n",
      "Ferrero ---------- Polenta express\n",
      "Ferrero ---------- Harissa\n",
      "Ferrero ---------- Graine de Couscous Moyen\n",
      "Ferrero ---------- Graine de Couscous Fin 1 Kg Ferrero\n",
      "Ferrero,Panzani,Ebro Foods ---------- Couscous moyen\n",
      "Ferrero ---------- Graine de couscous fin\n",
      "Ferrero,Panzani,Ebro Foods ---------- Graine de Couscous Moyen (+ 25 % Gratuit)\n",
      "Ferrero ---------- Nutella B-ready\n",
      "Ferrero ---------- Grainde de couscous fin\n",
      "Ferrero ---------- Nutella\n",
      "Ferrero ---------- Duplo\n",
      "Ferrero,Mon Chéri ---------- Mon Chéri\n",
      "Ferrero ---------- Die Besten von Ferrero\n",
      "Ferrero ---------- Ferrero Küsschen\n",
      "Ferrero ---------- Ferrero Küsschen\n",
      "Ferrero ---------- Ferrero Rocher\n",
      "Ferrero rocher ---------- Lapin\n",
      "Ferrero ---------- Lapin Ferrero Rocher\n",
      "Ferrero ---------- Raffaello\n",
      "Ferrero ---------- Raffaello\n",
      "Ferrero ---------- Raffaello\n",
      "Milch-Schnitte,Ferrero ---------- Milch-Schnitte\n",
      "Kinder,Ferrero ---------- Kinder Schokolade\n",
      "Kinder,Ferrero ---------- Kinder Schokolade\n",
      "Kinder,Ferrero ---------- Kinder Riegel \n",
      "kinder,Ferrero ---------- Kinder Riegel\n",
      "Ferrero ---------- kinder maxi\n",
      "Kinder,Ferrero ---------- Kinder country \n",
      "Kinder,Ferrero ---------- Kinder pingu\n",
      "Kinder,Ferrero ---------- Kinder Schoko-Bons\n",
      "Kinder,Ferrero ---------- Kinder Pingui Schoko\n",
      "Kinder,Ferrero ---------- Pingui chocolat\n",
      "Ferrero ---------- Duplo big pack 18+2\n",
      "Ferrero,Kinder ---------- Kinder Pingui Chocolat\n",
      "Ferrero,duplo ---------- duplo\n",
      "Ferrero,Duplo ---------- Duplo\n",
      "Duplo,Ferrero ---------- duplo Chocnut\n",
      "Kinder,Ferrero ---------- Pingui Framboise\n",
      "hanuta,Ferrero ---------- Hanuta\n",
      "hanuta,Ferrero ---------- hanuta\n",
      "Ferrero ---------- Die Besten Classic\n",
      "Kinder,Ferrero ---------- Kinder Choco fresh\n",
      "Tic Tac,Ferrero ---------- 100 Tic Tac goût citron vert et orange\n",
      "Kinder,Ferrero ---------- Kinder bueno\n",
      "nutella,Ferrero ---------- nutella\n",
      "Nutella,Ferrero ---------- Nutella\n",
      "Nutella,Ferrero ---------- nutella\n",
      "Nutella,Ferrero ---------- nutella\n",
      "nutella,Ferrero ---------- Nutella\n",
      "Nutella,Ferrero ---------- Nutella\n",
      "Nutella,Ferrero ---------- Nutella\n",
      "Ferrero Küsschen,Ferrero ---------- Ferrero Küsschen Mix\n",
      "Ferrero ---------- Ferrero Küsschen Caramel 20er Geschenkverpackung\n",
      "Kinder,Ferrero ---------- Kinder Weihnachtsmann\n",
      "Kinder,Ferrero ---------- Kinder Hase\n",
      "Kinder,Ferrero ---------- Kinder Überraschung Weihnachtsmann\n",
      "Ferrero ---------- Grand Ferrero Rocher\n",
      "Mon Chéri,Ferrero,Ferrero S.p.A. ---------- Mon Chéri\n",
      "Kinder,Ferrero ---------- Kinder Maxi\n",
      "Ferrero,Kinder ---------- Kinder maxi\n",
      "Kinder,Ferrero ---------- Maxi King\n",
      "Kinder,Ferrero ---------- Choco Fresh\n",
      "Kinder,Ferrero ---------- Kinder Chocolat\n",
      "Kinder,Ferrero ---------- Kinder bueno\n",
      "Ferrero,duplo ---------- Duplo\n",
      "Kinder,Ferrero ---------- Kinder Country\n",
      "Kinder,Ferrero ---------- Kinder Riegel\n",
      "hanuta,Ferrero ---------- hanuta\n",
      "Ferrero ---------- Kinder Chocolate\n",
      "Milch-Schnitte,Ferrero ---------- Milch-Schnitte\n",
      "Milch-Schnitte,Ferrero ---------- Milch-Schnitte\n",
      "duplo,Ferrero ---------- duplo Caramel\n",
      "Kinder,Ferrero ---------- Mini Eggs\n",
      "Ferrero,Kinder ---------- Kinder Chocolate Mini\n",
      "Ferrero ---------- Nutella & Go!\n",
      "Kinder,Ferrero ---------- Kinder Surprise\n",
      "kinder,Ferrero ---------- schoko-bons\n",
      "Kinder,Ferrero,Kinder surprise ---------- Kinder surprise Astérix et Obélix\n",
      "Kinder,Ferrero ---------- Bueno (8+2 gratis)\n",
      "Kinder,Kinder surprise,Ferrero ---------- Kinder surprise Barbie\n",
      "Kinder,Ferrero ---------- Schoko-Bons\n",
      "Kinder,Ferrero,Kinder surprise ---------- Kinder Surprise\n",
      "Ferrero ---------- Kinder Surprise (x6) de Noël\n",
      "Kinder,Ferrero ---------- Schoko-Bons\n",
      "Kinder,Ferrero ---------- Kinder Suprise\n",
      "Kinder,Ferrero,Schoko-bons ---------- Schoko-bons\n",
      "Ferrero ---------- Raffaello\n",
      "Kinder,Kinder Surprise,Ferrero ---------- 6 Kinder Surprise\n",
      "Kinder,Ferrero ---------- Kinder Schoko-Bons\n",
      "Kinder,Ferrero ---------- Schoko-Bons\n",
      "Kinder,Ferrero ---------- Schoko-Bons\n",
      "Ferrero,Nutella ---------- Nutella\n",
      "WARNING! - PRODUCT NAME NOT AVAILABLE\n",
      "Ferrero,Kinder ---------- Kinder Bueno\n",
      "kinder,Ferrero ---------- Bueno\n",
      "Ferrero ---------- Tic tac 100\n",
      "Ferrero,Ferrero Rocher ---------- Ferrero Rocher\n",
      "Ferrero ---------- Prestige\n",
      "Ferrero ---------- Nutella +10% Gratuit,\n",
      "Ferrero ---------- Ferrero Rocher\n",
      "Ferrero ---------- Ferrero Rocher\n",
      "Kinder,Ferrero ---------- Kinder Country\n",
      "Kinder,Ferrero ---------- Bueno\n",
      "Ferrero ---------- Ferrero Rocher\n",
      "Kinder,Ferrero ---------- Kinder Chocolat 1/2 mètre\n",
      "Ferrero ---------- Duplo Etui De 5 Pieces\n",
      "Kinder,Ferrero ---------- Maxi Kinder Surprise\n",
      "Ferrero ---------- Mon chéri\n",
      "Ferero, Ferrero ---------- Rocher\n",
      "Tic Tac,Ferrero ---------- Tic Tac Menthe\n",
      "Ferrero ---------- Ferrero Rocher\n",
      "Ferrero ---------- Raffaello\n",
      "Kinder,Ferrero ---------- Colazione Più\n",
      "Mon Chéri,Ferrero,//Propiedad de://,Ferrero S.p.A. ---------- Bombones Mon Chéri\n",
      "Ferrero ---------- Choc.kinder Bueno PACK3x2\n",
      "Ferrero ---------- , chlorophylle , le lot de 4 64 gr\n",
      "Kinder Délice,Ferrero S.p.A. Piazzale Pietro Ferrero 1 12051 Alba CN Italy,ferrero ---------- Kinder Délice\n",
      "Kinder,Ferrero ---------- Kinder Bueno\n",
      "Kinder,Ferrero ---------- Père Noël\n",
      "Ferrero,nutella,Nutella & Go ! ---------- Nutella & Go !\n",
      "WARNING! - PRODUCT NAME NOT AVAILABLE\n",
      "Ferrero ---------- Rond Noir\n",
      "Nutella,Ferrero ---------- Nutella\n",
      "Ferrero ---------- Fines gaufrettes 16 pièces Ferrero\n",
      "Tic Tac,Ferrero ---------- Liberty \n",
      "Nutella,Ferrero ---------- Nutella spécial fêtes\n",
      "Kinder,Ferrero ---------- Kinder chocolat\n",
      "Ferrero ---------- Prestige\n",
      "Kinder,Ferrero ---------- Bueno White\n",
      "Kinder,Ferrero ---------- Kinder Eggs\n",
      "Kinder,Ferrero ---------- Bâtonnets de chocolat\n",
      "Tic Tac,Ferrero ---------- Intense Mint Menthe Extra-Fraiche\n",
      "Kinder,Ferrero ---------- Kinder Bueno White - 390 g\n",
      "Kinder,Kinder bueno,Ferrero ---------- kinder bueno white\n",
      "Ferrero ---------- Ferrero Eggs Cacao\n",
      "Ferrero,Nutella ---------- Nutella\n",
      "Ferrero,Nutella,Nutella B-ready ---------- Nutella B-Ready\n",
      "Ferrero,Kinder ---------- Kinder Chocolat\n",
      "Golden Gallery,Ferrero ---------- Ferrero Golden Gallery\n",
      "Kinder,Ferrero ---------- Kinder délice cacao\n",
      "Ferrero ---------- brioss\n",
      "Ferrero ---------- Ferrero prestige\n",
      "Ferrero,Nutella,Nutella B-ready,B-ready ---------- Nutella B-ready\n",
      "Tic Tac,Ferrero ---------- Tic Tac Fresh Mint\n",
      "Ferrero,Mon Chéri ---------- Mon Chéri\n",
      "Kinder,Ferrero ---------- Kinder chocolat mini\n",
      "Ferrero ---------- Mon Chéri\n",
      "Ferrero ---------- Pocket Coffee T8 GR 100 Ferrero\n",
      "Ferrero ---------- Raffaello\n",
      "Ferrero ---------- Rocher - Chocolat au lait\n",
      "Kinder,Ferrero ---------- Kinder Joy\n",
      "Kinder,Ferrero ---------- Kinder Country\n",
      "Duplo,Ferrero ---------- Duplo\n",
      "WARNING! - PRODUCT NAME NOT AVAILABLE\n",
      "Ferrero ---------- Raffaello\n",
      "Kinder,Ferrero ---------- Kinder country\n",
      "Ferrero  ---------- Nutella \n",
      "Ferrero,Tic Tac ---------- Tic Tac Citron Vert & Orange\n",
      "Kinder Bueno,Ferrero ---------- Kinder Bueno White\n",
      "kinder,Ferrero ---------- kinder chocolate with cereals\n",
      "Ferrero,Tic Tac ---------- Tic Tac Apple Mix goût Duo de Pommes\n",
      "Ferrero ---------- Ferrero Rocher\n",
      "Ferrero france,tic tac ---------- Tic tac goûts citron vert & orange\n",
      "Ferrero ---------- GRAND FERRERO ROCHER\n",
      "Ferrero ---------- Tic Tac Gum Mint\n",
      "Ferrero ---------- Ferrero Collection\n",
      "Ferrero ---------- Ferrero collection \n",
      "Ferrero ---------- Nutella\n",
      "Ferrero ---------- Coffret chocolat\n",
      "Kinder,Kinder Bueno,Kinder Bueno Mini,Ferrero ---------- Kinder Bueno Mini\n",
      "Ferrero ---------- Krem Nutella\n",
      "Kinder,Ferrero ---------- Calendrier de l'Avent\n",
      "Ferrero,Kinder ---------- Kinder Maxi\n",
      "Ferrero ---------- Tic Tac Strawberry Mix Big Pack\n",
      "Ferrero Rocher ---------- Lapin chocolat au lait\n",
      "Kinder,Ferrero ---------- Kinder Country\n",
      "Ferrero ---------- Joghurt-Schnitte\n",
      "Tronky,Ferrero ---------- Tronky Nocciola - Croccante wafer ripieno alla nocciola\n",
      "WARNING! - PRODUCT NAME NOT AVAILABLE\n",
      "WARNING! - PRODUCT NAME NOT AVAILABLE\n",
      "Ferrero ---------- Duplo\n",
      "Ferrero ---------- Bisc. nutella B-ready T10 Ferre\n",
      "Kinder,CARDS,Ferrero ---------- Kinder Cards\n",
      "Ferrero ---------- Chocolat fourré cerise et liqueur\n",
      "Kinder,Ferrero ---------- Kinder Surprise Infinimix\n",
      "Ferrero,Kinder Surprise,Kinder ---------- Kinder Surprise Infinimix\n",
      "Kinder,Ferrero ---------- Chocolate with cereals\n",
      "Nutella,Ferrero ---------- Nutella B-ready\n",
      "Kinder,Ferrero ---------- Bueno Dark\n",
      "Ferrero,Kinder ---------- Kinder Surprise Maxi Infinimix\n",
      "Ferrero ---------- Nutella B-ready\n",
      "Ferrero ---------- Ferrero Valparaiso Goji & Himbeere\n",
      "ValParaiso,Ferrero ---------- Feine Schoko-Frucht-Perlen Physalis & Mango auf Apfelbasis\n",
      "WARNING! - PRODUCT NAME NOT AVAILABLE\n",
      "ValParaiso,Ferrero ---------- Feine Schoko-Frucht-Perlen Maqui & Heidelbeere auf Apfelbasis\n",
      "Ferrero rocher  ---------- Ferrero rocher \n",
      "Ferrero ---------- Kinder Cards\n",
      "Ferrero ---------- Tic tac\n",
      "Ferrero ---------- Kinder Country\n",
      "Ferrero,Kinder ---------- Kinder Surprise Infinimix\n",
      "Ferrero ---------- Ferrero Rocher\n",
      "Ferrero ---------- Ferrero 48 Piece Collection\n",
      "Ferrero ---------- Golden Gallery\n",
      "Ferrero ---------- Ferrero golden gallery \n",
      "Ferrero ---------- Collection T15\n",
      "Kinder,Ferrero,CARDS ---------- Kinder Cards Céréales\n",
      "Kinder,Ferrero,CARDS ---------- Kinder Cards Noisette\n",
      "Ferrero ---------- Tic Tac - Cola\n",
      "Ferrero Rocher ---------- Ecureuil\n",
      "Ferrero,Tic Tac ---------- Tic Tac Breeze\n",
      "Kinder,Ferrero ---------- Kinder Delice Cacao X10 GR390\n",
      "Ferrero ---------- The Estathe' LT1,5 Pesca Zero\n",
      "Ferrero Rocher ---------- Ferrero Rocher\n",
      "WARNING! - PRODUCT NAME NOT AVAILABLE\n",
      "Ferrero,Nutella,Nutella & Go ! ---------- Nutella & Go !\n",
      "Ferrero  ---------- EstaThe\n",
      "Ferrero ---------- Mon Chéri\n",
      "Ferrero ---------- EstaThé Limone\n",
      "Ferrero ---------- Estathe Bicch. Pesca Cluster CL. 20 X6\n",
      "Ferrero,Nutella ---------- Nutella\n",
      "Ferrero ---------- Pocket coffee espresso\n",
      "Ferrero ---------- Esta thé\n",
      "Ferrero,Nutella ---------- Nutella\n",
      "Ferrero,Nutella ---------- Nutella\n",
      "Ferrero ---------- Poker coffie\n",
      "Ferrero,Nutella ---------- Nutella\n",
      "Ferrero ---------- Nutella\n",
      "Duplo,Ferrero ---------- Duplo Chocnut\n",
      "Ferrero ---------- Tronky Nocciola Singolo\n",
      "Ferrero ---------- Nutella\n",
      "Kinder,Ferrero ---------- Kinder\n",
      "Nutella,Ferrero ---------- Nutella\n",
      "Ferrero Iberica ---------- nutella\n",
      "Ferrero,Nutella ---------- Nutella\n",
      "Kinder,Ferrero ---------- Country\n",
      "Nutella,Ferrero ---------- Nutella \n",
      "Ferrero,Nutella ---------- Nutella\n",
      "Ferrero ---------- Estathe Bottiglia Limone ML. 1500\n",
      "Ferrero,Nutella ---------- Nutella Hazelnut Spread With Cocoa\n",
      "Ferrero,EstaThe ---------- Estathé limone\n",
      "Kinder,Ferrero ---------- Kinder Chocolat\n",
      "Ferrero,Kinder ---------- Kinder Cioccolato\n",
      "Kinder,Ferrero ---------- Kinder country\n",
      "Ferrero ---------- Kinder Chocolate\n",
      "Ferrero,Tic Tac ---------- Tic Tac Menthe Extra Fraîche\n",
      "Nutella,Ferrero ---------- nutella\n",
      "Ferrero,Kinder ---------- Kinder Bueno White\n",
      "Kinder Bueno,Ferrero ---------- Kinder Bueno White\n",
      "Kinder ,Ferrero ---------- 健達奇趣蛋(女孩版)\n",
      "Tic tac,Ferrero ---------- Tic tac\n",
      "Ferrero ---------- Nutella\n",
      "Tic Tac,Ferrero ---------- Tic Tac Citron Vert & Orange\n",
      "Kinder,Ferrero ---------- Kinder Joy Egg\n",
      "Kinder,Ferrero ---------- Kinder surprise maxi infinimix\n",
      "Ferrero ---------- Nutella\n",
      "Ferrero ---------- Kinder Chocolate\n",
      "Ferrero,Nutella ---------- Nutella\n"
     ]
    }
   ],
   "source": [
    "ferrero2=coll.find({'brands' : {'$regex':'.*Ferrero.*'} })\n",
    "print(\"Number of found products: \",ferrero2.count())\n",
    "for p in ferrero2:\n",
    "    try:\n",
    "        print(p['brands'],\"-\"*10,p['product_name'])\n",
    "    except:\n",
    "        print(\"WARNING! - PRODUCT NAME NOT AVAILABLE\")"
   ]
  },
  {
   "cell_type": "markdown",
   "metadata": {},
   "source": [
    "More complex queries can be configured by applying logical operators and comparison symbols, such as `$and, $or`, `$gt` (greater then) and `$lt` (smaller then). E.g. in the next cell all products with more than 3000 kJ and more than 60g fat per 100g are obtained:  "
   ]
  },
  {
   "cell_type": "code",
   "execution_count": 41,
   "metadata": {
    "ExecuteTime": {
     "end_time": "2017-11-20T17:15:50.625000Z",
     "start_time": "2017-11-20T18:15:50.620000+01:00"
    }
   },
   "outputs": [],
   "source": [
    "heavy=coll.find(\n",
    "{\n",
    "     '$and': [\n",
    "            { 'energy_100g' : { '$gt': 3000.0 } },\n",
    "            { 'fat_100g'    : { '$gt': 60.0 } }\n",
    "          ]\n",
    "}\n",
    ")"
   ]
  },
  {
   "cell_type": "code",
   "execution_count": 42,
   "metadata": {
    "ExecuteTime": {
     "end_time": "2017-11-20T17:16:00.690000Z",
     "start_time": "2017-11-20T18:16:00.055000+01:00"
    }
   },
   "outputs": [
    {
     "data": {
      "text/plain": [
       "4200"
      ]
     },
     "execution_count": 42,
     "metadata": {},
     "output_type": "execute_result"
    }
   ],
   "source": [
    "heavy.count()"
   ]
  },
  {
   "cell_type": "markdown",
   "metadata": {},
   "source": [
    "The `next()`-operator can be obtained to iterate through all items of a query-result:"
   ]
  },
  {
   "cell_type": "code",
   "execution_count": 43,
   "metadata": {
    "ExecuteTime": {
     "end_time": "2017-11-20T17:16:10.844000Z",
     "start_time": "2017-11-20T18:16:10.814000+01:00"
    }
   },
   "outputs": [
    {
     "name": "stdout",
     "output_type": "stream",
     "text": [
      "----------\n",
      "Organic Sunflower Oil\n",
      "3586\n",
      "100\n",
      "----------\n",
      "Organic Extra Virgin Olive Oil\n",
      "3586\n",
      "100\n",
      "----------\n",
      "Organic Canola Oil Refined\n",
      "3586\n",
      "100\n",
      "----------\n",
      "Organic Unrefined Extra Virgin Coconut Oil\n",
      "3586\n",
      "100\n",
      "----------\n",
      "100% Pure Canola Oil\n",
      "3586\n",
      "100\n",
      "----------\n",
      "Imported Olive Oil\n",
      "3347\n",
      "93.33\n",
      "----------\n",
      "Olive Oil\n",
      "3347\n",
      "93.33\n",
      "----------\n",
      "Extra Virgin Olive Oil\n",
      "3347\n",
      "93.33\n",
      "----------\n",
      "Ventura, Soybean - Peanut Frying Oil Blend\n",
      "3586\n",
      "100\n",
      "----------\n",
      "Extra Virgin Olive Oil\n",
      "3586\n",
      "100\n"
     ]
    }
   ],
   "source": [
    "for i in range(10): #list the first 10 items\n",
    "    p=next(heavy)\n",
    "    print('-'*10)\n",
    "    print(p['product_name'])\n",
    "    print(p['energy_100g'])\n",
    "    print(p['fat_100g'])"
   ]
  },
  {
   "cell_type": "markdown",
   "metadata": {},
   "source": [
    "In order to retrieve all products with completed nutrition facts, the following query can be applied:"
   ]
  },
  {
   "cell_type": "code",
   "execution_count": 44,
   "metadata": {
    "ExecuteTime": {
     "end_time": "2017-11-20T17:16:29.145000Z",
     "start_time": "2017-11-20T18:16:29.142000+01:00"
    }
   },
   "outputs": [],
   "source": [
    "nutritionProds=coll.find({'states' : {'$regex':'.*en:nutrition-facts-completed.*'} })"
   ]
  },
  {
   "cell_type": "code",
   "execution_count": 45,
   "metadata": {
    "ExecuteTime": {
     "end_time": "2017-11-20T17:16:34.824000Z",
     "start_time": "2017-11-20T18:16:31.314000+01:00"
    }
   },
   "outputs": [
    {
     "data": {
      "text/plain": [
       "309604"
      ]
     },
     "execution_count": 45,
     "metadata": {},
     "output_type": "execute_result"
    }
   ],
   "source": [
    "nutritionProds.count()"
   ]
  },
  {
   "cell_type": "code",
   "execution_count": 46,
   "metadata": {
    "ExecuteTime": {
     "end_time": "2017-11-20T17:17:11.627000Z",
     "start_time": "2017-11-20T18:17:10.957000+01:00"
    }
   },
   "outputs": [],
   "source": [
    "cats=coll.distinct('countries_tags')"
   ]
  },
  {
   "cell_type": "markdown",
   "metadata": {},
   "source": [
    "Get all countries:"
   ]
  },
  {
   "cell_type": "code",
   "execution_count": 47,
   "metadata": {
    "ExecuteTime": {
     "end_time": "2017-11-20T17:17:19.375000Z",
     "start_time": "2017-11-20T18:17:19.368000+01:00"
    }
   },
   "outputs": [
    {
     "name": "stdout",
     "output_type": "stream",
     "text": [
      "['en:poland', 'fr:spanien', 'fr:reino-unido', 'en:nederland', 'en:moldova', 'en:senegal', 'en:sweden', 'en:saint-pierre-and-miquelon', 'fr:mauricio', 'en:trinidad-and-tobago', 'en:albania', 'en:austria', 'en:republic-of-the-congo', 'en:greece', 'en:new-zealand', 'en:republique-de-chine', 'en:costa-rica', 'en:mauritania', 'fr:spanje', 'en:afghanistan']\n",
      "224\n"
     ]
    }
   ],
   "source": [
    "countries=set()\n",
    "for c in cats:\n",
    "    for s in c.split(','):\n",
    "        countries.add(s)\n",
    "print(list(countries)[:20])\n",
    "print(len(countries))"
   ]
  },
  {
   "cell_type": "markdown",
   "metadata": {},
   "source": [
    "Find all Products which are sold in Germany:"
   ]
  },
  {
   "cell_type": "code",
   "execution_count": 48,
   "metadata": {
    "ExecuteTime": {
     "end_time": "2017-11-20T17:18:28.190000Z",
     "start_time": "2017-11-20T18:18:27.666000+01:00"
    }
   },
   "outputs": [
    {
     "name": "stdout",
     "output_type": "stream",
     "text": [
      "714\n"
     ]
    }
   ],
   "source": [
    "germanProds=coll.find({'countries' : {'$regex':'.*[gG]erman.*'} })\n",
    "print(germanProds.count())"
   ]
  },
  {
   "cell_type": "code",
   "execution_count": 49,
   "metadata": {
    "ExecuteTime": {
     "end_time": "2017-11-20T17:18:47.478000Z",
     "start_time": "2017-11-20T18:18:46.973000+01:00"
    }
   },
   "outputs": [
    {
     "data": {
      "text/plain": [
       "['Germany',\n",
       " 'United States,Germany',\n",
       " 'Germany,Switzerland',\n",
       " 'Germany,Spain',\n",
       " 'Germany,United Kingdom,United States',\n",
       " 'France,Germany',\n",
       " 'Germany,United States',\n",
       " 'Germany,Portugal,Spain',\n",
       " 'Germany, en:france,France',\n",
       " 'Germany,France',\n",
       " 'Belgium,France,Germany,Ireland,Netherlands,Portugal,Spain,United Kingdom',\n",
       " 'Belgique,France,Suisse, en:germany',\n",
       " 'France,Germany,Switzerland',\n",
       " 'Austria,France,Germany,Italy,Netherlands,Switzerland',\n",
       " 'Denmark,France,Germany,Hungary,Portugal,Serbia,Spain,Switzerland,United Kingdom',\n",
       " 'France, en:germany',\n",
       " 'Belgium,France,Germany,Italy,Netherlands,Portugal,Spain,Switzerland,United Kingdom',\n",
       " 'Germany, Suisse',\n",
       " 'Belgium,France,Germany,Switzerland',\n",
       " 'Australia,Czech Republic,France,Germany,Hungary']"
      ]
     },
     "execution_count": 49,
     "metadata": {},
     "output_type": "execute_result"
    }
   ],
   "source": [
    "germanProds.distinct('countries')[:20]"
   ]
  },
  {
   "cell_type": "markdown",
   "metadata": {},
   "source": [
    "## Import collection from MongoDB into Pandas dataframe"
   ]
  },
  {
   "cell_type": "code",
   "execution_count": 50,
   "metadata": {
    "ExecuteTime": {
     "end_time": "2017-11-20T17:19:03.863000Z",
     "start_time": "2017-11-20T18:18:57.132000+01:00"
    }
   },
   "outputs": [],
   "source": [
    "import pandas as pd"
   ]
  },
  {
   "cell_type": "code",
   "execution_count": 51,
   "metadata": {
    "ExecuteTime": {
     "end_time": "2017-11-20T17:20:01.068000Z",
     "start_time": "2017-11-20T18:20:00.423000+01:00"
    }
   },
   "outputs": [],
   "source": [
    "df=pd.DataFrame(list(germanProds))"
   ]
  },
  {
   "cell_type": "code",
   "execution_count": 52,
   "metadata": {
    "ExecuteTime": {
     "end_time": "2017-11-20T17:20:53.338000Z",
     "start_time": "2017-11-20T18:20:53.317000+01:00"
    }
   },
   "outputs": [
    {
     "name": "stdout",
     "output_type": "stream",
     "text": [
      "     -alpha-linolenic-acid_100g  -capric-acid_100g  -caprylic-acid_100g  \\\n",
      "709                         NaN                NaN                  NaN   \n",
      "710                         NaN                NaN                  NaN   \n",
      "711                         NaN                NaN                  NaN   \n",
      "712                         NaN                NaN                  NaN   \n",
      "713                         NaN                NaN                  NaN   \n",
      "\n",
      "     -docosahexaenoic-acid_100g  -eicosapentaenoic-acid_100g  -lactose_100g  \\\n",
      "709                         NaN                          NaN            NaN   \n",
      "710                         NaN                          NaN            NaN   \n",
      "711                         NaN                          NaN            NaN   \n",
      "712                         NaN                          NaN            NaN   \n",
      "713                         NaN                          NaN            NaN   \n",
      "\n",
      "     -lauric-acid_100g  -linoleic-acid_100g  -myristic-acid_100g  \\\n",
      "709                NaN                  NaN                  NaN   \n",
      "710                NaN                  NaN                  NaN   \n",
      "711                NaN                  NaN                  NaN   \n",
      "712                NaN                  NaN                  NaN   \n",
      "713                NaN                  NaN                  NaN   \n",
      "\n",
      "     -oleic-acid_100g    ...      vitamin-b12_100g  vitamin-b1_100g  \\\n",
      "709               NaN    ...                   NaN              NaN   \n",
      "710               NaN    ...                   NaN              NaN   \n",
      "711               NaN    ...                   NaN              NaN   \n",
      "712               NaN    ...                   NaN              NaN   \n",
      "713               NaN    ...                   NaN              NaN   \n",
      "\n",
      "    vitamin-b2_100g vitamin-b6_100g vitamin-b9_100g  vitamin-c_100g  \\\n",
      "709             NaN             NaN             NaN             NaN   \n",
      "710             NaN             NaN             NaN           0.032   \n",
      "711             NaN             NaN             NaN             NaN   \n",
      "712             NaN             NaN             NaN             NaN   \n",
      "713             NaN             NaN             NaN           0.000   \n",
      "\n",
      "    vitamin-d_100g  vitamin-e_100g vitamin-pp_100g  zinc_100g  \n",
      "709            NaN             NaN             NaN        NaN  \n",
      "710            NaN             NaN             NaN        NaN  \n",
      "711            NaN             NaN             NaN        NaN  \n",
      "712            NaN             NaN             NaN        NaN  \n",
      "713            NaN             NaN             NaN        NaN  \n",
      "\n",
      "[5 rows x 112 columns]\n"
     ]
    }
   ],
   "source": [
    "print(df.tail())"
   ]
  },
  {
   "cell_type": "code",
   "execution_count": 53,
   "metadata": {
    "ExecuteTime": {
     "end_time": "2017-11-20T17:20:03.268000Z",
     "start_time": "2017-11-20T18:20:03.263000+01:00"
    }
   },
   "outputs": [
    {
     "data": {
      "text/plain": [
       "(714, 112)"
      ]
     },
     "execution_count": 53,
     "metadata": {},
     "output_type": "execute_result"
    }
   ],
   "source": [
    "df.shape"
   ]
  },
  {
   "cell_type": "markdown",
   "metadata": {},
   "source": [
    "### Define subset of relevant columns\n",
    "In a first step all columns of the German dataframe, which have more than 500 values are determined:"
   ]
  },
  {
   "cell_type": "code",
   "execution_count": 54,
   "metadata": {
    "ExecuteTime": {
     "end_time": "2017-11-20T17:21:14.152000Z",
     "start_time": "2017-11-20T18:21:13.816000+01:00"
    }
   },
   "outputs": [
    {
     "name": "stdout",
     "output_type": "stream",
     "text": [
      "['_id', 'additives', 'additives_n', 'brands', 'brands_tags', 'carbohydrates_100g', 'categories', 'categories_en', 'categories_tags', 'code', 'countries', 'countries_en', 'countries_tags', 'created_datetime', 'created_t', 'creator', 'energy_100g', 'fat_100g', 'ingredients_from_palm_oil_n', 'ingredients_text', 'ingredients_that_may_be_from_palm_oil_n', 'last_modified_datetime', 'last_modified_t', 'main_category', 'main_category_en', 'nutrition-score-fr_100g', 'nutrition-score-uk_100g', 'nutrition_grade_fr', 'packaging', 'packaging_tags', 'pnns_groups_1', 'pnns_groups_2', 'product_name', 'proteins_100g', 'quantity', 'salt_100g', 'saturated-fat_100g', 'sodium_100g', 'states', 'states_en', 'states_tags', 'sugars_100g', 'url']\n"
     ]
    }
   ],
   "source": [
    "relCols=[]\n",
    "for c in df.columns:\n",
    "    if df[c].dropna().count()>500:\n",
    "        relCols.append(c)\n",
    "print(relCols)"
   ]
  },
  {
   "cell_type": "markdown",
   "metadata": {},
   "source": [
    "From the column subset generated above a further subset of interesting columns is manually configured:"
   ]
  },
  {
   "cell_type": "code",
   "execution_count": 55,
   "metadata": {
    "ExecuteTime": {
     "end_time": "2017-11-20T17:21:42.587000Z",
     "start_time": "2017-11-20T18:21:42.583000+01:00"
    }
   },
   "outputs": [],
   "source": [
    "relCols=['brands','product_name','main_category','energy_100g', 'fat_100g','proteins_100g','salt_100g','carbohydrates_100g','sugars_100g', 'sodium_100g', 'saturated-fat_100g']"
   ]
  },
  {
   "cell_type": "markdown",
   "metadata": {},
   "source": [
    "Drop all rows of the German dataframe, which have non-values in the relevant columns:"
   ]
  },
  {
   "cell_type": "code",
   "execution_count": 56,
   "metadata": {
    "ExecuteTime": {
     "end_time": "2017-11-20T17:21:53.466000Z",
     "start_time": "2017-11-20T18:21:53.417000+01:00"
    }
   },
   "outputs": [],
   "source": [
    "dfclean=df[relCols].dropna()"
   ]
  },
  {
   "cell_type": "markdown",
   "metadata": {},
   "source": [
    "### Descriptive Statistics and visualization\n",
    "Calculate some descriptive statistics:"
   ]
  },
  {
   "cell_type": "code",
   "execution_count": 57,
   "metadata": {
    "ExecuteTime": {
     "end_time": "2017-11-20T17:21:59.366000Z",
     "start_time": "2017-11-20T18:21:59.290000+01:00"
    }
   },
   "outputs": [
    {
     "data": {
      "text/html": [
       "<div>\n",
       "<style scoped>\n",
       "    .dataframe tbody tr th:only-of-type {\n",
       "        vertical-align: middle;\n",
       "    }\n",
       "\n",
       "    .dataframe tbody tr th {\n",
       "        vertical-align: top;\n",
       "    }\n",
       "\n",
       "    .dataframe thead th {\n",
       "        text-align: right;\n",
       "    }\n",
       "</style>\n",
       "<table border=\"1\" class=\"dataframe\">\n",
       "  <thead>\n",
       "    <tr style=\"text-align: right;\">\n",
       "      <th></th>\n",
       "      <th>energy_100g</th>\n",
       "      <th>fat_100g</th>\n",
       "      <th>proteins_100g</th>\n",
       "      <th>salt_100g</th>\n",
       "      <th>carbohydrates_100g</th>\n",
       "      <th>sugars_100g</th>\n",
       "      <th>sodium_100g</th>\n",
       "      <th>saturated-fat_100g</th>\n",
       "    </tr>\n",
       "  </thead>\n",
       "  <tbody>\n",
       "    <tr>\n",
       "      <th>count</th>\n",
       "      <td>466.000000</td>\n",
       "      <td>466.000000</td>\n",
       "      <td>466.000000</td>\n",
       "      <td>466.000000</td>\n",
       "      <td>466.000000</td>\n",
       "      <td>466.000000</td>\n",
       "      <td>466.000000</td>\n",
       "      <td>466.000000</td>\n",
       "    </tr>\n",
       "    <tr>\n",
       "      <th>mean</th>\n",
       "      <td>1251.597639</td>\n",
       "      <td>15.797116</td>\n",
       "      <td>8.633433</td>\n",
       "      <td>0.852519</td>\n",
       "      <td>29.638734</td>\n",
       "      <td>14.521094</td>\n",
       "      <td>0.335632</td>\n",
       "      <td>6.537835</td>\n",
       "    </tr>\n",
       "    <tr>\n",
       "      <th>std</th>\n",
       "      <td>828.731115</td>\n",
       "      <td>18.379247</td>\n",
       "      <td>10.436273</td>\n",
       "      <td>2.160974</td>\n",
       "      <td>27.057874</td>\n",
       "      <td>19.500017</td>\n",
       "      <td>0.850757</td>\n",
       "      <td>8.744876</td>\n",
       "    </tr>\n",
       "    <tr>\n",
       "      <th>min</th>\n",
       "      <td>0.000000</td>\n",
       "      <td>0.000000</td>\n",
       "      <td>0.000000</td>\n",
       "      <td>0.000000</td>\n",
       "      <td>0.000000</td>\n",
       "      <td>0.000000</td>\n",
       "      <td>0.000000</td>\n",
       "      <td>0.000000</td>\n",
       "    </tr>\n",
       "    <tr>\n",
       "      <th>25%</th>\n",
       "      <td>398.750000</td>\n",
       "      <td>1.400000</td>\n",
       "      <td>2.125000</td>\n",
       "      <td>0.050000</td>\n",
       "      <td>5.125000</td>\n",
       "      <td>1.800000</td>\n",
       "      <td>0.019685</td>\n",
       "      <td>0.300000</td>\n",
       "    </tr>\n",
       "    <tr>\n",
       "      <th>50%</th>\n",
       "      <td>1366.500000</td>\n",
       "      <td>7.500000</td>\n",
       "      <td>6.100000</td>\n",
       "      <td>0.275000</td>\n",
       "      <td>16.600000</td>\n",
       "      <td>5.000000</td>\n",
       "      <td>0.108268</td>\n",
       "      <td>2.400000</td>\n",
       "    </tr>\n",
       "    <tr>\n",
       "      <th>75%</th>\n",
       "      <td>1866.500000</td>\n",
       "      <td>28.000000</td>\n",
       "      <td>11.000000</td>\n",
       "      <td>1.100000</td>\n",
       "      <td>55.925000</td>\n",
       "      <td>20.800000</td>\n",
       "      <td>0.433071</td>\n",
       "      <td>10.875000</td>\n",
       "    </tr>\n",
       "    <tr>\n",
       "      <th>max</th>\n",
       "      <td>3853.000000</td>\n",
       "      <td>99.900000</td>\n",
       "      <td>82.000000</td>\n",
       "      <td>35.560000</td>\n",
       "      <td>100.000000</td>\n",
       "      <td>100.000000</td>\n",
       "      <td>14.000000</td>\n",
       "      <td>65.800000</td>\n",
       "    </tr>\n",
       "  </tbody>\n",
       "</table>\n",
       "</div>"
      ],
      "text/plain": [
       "       energy_100g    fat_100g  proteins_100g   salt_100g  carbohydrates_100g  \\\n",
       "count   466.000000  466.000000     466.000000  466.000000          466.000000   \n",
       "mean   1251.597639   15.797116       8.633433    0.852519           29.638734   \n",
       "std     828.731115   18.379247      10.436273    2.160974           27.057874   \n",
       "min       0.000000    0.000000       0.000000    0.000000            0.000000   \n",
       "25%     398.750000    1.400000       2.125000    0.050000            5.125000   \n",
       "50%    1366.500000    7.500000       6.100000    0.275000           16.600000   \n",
       "75%    1866.500000   28.000000      11.000000    1.100000           55.925000   \n",
       "max    3853.000000   99.900000      82.000000   35.560000          100.000000   \n",
       "\n",
       "       sugars_100g  sodium_100g  saturated-fat_100g  \n",
       "count   466.000000   466.000000          466.000000  \n",
       "mean     14.521094     0.335632            6.537835  \n",
       "std      19.500017     0.850757            8.744876  \n",
       "min       0.000000     0.000000            0.000000  \n",
       "25%       1.800000     0.019685            0.300000  \n",
       "50%       5.000000     0.108268            2.400000  \n",
       "75%      20.800000     0.433071           10.875000  \n",
       "max     100.000000    14.000000           65.800000  "
      ]
     },
     "execution_count": 57,
     "metadata": {},
     "output_type": "execute_result"
    }
   ],
   "source": [
    "dfclean.describe()"
   ]
  },
  {
   "cell_type": "code",
   "execution_count": 58,
   "metadata": {
    "ExecuteTime": {
     "end_time": "2017-11-20T17:23:24.748000Z",
     "start_time": "2017-11-20T18:23:22.474000+01:00"
    }
   },
   "outputs": [
    {
     "data": {
      "image/png": "[encoded data removed]",
      "text/plain": [
       "<Figure size 432x288 with 1 Axes>"
      ]
     },
     "metadata": {},
     "output_type": "display_data"
    }
   ],
   "source": [
    "%matplotlib inline\n",
    "from matplotlib import pyplot as plt\n",
    "df.plot('sugars_100g','energy_100g',kind=\"scatter\")\n",
    "plt.show()"
   ]
  },
  {
   "cell_type": "code",
   "execution_count": 59,
   "metadata": {
    "ExecuteTime": {
     "end_time": "2017-11-20T17:23:29.043000Z",
     "start_time": "2017-11-20T18:23:28.834000+01:00"
    }
   },
   "outputs": [
    {
     "data": {
      "image/png": "[encoded data removed]",
      "text/plain": [
       "<Figure size 432x288 with 1 Axes>"
      ]
     },
     "metadata": {},
     "output_type": "display_data"
    }
   ],
   "source": [
    "df.plot('fat_100g','energy_100g',kind=\"scatter\")\n",
    "plt.show()"
   ]
  },
  {
   "cell_type": "code",
   "execution_count": 60,
   "metadata": {
    "ExecuteTime": {
     "end_time": "2017-11-20T17:23:33.717000Z",
     "start_time": "2017-11-20T18:23:33.521000+01:00"
    }
   },
   "outputs": [
    {
     "data": {
      "image/png": "[encoded data removed]",
      "text/plain": [
       "<Figure size 432x288 with 1 Axes>"
      ]
     },
     "metadata": {},
     "output_type": "display_data"
    }
   ],
   "source": [
    "df.plot('sugars_100g','fat_100g',kind=\"scatter\")\n",
    "plt.show()"
   ]
  },
  {
   "cell_type": "markdown",
   "metadata": {},
   "source": [
    "Interprete these plots!"
   ]
  },
  {
   "cell_type": "code",
   "execution_count": 61,
   "metadata": {
    "ExecuteTime": {
     "end_time": "2017-11-21T12:59:55.897000Z",
     "start_time": "2017-11-21T13:59:55.797000+01:00"
    }
   },
   "outputs": [],
   "source": [
    "dfclean.to_csv(\"germanProductSubset.csv\",encoding=\"utf-8\")"
   ]
  },
  {
   "cell_type": "code",
   "execution_count": null,
   "metadata": {},
   "outputs": [],
   "source": []
  }
 ],
 "metadata": {
  "anaconda-cloud": {},
  "kernelspec": {
   "display_name": "Python 3",
   "language": "python",
   "name": "python3"
  },
  "language_info": {
   "codemirror_mode": {
    "name": "ipython",
    "version": 3
   },
   "file_extension": ".py",
   "mimetype": "text/x-python",
   "name": "python",
   "nbconvert_exporter": "python",
   "pygments_lexer": "ipython3",
   "version": "3.7.5"
  },
  "nav_menu": {},
  "toc": {
   "base_numbering": 1,
   "nav_menu": {},
   "number_sections": true,
   "sideBar": true,
   "skip_h1_title": false,
   "title_cell": "Table of Contents",
   "title_sidebar": "Contents",
   "toc_cell": false,
   "toc_position": {},
   "toc_section_display": "block",
   "toc_window_display": false
  }
 },
 "nbformat": 4,
 "nbformat_minor": 2
}

{
 "cells": [
  {
   "cell_type": "markdown",
   "metadata": {
    "hide_input": true
   },
   "source": [
    "[Back to Lecture Overview](Overview.ipynb)"
   ]
  },
  {
   "cell_type": "markdown",
   "metadata": {},
   "source": [
    "# Functions in Python\n",
    "* Author: Johannes Maucher\n",
    "* Last Update: 02.07.2019"
   ]
  },
  {
   "cell_type": "markdown",
   "metadata": {},
   "source": [
    "<figure align=\"center\">\n",
    "<img width=\"800\" src=\"https://maucher.home.hdm-stuttgart.de/Pics/DS_Python_Functions_All.png\">\n",
    "</figure>"
   ]
  },
  {
   "cell_type": "markdown",
   "metadata": {},
   "source": [
    "In general software shall be designed such that it is not only efficient (in terms of computation- and memory complexity) but also readable, reliable and maintainable without too much effort. In order to fulfill these requirements a **modular software design** is preferable. This  design concept implies that the entire code is split into compact, reusable parts. These parts should be designed such that there exists as less as possible dependencies between different parts. Python supports a hierarchical splitting of the software into its parts: On the highest level packages are distinguished. A single package may consist of different modules (Python-files), and each module can contain the definition of multiple classes and functions. Hence, defining code in separate functions is crucial for developing high-quality software. \n",
    "\n",
    "Functions are usually defined in external modules. In order to use them in the current program the corresponding modules/packages must be imported."
   ]
  },
  {
   "cell_type": "markdown",
   "metadata": {},
   "source": [
    "<figure align=\"center\">\n",
    "<img width=\"600\" src=\"https://maucher.home.hdm-stuttgart.de/Pics/pythonModularity.png\">\n",
    "</figure>"
   ]
  },
  {
   "cell_type": "markdown",
   "metadata": {},
   "source": [
    "Python already provides many **built-in functions**, such as `len(x)`, which returns the length (number of elements) in `x`, or the function `range(N)`, which returns a list of integers from $0$ to $N-1$. \n",
    "\n",
    "Subject of this notebook is the implementation of **user-defined function**."
   ]
  },
  {
   "cell_type": "markdown",
   "metadata": {},
   "source": [
    "## User-defined functions\n",
    "### Function Definition\n",
    "The general syntax for defining a function in Python is:\n",
    "```\n",
    "def function_name(list_of_arguments):\n",
    "    block of instructions\n",
    "    return x\n",
    "```\n",
    "The definition starts with the key-word `def` followed by the selected function name. After the function-name there must be parenthesis. Within the parenthesis there can be zero, one or many arguments. Arguments are the parameters, which are passed from the calling piece of code to the called function. After the round parenthesis a colon `:` must be inserted. \n",
    "\n",
    "The body of the function contains a sequence of instructions. This block of instructions must be **indented**. A function usually returns one or more values to the calling piece of code. The return value(s) are preceded by the key-word `return`. If `return` is not used in the function the function returns the value `None`.\n",
    "\n",
    "The function defined in the following code cell calculates the euclidean distance between two points. The function applies the function `pow()`, from the `math`-package of the Python standard library. Therefore this package, or at least the function `pow()` must be imported (first line). The function `pow(x,i)` calculates the $i.th$ power of $x$. \n"
   ]
  },
  {
   "cell_type": "code",
   "execution_count": 20,
   "metadata": {
    "ExecuteTime": {
     "end_time": "2017-09-28T05:30:28.864000Z",
     "start_time": "2017-09-28T05:30:28.848000Z"
    }
   },
   "outputs": [],
   "source": [
    "import math\n",
    "def eukliddist(pointA,pointB):\n",
    "        ''' Function calculates the euclidean distance between a pair of points'''\n",
    "        mindim=min(len(pointA),len(pointB)) #determine minimum dimension of points\n",
    "        sum=0\n",
    "        for i in range(mindim):\n",
    "                sum+=math.pow(pointA[i]-pointB[i],2)\n",
    "        return math.sqrt(sum) #return euclidean distance"
   ]
  },
  {
   "cell_type": "markdown",
   "metadata": {},
   "source": [
    "In the example above the first statement of the function is an optional string literal. This is the function’s documentation string, or docstring (More about docstrings can be found e.g. in [Documentation Strings](https://docs.python.org/2/tutorial/controlflow.html#tut-docstrings)). There are tools which use docstrings to automatically produce online or printed documentation.\n",
    "\n",
    "### Function Call\n",
    "Once this function is defined it can be called from elsewhere, as demonstrated below:"
   ]
  },
  {
   "cell_type": "code",
   "execution_count": 21,
   "metadata": {
    "ExecuteTime": {
     "end_time": "2017-09-28T05:30:39.967000Z",
     "start_time": "2017-09-28T05:30:39.951000Z"
    }
   },
   "outputs": [
    {
     "name": "stdout",
     "output_type": "stream",
     "text": [
      "Coordinates of first point:     [1, 1, 1]\n",
      "Coordinates of second point:    [2, 3, 3]\n",
      "----------------------------------------------\n",
      "Distance between the points:      3.0\n"
     ]
    }
   ],
   "source": [
    "A=[1,1,1]\n",
    "B=[2,3,3]\n",
    "d_AB=eukliddist(A,B)\n",
    "print('Coordinates of first point:    ',A)\n",
    "print('Coordinates of second point:   ',B)\n",
    "print('----------------------------------------------')\n",
    "print('Distance between the points:     ',d_AB)"
   ]
  },
  {
   "cell_type": "markdown",
   "metadata": {},
   "source": [
    "### Define functions in other modules\n",
    "As well as function from other packages, also the user-defined functions are often defined in external files of type *.py*. In order to use these functions the corresponding files (=modules) must be imported in the same way as functions from other packages. The directory of the file, which contains the self-defined functions must be included in the *Pythonpath-Variable* of the system. Or it must be in the same directory as the program that imports the module.\n",
    "\n",
    "We have defined a simple function `cumsum(numList)` in the file *helpers.py*. This function just calculates the sum over all elements in the list, which is passed as argument to the function. The function can be called as follows:\n"
   ]
  },
  {
   "cell_type": "code",
   "execution_count": 22,
   "metadata": {
    "ExecuteTime": {
     "end_time": "2017-09-28T05:31:55.427000Z",
     "start_time": "2017-09-28T05:31:55.396000Z"
    }
   },
   "outputs": [
    {
     "name": "stdout",
     "output_type": "stream",
     "text": [
      "15\n"
     ]
    }
   ],
   "source": [
    "import helpers\n",
    "mylist=list(range(6))\n",
    "s = helpers.cumsum(mylist)\n",
    "print(s)"
   ]
  },
  {
   "cell_type": "markdown",
   "metadata": {},
   "source": [
    "The import in the cell above works only, if the module `helpers` is in the current directory. If this is not the case, the directory `dir`, which contains the module that shall be imported must be added to the python-path-variable. This can be realized as shown in the cell below:  "
   ]
  },
  {
   "cell_type": "code",
   "execution_count": 2,
   "metadata": {},
   "outputs": [],
   "source": [
    "import sys\n",
    "sys.path.append('/path/to/dir')"
   ]
  },
  {
   "cell_type": "markdown",
   "metadata": {},
   "source": [
    "### Keyword Arguments\n",
    "In the function-call above the first parameter `A` is passed to the first argument of the function definition (which is `pointA`) and the second parameter `B` is passed to the second argument of the function definition (which is `pointB`). \n",
    "\n",
    "Another option for the same function-call is to use key-word arguments within the parenthesis of the function call. That is: Each parameter is explicetly assigned to the name of an argument. In the case of the `eukliddist()`-function from above the function-call will then be: \n",
    "```\n",
    "d_AB=eukliddist(pointA=A,pointB=B)\n",
    "```\n",
    "This option yields the same result. The main advantage is, that it does not matter in which sequence the parameters are passed to the function. Moreover, if the arguments of the function are assigned with default-values, than the use of keyword arguments allows, that only for a subset of arguments parameters must be assigned in the function call (see next subsection).\n"
   ]
  },
  {
   "cell_type": "markdown",
   "metadata": {},
   "source": [
    "### Default Values for Function Arguments"
   ]
  },
  {
   "cell_type": "markdown",
   "metadata": {},
   "source": [
    "Default values can be assigned to arguments of functions. Then in the function-call not all arguments must be assigned with parameters. Arguments, for which no parameter is assigned at function-call just have their default-value. For all arguments that have no default-value parameter must be assigned if the function is invoked.\n",
    "\n",
    "The following code-cell contains three calls of the function `eukliddist2()`, which is a modification of the previously introduced function `eukliddist()`. In `eukliddist2()`, which we defined in module *helpers.py*, default-values are assigned to the arguments `pointA` and `pointB`. These default-values are the origins of the 3-dimensional space, `[0,0,0]`. Hence, it is possible to assign only one or even no argument at function-call. If only one argument is assigned at function-call, the magnitude of the point, which is assigned, is calculated. In the code-cell below, the magnitude of `A=[4,7,9]` is calculated.  "
   ]
  },
  {
   "cell_type": "code",
   "execution_count": 23,
   "metadata": {
    "ExecuteTime": {
     "end_time": "2017-09-28T05:37:01.670000Z",
     "start_time": "2017-09-28T05:37:01.655000Z"
    }
   },
   "outputs": [
    {
     "name": "stdout",
     "output_type": "stream",
     "text": [
      "Euclidean distance between points A and B:  3.0\n",
      "Magnitude of point A: 12.083045973594572\n",
      "Useless, but no syntactic error:  0.0\n"
     ]
    }
   ],
   "source": [
    "import helpers\n",
    "A = [4,7,9]\n",
    "B = [3,5,7]\n",
    "distAB=helpers.eukliddist2(pointA=A, pointB=B) #Function call with two assignments\n",
    "print(\"Euclidean distance between points A and B: \",distAB)\n",
    "magA=helpers.eukliddist2(pointA=A) #Function call with one assignment (one default-value is used)\n",
    "print(\"Magnitude of point A:\",magA)\n",
    "z=helpers.eukliddist2() #Function call with no assignments (both default-values are used)\n",
    "print(\"Useless, but no syntactic error: \",z)"
   ]
  },
  {
   "cell_type": "markdown",
   "metadata": {},
   "source": [
    "**Example:**\n",
    "\n",
    "\n",
    "The concept of default-values for function arguments provides much flexibility for applying functions: Sometimes users like to configure parameters in detail, in other cases they do not want to spend any time for configuring specific parameters. For example in visualisation tasks, the flexibility provided by default-values is often exploited: In early iterations graphical features like color, marker-size, marker-type etc. is not relevant and the default-values are applied. Later on, the graphical design becomes more relevant and users like to define these parameters.\n",
    "\n",
    "\n",
    "The example below implements such a simple visualization task: Two 2-dimensional pointsets shall be plotted, such that they can be distinguished. In the following code-cell we define a function `plot2pointsets()`, which applies the *pyplot*-module from *matplotlib*. In the definition of `plot2pointsets()` the first two arguments are the pointsets. Each pointset is a list of lists. All other arguments in this functions define graphical features as color and markersize. Default values are assigned to these graphical-feature-arguments.\n",
    "\n",
    "Here is the definition of `plot2pointsets()`:"
   ]
  },
  {
   "cell_type": "code",
   "execution_count": 24,
   "metadata": {
    "ExecuteTime": {
     "end_time": "2017-09-28T05:42:39.464000Z",
     "start_time": "2017-09-28T05:42:39.448000Z"
    }
   },
   "outputs": [],
   "source": [
    "#matplotlib inline\n",
    "from matplotlib import pyplot as plt\n",
    "def plot2pointsets(ps1,ps2,col1='b',mark1='o',col2='r',mark2='s',marksize=10):\n",
    "        plt.grid(True)\n",
    "        m1=col1+mark1\n",
    "        m2=col2+mark2\n",
    "        xvals=[]\n",
    "        yvals=[]\n",
    "        for a in ps1:\n",
    "                xvals.append(a[0])\n",
    "                yvals.append(a[1])\n",
    "        plt.plot(xvals,yvals,m1,markersize=marksize)\n",
    "        xvals=[]\n",
    "        yvals=[]\n",
    "        for a in ps2:\n",
    "                xvals.append(a[0])\n",
    "                yvals.append(a[1])\n",
    "        plt.plot(xvals,yvals,m2,markersize=marksize)\n",
    "        plt.title(\"2 Pointsets\")\n",
    "        plt.xlabel(\"x\")\n",
    "        plt.ylabel(\"y\")\n",
    "        plt.show()"
   ]
  },
  {
   "cell_type": "markdown",
   "metadata": {},
   "source": [
    "Next, two 2-dimensional pointsets are defined as lists of lists and the function `plot2pointsets()` is called without explicetly defined graphical arguments. The pointsets are plotted with the default-parameters:"
   ]
  },
  {
   "cell_type": "code",
   "execution_count": 25,
   "metadata": {
    "ExecuteTime": {
     "end_time": "2017-09-28T05:42:54.968000Z",
     "start_time": "2017-09-28T05:42:54.765000Z"
    }
   },
   "outputs": [
    {
     "data": {
      "image/png": "[encoded data removed]",
      "text/plain": [
       "<Figure size 432x288 with 1 Axes>"
      ]
     },
     "metadata": {},
     "output_type": "display_data"
    }
   ],
   "source": [
    "p1=[[-1,-0.5],\n",
    "    [-1.5, 0.8],\n",
    "    [-2,0.5],\n",
    "]\n",
    "p2=[[1,1.5],\n",
    "    [2.5, 1.8],\n",
    "    [2,-0.8],\n",
    "]\n",
    "plot2pointsets(p1,p2)"
   ]
  },
  {
   "cell_type": "markdown",
   "metadata": {},
   "source": [
    "In a second function-call the same pointsets are plotted, but with smaller markers:"
   ]
  },
  {
   "cell_type": "code",
   "execution_count": 26,
   "metadata": {
    "ExecuteTime": {
     "end_time": "2017-09-28T05:43:16.153000Z",
     "start_time": "2017-09-28T05:43:15.996000Z"
    }
   },
   "outputs": [
    {
     "data": {
      "image/png": "[encoded data removed]",
      "text/plain": [
       "<Figure size 432x288 with 1 Axes>"
      ]
     },
     "metadata": {},
     "output_type": "display_data"
    }
   ],
   "source": [
    "plot2pointsets(p1,p2,marksize=6)"
   ]
  },
  {
   "cell_type": "markdown",
   "metadata": {},
   "source": [
    "Finally individual markers, colors and markersize is defined for plotting the same pointsets:"
   ]
  },
  {
   "cell_type": "code",
   "execution_count": 27,
   "metadata": {
    "ExecuteTime": {
     "end_time": "2017-09-28T05:43:26.592000Z",
     "start_time": "2017-09-28T05:43:26.420000Z"
    }
   },
   "outputs": [
    {
     "data": {
      "image/png": "[encoded data removed]",
      "text/plain": [
       "<Figure size 432x288 with 1 Axes>"
      ]
     },
     "metadata": {},
     "output_type": "display_data"
    }
   ],
   "source": [
    "plot2pointsets(p1,p2,col1='m',mark1='v',col2='y',mark2='h',marksize=8)"
   ]
  },
  {
   "cell_type": "markdown",
   "metadata": {},
   "source": [
    "## Local and Global Variables in Functions\n",
    "Variables, which are defined inside a function are **local variables**. This means, that they are visible only inside the function and they exist only as long as the function is executed. After the function returns, these local variables can no longer be accessed. \n",
    "\n",
    "Variables, which are neither defined in functions, nor in in classes are **global variables**. They are visible in the entire module (in all functions, classes and other statements).\n",
    "\n",
    "The following code-cell demonstrates, that local variables do not exist outside the function in which they are defined:\n"
   ]
  },
  {
   "cell_type": "code",
   "execution_count": 28,
   "metadata": {
    "ExecuteTime": {
     "end_time": "2017-09-28T05:57:05.576000Z",
     "start_time": "2017-09-28T05:57:05.560000Z"
    }
   },
   "outputs": [],
   "source": [
    "def testfunc():\n",
    "        a=\"local\"\n",
    "        print(\"Inside function:  a=\",a)\n",
    "        print(\"Inside function:  b=\",b)"
   ]
  },
  {
   "cell_type": "code",
   "execution_count": 29,
   "metadata": {
    "ExecuteTime": {
     "end_time": "2017-09-28T05:57:07.966000Z",
     "start_time": "2017-09-28T05:57:07.951000Z"
    }
   },
   "outputs": [
    {
     "name": "stdout",
     "output_type": "stream",
     "text": [
      "Inside function:  a= local\n",
      "Inside function:  b= global\n",
      "Outside function: b= global\n"
     ]
    }
   ],
   "source": [
    "b=\"global\"\n",
    "testfunc()\n",
    "#print \"Outside function: a=\",a  #Would cause an error, because a is not visible outside function.\n",
    "print(\"Outside function: b=\",b)"
   ]
  },
  {
   "cell_type": "markdown",
   "metadata": {},
   "source": [
    "The next cell demonstrates, that global variables can not be modified inside a function (at least not in this way). Note that in this function the assignment `b=globalInFunc` allocates a new local variable, which has the same name as a global variable. The local variable `b` is visible in the function, but not outside. It dies as soon as the function returns. However, the global variable `b` exists before and after function-call. "
   ]
  },
  {
   "cell_type": "code",
   "execution_count": 30,
   "metadata": {
    "ExecuteTime": {
     "end_time": "2017-09-28T05:58:57.571000Z",
     "start_time": "2017-09-28T05:58:57.571000Z"
    }
   },
   "outputs": [],
   "source": [
    "def testfunc():\n",
    "        b=\"globalInFunc\"\n",
    "        a=\"local\"\n",
    "        print(\"Inside function:  a=\",a)\n",
    "        print(\"Inside function:  b=\",b)"
   ]
  },
  {
   "cell_type": "code",
   "execution_count": 31,
   "metadata": {
    "ExecuteTime": {
     "end_time": "2017-09-28T05:59:00.922000Z",
     "start_time": "2017-09-28T05:59:00.906000Z"
    }
   },
   "outputs": [
    {
     "name": "stdout",
     "output_type": "stream",
     "text": [
      "Inside function:  a= local\n",
      "Inside function:  b= globalInFunc\n",
      "Outside function: b= global\n"
     ]
    }
   ],
   "source": [
    "b=\"global\"\n",
    "testfunc()\n",
    "print(\"Outside function: b=\",b)"
   ]
  },
  {
   "cell_type": "markdown",
   "metadata": {},
   "source": [
    "If a global variable must be modified inside a function, then inside the function this variable must be defined to be global by the keyword `global`. The effect is demonstrated in the following cell."
   ]
  },
  {
   "cell_type": "code",
   "execution_count": 32,
   "metadata": {
    "ExecuteTime": {
     "end_time": "2017-09-28T05:59:27.103000Z",
     "start_time": "2017-09-28T05:59:27.088000Z"
    }
   },
   "outputs": [],
   "source": [
    "def testfunc():\n",
    "        global b\n",
    "        b=\"globalInFunc\"\n",
    "        a=\"local\"\n",
    "        print(\"Inside function:  a=\",a)\n",
    "        print(\"Inside function:  b=\",b)"
   ]
  },
  {
   "cell_type": "code",
   "execution_count": 33,
   "metadata": {
    "ExecuteTime": {
     "end_time": "2017-09-28T05:59:32.749000Z",
     "start_time": "2017-09-28T05:59:32.734000Z"
    }
   },
   "outputs": [
    {
     "name": "stdout",
     "output_type": "stream",
     "text": [
      "Inside function:  a= local\n",
      "Inside function:  b= globalInFunc\n",
      "Outside function: b= globalInFunc\n"
     ]
    }
   ],
   "source": [
    "b=\"global\"\n",
    "testfunc()\n",
    "print(\"Outside function: b=\",b)"
   ]
  },
  {
   "cell_type": "markdown",
   "metadata": {},
   "source": [
    "> **Note:** Modification of a global variable inside a function, as in the example above, is quite uncommon and in general a bad practice. Why? "
   ]
  },
  {
   "cell_type": "markdown",
   "metadata": {},
   "source": [
    "## Passing Arguments to functions\n",
    "Python functions neither realize *pass by value* nor *pass by reference*. Some say in Python function arguments are *passed by assignment*. \n",
    "\n",
    "As the following example demonstrates in Python **mutable types** (e.g. lists), which are passed as arguments to functions can be modified inside the function. After the function-call this modification is visible outside. However, if **imutable types** (e.g. Integer, Float, String) are passed to the function, the corresponding variable names can be assigned to new values (new physical space), but this reassignment is not visible outside the function. "
   ]
  },
  {
   "cell_type": "code",
   "execution_count": 35,
   "metadata": {},
   "outputs": [],
   "source": [
    "def testfunc(intArg,listArg,stringArg):\n",
    "    print(\"\\t Before modification in function: intArg=\",intArg)\n",
    "    print(\"\\t Before modification in function: listArg=\",listArg)\n",
    "    print(\"\\t Before modification in function: stringArg=\",stringArg)\n",
    "    intArg=99\n",
    "    listArg[0]=99\n",
    "    stringArg=\"my new string inside\"\n",
    "    print(\"-\"*20)\n",
    "    print(\"\\t After modification in function: intArg=\",intArg)\n",
    "    print(\"\\t After modification in function: listArg=\",listArg)\n",
    "    print(\"\\t After modification in function: stringArg=\",stringArg)\n",
    "    "
   ]
  },
  {
   "cell_type": "code",
   "execution_count": 36,
   "metadata": {},
   "outputs": [
    {
     "name": "stdout",
     "output_type": "stream",
     "text": [
      "\t Before modification in function: intArg= 7\n",
      "\t Before modification in function: listArg= [1, 2, 3, 4]\n",
      "\t Before modification in function: stringArg= Outside\n",
      "--------------------\n",
      "\t After modification in function: intArg= 99\n",
      "\t After modification in function: listArg= [99, 2, 3, 4]\n",
      "\t After modification in function: stringArg= my new string inside\n",
      "\n",
      "\n",
      "----------\n",
      "Outside: myInt= 7\n",
      "Outside: myList= [99, 2, 3, 4]\n",
      "Outside: myString= Outside\n"
     ]
    }
   ],
   "source": [
    "myInt=7 #imutable\n",
    "myList=[1,2,3,4] #mutable\n",
    "myString=\"Outside\" #imutable\n",
    "testfunc(myInt,myList,myString)\n",
    "print(\"\\n\"*2+\"-\"*10)\n",
    "print(\"Outside: myInt=\",myInt)\n",
    "print(\"Outside: myList=\",myList)\n",
    "print(\"Outside: myString=\",myString)"
   ]
  },
  {
   "cell_type": "code",
   "execution_count": null,
   "metadata": {},
   "outputs": [],
   "source": []
  }
 ],
 "metadata": {
  "kernelspec": {
   "display_name": "Python 3",
   "language": "python",
   "name": "python3"
  },
  "language_info": {
   "codemirror_mode": {
    "name": "ipython",
    "version": 3
   },
   "file_extension": ".py",
   "mimetype": "text/x-python",
   "name": "python",
   "nbconvert_exporter": "python",
   "pygments_lexer": "ipython3",
   "version": "3.7.5"
  },
  "nav_menu": {},
  "toc": {
   "base_numbering": 1,
   "nav_menu": {},
   "number_sections": true,
   "sideBar": true,
   "skip_h1_title": false,
   "title_cell": "Table of Contents",
   "title_sidebar": "Contents",
   "toc_cell": false,
   "toc_position": {},
   "toc_section_display": "block",
   "toc_window_display": true
  },
  "toc_position": {
   "height": "743px",
   "left": "0px",
   "right": "1549.83px",
   "top": "125.167px",
   "width": "212px"
  }
 },
 "nbformat": 4,
 "nbformat_minor": 2
}

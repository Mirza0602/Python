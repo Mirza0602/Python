{
 "cells": [
  {
   "cell_type": "markdown",
   "metadata": {
    "toc": "true"
   },
   "source": [
    "# Table of Contents\n",
    " <p><div class=\"lev1 toc-item\"><a href=\"#Functions-in-Python\" data-toc-modified-id=\"Functions-in-Python-1\"><span class=\"toc-item-num\">1&nbsp;&nbsp;</span>Functions in Python</a></div><div class=\"lev2 toc-item\"><a href=\"#User-defined-functions\" data-toc-modified-id=\"User-defined-functions-1.1\"><span class=\"toc-item-num\">1.1&nbsp;&nbsp;</span>User-defined functions</a></div><div class=\"lev3 toc-item\"><a href=\"#Function-Definition\" data-toc-modified-id=\"Function-Definition-1.1.1\"><span class=\"toc-item-num\">1.1.1&nbsp;&nbsp;</span>Function Definition</a></div><div class=\"lev3 toc-item\"><a href=\"#Function-Call\" data-toc-modified-id=\"Function-Call-1.1.2\"><span class=\"toc-item-num\">1.1.2&nbsp;&nbsp;</span>Function Call</a></div><div class=\"lev3 toc-item\"><a href=\"#Define-functions-in-other-modules\" data-toc-modified-id=\"Define-functions-in-other-modules-1.1.3\"><span class=\"toc-item-num\">1.1.3&nbsp;&nbsp;</span>Define functions in other modules</a></div><div class=\"lev3 toc-item\"><a href=\"#Keyword-Arguments\" data-toc-modified-id=\"Keyword-Arguments-1.1.4\"><span class=\"toc-item-num\">1.1.4&nbsp;&nbsp;</span>Keyword Arguments</a></div><div class=\"lev3 toc-item\"><a href=\"#Default-Values-for-Function-Arguments\" data-toc-modified-id=\"Default-Values-for-Function-Arguments-1.1.5\"><span class=\"toc-item-num\">1.1.5&nbsp;&nbsp;</span>Default Values for Function Arguments</a></div><div class=\"lev2 toc-item\"><a href=\"#Local-and-Global-Variables-in-Functions\" data-toc-modified-id=\"Local-and-Global-Variables-in-Functions-1.2\"><span class=\"toc-item-num\">1.2&nbsp;&nbsp;</span>Local and Global Variables in Functions</a></div>"
   ]
  },
  {
   "cell_type": "markdown",
   "metadata": {},
   "source": [
    "[Back to Lecture Overview](Overview.ipynb)"
   ]
  },
  {
   "cell_type": "markdown",
   "metadata": {},
   "source": [
    "# Functions in Python\n",
    "* Author: Johannes Maucher\n",
    "* Last Update: 06.07.2017"
   ]
  },
  {
   "cell_type": "markdown",
   "metadata": {},
   "source": [
    "![Anaconda Navigator](../../Pics/DS_Python_Functions_All.PNG)"
   ]
  },
  {
   "cell_type": "markdown",
   "metadata": {},
   "source": [
    "In general software shall be designed such that it is not only efficient (in terms of computation- and memory complexity) but also readable, reliable and maintainable without too much effort. In order to fulfill these requirements a **modular software design** is preferable. This  design concept implies that the entire code is split into compact, reusable parts. These parts should be designed such that there exists as less as possible dependencies between different parts. Python supports a hierarchical splitting of the software into its parts: On the highest level packages are distinguished. A single package may consist of different modules (Python-files), and each module can contain the definition of multiple classes and functions. Hence, defining code in separate functions is crucial for developing high-quality software. \n",
    "\n",
    "Functions are usually defined in external modules. In order to use them in the current program the corresponding modules/packages must be imported.\n",
    "\n",
    "\n",
    "![Anaconda Navigator](../../Pics/pythonModularity.PNG)\n"
   ]
  },
  {
   "cell_type": "markdown",
   "metadata": {},
   "source": [
    "Python already provides many **built-in functions**, such as `len(x)`, which returns the length (number of elements) in `x`, or the function `range(N)`, which returns a list of integers from $0$ to $N-1$. \n",
    "\n",
    "Subject of the lecture is the implementation of **user-defined function**."
   ]
  },
  {
   "cell_type": "markdown",
   "metadata": {},
   "source": [
    "## User-defined functions\n",
    "### Function Definition\n",
    "The general syntax for defining a function in Python is:\n",
    "```\n",
    "def function_name(list_of_arguments):\n",
    "    block of instructions\n",
    "    return x\n",
    "```\n",
    "The definition starts with the key-word `def` followed by the selected function name. After the function-name there must be parenthesis. Within the parenthesis there can be zero, one or many arguments. Arguments are the parameters, which are passed from the calling piece of code to the called function. After the round brackets a colon `:` must be inserted. \n",
    "\n",
    "The body of the function contains a sequence of instructions. This block of instructions must be **indented**. A function usually returns one or more values to the calling piece of code. The return value(s) are preceded by the key-word `return`. If `return` is not used in the function the function returns the value `None`.\n",
    "\n",
    "The function defined in the following code cell calculates the euclidean distance between two points. The function applies the function `pow()`, from the `math`-package of the Python standard library. Therefore this package, or at least the function `pow()` must be imported (first line). The function `pow(x,i)` calculates the $i.th$ power of $x$. \n"
   ]
  },
  {
   "cell_type": "code",
   "execution_count": null,
   "metadata": {
    "ExecuteTime": {
     "end_time": "2017-07-06T12:46:46.772000Z",
     "start_time": "2017-07-06T14:46:46.741000+02:00"
    },
    "collapsed": true
   },
   "outputs": [],
   "source": [
    "import math\n",
    "def eukliddist(pointA,pointB):\n",
    "        ''' Function calculates the euclidean distance between a pair of points'''\n",
    "        mindim=min(len(pointA),len(pointB)) #determine minimum dimension of points\n",
    "        sum=0\n",
    "        for i in range(mindim):\n",
    "                sum+=math.pow(pointA[i]-pointB[i],2)\n",
    "        return math.sqrt(sum) #return euclidean distance"
   ]
  },
  {
   "cell_type": "markdown",
   "metadata": {},
   "source": [
    "In the example above the first statement of the function is an optional string literal. This is the function’s documentation string, or docstring (More about docstrings can be found e.g. in [Documentation Strings](https://docs.python.org/2/tutorial/controlflow.html#tut-docstrings)). There are tools which use docstrings to automatically produce online or printed documentation.\n",
    "\n",
    "### Function Call\n",
    "Once this function is defined it can be called from elsewhere, as demonstrated below:"
   ]
  },
  {
   "cell_type": "code",
   "execution_count": null,
   "metadata": {
    "ExecuteTime": {
     "end_time": "2017-07-06T12:51:23.414000Z",
     "start_time": "2017-07-06T14:51:23.414000+02:00"
    },
    "collapsed": true
   },
   "outputs": [],
   "source": [
    "A=[1,1,1]\n",
    "B=[2,3,3]\n",
    "d_AB=eukliddist(A,B)\n",
    "print 'Coordinates of first point:    ',A\n",
    "print 'Coordinates of second point:   ',B\n",
    "print '----------------------------------------------'\n",
    "print 'Distance between the points:     ',d_AB"
   ]
  },
  {
   "cell_type": "markdown",
   "metadata": {},
   "source": [
    "### Define functions in other modules\n",
    "As well as function from other packages, also the user-defined functions are often defined in external files of type *.py*. In order to use these functions the corresponding files (=modules) must be imported in the same way as functions from other packages. The directory of the file, which contains the self-defined functions must be included in the *Pythonpath-Variable* of the system. Or it must be in the same directory as the program that imports the module.\n",
    "\n",
    "We have defined a simple function `cumsum(numList)` in the file *helpers.py*. This function just calculates the sum over all elements in the list, which is passed as argument to the function. The function can be called as follows:\n"
   ]
  },
  {
   "cell_type": "code",
   "execution_count": null,
   "metadata": {
    "ExecuteTime": {
     "end_time": "2017-07-06T14:04:48.557000Z",
     "start_time": "2017-07-06T16:04:48.541000+02:00"
    },
    "collapsed": true
   },
   "outputs": [],
   "source": [
    "import helpers\n",
    "mylist=range(6)\n",
    "s = helpers.cumsum(mylist)\n",
    "print s"
   ]
  },
  {
   "cell_type": "markdown",
   "metadata": {},
   "source": [
    "### Keyword Arguments\n",
    "In the function-call above the first parameter `A` is passed to the first argument of the function definition (which is `pointA`) and the second parameter `B` is passed to the second argument of the function definition (which is `pointB`). \n",
    "\n",
    "Another option for the same function-call is to use key-word arguments within the parenthesis of the function call. That is: Each parameter is explicetly assigned to the name of an argument. In the case of the `eukliddist()`-function from above the function-call will then be: \n",
    "```\n",
    "d_AB=eukliddist(pointA=A,pointB=B)\n",
    "```\n",
    "This option yields the same result. The main advantage is, that it does not matter in which sequence the parameters are passed to the function. Moreover, if the arguments of the function are assigned with default-values, than the use of keyword arguments allows, that only for a subset of arguments parameters must be assigned in the function call (see next subsection).\n"
   ]
  },
  {
   "cell_type": "markdown",
   "metadata": {},
   "source": [
    "### Default Values for Function Arguments"
   ]
  },
  {
   "cell_type": "markdown",
   "metadata": {
    "collapsed": true
   },
   "source": [
    "Default values can be assigned to arguments of functions. Then in the function-call not all arguments must be assigned with parameters. Arguments, for which no parameter is assigned at function-call just have their default-value. For all arguments that have no default-value parameter must be assigned if the function is invoked.\n",
    "\n",
    "The following code-cell contains three calls of the function `eukliddist2()`, which is a modification of the previously introduced function `eukliddist()`. In `eukliddist2()`, which we defined in module *helpers.py*, default-values are assigned to the arguments `pointA` and `pointB`. These default-values are the origins of the 3-dimensional space, `[0,0,0]`. Hence, it is possible to assign only one or even no argument at function-call. If only one argument is assigned at function-call, the magnitude of the point, which is assigned, is calculated. In the code-cell below, the magnitude of `A=[4,7,9]` is calculated.  "
   ]
  },
  {
   "cell_type": "code",
   "execution_count": 5,
   "metadata": {
    "ExecuteTime": {
     "end_time": "2017-07-10T14:17:23.880000Z",
     "start_time": "2017-07-10T16:17:23.833000+02:00"
    }
   },
   "outputs": [
    {
     "name": "stdout",
     "output_type": "stream",
     "text": [
      "Euclidean distance between points A and B:  3.0\n",
      "Magnitude of point A: 12.0830459736\n",
      "Useless, but no syntactic error:  0.0\n"
     ]
    }
   ],
   "source": [
    "import helpers\n",
    "A = [4,7,9]\n",
    "B = [3,5,7]\n",
    "distAB=helpers.eukliddist2(pointA=A, pointB=B) #Function call with two assignments\n",
    "print \"Euclidean distance between points A and B: \",distAB\n",
    "magA=helpers.eukliddist2(pointA=A) #Function call with one assignment (one default-value is used)\n",
    "print \"Magnitude of point A:\",magA\n",
    "z=helpers.eukliddist2() #Function call with no assignments (both default-values are used)\n",
    "print \"Useless, but no syntactic error: \",z"
   ]
  },
  {
   "cell_type": "markdown",
   "metadata": {
    "collapsed": true
   },
   "source": [
    "**Example:**\n",
    "\n",
    "\n",
    "The concept of default-values for function arguments provides much flexibility for applying functions: Sometimes users like to configure parameters in detail, in other cases they do not want to spend any time for configuring specific parameters. For example in visualisation tasks, the flexibility provided by default-values is often exploited: In early iterations graphical features like color, marker-size, marker-type etc. is not relevant and the default-values are applied. Later on, the graphical design becomes more relevant and users like to define these parameters.\n",
    "\n",
    "\n",
    "The example below implements such a simple visualization task: Two 2-dimensional pointsets shall be plotted, such that they can be distinguished. In the following code-cell we define a function `plot2pointsets()`, which applies the *pyplot*-module from *matplotlib*. In the definition of `plot2pointsets()` the first two arguments are the pointsets. Each pointset is a list of lists. All other arguments in this functions define graphical features as color and markersize. Default values are assigned to these graphical-feature-arguments.\n",
    "\n",
    "Here is the definition of `plot2pointsets()`:"
   ]
  },
  {
   "cell_type": "code",
   "execution_count": 11,
   "metadata": {
    "ExecuteTime": {
     "end_time": "2017-07-10T15:50:05.667000Z",
     "start_time": "2017-07-10T17:50:05.651000+02:00"
    },
    "collapsed": true
   },
   "outputs": [],
   "source": [
    "from matplotlib import pyplot as plt\n",
    "def plot2pointsets(ps1,ps2,col1='b',mark1='o',col2='r',mark2='s',marksize=10):\n",
    "        plt.grid(True)\n",
    "        m1=col1+mark1\n",
    "        m2=col2+mark2\n",
    "        xvals=[]\n",
    "        yvals=[]\n",
    "        for a in ps1:\n",
    "                xvals.append(a[0])\n",
    "                yvals.append(a[1])\n",
    "        plt.plot(xvals,yvals,m1,markersize=marksize)\n",
    "        xvals=[]\n",
    "        yvals=[]\n",
    "        for a in ps2:\n",
    "                xvals.append(a[0])\n",
    "                yvals.append(a[1])\n",
    "        plt.plot(xvals,yvals,m2,markersize=marksize)\n",
    "        plt.title(\"2 Pointsets\")\n",
    "        plt.xlabel(\"x\")\n",
    "        plt.ylabel(\"y\")\n",
    "        plt.show()"
   ]
  },
  {
   "cell_type": "markdown",
   "metadata": {},
   "source": [
    "Next, two 2-dimensional pointsets are defined as lists of lists and the function `plot2pointsets()` is called without explicetly defined graphical arguments. The pointsets are plotted with the default-parameters:"
   ]
  },
  {
   "cell_type": "code",
   "execution_count": 12,
   "metadata": {
    "ExecuteTime": {
     "end_time": "2017-07-10T15:53:50.276000Z",
     "start_time": "2017-07-10T17:53:50.104000+02:00"
    }
   },
   "outputs": [
    {
     "data": {
      "image/png": "[encoded data removed]",
      "text/plain": [
       "<matplotlib.figure.Figure at 0x9bb0dd8>"
      ]
     },
     "metadata": {},
     "output_type": "display_data"
    }
   ],
   "source": [
    "p1=[[-1,-0.5],\n",
    "    [-1.5, 0.8],\n",
    "    [-2,0.5],\n",
    "]\n",
    "p2=[[1,1.5],\n",
    "    [2.5, 1.8],\n",
    "    [2,-0.8],\n",
    "]\n",
    "plot2pointsets(p1,p2)"
   ]
  },
  {
   "cell_type": "markdown",
   "metadata": {},
   "source": [
    "In a second function-call the same pointsets are plotted, but with smaller markers:"
   ]
  },
  {
   "cell_type": "code",
   "execution_count": 15,
   "metadata": {
    "ExecuteTime": {
     "end_time": "2017-07-10T15:56:20.142000Z",
     "start_time": "2017-07-10T17:56:19.986000+02:00"
    }
   },
   "outputs": [
    {
     "data": {
      "image/png": "[encoded data removed]",
      "text/plain": [
       "<matplotlib.figure.Figure at 0x82214a8>"
      ]
     },
     "metadata": {},
     "output_type": "display_data"
    }
   ],
   "source": [
    "plot2pointsets(p1,p2,marksize=6)"
   ]
  },
  {
   "cell_type": "markdown",
   "metadata": {},
   "source": [
    "Finally individual markers, colors and markersize is defined for plotting the same pointsets:"
   ]
  },
  {
   "cell_type": "code",
   "execution_count": 17,
   "metadata": {
    "ExecuteTime": {
     "end_time": "2017-07-10T15:58:53.983000Z",
     "start_time": "2017-07-10T17:58:53.832000+02:00"
    }
   },
   "outputs": [
    {
     "data": {
      "image/png": "[encoded data removed]",
      "text/plain": [
       "<matplotlib.figure.Figure at 0x99eba20>"
      ]
     },
     "metadata": {},
     "output_type": "display_data"
    }
   ],
   "source": [
    "plot2pointsets(p1,p2,col1='m',mark1='v',col2='y',mark2='h',marksize=8)"
   ]
  },
  {
   "cell_type": "markdown",
   "metadata": {},
   "source": [
    "## Local and Global Variables in Functions\n",
    "Variables, which are defined inside a function are **local variables**. This means, that they are visible only inside the function and they exist only as long as the function is executed. After the function returns, these local variables can no longer be accessed. \n",
    "\n",
    "Variables, which are neither defined in functions, nor in in classes are **global variables**. They are visible in the entire module (in all functions, classes and other statements).\n",
    "\n",
    "The following code-cell demonstrates, that local variables do not exist outside the function in which they are defined:\n"
   ]
  },
  {
   "cell_type": "code",
   "execution_count": 20,
   "metadata": {
    "ExecuteTime": {
     "end_time": "2017-07-10T16:14:57.416000Z",
     "start_time": "2017-07-10T18:14:57.401000+02:00"
    }
   },
   "outputs": [
    {
     "name": "stdout",
     "output_type": "stream",
     "text": [
      " Inside function:  a= local\n",
      "Inside function:  b= global\n",
      "Outside function: b= global\n"
     ]
    }
   ],
   "source": [
    "def testfunc():\n",
    "        a=\"local\"\n",
    "        print \"Inside function:  a=\",a\n",
    "        print \"Inside function:  b=\",b\n",
    "b=\"global\"\n",
    "testfunc()\n",
    "#print \"Outside function: a=\",a  #Would cause an error, because a is not visible outside function.\n",
    "print \"Outside function: b=\",b"
   ]
  },
  {
   "cell_type": "markdown",
   "metadata": {},
   "source": [
    "The next cell demonstrates, that global variables can not be modified inside a function (at least not in this way). Note that in this function the assignment `b=globalInFunc` allocates a new local variable, which has the same name as a global variable. The local variable `b` is visible in the function, but not outside. It dies as soon as the function returns. However, the global variable `b` exists before and after function-call. "
   ]
  },
  {
   "cell_type": "code",
   "execution_count": 22,
   "metadata": {
    "ExecuteTime": {
     "end_time": "2017-07-10T16:17:18.480000Z",
     "start_time": "2017-07-10T18:17:18.480000+02:00"
    }
   },
   "outputs": [
    {
     "name": "stdout",
     "output_type": "stream",
     "text": [
      "Inside function:  a= local\n",
      "Inside function:  b= globalInFunc\n",
      "Outside function: b= global\n"
     ]
    }
   ],
   "source": [
    "def testfunc():\n",
    "        b=\"globalInFunc\"\n",
    "        a=\"local\"\n",
    "        print \"Inside function:  a=\",a\n",
    "        print \"Inside function:  b=\",b\n",
    "b=\"global\"\n",
    "testfunc()\n",
    "print \"Outside function: b=\",b"
   ]
  },
  {
   "cell_type": "markdown",
   "metadata": {},
   "source": [
    "If a global variable must be modified inside a function, then inside the function this variable must be defined to be global by the keyword `global`. The effect is demonstrated in the following cell."
   ]
  },
  {
   "cell_type": "code",
   "execution_count": 23,
   "metadata": {
    "ExecuteTime": {
     "end_time": "2017-07-10T16:18:34.465000Z",
     "start_time": "2017-07-10T18:18:34.449000+02:00"
    }
   },
   "outputs": [
    {
     "name": "stdout",
     "output_type": "stream",
     "text": [
      "Inside function:  a= local\n",
      "Inside function:  b= globalInFunc\n",
      "Outside function: b= globalInFunc\n"
     ]
    }
   ],
   "source": [
    "def testfunc():\n",
    "        global b\n",
    "        b=\"globalInFunc\"\n",
    "        a=\"local\"\n",
    "        print \"Inside function:  a=\",a\n",
    "        print \"Inside function:  b=\",b\n",
    "b=\"global\"\n",
    "testfunc()\n",
    "print \"Outside function: b=\",b"
   ]
  },
  {
   "cell_type": "markdown",
   "metadata": {},
   "source": [
    "> **Note:** Modification of a global variable inside a function, as in the example above, is quite uncommon and in general a bad practice. Why? "
   ]
  },
  {
   "cell_type": "code",
   "execution_count": null,
   "metadata": {
    "collapsed": true
   },
   "outputs": [],
   "source": []
  }
 ],
 "metadata": {
  "kernelspec": {
   "display_name": "Python [default]",
   "language": "python",
   "name": "python2"
  },
  "language_info": {
   "codemirror_mode": {
    "name": "ipython",
    "version": 2
   },
   "file_extension": ".py",
   "mimetype": "text/x-python",
   "name": "python",
   "nbconvert_exporter": "python",
   "pygments_lexer": "ipython2",
   "version": "2.7.13"
  },
  "nav_menu": {},
  "toc": {
   "navigate_menu": true,
   "number_sections": true,
   "sideBar": true,
   "threshold": 6,
   "toc_cell": true,
   "toc_section_display": "block",
   "toc_window_display": true
  },
  "toc_position": {
   "height": "545px",
   "left": "0px",
   "right": "1196px",
   "top": "124.533px",
   "width": "212px"
  }
 },
 "nbformat": 4,
 "nbformat_minor": 2
}

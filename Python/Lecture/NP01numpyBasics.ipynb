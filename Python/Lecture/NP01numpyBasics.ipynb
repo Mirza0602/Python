{
 "cells": [
  {
   "cell_type": "markdown",
   "metadata": {
    "deletable": true,
    "editable": true,
    "toc": "true"
   },
   "source": [
    "# Table of Contents\n",
    " <p><div class=\"lev1 toc-item\"><a href=\"#Numpy-Introduction\" data-toc-modified-id=\"Numpy-Introduction-1\"><span class=\"toc-item-num\">1&nbsp;&nbsp;</span>Numpy Introduction</a></div><div class=\"lev2 toc-item\"><a href=\"#Numpy-Array\" data-toc-modified-id=\"Numpy-Array-1.1\"><span class=\"toc-item-num\">1.1&nbsp;&nbsp;</span>Numpy Array</a></div><div class=\"lev3 toc-item\"><a href=\"#Create-a-numpy-array\" data-toc-modified-id=\"Create-a-numpy-array-1.1.1\"><span class=\"toc-item-num\">1.1.1&nbsp;&nbsp;</span>Create a numpy array</a></div><div class=\"lev3 toc-item\"><a href=\"#Accessing-Array-Elements\" data-toc-modified-id=\"Accessing-Array-Elements-1.1.2\"><span class=\"toc-item-num\">1.1.2&nbsp;&nbsp;</span>Accessing Array Elements</a></div><div class=\"lev3 toc-item\"><a href=\"#Copying-and-Editing-Array-Elements\" data-toc-modified-id=\"Copying-and-Editing-Array-Elements-1.1.3\"><span class=\"toc-item-num\">1.1.3&nbsp;&nbsp;</span>Copying and Editing Array Elements</a></div><div class=\"lev2 toc-item\"><a href=\"#Basic-Operations\" data-toc-modified-id=\"Basic-Operations-1.2\"><span class=\"toc-item-num\">1.2&nbsp;&nbsp;</span>Basic Operations</a></div><div class=\"lev3 toc-item\"><a href=\"#Add-and-multiply-array-elements-with-a-scalar\" data-toc-modified-id=\"Add-and-multiply-array-elements-with-a-scalar-1.2.1\"><span class=\"toc-item-num\">1.2.1&nbsp;&nbsp;</span>Add and multiply array elements with a scalar</a></div><div class=\"lev3 toc-item\"><a href=\"#Elementwise-addition-and-multiplication-of-matrices-of-the-same-size\" data-toc-modified-id=\"Elementwise-addition-and-multiplication-of-matrices-of-the-same-size-1.2.2\"><span class=\"toc-item-num\">1.2.2&nbsp;&nbsp;</span>Elementwise addition and multiplication of matrices of the same size</a></div><div class=\"lev3 toc-item\"><a href=\"#Some-other-elementwise-operations:\" data-toc-modified-id=\"Some-other-elementwise-operations:-1.2.3\"><span class=\"toc-item-num\">1.2.3&nbsp;&nbsp;</span>Some other elementwise operations:</a></div><div class=\"lev3 toc-item\"><a href=\"#Dot-product\" data-toc-modified-id=\"Dot-product-1.2.4\"><span class=\"toc-item-num\">1.2.4&nbsp;&nbsp;</span>Dot product</a></div><div class=\"lev3 toc-item\"><a href=\"#Matrix-multiplication\" data-toc-modified-id=\"Matrix-multiplication-1.2.5\"><span class=\"toc-item-num\">1.2.5&nbsp;&nbsp;</span>Matrix multiplication</a></div><div class=\"lev3 toc-item\"><a href=\"#Simple-statistic-operations-on-arrays\" data-toc-modified-id=\"Simple-statistic-operations-on-arrays-1.2.6\"><span class=\"toc-item-num\">1.2.6&nbsp;&nbsp;</span>Simple statistic operations on arrays</a></div><div class=\"lev2 toc-item\"><a href=\"#Stacking-and-splitting-arrays\" data-toc-modified-id=\"Stacking-and-splitting-arrays-1.3\"><span class=\"toc-item-num\">1.3&nbsp;&nbsp;</span>Stacking and splitting arrays</a></div><div class=\"lev2 toc-item\"><a href=\"#Ordering-array-elements\" data-toc-modified-id=\"Ordering-array-elements-1.4\"><span class=\"toc-item-num\">1.4&nbsp;&nbsp;</span>Ordering array elements</a></div><div class=\"lev2 toc-item\"><a href=\"#Array-Query\" data-toc-modified-id=\"Array-Query-1.5\"><span class=\"toc-item-num\">1.5&nbsp;&nbsp;</span>Array Query</a></div><div class=\"lev2 toc-item\"><a href=\"#Import-and-Export-Data-from/to-Files\" data-toc-modified-id=\"Import-and-Export-Data-from/to-Files-1.6\"><span class=\"toc-item-num\">1.6&nbsp;&nbsp;</span>Import and Export Data from/to Files</a></div><div class=\"lev2 toc-item\"><a href=\"#Exercises\" data-toc-modified-id=\"Exercises-1.7\"><span class=\"toc-item-num\">1.7&nbsp;&nbsp;</span>Exercises</a></div>"
   ]
  },
  {
   "cell_type": "markdown",
   "metadata": {
    "deletable": true,
    "editable": true
   },
   "source": [
    "[Go to Workshop Overview (.ipynb)](Overview.ipynb) / [[.html]](Overview.html)"
   ]
  },
  {
   "cell_type": "markdown",
   "metadata": {
    "deletable": true,
    "editable": true,
    "run_control": {
     "marked": true
    }
   },
   "source": [
    "# Numpy Introduction"
   ]
  },
  {
   "cell_type": "code",
   "execution_count": 1,
   "metadata": {
    "collapsed": false,
    "deletable": true,
    "editable": true,
    "run_control": {
     "marked": true
    }
   },
   "outputs": [
    {
     "name": "stdout",
     "output_type": "stream",
     "text": [
      "1.11.1\n"
     ]
    }
   ],
   "source": [
    "import numpy as np\n",
    "print np.__version__"
   ]
  },
  {
   "cell_type": "markdown",
   "metadata": {
    "deletable": true,
    "editable": true,
    "run_control": {
     "marked": true
    }
   },
   "source": [
    "## Numpy Array\n",
    "In Numpy arrays are the main type of objects. In arrays elements are arranged in multidimensional tables. Array elements are indexed by positive integers, starting at 0.\n",
    "### Create a numpy array\n",
    "Create a 1-dimensional array and access its type, number of dimensions and shape and size:"
   ]
  },
  {
   "cell_type": "code",
   "execution_count": 2,
   "metadata": {
    "collapsed": false,
    "deletable": true,
    "editable": true,
    "run_control": {
     "marked": true
    }
   },
   "outputs": [
    {
     "name": "stdout",
     "output_type": "stream",
     "text": [
      "[ 1.  2.  3.]\n",
      "Type of variable:      <type 'numpy.ndarray'>\n",
      "Type of elements:      float64\n",
      "Number of dimensions:  1\n",
      "Shape:                 (3L,)\n",
      "Size:                  3\n"
     ]
    }
   ],
   "source": [
    "A=np.array([1,2,3.0])\n",
    "print A\n",
    "print \"Type of variable:     \",type(A)\n",
    "print \"Type of elements:     \",A.dtype\n",
    "print \"Number of dimensions: \",A.ndim\n",
    "print \"Shape:                \",A.shape\n",
    "print \"Size:                 \",A.size"
   ]
  },
  {
   "cell_type": "markdown",
   "metadata": {
    "deletable": true,
    "editable": true,
    "run_control": {
     "marked": true
    }
   },
   "source": [
    "Create a 2-dimensional array and access its type, number of dimensions and shape and size:"
   ]
  },
  {
   "cell_type": "code",
   "execution_count": 53,
   "metadata": {
    "collapsed": false,
    "deletable": true,
    "editable": true,
    "run_control": {
     "marked": true
    }
   },
   "outputs": [
    {
     "name": "stdout",
     "output_type": "stream",
     "text": [
      "[[1 2 3 4]\n",
      " [5 6 0 1]\n",
      " [1 2 0 1]]\n",
      "Type of variable:      <type 'numpy.ndarray'>\n",
      "Type of elements:      int32\n",
      "Number of dimensions:  2\n",
      "Shape:                 (3L, 4L)\n",
      "Size:                  12\n"
     ]
    }
   ],
   "source": [
    "B=np.array([[1,2,3,4],[5,6,0,1],[1,2,0,1]])\n",
    "print B\n",
    "print \"Type of variable:     \",type(B)\n",
    "print \"Type of elements:     \",B.dtype\n",
    "print \"Number of dimensions: \",B.ndim\n",
    "print \"Shape:                \",B.shape\n",
    "print \"Size:                 \",B.size"
   ]
  },
  {
   "cell_type": "markdown",
   "metadata": {
    "deletable": true,
    "editable": true,
    "run_control": {
     "marked": true
    }
   },
   "source": [
    "Create 2-dimensional array of zeros:"
   ]
  },
  {
   "cell_type": "code",
   "execution_count": 4,
   "metadata": {
    "collapsed": false,
    "deletable": true,
    "editable": true,
    "run_control": {
     "marked": true
    }
   },
   "outputs": [
    {
     "name": "stdout",
     "output_type": "stream",
     "text": [
      "[[ 0.  0.]\n",
      " [ 0.  0.]\n",
      " [ 0.  0.]\n",
      " [ 0.  0.]\n",
      " [ 0.  0.]]\n"
     ]
    }
   ],
   "source": [
    "Z=np.zeros((5,2))\n",
    "print Z"
   ]
  },
  {
   "cell_type": "markdown",
   "metadata": {
    "deletable": true,
    "editable": true,
    "run_control": {
     "marked": true
    }
   },
   "source": [
    "Create a 3-dimensional array of ones"
   ]
  },
  {
   "cell_type": "code",
   "execution_count": 5,
   "metadata": {
    "collapsed": false,
    "deletable": true,
    "editable": true,
    "run_control": {
     "marked": true
    }
   },
   "outputs": [
    {
     "name": "stdout",
     "output_type": "stream",
     "text": [
      "[[[ 1.  1.  1.  1.]\n",
      "  [ 1.  1.  1.  1.]\n",
      "  [ 1.  1.  1.  1.]]\n",
      "\n",
      " [[ 1.  1.  1.  1.]\n",
      "  [ 1.  1.  1.  1.]\n",
      "  [ 1.  1.  1.  1.]]]\n"
     ]
    }
   ],
   "source": [
    "O=np.ones((2,3,4))\n",
    "print O"
   ]
  },
  {
   "cell_type": "markdown",
   "metadata": {
    "deletable": true,
    "editable": true,
    "run_control": {
     "marked": true
    }
   },
   "source": [
    "Create 2-dimensional array of random integers between 10 (inclusive) and 20 (exclusive)"
   ]
  },
  {
   "cell_type": "code",
   "execution_count": 6,
   "metadata": {
    "collapsed": false,
    "deletable": true,
    "editable": true,
    "run_control": {
     "marked": true
    }
   },
   "outputs": [
    {
     "name": "stdout",
     "output_type": "stream",
     "text": [
      "[[13 11 15]\n",
      " [10 17 12]\n",
      " [10 15 19]\n",
      " [19 11 16]\n",
      " [16 13 17]]\n"
     ]
    }
   ],
   "source": [
    "RI=np.random.randint(10,20,(5,3))\n",
    "print RI"
   ]
  },
  {
   "cell_type": "markdown",
   "metadata": {
    "deletable": true,
    "editable": true,
    "run_control": {
     "marked": true
    }
   },
   "source": [
    "Create a 2-dimensional array of random numbers according to a Gaussian normal distribution with mean 0 and standard deviation 1."
   ]
  },
  {
   "cell_type": "code",
   "execution_count": 7,
   "metadata": {
    "collapsed": false,
    "deletable": true,
    "editable": true,
    "run_control": {
     "marked": true
    }
   },
   "outputs": [
    {
     "name": "stdout",
     "output_type": "stream",
     "text": [
      "[[ 0.87254221  1.06819424  1.12431665  0.40382727 -0.24675147]\n",
      " [ 1.53358115  1.56698618  0.59372411 -0.90843256 -1.38829156]]\n"
     ]
    }
   ],
   "source": [
    "RN=np.random.randn(2,5)\n",
    "print RN"
   ]
  },
  {
   "cell_type": "markdown",
   "metadata": {
    "deletable": true,
    "editable": true,
    "run_control": {
     "marked": true
    }
   },
   "source": [
    "Create a 2-dimensional array of random numbers according to a Gaussian normal distribution with mean m=100 and standard deviation s=5."
   ]
  },
  {
   "cell_type": "code",
   "execution_count": 8,
   "metadata": {
    "collapsed": false,
    "deletable": true,
    "editable": true,
    "run_control": {
     "marked": true
    }
   },
   "outputs": [
    {
     "name": "stdout",
     "output_type": "stream",
     "text": [
      "[[ 100.07707471  101.84813836  103.0184653    92.43587465  103.24532678\n",
      "   102.22788652  103.68939813   99.62573556]\n",
      " [  91.66693982   96.73652453  102.16169247   91.74888463   92.3486966\n",
      "   102.84504655   89.88227636  101.13780415]\n",
      " [  99.24027107   96.15484432  100.24975972   96.05696283   93.60916686\n",
      "   103.35345763   95.02667983  100.18886741]\n",
      " [  95.94167667  101.22416001  101.44792433  107.73864644   95.09023675\n",
      "    92.83481419   99.09648723   96.7444766 ]]\n"
     ]
    }
   ],
   "source": [
    "mean=100\n",
    "sigma=5\n",
    "RN100=sigma*np.random.randn(4,8)+mean\n",
    "print RN100"
   ]
  },
  {
   "cell_type": "markdown",
   "metadata": {
    "deletable": true,
    "editable": true,
    "run_control": {
     "marked": true
    }
   },
   "source": [
    "Set print options, such that only 2 positions after the decimal point are printed."
   ]
  },
  {
   "cell_type": "code",
   "execution_count": 9,
   "metadata": {
    "collapsed": false,
    "deletable": true,
    "editable": true,
    "run_control": {
     "marked": true
    }
   },
   "outputs": [
    {
     "name": "stdout",
     "output_type": "stream",
     "text": [
      "[[ 100.08  101.85  103.02   92.44  103.25  102.23  103.69   99.63]\n",
      " [  91.67   96.74  102.16   91.75   92.35  102.85   89.88  101.14]\n",
      " [  99.24   96.15  100.25   96.06   93.61  103.35   95.03  100.19]\n",
      " [  95.94  101.22  101.45  107.74   95.09   92.83   99.1    96.74]]\n"
     ]
    }
   ],
   "source": [
    "np.set_printoptions(precision=2)\n",
    "print RN100"
   ]
  },
  {
   "cell_type": "markdown",
   "metadata": {
    "deletable": true,
    "editable": true,
    "run_control": {
     "marked": true
    }
   },
   "source": [
    "Throw a balanced dice for 30 times. The first element of the resulting array is the number of times a 1 has been thrown, the last element is the number of times a 1 has been thrown.   "
   ]
  },
  {
   "cell_type": "code",
   "execution_count": 10,
   "metadata": {
    "collapsed": false,
    "deletable": true,
    "editable": true,
    "run_control": {
     "marked": true
    }
   },
   "outputs": [
    {
     "name": "stdout",
     "output_type": "stream",
     "text": [
      "[3 6 4 5 7 5]\n"
     ]
    }
   ],
   "source": [
    "RM=np.random.multinomial(30,[1/6.]*6)\n",
    "print RM"
   ]
  },
  {
   "cell_type": "markdown",
   "metadata": {
    "deletable": true,
    "editable": true,
    "run_control": {
     "marked": true
    }
   },
   "source": [
    "Create a 1-dimensional array, containing a sequence of numbers, starting from 2, terminating before 18 and a stepzize of 4.  "
   ]
  },
  {
   "cell_type": "code",
   "execution_count": 11,
   "metadata": {
    "collapsed": false,
    "deletable": true,
    "editable": true,
    "run_control": {
     "marked": true
    }
   },
   "outputs": [
    {
     "name": "stdout",
     "output_type": "stream",
     "text": [
      "[ 2  6 10 14]\n"
     ]
    }
   ],
   "source": [
    "S=np.arange(2,18,4)\n",
    "print S"
   ]
  },
  {
   "cell_type": "markdown",
   "metadata": {
    "deletable": true,
    "editable": true,
    "run_control": {
     "marked": true
    }
   },
   "source": [
    "Reshape the 1-dimensional array to a 2-dimensional array. Note that the number of elements in the original and the reshaped array must be equal."
   ]
  },
  {
   "cell_type": "code",
   "execution_count": 12,
   "metadata": {
    "collapsed": false,
    "deletable": true,
    "editable": true,
    "run_control": {
     "marked": true
    }
   },
   "outputs": [
    {
     "name": "stdout",
     "output_type": "stream",
     "text": [
      "[[ 2  6]\n",
      " [10 14]]\n"
     ]
    }
   ],
   "source": [
    "SR = S.reshape((2,2))\n",
    "print SR"
   ]
  },
  {
   "cell_type": "markdown",
   "metadata": {
    "deletable": true,
    "editable": true
   },
   "source": [
    "In the _reshape()_ function the last shape-element need not be specified. It is enough to place a _-1_ at the corresponding position. Then this shape-element is calculated from the other shape-elements and the number of elements in the array. Below another _reshape()_ is performed. Note that the result is a _2-dimensional array_ of 1 row and 4 columns. "
   ]
  },
  {
   "cell_type": "code",
   "execution_count": 13,
   "metadata": {
    "collapsed": false,
    "deletable": true,
    "editable": true
   },
   "outputs": [
    {
     "name": "stdout",
     "output_type": "stream",
     "text": [
      "[[ 2  6 10 14]]\n"
     ]
    }
   ],
   "source": [
    "SRR=SR.reshape((1,-1))\n",
    "print SRR"
   ]
  },
  {
   "cell_type": "markdown",
   "metadata": {
    "deletable": true,
    "editable": true
   },
   "source": [
    "The _flatten()_ function yields a _1-dimensional_ array."
   ]
  },
  {
   "cell_type": "code",
   "execution_count": 54,
   "metadata": {
    "collapsed": false,
    "deletable": true,
    "editable": true
   },
   "outputs": [
    {
     "name": "stdout",
     "output_type": "stream",
     "text": [
      "[ 2  6 10 14]\n"
     ]
    }
   ],
   "source": [
    "SRRR=SR.flatten()\n",
    "print SRRR"
   ]
  },
  {
   "cell_type": "markdown",
   "metadata": {
    "deletable": true,
    "editable": true,
    "run_control": {
     "marked": true
    }
   },
   "source": [
    "### Accessing Array Elements"
   ]
  },
  {
   "cell_type": "code",
   "execution_count": 55,
   "metadata": {
    "collapsed": false,
    "deletable": true,
    "editable": true,
    "run_control": {
     "marked": true
    }
   },
   "outputs": [
    {
     "name": "stdout",
     "output_type": "stream",
     "text": [
      "[[1 2 3 4]\n",
      " [5 6 0 1]\n",
      " [1 2 0 1]]\n"
     ]
    }
   ],
   "source": [
    "print B"
   ]
  },
  {
   "cell_type": "markdown",
   "metadata": {
    "deletable": true,
    "editable": true,
    "run_control": {
     "marked": true
    }
   },
   "source": [
    "Access the element in the first row and third column:"
   ]
  },
  {
   "cell_type": "code",
   "execution_count": 56,
   "metadata": {
    "collapsed": false,
    "deletable": true,
    "editable": true,
    "run_control": {
     "marked": true
    }
   },
   "outputs": [
    {
     "name": "stdout",
     "output_type": "stream",
     "text": [
      "3\n"
     ]
    }
   ],
   "source": [
    "b=B[0,2]\n",
    "print b"
   ]
  },
  {
   "cell_type": "markdown",
   "metadata": {
    "deletable": true,
    "editable": true,
    "run_control": {
     "marked": true
    }
   },
   "source": [
    "Access the second row:"
   ]
  },
  {
   "cell_type": "code",
   "execution_count": 57,
   "metadata": {
    "collapsed": false,
    "deletable": true,
    "editable": true,
    "run_control": {
     "marked": true
    }
   },
   "outputs": [
    {
     "name": "stdout",
     "output_type": "stream",
     "text": [
      "[5 6 0 1]\n"
     ]
    }
   ],
   "source": [
    "r=B[1,:]\n",
    "print r"
   ]
  },
  {
   "cell_type": "markdown",
   "metadata": {
    "deletable": true,
    "editable": true,
    "run_control": {
     "marked": true
    }
   },
   "source": [
    "Access the first column:"
   ]
  },
  {
   "cell_type": "code",
   "execution_count": 58,
   "metadata": {
    "collapsed": false,
    "deletable": true,
    "editable": true,
    "run_control": {
     "marked": true
    }
   },
   "outputs": [
    {
     "name": "stdout",
     "output_type": "stream",
     "text": [
      "[1 5 1]\n"
     ]
    }
   ],
   "source": [
    "c=B[:,0]\n",
    "print c"
   ]
  },
  {
   "cell_type": "markdown",
   "metadata": {
    "deletable": true,
    "editable": true,
    "run_control": {
     "marked": true
    }
   },
   "source": [
    "Access elements 2 and 3 of the second column:"
   ]
  },
  {
   "cell_type": "code",
   "execution_count": 59,
   "metadata": {
    "collapsed": false,
    "deletable": true,
    "editable": true,
    "run_control": {
     "marked": true
    }
   },
   "outputs": [
    {
     "name": "stdout",
     "output_type": "stream",
     "text": [
      "[6 0]\n"
     ]
    }
   ],
   "source": [
    "p=B[1,1:3]\n",
    "print p"
   ]
  },
  {
   "cell_type": "markdown",
   "metadata": {
    "deletable": true,
    "editable": true,
    "run_control": {
     "marked": true
    }
   },
   "source": [
    "Access the lower right (2x2) subarray of B:"
   ]
  },
  {
   "cell_type": "code",
   "execution_count": 60,
   "metadata": {
    "collapsed": false,
    "deletable": true,
    "editable": true,
    "run_control": {
     "marked": true
    }
   },
   "outputs": [
    {
     "name": "stdout",
     "output_type": "stream",
     "text": [
      "[[0 1]\n",
      " [0 1]]\n"
     ]
    }
   ],
   "source": [
    "l=B[1:,2:]\n",
    "print l"
   ]
  },
  {
   "cell_type": "markdown",
   "metadata": {
    "deletable": true,
    "editable": true
   },
   "source": [
    "Negative integers can be applied to access array elements in the reverse order. E.g. B[-1,:] is the last row of B. Thus the lower right (2x2) subarray of B can also be obtained by:"
   ]
  },
  {
   "cell_type": "code",
   "execution_count": 61,
   "metadata": {
    "collapsed": false,
    "deletable": true,
    "editable": true
   },
   "outputs": [
    {
     "name": "stdout",
     "output_type": "stream",
     "text": [
      "[[0 1]\n",
      " [0 1]]\n"
     ]
    }
   ],
   "source": [
    "l2=B[-2:,-2:]\n",
    "print l2"
   ]
  },
  {
   "cell_type": "markdown",
   "metadata": {
    "deletable": true,
    "editable": true
   },
   "source": [
    "Reversing columns and rows in an array:"
   ]
  },
  {
   "cell_type": "code",
   "execution_count": 62,
   "metadata": {
    "collapsed": false,
    "deletable": true,
    "editable": true
   },
   "outputs": [
    {
     "name": "stdout",
     "output_type": "stream",
     "text": [
      "B=\n",
      "[[1 2 3 4]\n",
      " [5 6 0 1]\n",
      " [1 2 0 1]]\n",
      "Reverse order of columns and rows:\n",
      "RB=\n",
      "[[1 0 2 1]\n",
      " [1 0 6 5]\n",
      " [4 3 2 1]]\n"
     ]
    }
   ],
   "source": [
    "RB=B[::-1,::-1]\n",
    "print \"B=\\n\",B\n",
    "print \"Reverse order of columns and rows:\\nRB=\\n\",RB"
   ]
  },
  {
   "cell_type": "code",
   "execution_count": 63,
   "metadata": {
    "collapsed": false,
    "deletable": true,
    "editable": true
   },
   "outputs": [
    {
     "name": "stdout",
     "output_type": "stream",
     "text": [
      "[ 0 10 20 30 40 50 60 70 80 90]\n",
      "[10 90 30]\n"
     ]
    }
   ],
   "source": [
    "a=10*np.arange(10)\n",
    "idx=np.array([1,9,3])\n",
    "print a\n",
    "print a[idx]"
   ]
  },
  {
   "cell_type": "markdown",
   "metadata": {
    "deletable": true,
    "editable": true
   },
   "source": [
    "### Copying and Editing Array Elements"
   ]
  },
  {
   "cell_type": "markdown",
   "metadata": {
    "deletable": true,
    "editable": true
   },
   "source": [
    "Copy B to CB:"
   ]
  },
  {
   "cell_type": "code",
   "execution_count": 64,
   "metadata": {
    "collapsed": false,
    "deletable": true,
    "editable": true
   },
   "outputs": [
    {
     "name": "stdout",
     "output_type": "stream",
     "text": [
      "[[1 2 3 4]\n",
      " [5 6 0 1]\n",
      " [1 2 0 1]]\n"
     ]
    }
   ],
   "source": [
    "CB=B\n",
    "print CB"
   ]
  },
  {
   "cell_type": "markdown",
   "metadata": {
    "deletable": true,
    "editable": true
   },
   "source": [
    "Editing part of B:"
   ]
  },
  {
   "cell_type": "code",
   "execution_count": 65,
   "metadata": {
    "collapsed": false,
    "deletable": true,
    "editable": true
   },
   "outputs": [
    {
     "name": "stdout",
     "output_type": "stream",
     "text": [
      "B=\n",
      "[[1 2 3 4]\n",
      " [5 6 0 0]\n",
      " [1 2 0 0]]\n",
      "CB=\n",
      "[[1 2 3 4]\n",
      " [5 6 0 0]\n",
      " [1 2 0 0]]\n"
     ]
    }
   ],
   "source": [
    "B[1:,2:]=np.zeros((2,2))\n",
    "print \"B=\\n\",B\n",
    "print \"CB=\\n\",CB"
   ]
  },
  {
   "cell_type": "markdown",
   "metadata": {
    "deletable": true,
    "editable": true
   },
   "source": [
    "As shown above copying by __=__ is a shallow copy. A **deep copy** can be implemented as follows:"
   ]
  },
  {
   "cell_type": "code",
   "execution_count": 66,
   "metadata": {
    "collapsed": false,
    "deletable": true,
    "editable": true
   },
   "outputs": [
    {
     "name": "stdout",
     "output_type": "stream",
     "text": [
      "B=\n",
      "[[1 2 3 4]\n",
      " [5 6 1 1]\n",
      " [1 2 1 1]]\n",
      "CB=\n",
      "[[1 2 3 4]\n",
      " [5 6 0 0]\n",
      " [1 2 0 0]]\n"
     ]
    }
   ],
   "source": [
    "CB=B.copy()\n",
    "B[1:,2:]=np.ones((2,2))\n",
    "print \"B=\\n\",B\n",
    "print \"CB=\\n\",CB"
   ]
  },
  {
   "cell_type": "markdown",
   "metadata": {
    "collapsed": true,
    "deletable": true,
    "editable": true,
    "run_control": {
     "marked": true
    }
   },
   "source": [
    "## Basic Operations"
   ]
  },
  {
   "cell_type": "markdown",
   "metadata": {
    "deletable": true,
    "editable": true,
    "run_control": {
     "marked": true
    }
   },
   "source": [
    "### Add and multiply array elements with a scalar"
   ]
  },
  {
   "cell_type": "code",
   "execution_count": 67,
   "metadata": {
    "collapsed": false,
    "deletable": true,
    "editable": true,
    "run_control": {
     "marked": true
    }
   },
   "outputs": [
    {
     "name": "stdout",
     "output_type": "stream",
     "text": [
      "[[1 2 3 4]\n",
      " [5 6 1 1]\n",
      " [1 2 1 1]]\n"
     ]
    }
   ],
   "source": [
    "print B"
   ]
  },
  {
   "cell_type": "code",
   "execution_count": 68,
   "metadata": {
    "collapsed": false,
    "deletable": true,
    "editable": true
   },
   "outputs": [
    {
     "name": "stdout",
     "output_type": "stream",
     "text": [
      "[[ 3  6  9 12]\n",
      " [15 18  3  3]\n",
      " [ 3  6  3  3]]\n"
     ]
    }
   ],
   "source": [
    "print 3*B"
   ]
  },
  {
   "cell_type": "code",
   "execution_count": 69,
   "metadata": {
    "collapsed": false,
    "deletable": true,
    "editable": true
   },
   "outputs": [
    {
     "name": "stdout",
     "output_type": "stream",
     "text": [
      "[[101 102 103 104]\n",
      " [105 106 101 101]\n",
      " [101 102 101 101]]\n"
     ]
    }
   ],
   "source": [
    "print 100+B"
   ]
  },
  {
   "cell_type": "markdown",
   "metadata": {
    "deletable": true,
    "editable": true
   },
   "source": [
    "### Elementwise addition and multiplication of matrices of the same size"
   ]
  },
  {
   "cell_type": "code",
   "execution_count": 70,
   "metadata": {
    "collapsed": false,
    "deletable": true,
    "editable": true
   },
   "outputs": [
    {
     "name": "stdout",
     "output_type": "stream",
     "text": [
      "B=\n",
      "[[1 2 3 4]\n",
      " [5 6 1 1]\n",
      " [1 2 1 1]]\n",
      "A=\n",
      "[[2 3 0 1]\n",
      " [4 2 6 0]\n",
      " [5 1 6 2]]\n"
     ]
    }
   ],
   "source": [
    "A=np.random.randint(0,7,B.shape)\n",
    "print \"B=\\n\",B\n",
    "print \"A=\\n\",A"
   ]
  },
  {
   "cell_type": "code",
   "execution_count": 71,
   "metadata": {
    "collapsed": false,
    "deletable": true,
    "editable": true
   },
   "outputs": [
    {
     "name": "stdout",
     "output_type": "stream",
     "text": [
      "[[3 5 3 5]\n",
      " [9 8 7 1]\n",
      " [6 3 7 3]]\n"
     ]
    }
   ],
   "source": [
    "S=A+B\n",
    "print S"
   ]
  },
  {
   "cell_type": "code",
   "execution_count": 72,
   "metadata": {
    "collapsed": false,
    "deletable": true,
    "editable": true
   },
   "outputs": [
    {
     "name": "stdout",
     "output_type": "stream",
     "text": [
      "[[ 2  6  0  4]\n",
      " [20 12  6  0]\n",
      " [ 5  2  6  2]]\n"
     ]
    }
   ],
   "source": [
    "P=A*B\n",
    "print P"
   ]
  },
  {
   "cell_type": "markdown",
   "metadata": {
    "deletable": true,
    "editable": true
   },
   "source": [
    "### Some other elementwise operations:"
   ]
  },
  {
   "cell_type": "code",
   "execution_count": 73,
   "metadata": {
    "collapsed": false,
    "deletable": true,
    "editable": true
   },
   "outputs": [
    {
     "name": "stdout",
     "output_type": "stream",
     "text": [
      "All elements of B raised to a power of 2\n",
      " P2=\n",
      "[[ 1  4  9 16]\n",
      " [25 36  1  1]\n",
      " [ 1  4  1  1]]\n"
     ]
    }
   ],
   "source": [
    "P2=B**2\n",
    "print \"All elements of B raised to a power of 2\\n P2=\\n\",P2"
   ]
  },
  {
   "cell_type": "code",
   "execution_count": 74,
   "metadata": {
    "collapsed": false,
    "deletable": true,
    "editable": true
   },
   "outputs": [
    {
     "name": "stdout",
     "output_type": "stream",
     "text": [
      "Elementwise squareroot\n",
      " SR=\n",
      "[[ 1.    1.41  1.73  2.  ]\n",
      " [ 2.24  2.45  1.    1.  ]\n",
      " [ 1.    1.41  1.    1.  ]]\n"
     ]
    }
   ],
   "source": [
    "SR=np.sqrt(B)\n",
    "print \"Elementwise squareroot\\n SR=\\n\",SR"
   ]
  },
  {
   "cell_type": "code",
   "execution_count": 75,
   "metadata": {
    "collapsed": false,
    "deletable": true,
    "editable": true
   },
   "outputs": [
    {
     "name": "stdout",
     "output_type": "stream",
     "text": [
      "Elementwise sine\n",
      " SI=\n",
      "[[ 0.84  0.91  0.14 -0.76]\n",
      " [-0.96 -0.28  0.84  0.84]\n",
      " [ 0.84  0.91  0.84  0.84]]\n"
     ]
    }
   ],
   "source": [
    "SI=np.sin(B)\n",
    "print \"Elementwise sine\\n SI=\\n\",SI"
   ]
  },
  {
   "cell_type": "markdown",
   "metadata": {
    "deletable": true,
    "editable": true
   },
   "source": [
    "### Dot product"
   ]
  },
  {
   "cell_type": "code",
   "execution_count": 76,
   "metadata": {
    "collapsed": false,
    "deletable": true,
    "editable": true
   },
   "outputs": [
    {
     "name": "stdout",
     "output_type": "stream",
     "text": [
      "[0 1 2]\n",
      "[2 4 1]\n"
     ]
    }
   ],
   "source": [
    "a=np.arange(3)\n",
    "b=np.array([2,4,1])\n",
    "print a\n",
    "print b"
   ]
  },
  {
   "cell_type": "code",
   "execution_count": 77,
   "metadata": {
    "collapsed": false,
    "deletable": true,
    "editable": true
   },
   "outputs": [
    {
     "name": "stdout",
     "output_type": "stream",
     "text": [
      "6\n"
     ]
    }
   ],
   "source": [
    "c=np.dot(a,b)\n",
    "print c"
   ]
  },
  {
   "cell_type": "markdown",
   "metadata": {
    "deletable": true,
    "editable": true
   },
   "source": [
    "### Matrix multiplication"
   ]
  },
  {
   "cell_type": "code",
   "execution_count": 78,
   "metadata": {
    "collapsed": false,
    "deletable": true,
    "editable": true
   },
   "outputs": [
    {
     "name": "stdout",
     "output_type": "stream",
     "text": [
      "B=\n",
      "[[1 2 3 4]\n",
      " [5 6 1 1]\n",
      " [1 2 1 1]]\n",
      "A=\n",
      "[[2 3 0 1]\n",
      " [4 2 6 0]\n",
      " [5 1 6 2]]\n"
     ]
    }
   ],
   "source": [
    "print \"B=\\n\",B\n",
    "print \"A=\\n\",A"
   ]
  },
  {
   "cell_type": "code",
   "execution_count": 79,
   "metadata": {
    "collapsed": false,
    "deletable": true,
    "editable": true
   },
   "outputs": [
    {
     "ename": "ValueError",
     "evalue": "shapes (3,4) and (3,4) not aligned: 4 (dim 1) != 3 (dim 0)",
     "output_type": "error",
     "traceback": [
      "\u001b[0;31m---------------------------------------------------------------------------\u001b[0m",
      "\u001b[0;31mValueError\u001b[0m                                Traceback (most recent call last)",
      "\u001b[0;32m<ipython-input-79-392bb8cd34fa>\u001b[0m in \u001b[0;36m<module>\u001b[0;34m()\u001b[0m\n\u001b[0;32m----> 1\u001b[0;31m \u001b[0mC\u001b[0m\u001b[1;33m=\u001b[0m\u001b[0mnp\u001b[0m\u001b[1;33m.\u001b[0m\u001b[0mdot\u001b[0m\u001b[1;33m(\u001b[0m\u001b[0mA\u001b[0m\u001b[1;33m,\u001b[0m\u001b[0mB\u001b[0m\u001b[1;33m)\u001b[0m\u001b[1;33m\u001b[0m\u001b[0m\n\u001b[0m\u001b[1;32m      2\u001b[0m \u001b[1;32mprint\u001b[0m \u001b[1;34m\"C=\\n\"\u001b[0m\u001b[1;33m,\u001b[0m\u001b[0mC\u001b[0m\u001b[1;33m\u001b[0m\u001b[0m\n",
      "\u001b[0;31mValueError\u001b[0m: shapes (3,4) and (3,4) not aligned: 4 (dim 1) != 3 (dim 0)"
     ]
    }
   ],
   "source": [
    "C=np.dot(A,B)\n",
    "print \"C=\\n\",C"
   ]
  },
  {
   "cell_type": "code",
   "execution_count": 109,
   "metadata": {
    "collapsed": false,
    "deletable": true,
    "editable": true
   },
   "outputs": [
    {
     "name": "stdout",
     "output_type": "stream",
     "text": [
      "BT=\n",
      "[[1 5 1]\n",
      " [2 6 2]\n",
      " [3 1 1]\n",
      " [4 1 1]]\n",
      "C=\n",
      "[[12 29  9]\n",
      " [26 38 14]\n",
      " [33 39 15]]\n"
     ]
    }
   ],
   "source": [
    "BT=np.transpose(B)\n",
    "print \"BT=\\n\",BT\n",
    "C=np.dot(A,BT)\n",
    "print \"C=\\n\",C"
   ]
  },
  {
   "cell_type": "code",
   "execution_count": 110,
   "metadata": {
    "collapsed": false,
    "deletable": true,
    "editable": true
   },
   "outputs": [
    {
     "name": "stdout",
     "output_type": "stream",
     "text": [
      "BT2=\n",
      "[[12 29  9]\n",
      " [26 38 14]\n",
      " [33 39 15]]\n"
     ]
    }
   ],
   "source": [
    "BT2=A.dot(BT)\n",
    "print \"BT2=\\n\",BT2"
   ]
  },
  {
   "cell_type": "markdown",
   "metadata": {
    "deletable": true,
    "editable": true
   },
   "source": [
    "### Simple statistic operations on arrays"
   ]
  },
  {
   "cell_type": "code",
   "execution_count": 111,
   "metadata": {
    "collapsed": false,
    "deletable": true,
    "editable": true
   },
   "outputs": [
    {
     "name": "stdout",
     "output_type": "stream",
     "text": [
      "A=\n",
      "[[2 3 0 1]\n",
      " [4 2 6 0]\n",
      " [5 1 6 2]]\n"
     ]
    }
   ],
   "source": [
    "print \"A=\\n\",A "
   ]
  },
  {
   "cell_type": "code",
   "execution_count": 112,
   "metadata": {
    "collapsed": false,
    "deletable": true,
    "editable": true
   },
   "outputs": [
    {
     "name": "stdout",
     "output_type": "stream",
     "text": [
      "Minimum =   0\n",
      "Maximum =   6\n",
      "Mean = 2.67\n"
     ]
    }
   ],
   "source": [
    "print \"Minimum = %3d\\nMaximum = %3d\\nMean = %3.2f\"%(A.min(),A.max(),A.mean())"
   ]
  },
  {
   "cell_type": "code",
   "execution_count": 113,
   "metadata": {
    "collapsed": false,
    "deletable": true,
    "editable": true
   },
   "outputs": [
    {
     "name": "stdout",
     "output_type": "stream",
     "text": [
      "Minimum = [2 1 0 0]\n",
      "Maximum = [5 3 6 2]\n",
      "Mean = [ 3.67  2.    4.    1.  ]\n"
     ]
    }
   ],
   "source": [
    "print \"Minimum = %s\\nMaximum = %s\\nMean = %s\"%(A.min(axis=0),A.max(axis=0),A.mean(axis=0))"
   ]
  },
  {
   "cell_type": "code",
   "execution_count": 114,
   "metadata": {
    "collapsed": false,
    "deletable": true,
    "editable": true
   },
   "outputs": [
    {
     "name": "stdout",
     "output_type": "stream",
     "text": [
      "Minimum = [0 0 1]\n",
      "Maximum = [3 6 6]\n",
      "Mean = [ 1.5  3.   3.5]\n"
     ]
    }
   ],
   "source": [
    "print \"Minimum = %s\\nMaximum = %s\\nMean = %s\"%(A.min(axis=1),A.max(axis=1),A.mean(axis=1))"
   ]
  },
  {
   "cell_type": "markdown",
   "metadata": {
    "deletable": true,
    "editable": true
   },
   "source": [
    "## Stacking and splitting arrays "
   ]
  },
  {
   "cell_type": "code",
   "execution_count": 115,
   "metadata": {
    "collapsed": false,
    "deletable": true,
    "editable": true
   },
   "outputs": [
    {
     "name": "stdout",
     "output_type": "stream",
     "text": [
      "A=\n",
      "[[2 3 0 1]\n",
      " [4 2 6 0]\n",
      " [5 1 6 2]]\n",
      "B=\n",
      "[[1 2 3 4]\n",
      " [5 6 1 1]\n",
      " [1 2 1 1]]\n"
     ]
    }
   ],
   "source": [
    "print \"A=\\n\",A\n",
    "print \"B=\\n\",B"
   ]
  },
  {
   "cell_type": "code",
   "execution_count": 116,
   "metadata": {
    "collapsed": false,
    "deletable": true,
    "editable": true
   },
   "outputs": [
    {
     "name": "stdout",
     "output_type": "stream",
     "text": [
      "V=\n",
      "[[2 3 0 1]\n",
      " [4 2 6 0]\n",
      " [5 1 6 2]\n",
      " [1 2 3 4]\n",
      " [5 6 1 1]\n",
      " [1 2 1 1]]\n"
     ]
    }
   ],
   "source": [
    "V=np.vstack((A,B))\n",
    "print \"V=\\n\",V"
   ]
  },
  {
   "cell_type": "code",
   "execution_count": 117,
   "metadata": {
    "collapsed": false,
    "deletable": true,
    "editable": true
   },
   "outputs": [
    {
     "name": "stdout",
     "output_type": "stream",
     "text": [
      "H=\n",
      "[[2 3 0 1 1 2 3 4]\n",
      " [4 2 6 0 5 6 1 1]\n",
      " [5 1 6 2 1 2 1 1]]\n"
     ]
    }
   ],
   "source": [
    "H=np.hstack((A,B))\n",
    "print \"H=\\n\",H"
   ]
  },
  {
   "cell_type": "code",
   "execution_count": 118,
   "metadata": {
    "collapsed": false,
    "deletable": true,
    "editable": true
   },
   "outputs": [
    {
     "name": "stdout",
     "output_type": "stream",
     "text": [
      "1st part=\n",
      "[[2 3 0]\n",
      " [4 2 6]\n",
      " [5 1 6]]\n",
      "2nd part=\n",
      "[[1 1]\n",
      " [0 5]\n",
      " [2 1]]\n",
      "3rd part=\n",
      "[[2 3 4]\n",
      " [6 1 1]\n",
      " [2 1 1]]\n"
     ]
    }
   ],
   "source": [
    "Hs=np.hsplit(H,(3,5))\n",
    "print \"1st part=\\n\",Hs[0]\n",
    "print \"2nd part=\\n\",Hs[1]\n",
    "print \"3rd part=\\n\",Hs[2]"
   ]
  },
  {
   "cell_type": "code",
   "execution_count": 119,
   "metadata": {
    "collapsed": false,
    "deletable": true,
    "editable": true
   },
   "outputs": [
    {
     "name": "stdout",
     "output_type": "stream",
     "text": [
      "1st part=\n",
      "[[2 3 0 1]\n",
      " [4 2 6 0]]\n",
      "2nd part=\n",
      "[[5 1 6 2]\n",
      " [1 2 3 4]\n",
      " [5 6 1 1]\n",
      " [1 2 1 1]]\n"
     ]
    }
   ],
   "source": [
    "Vs=np.vsplit(V,(2,))\n",
    "print \"1st part=\\n\",Vs[0]\n",
    "print \"2nd part=\\n\",Vs[1]"
   ]
  },
  {
   "cell_type": "markdown",
   "metadata": {
    "deletable": true,
    "editable": true
   },
   "source": [
    "## Ordering array elements"
   ]
  },
  {
   "cell_type": "code",
   "execution_count": 120,
   "metadata": {
    "collapsed": false,
    "deletable": true,
    "editable": true
   },
   "outputs": [
    {
     "name": "stdout",
     "output_type": "stream",
     "text": [
      "[27 66 93 62 20  4 29 91 54  4 94 47 51 95 98]\n"
     ]
    }
   ],
   "source": [
    "b=np.random.randint(0,100,15)\n",
    "print b"
   ]
  },
  {
   "cell_type": "code",
   "execution_count": 121,
   "metadata": {
    "collapsed": false,
    "deletable": true,
    "editable": true
   },
   "outputs": [
    {
     "name": "stdout",
     "output_type": "stream",
     "text": [
      "[ 4  4 20 27 29 47 51 54 62 66 91 93 94 95 98]\n"
     ]
    }
   ],
   "source": [
    "bs=np.sort(b)\n",
    "print bs"
   ]
  },
  {
   "cell_type": "code",
   "execution_count": 122,
   "metadata": {
    "collapsed": false,
    "deletable": true,
    "editable": true
   },
   "outputs": [
    {
     "name": "stdout",
     "output_type": "stream",
     "text": [
      "[ 5  9  4  0  6 11 12  8  3  1  7  2 10 13 14]\n"
     ]
    }
   ],
   "source": [
    "sortIdx=np.argsort(b)\n",
    "print sortIdx"
   ]
  },
  {
   "cell_type": "code",
   "execution_count": 123,
   "metadata": {
    "collapsed": false,
    "deletable": true,
    "editable": true
   },
   "outputs": [
    {
     "name": "stdout",
     "output_type": "stream",
     "text": [
      "[ 4  4 20 27 29 47 51 54 62 66 91 93 94 95 98]\n"
     ]
    }
   ],
   "source": [
    "bss=b[sortIdx]\n",
    "print bss"
   ]
  },
  {
   "cell_type": "markdown",
   "metadata": {
    "deletable": true,
    "editable": true
   },
   "source": [
    "## Array Query"
   ]
  },
  {
   "cell_type": "code",
   "execution_count": 124,
   "metadata": {
    "collapsed": false,
    "deletable": true,
    "editable": true
   },
   "outputs": [
    {
     "name": "stdout",
     "output_type": "stream",
     "text": [
      "[[2 3 0 1]\n",
      " [4 2 6 0]\n",
      " [5 1 6 2]]\n"
     ]
    }
   ],
   "source": [
    "print A"
   ]
  },
  {
   "cell_type": "code",
   "execution_count": 125,
   "metadata": {
    "collapsed": false,
    "deletable": true,
    "editable": true
   },
   "outputs": [
    {
     "name": "stdout",
     "output_type": "stream",
     "text": [
      "(array([0, 0, 0, 1, 1, 1, 2, 2, 2, 2], dtype=int64), array([0, 1, 3, 0, 1, 2, 0, 1, 2, 3], dtype=int64))\n"
     ]
    }
   ],
   "source": [
    "print A.nonzero()"
   ]
  },
  {
   "cell_type": "code",
   "execution_count": 126,
   "metadata": {
    "collapsed": false,
    "deletable": true,
    "editable": true
   },
   "outputs": [
    {
     "name": "stdout",
     "output_type": "stream",
     "text": [
      "(array([0, 1, 1, 2, 2], dtype=int64), array([1, 0, 2, 0, 2], dtype=int64))\n"
     ]
    }
   ],
   "source": [
    "print np.where(A>2)"
   ]
  },
  {
   "cell_type": "code",
   "execution_count": 127,
   "metadata": {
    "collapsed": false,
    "deletable": true,
    "editable": true
   },
   "outputs": [
    {
     "name": "stdout",
     "output_type": "stream",
     "text": [
      "[[ 0.  1.  0.  0.]\n",
      " [ 1.  0.  1.  0.]\n",
      " [ 1.  0.  1.  0.]]\n"
     ]
    }
   ],
   "source": [
    "print np.where(A>2,np.ones(A.shape),np.zeros(A.shape))"
   ]
  },
  {
   "cell_type": "code",
   "execution_count": 128,
   "metadata": {
    "collapsed": false,
    "deletable": true,
    "editable": true
   },
   "outputs": [
    {
     "name": "stdout",
     "output_type": "stream",
     "text": [
      "[[2 3 0 1]\n",
      " [4 2 6 0]\n",
      " [5 1 6 2]]\n"
     ]
    }
   ],
   "source": [
    "print A"
   ]
  },
  {
   "cell_type": "code",
   "execution_count": 129,
   "metadata": {
    "collapsed": false,
    "deletable": true,
    "editable": true
   },
   "outputs": [
    {
     "name": "stdout",
     "output_type": "stream",
     "text": [
      "[[1 2 3 4]\n",
      " [5 6 1 1]\n",
      " [1 2 1 1]]\n"
     ]
    }
   ],
   "source": [
    "print B"
   ]
  },
  {
   "cell_type": "code",
   "execution_count": 130,
   "metadata": {
    "collapsed": false,
    "deletable": true,
    "editable": true
   },
   "outputs": [
    {
     "name": "stdout",
     "output_type": "stream",
     "text": [
      "[[ True  True False False]\n",
      " [False False  True False]\n",
      " [ True False  True  True]]\n"
     ]
    }
   ],
   "source": [
    "print A>B"
   ]
  },
  {
   "cell_type": "code",
   "execution_count": 131,
   "metadata": {
    "collapsed": false,
    "deletable": true,
    "editable": true
   },
   "outputs": [
    {
     "name": "stdout",
     "output_type": "stream",
     "text": [
      "[ True  True  True  True]\n"
     ]
    }
   ],
   "source": [
    "print np.any(A>B,axis=0)"
   ]
  },
  {
   "cell_type": "code",
   "execution_count": 132,
   "metadata": {
    "collapsed": false,
    "deletable": true,
    "editable": true
   },
   "outputs": [
    {
     "name": "stdout",
     "output_type": "stream",
     "text": [
      "[ True  True  True]\n"
     ]
    }
   ],
   "source": [
    "print np.any(A>B,axis=1)"
   ]
  },
  {
   "cell_type": "code",
   "execution_count": 133,
   "metadata": {
    "collapsed": false,
    "deletable": true,
    "editable": true
   },
   "outputs": [
    {
     "name": "stdout",
     "output_type": "stream",
     "text": [
      "[False False False False]\n"
     ]
    }
   ],
   "source": [
    "print np.all(A>B,axis=0)"
   ]
  },
  {
   "cell_type": "code",
   "execution_count": 134,
   "metadata": {
    "collapsed": false,
    "deletable": true,
    "editable": true
   },
   "outputs": [
    {
     "name": "stdout",
     "output_type": "stream",
     "text": [
      "[False False False]\n"
     ]
    }
   ],
   "source": [
    "print np.all(A>B,axis=1)"
   ]
  },
  {
   "cell_type": "markdown",
   "metadata": {
    "deletable": true,
    "editable": true
   },
   "source": [
    "## Import and Export Data from/to Files "
   ]
  },
  {
   "cell_type": "code",
   "execution_count": 135,
   "metadata": {
    "collapsed": false,
    "deletable": true,
    "editable": true
   },
   "outputs": [
    {
     "name": "stdout",
     "output_type": "stream",
     "text": [
      "[[2 3 0 1]\n",
      " [4 2 6 0]\n",
      " [5 1 6 2]]\n"
     ]
    }
   ],
   "source": [
    "print A"
   ]
  },
  {
   "cell_type": "markdown",
   "metadata": {
    "deletable": true,
    "editable": true
   },
   "source": [
    "Save array A to a binary file in NumPy .npy format. In the example below the file is saved in the working directory. However, an arbitrary path can be specified in the string-parameter of _save()_."
   ]
  },
  {
   "cell_type": "code",
   "execution_count": 136,
   "metadata": {
    "collapsed": true,
    "deletable": true,
    "editable": true
   },
   "outputs": [],
   "source": [
    "np.save(\"binFileA\",A)"
   ]
  },
  {
   "cell_type": "markdown",
   "metadata": {
    "deletable": true,
    "editable": true
   },
   "source": [
    "Load array, which has been saved to a binary file into NumPy:"
   ]
  },
  {
   "cell_type": "code",
   "execution_count": 137,
   "metadata": {
    "collapsed": false,
    "deletable": true,
    "editable": true
   },
   "outputs": [
    {
     "name": "stdout",
     "output_type": "stream",
     "text": [
      "[[2 3 0 1]\n",
      " [4 2 6 0]\n",
      " [5 1 6 2]]\n"
     ]
    }
   ],
   "source": [
    "AL=np.load(\"binFileA.npy\")\n",
    "print AL"
   ]
  },
  {
   "cell_type": "markdown",
   "metadata": {
    "deletable": true,
    "editable": true
   },
   "source": [
    "Save array to a text-file. Note that _savetxt()_ also has parameters for separating columns (_delimiter=''_) and lines (_newline='\\n'_). Thus this method and the corresponding _loadtxt()_-method can also be applied for writing to and reading from .csv."
   ]
  },
  {
   "cell_type": "markdown",
   "metadata": {
    "deletable": true,
    "editable": true
   },
   "source": [
    "Load data from a textfile into a NumPy array:"
   ]
  },
  {
   "cell_type": "code",
   "execution_count": 138,
   "metadata": {
    "collapsed": false,
    "deletable": true,
    "editable": true
   },
   "outputs": [],
   "source": [
    "np.savetxt(\"textFileA\",A,fmt=\"%4.2f\")"
   ]
  },
  {
   "cell_type": "code",
   "execution_count": 139,
   "metadata": {
    "collapsed": false,
    "deletable": true,
    "editable": true
   },
   "outputs": [
    {
     "name": "stdout",
     "output_type": "stream",
     "text": [
      "[[ 2.  3.  0.  1.]\n",
      " [ 4.  2.  6.  0.]\n",
      " [ 5.  1.  6.  2.]]\n"
     ]
    }
   ],
   "source": [
    "AT=np.loadtxt(\"textFileA\")\n",
    "print AT"
   ]
  },
  {
   "cell_type": "markdown",
   "metadata": {
    "deletable": true,
    "editable": true
   },
   "source": [
    "## Exercises"
   ]
  },
  {
   "cell_type": "code",
   "execution_count": null,
   "metadata": {
    "collapsed": true,
    "deletable": true,
    "editable": true
   },
   "outputs": [],
   "source": []
  }
 ],
 "metadata": {
  "anaconda-cloud": {},
  "kernelspec": {
   "display_name": "Python 2",
   "language": "python",
   "name": "python2"
  },
  "language_info": {
   "codemirror_mode": {
    "name": "ipython",
    "version": 2
   },
   "file_extension": ".py",
   "mimetype": "text/x-python",
   "name": "python",
   "nbconvert_exporter": "python",
   "pygments_lexer": "ipython2",
   "version": "2.7.13"
  },
  "nav_menu": {},
  "toc": {
   "navigate_menu": true,
   "number_sections": true,
   "sideBar": true,
   "threshold": 6,
   "toc_cell": true,
   "toc_section_display": "block",
   "toc_window_display": true
  },
  "toc_position": {
   "height": "533px",
   "left": "0px",
   "right": "1196px",
   "top": "106px",
   "width": "212px"
  }
 },
 "nbformat": 4,
 "nbformat_minor": 0
}

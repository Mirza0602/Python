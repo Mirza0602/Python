{
 "cells": [
  {
   "cell_type": "markdown",
   "metadata": {},
   "source": [
    "[Back to Lecture Overview](Overview.ipynb)"
   ]
  },
  {
   "cell_type": "markdown",
   "metadata": {
    "run_control": {
     "marked": true
    }
   },
   "source": [
    "# Numpy Introduction\n",
    "* Author: Johannes Maucher\n",
    "* Last Update: 02.07.2019"
   ]
  },
  {
   "cell_type": "markdown",
   "metadata": {},
   "source": [
    "<figure align=\"center\">\n",
    "<img width=\"800\" src=\"https://maucher.home.hdm-stuttgart.de/Pics/DS_Python_Libs_All.png\">\n",
    "</figure>"
   ]
  },
  {
   "cell_type": "code",
   "execution_count": 77,
   "metadata": {
    "ExecuteTime": {
     "end_time": "2017-10-03T13:45:11.891000Z",
     "start_time": "2017-10-03T15:45:11.775000+02:00"
    },
    "run_control": {
     "marked": true
    }
   },
   "outputs": [
    {
     "name": "stdout",
     "output_type": "stream",
     "text": [
      "1.18.1\n"
     ]
    }
   ],
   "source": [
    "import numpy as np\n",
    "print(np.__version__)"
   ]
  },
  {
   "cell_type": "markdown",
   "metadata": {
    "run_control": {
     "marked": true
    }
   },
   "source": [
    "## Numpy Array\n",
    "In Numpy arrays are the main type of objects. In arrays elements are arranged in multidimensional tables. Array elements are indexed by positive integers, starting at 0.\n",
    "### Create a numpy array\n",
    "Create a 1-dimensional array and access its type, number of dimensions and shape and size:"
   ]
  },
  {
   "cell_type": "code",
   "execution_count": 78,
   "metadata": {
    "ExecuteTime": {
     "end_time": "2017-10-03T13:45:37.390000Z",
     "start_time": "2017-10-03T15:45:37.375000+02:00"
    },
    "run_control": {
     "marked": true
    }
   },
   "outputs": [
    {
     "name": "stdout",
     "output_type": "stream",
     "text": [
      "[1. 2. 3.]\n",
      "Type of variable:      <class 'numpy.ndarray'>\n",
      "Type of elements:      float64\n",
      "Number of dimensions:  1\n",
      "Shape:                 (3,)\n",
      "Size:                  3\n"
     ]
    }
   ],
   "source": [
    "A=np.array([1,2,3.0])\n",
    "print(A)\n",
    "print(\"Type of variable:     \",type(A))\n",
    "print(\"Type of elements:     \",A.dtype)\n",
    "print(\"Number of dimensions: \",A.ndim)\n",
    "print(\"Shape:                \",A.shape)\n",
    "print(\"Size:                 \",A.size)"
   ]
  },
  {
   "cell_type": "markdown",
   "metadata": {
    "run_control": {
     "marked": true
    }
   },
   "source": [
    "Create a 2-dimensional array and access its type, number of dimensions and shape and size:"
   ]
  },
  {
   "cell_type": "code",
   "execution_count": 79,
   "metadata": {
    "ExecuteTime": {
     "end_time": "2017-10-03T13:45:50.765000Z",
     "start_time": "2017-10-03T15:45:50.750000+02:00"
    },
    "run_control": {
     "marked": true
    }
   },
   "outputs": [
    {
     "name": "stdout",
     "output_type": "stream",
     "text": [
      "[[1 2 3 4]\n",
      " [5 6 0 1]\n",
      " [1 2 0 1]]\n",
      "Type of variable:      <class 'numpy.ndarray'>\n",
      "Type of elements:      int64\n",
      "Number of dimensions:  2\n",
      "Shape:                 (3, 4)\n",
      "Size:                  12\n"
     ]
    }
   ],
   "source": [
    "B=np.array([[1,2,3,4],[5,6,0,1],[1,2,0,1]])\n",
    "print(B)\n",
    "print(\"Type of variable:     \",type(B))\n",
    "print(\"Type of elements:     \",B.dtype)\n",
    "print(\"Number of dimensions: \",B.ndim)\n",
    "print(\"Shape:                \",B.shape)\n",
    "print(\"Size:                 \",B.size)"
   ]
  },
  {
   "cell_type": "markdown",
   "metadata": {
    "run_control": {
     "marked": true
    }
   },
   "source": [
    "Create 2-dimensional array of zeros:"
   ]
  },
  {
   "cell_type": "code",
   "execution_count": 80,
   "metadata": {
    "ExecuteTime": {
     "end_time": "2017-10-03T13:45:56.918000Z",
     "start_time": "2017-10-03T15:45:56.900000+02:00"
    },
    "run_control": {
     "marked": true
    }
   },
   "outputs": [
    {
     "name": "stdout",
     "output_type": "stream",
     "text": [
      "[[0. 0.]\n",
      " [0. 0.]\n",
      " [0. 0.]\n",
      " [0. 0.]\n",
      " [0. 0.]]\n"
     ]
    }
   ],
   "source": [
    "Z=np.zeros((5,2))\n",
    "print(Z)"
   ]
  },
  {
   "cell_type": "markdown",
   "metadata": {
    "run_control": {
     "marked": true
    }
   },
   "source": [
    "Create a 3-dimensional array of ones"
   ]
  },
  {
   "cell_type": "code",
   "execution_count": 81,
   "metadata": {
    "ExecuteTime": {
     "end_time": "2017-10-03T13:46:01.503000Z",
     "start_time": "2017-10-03T15:46:01.503000+02:00"
    },
    "run_control": {
     "marked": true
    }
   },
   "outputs": [
    {
     "name": "stdout",
     "output_type": "stream",
     "text": [
      "[[[1. 1. 1. 1.]\n",
      "  [1. 1. 1. 1.]\n",
      "  [1. 1. 1. 1.]]\n",
      "\n",
      " [[1. 1. 1. 1.]\n",
      "  [1. 1. 1. 1.]\n",
      "  [1. 1. 1. 1.]]]\n"
     ]
    }
   ],
   "source": [
    "O=np.ones((2,3,4))\n",
    "print(O)"
   ]
  },
  {
   "cell_type": "markdown",
   "metadata": {
    "run_control": {
     "marked": true
    }
   },
   "source": [
    "Create 2-dimensional array of random integers between 10 (inclusive) and 20 (exclusive)"
   ]
  },
  {
   "cell_type": "code",
   "execution_count": 82,
   "metadata": {
    "ExecuteTime": {
     "end_time": "2017-10-03T13:46:06.841000Z",
     "start_time": "2017-10-03T15:46:06.841000+02:00"
    },
    "run_control": {
     "marked": true
    }
   },
   "outputs": [
    {
     "name": "stdout",
     "output_type": "stream",
     "text": [
      "[[11 15 17]\n",
      " [18 18 15]\n",
      " [19 13 12]\n",
      " [16 11 15]\n",
      " [18 17 10]]\n"
     ]
    }
   ],
   "source": [
    "RI=np.random.randint(10,20,(5,3))\n",
    "print(RI)"
   ]
  },
  {
   "cell_type": "markdown",
   "metadata": {
    "run_control": {
     "marked": true
    }
   },
   "source": [
    "Create a 2-dimensional array of random numbers according to a Gaussian normal distribution with mean 0 and standard deviation 1."
   ]
  },
  {
   "cell_type": "code",
   "execution_count": 83,
   "metadata": {
    "ExecuteTime": {
     "end_time": "2017-10-03T13:46:19.395000Z",
     "start_time": "2017-10-03T15:46:19.395000+02:00"
    },
    "run_control": {
     "marked": true
    }
   },
   "outputs": [
    {
     "name": "stdout",
     "output_type": "stream",
     "text": [
      "[[-1.39  0.21 -1.13 -1.45  0.78]\n",
      " [-0.93  0.03 -1.69  0.77  1.06]\n",
      " [ 0.44  0.14 -0.08  0.59  1.53]\n",
      " [ 1.66 -0.61 -0.15 -0.45 -0.98]\n",
      " [-0.33 -0.15 -1.1   0.16  0.08]]\n"
     ]
    }
   ],
   "source": [
    "RN=np.random.randn(5,5)\n",
    "print(RN)"
   ]
  },
  {
   "cell_type": "markdown",
   "metadata": {
    "run_control": {
     "marked": true
    }
   },
   "source": [
    "Create a 2-dimensional array of random numbers according to a Gaussian normal distribution with mean m=100 and standard deviation s=5."
   ]
  },
  {
   "cell_type": "code",
   "execution_count": 84,
   "metadata": {
    "ExecuteTime": {
     "end_time": "2017-10-03T13:46:30.811000Z",
     "start_time": "2017-10-03T15:46:30.796000+02:00"
    },
    "run_control": {
     "marked": true
    }
   },
   "outputs": [
    {
     "name": "stdout",
     "output_type": "stream",
     "text": [
      "[[101.64 111.99  94.61  97.88 102.6   97.92 100.68 103.95]\n",
      " [ 97.18  95.62 103.18  97.36  92.64 102.82  97.88 107.17]\n",
      " [100.09 100.77  98.56 103.43  97.46  93.08 105.31 103.3 ]\n",
      " [ 94.97  96.92  98.49 101.46  91.93  97.89  87.23 104.67]]\n"
     ]
    }
   ],
   "source": [
    "mean=100\n",
    "sigma=5\n",
    "RN100=sigma*np.random.randn(4,8)+mean\n",
    "print(RN100)"
   ]
  },
  {
   "cell_type": "markdown",
   "metadata": {
    "run_control": {
     "marked": true
    }
   },
   "source": [
    "Set print options, such that only 2 positions after the decimal point are printed."
   ]
  },
  {
   "cell_type": "code",
   "execution_count": 85,
   "metadata": {
    "ExecuteTime": {
     "end_time": "2017-10-03T13:48:11.307000Z",
     "start_time": "2017-10-03T15:48:11.307000+02:00"
    },
    "run_control": {
     "marked": true
    }
   },
   "outputs": [
    {
     "name": "stdout",
     "output_type": "stream",
     "text": [
      "[[101.64 111.99  94.61  97.88 102.6   97.92 100.68 103.95]\n",
      " [ 97.18  95.62 103.18  97.36  92.64 102.82  97.88 107.17]\n",
      " [100.09 100.77  98.56 103.43  97.46  93.08 105.31 103.3 ]\n",
      " [ 94.97  96.92  98.49 101.46  91.93  97.89  87.23 104.67]]\n"
     ]
    }
   ],
   "source": [
    "np.set_printoptions(precision=2)\n",
    "print(RN100)"
   ]
  },
  {
   "cell_type": "markdown",
   "metadata": {
    "run_control": {
     "marked": true
    }
   },
   "source": [
    "Throw a balanced dice for 30 times. The first element of the resulting array is the number of times a 1 has been thrown, the last element is the number of times a 6 has been thrown.   "
   ]
  },
  {
   "cell_type": "markdown",
   "metadata": {},
   "source": [
    "**Check if data is Normally Distributed:**"
   ]
  },
  {
   "cell_type": "code",
   "execution_count": 86,
   "metadata": {},
   "outputs": [
    {
     "name": "stdout",
     "output_type": "stream",
     "text": [
      "p = 0.818722\n",
      "The null hypothesis cannot be rejected\n"
     ]
    }
   ],
   "source": [
    "from scipy import stats\n",
    "k2, p = stats.normaltest(RN.flatten())\n",
    "alpha = 1e-3\n",
    "print(\"p = {:g}\".format(p))\n",
    "\n",
    "if p < alpha:  # null hypothesis: x comes from a normal distribution\n",
    "    print(\"The null hypothesis can be rejected\")\n",
    "else:\n",
    "    print(\"The null hypothesis cannot be rejected\")"
   ]
  },
  {
   "cell_type": "code",
   "execution_count": 87,
   "metadata": {
    "ExecuteTime": {
     "end_time": "2017-10-03T13:50:27.818000Z",
     "start_time": "2017-10-03T15:50:27.818000+02:00"
    },
    "run_control": {
     "marked": true
    }
   },
   "outputs": [
    {
     "name": "stdout",
     "output_type": "stream",
     "text": [
      "[4 6 3 7 5 5]\n"
     ]
    }
   ],
   "source": [
    "RM=np.random.multinomial(30,[1/6.]*6)\n",
    "print(RM)"
   ]
  },
  {
   "cell_type": "markdown",
   "metadata": {
    "run_control": {
     "marked": true
    }
   },
   "source": [
    "Create a 1-dimensional array, containing a sequence of numbers, starting from 2, terminating before 18 and a stepsize of 4.  "
   ]
  },
  {
   "cell_type": "code",
   "execution_count": 88,
   "metadata": {
    "ExecuteTime": {
     "end_time": "2017-10-03T13:50:32.556000Z",
     "start_time": "2017-10-03T15:50:32.552000+02:00"
    },
    "run_control": {
     "marked": true
    }
   },
   "outputs": [
    {
     "name": "stdout",
     "output_type": "stream",
     "text": [
      "[ 2  6 10 14]\n"
     ]
    }
   ],
   "source": [
    "S=np.arange(2,18,4)\n",
    "print(S)"
   ]
  },
  {
   "cell_type": "markdown",
   "metadata": {
    "run_control": {
     "marked": true
    }
   },
   "source": [
    "Reshape the 1-dimensional array to a 2-dimensional array. Note that the number of elements in the original and the reshaped array must be equal."
   ]
  },
  {
   "cell_type": "code",
   "execution_count": 89,
   "metadata": {
    "ExecuteTime": {
     "end_time": "2017-10-03T13:50:36.755000Z",
     "start_time": "2017-10-03T15:50:36.755000+02:00"
    },
    "run_control": {
     "marked": true
    }
   },
   "outputs": [
    {
     "name": "stdout",
     "output_type": "stream",
     "text": [
      "[[ 2  6]\n",
      " [10 14]]\n"
     ]
    }
   ],
   "source": [
    "SR = S.reshape((2,2))\n",
    "print(SR)"
   ]
  },
  {
   "cell_type": "markdown",
   "metadata": {},
   "source": [
    "In the _reshape()_ function the last shape-element need not be specified. It is enough to place a _-1_ at the corresponding position. Then this shape-element is calculated from the other shape-elements and the number of elements in the array. Below another _reshape()_ is performed. Note that the result is a _2-dimensional array_ of 1 row and 4 columns. "
   ]
  },
  {
   "cell_type": "code",
   "execution_count": 90,
   "metadata": {
    "ExecuteTime": {
     "end_time": "2017-10-03T13:50:39.888000Z",
     "start_time": "2017-10-03T15:50:39.872000+02:00"
    }
   },
   "outputs": [
    {
     "name": "stdout",
     "output_type": "stream",
     "text": [
      "[[ 2  6 10 14]]\n"
     ]
    }
   ],
   "source": [
    "SRR=SR.reshape((1,-1))\n",
    "print(SRR)"
   ]
  },
  {
   "cell_type": "markdown",
   "metadata": {},
   "source": [
    "The _flatten()_ function yields a _1-dimensional_ array."
   ]
  },
  {
   "cell_type": "code",
   "execution_count": 91,
   "metadata": {
    "ExecuteTime": {
     "end_time": "2017-10-03T13:50:45.139000Z",
     "start_time": "2017-10-03T15:50:45.139000+02:00"
    }
   },
   "outputs": [
    {
     "name": "stdout",
     "output_type": "stream",
     "text": [
      "[ 2  6 10 14]\n"
     ]
    }
   ],
   "source": [
    "SRRR=SR.flatten()\n",
    "print(SRRR)"
   ]
  },
  {
   "cell_type": "markdown",
   "metadata": {
    "run_control": {
     "marked": true
    }
   },
   "source": [
    "### Accessing Array Elements"
   ]
  },
  {
   "cell_type": "code",
   "execution_count": 92,
   "metadata": {
    "ExecuteTime": {
     "end_time": "2017-10-03T13:50:48.771000Z",
     "start_time": "2017-10-03T15:50:48.771000+02:00"
    },
    "run_control": {
     "marked": true
    }
   },
   "outputs": [
    {
     "name": "stdout",
     "output_type": "stream",
     "text": [
      "[[1 2 3 4]\n",
      " [5 6 0 1]\n",
      " [1 2 0 1]]\n"
     ]
    }
   ],
   "source": [
    "print(B)"
   ]
  },
  {
   "cell_type": "markdown",
   "metadata": {
    "run_control": {
     "marked": true
    }
   },
   "source": [
    "Access the element in the first row and third column:"
   ]
  },
  {
   "cell_type": "code",
   "execution_count": 93,
   "metadata": {
    "ExecuteTime": {
     "end_time": "2017-10-03T13:50:51.224000Z",
     "start_time": "2017-10-03T15:50:51.224000+02:00"
    },
    "run_control": {
     "marked": true
    }
   },
   "outputs": [
    {
     "name": "stdout",
     "output_type": "stream",
     "text": [
      "3\n"
     ]
    }
   ],
   "source": [
    "b=B[0,2]\n",
    "print(b)"
   ]
  },
  {
   "cell_type": "markdown",
   "metadata": {
    "run_control": {
     "marked": true
    }
   },
   "source": [
    "Access the second row:"
   ]
  },
  {
   "cell_type": "code",
   "execution_count": 94,
   "metadata": {
    "ExecuteTime": {
     "end_time": "2017-10-03T13:50:54.293000Z",
     "start_time": "2017-10-03T15:50:54.277000+02:00"
    },
    "run_control": {
     "marked": true
    }
   },
   "outputs": [
    {
     "name": "stdout",
     "output_type": "stream",
     "text": [
      "[5 6 0 1]\n"
     ]
    }
   ],
   "source": [
    "r=B[1,:]\n",
    "print(r)"
   ]
  },
  {
   "cell_type": "markdown",
   "metadata": {
    "run_control": {
     "marked": true
    }
   },
   "source": [
    "Access the first column:"
   ]
  },
  {
   "cell_type": "code",
   "execution_count": 95,
   "metadata": {
    "ExecuteTime": {
     "end_time": "2017-10-03T13:50:58.541000Z",
     "start_time": "2017-10-03T15:50:58.541000+02:00"
    },
    "run_control": {
     "marked": true
    }
   },
   "outputs": [
    {
     "name": "stdout",
     "output_type": "stream",
     "text": [
      "[1 5 1]\n"
     ]
    }
   ],
   "source": [
    "c=B[:,0]\n",
    "print(c)"
   ]
  },
  {
   "cell_type": "markdown",
   "metadata": {
    "run_control": {
     "marked": true
    }
   },
   "source": [
    "Access elements 2 and 3 of the second column:"
   ]
  },
  {
   "cell_type": "code",
   "execution_count": 96,
   "metadata": {
    "ExecuteTime": {
     "end_time": "2017-10-03T13:51:01.467000Z",
     "start_time": "2017-10-03T15:51:01.467000+02:00"
    },
    "run_control": {
     "marked": true
    }
   },
   "outputs": [
    {
     "name": "stdout",
     "output_type": "stream",
     "text": [
      "[6 0]\n"
     ]
    }
   ],
   "source": [
    "p=B[1,1:3]\n",
    "print(p)"
   ]
  },
  {
   "cell_type": "markdown",
   "metadata": {
    "run_control": {
     "marked": true
    }
   },
   "source": [
    "Access the lower right (2x2) subarray of B:"
   ]
  },
  {
   "cell_type": "code",
   "execution_count": 97,
   "metadata": {
    "ExecuteTime": {
     "end_time": "2017-10-03T13:51:07.129000Z",
     "start_time": "2017-10-03T15:51:07.129000+02:00"
    },
    "run_control": {
     "marked": true
    }
   },
   "outputs": [
    {
     "name": "stdout",
     "output_type": "stream",
     "text": [
      "[[0 1]\n",
      " [0 1]]\n"
     ]
    }
   ],
   "source": [
    "l=B[1:,2:]\n",
    "print(l)"
   ]
  },
  {
   "cell_type": "markdown",
   "metadata": {},
   "source": [
    "Negative integers can be applied to access array elements in the reverse order. E.g. B[-1,:] is the last row of B. Thus the lower right (2x2) subarray of B can also be obtained by:"
   ]
  },
  {
   "cell_type": "code",
   "execution_count": 98,
   "metadata": {
    "ExecuteTime": {
     "end_time": "2017-10-03T13:51:26.568000Z",
     "start_time": "2017-10-03T15:51:26.568000+02:00"
    }
   },
   "outputs": [
    {
     "name": "stdout",
     "output_type": "stream",
     "text": [
      "[[0 1]\n",
      " [0 1]]\n"
     ]
    }
   ],
   "source": [
    "l2=B[-2:,-2:]\n",
    "print(l2)"
   ]
  },
  {
   "cell_type": "markdown",
   "metadata": {},
   "source": [
    "Reversing columns and rows in an array:"
   ]
  },
  {
   "cell_type": "code",
   "execution_count": 99,
   "metadata": {
    "ExecuteTime": {
     "end_time": "2017-10-03T13:51:35.100000Z",
     "start_time": "2017-10-03T15:51:35.084000+02:00"
    }
   },
   "outputs": [
    {
     "name": "stdout",
     "output_type": "stream",
     "text": [
      "B=\n",
      " [[1 2 3 4]\n",
      " [5 6 0 1]\n",
      " [1 2 0 1]]\n",
      "Reverse order of columns and rows:\n",
      "RB=\n",
      " [[1 0 2 1]\n",
      " [1 0 6 5]\n",
      " [4 3 2 1]]\n"
     ]
    }
   ],
   "source": [
    "RB=B[::-1,::-1]\n",
    "print(\"B=\\n\",B)\n",
    "print(\"Reverse order of columns and rows:\\nRB=\\n\",RB)"
   ]
  },
  {
   "cell_type": "code",
   "execution_count": 100,
   "metadata": {
    "ExecuteTime": {
     "end_time": "2017-10-03T13:51:38.230000Z",
     "start_time": "2017-10-03T15:51:38.230000+02:00"
    }
   },
   "outputs": [
    {
     "name": "stdout",
     "output_type": "stream",
     "text": [
      "[ 0 10 20 30 40 50 60 70 80 90]\n",
      "[10 90 30]\n"
     ]
    }
   ],
   "source": [
    "a=10*np.arange(10)\n",
    "idx=np.array([1,9,3])\n",
    "print(a)\n",
    "print(a[idx])"
   ]
  },
  {
   "cell_type": "markdown",
   "metadata": {},
   "source": [
    "### Type-Cast of Numpy Arrays\n",
    "Given a 2-dimensional list with entries of different types:"
   ]
  },
  {
   "cell_type": "code",
   "execution_count": 102,
   "metadata": {},
   "outputs": [],
   "source": [
    "mylist=[[1,2,3,\"tom\",\"hanks\",78.0],\n",
    "        [4,5,6,\"meryl\",\"streep\",78.0]]"
   ]
  },
  {
   "cell_type": "markdown",
   "metadata": {},
   "source": [
    "Convert this list into a numpy-array:"
   ]
  },
  {
   "cell_type": "code",
   "execution_count": 104,
   "metadata": {},
   "outputs": [
    {
     "data": {
      "text/plain": [
       "array([['1', '2', '3', 'tom', 'hanks', '78.0'],\n",
       "       ['4', '5', '6', 'meryl', 'streep', '78.0']], dtype='<U21')"
      ]
     },
     "execution_count": 104,
     "metadata": {},
     "output_type": "execute_result"
    }
   ],
   "source": [
    "myArray=np.array(mylist)\n",
    "myArray"
   ]
  },
  {
   "cell_type": "markdown",
   "metadata": {},
   "source": [
    "Since there are strings in the 2d-list, all entries of the array are represented as strings (array elements can not have different types!). \n",
    "\n",
    "Next, we like to extract only the numeric columns and convert them to a numeric datatype:"
   ]
  },
  {
   "cell_type": "code",
   "execution_count": 105,
   "metadata": {},
   "outputs": [
    {
     "data": {
      "text/plain": [
       "array([[ 1.,  2.,  3., 78.],\n",
       "       [ 4.,  5.,  6., 78.]], dtype=float16)"
      ]
     },
     "execution_count": 105,
     "metadata": {},
     "output_type": "execute_result"
    }
   ],
   "source": [
    "numericCols=[0,1,2,5]\n",
    "myNumericArray=myArray[:,numericCols].astype(np.float16)\n",
    "myNumericArray"
   ]
  },
  {
   "cell_type": "markdown",
   "metadata": {},
   "source": [
    "### Filter Numpy-Arrays by Value"
   ]
  },
  {
   "cell_type": "code",
   "execution_count": 106,
   "metadata": {},
   "outputs": [
    {
     "data": {
      "text/plain": [
       "array([[6, 9, 3, 5],\n",
       "       [0, 4, 6, 5],\n",
       "       [7, 6, 1, 4],\n",
       "       [2, 1, 4, 6],\n",
       "       [9, 1, 5, 8],\n",
       "       [6, 1, 2, 9],\n",
       "       [7, 7, 8, 0],\n",
       "       [3, 3, 9, 1]])"
      ]
     },
     "execution_count": 106,
     "metadata": {},
     "output_type": "execute_result"
    }
   ],
   "source": [
    "B=np.random.randint(0,10,(8,4))\n",
    "B"
   ]
  },
  {
   "cell_type": "markdown",
   "metadata": {},
   "source": [
    "Given the array `B`, we like to extract all rows, whose first element is $>5$:"
   ]
  },
  {
   "cell_type": "code",
   "execution_count": 107,
   "metadata": {},
   "outputs": [
    {
     "data": {
      "text/plain": [
       "array([[6, 9, 3, 5],\n",
       "       [7, 6, 1, 4],\n",
       "       [9, 1, 5, 8],\n",
       "       [6, 1, 2, 9],\n",
       "       [7, 7, 8, 0]])"
      ]
     },
     "execution_count": 107,
     "metadata": {},
     "output_type": "execute_result"
    }
   ],
   "source": [
    "filteredRows=B[B[:,0]>5,:]\n",
    "filteredRows"
   ]
  },
  {
   "cell_type": "markdown",
   "metadata": {},
   "source": [
    "### Copying and Editing Array Elements"
   ]
  },
  {
   "cell_type": "markdown",
   "metadata": {},
   "source": [
    "Copy B to CB:"
   ]
  },
  {
   "cell_type": "code",
   "execution_count": 25,
   "metadata": {
    "ExecuteTime": {
     "end_time": "2017-10-03T13:51:45.316000Z",
     "start_time": "2017-10-03T15:51:45.300000+02:00"
    }
   },
   "outputs": [
    {
     "name": "stdout",
     "output_type": "stream",
     "text": [
      "[[1 2 3 4]\n",
      " [5 6 0 1]\n",
      " [1 2 0 1]]\n"
     ]
    }
   ],
   "source": [
    "CB=B\n",
    "print(CB)"
   ]
  },
  {
   "cell_type": "markdown",
   "metadata": {},
   "source": [
    "Editing part of B:"
   ]
  },
  {
   "cell_type": "code",
   "execution_count": 26,
   "metadata": {
    "ExecuteTime": {
     "end_time": "2017-10-03T13:51:48.133000Z",
     "start_time": "2017-10-03T15:51:48.117000+02:00"
    }
   },
   "outputs": [
    {
     "name": "stdout",
     "output_type": "stream",
     "text": [
      "B=\n",
      " [[1 2 3 4]\n",
      " [5 6 0 0]\n",
      " [1 2 0 0]]\n",
      "CB=\n",
      " [[1 2 3 4]\n",
      " [5 6 0 0]\n",
      " [1 2 0 0]]\n"
     ]
    }
   ],
   "source": [
    "B[1:,2:]=np.zeros((2,2))\n",
    "print(\"B=\\n\",B)\n",
    "print(\"CB=\\n\",CB)"
   ]
  },
  {
   "cell_type": "markdown",
   "metadata": {},
   "source": [
    "As shown above copying by __=__ just copies the reference. A **true copy** can be implemented as follows:"
   ]
  },
  {
   "cell_type": "code",
   "execution_count": 27,
   "metadata": {
    "ExecuteTime": {
     "end_time": "2017-10-03T13:51:51.874000Z",
     "start_time": "2017-10-03T15:51:51.871000+02:00"
    }
   },
   "outputs": [
    {
     "name": "stdout",
     "output_type": "stream",
     "text": [
      "B=\n",
      " [[1 2 3 4]\n",
      " [5 6 1 1]\n",
      " [1 2 1 1]]\n",
      "CB=\n",
      " [[1 2 3 4]\n",
      " [5 6 0 0]\n",
      " [1 2 0 0]]\n"
     ]
    }
   ],
   "source": [
    "CB=B.copy()\n",
    "B[1:,2:]=np.ones((2,2))\n",
    "print(\"B=\\n\",B)\n",
    "print(\"CB=\\n\",CB)"
   ]
  },
  {
   "cell_type": "markdown",
   "metadata": {
    "run_control": {
     "marked": true
    }
   },
   "source": [
    "## Basic Operations"
   ]
  },
  {
   "cell_type": "markdown",
   "metadata": {
    "run_control": {
     "marked": true
    }
   },
   "source": [
    "### Add and multiply array elements with a scalar"
   ]
  },
  {
   "cell_type": "code",
   "execution_count": 28,
   "metadata": {
    "ExecuteTime": {
     "end_time": "2017-10-03T13:52:00.493000Z",
     "start_time": "2017-10-03T15:52:00.493000+02:00"
    },
    "run_control": {
     "marked": true
    }
   },
   "outputs": [
    {
     "name": "stdout",
     "output_type": "stream",
     "text": [
      "[[1 2 3 4]\n",
      " [5 6 1 1]\n",
      " [1 2 1 1]]\n"
     ]
    }
   ],
   "source": [
    "print(B)"
   ]
  },
  {
   "cell_type": "code",
   "execution_count": 29,
   "metadata": {
    "ExecuteTime": {
     "end_time": "2017-10-03T13:52:04.555000Z",
     "start_time": "2017-10-03T15:52:04.550000+02:00"
    }
   },
   "outputs": [
    {
     "name": "stdout",
     "output_type": "stream",
     "text": [
      "[[ 3  6  9 12]\n",
      " [15 18  3  3]\n",
      " [ 3  6  3  3]]\n"
     ]
    }
   ],
   "source": [
    "print(3*B)"
   ]
  },
  {
   "cell_type": "code",
   "execution_count": 30,
   "metadata": {
    "ExecuteTime": {
     "end_time": "2017-10-03T13:52:05.996000Z",
     "start_time": "2017-10-03T15:52:05.996000+02:00"
    }
   },
   "outputs": [
    {
     "name": "stdout",
     "output_type": "stream",
     "text": [
      "[[101 102 103 104]\n",
      " [105 106 101 101]\n",
      " [101 102 101 101]]\n"
     ]
    }
   ],
   "source": [
    "print(100+B)"
   ]
  },
  {
   "cell_type": "markdown",
   "metadata": {},
   "source": [
    "### Elementwise addition and multiplication of matrices of the same size"
   ]
  },
  {
   "cell_type": "code",
   "execution_count": 31,
   "metadata": {
    "ExecuteTime": {
     "end_time": "2017-10-03T13:52:09.143000Z",
     "start_time": "2017-10-03T15:52:09.127000+02:00"
    }
   },
   "outputs": [
    {
     "name": "stdout",
     "output_type": "stream",
     "text": [
      "B=\n",
      " [[1 2 3 4]\n",
      " [5 6 1 1]\n",
      " [1 2 1 1]]\n",
      "A=\n",
      " [[0 3 2 2]\n",
      " [3 5 5 1]\n",
      " [6 6 5 4]]\n"
     ]
    }
   ],
   "source": [
    "A=np.random.randint(0,7,B.shape)\n",
    "print(\"B=\\n\",B)\n",
    "print(\"A=\\n\",A)"
   ]
  },
  {
   "cell_type": "code",
   "execution_count": 32,
   "metadata": {
    "ExecuteTime": {
     "end_time": "2017-10-03T13:52:10.560000Z",
     "start_time": "2017-10-03T15:52:10.560000+02:00"
    }
   },
   "outputs": [
    {
     "name": "stdout",
     "output_type": "stream",
     "text": [
      "[[ 1  5  5  6]\n",
      " [ 8 11  6  2]\n",
      " [ 7  8  6  5]]\n"
     ]
    }
   ],
   "source": [
    "S=A+B\n",
    "print(S)"
   ]
  },
  {
   "cell_type": "code",
   "execution_count": 33,
   "metadata": {
    "ExecuteTime": {
     "end_time": "2017-10-03T13:52:12.429000Z",
     "start_time": "2017-10-03T15:52:12.413000+02:00"
    }
   },
   "outputs": [
    {
     "name": "stdout",
     "output_type": "stream",
     "text": [
      "[[ 0  6  6  8]\n",
      " [15 30  5  1]\n",
      " [ 6 12  5  4]]\n"
     ]
    }
   ],
   "source": [
    "P=A*B\n",
    "print(P)"
   ]
  },
  {
   "cell_type": "markdown",
   "metadata": {},
   "source": [
    "### Some other elementwise operations:"
   ]
  },
  {
   "cell_type": "code",
   "execution_count": 34,
   "metadata": {
    "ExecuteTime": {
     "end_time": "2017-10-03T13:52:16.530000Z",
     "start_time": "2017-10-03T15:52:16.530000+02:00"
    }
   },
   "outputs": [
    {
     "name": "stdout",
     "output_type": "stream",
     "text": [
      "All elements of B raised to a power of 2\n",
      " P2=\n",
      " [[ 1  4  9 16]\n",
      " [25 36  1  1]\n",
      " [ 1  4  1  1]]\n"
     ]
    }
   ],
   "source": [
    "P2=B**2\n",
    "print(\"All elements of B raised to a power of 2\\n P2=\\n\",P2)"
   ]
  },
  {
   "cell_type": "code",
   "execution_count": 35,
   "metadata": {
    "ExecuteTime": {
     "end_time": "2017-10-03T13:52:17.884000Z",
     "start_time": "2017-10-03T15:52:17.884000+02:00"
    }
   },
   "outputs": [
    {
     "name": "stdout",
     "output_type": "stream",
     "text": [
      "Elementwise squareroot\n",
      " SR=\n",
      " [[1.   1.41 1.73 2.  ]\n",
      " [2.24 2.45 1.   1.  ]\n",
      " [1.   1.41 1.   1.  ]]\n"
     ]
    }
   ],
   "source": [
    "SR=np.sqrt(B)\n",
    "print(\"Elementwise squareroot\\n SR=\\n\",SR)"
   ]
  },
  {
   "cell_type": "code",
   "execution_count": 36,
   "metadata": {
    "ExecuteTime": {
     "end_time": "2017-10-03T13:52:19.697000Z",
     "start_time": "2017-10-03T15:52:19.691000+02:00"
    }
   },
   "outputs": [
    {
     "name": "stdout",
     "output_type": "stream",
     "text": [
      "Elementwise sine\n",
      " SI=\n",
      " [[ 0.84  0.91  0.14 -0.76]\n",
      " [-0.96 -0.28  0.84  0.84]\n",
      " [ 0.84  0.91  0.84  0.84]]\n"
     ]
    }
   ],
   "source": [
    "SI=np.sin(B)\n",
    "print(\"Elementwise sine\\n SI=\\n\",SI)"
   ]
  },
  {
   "cell_type": "markdown",
   "metadata": {},
   "source": [
    "### Dot product"
   ]
  },
  {
   "cell_type": "code",
   "execution_count": 37,
   "metadata": {
    "ExecuteTime": {
     "end_time": "2017-10-03T13:52:22.402000Z",
     "start_time": "2017-10-03T15:52:22.402000+02:00"
    }
   },
   "outputs": [
    {
     "name": "stdout",
     "output_type": "stream",
     "text": [
      "[0 1 2]\n",
      "[2 4 1]\n"
     ]
    }
   ],
   "source": [
    "a=np.arange(3)\n",
    "b=np.array([2,4,1])\n",
    "print(a)\n",
    "print(b)"
   ]
  },
  {
   "cell_type": "code",
   "execution_count": 38,
   "metadata": {
    "ExecuteTime": {
     "end_time": "2017-10-03T13:52:23.617000Z",
     "start_time": "2017-10-03T15:52:23.617000+02:00"
    }
   },
   "outputs": [
    {
     "name": "stdout",
     "output_type": "stream",
     "text": [
      "6\n"
     ]
    }
   ],
   "source": [
    "c=np.dot(a,b)\n",
    "print(c)"
   ]
  },
  {
   "cell_type": "markdown",
   "metadata": {},
   "source": [
    "### Matrix multiplication"
   ]
  },
  {
   "cell_type": "code",
   "execution_count": 39,
   "metadata": {
    "ExecuteTime": {
     "end_time": "2017-10-03T13:52:30.103000Z",
     "start_time": "2017-10-03T15:52:30.103000+02:00"
    }
   },
   "outputs": [
    {
     "name": "stdout",
     "output_type": "stream",
     "text": [
      "B=\n",
      " [[1 2 3 4]\n",
      " [5 6 1 1]\n",
      " [1 2 1 1]]\n",
      "A=\n",
      " [[0 3 2 2]\n",
      " [3 5 5 1]\n",
      " [6 6 5 4]]\n"
     ]
    }
   ],
   "source": [
    "print(\"B=\\n\",B)\n",
    "print(\"A=\\n\",A)"
   ]
  },
  {
   "cell_type": "markdown",
   "metadata": {},
   "source": [
    "The following code-line raises an error, because the number of columns in $A$ is unequal to the number of rows in $B$."
   ]
  },
  {
   "cell_type": "code",
   "execution_count": 40,
   "metadata": {
    "ExecuteTime": {
     "end_time": "2017-10-03T13:52:32.766000Z",
     "start_time": "2017-10-03T15:52:32.688000+02:00"
    }
   },
   "outputs": [
    {
     "ename": "ValueError",
     "evalue": "shapes (3,4) and (3,4) not aligned: 4 (dim 1) != 3 (dim 0)",
     "output_type": "error",
     "traceback": [
      "\u001b[0;31m---------------------------------------------------------------------------\u001b[0m",
      "\u001b[0;31mValueError\u001b[0m                                Traceback (most recent call last)",
      "\u001b[0;32m<ipython-input-40-858b482ac232>\u001b[0m in \u001b[0;36m<module>\u001b[0;34m()\u001b[0m\n\u001b[0;32m----> 1\u001b[0;31m \u001b[0mC\u001b[0m\u001b[0;34m=\u001b[0m\u001b[0mnp\u001b[0m\u001b[0;34m.\u001b[0m\u001b[0mdot\u001b[0m\u001b[0;34m(\u001b[0m\u001b[0mA\u001b[0m\u001b[0;34m,\u001b[0m\u001b[0mB\u001b[0m\u001b[0;34m)\u001b[0m\u001b[0;34m\u001b[0m\u001b[0;34m\u001b[0m\u001b[0m\n\u001b[0m\u001b[1;32m      2\u001b[0m \u001b[0mprint\u001b[0m\u001b[0;34m(\u001b[0m\u001b[0;34m\"C=\\n\"\u001b[0m\u001b[0;34m,\u001b[0m\u001b[0mC\u001b[0m\u001b[0;34m)\u001b[0m\u001b[0;34m\u001b[0m\u001b[0;34m\u001b[0m\u001b[0m\n",
      "\u001b[0;31mValueError\u001b[0m: shapes (3,4) and (3,4) not aligned: 4 (dim 1) != 3 (dim 0)"
     ]
    }
   ],
   "source": [
    "C=np.dot(A,B)\n",
    "print(\"C=\\n\",C)"
   ]
  },
  {
   "cell_type": "code",
   "execution_count": null,
   "metadata": {
    "ExecuteTime": {
     "end_time": "2017-10-03T13:52:34.494000Z",
     "start_time": "2017-10-03T15:52:34.487000+02:00"
    }
   },
   "outputs": [],
   "source": [
    "BT=np.transpose(B)\n",
    "print(\"BT=\\n\",BT)\n",
    "C=np.dot(A,BT)\n",
    "print(\"C=\\n\",C)"
   ]
  },
  {
   "cell_type": "markdown",
   "metadata": {},
   "source": [
    "The same operation can also be implemented as follows:"
   ]
  },
  {
   "cell_type": "code",
   "execution_count": null,
   "metadata": {
    "ExecuteTime": {
     "end_time": "2017-10-03T13:52:35.906000Z",
     "start_time": "2017-10-03T15:52:35.906000+02:00"
    }
   },
   "outputs": [],
   "source": [
    "BT2=A.dot(BT)\n",
    "print(\"BT2=\\n\",BT2)"
   ]
  },
  {
   "cell_type": "markdown",
   "metadata": {},
   "source": [
    "### Simple statistic operations on arrays"
   ]
  },
  {
   "cell_type": "code",
   "execution_count": null,
   "metadata": {
    "ExecuteTime": {
     "end_time": "2017-10-03T13:52:40.793000Z",
     "start_time": "2017-10-03T15:52:40.793000+02:00"
    }
   },
   "outputs": [],
   "source": [
    "print(\"A=\\n\",A)"
   ]
  },
  {
   "cell_type": "code",
   "execution_count": null,
   "metadata": {
    "ExecuteTime": {
     "end_time": "2017-10-03T13:52:41.657000Z",
     "start_time": "2017-10-03T15:52:41.642000+02:00"
    }
   },
   "outputs": [],
   "source": [
    "print(\"Minimum = %3d\\nMaximum = %3d\\nMean = %3.2f\"%(A.min(),A.max(),A.mean()))"
   ]
  },
  {
   "cell_type": "code",
   "execution_count": null,
   "metadata": {
    "ExecuteTime": {
     "end_time": "2017-10-03T13:52:42.743000Z",
     "start_time": "2017-10-03T15:52:42.727000+02:00"
    }
   },
   "outputs": [],
   "source": [
    "print(\"Minimum = %s\\nMaximum = %s\\nMean = %s\"%(A.min(axis=0),A.max(axis=0),A.mean(axis=0)))"
   ]
  },
  {
   "cell_type": "code",
   "execution_count": null,
   "metadata": {
    "ExecuteTime": {
     "end_time": "2017-10-03T13:52:43.708000Z",
     "start_time": "2017-10-03T15:52:43.701000+02:00"
    }
   },
   "outputs": [],
   "source": [
    "print(\"Minimum = %s\\nMaximum = %s\\nMean = %s\"%(A.min(axis=1),A.max(axis=1),A.mean(axis=1)))"
   ]
  },
  {
   "cell_type": "markdown",
   "metadata": {},
   "source": [
    "## Stacking and splitting arrays "
   ]
  },
  {
   "cell_type": "code",
   "execution_count": null,
   "metadata": {
    "ExecuteTime": {
     "end_time": "2017-10-03T13:52:47.212000Z",
     "start_time": "2017-10-03T15:52:47.196000+02:00"
    }
   },
   "outputs": [],
   "source": [
    "print(\"A=\\n\",A)\n",
    "print(\"B=\\n\",B)"
   ]
  },
  {
   "cell_type": "code",
   "execution_count": null,
   "metadata": {
    "ExecuteTime": {
     "end_time": "2017-10-03T13:52:48.111000Z",
     "start_time": "2017-10-03T15:52:48.111000+02:00"
    }
   },
   "outputs": [],
   "source": [
    "V=np.vstack((A,B))\n",
    "print(\"V=\\n\",V)"
   ]
  },
  {
   "cell_type": "code",
   "execution_count": null,
   "metadata": {
    "ExecuteTime": {
     "end_time": "2017-10-03T13:52:49.053000Z",
     "start_time": "2017-10-03T15:52:49.048000+02:00"
    }
   },
   "outputs": [],
   "source": [
    "H=np.hstack((A,B))\n",
    "print(\"H=\\n\",H)"
   ]
  },
  {
   "cell_type": "code",
   "execution_count": null,
   "metadata": {
    "ExecuteTime": {
     "end_time": "2017-10-03T13:52:50.186000Z",
     "start_time": "2017-10-03T15:52:50.179000+02:00"
    }
   },
   "outputs": [],
   "source": [
    "Hs=np.hsplit(H,(3,5))\n",
    "print(\"1st part=\\n\",Hs[0])\n",
    "print(\"2nd part=\\n\",Hs[1])\n",
    "print(\"3rd part=\\n\",Hs[2])"
   ]
  },
  {
   "cell_type": "code",
   "execution_count": null,
   "metadata": {
    "ExecuteTime": {
     "end_time": "2017-10-03T13:52:51.097000Z",
     "start_time": "2017-10-03T15:52:51.094000+02:00"
    }
   },
   "outputs": [],
   "source": [
    "Vs=np.vsplit(V,(2,))\n",
    "print(\"1st part=\\n\",Vs[0])\n",
    "print(\"2nd part=\\n\",Vs[1])"
   ]
  },
  {
   "cell_type": "markdown",
   "metadata": {},
   "source": [
    "## Ordering array elements"
   ]
  },
  {
   "cell_type": "code",
   "execution_count": null,
   "metadata": {
    "ExecuteTime": {
     "end_time": "2017-10-03T13:52:54.424000Z",
     "start_time": "2017-10-03T15:52:54.424000+02:00"
    }
   },
   "outputs": [],
   "source": [
    "b=np.random.randint(0,100,15)\n",
    "print(b)"
   ]
  },
  {
   "cell_type": "code",
   "execution_count": null,
   "metadata": {
    "ExecuteTime": {
     "end_time": "2017-10-03T13:52:55.301000Z",
     "start_time": "2017-10-03T15:52:55.301000+02:00"
    }
   },
   "outputs": [],
   "source": [
    "bs=np.sort(b)\n",
    "print(bs)"
   ]
  },
  {
   "cell_type": "code",
   "execution_count": null,
   "metadata": {
    "ExecuteTime": {
     "end_time": "2017-10-03T13:52:57.104000Z",
     "start_time": "2017-10-03T15:52:57.102000+02:00"
    }
   },
   "outputs": [],
   "source": [
    "sortIdx=np.argsort(b)\n",
    "print(sortIdx)"
   ]
  },
  {
   "cell_type": "code",
   "execution_count": null,
   "metadata": {
    "ExecuteTime": {
     "end_time": "2017-10-03T13:52:58.168000Z",
     "start_time": "2017-10-03T15:52:58.168000+02:00"
    }
   },
   "outputs": [],
   "source": [
    "bss=b[sortIdx]\n",
    "print(bss)"
   ]
  },
  {
   "cell_type": "markdown",
   "metadata": {},
   "source": [
    "## Array Query"
   ]
  },
  {
   "cell_type": "code",
   "execution_count": null,
   "metadata": {
    "ExecuteTime": {
     "end_time": "2017-10-03T13:53:00.383000Z",
     "start_time": "2017-10-03T15:53:00.383000+02:00"
    }
   },
   "outputs": [],
   "source": [
    "print(A)"
   ]
  },
  {
   "cell_type": "code",
   "execution_count": null,
   "metadata": {
    "ExecuteTime": {
     "end_time": "2017-10-03T13:53:01.553000Z",
     "start_time": "2017-10-03T15:53:01.553000+02:00"
    }
   },
   "outputs": [],
   "source": [
    "print(A.nonzero())"
   ]
  },
  {
   "cell_type": "code",
   "execution_count": null,
   "metadata": {
    "ExecuteTime": {
     "end_time": "2017-10-03T13:53:04.575000Z",
     "start_time": "2017-10-03T15:53:04.570000+02:00"
    }
   },
   "outputs": [],
   "source": [
    "print(np.where((A>2) & (A<5)))"
   ]
  },
  {
   "cell_type": "code",
   "execution_count": null,
   "metadata": {
    "ExecuteTime": {
     "end_time": "2017-10-03T13:53:07.203000Z",
     "start_time": "2017-10-03T15:53:07.184000+02:00"
    }
   },
   "outputs": [],
   "source": [
    "print(np.where((A>2) & (A<5),np.ones(A.shape),np.zeros(A.shape)))"
   ]
  },
  {
   "cell_type": "code",
   "execution_count": null,
   "metadata": {
    "ExecuteTime": {
     "end_time": "2017-10-03T13:53:09.070000Z",
     "start_time": "2017-10-03T15:53:09.070000+02:00"
    }
   },
   "outputs": [],
   "source": [
    "print(A)"
   ]
  },
  {
   "cell_type": "code",
   "execution_count": null,
   "metadata": {
    "ExecuteTime": {
     "end_time": "2017-10-03T13:53:10.339000Z",
     "start_time": "2017-10-03T15:53:10.339000+02:00"
    }
   },
   "outputs": [],
   "source": [
    "print(B)"
   ]
  },
  {
   "cell_type": "code",
   "execution_count": null,
   "metadata": {
    "ExecuteTime": {
     "end_time": "2017-10-03T13:53:11.507000Z",
     "start_time": "2017-10-03T15:53:11.507000+02:00"
    }
   },
   "outputs": [],
   "source": [
    "print(A>B)"
   ]
  },
  {
   "cell_type": "code",
   "execution_count": null,
   "metadata": {
    "ExecuteTime": {
     "end_time": "2017-10-03T13:53:12.807000Z",
     "start_time": "2017-10-03T15:53:12.805000+02:00"
    }
   },
   "outputs": [],
   "source": [
    "print(np.any(A>B,axis=0))"
   ]
  },
  {
   "cell_type": "code",
   "execution_count": null,
   "metadata": {
    "ExecuteTime": {
     "end_time": "2017-10-03T13:53:14.270000Z",
     "start_time": "2017-10-03T15:53:14.270000+02:00"
    }
   },
   "outputs": [],
   "source": [
    "print(np.any(A>B,axis=1))"
   ]
  },
  {
   "cell_type": "code",
   "execution_count": null,
   "metadata": {
    "ExecuteTime": {
     "end_time": "2017-10-03T13:53:15.170000Z",
     "start_time": "2017-10-03T15:53:15.170000+02:00"
    }
   },
   "outputs": [],
   "source": [
    "print(np.all(A>B,axis=0))"
   ]
  },
  {
   "cell_type": "code",
   "execution_count": null,
   "metadata": {
    "ExecuteTime": {
     "end_time": "2017-10-03T13:53:16.240000Z",
     "start_time": "2017-10-03T15:53:16.240000+02:00"
    }
   },
   "outputs": [],
   "source": [
    "print(np.all(A>B,axis=1))"
   ]
  },
  {
   "cell_type": "markdown",
   "metadata": {},
   "source": [
    "## Import and Export Data from/to Files "
   ]
  },
  {
   "cell_type": "code",
   "execution_count": null,
   "metadata": {
    "ExecuteTime": {
     "end_time": "2017-10-03T13:53:20.142000Z",
     "start_time": "2017-10-03T15:53:20.142000+02:00"
    }
   },
   "outputs": [],
   "source": [
    "print(A)"
   ]
  },
  {
   "cell_type": "markdown",
   "metadata": {},
   "source": [
    "Save array A to a binary file in NumPy .npy format. In the example below the file is saved in the working directory. However, an arbitrary path can be specified in the string-parameter of _save()_."
   ]
  },
  {
   "cell_type": "code",
   "execution_count": null,
   "metadata": {
    "ExecuteTime": {
     "end_time": "2017-10-03T13:53:32.996000Z",
     "start_time": "2017-10-03T15:53:32.980000+02:00"
    }
   },
   "outputs": [],
   "source": [
    "np.save(\"binFileA\",A)"
   ]
  },
  {
   "cell_type": "markdown",
   "metadata": {},
   "source": [
    "Load array, which has been saved to a binary file into NumPy:"
   ]
  },
  {
   "cell_type": "code",
   "execution_count": null,
   "metadata": {
    "ExecuteTime": {
     "end_time": "2017-10-03T13:53:39.118000Z",
     "start_time": "2017-10-03T15:53:39.118000+02:00"
    }
   },
   "outputs": [],
   "source": [
    "AL=np.load(\"binFileA.npy\")\n",
    "print(AL)"
   ]
  },
  {
   "cell_type": "markdown",
   "metadata": {},
   "source": [
    "Save array to a text-file. Note that _savetxt()_ also has parameters for separating columns (_delimiter=''_) and lines (_newline='\\n'_). Thus this method and the corresponding _loadtxt()_-method can also be applied for writing to and reading from .csv."
   ]
  },
  {
   "cell_type": "markdown",
   "metadata": {},
   "source": [
    "Load data from a textfile into a NumPy array:"
   ]
  },
  {
   "cell_type": "code",
   "execution_count": null,
   "metadata": {
    "ExecuteTime": {
     "end_time": "2017-10-03T13:53:47.802000Z",
     "start_time": "2017-10-03T15:53:47.802000+02:00"
    }
   },
   "outputs": [],
   "source": [
    "np.savetxt(\"textFileA\",A,fmt=\"%4.2f\")"
   ]
  },
  {
   "cell_type": "code",
   "execution_count": null,
   "metadata": {
    "ExecuteTime": {
     "end_time": "2017-10-03T13:53:50.170000Z",
     "start_time": "2017-10-03T15:53:50.170000+02:00"
    },
    "hide_input": true
   },
   "outputs": [],
   "source": [
    "AT=np.loadtxt(\"textFileA\")\n",
    "print(AT)"
   ]
  },
  {
   "cell_type": "code",
   "execution_count": null,
   "metadata": {},
   "outputs": [],
   "source": []
  }
 ],
 "metadata": {
  "anaconda-cloud": {},
  "kernelspec": {
   "display_name": "Python 3",
   "language": "python",
   "name": "python3"
  },
  "language_info": {
   "codemirror_mode": {
    "name": "ipython",
    "version": 3
   },
   "file_extension": ".py",
   "mimetype": "text/x-python",
   "name": "python",
   "nbconvert_exporter": "python",
   "pygments_lexer": "ipython3",
   "version": "3.7.5"
  },
  "nav_menu": {},
  "toc": {
   "base_numbering": 1,
   "nav_menu": {},
   "number_sections": true,
   "sideBar": true,
   "skip_h1_title": false,
   "title_cell": "Table of Contents",
   "title_sidebar": "Contents",
   "toc_cell": false,
   "toc_position": {},
   "toc_section_display": "block",
   "toc_window_display": true
  },
  "toc_position": {
   "height": "533px",
   "left": "0px",
   "right": "1196px",
   "top": "106px",
   "width": "212px"
  }
 },
 "nbformat": 4,
 "nbformat_minor": 2
}

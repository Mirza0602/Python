{
 "cells": [
  {
   "cell_type": "markdown",
   "metadata": {
    "toc": "true"
   },
   "source": [
    "# Table of Contents\n",
    " <p><div class=\"lev1 toc-item\"><a href=\"#Dictionaries-in-Python\" data-toc-modified-id=\"Dictionaries-in-Python-1\"><span class=\"toc-item-num\">1&nbsp;&nbsp;</span>Dictionaries in Python</a></div><div class=\"lev2 toc-item\"><a href=\"#Defining-Dictionaries\" data-toc-modified-id=\"Defining-Dictionaries-1.1\"><span class=\"toc-item-num\">1.1&nbsp;&nbsp;</span>Defining Dictionaries</a></div><div class=\"lev2 toc-item\"><a href=\"#Accessing-keys-and-values\" data-toc-modified-id=\"Accessing-keys-and-values-1.2\"><span class=\"toc-item-num\">1.2&nbsp;&nbsp;</span>Accessing keys and values</a></div><div class=\"lev2 toc-item\"><a href=\"#Modifying-Dictionaries\" data-toc-modified-id=\"Modifying-Dictionaries-1.3\"><span class=\"toc-item-num\">1.3&nbsp;&nbsp;</span>Modifying Dictionaries</a></div>"
   ]
  },
  {
   "cell_type": "markdown",
   "metadata": {},
   "source": [
    "[Back to Lecture Overview](Overview.ipynb)"
   ]
  },
  {
   "cell_type": "markdown",
   "metadata": {},
   "source": [
    "# Dictionaries in Python\n",
    "* Author: Johannes Maucher\n",
    "* Last Update: 03.07.2017\n",
    "\n",
    "Assume that a set of persons shall be described by their name, age, gender and hometown. One option to model this information in Python is to write allocate for each person a list, which contains the mentioned parameters as components. Sets of persons could then be modelled as lists of lists.  "
   ]
  },
  {
   "cell_type": "code",
   "execution_count": 4,
   "metadata": {
    "ExecuteTime": {
     "end_time": "2017-07-03T08:36:47.233000Z",
     "start_time": "2017-07-03T08:36:47.225000Z"
    }
   },
   "outputs": [
    {
     "name": "stdout",
     "output_type": "stream",
     "text": [
      "['Bob', 27, 'Male', 'Ulm']\n",
      "['Mary', 23, 'Female', 'Berlin']\n",
      "[['Bob', 27, 'Male', 'Ulm'], ['Mary', 23, 'Female', 'Berlin']]\n"
     ]
    }
   ],
   "source": [
    "p1=['Bob',27,'Male','Ulm']\n",
    "print p1\n",
    "p2=['Mary',23,'Female','Berlin']\n",
    "print p2\n",
    "persons=[p1,p2]\n",
    "print persons"
   ]
  },
  {
   "cell_type": "markdown",
   "metadata": {},
   "source": [
    "If a certain parameter, e.g. hometown, shall be queried, it must be known at which index of the person-vector this parameter stored. This is a drawback, in particular, if there are much more parameters/components in the lists. It would be nice if parameter-values can be queried by the name of the parameter (not an interger, which indicates the position). This feature is provided by the Python datatype `dictionary`. A dictionary is a mapping from keys to corresponding values, in the same way as a list is a mapping form an integer-index to a corresponding value. Keys in dictionaries are usually meaningful names.   "
   ]
  },
  {
   "cell_type": "markdown",
   "metadata": {},
   "source": [
    "## Defining Dictionaries\n",
    "The same information as modelled with lists in the example above is now modelled by dictionaries. An empty dictionary is defined by curly brackets\n",
    "\n",
    "```\n",
    "myDict={}\n",
    "``` \n",
    "or by\n",
    "\n",
    "```\n",
    "myDict=dict()\n",
    "```\n",
    "\n",
    "Non-empty dictionaries contain within the curly brackets an arbitrary number of *key-value-pairs*. These pairs are separated by commas. Keys and values are separated by a colon: \n",
    "\n",
    "```\n",
    "myDict={key1:value1,key2:value2,key3:value3}\n",
    "``` \n",
    "If `dict()` is applied, then keys and values are separated by `=` as shown in the following example:"
   ]
  },
  {
   "cell_type": "code",
   "execution_count": 10,
   "metadata": {
    "ExecuteTime": {
     "end_time": "2017-07-03T10:31:27.589000Z",
     "start_time": "2017-07-03T10:31:27.573000Z"
    }
   },
   "outputs": [
    {
     "name": "stdout",
     "output_type": "stream",
     "text": [
      "{'gender': 'Male', 'age': 27, 'name': 'Bob', 'hometown': 'Ulm'}\n",
      "{'hometown': 'Berlin', 'age': 23, 'name': 'Mary', 'gender': 'Female'}\n",
      "[{'gender': 'Male', 'age': 27, 'name': 'Bob', 'hometown': 'Ulm'}, {'hometown': 'Berlin', 'age': 23, 'name': 'Mary', 'gender': 'Female'}]\n"
     ]
    }
   ],
   "source": [
    "pd1={'name':'Bob','age':27,'gender':'Male','hometown':'Ulm'}\n",
    "print pd1\n",
    "#pd2={'name':'Mary','age':23,'gender':'Female','hometown':'Berlin'}\n",
    "pd2=dict(name='Mary',age=23,gender='Female',hometown='Berlin')\n",
    "print pd2\n",
    "personsD=[pd1,pd2]\n",
    "print personsD"
   ]
  },
  {
   "cell_type": "markdown",
   "metadata": {},
   "source": [
    "Keys are usually integers, characters or strings. Values can be of arbitrary type, e.g. strings, lists, dictionaries, etc. In the following example a nested dictionary is defined, whose values are again dictionaries. In this example another option for defining dictionaries is shown: First an empty dictionary is created. Then keys are implicitely defined by writing their names in square-brackets and assigning values:"
   ]
  },
  {
   "cell_type": "code",
   "execution_count": 6,
   "metadata": {
    "ExecuteTime": {
     "end_time": "2017-07-03T10:17:30.618000Z",
     "start_time": "2017-07-03T10:17:30.602000Z"
    }
   },
   "outputs": [
    {
     "name": "stdout",
     "output_type": "stream",
     "text": [
      "{'ceo': {'gender': 'Male', 'age': 27, 'name': 'Bob', 'hometown': 'Ulm'}, 'cfo': {'gender': 'Female', 'age': 23, 'name': 'Mary', 'hometown': 'Berlin'}}\n"
     ]
    }
   ],
   "source": [
    "company={}\n",
    "company['ceo']=pd1 #create key and assign value\n",
    "company['cfo']=pd2 #create key and assign value\n",
    "print company"
   ]
  },
  {
   "cell_type": "markdown",
   "metadata": {},
   "source": [
    "A frequent use-case in the context of dictionaries is to query at a certain key, if this key already exists. Otherwise a default-value should be assigned to the key. In Python this routine is implemented in the dictionary's `setdefault(k,x)`-method. If the key `k` already exists the method returns the corresponding value, otherwise a new-key value pair `k:x` is created:"
   ]
  },
  {
   "cell_type": "code",
   "execution_count": 22,
   "metadata": {
    "ExecuteTime": {
     "end_time": "2017-07-03T11:45:11.128000Z",
     "start_time": "2017-07-03T11:45:11.128000Z"
    }
   },
   "outputs": [
    {
     "name": "stdout",
     "output_type": "stream",
     "text": [
      "{'ceo': {'gender': 'Male', 'age': 27, 'name': 'Bob', 'hometown': 'Ulm'}, 'cfo': {'gender': 'Female', 'age': 23, 'name': 'Mary', 'hometown': 'Berlin'}, 'cto': 'NN'}\n"
     ]
    }
   ],
   "source": [
    "company.setdefault('cto','NN')\n",
    "print company"
   ]
  },
  {
   "cell_type": "markdown",
   "metadata": {},
   "source": [
    "## Accessing keys and values\n",
    "The number of key-value-pair in a dictionary can be obtained by the `len(dictname)`-method. E.g."
   ]
  },
  {
   "cell_type": "code",
   "execution_count": 12,
   "metadata": {
    "ExecuteTime": {
     "end_time": "2017-07-03T10:38:03.817000Z",
     "start_time": "2017-07-03T10:38:03.817000Z"
    }
   },
   "outputs": [
    {
     "name": "stdout",
     "output_type": "stream",
     "text": [
      "2\n",
      "4\n"
     ]
    }
   ],
   "source": [
    "print len(company)\n",
    "print len(company['ceo'])"
   ]
  },
  {
   "cell_type": "markdown",
   "metadata": {},
   "source": [
    "A list of all keys and a list of all values of a dictionary can be queried by the `dict.keys()` and `dict.values`functions, respectively:"
   ]
  },
  {
   "cell_type": "code",
   "execution_count": 14,
   "metadata": {
    "ExecuteTime": {
     "end_time": "2017-07-03T11:22:27.708000Z",
     "start_time": "2017-07-03T11:22:27.692000Z"
    }
   },
   "outputs": [
    {
     "name": "stdout",
     "output_type": "stream",
     "text": [
      "Keys:\n",
      "['ceo', 'cfo']\n",
      "Values:\n",
      "[{'gender': 'Male', 'age': 27, 'name': 'Bob', 'hometown': 'Ulm'}, {'gender': 'Female', 'age': 23, 'name': 'Mary', 'hometown': 'Berlin'}]\n"
     ]
    }
   ],
   "source": [
    "print \"Keys:\\n\",company.keys()\n",
    "print \"Values:\\n\",company.values()"
   ]
  },
  {
   "cell_type": "markdown",
   "metadata": {},
   "source": [
    "A list of all key-value-pairs is returned by the `dict.items()' function:"
   ]
  },
  {
   "cell_type": "code",
   "execution_count": 18,
   "metadata": {
    "ExecuteTime": {
     "end_time": "2017-07-03T11:27:54.974000Z",
     "start_time": "2017-07-03T11:27:54.974000Z"
    }
   },
   "outputs": [
    {
     "name": "stdout",
     "output_type": "stream",
     "text": [
      "[('ceo', {'gender': 'Male', 'age': 27, 'name': 'Bob', 'hometown': 'Ulm'}), ('cfo', {'gender': 'Female', 'age': 23, 'name': 'Mary', 'hometown': 'Berlin'})]\n"
     ]
    }
   ],
   "source": [
    "print company.items()"
   ]
  },
  {
   "cell_type": "markdown",
   "metadata": {},
   "source": [
    "A value for a given key can be obtained by writing the key-name in square brackets:"
   ]
  },
  {
   "cell_type": "code",
   "execution_count": 15,
   "metadata": {
    "ExecuteTime": {
     "end_time": "2017-07-03T11:23:08.672000Z",
     "start_time": "2017-07-03T11:23:08.657000Z"
    }
   },
   "outputs": [
    {
     "data": {
      "text/plain": [
       "{'age': 27, 'gender': 'Male', 'hometown': 'Ulm', 'name': 'Bob'}"
      ]
     },
     "execution_count": 15,
     "metadata": {},
     "output_type": "execute_result"
    }
   ],
   "source": [
    "company['ceo']"
   ]
  },
  {
   "cell_type": "markdown",
   "metadata": {},
   "source": [
    "## Modifying Dictionaries\n",
    "As already mentioned above the assignment\n",
    "```\n",
    "myDict[key1]=value1\n",
    "```\n",
    "creates a new key and assigns the corresponding value. However, if the key already exists, just a new value is assigned to this key.  "
   ]
  },
  {
   "cell_type": "markdown",
   "metadata": {},
   "source": [
    "The method \n",
    "```\n",
    "dict.copy()\n",
    "```\n",
    "creates a shallow copy of the dictionary. \n",
    "\n",
    "All items (=key-value-pairs) are removed from the dictionary by \n",
    "```\n",
    "dict.clear()\n",
    "```\n",
    "and a single key-value pair can be removed by `del d[k]`, where `k` is the key of the pair, which shall be removed."
   ]
  },
  {
   "cell_type": "code",
   "execution_count": 23,
   "metadata": {
    "ExecuteTime": {
     "end_time": "2017-07-03T11:57:04.360000Z",
     "start_time": "2017-07-03T11:57:04.353000Z"
    }
   },
   "outputs": [
    {
     "name": "stdout",
     "output_type": "stream",
     "text": [
      "3\n",
      "2\n"
     ]
    }
   ],
   "source": [
    "print len(company)\n",
    "del company['cto']\n",
    "print len(company)"
   ]
  },
  {
   "cell_type": "markdown",
   "metadata": {},
   "source": [
    "A comprehensive list of all methods applicable for dictionaries is available at the [official Python documentation](https://docs.python.org/2.7/library/stdtypes.html#mapping-types-dict). "
   ]
  }
 ],
 "metadata": {
  "kernelspec": {
   "display_name": "Python [conda env:condatascience]",
   "language": "python",
   "name": "conda-env-condatascience-py"
  },
  "language_info": {
   "codemirror_mode": {
    "name": "ipython",
    "version": 2
   },
   "file_extension": ".py",
   "mimetype": "text/x-python",
   "name": "python",
   "nbconvert_exporter": "python",
   "pygments_lexer": "ipython2",
   "version": "2.7.13"
  },
  "nav_menu": {},
  "toc": {
   "navigate_menu": true,
   "number_sections": true,
   "sideBar": true,
   "threshold": 6,
   "toc_cell": true,
   "toc_section_display": "block",
   "toc_window_display": true
  }
 },
 "nbformat": 4,
 "nbformat_minor": 2
}

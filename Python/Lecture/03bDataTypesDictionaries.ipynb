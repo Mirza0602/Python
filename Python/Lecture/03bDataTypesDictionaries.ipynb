{
 "cells": [
  {
   "cell_type": "markdown",
   "metadata": {},
   "source": [
    "[Back to Lecture Overview](Overview.ipynb)"
   ]
  },
  {
   "cell_type": "markdown",
   "metadata": {},
   "source": [
    "# Dictionaries in Python\n",
    "* Author: Johannes Maucher\n",
    "* Last Update: 03.07.2019"
   ]
  },
  {
   "cell_type": "markdown",
   "metadata": {},
   "source": [
    "<figure align=\"center\">\n",
    "<img width=\"800\" src=\"https://maucher.home.hdm-stuttgart.de/Pics/DS_Python_Datatypes_All.png\">\n",
    "</figure>"
   ]
  },
  {
   "cell_type": "markdown",
   "metadata": {},
   "source": [
    "Assume that a set of persons shall be described by their name, age, gender and hometown. One option to model this information in Python is to allocate for each person a list, which contains the mentioned parameters as components. Sets of persons could then be modelled as lists of lists.  "
   ]
  },
  {
   "cell_type": "code",
   "execution_count": 4,
   "metadata": {
    "ExecuteTime": {
     "end_time": "2017-07-03T08:36:47.233000Z",
     "start_time": "2017-07-03T08:36:47.225000Z"
    }
   },
   "outputs": [
    {
     "name": "stdout",
     "output_type": "stream",
     "text": [
      "['Bob', 27, 'Male', 'Ulm']\n",
      "['Mary', 23, 'Female', 'Berlin']\n",
      "[['Bob', 27, 'Male', 'Ulm'], ['Mary', 23, 'Female', 'Berlin']]\n"
     ]
    }
   ],
   "source": [
    "p1=['Bob',27,'Male','Ulm']\n",
    "print(p1)\n",
    "p2=['Mary',23,'Female','Berlin']\n",
    "print(p2)\n",
    "persons=[p1,p2]\n",
    "print(persons)"
   ]
  },
  {
   "cell_type": "markdown",
   "metadata": {},
   "source": [
    "If a certain parameter, e.g. hometown, shall be queried, it must be known at which index of the person-vector this parameter is stored. This is a drawback, in particular, if there are much more parameters/components in the lists. It would be nice if parameter-values can be queried by the name of the parameter (not an integer, which indicates the position). This feature is provided by the Python datatype `dictionary`. A dictionary is a mapping from keys to corresponding values, in the same way as a list is a mapping from an integer-index to a corresponding value. Keys in dictionaries are usually meaningful names.   "
   ]
  },
  {
   "cell_type": "markdown",
   "metadata": {},
   "source": [
    "## Defining Dictionaries\n",
    "The same information as modelled with lists in the example above is now modelled with dictionaries. An empty dictionary is defined by curly brackets\n",
    "\n",
    "```\n",
    "myDict={}\n",
    "``` \n",
    "or by\n",
    "\n",
    "```\n",
    "myDict=dict()\n",
    "```\n",
    "\n",
    "Non-empty dictionaries contain within the curly brackets an arbitrary number of *key-value-pairs*. These pairs are separated by commas. Keys and values are separated by a colon: \n",
    "\n",
    "```\n",
    "myDict={key1:value1,key2:value2,key3:value3}\n",
    "``` \n",
    "If `dict()` is applied, then keys and values are separated by `=` as shown in the following example:"
   ]
  },
  {
   "cell_type": "code",
   "execution_count": 5,
   "metadata": {
    "ExecuteTime": {
     "end_time": "2017-07-03T10:31:27.589000Z",
     "start_time": "2017-07-03T10:31:27.573000Z"
    }
   },
   "outputs": [
    {
     "name": "stdout",
     "output_type": "stream",
     "text": [
      "{'name': 'Bob', 'age': 27, 'gender': 'Male', 'hometown': 'Ulm'}\n",
      "{'name': 'Mary', 'age': 23, 'gender': 'Female', 'hometown': 'Berlin'}\n",
      "[{'name': 'Bob', 'age': 27, 'gender': 'Male', 'hometown': 'Ulm'}, {'name': 'Mary', 'age': 23, 'gender': 'Female', 'hometown': 'Berlin'}]\n"
     ]
    }
   ],
   "source": [
    "pd1={'name':'Bob','age':27,'gender':'Male','hometown':'Ulm'}\n",
    "print(pd1)\n",
    "#pd2={'name':'Mary','age':23,'gender':'Female','hometown':'Berlin'}\n",
    "pd2=dict(name='Mary',age=23,gender='Female',hometown='Berlin')\n",
    "print(pd2)\n",
    "personsD=[pd1,pd2]\n",
    "print(personsD)"
   ]
  },
  {
   "cell_type": "markdown",
   "metadata": {},
   "source": [
    "Keys are usually integers, characters or strings. Values can be of arbitrary type, e.g. strings, lists, dictionaries, etc. In the following example a nested dictionary is defined, whose values are again dictionaries. In this example another option for defining dictionaries is shown: First an empty dictionary is created. Then keys are implicitely defined by writing their names in square-brackets and assigning values:"
   ]
  },
  {
   "cell_type": "code",
   "execution_count": 6,
   "metadata": {
    "ExecuteTime": {
     "end_time": "2017-07-03T10:17:30.618000Z",
     "start_time": "2017-07-03T10:17:30.602000Z"
    }
   },
   "outputs": [
    {
     "name": "stdout",
     "output_type": "stream",
     "text": [
      "{'ceo': {'name': 'Bob', 'age': 27, 'gender': 'Male', 'hometown': 'Ulm'}, 'cfo': {'name': 'Mary', 'age': 23, 'gender': 'Female', 'hometown': 'Berlin'}}\n"
     ]
    }
   ],
   "source": [
    "company={}\n",
    "company['ceo']=pd1 #create key and assign value\n",
    "company['cfo']=pd2 #create key and assign value\n",
    "print(company)"
   ]
  },
  {
   "cell_type": "markdown",
   "metadata": {},
   "source": [
    "A frequent use-case in the context of dictionaries is to query if a certain key already exists. If this is not the case, then a default-value should be assigned to the key. In Python this routine is implemented in the dictionary's `setdefault(k,x)`-method. If the key `k` already exists the method returns the corresponding value, otherwise a new-key value pair `k:x` is created:"
   ]
  },
  {
   "cell_type": "code",
   "execution_count": 7,
   "metadata": {
    "ExecuteTime": {
     "end_time": "2017-07-03T11:45:11.128000Z",
     "start_time": "2017-07-03T11:45:11.128000Z"
    }
   },
   "outputs": [
    {
     "name": "stdout",
     "output_type": "stream",
     "text": [
      "{'ceo': {'name': 'Bob', 'age': 27, 'gender': 'Male', 'hometown': 'Ulm'}, 'cfo': {'name': 'Mary', 'age': 23, 'gender': 'Female', 'hometown': 'Berlin'}, 'cto': 'NN'}\n"
     ]
    }
   ],
   "source": [
    "company.setdefault('cto','NN')\n",
    "print(company)"
   ]
  },
  {
   "cell_type": "markdown",
   "metadata": {},
   "source": [
    "## Accessing keys and values\n",
    "The number of key-value-pairs in a dictionary can be obtained by the `len(dictname)`-method. E.g."
   ]
  },
  {
   "cell_type": "code",
   "execution_count": 8,
   "metadata": {
    "ExecuteTime": {
     "end_time": "2017-07-03T10:38:03.817000Z",
     "start_time": "2017-07-03T10:38:03.817000Z"
    }
   },
   "outputs": [
    {
     "name": "stdout",
     "output_type": "stream",
     "text": [
      "3\n",
      "4\n"
     ]
    }
   ],
   "source": [
    "print(len(company))\n",
    "print(len(company['ceo']))"
   ]
  },
  {
   "cell_type": "markdown",
   "metadata": {},
   "source": [
    "A list of all keys and a list of all values of a dictionary can be queried by the `dict.keys()` and `dict.values()` functions, respectively:"
   ]
  },
  {
   "cell_type": "code",
   "execution_count": 9,
   "metadata": {
    "ExecuteTime": {
     "end_time": "2017-07-03T11:22:27.708000Z",
     "start_time": "2017-07-03T11:22:27.692000Z"
    }
   },
   "outputs": [
    {
     "name": "stdout",
     "output_type": "stream",
     "text": [
      "Keys:\n",
      " ['ceo', 'cfo', 'cto']\n",
      "Values:\n",
      " [{'name': 'Bob', 'age': 27, 'gender': 'Male', 'hometown': 'Ulm'}, {'name': 'Mary', 'age': 23, 'gender': 'Female', 'hometown': 'Berlin'}, 'NN']\n"
     ]
    }
   ],
   "source": [
    "print(\"Keys:\\n\",list(company.keys()))\n",
    "print(\"Values:\\n\",list(company.values()))"
   ]
  },
  {
   "cell_type": "markdown",
   "metadata": {},
   "source": [
    "A list of all key-value-pairs is returned by the `dict.items()' function:"
   ]
  },
  {
   "cell_type": "code",
   "execution_count": 10,
   "metadata": {
    "ExecuteTime": {
     "end_time": "2017-07-03T11:27:54.974000Z",
     "start_time": "2017-07-03T11:27:54.974000Z"
    }
   },
   "outputs": [
    {
     "name": "stdout",
     "output_type": "stream",
     "text": [
      "[('ceo', {'name': 'Bob', 'age': 27, 'gender': 'Male', 'hometown': 'Ulm'}), ('cfo', {'name': 'Mary', 'age': 23, 'gender': 'Female', 'hometown': 'Berlin'}), ('cto', 'NN')]\n"
     ]
    }
   ],
   "source": [
    "print(list(company.items()))"
   ]
  },
  {
   "cell_type": "markdown",
   "metadata": {},
   "source": [
    "A value for a given key can be obtained by writing the key-name in square brackets:"
   ]
  },
  {
   "cell_type": "code",
   "execution_count": 11,
   "metadata": {
    "ExecuteTime": {
     "end_time": "2017-07-03T11:23:08.672000Z",
     "start_time": "2017-07-03T11:23:08.657000Z"
    }
   },
   "outputs": [
    {
     "data": {
      "text/plain": [
       "{'name': 'Bob', 'age': 27, 'gender': 'Male', 'hometown': 'Ulm'}"
      ]
     },
     "execution_count": 11,
     "metadata": {},
     "output_type": "execute_result"
    }
   ],
   "source": [
    "company['ceo']"
   ]
  },
  {
   "cell_type": "markdown",
   "metadata": {},
   "source": [
    "## Modifying Dictionaries\n",
    "As already mentioned above the assignment\n",
    "```\n",
    "myDict[key1]=value1\n",
    "```\n",
    "creates a new key and assigns the corresponding value. If the key already exists, a new value is assigned to this key.  "
   ]
  },
  {
   "cell_type": "markdown",
   "metadata": {},
   "source": [
    "The method \n",
    "```\n",
    "dict.copy()\n",
    "```\n",
    "creates a shallow copy of the dictionary. \n",
    "\n",
    "All items (=key-value-pairs) are removed from the dictionary by \n",
    "```\n",
    "dict.clear()\n",
    "```\n",
    "and a single key-value pair can be removed by `del d[k]`, where `k` is the key of the pair, which shall be removed."
   ]
  },
  {
   "cell_type": "code",
   "execution_count": 12,
   "metadata": {
    "ExecuteTime": {
     "end_time": "2017-07-03T11:57:04.360000Z",
     "start_time": "2017-07-03T11:57:04.353000Z"
    }
   },
   "outputs": [
    {
     "name": "stdout",
     "output_type": "stream",
     "text": [
      "3\n",
      "2\n"
     ]
    }
   ],
   "source": [
    "print(len(company))\n",
    "del company['cto']\n",
    "print(len(company))"
   ]
  },
  {
   "cell_type": "markdown",
   "metadata": {},
   "source": [
    "A comprehensive list of all methods applicable for dictionaries is available at the [official Python documentation](https://docs.python.org/2.7/library/stdtypes.html#mapping-types-dict). "
   ]
  },
  {
   "cell_type": "markdown",
   "metadata": {},
   "source": [
    "## Persistently Save Dictionaries\n",
    "For dictionaries, which shall be saved persistently and later be loaded into a program again, the .json file-format is suitable, since the original structure of the dictionary is restored. This is demonstrated in the following code cells:"
   ]
  },
  {
   "cell_type": "code",
   "execution_count": 13,
   "metadata": {},
   "outputs": [
    {
     "data": {
      "text/plain": [
       "{'ceo': {'name': 'Bob', 'age': 27, 'gender': 'Male', 'hometown': 'Ulm'},\n",
       " 'cfo': {'name': 'Mary', 'age': 23, 'gender': 'Female', 'hometown': 'Berlin'}}"
      ]
     },
     "execution_count": 13,
     "metadata": {},
     "output_type": "execute_result"
    }
   ],
   "source": [
    "company"
   ]
  },
  {
   "cell_type": "code",
   "execution_count": 14,
   "metadata": {},
   "outputs": [],
   "source": [
    "import json"
   ]
  },
  {
   "cell_type": "markdown",
   "metadata": {},
   "source": [
    "### Write Dictionary to file"
   ]
  },
  {
   "cell_type": "code",
   "execution_count": 17,
   "metadata": {},
   "outputs": [],
   "source": [
    "with open(\"companyFile.json\",\"w\") as f:\n",
    "    json.dump(company,f)"
   ]
  },
  {
   "cell_type": "markdown",
   "metadata": {},
   "source": [
    "### Read Dictionary from .json File"
   ]
  },
  {
   "cell_type": "code",
   "execution_count": 18,
   "metadata": {},
   "outputs": [
    {
     "data": {
      "text/plain": [
       "{'ceo': {'name': 'Bob', 'age': 27, 'gender': 'Male', 'hometown': 'Ulm'},\n",
       " 'cfo': {'name': 'Mary', 'age': 23, 'gender': 'Female', 'hometown': 'Berlin'}}"
      ]
     },
     "execution_count": 18,
     "metadata": {},
     "output_type": "execute_result"
    }
   ],
   "source": [
    "with open(\"companyFile.json\",\"r\") as f:\n",
    "    mycompany=json.load(f)\n",
    "mycompany"
   ]
  },
  {
   "cell_type": "code",
   "execution_count": null,
   "metadata": {},
   "outputs": [],
   "source": []
  }
 ],
 "metadata": {
  "anaconda-cloud": {},
  "kernelspec": {
   "display_name": "Python 3",
   "language": "python",
   "name": "python3"
  },
  "language_info": {
   "codemirror_mode": {
    "name": "ipython",
    "version": 3
   },
   "file_extension": ".py",
   "mimetype": "text/x-python",
   "name": "python",
   "nbconvert_exporter": "python",
   "pygments_lexer": "ipython3",
   "version": "3.7.5"
  },
  "nav_menu": {},
  "toc": {
   "base_numbering": 1,
   "nav_menu": {
    "height": "104px",
    "width": "251px"
   },
   "number_sections": true,
   "sideBar": true,
   "skip_h1_title": false,
   "title_cell": "Table of Contents",
   "title_sidebar": "Contents",
   "toc_cell": false,
   "toc_position": {},
   "toc_section_display": "block",
   "toc_window_display": true
  },
  "toc_position": {
   "height": "743px",
   "left": "0px",
   "right": "1549.83px",
   "top": "125.167px",
   "width": "212px"
  },
  "varInspector": {
   "cols": {
    "lenName": 16,
    "lenType": 16,
    "lenVar": 40
   },
   "kernels_config": {
    "python": {
     "delete_cmd_postfix": "",
     "delete_cmd_prefix": "del ",
     "library": "var_list.py",
     "varRefreshCmd": "print(var_dic_list())"
    },
    "r": {
     "delete_cmd_postfix": ") ",
     "delete_cmd_prefix": "rm(",
     "library": "var_list.r",
     "varRefreshCmd": "cat(var_dic_list()) "
    }
   },
   "types_to_exclude": [
    "module",
    "function",
    "builtin_function_or_method",
    "instance",
    "_Feature"
   ],
   "window_display": false
  }
 },
 "nbformat": 4,
 "nbformat_minor": 2
}

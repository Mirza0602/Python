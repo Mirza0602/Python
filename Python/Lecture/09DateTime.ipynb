{
 "cells": [
  {
   "cell_type": "markdown",
   "metadata": {},
   "source": [
    "# Time and Date in Python\n",
    "* Author: Johannes Maucher\n",
    "* Last update: 22.05.2018"
   ]
  },
  {
   "cell_type": "markdown",
   "metadata": {},
   "source": [
    "## The time module\n",
    "The [time-module](https://docs.python.org/3.6/library/time.html#time.strptime) is part of core python and provides various time-related functions. It's main methods are demonstrated in the code cells below: "
   ]
  },
  {
   "cell_type": "code",
   "execution_count": 22,
   "metadata": {},
   "outputs": [],
   "source": [
    "import time"
   ]
  },
  {
   "cell_type": "markdown",
   "metadata": {},
   "source": [
    "Current system time in seonds since 12:00am, January 1, 1970:"
   ]
  },
  {
   "cell_type": "code",
   "execution_count": 24,
   "metadata": {},
   "outputs": [
    {
     "name": "stdout",
     "output_type": "stream",
     "text": [
      "<class 'float'>\n",
      "1526991595.075978\n"
     ]
    }
   ],
   "source": [
    "totalT=time.time()\n",
    "print(type(totalT))\n",
    "print(totalT)"
   ]
  },
  {
   "cell_type": "markdown",
   "metadata": {},
   "source": [
    "Current time as a formatted string:"
   ]
  },
  {
   "cell_type": "code",
   "execution_count": 34,
   "metadata": {
    "scrolled": false
   },
   "outputs": [
    {
     "name": "stdout",
     "output_type": "stream",
     "text": [
      "<class 'str'>\n",
      "Current time: \t Tue May 22 14:24:00 2018\n",
      "Former time: \t Sat Jan  3 13:00:00 1970\n"
     ]
    }
   ],
   "source": [
    "currentT=(time.ctime())\n",
    "print(type(currentT))\n",
    "print(\"Current time: \\t {}\".format(currentT))\n",
    "\n",
    "formerTime=time.ctime(3600*60)\n",
    "print(\"Former time: \\t {}\".format(formerTime))"
   ]
  },
  {
   "cell_type": "markdown",
   "metadata": {},
   "source": [
    "Getting elements of date and time according to specified formatter:"
   ]
  },
  {
   "cell_type": "code",
   "execution_count": 26,
   "metadata": {},
   "outputs": [
    {
     "name": "stdout",
     "output_type": "stream",
     "text": [
      "22-05-2018\n",
      "22,05,18\n",
      "<class 'str'>\n",
      "14:20:12\n",
      "<class 'str'>\n"
     ]
    }
   ],
   "source": [
    "today=time.strftime(\"%d-%m-%Y\")\n",
    "print(today)\n",
    "today=time.strftime(\"%d,%m,%y\")\n",
    "print(today)\n",
    "print(type(today))\n",
    "now=time.strftime(\"%H:%M:%S\")\n",
    "print(now)\n",
    "print(type(now))"
   ]
  },
  {
   "cell_type": "markdown",
   "metadata": {},
   "source": [
    "Refer to the [Python documentation](https://docs.python.org/3.6/library/time.html#time.strftime) in order to learn more about applicable formatting elements."
   ]
  },
  {
   "cell_type": "markdown",
   "metadata": {},
   "source": [
    "Getting a structured time-object:"
   ]
  },
  {
   "cell_type": "code",
   "execution_count": 35,
   "metadata": {},
   "outputs": [
    {
     "name": "stdout",
     "output_type": "stream",
     "text": [
      "time.struct_time(tm_year=2018, tm_mon=5, tm_mday=22, tm_hour=14, tm_min=32, tm_sec=5, tm_wday=1, tm_yday=142, tm_isdst=1)\n"
     ]
    }
   ],
   "source": [
    "timeTuple=time.localtime()\n",
    "print(timeTuple)"
   ]
  },
  {
   "cell_type": "code",
   "execution_count": 36,
   "metadata": {},
   "outputs": [
    {
     "name": "stdout",
     "output_type": "stream",
     "text": [
      "Current year: 2018\n",
      "Current month: 5\n",
      "Current day of year: 142\n",
      "Current day of month: 22\n",
      "Current day of week: 1\n",
      "Current hour of day: 14\n",
      "Current minute of hour: 32\n",
      "Time zone: CEST\n",
      "Current Daylight Saving Time Offset: 1\n"
     ]
    }
   ],
   "source": [
    "print(\"Current year: {}\".format(timeTuple.tm_year))\n",
    "print(\"Current month: {}\".format(timeTuple.tm_mon))\n",
    "print(\"Current day of year: {}\".format(timeTuple.tm_yday))\n",
    "print(\"Current day of month: {}\".format(timeTuple.tm_mday))\n",
    "print(\"Current day of week: {}\".format(timeTuple.tm_wday))\n",
    "print(\"Current hour of day: {}\".format(timeTuple.tm_hour))\n",
    "print(\"Current minute of hour: {}\".format(timeTuple.tm_min))\n",
    "print(\"Time zone: {}\".format(timeTuple.tm_zone))\n",
    "print(\"Current Daylight Saving Time Offset: {}\".format(timeTuple.tm_isdst))"
   ]
  },
  {
   "cell_type": "markdown",
   "metadata": {},
   "source": [
    "Get structured time-object from string: "
   ]
  },
  {
   "cell_type": "code",
   "execution_count": 39,
   "metadata": {
    "scrolled": true
   },
   "outputs": [
    {
     "name": "stdout",
     "output_type": "stream",
     "text": [
      "time.struct_time(tm_year=2006, tm_mon=5, tm_mday=5, tm_hour=0, tm_min=0, tm_sec=0, tm_wday=4, tm_yday=125, tm_isdst=-1)\n",
      "<class 'time.struct_time'>\n",
      "Year: 2006\n",
      "Month: 5\n",
      "Day of year: 125\n"
     ]
    }
   ],
   "source": [
    "timeString=\"05.05.2006\"\n",
    "timeObject=time.strptime(timeString,\"%d.%m.%Y\")\n",
    "print(timeObject)\n",
    "print(type(timeObject))\n",
    "print(\"Year: {}\".format(timeObject.tm_year))\n",
    "print(\"Month: {}\".format(timeObject.tm_mon))\n",
    "print(\"Day of year: {}\".format(timeObject.tm_yday))"
   ]
  },
  {
   "cell_type": "markdown",
   "metadata": {},
   "source": [
    "## The datetime module\n",
    "The [datetime module](https://docs.python.org/3.6/library/datetime.html#module-datetime) provides methods for manipulating dates and times in an efficient way."
   ]
  },
  {
   "cell_type": "code",
   "execution_count": 70,
   "metadata": {},
   "outputs": [],
   "source": [
    "import datetime"
   ]
  },
  {
   "cell_type": "code",
   "execution_count": 71,
   "metadata": {},
   "outputs": [
    {
     "name": "stdout",
     "output_type": "stream",
     "text": [
      "<class 'datetime.datetime'>\n",
      "2018-05-01 12:30:40\n"
     ]
    }
   ],
   "source": [
    "somedate=datetime.datetime(2018,5,1,12,30,40)\n",
    "print(type(somedate))\n",
    "print(somedate)"
   ]
  },
  {
   "cell_type": "code",
   "execution_count": 72,
   "metadata": {},
   "outputs": [
    {
     "name": "stdout",
     "output_type": "stream",
     "text": [
      "2018\n",
      "5\n",
      "1\n",
      "12\n"
     ]
    }
   ],
   "source": [
    "print(somedate.year)\n",
    "print(somedate.month)\n",
    "print(somedate.day)\n",
    "print(somedate.hour)"
   ]
  },
  {
   "cell_type": "code",
   "execution_count": 73,
   "metadata": {},
   "outputs": [
    {
     "name": "stdout",
     "output_type": "stream",
     "text": [
      "2018-02-10 11:00:40\n"
     ]
    }
   ],
   "source": [
    "anotherdate=datetime.datetime(2018,2,10,11,0,40)\n",
    "print(anotherdate)"
   ]
  },
  {
   "cell_type": "code",
   "execution_count": 74,
   "metadata": {},
   "outputs": [
    {
     "name": "stdout",
     "output_type": "stream",
     "text": [
      "2018-05-22 15:27:01.582199\n",
      "2018-05-22\n",
      "15:27:01.582199\n"
     ]
    }
   ],
   "source": [
    "now=datetime.datetime.now()\n",
    "print(now)\n",
    "print(now.date())\n",
    "print(now.time())"
   ]
  },
  {
   "cell_type": "markdown",
   "metadata": {},
   "source": [
    "### Arithmetic operations on datetime-objects "
   ]
  },
  {
   "cell_type": "markdown",
   "metadata": {},
   "source": [
    "Difference between datetime-objects:"
   ]
  },
  {
   "cell_type": "code",
   "execution_count": 61,
   "metadata": {},
   "outputs": [
    {
     "name": "stdout",
     "output_type": "stream",
     "text": [
      "<class 'datetime.timedelta'>\n",
      "80 days, 1:30:00\n",
      "80\n",
      "5400\n"
     ]
    }
   ],
   "source": [
    "diff=somedate-anotherdate\n",
    "print(type(diff))\n",
    "print(diff)\n",
    "print(diff.days)\n",
    "print(diff.seconds)\n"
   ]
  },
  {
   "cell_type": "markdown",
   "metadata": {},
   "source": [
    "Add temporal difference to datetime-object:"
   ]
  },
  {
   "cell_type": "code",
   "execution_count": 75,
   "metadata": {},
   "outputs": [
    {
     "name": "stdout",
     "output_type": "stream",
     "text": [
      "<class 'datetime.datetime'>\n",
      "2018-12-09 11:37:01.582199\n"
     ]
    }
   ],
   "source": [
    "timediff=datetime.timedelta(days=200,hours=20,minutes=10)\n",
    "future=now+timediff\n",
    "print(type(future))\n",
    "print(future)"
   ]
  },
  {
   "cell_type": "markdown",
   "metadata": {},
   "source": [
    "### Convert datetime-object to string"
   ]
  },
  {
   "cell_type": "code",
   "execution_count": 69,
   "metadata": {},
   "outputs": [
    {
     "name": "stdout",
     "output_type": "stream",
     "text": [
      "2018-12-09  11:13h\n"
     ]
    }
   ],
   "source": [
    "futureString=future.strftime(format=\"%Y-%m-%d  %H:%Mh\")\n",
    "print(futureString)"
   ]
  },
  {
   "cell_type": "markdown",
   "metadata": {},
   "source": [
    "Get a calender string:"
   ]
  },
  {
   "cell_type": "code",
   "execution_count": 79,
   "metadata": {},
   "outputs": [
    {
     "name": "stdout",
     "output_type": "stream",
     "text": [
      "05.05.2006\n",
      "2006-05-05 00:00:00\n"
     ]
    }
   ],
   "source": [
    "print(timeString)\n",
    "timeObj=datetime.datetime.strptime(timeString,\"%d.%m.%Y\")\n",
    "print(timeObj)"
   ]
  },
  {
   "cell_type": "markdown",
   "metadata": {},
   "source": [
    "## The calendar module"
   ]
  },
  {
   "cell_type": "code",
   "execution_count": 86,
   "metadata": {},
   "outputs": [],
   "source": [
    "import calendar"
   ]
  },
  {
   "cell_type": "markdown",
   "metadata": {},
   "source": [
    "Return calendar as string:"
   ]
  },
  {
   "cell_type": "code",
   "execution_count": 81,
   "metadata": {},
   "outputs": [
    {
     "name": "stdout",
     "output_type": "stream",
     "text": [
      "Calendar:\n",
      "    August 2018\n",
      "Mo Tu We Th Fr Sa Su\n",
      "       1  2  3  4  5\n",
      " 6  7  8  9 10 11 12\n",
      "13 14 15 16 17 18 19\n",
      "20 21 22 23 24 25 26\n",
      "27 28 29 30 31\n",
      "\n",
      "<class 'str'>\n"
     ]
    }
   ],
   "source": [
    "cal = calendar.month(2018, 8)\n",
    "print(\"Calendar:\")\n",
    "print(cal)\n",
    "print(type(cal))"
   ]
  },
  {
   "cell_type": "markdown",
   "metadata": {},
   "source": [
    "Return calendar as nested list:"
   ]
  },
  {
   "cell_type": "code",
   "execution_count": 85,
   "metadata": {},
   "outputs": [
    {
     "name": "stdout",
     "output_type": "stream",
     "text": [
      "Calendar:\n",
      "[[0, 0, 1, 2, 3, 4, 5], [6, 7, 8, 9, 10, 11, 12], [13, 14, 15, 16, 17, 18, 19], [20, 21, 22, 23, 24, 25, 26], [27, 28, 29, 30, 31, 0, 0]]\n",
      "<class 'list'>\n"
     ]
    }
   ],
   "source": [
    "calM = calendar.monthcalendar(2018, 8)\n",
    "print(\"Calendar:\")\n",
    "print(calM)\n",
    "print(type(calM))"
   ]
  },
  {
   "cell_type": "markdown",
   "metadata": {},
   "source": [
    "Return calendar as .html table:"
   ]
  },
  {
   "cell_type": "code",
   "execution_count": 84,
   "metadata": {},
   "outputs": [
    {
     "name": "stdout",
     "output_type": "stream",
     "text": [
      "Calendar:\n",
      "<table border=\"0\" cellpadding=\"0\" cellspacing=\"0\" class=\"month\">\n",
      "<tr><th colspan=\"7\" class=\"month\">August 2018</th></tr>\n",
      "<tr><th class=\"mon\">Mon</th><th class=\"tue\">Tue</th><th class=\"wed\">Wed</th><th class=\"thu\">Thu</th><th class=\"fri\">Fri</th><th class=\"sat\">Sat</th><th class=\"sun\">Sun</th></tr>\n",
      "<tr><td class=\"noday\">&nbsp;</td><td class=\"noday\">&nbsp;</td><td class=\"wed\">1</td><td class=\"thu\">2</td><td class=\"fri\">3</td><td class=\"sat\">4</td><td class=\"sun\">5</td></tr>\n",
      "<tr><td class=\"mon\">6</td><td class=\"tue\">7</td><td class=\"wed\">8</td><td class=\"thu\">9</td><td class=\"fri\">10</td><td class=\"sat\">11</td><td class=\"sun\">12</td></tr>\n",
      "<tr><td class=\"mon\">13</td><td class=\"tue\">14</td><td class=\"wed\">15</td><td class=\"thu\">16</td><td class=\"fri\">17</td><td class=\"sat\">18</td><td class=\"sun\">19</td></tr>\n",
      "<tr><td class=\"mon\">20</td><td class=\"tue\">21</td><td class=\"wed\">22</td><td class=\"thu\">23</td><td class=\"fri\">24</td><td class=\"sat\">25</td><td class=\"sun\">26</td></tr>\n",
      "<tr><td class=\"mon\">27</td><td class=\"tue\">28</td><td class=\"wed\">29</td><td class=\"thu\">30</td><td class=\"fri\">31</td><td class=\"noday\">&nbsp;</td><td class=\"noday\">&nbsp;</td></tr>\n",
      "</table>\n",
      "\n",
      "<class 'str'>\n"
     ]
    }
   ],
   "source": [
    "calH = calendar.HTMLCalendar().formatmonth(2018, 8)\n",
    "print(\"Calendar:\")\n",
    "print(calH)\n",
    "print(type(calH))"
   ]
  },
  {
   "cell_type": "code",
   "execution_count": 103,
   "metadata": {},
   "outputs": [],
   "source": [
    "calenderfile=\"cal2018.html\"\n",
    "with open(calenderfile,\"w\") as f:\n",
    "    f.write(calH)"
   ]
  },
  {
   "cell_type": "code",
   "execution_count": null,
   "metadata": {},
   "outputs": [],
   "source": []
  }
 ],
 "metadata": {
  "kernelspec": {
   "display_name": "Python 3",
   "language": "python",
   "name": "python3"
  },
  "language_info": {
   "codemirror_mode": {
    "name": "ipython",
    "version": 3
   },
   "file_extension": ".py",
   "mimetype": "text/x-python",
   "name": "python",
   "nbconvert_exporter": "python",
   "pygments_lexer": "ipython3",
   "version": "3.6.3"
  },
  "toc": {
   "nav_menu": {},
   "number_sections": true,
   "sideBar": true,
   "skip_h1_title": false,
   "title_cell": "Table of Contents",
   "title_sidebar": "Contents",
   "toc_cell": false,
   "toc_position": {},
   "toc_section_display": true,
   "toc_window_display": false
  }
 },
 "nbformat": 4,
 "nbformat_minor": 2
}

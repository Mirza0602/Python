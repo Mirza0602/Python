{
 "cells": [
  {
   "cell_type": "markdown",
   "metadata": {},
   "source": [
    "[Back to Lecture Overview](Overview.ipynb)"
   ]
  },
  {
   "cell_type": "markdown",
   "metadata": {},
   "source": [
    "# Numerical Datatypes and Operators\n",
    "* Author: Johannes Maucher\n",
    "* Last Update: 10.11.2020"
   ]
  },
  {
   "cell_type": "markdown",
   "metadata": {},
   "source": [
    "<figure align=\"center\">\n",
    "<img width=\"800\" src=\"https://maucher.home.hdm-stuttgart.de/Pics/DS_Python_Datatypes_All.png\">\n",
    "</figure>"
   ]
  },
  {
   "cell_type": "markdown",
   "metadata": {},
   "source": [
    "## Numerical Datatypes\n",
    "In Python numerical datatypes are\n",
    "* `int` and `long` for integers\n",
    "* `float` for floating point numbers\n",
    "* `complex` for complex numbers\n",
    "* `bool` for Boolean numbers\n",
    "\n",
    "Python is **dynamically typed**. This means, that it is not necessary to explicitly define a certain type of a variable. In Python the type of the variable is infered automatically as soon as a value is assigned to the variable. And it is possible that new types can be assigned to a variable. This is demonstrated in the following code-cell:\n"
   ]
  },
  {
   "cell_type": "code",
   "execution_count": 8,
   "metadata": {
    "ExecuteTime": {
     "end_time": "2017-08-14T05:15:36.452000Z",
     "start_time": "2017-08-14T07:15:36.452000+02:00"
    }
   },
   "outputs": [
    {
     "name": "stdout",
     "output_type": "stream",
     "text": [
      "<class 'int'>\n",
      "<class 'float'>\n"
     ]
    }
   ],
   "source": [
    "x=5 \n",
    "print(type(x)) #x is of type int, because an integer has been assigned to it\n",
    "x= 3.8\n",
    "print(type(x)) #now x is of type float, because a floating-number has been assigned to it."
   ]
  },
  {
   "cell_type": "markdown",
   "metadata": {},
   "source": [
    "<a id='ArithmeticOperations'></a>\n",
    "## Arithmetic Operations\n",
    "Arithmetic operations are:\n",
    "* Addition: `x+y`\n",
    "* Subtraction: `x-y`\n",
    "* Multiplikation: `x*y`\n",
    "* Division: `x/y`\n",
    "* Remainder of integer division: `x%y`\n",
    "* Integer division: `x//y`\n",
    "* Power: `x**y`\n",
    "* Negation: `-x`"
   ]
  },
  {
   "cell_type": "code",
   "execution_count": 9,
   "metadata": {
    "ExecuteTime": {
     "end_time": "2017-08-14T05:15:48.527000Z",
     "start_time": "2017-08-14T07:15:48.511000+02:00"
    }
   },
   "outputs": [
    {
     "name": "stdout",
     "output_type": "stream",
     "text": [
      "7\n",
      "3\n",
      "10\n",
      "4\n",
      "21\n"
     ]
    }
   ],
   "source": [
    "x=7\n",
    "print(x)\n",
    "y=3\n",
    "print(y)\n",
    "s=x+y\n",
    "print(s)\n",
    "d=x-y\n",
    "print(d)\n",
    "p=x*y\n",
    "print(p)"
   ]
  },
  {
   "cell_type": "markdown",
   "metadata": {},
   "source": [
    "Printing the value of variables can be done as in the code-cell above. However, the output of the value alone is often inappropriate, since it can be difficult to retrace the variable to which a value belongs to. It is better to print additional information in a formatted manner, as shown below: "
   ]
  },
  {
   "cell_type": "markdown",
   "metadata": {},
   "source": [
    "In  order to increase the value of x by the value of y one can apply the `+=` operator:"
   ]
  },
  {
   "cell_type": "code",
   "execution_count": 10,
   "metadata": {
    "ExecuteTime": {
     "end_time": "2017-08-14T05:16:43.078000Z",
     "start_time": "2017-08-14T07:16:43.062000+02:00"
    }
   },
   "outputs": [
    {
     "name": "stdout",
     "output_type": "stream",
     "text": [
      "x =  7\n",
      "y =  3\n",
      "x+y = 10\n",
      "x-y =  4\n",
      "x*y = 21\n",
      "Division x/y =2.333\n",
      "Remainder x%y =  1\n",
      "Integer division x//y =  2\n",
      "Power x**y =343\n",
      "Negation -x = -7\n"
     ]
    }
   ],
   "source": [
    "print(\"x =%3d\"%x)\n",
    "print(\"y =%3d\"%y)\n",
    "print(\"x+y =%3d\"%(x+y))\n",
    "print(\"x-y =%3d\"%(x-y))\n",
    "print(\"x*y =%3d\"%(x*y))\n",
    "print(\"Division x/y =%3.3f\"%(x/y))\n",
    "print(\"Remainder x%%y =%3d\"%(x%y))\n",
    "print(\"Integer division x//y =%3d\"%(x//y))\n",
    "print(\"Power x**y =%3d\"%(x**y))\n",
    "print(\"Negation -x =%3d\"%(-x))"
   ]
  },
  {
   "cell_type": "code",
   "execution_count": 11,
   "metadata": {
    "ExecuteTime": {
     "end_time": "2017-08-14T05:17:01.051000Z",
     "start_time": "2017-08-14T07:17:01.036000+02:00"
    }
   },
   "outputs": [
    {
     "name": "stdout",
     "output_type": "stream",
     "text": [
      "Old x:  7\n",
      "y =  3 \n",
      "New x: 10 \n"
     ]
    }
   ],
   "source": [
    "print(\"Old x: %2d\"%x)\n",
    "print(\"y = %2d \"%y)\n",
    "x+=y\n",
    "print(\"New x: %2d \"%x)"
   ]
  },
  {
   "cell_type": "code",
   "execution_count": 12,
   "metadata": {},
   "outputs": [
    {
     "name": "stdout",
     "output_type": "stream",
     "text": [
      "Variable   Type      Data/Info\n",
      "------------------------------\n",
      "Image      type      <class 'IPython.core.display.Image'>\n",
      "d          int       4\n",
      "json       module    <module 'json' from '/Use<...>hon3.7/json/__init__.py'>\n",
      "lib2to3    module    <module 'lib2to3' from '/<...>3.7/lib2to3/__init__.py'>\n",
      "p          int       21\n",
      "s          int       10\n",
      "x          int       10\n",
      "y          int       3\n"
     ]
    }
   ],
   "source": [
    "whos"
   ]
  },
  {
   "cell_type": "markdown",
   "metadata": {},
   "source": [
    "## Comparison Operators\n",
    "For the datatypes `int`, `long`, `float` and `bool` the following comparison-operators are defined: `==`, `!=`, ` < `, ` > `, ` <= `, ` => `"
   ]
  },
  {
   "cell_type": "code",
   "execution_count": 13,
   "metadata": {
    "ExecuteTime": {
     "end_time": "2017-08-14T05:18:45.699000Z",
     "start_time": "2017-08-14T07:18:45.684000+02:00"
    }
   },
   "outputs": [
    {
     "name": "stdout",
     "output_type": "stream",
     "text": [
      "a==b: False\n",
      "a==d: True\n",
      "a<=d: True\n",
      "b>c : True\n",
      "c>d : False\n"
     ]
    }
   ],
   "source": [
    "a=3\n",
    "b=5.2\n",
    "c=-4.1\n",
    "d=3.0\n",
    "print(\"a==b: %s\"%(a==b))\n",
    "print(\"a==d: %s\"%(a==d))\n",
    "print(\"a<=d: %s\"%(a<=d))\n",
    "print(\"b>c : %s\"%(b>c))\n",
    "print(\"c>d : %s\"%(c>d))"
   ]
  },
  {
   "cell_type": "markdown",
   "metadata": {},
   "source": [
    "## Boolean Types\n",
    "The type `bool` belongs to the numeric types, because all [arithmetic operators](#ArithmeticOperations) can be applied to it. However, the value of a Boolean variable can only be `True`, which is evaluated as 1, or `False`, which is evaluated as 0. In addition to the arithmetic operations for boolean variables also the logical operators `not`, `and` and `or` are defined. Instead of `and` and `or`, also the characters `&` and `|` can be applied, respectively. "
   ]
  },
  {
   "cell_type": "code",
   "execution_count": 14,
   "metadata": {
    "ExecuteTime": {
     "end_time": "2017-08-14T05:47:29.030000Z",
     "start_time": "2017-08-14T07:47:29.030000+02:00"
    }
   },
   "outputs": [
    {
     "name": "stdout",
     "output_type": "stream",
     "text": [
      "False\n",
      "True\n",
      "True\n"
     ]
    }
   ],
   "source": [
    "ra = (a==b) and (a==d)\n",
    "print(ra)\n",
    "rb = (a==b) or (a==d)\n",
    "print(rb)\n",
    "print(not ra)"
   ]
  },
  {
   "cell_type": "code",
   "execution_count": 15,
   "metadata": {
    "ExecuteTime": {
     "end_time": "2017-08-14T05:43:20.664000Z",
     "start_time": "2017-08-14T07:43:20.664000+02:00"
    }
   },
   "outputs": [
    {
     "name": "stdout",
     "output_type": "stream",
     "text": [
      "False\n",
      "True\n",
      "True\n"
     ]
    }
   ],
   "source": [
    "ra = (a==b) & (a==d)\n",
    "print(ra)\n",
    "rb = (a==b) | (a==d)\n",
    "print(rb)\n",
    "print(ra!=rb)"
   ]
  },
  {
   "cell_type": "markdown",
   "metadata": {},
   "source": [
    "## Convert Numeric Types"
   ]
  },
  {
   "cell_type": "markdown",
   "metadata": {},
   "source": [
    "The type of a variable `x` can be converted (*casted*) into a new one by `typname(x)`. "
   ]
  },
  {
   "cell_type": "code",
   "execution_count": 17,
   "metadata": {
    "ExecuteTime": {
     "end_time": "2017-08-14T05:21:32.157000Z",
     "start_time": "2017-08-14T07:21:32.141000+02:00"
    }
   },
   "outputs": [
    {
     "name": "stdout",
     "output_type": "stream",
     "text": [
      "Initial type of x: <class 'int'>\n",
      "Type after 1.st conversion: <class 'float'>\n",
      "Type after 2.nd conversion: <class 'int'>\n",
      "New value of x: 3.9\n",
      "Type after 3.rd conversion: <class 'float'>\n",
      "Value after conversion from float to int: 3\n",
      "Type after 4.th conversion: <class 'bool'>\n",
      "Value after conversion from int to bool: True\n"
     ]
    }
   ],
   "source": [
    "x=3\n",
    "print(\"Initial type of x: %s\"%type(x))\n",
    "x=float(x)\n",
    "print(\"Type after 1.st conversion: %s\"%type(x))\n",
    "x=3\n",
    "print(\"Type after 2.nd conversion: %s\"%type(x))\n",
    "x=3.9\n",
    "print(\"New value of x: %s\"%(x))\n",
    "print(\"Type after 3.rd conversion: %s\"%type(x))\n",
    "x=int(x)\n",
    "print(\"Value after conversion from float to int: %s\"%(x))\n",
    "x = bool(x)\n",
    "print(\"Type after 4.th conversion: %s\"%type(x))\n",
    "print(\"Value after conversion from int to bool: %s\"%(x))"
   ]
  }
 ],
 "metadata": {
  "anaconda-cloud": {},
  "kernelspec": {
   "display_name": "Python 3",
   "language": "python",
   "name": "python3"
  },
  "language_info": {
   "codemirror_mode": {
    "name": "ipython",
    "version": 3
   },
   "file_extension": ".py",
   "mimetype": "text/x-python",
   "name": "python",
   "nbconvert_exporter": "python",
   "pygments_lexer": "ipython3",
   "version": "3.7.5"
  },
  "nav_menu": {},
  "toc": {
   "base_numbering": 1,
   "nav_menu": {
    "height": "141px",
    "width": "251px"
   },
   "number_sections": true,
   "sideBar": true,
   "skip_h1_title": false,
   "title_cell": "Table of Contents",
   "title_sidebar": "Contents",
   "toc_cell": false,
   "toc_position": {},
   "toc_section_display": "block",
   "toc_window_display": false
  },
  "toc_position": {
   "height": "564px",
   "left": "0px",
   "right": "1196px",
   "top": "106px",
   "width": "212px"
  },
  "varInspector": {
   "cols": {
    "lenName": 16,
    "lenType": 16,
    "lenVar": 40
   },
   "kernels_config": {
    "python": {
     "delete_cmd_postfix": "",
     "delete_cmd_prefix": "del ",
     "library": "var_list.py",
     "varRefreshCmd": "print(var_dic_list())"
    },
    "r": {
     "delete_cmd_postfix": ") ",
     "delete_cmd_prefix": "rm(",
     "library": "var_list.r",
     "varRefreshCmd": "cat(var_dic_list()) "
    }
   },
   "types_to_exclude": [
    "module",
    "function",
    "builtin_function_or_method",
    "instance",
    "_Feature"
   ],
   "window_display": false
  }
 },
 "nbformat": 4,
 "nbformat_minor": 2
}

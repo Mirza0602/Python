{
 "cells": [
  {
   "cell_type": "markdown",
   "metadata": {
    "toc": "true"
   },
   "source": [
    "# Table of Contents\n",
    " <p><div class=\"lev1 toc-item\"><a href=\"#Numerical-Datatypes-and-Operators\" data-toc-modified-id=\"Numerical-Datatypes-and-Operators-1\"><span class=\"toc-item-num\">1&nbsp;&nbsp;</span>Numerical Datatypes and Operators</a></div><div class=\"lev2 toc-item\"><a href=\"#Numerical-Datatypes\" data-toc-modified-id=\"Numerical-Datatypes-1.1\"><span class=\"toc-item-num\">1.1&nbsp;&nbsp;</span>Numerical Datatypes</a></div><div class=\"lev2 toc-item\"><a href=\"#Arithmetic-Operations\" data-toc-modified-id=\"Arithmetic-Operations-1.2\"><span class=\"toc-item-num\">1.2&nbsp;&nbsp;</span>Arithmetic Operations</a></div><div class=\"lev2 toc-item\"><a href=\"#Comparison-Operators\" data-toc-modified-id=\"Comparison-Operators-1.3\"><span class=\"toc-item-num\">1.3&nbsp;&nbsp;</span>Comparison Operators</a></div><div class=\"lev2 toc-item\"><a href=\"#Boolean-Types\" data-toc-modified-id=\"Boolean-Types-1.4\"><span class=\"toc-item-num\">1.4&nbsp;&nbsp;</span>Boolean Types</a></div><div class=\"lev2 toc-item\"><a href=\"#Convert-Numeric-Types\" data-toc-modified-id=\"Convert-Numeric-Types-1.5\"><span class=\"toc-item-num\">1.5&nbsp;&nbsp;</span>Convert Numeric Types</a></div><div class=\"lev1 toc-item\"><a href=\"#Exercises\" data-toc-modified-id=\"Exercises-2\"><span class=\"toc-item-num\">2&nbsp;&nbsp;</span>Exercises</a></div>"
   ]
  },
  {
   "cell_type": "markdown",
   "metadata": {},
   "source": [
    "[Back to Lecture Overview](Overview.ipynb)"
   ]
  },
  {
   "cell_type": "markdown",
   "metadata": {},
   "source": [
    "# Numerical Datatypes and Operators\n",
    "* Author: Johannes Maucher\n",
    "* Last Update: 27.06.2017"
   ]
  },
  {
   "cell_type": "markdown",
   "metadata": {},
   "source": [
    "## Numerical Datatypes\n",
    "In Python numerical datatypes are\n",
    "* <code>int</code> and <code>long</code> for integers\n",
    "* <code>float</code> for floating point numbers\n",
    "* <code>complex</code> for complex numbers\n",
    "* <code>bool</code> for Boolean numbers\n",
    "\n",
    "Python is **dynamically typed**. This means, that it is not necessary to explicitely define a certain type of a variable. In Python the type of the variable is infered automatically as soon as a value is assigned to the variable. And it is possible that new types can be assigned to a variable. This is demonstrated in the following code-cell:\n"
   ]
  },
  {
   "cell_type": "code",
   "execution_count": 1,
   "metadata": {},
   "outputs": [
    {
     "name": "stdout",
     "output_type": "stream",
     "text": [
      "<type 'int'>\n",
      "<type 'float'>\n"
     ]
    }
   ],
   "source": [
    "x=5 \n",
    "print type(x) #x is of type int, because an integer has been assigned to it\n",
    "x= 3.8\n",
    "print type(x) #now x is of type float, because a floating-number has been assigned to it."
   ]
  },
  {
   "cell_type": "markdown",
   "metadata": {},
   "source": [
    "<a id='ArithmeticOperations'></a>\n",
    "## Arithmetic Operations\n",
    "Arithmetic operations are:\n",
    "* Addition: <code>x+y</code>\n",
    "* Subtraction: <code>x-y</code>\n",
    "* Multiplikation: <code>x*y</code>\n",
    "* Division: <code>x/y</code> (Caution! If x and y are integers, than integer division is performed)\n",
    "* Remainder of integer division: <code>x%y</code>\n",
    "* Integer division: <code>x//y</code>\n",
    "* Power: <code>x**y</code>\n",
    "* Negation: <code>-x</code>"
   ]
  },
  {
   "cell_type": "code",
   "execution_count": 25,
   "metadata": {},
   "outputs": [
    {
     "name": "stdout",
     "output_type": "stream",
     "text": [
      "7\n",
      "3\n",
      "7\n",
      "4\n",
      "21\n"
     ]
    }
   ],
   "source": [
    "x=7\n",
    "print x\n",
    "y=3\n",
    "print y\n",
    "s=x+y\n",
    "print x\n",
    "d=x-y\n",
    "print d\n",
    "p=x*y\n",
    "print p"
   ]
  },
  {
   "cell_type": "markdown",
   "metadata": {},
   "source": [
    "Printing the value of variables can be done as in the code-cell above. However, the output of the value alone is often inappropriate, since it can be difficult to retrace the variable to which a value belongs to. It is better to print additional information in a formatted manner, as shown below: "
   ]
  },
  {
   "cell_type": "markdown",
   "metadata": {},
   "source": [
    "In  order to increase the value of x by the value of y one can apply the <code>+=</code> operator:"
   ]
  },
  {
   "cell_type": "code",
   "execution_count": 22,
   "metadata": {},
   "outputs": [
    {
     "name": "stdout",
     "output_type": "stream",
     "text": [
      "x =  7\n",
      "y =  3\n",
      "x+y = 10\n",
      "x-y =  4\n",
      "x*y = 21\n",
      "Integer division x/y =  2\n",
      "Float division float(x)/y =2.3333\n",
      "Remainder x%y =  1\n",
      "Integer division x//y =  2\n",
      "Power x**y =343\n",
      "Negation -x = -7\n"
     ]
    }
   ],
   "source": [
    "print \"x =%3d\"%x\n",
    "print \"y =%3d\"%y\n",
    "print \"x+y =%3d\"%(x+y)\n",
    "print \"x-y =%3d\"%(x-y)\n",
    "print \"x*y =%3d\"%(x*y)\n",
    "print \"Integer division x/y =%3d\"%(x/y)\n",
    "print \"Float division float(x)/y =%3.4f\"%(float(x)/y)\n",
    "print \"Remainder x%%y =%3d\"%(x%y)\n",
    "print \"Integer division x//y =%3d\"%(x//y)\n",
    "print \"Power x**y =%3d\"%(x**y)\n",
    "print \"Negation -x =%3d\"%(-x)"
   ]
  },
  {
   "cell_type": "code",
   "execution_count": 24,
   "metadata": {},
   "outputs": [
    {
     "name": "stdout",
     "output_type": "stream",
     "text": [
      "Old x:  7\n",
      "y =  3 \n",
      "New x: 10 \n"
     ]
    }
   ],
   "source": [
    "print \"Old x: %2d\"%x\n",
    "print \"y = %2d \"%y\n",
    "x+=y\n",
    "print \"New x: %2d \"%x"
   ]
  },
  {
   "cell_type": "markdown",
   "metadata": {},
   "source": [
    "## Comparison Operators\n",
    "For the datatypes <code>int</code>, <code>long</code>, <code>float</code> and <code>bool</code> the following comparison-operators are defined: <code>==</code>, <code>!=</code>, <code> < </code>, <code> > </code>, <code> <= </code>, <code> => </code> are defined:"
   ]
  },
  {
   "cell_type": "code",
   "execution_count": 46,
   "metadata": {},
   "outputs": [
    {
     "name": "stdout",
     "output_type": "stream",
     "text": [
      "a==b: False\n",
      "a==d: True\n",
      "a<=d: True\n",
      "b>c : True\n",
      "c>d : False\n"
     ]
    }
   ],
   "source": [
    "a=3\n",
    "b=5.2\n",
    "c=-4.1\n",
    "d=3.0\n",
    "print \"a==b: %s\"%(a==b)\n",
    "print \"a==d: %s\"%(a==d)\n",
    "print \"a<=d: %s\"%(a<=d)\n",
    "print \"b>c : %s\"%(b>c)\n",
    "print \"c>d : %s\"%(c>d)"
   ]
  },
  {
   "cell_type": "markdown",
   "metadata": {},
   "source": [
    "## Boolean Types\n",
    "The type <code>bool</code> belongs to the numeric types, because all [arithmetic operators](#ArithmeticOperations) can be applied to it. However, the value of a Boolean variable can only be <code>True</code>, which is evaluated as 1, or <code>False</code>, which is evaluated as 0. In addition to the arithmetic operations for boolean variables also the logical operators <code>not</code> <code>and</code> and <code>or</code> are defined."
   ]
  },
  {
   "cell_type": "code",
   "execution_count": 51,
   "metadata": {},
   "outputs": [
    {
     "name": "stdout",
     "output_type": "stream",
     "text": [
      "False\n",
      "True\n",
      "True\n"
     ]
    }
   ],
   "source": [
    "ra = (a==b) and (a==d)\n",
    "print ra\n",
    "rb = (a==b) or (a==d)\n",
    "print rb\n",
    "print not ra"
   ]
  },
  {
   "cell_type": "markdown",
   "metadata": {},
   "source": [
    "## Convert Numeric Types"
   ]
  },
  {
   "cell_type": "markdown",
   "metadata": {},
   "source": [
    "The type of a variable <code>x</code> can be converted into a new one by <code>typname(x)</code>. "
   ]
  },
  {
   "cell_type": "code",
   "execution_count": 44,
   "metadata": {},
   "outputs": [
    {
     "name": "stdout",
     "output_type": "stream",
     "text": [
      "Initial type of x: <type 'int'>\n",
      "Type after 1.st conversion: <type 'float'>\n",
      "Type after 2.nd conversion: <type 'long'>\n",
      "New value of x: 3.9\n",
      "Type after 3.rd conversion: <type 'int'>\n",
      "Value after conversion from float to int: 3\n",
      "Type after 3.rd conversion: <type 'bool'>\n",
      "Value after conversion from int to bool: True\n"
     ]
    }
   ],
   "source": [
    "x=3\n",
    "print \"Initial type of x: %s\"%type(x)\n",
    "x=float(x)\n",
    "print \"Type after 1.st conversion: %s\"%type(x)\n",
    "x=3L\n",
    "print \"Type after 2.nd conversion: %s\"%type(x)\n",
    "x=3.9\n",
    "print \"New value of x: %s\"%(x)\n",
    "x=int(x)\n",
    "print \"Type after 3.rd conversion: %s\"%type(x)\n",
    "print \"Value after conversion from float to int: %s\"%(x)\n",
    "x = bool(x)\n",
    "print \"Type after 3.rd conversion: %s\"%type(x)\n",
    "print \"Value after conversion from int to bool: %s\"%(x)"
   ]
  },
  {
   "cell_type": "markdown",
   "metadata": {},
   "source": [
    "# Exercises "
   ]
  },
  {
   "cell_type": "code",
   "execution_count": null,
   "metadata": {
    "collapsed": true
   },
   "outputs": [],
   "source": []
  }
 ],
 "metadata": {
  "kernelspec": {
   "display_name": "Python [default]",
   "language": "python",
   "name": "python2"
  },
  "language_info": {
   "codemirror_mode": {
    "name": "ipython",
    "version": 2
   },
   "file_extension": ".py",
   "mimetype": "text/x-python",
   "name": "python",
   "nbconvert_exporter": "python",
   "pygments_lexer": "ipython2",
   "version": "2.7.13"
  },
  "nav_menu": {},
  "toc": {
   "navigate_menu": true,
   "number_sections": true,
   "sideBar": true,
   "threshold": 6,
   "toc_cell": true,
   "toc_section_display": "block",
   "toc_window_display": true
  },
  "toc_position": {
   "height": "564px",
   "left": "0px",
   "right": "1196px",
   "top": "106px",
   "width": "212px"
  }
 },
 "nbformat": 4,
 "nbformat_minor": 2
}

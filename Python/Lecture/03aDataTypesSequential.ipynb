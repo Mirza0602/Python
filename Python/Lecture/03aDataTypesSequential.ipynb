{
 "cells": [
  {
   "cell_type": "markdown",
   "metadata": {},
   "source": [
    "[Back to Lecture Overview](Overview.ipynb)"
   ]
  },
  {
   "cell_type": "markdown",
   "metadata": {},
   "source": [
    "# Sequential Datatypes\n",
    "* Author: Johannes Maucher\n",
    "* Last Update: 10.11.2020"
   ]
  },
  {
   "cell_type": "markdown",
   "metadata": {},
   "source": [
    "<figure align=\"center\">\n",
    "<img width=\"800\" src=\"https://maucher.home.hdm-stuttgart.de/Pics/DS_Python_Datatypes_All.png\">\n",
    "</figure>"
   ]
  },
  {
   "cell_type": "markdown",
   "metadata": {
    "hide_input": true
   },
   "source": [
    "Sequential Datatypes in Python contain sequences of elements. The following types belong to the category of sequential datatypes:\n",
    "\n",
    "* **string**\n",
    "* **list**\n",
    "* **tuple**\n",
    "* bytearray\n",
    "* buffer\n",
    "* xrange objects\n",
    "\n",
    "Other container types, not belonging to sequential datatypes, are e.g. `dict`, `set` and `collections`.\n",
    "\n",
    "For all sequential datatypes the following operators are defined:\n",
    "\n",
    "<a id=\"seqops\"></a>"
   ]
  },
  {
   "cell_type": "markdown",
   "metadata": {},
   "source": [
    "| Operation | Result | \n",
    "| --- | --- | \n",
    "| x in s | True if an item of s is equal to x, else False | \n",
    "| x not in s | False if an item of s is equal to x, else True | \n",
    "| s + t | the concatenation of s and t | \n",
    "| s \\* n, n \\* s | equivalent to adding s to itself n times | \n",
    "| s[i] | i.th item of s, origin 0 | \n",
    "| s[i:j] | slice of s from i to j | \n",
    "| s[i:j:k] | slice of s from i to j with step k | \n",
    "| len(s) | length of s | \n",
    "| min(s) | smallest item of s | \n",
    "| max(s) | largest item of s | \n",
    "| s.index(x) | index of the first occurrence of x in s | \n",
    "| s.count(x) | total number of occurrences of x in s |"
   ]
  },
  {
   "cell_type": "markdown",
   "metadata": {
    "ExecuteTime": {
     "end_time": "2017-06-30T15:13:55.973000Z",
     "start_time": "2017-06-30T17:13:55.973000+02:00"
    }
   },
   "source": [
    "## Strings\n",
    "A String is a sequence of characters. Strings can either be defined within single, double or triple quotes: "
   ]
  },
  {
   "cell_type": "code",
   "execution_count": 2,
   "metadata": {
    "ExecuteTime": {
     "end_time": "2017-08-14T06:05:57.817000Z",
     "start_time": "2017-08-14T08:05:57.810000+02:00"
    }
   },
   "outputs": [
    {
     "name": "stdout",
     "output_type": "stream",
     "text": [
      "this is my first string\n",
      "<class 'str'>\n"
     ]
    }
   ],
   "source": [
    "s1='this is my first string'\n",
    "print(s1)\n",
    "print(type(s1))"
   ]
  },
  {
   "cell_type": "code",
   "execution_count": 3,
   "metadata": {
    "ExecuteTime": {
     "end_time": "2017-08-14T06:06:49.393000Z",
     "start_time": "2017-08-14T08:06:49.393000+02:00"
    }
   },
   "outputs": [
    {
     "name": "stdout",
     "output_type": "stream",
     "text": [
      "this is my second string\n",
      "<class 'str'>\n"
     ]
    }
   ],
   "source": [
    "s2=\"this is my second string\"\n",
    "print(s2) \n",
    "print(type(s2))"
   ]
  },
  {
   "cell_type": "code",
   "execution_count": 4,
   "metadata": {
    "ExecuteTime": {
     "end_time": "2017-08-14T06:06:53.490000Z",
     "start_time": "2017-08-14T08:06:53.482000+02:00"
    }
   },
   "outputs": [
    {
     "name": "stdout",
     "output_type": "stream",
     "text": [
      "using triple quotes\n",
      "strings can also be defined \n",
      "over multiple lines\n",
      "<class 'str'>\n"
     ]
    }
   ],
   "source": [
    "s3=\"\"\"using triple quotes\n",
    "strings can also be defined \n",
    "over multiple lines\"\"\"\n",
    "print(s3)\n",
    "print(type(s3))"
   ]
  },
  {
   "cell_type": "markdown",
   "metadata": {},
   "source": [
    "### Accessing string components\n",
    "\n",
    "The components of strings are characters. Each component of a string-variable can be accessed by it's index or index-range in the same way as described in the [table of operations for sequential types](#seqops). In Python the first index of a datatype, that contains multiple components is always 0. Hence, for a container of length *n* the valid indeces range from 0 to n-1."
   ]
  },
  {
   "cell_type": "code",
   "execution_count": 5,
   "metadata": {
    "ExecuteTime": {
     "end_time": "2017-08-14T06:07:52.908000Z",
     "start_time": "2017-08-14T08:07:52.902000+02:00"
    }
   },
   "outputs": [
    {
     "name": "stdout",
     "output_type": "stream",
     "text": [
      "First element of s3 is u\n"
     ]
    }
   ],
   "source": [
    "print(\"First element of s3 is %s\"%s3[0])"
   ]
  },
  {
   "cell_type": "code",
   "execution_count": 6,
   "metadata": {
    "ExecuteTime": {
     "end_time": "2017-08-14T06:08:34.217000Z",
     "start_time": "2017-08-14T08:08:34.217000+02:00"
    }
   },
   "outputs": [
    {
     "name": "stdout",
     "output_type": "stream",
     "text": [
      "The first 5 elements of s3 are: using\n"
     ]
    }
   ],
   "source": [
    "print(\"The first 5 elements of s3 are: %s\"%s3[:5])"
   ]
  },
  {
   "cell_type": "code",
   "execution_count": 7,
   "metadata": {
    "ExecuteTime": {
     "end_time": "2017-08-14T06:08:52.058000Z",
     "start_time": "2017-08-14T08:08:52.040000+02:00"
    }
   },
   "outputs": [
    {
     "name": "stdout",
     "output_type": "stream",
     "text": [
      "The subsequence containing the 3rd, 4th and 5th element of s3 are: ing\n"
     ]
    }
   ],
   "source": [
    "print(\"The subsequence containing the 3rd, 4th and 5th element of s3 are: %s\"%s3[2:5])"
   ]
  },
  {
   "cell_type": "markdown",
   "metadata": {},
   "source": [
    "The code-cells above show:\n",
    "* The index must be surrounded by square brackets\n",
    "* The i.th element is at index i-1\n",
    "* If `lowerbound=0`, it can be ommitted\n",
    "* Index-ranges are defined by `lowerbound:upperbound`, where `lowerbound` is the first index of the queried sequence and `upperbound` is the first index **after** the queried sequence. That is **the lower bound is inclusive and the upper bound is exclusive**.\n",
    "\n",
    "It is also possible to invert the index and count elements from the end of the sequence. For this negative indices can be applied as shown here:"
   ]
  },
  {
   "cell_type": "code",
   "execution_count": 8,
   "metadata": {
    "ExecuteTime": {
     "end_time": "2017-08-14T06:10:30.663000Z",
     "start_time": "2017-08-14T08:10:30.663000+02:00"
    }
   },
   "outputs": [
    {
     "name": "stdout",
     "output_type": "stream",
     "text": [
      "The last character of s3 is s\n",
      "The last 5 characters of s3 are: lines\n"
     ]
    }
   ],
   "source": [
    "print(\"The last character of s3 is %s\"%s3[-1])\n",
    "print(\"The last 5 characters of s3 are: %s\"%s3[-5:])"
   ]
  },
  {
   "cell_type": "markdown",
   "metadata": {},
   "source": [
    "### Useful operations on strings\n",
    "In the following some operations from [the table of operations for sequential types](#seqops) are executed on string objects."
   ]
  },
  {
   "cell_type": "markdown",
   "metadata": {},
   "source": [
    "**Test if characters are contained in strings**"
   ]
  },
  {
   "cell_type": "code",
   "execution_count": 9,
   "metadata": {
    "ExecuteTime": {
     "end_time": "2017-08-14T06:14:33.096000Z",
     "start_time": "2017-08-14T08:14:33.096000+02:00"
    }
   },
   "outputs": [
    {
     "name": "stdout",
     "output_type": "stream",
     "text": [
      "this is my first string\n",
      "True\n",
      "True\n",
      "True\n",
      "False\n",
      "True\n"
     ]
    }
   ],
   "source": [
    "print(s1)\n",
    "print('f' in s1)\n",
    "print('ing' in s1)\n",
    "print(' ' in s1)\n",
    "print('\\n' in s1)\n",
    "print('\\n' in s3)"
   ]
  },
  {
   "cell_type": "markdown",
   "metadata": {},
   "source": [
    "**Concatenate strings**"
   ]
  },
  {
   "cell_type": "code",
   "execution_count": 10,
   "metadata": {
    "ExecuteTime": {
     "end_time": "2017-08-14T06:33:18.392000Z",
     "start_time": "2017-08-14T08:33:18.392000+02:00"
    }
   },
   "outputs": [
    {
     "name": "stdout",
     "output_type": "stream",
     "text": [
      "this is my first string this is my second string\n",
      "this is my first string \tthis is my second string\n",
      "this is my first string \n",
      "this is my second string\n"
     ]
    }
   ],
   "source": [
    "print((s1 + ' ' + s2))\n",
    "print((s1 + ' \\t' + s2))\n",
    "print((s1 + ' \\n' + s2))"
   ]
  },
  {
   "cell_type": "markdown",
   "metadata": {},
   "source": [
    "As shown in the code snippet above, the **control sequence**:\n",
    "* `\\t` yields a tab-shift\n",
    "* `\\n` yields a line-break"
   ]
  },
  {
   "cell_type": "markdown",
   "metadata": {},
   "source": [
    "**Replicate strings:**"
   ]
  },
  {
   "cell_type": "code",
   "execution_count": 11,
   "metadata": {
    "ExecuteTime": {
     "end_time": "2017-08-14T06:17:51.480000Z",
     "start_time": "2017-08-14T08:17:51.473000+02:00"
    }
   },
   "outputs": [
    {
     "data": {
      "text/plain": [
       "'abc abc abc '"
      ]
     },
     "execution_count": 11,
     "metadata": {},
     "output_type": "execute_result"
    }
   ],
   "source": [
    "'abc '*3"
   ]
  },
  {
   "cell_type": "markdown",
   "metadata": {},
   "source": [
    "**Determine the length of a string:**"
   ]
  },
  {
   "cell_type": "code",
   "execution_count": 12,
   "metadata": {
    "ExecuteTime": {
     "end_time": "2017-08-14T06:17:54.101000Z",
     "start_time": "2017-08-14T08:17:54.097000+02:00"
    }
   },
   "outputs": [
    {
     "data": {
      "text/plain": [
       "23"
      ]
     },
     "execution_count": 12,
     "metadata": {},
     "output_type": "execute_result"
    }
   ],
   "source": [
    "len(s1)"
   ]
  },
  {
   "cell_type": "markdown",
   "metadata": {},
   "source": [
    "**Determine index of first occurence of characters in string:**"
   ]
  },
  {
   "cell_type": "code",
   "execution_count": 13,
   "metadata": {
    "ExecuteTime": {
     "end_time": "2017-07-04T06:29:43.861000Z",
     "start_time": "2017-07-04T08:29:43.855000+02:00"
    }
   },
   "outputs": [
    {
     "name": "stdout",
     "output_type": "stream",
     "text": [
      "2\n",
      "8\n"
     ]
    }
   ],
   "source": [
    "print(s1.index('i'))\n",
    "print(s1.index('my'))"
   ]
  },
  {
   "cell_type": "markdown",
   "metadata": {},
   "source": [
    "**Count fequency of characters in string:**"
   ]
  },
  {
   "cell_type": "code",
   "execution_count": 14,
   "metadata": {
    "ExecuteTime": {
     "end_time": "2017-08-14T06:18:44.741000Z",
     "start_time": "2017-08-14T08:18:44.741000+02:00"
    }
   },
   "outputs": [
    {
     "name": "stdout",
     "output_type": "stream",
     "text": [
      "4\n",
      "1\n"
     ]
    }
   ],
   "source": [
    "print(s1.count('i'))\n",
    "print(s1.count('my'))"
   ]
  },
  {
   "cell_type": "markdown",
   "metadata": {},
   "source": [
    "### Summary of useful string methods\n",
    "The following table summarizes the most important methods on strings (in addition to the [operators on general sequential datatypes](#seqops), which are also applicable to strings).\n",
    "\n",
    "| Method | Result | \n",
    "| --- | --- | \n",
    "| `s.split(sep)` | Return a list of the words in the string, using `sep` as the delimiter string. | \n",
    "| `s.splitlines()` | Return a list of the lines in the string, breaking at line boundaries. | \n",
    "| `s.strip([chars])` | Return a copy of the string with the leading and trailing characters removed. The `chars` argument is a string specifying the set of characters to be removed. | \n",
    "| `s.find(x [,start[,end]])` | Return the lowest index in the string where substring `x` is found within the slice `s[start:end]`. Returns -1 if `x` is not found. | \n",
    "| `s.rfind(x [,start][,end])` | Return the highest index in the string where substring `x` is found within the slice `s[start:end]`. Returns -1 if `x` is not found. | \n",
    "| `s.replace(old,new)` | Return a copy of the string with all occurrences of substring `old` replaced by string `new`. | \n",
    "| `s.lower()` | Return a copy of the string with all characters converted to lowercase. | \n",
    "| `s.upper()` | Return a copy of the string with all characters converted to uppercase. |\n",
    "\n",
    "A description of all methods, applicable to strings, is provided in the [official Python documentation](https://docs.python.org/2.7/library/stdtypes.html#string-methods)."
   ]
  },
  {
   "cell_type": "markdown",
   "metadata": {},
   "source": [
    "## Lists"
   ]
  },
  {
   "cell_type": "markdown",
   "metadata": {},
   "source": [
    "In Python lists can contain elements of different type. Same as the type *string*, the type *list* also belongs to the category of *sequential types*. Hence, the operations in the [table of operations for sequential types](#seqops) are also applicable to lists.\n",
    "\n",
    "Lists can be generated for example by writing the elements of the list comma-separated into **square brackets**:"
   ]
  },
  {
   "cell_type": "code",
   "execution_count": 15,
   "metadata": {
    "ExecuteTime": {
     "end_time": "2017-07-04T06:29:43.962000Z",
     "start_time": "2017-07-04T08:29:43.952000+02:00"
    }
   },
   "outputs": [
    {
     "name": "stdout",
     "output_type": "stream",
     "text": [
      "[1, 2, 5.3, 'word', True, ['a', 'b', 'c']]\n",
      "<class 'list'>\n"
     ]
    }
   ],
   "source": [
    "l1=[1,2,5.3,\"word\",True,['a','b','c']]\n",
    "print(l1)\n",
    "print(type(l1))"
   ]
  },
  {
   "cell_type": "markdown",
   "metadata": {},
   "source": [
    "Empty lists can be generated either by `mylist = list()` or by `mylist = []`:\n"
   ]
  },
  {
   "cell_type": "code",
   "execution_count": 16,
   "metadata": {
    "ExecuteTime": {
     "end_time": "2017-07-04T06:29:43.982000Z",
     "start_time": "2017-07-04T08:29:43.970000+02:00"
    }
   },
   "outputs": [
    {
     "name": "stdout",
     "output_type": "stream",
     "text": [
      "[]\n",
      "<class 'list'>\n"
     ]
    }
   ],
   "source": [
    "l2=list() \n",
    "print(l2)\n",
    "print(type(l2))"
   ]
  },
  {
   "cell_type": "markdown",
   "metadata": {},
   "source": [
    "Structured numeric lists can be generated by the function \n",
    "\n",
    "```range([start,]stop[,step])``` \n",
    "\n",
    "as shown below. The optional arguments start (default=0) and step (default=1) define the start and the stepsize of the integer range. The range terminates at the stop-value (exclusive):"
   ]
  },
  {
   "cell_type": "code",
   "execution_count": 17,
   "metadata": {
    "ExecuteTime": {
     "end_time": "2017-07-04T06:29:43.998000Z",
     "start_time": "2017-07-04T08:29:43.987000+02:00"
    }
   },
   "outputs": [
    {
     "name": "stdout",
     "output_type": "stream",
     "text": [
      "[0, 1, 2, 3, 4, 5, 6, 7, 8, 9]\n",
      "[20, 22, 24, 26, 28]\n",
      "<class 'list'>\n"
     ]
    }
   ],
   "source": [
    "l3=list(range(10))\n",
    "print(l3)\n",
    "l4=list(range(20,29,2))\n",
    "print(l4)\n",
    "print(type(l4))"
   ]
  },
  {
   "cell_type": "markdown",
   "metadata": {},
   "source": [
    "### Accessing list elements"
   ]
  },
  {
   "cell_type": "markdown",
   "metadata": {},
   "source": [
    "Same as with strings, each component of a list can be accessed by it's index and multiple list elements can be sliced by an index-range in the same way as described in the [table of operations for sequential types](#seqops). "
   ]
  },
  {
   "cell_type": "code",
   "execution_count": 18,
   "metadata": {
    "ExecuteTime": {
     "end_time": "2017-07-04T06:29:44.016000Z",
     "start_time": "2017-07-04T08:29:44.004000+02:00"
    }
   },
   "outputs": [
    {
     "name": "stdout",
     "output_type": "stream",
     "text": [
      "[1, 2, 5.3, 'word', True, ['a', 'b', 'c']]\n",
      "2\n",
      "['a', 'b', 'c']\n",
      "[2, 5.3]\n",
      "[5.3, 'word', True, ['a', 'b', 'c']]\n"
     ]
    }
   ],
   "source": [
    "print(l1)\n",
    "print(l1[1])\n",
    "print(l1[-1])\n",
    "print(l1[1:3])\n",
    "print(l1[2:])"
   ]
  },
  {
   "cell_type": "markdown",
   "metadata": {},
   "source": [
    "The last element of list `l1` is a list itself. Elements of the inner list can be accessed as follows: "
   ]
  },
  {
   "cell_type": "code",
   "execution_count": 19,
   "metadata": {
    "ExecuteTime": {
     "end_time": "2017-07-04T06:29:44.034000Z",
     "start_time": "2017-07-04T08:29:44.025000+02:00"
    }
   },
   "outputs": [
    {
     "name": "stdout",
     "output_type": "stream",
     "text": [
      "b\n"
     ]
    }
   ],
   "source": [
    "print(l1[-1][1])"
   ]
  },
  {
   "cell_type": "markdown",
   "metadata": {},
   "source": [
    "### Modifying Lists\n",
    "**Modify single list elements:**"
   ]
  },
  {
   "cell_type": "code",
   "execution_count": 20,
   "metadata": {
    "ExecuteTime": {
     "end_time": "2017-07-04T06:29:44.054000Z",
     "start_time": "2017-07-04T08:29:44.041000+02:00"
    }
   },
   "outputs": [
    {
     "name": "stdout",
     "output_type": "stream",
     "text": [
      "[2, 4, 6]\n",
      "[2, 4, 20]\n",
      "[2, 4, [21, 22]]\n"
     ]
    }
   ],
   "source": [
    "l4=[2,4,6]\n",
    "print(l4)\n",
    "l4[2]=20 #assign a new value to the third element\n",
    "print(l4)\n",
    "l4[2]=[21,22] #assign a new list to the third element\n",
    "print(l4)"
   ]
  },
  {
   "cell_type": "markdown",
   "metadata": {},
   "source": [
    "**Modifying multiple list elements:**"
   ]
  },
  {
   "cell_type": "code",
   "execution_count": 21,
   "metadata": {
    "ExecuteTime": {
     "end_time": "2017-07-04T06:29:44.069000Z",
     "start_time": "2017-07-04T08:29:44.061000+02:00"
    }
   },
   "outputs": [
    {
     "name": "stdout",
     "output_type": "stream",
     "text": [
      "[10, 11, [21, 22]]\n"
     ]
    }
   ],
   "source": [
    "l4[:2]=[10,11] #assign new values to the first two elements\n",
    "print(l4)"
   ]
  },
  {
   "cell_type": "markdown",
   "metadata": {},
   "source": [
    "**Append and Concatenate Lists:**\n",
    "\n",
    "New elements can be attached to the end of the list by the `append` function:"
   ]
  },
  {
   "cell_type": "code",
   "execution_count": 22,
   "metadata": {
    "ExecuteTime": {
     "end_time": "2017-07-04T06:29:44.085000Z",
     "start_time": "2017-07-04T08:29:44.076000+02:00"
    }
   },
   "outputs": [
    {
     "name": "stdout",
     "output_type": "stream",
     "text": [
      "['a']\n",
      "['a', 'b']\n"
     ]
    }
   ],
   "source": [
    "l5=[]\n",
    "l5.append('a') #attach 'a' to the end of the list\n",
    "print(l5)\n",
    "l5.append('b') #attach 'b' to the end of the list\n",
    "print(l5)"
   ]
  },
  {
   "cell_type": "markdown",
   "metadata": {},
   "source": [
    "Note that if the argument of `append(anotherlist)` is another list, then not the elements of `anotherlist` are attached to the list. Instead a single element, which is a list, is appended. However, using the `extend(anotherlist)`-function attaches the single elements of `anotherlist` to the given list. The same effect can be obtained by concatenation of the two lists by the `+`-operator:  "
   ]
  },
  {
   "cell_type": "code",
   "execution_count": 23,
   "metadata": {
    "ExecuteTime": {
     "end_time": "2017-07-04T06:29:44.110000Z",
     "start_time": "2017-07-04T08:29:44.093000+02:00"
    },
    "scrolled": false
   },
   "outputs": [
    {
     "name": "stdout",
     "output_type": "stream",
     "text": [
      "['a', 'b', ['c', 'd', 'e']]\n",
      "3\n",
      "pop() returns and remvoves the element at the last index of the list:   ['c', 'd', 'e']\n",
      "After pop() the former topmost element is removed:   ['a', 'b']\n",
      "['a', 'b']\n",
      "List extended by another list:  ['a', 'b', 'c', 'd', 'e']\n",
      "Another list extension:  ['a', 'b', 'c', 'd', 'e', 'e', 'f', 'g']\n"
     ]
    }
   ],
   "source": [
    "l5.append(['c','d','e'])\n",
    "print(l5)\n",
    "print(len(l5))\n",
    "print(\"pop() returns and remvoves the element at the last index of the list:  \",l5.pop())\n",
    "print(\"After pop() the former topmost element is removed:  \",l5)\n",
    "print(l5)\n",
    "l5.extend(['c','d','e'])\n",
    "print(\"List extended by another list: \",l5)\n",
    "print(\"Another list extension: \",l5 + ['e','f','g'])"
   ]
  },
  {
   "cell_type": "markdown",
   "metadata": {},
   "source": [
    "**Remove list elements:**"
   ]
  },
  {
   "cell_type": "code",
   "execution_count": 24,
   "metadata": {
    "ExecuteTime": {
     "end_time": "2017-07-04T06:29:44.125000Z",
     "start_time": "2017-07-04T08:29:44.115000+02:00"
    }
   },
   "outputs": [
    {
     "name": "stdout",
     "output_type": "stream",
     "text": [
      "['a', 'b', 'c', 'd', 'e']\n",
      "['a', 'c', 'd', 'e']\n",
      "['e']\n"
     ]
    }
   ],
   "source": [
    "print(l5)\n",
    "l5[1:2]=[] #remove the element at index 1\n",
    "print(l5)\n",
    "l5[:3]=[] #remove the first three list elements\n",
    "print(l5)"
   ]
  },
  {
   "cell_type": "markdown",
   "metadata": {},
   "source": [
    "**Insert elements at certain positions**"
   ]
  },
  {
   "cell_type": "code",
   "execution_count": 25,
   "metadata": {
    "ExecuteTime": {
     "end_time": "2017-07-04T06:29:44.144000Z",
     "start_time": "2017-07-04T08:29:44.133000+02:00"
    }
   },
   "outputs": [
    {
     "name": "stdout",
     "output_type": "stream",
     "text": [
      "['A', 'e']\n",
      "['A', ['B', 'C'], 'e']\n"
     ]
    }
   ],
   "source": [
    "l5.insert(0,'A') #insert 'A' at first position\n",
    "print(l5)\n",
    "l5.insert(1,['B','C']) #insert a list at second position\n",
    "print(l5)"
   ]
  },
  {
   "cell_type": "markdown",
   "metadata": {},
   "source": [
    "### Summary of useful list methods\n",
    "The following table summarizes the most important methods on lists (in addition to the [operators on general sequential datatypes](#seqops), which are also applicable to lists). \n",
    "\n",
    "| Method | Result | \n",
    "| --- | --- | \n",
    "| `list.append(x)` | Add an item to the end of the list | \n",
    "| `list.extend(L)` | Extend the list by appending all the items in the given list | \n",
    "| `list.insert(i,x)` | Insert `x` at position `i`. | \n",
    "| `list.remove(x)` | Remove the first item from the list whose value is `x`. It is an error if there is no such item. | \n",
    "| `list.pop([i])` | Remove the item at position `i` in the list, and return it. If no index is specified, the last element is removed and returned. | \n",
    "| `list.index(x)` | Return the index in the list of the first item whose value is `x`. It is an error if there is no such item. | \n",
    "| `list.count(x)` | Return the number of times `x` appears in the list. | \n",
    "| `list.sort()` | Sort the items of the list | \n",
    "| `list.reverse()` | Reverse the elements of the list | \n"
   ]
  },
  {
   "cell_type": "markdown",
   "metadata": {},
   "source": [
    "### Copy Reference, Shallow Copy, Deep Copy\n",
    ">**Note**: The distinction between the three types of copying explained in this subsection refers not only to lists, but to all objects in Python.\n",
    "\n",
    "#### Multiple references for a single object\n",
    "Assume that `mylist` is a list that shall be copied. The simple assignment ```newlist=mylist``` does not create a copy of `mylist`. Assignments of this type allow, that one and the same list can be accessed by multiple names (**references**). The effect is shown in the example below. There `l4` refers to the same list as `l6`. If the list is modified via `l4` the modification can also be seen through the other reference to the list `l6`:"
   ]
  },
  {
   "cell_type": "code",
   "execution_count": 26,
   "metadata": {
    "ExecuteTime": {
     "end_time": "2017-07-04T06:29:44.163000Z",
     "start_time": "2017-07-04T08:29:44.150000+02:00"
    }
   },
   "outputs": [
    {
     "name": "stdout",
     "output_type": "stream",
     "text": [
      "l6: \t [0, 1, 2, 3, 4, 5, 6, 7, 8, 9]\n",
      "l4 after modification: \t \t [0, 1, 99, 3, 4, 5, 6, 7, 8, 9]\n",
      "l6 after modification of l4: \t [0, 1, 99, 3, 4, 5, 6, 7, 8, 9]\n"
     ]
    }
   ],
   "source": [
    "l6=list(range(10))\n",
    "print(\"l6: \\t\",l6)\n",
    "l4=l6\n",
    "l4[2]=99\n",
    "print(\"l4 after modification: \\t \\t\",l4)\n",
    "print(\"l6 after modification of l4: \\t\",l6)"
   ]
  },
  {
   "cell_type": "markdown",
   "metadata": {},
   "source": [
    "A list is an object (the blue rectangle in the following figure) which is assigned to a variable name (`ref1` in the figure below). The variable name points to the object."
   ]
  },
  {
   "cell_type": "code",
   "execution_count": 27,
   "metadata": {},
   "outputs": [],
   "source": [
    "# 1. install homebrew (see https://brew.sh/index_de) \n",
    "# 2. !brew install graphviz\n",
    "#!pip install graphviz"
   ]
  },
  {
   "cell_type": "code",
   "execution_count": 28,
   "metadata": {
    "ExecuteTime": {
     "end_time": "2017-09-27T18:33:29.045000Z",
     "start_time": "2017-09-27T18:33:28.792000Z"
    },
    "hide_input": true
   },
   "outputs": [
    {
     "data": {
      "image/svg+xml": [
       "<?xml version=\"1.0\" encoding=\"UTF-8\" standalone=\"no\"?>\n",
       "<!DOCTYPE svg PUBLIC \"-//W3C//DTD SVG 1.1//EN\"\n",
       " \"http://www.w3.org/Graphics/SVG/1.1/DTD/svg11.dtd\">\n",
       "<!-- Generated by graphviz version 2.43.0 (0)\n",
       " -->\n",
       "<!-- Title: %3 Pages: 1 -->\n",
       "<svg width=\"136pt\" height=\"117pt\"\n",
       " viewBox=\"0.00 0.00 136.32 117.00\" xmlns=\"http://www.w3.org/2000/svg\" xmlns:xlink=\"http://www.w3.org/1999/xlink\">\n",
       "<g id=\"graph0\" class=\"graph\" transform=\"scale(1 1) rotate(0) translate(4 113)\">\n",
       "<title>%3</title>\n",
       "<polygon fill=\"white\" stroke=\"transparent\" points=\"-4,4 -4,-113 132.32,-113 132.32,4 -4,4\"/>\n",
       "<!-- B -->\n",
       "<g id=\"node1\" class=\"node\">\n",
       "<title>B</title>\n",
       "<ellipse fill=\"none\" stroke=\"black\" cx=\"27\" cy=\"-91\" rx=\"27\" ry=\"18\"/>\n",
       "<text text-anchor=\"middle\" x=\"27\" y=\"-86.8\" font-family=\"Times,serif\" font-size=\"14.00\">ref1</text>\n",
       "</g>\n",
       "<!-- A -->\n",
       "<g id=\"node2\" class=\"node\">\n",
       "<title>A</title>\n",
       "<polygon fill=\"none\" stroke=\"blue\" points=\"15.68,-0.5 15.68,-36.5 128.32,-36.5 128.32,-0.5 15.68,-0.5\"/>\n",
       "<text text-anchor=\"middle\" x=\"26.79\" y=\"-14.3\" font-family=\"Times,serif\" font-size=\"14.00\">a</text>\n",
       "<polyline fill=\"none\" stroke=\"blue\" points=\"37.89,-0.5 37.89,-36.5 \"/>\n",
       "<text text-anchor=\"middle\" x=\"49.39\" y=\"-14.3\" font-family=\"Times,serif\" font-size=\"14.00\">b</text>\n",
       "<polyline fill=\"none\" stroke=\"blue\" points=\"60.89,-0.5 60.89,-36.5 \"/>\n",
       "<text text-anchor=\"middle\" x=\"72\" y=\"-14.3\" font-family=\"Times,serif\" font-size=\"14.00\">c</text>\n",
       "<polyline fill=\"none\" stroke=\"blue\" points=\"83.11,-0.5 83.11,-36.5 \"/>\n",
       "<text text-anchor=\"middle\" x=\"94.61\" y=\"-14.3\" font-family=\"Times,serif\" font-size=\"14.00\">d</text>\n",
       "<polyline fill=\"none\" stroke=\"blue\" points=\"106.11,-0.5 106.11,-36.5 \"/>\n",
       "<text text-anchor=\"middle\" x=\"117.21\" y=\"-14.3\" font-family=\"Times,serif\" font-size=\"14.00\">e</text>\n",
       "</g>\n",
       "<!-- B&#45;&gt;A -->\n",
       "<g id=\"edge1\" class=\"edge\">\n",
       "<title>B&#45;&gt;A:f0</title>\n",
       "<path fill=\"none\" stroke=\"black\" d=\"M27,-72.81C27,-65.28 27,-56.1 27,-47.06\"/>\n",
       "<polygon fill=\"black\" stroke=\"black\" points=\"30.5,-47 27,-37 23.5,-47 30.5,-47\"/>\n",
       "</g>\n",
       "</g>\n",
       "</svg>\n"
      ],
      "text/plain": [
       "<graphviz.dot.Digraph at 0x7ffb2f16b890>"
      ]
     },
     "execution_count": 28,
     "metadata": {},
     "output_type": "execute_result"
    }
   ],
   "source": [
    "from graphviz import Digraph\n",
    "dot = Digraph()\n",
    "dot.node('B', 'ref1')\n",
    "dot.node('A', '<f0> a | <f1> b | <f2> c | <f3> d| <f4> e ',shape=\"record\",color=\"blue\")\n",
    "dot.edge('B', 'A:f0')\n",
    "dot"
   ]
  },
  {
   "cell_type": "markdown",
   "metadata": {
    "hide_input": true
   },
   "source": [
    "The assignment `ref1=ref2` just generates a new reference `ref2`, which points to the same object as `ref1`. "
   ]
  },
  {
   "cell_type": "code",
   "execution_count": 29,
   "metadata": {
    "ExecuteTime": {
     "end_time": "2017-09-27T18:33:32.307000Z",
     "start_time": "2017-09-27T18:33:32.244000Z"
    },
    "hide_input": true,
    "scrolled": true
   },
   "outputs": [
    {
     "data": {
      "image/svg+xml": [
       "<?xml version=\"1.0\" encoding=\"UTF-8\" standalone=\"no\"?>\n",
       "<!DOCTYPE svg PUBLIC \"-//W3C//DTD SVG 1.1//EN\"\n",
       " \"http://www.w3.org/Graphics/SVG/1.1/DTD/svg11.dtd\">\n",
       "<!-- Generated by graphviz version 2.43.0 (0)\n",
       " -->\n",
       "<!-- Title: %3 Pages: 1 -->\n",
       "<svg width=\"172pt\" height=\"117pt\"\n",
       " viewBox=\"0.00 0.00 172.32 117.00\" xmlns=\"http://www.w3.org/2000/svg\" xmlns:xlink=\"http://www.w3.org/1999/xlink\">\n",
       "<g id=\"graph0\" class=\"graph\" transform=\"scale(1 1) rotate(0) translate(4 113)\">\n",
       "<title>%3</title>\n",
       "<polygon fill=\"white\" stroke=\"transparent\" points=\"-4,4 -4,-113 168.32,-113 168.32,4 -4,4\"/>\n",
       "<!-- B -->\n",
       "<g id=\"node1\" class=\"node\">\n",
       "<title>B</title>\n",
       "<ellipse fill=\"none\" stroke=\"black\" cx=\"27\" cy=\"-91\" rx=\"27\" ry=\"18\"/>\n",
       "<text text-anchor=\"middle\" x=\"27\" y=\"-86.8\" font-family=\"Times,serif\" font-size=\"14.00\">ref1</text>\n",
       "</g>\n",
       "<!-- A -->\n",
       "<g id=\"node3\" class=\"node\">\n",
       "<title>A</title>\n",
       "<polygon fill=\"none\" stroke=\"blue\" points=\"51.68,-0.5 51.68,-36.5 164.32,-36.5 164.32,-0.5 51.68,-0.5\"/>\n",
       "<text text-anchor=\"middle\" x=\"62.79\" y=\"-14.3\" font-family=\"Times,serif\" font-size=\"14.00\">a</text>\n",
       "<polyline fill=\"none\" stroke=\"blue\" points=\"73.89,-0.5 73.89,-36.5 \"/>\n",
       "<text text-anchor=\"middle\" x=\"85.39\" y=\"-14.3\" font-family=\"Times,serif\" font-size=\"14.00\">b</text>\n",
       "<polyline fill=\"none\" stroke=\"blue\" points=\"96.89,-0.5 96.89,-36.5 \"/>\n",
       "<text text-anchor=\"middle\" x=\"108\" y=\"-14.3\" font-family=\"Times,serif\" font-size=\"14.00\">c</text>\n",
       "<polyline fill=\"none\" stroke=\"blue\" points=\"119.11,-0.5 119.11,-36.5 \"/>\n",
       "<text text-anchor=\"middle\" x=\"130.61\" y=\"-14.3\" font-family=\"Times,serif\" font-size=\"14.00\">d</text>\n",
       "<polyline fill=\"none\" stroke=\"blue\" points=\"142.11,-0.5 142.11,-36.5 \"/>\n",
       "<text text-anchor=\"middle\" x=\"153.21\" y=\"-14.3\" font-family=\"Times,serif\" font-size=\"14.00\">e</text>\n",
       "</g>\n",
       "<!-- B&#45;&gt;A -->\n",
       "<g id=\"edge1\" class=\"edge\">\n",
       "<title>B&#45;&gt;A:f0</title>\n",
       "<path fill=\"none\" stroke=\"black\" d=\"M42.89,-76.38C50.35,-68.78 58.3,-58.56 61.52,-47.22\"/>\n",
       "<polygon fill=\"black\" stroke=\"black\" points=\"65.03,-47.4 63,-37 58.1,-46.4 65.03,-47.4\"/>\n",
       "</g>\n",
       "<!-- L -->\n",
       "<g id=\"node2\" class=\"node\">\n",
       "<title>L</title>\n",
       "<ellipse fill=\"none\" stroke=\"black\" cx=\"99\" cy=\"-91\" rx=\"27\" ry=\"18\"/>\n",
       "<text text-anchor=\"middle\" x=\"99\" y=\"-86.8\" font-family=\"Times,serif\" font-size=\"14.00\">ref2</text>\n",
       "</g>\n",
       "<!-- L&#45;&gt;A -->\n",
       "<g id=\"edge2\" class=\"edge\">\n",
       "<title>L&#45;&gt;A:f0</title>\n",
       "<path fill=\"none\" stroke=\"black\" d=\"M83.11,-76.38C75.65,-68.78 67.7,-58.56 64.48,-47.22\"/>\n",
       "<polygon fill=\"black\" stroke=\"black\" points=\"67.9,-46.4 63,-37 60.97,-47.4 67.9,-46.4\"/>\n",
       "</g>\n",
       "</g>\n",
       "</svg>\n"
      ],
      "text/plain": [
       "<graphviz.dot.Digraph at 0x7ffb2f8e6f10>"
      ]
     },
     "execution_count": 29,
     "metadata": {},
     "output_type": "execute_result"
    }
   ],
   "source": [
    "dot2 = Digraph()\n",
    "dot2.node('B', 'ref1')\n",
    "dot2.node('L', 'ref2')\n",
    "dot2.node('A', '<f0> a | <f1> b | <f2> c | <f3> d| <f4> e ',shape=\"record\",color=\"blue\")\n",
    "dot2.edge('B', 'A:f0')\n",
    "dot2.edge('L', 'A:f0')\n",
    "dot2"
   ]
  },
  {
   "cell_type": "markdown",
   "metadata": {},
   "source": [
    "A modification of the list-object is visible through both references."
   ]
  },
  {
   "cell_type": "markdown",
   "metadata": {},
   "source": [
    "#### Shallow copy\n",
    "In order to generate a true copy of `mylist` one can just assign *a slice of the entire list* to the new variable by `newlist=mylist[:]`: "
   ]
  },
  {
   "cell_type": "code",
   "execution_count": 30,
   "metadata": {
    "ExecuteTime": {
     "end_time": "2017-09-27T18:33:34.980000Z",
     "start_time": "2017-09-27T18:33:34.980000Z"
    }
   },
   "outputs": [
    {
     "name": "stdout",
     "output_type": "stream",
     "text": [
      "l6:  [0, 1, 99, 3, 4, 5, 6, 7, 8, 9]\n",
      "l3 as shallow copy from l6: \t [0, 1, 99, 3, 4, 5, 6, 7, 8, 9]\n",
      "l3 after modification of l3: \t [0, 1, 100, 3, 4, 5, 6, 7, 8, 9]\n",
      "l6 after modification of l3: \t [0, 1, 99, 3, 4, 5, 6, 7, 8, 9]\n"
     ]
    }
   ],
   "source": [
    "print(\"l6: \",l6)\n",
    "l3=l6[:]\n",
    "print(\"l3 as shallow copy from l6: \\t\",l3)\n",
    "l3[2]=100\n",
    "print(\"l3 after modification of l3: \\t\",l3)\n",
    "print(\"l6 after modification of l3: \\t\",l6)"
   ]
  },
  {
   "cell_type": "markdown",
   "metadata": {},
   "source": [
    "The same kind of copy can be obtained by applying the `copy()`-function from the package `copy` as shown below:"
   ]
  },
  {
   "cell_type": "code",
   "execution_count": 31,
   "metadata": {
    "ExecuteTime": {
     "end_time": "2017-09-27T18:33:36.494000Z",
     "start_time": "2017-09-27T18:33:36.494000Z"
    }
   },
   "outputs": [
    {
     "name": "stdout",
     "output_type": "stream",
     "text": [
      "l2 as shallow copy from l6: \t [0, 1, 99, 3, 4, 5, 6, 7, 8, 9]\n",
      "l2 after modification of l2: \t [0, 1, 222, 3, 4, 5, 6, 7, 8, 9]\n",
      "l6 after modification of l2: \t [0, 1, 99, 3, 4, 5, 6, 7, 8, 9]\n"
     ]
    }
   ],
   "source": [
    "import copy\n",
    "l2=copy.copy(l6)\n",
    "print(\"l2 as shallow copy from l6: \\t\",l2)\n",
    "l2[2]=222\n",
    "print(\"l2 after modification of l2: \\t\",l2)\n",
    "print(\"l6 after modification of l2: \\t\",l6)"
   ]
  },
  {
   "cell_type": "markdown",
   "metadata": {},
   "source": [
    "As shown in the figure below the shallow copy actually generates a second list-object, with the same elements as the original list."
   ]
  },
  {
   "cell_type": "code",
   "execution_count": 32,
   "metadata": {
    "ExecuteTime": {
     "end_time": "2017-09-27T18:33:38.043000Z",
     "start_time": "2017-09-27T18:33:37.981000Z"
    },
    "hide_input": true
   },
   "outputs": [
    {
     "data": {
      "image/svg+xml": [
       "<?xml version=\"1.0\" encoding=\"UTF-8\" standalone=\"no\"?>\n",
       "<!DOCTYPE svg PUBLIC \"-//W3C//DTD SVG 1.1//EN\"\n",
       " \"http://www.w3.org/Graphics/SVG/1.1/DTD/svg11.dtd\">\n",
       "<!-- Generated by graphviz version 2.43.0 (0)\n",
       " -->\n",
       "<!-- Title: %3 Pages: 1 -->\n",
       "<svg width=\"267pt\" height=\"117pt\"\n",
       " viewBox=\"0.00 0.00 267.32 117.00\" xmlns=\"http://www.w3.org/2000/svg\" xmlns:xlink=\"http://www.w3.org/1999/xlink\">\n",
       "<g id=\"graph0\" class=\"graph\" transform=\"scale(1 1) rotate(0) translate(4 113)\">\n",
       "<title>%3</title>\n",
       "<polygon fill=\"white\" stroke=\"transparent\" points=\"-4,4 -4,-113 263.32,-113 263.32,4 -4,4\"/>\n",
       "<!-- B -->\n",
       "<g id=\"node1\" class=\"node\">\n",
       "<title>B</title>\n",
       "<ellipse fill=\"none\" stroke=\"black\" cx=\"27\" cy=\"-91\" rx=\"27\" ry=\"18\"/>\n",
       "<text text-anchor=\"middle\" x=\"27\" y=\"-86.8\" font-family=\"Times,serif\" font-size=\"14.00\">ref1</text>\n",
       "</g>\n",
       "<!-- A -->\n",
       "<g id=\"node2\" class=\"node\">\n",
       "<title>A</title>\n",
       "<polygon fill=\"none\" stroke=\"blue\" points=\"15.68,-0.5 15.68,-36.5 128.32,-36.5 128.32,-0.5 15.68,-0.5\"/>\n",
       "<text text-anchor=\"middle\" x=\"26.79\" y=\"-14.3\" font-family=\"Times,serif\" font-size=\"14.00\">a</text>\n",
       "<polyline fill=\"none\" stroke=\"blue\" points=\"37.89,-0.5 37.89,-36.5 \"/>\n",
       "<text text-anchor=\"middle\" x=\"49.39\" y=\"-14.3\" font-family=\"Times,serif\" font-size=\"14.00\">b</text>\n",
       "<polyline fill=\"none\" stroke=\"blue\" points=\"60.89,-0.5 60.89,-36.5 \"/>\n",
       "<text text-anchor=\"middle\" x=\"72\" y=\"-14.3\" font-family=\"Times,serif\" font-size=\"14.00\">c</text>\n",
       "<polyline fill=\"none\" stroke=\"blue\" points=\"83.11,-0.5 83.11,-36.5 \"/>\n",
       "<text text-anchor=\"middle\" x=\"94.61\" y=\"-14.3\" font-family=\"Times,serif\" font-size=\"14.00\">d</text>\n",
       "<polyline fill=\"none\" stroke=\"blue\" points=\"106.11,-0.5 106.11,-36.5 \"/>\n",
       "<text text-anchor=\"middle\" x=\"117.21\" y=\"-14.3\" font-family=\"Times,serif\" font-size=\"14.00\">e</text>\n",
       "</g>\n",
       "<!-- B&#45;&gt;A -->\n",
       "<g id=\"edge1\" class=\"edge\">\n",
       "<title>B&#45;&gt;A:f0</title>\n",
       "<path fill=\"none\" stroke=\"black\" d=\"M27,-72.81C27,-65.28 27,-56.1 27,-47.06\"/>\n",
       "<polygon fill=\"black\" stroke=\"black\" points=\"30.5,-47 27,-37 23.5,-47 30.5,-47\"/>\n",
       "</g>\n",
       "<!-- C -->\n",
       "<g id=\"node3\" class=\"node\">\n",
       "<title>C</title>\n",
       "<ellipse fill=\"none\" stroke=\"black\" cx=\"158\" cy=\"-91\" rx=\"27\" ry=\"18\"/>\n",
       "<text text-anchor=\"middle\" x=\"158\" y=\"-86.8\" font-family=\"Times,serif\" font-size=\"14.00\">ref2</text>\n",
       "</g>\n",
       "<!-- D -->\n",
       "<g id=\"node4\" class=\"node\">\n",
       "<title>D</title>\n",
       "<polygon fill=\"none\" stroke=\"blue\" points=\"146.68,-0.5 146.68,-36.5 259.32,-36.5 259.32,-0.5 146.68,-0.5\"/>\n",
       "<text text-anchor=\"middle\" x=\"157.79\" y=\"-14.3\" font-family=\"Times,serif\" font-size=\"14.00\">a</text>\n",
       "<polyline fill=\"none\" stroke=\"blue\" points=\"168.89,-0.5 168.89,-36.5 \"/>\n",
       "<text text-anchor=\"middle\" x=\"180.39\" y=\"-14.3\" font-family=\"Times,serif\" font-size=\"14.00\">b</text>\n",
       "<polyline fill=\"none\" stroke=\"blue\" points=\"191.89,-0.5 191.89,-36.5 \"/>\n",
       "<text text-anchor=\"middle\" x=\"203\" y=\"-14.3\" font-family=\"Times,serif\" font-size=\"14.00\">c</text>\n",
       "<polyline fill=\"none\" stroke=\"blue\" points=\"214.11,-0.5 214.11,-36.5 \"/>\n",
       "<text text-anchor=\"middle\" x=\"225.61\" y=\"-14.3\" font-family=\"Times,serif\" font-size=\"14.00\">d</text>\n",
       "<polyline fill=\"none\" stroke=\"blue\" points=\"237.11,-0.5 237.11,-36.5 \"/>\n",
       "<text text-anchor=\"middle\" x=\"248.21\" y=\"-14.3\" font-family=\"Times,serif\" font-size=\"14.00\">e</text>\n",
       "</g>\n",
       "<!-- C&#45;&gt;D -->\n",
       "<g id=\"edge2\" class=\"edge\">\n",
       "<title>C&#45;&gt;D:f0</title>\n",
       "<path fill=\"none\" stroke=\"black\" d=\"M158,-72.81C158,-65.28 158,-56.1 158,-47.06\"/>\n",
       "<polygon fill=\"black\" stroke=\"black\" points=\"161.5,-47 158,-37 154.5,-47 161.5,-47\"/>\n",
       "</g>\n",
       "</g>\n",
       "</svg>\n"
      ],
      "text/plain": [
       "<graphviz.dot.Digraph at 0x7ffb2fa7ad90>"
      ]
     },
     "execution_count": 32,
     "metadata": {},
     "output_type": "execute_result"
    }
   ],
   "source": [
    "dot3 = Digraph()\n",
    "dot3.node('B', 'ref1')\n",
    "dot3.node('A', '<f0> a | <f1> b | <f2> c | <f3> d| <f4> e ',shape=\"record\",color=\"blue\")\n",
    "dot3.node('C', 'ref2')\n",
    "dot3.node('D', '<f0> a | <f1> b | <f2> c | <f3> d| <f4> e ',shape=\"record\",color=\"blue\")\n",
    "dot3.edge('B', 'A:f0')\n",
    "dot3.edge('C', 'D:f0')\n",
    "dot3"
   ]
  },
  {
   "cell_type": "markdown",
   "metadata": {},
   "source": [
    "Assume that a list `listA` contains another list `listB` and a shallow copy `listC` of `listA` is created. If the inner list `listB` is modified via `listC`, does this modification also modify `listB` in `listA`?\n",
    "\n",
    "As can be seen in the code cell below, the inner list is actually modified for both outer lists. This means that the shallow copy, generated by `copy.copy()` creates a new list, but the lists (objects) contained in the copied list are not replicated."
   ]
  },
  {
   "cell_type": "code",
   "execution_count": 33,
   "metadata": {
    "ExecuteTime": {
     "end_time": "2017-09-27T18:33:39.639000Z",
     "start_time": "2017-09-27T18:33:39.624000Z"
    }
   },
   "outputs": [
    {
     "name": "stdout",
     "output_type": "stream",
     "text": [
      "l6: [0, [11, 12, 13], 99, 3, 4, 5, 6, 7, 8, 9]\n",
      "l7 as shallow copy from l6: \t [0, [11, 12, 13], 99, 3, 4, 5, 6, 7, 8, 9]\n",
      "l7 after modification of its sublist: \t\t [0, [11, 12, 0], 99, 3, 4, 5, 6, 7, 8, 9]\n",
      "l6 after modification of a sublist of l7: \t [0, [11, 12, 0], 99, 3, 4, 5, 6, 7, 8, 9]\n"
     ]
    }
   ],
   "source": [
    "l6[1]=[11,12,13]\n",
    "print(\"l6:\",l6)\n",
    "l7=copy.copy(l6)\n",
    "print(\"l7 as shallow copy from l6: \\t\",l7)\n",
    "l7[1][2]=0\n",
    "print(\"l7 after modification of its sublist: \\t\\t\",l7)\n",
    "print(\"l6 after modification of a sublist of l7: \\t\",l6)"
   ]
  },
  {
   "cell_type": "markdown",
   "metadata": {},
   "source": [
    "If a list contains sublists, then with shallow copies the sublists are note replicated. Both list elements point to the same sublist as shown below:"
   ]
  },
  {
   "cell_type": "code",
   "execution_count": 34,
   "metadata": {
    "ExecuteTime": {
     "end_time": "2017-09-27T18:33:41.205000Z",
     "start_time": "2017-09-27T18:33:41.142000Z"
    },
    "hide_input": true
   },
   "outputs": [
    {
     "data": {
      "image/svg+xml": [
       "<?xml version=\"1.0\" encoding=\"UTF-8\" standalone=\"no\"?>\n",
       "<!DOCTYPE svg PUBLIC \"-//W3C//DTD SVG 1.1//EN\"\n",
       " \"http://www.w3.org/Graphics/SVG/1.1/DTD/svg11.dtd\">\n",
       "<!-- Generated by graphviz version 2.43.0 (0)\n",
       " -->\n",
       "<!-- Title: %3 Pages: 1 -->\n",
       "<svg width=\"267pt\" height=\"190pt\"\n",
       " viewBox=\"0.00 0.00 267.32 190.00\" xmlns=\"http://www.w3.org/2000/svg\" xmlns:xlink=\"http://www.w3.org/1999/xlink\">\n",
       "<g id=\"graph0\" class=\"graph\" transform=\"scale(1 1) rotate(0) translate(4 186)\">\n",
       "<title>%3</title>\n",
       "<polygon fill=\"white\" stroke=\"transparent\" points=\"-4,4 -4,-186 263.32,-186 263.32,4 -4,4\"/>\n",
       "<!-- B -->\n",
       "<g id=\"node1\" class=\"node\">\n",
       "<title>B</title>\n",
       "<ellipse fill=\"none\" stroke=\"black\" cx=\"27\" cy=\"-164\" rx=\"27\" ry=\"18\"/>\n",
       "<text text-anchor=\"middle\" x=\"27\" y=\"-159.8\" font-family=\"Times,serif\" font-size=\"14.00\">ref1</text>\n",
       "</g>\n",
       "<!-- A -->\n",
       "<g id=\"node2\" class=\"node\">\n",
       "<title>A</title>\n",
       "<polygon fill=\"none\" stroke=\"blue\" points=\"15.68,-73.5 15.68,-109.5 128.32,-109.5 128.32,-73.5 15.68,-73.5\"/>\n",
       "<text text-anchor=\"middle\" x=\"26.79\" y=\"-87.3\" font-family=\"Times,serif\" font-size=\"14.00\">a</text>\n",
       "<polyline fill=\"none\" stroke=\"blue\" points=\"37.89,-73.5 37.89,-109.5 \"/>\n",
       "<text text-anchor=\"middle\" x=\"49.39\" y=\"-87.3\" font-family=\"Times,serif\" font-size=\"14.00\">b</text>\n",
       "<polyline fill=\"none\" stroke=\"blue\" points=\"60.89,-73.5 60.89,-109.5 \"/>\n",
       "<text text-anchor=\"middle\" x=\"72\" y=\"-87.3\" font-family=\"Times,serif\" font-size=\"14.00\">c</text>\n",
       "<polyline fill=\"none\" stroke=\"blue\" points=\"83.11,-73.5 83.11,-109.5 \"/>\n",
       "<text text-anchor=\"middle\" x=\"94.61\" y=\"-87.3\" font-family=\"Times,serif\" font-size=\"14.00\">d</text>\n",
       "<polyline fill=\"none\" stroke=\"blue\" points=\"106.11,-73.5 106.11,-109.5 \"/>\n",
       "<text text-anchor=\"middle\" x=\"117.21\" y=\"-87.3\" font-family=\"Times,serif\" font-size=\"14.00\">e</text>\n",
       "</g>\n",
       "<!-- B&#45;&gt;A -->\n",
       "<g id=\"edge1\" class=\"edge\">\n",
       "<title>B&#45;&gt;A:f0</title>\n",
       "<path fill=\"none\" stroke=\"black\" d=\"M27,-145.81C27,-138.28 27,-129.1 27,-120.06\"/>\n",
       "<polygon fill=\"black\" stroke=\"black\" points=\"30.5,-120 27,-110 23.5,-120 30.5,-120\"/>\n",
       "</g>\n",
       "<!-- E -->\n",
       "<g id=\"node5\" class=\"node\">\n",
       "<title>E</title>\n",
       "<polygon fill=\"none\" stroke=\"green\" points=\"102.89,-0.5 102.89,-36.5 171.11,-36.5 171.11,-0.5 102.89,-0.5\"/>\n",
       "<text text-anchor=\"middle\" x=\"114.39\" y=\"-14.3\" font-family=\"Times,serif\" font-size=\"14.00\">x</text>\n",
       "<polyline fill=\"none\" stroke=\"green\" points=\"125.89,-0.5 125.89,-36.5 \"/>\n",
       "<text text-anchor=\"middle\" x=\"137.39\" y=\"-14.3\" font-family=\"Times,serif\" font-size=\"14.00\">y</text>\n",
       "<polyline fill=\"none\" stroke=\"green\" points=\"148.89,-0.5 148.89,-36.5 \"/>\n",
       "<text text-anchor=\"middle\" x=\"160\" y=\"-14.3\" font-family=\"Times,serif\" font-size=\"14.00\">z</text>\n",
       "</g>\n",
       "<!-- A&#45;&gt;E -->\n",
       "<g id=\"edge3\" class=\"edge\">\n",
       "<title>A:f1&#45;&gt;E:f0</title>\n",
       "<path fill=\"none\" stroke=\"black\" d=\"M49,-73C49,-44.1 98.77,-63.5 111.21,-46.67\"/>\n",
       "<polygon fill=\"black\" stroke=\"black\" points=\"114.59,-47.58 114,-37 107.86,-45.64 114.59,-47.58\"/>\n",
       "</g>\n",
       "<!-- C -->\n",
       "<g id=\"node3\" class=\"node\">\n",
       "<title>C</title>\n",
       "<ellipse fill=\"none\" stroke=\"black\" cx=\"158\" cy=\"-164\" rx=\"27\" ry=\"18\"/>\n",
       "<text text-anchor=\"middle\" x=\"158\" y=\"-159.8\" font-family=\"Times,serif\" font-size=\"14.00\">ref2</text>\n",
       "</g>\n",
       "<!-- D -->\n",
       "<g id=\"node4\" class=\"node\">\n",
       "<title>D</title>\n",
       "<polygon fill=\"none\" stroke=\"blue\" points=\"146.68,-73.5 146.68,-109.5 259.32,-109.5 259.32,-73.5 146.68,-73.5\"/>\n",
       "<text text-anchor=\"middle\" x=\"157.79\" y=\"-87.3\" font-family=\"Times,serif\" font-size=\"14.00\">a</text>\n",
       "<polyline fill=\"none\" stroke=\"blue\" points=\"168.89,-73.5 168.89,-109.5 \"/>\n",
       "<text text-anchor=\"middle\" x=\"180.39\" y=\"-87.3\" font-family=\"Times,serif\" font-size=\"14.00\">b</text>\n",
       "<polyline fill=\"none\" stroke=\"blue\" points=\"191.89,-73.5 191.89,-109.5 \"/>\n",
       "<text text-anchor=\"middle\" x=\"203\" y=\"-87.3\" font-family=\"Times,serif\" font-size=\"14.00\">c</text>\n",
       "<polyline fill=\"none\" stroke=\"blue\" points=\"214.11,-73.5 214.11,-109.5 \"/>\n",
       "<text text-anchor=\"middle\" x=\"225.61\" y=\"-87.3\" font-family=\"Times,serif\" font-size=\"14.00\">d</text>\n",
       "<polyline fill=\"none\" stroke=\"blue\" points=\"237.11,-73.5 237.11,-109.5 \"/>\n",
       "<text text-anchor=\"middle\" x=\"248.21\" y=\"-87.3\" font-family=\"Times,serif\" font-size=\"14.00\">e</text>\n",
       "</g>\n",
       "<!-- C&#45;&gt;D -->\n",
       "<g id=\"edge2\" class=\"edge\">\n",
       "<title>C&#45;&gt;D:f0</title>\n",
       "<path fill=\"none\" stroke=\"black\" d=\"M158,-145.81C158,-138.28 158,-129.1 158,-120.06\"/>\n",
       "<polygon fill=\"black\" stroke=\"black\" points=\"161.5,-120 158,-110 154.5,-120 161.5,-120\"/>\n",
       "</g>\n",
       "<!-- D&#45;&gt;E -->\n",
       "<g id=\"edge4\" class=\"edge\">\n",
       "<title>D:f1&#45;&gt;E:f0</title>\n",
       "<path fill=\"none\" stroke=\"black\" d=\"M180,-73C180,-43.76 129.47,-63.71 116.84,-46.77\"/>\n",
       "<polygon fill=\"black\" stroke=\"black\" points=\"120.15,-45.63 114,-37 113.43,-47.58 120.15,-45.63\"/>\n",
       "</g>\n",
       "</g>\n",
       "</svg>\n"
      ],
      "text/plain": [
       "<graphviz.dot.Digraph at 0x7ffb2fa7ca50>"
      ]
     },
     "execution_count": 34,
     "metadata": {},
     "output_type": "execute_result"
    }
   ],
   "source": [
    "dot3 = Digraph()\n",
    "dot3.node('B', 'ref1')\n",
    "dot3.node('A', '<f0> a | <f1> b | <f2> c | <f3> d| <f4> e ',shape=\"record\",color=\"blue\")\n",
    "dot3.node('C', 'ref2')\n",
    "dot3.node('D', '<f0> a | <f1> b | <f2> c | <f3> d| <f4> e ',shape=\"record\",color=\"blue\")\n",
    "dot3.node('E', '<f0> x | <f1> y | <f2> z ',shape=\"record\",color=\"green\")\n",
    "dot3.edge('B', 'A:f0')\n",
    "dot3.edge('C', 'D:f0')\n",
    "dot3.edge('A:f1', 'E:f0')\n",
    "dot3.edge('D:f1', 'E:f0')\n",
    "dot3"
   ]
  },
  {
   "cell_type": "markdown",
   "metadata": {
    "hide_input": true
   },
   "source": [
    "#### Deep copy\n",
    "If all objects within lists shall really be replicated, then the `deepcopy()`-function from the `copy`-package can be applied as shown below:"
   ]
  },
  {
   "cell_type": "code",
   "execution_count": 35,
   "metadata": {
    "ExecuteTime": {
     "end_time": "2017-09-27T18:33:42.986000Z",
     "start_time": "2017-09-27T18:33:42.986000Z"
    }
   },
   "outputs": [
    {
     "name": "stdout",
     "output_type": "stream",
     "text": [
      "[0, [11, 12, 13], 99, 3, 4, 5, 6, 7, 8, 9]\n",
      "l7 as deep copy from l6: \t [0, [11, 12, 13], 99, 3, 4, 5, 6, 7, 8, 9]\n",
      "l8 after modification of its sublist: \t\t [0, [11, 12, 0], 99, 3, 4, 5, 6, 7, 8, 9]\n",
      "l6 after modification of a sublist of l8: \t [0, [11, 12, 13], 99, 3, 4, 5, 6, 7, 8, 9]\n"
     ]
    }
   ],
   "source": [
    "l6[1]=[11,12,13]\n",
    "print(l6)\n",
    "l8=copy.deepcopy(l6)\n",
    "print(\"l7 as deep copy from l6: \\t\",l8)\n",
    "l8[1][2]=0\n",
    "print(\"l8 after modification of its sublist: \\t\\t\",l8)\n",
    "print(\"l6 after modification of a sublist of l8: \\t\",l6)"
   ]
  },
  {
   "cell_type": "markdown",
   "metadata": {},
   "source": [
    "As shown below a deepcopy also replicates all sublists."
   ]
  },
  {
   "cell_type": "code",
   "execution_count": 36,
   "metadata": {
    "ExecuteTime": {
     "end_time": "2017-09-27T18:33:44.583000Z",
     "start_time": "2017-09-27T18:33:44.520000Z"
    },
    "hide_input": true
   },
   "outputs": [
    {
     "data": {
      "image/svg+xml": [
       "<?xml version=\"1.0\" encoding=\"UTF-8\" standalone=\"no\"?>\n",
       "<!DOCTYPE svg PUBLIC \"-//W3C//DTD SVG 1.1//EN\"\n",
       " \"http://www.w3.org/Graphics/SVG/1.1/DTD/svg11.dtd\">\n",
       "<!-- Generated by graphviz version 2.43.0 (0)\n",
       " -->\n",
       "<!-- Title: %3 Pages: 1 -->\n",
       "<svg width=\"267pt\" height=\"190pt\"\n",
       " viewBox=\"0.00 0.00 267.32 190.00\" xmlns=\"http://www.w3.org/2000/svg\" xmlns:xlink=\"http://www.w3.org/1999/xlink\">\n",
       "<g id=\"graph0\" class=\"graph\" transform=\"scale(1 1) rotate(0) translate(4 186)\">\n",
       "<title>%3</title>\n",
       "<polygon fill=\"white\" stroke=\"transparent\" points=\"-4,4 -4,-186 263.32,-186 263.32,4 -4,4\"/>\n",
       "<!-- B -->\n",
       "<g id=\"node1\" class=\"node\">\n",
       "<title>B</title>\n",
       "<ellipse fill=\"none\" stroke=\"black\" cx=\"27\" cy=\"-164\" rx=\"27\" ry=\"18\"/>\n",
       "<text text-anchor=\"middle\" x=\"27\" y=\"-159.8\" font-family=\"Times,serif\" font-size=\"14.00\">ref1</text>\n",
       "</g>\n",
       "<!-- A -->\n",
       "<g id=\"node2\" class=\"node\">\n",
       "<title>A</title>\n",
       "<polygon fill=\"none\" stroke=\"blue\" points=\"15.68,-73.5 15.68,-109.5 128.32,-109.5 128.32,-73.5 15.68,-73.5\"/>\n",
       "<text text-anchor=\"middle\" x=\"26.79\" y=\"-87.3\" font-family=\"Times,serif\" font-size=\"14.00\">a</text>\n",
       "<polyline fill=\"none\" stroke=\"blue\" points=\"37.89,-73.5 37.89,-109.5 \"/>\n",
       "<text text-anchor=\"middle\" x=\"49.39\" y=\"-87.3\" font-family=\"Times,serif\" font-size=\"14.00\">b</text>\n",
       "<polyline fill=\"none\" stroke=\"blue\" points=\"60.89,-73.5 60.89,-109.5 \"/>\n",
       "<text text-anchor=\"middle\" x=\"72\" y=\"-87.3\" font-family=\"Times,serif\" font-size=\"14.00\">c</text>\n",
       "<polyline fill=\"none\" stroke=\"blue\" points=\"83.11,-73.5 83.11,-109.5 \"/>\n",
       "<text text-anchor=\"middle\" x=\"94.61\" y=\"-87.3\" font-family=\"Times,serif\" font-size=\"14.00\">d</text>\n",
       "<polyline fill=\"none\" stroke=\"blue\" points=\"106.11,-73.5 106.11,-109.5 \"/>\n",
       "<text text-anchor=\"middle\" x=\"117.21\" y=\"-87.3\" font-family=\"Times,serif\" font-size=\"14.00\">e</text>\n",
       "</g>\n",
       "<!-- B&#45;&gt;A -->\n",
       "<g id=\"edge1\" class=\"edge\">\n",
       "<title>B&#45;&gt;A:f0</title>\n",
       "<path fill=\"none\" stroke=\"black\" d=\"M27,-145.81C27,-138.28 27,-129.1 27,-120.06\"/>\n",
       "<polygon fill=\"black\" stroke=\"black\" points=\"30.5,-120 27,-110 23.5,-120 30.5,-120\"/>\n",
       "</g>\n",
       "<!-- E -->\n",
       "<g id=\"node5\" class=\"node\">\n",
       "<title>E</title>\n",
       "<polygon fill=\"none\" stroke=\"green\" points=\"37.89,-0.5 37.89,-36.5 106.11,-36.5 106.11,-0.5 37.89,-0.5\"/>\n",
       "<text text-anchor=\"middle\" x=\"49.39\" y=\"-14.3\" font-family=\"Times,serif\" font-size=\"14.00\">x</text>\n",
       "<polyline fill=\"none\" stroke=\"green\" points=\"60.89,-0.5 60.89,-36.5 \"/>\n",
       "<text text-anchor=\"middle\" x=\"72.39\" y=\"-14.3\" font-family=\"Times,serif\" font-size=\"14.00\">y</text>\n",
       "<polyline fill=\"none\" stroke=\"green\" points=\"83.89,-0.5 83.89,-36.5 \"/>\n",
       "<text text-anchor=\"middle\" x=\"95\" y=\"-14.3\" font-family=\"Times,serif\" font-size=\"14.00\">z</text>\n",
       "</g>\n",
       "<!-- A&#45;&gt;E -->\n",
       "<g id=\"edge3\" class=\"edge\">\n",
       "<title>A:f1&#45;&gt;E:f0</title>\n",
       "<path fill=\"none\" stroke=\"black\" d=\"M49,-73C49,-61 49,-55.75 49,-47.12\"/>\n",
       "<polygon fill=\"black\" stroke=\"black\" points=\"52.5,-47 49,-37 45.5,-47 52.5,-47\"/>\n",
       "</g>\n",
       "<!-- C -->\n",
       "<g id=\"node3\" class=\"node\">\n",
       "<title>C</title>\n",
       "<ellipse fill=\"none\" stroke=\"black\" cx=\"158\" cy=\"-164\" rx=\"27\" ry=\"18\"/>\n",
       "<text text-anchor=\"middle\" x=\"158\" y=\"-159.8\" font-family=\"Times,serif\" font-size=\"14.00\">ref2</text>\n",
       "</g>\n",
       "<!-- D -->\n",
       "<g id=\"node4\" class=\"node\">\n",
       "<title>D</title>\n",
       "<polygon fill=\"none\" stroke=\"blue\" points=\"146.68,-73.5 146.68,-109.5 259.32,-109.5 259.32,-73.5 146.68,-73.5\"/>\n",
       "<text text-anchor=\"middle\" x=\"157.79\" y=\"-87.3\" font-family=\"Times,serif\" font-size=\"14.00\">a</text>\n",
       "<polyline fill=\"none\" stroke=\"blue\" points=\"168.89,-73.5 168.89,-109.5 \"/>\n",
       "<text text-anchor=\"middle\" x=\"180.39\" y=\"-87.3\" font-family=\"Times,serif\" font-size=\"14.00\">b</text>\n",
       "<polyline fill=\"none\" stroke=\"blue\" points=\"191.89,-73.5 191.89,-109.5 \"/>\n",
       "<text text-anchor=\"middle\" x=\"203\" y=\"-87.3\" font-family=\"Times,serif\" font-size=\"14.00\">c</text>\n",
       "<polyline fill=\"none\" stroke=\"blue\" points=\"214.11,-73.5 214.11,-109.5 \"/>\n",
       "<text text-anchor=\"middle\" x=\"225.61\" y=\"-87.3\" font-family=\"Times,serif\" font-size=\"14.00\">d</text>\n",
       "<polyline fill=\"none\" stroke=\"blue\" points=\"237.11,-73.5 237.11,-109.5 \"/>\n",
       "<text text-anchor=\"middle\" x=\"248.21\" y=\"-87.3\" font-family=\"Times,serif\" font-size=\"14.00\">e</text>\n",
       "</g>\n",
       "<!-- C&#45;&gt;D -->\n",
       "<g id=\"edge2\" class=\"edge\">\n",
       "<title>C&#45;&gt;D:f0</title>\n",
       "<path fill=\"none\" stroke=\"black\" d=\"M158,-145.81C158,-138.28 158,-129.1 158,-120.06\"/>\n",
       "<polygon fill=\"black\" stroke=\"black\" points=\"161.5,-120 158,-110 154.5,-120 161.5,-120\"/>\n",
       "</g>\n",
       "<!-- F -->\n",
       "<g id=\"node6\" class=\"node\">\n",
       "<title>F</title>\n",
       "<polygon fill=\"none\" stroke=\"green\" points=\"168.89,-0.5 168.89,-36.5 237.11,-36.5 237.11,-0.5 168.89,-0.5\"/>\n",
       "<text text-anchor=\"middle\" x=\"180.39\" y=\"-14.3\" font-family=\"Times,serif\" font-size=\"14.00\">x</text>\n",
       "<polyline fill=\"none\" stroke=\"green\" points=\"191.89,-0.5 191.89,-36.5 \"/>\n",
       "<text text-anchor=\"middle\" x=\"203.39\" y=\"-14.3\" font-family=\"Times,serif\" font-size=\"14.00\">y</text>\n",
       "<polyline fill=\"none\" stroke=\"green\" points=\"214.89,-0.5 214.89,-36.5 \"/>\n",
       "<text text-anchor=\"middle\" x=\"226\" y=\"-14.3\" font-family=\"Times,serif\" font-size=\"14.00\">z</text>\n",
       "</g>\n",
       "<!-- D&#45;&gt;F -->\n",
       "<g id=\"edge4\" class=\"edge\">\n",
       "<title>D:f1&#45;&gt;F:f0</title>\n",
       "<path fill=\"none\" stroke=\"black\" d=\"M180,-73C180,-61 180,-55.75 180,-47.12\"/>\n",
       "<polygon fill=\"black\" stroke=\"black\" points=\"183.5,-47 180,-37 176.5,-47 183.5,-47\"/>\n",
       "</g>\n",
       "</g>\n",
       "</svg>\n"
      ],
      "text/plain": [
       "<graphviz.dot.Digraph at 0x7ffb2fac0650>"
      ]
     },
     "execution_count": 36,
     "metadata": {},
     "output_type": "execute_result"
    }
   ],
   "source": [
    "dot3 = Digraph()\n",
    "dot3.node('B', 'ref1')\n",
    "dot3.node('A', '<f0> a | <f1> b | <f2> c | <f3> d| <f4> e ',shape=\"record\",color=\"blue\")\n",
    "dot3.node('C', 'ref2')\n",
    "dot3.node('D', '<f0> a | <f1> b | <f2> c | <f3> d| <f4> e ',shape=\"record\",color=\"blue\")\n",
    "dot3.node('E', '<f0> x | <f1> y | <f2> z ',shape=\"record\",color=\"green\")\n",
    "dot3.node('F', '<f0> x | <f1> y | <f2> z ',shape=\"record\",color=\"green\")\n",
    "dot3.edge('B', 'A:f0')\n",
    "dot3.edge('C', 'D:f0')\n",
    "dot3.edge('A:f1', 'E:f0')\n",
    "dot3.edge('D:f1', 'F:f0')\n",
    "dot3"
   ]
  },
  {
   "cell_type": "markdown",
   "metadata": {},
   "source": [
    "## Conversion of string to list and vice versa\n",
    "When working with text, it is usual that the entire text is first stored in a string-variable. Since many text-processing tasks are based on word-statistics, the string must be split into a list of words. This so called tokenisation or text-segmentation can be realized by the `split()`-method, as shown in the following code cell: "
   ]
  },
  {
   "cell_type": "code",
   "execution_count": 37,
   "metadata": {
    "ExecuteTime": {
     "end_time": "2017-09-27T18:33:46.385000Z",
     "start_time": "2017-09-27T18:33:46.385000Z"
    }
   },
   "outputs": [
    {
     "name": "stdout",
     "output_type": "stream",
     "text": [
      "['Python', 'is', 'a', 'widely', 'used', 'high-level', 'programming', 'language', 'for', 'general-purpose', 'programming,', 'created', 'by', 'Guido', 'van', 'Rossum', 'and', 'first', 'released', 'in', '1991.', 'An', 'interpreted', 'language,', 'Python', 'has', 'a', 'design', 'philosophy', 'that', 'emphasizes', 'code', 'readability', '(notably', 'using', 'whitespace', 'indentation', 'to', 'delimit', 'code', 'blocks', 'rather', 'than', 'curly', 'brackets', 'or', 'keywords),', 'and', 'a', 'syntax', 'that', 'allows', 'programmers', 'to', 'express', 'concepts', 'in', 'fewer', 'lines', 'of', 'code', 'than', 'might', 'be', 'used', 'in', 'languages', 'such', 'as', 'C++', 'or', 'Java.', 'The', 'language', 'provides', 'constructs', 'intended', 'to', 'enable', 'writing', 'clear', 'programs', 'on', 'both', 'a', 'small', 'and', 'large', 'scale.']\n"
     ]
    }
   ],
   "source": [
    "myText=\"\"\"Python is a widely used high-level programming language for \n",
    "general-purpose programming, created by Guido van Rossum and first released in 1991. \n",
    "An interpreted language, Python has a design philosophy that emphasizes code readability \n",
    "(notably using whitespace indentation to delimit code blocks \n",
    "rather than curly brackets or keywords), and a syntax that allows programmers to express \n",
    "concepts in fewer lines of code than might be used in languages such as C++ or Java. \n",
    "The language provides constructs intended to enable writing clear programs on both a \n",
    "small and large scale.\n",
    "\"\"\"\n",
    "myWordList=myText.split()\n",
    "print(myWordList)"
   ]
  },
  {
   "cell_type": "markdown",
   "metadata": {},
   "source": [
    "The tokens in the list can contain punctuation marks and brackets at their start or end. These can be removed by applying the `strip()`-method. Moreover, often it is required that the words are normalized in the sense, that all letters are represented in lowercase. Both processing-steps can be implemented in only line of code as shown below. This line contains a list-comprehension, which is introduced in [notebook 04ControlStructures.ipynb](04ControllStructures.ipynb): "
   ]
  },
  {
   "cell_type": "code",
   "execution_count": 38,
   "metadata": {
    "ExecuteTime": {
     "end_time": "2017-09-27T18:33:48.113000Z",
     "start_time": "2017-09-27T18:33:48.098000Z"
    }
   },
   "outputs": [
    {
     "name": "stdout",
     "output_type": "stream",
     "text": [
      "['python', 'is', 'a', 'widely', 'used', 'high-level', 'programming', 'language', 'for', 'general-purpose', 'programming', 'created', 'by', 'guido', 'van', 'rossum', 'and', 'first', 'released', 'in', '1991', 'an', 'interpreted', 'language', 'python', 'has', 'a', 'design', 'philosophy', 'that', 'emphasizes', 'code', 'readability', 'notably', 'using', 'whitespace', 'indentation', 'to', 'delimit', 'code', 'blocks', 'rather', 'than', 'curly', 'brackets', 'or', 'keywords', 'and', 'a', 'syntax', 'that', 'allows', 'programmers', 'to', 'express', 'concepts', 'in', 'fewer', 'lines', 'of', 'code', 'than', 'might', 'be', 'used', 'in', 'languages', 'such', 'as', 'c++', 'or', 'java', 'the', 'language', 'provides', 'constructs', 'intended', 'to', 'enable', 'writing', 'clear', 'programs', 'on', 'both', 'a', 'small', 'and', 'large', 'scale']\n"
     ]
    }
   ],
   "source": [
    "myNormalizedList=[word.strip('.,!?:\\\"()').lower() for word in myWordList]\n",
    "print(myNormalizedList)"
   ]
  },
  {
   "cell_type": "markdown",
   "metadata": {},
   "source": [
    "It has been shown, how strings can be converted into lists. The other way around is also frequently required. For example if all elements of a list, shall be written into a line of a file. The `write()`-function, as introduced in [notebook 02BasicRoutines.ipynb](02BasicRoutines.ipynb), requires a string-variable as argument. The following code cell demonstrates the conversion of a list into a comma-separated string. Note that the, in this case, numeric elements of the list must be converted into string-variables, before they are joined into a single string."
   ]
  },
  {
   "cell_type": "code",
   "execution_count": 39,
   "metadata": {
    "ExecuteTime": {
     "end_time": "2017-09-27T18:33:49.839000Z",
     "start_time": "2017-09-27T18:33:49.824000Z"
    }
   },
   "outputs": [
    {
     "name": "stdout",
     "output_type": "stream",
     "text": [
      "0,1,2,3,4,5,6,7,8,9\n",
      "<class 'str'>\n"
     ]
    }
   ],
   "source": [
    "myList=list(range(10))\n",
    "csvString=','.join(str(e) for e in myList)\n",
    "print(csvString)\n",
    "print(type(csvString))"
   ]
  },
  {
   "cell_type": "markdown",
   "metadata": {},
   "source": [
    "## Tuple\n",
    "Tuples are immutable list. This means that they can not be modified after creation. Tuples can be generated similar to lists, however their elements are surrounded by parentheses instead of square brackets."
   ]
  },
  {
   "cell_type": "code",
   "execution_count": 40,
   "metadata": {
    "ExecuteTime": {
     "end_time": "2017-09-27T18:33:51.350000Z",
     "start_time": "2017-09-27T18:33:51.345000Z"
    }
   },
   "outputs": [
    {
     "name": "stdout",
     "output_type": "stream",
     "text": [
      "(3, 5.4, 'a', 'in tuple', (1, 2, 3))\n",
      "<class 'tuple'>\n"
     ]
    }
   ],
   "source": [
    "t1=(3,5.4,'a','in tuple',(1,2,3))\n",
    "print(t1)\n",
    "print(type(t1))"
   ]
  },
  {
   "cell_type": "markdown",
   "metadata": {},
   "source": [
    "Tuple elements can be accessed in the same way as list elements:"
   ]
  },
  {
   "cell_type": "code",
   "execution_count": 41,
   "metadata": {
    "ExecuteTime": {
     "end_time": "2017-09-27T18:33:52.707000Z",
     "start_time": "2017-09-27T18:33:52.707000Z"
    }
   },
   "outputs": [
    {
     "name": "stdout",
     "output_type": "stream",
     "text": [
      "(3, 5.4)\n"
     ]
    }
   ],
   "source": [
    "print(t1[:2]) # first 2 elements of the tuple"
   ]
  },
  {
   "cell_type": "markdown",
   "metadata": {},
   "source": [
    "However, any attempt to modify a tuple yields an error, as shown below:"
   ]
  },
  {
   "cell_type": "code",
   "execution_count": 42,
   "metadata": {
    "ExecuteTime": {
     "end_time": "2017-09-27T18:33:54.418000Z",
     "start_time": "2017-09-27T18:33:54.409000Z"
    }
   },
   "outputs": [
    {
     "ename": "TypeError",
     "evalue": "'tuple' object does not support item assignment",
     "output_type": "error",
     "traceback": [
      "\u001b[0;31m---------------------------------------------------------------------------\u001b[0m",
      "\u001b[0;31mTypeError\u001b[0m                                 Traceback (most recent call last)",
      "\u001b[0;32m<ipython-input-42-01685dc0976d>\u001b[0m in \u001b[0;36m<module>\u001b[0;34m\u001b[0m\n\u001b[0;32m----> 1\u001b[0;31m \u001b[0mt1\u001b[0m\u001b[0;34m[\u001b[0m\u001b[0;36m1\u001b[0m\u001b[0;34m]\u001b[0m\u001b[0;34m=\u001b[0m\u001b[0;36m1\u001b[0m\u001b[0;34m\u001b[0m\u001b[0;34m\u001b[0m\u001b[0m\n\u001b[0m",
      "\u001b[0;31mTypeError\u001b[0m: 'tuple' object does not support item assignment"
     ]
    }
   ],
   "source": [
    "t1[1]=1"
   ]
  },
  {
   "cell_type": "markdown",
   "metadata": {},
   "source": [
    "Lists provide much more functionality than tuples. However, since tuples are slimmer, they are implemented more effectively. If it is known, that the elements in the collection doesn't have to be changed, then tuples should be applied instead of lists. Their immutable character also protects data against undesired changes.   "
   ]
  }
 ],
 "metadata": {
  "anaconda-cloud": {},
  "kernelspec": {
   "display_name": "Python 3",
   "language": "python",
   "name": "python3"
  },
  "language_info": {
   "codemirror_mode": {
    "name": "ipython",
    "version": 3
   },
   "file_extension": ".py",
   "mimetype": "text/x-python",
   "name": "python",
   "nbconvert_exporter": "python",
   "pygments_lexer": "ipython3",
   "version": "3.7.5"
  },
  "nav_menu": {},
  "toc": {
   "base_numbering": 1,
   "nav_menu": {},
   "number_sections": true,
   "sideBar": true,
   "skip_h1_title": false,
   "title_cell": "Table of Contents",
   "title_sidebar": "Contents",
   "toc_cell": false,
   "toc_position": {},
   "toc_section_display": "block",
   "toc_window_display": true
  },
  "toc_position": {
   "height": "485px",
   "left": "0px",
   "right": "888px",
   "top": "125px",
   "width": "212px"
  },
  "varInspector": {
   "cols": {
    "lenName": 16,
    "lenType": 16,
    "lenVar": 40
   },
   "kernels_config": {
    "python": {
     "delete_cmd_postfix": "",
     "delete_cmd_prefix": "del ",
     "library": "var_list.py",
     "varRefreshCmd": "print(var_dic_list())"
    },
    "r": {
     "delete_cmd_postfix": ") ",
     "delete_cmd_prefix": "rm(",
     "library": "var_list.r",
     "varRefreshCmd": "cat(var_dic_list()) "
    }
   },
   "types_to_exclude": [
    "module",
    "function",
    "builtin_function_or_method",
    "instance",
    "_Feature"
   ],
   "window_display": false
  }
 },
 "nbformat": 4,
 "nbformat_minor": 2
}

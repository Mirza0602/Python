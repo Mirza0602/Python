{
 "cells": [
  {
   "cell_type": "markdown",
   "metadata": {},
   "source": [
    "[Back to Lecture Overview](Overview.ipynb)"
   ]
  },
  {
   "cell_type": "markdown",
   "metadata": {},
   "source": [
    "# Sequential Datatypes\n",
    "* Author: Johannes Maucher\n",
    "* Last Update: 27.06.2017"
   ]
  },
  {
   "cell_type": "code",
   "execution_count": null,
   "metadata": {
    "ExecuteTime": {
     "end_time": "2017-08-14T06:03:14.652000Z",
     "start_time": "2017-08-14T08:03:14.601000+02:00"
    },
    "collapsed": true,
    "hide_input": true
   },
   "outputs": [],
   "source": [
    "from IPython.display import Image\n",
    "Image(filename=\"../../Pics/DS_Python_Datatypes_All.png\")"
   ]
  },
  {
   "cell_type": "markdown",
   "metadata": {
    "hide_input": true
   },
   "source": [
    "Sequential Datatypes in Python contain sequences of elements. The following types belong to the category of sequential datatypes:\n",
    "\n",
    "* string\n",
    "* unicode\n",
    "* list\n",
    "* tuple\n",
    "* bytearray\n",
    "* buffer\n",
    "* xrange objects\n",
    "\n",
    "Other container types, not belonging to sequential datatypes, are e.g. `dict`, `set` and `collections`.\n",
    "\n",
    "For all sequential datatypes the following operators are defined:\n",
    "\n",
    "<a id=\"seqops\"></a>"
   ]
  },
  {
   "cell_type": "markdown",
   "metadata": {},
   "source": [
    "| Operation | Result | \n",
    "| --- | --- | \n",
    "| x in s | True if an item of s is equal to x, else False | \n",
    "| x not in s | False if an item of s is equal to x, else True | \n",
    "| s + t | the concatenation of s and t | \n",
    "| s \\* n, n \\* s | equivalent to adding s to itself n times | \n",
    "| s[i] | i.th item of s, origin 0 | \n",
    "| s[i:j] | slice of s from i to j | \n",
    "| s[i:j:k] | slice of s from i to j with step k | \n",
    "| len(s) | length of s | \n",
    "| min(s) | smallest item of s | \n",
    "| max(s) | largest item of s | \n",
    "| s.index(x) | index of the first occurrence of x in s | \n",
    "| s.count(x) | total number of occurrences of x in s |"
   ]
  },
  {
   "cell_type": "markdown",
   "metadata": {
    "ExecuteTime": {
     "end_time": "2017-06-30T15:13:55.973000Z",
     "start_time": "2017-06-30T17:13:55.973000+02:00"
    }
   },
   "source": [
    "## Strings\n",
    "A String is a sequence of characters. Strings can either be defined within single, double or triple quotes: "
   ]
  },
  {
   "cell_type": "code",
   "execution_count": null,
   "metadata": {
    "ExecuteTime": {
     "end_time": "2017-08-14T06:05:57.817000Z",
     "start_time": "2017-08-14T08:05:57.810000+02:00"
    },
    "collapsed": true
   },
   "outputs": [],
   "source": [
    "s1='this is my first string'\n",
    "print s1\n",
    "print type(s1)"
   ]
  },
  {
   "cell_type": "code",
   "execution_count": null,
   "metadata": {
    "ExecuteTime": {
     "end_time": "2017-08-14T06:06:49.393000Z",
     "start_time": "2017-08-14T08:06:49.393000+02:00"
    },
    "collapsed": true
   },
   "outputs": [],
   "source": [
    "s2=\"this is my second string\"\n",
    "print s2 \n",
    "print type(s2)"
   ]
  },
  {
   "cell_type": "code",
   "execution_count": null,
   "metadata": {
    "ExecuteTime": {
     "end_time": "2017-08-14T06:06:53.490000Z",
     "start_time": "2017-08-14T08:06:53.482000+02:00"
    },
    "collapsed": true
   },
   "outputs": [],
   "source": [
    "s3=\"\"\"using triple quotes\n",
    "strings can also be defined \n",
    "over multiple lines\"\"\"\n",
    "print s3\n",
    "print type(s3)"
   ]
  },
  {
   "cell_type": "markdown",
   "metadata": {},
   "source": [
    "### Accessing string components\n",
    "\n",
    "The components of strings are characters. Each component of a string-variable can be accessed by it's index or index-range in the same way as described in the [table of operations for sequential types](#seqops). In Python the first index of a datatype, that contains multiple components is always 0. Hence, for a container of length *n* the valid indeces range from 0 to n-1."
   ]
  },
  {
   "cell_type": "code",
   "execution_count": null,
   "metadata": {
    "ExecuteTime": {
     "end_time": "2017-08-14T06:07:52.908000Z",
     "start_time": "2017-08-14T08:07:52.902000+02:00"
    },
    "collapsed": true
   },
   "outputs": [],
   "source": [
    "print \"First element of s3 is %s\"%s3[0]"
   ]
  },
  {
   "cell_type": "code",
   "execution_count": null,
   "metadata": {
    "ExecuteTime": {
     "end_time": "2017-08-14T06:08:34.217000Z",
     "start_time": "2017-08-14T08:08:34.217000+02:00"
    },
    "collapsed": true
   },
   "outputs": [],
   "source": [
    "print \"The first 5 elements of s3 are: %s\"%s3[:5]"
   ]
  },
  {
   "cell_type": "code",
   "execution_count": null,
   "metadata": {
    "ExecuteTime": {
     "end_time": "2017-08-14T06:08:52.058000Z",
     "start_time": "2017-08-14T08:08:52.040000+02:00"
    },
    "collapsed": true
   },
   "outputs": [],
   "source": [
    "print \"The subsequence cotaining the 3rd, 4th and 5th element of s3 are: %s\"%s3[2:5]"
   ]
  },
  {
   "cell_type": "markdown",
   "metadata": {},
   "source": [
    "The code-cells above show:\n",
    "* The index must be surrounded by square brackets\n",
    "* The i.th element is at index i-1\n",
    "* If `lowerbound=0`, it can be ommitted\n",
    "* Index-ranges are defined by `lowerbound:upperbound`, where `lowerbound` is the first index of the queried sequence and `upperbound` is the first index **after** the queried sequence. That is **the lower bound is inclusive and the upper bound is exclusive**.\n",
    "\n",
    "It is also possible to invert the index and count elements from the end of the sequence. For this negative indices can be applied as shown here:"
   ]
  },
  {
   "cell_type": "code",
   "execution_count": null,
   "metadata": {
    "ExecuteTime": {
     "end_time": "2017-08-14T06:10:30.663000Z",
     "start_time": "2017-08-14T08:10:30.663000+02:00"
    },
    "collapsed": true
   },
   "outputs": [],
   "source": [
    "print \"The last character of s3 is %s\"%s3[-1]\n",
    "print \"The last 5 characters of s3 are: %s\"%s3[-5:]"
   ]
  },
  {
   "cell_type": "markdown",
   "metadata": {},
   "source": [
    "### Useful operations on strings\n",
    "In the following some operations from [the table of operations for sequential types](#seqops) are executed on string objects."
   ]
  },
  {
   "cell_type": "markdown",
   "metadata": {},
   "source": [
    "**Test if characters are contained in strings**"
   ]
  },
  {
   "cell_type": "code",
   "execution_count": null,
   "metadata": {
    "ExecuteTime": {
     "end_time": "2017-08-14T06:14:33.096000Z",
     "start_time": "2017-08-14T08:14:33.096000+02:00"
    },
    "collapsed": true
   },
   "outputs": [],
   "source": [
    "print s1\n",
    "print 'f' in s1\n",
    "print 'ing' in s1\n",
    "print ' ' in s1\n",
    "print '\\n' in s1\n",
    "print '\\n' in s3"
   ]
  },
  {
   "cell_type": "markdown",
   "metadata": {},
   "source": [
    "**Concatenate strings**"
   ]
  },
  {
   "cell_type": "code",
   "execution_count": null,
   "metadata": {
    "ExecuteTime": {
     "end_time": "2017-08-14T06:33:18.392000Z",
     "start_time": "2017-08-14T08:33:18.392000+02:00"
    },
    "collapsed": true
   },
   "outputs": [],
   "source": [
    "print (s1 + ' ' + s2)\n",
    "print (s1 + ' \\t' + s2)\n",
    "print (s1 + ' \\n' + s2)"
   ]
  },
  {
   "cell_type": "markdown",
   "metadata": {},
   "source": [
    "As shown in the code snippet above, the **control sequence**:\n",
    "* `\\t` yields a tab-shift\n",
    "* `\\n` yields a line-break"
   ]
  },
  {
   "cell_type": "markdown",
   "metadata": {},
   "source": [
    "**Replicate strings:**"
   ]
  },
  {
   "cell_type": "code",
   "execution_count": null,
   "metadata": {
    "ExecuteTime": {
     "end_time": "2017-08-14T06:17:51.480000Z",
     "start_time": "2017-08-14T08:17:51.473000+02:00"
    },
    "collapsed": true
   },
   "outputs": [],
   "source": [
    "'abc '*3"
   ]
  },
  {
   "cell_type": "markdown",
   "metadata": {},
   "source": [
    "**Determine the length of a string:**"
   ]
  },
  {
   "cell_type": "code",
   "execution_count": null,
   "metadata": {
    "ExecuteTime": {
     "end_time": "2017-08-14T06:17:54.101000Z",
     "start_time": "2017-08-14T08:17:54.097000+02:00"
    },
    "collapsed": true
   },
   "outputs": [],
   "source": [
    "len(s1)"
   ]
  },
  {
   "cell_type": "markdown",
   "metadata": {},
   "source": [
    "**Determine index of first occurence of characters in string:**"
   ]
  },
  {
   "cell_type": "code",
   "execution_count": null,
   "metadata": {
    "ExecuteTime": {
     "end_time": "2017-07-04T06:29:43.861000Z",
     "start_time": "2017-07-04T08:29:43.855000+02:00"
    },
    "collapsed": true
   },
   "outputs": [],
   "source": [
    "print s1.index('i')\n",
    "print s1.index('my')"
   ]
  },
  {
   "cell_type": "markdown",
   "metadata": {},
   "source": [
    "**Count fequency of characters in string:**"
   ]
  },
  {
   "cell_type": "code",
   "execution_count": null,
   "metadata": {
    "ExecuteTime": {
     "end_time": "2017-08-14T06:18:44.741000Z",
     "start_time": "2017-08-14T08:18:44.741000+02:00"
    },
    "collapsed": true
   },
   "outputs": [],
   "source": [
    "print s1.count('i')\n",
    "print s1.count('my')"
   ]
  },
  {
   "cell_type": "markdown",
   "metadata": {},
   "source": [
    "### Summary of useful string methods\n",
    "The following table summarizes the most important methods on strings (in addition to the [operators on general sequential datatypes](#seqops), which are also applicable to strings).\n",
    "\n",
    "| Method | Result | \n",
    "| --- | --- | \n",
    "| `s.split(sep)` | Return a list of the words in the string, using `sep` as the delimiter string. | \n",
    "| `s.splitlines()` | Return a list of the lines in the string, breaking at line boundaries. | \n",
    "| `s.strip([chars])` | Return a copy of the string with the leading and trailing characters removed. The `chars` argument is a string specifying the set of characters to be removed. | \n",
    "| `s.find(x [,start[,end]])` | Return the lowest index in the string where substring `x` is found within the slice `s[start:end]`. Returns -1 if `x` is not found. | \n",
    "| `s.rfind(x [,start][,end])` | Return the highest index in the string where substring `x` is found within the slice `s[start:end]`. Returns -1 if `x` is not found. | \n",
    "| `s.replace(old,new)` | Return a copy of the string with all occurrences of substring `old` replaced by string `new`. | \n",
    "| `s.lower()` | Return a copy of the string with all characters converted to lowercase. | \n",
    "| `s.upper()` | Return a copy of the string with all characters converted to uppercase. |\n",
    "\n",
    "A description of all methods, applicable to strings, is provided in the [official Python documentation](https://docs.python.org/2.7/library/stdtypes.html#string-methods)."
   ]
  },
  {
   "cell_type": "markdown",
   "metadata": {},
   "source": [
    "## Lists"
   ]
  },
  {
   "cell_type": "markdown",
   "metadata": {},
   "source": [
    "In Python lists can contain elements of different type. Same as the type *string*, the type *list* also belongs to the category of *sequential types*. Hence, the operations in the [table of operations for sequential types](#seqops) are also applicable to lists.\n",
    "\n",
    "Lists can be generated for example by writing the elements of the list comma-separated into **square brackets**:"
   ]
  },
  {
   "cell_type": "code",
   "execution_count": null,
   "metadata": {
    "ExecuteTime": {
     "end_time": "2017-07-04T06:29:43.962000Z",
     "start_time": "2017-07-04T08:29:43.952000+02:00"
    },
    "collapsed": true
   },
   "outputs": [],
   "source": [
    "l1=[1,2,5.3,\"word\",True,['a','b','c']]\n",
    "print l1\n",
    "print type(l1)"
   ]
  },
  {
   "cell_type": "markdown",
   "metadata": {},
   "source": [
    "Empty lists can be generated either by `mylist = list()` or by `mylist = []`:\n"
   ]
  },
  {
   "cell_type": "code",
   "execution_count": null,
   "metadata": {
    "ExecuteTime": {
     "end_time": "2017-07-04T06:29:43.982000Z",
     "start_time": "2017-07-04T08:29:43.970000+02:00"
    },
    "collapsed": true
   },
   "outputs": [],
   "source": [
    "l2=list() \n",
    "print l2\n",
    "print type(l2)"
   ]
  },
  {
   "cell_type": "markdown",
   "metadata": {},
   "source": [
    "Structured numeric lists can be generated by the function \n",
    "\n",
    "```range([start,]stop[,step])``` \n",
    "\n",
    "as shown below. The optional arguments start (default=0) and step (default=1) define the start and the stepsize of the integer range. The range terminates at the stop-value (exclusive):"
   ]
  },
  {
   "cell_type": "code",
   "execution_count": null,
   "metadata": {
    "ExecuteTime": {
     "end_time": "2017-07-04T06:29:43.998000Z",
     "start_time": "2017-07-04T08:29:43.987000+02:00"
    },
    "collapsed": true
   },
   "outputs": [],
   "source": [
    "l3=range(10)\n",
    "print l3\n",
    "l4=range(20,29,2)\n",
    "print l4\n",
    "print type(l4)"
   ]
  },
  {
   "cell_type": "markdown",
   "metadata": {},
   "source": [
    "### Accessing list elements"
   ]
  },
  {
   "cell_type": "markdown",
   "metadata": {},
   "source": [
    "Same as with strings, each component of a list can be accessed by it's index and multiple list elements can be sliced by an index-range in the same way as described in the [table of operations for sequential types](#seqops). "
   ]
  },
  {
   "cell_type": "code",
   "execution_count": null,
   "metadata": {
    "ExecuteTime": {
     "end_time": "2017-07-04T06:29:44.016000Z",
     "start_time": "2017-07-04T08:29:44.004000+02:00"
    },
    "collapsed": true
   },
   "outputs": [],
   "source": [
    "print l1\n",
    "print l1[1]\n",
    "print l1[-1]\n",
    "print l1[1:3]\n",
    "print l1[2:]"
   ]
  },
  {
   "cell_type": "markdown",
   "metadata": {},
   "source": [
    "The last element of list `l1` is a list itself. Elements of the inner list can be accessed as follows: "
   ]
  },
  {
   "cell_type": "code",
   "execution_count": null,
   "metadata": {
    "ExecuteTime": {
     "end_time": "2017-07-04T06:29:44.034000Z",
     "start_time": "2017-07-04T08:29:44.025000+02:00"
    },
    "collapsed": true
   },
   "outputs": [],
   "source": [
    "print l1[-1][1]"
   ]
  },
  {
   "cell_type": "markdown",
   "metadata": {},
   "source": [
    "### Modifying Lists\n",
    "**Modify single list elements:**"
   ]
  },
  {
   "cell_type": "code",
   "execution_count": null,
   "metadata": {
    "ExecuteTime": {
     "end_time": "2017-07-04T06:29:44.054000Z",
     "start_time": "2017-07-04T08:29:44.041000+02:00"
    },
    "collapsed": true
   },
   "outputs": [],
   "source": [
    "l4=[2,4,6]\n",
    "print l4\n",
    "l4[2]=20 #assign a new value to the third element\n",
    "print l4\n",
    "l4[2]=[21,22] #assign a new list to the third element\n",
    "print l4"
   ]
  },
  {
   "cell_type": "markdown",
   "metadata": {},
   "source": [
    "**Modifying multiple list elements:**"
   ]
  },
  {
   "cell_type": "code",
   "execution_count": null,
   "metadata": {
    "ExecuteTime": {
     "end_time": "2017-07-04T06:29:44.069000Z",
     "start_time": "2017-07-04T08:29:44.061000+02:00"
    },
    "collapsed": true
   },
   "outputs": [],
   "source": [
    "l4[:2]=[10,11] #assign new values to the first two elements\n",
    "print l4"
   ]
  },
  {
   "cell_type": "markdown",
   "metadata": {},
   "source": [
    "**Append and Concatenate Lists:**\n",
    "\n",
    "New elements can be attached to the end of the list by the `append` function:"
   ]
  },
  {
   "cell_type": "code",
   "execution_count": null,
   "metadata": {
    "ExecuteTime": {
     "end_time": "2017-07-04T06:29:44.085000Z",
     "start_time": "2017-07-04T08:29:44.076000+02:00"
    },
    "collapsed": true
   },
   "outputs": [],
   "source": [
    "l5=[]\n",
    "l5.append('a') #attach 'a' to the end of the list\n",
    "print l5\n",
    "l5.append('b') #attach 'b' to the end of the list\n",
    "print l5"
   ]
  },
  {
   "cell_type": "markdown",
   "metadata": {},
   "source": [
    "Note that if the argument of `append(anotherlist)` is another list, then not the elements of `anotherlist` are attached to the list. Instead a single element, which is a list, is appended. However, using the `extend(anotherlist)`-function attaches the single elements of `anotherlist` to the given list. The same effect can be obtained by concatenation of the two lists by the `+`-operator:  "
   ]
  },
  {
   "cell_type": "code",
   "execution_count": null,
   "metadata": {
    "ExecuteTime": {
     "end_time": "2017-07-04T06:29:44.110000Z",
     "start_time": "2017-07-04T08:29:44.093000+02:00"
    },
    "collapsed": true,
    "scrolled": false
   },
   "outputs": [],
   "source": [
    "l5.append(['c','d','e'])\n",
    "print l5\n",
    "print len(l5)\n",
    "print \"pop() returns and remvoves the element at the last index of the list:  \",l5.pop()\n",
    "print \"After pop() the former topmost element is removed:  \",l5\n",
    "print l5\n",
    "l5.extend(['c','d','e'])\n",
    "print \"List extended by another list: \",l5\n",
    "print \"Another list extension: \",l5 + ['e','f','g']"
   ]
  },
  {
   "cell_type": "markdown",
   "metadata": {},
   "source": [
    "**Remove list elements:**"
   ]
  },
  {
   "cell_type": "code",
   "execution_count": null,
   "metadata": {
    "ExecuteTime": {
     "end_time": "2017-07-04T06:29:44.125000Z",
     "start_time": "2017-07-04T08:29:44.115000+02:00"
    },
    "collapsed": true
   },
   "outputs": [],
   "source": [
    "print l5\n",
    "l5[1:2]=[] #remove the element at index 1\n",
    "print l5\n",
    "l5[:3]=[] #remove the first three list elements\n",
    "print l5"
   ]
  },
  {
   "cell_type": "markdown",
   "metadata": {},
   "source": [
    "**Insert elements at certain positions**"
   ]
  },
  {
   "cell_type": "code",
   "execution_count": null,
   "metadata": {
    "ExecuteTime": {
     "end_time": "2017-07-04T06:29:44.144000Z",
     "start_time": "2017-07-04T08:29:44.133000+02:00"
    },
    "collapsed": true
   },
   "outputs": [],
   "source": [
    "l5.insert(0,'A') #insert 'A' at first position\n",
    "print l5\n",
    "l5.insert(1,['B','C']) #insert a list at second position\n",
    "print l5"
   ]
  },
  {
   "cell_type": "markdown",
   "metadata": {},
   "source": [
    "### Summary of useful list methods\n",
    "The following table summarizes the most important methods on lists (in addition to the [operators on general sequential datatypes](#seqops), which are also applicable to lists). \n",
    "\n",
    "| Method | Result | \n",
    "| --- | --- | \n",
    "| `list.append(x)` | Add an item to the end of the list | \n",
    "| `list.extend(L)` | Extend the list by appending all the items in the given list | \n",
    "| `list.insert(i,x)` | Insert `x` at position `i`. | \n",
    "| `list.remove(x)` | Remove the first item from the list whose value is `x`. It is an error if there is no such item. | \n",
    "| `list.pop([i])` | Remove the item at position `i` in the list, and return it. If no index is specified, the last element is removed and returned. | \n",
    "| `list.index(x)` | Return the index in the list of the first item whose value is `x`. It is an error if there is no such item. | \n",
    "| `list.count(x)` | Return the number of times `x` appears in the list. | \n",
    "| `list.sort()` | Sort the items of the list | \n",
    "| `list.reverse()` | Reverse the elements of the list | \n"
   ]
  },
  {
   "cell_type": "markdown",
   "metadata": {},
   "source": [
    "### Copy Reference, Shallow Copy, Deep Copy\n",
    ">**Note**: The distinction between the three types of copying explained in this subsection refers not only to lists, but to all objects in Python.\n",
    "\n",
    "#### Multiple references for a single object\n",
    "Assume that `mylist` is a list that shall be copied. The simple assignment ```newlist=mylist``` does not create a copy of `mylist`. Assignments of this type allow, that one and the same list can be accessed by multiple names (**references**). The effect is shown in the example below. There `l4` refers to the same list as `l6`. If the list is modified via `l4` the modification can also be seen through the other reference to the list `l6`:"
   ]
  },
  {
   "cell_type": "code",
   "execution_count": 1,
   "metadata": {
    "ExecuteTime": {
     "end_time": "2017-07-04T06:29:44.163000Z",
     "start_time": "2017-07-04T08:29:44.150000+02:00"
    }
   },
   "outputs": [
    {
     "name": "stdout",
     "output_type": "stream",
     "text": [
      "l6: \t[0, 1, 2, 3, 4, 5, 6, 7, 8, 9]\n",
      "l4 after modification: \t \t[0, 1, 99, 3, 4, 5, 6, 7, 8, 9]\n",
      "l6 after modification of l4: \t[0, 1, 99, 3, 4, 5, 6, 7, 8, 9]\n"
     ]
    }
   ],
   "source": [
    "l6=range(10)\n",
    "print \"l6: \\t\",l6\n",
    "l4=l6\n",
    "l4[2]=99\n",
    "print \"l4 after modification: \\t \\t\",l4\n",
    "print \"l6 after modification of l4: \\t\",l6"
   ]
  },
  {
   "cell_type": "markdown",
   "metadata": {},
   "source": [
    "A list is an object (the blue rectangle in the following figure) which is assigned to a variable name (`ref1` in the figure below). The variable name points to the object."
   ]
  },
  {
   "cell_type": "code",
   "execution_count": 2,
   "metadata": {
    "ExecuteTime": {
     "end_time": "2017-07-12T05:54:17.799000Z",
     "start_time": "2017-07-12T07:54:17.549000+02:00"
    },
    "hide_input": true
   },
   "outputs": [
    {
     "ename": "ImportError",
     "evalue": "No module named graphviz",
     "output_type": "error",
     "traceback": [
      "\u001b[0;31m\u001b[0m",
      "\u001b[0;31mImportError\u001b[0mTraceback (most recent call last)",
      "\u001b[0;32m<ipython-input-2-a4a1f031a19f>\u001b[0m in \u001b[0;36m<module>\u001b[0;34m()\u001b[0m\n\u001b[0;32m----> 1\u001b[0;31m \u001b[1;32mfrom\u001b[0m \u001b[0mgraphviz\u001b[0m \u001b[1;32mimport\u001b[0m \u001b[0mDigraph\u001b[0m\u001b[1;33m\u001b[0m\u001b[0m\n\u001b[0m\u001b[1;32m      2\u001b[0m \u001b[0mdot\u001b[0m \u001b[1;33m=\u001b[0m \u001b[0mDigraph\u001b[0m\u001b[1;33m(\u001b[0m\u001b[1;33m)\u001b[0m\u001b[1;33m\u001b[0m\u001b[0m\n\u001b[1;32m      3\u001b[0m \u001b[0mdot\u001b[0m\u001b[1;33m.\u001b[0m\u001b[0mnode\u001b[0m\u001b[1;33m(\u001b[0m\u001b[1;34m'B'\u001b[0m\u001b[1;33m,\u001b[0m \u001b[1;34m'ref1'\u001b[0m\u001b[1;33m)\u001b[0m\u001b[1;33m\u001b[0m\u001b[0m\n\u001b[1;32m      4\u001b[0m \u001b[0mdot\u001b[0m\u001b[1;33m.\u001b[0m\u001b[0mnode\u001b[0m\u001b[1;33m(\u001b[0m\u001b[1;34m'A'\u001b[0m\u001b[1;33m,\u001b[0m \u001b[1;34m'<f0> a | <f1> b | <f2> c | <f3> d| <f4> e '\u001b[0m\u001b[1;33m,\u001b[0m\u001b[0mshape\u001b[0m\u001b[1;33m=\u001b[0m\u001b[1;34m\"record\"\u001b[0m\u001b[1;33m,\u001b[0m\u001b[0mcolor\u001b[0m\u001b[1;33m=\u001b[0m\u001b[1;34m\"blue\"\u001b[0m\u001b[1;33m)\u001b[0m\u001b[1;33m\u001b[0m\u001b[0m\n\u001b[1;32m      5\u001b[0m \u001b[0mdot\u001b[0m\u001b[1;33m.\u001b[0m\u001b[0medge\u001b[0m\u001b[1;33m(\u001b[0m\u001b[1;34m'B'\u001b[0m\u001b[1;33m,\u001b[0m \u001b[1;34m'A:f0'\u001b[0m\u001b[1;33m)\u001b[0m\u001b[1;33m\u001b[0m\u001b[0m\n",
      "\u001b[0;31mImportError\u001b[0m: No module named graphviz"
     ]
    }
   ],
   "source": [
    "from graphviz import Digraph\n",
    "dot = Digraph()\n",
    "dot.node('B', 'ref1')\n",
    "dot.node('A', '<f0> a | <f1> b | <f2> c | <f3> d| <f4> e ',shape=\"record\",color=\"blue\")\n",
    "dot.edge('B', 'A:f0')\n",
    "dot"
   ]
  },
  {
   "cell_type": "markdown",
   "metadata": {
    "hide_input": true
   },
   "source": [
    "The assignment `ref1=ref2` just generates a new reference `ref2`, which points to the same object as `ref1`. "
   ]
  },
  {
   "cell_type": "code",
   "execution_count": null,
   "metadata": {
    "ExecuteTime": {
     "end_time": "2017-07-12T05:54:57.599000Z",
     "start_time": "2017-07-12T07:54:57.552000+02:00"
    },
    "collapsed": true,
    "hide_input": true,
    "scrolled": true
   },
   "outputs": [],
   "source": [
    "dot2 = Digraph()\n",
    "dot2.node('B', 'ref1')\n",
    "dot2.node('L', 'ref2')\n",
    "dot2.node('A', '<f0> a | <f1> b | <f2> c | <f3> d| <f4> e ',shape=\"record\",color=\"blue\")\n",
    "dot2.edge('B', 'A:f0')\n",
    "dot2.edge('L', 'A:f0')\n",
    "dot2"
   ]
  },
  {
   "cell_type": "markdown",
   "metadata": {},
   "source": [
    "A modification of the list-object is visible through both references."
   ]
  },
  {
   "cell_type": "markdown",
   "metadata": {},
   "source": [
    "#### Shallow copy\n",
    "In order to generate a true copy of `mylist` one can just assign *a slice of the entire list* to the new variable by `newlist=mylist[:]`: "
   ]
  },
  {
   "cell_type": "code",
   "execution_count": null,
   "metadata": {
    "ExecuteTime": {
     "end_time": "2017-07-04T06:29:44.394000Z",
     "start_time": "2017-07-04T08:29:44.385000+02:00"
    },
    "collapsed": true
   },
   "outputs": [],
   "source": [
    "print \"l6: \",l6\n",
    "l3=l6[:]\n",
    "print \"l3 as shallow copy from l6: \\t\",l3\n",
    "l3[2]=100\n",
    "print \"l3 after modification: \\t\",l3\n",
    "print \"l6 after modification of l3: \\t\",l6"
   ]
  },
  {
   "cell_type": "markdown",
   "metadata": {},
   "source": [
    "The same kind of copy can be obtained by applying the `copy()`-function from the package `copy` as shown below:"
   ]
  },
  {
   "cell_type": "code",
   "execution_count": null,
   "metadata": {
    "ExecuteTime": {
     "end_time": "2017-07-04T06:29:44.405000Z",
     "start_time": "2017-07-04T08:29:44.398000+02:00"
    },
    "collapsed": true
   },
   "outputs": [],
   "source": [
    "import copy\n",
    "l2=copy.copy(l6)\n",
    "print \"l2 as shallow copy from l6: \\t\",l2\n",
    "l2[2]=222\n",
    "print \"l2 after modification: \\t\",l2\n",
    "print \"l6 after modification of l2: \\t\",l6"
   ]
  },
  {
   "cell_type": "markdown",
   "metadata": {},
   "source": [
    "As shown in the figure below the shallow copy actually generates a second list-object, with the same elements as the original list."
   ]
  },
  {
   "cell_type": "code",
   "execution_count": null,
   "metadata": {
    "ExecuteTime": {
     "end_time": "2017-07-04T06:29:44.476000Z",
     "start_time": "2017-07-04T08:29:44.409000+02:00"
    },
    "collapsed": true,
    "hide_input": true
   },
   "outputs": [],
   "source": [
    "dot3 = Digraph()\n",
    "dot3.node('B', 'ref1')\n",
    "dot3.node('A', '<f0> a | <f1> b | <f2> c | <f3> d| <f4> e ',shape=\"record\",color=\"blue\")\n",
    "dot3.node('C', 'ref2')\n",
    "dot3.node('D', '<f0> a | <f1> b | <f2> c | <f3> d| <f4> e ',shape=\"record\",color=\"blue\")\n",
    "dot3.edge('B', 'A:f0')\n",
    "dot3.edge('C', 'D:f0')\n",
    "dot3"
   ]
  },
  {
   "cell_type": "markdown",
   "metadata": {},
   "source": [
    "Assume that a list `listA` contains another list `listB` and a shallow copy `listC` of `listA` is created. If the inner list `listB` is modified via `listC`, does this modification also modify `listB` in `listA`?\n",
    "\n",
    "As can be seen in the code cell below, the inner list is actually modified for both outer lists. This means that the shallow copy, generated by `copy.copy()` creates a new list, but the lists (objects) contained in the copied list are not replicated."
   ]
  },
  {
   "cell_type": "code",
   "execution_count": null,
   "metadata": {
    "ExecuteTime": {
     "end_time": "2017-07-04T06:29:44.489000Z",
     "start_time": "2017-07-04T08:29:44.480000+02:00"
    },
    "collapsed": true
   },
   "outputs": [],
   "source": [
    "print \"l6:\",l6\n",
    "l6[1]=[11,12,13]\n",
    "l7=copy.copy(l6)\n",
    "print \"l7 as shallow copy from l6: \\t\",l7\n",
    "l7[1][2]=0\n",
    "print \"l7 after modification of its sublist: \\t\\t\",l7\n",
    "print \"l6 after modification of a sublist of l7: \\t\",l6"
   ]
  },
  {
   "cell_type": "markdown",
   "metadata": {},
   "source": [
    "If a list contains sublists, then with shallow copies the sublists are note replicated. Both list elements point to the same sublist as shown below:"
   ]
  },
  {
   "cell_type": "code",
   "execution_count": null,
   "metadata": {
    "ExecuteTime": {
     "end_time": "2017-07-04T06:29:44.562000Z",
     "start_time": "2017-07-04T08:29:44.493000+02:00"
    },
    "collapsed": true,
    "hide_input": true
   },
   "outputs": [],
   "source": [
    "dot3 = Digraph()\n",
    "dot3.node('B', 'ref1')\n",
    "dot3.node('A', '<f0> a | <f1> b | <f2> c | <f3> d| <f4> e ',shape=\"record\",color=\"blue\")\n",
    "dot3.node('C', 'ref2')\n",
    "dot3.node('D', '<f0> a | <f1> b | <f2> c | <f3> d| <f4> e ',shape=\"record\",color=\"blue\")\n",
    "dot3.node('E', '<f0> x | <f1> y | <f2> z ',shape=\"record\",color=\"green\")\n",
    "dot3.edge('B', 'A:f0')\n",
    "dot3.edge('C', 'D:f0')\n",
    "dot3.edge('A:f1', 'E:f0')\n",
    "dot3.edge('D:f1', 'E:f0')\n",
    "dot3"
   ]
  },
  {
   "cell_type": "markdown",
   "metadata": {
    "hide_input": true
   },
   "source": [
    "#### Deep copy\n",
    "If all objects within lists shall really be replicated, then the `deepcopy()`-function from the `copy`-package can be applied as shown below:"
   ]
  },
  {
   "cell_type": "code",
   "execution_count": null,
   "metadata": {
    "ExecuteTime": {
     "end_time": "2017-07-04T06:29:44.575000Z",
     "start_time": "2017-07-04T08:29:44.566000+02:00"
    },
    "collapsed": true
   },
   "outputs": [],
   "source": [
    "print l6\n",
    "l6[1]=[11,12,13]\n",
    "l8=copy.deepcopy(l6)\n",
    "print \"l7 as deep copy from l6: \\t\",l8\n",
    "l8[1][2]=0\n",
    "print \"l8 after modification of its sublist: \\t\\t\",l8\n",
    "print \"l6 after modification of a sublist of l8: \\t\",l6"
   ]
  },
  {
   "cell_type": "markdown",
   "metadata": {},
   "source": [
    "As shown below a deepcopy also replicates all sublists."
   ]
  },
  {
   "cell_type": "code",
   "execution_count": null,
   "metadata": {
    "ExecuteTime": {
     "end_time": "2017-07-04T06:29:44.650000Z",
     "start_time": "2017-07-04T08:29:44.580000+02:00"
    },
    "collapsed": true,
    "hide_input": true
   },
   "outputs": [],
   "source": [
    "dot3 = Digraph()\n",
    "dot3.node('B', 'ref1')\n",
    "dot3.node('A', '<f0> a | <f1> b | <f2> c | <f3> d| <f4> e ',shape=\"record\",color=\"blue\")\n",
    "dot3.node('C', 'ref2')\n",
    "dot3.node('D', '<f0> a | <f1> b | <f2> c | <f3> d| <f4> e ',shape=\"record\",color=\"blue\")\n",
    "dot3.node('E', '<f0> x | <f1> y | <f2> z ',shape=\"record\",color=\"green\")\n",
    "dot3.node('F', '<f0> x | <f1> y | <f2> z ',shape=\"record\",color=\"green\")\n",
    "dot3.edge('B', 'A:f0')\n",
    "dot3.edge('C', 'D:f0')\n",
    "dot3.edge('A:f1', 'E:f0')\n",
    "dot3.edge('D:f1', 'F:f0')\n",
    "dot3"
   ]
  },
  {
   "cell_type": "markdown",
   "metadata": {},
   "source": [
    "## Conversion of string to list and vice versa\n",
    "When working with text, it is usual that the entire text is first stored in a string-variable. Since many text-processing tasks are based on word-statistics, the string must be split into a list of words. This so called tokenisation or text-segmentation can be realized by the `split()`-method, as shown in the following code cell: "
   ]
  },
  {
   "cell_type": "code",
   "execution_count": null,
   "metadata": {
    "ExecuteTime": {
     "end_time": "2017-08-17T06:26:16.074000Z",
     "start_time": "2017-08-17T08:26:16.062000+02:00"
    },
    "collapsed": true
   },
   "outputs": [],
   "source": [
    "myText=\"\"\"Python is a widely used high-level programming language for \n",
    "general-purpose programming, created by Guido van Rossum and first released in 1991. \n",
    "An interpreted language, Python has a design philosophy that emphasizes code readability \n",
    "(notably using whitespace indentation to delimit code blocks \n",
    "rather than curly brackets or keywords), and a syntax that allows programmers to express \n",
    "concepts in fewer lines of code than might be used in languages such as C++ or Java. \n",
    "The language provides constructs intended to enable writing clear programs on both a \n",
    "small and large scale.\n",
    "\"\"\"\n",
    "myWordList=myText.split()\n",
    "print myWordList"
   ]
  },
  {
   "cell_type": "markdown",
   "metadata": {},
   "source": [
    "The tokens in the list can contain punctuation marks and brackets at their start or end. These can be removed by applying the `strip()`-method. Moreover, often it is required that the words are normalized in the sense, that all letters are represented in lowercase. Both processing-steps can be implemented in only line of code as shown below. This line contains a list-comprehension, which is introduced in [notebook 04ControlStructures.ipynb](04ControllStructures.ipynb): "
   ]
  },
  {
   "cell_type": "code",
   "execution_count": null,
   "metadata": {
    "ExecuteTime": {
     "end_time": "2017-08-17T07:32:33.543000Z",
     "start_time": "2017-08-17T09:32:33.537000+02:00"
    },
    "collapsed": true
   },
   "outputs": [],
   "source": [
    "myNormalizedList=[word.strip('.,!?:\\\"()').lower() for word in myWordList]\n",
    "print myNormalizedList"
   ]
  },
  {
   "cell_type": "markdown",
   "metadata": {},
   "source": [
    "It has been shown, how strings can be converted into lists. The other way around is also frequently required. For example if all elements of a list, shall be written into a line of a file. The `write()`-function, as introduced in [notebook 02BasicRoutines.ipynb](02BasicRoutines.ipynb), requires a string-variable as argument. The following code cell demonstrates the conversion of a list into a comma-separated string. Note that the, in this case, numeric elements of the list must be converted into string-variables, before they are joined into a single string."
   ]
  },
  {
   "cell_type": "code",
   "execution_count": null,
   "metadata": {
    "ExecuteTime": {
     "end_time": "2017-08-17T07:39:55.538000Z",
     "start_time": "2017-08-17T09:39:55.533000+02:00"
    },
    "collapsed": true
   },
   "outputs": [],
   "source": [
    "myList=range(10)\n",
    "csvString=','.join(str(e) for e in myList)\n",
    "print csvString\n",
    "print type(csvString)"
   ]
  },
  {
   "cell_type": "markdown",
   "metadata": {},
   "source": [
    "## Tuple\n",
    "Tuples are immutable list. This means that they can not be modified after creation. Tuples can be generated similar to lists, however their elements are surrounded by parentheses instead of square brackets."
   ]
  },
  {
   "cell_type": "code",
   "execution_count": null,
   "metadata": {
    "ExecuteTime": {
     "end_time": "2017-07-04T06:29:44.660000Z",
     "start_time": "2017-07-04T08:29:44.653000+02:00"
    },
    "collapsed": true
   },
   "outputs": [],
   "source": [
    "t1=(3,5.4,'a','in tuple',(1,2,3))\n",
    "print t1\n",
    "print type(t1)"
   ]
  },
  {
   "cell_type": "markdown",
   "metadata": {},
   "source": [
    "Tuple elements can be accessed in the same way as list elements:"
   ]
  },
  {
   "cell_type": "code",
   "execution_count": null,
   "metadata": {
    "ExecuteTime": {
     "end_time": "2017-07-04T06:29:44.669000Z",
     "start_time": "2017-07-04T08:29:44.663000+02:00"
    },
    "collapsed": true
   },
   "outputs": [],
   "source": [
    "print t1[:2] # first 2 elements of the tuple"
   ]
  },
  {
   "cell_type": "markdown",
   "metadata": {},
   "source": [
    "However, any attempt to modify a tuple yields an error, as shown below:"
   ]
  },
  {
   "cell_type": "code",
   "execution_count": null,
   "metadata": {
    "ExecuteTime": {
     "end_time": "2017-07-04T06:29:44.766000Z",
     "start_time": "2017-07-04T08:29:44.673000+02:00"
    },
    "collapsed": true
   },
   "outputs": [],
   "source": [
    "t1[1]=1"
   ]
  },
  {
   "cell_type": "markdown",
   "metadata": {
    "collapsed": true
   },
   "source": [
    "Lists provide much more functionality than tuples. However, since tuples are slimmer, they are implemented more effectively. If it is known, that the elements in the collection doesn't have to be changed, then tuples should be applied instead of lists. Their immutable character also protects data against undesired changes.   "
   ]
  },
  {
   "cell_type": "markdown",
   "metadata": {},
   "source": [
    "## Exercises\n",
    "[Exercise on sequential datatypes in Python](../Assignments/Ass03DataTypesSequential.ipynb)"
   ]
  },
  {
   "cell_type": "code",
   "execution_count": null,
   "metadata": {
    "collapsed": true
   },
   "outputs": [],
   "source": []
  }
 ],
 "metadata": {
  "anaconda-cloud": {},
  "kernelspec": {
   "display_name": "Python [conda env:condatascience]",
   "language": "python",
   "name": "conda-env-condatascience-py"
  },
  "language_info": {
   "codemirror_mode": {
    "name": "ipython",
    "version": 2
   },
   "file_extension": ".py",
   "mimetype": "text/x-python",
   "name": "python",
   "nbconvert_exporter": "python",
   "pygments_lexer": "ipython2",
   "version": "2.7.12"
  },
  "nav_menu": {},
  "toc": {
   "nav_menu": {
    "height": "321px",
    "width": "251px"
   },
   "navigate_menu": true,
   "number_sections": true,
   "sideBar": true,
   "threshold": 6,
   "toc_cell": false,
   "toc_section_display": "block",
   "toc_window_display": true
  },
  "toc_position": {
   "height": "545px",
   "left": "0px",
   "right": "998px",
   "top": "124.533px",
   "width": "212px"
  }
 },
 "nbformat": 4,
 "nbformat_minor": 2
}

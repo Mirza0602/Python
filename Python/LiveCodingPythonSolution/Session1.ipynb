{
 "cells": [
  {
   "cell_type": "markdown",
   "metadata": {},
   "source": [
    "# Live Coding Session 1:\n",
    "What you will learn in this session:\n",
    " * Python Datatypes\n",
    "     * Numeric Datatypes\n",
    "     * Sequential Datatypes: Strings and Lists\n",
    "     * Dictionaries\n",
    " * Writing user-defined functions\n",
    " * Keyboard Input\n",
    " * Write to and read from files\n"
   ]
  },
  {
   "cell_type": "markdown",
   "metadata": {},
   "source": [
    "## Task Description: \n",
    "A health insurance company wants to find out whether there are correlations between the personal features:\n",
    "* age\n",
    "* sex\n",
    "* height\n",
    "* weight\n",
    "* number of children\n",
    "* smoker/non-smoker\n",
    "* region of living\n",
    "\n",
    "and the charges they have to pay for these persons.\n",
    "\n",
    "This task is not solved in the current jupyter-notebook session. However, some basics, required for solving this task are conveyed. "
   ]
  },
  {
   "cell_type": "markdown",
   "metadata": {},
   "source": [
    "## Numeric and Sequential Datatypes\n",
    "In this section the basic numeric datatypes of Python are applied. More details on this topic are provided in the [notebook on numeric data types in Python](../Lecture/02DataTypesNumeric.ipynb). Moreover, the *sequential datatypes* `string` and `list` are applied, which are described in the [notebook on sequential data types in Python](../Lecture/03aDataTypesSequential.ipynb).  "
   ]
  },
  {
   "cell_type": "markdown",
   "metadata": {},
   "source": [
    "**Task:** \n",
    "1. For all of the features, mentioned above assign an arbitrary value to a variable with a meaningful name.\n",
    "2. From the height and the weight of a person the bmi shall be calculated: $$bmi=\\frac{weight[kg]}{(height[m])^2}$$"
   ]
  },
  {
   "cell_type": "code",
   "execution_count": 1,
   "metadata": {
    "ExecuteTime": {
     "end_time": "2017-11-15T08:49:12.478000Z",
     "start_time": "2017-11-15T09:49:12.462000+01:00"
    }
   },
   "outputs": [
    {
     "name": "stdout",
     "output_type": "stream",
     "text": [
      "25.180785123966942\n"
     ]
    }
   ],
   "source": [
    "age=29\n",
    "sex=\"male\"\n",
    "height=1.76\n",
    "weight=78\n",
    "bmi=weight/(height*height)\n",
    "print(bmi)\n",
    "children=2\n",
    "smoker=True\n",
    "region=\"southwest\"\n",
    "charges=15678.50"
   ]
  },
  {
   "cell_type": "markdown",
   "metadata": {},
   "source": [
    "**Questions:**\n",
    "1. What is the type of the allocated variables?"
   ]
  },
  {
   "cell_type": "code",
   "execution_count": 2,
   "metadata": {
    "ExecuteTime": {
     "end_time": "2017-11-15T08:49:12.545000Z",
     "start_time": "2017-11-15T09:49:12.525000+01:00"
    }
   },
   "outputs": [
    {
     "name": "stdout",
     "output_type": "stream",
     "text": [
      "Type of age:  <class 'int'>\n",
      "Type of sex:  <class 'str'>\n",
      "Type of smoker:  <class 'bool'>\n",
      "Type of charges:  <class 'float'>\n"
     ]
    }
   ],
   "source": [
    "print(\"Type of age: \",type(age))\n",
    "print(\"Type of sex: \",type(sex))\n",
    "print(\"Type of smoker: \",type(smoker))\n",
    "print(\"Type of charges: \",type(charges))"
   ]
  },
  {
   "cell_type": "markdown",
   "metadata": {},
   "source": [
    "Task:\n",
    "1. Since all of these features belong to a single person, these feature-values shall be stored in a [Python list](../Lecture/03aDataTypesSequential.ipynb)."
   ]
  },
  {
   "cell_type": "code",
   "execution_count": 3,
   "metadata": {
    "ExecuteTime": {
     "end_time": "2017-11-15T08:49:12.609000Z",
     "start_time": "2017-11-15T09:49:12.609000+01:00"
    }
   },
   "outputs": [
    {
     "name": "stdout",
     "output_type": "stream",
     "text": [
      "[29, 'male', 1.76, 78, 25.180785123966942, 2, True, 'southwest', 15678.5]\n",
      "There are  9 features in the list\n",
      "Type of person1:  <class 'list'>\n"
     ]
    }
   ],
   "source": [
    "person1=[age,sex,height,weight,bmi,children,smoker,region,charges]\n",
    "print(person1)\n",
    "print(\"There are %2d features in the list\"%len(person1))\n",
    "print(\"Type of person1: \",type(person1))"
   ]
  },
  {
   "cell_type": "markdown",
   "metadata": {},
   "source": [
    "The way of formatted print as applied above is the old style. The new way is described below: "
   ]
  },
  {
   "cell_type": "code",
   "execution_count": 4,
   "metadata": {
    "ExecuteTime": {
     "end_time": "2017-11-15T08:49:12.609000Z",
     "start_time": "2017-11-15T09:49:12.609000+01:00"
    }
   },
   "outputs": [
    {
     "name": "stdout",
     "output_type": "stream",
     "text": [
      "There are  9 features in the list\n",
      "Type of person1: <class 'list'> \n"
     ]
    }
   ],
   "source": [
    "print(\"There are {0:2d} features in the list\".format(len(person1)))\n",
    "print(\"Type of person1: {} \".format(type(person1)))"
   ]
  },
  {
   "cell_type": "markdown",
   "metadata": {},
   "source": [
    "Add more persons:"
   ]
  },
  {
   "cell_type": "code",
   "execution_count": 5,
   "metadata": {
    "ExecuteTime": {
     "end_time": "2017-11-15T08:49:12.679000Z",
     "start_time": "2017-11-15T09:49:12.679000+01:00"
    }
   },
   "outputs": [
    {
     "name": "stdout",
     "output_type": "stream",
     "text": [
      "[29, 'male', 1.76, 78, 25.180785123966942, 2, True, 'southwest', 15678.5]\n",
      "[45, 'female', 1.72, 66, 22.30935640886966, 0, False, 'southeast', 5489.98]\n",
      "[21, 'female', 1.78, 64, 20.199469763918696, 0, False, 'northeast', 3578.32]\n"
     ]
    }
   ],
   "source": [
    "person2=[45,\"female\",1.72,66,66/(1.72*1.72),0,False,\"southeast\",5489.98]\n",
    "person3=[21,\"female\",1.78,64,64/(1.78*1.78),0,False,\"northeast\",3578.32]\n",
    "print(person1)\n",
    "print(person2)\n",
    "print(person3)"
   ]
  },
  {
   "cell_type": "markdown",
   "metadata": {},
   "source": [
    "**Questions:**\n",
    "1. Is there a function to calculate the power of a numeric value - like in the bmi-calculation?"
   ]
  },
  {
   "cell_type": "code",
   "execution_count": 6,
   "metadata": {
    "ExecuteTime": {
     "end_time": "2017-11-15T08:49:12.748000Z",
     "start_time": "2017-11-15T09:49:12.745000+01:00"
    }
   },
   "outputs": [
    {
     "name": "stdout",
     "output_type": "stream",
     "text": [
      "22.59814049586777\n"
     ]
    }
   ],
   "source": [
    "import math\n",
    "h=1.72\n",
    "w=70\n",
    "bmi=w/math.pow(height,2)\n",
    "print(bmi)"
   ]
  },
  {
   "cell_type": "markdown",
   "metadata": {},
   "source": [
    "**Tasks**\n",
    "1. The data of all insured persons shall be stored in a list, named `clients`."
   ]
  },
  {
   "cell_type": "code",
   "execution_count": 7,
   "metadata": {
    "ExecuteTime": {
     "end_time": "2017-11-15T09:40:00.900000Z",
     "start_time": "2017-11-15T10:40:00.900000+01:00"
    }
   },
   "outputs": [
    {
     "name": "stdout",
     "output_type": "stream",
     "text": [
      "[[29, 'male', 1.76, 78, 25.180785123966942, 2, True, 'southwest', 15678.5], [45, 'female', 1.72, 66, 22.30935640886966, 0, False, 'southeast', 5489.98], [21, 'female', 1.78, 64, 20.199469763918696, 0, False, 'northeast', 3578.32]]\n"
     ]
    }
   ],
   "source": [
    "clients=[person1,person2,person3]\n",
    "print(clients)"
   ]
  },
  {
   "cell_type": "markdown",
   "metadata": {},
   "source": [
    "## Keyboard Input"
   ]
  },
  {
   "cell_type": "markdown",
   "metadata": {
    "collapsed": true
   },
   "source": [
    "**Tasks:**\n",
    "\n",
    "1. The clients-list shall be appended by the data of another person. The values of this persons features (age, sex,...,charges) shall be defined by keyboard-inputs from the user of this program. \n",
    "2. Determine the length of the outer list `clients`, and the length of the inner lists."
   ]
  },
  {
   "cell_type": "code",
   "execution_count": 8,
   "metadata": {
    "ExecuteTime": {
     "end_time": "2017-11-15T08:51:10.435000Z",
     "start_time": "2017-11-15T09:50:13.418000+01:00"
    }
   },
   "outputs": [
    {
     "name": "stdout",
     "output_type": "stream",
     "text": [
      "Please enter the age of the person (integer)46\n",
      "Please enter the sex of the person (male or female as string)male\n",
      "Please enter the height of the person (in meters)1.86\n",
      "Please enter the weight of the person (in kg)67\n",
      "The BMI of this person is: 19.37\n",
      "Please enter the number of childrens of the person (integer)2\n",
      "Please enter True if the person is a smoker, otherwise FalseFalse\n",
      "Please enter the living region of the person (string)southwest\n",
      "Please enter the charges paid for the person (float)2789\n"
     ]
    }
   ],
   "source": [
    "age=input(\"Please enter the age of the person (integer)\")\n",
    "sex=input(\"Please enter the sex of the person (male or female as string)\")\n",
    "height=float(input(\"Please enter the height of the person (in meters)\"))\n",
    "weight=float(input(\"Please enter the weight of the person (in kg)\"))\n",
    "bmi=weight/(height*height)\n",
    "print(\"The BMI of this person is: %2.2f\"%bmi)\n",
    "children=input(\"Please enter the number of childrens of the person (integer)\")\n",
    "smoker=input(\"Please enter True if the person is a smoker, otherwise False\")\n",
    "region=input(\"Please enter the living region of the person (string)\")\n",
    "charges=input(\"Please enter the charges paid for the person (float)\")"
   ]
  },
  {
   "cell_type": "markdown",
   "metadata": {},
   "source": [
    "## Modify and access Sequential Datatypes\n",
    "Append the data of the new person to the clients-list:"
   ]
  },
  {
   "cell_type": "code",
   "execution_count": 27,
   "metadata": {
    "ExecuteTime": {
     "end_time": "2017-11-15T08:51:19.217000Z",
     "start_time": "2017-11-15T09:51:19.217000+01:00"
    }
   },
   "outputs": [],
   "source": [
    "clients.append([age,sex,height,weight,bmi,children,smoker,region,charges])"
   ]
  },
  {
   "cell_type": "code",
   "execution_count": 28,
   "metadata": {
    "ExecuteTime": {
     "end_time": "2017-11-15T08:51:19.995000Z",
     "start_time": "2017-11-15T09:51:19.995000+01:00"
    }
   },
   "outputs": [
    {
     "name": "stdout",
     "output_type": "stream",
     "text": [
      "Number of persons in the clients-list:  5\n",
      "Length of each person-list:  9\n"
     ]
    }
   ],
   "source": [
    "print(\"Number of persons in the clients-list: %2d\"%len(clients))\n",
    "print(\"Length of each person-list: %2d\"%len(clients[0]))"
   ]
  },
  {
   "cell_type": "markdown",
   "metadata": {},
   "source": [
    "**Questions:**\n",
    "1. How to access\n",
    "    * the age of the second person in the list\n",
    "    * the number of children of the third person in the list\n",
    "2. Which drawback of lists becomes obvious in the accessing-question above?    \n",
    "3. The BMI-formula has been implemented and applied at 3 different places in the code-cells above. What is the drawback of such a multiple implementation? What would be a better solution?"
   ]
  },
  {
   "cell_type": "code",
   "execution_count": 29,
   "metadata": {},
   "outputs": [
    {
     "name": "stdout",
     "output_type": "stream",
     "text": [
      "45\n",
      "0\n"
     ]
    }
   ],
   "source": [
    "print(clients[1][0])\n",
    "print(clients[2][5])"
   ]
  },
  {
   "cell_type": "markdown",
   "metadata": {},
   "source": [
    "## The Dictionary Datatype\n",
    "Dictionaries can be considered to be lists, whose index is not an integer number, but can be defined arbitrarily. The used indexes are called *keys* and for each key a *value* is assigned. Thus dictionaries provide a mapping from *keys* to *values*. In Python dictionaries are defined by curly brackets. The [Notebook on dictionaries](../Lecture/03bDataTypesDictionaries.ipynb) provides more information on this datatype.\n",
    "\n",
    "\n",
    "Model each person with a *dictionary* instead of a *list*:"
   ]
  },
  {
   "cell_type": "code",
   "execution_count": 30,
   "metadata": {
    "ExecuteTime": {
     "end_time": "2017-11-15T08:51:26.728000Z",
     "start_time": "2017-11-15T09:51:26.706000+01:00"
    }
   },
   "outputs": [
    {
     "data": {
      "text/plain": [
       "[29, 'male', 1.76, 78, 25.180785123966942, 2, True, 'southwest', 15678.5]"
      ]
     },
     "execution_count": 30,
     "metadata": {},
     "output_type": "execute_result"
    }
   ],
   "source": [
    "clients[0]"
   ]
  },
  {
   "cell_type": "code",
   "execution_count": 31,
   "metadata": {
    "ExecuteTime": {
     "end_time": "2017-11-15T09:38:58.937000Z",
     "start_time": "2017-11-15T10:38:58.921000+01:00"
    }
   },
   "outputs": [
    {
     "data": {
      "text/plain": [
       "{'age': 29,\n",
       " 'sex': 'male',\n",
       " 'height': 1.76,\n",
       " 'weight': 78,\n",
       " 'bmi': 25.180785123966942,\n",
       " 'children': 2,\n",
       " 'smoker': True,\n",
       " 'region': 'southwest',\n",
       " 'charges': 15678.5}"
      ]
     },
     "execution_count": 31,
     "metadata": {},
     "output_type": "execute_result"
    }
   ],
   "source": [
    "p0={\"age\":29,\"sex\":\"male\",\"height\":1.76,\"weight\":78,\"bmi\":78/(1.76*1.76),\"children\":2,\"smoker\":True,\"region\":\"southwest\",\"charges\":15678.5}\n",
    "p0"
   ]
  },
  {
   "cell_type": "code",
   "execution_count": 32,
   "metadata": {
    "ExecuteTime": {
     "end_time": "2017-11-15T09:39:17.852000Z",
     "start_time": "2017-11-15T10:39:17.852000+01:00"
    }
   },
   "outputs": [
    {
     "name": "stdout",
     "output_type": "stream",
     "text": [
      "dict_keys(['age', 'sex', 'height', 'weight', 'bmi', 'children', 'smoker', 'region', 'charges'])\n"
     ]
    }
   ],
   "source": [
    "print(p0.keys())"
   ]
  },
  {
   "cell_type": "code",
   "execution_count": 33,
   "metadata": {
    "ExecuteTime": {
     "end_time": "2017-11-15T09:39:21.924000Z",
     "start_time": "2017-11-15T10:39:21.924000+01:00"
    }
   },
   "outputs": [
    {
     "name": "stdout",
     "output_type": "stream",
     "text": [
      "dict_values([29, 'male', 1.76, 78, 25.180785123966942, 2, True, 'southwest', 15678.5])\n"
     ]
    }
   ],
   "source": [
    "print(p0.values())"
   ]
  },
  {
   "cell_type": "code",
   "execution_count": 34,
   "metadata": {
    "ExecuteTime": {
     "end_time": "2017-11-15T09:40:14.559000Z",
     "start_time": "2017-11-15T10:40:14.542000+01:00"
    }
   },
   "outputs": [
    {
     "data": {
      "text/plain": [
       "[45, 'female', 1.72, 66, 22.30935640886966, 0, False, 'southeast', 5489.98]"
      ]
     },
     "execution_count": 34,
     "metadata": {},
     "output_type": "execute_result"
    }
   ],
   "source": [
    "clients[1]"
   ]
  },
  {
   "cell_type": "code",
   "execution_count": 35,
   "metadata": {
    "ExecuteTime": {
     "end_time": "2017-11-15T09:40:47.994000Z",
     "start_time": "2017-11-15T10:40:47.994000+01:00"
    }
   },
   "outputs": [
    {
     "data": {
      "text/plain": [
       "{'age': 45,\n",
       " 'sex': 'female',\n",
       " 'height': 1.72,\n",
       " 'weight': 66,\n",
       " 'bmi': 22.30935640886966,\n",
       " 'children': 0,\n",
       " 'smoker': False,\n",
       " 'region': 'southeast',\n",
       " 'charges': 5489.98}"
      ]
     },
     "execution_count": 35,
     "metadata": {},
     "output_type": "execute_result"
    }
   ],
   "source": [
    "p1={\"age\":45,\"sex\":\"female\",\"height\":1.72,\"weight\":66,\"bmi\":66/(1.72*1.72),\"children\":0,\"smoker\":False,\"region\":\"southeast\",\"charges\":5489.98}\n",
    "p1"
   ]
  },
  {
   "cell_type": "markdown",
   "metadata": {},
   "source": [
    "Model the set of all clients with a *dictionary* instead of a *list*. The result is a *nested dictionary*, i.e. a dictionary, whose values are dictionaries."
   ]
  },
  {
   "cell_type": "code",
   "execution_count": 36,
   "metadata": {
    "ExecuteTime": {
     "end_time": "2017-11-15T09:41:01.721000Z",
     "start_time": "2017-11-15T10:41:01.705000+01:00"
    }
   },
   "outputs": [
    {
     "data": {
      "text/plain": [
       "{'client0': {'age': 29,\n",
       "  'sex': 'male',\n",
       "  'height': 1.76,\n",
       "  'weight': 78,\n",
       "  'bmi': 25.180785123966942,\n",
       "  'children': 2,\n",
       "  'smoker': True,\n",
       "  'region': 'southwest',\n",
       "  'charges': 15678.5},\n",
       " 'client1': {'age': 45,\n",
       "  'sex': 'female',\n",
       "  'height': 1.72,\n",
       "  'weight': 66,\n",
       "  'bmi': 22.30935640886966,\n",
       "  'children': 0,\n",
       "  'smoker': False,\n",
       "  'region': 'southeast',\n",
       "  'charges': 5489.98}}"
      ]
     },
     "execution_count": 36,
     "metadata": {},
     "output_type": "execute_result"
    }
   ],
   "source": [
    "clientsDict={\"client0\":p0,\"client1\":p1}\n",
    "clientsDict"
   ]
  },
  {
   "cell_type": "markdown",
   "metadata": {
    "ExecuteTime": {
     "end_time": "2017-11-15T07:25:40.994000Z",
     "start_time": "2017-11-15T08:25:40.994000+01:00"
    }
   },
   "source": [
    "**Questions:**\n",
    "1. How to access\n",
    "    * the age of `client0`?\n",
    "    * the number of children of `client1`?"
   ]
  },
  {
   "cell_type": "code",
   "execution_count": 37,
   "metadata": {
    "ExecuteTime": {
     "end_time": "2017-11-15T09:41:11.115000Z",
     "start_time": "2017-11-15T10:41:11.115000+01:00"
    }
   },
   "outputs": [
    {
     "name": "stdout",
     "output_type": "stream",
     "text": [
      "Age of client0:  29\n"
     ]
    }
   ],
   "source": [
    "print(\"Age of client0: \",clientsDict[\"client0\"][\"age\"])"
   ]
  },
  {
   "cell_type": "code",
   "execution_count": 38,
   "metadata": {
    "ExecuteTime": {
     "end_time": "2017-11-15T08:54:23.078000Z",
     "start_time": "2017-11-15T09:54:23.078000+01:00"
    }
   },
   "outputs": [
    {
     "name": "stdout",
     "output_type": "stream",
     "text": [
      "Number of childrens of client1:  0\n"
     ]
    }
   ],
   "source": [
    "print(\"Number of childrens of client1: \",clientsDict[\"client1\"][\"children\"])"
   ]
  },
  {
   "cell_type": "markdown",
   "metadata": {},
   "source": [
    "## User-defined Functions\n",
    "The notebook [05Functions.ipynb](../Lecture/05Functions.ipynb) provides detailed information on functions in Python. \n",
    "\n",
    "Here, we just implement the bmi-function:"
   ]
  },
  {
   "cell_type": "code",
   "execution_count": 39,
   "metadata": {
    "ExecuteTime": {
     "end_time": "2017-11-15T08:54:32.028000Z",
     "start_time": "2017-11-15T09:54:32.026000+01:00"
    }
   },
   "outputs": [],
   "source": [
    "def bmi(weight,height):\n",
    "    \"\"\"function returns the BMI for the arguments weight [kg] \n",
    "    and height[meters]\"\"\"\n",
    "    bmi = weight/(height*height)\n",
    "    return bmi"
   ]
  },
  {
   "cell_type": "code",
   "execution_count": 40,
   "metadata": {
    "ExecuteTime": {
     "end_time": "2017-11-15T08:54:36.464000Z",
     "start_time": "2017-11-15T09:54:36.448000+01:00"
    }
   },
   "outputs": [
    {
     "name": "stdout",
     "output_type": "stream",
     "text": [
      "19.576333089846603\n",
      "25.46938775510204\n"
     ]
    }
   ],
   "source": [
    "w1=67\n",
    "h1=1.85\n",
    "bmi1=bmi(w1,h1)\n",
    "print(bmi1)\n",
    "\n",
    "w2=78\n",
    "h2=1.75\n",
    "bmi2=bmi(w2,h2)\n",
    "print(bmi2)"
   ]
  },
  {
   "cell_type": "markdown",
   "metadata": {},
   "source": [
    "## Write to and read from files\n",
    "The subject of File-IO is described more thouroughly in [02BasicRoutines.ipynb](../Lecture/02BasicRoutines.ipynb).\n",
    "\n",
    "### Filetype .csv\n",
    "**Tasks:**\n",
    "\n",
    "1. Save the clients-list to a .csv file\n",
    "2. Read the contents of this file\n",
    "\n",
    "Write to .csv file:\n",
    "\n"
   ]
  },
  {
   "cell_type": "code",
   "execution_count": 41,
   "metadata": {
    "ExecuteTime": {
     "end_time": "2017-11-15T08:56:23.408000Z",
     "start_time": "2017-11-15T09:56:23.377000+01:00"
    }
   },
   "outputs": [],
   "source": [
    "import  csv\n",
    "with open(\"out2dlist.csv\",\"w\") as f:\n",
    "    wr = csv.writer(f,lineterminator='\\n')\n",
    "    wr.writerows(clients)"
   ]
  },
  {
   "cell_type": "markdown",
   "metadata": {},
   "source": [
    "Read from .csv file:"
   ]
  },
  {
   "cell_type": "code",
   "execution_count": 42,
   "metadata": {
    "ExecuteTime": {
     "end_time": "2017-11-15T08:58:07.301000Z",
     "start_time": "2017-11-15T09:58:07.285000+01:00"
    }
   },
   "outputs": [
    {
     "name": "stdout",
     "output_type": "stream",
     "text": [
      "['29', 'male', '1.76', '78', '25.180785123966942', '2', 'True', 'southwest', '15678.5']\n",
      "['45', 'female', '1.72', '66', '22.30935640886966', '0', 'False', 'southeast', '5489.98']\n",
      "['21', 'female', '1.78', '64', '20.199469763918696', '0', 'False', 'northeast', '3578.32']\n",
      "['46', 'male', '1.86', '67.0', '19.366400739969936', '2', 'False', 'southwest', '2789']\n",
      "[['29', 'male', '1.76', '78', '25.180785123966942', '2', 'True', 'southwest', '15678.5'], ['45', 'female', '1.72', '66', '22.30935640886966', '0', 'False', 'southeast', '5489.98'], ['21', 'female', '1.78', '64', '20.199469763918696', '0', 'False', 'northeast', '3578.32'], ['46', 'male', '1.86', '67.0', '19.366400739969936', '2', 'False', 'southwest', '2789']]\n"
     ]
    }
   ],
   "source": [
    "with open(\"out2dlist.csv\",\"r\") as f:\n",
    "    r = csv.reader(f)\n",
    "    c1=next(r)\n",
    "    print(c1)\n",
    "    c2=next(r)\n",
    "    print(c2)\n",
    "    c3=next(r)\n",
    "    print(c3)\n",
    "    c4=next(r)\n",
    "    print(c4)\n",
    "clientsList=[c1,c2,c3,c4]\n",
    "print(clientsList)"
   ]
  },
  {
   "cell_type": "markdown",
   "metadata": {},
   "source": [
    "**Questions:**\n",
    "1. What is the drawback of the implemented method to read from file?\n",
    "2. How could this reading process be better implemented?"
   ]
  },
  {
   "cell_type": "markdown",
   "metadata": {},
   "source": [
    "### Filetype .json"
   ]
  },
  {
   "cell_type": "code",
   "execution_count": 43,
   "metadata": {
    "ExecuteTime": {
     "end_time": "2017-11-15T09:41:22.732000Z",
     "start_time": "2017-11-15T10:41:22.728000+01:00"
    }
   },
   "outputs": [],
   "source": [
    "import json\n",
    "with open(\"outDict.json\",\"w\") as f:\n",
    "    json.dump(clientsDict,f)\n",
    "    "
   ]
  },
  {
   "cell_type": "code",
   "execution_count": 44,
   "metadata": {
    "ExecuteTime": {
     "end_time": "2017-11-15T09:41:48.655000Z",
     "start_time": "2017-11-15T10:41:48.655000+01:00"
    }
   },
   "outputs": [
    {
     "data": {
      "text/plain": [
       "{'client0': {'age': 29,\n",
       "  'sex': 'male',\n",
       "  'height': 1.76,\n",
       "  'weight': 78,\n",
       "  'bmi': 25.180785123966942,\n",
       "  'children': 2,\n",
       "  'smoker': True,\n",
       "  'region': 'southwest',\n",
       "  'charges': 15678.5},\n",
       " 'client1': {'age': 45,\n",
       "  'sex': 'female',\n",
       "  'height': 1.72,\n",
       "  'weight': 66,\n",
       "  'bmi': 22.30935640886966,\n",
       "  'children': 0,\n",
       "  'smoker': False,\n",
       "  'region': 'southeast',\n",
       "  'charges': 5489.98}}"
      ]
     },
     "execution_count": 44,
     "metadata": {},
     "output_type": "execute_result"
    }
   ],
   "source": [
    "import json\n",
    "with open(\"outDict.json\",\"r\") as f:\n",
    "    clientsDict=json.load(f)\n",
    "clientsDict"
   ]
  },
  {
   "cell_type": "markdown",
   "metadata": {
    "collapsed": true
   },
   "source": [
    "**Question:**\n",
    "1. Inspect the type of the features after loading from the .csv and the .json file, respectively."
   ]
  },
  {
   "cell_type": "code",
   "execution_count": null,
   "metadata": {},
   "outputs": [],
   "source": []
  },
  {
   "cell_type": "code",
   "execution_count": null,
   "metadata": {},
   "outputs": [],
   "source": []
  }
 ],
 "metadata": {
  "anaconda-cloud": {},
  "kernelspec": {
   "display_name": "Python 3",
   "language": "python",
   "name": "python3"
  },
  "language_info": {
   "codemirror_mode": {
    "name": "ipython",
    "version": 3
   },
   "file_extension": ".py",
   "mimetype": "text/x-python",
   "name": "python",
   "nbconvert_exporter": "python",
   "pygments_lexer": "ipython3",
   "version": "3.6.7"
  },
  "toc": {
   "nav_menu": {},
   "number_sections": true,
   "sideBar": true,
   "skip_h1_title": false,
   "title_cell": "Table of Contents",
   "title_sidebar": "Contents",
   "toc_cell": false,
   "toc_position": {
    "height": "434px",
    "left": "0px",
    "right": "1068px",
    "top": "131.4px",
    "width": "212px"
   },
   "toc_section_display": "block",
   "toc_window_display": true
  }
 },
 "nbformat": 4,
 "nbformat_minor": 1
}

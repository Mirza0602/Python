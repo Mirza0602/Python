{
 "cells": [
  {
   "cell_type": "markdown",
   "metadata": {},
   "source": [
    "# Live Coding Session 2:\n",
    "What you will learn in this session:\n",
    " * Control Structures in Python\n",
    "     * Conditional Processing (if-then-else)\n",
    "     * Looped Processing (for- and while-loops)\n",
    " * Type conversion (casting)\n",
    " * Numpy\n",
    " * Matplotlib\n",
    " "
   ]
  },
  {
   "cell_type": "markdown",
   "metadata": {},
   "source": [
    "## Task Description: \n",
    "The task, which has already been sketched in [Session1](Session1.ipynb) will be solved in this notebook. Instead of using only a few own-defined data instances, we import a comprehensive dataset from the publically available [insurance dataset](../../R/Lecture/data/insurance.csv) "
   ]
  },
  {
   "cell_type": "markdown",
   "metadata": {},
   "source": [
    "## For Loop\n",
    "In this example only the basic usage of for-loops is demonstrated. The subject is described more thouroughly in notebook [04ControllStructures.ipynb](../Lecture/04ControllStructures.ipynb).\n",
    "\n",
    "\n",
    "**Tasks:**\n",
    "1. Read all data from the file [insurance dataset](../../R/Lecture/data/insurance.csv), into a nested list, i.e. each row in the file shall be represented by a single list (inner lists) and all of these inner lists shall be aggregated in an outer list. Use a for-loop for the line-by-line reading-process.   "
   ]
  },
  {
   "cell_type": "code",
   "execution_count": 1,
   "metadata": {
    "ExecuteTime": {
     "end_time": "2017-11-16T14:45:35.661000Z",
     "start_time": "2017-11-16T15:45:35.629000+01:00"
    }
   },
   "outputs": [
    {
     "name": "stdout",
     "output_type": "stream",
     "text": [
      "Number of clients in the file:  1339\n",
      "First row in the file:  ['age', 'sex', 'bmi', 'children', 'smoker', 'region', 'charges']\n",
      "Second row in the file:  ['19', 'female', '27.9', '0', 'yes', 'southwest', '16884.924']\n"
     ]
    }
   ],
   "source": [
    "import csv\n",
    "filelocation=\"insurance.csv\"\n",
    "clientList=[]\n",
    "with open(filelocation,\"r\") as f:\n",
    "    r = csv.reader(f)\n",
    "    for line in r:\n",
    "        clientList.append(line)\n",
    "print(\"Number of clients in the file: \",len(clientList))\n",
    "print(\"First row in the file: \",clientList[0])\n",
    "print(\"Second row in the file: \",clientList[1])"
   ]
  },
  {
   "cell_type": "markdown",
   "metadata": {},
   "source": [
    "## Conditional Execution\n",
    "In this example only the basic usage of conditional expressions is demonstrated. The subject is described more thouroughly in notebook [04ControllStructures.ipynb](../Lecture/04ControllStructures.ipynb)."
   ]
  },
  {
   "cell_type": "markdown",
   "metadata": {},
   "source": [
    "**Tasks:**\n",
    "1. As can be seen in the code-cell above, the first line in the file is header, which specifies the feature-names. Re-implement the reading process, such that the header-row is excluded from the data-rows. \n",
    "2. The output of the code-cell above also demonstrates, that all data has been imported as `string` variables. Re-implement the reading process, such that the numeric features are converted in their appropriate type."
   ]
  },
  {
   "cell_type": "code",
   "execution_count": 2,
   "metadata": {
    "ExecuteTime": {
     "end_time": "2017-11-16T14:45:35.745000Z",
     "start_time": "2017-11-16T15:45:35.714000+01:00"
    }
   },
   "outputs": [
    {
     "name": "stdout",
     "output_type": "stream",
     "text": [
      "Number of clients in the file:  1338\n",
      "Number of features of each client:  7\n",
      "Feature Names:  ['age', 'sex', 'bmi', 'children', 'smoker', 'region', 'charges']\n",
      "First data row:  [19, 'female', 27.9, 0, 1, 'southwest', 16884.924]\n"
     ]
    }
   ],
   "source": [
    "clientList=[]\n",
    "header=True\n",
    "with open(filelocation,\"r\") as f:\n",
    "    r = csv.reader(f)\n",
    "    for line in r:\n",
    "        if header==True:\n",
    "            featureNames=line\n",
    "            header=False\n",
    "        else:\n",
    "            line[0]=int(line[0]) #convert type of age\n",
    "            line[2]=float(line[2]) #convert type of bmi\n",
    "            line[3]=int(line[3]) #convert type of children\n",
    "            line[6]=float(line[6]) #convert type of chargess\n",
    "            if line[4]==\"yes\":     #convert type of Smoker into numeric Type\n",
    "                line[4]=1\n",
    "            else:\n",
    "                line[4]=0\n",
    "            clientList.append(line)\n",
    "print(\"Number of clients in the file: \",len(clientList))\n",
    "print(\"Number of features of each client: \",len(clientList[0]))\n",
    "print(\"Feature Names: \",featureNames)\n",
    "print(\"First data row: \",clientList[0])"
   ]
  },
  {
   "cell_type": "markdown",
   "metadata": {},
   "source": [
    "**Tasks:**\n",
    "1. For all numeric features, determine the mean in the smoker and the mean in the non-smoker partition. Do smokers have in average\n",
    "    * a higher BMI? \n",
    "    * more children?\n",
    "    * higher charges?\n",
    "    * a higher age?"
   ]
  },
  {
   "cell_type": "code",
   "execution_count": 3,
   "metadata": {
    "ExecuteTime": {
     "end_time": "2017-11-16T14:45:35.794000Z",
     "start_time": "2017-11-16T15:45:35.761000+01:00"
    }
   },
   "outputs": [
    {
     "name": "stdout",
     "output_type": "stream",
     "text": [
      "[0, 0, 0, 0, 0, 0, 0]\n",
      "[0, 0, 0, 0, 0, 0, 0]\n",
      "[0, 2, 3, 4, 6]\n",
      "Average values of smokers: \n",
      " [38.51459854014598, 0, 30.708448905109503, 1.1131386861313868, 1.0, 0, 32050.23183153285]\n",
      "Average values of non-smokers: \n",
      " [39.38533834586466, 0, 30.651795112781922, 1.0902255639097744, 0.0, 0, 8434.268297856199]\n"
     ]
    }
   ],
   "source": [
    "accumulatedValuesSmoker=[0]*len(clientList[0])\n",
    "accumulatedValuesNonSmoker=[0]*len(clientList[0])\n",
    "numericIndex=[0,2,3,4,6]\n",
    "print(accumulatedValuesSmoker)\n",
    "print(accumulatedValuesNonSmoker)\n",
    "print(numericIndex)\n",
    "sumSmokers=0\n",
    "sumNonSmokers=0\n",
    "\n",
    "for client in clientList:\n",
    "    if client[4]==1:\n",
    "        for idx in numericIndex:\n",
    "            accumulatedValuesSmoker[idx]+=client[idx]\n",
    "        sumSmokers+=1\n",
    "    else:\n",
    "        for idx in numericIndex:\n",
    "            accumulatedValuesNonSmoker[idx]+=client[idx]\n",
    "        sumNonSmokers+=1\n",
    "for idx in numericIndex:\n",
    "    accumulatedValuesSmoker[idx]/=float(sumSmokers)\n",
    "    accumulatedValuesNonSmoker[idx]/=float(sumNonSmokers)\n",
    "print(\"Average values of smokers: \\n\",accumulatedValuesSmoker)\n",
    "print(\"Average values of non-smokers: \\n\",accumulatedValuesNonSmoker)"
   ]
  },
  {
   "cell_type": "markdown",
   "metadata": {},
   "source": [
    "## Numpy\n",
    "Arithmetic operations, like the calculation of descriptive statistics in the example above, can be realized much more comfortable and efficient, by applying the numpy package. [Numpy](https://docs.scipy.org/doc/) provides efficient datastructures and a vast bunch of functions for any kind of scientific calculation. The main datastructure is the numpy-array. The basics of numpy are described in the [numpy introduction notebook of this lecture](../Lecture/NP01numpyBasics.ipynb).\n",
    "\n",
    "The code-cells below demonstrate how numpy can be applied to efficiently solve the task of the example above (do features like BMI significantly vary between the groups of smokers and non-smokers?).\n",
    "\n",
    "First, a numpy-array is generated from the nested list `clientList` (in the third line of the code-cell below)."
   ]
  },
  {
   "cell_type": "code",
   "execution_count": 4,
   "metadata": {
    "ExecuteTime": {
     "end_time": "2017-11-16T14:48:20.852000Z",
     "start_time": "2017-11-16T15:48:19.032000+01:00"
    }
   },
   "outputs": [
    {
     "name": "stdout",
     "output_type": "stream",
     "text": [
      "First rows of the entire array:\n",
      "[['19' 'female' '27.9' '0' '1' 'southwest' '16884.924']\n",
      " ['18' 'male' '33.77' '1' '0' 'southeast' '1725.5523']\n",
      " ['28' 'male' '33.0' '3' '0' 'southeast' '4449.462']]\n"
     ]
    }
   ],
   "source": [
    "import numpy as np\n",
    "np.set_printoptions(precision=2,suppress=True)\n",
    "clientArray=np.array(clientList)\n",
    "print(\"First rows of the entire array:\")\n",
    "print(clientArray[:3,:])"
   ]
  },
  {
   "cell_type": "markdown",
   "metadata": {},
   "source": [
    "As can be seen in the output, the new numpy-array keeps the same data as the nested `clientList`. All values are stored as strings. \n",
    "\n",
    "Next, all the numeric features of the insurance data are extracted. Moreover, the type of this numeric columns is converted to float."
   ]
  },
  {
   "cell_type": "code",
   "execution_count": 5,
   "metadata": {
    "ExecuteTime": {
     "end_time": "2017-11-16T14:48:36.558000Z",
     "start_time": "2017-11-16T15:48:36.548000+01:00"
    }
   },
   "outputs": [
    {
     "name": "stdout",
     "output_type": "stream",
     "text": [
      "\n",
      "\n",
      "Numeric part of the array in numeric format:\n",
      "[[   19.      27.9      0.       1.   16884.92]\n",
      " [   18.      33.77     1.       0.    1725.55]\n",
      " [   28.      33.       3.       0.    4449.46]\n",
      " ...\n",
      " [   18.      36.85     0.       0.    1629.83]\n",
      " [   21.      25.8      0.       0.    2007.94]\n",
      " [   61.      29.07     0.       1.   29141.36]]\n"
     ]
    }
   ],
   "source": [
    "print(\"\\n\\nNumeric part of the array in numeric format:\")\n",
    "numClientArray=clientArray[:,numericIndex].astype(np.float32)\n",
    "print(numClientArray)"
   ]
  },
  {
   "cell_type": "markdown",
   "metadata": {},
   "source": [
    "Numpy provides many functions for calculating descriptive statistics. These functions can be executed on any numpy-array. In the code cell below, just the mean of each numeric feature is calculated. First the mean over all clients. Then the mean over the smoker and non-smoker-partition, respectively. Note how easy numpy-arrays can be filtered (splitted) with respect to variable-values. Here, the array of all clients is partitioned with respect to the value of the feature `smoker`."
   ]
  },
  {
   "cell_type": "code",
   "execution_count": 6,
   "metadata": {
    "ExecuteTime": {
     "end_time": "2017-11-16T14:53:04.682000Z",
     "start_time": "2017-11-16T15:53:04.666000+01:00"
    }
   },
   "outputs": [
    {
     "name": "stdout",
     "output_type": "stream",
     "text": [
      "Average Values of all clients:\n",
      " [   39.21    30.66     1.09     0.2  13270.42]\n",
      "\n",
      "Average Values of smokers:\n",
      " [   38.51    30.71     1.11     1.   32050.22]\n",
      "\n",
      "Average Values of non-smokers:\n",
      " [  39.39   30.65    1.09    0.   8434.27]\n"
     ]
    }
   ],
   "source": [
    "print(\"Average Values of all clients:\\n\",numClientArray.mean(axis=0))\n",
    "smokerArray=numClientArray[numClientArray[:,3]==1,:]\n",
    "print(\"\\nAverage Values of smokers:\\n\",smokerArray.mean(axis=0))\n",
    "nonSmokerArray=numClientArray[numClientArray[:,3]==0,:]\n",
    "print(\"\\nAverage Values of non-smokers:\\n\",nonSmokerArray.mean(axis=0))"
   ]
  },
  {
   "cell_type": "markdown",
   "metadata": {
    "collapsed": true
   },
   "source": [
    "## Visualization with Matplotlib\n",
    "[Matplotlib](http://matplotlib.org/) is the main Python 2D plotting library. In this notebook we apply the *pyplot*-module of Matplotlib in order to \n",
    "* draw scatter-plots for visual correlation analysis\n",
    "* histograms for the visualization of value distributions\n",
    "\n",
    "These are only two types out of a vast selection of plotting-types, provided by pyplot. The basics of matplotlib are described in the [matplotlib introduction notebook of this lecture](../Lecture/PLT01visualization.ipynb)."
   ]
  },
  {
   "cell_type": "markdown",
   "metadata": {},
   "source": [
    "**Question:**\n",
    "\n",
    "In the code cell below the feature `charges` is plotted versus the feature `BMI`. What can be concluded from this visualisation?"
   ]
  },
  {
   "cell_type": "code",
   "execution_count": 7,
   "metadata": {
    "ExecuteTime": {
     "end_time": "2017-11-16T17:16:41.988000Z",
     "start_time": "2017-11-16T18:16:41.718000+01:00"
    }
   },
   "outputs": [
    {
     "data": {
      "image/png": "[encoded data removed]",
      "text/plain": [
       "<Figure size 864x720 with 1 Axes>"
      ]
     },
     "metadata": {
      "needs_background": "light"
     },
     "output_type": "display_data"
    }
   ],
   "source": [
    "%matplotlib inline\n",
    "from matplotlib import pyplot as plt\n",
    "plt.figure(figsize=(12,10))\n",
    "plt.plot(numClientArray[:,1],numClientArray[:,4],\"or\")\n",
    "plt.xlabel(\"BMI\")\n",
    "plt.ylabel(\"Charges\")\n",
    "plt.title(\"Correlation between Charges and BMI\")\n",
    "plt.show()"
   ]
  },
  {
   "cell_type": "markdown",
   "metadata": {},
   "source": [
    "Next, the histograms of the features\n",
    "* BMI\n",
    "* charges\n",
    "* number of children\n",
    "\n",
    "are plotted:"
   ]
  },
  {
   "cell_type": "code",
   "execution_count": 8,
   "metadata": {
    "ExecuteTime": {
     "end_time": "2017-11-16T18:12:20.599000Z",
     "start_time": "2017-11-16T19:12:20.345000+01:00"
    }
   },
   "outputs": [
    {
     "data": {
      "image/png": "[encoded data removed]",
      "text/plain": [
       "<Figure size 864x720 with 1 Axes>"
      ]
     },
     "metadata": {
      "needs_background": "light"
     },
     "output_type": "display_data"
    }
   ],
   "source": [
    "plt.figure(figsize=(12,10))\n",
    "plt.hist(numClientArray[:,1],bins=15)\n",
    "plt.title(\"Distribution of BMI-values\")\n",
    "plt.show()"
   ]
  },
  {
   "cell_type": "code",
   "execution_count": 9,
   "metadata": {
    "ExecuteTime": {
     "end_time": "2017-11-16T18:13:31.912000Z",
     "start_time": "2017-11-16T19:13:31.647000+01:00"
    }
   },
   "outputs": [
    {
     "data": {
      "image/png": "[encoded data removed]",
      "text/plain": [
       "<Figure size 864x720 with 1 Axes>"
      ]
     },
     "metadata": {
      "needs_background": "light"
     },
     "output_type": "display_data"
    }
   ],
   "source": [
    "plt.figure(figsize=(12,10))\n",
    "plt.hist(numClientArray[:,4],bins=20)\n",
    "plt.title(\"Distribution of charges\")\n",
    "plt.show()"
   ]
  },
  {
   "cell_type": "code",
   "execution_count": 10,
   "metadata": {
    "ExecuteTime": {
     "end_time": "2017-11-16T18:15:05.853000Z",
     "start_time": "2017-11-16T19:15:05.630000+01:00"
    }
   },
   "outputs": [
    {
     "data": {
      "image/png": "[encoded data removed]",
      "text/plain": [
       "<Figure size 864x720 with 1 Axes>"
      ]
     },
     "metadata": {
      "needs_background": "light"
     },
     "output_type": "display_data"
    }
   ],
   "source": [
    "plt.figure(figsize=(12,10))\n",
    "plt.hist(numClientArray[:,2])\n",
    "plt.title(\"Distribution of childrens\")\n",
    "plt.show()"
   ]
  },
  {
   "cell_type": "code",
   "execution_count": null,
   "metadata": {},
   "outputs": [],
   "source": []
  }
 ],
 "metadata": {
  "anaconda-cloud": {},
  "kernelspec": {
   "display_name": "Python 3",
   "language": "python",
   "name": "python3"
  },
  "language_info": {
   "codemirror_mode": {
    "name": "ipython",
    "version": 3
   },
   "file_extension": ".py",
   "mimetype": "text/x-python",
   "name": "python",
   "nbconvert_exporter": "python",
   "pygments_lexer": "ipython3",
   "version": "3.6.7"
  },
  "toc": {
   "nav_menu": {},
   "number_sections": true,
   "sideBar": true,
   "skip_h1_title": false,
   "title_cell": "Table of Contents",
   "title_sidebar": "Contents",
   "toc_cell": false,
   "toc_position": {},
   "toc_section_display": "block",
   "toc_window_display": true
  }
 },
 "nbformat": 4,
 "nbformat_minor": 1
}

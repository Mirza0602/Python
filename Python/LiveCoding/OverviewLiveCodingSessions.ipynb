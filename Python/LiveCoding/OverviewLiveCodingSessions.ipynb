{
 "cells": [
  {
   "cell_type": "markdown",
   "metadata": {},
   "source": [
    "# Overview Live Coding Sessions:\n",
    "* Author: Johannes Maucher\n",
    "* Last update: May 23rd, 2018\n",
    "\n",
    "During the 3-day presence part of the *Programming for Data Science* course we will implement the tasks of the *LiveCoding*-notebooks together. During the implementation we will require data-structures, functions, modules, etc. which are described in the notebooks of the dirctory *Lecture*. I.e. these *Lecture*-notebooks contain the theory, which is required to solve the task. \n",
    "\n",
    "**The concept of this course is to start from tasks in the *LiveCoding*-notebooks and motivate the theory in the *Lecture*-notebooks by these tasks.**"
   ]
  },
  {
   "cell_type": "markdown",
   "metadata": {},
   "source": [
    "1. [LiveCoding Session 1](Session1.ipynb)\n",
    "\n",
    "    * **Task:** Organize personal health-related data\n",
    "    * **Theory:** \n",
    "        * Python datatypes: numeric, sequential, dictionaries\n",
    "        * Definition of functions\n",
    "        * Input and Output from keyboard, to console, from/to files\n",
    "2. [LiveCoding Session 2](Session2.ipynb)   \n",
    "\n",
    "    * **Task:** Access data from health-insurance company and find main cost-factors\n",
    "    * **Theory:** \n",
    "        * Python control structure: for, while, if-else, ...\n",
    "        * Type-conversion\n",
    "        * Numpy- and Matplotlib-basics\n",
    "        \n",
    "3. [LiveCoding Session 3](Session3.ipynb)   \n",
    "\n",
    "    * **Task:** Live access of feeds from news server \n",
    "    * **Theory:** \n",
    "        * Access web data\n",
    "        * Simple text processing by applying functions provided by the string-datatype\n",
    "        * File IO\n",
    "        \n",
    "4. [LiveCoding Session 4](Session4.ipynb)   \n",
    "\n",
    "    * **Task:** Analyse comprehensive dataset on video-game-sales\n",
    "    * **Theory:** \n",
    "        * Applying Pandas Dataframes for data-management\n",
    "        * Data visualisation with Matplotlib and Seaborn\n",
    "        \n",
    "5. [LiveCoding Session 5](Session5.ipynb)   \n",
    "\n",
    "    * **Task:** Access and analyse stock data\n",
    "    * **Theory:** \n",
    "        * Access data from Web-Api\n",
    "        * Applying Pandas Dataframes for data-management\n",
    "        * Simple time-series analysis and visualisation\n",
    "        \n",
    "\n",
    "There are much more practical tasks in the *Assignments*-dirctory. Some of them will be implemeted together during the 3-day presence part. The others will be homework for the online-part of the course."
   ]
  },
  {
   "cell_type": "code",
   "execution_count": null,
   "metadata": {},
   "outputs": [],
   "source": []
  }
 ],
 "metadata": {
  "kernelspec": {
   "display_name": "Python 3",
   "language": "python",
   "name": "python3"
  },
  "language_info": {
   "codemirror_mode": {
    "name": "ipython",
    "version": 3
   },
   "file_extension": ".py",
   "mimetype": "text/x-python",
   "name": "python",
   "nbconvert_exporter": "python",
   "pygments_lexer": "ipython3",
   "version": "3.7.3"
  },
  "toc": {
   "base_numbering": 1,
   "nav_menu": {},
   "number_sections": true,
   "sideBar": true,
   "skip_h1_title": false,
   "title_cell": "Table of Contents",
   "title_sidebar": "Contents",
   "toc_cell": false,
   "toc_position": {},
   "toc_section_display": true,
   "toc_window_display": false
  }
 },
 "nbformat": 4,
 "nbformat_minor": 2
}

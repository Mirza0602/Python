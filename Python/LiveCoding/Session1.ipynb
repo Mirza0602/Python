{
 "cells": [
  {
   "cell_type": "markdown",
   "metadata": {},
   "source": [
    "# Live Coding Session 1:\n",
    "What you will learn in this session:\n",
    " * Python Datatypes\n",
    "     * Numeric Datatypes\n",
    "     * Sequential Datatypes: Strings and Lists\n",
    "     * Dictionaries\n",
    " * Writing user-defined functions\n",
    " * Keyboard Input\n",
    " * Write to and read from files\n"
   ]
  },
  {
   "cell_type": "markdown",
   "metadata": {},
   "source": [
    "## Jupyter Notebook Extensions\n",
    "[The Jupyter Notebook Extensions Configurator](https://github.com/Jupyter-contrib/jupyter_nbextensions_configurator) provides a comfortable tool for enabling Jupyter Notebook Extensions. These extensions provide helpful tools for working with Jupyter Notebooks. By uncommenting and executing the following code-cell the extensions and the configurator will be downloaded and installed. Note that the notebook-server must be restartet in order to activate the extension configuratior.\n",
    "\n",
    "Install Jupyter Notebook extensions and the configurator:"
   ]
  },
  {
   "cell_type": "code",
   "execution_count": null,
   "metadata": {},
   "outputs": [],
   "source": [
    "#!conda install -y -c conda-forge jupyter_nbextensions_configurator"
   ]
  },
  {
   "cell_type": "markdown",
   "metadata": {},
   "source": [
    "## Task Description: \n",
    "A health insurance company wants to find out whether there are correlations between the personal features:\n",
    "* age\n",
    "* sex\n",
    "* height\n",
    "* weight\n",
    "* number of children\n",
    "* smoker/non-smoker\n",
    "* region of living\n",
    "\n",
    "and the charges they have to pay for these persons.\n",
    "\n",
    "This task is not solved in the current jupyter-notebook session. However, some basics, required for solving this task are conveyed. "
   ]
  },
  {
   "cell_type": "markdown",
   "metadata": {},
   "source": [
    "## Numeric and Sequential Datatypes\n",
    "In this section the basic numeric datatypes of Python are applied. More details on this topic are provided in the [notebook on numeric data types in Python](../Lecture/02DataTypesNumeric.ipynb). Moreover, the *sequential datatypes* `string` and `list` are applied, which are described in the [notebook on sequential data types in Python](../Lecture/03aDataTypesSequential.ipynb).  "
   ]
  },
  {
   "cell_type": "markdown",
   "metadata": {},
   "source": [
    "**Task:** \n",
    "1. For all of the features, mentioned above assign an arbitrary value to a variable with a meaningful name.\n",
    "2. From the height and the weight of a person the bmi shall be calculated: $$bmi=\\frac{weight[kg]}{(height[m])^2}$$"
   ]
  },
  {
   "cell_type": "code",
   "execution_count": null,
   "metadata": {
    "ExecuteTime": {
     "end_time": "2017-11-15T08:49:12.478000Z",
     "start_time": "2017-11-15T09:49:12.462000+01:00"
    }
   },
   "outputs": [],
   "source": []
  },
  {
   "cell_type": "markdown",
   "metadata": {},
   "source": [
    "**Questions:**\n",
    "1. What is the type of the allocated variables?"
   ]
  },
  {
   "cell_type": "code",
   "execution_count": null,
   "metadata": {
    "ExecuteTime": {
     "end_time": "2017-11-15T08:49:12.545000Z",
     "start_time": "2017-11-15T09:49:12.525000+01:00"
    }
   },
   "outputs": [],
   "source": []
  },
  {
   "cell_type": "markdown",
   "metadata": {},
   "source": [
    "Task:\n",
    "1. Since all of these features belong to a single person, these feature-values shall be stored in a [Python list](../Lecture/03aDataTypesSequential.ipynb)."
   ]
  },
  {
   "cell_type": "code",
   "execution_count": null,
   "metadata": {
    "ExecuteTime": {
     "end_time": "2017-11-15T08:49:12.609000Z",
     "start_time": "2017-11-15T09:49:12.609000+01:00"
    }
   },
   "outputs": [],
   "source": []
  },
  {
   "cell_type": "markdown",
   "metadata": {},
   "source": [
    "Add more persons:"
   ]
  },
  {
   "cell_type": "code",
   "execution_count": null,
   "metadata": {
    "ExecuteTime": {
     "end_time": "2017-11-15T08:49:12.679000Z",
     "start_time": "2017-11-15T09:49:12.679000+01:00"
    }
   },
   "outputs": [],
   "source": []
  },
  {
   "cell_type": "markdown",
   "metadata": {},
   "source": [
    "**Tasks**\n",
    "1. The data of all insured persons shall be stored in a list, named `clients`."
   ]
  },
  {
   "cell_type": "code",
   "execution_count": null,
   "metadata": {
    "ExecuteTime": {
     "end_time": "2017-11-15T09:40:00.900000Z",
     "start_time": "2017-11-15T10:40:00.900000+01:00"
    }
   },
   "outputs": [],
   "source": []
  },
  {
   "cell_type": "markdown",
   "metadata": {},
   "source": [
    "## Keyboard Input"
   ]
  },
  {
   "cell_type": "markdown",
   "metadata": {
    "collapsed": true
   },
   "source": [
    "**Tasks:**\n",
    "\n",
    "1. The clients-list shall be appended by the data of another person. The values of this persons features (age, sex,...,charges) shall be defined by keyboard-inputs from the user of this program. \n",
    "2. Determine the length of the outer list `clients`, and the length of the inner lists."
   ]
  },
  {
   "cell_type": "code",
   "execution_count": null,
   "metadata": {
    "ExecuteTime": {
     "start_time": "2017-11-22T09:38:46.448Z"
    }
   },
   "outputs": [],
   "source": [
    "age=input(\"Please enter the age of the person (integer)\")\n",
    "sex=input(\"Please enter the sex of the person (male or female as string)\")\n",
    "height=input(\"Please enter the height of the person (in meters)\")\n",
    "weight=input(\"Please enter the weight of the person (in kg)\")\n",
    "bmi=weight/(height*height)\n",
    "print(\"The BMI of this person is: %2.2f\"%bmi)\n",
    "children=input(\"Please enter the number of childrens of the person (integer)\")\n",
    "smoker=input(\"Please enter True if the person is a smoker, otherwise False\")\n",
    "region=input(\"Please enter the living region of the person (string)\")\n",
    "charges=input(\"Please enter the charges paid for the person (float)\")"
   ]
  },
  {
   "cell_type": "markdown",
   "metadata": {},
   "source": [
    "## Modify and access Sequential Datatypes\n",
    "Append the data of the new person to the clients-list:"
   ]
  },
  {
   "cell_type": "code",
   "execution_count": null,
   "metadata": {
    "ExecuteTime": {
     "end_time": "2017-11-15T08:51:19.217000Z",
     "start_time": "2017-11-15T09:51:19.217000+01:00"
    },
    "collapsed": true
   },
   "outputs": [],
   "source": []
  },
  {
   "cell_type": "markdown",
   "metadata": {},
   "source": [
    "**Questions:**\n",
    "1. How to access\n",
    "    * the age of the second person in the list\n",
    "    * the number of children of the third person in the list\n",
    "2. Which drawback of lists becomes obvious in the accessing-question above?    \n",
    "3. The BMI-formula has been implemented and applied at 3 different places in the code-cells above. What is the drawback of such a multiple implementation? What would be a better solution?"
   ]
  },
  {
   "cell_type": "markdown",
   "metadata": {},
   "source": [
    "## The Dictionary Datatype\n",
    "Dictionaries can be considered to be lists, whose index is not an integer number, but can be defined arbitrarily. The used indexes are called *keys* and for each key a *value* is assigned. Thus dictionaries provide a mapping from *keys* to *values*. In Python dictionaries are defined by curly brackets. The [Notebook on dictionaries](../Lecture/03bDataTypesDictionaries.ipynb) provides more information on this datatype.\n",
    "\n",
    "\n",
    "Model each person with a *dictionary* instead of a *list*:"
   ]
  },
  {
   "cell_type": "code",
   "execution_count": null,
   "metadata": {
    "ExecuteTime": {
     "end_time": "2017-11-15T08:51:26.728000Z",
     "start_time": "2017-11-15T09:51:26.706000+01:00"
    }
   },
   "outputs": [],
   "source": []
  },
  {
   "cell_type": "markdown",
   "metadata": {},
   "source": [
    "Model the set of all clients with a *dictionary* instead of a *list*. The result is a *nested dictionary*, i.e. a dictionary, whose values are dictionaries."
   ]
  },
  {
   "cell_type": "code",
   "execution_count": null,
   "metadata": {
    "ExecuteTime": {
     "end_time": "2017-11-15T09:41:01.721000Z",
     "start_time": "2017-11-15T10:41:01.705000+01:00"
    }
   },
   "outputs": [],
   "source": []
  },
  {
   "cell_type": "markdown",
   "metadata": {
    "ExecuteTime": {
     "end_time": "2017-11-15T07:25:40.994000Z",
     "start_time": "2017-11-15T08:25:40.994000+01:00"
    }
   },
   "source": [
    "**Questions:**\n",
    "1. How to access\n",
    "    * the age of `client0`?\n",
    "    * the number of children of `client1`?"
   ]
  },
  {
   "cell_type": "code",
   "execution_count": null,
   "metadata": {
    "ExecuteTime": {
     "end_time": "2017-11-15T09:41:11.115000Z",
     "start_time": "2017-11-15T10:41:11.115000+01:00"
    }
   },
   "outputs": [],
   "source": []
  },
  {
   "cell_type": "code",
   "execution_count": null,
   "metadata": {
    "ExecuteTime": {
     "end_time": "2017-11-15T08:54:23.078000Z",
     "start_time": "2017-11-15T09:54:23.078000+01:00"
    }
   },
   "outputs": [],
   "source": []
  },
  {
   "cell_type": "markdown",
   "metadata": {},
   "source": [
    "## User-defined Functions\n",
    "The notebook [05Functions.ipynb](../Lecture/05Functions.ipynb) provides detailed information on functions in Python. \n",
    "\n",
    "Here, we just implement the bmi-function:"
   ]
  },
  {
   "cell_type": "code",
   "execution_count": null,
   "metadata": {
    "ExecuteTime": {
     "end_time": "2017-11-15T08:54:32.028000Z",
     "start_time": "2017-11-15T09:54:32.026000+01:00"
    },
    "collapsed": true
   },
   "outputs": [],
   "source": []
  },
  {
   "cell_type": "code",
   "execution_count": null,
   "metadata": {
    "ExecuteTime": {
     "end_time": "2017-11-15T08:54:36.464000Z",
     "start_time": "2017-11-15T09:54:36.448000+01:00"
    }
   },
   "outputs": [],
   "source": []
  },
  {
   "cell_type": "markdown",
   "metadata": {},
   "source": [
    "## Write to and read from files\n",
    "The subject of File-IO is described more thouroughly in [02BasicRoutines.ipynb](../Lecture/02BasicRoutines.ipynb).\n",
    "\n",
    "### Filetype .csv\n",
    "**Tasks:**\n",
    "\n",
    "1. Save the clients-list to a .csv file\n",
    "2. Read the contents of this file\n",
    "\n",
    "Write to .csv file:\n",
    "\n"
   ]
  },
  {
   "cell_type": "code",
   "execution_count": null,
   "metadata": {
    "ExecuteTime": {
     "end_time": "2017-11-15T08:56:23.408000Z",
     "start_time": "2017-11-15T09:56:23.377000+01:00"
    },
    "collapsed": true
   },
   "outputs": [],
   "source": []
  },
  {
   "cell_type": "markdown",
   "metadata": {},
   "source": [
    "Read from .csv file:"
   ]
  },
  {
   "cell_type": "code",
   "execution_count": null,
   "metadata": {
    "ExecuteTime": {
     "end_time": "2017-11-15T08:58:07.301000Z",
     "start_time": "2017-11-15T09:58:07.285000+01:00"
    }
   },
   "outputs": [],
   "source": []
  },
  {
   "cell_type": "markdown",
   "metadata": {},
   "source": [
    "**Questions:**\n",
    "1. What is the drawback of the implemented method to read from file?\n",
    "2. How could this reading process be better implemented?"
   ]
  },
  {
   "cell_type": "markdown",
   "metadata": {},
   "source": [
    "### Filetype .json"
   ]
  },
  {
   "cell_type": "code",
   "execution_count": null,
   "metadata": {
    "ExecuteTime": {
     "end_time": "2017-11-15T09:41:22.732000Z",
     "start_time": "2017-11-15T10:41:22.728000+01:00"
    },
    "collapsed": true
   },
   "outputs": [],
   "source": []
  },
  {
   "cell_type": "code",
   "execution_count": null,
   "metadata": {
    "ExecuteTime": {
     "end_time": "2017-11-15T09:41:48.655000Z",
     "start_time": "2017-11-15T10:41:48.655000+01:00"
    }
   },
   "outputs": [],
   "source": []
  },
  {
   "cell_type": "markdown",
   "metadata": {
    "collapsed": true
   },
   "source": [
    "**Question:**\n",
    "1. Inspect the type of the features after loading from the .csv and the .json file, respectively."
   ]
  },
  {
   "cell_type": "code",
   "execution_count": null,
   "metadata": {
    "collapsed": true
   },
   "outputs": [],
   "source": []
  }
 ],
 "metadata": {
  "anaconda-cloud": {},
  "kernelspec": {
   "display_name": "Python 3",
   "language": "python",
   "name": "python3"
  },
  "language_info": {
   "codemirror_mode": {
    "name": "ipython",
    "version": 3
   },
   "file_extension": ".py",
   "mimetype": "text/x-python",
   "name": "python",
   "nbconvert_exporter": "python",
   "pygments_lexer": "ipython3",
   "version": "3.7.7"
  },
  "toc": {
   "base_numbering": 1,
   "nav_menu": {},
   "number_sections": true,
   "sideBar": true,
   "skip_h1_title": false,
   "title_cell": "Table of Contents",
   "title_sidebar": "Contents",
   "toc_cell": false,
   "toc_position": {
    "height": "434px",
    "left": "0px",
    "right": "1068px",
    "top": "131.4px",
    "width": "212px"
   },
   "toc_section_display": "block",
   "toc_window_display": true
  },
  "varInspector": {
   "cols": {
    "lenName": 16,
    "lenType": 16,
    "lenVar": 40
   },
   "kernels_config": {
    "python": {
     "delete_cmd_postfix": "",
     "delete_cmd_prefix": "del ",
     "library": "var_list.py",
     "varRefreshCmd": "print(var_dic_list())"
    },
    "r": {
     "delete_cmd_postfix": ") ",
     "delete_cmd_prefix": "rm(",
     "library": "var_list.r",
     "varRefreshCmd": "cat(var_dic_list()) "
    }
   },
   "types_to_exclude": [
    "module",
    "function",
    "builtin_function_or_method",
    "instance",
    "_Feature"
   ],
   "window_display": false
  }
 },
 "nbformat": 4,
 "nbformat_minor": 1
}

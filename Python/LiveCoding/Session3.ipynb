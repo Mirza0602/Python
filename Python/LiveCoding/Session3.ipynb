{
 "cells": [
  {
   "cell_type": "markdown",
   "metadata": {},
   "source": [
    "# Live Coding Session 3:\n",
    "What you will learn in this session:\n",
    " * Datatypes \n",
    "     * *string*\n",
    "     * *list*\n",
    "     * *set*\n",
    " * Control structures\n",
    " * Accessing live data from the web (RSS Newsfeed)\n",
    " * Python list comprehension\n",
    " * Write to text-file\n",
    " * Date and time\n",
    "\n",
    "\n",
    "## Task description\n",
    "\n",
    "Before implementing solutions for this task study the section on *strings* in the [notebook on sequential data types](03aDataTypesSequential.ipynb).\n",
    "\n",
    "1. Run the code cell below. The code accesses and prints the current RSS Feed of [Zeit Online](http://www.zeit.de/index). However, the printed output not only contains raw-text but HTML-Markup for references. Modify the code such that only the raw-text of title and description is printed, without any references and markup elements. All of these raw-texts shall be stored in a list of strings.\n",
    "2. Modify the code such that the number of words per feed entry (text+description) is printed.\n",
    "3. Modify the code such that for each feed-entry a list of all words is generated. The words in this list shall all be represented with only lower-case letters. Moreover, the words shall not contain punctuation marks at the end. All of these word-lists shall be stored in a list of lists."
   ]
  },
  {
   "cell_type": "code",
   "execution_count": 1,
   "metadata": {
    "ExecuteTime": {
     "end_time": "2017-11-22T10:03:38.109000Z",
     "start_time": "2017-11-22T11:03:37.147000+01:00"
    }
   },
   "outputs": [
    {
     "name": "stdout",
     "output_type": "stream",
     "text": [
      "\n",
      "---------------------------\n",
      "Gescheiterte Sondierungsgespräche: Bundesbalkon in der Krise\n",
      "Unsichere Zeiten, Demokratie am Ende? Die gescheiterten Verhandlungen über eine Jamaika-Koalition sind kein Betriebsunfall, sondern politische Gesetzmäßigkeit.\n",
      "\n",
      "---------------------------\n",
      "Thorsten Schäfer-Gümbel: SPD-Vize wirbt für Minderheitsregierung\n",
      "<a href=\"http://www.zeit.de/politik/deutschland/2017-11/thorsten-schaefer-guembel-jamaika-abbruch-minderheitsregierung\"><img src=\"http://img.zeit.de/politik/deutschland/2017-11/thorsten-schaefer-guembel-abbruch-jamaika-minderheitsregierung/wide__148x84\" style=\"float: left; margin-right: 5px;\" /></a> Thorsten Schäfer-Gümbel ist der Ansicht, dass wechselnde Mehrheiten gut sind für die Demokratie. Volker Wissing wirft Merkel indes vor, sie habe die FDP verletzt.\n",
      "\n",
      "---------------------------\n",
      "FDP: Kubicki schließt Rechtsschwenk seiner Partei aus\n",
      "<a href=\"http://www.zeit.de/politik/deutschland/2017-11/fdp-wolfgang-kubicki-jamaika-abbruch\"><img src=\"http://img.zeit.de/politik/deutschland/2017-11/fdp-wolfgang-kubicki-abbruch-jamaika/wide__148x84\" style=\"float: left; margin-right: 5px;\" /></a> Wolfgang Kubicki sagt im ZEIT-Interview, dass die österreichische ÖVP kein Vorbild für die FDP sei. Die politische Bewegung des französischen Präsidenten dagegen schon.\n",
      "\n",
      "---------------------------\n",
      "Libanon: Ministerpräsident Hariri ist zurück im Libanon\n",
      "<a href=\"http://www.zeit.de/politik/2017-11/libanon-ministerpraesident-saad-hariri-rueckkehr\"><img src=\"http://img.zeit.de/politik/2017-11/libanon-saad-hariri-rueckkehr/wide__148x84\" style=\"float: left; margin-right: 5px;\" /></a> Aus Angst vor einem Attentat floh Libanons Regierungschef vor knapp drei Wochen nach Saudi-Arabien und erklärte seinen Rücktritt. Nun ist Hariri wieder in seiner Heimat.\n",
      "\n",
      "---------------------------\n",
      "Wasser: Das fremde Element\n",
      "<a href=\"http://www.zeit.de/2017/47/wasser-element-leben-wissenschaft\"><img src=\"http://img.zeit.de/2017/47/n-wasserforschung_img-1/wide__148x84\" style=\"float: left; margin-right: 5px;\" /></a> Wer Marsroboter baut und Atome spaltet, wird ja wohl wissen, was Wasser ist. Doch weit gefehlt: Keine Substanz ist so alltäglich und dabei von so vielen Mythen umstellt.\n",
      "\n",
      "---------------------------\n",
      "Umweltverschmutzung: Jeder Deutsche produziert im Schnitt 37 Kilo Plastikmüll pro Jahr\n",
      "<a href=\"http://www.zeit.de/wirtschaft/2017-11/umweltverschmutzung-plastikmuell-deutschland-eu-vergleich\"><img src=\"http://img.zeit.de/wirtschaft/2017-11/umweltverschmutzung-plastikmuell-deutschland-eu/wide__148x84\" style=\"float: left; margin-right: 5px;\" /></a> In der EU ist die Menge des Plastikmülls von 2005 bis 2015 um zwölf Prozent gestiegen – in Deutschland sogar um fast ein Drittel. Nur drei Länder produzieren mehr Müll.\n",
      "\n",
      "---------------------------\n",
      "Vorwürfe der sexuellen Belästigung: Trump spielt Vorwürfe gegen Roy Moore herunter\n",
      "<a href=\"http://www.zeit.de/politik/ausland/2017-11/vorwuerfe-sexuelle-belaestigung-roy-moore-donald-trump\"><img src=\"http://img.zeit.de/politik/ausland/2017-11/vorwuerfe-sexuelle-belaestigung-roy-moore-trump/wide__148x84\" style=\"float: left; margin-right: 5px;\" /></a> Der US-Präsident hat die Vorwürfe mehrerer Frauen gegen den republikanischen Senatskandidaten abgewiegelt. Führende Republikaner hatten sich zuvor von Moore distanziert.\n",
      "\n",
      "---------------------------\n",
      "Das war meine Rettung: \"Mich verletzt Unehrlichkeit\"\n",
      "<a href=\"http://www.zeit.de/zeit-magazin/2017/47/renate-kuenast-politikerin-rettung\"><img src=\"http://img.zeit.de/zeit-magazin/2017/47/renate-kuenast-politikerin/wide__148x84\" style=\"float: left; margin-right: 5px;\" /></a> In der Politik gilt Renate Künast als sehr selbstbewusst. Wer aber so viele Hassmails bekommt wie sie, dem kann die professionelle Angriffslust schon mal vergehen.\n",
      "\n",
      "---------------------------\n",
      "Nordkorea: UN werfen Nordkorea Verletzung des Waffenstillstandes vor\n",
      "<a href=\"http://www.zeit.de/politik/2017-11/nordkorea-soldat-flucht-suedkorea\"><img src=\"http://img.zeit.de/politik/2017-11/nordkorea-soldat-flucht-grenze-suedkorea/wide__148x84\" style=\"float: left; margin-right: 5px;\" /></a> Ein Video zeigt, wie ein nordkoreanischer Soldat von seinen Kameraden an der Flucht gehindert werden soll. Dabei schossen sie auch auf südkoreanischem Gebiet.\n",
      "\n",
      "---------------------------\n",
      "Alkoholkonsum: Schnaps macht sexy, aber aggressiv\n",
      "<a href=\"http://www.zeit.de/wissen/gesundheit/2017-11/alkoholkonsum-studie-schnaps-wein-bier-beeinflussung-stimmung\"><img src=\"http://img.zeit.de/wissen/2017-11/alkoholkonsum-studie-schnaps-wein-bier/wide__148x84\" style=\"float: left; margin-right: 5px;\" /></a> Forscher haben untersucht, wie Alkohol die Stimmung beeinflusst und wer eher wovon trinkt. ZEIT-ONLINE-Leser waren an der Studie beteiligt.\n",
      "\n",
      "---------------------------\n",
      "Angela Merkel: Königsmörder muss sie nicht fürchten\n",
      "<a href=\"http://www.zeit.de/politik/deutschland/2017-11/angela-merkel-cdu-kandidatur-neuwahlen\"><img src=\"http://img.zeit.de/politik/deutschland/2017-11/jamaika-sondierung-regierungsbildung-merkel/wide__148x84\" style=\"float: left; margin-right: 5px;\" /></a> Angela Merkel will im Fall einer Neuwahl erneut antreten. Euphorie löst das in ihrer Partei nicht aus. Aber auch keinen Widerstand. Warum eigentlich nicht?\n",
      "\n",
      "---------------------------\n",
      "Japan: Machtkampf im Indopazifik\n",
      "Japans Regierung fürchtet die unmittelbare Gefahr aus Nordkorea. Im Konflikt setzt Premier Abe auf US-Präsident Trump als wichtigsten Verbündeten. Ausgerechnet.\n",
      "\n",
      "---------------------------\n",
      "Deutschlandkarte: Feiertage\n",
      "<a href=\"http://www.zeit.de/zeit-magazin/2017/47/feiertage-bundesland-anzahl-deutschlandkarte\"><img src=\"http://img.zeit.de/zeit-magazin/leben/2017-11/feiertage-bundesland-anzahl-deutschlandkarte-bild/wide__148x84\" style=\"float: left; margin-right: 5px;\" /></a> Nirgends in Deutschland gibt es so viele freie Tage wie in Bayern. Anderswo wird protestantisch-streng gewerkelt. Diese Karte zeigt, wer wie oft die Beine hochlegen darf.\n",
      "\n",
      "---------------------------\n",
      "22. November 2017: Nie wieder FDP!\n",
      "<a href=\"http://www.zeit.de/politik/2017-11/nachrichtenpodcast-was-jetzt-22-november-17\"><img src=\"http://img.zeit.de/politik/2017-09/illu-podcast-news/wide__148x84\" style=\"float: left; margin-right: 5px;\" /></a> Sind die FDP-Wähler jetzt eigentlich sauer oder stolz? Darüber sprechen wir im Podcast. Außerdem: Wieso eine Minderheitsregierung nicht die schlechteste Lösung wäre\n",
      "\n",
      "---------------------------\n",
      "Fahrdienstleister: Uber vertuschte großen Hackerangriff\n",
      "<a href=\"http://www.zeit.de/digital/2017-11/uber-fahrdienstleister-daten-hacker-fahrgaeste\"><img src=\"http://img.zeit.de/digital/2017-11/uber-fahrdienstleister-daten-hacker/wide__148x84\" style=\"float: left; margin-right: 5px;\" /></a> Daten von 57 Millionen Nutzern und Fahrern wurden vor einem Jahr gestohlen. Uber zahlte den Hackern 100.000 Dollar. Das Unternehmen berichtete erst jetzt darüber.\n"
     ]
    }
   ],
   "source": [
    "# Access RSS Feed of Zeit.de\n",
    "import feedparser\n",
    "feed='http://newsfeed.zeit.de/index'\n",
    "f=feedparser.parse(feed)\n",
    "for e in f.entries:\n",
    "  print '\\n---------------------------'\n",
    "  text=e.title+\"\\n\"+e.description\n",
    "  print text"
   ]
  },
  {
   "cell_type": "code",
   "execution_count": null,
   "metadata": {
    "ExecuteTime": {
     "end_time": "2017-11-19T13:11:20.337000Z",
     "start_time": "2017-11-19T14:11:20.168000+01:00"
    }
   },
   "outputs": [],
   "source": []
  },
  {
   "cell_type": "markdown",
   "metadata": {},
   "source": [
    "**Tasks:**\n",
    "\n",
    "1. Write the lists of raw-texts into a .txt-file, which contains the word `rawtexts` and the current date and time.\n",
    "2. Write the lists of wordlists into a .txt-file, which contains the word `wordlists` and the current date and time."
   ]
  },
  {
   "cell_type": "code",
   "execution_count": null,
   "metadata": {
    "ExecuteTime": {
     "end_time": "2017-11-19T13:11:25.855000Z",
     "start_time": "2017-11-19T14:11:25.840000+01:00"
    },
    "collapsed": true
   },
   "outputs": [],
   "source": []
  },
  {
   "cell_type": "code",
   "execution_count": null,
   "metadata": {
    "ExecuteTime": {
     "end_time": "2017-11-19T13:11:27.887000Z",
     "start_time": "2017-11-19T14:11:27.871000+01:00"
    },
    "collapsed": true
   },
   "outputs": [],
   "source": []
  },
  {
   "cell_type": "markdown",
   "metadata": {},
   "source": [
    "**Task:**\n",
    "1. Determine the vocabulary of the current feed-texts. The vocabulary is the set of all words, which occure at least once in the feed-texts. \n",
    "2. How many words are in the vocabulary? \n",
    "3. Sort the vocabulary in lexical order."
   ]
  },
  {
   "cell_type": "code",
   "execution_count": null,
   "metadata": {
    "ExecuteTime": {
     "end_time": "2017-11-19T13:29:45.065000Z",
     "start_time": "2017-11-19T14:29:45.065000+01:00"
    }
   },
   "outputs": [],
   "source": []
  },
  {
   "cell_type": "code",
   "execution_count": null,
   "metadata": {
    "collapsed": true
   },
   "outputs": [],
   "source": []
  }
 ],
 "metadata": {
  "anaconda-cloud": {},
  "kernelspec": {
   "display_name": "Python [conda env:condatascience]",
   "language": "python",
   "name": "conda-env-condatascience-py"
  },
  "language_info": {
   "codemirror_mode": {
    "name": "ipython",
    "version": 2
   },
   "file_extension": ".py",
   "mimetype": "text/x-python",
   "name": "python",
   "nbconvert_exporter": "python",
   "pygments_lexer": "ipython2",
   "version": "2.7.12"
  },
  "nav_menu": {},
  "toc": {
   "nav_menu": {},
   "number_sections": true,
   "sideBar": true,
   "skip_h1_title": false,
   "toc_cell": false,
   "toc_position": {},
   "toc_section_display": "block",
   "toc_window_display": false
  }
 },
 "nbformat": 4,
 "nbformat_minor": 2
}

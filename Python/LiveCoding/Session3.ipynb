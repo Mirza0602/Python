{
 "cells": [
  {
   "cell_type": "markdown",
   "metadata": {},
   "source": [
    "# Live Coding Session 3:\n",
    "What you will learn in this session:\n",
    " * [Sequential Datatypes](../Lecture/03aDataTypesSequential.ipynb) \n",
    "     * *string*\n",
    "     * *list*\n",
    "     * *set*\n",
    " * [Control structures](../Lecture/04ControllStructures.ipynb)\n",
    " * Accessing live data from the web (RSS Newsfeed)\n",
    " * Python list comprehension\n",
    " * Write to text-file\n",
    " * Date and time\n",
    "\n",
    "\n",
    "## Task description\n",
    "\n",
    "Before implementing solutions for this task study the section on *strings* in the [notebook on sequential data types](../Lecture/03aDataTypesSequential.ipynb).\n",
    "\n",
    "1. Run the code cell below. The code accesses and prints the current RSS Feed of [Zeit Online](http://www.zeit.de/index). However, the printed output not only contains raw-text but HTML-Markup for references. Modify the code such that only the raw-text of title and description is printed, without any references and markup elements. All of these raw-texts shall be stored in a list of strings.\n",
    "2. Modify the code such that the number of words per feed entry (text+description) is printed.\n",
    "3. Modify the code such that for each feed-entry a list of all words is generated. The words in this list shall all be represented with only lower-case letters. Moreover, the words shall not contain punctuation marks at the end. All of these word-lists shall be stored in a list of lists."
   ]
  },
  {
   "cell_type": "code",
   "execution_count": 1,
   "metadata": {
    "ExecuteTime": {
     "end_time": "2017-11-22T10:03:38.109000Z",
     "start_time": "2017-11-22T11:03:37.147000+01:00"
    }
   },
   "outputs": [
    {
     "name": "stdout",
     "output_type": "stream",
     "text": [
      "\n",
      "---------------------------\n",
      "Heiko Maas: \"Augenbrauen hochziehen reicht nicht\"\n",
      "<a href=\"https://www.zeit.de/2018/40/heiko-maas-beziehung-tuerkei-usa-autokraten\"><img style=\"float:left; margin-right:5px\" src=\"https://img.zeit.de/2018/40/maas-interview_img-0/wide__148x84\"></a> Deutschland täte gut daran, die Türkei an den Westen zu binden, sagt der Außenminister. Und es solle sich trotz Donald Trump nicht einbilden, die USA ersetzen zu können.\n",
      "\n",
      "---------------------------\n",
      "Staatsbesuch: Erdoğan kann nur so\n",
      "<a href=\"https://www.zeit.de/politik/deutschland/2018-09/staatsbesuch-recep-tayyip-erdogan-angela-merkel-pressekonferenz-berlin\"><img style=\"float:left; margin-right:5px\" src=\"https://img.zeit.de/politik/deutschland/2018-09/staatsbesuch-recep-tayyip-erdogan-angela-merkel-pressekonferenz-berlin-aufmacher-2/wide__148x84\"></a> Unbeugsamkeit gegenüber seinen Gegnern und Partnern gehört zum System Erdoğan. Eine andere Form von Politik kann er nicht. Ein Neuanfang ist sein Besuch in Berlin nicht.\n",
      "\n",
      "---------------------------\n",
      "Recep Tayyip Erdoğan: Schlosseigentümer verwehren türkischem Präsidenten Einlass\n",
      "<a href=\"https://www.zeit.de/politik/deutschland/2018-09/recep-tayyip-erdogan-koeln-besuch-polizeieinsatz-ditib-moschee\"><img style=\"float:left; margin-right:5px\" src=\"https://img.zeit.de/politik/deutschland/2018-09/recep-tayyip-erdogan-koeln-besuch-polizeieinsatz-ditib-moschee-bild/wide__148x84\"></a> Beim Besuch des türkischen Präsidenten in Köln werden 3.000 Polizisten im Einsatz sein. Ein Treffen auf Schloss Wahn mit Ministerpräsident Armin Laschet wurde gestoppt.\n",
      "\n",
      "---------------------------\n",
      "Treibstoffstandards: US-Regierung erwartet Temperatursteigerung um vier Grad\n",
      "<a href=\"https://www.zeit.de/politik/ausland/2018-09/treibstoffstandards-usa-donald-trump-klimawandel-vier-grad\"><img style=\"float:left; margin-right:5px\" src=\"https://img.zeit.de/politik/ausland/2018-09/treibstoffstandards-usa-donald-trump-klimawandel-vier-grad-bild/wide__148x84\"></a> Laut einem Papier einer Behörde der US-Regierung wird die globale Temperatur bis 2100 um vier Grad Celsius steigen. Strengere Treibstoffstandards würden nichts bringen.\n",
      "\n",
      "---------------------------\n",
      "Recep Tayyip Erdoğan: Angela Merkel benennt \"tiefgreifende Differenzen\" mit der Türkei\n",
      "<a href=\"https://www.zeit.de/2018-09/recep-tayyip-erdogan-inhaftierung-deutsche-loesung-angela-merkel\"><img style=\"float:left; margin-right:5px\" src=\"https://img.zeit.de/politik/deutschland/2018-09/recep-tayyip-erdogan-angela-merkel-pressekonferenz/wide__148x84\"></a> Die Kanzlerin hat von Recep Tayyip Erdoğan eine Lösung für inhaftierte Deutsche gefordert. Erdoğan bestätigte, dass die Türkei Can Dündars Auslieferung verlangt.\n",
      "\n",
      "---------------------------\n",
      "Gleichstellung auf dem Arbeitsmarkt: Frauen können die Rente retten\n",
      "Zuwanderung allein wird die Rentenlücke nicht schließen. Nur wenn mehr Frauen arbeiten, wird sich das Rentenniveau langfristig stabilisieren lassen.\n",
      "\n",
      "---------------------------\n",
      "Bundesliga-Vorschau: Erdoğan sucht neue Trikots\n",
      "<a href=\"https://www.zeit.de/sport/2018-09/bundesliga-vorschau-hertha-bsc-fc-bayern-muenchen\"><img style=\"float:left; margin-right:5px\" src=\"https://img.zeit.de/sport/2018-09/thomas-mueller-trikot/wide__148x84\"></a> Was stünde ihm besser: Eines von der Hertha oder von den Bayern? Es deutet sich ein Spitzenduell an. Und die Liga ist erstaunlich gelassen. Alles Wichtige zum 6. Spieltag\n",
      "\n",
      "---------------------------\n",
      "Gonca Türkeli-Dehnert: \"Der Angela-Merkel-Effekt war stark\"\n",
      "<a href=\"https://www.zeit.de/gesellschaft/zeitgeschehen/2018-09/gonca-tuerkeli-dehnert-svr-studie-migrationshintergrund-cdu-csu\"><img style=\"float:left; margin-right:5px\" src=\"https://img.zeit.de/gesellschaft/zeitgeschehen/2018-09/angela-merkel-sv-rot-weiss-viktoria/wide__148x84\"></a> Fast die Hälfte der Menschen mit Migrationshintergrund bevorzugt die CDU oder CSU. Die Leiterin der Deutschlandstiftung vermutet dahinter die Beliebtheit der Kanzlerin.\n",
      "\n",
      "---------------------------\n",
      "Deutsche Marine: Neue Bundeswehr-Fregatte kommt noch später\n",
      "<a href=\"https://www.zeit.de/politik/deutschland/2018-09/deutsche-marine-bundewehr-verteidigungsministerium-fregatte-f125\"><img style=\"float:left; margin-right:5px\" src=\"https://img.zeit.de/wirtschaft/2018-09/bundeswehr-fregatte-f125/wide__148x84\"></a> Eigentlich sollte die erste F125 seit vier Jahren im Einsatz sein, nun verschiebt sich die Abnahme erneut. Die Bundeswehr hatte das Schiff 2017 wegen Mängeln abgelehnt.\n",
      "\n",
      "---------------------------\n",
      "Natur: Wir, die schwierigen Tiere\n",
      "<a href=\"https://www.zeit.de/kultur/literatur/2018-09/mensch-tier-natur-teresa-praeauer-passarello-essay\"><img style=\"float:left; margin-right:5px\" src=\"https://img.zeit.de/kultur/literatur/2018-09/nashorn-foto/wide__148x84\"></a> Verbrannt, zertreten, erschossen, ausgestopft: Zwei neue literarische Essays über die Natur bilanzieren das Verhältnis von Menschen und anderen Tieren.\n",
      "\n",
      "---------------------------\n",
      "Todesopfer rechter Gewalt: Erstochen, erschlagen, verbrannt\n",
      "<a href=\"https://www.zeit.de/gesellschaft/zeitgeschehen/2018-09/rechtsxtremismus-todesopfer-gewalt-verdacht\"><img style=\"float:left; margin-right:5px\" src=\"https://img.zeit.de/gesellschaft/zeitgeschehen/2018-09/luke-holland/wide__148x84\"></a> Weit mehr Menschen werden Opfer rechter Tötungsverbrechen, als die Behörden zählen. In 61 Verdachtsfällen fehlt der letzte Beweis für die Motivation. Haben Sie Hinweise?\n",
      "\n",
      "---------------------------\n",
      "Todesopfer rechter Gewalt: Erstochen, erschlagen, verbrannt\n",
      "<a href=\"https://www.zeit.de/gesellschaft/zeitgeschehen/2018-09/rechtsxtremismus-todesopfer-gewalt-verdacht\"><img style=\"float:left; margin-right:5px\" src=\"https://img.zeit.de/gesellschaft/zeitgeschehen/2018-09/luke-holland/wide__148x84\"></a> Weit mehr Menschen werden Opfer rechter Tötungsverbrechen, als die Behörden zählen. In 61 Verdachtsfällen fehlt der letzte Beweis für die Motivation. Haben Sie Hinweise?\n",
      "\n",
      "---------------------------\n",
      "Bundesinnenminister : AfD verklagt Horst Seehofer wegen Bezeichnung \"staatszersetzend\"\n",
      "<a href=\"https://www.zeit.de/politik/2018-09/afd-organklage-horst-seehofer\"><img style=\"float:left; margin-right:5px\" src=\"https://img.zeit.de/politik/deutschland/2018-09/afd-organklage/wide__148x84\"></a> Der Bundesinnenminister hatte das Handeln der Partei in einem Interview \"staatszersetzend\" genannt. Die AfD will dagegen vorgehen.\n",
      "\n",
      "---------------------------\n",
      "Plastik: Kommt nicht in die Tüte\n",
      "<a href=\"https://www.zeit.de/2018/39/plastik-muellvermeidung-umweltschutz-unverpackt\"><img style=\"float:left; margin-right:5px\" src=\"https://img.zeit.de/2018/39/hh-plastikfrei_img-0/wide__148x84\"></a> Plastik ist schlecht für die Umwelt, das wissen mittlerweile viele. Aber was heißt es wirklich, wenn man beschließt: Ab heute leben wir ohne?\n",
      "\n",
      "---------------------------\n",
      "Kathryn Mayorga: Klage gegen Cristiano Ronaldo wegen Vergewaltigung\n",
      "<a href=\"https://www.zeit.de/politik/2018-09/kathryn-mayorga-cristiano-ronaldo-fussballer-vergewaltigung-vorwurf\"><img style=\"float:left; margin-right:5px\" src=\"https://img.zeit.de/gesellschaft/2018-09/cristiano-ronaldo/wide__148x84\"></a> Kathryn Mayorga wirft dem Fußballer laut dem \"Spiegel\" Vergewaltigung vor. Cristiano Ronaldo habe ihr Geld bezahlt, damit sie schweige. Nun aber wolle sie klagen.\n"
     ]
    }
   ],
   "source": [
    "# Access RSS Feed of Zeit.de\n",
    "import feedparser\n",
    "feed='http://newsfeed.zeit.de/index'\n",
    "f=feedparser.parse(feed)\n",
    "for e in f.entries:\n",
    "  print('\\n---------------------------')\n",
    "  text=e.title+\"\\n\"+e.description\n",
    "  print(text)"
   ]
  },
  {
   "cell_type": "code",
   "execution_count": null,
   "metadata": {
    "ExecuteTime": {
     "end_time": "2017-11-19T13:11:20.337000Z",
     "start_time": "2017-11-19T14:11:20.168000+01:00"
    }
   },
   "outputs": [],
   "source": []
  },
  {
   "cell_type": "markdown",
   "metadata": {},
   "source": [
    "**Tasks:**\n",
    "\n",
    "1. Write the lists of raw-texts into a .txt-file, which contains the word `rawtexts` and the current date and time.\n",
    "2. Write the lists of wordlists into a .txt-file, which contains the word `wordlists` and the current date and time."
   ]
  },
  {
   "cell_type": "code",
   "execution_count": null,
   "metadata": {
    "ExecuteTime": {
     "end_time": "2017-11-19T13:11:25.855000Z",
     "start_time": "2017-11-19T14:11:25.840000+01:00"
    }
   },
   "outputs": [],
   "source": []
  },
  {
   "cell_type": "code",
   "execution_count": null,
   "metadata": {
    "ExecuteTime": {
     "end_time": "2017-11-19T13:11:27.887000Z",
     "start_time": "2017-11-19T14:11:27.871000+01:00"
    }
   },
   "outputs": [],
   "source": []
  },
  {
   "cell_type": "markdown",
   "metadata": {},
   "source": [
    "**Task:**\n",
    "1. Determine the vocabulary of the current feed-texts. The vocabulary is the set of all words, which occure at least once in the feed-texts. \n",
    "2. How many words are in the vocabulary? \n",
    "3. Sort the vocabulary in lexical order."
   ]
  },
  {
   "cell_type": "code",
   "execution_count": null,
   "metadata": {
    "collapsed": true
   },
   "outputs": [],
   "source": []
  }
 ],
 "metadata": {
  "anaconda-cloud": {},
  "kernelspec": {
   "display_name": "Python 3",
   "language": "python",
   "name": "python3"
  },
  "language_info": {
   "codemirror_mode": {
    "name": "ipython",
    "version": 3
   },
   "file_extension": ".py",
   "mimetype": "text/x-python",
   "name": "python",
   "nbconvert_exporter": "python",
   "pygments_lexer": "ipython3",
   "version": "3.7.5"
  },
  "nav_menu": {},
  "toc": {
   "base_numbering": 1,
   "nav_menu": {},
   "number_sections": true,
   "sideBar": true,
   "skip_h1_title": false,
   "title_cell": "Table of Contents",
   "title_sidebar": "Contents",
   "toc_cell": false,
   "toc_position": {},
   "toc_section_display": "block",
   "toc_window_display": false
  },
  "varInspector": {
   "cols": {
    "lenName": 16,
    "lenType": 16,
    "lenVar": 40
   },
   "kernels_config": {
    "python": {
     "delete_cmd_postfix": "",
     "delete_cmd_prefix": "del ",
     "library": "var_list.py",
     "varRefreshCmd": "print(var_dic_list())"
    },
    "r": {
     "delete_cmd_postfix": ") ",
     "delete_cmd_prefix": "rm(",
     "library": "var_list.r",
     "varRefreshCmd": "cat(var_dic_list()) "
    }
   },
   "types_to_exclude": [
    "module",
    "function",
    "builtin_function_or_method",
    "instance",
    "_Feature"
   ],
   "window_display": false
  }
 },
 "nbformat": 4,
 "nbformat_minor": 2
}

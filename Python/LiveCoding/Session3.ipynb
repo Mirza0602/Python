{
 "cells": [
  {
   "cell_type": "markdown",
   "metadata": {},
   "source": [
    "# Live Coding Session 3:\n",
    "What you will learn in this session:\n",
    " * Datatypes \n",
    "     * *string*\n",
    "     * *list*\n",
    "     * *set*\n",
    " * Control structures\n",
    " * Accessing live data from the web (RSS Newsfeed)\n",
    " * Python list comprehension\n",
    " * Write to text-file\n",
    " * Date and time\n",
    "\n",
    "\n",
    "## Task description\n",
    "\n",
    "Before implementing solutions for this task study the section on *strings* in the [notebook on sequential data types](03aDataTypesSequential.ipynb).\n",
    "\n",
    "1. Run the code cell below. The code accesses and prints the current RSS Feed of [Zeit Online](http://www.zeit.de/index). However, the printed output not only contains raw-text but HTML-Markup for references. Modify the code such that only the raw-text of title and description is printed, without any references and markup elements. All of these raw-texts shall be stored in a list of strings.\n",
    "2. Modify the code such that the number of words per feed entry (text+description) is printed.\n",
    "3. Modify the code such that for each feed-entry a list of all words is generated. The words in this list shall all be represented with only lower-case letters. Moreover, the words shall not contain punctuation marks at the end. All of these word-lists shall be stored in a list of lists."
   ]
  },
  {
   "cell_type": "code",
   "execution_count": 2,
   "metadata": {
    "ExecuteTime": {
     "end_time": "2017-11-22T10:03:38.109000Z",
     "start_time": "2017-11-22T11:03:37.147000+01:00"
    }
   },
   "outputs": [
    {
     "name": "stdout",
     "output_type": "stream",
     "text": [
      "\n",
      "---------------------------\n",
      "Real Madrid: Sie sind anders als ihr Ruf\n",
      "<a href=\"http://www.zeit.de/sport/2018-04/real-madrid-romantik-halbfinale-bayern-muenchen-champions-league\"><img style=\"float:left; margin-right:5px\" src=\"https://img.zeit.de/sport/2018-04/cristiano-ronaldo/wide__148x84\"></a> Über Real Madrid hält sich das Klischee, der Club der Geldsäcke zu sein. Doch sein Erfolg beruht auf einer romantischen Idee.\n",
      "\n",
      "---------------------------\n",
      "Europäische Union: EU-Kommission will Milliarden in künstliche Intelligenz investieren\n",
      "<a href=\"http://www.zeit.de/politik/ausland/2018-04/europaeische-union-investition-kuenstliche-intelligenz-technologie\"><img style=\"float:left; margin-right:5px\" src=\"https://img.zeit.de/politik/2018-04/europaeische-kommission-technologie-kuenstliche-intelligenz/wide__148x84\"></a> Nordamerika und Asien sind derzeit bei der Forschung zur künstlichen Intelligenz führend. Den Rückstand von Europa will die EU mit viel Geld ausgleichen.\n",
      "\n",
      "---------------------------\n",
      "Syrien: Regierung übernimmt Kontrolle über Region nahe Damaskus\n",
      "<a href=\"http://www.zeit.de/politik/ausland/2018-04/syrien-damaskus-rebellen-enklave-kontrolle-syrische-armee\"><img style=\"float:left; margin-right:5px\" src=\"https://img.zeit.de/politik/ausland/2018-04/kalamun-kalamoon-syrien/wide__148x84\"></a> Die syrische Armee hat die Region Ostkalamun eingenommen. Am Morgen hätten die letzten Busse mit Aufständischen den Osten der Region verlassen, berichteten Staatsmedien.\n",
      "\n",
      "---------------------------\n",
      "Musikpreis: Der Echo wird abgeschafft\n",
      "<a href=\"http://www.zeit.de/kultur/musik/2018-04/musikpreis-echo-wird-abgeschafft\"><img style=\"float:left; margin-right:5px\" src=\"https://img.zeit.de/kultur/musik/2018-04/echo-preis/wide__148x84\"></a> Den wichtigsten deutschen Musikpreis wird es in der bisherigen Form nicht mehr geben. Der Branchenverband reagiert auf die Kritik an der Auszeichnung umstrittener Rapper.\n",
      "\n",
      "---------------------------\n",
      "Staatsexamen: Ungerechte Notenvergabe in der Juraprüfung\n",
      "<a href=\"http://www.zeit.de/gesellschaft/2018-04/jura-staatsexamen-frauen-migranten-benachteiligung-studie\"><img style=\"float:left; margin-right:5px\" src=\"https://img.zeit.de/gesellschaft/zeitgeschehen/2018-04/jura-staatsexamen/wide__148x84\"></a> Frauen und Migranten werden in der mündlichen Abschlussprüfung benachteiligt. Das ergab eine Auswertung Tausender Jurastaatsexamen, die der ZEIT vorliegt.\n",
      "\n",
      "---------------------------\n",
      "Migration in Großbritannien: In ständiger Angst vor der Abschiebung\n",
      "<a href=\"http://www.zeit.de/wirtschaft/2018-04/migration-grossbritannien-eu-buerger-brexit-arbeit\"><img style=\"float:left; margin-right:5px\" src=\"https://img.zeit.de/politik/ausland/2018-04/migration-grossbritannien/wide__148x84\"></a> Nach dem Zweiten Weltkrieg kamen unzählige karibischstämmige Migranten nach Großbritannien. Einst automatisch Staatsbürger, droht ihnen nun die Illegalität.\n",
      "\n",
      "---------------------------\n",
      "25. April 2018: Wer kann diese Mieten noch bezahlen?\n",
      "<a href=\"http://www.zeit.de/gesellschaft/2018-04/politikpodcast-servus-grueezi-hallo-25-april-2018\"><img style=\"float:left; margin-right:5px\" src=\"https://img.zeit.de/gesellschaft/2018-02/politikcast-servus-gruezi-hallo/wide__148x84\"></a> In Deutschland fehlen Millionen bezahlbare Wohnungen, in Wien kriegt man das besser hin: Wir diskutieren über steigende Mieten. Und über Esskulturen in unseren Ländern.\n",
      "\n",
      "---------------------------\n",
      "\"Blut Salz Wasser\": Mord in Schottland\n",
      "<a href=\"http://www.zeit.de/2018/17/blut-salz-wasser-denise-mina-krimi\"><img style=\"float:left; margin-right:5px\" src=\"https://img.zeit.de/kultur/2018-04/blut-salz-wasser/wide__148x84\"></a> Jeder Kriminalroman, den Denise Mina schreibt, hätte eine Kolumne verdient. Man steht vor ihren Büchern wie vor einem riesigen Wandteppich voller Figuren und Geschichten.\n",
      "\n",
      "---------------------------\n",
      "NSU-Prozess: \"Was nicht passt, wird passend gemacht\"\n",
      "<a href=\"http://www.zeit.de/gesellschaft/zeitgeschehen/2018-04/nsu-prozess-beate-zschaepe-plaedoyer-bundesanwaltschaft\"><img style=\"float:left; margin-right:5px\" src=\"https://img.zeit.de/gesellschaft/zeitgeschehen/2018-04/nsu-prozess-beate-zschaepe-2/wide__148x84\"></a> Auch am zweiten Tag ihres Plädoyers verneinen Zschäpes Anwälte viele Punkte der Anklageschrift. Fakten würden ignoriert, die Bundesanwaltschaft arbeite \"manipulativ\".\n",
      "\n",
      "---------------------------\n",
      "AfD: Demonstrierende vertreiben Björn Höcke von Opel-Protestkundgebung\n",
      "<a href=\"https://ze.tt/auf-wiedersehen-demonstrierende-vertreiben-bjoern-hoecke-von-opel-protestkundgebung/\"><img style=\"float:left; margin-right:5px\" src=\"https://img.zeit.de/wirtschaft/2018-04/zett-opel-hoecke/wide__148x84\"></a> Der AfD-Landesvorsitzende wollte gemeinsam mit den um ihre Arbeitsplätze bangenden Opel-Mitarbeitern demonstrieren. Doch sein Plan ging nicht auf.\n",
      "\n",
      "---------------------------\n",
      "Airbus und Dassault Aviation: Grundsatzabkommen zu deutsch-französischem Kampfflugzeug vereinbart\n",
      "<a href=\"http://www.zeit.de/wirtschaft/2018-04/airbus-dassault-aviation-deutschland-frankreich-kampfflugzeug-abkommen\"><img style=\"float:left; margin-right:5px\" src=\"https://img.zeit.de/wirtschaft/unternehmen/2018-04/eurofighter-frankreich-deutschland/wide__148x84\"></a> Airbus und Dassault Aviation arbeiten bei deutsch-französischen Rüstungsprojekten zukünftig zusammen. Die Flugzeuge sollen um das Jahr 2040 in Produktion gehen.\n",
      "\n",
      "---------------------------\n",
      "Google: Gmail führt Ablaufdatum für E-Mails ein\n",
      "<a href=\"http://www.zeit.de/digital/datenschutz/2018-04/google-gmail-e-mail-sicherheit-hacking\"><img style=\"float:left; margin-right:5px\" src=\"https://img.zeit.de/digital/datenschutz/2018-04/google-gmail-sicherheitsfunktionen/wide__148x84\"></a> Verschickte E-Mails widerrufen, ablaufen lassen oder für Weiterleitung sperren: Mit einem Sicherheitspaket will Google seinen Mailingdienst attraktiver machen.\n",
      "\n",
      "---------------------------\n",
      "CSU: Gott wird Söder vergeben\n",
      "<a href=\"http://www.zeit.de/gesellschaft/2018-04/csu-markus-soeder-kreuz-gott-behoerde-bayern-kommentar\"><img style=\"float:left; margin-right:5px\" src=\"https://img.zeit.de/politik/deutschland/2018-04/markus-soeder-kreuz-2/wide__148x84\"></a> Bayerns Ministerpräsident lässt bald Kreuze in Behörden aufhängen. Er könnte auch gleich den Bundesadler im Bundestag durch ein Gemälde von Franz Josef Strauß ersetzen.\n",
      "\n",
      "---------------------------\n",
      "Konjunktur: \"Der Aufschwung geht weiter\"\n",
      "<a href=\"http://www.zeit.de/wirtschaft/2018-04/konjunktur-wachstumsprognose-wirtschaft-bip-bundesregierung-peter-altmaier\"><img style=\"float:left; margin-right:5px\" src=\"https://img.zeit.de/wirtschaft/2018-04/wirtschaftswachstum-deutschland/wide__148x84\"></a> Die Bundesregierung erwartet für 2018 das stärkste Wirtschaftswachstum seit 2011. Die Arbeitslosigkeit werde weiter sinken, sagte Wirtschaftsminister Peter Altmaier.\n",
      "\n",
      "---------------------------\n",
      "Migration: Bamf will Zehntausende Asylentscheide erneut prüfen\n",
      "<a href=\"http://www.zeit.de/politik/deutschland/2018-04/migration-fluechtlinge-bamf-korruption-asylpolitik\"><img style=\"float:left; margin-right:5px\" src=\"https://img.zeit.de/politik/2018-04/bamf-korruptionsverdacht-antraege/wide__148x84\"></a> Wurden Asylanträge vom Bamf immer korrekt entschieden? Wegen des Korruptionsfalls soll eine Stichprobe Zweifel ausräumen.\n"
     ]
    }
   ],
   "source": [
    "# Access RSS Feed of Zeit.de\n",
    "import feedparser\n",
    "feed='http://newsfeed.zeit.de/index'\n",
    "f=feedparser.parse(feed)\n",
    "for e in f.entries:\n",
    "  print('\\n---------------------------')\n",
    "  text=e.title+\"\\n\"+e.description\n",
    "  print(text)"
   ]
  },
  {
   "cell_type": "code",
   "execution_count": null,
   "metadata": {
    "ExecuteTime": {
     "end_time": "2017-11-19T13:11:20.337000Z",
     "start_time": "2017-11-19T14:11:20.168000+01:00"
    }
   },
   "outputs": [],
   "source": []
  },
  {
   "cell_type": "markdown",
   "metadata": {},
   "source": [
    "**Tasks:**\n",
    "\n",
    "1. Write the lists of raw-texts into a .txt-file, which contains the word `rawtexts` and the current date and time.\n",
    "2. Write the lists of wordlists into a .txt-file, which contains the word `wordlists` and the current date and time."
   ]
  },
  {
   "cell_type": "code",
   "execution_count": null,
   "metadata": {
    "ExecuteTime": {
     "end_time": "2017-11-19T13:11:25.855000Z",
     "start_time": "2017-11-19T14:11:25.840000+01:00"
    }
   },
   "outputs": [],
   "source": []
  },
  {
   "cell_type": "code",
   "execution_count": null,
   "metadata": {
    "ExecuteTime": {
     "end_time": "2017-11-19T13:11:27.887000Z",
     "start_time": "2017-11-19T14:11:27.871000+01:00"
    }
   },
   "outputs": [],
   "source": []
  },
  {
   "cell_type": "markdown",
   "metadata": {},
   "source": [
    "**Task:**\n",
    "1. Determine the vocabulary of the current feed-texts. The vocabulary is the set of all words, which occure at least once in the feed-texts. \n",
    "2. How many words are in the vocabulary? \n",
    "3. Sort the vocabulary in lexical order."
   ]
  },
  {
   "cell_type": "code",
   "execution_count": null,
   "metadata": {
    "collapsed": true
   },
   "outputs": [],
   "source": []
  }
 ],
 "metadata": {
  "anaconda-cloud": {},
  "kernelspec": {
   "display_name": "Python 3",
   "language": "python",
   "name": "python3"
  },
  "language_info": {
   "codemirror_mode": {
    "name": "ipython",
    "version": 3
   },
   "file_extension": ".py",
   "mimetype": "text/x-python",
   "name": "python",
   "nbconvert_exporter": "python",
   "pygments_lexer": "ipython3",
   "version": "3.6.3"
  },
  "nav_menu": {},
  "toc": {
   "nav_menu": {},
   "number_sections": true,
   "sideBar": true,
   "skip_h1_title": false,
   "title_cell": "Table of Contents",
   "title_sidebar": "Contents",
   "toc_cell": false,
   "toc_position": {},
   "toc_section_display": "block",
   "toc_window_display": false
  }
 },
 "nbformat": 4,
 "nbformat_minor": 2
}

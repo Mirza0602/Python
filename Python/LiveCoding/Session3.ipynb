{
 "cells": [
  {
   "cell_type": "markdown",
   "metadata": {},
   "source": [
    "# Live Coding Session 2:\n",
    "What you will learn in this session:\n",
    " * Datatypes \n",
    "     * *string*\n",
    "     * *list*\n",
    "     * *set*\n",
    " * Control structures\n",
    " * Accessing live data from the web (RSS Newsfeed)\n",
    " * Python list comprehension\n",
    " * Write to text-file\n",
    " * Date and time\n",
    "\n",
    "\n",
    "## Task description\n",
    "\n",
    "Before implementing solutions for this task study the section on *strings* in the [notebook on sequential data types](03aDataTypesSequential.ipynb).\n",
    "\n",
    "1. Run the code cell below. The code accesses and prints the current RSS Feed of [Zeit Online](http://www.zeit.de/index). However, the printed output not only contains raw-text but HTML-Markup for references. Modify the code such that only the raw-text of title and description is printed, without any references and markup elements. All of these raw-texts shall be stored in a list of strings.\n",
    "2. Modify the code such that the number of words per feed entry (text+description) is printed.\n",
    "3. Modify the code such that for each feed-entry a list of all word is generated. The words in this list shall all be represented with only lower-case letters. Moreover, the words shall not contain punctuation marks at the end. All of these word-lists shall be stored in a list of lists."
   ]
  },
  {
   "cell_type": "code",
   "execution_count": 1,
   "metadata": {
    "ExecuteTime": {
     "end_time": "2017-11-16T18:28:49.229000Z",
     "start_time": "2017-11-16T19:28:48.211000+01:00"
    }
   },
   "outputs": [
    {
     "name": "stdout",
     "output_type": "stream",
     "text": [
      "\n",
      "---------------------------\n",
      "Obdachlosigkeit: Polen will polnischen Obdachlosen in Berlin helfen\n",
      "<a href=\"http://www.zeit.de/gesellschaft/zeitgeschehen/2017-11/polen-obdachlose-berlin-sozialarbeiter\"><img src=\"http://img.zeit.de/politik/ausland/2017-11/obdachlose-berlin-polen/wide__148x84\" style=\"float: left; margin-right: 5px;\" /></a> In der Hauptstadt gibt es immer mehr Obdachlose, mehr als die Hälfte stammt aus Osteuropa. Die polnische Botschaft kündigt an, Sozialarbeiter finanzieren zu wollen.\n",
      "\n",
      "---------------------------\n",
      "Polen: Polnische Regierung sieht Verräter im EU-Parlament\n",
      "<a href=\"http://www.zeit.de/politik/ausland/polen-jaroslaw-kaczynski-regierung-blog\"><img src=\"http://img.zeit.de/politik/ausland/2017-11/beata-szydlo-verrat/wide__148x84\" style=\"float: left; margin-right: 5px;\" /></a> Der Streit zwischen dem Europaparlament und Polen geht weiter: Die PiS-Regierung reagiert empört auf die Vorwürfe, der Rechtsstaat sei in Gefahr.\n",
      "\n",
      "---------------------------\n",
      "Mode: Mit fünf Teilen zum Berliner Standard-Outfit\n",
      "<a href=\"http://ze.tt/du-willst-diesen-winter-genauso-rumlaufen-wie-jede-andere-frau-in-berlin-so-gehts/\"><img src=\"http://img.zeit.de/gesellschaft/zeitgeschehen/2017-11/zett-mode/wide__148x84\" style=\"float: left; margin-right: 5px;\" /></a> Berlin gilt als Mode-Metropole, als Hauptstadt der Mutigen, als Zentrum der Coolen. Von wegen: Auf den Straßen dominiert ein Einheitslook.\n",
      "\n",
      "---------------------------\n",
      "London: Neue Anschuldigungen gegen Kevin Spacey\n",
      "<a href=\"http://www.zeit.de/kultur/2017-11/kevin-spacey-london-anschuldigungen-theater-the-old-vic\"><img src=\"http://img.zeit.de/gesellschaft/2017-11/old-vic-kevin-spacey/wide__148x84\" style=\"float: left; margin-right: 5px;\" /></a> Der Schauspieler soll sich als Leiter eines Londoner Theaters in mindestens 20 Fällen \"unangemessen verhalten\" haben. Der Kult um seine Person habe Spacey geschützt.\n",
      "\n",
      "---------------------------\n",
      "Stellenabbau: Siemens will weltweit 6.900 Jobs streichen\n",
      "<a href=\"http://www.zeit.de/wirtschaft/unternehmen/2017-11/siemens-stellenabbau-arbeitsplaetze-konzern-berlin-sachsen\"><img src=\"http://img.zeit.de/wirtschaft/2017-11/siemens-stellenabbau-arbeitsplaetze-konzern-berlin-sachsen-chef/wide__148x84\" style=\"float: left; margin-right: 5px;\" /></a> Der Konzern reagiert mit Stellenkürzungen auf das schwierige Geschäft in der Kraftwerkssparte. Die Turbinenwerke in Görlitz und Leipzig sollen geschlossen werden.\n",
      "\n",
      "---------------------------\n",
      "Sondierungsgespräche: Die Jamaika-Mission\n",
      "<a href=\"http://www.zeit.de/politik/deutschland/2017-11/sondierungsgespraeche-abschluss-jamaika-koalition-kompromisse\"><img src=\"http://img.zeit.de/politik/deutschland/2017-11/seehofer-oezdemir/wide__148x84\" style=\"float: left; margin-right: 5px;\" /></a> Jede Partei muss ein Herzensanliegen durchbringen, um vor der eigenen Basis zu bestehen. Gelingt das, kann Schwarz-Gelb-Grün große gesellschaftliche Konflikte befrieden.\n",
      "\n",
      "---------------------------\n",
      "Sondierungsgespräche: Über diese Themen streitet die Jamaika-Runde\n",
      "<a href=\"http://www.zeit.de/politik/deutschland/2017-10/sondierungsgespraeche-cdu-csu-fdp-die-gruenen-jamaika-koalition\"><img src=\"http://img.zeit.de/politik/deutschland/2017-11/sondierungsgespraeche-cdu-csu-fdp-die-gruenen-jamaika-koalition/wide__148x84\" style=\"float: left; margin-right: 5px;\" /></a> Klimaschutz, Zuwanderung, Steuerentlastungen: Noch immer gibt es Streitpunkte zwischen Union, FDP und Grünen, die unlösbar scheinen. Die Zeit für die Sondierer läuft ab.\n",
      "\n",
      "---------------------------\n",
      "Sondierungen: Jamaika-Parteien wollen Soli in drei Schritten abschaffen\n",
      "<a href=\"http://www.zeit.de/politik/deutschland/2017-11/sondierungen-unionsparteien-fdp-die-gruenen-bildung-ernaehrung\"><img src=\"http://img.zeit.de/politik/deutschland/2017-11/sondierungen-gruene/wide__148x84\" style=\"float: left; margin-right: 5px;\" /></a> Für die Schlussrunde ihrer Sondierungen haben CDU, CSU, FDP und Grüne einen 62-seitigen Einigungsentwurf vorgelegt. In dem Text gibt es noch viele Leerstellen.\n",
      "\n",
      "---------------------------\n",
      "\"Salvator mundi\": \"Das Geld ist verbrannt\"\n",
      "<a href=\"http://www.zeit.de/kultur/kunst/2017-11/salvator-mundi-leonardo-da-vinci-gemaelde-versteigerung\"><img src=\"http://img.zeit.de/kultur/kunst/2017-11/salvator-mundi-leonardo-da-vinci/wide__148x84\" style=\"float: left; margin-right: 5px;\" /></a> Warum bezahlt jemand 450 Millionen für ein Gemälde, das nur vielleicht von Leonardo da Vinci stammt? Eine Machtgeste, sagt der Kunstwissenschaftler Wolfgang Ullrich.\n",
      "\n",
      "---------------------------\n",
      "Hebammen: \"Manchmal betreue ich parallel drei Frauen mit Wehen\"\n",
      "<a href=\"http://www.zeit.de/arbeit/2017-10/hebammen-klinik-kreisssaal-geburten\"><img src=\"http://img.zeit.de/arbeit/2017-11/kontoauszug-anke-hebamme-2/wide__148x84\" style=\"float: left; margin-right: 5px;\" /></a> Die Arbeitsbedingungen im Kreißsaal sind schlecht – darunter leiden auch die Mütter. Die Hebamme Anke Uhlig hält es nicht mehr aus, ständig nicht genug helfen zu können.\n",
      "\n",
      "---------------------------\n",
      "Berliner Polizeiakademie: Dein Feind und Helfer\n",
      "<a href=\"http://www.zeit.de/2017/47/berliner-polizeiakademie-ausbildung-kriminelle-clans-migrationshintergrund\"><img src=\"http://img.zeit.de/2017/47/polizeiakademie_img-0/wide__148x84\" style=\"float: left; margin-right: 5px;\" /></a> Unterwandert von kriminellen Clans, Rassismus und fehlende Disziplin: An der Berliner Polizeiakademie sollen unhaltbare Zustände herrschen. Was ist dran an den Vorwürfen?\n",
      "\n",
      "---------------------------\n",
      "Peter Handke: Poesie vom Staatsfeind\n",
      "<a href=\"http://www.zeit.de/2017/47/peter-handke-die-obstdiebin-einfache-fahrt-landesinnere\"><img src=\"http://img.zeit.de/2017/47/l-handke_img-1/wide__148x84\" style=\"float: left; margin-right: 5px;\" /></a> Ist das nun grotesk oder erhaben? In seinem neuen Roman \"Die Obstdiebin\" bricht Peter Handke in die Picardie auf, um die Verstockten Hören und Fühlen zu lehren.\n",
      "\n",
      "---------------------------\n",
      "Internetanschluss: So einfach kann eine Entschädigung sein\n",
      "<a href=\"http://www.zeit.de/digital/internet/2017-11/internetanschluss-stoerung-techniker-entschaedigung\"><img src=\"http://img.zeit.de/digital/internet/2017-11/internet-anschluss-stoerung-techniker-entschaedigung-bild/wide__148x84\" style=\"float: left; margin-right: 5px;\" /></a> Britische Verbraucher bekommen künftig Pauschalen für jeden Tag ohne funktionierenden Internetanschluss. Die Grünen wollen das auch für Deutschland.\n",
      "\n",
      "---------------------------\n",
      "Eierspeise: Die Omelettschule\n",
      "<a href=\"http://www.zeit.de/2017/46/omelett-eier-klassisch\"><img src=\"http://img.zeit.de/2017/46/omelett-eierspeise-klassisch/wide__148x84\" style=\"float: left; margin-right: 5px;\" /></a> Das Omelett, eine einfallslose Eierspeise? Pah! Unser Autor ist ihm verfallen. Regelmäßig stellt er hier eine Kreation vor. Folge 17: Es muss nicht vielschichtig sein.\n",
      "\n",
      "---------------------------\n",
      "Musikdoku Martin Kohlstedt: Ambient ist eine Jugend in Thüringen\n",
      "<a href=\"http://www.zeit.de/video/2017-11/5644210576001/musikdoku-martin-kohlstedt-ambient-ist-eine-jugend-in-thueringen\"><img src=\"http://img.zeit.de/video/2017-11/5644210576001/imagegroup/wide__148x84\" style=\"float: left; margin-right: 5px;\" /></a> Vom Strom zum Ton: Der Pianist Martin Kohlstedt zeigt in der Kurzdoku \"Strom Chapter I\", wie er seine persönliche Vergangenheit in experimentelle Klänge übersetzt.\n"
     ]
    }
   ],
   "source": [
    "# Access RSS Feed of Zeit.de\n",
    "import feedparser\n",
    "feed='http://newsfeed.zeit.de/index'\n",
    "f=feedparser.parse(feed)\n",
    "for e in f.entries:\n",
    "  print '\\n---------------------------'\n",
    "  text=e.title+\"\\n\"+e.description\n",
    "  print text"
   ]
  },
  {
   "cell_type": "code",
   "execution_count": 8,
   "metadata": {
    "ExecuteTime": {
     "end_time": "2017-11-16T20:36:01.565000Z",
     "start_time": "2017-11-16T21:36:01.327000+01:00"
    }
   },
   "outputs": [
    {
     "name": "stdout",
     "output_type": "stream",
     "text": [
      "\n",
      "---------------------------\n",
      "Schuheinlagen: Die Kraft der Sohle\n",
      "Die Firma BestRelax vertreibt Bioeinlagesohlen, die laut Werbung über 100 Krankheiten sofort heilen können. Wir hätten dazu mal ein paar Fragen.\n",
      "[u'schuheinlagen', u'die', u'kraft', u'der', u'sohle', u'die', u'firma', u'bestrelax', u'vertreibt', u'bioeinlagesohlen', u'die', u'laut', u'werbung', u'\\xfcber', u'100', u'krankheiten', u'sofort', u'heilen', u'k\\xf6nnen', u'wir', u'h\\xe4tten', u'dazu', u'mal', u'ein', u'paar', u'fragen']\n",
      "Number of words in this article:  26\n",
      "\n",
      "---------------------------\n",
      "Pop-Neuerscheinungen : Die dienstälteste Griftspritze des Britpop\n",
      "Ach, Morrissey. Mal wieder hochpolitisch, aber musikalisch inkonsequent. Außerdem im Tonträger: neue Alben von Andreas Spechtl und der Notwist-Supergroup Spirit Fest\n",
      "[u'pop-neuerscheinungen', u'', u'die', u'dienst\\xe4lteste', u'griftspritze', u'des', u'britpop', u'ach', u'morrissey', u'mal', u'wieder', u'hochpolitisch', u'aber', u'musikalisch', u'inkonsequent', u'au\\xdferdem', u'im', u'tontr\\xe4ger', u'neue', u'alben', u'von', u'andreas', u'spechtl', u'und', u'der', u'notwist-supergroup', u'spirit', u'fest']\n",
      "Number of words in this article:  28\n",
      "\n",
      "---------------------------\n",
      "Artenschutz: US-Regierung hebt Importverbot für erjagte Elefanten auf\n",
      "Die Zahl Afrikanischer Elefanten ist in den letzten zehn Jahren um ein Fünftel zurückgegangen. Künftig dürfen sie dennoch wieder in die USA eingeführt werden.\n",
      "[u'artenschutz', u'us-regierung', u'hebt', u'importverbot', u'f\\xfcr', u'erjagte', u'elefanten', u'auf', u'die', u'zahl', u'afrikanischer', u'elefanten', u'ist', u'in', u'den', u'letzten', u'zehn', u'jahren', u'um', u'ein', u'f\\xfcnftel', u'zur\\xfcckgegangen', u'k\\xfcnftig', u'd\\xfcrfen', u'sie', u'dennoch', u'wieder', u'in', u'die', u'usa', u'eingef\\xfchrt', u'werden']\n",
      "Number of words in this article:  32\n",
      "\n",
      "---------------------------\n",
      "US-Repräsentantenhaus: Republikaner bringen Steuerreform auf den Weg\n",
      "Das US-Repräsentantenhaus hat für die geplante Steuerreform gestimmt, im Senat wird eine eigene Version diskutiert. Trump kann nicht mit einem schnellen Erfolg rechnen.\n",
      "[u'us-repr\\xe4sentantenhaus', u'republikaner', u'bringen', u'steuerreform', u'auf', u'den', u'weg', u'das', u'us-repr\\xe4sentantenhaus', u'hat', u'f\\xfcr', u'die', u'geplante', u'steuerreform', u'gestimmt', u'im', u'senat', u'wird', u'eine', u'eigene', u'version', u'diskutiert', u'trump', u'kann', u'nicht', u'mit', u'einem', u'schnellen', u'erfolg', u'rechnen']\n",
      "Number of words in this article:  30\n",
      "\n",
      "---------------------------\n",
      "Sondierungen: Merkel bietet offenbar Kompromiss bei der Kohle an\n",
      "Die Kanzlerin kommt den Grünen im Kohlestreit entgegen. Für die Schlussrunde der Sondierungen haben die Jamaika-Parteien einen 62-seitigen Einigungsentwurf vorbereitet.\n",
      "[u'sondierungen', u'merkel', u'bietet', u'offenbar', u'kompromiss', u'bei', u'der', u'kohle', u'an', u'die', u'kanzlerin', u'kommt', u'den', u'gr\\xfcnen', u'im', u'kohlestreit', u'entgegen', u'f\\xfcr', u'die', u'schlussrunde', u'der', u'sondierungen', u'haben', u'die', u'jamaika-parteien', u'einen', u'62-seitigen', u'einigungsentwurf', u'vorbereitet']\n",
      "Number of words in this article:  29\n",
      "\n",
      "---------------------------\n",
      "Jamaika-Verhandlungen: Lieber mal irren\n",
      "Von der Politik verordnete Umweltmaßnahmen gehen gerne mal nach hinten los. Mit Quoten und Richtlinien ist es nicht getan. Deshalb braucht man den Mut zur Korrektur.\n",
      "[u'jamaika-verhandlungen', u'lieber', u'mal', u'irren', u'von', u'der', u'politik', u'verordnete', u'umweltma\\xdfnahmen', u'gehen', u'gerne', u'mal', u'nach', u'hinten', u'los', u'mit', u'quoten', u'und', u'richtlinien', u'ist', u'es', u'nicht', u'getan', u'deshalb', u'braucht', u'man', u'den', u'mut', u'zur', u'korrektur']\n",
      "Number of words in this article:  30\n",
      "\n",
      "---------------------------\n",
      "Beat the Prof: Wie gut kennen Sie die deutsche Sprache?\n",
      "Warum schreibt man \"am\" mit einem m und \"Kamm\" mit zwei? Und woher kommt das h in \"Thron\"? Ein Germanistikprofessor, zehn Fragen zur Rechtschreibung: Beat the Prof!\n",
      "[u'beat', u'the', u'prof', u'wie', u'gut', u'kennen', u'sie', u'die', u'deutsche', u'sprache', u'warum', u'schreibt', u'man', u'am', u'mit', u'einem', u'm', u'und', u'kamm', u'mit', u'zwei', u'und', u'woher', u'kommt', u'das', u'h', u'in', u'thron', u'ein', u'germanistikprofessor', u'zehn', u'fragen', u'zur', u'rechtschreibung', u'beat', u'the', u'prof']\n",
      "Number of words in this article:  37\n",
      "\n",
      "---------------------------\n",
      "Landgericht Frankfurt: Kuwait Airways muss keine Israelis befördern\n",
      "Die Airline darf israelischen Staatsbürgern die Beförderung verweigern. Das hat das Landgericht Frankfurt entschieden. Der Zentralrat der Juden kritisiert das Urteil.\n",
      "[u'landgericht', u'frankfurt', u'kuwait', u'airways', u'muss', u'keine', u'israelis', u'bef\\xf6rdern', u'die', u'airline', u'darf', u'israelischen', u'staatsb\\xfcrgern', u'die', u'bef\\xf6rderung', u'verweigern', u'das', u'hat', u'das', u'landgericht', u'frankfurt', u'entschieden', u'der', u'zentralrat', u'der', u'juden', u'kritisiert', u'das', u'urteil']\n",
      "Number of words in this article:  29\n",
      "\n",
      "---------------------------\n",
      "Al Franken: Moderatorin wirft US-Senator Belästigung vor\n",
      "Die Radiojournalistin Leeann Tweeden hat dem demokratischen Spitzenpolitiker Al Franken vorgeworfen, sie bedrängt zu haben. Der US-Senator entschuldigte sich.\n",
      "[u'al', u'franken', u'moderatorin', u'wirft', u'us-senator', u'bel\\xe4stigung', u'vor', u'die', u'radiojournalistin', u'leeann', u'tweeden', u'hat', u'dem', u'demokratischen', u'spitzenpolitiker', u'al', u'franken', u'vorgeworfen', u'sie', u'bedr\\xe4ngt', u'zu', u'haben', u'der', u'us-senator', u'entschuldigte', u'sich']\n",
      "Number of words in this article:  26\n",
      "\n",
      "---------------------------\n",
      "Jamaika-Koalition: Links sein, rechts sein, dazwischen sein\n",
      "Deutschland hat sich verändert. Eine Jamaika-Koalition wäre der Ausdruck seines heutigen Zustands. An welchen Weltbildern orientieren sich die beteiligten Parteien?\n",
      "[u'jamaika-koalition', u'links', u'sein', u'rechts', u'sein', u'dazwischen', u'sein', u'deutschland', u'hat', u'sich', u'ver\\xe4ndert', u'eine', u'jamaika-koalition', u'w\\xe4re', u'der', u'ausdruck', u'seines', u'heutigen', u'zustands', u'an', u'welchen', u'weltbildern', u'orientieren', u'sich', u'die', u'beteiligten', u'parteien']\n",
      "Number of words in this article:  27\n",
      "\n",
      "---------------------------\n",
      "Obdachlosigkeit: Polen will polnischen Obdachlosen in Berlin helfen\n",
      "In der Hauptstadt gibt es immer mehr Obdachlose, mehr als die Hälfte stammt aus Osteuropa. Die polnische Botschaft kündigt an, Sozialarbeiter finanzieren zu wollen.\n",
      "[u'obdachlosigkeit', u'polen', u'will', u'polnischen', u'obdachlosen', u'in', u'berlin', u'helfen', u'in', u'der', u'hauptstadt', u'gibt', u'es', u'immer', u'mehr', u'obdachlose', u'mehr', u'als', u'die', u'h\\xe4lfte', u'stammt', u'aus', u'osteuropa', u'die', u'polnische', u'botschaft', u'k\\xfcndigt', u'an', u'sozialarbeiter', u'finanzieren', u'zu', u'wollen']\n",
      "Number of words in this article:  32\n",
      "\n",
      "---------------------------\n",
      "Polen: Polnische Regierung sieht Verräter im EU-Parlament\n",
      "Der Streit zwischen dem Europaparlament und Polen geht weiter: Die PiS-Regierung reagiert empört auf die Vorwürfe, der Rechtsstaat sei in Gefahr.\n",
      "[u'polen', u'polnische', u'regierung', u'sieht', u'verr\\xe4ter', u'im', u'eu-parlament', u'der', u'streit', u'zwischen', u'dem', u'europaparlament', u'und', u'polen', u'geht', u'weiter', u'die', u'pis-regierung', u'reagiert', u'emp\\xf6rt', u'auf', u'die', u'vorw\\xfcrfe', u'der', u'rechtsstaat', u'sei', u'in', u'gefahr']\n",
      "Number of words in this article:  28\n",
      "\n",
      "---------------------------\n",
      "London: Neue Anschuldigungen gegen Kevin Spacey\n",
      "Der Schauspieler soll sich als Leiter eines Londoner Theaters in mindestens 20 Fällen \"unangemessen verhalten\" haben. Der Kult um seine Person habe Spacey geschützt.\n",
      "[u'london', u'neue', u'anschuldigungen', u'gegen', u'kevin', u'spacey', u'der', u'schauspieler', u'soll', u'sich', u'als', u'leiter', u'eines', u'londoner', u'theaters', u'in', u'mindestens', u'20', u'f\\xe4llen', u'unangemessen', u'verhalten', u'haben', u'der', u'kult', u'um', u'seine', u'person', u'habe', u'spacey', u'gesch\\xfctzt']\n",
      "Number of words in this article:  30\n",
      "\n",
      "---------------------------\n",
      "Stellenabbau: Siemens will weltweit 6.900 Jobs streichen\n",
      "Der Konzern reagiert mit Stellenkürzungen auf das schwierige Geschäft in der Kraftwerkssparte. Die Turbinenwerke in Görlitz und Leipzig sollen geschlossen werden.\n",
      "[u'stellenabbau', u'siemens', u'will', u'weltweit', u'6.900', u'jobs', u'streichen', u'der', u'konzern', u'reagiert', u'mit', u'stellenk\\xfcrzungen', u'auf', u'das', u'schwierige', u'gesch\\xe4ft', u'in', u'der', u'kraftwerkssparte', u'die', u'turbinenwerke', u'in', u'g\\xf6rlitz', u'und', u'leipzig', u'sollen', u'geschlossen', u'werden']\n",
      "Number of words in this article:  28\n",
      "\n",
      "---------------------------\n",
      "Sondierungsgespräche: Die Jamaika-Mission\n",
      "Jede Partei muss ein Herzensanliegen durchbringen, um vor der eigenen Basis zu bestehen. Gelingt das, kann Schwarz-Gelb-Grün große gesellschaftliche Konflikte befrieden.\n",
      "[u'sondierungsgespr\\xe4che', u'die', u'jamaika-mission', u'jede', u'partei', u'muss', u'ein', u'herzensanliegen', u'durchbringen', u'um', u'vor', u'der', u'eigenen', u'basis', u'zu', u'bestehen', u'gelingt', u'das', u'kann', u'schwarz-gelb-gr\\xfcn', u'gro\\xdfe', u'gesellschaftliche', u'konflikte', u'befrieden']\n",
      "Number of words in this article:  24\n",
      "Number of article, currently in this feed:  15\n"
     ]
    }
   ],
   "source": [
    "# Access RSS Feed of Zeit.de\n",
    "import feedparser\n",
    "import time\n",
    "feed='http://newsfeed.zeit.de/index'\n",
    "f=feedparser.parse(feed)\n",
    "newstexts=[]\n",
    "newslists=[]\n",
    "for e in f.entries:\n",
    "  print '\\n---------------------------'\n",
    "  endMarkup=e.description.find('</a>') \n",
    "  rawDescription=e.description[endMarkup+5:]  \n",
    "  text=e.title+\"\\n\"+rawDescription\n",
    "  newstexts.append(text+\"\\n\")  \n",
    "  textList=text.split()\n",
    "  print text\n",
    "  textList=[s.strip('.,:!?\\\"').lower() for s in textList]#list comprehension\n",
    "  print textList\n",
    "  newslists.append(textList)\n",
    "  print \"Number of words in this article: \",len(textList)\n",
    "print \"Number of article, currently in this feed: \",len(newslists)"
   ]
  },
  {
   "cell_type": "markdown",
   "metadata": {},
   "source": [
    "**Tasks:**\n",
    "\n",
    "1. Write the lists of raw-texts into a .txt-file, which contains the word `rawtexts` and the current date and time.\n",
    "2. Write the lists of wordlists into a .txt-file, which contains the word `wordlists` and the current date and time."
   ]
  },
  {
   "cell_type": "code",
   "execution_count": null,
   "metadata": {
    "collapsed": true
   },
   "outputs": [],
   "source": [
    "today=time.strftime(\"%d-%m-%Y\")\n",
    "now=time.strftime(\"%H-%M-%S\")\n",
    "#print today\n",
    "#print now\n",
    "#print newslists\n",
    "#print type(newslists)\n",
    "with open(\"rawtexts\"+today+'-'+now+\".txt\",\"w\") as f:\n",
    "    for w in newstexts:\n",
    "        f.write(w.encode('utf-8')+'\\n')"
   ]
  },
  {
   "cell_type": "code",
   "execution_count": 13,
   "metadata": {
    "ExecuteTime": {
     "end_time": "2017-11-16T20:50:31.622000Z",
     "start_time": "2017-11-16T21:50:31.606000+01:00"
    }
   },
   "outputs": [],
   "source": [
    "with open(\"wordlists\"+today+'-'+now+\".txt\",\"w\") as f:\n",
    "    for entry in newslists:\n",
    "        for w in entry:\n",
    "            f.write(w.encode('utf-8')+\", \")\n",
    "        f.write(\"\\n\\n\")"
   ]
  }
 ],
 "metadata": {
  "anaconda-cloud": {},
  "kernelspec": {
   "display_name": "Python [conda env:condatascience]",
   "language": "python",
   "name": "conda-env-condatascience-py"
  },
  "language_info": {
   "codemirror_mode": {
    "name": "ipython",
    "version": 2
   },
   "file_extension": ".py",
   "mimetype": "text/x-python",
   "name": "python",
   "nbconvert_exporter": "python",
   "pygments_lexer": "ipython2",
   "version": "2.7.12"
  },
  "nav_menu": {},
  "toc": {
   "nav_menu": {},
   "number_sections": true,
   "sideBar": true,
   "skip_h1_title": false,
   "toc_cell": false,
   "toc_position": {},
   "toc_section_display": "block",
   "toc_window_display": false
  }
 },
 "nbformat": 4,
 "nbformat_minor": 2
}

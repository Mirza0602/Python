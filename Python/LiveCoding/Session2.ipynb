{
 "cells": [
  {
   "cell_type": "markdown",
   "metadata": {},
   "source": [
    "# Live Coding Session 2:\n",
    "What you will learn in this session:\n",
    " * Control Structures in Python\n",
    "     * Conditional Processing (if-then-else)\n",
    "     * Looped Processing (for- and while-loops)\n",
    " * Type conversion (casting)\n",
    " * Numpy\n",
    " * Matplotlib\n",
    " "
   ]
  },
  {
   "cell_type": "markdown",
   "metadata": {},
   "source": [
    "## Task Description: \n",
    "The task, which has already been sketched in [Session1](Session1.ipynb) will be solved in this notebook. Instead of using only a few own-defined data instances, we import a comprehensive dataset from the publically available [insurance dataset](../../R/Lecture/data/insurance.csv) "
   ]
  },
  {
   "cell_type": "markdown",
   "metadata": {},
   "source": [
    "## For Loop\n",
    "In this example only the basic usage of for-loops is demonstrated. The subject is described more thouroughly in notebook [04ControllStructures.ipynb](../Lecture/04ControllStructures.ipynb).\n",
    "\n",
    "\n",
    "**Tasks:**\n",
    "1. Read all data from the file [insurance dataset](../../R/Lecture/data/insurance.csv), into a nested list, i.e. each row in the file shall be represented by a single list (inner lists) and all of these inner lists shall be aggregated in an outer list. Use a for-loop for the line-by-line reading-process.   "
   ]
  },
  {
   "cell_type": "code",
   "execution_count": null,
   "metadata": {
    "ExecuteTime": {
     "end_time": "2017-11-16T14:45:35.661000Z",
     "start_time": "2017-11-16T15:45:35.629000+01:00"
    }
   },
   "outputs": [],
   "source": []
  },
  {
   "cell_type": "markdown",
   "metadata": {},
   "source": [
    "## Conditional Execution\n",
    "In this example only the basic usage of conditional expressions is demonstrated. The subject is described more thouroughly in notebook [04ControllStructures.ipynb](../Lecture/04ControllStructures.ipynb)."
   ]
  },
  {
   "cell_type": "markdown",
   "metadata": {},
   "source": [
    "**Tasks:**\n",
    "1. As can be seen in the code-cell above, the first line in the file is a header, which specifies the feature-names. Re-implement the reading process, such that the header-row is excluded from the data-rows. \n",
    "2. The output of the code-cell above also demonstrates, that all data has been imported as `string` variables. Re-implement the reading process, such that the numeric features are converted in their appropriate type."
   ]
  },
  {
   "cell_type": "code",
   "execution_count": null,
   "metadata": {
    "ExecuteTime": {
     "end_time": "2017-11-16T14:45:35.745000Z",
     "start_time": "2017-11-16T15:45:35.714000+01:00"
    }
   },
   "outputs": [],
   "source": []
  },
  {
   "cell_type": "markdown",
   "metadata": {},
   "source": [
    "**Tasks:**\n",
    "1. For all numeric features, determine the mean in the smoker and the mean in the non-smoker partition. Do smokers have in average\n",
    "    * a higher BMI? \n",
    "    * more children?\n",
    "    * higher charges?\n",
    "    * a higher age?"
   ]
  },
  {
   "cell_type": "code",
   "execution_count": null,
   "metadata": {
    "ExecuteTime": {
     "end_time": "2017-11-22T09:42:58.047000Z",
     "start_time": "2017-11-22T10:42:57.947000+01:00"
    }
   },
   "outputs": [],
   "source": []
  },
  {
   "cell_type": "markdown",
   "metadata": {},
   "source": [
    "## Numpy\n",
    "Arithmetic operations, like the calculation of descriptive statistics in the example above, can be realized much more comfortable and efficient, by applying the numpy package. [Numpy](https://docs.scipy.org/doc/) provides efficient datastructures and a vast bunch of functions for any kind of scientific calculation. The main datastructure is the numpy-array. The basics of numpy are described in the [numpy introduction notebook of this lecture](../Lecture/NP01numpyBasics.ipynb).\n",
    "\n",
    "The code-cells below demonstrate how numpy can be applied to efficiently solve the task of the example above (do features like BMI significantly vary between the groups of smokers and non-smokers?).\n",
    "\n",
    "First, a numpy-array is generated from the nested list `clientList` (in the third line of the code-cell below)."
   ]
  },
  {
   "cell_type": "code",
   "execution_count": null,
   "metadata": {
    "ExecuteTime": {
     "end_time": "2017-11-16T14:48:20.852000Z",
     "start_time": "2017-11-16T15:48:19.032000+01:00"
    }
   },
   "outputs": [],
   "source": []
  },
  {
   "cell_type": "markdown",
   "metadata": {},
   "source": [
    "As can be seen in the output, the new numpy-array keeps the same data as the nested `clientList`. All values are stored as strings. \n",
    "\n",
    "Next, all the numeric features of the insurance data are extracted. Moreover, the type of this numeric columns is converted to float."
   ]
  },
  {
   "cell_type": "code",
   "execution_count": null,
   "metadata": {
    "ExecuteTime": {
     "end_time": "2017-11-16T14:48:36.558000Z",
     "start_time": "2017-11-16T15:48:36.548000+01:00"
    }
   },
   "outputs": [],
   "source": []
  },
  {
   "cell_type": "markdown",
   "metadata": {},
   "source": [
    "Numpy provides many functions for calculating descriptive statistics. These functions can be executed on any numpy-array. In the code cell below, just the mean of each numeric feature is calculated. First the mean over all clients. Then the mean over the smoker and non-smoker-partition, respectively. Note how easy numpy-arrays can be filtered (splitted) with respect to variable-values. Here, the array of all clients is partitioned with respect to the value of the feature `smoker`."
   ]
  },
  {
   "cell_type": "code",
   "execution_count": null,
   "metadata": {
    "ExecuteTime": {
     "end_time": "2017-11-16T14:53:04.682000Z",
     "start_time": "2017-11-16T15:53:04.666000+01:00"
    }
   },
   "outputs": [],
   "source": []
  },
  {
   "cell_type": "markdown",
   "metadata": {
    "collapsed": true
   },
   "source": [
    "## Visualization with Matplotlib\n",
    "[Matplotlib](http://matplotlib.org/) is the main Python 2D plotting library. In this notebook we apply the *pyplot*-module of Matplotlib in order to \n",
    "* draw scatter-plots for visual correlation analysis\n",
    "* histograms for the visualization of value distributions\n",
    "\n",
    "These are only two types out of a vast selection of plotting-types, provided by pyplot. The basics of matplotlib are described in the [matplotlib introduction notebook of this lecture](../Lecture/PLT01visualization.ipynb)."
   ]
  },
  {
   "cell_type": "markdown",
   "metadata": {},
   "source": [
    "**Question:**\n",
    "\n",
    "In the code cell below the feature `charges` is plotted versus the feature `BMI`. What can be concluded from this visualisation?"
   ]
  },
  {
   "cell_type": "code",
   "execution_count": null,
   "metadata": {
    "ExecuteTime": {
     "end_time": "2017-11-16T17:16:41.988000Z",
     "start_time": "2017-11-16T18:16:41.718000+01:00"
    }
   },
   "outputs": [],
   "source": []
  },
  {
   "cell_type": "markdown",
   "metadata": {},
   "source": [
    "Next, the histograms of the features\n",
    "* BMI\n",
    "* charges\n",
    "* number of children\n",
    "\n",
    "are plotted:"
   ]
  },
  {
   "cell_type": "code",
   "execution_count": null,
   "metadata": {
    "ExecuteTime": {
     "end_time": "2017-11-16T18:12:20.599000Z",
     "start_time": "2017-11-16T19:12:20.345000+01:00"
    }
   },
   "outputs": [],
   "source": []
  }
 ],
 "metadata": {
  "anaconda-cloud": {},
  "kernelspec": {
   "display_name": "Python [conda env:condatascience]",
   "language": "python",
   "name": "conda-env-condatascience-py"
  },
  "language_info": {
   "codemirror_mode": {
    "name": "ipython",
    "version": 2
   },
   "file_extension": ".py",
   "mimetype": "text/x-python",
   "name": "python",
   "nbconvert_exporter": "python",
   "pygments_lexer": "ipython2",
   "version": "2.7.12"
  },
  "toc": {
   "nav_menu": {},
   "number_sections": true,
   "sideBar": true,
   "skip_h1_title": false,
   "toc_cell": false,
   "toc_position": {},
   "toc_section_display": "block",
   "toc_window_display": true
  }
 },
 "nbformat": 4,
 "nbformat_minor": 1
}

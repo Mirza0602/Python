{
 "cells": [
  {
   "cell_type": "markdown",
   "metadata": {},
   "source": [
    "# Live Coding Session 5:\n",
    "What you will learn in this session:\n",
    " * Access web-data via API. Here by the example of the [Quandl api](https://www.quandl.com/tools/python).\n",
    " * [Pandas Dataframes](../Lecture/PD01Pandas.ipynb)\n",
    "     * xxx\n",
    " * Handling of [date and time](../Lecture/09DateTime.ipynb)\n",
    " * Visualisation of time-series data with [Matplotlib](../Lecture/PLT01visualization.ipynb)\n",
    " * Smoothing and change-point detection in \n",
    " \n",
    "In this session we will access stock-prices of selected companies via the [Quandl api](https://www.quandl.com/tools/python). For this, a free *Quandl* account and an *API-KEY* must be generated, as described in the [Quandl documentation](https://docs.quandl.com). It is recommended to save the API-KEY in a .json file. The key is required before sending the first query in a Quandl-session. "
   ]
  },
  {
   "cell_type": "markdown",
   "metadata": {},
   "source": [
    "## Subtask 1: Access file which maps ticker-symbols to company names\n",
    "\n",
    "Quandl can be queried for stock-prices of specified companies. In the queries the company is not specified by it's name, but by it's *ticker-symbol*. For determining a companies ticker-symbol this\n",
    "[Ticker Symbols file](https://s3.amazonaws.com/quandl-static-content/Ticker+CSV%27s/secwiki_tickers.csv) can be applied. \n",
    "\n",
    "1. Read this file into a Pandas dataframe and display it's contest.\n",
    "2. Determine the ticker symbols of at least 3 different companies from the `Technology`-sector."
   ]
  },
  {
   "cell_type": "code",
   "execution_count": 28,
   "metadata": {},
   "outputs": [],
   "source": [
    "import quandl\n",
    "from IPython.display import display\n",
    "import json"
   ]
  },
  {
   "cell_type": "code",
   "execution_count": null,
   "metadata": {},
   "outputs": [],
   "source": []
  },
  {
   "cell_type": "code",
   "execution_count": null,
   "metadata": {},
   "outputs": [],
   "source": []
  },
  {
   "cell_type": "code",
   "execution_count": null,
   "metadata": {},
   "outputs": [],
   "source": []
  },
  {
   "cell_type": "markdown",
   "metadata": {},
   "source": [
    "## Subtask 2\n",
    "\n",
    "In the following code-cell the Quandl API-KEY is imported from the .json-file and the API is configured with this personal key. As described above, for getting the key a free Quandl-account must be established.\n",
    "\n",
    "1. Access the [WIKI Prices database from Quandl](https://www.quandl.com/databases/WIKIP) and query `date`- and `adj_close` (adjusted closing price) over a period of at least one year of 3 *Technology*-Sector companies of your choice. (See e.g. [Quandl Python API Introduction](https://www.quandl.com/tools/python)).\n",
    "2. Display the returned dataframe."
   ]
  },
  {
   "cell_type": "code",
   "execution_count": 31,
   "metadata": {},
   "outputs": [],
   "source": [
    "with open(\"quandl.json\",\"r\") as f:\n",
    "    cred = json.load(f)\n",
    "quandl.ApiConfig.api_key = cred['API-KEY']"
   ]
  },
  {
   "cell_type": "code",
   "execution_count": null,
   "metadata": {},
   "outputs": [],
   "source": []
  },
  {
   "cell_type": "code",
   "execution_count": null,
   "metadata": {},
   "outputs": [],
   "source": []
  },
  {
   "cell_type": "markdown",
   "metadata": {},
   "source": [
    "## Subtask 3: Restructure Dataframe\n",
    "The dataframe, which has been returned by the query in the previous task shall now be restructured, such that:\n",
    "1. The `date`-column is used as index.\n",
    "2. The dataframe contains for each of the 3 companies a single column, which contains the `adj_close` value of the day, defined by the index. I.e. the new dataframe consists of the date-index plus the 3 company-columns:"
   ]
  },
  {
   "cell_type": "code",
   "execution_count": null,
   "metadata": {},
   "outputs": [],
   "source": []
  },
  {
   "cell_type": "code",
   "execution_count": null,
   "metadata": {},
   "outputs": [],
   "source": []
  },
  {
   "cell_type": "markdown",
   "metadata": {},
   "source": [
    "## Subtask 4: Visualize stock-price time-series\n",
    "1. Visualize the 3 stock-price time-series `adj_close` vs. `date` either by the corresponding Pandas-methods (which apply *Matplotlib*) or by applying *Matplotlib* directly."
   ]
  },
  {
   "cell_type": "code",
   "execution_count": null,
   "metadata": {},
   "outputs": [],
   "source": []
  },
  {
   "cell_type": "markdown",
   "metadata": {},
   "source": [
    "## Subtask 5: Smoothing\n",
    "\n",
    "1. In order to ignore short-term (daily) changes the stock-price of one company shall be smoothed. See e.g. [Pandas documentation rolling()](https://pandas.pydata.org/pandas-docs/stable/computation.html#rolling-windows). \n",
    "2. Visualize the raw and the smoothed stock-price time series and experiment with different smoothing-window-types. "
   ]
  },
  {
   "cell_type": "code",
   "execution_count": null,
   "metadata": {},
   "outputs": [],
   "source": []
  },
  {
   "cell_type": "code",
   "execution_count": null,
   "metadata": {},
   "outputs": [],
   "source": []
  },
  {
   "cell_type": "code",
   "execution_count": null,
   "metadata": {},
   "outputs": [],
   "source": []
  },
  {
   "cell_type": "code",
   "execution_count": null,
   "metadata": {},
   "outputs": [],
   "source": []
  },
  {
   "cell_type": "code",
   "execution_count": null,
   "metadata": {},
   "outputs": [],
   "source": []
  },
  {
   "cell_type": "code",
   "execution_count": null,
   "metadata": {},
   "outputs": [],
   "source": []
  },
  {
   "cell_type": "markdown",
   "metadata": {},
   "source": [
    "## Subtask 6: Change point detection\n",
    "1. Suggest and implement a simple method to find the positions within the time-series, where an extraordinary decrease or increasse occurs.\n",
    "2. Visualize the detected change points in the time-series plot."
   ]
  },
  {
   "cell_type": "code",
   "execution_count": null,
   "metadata": {},
   "outputs": [],
   "source": []
  },
  {
   "cell_type": "code",
   "execution_count": null,
   "metadata": {},
   "outputs": [],
   "source": []
  },
  {
   "cell_type": "code",
   "execution_count": null,
   "metadata": {},
   "outputs": [],
   "source": []
  }
 ],
 "metadata": {
  "kernelspec": {
   "display_name": "Python 3",
   "language": "python",
   "name": "python3"
  },
  "language_info": {
   "codemirror_mode": {
    "name": "ipython",
    "version": 3
   },
   "file_extension": ".py",
   "mimetype": "text/x-python",
   "name": "python",
   "nbconvert_exporter": "python",
   "pygments_lexer": "ipython3",
   "version": "3.7.6"
  },
  "toc": {
   "base_numbering": 1,
   "nav_menu": {},
   "number_sections": true,
   "sideBar": true,
   "skip_h1_title": false,
   "title_cell": "Table of Contents",
   "title_sidebar": "Contents",
   "toc_cell": false,
   "toc_position": {},
   "toc_section_display": true,
   "toc_window_display": false
  }
 },
 "nbformat": 4,
 "nbformat_minor": 2
}

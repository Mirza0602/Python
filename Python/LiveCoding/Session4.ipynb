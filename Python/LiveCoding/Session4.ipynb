{
 "cells": [
  {
   "cell_type": "markdown",
   "metadata": {},
   "source": [
    "# Live Coding Session 4:\n",
    "What you will learn in this session:\n",
    " * [Pandas Dataframes](../Lecture/PD01Pandas.ipynb) \n",
    "     * Import Data from .csv\n",
    "     * Access and filter operations\n",
    "     * Arithmetic and statistical operations on dataframes\n",
    "     * Grouping\n",
    "     * Concatenation\n",
    "     * Plotting\n",
    " * Visualisation with [Matplotlib](../Lecture/PLT01visualization.ipynb)\n",
    " * Visualisation with [Seaborn](https://seaborn.pydata.org/)\n",
    " \n",
    " \n",
    " \n"
   ]
  },
  {
   "cell_type": "code",
   "execution_count": 1,
   "metadata": {
    "ExecuteTime": {
     "end_time": "2017-11-22T10:28:39.315000Z",
     "start_time": "2017-11-22T11:28:30.983000+01:00"
    }
   },
   "outputs": [],
   "source": [
    "%matplotlib inline\n",
    "import pandas as pd\n",
    "#pd.show_versions()"
   ]
  },
  {
   "cell_type": "markdown",
   "metadata": {},
   "source": [
    "## Import data and first inspection\n",
    "The dataset on video-games sales is publicly available from here: [Video Game Dataset](https://www.kaggle.com/rush4ratio/video-game-sales-with-ratings/data). The downloaded .csv file can be found in directory [../../Data/VideoGamesSales-22-12-2016.csv](../../Data/VideoGamesSales-22-12-2016.csv).\n",
    "\n",
    "### Datastructure and -Quality\n",
    "\n",
    "**Tasks:** \n",
    "1. Apply the *Pandas*-function `read_csv()` to importing this dataset.\n",
    "2. Display the first 5 rows of this dataset\n",
    "3. Determine the size of this dataset.\n",
    "4. Query the names of the dataset's columns"
   ]
  },
  {
   "cell_type": "code",
   "execution_count": 2,
   "metadata": {
    "ExecuteTime": {
     "end_time": "2017-11-22T10:28:41.286000Z",
     "start_time": "2017-11-22T11:28:41.217000+01:00"
    }
   },
   "outputs": [],
   "source": [
    "gameDataAll=pd.read_csv(\"../../Data/VideoGamesSales-22-12-2016.csv\",sep=\",\",encoding=\"utf-8\")\n"
   ]
  },
  {
   "cell_type": "markdown",
   "metadata": {},
   "source": [
    "Print name of columns:"
   ]
  },
  {
   "cell_type": "code",
   "execution_count": null,
   "metadata": {
    "ExecuteTime": {
     "end_time": "2017-11-19T08:30:55.079000Z",
     "start_time": "2017-11-19T09:30:55.063000+01:00"
    }
   },
   "outputs": [],
   "source": []
  },
  {
   "cell_type": "markdown",
   "metadata": {},
   "source": [
    "**Tasks:**\n",
    "1. We are only interested in sales figures, not in the scoring data. Therefore only the columns from `Name` to `Global_Sales` shall be considered. Extract the dataframe, which contains only the relevant columns:"
   ]
  },
  {
   "cell_type": "code",
   "execution_count": null,
   "metadata": {
    "ExecuteTime": {
     "end_time": "2017-11-19T08:36:39.179000Z",
     "start_time": "2017-11-19T09:36:39.171000+01:00"
    }
   },
   "outputs": [],
   "source": []
  },
  {
   "cell_type": "markdown",
   "metadata": {},
   "source": [
    "**Tasks**\n",
    "1. Remove all rows with NaNs. How much rows remain?"
   ]
  },
  {
   "cell_type": "code",
   "execution_count": null,
   "metadata": {
    "ExecuteTime": {
     "end_time": "2017-11-19T08:37:06.340000Z",
     "start_time": "2017-11-19T09:37:06.302000+01:00"
    },
    "scrolled": true
   },
   "outputs": [],
   "source": []
  },
  {
   "cell_type": "markdown",
   "metadata": {},
   "source": [
    "**Tasks:**\n",
    "1. Get the `Global_Sales` value of the game *Mario Kart Wii*.\n",
    "2. Get all data of the game *Mario Kart Wii*.\n",
    "3. Get all `Global_Sales`-values"
   ]
  },
  {
   "cell_type": "code",
   "execution_count": null,
   "metadata": {
    "ExecuteTime": {
     "end_time": "2017-11-22T10:29:38.677000Z",
     "start_time": "2017-11-22T11:29:38.043000+01:00"
    }
   },
   "outputs": [],
   "source": []
  },
  {
   "cell_type": "markdown",
   "metadata": {},
   "source": [
    "### Descriptive Statistics of numerical features"
   ]
  },
  {
   "cell_type": "markdown",
   "metadata": {},
   "source": [
    "**Tasks:**\n",
    "1. Calculate for all numeric variables descriptive statistics, like mean, standard-deviation and quantiles.\n",
    "2. Calculate for all categorical variables the frequency-distribution and visualize the corresponding histogram."
   ]
  },
  {
   "cell_type": "code",
   "execution_count": null,
   "metadata": {
    "ExecuteTime": {
     "end_time": "2017-11-19T08:51:46.986000Z",
     "start_time": "2017-11-19T09:51:46.949000+01:00"
    }
   },
   "outputs": [],
   "source": []
  },
  {
   "cell_type": "markdown",
   "metadata": {},
   "source": [
    "### Frequency Distribution of non-numerical features"
   ]
  },
  {
   "cell_type": "code",
   "execution_count": null,
   "metadata": {
    "ExecuteTime": {
     "end_time": "2017-11-19T08:51:53.325000Z",
     "start_time": "2017-11-19T09:51:52.971000+01:00"
    }
   },
   "outputs": [],
   "source": []
  },
  {
   "cell_type": "code",
   "execution_count": null,
   "metadata": {
    "ExecuteTime": {
     "end_time": "2017-11-19T08:52:11.608000Z",
     "start_time": "2017-11-19T09:52:11.356000+01:00"
    }
   },
   "outputs": [],
   "source": []
  },
  {
   "cell_type": "code",
   "execution_count": null,
   "metadata": {
    "ExecuteTime": {
     "end_time": "2017-11-19T08:52:19.133000Z",
     "start_time": "2017-11-19T09:52:19.117000+01:00"
    }
   },
   "outputs": [],
   "source": []
  },
  {
   "cell_type": "markdown",
   "metadata": {},
   "source": [
    "## Accumulated sales per genre and region\n",
    "The following questions shall be solved by corresponding data analysis:\n",
    "1. Which game-genres have the best total global sales figures?\n",
    "2. Are there significant differences in the genres total sales figures with respect to the three different regions North-America, Europe and Japan? "
   ]
  },
  {
   "cell_type": "code",
   "execution_count": null,
   "metadata": {
    "ExecuteTime": {
     "end_time": "2017-11-19T08:52:31.933000Z",
     "start_time": "2017-11-19T09:52:31.917000+01:00"
    }
   },
   "outputs": [],
   "source": []
  },
  {
   "cell_type": "code",
   "execution_count": null,
   "metadata": {
    "ExecuteTime": {
     "end_time": "2017-11-19T08:52:43.588000Z",
     "start_time": "2017-11-19T09:52:43.302000+01:00"
    }
   },
   "outputs": [],
   "source": []
  },
  {
   "cell_type": "code",
   "execution_count": null,
   "metadata": {
    "ExecuteTime": {
     "end_time": "2017-11-19T08:52:57.604000Z",
     "start_time": "2017-11-19T09:52:57.303000+01:00"
    }
   },
   "outputs": [],
   "source": []
  },
  {
   "cell_type": "code",
   "execution_count": null,
   "metadata": {
    "ExecuteTime": {
     "end_time": "2017-11-19T08:53:18.139000Z",
     "start_time": "2017-11-19T09:53:17.691000+01:00"
    }
   },
   "outputs": [],
   "source": []
  },
  {
   "cell_type": "code",
   "execution_count": null,
   "metadata": {
    "ExecuteTime": {
     "end_time": "2017-11-19T08:53:28.215000Z",
     "start_time": "2017-11-19T09:53:27.930000+01:00"
    }
   },
   "outputs": [],
   "source": []
  },
  {
   "cell_type": "markdown",
   "metadata": {},
   "source": [
    "It is difficult to compare the three regions, since their genre-specific sales figures are not neatly arranged. Improve this by\n",
    "1. Arranging the regional genre specific sales-figures in a single dataframe\n",
    "2. Plotting the total genre-specific sales in a single graph. "
   ]
  },
  {
   "cell_type": "code",
   "execution_count": null,
   "metadata": {
    "ExecuteTime": {
     "end_time": "2017-11-19T08:55:06.176000Z",
     "start_time": "2017-11-19T09:55:06.161000+01:00"
    }
   },
   "outputs": [],
   "source": []
  },
  {
   "cell_type": "code",
   "execution_count": null,
   "metadata": {
    "ExecuteTime": {
     "end_time": "2017-11-19T08:55:10.563000Z",
     "start_time": "2017-11-19T09:55:10.174000+01:00"
    }
   },
   "outputs": [],
   "source": []
  },
  {
   "cell_type": "markdown",
   "metadata": {},
   "source": [
    "The drawback of the stacked histogram above is, that it plots absolute sales-figures, but not relative. The question whether the different regions have different genre preferences can be answered better, if each genre-specific total amount of sales is calculated relative to the total amount of sales in the region. This shall be implemented below. \n",
    "\n",
    "First new columns are added to the dataframe, which contain the relative genre-specific sales figures. Then these relative values are visualized in a stacked barplot."
   ]
  },
  {
   "cell_type": "code",
   "execution_count": null,
   "metadata": {
    "ExecuteTime": {
     "end_time": "2017-11-19T08:55:22.968000Z",
     "start_time": "2017-11-19T09:55:22.968000+01:00"
    }
   },
   "outputs": [],
   "source": []
  },
  {
   "cell_type": "markdown",
   "metadata": {},
   "source": [
    "## Topsellers\n",
    "**Task:**\n",
    "1. Determine the games, which belong to the best 2% with respect to global sales figure."
   ]
  },
  {
   "cell_type": "code",
   "execution_count": null,
   "metadata": {
    "ExecuteTime": {
     "end_time": "2017-11-19T08:55:58.996000Z",
     "start_time": "2017-11-19T09:55:58.996000+01:00"
    },
    "collapsed": true
   },
   "outputs": [],
   "source": []
  },
  {
   "cell_type": "markdown",
   "metadata": {},
   "source": [
    "## Correlation Analysis\n",
    "**Task:**\n",
    "For all numeric features in gameDataAll the pairwise correlation shall be calculated and visualized in a heatmap.\n",
    "1. From the entire video games data (not only the sales-specific features) extract all rows, which have only non-Nan entries.\n",
    "2. Determine the sub-dataframe, which contains all numeric features.\n",
    "3. Apply [seaborn heatmap](https://seaborn.pydata.org/generated/seaborn.heatmap.html) in order to visualize all pairwise correlations of the numeric features.\n",
    "4. Plot `user_score` vs. `critic_score` in a [seaborn jointplot](https://seaborn.pydata.org/generated/seaborn.jointplot.html)."
   ]
  },
  {
   "cell_type": "code",
   "execution_count": 3,
   "metadata": {
    "ExecuteTime": {
     "end_time": "2017-11-19T09:18:28.366000Z",
     "start_time": "2017-11-19T10:18:28.350000+01:00"
    }
   },
   "outputs": [],
   "source": [
    "import seaborn as sb\n",
    "from matplotlib import pyplot as plt\n",
    "import numpy as np"
   ]
  },
  {
   "cell_type": "code",
   "execution_count": null,
   "metadata": {
    "ExecuteTime": {
     "end_time": "2017-11-19T09:18:29.099000Z",
     "start_time": "2017-11-19T10:18:29.083000+01:00"
    }
   },
   "outputs": [],
   "source": []
  },
  {
   "cell_type": "code",
   "execution_count": null,
   "metadata": {
    "ExecuteTime": {
     "end_time": "2017-11-19T12:33:11.307000Z",
     "start_time": "2017-11-19T13:33:10.437000+01:00"
    }
   },
   "outputs": [],
   "source": []
  },
  {
   "cell_type": "markdown",
   "metadata": {},
   "source": [
    "## Temporal Analysis\n",
    "**Task:**\n",
    "1. Plot the temporal development of global sales figures by genre"
   ]
  },
  {
   "cell_type": "code",
   "execution_count": null,
   "metadata": {
    "ExecuteTime": {
     "end_time": "2017-11-19T13:44:59.631000Z",
     "start_time": "2017-11-19T14:44:59.625000+01:00"
    }
   },
   "outputs": [],
   "source": []
  },
  {
   "cell_type": "code",
   "execution_count": null,
   "metadata": {
    "ExecuteTime": {
     "end_time": "2017-11-19T13:49:47.990000Z",
     "start_time": "2017-11-19T14:49:47.420000+01:00"
    }
   },
   "outputs": [],
   "source": []
  },
  {
   "cell_type": "code",
   "execution_count": null,
   "metadata": {
    "ExecuteTime": {
     "end_time": "2017-11-19T13:50:12.831000Z",
     "start_time": "2017-11-19T14:50:12.230000+01:00"
    }
   },
   "outputs": [],
   "source": []
  }
 ],
 "metadata": {
  "anaconda-cloud": {},
  "kernelspec": {
   "display_name": "Python 3",
   "language": "python",
   "name": "python3"
  },
  "language_info": {
   "codemirror_mode": {
    "name": "ipython",
    "version": 3
   },
   "file_extension": ".py",
   "mimetype": "text/x-python",
   "name": "python",
   "nbconvert_exporter": "python",
   "pygments_lexer": "ipython3",
   "version": "3.6.3"
  },
  "toc": {
   "nav_menu": {},
   "number_sections": true,
   "sideBar": true,
   "skip_h1_title": false,
   "title_cell": "Table of Contents",
   "title_sidebar": "Contents",
   "toc_cell": false,
   "toc_position": {},
   "toc_section_display": "block",
   "toc_window_display": false
  }
 },
 "nbformat": 4,
 "nbformat_minor": 1
}

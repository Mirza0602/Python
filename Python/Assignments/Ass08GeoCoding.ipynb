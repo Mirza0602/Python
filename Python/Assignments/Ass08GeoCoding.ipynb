{
 "cells": [
  {
   "cell_type": "markdown",
   "metadata": {},
   "source": [
    "# Exercise Geo Coding\n",
    "**What you will learn:**\n",
    "\n",
    "* Find geo-coordinates (latitude and longitude) of cities and countries\n",
    "* display locations, regions and paths in google maps\n",
    "\n",
    "**Required modules:**\n",
    "\n",
    "* [geopy](https://geopy.readthedocs.io/en/stable/) is a Python 2 and 3 client for several popular geocoding web services.\n",
    "* [gmplot](https://github.com/vgm64/gmplot) for plotting data in Google Maps."
   ]
  },
  {
   "cell_type": "markdown",
   "metadata": {},
   "source": [
    "## Task 1: Determine Geo-Coordinates\n",
    "### Subtask 1\n",
    "Print all attributes, which are returned by `geolocator.geocode(\"HdM Stuttgart\")`."
   ]
  },
  {
   "cell_type": "code",
   "execution_count": 1,
   "metadata": {},
   "outputs": [],
   "source": [
    "from geopy.geocoders import Nominatim\n",
    "geolocator = Nominatim()"
   ]
  },
  {
   "cell_type": "code",
   "execution_count": 2,
   "metadata": {},
   "outputs": [],
   "source": []
  },
  {
   "cell_type": "markdown",
   "metadata": {},
   "source": [
    "### Subtask 2:\n",
    "For an arbitrary latitude-/longitude-pair determine the corresponding address by applying `geolocators.reverse()`."
   ]
  },
  {
   "cell_type": "markdown",
   "metadata": {},
   "source": [
    "### Subtask 3 \n",
    "\n",
    "Obtain for all german cities with clubs in the soccer *1.Bundesliga* the attributes\n",
    " * place_id\n",
    " * latitude\n",
    " * longitude\n",
    " \n",
    " and write this data into a pandas dataframe, whose columns are the names of the above mentioned 3 attributes plus the city-name."
   ]
  },
  {
   "cell_type": "markdown",
   "metadata": {},
   "source": [
    "## Plot data in Google Maps\n",
    "### Subtask1\n",
    "For all 18 cities in the dataframe created in the previous task plot a location-marker into a GoogleMap. Apply the `gmplot` module for this. "
   ]
  },
  {
   "cell_type": "code",
   "execution_count": 8,
   "metadata": {},
   "outputs": [],
   "source": [
    "from gmplot import gmplot"
   ]
  },
  {
   "cell_type": "code",
   "execution_count": null,
   "metadata": {},
   "outputs": [],
   "source": []
  }
 ],
 "metadata": {
  "kernelspec": {
   "display_name": "Python 3",
   "language": "python",
   "name": "python3"
  },
  "language_info": {
   "codemirror_mode": {
    "name": "ipython",
    "version": 3
   },
   "file_extension": ".py",
   "mimetype": "text/x-python",
   "name": "python",
   "nbconvert_exporter": "python",
   "pygments_lexer": "ipython3",
   "version": "3.6.3"
  },
  "toc": {
   "nav_menu": {},
   "number_sections": true,
   "sideBar": true,
   "skip_h1_title": false,
   "title_cell": "Table of Contents",
   "title_sidebar": "Contents",
   "toc_cell": false,
   "toc_position": {},
   "toc_section_display": true,
   "toc_window_display": false
  }
 },
 "nbformat": 4,
 "nbformat_minor": 2
}

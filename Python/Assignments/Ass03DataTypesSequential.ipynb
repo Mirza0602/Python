{
 "cells": [
  {
   "cell_type": "markdown",
   "metadata": {},
   "source": [
    "# Exercises on Sequential Datatypes in Python\n",
    "\n",
    "* Author: Johannes Maucher\n",
    "* Last Update: 07.09.2018\n",
    "* Corresponding lecture notebook: [03aDataTypesSequential](../Lecture/03aDataTypesSequential.ipynb)\n",
    "\n",
    "## To be submitted:\n",
    "This notebook, enhanced with the solutions to the questions. Your solution should contain \n",
    "   * the implemented code in code-cells, \n",
    "   * the output of this code\n",
    "   * and optionally your remarks, discussion, comments on the solution in markdown-cells.\n",
    "\n",
    "## Tasks\n",
    "\n",
    "> **Note:** It is recommended to first learn the basics on [Control Structures in Python](../Lecture/04ControllStructures.ipynb) before working through the following exercises.\n",
    "\n",
    "### Strings\n",
    "\n",
    "1. Run the code cell below. The code accesses and prints the current RSS Feed of [Zeit Online](http://www.zeit.de/index). However, the printed output not only contains raw-text but HTML-Markup for references. Modify the code such that only the raw-text of title and description is printed, without any references and markup elements.\n",
    "2. Modify the code such that the number of words per feed entry (text+description) is printed.\n",
    "3. Modify the code such that a list of all words, which appear in the current entries of the feed is generated. **Additional Requirement to be solved after introduction of list-comprehensions:** The words in this list shall all be represented with only lower-case letters. Moreover, the words shall not contain punctuation marks at the end."
   ]
  },
  {
   "cell_type": "code",
   "execution_count": 1,
   "metadata": {
    "ExecuteTime": {
     "end_time": "2017-09-07T13:28:58.877000Z",
     "start_time": "2017-09-07T15:28:58.660000+02:00"
    }
   },
   "outputs": [
    {
     "name": "stdout",
     "output_type": "stream",
     "text": [
      "\n",
      "---------------------------\n",
      "\"Auguste Rodin\": Körperteile in diffusem Licht\n",
      "<a href=\"http://www.zeit.de/kultur/2017-08/auguste-rodin-jacques-doillons-biopic-vincent-lindon\"><img src=\"http://img.zeit.de/kultur/2017-09/auguste-rodin-film-bild/wide__148x84\" style=\"float: left; margin-right: 5px;\" /></a> Jacques Doillons Biopic \"Auguste Rodin\" hätte ein spannender Einblick in die Pariser Avantgarde des 19. Jahrhunderts sein können – stattdessen kommt Langeweile auf.\n",
      "\n",
      "---------------------------\n",
      "EZB: Europäische Zentralbank hält an Nullzinspolitik fest\n",
      "<a href=\"http://www.zeit.de/wirtschaft/2017-09/ezb-zinspolitik-anleihekaufprogramm-beratung-frankfurt\"><img src=\"http://img.zeit.de/wirtschaft/2017-09/ezb-zinsen-anleihen/wide__148x84\" style=\"float: left; margin-right: 5px;\" /></a> Der Leitzins im Euroraum bleibt weiter auf dem Rekordtief von null Prozent. Das hat die Europäische Zentralbank beschlossen. Billiges Geld soll die Konjunktur beleben.\n",
      "\n",
      "---------------------------\n",
      "Syrien: Israel bombardiert Militäreinrichtung in Provinz Hama\n",
      "<a href=\"http://www.zeit.de/politik/ausland/2017-09/syrien-israel-bombardierung-militaereinrichtung\"><img src=\"http://img.zeit.de/politik/ausland/2017-09/israel-syrien/wide__148x84\" style=\"float: left; margin-right: 5px;\" /></a> Bei einem Angriff von israelischen Kampfjets auf eine Militärbasis sind zwei syrische Soldaten getötet worden. Unklar ist, welche Art von Waffen zerstört werden sollten.\n",
      "\n",
      "---------------------------\n",
      "Sicherheitsrat der Vereinten Nationen: China unterstützt Sanktionen gegen Nordkorea\n",
      "<a href=\"http://www.zeit.de/politik/ausland/2017-09/sicherheitsrat-der-vereinten-nationen-nordkorea-china-unterstuetzung-massnahmen\"><img src=\"http://img.zeit.de/politik/ausland/2017-09/china-nordkorea/wide__148x84\" style=\"float: left; margin-right: 5px;\" /></a> Die chinesische Führung will nach erneuten Atomtests härtere Strafmaßnahmen gegen Nordkorea verhängen. Nahe der Grenze probte Chinas Militär einen Überraschungsangriff.\n",
      "\n",
      "---------------------------\n",
      "Wahlentscheidung: Kormoran und Elefant\n",
      "<a href=\"http://www.zeit.de/2017/37/wahlentscheidung-waehlen-aufruf\"><img src=\"http://img.zeit.de/2017/37/welzer_img-0/wide__148x84\" style=\"float: left; margin-right: 5px;\" /></a> Vor vier Jahren rief der Soziologe Harald Welzer dazu auf, nicht zu wählen. Jetzt erklärt er, warum man dieses Mal unbedingt zur Bundestagswahl gehen muss.\n",
      "\n",
      "---------------------------\n",
      "Lidl: Wie wäre es mit bekreuzten Kartoffeln?\n",
      "<a href=\"http://www.zeit.de/gesellschaft/zeitgeschehen/2017-09/lidl-lebensmittelverpackung-retusche-kreuz-christentum\"><img src=\"http://img.zeit.de/gesellschaft/zeitgeschehen/2017-09/lidl-lebensmittelverpackung-retusche-kreuz-griechischer-kaese/wide__148x84\" style=\"float: left; margin-right: 5px;\" /></a> Verrat an Kultur und Christentum!, schreit es aus der Kommentarspalte. Mancher Glaube gerät offenbar schon ins Wanken, wenn ein Kreuz auf einer Lidl-Verpackung fehlt.\n",
      "\n",
      "---------------------------\n",
      "Hack der Bundestagswahl : Das Vertrauen in die Demokratie wird fahrlässig gefährdet\n",
      "<a href=\"http://www.zeit.de/digital/datenschutz/2017-09/bundestagswahl-wahlsoftware-hackerangriff\"><img src=\"http://img.zeit.de/politik/deutschland/2017-09/bundestagswahl-software-dino-passowrt/wide__148x84\" style=\"float: left; margin-right: 5px;\" /></a> Die Bundestagswahl kann gehackt werden. Das liegt an einer Mischung aus Naivität und Ignoranz. Nicht einmal die Wahlsoftware selbst entspricht dem Stand der Technik.\n",
      "\n",
      "---------------------------\n",
      "Alice Weidel: Weidel, Nazis und der kleine Mann\n",
      "<a href=\"http://www.zeit.de/politik/deutschland/2017-09/alice-weidel-afd-bundestagswahlkampf\"><img src=\"http://img.zeit.de/politik/deutschland/2017-09/alice-weidel-afd-bundestagswahlkampf-2/wide__148x84\" style=\"float: left; margin-right: 5px;\" /></a> Dr. Alice Weidel im Endkampf mit Marietta Slomka, Akademiker vor den Toren des Bundestags. Was soll das alles bedeuten?\n",
      "\n",
      "---------------------------\n",
      "Vandalismus: Im Zweifel besser umparken\n",
      "<a href=\"http://www.zeit.de/mobilitaet/2017-09/vandalismus-auto-schaden-kostenuebernahme\"><img src=\"http://img.zeit.de/mobilitaet/2017-09/vandalismus-auto-schaden/wide__148x84\" style=\"float: left; margin-right: 5px;\" /></a> Abgebrochene Außenspiegel, eingeworfene Scheiben: Wer zahlt, wenn Autos durch Vandalismus beschädigt werden?\n",
      "\n",
      "---------------------------\n",
      "Gerichtsurteil: Elternzeit hebt Beförderung nicht auf\n",
      "<a href=\"http://www.zeit.de/karriere/beruf/2017-09/gerichtsurteil-eugh-beamte-mutterschutz-elternzeit-benachteiligung\"><img src=\"http://img.zeit.de/gesellschaft/2017-09/urteil-beamtin-schwangerschaft/wide__148x84\" style=\"float: left; margin-right: 5px;\" /></a> Eine Beamtin hat vor dem Europäischen Gerichtshof geklagt, weil ihr Arbeitgeber ihr eine zugesagte Beförderung nach längerer Abwesenheit verweigerte. Sie bekam Recht.\n",
      "\n",
      "---------------------------\n",
      "Studie: Angst vor Terroranschlägen bei Deutschen groß\n",
      "<a href=\"http://www.zeit.de/gesellschaft/zeitgeschehen/2017-09/studie-aengste-der-deutschen-2017-r-v-versicherung-umfrage\"><img src=\"http://img.zeit.de/gesellschaft/2017-09/aengste-der-deutschen/wide__148x84\" style=\"float: left; margin-right: 5px;\" /></a> Terror, Extremismus und der Zuzug von Flüchtlingen bereiten den Deutschen Sorgen – Arbeitslosigkeit hingegen kaum. Das zeigt die Studie eines Versicherers.\n",
      "\n",
      "---------------------------\n",
      "Political Correctness : Spaß muss sein, aber bitte echt nur ein bisschen\n",
      "<a href=\"http://www.zeit.de/freitext/2017/09/07/komoedie-political-correctness-thomae/\"><img src=\"http://img.zeit.de/kultur/literatur/2017-09/freitext-komoedien-deutschland/wide__148x84\" style=\"float: left; margin-right: 5px;\" /></a> In deutschen Komödien eiert man ängstlich über das Minenfeld der Political Correctness. Witz? Fehlanzeige. Lachen darf man allenfalls über den biodeutschen Mann.\n",
      "\n",
      "---------------------------\n",
      "Koalition: Merkels letzte Wahl\n",
      "<a href=\"http://www.zeit.de/2017/37/koalition-bundestagswahl-cdu-die-gruenen-fdp\"><img src=\"http://img.zeit.de/2017/37/koalition-bundestagswahl-bild/wide__148x84\" style=\"float: left; margin-right: 5px;\" /></a> Ob die Grünen stärker werden oder die FDP, könnte weitreichende Folgen für Deutschland haben. Es ist die entscheidende Frage bei dieser Bundestagswahl.\n",
      "\n",
      "---------------------------\n",
      "Martin Schulz: 99 Fragen an Martin Schulz\n",
      "<a href=\"http://www.zeit.de/zeit-magazin/2017/37/martin-schulz-spd-bundestagswahl-moritz-von-uslar-99-fragen\"><img src=\"http://img.zeit.de/zeit-magazin/2017/37/martin-schulz-spd/wide__148x84\" style=\"float: left; margin-right: 5px;\" /></a> Ihr Talent als Streetfighter? Schwarz-Grün oder Schwarz-Gelb? Was würden Sie anders machen? Der Kanzlerkandidat Martin Schulz stellt sich 99 Fragen vor der Wahl.\n",
      "\n",
      "---------------------------\n",
      "Europäischer Gerichtshof: Kein Recht auf Extraentschädigung für Umsteigeflüge\n",
      "<a href=\"http://www.zeit.de/wirtschaft/unternehmen/2017-09/europaeischer-gerichtshof-flugverspaetung-entschaedigung-entscheidung\"><img src=\"http://img.zeit.de/wirtschaft/2017-09/flugverspaetung-zwischenstopp-entschaedigung/wide__148x84\" style=\"float: left; margin-right: 5px;\" /></a> Wenn ein Flug ausfällt, hängt die Höhe der Entschädigung von der Distanz ab. Wer durch Umsteigen längere Wege zurücklegt, bekommt nicht mehr Geld, entschied der EuGH.\n"
     ]
    }
   ],
   "source": [
    "# Access RSS Feed of Zeit.de\n",
    "import feedparser\n",
    "feed='http://newsfeed.zeit.de/index'\n",
    "f=feedparser.parse(feed)\n",
    "for e in f.entries:\n",
    "  print '\\n---------------------------'\n",
    "  text=e.title+\"\\n\"+e.description\n",
    "  print text"
   ]
  },
  {
   "cell_type": "markdown",
   "metadata": {},
   "source": [
    "### Lists\n",
    "1. Read file [example.csv](../Lecture/example.csv) with comma-separated content and store each line of the file in a list named `personList`. Each element of this list identifies a single person and shall be represented in a list itself. Each of these inner lists contains 4 values (id, name, age and salary of a person). The numeric elements of these inner lists shall be converted into `int`-types.\n",
    "2. Calculate the average age and the average salary of the persons contained in this file.\n",
    "3. A new person `mary` shall be added to the list. She has the same age and income as `anne`. Generate the corresponding list for this new person by first copying the list, which refers to `anne`. Then change the `id` to the new value $0$ and the `name` to the new value `mary`. Finally, add this new list element to `personList`.\n",
    "4. Sort `personList` according to the `id`-attribute in ascending order.\n",
    "4. **Additional Task to be solved after introduction of *functions***: Sort `personList` according to the salary of the persons. "
   ]
  },
  {
   "cell_type": "code",
   "execution_count": null,
   "metadata": {
    "collapsed": true
   },
   "outputs": [],
   "source": []
  }
 ],
 "metadata": {
  "anaconda-cloud": {},
  "kernelspec": {
   "display_name": "Python [conda env:condatascience]",
   "language": "python",
   "name": "conda-env-condatascience-py"
  },
  "language_info": {
   "codemirror_mode": {
    "name": "ipython",
    "version": 2
   },
   "file_extension": ".py",
   "mimetype": "text/x-python",
   "name": "python",
   "nbconvert_exporter": "python",
   "pygments_lexer": "ipython2",
   "version": "2.7.13"
  },
  "nav_menu": {},
  "toc": {
   "navigate_menu": true,
   "number_sections": true,
   "sideBar": true,
   "threshold": 6,
   "toc_cell": false,
   "toc_section_display": "block",
   "toc_window_display": false
  }
 },
 "nbformat": 4,
 "nbformat_minor": 2
}

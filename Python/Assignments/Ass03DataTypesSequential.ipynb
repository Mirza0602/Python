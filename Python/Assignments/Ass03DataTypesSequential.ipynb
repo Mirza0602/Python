{
 "cells": [
  {
   "cell_type": "markdown",
   "metadata": {},
   "source": [
    "# Exercises on Sequential Datatypes in Python\n",
    "\n",
    "* Author: Johannes Maucher\n",
    "* Last Update: 07.09.2018\n",
    "* Corresponding lecture notebook: [03aDataTypesSequential](../Lecture/03aDataTypesSequential.ipynb)\n",
    "\n",
    "## To be submitted:\n",
    "This notebook, enhanced with the solutions to the questions. Your solution should contain \n",
    "   * the implemented code in code-cells, \n",
    "   * the output of this code\n",
    "   * and optionally your remarks, discussion, comments on the solution in markdown-cells.\n",
    "\n",
    "## Tasks\n",
    "\n",
    "> **Note:** It is recommended to first learn the basics on [Control Structures in Python](../Lecture/04ControllStructures.ipynb) before working through the following exercises.\n",
    "\n",
    "### Strings\n",
    "\n",
    "1. Run the code cell below. The code accesses and prints the current RSS Feed of [Zeit Online](http://www.zeit.de/index). However, the printed output not only contains raw-text but HTML-Markup for references. Modify the code such that only the raw-text of title and description is printed, without any references and markup elements.\n",
    "2. Modify the code such that the number of words per feed entry (text+description) is printed.\n",
    "3. Modify the code such that a list of all words, which appear in the current entries of the feed is generated. The words in this list shall all be represented with only lower-case letters. Moreover, the words shall not contain punctuation marks at the end. **Hint:** This last subtask can efficiently be implemented by a Python list-comprehension."
   ]
  },
  {
   "cell_type": "code",
   "execution_count": 2,
   "metadata": {
    "ExecuteTime": {
     "end_time": "2017-09-07T13:28:58.877000Z",
     "start_time": "2017-09-07T15:28:58.660000+02:00"
    }
   },
   "outputs": [
    {
     "name": "stdout",
     "output_type": "stream",
     "text": [
      "\n",
      "---------------------------\n",
      "Frank Schirrmacher: Kreis ohne Meister\n",
      "<a href=\"https://www.zeit.de/2018/21/frank-schirrmacher-faz-herausgeber-biografie\"><img style=\"float:left; margin-right:5px\" src=\"https://img.zeit.de/2018/21/l-b-schirrmacher_img-1/wide__148x84\"></a> Intrigen, Demütigungen und Triumphe: Vier Jahre nach dem Tod des \"FAZ\"-Herausgebers Frank Schirrmacher erscheint eine erste Biografie.\n",
      "\n",
      "---------------------------\n",
      "Asyl-Affäre: Seehofer leitet Überprüfung gegen Bamf ein\n",
      "<a href=\"https://www.zeit.de/politik/deutschland/2018-05/syl-affaere-bamf-bremen-horst-seehofer-ueberpruefung\"><img style=\"float:left; margin-right:5px\" src=\"https://img.zeit.de/politik/deutschland/2018-05/bamf-horst-seehofer-ueberpruefung/wide__148x84\"></a> Innenminister Horst Seehofer hat eine \"Systemüberprüfung\" durch den Bundesrechnungshof veranlasst. Hintergrund ist ein Skandal in der Bremer Außenstelle.\n",
      "\n",
      "---------------------------\n",
      "Pflege: Pflegebeauftragter der Bundesregierung fordert Geldprämien\n",
      "<a href=\"https://www.zeit.de/politik/deutschland/2018-05/pflege-fachkraefte-praemie-andreas-westerfellhaus\"><img style=\"float:left; margin-right:5px\" src=\"https://img.zeit.de/politik/deutschland/2018-05/pflege-fachkraefte-praemie/wide__148x84\"></a> Damit mehr Fachkräfte in ihren Beruf zurückkehren, will der Pflegebeauftragte der Bundesregierung ihnen Geld zahlen. Sein Positionspapier sieht einmalig 5.000 Euro vor.\n",
      "\n",
      "---------------------------\n",
      "US-Präsident : Donald Trump nennt illegale Einwanderer Tiere\n",
      "<a href=\"https://www.zeit.de/politik/ausland/2018-05/donald-trump-us-praesident-migranten-tiere\"><img style=\"float:left; margin-right:5px\" src=\"https://img.zeit.de/politik/ausland/2018-05/donald-trump-us-praesident-migranten/wide__148x84\"></a> US-Präsident Donald Trump hat seine Hassreden über Migranten noch einmal gesteigert. \"Das sind keine Menschen\", sagte er. Die Demokraten kritisierten die Äußerung.\n",
      "\n",
      "---------------------------\n",
      "Europa und USA: Die Europäer haben dem Iran nichts zu bieten\n",
      "<a href=\"https://www.zeit.de/politik/ausland/2018-05/europa-usa-iran-atomstreit-wirtschaftspolitik-donald-trump\"><img style=\"float:left; margin-right:5px\" src=\"https://img.zeit.de/politik/ausland/2018-05/iran-europaeische-union-sarif/wide__148x84\"></a> Die EU ist von wirtschaftlichem Ausgleich geprägt. Das macht sie nach innen stark. Im Umgang mit Donald Trumps Iran-Politik ist es aber ein Nachteil.\n",
      "\n",
      "---------------------------\n",
      "Nowitschok: Teile und schweige\n",
      "<a href=\"https://www.zeit.de/2018/21/nowitschok-nervengift-kampfstoff-russland-bnd-geheimdienst\"><img style=\"float:left; margin-right:5px\" src=\"https://img.zeit.de/2018/21/nowitschok_img-0/wide__148x84\"></a> In den 90er Jahren brachte ein russischer Überläufer eine Probe des Giftes Nowitschok nach Deutschland. Die Regierung Kohl geriet dadurch in eine schwierige Lage.\n",
      "\n",
      "---------------------------\n",
      "Tagestouren: Beliebte Wanderregionen\n",
      "<a href=\"https://www.zeit.de/zeit-magazin/2018/21/tagestouren-wandern-bergverlag-rother-deutschlandkarte\"><img style=\"float:left; margin-right:5px\" src=\"https://img.zeit.de/zeit-magazin/leben/2018-05/tagestouren-wandern-bergverlag-rother-deutschlandkarte-teaser/wide__148x84\"></a> Die Deutschen sind ein Volk der Wanderer. Damit sie dabei nicht verloren gehen, gibt es nun sehr schön gestaltete Führer für jede denkbare Region – Muskelkater inklusive.\n",
      "\n",
      "---------------------------\n",
      "Vereinte Nationen: Zwei Drittel der Weltbevölkerung werden 2050 in Städten leben\n",
      "<a href=\"https://www.zeit.de/gesellschaft/zeitgeschehen/2018-05/vereinte-nationen-weltbevoelkerung-staedte-2050\"><img style=\"float:left; margin-right:5px\" src=\"https://img.zeit.de/gesellschaft/zeitgeschehen/2018-05/vereinte-nationen-weltbevoelkerung/wide__148x84\"></a> Das Zeitalter der Megastädte steht laut den UN bevor: 2030 wird es 43 Städte mit mehr als zehn Millionen Einwohnern geben. Die größte Metropole liegt dann in Indien.\n",
      "\n",
      "---------------------------\n",
      "Vatikan: Papst stellt Social-Media-Regeln für Nonnen auf\n",
      "<a href=\"https://www.zeit.de/gesellschaft/zeitgeschehen/2018-05/vatikan-social-media-nonnen-papst-franziskus\"><img style=\"float:left; margin-right:5px\" src=\"https://img.zeit.de/gesellschaft/zeitgeschehen/2018-05/vatikan-social-media/wide__148x84\"></a> Weltweit leben 38.000 Nonnen in kontemplativen Orden. Papst Franziskus hat sie nun davor gewarnt, Twitter und Facebook als \"Anlass zur Zeitverschwendung\" zu nutzen.\n",
      "\n",
      "---------------------------\n",
      "\"Nach einer wahren Geschichte\": Begehren und zerstören\n",
      "<a href=\"https://www.zeit.de/2018/21/nach-einer-wahren-geschichte-roman-polanski\"><img style=\"float:left; margin-right:5px\" src=\"https://img.zeit.de/2018/21/spitze-polanski_img-0/wide__148x84\"></a> Der neue Film von Roman Polanski verweist auf alte Filme von Roman Polanski: \"Nach einer wahren Geschichte\" kommt jetzt ins Kino.\n",
      "\n",
      "---------------------------\n",
      "Lucian Pintilie: Anarchie und die letzten Funken Trost\n",
      "<a href=\"https://www.zeit.de/kultur/film/2018-05/lucian-pintilie-rumaenien-regisseur-film-nachruf\"><img style=\"float:left; margin-right:5px\" src=\"https://img.zeit.de/kultur/film/2018-05/lucian-pintilie-bild/wide__148x84\"></a> Das rumänische Autorenkino wird auf allen Festivals gefeiert. Ohne Lucian Pintilie hätte es das so nie gegeben. Nun ist der Regisseur mit 84 Jahren gestorben. Ein Nachruf\n",
      "\n",
      "---------------------------\n",
      "Bundesfinanzministerium: Flüchtlingskrise kostete Bund 21 Milliarden Euro\n",
      "<a href=\"https://www.zeit.de/wirtschaft/2018-05/bundesfinanzministerium-fluechtlinge-kosten-21-milliarden\"><img style=\"float:left; margin-right:5px\" src=\"https://img.zeit.de/wirtschaft/2018-05/fluechtlinge-deutschland-ausgaben/wide__148x84\"></a> Eine Auflistung des Finanzministers zeigt, wie viel Geld für die Bewältigung der Flüchtlingskrise ausgegeben wurde. Die Bekämpfung von Fluchtursachen war besonders teuer.\n",
      "\n",
      "---------------------------\n",
      "Deutsche Post AG: Post will Regeln zur Entfristung beibehalten\n",
      "<a href=\"https://www.zeit.de/wirtschaft/unternehmen/2018-05/deutsche-post-befristung-arbeitsvertraege-fehltage\"><img style=\"float:left; margin-right:5px\" src=\"https://img.zeit.de/wirtschaft/2018-05/deutsche-post-arbeitsvertraege/wide__148x84\"></a> Trotz Kritik will die Post einem Bericht zufolge ihre Vorgaben zur Befristung von Arbeitsverträgen nicht ändern. Diese Praxis habe sich bewährt, sagte der Vorstand.\n",
      "\n",
      "---------------------------\n",
      "Integration: Straßendeutsch: fließend\n",
      "<a href=\"https://www.zeit.de/video/2018-05/5785592991001/integration-strassendeutsch-fliessend\"><img style=\"float:left; margin-right:5px\" src=\"https://img.zeit.de/video/2018-05/5785592991001/imagegroup/wide__148x84\"></a> Jaime Beck bringt Flüchtlingen Deutsch bei – auch wenn er es selbst nicht perfekt spricht. Wie schafft er es, die Klassenzimmer zu füllen? Ein Videoporträt\n",
      "\n",
      "---------------------------\n",
      "Nordkorea: Trump weiß nichts von Gipfelabsage\n",
      "<a href=\"https://www.zeit.de/politik/ausland/2018-05/nordkorea-usa-gipfel-absage-donald-trump\"><img style=\"float:left; margin-right:5px\" src=\"https://img.zeit.de/politik/ausland/2018-05/donald-trump-3/wide__148x84\"></a> US-Präsident Donald Trump geht weiterhin von einem Treffen mit Nordkoreas Machthaber im Juni aus. Anderweitige Pläne von Kim Jong Un seien ihm nicht bekannt.\n"
     ]
    }
   ],
   "source": [
    "# Access RSS Feed of Zeit.de\n",
    "import feedparser\n",
    "feed='http://newsfeed.zeit.de/index'\n",
    "f=feedparser.parse(feed)\n",
    "for e in f.entries:\n",
    "  print('\\n---------------------------')\n",
    "  text=e.title+\"\\n\"+e.description\n",
    "  print(text)"
   ]
  },
  {
   "cell_type": "markdown",
   "metadata": {},
   "source": [
    "### Lists\n",
    "1. Read file [example.csv](../Lecture/example.csv) with comma-separated content and store each line of the file in a list named `personList`. Each element of this list identifies a single person and shall be represented in a list itself. Each of these inner lists contains 4 values (id, name, age and salary of a person). The numeric elements of these inner lists shall be converted into `int`-types.\n",
    "2. Calculate the average age and the average salary of the persons contained in this file.\n",
    "3. A new person `mary` shall be added to the list. She has the same age and income as `anne`. Generate the corresponding list for this new person by first copying the list, which refers to `anne`. Then change the `id` to the new value $0$ and the `name` to the new value `mary`. Finally, add this new list element to `personList`.\n",
    "4. Sort `personList` according to the `id`-attribute in ascending order.\n",
    "4. Sort `personList` according to the salary of the persons. "
   ]
  },
  {
   "cell_type": "code",
   "execution_count": null,
   "metadata": {
    "collapsed": true
   },
   "outputs": [],
   "source": []
  }
 ],
 "metadata": {
  "anaconda-cloud": {},
  "kernelspec": {
   "display_name": "Python 3",
   "language": "python",
   "name": "python3"
  },
  "language_info": {
   "codemirror_mode": {
    "name": "ipython",
    "version": 3
   },
   "file_extension": ".py",
   "mimetype": "text/x-python",
   "name": "python",
   "nbconvert_exporter": "python",
   "pygments_lexer": "ipython3",
   "version": "3.6.3"
  },
  "nav_menu": {},
  "toc": {
   "nav_menu": {},
   "number_sections": true,
   "sideBar": true,
   "skip_h1_title": false,
   "title_cell": "Table of Contents",
   "title_sidebar": "Contents",
   "toc_cell": false,
   "toc_position": {},
   "toc_section_display": "block",
   "toc_window_display": false
  }
 },
 "nbformat": 4,
 "nbformat_minor": 2
}

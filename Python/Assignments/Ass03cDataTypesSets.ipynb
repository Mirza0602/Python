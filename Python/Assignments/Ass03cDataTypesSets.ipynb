{
 "cells": [
  {
   "cell_type": "markdown",
   "metadata": {},
   "source": [
    "# Exercises on Sets in Python\n",
    "\n",
    "* Author: Johannes Maucher\n",
    "* Last Update: 07.09.2018\n",
    "* Corresponding lecture notebook: [03cDataTypesSets](../Lecture/03cDataTypesSets.ipynb)\n",
    "\n",
    "## To be submitted:\n",
    "This notebook, enhanced with the solutions to the questions. Your solution should contain \n",
    "   * the implemented code in code-cells, \n",
    "   * the output of this code\n",
    "   * the file which has been generated in task 1.B\n",
    "   * and optionally your remarks, discussion, comments on the solution in markdown-cells.\n",
    "\n",
    "## Tasks\n",
    "1. Extend [Exercise RSS Feed Access in Notebook Ass03DataTypesSequential.ipynb](Ass03DataTypesSequential.ipynb) as follows:\n",
    "    1. Implement the additional requirement as stated in the 3rd sub-question in the refered notebook (only lower case words without punctuation marks). This additional requirement shall be implemented as a [list-comprehension](../Lecture/04ControllStructures.ipynb#List-comprehension-1.3.1).\n",
    "    2. Write the list of resulting words into a file (see [Basic Routines Notebook](../Lecture/02BasicRoutines.ipynb#Write-to-File-1.3.4)). The name of the file shall contain the current date and time. The current date and time can be determined as shown in the code cell below.\n",
    "2. Read the file of words, generated in the previous task, into a list. Generate the set of distinct words in this list (=vocabulary). How many different words are in the vocabulary?\n",
    "3. For each word in the vocabulary generate a tuple, whose second element is the word and the first element is the frequency of this word in the word list, which has been imported from the file. Write these tuples into a list and sort the list according to descending word frequency, i.e. the tuple of the word, which appears most often shall be the first element in the sorted list."
   ]
  },
  {
   "cell_type": "code",
   "execution_count": 1,
   "metadata": {
    "ExecuteTime": {
     "end_time": "2017-09-07T14:40:10.878000Z",
     "start_time": "2017-09-07T16:40:10.862000+02:00"
    }
   },
   "outputs": [
    {
     "name": "stdout",
     "output_type": "stream",
     "text": [
      "07-09-2017\n",
      "<type 'str'>\n",
      "16-40-10\n",
      "<type 'str'>\n"
     ]
    }
   ],
   "source": [
    "import time\n",
    "today=time.strftime(\"%d-%m-%Y\")\n",
    "now=time.strftime(\"%H-%M-%S\")\n",
    "print today\n",
    "print type(today)\n",
    "print now\n",
    "print type(now)"
   ]
  },
  {
   "cell_type": "code",
   "execution_count": null,
   "metadata": {
    "collapsed": true
   },
   "outputs": [],
   "source": []
  }
 ],
 "metadata": {
  "anaconda-cloud": {},
  "kernelspec": {
   "display_name": "Python [conda env:condatascience]",
   "language": "python",
   "name": "conda-env-condatascience-py"
  },
  "language_info": {
   "codemirror_mode": {
    "name": "ipython",
    "version": 2
   },
   "file_extension": ".py",
   "mimetype": "text/x-python",
   "name": "python",
   "nbconvert_exporter": "python",
   "pygments_lexer": "ipython2",
   "version": "2.7.12"
  },
  "nav_menu": {},
  "toc": {
   "nav_menu": {
    "height": "67px",
    "width": "251px"
   },
   "navigate_menu": true,
   "number_sections": true,
   "sideBar": true,
   "threshold": 6,
   "toc_cell": false,
   "toc_section_display": "block",
   "toc_window_display": false
  }
 },
 "nbformat": 4,
 "nbformat_minor": 2
}

{
 "cells": [
  {
   "cell_type": "markdown",
   "metadata": {},
   "source": [
    "# Exercises on Basic Routines\n",
    "\n",
    "1. Import \n",
    "    1. the package `numpy` with the alias np\n",
    "    2. the matplotlib module `pyplot` with the alias plt\n",
    "2. Type `np.` followed by the `tab`-key in order to get a list of all modules and functions available in numpy.\n",
    "3. Get help on the \n",
    "    1. numpy function `arange()`\n",
    "    2. numpy function `sin()`\n",
    "    3. pyplot function `plot()`\n",
    "4. Plot the graph of a sinus-function in the range between 0 and 8. In order to show matplotlib-plots in *Jupyter notebooks* the following line must be inserted before the first call of `plot()`:\n",
    "   \n",
    "   ```%matplotlib inline```\n"
   ]
  },
  {
   "cell_type": "code",
   "execution_count": null,
   "metadata": {
    "collapsed": true
   },
   "outputs": [],
   "source": []
  }
 ],
 "metadata": {
  "kernelspec": {
   "display_name": "Python [conda env:condatascience]",
   "language": "python",
   "name": "conda-env-condatascience-py"
  },
  "language_info": {
   "codemirror_mode": {
    "name": "ipython",
    "version": 2
   },
   "file_extension": ".py",
   "mimetype": "text/x-python",
   "name": "python",
   "nbconvert_exporter": "python",
   "pygments_lexer": "ipython2",
   "version": "2.7.13"
  },
  "nav_menu": {},
  "toc": {
   "navigate_menu": true,
   "number_sections": true,
   "sideBar": true,
   "threshold": 6,
   "toc_cell": false,
   "toc_section_display": "block",
   "toc_window_display": false
  }
 },
 "nbformat": 4,
 "nbformat_minor": 2
}

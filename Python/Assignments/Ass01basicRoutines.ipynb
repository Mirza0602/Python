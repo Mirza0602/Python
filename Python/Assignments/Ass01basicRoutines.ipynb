{
 "cells": [
  {
   "cell_type": "markdown",
   "metadata": {},
   "source": [
    "# Exercises on Basic Routines in Python\n",
    "\n",
    "* Author: Johannes Maucher\n",
    "* Last Update: 07.09.2018\n",
    "* Corresponding lecture notebook: [02BasicRoutines](../Lecture/02BasicRoutines.ipynb)\n",
    "\n",
    "## To be submitted:\n",
    "* this notebook, enhanced with the solutions to the questions. Your solution should contain \n",
    "    + the implemented code in code-cells, \n",
    "    + the output of this code \n",
    "    + and optionally your remarks, discussion, comments on the solution in markdown-cells.\n",
    "* the file, which must be created in taks 6.\n",
    "\n",
    "## Tasks\n",
    "\n",
    "1. Import \n",
    "    1. the package `numpy` with the alias np\n",
    "    2. the matplotlib module `pyplot` with the alias plt\n",
    "2. Type `np.` followed by the `tab`-key in order to get a list of all modules and functions available in numpy.\n",
    "3. Get help on\n",
    "    1. the numpy function `arange()`\n",
    "    2. the numpy function `sin()`\n",
    "    3. the pyplot function `plot()`\n",
    "    4. the `co2`-dataset of the package statsmodels\n",
    "    5. two other datasets of statsmodels, which seem to be interesting for you.\n",
    "4. Plot the graph of a sinus-function in the range between 0 and 8. In order to show matplotlib-plots in *Jupyter notebooks* the following line must be inserted before the first call of `plot()`:\n",
    "\n",
    "   ```%matplotlib inline```\n",
    "   \n",
    "5. Create a string-, integer- and float-variable. Display their values with a formatted `print` statement.\n",
    "6. Create in an editor of your choice an arbitrary comma-separated file, with\n",
    "    1. 4 rows\n",
    "    2. 3 columns\n",
    "    3. a header\n",
    "    Save this file and import it into Python. Display the file contents row-by-row."
   ]
  },
  {
   "cell_type": "code",
   "execution_count": null,
   "metadata": {
    "collapsed": true
   },
   "outputs": [],
   "source": []
  }
 ],
 "metadata": {
  "anaconda-cloud": {},
  "kernelspec": {
   "display_name": "Python [conda env:datascience]",
   "language": "python",
   "name": "conda-env-datascience-py"
  },
  "language_info": {
   "codemirror_mode": {
    "name": "ipython",
    "version": 2
   },
   "file_extension": ".py",
   "mimetype": "text/x-python",
   "name": "python",
   "nbconvert_exporter": "python",
   "pygments_lexer": "ipython2",
   "version": "2.7.12"
  },
  "nav_menu": {},
  "toc": {
   "nav_menu": {
    "height": "67px",
    "width": "251px"
   },
   "navigate_menu": true,
   "number_sections": true,
   "sideBar": true,
   "threshold": 6,
   "toc_cell": false,
   "toc_section_display": "block",
   "toc_window_display": false
  }
 },
 "nbformat": 4,
 "nbformat_minor": 2
}

{
 "cells": [
  {
   "cell_type": "markdown",
   "metadata": {},
   "source": [
    "# Exercises on Accessing Databases in Python\n",
    "\n",
    "* Author: Johannes Maucher\n",
    "* Last Update: 07.09.2018\n",
    "* Corresponding lecture notebook: [07DataBasePandas](../Lecture/07DataBasePandas.ipynb)\n",
    "\n",
    "## To be submitted:\n",
    "This notebook, enhanced with the solutions to the questions. Your solution should contain \n",
    "   * the implemented code in code-cells, \n",
    "   * the output of this code\n",
    "   * answer on task 6 in a markdown-cell\n",
    "   * and optionally your remarks, discussion, comments on the solution in markdown-cells.\n",
    "\n",
    "## Tasks\n",
    "1. Ensure that all preliminaries as stated in [notebook Database Access](../Lecture/07DataBasePandas.ipynb#Preliminaries-1.1) are fulfilled. Verify that a PostgreSQL database has been created and check the access-parameters for this database.\n",
    "2. Import data from file `R\\Lecture\\data\\humanResources.csv` into a Pandas dataframe. This dataset is from the [Human Resource Analytics Kaggle competition](https://www.kaggle.com/ludobenistant/hr-analytics). A description of the dataset can be found there.\n",
    "3. Determine the shape of the dataframe and display it's first lines.\n",
    "4. Write the dataframe into a database table `humanResourceTable`.\n",
    "5. Define and execute SQL-statements for\n",
    "    1. Selection of all employees, who work more than 270 hours per month. How many employees of this type exist in the databasetable?\n",
    "    2. Selection of all employees, who has left the company. How many employees of this type exist in the databasetable?\n",
    "6. Is the leaving-rate of employees in the subgroup of employess, who work more than 270 hours per week, higher than in the group of all employees? "
   ]
  },
  {
   "cell_type": "code",
   "execution_count": null,
   "metadata": {
    "collapsed": true
   },
   "outputs": [],
   "source": []
  }
 ],
 "metadata": {
  "anaconda-cloud": {},
  "kernelspec": {
   "display_name": "Python [conda env:condatascience]",
   "language": "python",
   "name": "conda-env-condatascience-py"
  },
  "language_info": {
   "codemirror_mode": {
    "name": "ipython",
    "version": 2
   },
   "file_extension": ".py",
   "mimetype": "text/x-python",
   "name": "python",
   "nbconvert_exporter": "python",
   "pygments_lexer": "ipython2",
   "version": "2.7.12"
  },
  "nav_menu": {},
  "toc": {
   "nav_menu": {},
   "number_sections": true,
   "sideBar": true,
   "skip_h1_title": false,
   "toc_cell": false,
   "toc_position": {},
   "toc_section_display": "block",
   "toc_window_display": false
  }
 },
 "nbformat": 4,
 "nbformat_minor": 2
}

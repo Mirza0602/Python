{
 "cells": [
  {
   "cell_type": "markdown",
   "metadata": {},
   "source": [
    "# Exercises on Dictionaries in Python\n",
    "\n",
    "* Author: Johannes Maucher\n",
    "* Last Update: 07.09.2018\n",
    "* Corresponding lecture notebook: [03bDataTypesDictionaries](../Lecture/03bDataTypesDictionaries.ipynb)\n",
    "\n",
    "## To be submitted:\n",
    "This notebook, enhanced with the solutions to the questions. Your solution should contain \n",
    "   * the implemented code in code-cells, \n",
    "   * the output of this code\n",
    "   * the answer on task 2 in a markdown-cell\n",
    "   * and optionally your remarks, discussion, comments on the solution in markdown-cells.\n",
    "\n",
    "## Tasks\n",
    "1. Repeat the [previous exercise on control structures](Ass04ControllStructures.ipynb). However, now the `personList` shall not be a list of lists, but a list of dictionaries. Each dictionary refers to a single person (a line in the file). The keys of the dictionary shall be the names of the headline in the imported .csv-file.\n",
    "2. What is the benefit of describing multidimensional elements as dictionaries instead of lists? "
   ]
  },
  {
   "cell_type": "code",
   "execution_count": null,
   "metadata": {
    "collapsed": true
   },
   "outputs": [],
   "source": []
  }
 ],
 "metadata": {
  "kernelspec": {
   "display_name": "Python [conda env:condatascience]",
   "language": "python",
   "name": "conda-env-condatascience-py"
  },
  "language_info": {
   "codemirror_mode": {
    "name": "ipython",
    "version": 2
   },
   "file_extension": ".py",
   "mimetype": "text/x-python",
   "name": "python",
   "nbconvert_exporter": "python",
   "pygments_lexer": "ipython2",
   "version": "2.7.13"
  },
  "nav_menu": {},
  "toc": {
   "navigate_menu": true,
   "number_sections": true,
   "sideBar": true,
   "threshold": 6,
   "toc_cell": false,
   "toc_section_display": "block",
   "toc_window_display": false
  }
 },
 "nbformat": 4,
 "nbformat_minor": 2
}

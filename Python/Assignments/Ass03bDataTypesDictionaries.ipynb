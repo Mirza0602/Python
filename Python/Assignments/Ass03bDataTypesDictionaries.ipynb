{
 "cells": [
  {
   "cell_type": "markdown",
   "metadata": {},
   "source": [
    "# Exercises on Dictionaries in Python\n",
    "\n",
    "* Author: Johannes Maucher\n",
    "* Last Update: 16.05.2018\n",
    "* Corresponding lecture notebook: [03bDataTypesDictionaries](../Lecture/03bDataTypesDictionaries.ipynb)\n",
    "\n",
    "## To be submitted:\n",
    "This notebook, enhanced with the solutions to the questions. Your solution should contain \n",
    "   * the implemented code in code-cells, \n",
    "   * the output of this code\n",
    "   * the answer on task 2 in a markdown-cell\n",
    "   * and optionally your remarks, discussion, comments on the solution in markdown-cells.\n",
    "\n",
    "## Tasks\n",
    "### Subtask 1\n",
    "1. Repeat the [previous exercise on lists](Ass03DataTypesSequential.ipynb). However, now the `personList` shall not be a list of lists, but a list of dictionaries. Each dictionary refers to a single person (a line in the file). The keys of the dictionary shall be the names of the headline in the imported .csv-file.\n",
    "2. What is the benefit of describing multidimensional elements as dictionaries instead of lists?\n",
    "\n",
    "### Subtask 2: Import data from json-File to dictionary\n",
    "The python package `json` and it's method `load()` can be applied to read data from a .json-File into a Python dictionary.\n",
    "1. Load the contents of file `polarV800.json` into a dictionary\n",
    "2. Determine the keys of this dictionary and display the values of some keys\n",
    "3. The value of the key `samples` is a dictionary itself. This dictionary has the following key-value pairs:\n",
    "\n",
    "    1. key \"0\": value is a list of heartrate-values, sampled every second during a training measurement\n",
    "    2. key \"1\": value is a list of the speed-values, sampled every second during a training measurement\n",
    "    3. key \"2\": value is a list of the cadence-values, sampled every second during a training measurement\n",
    "    4. key \"3\": value is a list of the altitude-values, sampled every second during a training measurement\n",
    "    5. key \"10\": value is a list of distance-values, sampled every second during a training measurement\n",
    "    \n",
    "  Write these 5 sequences into the columns of a dataframe.\n",
    "\n",
    "4. Visualize these 5 sequences by applying the `plot()` method of Pandas dataframes. "
   ]
  },
  {
   "cell_type": "code",
   "execution_count": null,
   "metadata": {
    "collapsed": true
   },
   "outputs": [],
   "source": []
  }
 ],
 "metadata": {
  "anaconda-cloud": {},
  "kernelspec": {
   "display_name": "Python 3",
   "language": "python",
   "name": "python3"
  },
  "language_info": {
   "codemirror_mode": {
    "name": "ipython",
    "version": 3
   },
   "file_extension": ".py",
   "mimetype": "text/x-python",
   "name": "python",
   "nbconvert_exporter": "python",
   "pygments_lexer": "ipython3",
   "version": "3.6.3"
  },
  "nav_menu": {},
  "toc": {
   "nav_menu": {
    "height": "67px",
    "width": "251px"
   },
   "number_sections": true,
   "sideBar": true,
   "skip_h1_title": false,
   "title_cell": "Table of Contents",
   "title_sidebar": "Contents",
   "toc_cell": false,
   "toc_position": {},
   "toc_section_display": "block",
   "toc_window_display": false
  }
 },
 "nbformat": 4,
 "nbformat_minor": 2
}

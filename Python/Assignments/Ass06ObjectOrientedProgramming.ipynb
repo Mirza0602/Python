{
 "cells": [
  {
   "cell_type": "markdown",
   "metadata": {},
   "source": [
    "# Exercises on Object Oriented Programming in Python\n",
    "\n",
    "* Author: Johannes Maucher\n",
    "* Last Update: 07.09.2018\n",
    "* Corresponding lecture notebook: [06ObjectOrientedProgramming](../Lecture/06ObjectOrientedProgramming.ipynb)\n",
    "\n",
    "## To be submitted:\n",
    "This notebook, enhanced with the solutions to the questions. Your solution should contain \n",
    "   * the implemented code in code-cells, \n",
    "   * the output of this code\n",
    "   * and optionally your remarks, discussion, comments on the solution in markdown-cells.\n",
    "\n",
    "## Tasks\n",
    "1. Define a class `NumericData`, which can be applied for storing and processing 2-dimensional numeric data. The class shall fulfill the following requirements (here all attributes and methods, except the `__init()__`- method shall be *public*):\n",
    "\n",
    "    1. The instance-attributes are:\n",
    "        1. `data`: this variable stores the 2 dimensional numeric data as a 2-dimensional list with float-entries.\n",
    "        2. `features`: this is a list of the column names of `data`. The length of this variable must be equal to the length of the inner lists in `data`.\n",
    "        3. `shape`: This list of length 2 stores in the first component the number of rows and in the second component the number of columns in `data`.\n",
    "        4. `isMinMaxNormed` is a boolean variable, which is set to True, if the data has been *Min-Max-Normalized*.\n",
    "    \n",
    "    2. The constructor (i.e. the `__init()__`-function) has two arguments `data` and `featureNames`. Both arguments are set to the default-values `None`. They can be applied to assign the 2-dimensional numeric data and the feature names at the time of object-instantiation.\n",
    "    \n",
    "    3. The instance-methods are:\n",
    "        1. `getShape()` is a method, which calculates the number of rows and columns in `data` and returns this values in a list. This function is applied in the constructor. The returned tuple is assigned to the `shape`-attribute.\n",
    "        2. `getDefaultFeatureNames()` is used to assign general column names, if no explicit feature names are provided from outside. The general column names shall consist of a unique prefix (e.g. `col`) appended by the integer-index of the column. The used prefix shall be an argument of this function with the default-value `col`. This function shall be called in the constructor, if feature names are not explicitly assigned from outside.\n",
    "        3. `getMeanVector()` shall calculate the arithmetic mean value of each column in `data`. These mean values are returned as list.\n",
    "        4. `normalizeMinMax()`. This function shall perform column-wise *Min-Max-Scaling* of `data`. The normalized data is then assigned to the `data`-attribute, i.e. it overwrites the non-normalized data. After normalization the attribute `isMinMaxNormed` shall be set to `True`. [Min-Max-Scaling](https://en.wikipedia.org/wiki/Feature_scaling) asserts, that the values of each column range between 0 and 1.\n",
    "        5. `setDataFrom2dimList()` shall be applied to assign a 2-dim numeric list to the attribute `data` (as an alternative to assign data at object-instantiation through the constructor). The 2-dimensional numeric list shall be passed as an argument to the function. Within this function also the `shape` attribute and the `features`-attribute shall be assigned. The latter with default values by applying the method `getDefaultFeatureNames()`. \n",
    "        6. `setFeatureNamesFromList()` shall be applied to assign feature names to the `features`-attribute from outside. The list of feature names shall be passed as arguments to the function.\n",
    "        7. `readDataFromCsvFile()` shall read the 2-dimensional numeric data from a file into the attribute `data`. The file shall be a text-file with comma-separated values. The name (and path) of the file shall be passed as a string-variable to this function. A second argument of the function ist `header`. The default value of `header` is `False`. In this case all rows of the file are assigned to `data`. If `header` is `True` the first line in the file is interpreted as comma-separated list of feature names and stored to the attribute `features`.\n",
    "        8. `writeDataToCsvFile()` shall write the 2-dimensional numeric data from the attribute `data` to the file, whose name (and path) is specified in the string-variable passed as an argument to the function. The data shall be written row-by-row and comma-separated into the text-file. A second argument of the function ist `header`. The default value of `header` is `False`. In this case only the elements of `data` are stored to the file. If `header` is `True` the feature names, as stored in the attribute `features` are written to the first line of the file and the rows of `data` are stored in the following lines of the file.\n",
    "\n",
    "2. Test your class `NumericData`, by creating an object of this class, assigning data and featurenames to the object's attributes and envoking all other instance-methods."
   ]
  },
  {
   "cell_type": "code",
   "execution_count": null,
   "metadata": {
    "collapsed": true
   },
   "outputs": [],
   "source": []
  }
 ],
 "metadata": {
  "kernelspec": {
   "display_name": "Python [conda env:condatascience]",
   "language": "python",
   "name": "conda-env-condatascience-py"
  },
  "language_info": {
   "codemirror_mode": {
    "name": "ipython",
    "version": 2
   },
   "file_extension": ".py",
   "mimetype": "text/x-python",
   "name": "python",
   "nbconvert_exporter": "python",
   "pygments_lexer": "ipython2",
   "version": "2.7.13"
  },
  "nav_menu": {},
  "toc": {
   "navigate_menu": true,
   "number_sections": true,
   "sideBar": true,
   "threshold": 6,
   "toc_cell": false,
   "toc_section_display": "block",
   "toc_window_display": false
  }
 },
 "nbformat": 4,
 "nbformat_minor": 2
}

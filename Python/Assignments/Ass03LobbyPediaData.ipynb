{
 "cells": [
  {
   "cell_type": "markdown",
   "metadata": {},
   "source": [
    "# Exercises on Pandas Dataframes\n",
    "\n",
    "* Author: Johannes Maucher\n",
    "* Last Update: 27.05.2018\n",
    "* Skills required:\n",
    "    - Import data from .csv\n",
    "    - Pandas Dataframes\n",
    "\n",
    "\n",
    "## To be submitted:\n",
    "This notebook, enhanced with the solutions to the questions. Your solution should contain \n",
    "   * the implemented code in code-cells, \n",
    "   * the output of this code\n",
    "   * Your remarks, discussion, comments on the solution in markdown-cells.\n",
    "\n"
   ]
  },
  {
   "cell_type": "markdown",
   "metadata": {},
   "source": [
    "## Task:\n",
    "\n",
    "### Subtask 1: Access, display and clean data\n",
    "1. Read data from [lobbyPediaParteispenden.csv](lobbyPediaParteispenden.csv) into Pandas dataframe. This file is a dump of the [Lobbypedia Database](https://lobbypedia.de/wiki/Hauptseite), which contains all donations of more than 10000.- Euros to German political parties. Hint: Set the argument `encoding=\"latin-1\"` in the `read_csv()`-method.\n",
    "2. Remove the columns `Bundesland`, `Branche`, `Kategorie` and `Schlagworte`, since these columns contain no relevant data. Determine the number of rows and columns in the resulting dataframe and display it's head.\n",
    "\n",
    "3. Transform the values in column `Betrag` into a numeric representation. This can be done by removing all characters behind the `,` (i.e. decimal places and the Euro-Sign are cut) and converting the type of this pruned string into an integer-type. Hint: Implement this transformation in a function, which is then passed to the `apply()`-function of the pandas dataframe. "
   ]
  },
  {
   "cell_type": "code",
   "execution_count": 36,
   "metadata": {},
   "outputs": [],
   "source": []
  },
  {
   "cell_type": "markdown",
   "metadata": {},
   "source": [
    "### Subtask 2: Data Analysis\n",
    "\n",
    "4. Calculate and display the summary of univariate descriptive statistics on this dataframe and answer the following questions:\n",
    "    1. Which company raises the most donations (number of donations, not amount)?\n",
    "    2. Which party receives the most donations (number of donations, not amount)?\n",
    "    3. What is the minimum, maximum and mean-value of party-donations?\n",
    "\n",
    "5. Calculate for all parties the sum, min, max and mean-value of donations received. Generate for each of these 4 descriptive statistics a bar-plot, which visualizes the distribution of the corresponding values. "
   ]
  },
  {
   "cell_type": "code",
   "execution_count": null,
   "metadata": {},
   "outputs": [],
   "source": []
  },
  {
   "cell_type": "markdown",
   "metadata": {},
   "source": [
    "### Subtask 3: Rearrange dataframe\n",
    "6. A new dataframe, which lists for each donator (Geldgeber) the sum of all donations and the distribution of the donations across the parties, shall be created. This dataframe allows comfortable answers on questions like \n",
    " * *Which companies are the strongest donators?*  \n",
    " * *Which parties do they support?*. \n",
    " \n",
    "    Each row of this dataframe shall belongs to one donator-company. Each column belongs to one party. And the value in row i, column j is the amount of donations from donator i to column j. There is an additional column `Total`, which lists the total amount of donations of the corresponding company. \n",
    "\n",
    "7. Save the dataframe to a file `donationsPerCompany.csv`."
   ]
  },
  {
   "cell_type": "code",
   "execution_count": 89,
   "metadata": {},
   "outputs": [],
   "source": []
  }
 ],
 "metadata": {
  "kernelspec": {
   "display_name": "Python 3",
   "language": "python",
   "name": "python3"
  },
  "language_info": {
   "codemirror_mode": {
    "name": "ipython",
    "version": 3
   },
   "file_extension": ".py",
   "mimetype": "text/x-python",
   "name": "python",
   "nbconvert_exporter": "python",
   "pygments_lexer": "ipython3",
   "version": "3.6.3"
  },
  "toc": {
   "nav_menu": {},
   "number_sections": true,
   "sideBar": true,
   "skip_h1_title": false,
   "title_cell": "Table of Contents",
   "title_sidebar": "Contents",
   "toc_cell": false,
   "toc_position": {},
   "toc_section_display": true,
   "toc_window_display": false
  }
 },
 "nbformat": 4,
 "nbformat_minor": 2
}

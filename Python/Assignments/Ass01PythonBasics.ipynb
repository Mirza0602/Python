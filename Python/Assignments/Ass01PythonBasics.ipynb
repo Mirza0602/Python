{
 "cells": [
  {
   "cell_type": "markdown",
   "metadata": {},
   "source": [
    "# Exercises on Python Basics\n",
    "\n",
    "* Author: Johannes Maucher\n",
    "* Last Update: 27.05.2018\n",
    "\n",
    "\n",
    "## To be submitted:\n",
    "This notebook, enhanced with the solutions to the questions. Your solution should contain \n",
    "   * the implemented code in code-cells, \n",
    "   * the output of this code\n",
    "\n",
    "## Tasks\n",
    "\n",
    "### Numeric Variables\n",
    "\n",
    "1. Assign $a=2$, $b=3$ and $c=4$. Then calculate $d=\\frac{a}{b}$ and $e=\\frac{c}{d}$\n",
    "2. Determine the type of $d$ and $e$.\n",
    "2. Cast $e$ to an integer \n",
    "3. Check if *a* is equal to *b*. Check if a is equal to $f=2.0$\n",
    "3. Which float and integer values map to the boolean value `True`?"
   ]
  },
  {
   "cell_type": "markdown",
   "metadata": {},
   "source": [
    "### Python's math library\n",
    "The library `math` is contained in core-python, i.e. it need not be installed explicitely. Get an overview of the functions provided by [math](https://docs.python.org/3/library/math.html) and sove the following questions:\n",
    "\n",
    "1. Apply the corresponding `math`-functions for calculating the largest integer smaller than $\\pi$ and the smallest integer larger than $\\pi$.\n",
    "2. Calculate the greatest commond divisor of $20240$ and $960$.\n",
    "3. Calculate the value of $e^3$ (here $e$ is the *Euler constant*)\n",
    "4. Calculate the natural-logarithm, the base-2-logarithm and the base-5-logarithm of 100.\n",
    "5. Apply `math` and `matplotlib` and plot the [Gaussian Normal Distribution](https://en.wikipedia.org/wiki/Normal_distribution) for a mean-value and a standard-deviation of your choice."
   ]
  },
  {
   "cell_type": "markdown",
   "metadata": {},
   "source": [
    "### Lists\n",
    "\n",
    "1. Create two lists of equal length with numeric data elements.\n",
    "2. Append the **elements** of the second list to the first list.\n",
    "3. In the new list, search for an element with a specific value and determine where the element appears in the list. How to process the case that the queried value is not in the list?\n",
    "4. Delete the elements from the list from the second to the fourth position (elements at indices 1, 2 and 3)\n",
    "4. Insert elements 4, 2 and 1 at position 2 sequentially (so that list is expanded)\n",
    "5. Sort the list by descending values.\n",
    "6. Calculate the element-wise sum of two numeric lists of the same length using a _List-Comprehension_. For example the element-wise sum of `[1,2,3]` and `[4,5,6]` is `[5,7,9]`."
   ]
  },
  {
   "cell_type": "markdown",
   "metadata": {},
   "source": [
    "### Strings\n",
    "\n",
    "1. Assign a text with at least 10 words to a string variable *text1*.\n",
    "2. transform *text1* such that all words are written in lower case.\n",
    "3. How many characters are in this text?\n",
    "4. How many different characters are in this text?\n",
    "5. Split the text stored in the string variable into a list of words.\n",
    "3. How many words are in this text?\n",
    "4. How many different words are in this text?"
   ]
  },
  {
   "cell_type": "markdown",
   "metadata": {},
   "source": [
    "### Functions\n",
    "1. Write a function `stableAverage(numericList)`, which calculates and returns the arithmetic average value of the elements in a list (or numpy-array) with numeric values. The list of numeric values shall be passed to the function's argument `numericList`.\n",
    "2. Extend this function, such that it ignores the x% smallest and the x% highest values of the numeric list for the average calculations. The parameter x shall be implemented as a function-argument with default value 0.\n",
    "3. Test this function with a list (or numpy-array) of random numeric values.\n",
    "4. The arguments of the function above are the list `numericList` and the percentage `x` (float-type). Assume that the list and the percentage are modified within the function (actually there is no need for this!). Would the modification of the the list and the float-type percentage be outside the function after the function's call? "
   ]
  },
  {
   "cell_type": "code",
   "execution_count": null,
   "metadata": {},
   "outputs": [],
   "source": []
  }
 ],
 "metadata": {
  "anaconda-cloud": {},
  "kernelspec": {
   "display_name": "Python 3",
   "language": "python",
   "name": "python3"
  },
  "language_info": {
   "codemirror_mode": {
    "name": "ipython",
    "version": 3
   },
   "file_extension": ".py",
   "mimetype": "text/x-python",
   "name": "python",
   "nbconvert_exporter": "python",
   "pygments_lexer": "ipython3",
   "version": "3.6.3"
  },
  "nav_menu": {},
  "toc": {
   "nav_menu": {
    "height": "80px",
    "width": "251px"
   },
   "number_sections": true,
   "sideBar": true,
   "skip_h1_title": false,
   "title_cell": "Table of Contents",
   "title_sidebar": "Contents",
   "toc_cell": false,
   "toc_position": {},
   "toc_section_display": "block",
   "toc_window_display": false
  }
 },
 "nbformat": 4,
 "nbformat_minor": 2
}

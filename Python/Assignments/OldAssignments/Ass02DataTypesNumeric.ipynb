{
 "cells": [
  {
   "cell_type": "markdown",
   "metadata": {},
   "source": [
    "# Exercises on Numeric Datatypes  and the `math`-module in Python\n",
    "\n",
    "* Author: Johannes Maucher\n",
    "* Last Update: 16.05.2018\n",
    "* Corresponding lecture notebook: [02DataTypesNumeric](../Lecture/02DataTypesNumeric.ipynb)\n",
    "\n",
    "## To be submitted:\n",
    "This notebook, enhanced with the solutions to the questions. Your solution should contain \n",
    "   * the implemented code in code-cells, \n",
    "   * the output of this code\n",
    "   * your answers on task 2 and 4 in markdown-cells.\n",
    "   * and optionally your remarks, discussion, comments on the solution in markdown-cells.\n",
    "\n",
    "## Tasks\n",
    "\n",
    "1. Assign $a=2$, $b=3$ and $c=4$. Then calculate $d=\\frac{a}{b}$ and $e=\\frac{c}{d}$\n",
    "2. Determine the type of $d$ and $e$.\n",
    "2. Cast $e$ to an integer \n",
    "3. Check if *a* is equal to *b*. Check if a is equal to $f=2.0$\n",
    "3. Which float and integer values map to the boolean value `True`?"
   ]
  },
  {
   "cell_type": "markdown",
   "metadata": {},
   "source": [
    "### Python's math library\n",
    "The library `math` is contained in core-python, i.e. it need not be installed explicitely. Get an overview of the functions provided by [math](https://docs.python.org/3/library/math.html) and sove the following questions:\n",
    "\n",
    "1. Apply the corresponding `math`-functions for calculating the largest integer smaller than $\\pi$ and the smallest integer larger than $\\pi$.\n",
    "2. Calculate the greatest commond divisor of $20240$ and $960$.\n",
    "3. Calculate the value of $e^3$ (here $e$ is the *Euler constant*)\n",
    "4. Calculate the natural-logarithm, the base-2-logarithm and the base-5-logarithm of 100.\n",
    "5. Apply `math` and `matplotlib` and plot the [Gaussian Normal Distribution](https://en.wikipedia.org/wiki/Normal_distribution) for a mean-value and a standard-deviation of your choice. **Hint:** In order to solve this task efficiently it is recommended to implement Python list-comprehensions and define a function, which realizes the Gaussian Normal Distribution."
   ]
  },
  {
   "cell_type": "code",
   "execution_count": null,
   "metadata": {},
   "outputs": [],
   "source": []
  }
 ],
 "metadata": {
  "anaconda-cloud": {},
  "kernelspec": {
   "display_name": "Python 3",
   "language": "python",
   "name": "python3"
  },
  "language_info": {
   "codemirror_mode": {
    "name": "ipython",
    "version": 3
   },
   "file_extension": ".py",
   "mimetype": "text/x-python",
   "name": "python",
   "nbconvert_exporter": "python",
   "pygments_lexer": "ipython3",
   "version": "3.6.3"
  },
  "nav_menu": {},
  "toc": {
   "nav_menu": {
    "height": "80px",
    "width": "251px"
   },
   "number_sections": true,
   "sideBar": true,
   "skip_h1_title": false,
   "title_cell": "Table of Contents",
   "title_sidebar": "Contents",
   "toc_cell": false,
   "toc_position": {},
   "toc_section_display": "block",
   "toc_window_display": false
  }
 },
 "nbformat": 4,
 "nbformat_minor": 2
}

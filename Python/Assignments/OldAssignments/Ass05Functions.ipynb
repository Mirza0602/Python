{
 "cells": [
  {
   "cell_type": "markdown",
   "metadata": {},
   "source": [
    "# Exercises on Functions in Python\n",
    "\n",
    "* Author: Johannes Maucher\n",
    "* Last Update: 07.09.2018\n",
    "* Corresponding lecture notebook: [05Functions](../Lecture/05Functions.ipynb)\n",
    "\n",
    "## To be submitted:\n",
    "This notebook, enhanced with the solutions to the questions. Your solution should contain \n",
    "   * the implemented code in code-cells, \n",
    "   * the output of this code\n",
    "   * and optionally your remarks, discussion, comments on the solution in markdown-cells.\n",
    "\n",
    "## Tasks\n",
    "1. Write a function `stableAverage(numericList)`, which calculates and returns the arithmetic average value of the elements in a list with numeric values. The list of numeric values shall be passed to the function's argument `numericList`.\n",
    "2. Extend this function, such that it ignores the x% smallest and the x% highest values of the numeric list for the average calculations. The parameter x shall be implemented as a function-argument with default value 0.\n",
    "3. Test this function with a list of random numeric values. The code cell below, generates such a random list, by applying *numpy's* random generator.\n",
    "3. Solve subquestion 5 of the [List-Exercises in Notebook Ass03DataTypesSequential.ipynb](Ass03DataTypesSequential.ipynb). I.e. write a function, which can be assigned to the `key`-argument of the list-method `sort()`, such that the list of persons can be ordered according to their salary. See for example [Python documentation of sort()](https://docs.python.org/2/howto/sorting.html)."
   ]
  },
  {
   "cell_type": "code",
   "execution_count": 1,
   "metadata": {
    "ExecuteTime": {
     "end_time": "2017-09-07T14:49:49.679000Z",
     "start_time": "2017-09-07T16:49:49.532000+02:00"
    }
   },
   "outputs": [
    {
     "name": "stdout",
     "output_type": "stream",
     "text": [
      "[816, 724, 295, 54, 205, 373, 665, 656, 690, 280]\n"
     ]
    }
   ],
   "source": [
    "from numpy import random\n",
    "random.seed(1234)\n",
    "mylist=list(random.randint(1,1000,1000))\n",
    "print mylist[:10]"
   ]
  },
  {
   "cell_type": "code",
   "execution_count": null,
   "metadata": {
    "collapsed": true
   },
   "outputs": [],
   "source": []
  }
 ],
 "metadata": {
  "kernelspec": {
   "display_name": "Python [conda env:condatascience]",
   "language": "python",
   "name": "conda-env-condatascience-py"
  },
  "language_info": {
   "codemirror_mode": {
    "name": "ipython",
    "version": 2
   },
   "file_extension": ".py",
   "mimetype": "text/x-python",
   "name": "python",
   "nbconvert_exporter": "python",
   "pygments_lexer": "ipython2",
   "version": "2.7.13"
  },
  "nav_menu": {},
  "toc": {
   "navigate_menu": true,
   "number_sections": true,
   "sideBar": true,
   "threshold": 6,
   "toc_cell": false,
   "toc_section_display": "block",
   "toc_window_display": false
  }
 },
 "nbformat": 4,
 "nbformat_minor": 2
}

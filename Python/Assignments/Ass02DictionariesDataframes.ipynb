{
 "cells": [
  {
   "cell_type": "markdown",
   "metadata": {},
   "source": [
    "# Exercises on Dictionaries, Dataframes and Visualisation\n",
    "\n",
    "* Author: Johannes Maucher\n",
    "* Last Update: 07.10.2018\n",
    "* Skills required:\n",
    "    - Import data from .json\n",
    "    - Pandas Dataframes\n",
    "    - Bokeh visualisation\n",
    "\n",
    "\n",
    "## To be submitted:\n",
    "This notebook, enhanced with the solutions to the questions. Your solution should contain \n",
    "   * the implemented code in code-cells, \n",
    "   * the output of this code\n",
    "   * Your remarks, discussion, comments on the solution in markdown-cells.\n",
    "   * .ipynb and .html version of the notebook\n"
   ]
  },
  {
   "cell_type": "markdown",
   "metadata": {},
   "source": [
    "## Task:\n",
    "In this task data, which has been recorded by a Polar sport watch during a long-distance run, shall be visualized. The data is available in a json file. The python package `json` and it's method `load()` can be applied to read data from a .json-File into a Python dictionary.\n",
    "1. Load the contents of file `polarV800.json` into a dictionary\n",
    "2. Determine the keys of this dictionary and display the values of some keys\n",
    "3. The value of the key `samples` is a dictionary itself. This dictionary has the following key-value pairs:\n",
    "\n",
    "    1. key \"0\": value is a list of heartrate-values, sampled every second during a training measurement\n",
    "    2. key \"1\": value is a list of the speed-values, sampled every second during a training measurement\n",
    "    3. key \"2\": value is a list of the cadence-values, sampled every second during a training measurement\n",
    "    4. key \"3\": value is a list of the altitude-values, sampled every second during a training measurement\n",
    "    5. key \"10\": value is a list of distance-values, sampled every second during a training measurement\n",
    "    \n",
    "  Write these 5 sequences into the columns of a dataframe.\n",
    "\n",
    "4. Visualize these 5 sequences by applying Bokeh. The different plots shall be linked. The plots shall contain interactive elements. Moreover, the heart-rate time-series shall be backgrounded by different colors for each of the heart-rate zones. The lower and upper limits ot the 5 different heart-rate-zones can be obtained from the key `heart-rate-zones`. "
   ]
  },
  {
   "cell_type": "code",
   "execution_count": null,
   "metadata": {},
   "outputs": [],
   "source": []
  }
 ],
 "metadata": {
  "anaconda-cloud": {},
  "kernelspec": {
   "display_name": "Python 3",
   "language": "python",
   "name": "python3"
  },
  "language_info": {
   "codemirror_mode": {
    "name": "ipython",
    "version": 3
   },
   "file_extension": ".py",
   "mimetype": "text/x-python",
   "name": "python",
   "nbconvert_exporter": "python",
   "pygments_lexer": "ipython3",
   "version": "3.6.3"
  },
  "nav_menu": {},
  "toc": {
   "nav_menu": {
    "height": "67px",
    "width": "251px"
   },
   "number_sections": true,
   "sideBar": true,
   "skip_h1_title": false,
   "title_cell": "Table of Contents",
   "title_sidebar": "Contents",
   "toc_cell": false,
   "toc_position": {},
   "toc_section_display": "block",
   "toc_window_display": false
  }
 },
 "nbformat": 4,
 "nbformat_minor": 2
}
